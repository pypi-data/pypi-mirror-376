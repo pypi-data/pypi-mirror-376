{
 "cells": [
  {
   "cell_type": "markdown",
   "id": "16ec1d296a48d84f",
   "metadata": {},
   "source": [
    "# Flows distribution on a road network"
   ]
  },
  {
   "cell_type": "markdown",
   "id": "89752b03aad404c0",
   "metadata": {},
   "source": [
    "Install libadalina-analytics using `pip`"
   ]
  },
  {
   "cell_type": "code",
   "execution_count": 1,
   "id": "02b79be9-df1a-42bc-a202-68b19aa35cab",
   "metadata": {
    "scrolled": true
   },
   "outputs": [
    {
     "name": "stdout",
     "output_type": "stream",
     "text": [
      "Defaulting to user installation because normal site-packages is not writeable\n",
      "Requirement already satisfied: libadalina-analytics in ./.local/lib/python3.10/site-packages (1.0.0)\n",
      "Requirement already satisfied: libadalina-core==1.2.0 in ./.local/lib/python3.10/site-packages (from libadalina-analytics) (1.2.0)\n",
      "Requirement already satisfied: highspy==1.11.0 in ./.local/lib/python3.10/site-packages (from libadalina-analytics) (1.11.0)\n",
      "Requirement already satisfied: networkx==3.4.2 in ./.local/lib/python3.10/site-packages (from libadalina-analytics) (3.4.2)\n",
      "Requirement already satisfied: pydantic==2.10.6 in ./.local/lib/python3.10/site-packages (from libadalina-analytics) (2.10.6)\n",
      "Requirement already satisfied: scikit-learn==1.7.0 in ./.local/lib/python3.10/site-packages (from libadalina-analytics) (1.7.0)\n",
      "Requirement already satisfied: numpy in /opt/tljh/user/lib/python3.10/site-packages (from highspy==1.11.0->libadalina-analytics) (1.26.4)\n",
      "Requirement already satisfied: apache-sedona==1.7.1 in ./.local/lib/python3.10/site-packages (from apache-sedona[spark]==1.7.1->libadalina-core==1.2.0->libadalina-analytics) (1.7.1)\n",
      "Requirement already satisfied: pyspark==3.3.2 in ./.local/lib/python3.10/site-packages (from libadalina-core==1.2.0->libadalina-analytics) (3.3.2)\n",
      "Requirement already satisfied: pandas==2.2.3 in ./.local/lib/python3.10/site-packages (from libadalina-core==1.2.0->libadalina-analytics) (2.2.3)\n",
      "Requirement already satisfied: geopandas==1.0.1 in ./.local/lib/python3.10/site-packages (from libadalina-core==1.2.0->libadalina-analytics) (1.0.1)\n",
      "Requirement already satisfied: shapely==2.1.1 in ./.local/lib/python3.10/site-packages (from libadalina-core==1.2.0->libadalina-analytics) (2.1.1)\n",
      "Requirement already satisfied: install-jdk==1.1.0 in ./.local/lib/python3.10/site-packages (from libadalina-core==1.2.0->libadalina-analytics) (1.1.0)\n",
      "Requirement already satisfied: click==8.2.1 in ./.local/lib/python3.10/site-packages (from libadalina-core==1.2.0->libadalina-analytics) (8.2.1)\n",
      "Requirement already satisfied: annotated-types>=0.6.0 in ./.local/lib/python3.10/site-packages (from pydantic==2.10.6->libadalina-analytics) (0.7.0)\n",
      "Requirement already satisfied: pydantic-core==2.27.2 in ./.local/lib/python3.10/site-packages (from pydantic==2.10.6->libadalina-analytics) (2.27.2)\n",
      "Requirement already satisfied: typing-extensions>=4.12.2 in ./.local/lib/python3.10/site-packages (from pydantic==2.10.6->libadalina-analytics) (4.15.0)\n",
      "Requirement already satisfied: scipy>=1.8.0 in /opt/tljh/user/lib/python3.10/site-packages (from scikit-learn==1.7.0->libadalina-analytics) (1.13.1)\n",
      "Requirement already satisfied: joblib>=1.2.0 in /opt/tljh/user/lib/python3.10/site-packages (from scikit-learn==1.7.0->libadalina-analytics) (1.4.2)\n",
      "Requirement already satisfied: threadpoolctl>=3.1.0 in /opt/tljh/user/lib/python3.10/site-packages (from scikit-learn==1.7.0->libadalina-analytics) (3.5.0)\n",
      "Requirement already satisfied: attrs in /opt/tljh/user/lib/python3.10/site-packages (from apache-sedona==1.7.1->apache-sedona[spark]==1.7.1->libadalina-core==1.2.0->libadalina-analytics) (23.2.0)\n",
      "Requirement already satisfied: pyogrio>=0.7.2 in ./.local/lib/python3.10/site-packages (from geopandas==1.0.1->libadalina-core==1.2.0->libadalina-analytics) (0.10.0)\n",
      "Requirement already satisfied: packaging in /opt/tljh/user/lib/python3.10/site-packages (from geopandas==1.0.1->libadalina-core==1.2.0->libadalina-analytics) (23.2)\n",
      "Requirement already satisfied: pyproj>=3.3.0 in ./.local/lib/python3.10/site-packages (from geopandas==1.0.1->libadalina-core==1.2.0->libadalina-analytics) (3.7.1)\n",
      "Requirement already satisfied: python-dateutil>=2.8.2 in /opt/tljh/user/lib/python3.10/site-packages (from pandas==2.2.3->libadalina-core==1.2.0->libadalina-analytics) (2.8.2)\n",
      "Requirement already satisfied: pytz>=2020.1 in /opt/tljh/user/lib/python3.10/site-packages (from pandas==2.2.3->libadalina-core==1.2.0->libadalina-analytics) (2024.1)\n",
      "Requirement already satisfied: tzdata>=2022.7 in /opt/tljh/user/lib/python3.10/site-packages (from pandas==2.2.3->libadalina-core==1.2.0->libadalina-analytics) (2024.1)\n",
      "Requirement already satisfied: py4j==0.10.9.5 in ./.local/lib/python3.10/site-packages (from pyspark==3.3.2->libadalina-core==1.2.0->libadalina-analytics) (0.10.9.5)\n",
      "Requirement already satisfied: certifi in /opt/tljh/user/lib/python3.10/site-packages (from pyogrio>=0.7.2->geopandas==1.0.1->libadalina-core==1.2.0->libadalina-analytics) (2022.12.7)\n",
      "Requirement already satisfied: six>=1.5 in /opt/tljh/user/lib/python3.10/site-packages (from python-dateutil>=2.8.2->pandas==2.2.3->libadalina-core==1.2.0->libadalina-analytics) (1.16.0)\n",
      "\n",
      "\u001B[1m[\u001B[0m\u001B[34;49mnotice\u001B[0m\u001B[1;39;49m]\u001B[0m\u001B[39;49m A new release of pip is available: \u001B[0m\u001B[31;49m25.0.1\u001B[0m\u001B[39;49m -> \u001B[0m\u001B[32;49m25.2\u001B[0m\n",
      "\u001B[1m[\u001B[0m\u001B[34;49mnotice\u001B[0m\u001B[1;39;49m]\u001B[0m\u001B[39;49m To update, run: \u001B[0m\u001B[32;49mpip install --upgrade pip\u001B[0m\n",
      "Note: you may need to restart the kernel to use updated packages.\n"
     ]
    }
   ],
   "source": [
    "pip install libadalina-analytics"
   ]
  },
  {
   "cell_type": "markdown",
   "id": "299a628f8f93e15f",
   "metadata": {},
   "source": [
    "Sedona context is initialized automatically when functions from libadalina are called. However, you can explicitly call the initialization procedure to customize options for the Spark session, such as memory allocation, parallelism settings, and other Spark configurations.\n"
   ]
  },
  {
   "cell_type": "code",
   "execution_count": 2,
   "id": "c5c30c55-50ab-44af-b5e3-70e876229c89",
   "metadata": {},
   "outputs": [
    {
     "name": "stderr",
     "output_type": "stream",
     "text": [
      "https://artifacts.unidata.ucar.edu/repository/unidata-all added as a remote repository with the name: repo-1\n",
      "Ivy Default Cache set to: /home/jupyter-unimi.uno/.ivy2/cache\n",
      "The jars for the packages stored in: /home/jupyter-unimi.uno/.ivy2/jars\n",
      "org.apache.sedona#sedona-spark-3.3_2.12 added as a dependency\n",
      "org.datasyslab#geotools-wrapper added as a dependency\n",
      ":: resolving dependencies :: org.apache.spark#spark-submit-parent-ebc37704-43d7-432c-ba07-0cce5611a69e;1.0\n",
      "\tconfs: [default]\n"
     ]
    },
    {
     "name": "stdout",
     "output_type": "stream",
     "text": [
      ":: loading settings :: url = jar:file:/home/jupyter-unimi.uno/.local/lib/python3.10/site-packages/pyspark/jars/ivy-2.5.1.jar!/org/apache/ivy/core/settings/ivysettings.xml\n"
     ]
    },
    {
     "name": "stderr",
     "output_type": "stream",
     "text": [
      "\tfound org.apache.sedona#sedona-spark-3.3_2.12;1.7.1 in central\n",
      "\tfound org.apache.sedona#sedona-common;1.7.1 in central\n",
      "\tfound org.apache.commons#commons-math3;3.6.1 in central\n",
      "\tfound org.locationtech.jts#jts-core;1.20.0 in central\n",
      "\tfound org.wololo#jts2geojson;0.16.1 in central\n",
      "\tfound org.locationtech.spatial4j#spatial4j;0.8 in central\n",
      "\tfound com.google.geometry#s2-geometry;2.0.0 in central\n",
      "\tfound com.google.guava#guava;25.1-jre in central\n",
      "\tfound com.google.code.findbugs#jsr305;3.0.2 in central\n",
      "\tfound org.checkerframework#checker-qual;2.0.0 in central\n",
      "\tfound com.google.errorprone#error_prone_annotations;2.1.3 in central\n",
      "\tfound com.google.j2objc#j2objc-annotations;1.1 in central\n",
      "\tfound org.codehaus.mojo#animal-sniffer-annotations;1.14 in central\n",
      "\tfound com.uber#h3;4.1.1 in central\n",
      "\tfound net.sf.geographiclib#GeographicLib-Java;1.52 in central\n",
      "\tfound com.github.ben-manes.caffeine#caffeine;2.9.2 in central\n",
      "\tfound org.checkerframework#checker-qual;3.10.0 in central\n",
      "\tfound com.google.errorprone#error_prone_annotations;2.5.1 in central\n",
      "\tfound org.apache.sedona#sedona-spark-common-3.3_2.12;1.7.1 in central\n",
      "\tfound org.apache.sedona#shade-proto;1.7.1 in central\n",
      "\tfound org.xerial#sqlite-jdbc;3.41.2.2 in central\n",
      "\tfound commons-lang#commons-lang;2.6 in central\n",
      "\tfound graphframes#graphframes;0.8.3-spark3.4-s_2.12 in spark-packages\n",
      "\tfound org.slf4j#slf4j-api;1.7.36 in central\n",
      "\tfound org.scala-lang.modules#scala-collection-compat_2.12;2.5.0 in central\n",
      "\tfound org.beryx#awt-color-factory;1.0.0 in central\n",
      "\tfound org.datasyslab#geotools-wrapper;1.7.1-28.5 in central\n",
      ":: resolution report :: resolve 636ms :: artifacts dl 20ms\n",
      "\t:: modules in use:\n",
      "\tcom.github.ben-manes.caffeine#caffeine;2.9.2 from central in [default]\n",
      "\tcom.google.code.findbugs#jsr305;3.0.2 from central in [default]\n",
      "\tcom.google.errorprone#error_prone_annotations;2.5.1 from central in [default]\n",
      "\tcom.google.geometry#s2-geometry;2.0.0 from central in [default]\n",
      "\tcom.google.guava#guava;25.1-jre from central in [default]\n",
      "\tcom.google.j2objc#j2objc-annotations;1.1 from central in [default]\n",
      "\tcom.uber#h3;4.1.1 from central in [default]\n",
      "\tcommons-lang#commons-lang;2.6 from central in [default]\n",
      "\tgraphframes#graphframes;0.8.3-spark3.4-s_2.12 from spark-packages in [default]\n",
      "\tnet.sf.geographiclib#GeographicLib-Java;1.52 from central in [default]\n",
      "\torg.apache.commons#commons-math3;3.6.1 from central in [default]\n",
      "\torg.apache.sedona#sedona-common;1.7.1 from central in [default]\n",
      "\torg.apache.sedona#sedona-spark-3.3_2.12;1.7.1 from central in [default]\n",
      "\torg.apache.sedona#sedona-spark-common-3.3_2.12;1.7.1 from central in [default]\n",
      "\torg.apache.sedona#shade-proto;1.7.1 from central in [default]\n",
      "\torg.beryx#awt-color-factory;1.0.0 from central in [default]\n",
      "\torg.checkerframework#checker-qual;3.10.0 from central in [default]\n",
      "\torg.codehaus.mojo#animal-sniffer-annotations;1.14 from central in [default]\n",
      "\torg.datasyslab#geotools-wrapper;1.7.1-28.5 from central in [default]\n",
      "\torg.locationtech.jts#jts-core;1.20.0 from central in [default]\n",
      "\torg.locationtech.spatial4j#spatial4j;0.8 from central in [default]\n",
      "\torg.scala-lang.modules#scala-collection-compat_2.12;2.5.0 from central in [default]\n",
      "\torg.slf4j#slf4j-api;1.7.36 from central in [default]\n",
      "\torg.wololo#jts2geojson;0.16.1 from central in [default]\n",
      "\torg.xerial#sqlite-jdbc;3.41.2.2 from central in [default]\n",
      "\t:: evicted modules:\n",
      "\torg.checkerframework#checker-qual;2.0.0 by [org.checkerframework#checker-qual;3.10.0] in [default]\n",
      "\tcom.google.errorprone#error_prone_annotations;2.1.3 by [com.google.errorprone#error_prone_annotations;2.5.1] in [default]\n",
      "\t---------------------------------------------------------------------\n",
      "\t|                  |            modules            ||   artifacts   |\n",
      "\t|       conf       | number| search|dwnlded|evicted|| number|dwnlded|\n",
      "\t---------------------------------------------------------------------\n",
      "\t|      default     |   27  |   0   |   0   |   2   ||   25  |   0   |\n",
      "\t---------------------------------------------------------------------\n",
      ":: retrieving :: org.apache.spark#spark-submit-parent-ebc37704-43d7-432c-ba07-0cce5611a69e\n",
      "\tconfs: [default]\n",
      "\t0 artifacts copied, 25 already retrieved (0kB/12ms)\n"
     ]
    },
    {
     "name": "stdout",
     "output_type": "stream",
     "text": [
      "25/08/31 12:59:30 WARN NativeCodeLoader: Unable to load native-hadoop library for your platform... using builtin-java classes where applicable\n"
     ]
    },
    {
     "name": "stderr",
     "output_type": "stream",
     "text": [
      "Setting default log level to \"WARN\".\n",
      "To adjust logging level use sc.setLogLevel(newLevel). For SparkR, use setLogLevel(newLevel).\n"
     ]
    }
   ],
   "source": [
    "from libadalina_core.sedona_configuration import init_sedona_context\n",
    "\n",
    "init_sedona_context()"
   ]
  },
  {
   "cell_type": "markdown",
   "id": "3b15049295030c0f",
   "metadata": {},
   "source": [
    "Import the Amelia toolkit to read datasets."
   ]
  },
  {
   "cell_type": "code",
   "execution_count": 3,
   "id": "17ef3b20-51e9-4189-abcd-dcc79b8d1eb7",
   "metadata": {},
   "outputs": [],
   "source": [
    "from ameliadp_sql_toolkit import GrinsAmeliaSQLToolkit \n",
    "amelia_sql_toolkit = GrinsAmeliaSQLToolkit()"
   ]
  },
  {
   "cell_type": "markdown",
   "id": "b193aea1e0e8c749",
   "metadata": {},
   "source": [
    "Read and parse the OpenStreetMap geometries dataset containing the roadmap network of Milano. This dataset includes road segments with their geographical coordinates and properties.\n",
    "\n",
    "The output of the `OpenStreetMapReader` is a new dataset with only the columns that are necessary for the graph building process."
   ]
  },
  {
   "cell_type": "code",
   "execution_count": 4,
   "id": "2ff37fcf-d02e-48ca-b193-03ea950b6908",
   "metadata": {},
   "outputs": [
    {
     "name": "stdin",
     "output_type": "stream",
     "text": [
      "Digit your password here:  ········\n"
     ]
    },
    {
     "name": "stderr",
     "output_type": "stream",
     "text": [
      "/home/jupyter-unimi.uno/.local/lib/python3.10/site-packages/geopandas/geodataframe.py:1819: SettingWithCopyWarning: \n",
      "A value is trying to be set on a copy of a slice from a DataFrame.\n",
      "Try using .loc[row_indexer,col_indexer] = value instead\n",
      "\n",
      "See the caveats in the documentation: https://pandas.pydata.org/pandas-docs/stable/user_guide/indexing.html#returning-a-view-versus-a-copy\n",
      "  super().__setitem__(key, value)\n"
     ]
    },
    {
     "data": {
      "text/html": [
       "<div>\n",
       "<style scoped>\n",
       "    .dataframe tbody tr th:only-of-type {\n",
       "        vertical-align: middle;\n",
       "    }\n",
       "\n",
       "    .dataframe tbody tr th {\n",
       "        vertical-align: top;\n",
       "    }\n",
       "\n",
       "    .dataframe thead th {\n",
       "        text-align: right;\n",
       "    }\n",
       "</style>\n",
       "<table border=\"1\" class=\"dataframe\">\n",
       "  <thead>\n",
       "    <tr style=\"text-align: right;\">\n",
       "      <th></th>\n",
       "      <th>geometry</th>\n",
       "      <th>id</th>\n",
       "      <th>name</th>\n",
       "      <th>oneway</th>\n",
       "    </tr>\n",
       "  </thead>\n",
       "  <tbody>\n",
       "    <tr>\n",
       "      <th>0</th>\n",
       "      <td>LINESTRING (9.16836 45.47604, 9.16827 45.47595...</td>\n",
       "      <td>4011790</td>\n",
       "      <td>Via Antonio Canova</td>\n",
       "      <td>forward</td>\n",
       "    </tr>\n",
       "    <tr>\n",
       "      <th>1</th>\n",
       "      <td>LINESTRING (9.15073 45.45995, 9.15066 45.45993...</td>\n",
       "      <td>4011792</td>\n",
       "      <td>Via Costanza</td>\n",
       "      <td>forward</td>\n",
       "    </tr>\n",
       "    <tr>\n",
       "      <th>2</th>\n",
       "      <td>LINESTRING (9.1711 45.47085, 9.17106 45.47089,...</td>\n",
       "      <td>4011793</td>\n",
       "      <td>Viale Pietro e Maria Curie</td>\n",
       "      <td>forward</td>\n",
       "    </tr>\n",
       "    <tr>\n",
       "      <th>3</th>\n",
       "      <td>LINESTRING (9.15084 45.46181, 9.15076 45.46187...</td>\n",
       "      <td>4011799</td>\n",
       "      <td>Via Marchesi de' Taddei</td>\n",
       "      <td>forward</td>\n",
       "    </tr>\n",
       "    <tr>\n",
       "      <th>4</th>\n",
       "      <td>LINESTRING (9.14642 45.47797, 9.14631 45.47805...</td>\n",
       "      <td>4011800</td>\n",
       "      <td>Via Monte Bianco</td>\n",
       "      <td>forward</td>\n",
       "    </tr>\n",
       "  </tbody>\n",
       "</table>\n",
       "</div>"
      ],
      "text/plain": [
       "                                            geometry       id  \\\n",
       "0  LINESTRING (9.16836 45.47604, 9.16827 45.47595...  4011790   \n",
       "1  LINESTRING (9.15073 45.45995, 9.15066 45.45993...  4011792   \n",
       "2  LINESTRING (9.1711 45.47085, 9.17106 45.47089,...  4011793   \n",
       "3  LINESTRING (9.15084 45.46181, 9.15076 45.46187...  4011799   \n",
       "4  LINESTRING (9.14642 45.47797, 9.14631 45.47805...  4011800   \n",
       "\n",
       "                         name   oneway  \n",
       "0          Via Antonio Canova  forward  \n",
       "1                Via Costanza  forward  \n",
       "2  Viale Pietro e Maria Curie  forward  \n",
       "3     Via Marchesi de' Taddei  forward  \n",
       "4            Via Monte Bianco  forward  "
      ]
     },
     "execution_count": 4,
     "metadata": {},
     "output_type": "execute_result"
    }
   ],
   "source": [
    "from libadalina_core.graph_extraction.readers import OpenStreetMapReader, RoadTypes\n",
    "\n",
    "milano_roadmap_df = amelia_sql_toolkit.read_data(table_name='milano_roadmap')\n",
    "osm_df = OpenStreetMapReader(RoadTypes.CAR_ONLY).from_dataframe(milano_roadmap_df)\n",
    "osm_df.head()"
   ]
  },
  {
   "cell_type": "markdown",
   "id": "e82987fc813f666",
   "metadata": {},
   "source": [
    "Read the dataset containing population data. This dataset is structured as a spatial grid, with each cell containing population density information for its corresponding geographical area.\n"
   ]
  },
  {
   "cell_type": "code",
   "execution_count": 5,
   "id": "dff7be1e-c229-47e4-aeef-84b77ffe5dcd",
   "metadata": {},
   "outputs": [
    {
     "data": {
      "text/html": [
       "<div>\n",
       "<style scoped>\n",
       "    .dataframe tbody tr th:only-of-type {\n",
       "        vertical-align: middle;\n",
       "    }\n",
       "\n",
       "    .dataframe tbody tr th {\n",
       "        vertical-align: top;\n",
       "    }\n",
       "\n",
       "    .dataframe thead th {\n",
       "        text-align: right;\n",
       "    }\n",
       "</style>\n",
       "<table border=\"1\" class=\"dataframe\">\n",
       "  <thead>\n",
       "    <tr style=\"text-align: right;\">\n",
       "      <th></th>\n",
       "      <th>t</th>\n",
       "      <th>geometry</th>\n",
       "    </tr>\n",
       "  </thead>\n",
       "  <tbody>\n",
       "    <tr>\n",
       "      <th>0</th>\n",
       "      <td>85</td>\n",
       "      <td>POLYGON ((9.031086950078857 45.38280269166012,...</td>\n",
       "    </tr>\n",
       "    <tr>\n",
       "      <th>1</th>\n",
       "      <td>10</td>\n",
       "      <td>POLYGON ((9.04383459344471 45.38291898197039, ...</td>\n",
       "    </tr>\n",
       "    <tr>\n",
       "      <th>2</th>\n",
       "      <td>0</td>\n",
       "      <td>POLYGON ((9.056582284984122 45.38303373224426,...</td>\n",
       "    </tr>\n",
       "    <tr>\n",
       "      <th>3</th>\n",
       "      <td>4</td>\n",
       "      <td>POLYGON ((9.06933002405527 45.38314694247239, ...</td>\n",
       "    </tr>\n",
       "    <tr>\n",
       "      <th>4</th>\n",
       "      <td>46</td>\n",
       "      <td>POLYGON ((9.082077810016315 45.38325861264565,...</td>\n",
       "    </tr>\n",
       "  </tbody>\n",
       "</table>\n",
       "</div>"
      ],
      "text/plain": [
       "    t                                           geometry\n",
       "0  85  POLYGON ((9.031086950078857 45.38280269166012,...\n",
       "1  10  POLYGON ((9.04383459344471 45.38291898197039, ...\n",
       "2   0  POLYGON ((9.056582284984122 45.38303373224426,...\n",
       "3   4  POLYGON ((9.06933002405527 45.38314694247239, ...\n",
       "4  46  POLYGON ((9.082077810016315 45.38325861264565,..."
      ]
     },
     "execution_count": 5,
     "metadata": {},
     "output_type": "execute_result"
    }
   ],
   "source": [
    "population = amelia_sql_toolkit.read_data(table_name='milano_population')[['t', 'geometry']]\n",
    "population.head()"
   ]
  },
  {
   "cell_type": "markdown",
   "id": "dffec8a08843146",
   "metadata": {},
   "source": [
    "Convert both OpenStreetMap and population datasets to Spark DataFrame to set the EPSG code of the geometries.\n",
    "If not set explicitly, libadalina will try to infer the code from the geometries."
   ]
  },
  {
   "cell_type": "code",
   "execution_count": 6,
   "id": "c3306afb-cc5e-4375-bb61-ec91daa11ecc",
   "metadata": {},
   "outputs": [],
   "source": [
    "from libadalina_core.sedona_utils import to_spark_dataframe, EPSGFormats\n",
    "\n",
    "osm_df = to_spark_dataframe(osm_df, EPSGFormats.EPSG4326)\n",
    "population = to_spark_dataframe(population, EPSGFormats.EPSG4326)"
   ]
  },
  {
   "cell_type": "markdown",
   "id": "8e0da62a9b1065b6",
   "metadata": {},
   "source": [
    "Run the graph building process:\n",
    "First, the roadmap dataset is first joined with the population grid in such a way that each edge is enriched with the amount of population living within a distance of 1km.\n",
    "Then lines of the map are converted into edges of a `networkx` `DiGraph`.\n",
    "\n",
    "Also, each edge is automatically enriched with its length in meters."
   ]
  },
  {
   "cell_type": "code",
   "execution_count": 7,
   "id": "54c418d704f98ae6",
   "metadata": {
    "ExecuteTime": {
     "end_time": "2025-08-30T12:55:15.686714Z",
     "start_time": "2025-08-30T12:50:36.888966Z"
    }
   },
   "outputs": [
    {
     "name": "stderr",
     "output_type": "stream",
     "text": [
      "                                                                                \r"
     ]
    },
    {
     "name": "stdout",
     "output_type": "stream",
     "text": [
      "25/08/31 13:00:04 WARN JoinQuery: UseIndex is true, but no index exists. Will build index on the fly.\n"
     ]
    },
    {
     "name": "stderr",
     "output_type": "stream",
     "text": [
      "                                                                                \r"
     ]
    }
   ],
   "source": [
    "from libadalina_core.graph_extraction.builders import build_graph\n",
    "from libadalina_core.spatial_operators import AggregationFunction, AggregationType\n",
    "\n",
    "graph = build_graph(osm_df,\n",
    "                    name='milan_road',\n",
    "                    joined_df=population,\n",
    "                    buffer_radius_meters=1000, # 1km buffer around the roads to consider population\n",
    "                    aggregate_functions=[\n",
    "                        AggregationFunction(\"t\", AggregationType.SUM, 'population', proportional='geometry_right')\n",
    "                    ]\n",
    "                    )"
   ]
  },
  {
   "cell_type": "code",
   "execution_count": 8,
   "id": "fe489edd-12a4-43bb-a874-0d89bfb2cff0",
   "metadata": {},
   "outputs": [
    {
     "data": {
      "text/plain": [
       "(146760, 220279)"
      ]
     },
     "execution_count": 8,
     "metadata": {},
     "output_type": "execute_result"
    }
   ],
   "source": [
    "graph.number_of_nodes(), graph.number_of_edges()"
   ]
  },
  {
   "cell_type": "markdown",
   "id": "13f223e00aac2d1c",
   "metadata": {},
   "source": [
    "We read the dataset containing the flows of goods within different regions of Lombardia and aggregate columns in a single demand."
   ]
  },
  {
   "cell_type": "code",
   "execution_count": 9,
   "id": "88cc592d-24da-497b-a2af-e71afe556784",
   "metadata": {},
   "outputs": [
    {
     "data": {
      "text/html": [
       "<div>\n",
       "<style scoped>\n",
       "    .dataframe tbody tr th:only-of-type {\n",
       "        vertical-align: middle;\n",
       "    }\n",
       "\n",
       "    .dataframe tbody tr th {\n",
       "        vertical-align: top;\n",
       "    }\n",
       "\n",
       "    .dataframe thead th {\n",
       "        text-align: right;\n",
       "    }\n",
       "</style>\n",
       "<table border=\"1\" class=\"dataframe\">\n",
       "  <thead>\n",
       "    <tr style=\"text-align: right;\">\n",
       "      <th></th>\n",
       "      <th>z_iil_o</th>\n",
       "      <th>z_iil_o_nome</th>\n",
       "      <th>z_iil_d</th>\n",
       "      <th>z_iil_d_nome</th>\n",
       "      <th>n1</th>\n",
       "      <th>n2</th>\n",
       "      <th>n3</th>\n",
       "      <th>metadata_vd</th>\n",
       "      <th>metadata_vtd</th>\n",
       "      <th>metadata_ud</th>\n",
       "      <th>demand</th>\n",
       "    </tr>\n",
       "  </thead>\n",
       "  <tbody>\n",
       "    <tr>\n",
       "      <th>0</th>\n",
       "      <td>1494</td>\n",
       "      <td>SICILIA</td>\n",
       "      <td>98</td>\n",
       "      <td>LECCO</td>\n",
       "      <td>0.00</td>\n",
       "      <td>0.08</td>\n",
       "      <td>0.07</td>\n",
       "      <td>1</td>\n",
       "      <td>2025-08-31 11:08:47.82082</td>\n",
       "      <td>2025-08-31</td>\n",
       "      <td>0.15</td>\n",
       "    </tr>\n",
       "    <tr>\n",
       "      <th>1</th>\n",
       "      <td>1495</td>\n",
       "      <td>SARDEGNA</td>\n",
       "      <td>1469</td>\n",
       "      <td>ROVIGO</td>\n",
       "      <td>0.00</td>\n",
       "      <td>0.13</td>\n",
       "      <td>0.09</td>\n",
       "      <td>1</td>\n",
       "      <td>2025-08-31 11:08:47.82082</td>\n",
       "      <td>2025-08-31</td>\n",
       "      <td>0.22</td>\n",
       "    </tr>\n",
       "    <tr>\n",
       "      <th>2</th>\n",
       "      <td>1</td>\n",
       "      <td>ARCENE-LURANO-POGNANO-SPIRANO</td>\n",
       "      <td>10</td>\n",
       "      <td>BERGAMO 1-BERGAMO 7</td>\n",
       "      <td>1.00</td>\n",
       "      <td>0.09</td>\n",
       "      <td>0.12</td>\n",
       "      <td>1</td>\n",
       "      <td>2025-08-31 11:08:47.82082</td>\n",
       "      <td>2025-08-31</td>\n",
       "      <td>1.21</td>\n",
       "    </tr>\n",
       "    <tr>\n",
       "      <th>3</th>\n",
       "      <td>1</td>\n",
       "      <td>ARCENE-LURANO-POGNANO-SPIRANO</td>\n",
       "      <td>11</td>\n",
       "      <td>BERGAMO 5-BERGAMO 6</td>\n",
       "      <td>1.13</td>\n",
       "      <td>0.09</td>\n",
       "      <td>0.13</td>\n",
       "      <td>1</td>\n",
       "      <td>2025-08-31 11:08:47.82082</td>\n",
       "      <td>2025-08-31</td>\n",
       "      <td>1.35</td>\n",
       "    </tr>\n",
       "    <tr>\n",
       "      <th>4</th>\n",
       "      <td>1</td>\n",
       "      <td>ARCENE-LURANO-POGNANO-SPIRANO</td>\n",
       "      <td>12</td>\n",
       "      <td>BERGAMO 2-BERGAMO 3-BERGAMO 4</td>\n",
       "      <td>0.68</td>\n",
       "      <td>0.09</td>\n",
       "      <td>0.05</td>\n",
       "      <td>1</td>\n",
       "      <td>2025-08-31 11:08:47.82082</td>\n",
       "      <td>2025-08-31</td>\n",
       "      <td>0.82</td>\n",
       "    </tr>\n",
       "  </tbody>\n",
       "</table>\n",
       "</div>"
      ],
      "text/plain": [
       "   z_iil_o                   z_iil_o_nome  z_iil_d  \\\n",
       "0     1494                        SICILIA       98   \n",
       "1     1495                       SARDEGNA     1469   \n",
       "2        1  ARCENE-LURANO-POGNANO-SPIRANO       10   \n",
       "3        1  ARCENE-LURANO-POGNANO-SPIRANO       11   \n",
       "4        1  ARCENE-LURANO-POGNANO-SPIRANO       12   \n",
       "\n",
       "                    z_iil_d_nome    n1    n2    n3  metadata_vd  \\\n",
       "0                          LECCO  0.00  0.08  0.07            1   \n",
       "1                         ROVIGO  0.00  0.13  0.09            1   \n",
       "2            BERGAMO 1-BERGAMO 7  1.00  0.09  0.12            1   \n",
       "3            BERGAMO 5-BERGAMO 6  1.13  0.09  0.13            1   \n",
       "4  BERGAMO 2-BERGAMO 3-BERGAMO 4  0.68  0.09  0.05            1   \n",
       "\n",
       "                metadata_vtd metadata_ud  demand  \n",
       "0  2025-08-31 11:08:47.82082  2025-08-31    0.15  \n",
       "1  2025-08-31 11:08:47.82082  2025-08-31    0.22  \n",
       "2  2025-08-31 11:08:47.82082  2025-08-31    1.21  \n",
       "3  2025-08-31 11:08:47.82082  2025-08-31    1.35  \n",
       "4  2025-08-31 11:08:47.82082  2025-08-31    0.82  "
      ]
     },
     "execution_count": 9,
     "metadata": {},
     "output_type": "execute_result"
    }
   ],
   "source": [
    "flows = amelia_sql_toolkit.read_data(table_name='matrice_od_2016_merci')\n",
    "flows['demand'] = flows.apply(lambda row: row['n1'] + row['n2'] + row['n3'], axis=1)\n",
    "flows.head()"
   ]
  },
  {
   "cell_type": "markdown",
   "id": "2651f8cd0936dcee",
   "metadata": {},
   "source": [
    "We read the shapes of the different regions of Lombardia.\n",
    "Each regions has a unique identifier also used in the flows' dataset."
   ]
  },
  {
   "cell_type": "code",
   "execution_count": 10,
   "id": "d455857c-5421-4a20-a74a-b48a4e7b9785",
   "metadata": {},
   "outputs": [
    {
     "data": {
      "text/html": [
       "<div>\n",
       "<style scoped>\n",
       "    .dataframe tbody tr th:only-of-type {\n",
       "        vertical-align: middle;\n",
       "    }\n",
       "\n",
       "    .dataframe tbody tr th {\n",
       "        vertical-align: top;\n",
       "    }\n",
       "\n",
       "    .dataframe thead th {\n",
       "        text-align: right;\n",
       "    }\n",
       "</style>\n",
       "<table border=\"1\" class=\"dataframe\">\n",
       "  <thead>\n",
       "    <tr style=\"text-align: right;\">\n",
       "      <th></th>\n",
       "      <th>id_z_iil</th>\n",
       "      <th>desc_zona</th>\n",
       "      <th>geometry</th>\n",
       "      <th>metadata_vd</th>\n",
       "      <th>metadata_vtd</th>\n",
       "      <th>metadata_ud</th>\n",
       "    </tr>\n",
       "  </thead>\n",
       "  <tbody>\n",
       "    <tr>\n",
       "      <th>0</th>\n",
       "      <td>215</td>\n",
       "      <td>MILANO 1-MILANO 2-MILANO 3-MILANO 4-MILANO 7-M...</td>\n",
       "      <td>MULTIPOLYGON (((9.171230961752443 45.500721356...</td>\n",
       "      <td>1</td>\n",
       "      <td>2025-08-31 10:09:35.769394</td>\n",
       "      <td>2025-08-31</td>\n",
       "    </tr>\n",
       "    <tr>\n",
       "      <th>1</th>\n",
       "      <td>218</td>\n",
       "      <td>MILANO 15</td>\n",
       "      <td>MULTIPOLYGON (((9.157156769311907 45.493743652...</td>\n",
       "      <td>1</td>\n",
       "      <td>2025-08-31 10:09:35.769394</td>\n",
       "      <td>2025-08-31</td>\n",
       "    </tr>\n",
       "    <tr>\n",
       "      <th>2</th>\n",
       "      <td>219</td>\n",
       "      <td>MILANO 5-MILANO 16</td>\n",
       "      <td>MULTIPOLYGON (((9.175653934000579 45.535973345...</td>\n",
       "      <td>1</td>\n",
       "      <td>2025-08-31 10:09:35.769394</td>\n",
       "      <td>2025-08-31</td>\n",
       "    </tr>\n",
       "    <tr>\n",
       "      <th>3</th>\n",
       "      <td>220</td>\n",
       "      <td>MILANO 6-MILANO 8</td>\n",
       "      <td>MULTIPOLYGON (((9.268427923604095 45.516767840...</td>\n",
       "      <td>1</td>\n",
       "      <td>2025-08-31 10:09:35.769394</td>\n",
       "      <td>2025-08-31</td>\n",
       "    </tr>\n",
       "    <tr>\n",
       "      <th>4</th>\n",
       "      <td>221</td>\n",
       "      <td>MILANO 9-MILANO 10</td>\n",
       "      <td>MULTIPOLYGON (((9.234996403412737 45.447069452...</td>\n",
       "      <td>1</td>\n",
       "      <td>2025-08-31 10:09:35.769394</td>\n",
       "      <td>2025-08-31</td>\n",
       "    </tr>\n",
       "  </tbody>\n",
       "</table>\n",
       "</div>"
      ],
      "text/plain": [
       "   id_z_iil                                          desc_zona  \\\n",
       "0       215  MILANO 1-MILANO 2-MILANO 3-MILANO 4-MILANO 7-M...   \n",
       "1       218                                          MILANO 15   \n",
       "2       219                                 MILANO 5-MILANO 16   \n",
       "3       220                                  MILANO 6-MILANO 8   \n",
       "4       221                                 MILANO 9-MILANO 10   \n",
       "\n",
       "                                            geometry  metadata_vd  \\\n",
       "0  MULTIPOLYGON (((9.171230961752443 45.500721356...            1   \n",
       "1  MULTIPOLYGON (((9.157156769311907 45.493743652...            1   \n",
       "2  MULTIPOLYGON (((9.175653934000579 45.535973345...            1   \n",
       "3  MULTIPOLYGON (((9.268427923604095 45.516767840...            1   \n",
       "4  MULTIPOLYGON (((9.234996403412737 45.447069452...            1   \n",
       "\n",
       "                 metadata_vtd metadata_ud  \n",
       "0  2025-08-31 10:09:35.769394  2025-08-31  \n",
       "1  2025-08-31 10:09:35.769394  2025-08-31  \n",
       "2  2025-08-31 10:09:35.769394  2025-08-31  \n",
       "3  2025-08-31 10:09:35.769394  2025-08-31  \n",
       "4  2025-08-31 10:09:35.769394  2025-08-31  "
      ]
     },
     "execution_count": 10,
     "metadata": {},
     "output_type": "execute_result"
    }
   ],
   "source": [
    "shapes = amelia_sql_toolkit.read_data(table_name='shape_matrice_od2016___veicoli_commerciali_e_pesanti___milano_20250816')\n",
    "shapes.head()"
   ]
  },
  {
   "cell_type": "markdown",
   "id": "b3d46b683c68a03",
   "metadata": {},
   "source": [
    "Since the shape dataframe include geometries, we set the correct EPSG code."
   ]
  },
  {
   "cell_type": "code",
   "execution_count": 11,
   "id": "9d833670-d273-4e92-b4bd-37c674fbefe1",
   "metadata": {},
   "outputs": [],
   "source": [
    "shapes = to_spark_dataframe(shapes, EPSGFormats.EPSG4326)"
   ]
  },
  {
   "cell_type": "markdown",
   "id": "a84f3c8676b5f6e2",
   "metadata": {},
   "source": [
    "We run the flow distribution algorithm to find optimal paths for goods transportation between source-destination pairs from the flows dataset.\n",
    "\n",
    "In this example, we calculates costs for each potential path by considering:\n",
    "- Distance traveled (30% weight): shorter paths are preferred\n",
    "- Population exposure (70% weight): routes that minimize the number of people living within 1km of the path are preferred\n",
    "\n"
   ]
  },
  {
   "cell_type": "code",
   "execution_count": 12,
   "id": "1270f4b205ff6112",
   "metadata": {
    "ExecuteTime": {
     "end_time": "2025-08-30T13:00:01.338232Z",
     "start_time": "2025-08-30T12:58:12.060684Z"
    }
   },
   "outputs": [
    {
     "name": "stdout",
     "output_type": "stream",
     "text": [
      "25/08/31 13:00:54 WARN RangeJoinExec: [SedonaSQL] Join dominant side partition number 24 is larger than 1/2 of the dominant side count 6\n",
      "25/08/31 13:00:54 WARN RangeJoinExec: [SedonaSQL] Try to use follower side partition number 24\n",
      "25/08/31 13:00:54 WARN RangeJoinExec: [SedonaSQL] Join follower side partition number is also larger than 1/2 of the dominant side count 6\n",
      "25/08/31 13:00:54 WARN RangeJoinExec: [SedonaSQL] Try to use 1/2 of the dominant side count 3 as the partition number of both sides\n",
      "25/08/31 13:00:54 WARN JoinQuery: UseIndex is true, but no index exists. Will build index on the fly.\n"
     ]
    },
    {
     "name": "stderr",
     "output_type": "stream",
     "text": [
      "                                                                                \r"
     ]
    }
   ],
   "source": [
    "from libadalina_analytics.flows_distribution.algorithms.flows_distribution_algorithm import flows_distribution_algorithm, GraphCost\n",
    "\n",
    "result = flows_distribution_algorithm(graph, shapes, flows,\n",
    "                             graph_costs=[\n",
    "                                 GraphCost(name='population', cost_per_unit=1, weight=.7),\n",
    "                                 GraphCost(name='distance', cost_per_unit=1, weight=.3),\n",
    "                             ],\n",
    "                             shapes_id_column='id_z_iil',\n",
    "                             flows_origin_id_column='z_iil_o',\n",
    "                             flows_destination_id_column='z_iil_d',\n",
    "                             flows_demand_column='demand',\n",
    "                         )"
   ]
  },
  {
   "cell_type": "markdown",
   "id": "277d202b173dd40c",
   "metadata": {},
   "source": [
    "The result is the flows dataset where each row is enriched with\n",
    "* the sequence of graph nodes traversed in the path\n",
    "* the geometry of the path\n",
    "* the cost of the path\n",
    "* the distance traveled\n",
    "* the amount of population exposed"
   ]
  },
  {
   "cell_type": "code",
   "execution_count": 13,
   "id": "935f3317-839b-4a1b-8a93-c9173895c3c6",
   "metadata": {},
   "outputs": [
    {
     "data": {
      "text/html": [
       "<div>\n",
       "<style scoped>\n",
       "    .dataframe tbody tr th:only-of-type {\n",
       "        vertical-align: middle;\n",
       "    }\n",
       "\n",
       "    .dataframe tbody tr th {\n",
       "        vertical-align: top;\n",
       "    }\n",
       "\n",
       "    .dataframe thead th {\n",
       "        text-align: right;\n",
       "    }\n",
       "</style>\n",
       "<table border=\"1\" class=\"dataframe\">\n",
       "  <thead>\n",
       "    <tr style=\"text-align: right;\">\n",
       "      <th></th>\n",
       "      <th>z_iil_o</th>\n",
       "      <th>z_iil_d</th>\n",
       "      <th>z_iil_o_nome</th>\n",
       "      <th>z_iil_d_nome</th>\n",
       "      <th>n1</th>\n",
       "      <th>n2</th>\n",
       "      <th>n3</th>\n",
       "      <th>metadata_vd</th>\n",
       "      <th>metadata_vtd</th>\n",
       "      <th>metadata_ud</th>\n",
       "      <th>demand</th>\n",
       "      <th>path</th>\n",
       "      <th>geometry</th>\n",
       "      <th>path_cost</th>\n",
       "      <th>population</th>\n",
       "      <th>distance</th>\n",
       "    </tr>\n",
       "  </thead>\n",
       "  <tbody>\n",
       "    <tr>\n",
       "      <th>0</th>\n",
       "      <td>220</td>\n",
       "      <td>215</td>\n",
       "      <td>MILANO 6-MILANO 8</td>\n",
       "      <td>MILANO 1-MILANO 2-MILANO 3-MILANO 4-MILANO 7-M...</td>\n",
       "      <td>131.21</td>\n",
       "      <td>18.32</td>\n",
       "      <td>12.97</td>\n",
       "      <td>1</td>\n",
       "      <td>2025-08-31 11:08:47.82082</td>\n",
       "      <td>2025-08-31</td>\n",
       "      <td>162.50</td>\n",
       "      <td>[146028888666, 25769804389, 111669150243, 2061...</td>\n",
       "      <td>MULTILINESTRING ((9.24654 45.47253, 9.2465 45....</td>\n",
       "      <td>1.591292e+07</td>\n",
       "      <td>137345.628524</td>\n",
       "      <td>5945.824494</td>\n",
       "    </tr>\n",
       "    <tr>\n",
       "      <th>1</th>\n",
       "      <td>221</td>\n",
       "      <td>215</td>\n",
       "      <td>MILANO 9-MILANO 10</td>\n",
       "      <td>MILANO 1-MILANO 2-MILANO 3-MILANO 4-MILANO 7-M...</td>\n",
       "      <td>60.17</td>\n",
       "      <td>7.53</td>\n",
       "      <td>4.76</td>\n",
       "      <td>1</td>\n",
       "      <td>2025-08-31 11:08:47.82082</td>\n",
       "      <td>2025-08-31</td>\n",
       "      <td>72.46</td>\n",
       "      <td>[120259089516, 111669155190, 103079220324, 858...</td>\n",
       "      <td>MULTILINESTRING ((9.20464 45.42008, 9.20454 45...</td>\n",
       "      <td>5.839698e+06</td>\n",
       "      <td>112283.591699</td>\n",
       "      <td>6645.021379</td>\n",
       "    </tr>\n",
       "    <tr>\n",
       "      <th>2</th>\n",
       "      <td>222</td>\n",
       "      <td>221</td>\n",
       "      <td>MILANO 11-MILANO 13</td>\n",
       "      <td>MILANO 9-MILANO 10</td>\n",
       "      <td>28.69</td>\n",
       "      <td>3.95</td>\n",
       "      <td>3.42</td>\n",
       "      <td>1</td>\n",
       "      <td>2025-08-31 11:08:47.82082</td>\n",
       "      <td>2025-08-31</td>\n",
       "      <td>36.06</td>\n",
       "      <td>[3468, 146028891512, 60129543658, 120259086168...</td>\n",
       "      <td>MULTILINESTRING ((9.11054 45.4554, 9.11033 45....</td>\n",
       "      <td>2.706023e+06</td>\n",
       "      <td>98945.421866</td>\n",
       "      <td>19268.126156</td>\n",
       "    </tr>\n",
       "    <tr>\n",
       "      <th>3</th>\n",
       "      <td>218</td>\n",
       "      <td>221</td>\n",
       "      <td>MILANO 15</td>\n",
       "      <td>MILANO 9-MILANO 10</td>\n",
       "      <td>15.71</td>\n",
       "      <td>2.01</td>\n",
       "      <td>1.41</td>\n",
       "      <td>1</td>\n",
       "      <td>2025-08-31 11:08:47.82082</td>\n",
       "      <td>2025-08-31</td>\n",
       "      <td>19.13</td>\n",
       "      <td>[68719479552, 111669152135, 85899348400, 11166...</td>\n",
       "      <td>MULTILINESTRING ((9.12055 45.50178, 9.12057 45...</td>\n",
       "      <td>1.756212e+06</td>\n",
       "      <td>114213.876945</td>\n",
       "      <td>39514.553648</td>\n",
       "    </tr>\n",
       "    <tr>\n",
       "      <th>4</th>\n",
       "      <td>218</td>\n",
       "      <td>222</td>\n",
       "      <td>MILANO 15</td>\n",
       "      <td>MILANO 11-MILANO 13</td>\n",
       "      <td>19.91</td>\n",
       "      <td>2.10</td>\n",
       "      <td>2.09</td>\n",
       "      <td>1</td>\n",
       "      <td>2025-08-31 11:08:47.82082</td>\n",
       "      <td>2025-08-31</td>\n",
       "      <td>24.10</td>\n",
       "      <td>[68719479552, 111669152135, 85899348400, 11166...</td>\n",
       "      <td>MULTILINESTRING ((9.12055 45.50178, 9.12057 45...</td>\n",
       "      <td>1.495737e+06</td>\n",
       "      <td>85107.332526</td>\n",
       "      <td>8295.506683</td>\n",
       "    </tr>\n",
       "  </tbody>\n",
       "</table>\n",
       "</div>"
      ],
      "text/plain": [
       "   z_iil_o  z_iil_d         z_iil_o_nome  \\\n",
       "0      220      215    MILANO 6-MILANO 8   \n",
       "1      221      215   MILANO 9-MILANO 10   \n",
       "2      222      221  MILANO 11-MILANO 13   \n",
       "3      218      221            MILANO 15   \n",
       "4      218      222            MILANO 15   \n",
       "\n",
       "                                        z_iil_d_nome      n1     n2     n3  \\\n",
       "0  MILANO 1-MILANO 2-MILANO 3-MILANO 4-MILANO 7-M...  131.21  18.32  12.97   \n",
       "1  MILANO 1-MILANO 2-MILANO 3-MILANO 4-MILANO 7-M...   60.17   7.53   4.76   \n",
       "2                                 MILANO 9-MILANO 10   28.69   3.95   3.42   \n",
       "3                                 MILANO 9-MILANO 10   15.71   2.01   1.41   \n",
       "4                                MILANO 11-MILANO 13   19.91   2.10   2.09   \n",
       "\n",
       "   metadata_vd               metadata_vtd metadata_ud  demand  \\\n",
       "0            1  2025-08-31 11:08:47.82082  2025-08-31  162.50   \n",
       "1            1  2025-08-31 11:08:47.82082  2025-08-31   72.46   \n",
       "2            1  2025-08-31 11:08:47.82082  2025-08-31   36.06   \n",
       "3            1  2025-08-31 11:08:47.82082  2025-08-31   19.13   \n",
       "4            1  2025-08-31 11:08:47.82082  2025-08-31   24.10   \n",
       "\n",
       "                                                path  \\\n",
       "0  [146028888666, 25769804389, 111669150243, 2061...   \n",
       "1  [120259089516, 111669155190, 103079220324, 858...   \n",
       "2  [3468, 146028891512, 60129543658, 120259086168...   \n",
       "3  [68719479552, 111669152135, 85899348400, 11166...   \n",
       "4  [68719479552, 111669152135, 85899348400, 11166...   \n",
       "\n",
       "                                            geometry     path_cost  \\\n",
       "0  MULTILINESTRING ((9.24654 45.47253, 9.2465 45....  1.591292e+07   \n",
       "1  MULTILINESTRING ((9.20464 45.42008, 9.20454 45...  5.839698e+06   \n",
       "2  MULTILINESTRING ((9.11054 45.4554, 9.11033 45....  2.706023e+06   \n",
       "3  MULTILINESTRING ((9.12055 45.50178, 9.12057 45...  1.756212e+06   \n",
       "4  MULTILINESTRING ((9.12055 45.50178, 9.12057 45...  1.495737e+06   \n",
       "\n",
       "      population      distance  \n",
       "0  137345.628524   5945.824494  \n",
       "1  112283.591699   6645.021379  \n",
       "2   98945.421866  19268.126156  \n",
       "3  114213.876945  39514.553648  \n",
       "4   85107.332526   8295.506683  "
      ]
     },
     "execution_count": 13,
     "metadata": {},
     "output_type": "execute_result"
    }
   ],
   "source": [
    "result.head()"
   ]
  }
 ],
 "metadata": {
  "kernelspec": {
   "display_name": "Python 3 (ipykernel)",
   "language": "python",
   "name": "python3"
  },
  "language_info": {
   "codemirror_mode": {
    "name": "ipython",
    "version": 3
   },
   "file_extension": ".py",
   "mimetype": "text/x-python",
   "name": "python",
   "nbconvert_exporter": "python",
   "pygments_lexer": "ipython3",
   "version": "3.10.10"
  }
 },
 "nbformat": 4,
 "nbformat_minor": 5
}
