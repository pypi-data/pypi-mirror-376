{
 "cells": [
  {
   "cell_type": "markdown",
   "id": "c720e01bd0c567a0",
   "metadata": {},
   "source": [
    "# Graph building and enrichment tools"
   ]
  },
  {
   "cell_type": "markdown",
   "id": "260da809cd5cb53b",
   "metadata": {},
   "source": [
    "Install libadalina-analytics using `pip`"
   ]
  },
  {
   "cell_type": "code",
   "execution_count": 1,
   "id": "8e012d74b645a1f7",
   "metadata": {
    "ExecuteTime": {
     "end_time": "2025-08-31T14:10:11.881817Z",
     "start_time": "2025-08-31T14:10:11.879797Z"
    }
   },
   "outputs": [
    {
     "name": "stdout",
     "output_type": "stream",
     "text": [
      "Defaulting to user installation because normal site-packages is not writeable\n",
      "Requirement already satisfied: libadalina-analytics in ./.local/lib/python3.10/site-packages (1.0.0)\n",
      "Requirement already satisfied: libadalina-core==1.2.0 in ./.local/lib/python3.10/site-packages (from libadalina-analytics) (1.2.0)\n",
      "Requirement already satisfied: highspy==1.11.0 in ./.local/lib/python3.10/site-packages (from libadalina-analytics) (1.11.0)\n",
      "Requirement already satisfied: networkx==3.4.2 in ./.local/lib/python3.10/site-packages (from libadalina-analytics) (3.4.2)\n",
      "Requirement already satisfied: pydantic==2.10.6 in ./.local/lib/python3.10/site-packages (from libadalina-analytics) (2.10.6)\n",
      "Requirement already satisfied: scikit-learn==1.7.0 in ./.local/lib/python3.10/site-packages (from libadalina-analytics) (1.7.0)\n",
      "Requirement already satisfied: numpy in /opt/tljh/user/lib/python3.10/site-packages (from highspy==1.11.0->libadalina-analytics) (1.26.4)\n",
      "Requirement already satisfied: apache-sedona==1.7.1 in ./.local/lib/python3.10/site-packages (from apache-sedona[spark]==1.7.1->libadalina-core==1.2.0->libadalina-analytics) (1.7.1)\n",
      "Requirement already satisfied: pyspark==3.3.2 in ./.local/lib/python3.10/site-packages (from libadalina-core==1.2.0->libadalina-analytics) (3.3.2)\n",
      "Requirement already satisfied: pandas==2.2.3 in ./.local/lib/python3.10/site-packages (from libadalina-core==1.2.0->libadalina-analytics) (2.2.3)\n",
      "Requirement already satisfied: geopandas==1.0.1 in ./.local/lib/python3.10/site-packages (from libadalina-core==1.2.0->libadalina-analytics) (1.0.1)\n",
      "Requirement already satisfied: shapely==2.1.1 in ./.local/lib/python3.10/site-packages (from libadalina-core==1.2.0->libadalina-analytics) (2.1.1)\n",
      "Requirement already satisfied: install-jdk==1.1.0 in ./.local/lib/python3.10/site-packages (from libadalina-core==1.2.0->libadalina-analytics) (1.1.0)\n",
      "Requirement already satisfied: click==8.2.1 in ./.local/lib/python3.10/site-packages (from libadalina-core==1.2.0->libadalina-analytics) (8.2.1)\n",
      "Requirement already satisfied: annotated-types>=0.6.0 in ./.local/lib/python3.10/site-packages (from pydantic==2.10.6->libadalina-analytics) (0.7.0)\n",
      "Requirement already satisfied: pydantic-core==2.27.2 in ./.local/lib/python3.10/site-packages (from pydantic==2.10.6->libadalina-analytics) (2.27.2)\n",
      "Requirement already satisfied: typing-extensions>=4.12.2 in ./.local/lib/python3.10/site-packages (from pydantic==2.10.6->libadalina-analytics) (4.15.0)\n",
      "Requirement already satisfied: scipy>=1.8.0 in /opt/tljh/user/lib/python3.10/site-packages (from scikit-learn==1.7.0->libadalina-analytics) (1.13.1)\n",
      "Requirement already satisfied: joblib>=1.2.0 in /opt/tljh/user/lib/python3.10/site-packages (from scikit-learn==1.7.0->libadalina-analytics) (1.4.2)\n",
      "Requirement already satisfied: threadpoolctl>=3.1.0 in /opt/tljh/user/lib/python3.10/site-packages (from scikit-learn==1.7.0->libadalina-analytics) (3.5.0)\n",
      "Requirement already satisfied: attrs in /opt/tljh/user/lib/python3.10/site-packages (from apache-sedona==1.7.1->apache-sedona[spark]==1.7.1->libadalina-core==1.2.0->libadalina-analytics) (23.2.0)\n",
      "Requirement already satisfied: pyogrio>=0.7.2 in ./.local/lib/python3.10/site-packages (from geopandas==1.0.1->libadalina-core==1.2.0->libadalina-analytics) (0.10.0)\n",
      "Requirement already satisfied: packaging in /opt/tljh/user/lib/python3.10/site-packages (from geopandas==1.0.1->libadalina-core==1.2.0->libadalina-analytics) (23.2)\n",
      "Requirement already satisfied: pyproj>=3.3.0 in ./.local/lib/python3.10/site-packages (from geopandas==1.0.1->libadalina-core==1.2.0->libadalina-analytics) (3.7.1)\n",
      "Requirement already satisfied: python-dateutil>=2.8.2 in /opt/tljh/user/lib/python3.10/site-packages (from pandas==2.2.3->libadalina-core==1.2.0->libadalina-analytics) (2.8.2)\n",
      "Requirement already satisfied: pytz>=2020.1 in /opt/tljh/user/lib/python3.10/site-packages (from pandas==2.2.3->libadalina-core==1.2.0->libadalina-analytics) (2024.1)\n",
      "Requirement already satisfied: tzdata>=2022.7 in /opt/tljh/user/lib/python3.10/site-packages (from pandas==2.2.3->libadalina-core==1.2.0->libadalina-analytics) (2024.1)\n",
      "Requirement already satisfied: py4j==0.10.9.5 in ./.local/lib/python3.10/site-packages (from pyspark==3.3.2->libadalina-core==1.2.0->libadalina-analytics) (0.10.9.5)\n",
      "Requirement already satisfied: certifi in /opt/tljh/user/lib/python3.10/site-packages (from pyogrio>=0.7.2->geopandas==1.0.1->libadalina-core==1.2.0->libadalina-analytics) (2022.12.7)\n",
      "Requirement already satisfied: six>=1.5 in /opt/tljh/user/lib/python3.10/site-packages (from python-dateutil>=2.8.2->pandas==2.2.3->libadalina-core==1.2.0->libadalina-analytics) (1.16.0)\n",
      "\n",
      "\u001b[1m[\u001b[0m\u001b[34;49mnotice\u001b[0m\u001b[1;39;49m]\u001b[0m\u001b[39;49m A new release of pip is available: \u001b[0m\u001b[31;49m25.0.1\u001b[0m\u001b[39;49m -> \u001b[0m\u001b[32;49m25.2\u001b[0m\n",
      "\u001b[1m[\u001b[0m\u001b[34;49mnotice\u001b[0m\u001b[1;39;49m]\u001b[0m\u001b[39;49m To update, run: \u001b[0m\u001b[32;49mpip install --upgrade pip\u001b[0m\n",
      "Note: you may need to restart the kernel to use updated packages.\n"
     ]
    }
   ],
   "source": [
    "pip install libadalina-analytics"
   ]
  },
  {
   "cell_type": "markdown",
   "id": "24d7d6fd-175b-4e6d-ba3c-8e8f3184bab9",
   "metadata": {},
   "source": [
    "Import the Amelia toolkit to read datasets."
   ]
  },
  {
   "cell_type": "code",
   "execution_count": 2,
   "id": "9dd06051-94b3-4600-9d65-fa2cf7157d75",
   "metadata": {},
   "outputs": [],
   "source": [
    "from ameliadp_sql_toolkit import GrinsAmeliaSQLToolkit \n",
    "amelia_sql_toolkit = GrinsAmeliaSQLToolkit()"
   ]
  },
  {
   "cell_type": "markdown",
   "id": "5d44652697aa0282",
   "metadata": {},
   "source": [
    "Read and parse OpenStreetMap dataset with roads of Milano.\n",
    "Road dataset is filtered, removing minor and pedestrian only roads."
   ]
  },
  {
   "cell_type": "code",
   "execution_count": 3,
   "id": "f9ca81ea9d37ae6c",
   "metadata": {
    "ExecuteTime": {
     "end_time": "2025-08-31T14:12:18.120543Z",
     "start_time": "2025-08-31T14:12:17.455023Z"
    }
   },
   "outputs": [
    {
     "name": "stdin",
     "output_type": "stream",
     "text": [
      "Digit your password here:  ········\n"
     ]
    },
    {
     "name": "stderr",
     "output_type": "stream",
     "text": [
      "/home/jupyter-unimi.uno/.local/lib/python3.10/site-packages/geopandas/geodataframe.py:1819: SettingWithCopyWarning: \n",
      "A value is trying to be set on a copy of a slice from a DataFrame.\n",
      "Try using .loc[row_indexer,col_indexer] = value instead\n",
      "\n",
      "See the caveats in the documentation: https://pandas.pydata.org/pandas-docs/stable/user_guide/indexing.html#returning-a-view-versus-a-copy\n",
      "  super().__setitem__(key, value)\n"
     ]
    },
    {
     "data": {
      "text/html": [
       "<div>\n",
       "<style scoped>\n",
       "    .dataframe tbody tr th:only-of-type {\n",
       "        vertical-align: middle;\n",
       "    }\n",
       "\n",
       "    .dataframe tbody tr th {\n",
       "        vertical-align: top;\n",
       "    }\n",
       "\n",
       "    .dataframe thead th {\n",
       "        text-align: right;\n",
       "    }\n",
       "</style>\n",
       "<table border=\"1\" class=\"dataframe\">\n",
       "  <thead>\n",
       "    <tr style=\"text-align: right;\">\n",
       "      <th></th>\n",
       "      <th>geometry</th>\n",
       "      <th>id</th>\n",
       "      <th>name</th>\n",
       "      <th>oneway</th>\n",
       "    </tr>\n",
       "  </thead>\n",
       "  <tbody>\n",
       "    <tr>\n",
       "      <th>0</th>\n",
       "      <td>LINESTRING (9.16836 45.47604, 9.16827 45.47595...</td>\n",
       "      <td>4011790</td>\n",
       "      <td>Via Antonio Canova</td>\n",
       "      <td>forward</td>\n",
       "    </tr>\n",
       "    <tr>\n",
       "      <th>1</th>\n",
       "      <td>LINESTRING (9.15073 45.45995, 9.15066 45.45993...</td>\n",
       "      <td>4011792</td>\n",
       "      <td>Via Costanza</td>\n",
       "      <td>forward</td>\n",
       "    </tr>\n",
       "    <tr>\n",
       "      <th>2</th>\n",
       "      <td>LINESTRING (9.1711 45.47085, 9.17106 45.47089,...</td>\n",
       "      <td>4011793</td>\n",
       "      <td>Viale Pietro e Maria Curie</td>\n",
       "      <td>forward</td>\n",
       "    </tr>\n",
       "    <tr>\n",
       "      <th>3</th>\n",
       "      <td>LINESTRING (9.15084 45.46181, 9.15076 45.46187...</td>\n",
       "      <td>4011799</td>\n",
       "      <td>Via Marchesi de' Taddei</td>\n",
       "      <td>forward</td>\n",
       "    </tr>\n",
       "    <tr>\n",
       "      <th>4</th>\n",
       "      <td>LINESTRING (9.14642 45.47797, 9.14631 45.47805...</td>\n",
       "      <td>4011800</td>\n",
       "      <td>Via Monte Bianco</td>\n",
       "      <td>forward</td>\n",
       "    </tr>\n",
       "  </tbody>\n",
       "</table>\n",
       "</div>"
      ],
      "text/plain": [
       "                                            geometry       id  \\\n",
       "0  LINESTRING (9.16836 45.47604, 9.16827 45.47595...  4011790   \n",
       "1  LINESTRING (9.15073 45.45995, 9.15066 45.45993...  4011792   \n",
       "2  LINESTRING (9.1711 45.47085, 9.17106 45.47089,...  4011793   \n",
       "3  LINESTRING (9.15084 45.46181, 9.15076 45.46187...  4011799   \n",
       "4  LINESTRING (9.14642 45.47797, 9.14631 45.47805...  4011800   \n",
       "\n",
       "                         name   oneway  \n",
       "0          Via Antonio Canova  forward  \n",
       "1                Via Costanza  forward  \n",
       "2  Viale Pietro e Maria Curie  forward  \n",
       "3     Via Marchesi de' Taddei  forward  \n",
       "4            Via Monte Bianco  forward  "
      ]
     },
     "execution_count": 3,
     "metadata": {},
     "output_type": "execute_result"
    }
   ],
   "source": [
    "from libadalina_analytics.graph_extraction.readers import OpenStreetMapReader, RoadTypes\n",
    "\n",
    "milano_roadmap_df = amelia_sql_toolkit.read_data(table_name='milano_roadmap')\n",
    "osm_df = OpenStreetMapReader(RoadTypes.CAR_ONLY).from_dataframe(milano_roadmap_df)\n",
    "osm_df.head()"
   ]
  },
  {
   "cell_type": "markdown",
   "id": "556d4c8e-b4c6-4147-92ff-97d53efbe76f",
   "metadata": {},
   "source": [
    "Convert the OpenStreetMap datasets to Spark DataFrame to set the EPSG code of the geometries.\n",
    "If not set explicitly, libadalina will try to infer the code from the geometries."
   ]
  },
  {
   "cell_type": "code",
   "execution_count": 4,
   "id": "63862622-6267-4d96-8948-7e1e057712c9",
   "metadata": {},
   "outputs": [
    {
     "name": "stderr",
     "output_type": "stream",
     "text": [
      "https://artifacts.unidata.ucar.edu/repository/unidata-all added as a remote repository with the name: repo-1\n",
      "Ivy Default Cache set to: /home/jupyter-unimi.uno/.ivy2/cache\n",
      "The jars for the packages stored in: /home/jupyter-unimi.uno/.ivy2/jars\n",
      "org.apache.sedona#sedona-spark-3.3_2.12 added as a dependency\n",
      "org.datasyslab#geotools-wrapper added as a dependency\n",
      ":: resolving dependencies :: org.apache.spark#spark-submit-parent-bb8e4ecb-3dbe-4ae8-aadf-a9458ed061a9;1.0\n",
      "\tconfs: [default]\n"
     ]
    },
    {
     "name": "stdout",
     "output_type": "stream",
     "text": [
      ":: loading settings :: url = jar:file:/home/jupyter-unimi.uno/.local/lib/python3.10/site-packages/pyspark/jars/ivy-2.5.1.jar!/org/apache/ivy/core/settings/ivysettings.xml\n"
     ]
    },
    {
     "name": "stderr",
     "output_type": "stream",
     "text": [
      "\tfound org.apache.sedona#sedona-spark-3.3_2.12;1.7.1 in central\n",
      "\tfound org.apache.sedona#sedona-common;1.7.1 in central\n",
      "\tfound org.apache.commons#commons-math3;3.6.1 in central\n",
      "\tfound org.locationtech.jts#jts-core;1.20.0 in central\n",
      "\tfound org.wololo#jts2geojson;0.16.1 in central\n",
      "\tfound org.locationtech.spatial4j#spatial4j;0.8 in central\n",
      "\tfound com.google.geometry#s2-geometry;2.0.0 in central\n",
      "\tfound com.google.guava#guava;25.1-jre in central\n",
      "\tfound com.google.code.findbugs#jsr305;3.0.2 in central\n",
      "\tfound org.checkerframework#checker-qual;2.0.0 in central\n",
      "\tfound com.google.errorprone#error_prone_annotations;2.1.3 in central\n",
      "\tfound com.google.j2objc#j2objc-annotations;1.1 in central\n",
      "\tfound org.codehaus.mojo#animal-sniffer-annotations;1.14 in central\n",
      "\tfound com.uber#h3;4.1.1 in central\n",
      "\tfound net.sf.geographiclib#GeographicLib-Java;1.52 in central\n",
      "\tfound com.github.ben-manes.caffeine#caffeine;2.9.2 in central\n",
      "\tfound org.checkerframework#checker-qual;3.10.0 in central\n",
      "\tfound com.google.errorprone#error_prone_annotations;2.5.1 in central\n",
      "\tfound org.apache.sedona#sedona-spark-common-3.3_2.12;1.7.1 in central\n",
      "\tfound org.apache.sedona#shade-proto;1.7.1 in central\n",
      "\tfound org.xerial#sqlite-jdbc;3.41.2.2 in central\n",
      "\tfound commons-lang#commons-lang;2.6 in central\n",
      "\tfound graphframes#graphframes;0.8.3-spark3.4-s_2.12 in spark-packages\n",
      "\tfound org.slf4j#slf4j-api;1.7.36 in central\n",
      "\tfound org.scala-lang.modules#scala-collection-compat_2.12;2.5.0 in central\n",
      "\tfound org.beryx#awt-color-factory;1.0.0 in central\n",
      "\tfound org.datasyslab#geotools-wrapper;1.7.1-28.5 in central\n",
      ":: resolution report :: resolve 582ms :: artifacts dl 22ms\n",
      "\t:: modules in use:\n",
      "\tcom.github.ben-manes.caffeine#caffeine;2.9.2 from central in [default]\n",
      "\tcom.google.code.findbugs#jsr305;3.0.2 from central in [default]\n",
      "\tcom.google.errorprone#error_prone_annotations;2.5.1 from central in [default]\n",
      "\tcom.google.geometry#s2-geometry;2.0.0 from central in [default]\n",
      "\tcom.google.guava#guava;25.1-jre from central in [default]\n",
      "\tcom.google.j2objc#j2objc-annotations;1.1 from central in [default]\n",
      "\tcom.uber#h3;4.1.1 from central in [default]\n",
      "\tcommons-lang#commons-lang;2.6 from central in [default]\n",
      "\tgraphframes#graphframes;0.8.3-spark3.4-s_2.12 from spark-packages in [default]\n",
      "\tnet.sf.geographiclib#GeographicLib-Java;1.52 from central in [default]\n",
      "\torg.apache.commons#commons-math3;3.6.1 from central in [default]\n",
      "\torg.apache.sedona#sedona-common;1.7.1 from central in [default]\n",
      "\torg.apache.sedona#sedona-spark-3.3_2.12;1.7.1 from central in [default]\n",
      "\torg.apache.sedona#sedona-spark-common-3.3_2.12;1.7.1 from central in [default]\n",
      "\torg.apache.sedona#shade-proto;1.7.1 from central in [default]\n",
      "\torg.beryx#awt-color-factory;1.0.0 from central in [default]\n",
      "\torg.checkerframework#checker-qual;3.10.0 from central in [default]\n",
      "\torg.codehaus.mojo#animal-sniffer-annotations;1.14 from central in [default]\n",
      "\torg.datasyslab#geotools-wrapper;1.7.1-28.5 from central in [default]\n",
      "\torg.locationtech.jts#jts-core;1.20.0 from central in [default]\n",
      "\torg.locationtech.spatial4j#spatial4j;0.8 from central in [default]\n",
      "\torg.scala-lang.modules#scala-collection-compat_2.12;2.5.0 from central in [default]\n",
      "\torg.slf4j#slf4j-api;1.7.36 from central in [default]\n",
      "\torg.wololo#jts2geojson;0.16.1 from central in [default]\n",
      "\torg.xerial#sqlite-jdbc;3.41.2.2 from central in [default]\n",
      "\t:: evicted modules:\n",
      "\torg.checkerframework#checker-qual;2.0.0 by [org.checkerframework#checker-qual;3.10.0] in [default]\n",
      "\tcom.google.errorprone#error_prone_annotations;2.1.3 by [com.google.errorprone#error_prone_annotations;2.5.1] in [default]\n",
      "\t---------------------------------------------------------------------\n",
      "\t|                  |            modules            ||   artifacts   |\n",
      "\t|       conf       | number| search|dwnlded|evicted|| number|dwnlded|\n",
      "\t---------------------------------------------------------------------\n",
      "\t|      default     |   27  |   0   |   0   |   2   ||   25  |   0   |\n",
      "\t---------------------------------------------------------------------\n",
      ":: retrieving :: org.apache.spark#spark-submit-parent-bb8e4ecb-3dbe-4ae8-aadf-a9458ed061a9\n",
      "\tconfs: [default]\n",
      "\t0 artifacts copied, 25 already retrieved (0kB/10ms)\n"
     ]
    },
    {
     "name": "stdout",
     "output_type": "stream",
     "text": [
      "25/08/31 14:45:57 WARN NativeCodeLoader: Unable to load native-hadoop library for your platform... using builtin-java classes where applicable\n"
     ]
    },
    {
     "name": "stderr",
     "output_type": "stream",
     "text": [
      "Setting default log level to \"WARN\".\n",
      "To adjust logging level use sc.setLogLevel(newLevel). For SparkR, use setLogLevel(newLevel).\n",
      "                                                                                \r"
     ]
    }
   ],
   "source": [
    "from libadalina_core.sedona_utils import to_spark_dataframe, EPSGFormats\n",
    "\n",
    "osm_df = to_spark_dataframe(osm_df, EPSGFormats.EPSG4326)"
   ]
  },
  {
   "cell_type": "markdown",
   "id": "6930e9924d8a53de",
   "metadata": {},
   "source": [
    "A `networkx` `DiGraph` is built from the geometries in the OpenStreetMap dataset."
   ]
  },
  {
   "cell_type": "code",
   "execution_count": 5,
   "id": "a3febffa73c89bd4",
   "metadata": {
    "ExecuteTime": {
     "end_time": "2025-08-31T14:10:23.904819Z",
     "start_time": "2025-08-31T14:10:12.641587Z"
    }
   },
   "outputs": [
    {
     "name": "stderr",
     "output_type": "stream",
     "text": [
      "                                                                                \r"
     ]
    },
    {
     "data": {
      "text/plain": [
       "(146883, 220423)"
      ]
     },
     "execution_count": 5,
     "metadata": {},
     "output_type": "execute_result"
    }
   ],
   "source": [
    "from libadalina_analytics.graph_extraction.builders import build_graph\n",
    "\n",
    "graph = build_graph(osm_df, name='milan_road')\n",
    "graph.number_of_nodes(), graph.number_of_edges() # number of nodes and edges"
   ]
  },
  {
   "cell_type": "markdown",
   "id": "2ec0bc0dffbc9ff1",
   "metadata": {},
   "source": [
    "Edge data includes information from to OpenStreetMap dataset, including the id of the geometry, and the name of the road.\n",
    "Also, graph edges are enriched with the geometry of the corresponding line on the map and its distance in meters."
   ]
  },
  {
   "cell_type": "code",
   "execution_count": 6,
   "id": "a40e0fc9c8c4b47d",
   "metadata": {
    "ExecuteTime": {
     "end_time": "2025-08-31T14:10:23.979240Z",
     "start_time": "2025-08-31T14:10:23.976382Z"
    }
   },
   "outputs": [
    {
     "data": {
      "text/plain": [
       "OutEdgeDataView([(0, 223338299393, {'geometry': <LINESTRING (9.151 45.462, 9.151 45.462)>, 'id': 4011799, 'name': \"Via Marchesi de' Taddei\", 'distance': 13.853932347639198})])"
      ]
     },
     "execution_count": 6,
     "metadata": {},
     "output_type": "execute_result"
    }
   ],
   "source": [
    "graph.edges(0, data=True) # show data of the first edge"
   ]
  },
  {
   "cell_type": "markdown",
   "id": "3635e5d6bc9d6330",
   "metadata": {},
   "source": [
    "Graphs can be further enriched with external datasets to enhance their attributes. This example demonstrates how to incorporate population data from a grid dataset, where each cell contains information about the number of residents.\n"
   ]
  },
  {
   "cell_type": "code",
   "execution_count": 7,
   "id": "870db2cc463fb93",
   "metadata": {
    "ExecuteTime": {
     "end_time": "2025-08-31T14:12:35.440747Z",
     "start_time": "2025-08-31T14:12:35.426489Z"
    }
   },
   "outputs": [
    {
     "data": {
      "text/html": [
       "<div>\n",
       "<style scoped>\n",
       "    .dataframe tbody tr th:only-of-type {\n",
       "        vertical-align: middle;\n",
       "    }\n",
       "\n",
       "    .dataframe tbody tr th {\n",
       "        vertical-align: top;\n",
       "    }\n",
       "\n",
       "    .dataframe thead th {\n",
       "        text-align: right;\n",
       "    }\n",
       "</style>\n",
       "<table border=\"1\" class=\"dataframe\">\n",
       "  <thead>\n",
       "    <tr style=\"text-align: right;\">\n",
       "      <th></th>\n",
       "      <th>t</th>\n",
       "      <th>geometry</th>\n",
       "    </tr>\n",
       "  </thead>\n",
       "  <tbody>\n",
       "    <tr>\n",
       "      <th>0</th>\n",
       "      <td>85</td>\n",
       "      <td>POLYGON ((9.031086950078857 45.38280269166012,...</td>\n",
       "    </tr>\n",
       "    <tr>\n",
       "      <th>1</th>\n",
       "      <td>10</td>\n",
       "      <td>POLYGON ((9.04383459344471 45.38291898197039, ...</td>\n",
       "    </tr>\n",
       "    <tr>\n",
       "      <th>2</th>\n",
       "      <td>0</td>\n",
       "      <td>POLYGON ((9.056582284984122 45.38303373224426,...</td>\n",
       "    </tr>\n",
       "    <tr>\n",
       "      <th>3</th>\n",
       "      <td>4</td>\n",
       "      <td>POLYGON ((9.06933002405527 45.38314694247239, ...</td>\n",
       "    </tr>\n",
       "    <tr>\n",
       "      <th>4</th>\n",
       "      <td>46</td>\n",
       "      <td>POLYGON ((9.082077810016315 45.38325861264565,...</td>\n",
       "    </tr>\n",
       "  </tbody>\n",
       "</table>\n",
       "</div>"
      ],
      "text/plain": [
       "    t                                           geometry\n",
       "0  85  POLYGON ((9.031086950078857 45.38280269166012,...\n",
       "1  10  POLYGON ((9.04383459344471 45.38291898197039, ...\n",
       "2   0  POLYGON ((9.056582284984122 45.38303373224426,...\n",
       "3   4  POLYGON ((9.06933002405527 45.38314694247239, ...\n",
       "4  46  POLYGON ((9.082077810016315 45.38325861264565,..."
      ]
     },
     "execution_count": 7,
     "metadata": {},
     "output_type": "execute_result"
    }
   ],
   "source": [
    "population = amelia_sql_toolkit.read_data(table_name='milano_population')[['t', 'geometry']]\n",
    "population.head()"
   ]
  },
  {
   "cell_type": "markdown",
   "id": "f531199f00c5c40",
   "metadata": {},
   "source": [
    "The population data will be joined with the road network graph during the building phase to enrich each edge with population data. Specifically, it calculates the estimated population living within a 1km radius of each road segment\n"
   ]
  },
  {
   "cell_type": "code",
   "execution_count": 8,
   "id": "95886d68f9603136",
   "metadata": {
    "ExecuteTime": {
     "end_time": "2025-08-31T14:14:36.673736Z",
     "start_time": "2025-08-31T14:14:01.026244Z"
    }
   },
   "outputs": [
    {
     "name": "stderr",
     "output_type": "stream",
     "text": [
      "                                                                                \r"
     ]
    },
    {
     "name": "stdout",
     "output_type": "stream",
     "text": [
      "25/08/31 14:46:37 WARN JoinQuery: UseIndex is true, but no index exists. Will build index on the fly.\n"
     ]
    },
    {
     "name": "stderr",
     "output_type": "stream",
     "text": [
      "[Stage 20:====>                                                   (2 + 23) / 25]\r"
     ]
    },
    {
     "name": "stdout",
     "output_type": "stream",
     "text": [
      "[200.503s][warning][gc,alloc] Executor task launch worker for task 15.0 in stage 20.0 (TID 238): Retried waiting for GCLocker too often allocating 519 words\n"
     ]
    },
    {
     "name": "stderr",
     "output_type": "stream",
     "text": [
      "                                                                                \r"
     ]
    }
   ],
   "source": [
    "from libadalina_core.spatial_operators import AggregationFunction, AggregationType\n",
    "\n",
    "population = to_spark_dataframe(population, EPSGFormats.EPSG4326)\n",
    "graph = build_graph(osm_df,\n",
    "                        name='milan_road_with_population',\n",
    "                        joined_df=population,\n",
    "                        buffer_radius_meters=1000, # 1km\n",
    "                        aggregate_functions=[\n",
    "                            AggregationFunction(\"t\", AggregationType.SUM, 'population', proportional='geometry_right')\n",
    "                        ]\n",
    "                        )"
   ]
  },
  {
   "cell_type": "markdown",
   "id": "6e08497027507173",
   "metadata": {},
   "source": [
    "Edges data now include the amount of population nearby."
   ]
  },
  {
   "cell_type": "code",
   "execution_count": 9,
   "id": "34d316375cf6f63a",
   "metadata": {
    "ExecuteTime": {
     "end_time": "2025-08-31T14:15:41.995766Z",
     "start_time": "2025-08-31T14:15:41.992431Z"
    }
   },
   "outputs": [
    {
     "data": {
      "text/plain": [
       "OutEdgeDataView([(0, 25769803831, {'geometry': <LINESTRING (9.151 45.462, 9.151 45.462)>, 'id': 4011799, 'name': \"Via Marchesi de' Taddei\", 'distance': 13.853932347639198, 'population': 447.0405512516792})])"
      ]
     },
     "execution_count": 9,
     "metadata": {},
     "output_type": "execute_result"
    }
   ],
   "source": [
    "graph.edges(0, data=True) # show data of the first edge"
   ]
  }
 ],
 "metadata": {
  "kernelspec": {
   "display_name": "Python 3 (ipykernel)",
   "language": "python",
   "name": "python3"
  },
  "language_info": {
   "codemirror_mode": {
    "name": "ipython",
    "version": 3
   },
   "file_extension": ".py",
   "mimetype": "text/x-python",
   "name": "python",
   "nbconvert_exporter": "python",
   "pygments_lexer": "ipython3",
   "version": "3.10.10"
  }
 },
 "nbformat": 4,
 "nbformat_minor": 5
}
