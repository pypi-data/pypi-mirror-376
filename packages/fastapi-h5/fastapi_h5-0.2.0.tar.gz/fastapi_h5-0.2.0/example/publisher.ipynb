{
 "cells": [
  {
   "cell_type": "markdown",
   "id": "ca21d8bc-9922-4884-8a28-a08c70b826ea",
   "metadata": {},
   "source": [
    "# `fastapi-h5` publisher\n",
    "\n",
    "This notebook will create FastAPI application publishing HSDS-like data via `fastapi-h5.router`.\n",
    "\n",
    "The notebook uses `typing`, `contextlib` and `asyncio` from standard Python.<br>\n",
    "Concerning the external dependencies, beside `fastapi` and `fastapi-h5`, it requires `uvicorn` and `numpy` (optional).\n",
    "\n",
    "*This example demonstrates a basic communcation between 2 notebooks or Python processes without files and using [Hierarchical Data Format](https://www.hdfgroup.org/) (HDF) model.*"
   ]
  },
  {
   "cell_type": "code",
   "execution_count": 1,
   "id": "cf7f59a4-86da-488a-8213-0fc95ef690d6",
   "metadata": {},
   "outputs": [],
   "source": [
    "import time\n",
    "from contextlib import nullcontext\n",
    "from typing import Any, ContextManager, Tuple\n",
    "\n",
    "import numpy as np\n",
    "import uvicorn\n",
    "from fastapi import FastAPI\n",
    "\n",
    "from fastapi_h5 import router"
   ]
  },
  {
   "cell_type": "markdown",
   "id": "a82689c6-7bc8-4e9a-8cc8-c87fa2a5d1e4",
   "metadata": {},
   "source": [
    "- create FastAPI application\n",
    "- add the `fastapi_h5.router`\n",
    "- define a function or method returning data\n",
    "- link that function to `app.state.get_data`\n",
    "- configure uvicor server\n",
    "- note that attributes are supported so [NeXus](https://www.nexusformat.org/) convention can be used\n",
    "- run the server forewer (you can use the Notebook *interrupt* to stop the server)"
   ]
  },
  {
   "cell_type": "code",
   "execution_count": 2,
   "id": "259845b9-0578-4786-afbe-838faec0611b",
   "metadata": {},
   "outputs": [
    {
     "name": "stderr",
     "output_type": "stream",
     "text": [
      "INFO:     Started server process [52925]\n",
      "INFO:     Waiting for application startup.\n",
      "INFO:     Application startup complete.\n",
      "INFO:     Uvicorn running on http://0.0.0.0:8000 (Press CTRL+C to quit)\n"
     ]
    },
    {
     "name": "stdout",
     "output_type": "stream",
     "text": [
      "INFO:     127.0.0.1:55472 - \"GET /results/?getdnids=1&getobjs=T&include_attrs=T&domain=%2F HTTP/1.1\" 200 OK\n",
      "INFO:     127.0.0.1:55472 - \"GET /results/groups/g-h5dict-2F?domain=%2F HTTP/1.1\" 200 OK\n",
      "INFO:     127.0.0.1:55472 - \"GET /results/groups/g-h5dict-2F/links/entry?CreateOrder=0&domain=%2F HTTP/1.1\" 200 OK\n",
      "INFO:     127.0.0.1:55472 - \"GET /results/groups/g-h5dict-2F656E747279/links/time?CreateOrder=0&domain=%2F HTTP/1.1\" 200 OK\n",
      "INFO:     127.0.0.1:55472 - \"GET /results/groups/g-h5dict-2F656E7472792F74696D65?domain=%2F HTTP/1.1\" 200 OK\n",
      "INFO:     127.0.0.1:55472 - \"GET /results/groups/g-h5dict-2F656E7472792F74696D65/links/tm_hour?CreateOrder=0&domain=%2F HTTP/1.1\" 200 OK\n",
      "INFO:     127.0.0.1:55472 - \"GET /results/datasets/d-h5dict-2F656E7472792F74696D652F746D5F686F7572?domain=%2F HTTP/1.1\" 200 OK\n",
      "INFO:     127.0.0.1:55472 - \"GET /results/datasets/d-h5dict-2F656E7472792F74696D652F746D5F686F7572/value?domain=%2F HTTP/1.1\" 200 OK\n",
      "INFO:     127.0.0.1:55472 - \"GET /results/datasets/d-h5dict-2F656E7472792F74696D652F746D5F686F7572/value?domain=%2F HTTP/1.1\" 200 OK\n",
      "INFO:     127.0.0.1:55472 - \"GET /results/groups/g-h5dict-2F656E7472792F74696D65/links/tm_min?CreateOrder=0&domain=%2F HTTP/1.1\" 200 OK\n",
      "INFO:     127.0.0.1:55472 - \"GET /results/datasets/d-h5dict-2F656E7472792F74696D652F746D5F6D696E?domain=%2F HTTP/1.1\" 200 OK\n",
      "INFO:     127.0.0.1:55472 - \"GET /results/datasets/d-h5dict-2F656E7472792F74696D652F746D5F6D696E/value?domain=%2F HTTP/1.1\" 200 OK\n",
      "INFO:     127.0.0.1:55472 - \"GET /results/groups/g-h5dict-2F656E7472792F74696D65/links/tm_sec?CreateOrder=0&domain=%2F HTTP/1.1\" 200 OK\n",
      "INFO:     127.0.0.1:55472 - \"GET /results/datasets/d-h5dict-2F656E7472792F74696D652F746D5F736563?domain=%2F HTTP/1.1\" 200 OK\n",
      "INFO:     127.0.0.1:55472 - \"GET /results/datasets/d-h5dict-2F656E7472792F74696D652F746D5F736563/value?domain=%2F HTTP/1.1\" 200 OK\n",
      "INFO:     127.0.0.1:55472 - \"GET /results/groups/g-h5dict-2F656E7472792F74696D65/links/tm_zone?CreateOrder=0&domain=%2F HTTP/1.1\" 200 OK\n",
      "INFO:     127.0.0.1:55472 - \"GET /results/datasets/d-h5dict-2F656E7472792F74696D652F746D5F7A6F6E65?domain=%2F HTTP/1.1\" 200 OK\n",
      "INFO:     127.0.0.1:55472 - \"GET /results/datasets/d-h5dict-2F656E7472792F74696D652F746D5F7A6F6E65/value?domain=%2F HTTP/1.1\" 200 OK\n",
      "INFO:     127.0.0.1:55472 - \"GET /results/groups/g-h5dict-2F656E747279/links/data?CreateOrder=0&domain=%2F HTTP/1.1\" 200 OK\n",
      "INFO:     127.0.0.1:55472 - \"GET /results/groups/g-h5dict-2F656E7472792F64617461/links/values?CreateOrder=0&domain=%2F HTTP/1.1\" 200 OK\n",
      "INFO:     127.0.0.1:55472 - \"GET /results/datasets/d-h5dict-2F656E7472792F646174612F76616C756573?domain=%2F HTTP/1.1\" 200 OK\n",
      "INFO:     127.0.0.1:55472 - \"GET /results/datasets/d-h5dict-2F656E7472792F646174612F76616C756573/value?nonstrict=1&select=%5B0%3A10%3A1%5D&domain=%2F HTTP/1.1\" 200 OK\n",
      "INFO:     127.0.0.1:55472 - \"GET /results/groups/g-h5dict-2F656E7472792F64617461?domain=%2F HTTP/1.1\" 200 OK\n",
      "INFO:     127.0.0.1:55472 - \"GET /results/groups/g-h5dict-2F656E7472792F64617461/attributes?CreateOrder=0&domain=%2F HTTP/1.1\" 200 OK\n",
      "INFO:     127.0.0.1:55472 - \"GET /results/groups/g-h5dict-2F656E7472792F64617461/attributes/NX_class?domain=%2F HTTP/1.1\" 200 OK\n",
      "INFO:     127.0.0.1:55472 - \"GET /results/groups/g-h5dict-2F656E7472792F64617461/attributes/signal?domain=%2F HTTP/1.1\" 200 OK\n"
     ]
    },
    {
     "name": "stderr",
     "output_type": "stream",
     "text": [
      "INFO:     Shutting down\n",
      "INFO:     Waiting for application shutdown.\n",
      "INFO:     Application shutdown complete.\n",
      "INFO:     Finished server process [52925]\n"
     ]
    }
   ],
   "source": [
    "app = FastAPI()\n",
    "\n",
    "# add h5dict RestAPI port\n",
    "app.include_router(router, prefix=\"/results\")\n",
    "\n",
    "\n",
    "# data published over HSDS-like interface\n",
    "def get_data() -> Tuple[dict[str, Any], ContextManager[None]]:\n",
    "    t = time.time()\n",
    "    gmt = time.gmtime(t)\n",
    "    data = {\n",
    "        \"entry\": {\n",
    "            \"time\": {\n",
    "                \"tm_year\": gmt.tm_year,\n",
    "                \"tm_mon\": gmt.tm_mon,\n",
    "                \"tm_mday\": gmt.tm_mday,\n",
    "                \"tm_hour\": gmt.tm_hour,\n",
    "                \"tm_min\": gmt.tm_min,\n",
    "                \"tm_sec\": gmt.tm_sec,\n",
    "                \"tm_zone\": gmt.tm_zone,\n",
    "            },\n",
    "            \"time_attrs\": {\"NX_class\": \"NXcollection\"},\n",
    "            \"data\": {\n",
    "                \"values\": np.arange(10, dtype=np.float16),\n",
    "            },\n",
    "            \"data_attrs\": {\"NX_class\": \"NXdata\", \"signal\": \"values\"},\n",
    "        },\n",
    "        \"entry_attrs\": {\"NX_class\": \"NXentry\", \"default\": \"data\"},\n",
    "        \"_attrs\": {\"default\": \"entry\"},\n",
    "    }\n",
    "    return data, nullcontext()\n",
    "\n",
    "\n",
    "app.state.get_data = get_data\n",
    "\n",
    "# configure uvicorn server\n",
    "config = uvicorn.Config(app, host=\"0.0.0.0\", port=8000, log_level=\"info\")\n",
    "server = uvicorn.Server(config)\n",
    "\n",
    "# run forewer\n",
    "await server.serve()"
   ]
  },
  {
   "cell_type": "code",
   "execution_count": null,
   "id": "d5ac6d93-dcff-4d76-bab3-81d04b30b183",
   "metadata": {},
   "outputs": [],
   "source": []
  }
 ],
 "metadata": {
  "kernelspec": {
   "display_name": "Python 3 (ipykernel)",
   "language": "python",
   "name": "python3"
  },
  "language_info": {
   "codemirror_mode": {
    "name": "ipython",
    "version": 3
   },
   "file_extension": ".py",
   "mimetype": "text/x-python",
   "name": "python",
   "nbconvert_exporter": "python",
   "pygments_lexer": "ipython3",
   "version": "3.12.10"
  }
 },
 "nbformat": 4,
 "nbformat_minor": 5
}
