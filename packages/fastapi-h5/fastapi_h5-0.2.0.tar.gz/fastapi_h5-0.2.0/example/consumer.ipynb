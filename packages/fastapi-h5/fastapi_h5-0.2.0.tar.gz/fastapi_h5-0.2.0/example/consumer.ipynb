{
 "cells": [
  {
   "cell_type": "markdown",
   "id": "237ea6b1-85ac-4deb-a43a-a282b7078156",
   "metadata": {},
   "source": [
    "# `fastapi-h5` consumer\n",
    "\n",
    "This notebook is the `h5pyd` consumer/client of data published with `fastapi-h5` service.\n",
    "\n",
    "It does require neither `fastapi` or `fastapi-h5`. They arer used by the publisher/server.<br>\n",
    "There is a FastAPI interface exposed at [http://localhost:8000/docs](http://localhost:8000/docs) but that is not used.<br>\n",
    "The only requirement is the `h5pyd` client module and the h5py-like methods are used to access data.\n",
    "\n",
    "*This example demonstrates a basic communcation between 2 notebooks or Python processes without files and using [Hierarchical Data Format](https://www.hdfgroup.org/) (HDF) model.*"
   ]
  },
  {
   "cell_type": "code",
   "execution_count": 1,
   "id": "0a73ff3a-8036-4655-a635-63b766e3df85",
   "metadata": {},
   "outputs": [],
   "source": [
    "#!pip install h5pyd==0.21.0"
   ]
  },
  {
   "cell_type": "code",
   "execution_count": 2,
   "id": "95981773-ca24-445a-835a-78ff6f97ebf7",
   "metadata": {},
   "outputs": [
    {
     "name": "stdout",
     "output_type": "stream",
     "text": [
      "h5pyd version: 0.21.0\n"
     ]
    }
   ],
   "source": [
    "import h5pyd\n",
    "\n",
    "print(\"h5pyd version:\", h5pyd.version.version)"
   ]
  },
  {
   "cell_type": "markdown",
   "id": "89f9c761-5a5a-4402-9c11-a43c3c3f6e7b",
   "metadata": {},
   "source": [
    "Note:\n",
    "- the endpoint is at [http://localhost:8000/results](http://localhost:8000/results) including the `prefix='results'` that was set as an optional argument in the Publisher\n",
    "- `fast-api` does not provide filesystem-like access to folders and domains. The HDF-model starts with the root: `\"/\"` and data are read-only."
   ]
  },
  {
   "cell_type": "code",
   "execution_count": 3,
   "id": "119a7f19-46d8-454a-b4bc-c40c0df84aad",
   "metadata": {},
   "outputs": [
    {
     "name": "stdout",
     "output_type": "stream",
     "text": [
      "<HDF5 group \"/entry/time/\" (7 members)>\n",
      "/entry/time/tm_hour: value=11, dtype=int64\n",
      "h5dict time data: 11:41:11 UTC\n",
      "<HDF5 dataset \"values\": shape (10,), type \"<f2\">\n",
      "\tdset values: [0. 1. 2. 3. 4. 5. 6. 7. 8. 9.]\n",
      "\tdset dtype: float16\n",
      "\tattr name=NX_class, value=NXdata\n",
      "\tattr name=signal, value=values\n"
     ]
    }
   ],
   "source": [
    "with h5pyd.File(\"/\", \"r\", endpoint=\"http://localhost:8000/results\") as f:\n",
    "    # group\n",
    "    g = f[\"/entry/time/\"]\n",
    "    print(g)\n",
    "    # single value dataset\n",
    "    dset = g[\"tm_hour\"]\n",
    "    print(\n",
    "        \"/entry/time/tm_hour: value=%d, dtype=%s\"\n",
    "        % (\n",
    "            dset.value,\n",
    "            dset.dtype,\n",
    "        )\n",
    "    )\n",
    "    # dynamic datasets values\n",
    "    print(\n",
    "        \"h5dict time data: %02d:%02d:%02d %s\"\n",
    "        % (\n",
    "            g[\"tm_hour\"].value,\n",
    "            g[\"tm_min\"].value,\n",
    "            g[\"tm_sec\"].value,\n",
    "            g[\"tm_zone\"].value.decode(\"UTF-8\"),\n",
    "        )\n",
    "    )\n",
    "    # array dataset with NeXus attributes\n",
    "    dset = f[\"/entry/data/values\"]\n",
    "    print(dset)\n",
    "    print(\"\\tdset values:\", dset[()])\n",
    "    print(\"\\tdset dtype:\", dset.dtype)\n",
    "    attrs = f[\"/entry/data\"].attrs\n",
    "    for name in attrs:\n",
    "        print(\n",
    "            \"\\tattr name=%s, value=%s\"\n",
    "            % (\n",
    "                name,\n",
    "                attrs[name],\n",
    "            )\n",
    "        )"
   ]
  },
  {
   "cell_type": "code",
   "execution_count": null,
   "id": "19bd0a88-0371-471b-8ddb-bb18ca7079ba",
   "metadata": {},
   "outputs": [],
   "source": []
  }
 ],
 "metadata": {
  "kernelspec": {
   "display_name": "Python 3 (ipykernel)",
   "language": "python",
   "name": "python3"
  },
  "language_info": {
   "codemirror_mode": {
    "name": "ipython",
    "version": 3
   },
   "file_extension": ".py",
   "mimetype": "text/x-python",
   "name": "python",
   "nbconvert_exporter": "python",
   "pygments_lexer": "ipython3",
   "version": "3.12.10"
  }
 },
 "nbformat": 4,
 "nbformat_minor": 5
}
