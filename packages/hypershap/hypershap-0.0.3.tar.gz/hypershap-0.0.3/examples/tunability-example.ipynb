{
  "cells": [
    {
      "cell_type": "markdown",
      "id": "74b6c2461143b273",
      "metadata": {},
      "source": [
        "# HyperSHAP: Example for Tunability Explanations\n",
        "\n",
        "In this example, we consider the scenario where we want to explain the tunability of hyperparameters with respect to a baseline configuration and analyze to what extent tuning (sets of) hyperparameters benefits performance.\n",
        "\n",
        "## Mockup setup of environment\n",
        "To this end, we first setup some basic environment, which is assumed to be already existing when working with HyperSHAP. We will setup a configuration space, a baseline configuration and a black box function for which we would like to analyze the tunability of the hyperparameters."
      ]
    },
    {
      "cell_type": "code",
      "id": "initial_id",
      "metadata": {
        "collapsed": true,
        "ExecuteTime": {
          "end_time": "2025-08-14T08:12:25.618012Z",
          "start_time": "2025-08-14T08:12:25.252223Z"
        }
      },
      "source": [
        "from __future__ import annotations\n",
        "\n",
        "import math\n",
        "\n",
        "from ConfigSpace import Configuration, ConfigurationSpace\n",
        "\n",
        "# Configuration space with a float, integer, and categorical hyperparameter\n",
        "cs = ConfigurationSpace(\n",
        "    name=\"myspace\",\n",
        "    space={\n",
        "        \"a\": (0.1, 1.5),  # UniformFloat\n",
        "        \"b\": (2, 10),  # UniformInt\n",
        "        \"c\": [\"X\", \"Y\"],  # Categorical\n",
        "    },\n",
        ")\n",
        "\n",
        "\n",
        "# Some evaluation function that assesses the performance of some configuration\n",
        "def eval_fun(config: Configuration) -> float:\n",
        "    if config[\"c\"] == \"X\":\n",
        "        return math.sin(config[\"a\"]) + config[\"b\"]\n",
        "    if config[\"c\"] == \"Y\":\n",
        "        return math.cos(config[\"a\"] * config[\"b\"]) + 1.5\n",
        "    return 0\n",
        "\n",
        "\n",
        "cs.seed(42)  # set some random seed for reproducibility\n",
        "\n",
        "# sample some configuration as a baseline\n",
        "baseline_config = cs.sample_configuration()\n",
        "\n",
        "print(\"Baseline\", baseline_config, \"\\nValue\", eval_fun(baseline_config))"
      ],
      "outputs": [
        {
          "name": "stdout",
          "output_type": "stream",
          "text": [
            "Baseline Configuration(values={\n",
            "  'a': 0.6243561663863,\n",
            "  'b': 4,\n",
            "  'c': np.str_('Y'),\n",
            "}) \n",
            "Value 0.7004003054122951\n"
          ]
        }
      ],
      "execution_count": 1
    },
    {
      "cell_type": "markdown",
      "id": "97bf13e91a18e32e",
      "metadata": {},
      "source": [
        "## HyperSHAP Instantiation with Configuration Space and Surrogate Model\n",
        "\n",
        "Now it is time to instantiate HyperSHAP. For this, we need to define an explanation task that consists of a configuration space and a surrogate model for predicting the performance of a configuration. `ExplanationTask` comes with a couple of static convenience functions that facilitate the transition from the above configuration space and eval function to an explanation task. For simply building a surrogate model from the specified evaluation function, we can simply call the `from_function()` method and give the resulting explanation task to HyperSHAP."
      ]
    },
    {
      "cell_type": "code",
      "id": "31b290fdd2788b74",
      "metadata": {
        "ExecuteTime": {
          "end_time": "2025-08-14T08:12:26.440419Z",
          "start_time": "2025-08-14T08:12:25.631169Z"
        }
      },
      "source": [
        "from hypershap.hypershap import HyperSHAP\n",
        "from hypershap.task import ExplanationTask\n",
        "\n",
        "explanation_task = ExplanationTask.from_function(config_space=cs, function=eval_fun)\n",
        "hypershap = HyperSHAP(explanatiown_task=explanation_task)"
      ],
      "outputs": [
        {
          "name": "stderr",
          "output_type": "stream",
          "text": [
            "/Users/wever/PycharmProjects/HyperSHAP-automl/.venv/lib/python3.12/site-packages/tqdm/auto.py:21: TqdmWarning: IProgress not found. Please update jupyter and ipywidgets. See https://ipywidgets.readthedocs.io/en/stable/user_install.html\n",
            "  from .autonotebook import tqdm as notebook_tqdm\n"
          ]
        }
      ],
      "execution_count": 2
    },
    {
      "cell_type": "markdown",
      "id": "6d398a1ada8f99a2",
      "metadata": {},
      "source": "# HyperSHAP Tunability"
    },
    {
      "cell_type": "code",
      "id": "a248ad7cf028ced8",
      "metadata": {
        "ExecuteTime": {
          "end_time": "2025-08-14T08:12:26.723157Z",
          "start_time": "2025-08-14T08:12:26.469906Z"
        }
      },
      "source": [
        "iv = hypershap.tunability(baseline_config=baseline_config)\n",
        "print(iv)"
      ],
      "outputs": [
        {
          "name": "stdout",
          "output_type": "stream",
          "text": [
            "InteractionValues(\n",
            "    index=FSII, max_order=2, min_order=0, estimated=False, estimation_budget=None,\n",
            "    n_players=3, baseline_value=0.0,\n",
            "    Top 10 interactions:\n",
            "        (1, 2): 4.229372493972038\n",
            "        (2,): 4.215182872184135\n",
            "        (1,): 1.76799500382034\n",
            "        (0, 2): 1.1128455781645781e-11\n",
            "        (0, 1): 1.1124014889547281e-11\n",
            "        (): 0.0\n",
            "        (0,): -1.8539039717895034e-11\n",
            ")\n"
          ]
        }
      ],
      "execution_count": 3
    },
    {
      "cell_type": "markdown",
      "id": "9c0b58a6ff43f6f1",
      "metadata": {},
      "source": [
        "## Plot Shapley Interactions Graph\n",
        "\n",
        "Now that we have determined the interaction values of the ablation game, let us look into some visualizations of the scenario above."
      ]
    },
    {
      "cell_type": "code",
      "id": "27ff3fe327082acf",
      "metadata": {
        "ExecuteTime": {
          "end_time": "2025-08-14T08:12:26.790240Z",
          "start_time": "2025-08-14T08:12:26.728764Z"
        }
      },
      "source": [
        "hypershap.plot_si_graph()"
      ],
      "outputs": [
        {
          "data": {
            "text/plain": [
              "<Figure size 700x700 with 1 Axes>"
            ],
            "image/png": "[encoded data removed]"
          },
          "metadata": {},
          "output_type": "display_data"
        }
      ],
      "execution_count": 4
    }
  ],
  "metadata": {
    "kernelspec": {
      "display_name": "Python 3",
      "language": "python",
      "name": "python3"
    },
    "language_info": {
      "codemirror_mode": {
        "name": "ipython",
        "version": 2
      },
      "file_extension": ".py",
      "mimetype": "text/x-python",
      "name": "python",
      "nbconvert_exporter": "python",
      "pygments_lexer": "ipython2",
      "version": "2.7.6"
    }
  },
  "nbformat": 4,
  "nbformat_minor": 5
}
