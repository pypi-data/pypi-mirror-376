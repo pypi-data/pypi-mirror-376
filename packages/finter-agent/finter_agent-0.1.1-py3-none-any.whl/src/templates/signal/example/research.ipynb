{
 "cells": [
  {
   "cell_type": "code",
   "execution_count": null,
   "metadata": {},
   "outputs": [],
   "source": [
    "import warnings\n",
    "\n",
    "warnings.filterwarnings(\"ignore\", category=FutureWarning)\n",
    "\n",
    "from am import Alpha"
   ]
  },
  {
   "cell_type": "markdown",
   "metadata": {},
   "source": [
    "# Initialize the Alpha strategy"
   ]
  },
  {
   "cell_type": "code",
   "execution_count": null,
   "metadata": {},
   "outputs": [],
   "source": [
    "signal = Alpha()"
   ]
  },
  {
   "cell_type": "markdown",
   "metadata": {},
   "source": [
    "# Run initial backtest for the full period"
   ]
  },
  {
   "cell_type": "code",
   "execution_count": null,
   "metadata": {},
   "outputs": [],
   "source": [
    "print(\"Running initial backtest...\")\n",
    "result = signal.backtest(start=20180101, end=20231231)"
   ]
  },
  {
   "cell_type": "markdown",
   "metadata": {},
   "source": [
    "# Display key performance metrics"
   ]
  },
  {
   "cell_type": "code",
   "execution_count": null,
   "metadata": {},
   "outputs": [],
   "source": [
    "print(\"\\nPerformance Summary:\")\n",
    "result.performance"
   ]
  },
  {
   "cell_type": "code",
   "execution_count": null,
   "metadata": {},
   "outputs": [],
   "source": [
    "import matplotlib.pyplot as plt\n",
    "\n",
    "# Plot the NAV curve\n",
    "plt.figure(figsize=(12, 6))\n",
    "result.summary.nav.plot(\n",
    "    title=\"Alpha Strategy Performance\", xlabel=\"Date\", ylabel=\"Cumulative NAV\"\n",
    ")\n",
    "plt.grid(True, alpha=0.3)\n",
    "plt.show()"
   ]
  },
  {
   "cell_type": "markdown",
   "metadata": {},
   "source": [
    "# Explore greedy"
   ]
  },
  {
   "cell_type": "code",
   "execution_count": null,
   "metadata": {},
   "outputs": [],
   "source": [
    "import multiprocessing\n",
    "\n",
    "import matplotlib.pyplot as plt\n",
    "\n",
    "# Set multiprocessing method for compatibility\n",
    "multiprocessing.set_start_method(\"fork\", force=True)\n",
    "\n",
    "print(\"Starting parameter optimization...\")\n",
    "print(\n",
    "    \"This will test different parameter combinations to find the best performing setup.\"\n",
    ")\n",
    "\n",
    "# Run greedy parameter exploration\n",
    "stat, nav, selected, selected_points = signal.explore_greedy(\n",
    "    start=20180101,\n",
    "    end=20231231,\n",
    ")\n",
    "\n",
    "print(\"\\nOptimization Results:\")\n",
    "print(f\"Best parameters: {selected}\")\n",
    "print(f\"Selected points: {selected_points}\")\n",
    "\n",
    "# Plot optimized NAV\n",
    "plt.figure(figsize=(12, 6))\n",
    "nav.plot(\n",
    "    title=\"Optimized Alpha Strategy Performance\", xlabel=\"Date\", ylabel=\"Cumulative NAV\"\n",
    ")\n",
    "plt.grid(True, alpha=0.3)\n",
    "plt.show()"
   ]
  }
 ],
 "metadata": {
  "kernelspec": {
   "display_name": ".venv",
   "language": "python",
   "name": "python3"
  },
  "language_info": {
   "codemirror_mode": {
    "name": "ipython",
    "version": 3
   },
   "file_extension": ".py",
   "mimetype": "text/x-python",
   "name": "python",
   "nbconvert_exporter": "python",
   "pygments_lexer": "ipython3",
   "version": "3.13.7"
  }
 },
 "nbformat": 4,
 "nbformat_minor": 4
}
