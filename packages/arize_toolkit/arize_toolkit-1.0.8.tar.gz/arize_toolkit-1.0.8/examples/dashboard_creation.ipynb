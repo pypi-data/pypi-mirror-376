{
 "cells": [
  {
   "cell_type": "markdown",
   "metadata": {},
   "source": [
    "# Creating Model Volume Dashboards\n",
    "\n",
    "This example demonstrates how to create a dashboard with model volume widgets using the Arize Toolkit. The dashboard will display prediction volume metrics for all models in your space.\n",
    "\n",
    "## What this example does:\n",
    "\n",
    "1. **Sets up the client**: Connects to your Arize organization and space using environment variables\n",
    "2. **Creates a dashboard**: Generates a new dashboard with a descriptive name\n",
    "3. **Adds volume widgets**: Automatically creates line chart widgets for each model showing prediction volume over time\n",
    "4. **Returns the URL**: Provides the direct link to view your new dashboard\n",
    "\n",
    "## Key features:\n",
    "\n",
    "- **Automatic model detection**: Finds all models in your space and creates widgets for each one\n",
    "- **Volume metrics**: Shows prediction count over time for monitoring model usage\n",
    "- **Production environment**: Focuses on production model data by default\n",
    "- **Error handling**: Gracefully skips models that can't be monitored or have issues\n",
    "\n",
    "## This is useful for:\n",
    "- Monitoring model usage patterns\n",
    "- Identifying which models are most active\n",
    "- Creating operational dashboards for model observability\n",
    "- Tracking prediction volume trends over time"
   ]
  },
  {
   "cell_type": "code",
   "execution_count": null,
   "metadata": {},
   "outputs": [],
   "source": [
    "## Install the package - only needed if running from the same directory as the package\n",
    "# uv add -e .\n",
    "\n",
    "## Install the package from pip (if not running from the same directory as the package)\n",
    "pip install arize_toolkit"
   ]
  },
  {
   "cell_type": "markdown",
   "metadata": {},
   "source": [
    "## Setup\n",
    "\n",
    "Before running this example, you need to set up your environment variables. Create a `.env` file in your project directory with the following variables:\n",
    " \n",
    "```bash\n",
    "ARIZE_DEVELOPER_KEY=your_developer_key_here\n",
    "ORGANIZATION_NAME=your_organization_name\n",
    "SPACE_NAME=your_space_name\n",
    "```\n",
    " \n",
    "### Getting Your Credentials\n",
    " \n",
    "1. **Developer Key**: Get your Arize developer key from the [Arize Platform](https://app.arize.com/account)\n",
    "2. **Organization Name**: This is your Arize organization name \n",
    "3. **Space Name**: This is the space within your organization where your models are located \n",
    " \n",
    "### Documentation\n",
    " \n",
    "For more information about setup and authentication, see:\n",
    " - [Quick Start Guide](https://duncankmckinnon.github.io/arize_toolkit/quickstart/)\n"
   ]
  },
  {
   "cell_type": "code",
   "execution_count": 2,
   "metadata": {},
   "outputs": [],
   "source": [
    "import os\n",
    "from dotenv import load_dotenv\n",
    "from arize_toolkit import Client\n",
    "\n",
    "# Load the environment variables from the .env file\n",
    "load_dotenv()\n",
    "\n",
    "client = Client(\n",
    "    arize_developer_key=os.getenv(\"ARIZE_DEVELOPER_KEY\"),\n",
    "    organization=os.getenv(\"ORGANIZATION_NAME\", \"your_organization_name\"),\n",
    "    space=os.getenv(\"SPACE_NAME\", \"your_space_name\"),\n",
    ")"
   ]
  },
  {
   "cell_type": "code",
   "execution_count": null,
   "metadata": {},
   "outputs": [],
   "source": [
    "# Just run this cell to create a dashboard with model volume widgets\n",
    "client.create_model_volume_dashboard(f\"{client.space_name} Model Volume Dashboard\")"
   ]
  }
 ],
 "metadata": {
  "kernelspec": {
   "display_name": ".venv",
   "language": "python",
   "name": "python3"
  },
  "language_info": {
   "codemirror_mode": {
    "name": "ipython",
    "version": 3
   },
   "file_extension": ".py",
   "mimetype": "text/x-python",
   "name": "python",
   "nbconvert_exporter": "python",
   "pygments_lexer": "ipython3",
   "version": "3.10.12"
  }
 },
 "nbformat": 4,
 "nbformat_minor": 2
}
