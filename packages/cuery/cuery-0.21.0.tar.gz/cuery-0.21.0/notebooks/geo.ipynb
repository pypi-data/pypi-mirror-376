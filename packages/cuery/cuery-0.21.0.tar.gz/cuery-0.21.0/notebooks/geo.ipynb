{
 "cells": [
  {
   "cell_type": "code",
   "execution_count": null,
   "id": "e569d56a",
   "metadata": {},
   "outputs": [],
   "source": [
    "import importlib\n",
    "from pprint import pprint\n",
    "\n",
    "from cuery import search\n",
    "from cuery.seo import geo\n",
    "from cuery.utils import set_env\n",
    "\n",
    "importlib.reload(search)\n",
    "\n",
    "set_env(apify_secrets=False)"
   ]
  },
  {
   "cell_type": "code",
   "execution_count": null,
   "id": "66467d10",
   "metadata": {},
   "outputs": [],
   "source": [
    "resp = await search.query_deepseek(\n",
    "    prompt=\"Mejores SUVs en España 2025 precio-calidad\",\n",
    "    model=\"deepseek-chat\",\n",
    "    use_search=True,\n",
    "    validate=True,\n",
    ")\n",
    "\n",
    "print(resp)\n",
    "print(resp.references)"
   ]
  },
  {
   "cell_type": "code",
   "execution_count": null,
   "id": "696ce498",
   "metadata": {},
   "outputs": [],
   "source": [
    "int(6 / 20)"
   ]
  },
  {
   "cell_type": "markdown",
   "id": "0983e6ad",
   "metadata": {},
   "source": [
    "# LLM prompting with web search"
   ]
  },
  {
   "cell_type": "code",
   "execution_count": null,
   "id": "6d7bd1fe",
   "metadata": {},
   "outputs": [],
   "source": [
    "# model = \"openai/gpt-4.1-mini\"\n",
    "model = \"google/gemini-2.5-flash\"\n",
    "# model = \"xai/grok-3\"\n",
    "# model = \"deepseek/deepseek-chat\"\n",
    "\n",
    "prompts = [\n",
    "    \"Mejores SUVs en España 2025 precio-calidad\",\n",
    "    \"Cuáles son los mejores SUVs chinos dispnibles en España 2025\",\n",
    "]\n",
    "\n",
    "responses = await search.query(prompts, model=model, max_concurrent=10, use_search=True)\n",
    "responses.to_pandas()"
   ]
  },
  {
   "cell_type": "markdown",
   "id": "6135c8dd",
   "metadata": {},
   "source": [
    "# Competitor extraction"
   ]
  },
  {
   "cell_type": "code",
   "execution_count": null,
   "id": "f2f92928",
   "metadata": {},
   "outputs": [],
   "source": [
    "importlib.reload(geo)\n",
    "\n",
    "competitors = await geo.find_competitors(\n",
    "    brands=[\"BYD\"],\n",
    "    sector=\"automotive\",\n",
    "    market=\"Spain\",\n",
    "    max_count=5,\n",
    ")\n",
    "competitors"
   ]
  },
  {
   "cell_type": "code",
   "execution_count": null,
   "id": "bed5ae28",
   "metadata": {},
   "outputs": [],
   "source": [
    "competitors = [\"toyota\", \"kia\", \"mg\", \"renault\", \"omoda\"]"
   ]
  },
  {
   "cell_type": "code",
   "execution_count": null,
   "id": "e1e27372",
   "metadata": {},
   "outputs": [],
   "source": [
    "from cuery.seo import geo\n",
    "\n",
    "importlib.reload(geo)\n",
    "\n",
    "prompts = await geo.commercial_prompts(\n",
    "    n=10,\n",
    "    language=\"en\",\n",
    "    sector=None,  # \"automotive\",\n",
    "    market=None,  # \"Spain\",\n",
    "    brands=[\"BYD\"] + competitors,\n",
    "    include_brands=\"never\",\n",
    ")\n",
    "\n",
    "pprint(prompts)"
   ]
  },
  {
   "cell_type": "code",
   "execution_count": null,
   "id": "e69fe44e",
   "metadata": {},
   "outputs": [],
   "source": [
    "importlib.reload(search)\n",
    "importlib.reload(geo)\n",
    "\n",
    "use_search = False\n",
    "models = [\"openai/gpt-4.1\", \"google/gemini-2.5-flash\"]\n",
    "# models = [\"deepseek/deepseek-chat\"]\n",
    "\n",
    "df = await geo.query_with_models(prompts, models, use_search=use_search)\n",
    "df"
   ]
  },
  {
   "cell_type": "code",
   "execution_count": null,
   "id": "c3b817c8",
   "metadata": {},
   "outputs": [],
   "source": [
    "df.to_parquet(\"geo_results.parquet\", index=False)"
   ]
  },
  {
   "cell_type": "code",
   "execution_count": null,
   "id": "1fb7e1c8",
   "metadata": {},
   "outputs": [],
   "source": [
    "df = df[[col for col in df if not any(x in col for x in (\"_ranks\", \"_pos\"))]].copy()\n",
    "df"
   ]
  },
  {
   "cell_type": "code",
   "execution_count": null,
   "id": "dc557419",
   "metadata": {},
   "outputs": [],
   "source": [
    "importlib.reload(geo)\n",
    "\n",
    "df2 = geo.add_brand_ranks(\n",
    "    df,\n",
    "    brands=[\"Opel\", \"Dacia\", \"BYD\", \"Kia\", \"Renault\", \"MG\", \"Omoda\", \"Jaecoo\"],\n",
    ")\n",
    "df2"
   ]
  },
  {
   "cell_type": "markdown",
   "id": "7cd02778",
   "metadata": {},
   "source": [
    "# All-in-one"
   ]
  },
  {
   "cell_type": "code",
   "execution_count": null,
   "id": "fcaa23ac",
   "metadata": {},
   "outputs": [],
   "source": [
    "importlib.reload(geo)\n",
    "\n",
    "\n",
    "async def callback(progress: dict):\n",
    "    n = progress.get(\"n\", 0)\n",
    "    total = progress.get(\"total\", \"?\")\n",
    "    print(f\"Processed: {n}/{total} rows.\")\n",
    "\n",
    "\n",
    "res = await geo.query_with_models(\n",
    "    prompts=[\"best electric SUVs for families in 2024\", \"best electric SUVs under $50,000\"],\n",
    "    models=[\"openai/gpt-4.1\", \"google/gemini-2.5-flash\"],\n",
    "    use_search=True,\n",
    "    progress_callback=callback,\n",
    ")"
   ]
  },
  {
   "cell_type": "code",
   "execution_count": null,
   "id": "c3af3ec9",
   "metadata": {},
   "outputs": [],
   "source": [
    "importlib.reload(geo)\n",
    "\n",
    "params = {\n",
    "    \"models\": [\"openai/gpt-4.1\", \"google/gemini-2.5-flash\", \"deepseek/deepseek-chat\"],\n",
    "    \"prompts_seed\": [\"best electric SUVs for families in 2024\"],\n",
    "    \"prompts_max\": 10,\n",
    "    \"prompts_language\": \"English\",\n",
    "    \"brands_seed\": [\"Peugeot\"],\n",
    "    \"brands_max\": 10,\n",
    "    \"brands_model\": \"openai/gpt-4.1\",\n",
    "    \"brands_in_prompt\": \"never\",\n",
    "    \"sector\": \"automotive\",\n",
    "    \"market\": \"Spain\",\n",
    "    \"use_search\": True,\n",
    "}\n",
    "\n",
    "cfg = geo.GeoConfig(**params)\n",
    "print(cfg)\n",
    "\n",
    "result = await geo.analyse(cfg)\n",
    "result"
   ]
  }
 ],
 "metadata": {
  "kernelspec": {
   "display_name": "cuery (3.11.13)",
   "language": "python",
   "name": "python3"
  },
  "language_info": {
   "codemirror_mode": {
    "name": "ipython",
    "version": 3
   },
   "file_extension": ".py",
   "mimetype": "text/x-python",
   "name": "python",
   "nbconvert_exporter": "python",
   "pygments_lexer": "ipython3",
   "version": "3.11.13"
  }
 },
 "nbformat": 4,
 "nbformat_minor": 5
}
