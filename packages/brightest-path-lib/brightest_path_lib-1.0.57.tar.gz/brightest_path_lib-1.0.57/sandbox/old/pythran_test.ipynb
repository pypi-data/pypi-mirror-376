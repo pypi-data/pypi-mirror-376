{
 "cells": [
  {
   "cell_type": "code",
   "execution_count": 41,
   "metadata": {},
   "outputs": [],
   "source": [
    "from brightest_path_lib.cost import Cost, Reciprocal\n",
    "\n",
    "from transonic import boost"
   ]
  },
  {
   "cell_type": "code",
   "execution_count": 42,
   "metadata": {},
   "outputs": [],
   "source": [
    "@boost\n",
    "class FastReciprocal(Cost):\n",
    "\n",
    "    min_intensity: float\n",
    "    max_intensity: float\n",
    "    RECIPROCAL_MIN: float\n",
    "    RECIPROCAL_MAX: float\n",
    "    _min_step_cost: float\n",
    "\n",
    "    def __init__(self, min_intensity: float, max_intensity: float) -> None:\n",
    "        super().__init__()\n",
    "        if min_intensity is None or max_intensity is None:\n",
    "            raise TypeError\n",
    "        if min_intensity > max_intensity:\n",
    "            raise ValueError\n",
    "        self.min_intensity = min_intensity\n",
    "        self.max_intensity = max_intensity\n",
    "        self.RECIPROCAL_MIN = 1E-6\n",
    "        self.RECIPROCAL_MAX = 255.0\n",
    "        self._min_step_cost = 1 / self.RECIPROCAL_MAX\n",
    "        \n",
    "    @boost\n",
    "    def cost_of_moving_to(self, intensity_at_new_point: float) -> float:\n",
    "        if intensity_at_new_point > self.max_intensity:\n",
    "            raise ValueError\n",
    "\n",
    "        intensity_at_new_point = self.RECIPROCAL_MAX * (intensity_at_new_point - self.min_intensity) / (self.max_intensity - self.min_intensity)\n",
    "\n",
    "        if intensity_at_new_point < self.RECIPROCAL_MIN:\n",
    "            intensity_at_new_point = self.RECIPROCAL_MIN\n",
    "        \n",
    "        return 1.0 / intensity_at_new_point\n",
    "    \n",
    "    @boost\n",
    "    def minimum_step_cost(self) -> float:\n",
    "        return self._min_step_cost\n"
   ]
  },
  {
   "cell_type": "code",
   "execution_count": 43,
   "metadata": {},
   "outputs": [
    {
     "name": "stdout",
     "output_type": "stream",
     "text": [
      "1.3 µs ± 109 ns per loop (mean ± std. dev. of 7 runs, 45,554 loops each)\n"
     ]
    }
   ],
   "source": [
    "%%timeit -n45554\n",
    "\n",
    "fr = FastReciprocal(0, 10000)\n",
    "\n",
    "fr.cost_of_moving_to(100)\n",
    "fr.minimum_step_cost()"
   ]
  },
  {
   "cell_type": "code",
   "execution_count": 44,
   "metadata": {},
   "outputs": [
    {
     "name": "stdout",
     "output_type": "stream",
     "text": [
      "1.35 µs ± 147 ns per loop (mean ± std. dev. of 7 runs, 45,554 loops each)\n"
     ]
    }
   ],
   "source": [
    "%%timeit -n45554\n",
    "\n",
    "r = Reciprocal(0, 10000)\n",
    "\n",
    "r.cost_of_moving_to(100)\n",
    "r.minimum_step_cost()"
   ]
  }
 ],
 "metadata": {
  "kernelspec": {
   "display_name": "cudmorelab3.8",
   "language": "python",
   "name": "python3"
  },
  "language_info": {
   "codemirror_mode": {
    "name": "ipython",
    "version": 3
   },
   "file_extension": ".py",
   "mimetype": "text/x-python",
   "name": "python",
   "nbconvert_exporter": "python",
   "pygments_lexer": "ipython3",
   "version": "3.8.12"
  },
  "orig_nbformat": 4,
  "vscode": {
   "interpreter": {
    "hash": "d10ee8d44f5c0a7cb50271f8411c55c4fd1535f2289c64976b55c3ed75b77fcd"
   }
  }
 },
 "nbformat": 4,
 "nbformat_minor": 2
}
