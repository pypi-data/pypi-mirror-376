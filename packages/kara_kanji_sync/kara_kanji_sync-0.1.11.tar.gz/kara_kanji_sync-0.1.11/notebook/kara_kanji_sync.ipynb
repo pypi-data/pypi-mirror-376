{
 "cells": [
  {
   "metadata": {
    "ExecuteTime": {
     "end_time": "2025-08-23T08:39:51.660823Z",
     "start_time": "2025-08-23T08:39:50.897435Z"
    }
   },
   "cell_type": "code",
   "source": "",
   "id": "a993b4c7c1f4d4ce",
   "outputs": [
    {
     "name": "stdout",
     "output_type": "stream",
     "text": [
      "Requirement already satisfied: kara_kanji_sync in /home/louisq/Documents/kara-kanji-sync (0.1.0)\n",
      "Requirement already satisfied: cutlet>=0.5.0 in /home/louisq/Documents/kara-kanji-sync/.venv/lib/python3.13/site-packages (from kara_kanji_sync) (0.5.0)\n",
      "Requirement already satisfied: jisho-api>=0.1.8 in /home/louisq/Documents/kara-kanji-sync/.venv/lib/python3.13/site-packages (from kara_kanji_sync) (0.1.8)\n",
      "Requirement already satisfied: mecab-python3>=1.0.10 in /home/louisq/Documents/kara-kanji-sync/.venv/lib/python3.13/site-packages (from kara_kanji_sync) (1.0.10)\n",
      "Requirement already satisfied: pykakasi>=2.3.0 in /home/louisq/Documents/kara-kanji-sync/.venv/lib/python3.13/site-packages (from kara_kanji_sync) (2.3.0)\n",
      "Requirement already satisfied: pysubs2>=1.8.0 in /home/louisq/Documents/kara-kanji-sync/.venv/lib/python3.13/site-packages (from kara_kanji_sync) (1.8.0)\n",
      "Requirement already satisfied: unidic-lite>=1.0.8 in /home/louisq/Documents/kara-kanji-sync/.venv/lib/python3.13/site-packages (from kara_kanji_sync) (1.0.8)\n",
      "Requirement already satisfied: wanakana-python>=1.2.2 in /home/louisq/Documents/kara-kanji-sync/.venv/lib/python3.13/site-packages (from kara_kanji_sync) (1.2.2)\n",
      "Requirement already satisfied: jaconv in /home/louisq/Documents/kara-kanji-sync/.venv/lib/python3.13/site-packages (from cutlet>=0.5.0->kara_kanji_sync) (0.4.0)\n",
      "Requirement already satisfied: fugashi in /home/louisq/Documents/kara-kanji-sync/.venv/lib/python3.13/site-packages (from cutlet>=0.5.0->kara_kanji_sync) (1.5.1)\n",
      "Requirement already satisfied: mojimoji in /home/louisq/Documents/kara-kanji-sync/.venv/lib/python3.13/site-packages (from cutlet>=0.5.0->kara_kanji_sync) (0.0.13)\n",
      "Requirement already satisfied: bs4<0.0.2,>=0.0.1 in /home/louisq/Documents/kara-kanji-sync/.venv/lib/python3.13/site-packages (from jisho-api>=0.1.8->kara_kanji_sync) (0.0.1)\n",
      "Requirement already satisfied: click<9.0.0,>=8.0.1 in /home/louisq/Documents/kara-kanji-sync/.venv/lib/python3.13/site-packages (from jisho-api>=0.1.8->kara_kanji_sync) (8.2.1)\n",
      "Requirement already satisfied: pydantic<2.0.0,>=1.8.2 in /home/louisq/Documents/kara-kanji-sync/.venv/lib/python3.13/site-packages (from jisho-api>=0.1.8->kara_kanji_sync) (1.10.22)\n",
      "Requirement already satisfied: requests<3.0.0,>=2.26.0 in /home/louisq/Documents/kara-kanji-sync/.venv/lib/python3.13/site-packages (from jisho-api>=0.1.8->kara_kanji_sync) (2.32.4)\n",
      "Requirement already satisfied: rich<11.0.0,>=10.11.0 in /home/louisq/Documents/kara-kanji-sync/.venv/lib/python3.13/site-packages (from jisho-api>=0.1.8->kara_kanji_sync) (10.16.2)\n",
      "Requirement already satisfied: deprecated in /home/louisq/Documents/kara-kanji-sync/.venv/lib/python3.13/site-packages (from pykakasi>=2.3.0->kara_kanji_sync) (1.2.18)\n",
      "Requirement already satisfied: beautifulsoup4 in /home/louisq/Documents/kara-kanji-sync/.venv/lib/python3.13/site-packages (from bs4<0.0.2,>=0.0.1->jisho-api>=0.1.8->kara_kanji_sync) (4.13.4)\n",
      "Requirement already satisfied: typing-extensions>=4.2.0 in /home/louisq/Documents/kara-kanji-sync/.venv/lib/python3.13/site-packages (from pydantic<2.0.0,>=1.8.2->jisho-api>=0.1.8->kara_kanji_sync) (4.14.1)\n",
      "Requirement already satisfied: charset_normalizer<4,>=2 in /home/louisq/Documents/kara-kanji-sync/.venv/lib/python3.13/site-packages (from requests<3.0.0,>=2.26.0->jisho-api>=0.1.8->kara_kanji_sync) (3.4.2)\n",
      "Requirement already satisfied: idna<4,>=2.5 in /home/louisq/Documents/kara-kanji-sync/.venv/lib/python3.13/site-packages (from requests<3.0.0,>=2.26.0->jisho-api>=0.1.8->kara_kanji_sync) (3.10)\n",
      "Requirement already satisfied: urllib3<3,>=1.21.1 in /home/louisq/Documents/kara-kanji-sync/.venv/lib/python3.13/site-packages (from requests<3.0.0,>=2.26.0->jisho-api>=0.1.8->kara_kanji_sync) (2.5.0)\n",
      "Requirement already satisfied: certifi>=2017.4.17 in /home/louisq/Documents/kara-kanji-sync/.venv/lib/python3.13/site-packages (from requests<3.0.0,>=2.26.0->jisho-api>=0.1.8->kara_kanji_sync) (2025.7.14)\n",
      "Requirement already satisfied: colorama<0.5.0,>=0.4.0 in /home/louisq/Documents/kara-kanji-sync/.venv/lib/python3.13/site-packages (from rich<11.0.0,>=10.11.0->jisho-api>=0.1.8->kara_kanji_sync) (0.4.6)\n",
      "Requirement already satisfied: commonmark<0.10.0,>=0.9.0 in /home/louisq/Documents/kara-kanji-sync/.venv/lib/python3.13/site-packages (from rich<11.0.0,>=10.11.0->jisho-api>=0.1.8->kara_kanji_sync) (0.9.1)\n",
      "Requirement already satisfied: pygments<3.0.0,>=2.6.0 in /home/louisq/Documents/kara-kanji-sync/.venv/lib/python3.13/site-packages (from rich<11.0.0,>=10.11.0->jisho-api>=0.1.8->kara_kanji_sync) (2.19.2)\n",
      "Requirement already satisfied: wrapt<2,>=1.10 in /home/louisq/Documents/kara-kanji-sync/.venv/lib/python3.13/site-packages (from deprecated->pykakasi>=2.3.0->kara_kanji_sync) (1.17.2)\n",
      "Requirement already satisfied: soupsieve>1.2 in /home/louisq/Documents/kara-kanji-sync/.venv/lib/python3.13/site-packages (from beautifulsoup4->bs4<0.0.2,>=0.0.1->jisho-api>=0.1.8->kara_kanji_sync) (2.7)\n"
     ]
    },
    {
     "name": "stderr",
     "output_type": "stream",
     "text": [
      "\n",
      "\u001B[1m[\u001B[0m\u001B[34;49mnotice\u001B[0m\u001B[1;39;49m]\u001B[0m\u001B[39;49m A new release of pip is available: \u001B[0m\u001B[31;49m24.3.1\u001B[0m\u001B[39;49m -> \u001B[0m\u001B[32;49m25.2\u001B[0m\n",
      "\u001B[1m[\u001B[0m\u001B[34;49mnotice\u001B[0m\u001B[1;39;49m]\u001B[0m\u001B[39;49m To update, run: \u001B[0m\u001B[32;49mpip install --upgrade pip\u001B[0m\n"
     ]
    }
   ],
   "execution_count": 3
  },
  {
   "metadata": {},
   "cell_type": "markdown",
   "source": "",
   "id": "7f9a8ae07dcb1183"
  },
  {
   "metadata": {
    "ExecuteTime": {
     "end_time": "2025-08-30T18:43:09.439041Z",
     "start_time": "2025-08-30T18:43:09.356294Z"
    }
   },
   "cell_type": "code",
   "source": [
    "from IPython.display import display\n",
    "from IPython.core.display import HTML\n",
    "from ipywidgets import Layout, Textarea, HBox\n",
    "\n",
    "lyrics = [\"gfdfgdfg\", \"fdgfdg\", \"dfgdfg\", \"dfgdfg\",\"dfgdfg\", \"fdgdfgdfgい\"]\n",
    "lines = \"\\n\".join(lyrics)\n",
    "line_numbers = \"\\n\".join(str(i) for i in range(1, 60))\n",
    "height = 60 * 20\n",
    "lyrics_area = Textarea(layout=Layout(width=\"40%\", height=f\"{height}px\"))\n",
    "number_area = Textarea(layout=Layout(width=\"3em\", height=f\"{height}px\"), value=line_numbers, disabled=True)\n",
    "subs_lyrics_output = Textarea(\n",
    "    layout=Layout(width=\"40%\", height=f\"{height}px\"),\n",
    "    value=lines,\n",
    "    disabled=True\n",
    ")\n",
    "\n",
    "display(HTML(\"<style>textarea, input {font-family: times new roman;}</style>}\"))\n",
    "display(HBox([lyrics_area, number_area, subs_lyrics_output]))"
   ],
   "id": "e8dc83352582c26f",
   "outputs": [
    {
     "data": {
      "text/plain": [
       "<IPython.core.display.HTML object>"
      ],
      "text/html": [
       "<style>textarea, input {font-family: times new roman;}</style>}"
      ]
     },
     "metadata": {},
     "output_type": "display_data"
    },
    {
     "data": {
      "text/plain": [
       "HBox(children=(Textarea(value='', layout=Layout(height='1200px', width='40%')), Textarea(value='1\\n2\\n3\\n4\\n5\\…"
      ],
      "application/vnd.jupyter.widget-view+json": {
       "version_major": 2,
       "version_minor": 0,
       "model_id": "83fdb603c68044319106f5b341b77d68"
      }
     },
     "metadata": {},
     "output_type": "display_data"
    }
   ],
   "execution_count": 1
  }
 ],
 "metadata": {
  "kernelspec": {
   "display_name": "Python 3",
   "language": "python",
   "name": "python3"
  },
  "language_info": {
   "codemirror_mode": {
    "name": "ipython",
    "version": 2
   },
   "file_extension": ".py",
   "mimetype": "text/x-python",
   "name": "python",
   "nbconvert_exporter": "python",
   "pygments_lexer": "ipython2",
   "version": "2.7.6"
  }
 },
 "nbformat": 4,
 "nbformat_minor": 5
}
