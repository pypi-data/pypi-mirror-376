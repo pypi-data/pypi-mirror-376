{
 "cells": [
  {
   "cell_type": "code",
   "execution_count": 1,
   "id": "0c2dfaec",
   "metadata": {},
   "outputs": [],
   "source": [
    "from orcapod.execution_engines import RayEngine\n",
    "import orcapod as op\n",
    "import pyarrow as pa"
   ]
  },
  {
   "cell_type": "code",
   "execution_count": 2,
   "id": "9e1f338b",
   "metadata": {},
   "outputs": [
    {
     "name": "stderr",
     "output_type": "stream",
     "text": [
      "2025-08-10 23:27:14,560\tINFO client_builder.py:242 -- Passing the following kwargs to ray.init() on the server: log_to_driver\n",
      "SIGTERM handler is not set because current thread is not the main thread.\n",
      "2025-08-10 23:27:17,455\tWARNING utils.py:1280 -- Python patch version mismatch: The cluster was started with:\n",
      "    Ray: 2.48.0\n",
      "    Python: 3.13.5\n",
      "This process on Ray Client was started with:\n",
      "    Ray: 2.48.0\n",
      "    Python: 3.13.3\n",
      "\n"
     ]
    },
    {
     "name": "stdout",
     "output_type": "stream",
     "text": [
      "\u001b[36m(autoscaler +28s)\u001b[0m Tip: use `ray status` to view detailed cluster status. To disable these messages, set RAY_SCHEDULER_EVENTS=0.\n",
      "\u001b[36m(autoscaler +28s)\u001b[0m Adding 5 node(s) of type workergroup.\n",
      "\u001b[36m(autoscaler +28s)\u001b[0m Resized to 6 CPUs, 5 GPUs.\n",
      "\u001b[36m(autoscaler +28s)\u001b[0m No available node types can fulfill resource requests {'CPU': 1.0}*44. Add suitable node types to this cluster to resolve this issue.\n",
      "\u001b[36m(autoscaler +34s)\u001b[0m No available node types can fulfill resource requests {'CPU': 1.0}*22. Add suitable node types to this cluster to resolve this issue.\n",
      "\u001b[36m(autoscaler +49s)\u001b[0m No available node types can fulfill resource requests {'CPU': 1.0}*11. Add suitable node types to this cluster to resolve this issue.\n",
      "\u001b[36m(autoscaler +55s)\u001b[0m No available node types can fulfill resource requests {'CPU': 1.0}*22. Add suitable node types to this cluster to resolve this issue.\n",
      "\u001b[36m(autoscaler +1m0s)\u001b[0m No available node types can fulfill resource requests {'CPU': 1.0}*27. Add suitable node types to this cluster to resolve this issue.\n",
      "\u001b[36m(autoscaler +1m10s)\u001b[0m No available node types can fulfill resource requests {'CPU': 1.0}*6. Add suitable node types to this cluster to resolve this issue.\n"
     ]
    }
   ],
   "source": [
    "ray_engine = RayEngine(\n",
    "    \"ray://raycluster-op-test-kuberay-head-svc.ray.svc.cluster.local:10001\"\n",
    ")"
   ]
  },
  {
   "cell_type": "code",
   "execution_count": 3,
   "id": "64a4e7d9",
   "metadata": {},
   "outputs": [],
   "source": [
    "input_stream = op.streams.TableStream(\n",
    "    pa.Table.from_pylist([{\"id\": i, \"x\": i * 2, \"y\": i * 3} for i in range(50)]),\n",
    "    tag_columns=[\"id\"],\n",
    ")"
   ]
  },
  {
   "cell_type": "code",
   "execution_count": 4,
   "id": "63c692df",
   "metadata": {},
   "outputs": [],
   "source": [
    "from pathlib import Path\n",
    "\n",
    "\n",
    "@op.function_pod(\"sum\")\n",
    "def add_numbers(x: int, y: int) -> int:\n",
    "    \"\"\"\n",
    "    A simple function that adds two numbers.\n",
    "    \"\"\"\n",
    "    import time\n",
    "\n",
    "    time.sleep(0.2)\n",
    "    return x + y"
   ]
  },
  {
   "cell_type": "markdown",
   "id": "52c36a2a",
   "metadata": {},
   "source": [
    "First run synchronously"
   ]
  },
  {
   "cell_type": "code",
   "execution_count": 5,
   "id": "4e12bab5",
   "metadata": {},
   "outputs": [
    {
     "data": {
      "text/html": [
       "<div><style>\n",
       ".dataframe > thead > tr,\n",
       ".dataframe > tbody > tr {\n",
       "  text-align: right;\n",
       "  white-space: pre-wrap;\n",
       "}\n",
       "</style>\n",
       "<small>shape: (50, 2)</small><table border=\"1\" class=\"dataframe\"><thead><tr><th>id</th><th>sum</th></tr><tr><td>i64</td><td>i64</td></tr></thead><tbody><tr><td>0</td><td>0</td></tr><tr><td>1</td><td>5</td></tr><tr><td>2</td><td>10</td></tr><tr><td>3</td><td>15</td></tr><tr><td>4</td><td>20</td></tr><tr><td>&hellip;</td><td>&hellip;</td></tr><tr><td>45</td><td>225</td></tr><tr><td>46</td><td>230</td></tr><tr><td>47</td><td>235</td></tr><tr><td>48</td><td>240</td></tr><tr><td>49</td><td>245</td></tr></tbody></table></div>"
      ],
      "text/plain": [
       "shape: (50, 2)\n",
       "┌─────┬─────┐\n",
       "│ id  ┆ sum │\n",
       "│ --- ┆ --- │\n",
       "│ i64 ┆ i64 │\n",
       "╞═════╪═════╡\n",
       "│ 0   ┆ 0   │\n",
       "│ 1   ┆ 5   │\n",
       "│ 2   ┆ 10  │\n",
       "│ 3   ┆ 15  │\n",
       "│ 4   ┆ 20  │\n",
       "│ …   ┆ …   │\n",
       "│ 45  ┆ 225 │\n",
       "│ 46  ┆ 230 │\n",
       "│ 47  ┆ 235 │\n",
       "│ 48  ┆ 240 │\n",
       "│ 49  ┆ 245 │\n",
       "└─────┴─────┘"
      ]
     },
     "execution_count": 5,
     "metadata": {},
     "output_type": "execute_result"
    }
   ],
   "source": [
    "result_stream1 = add_numbers(input_stream)\n",
    "result_stream1.run()\n",
    "result_stream1.as_df()"
   ]
  },
  {
   "cell_type": "markdown",
   "id": "550b216d",
   "metadata": {},
   "source": [
    "Next we run using Ray engine"
   ]
  },
  {
   "cell_type": "code",
   "execution_count": 9,
   "id": "75ade620",
   "metadata": {},
   "outputs": [
    {
     "data": {
      "text/html": [
       "<div><style>\n",
       ".dataframe > thead > tr,\n",
       ".dataframe > tbody > tr {\n",
       "  text-align: right;\n",
       "  white-space: pre-wrap;\n",
       "}\n",
       "</style>\n",
       "<small>shape: (50, 2)</small><table border=\"1\" class=\"dataframe\"><thead><tr><th>id</th><th>sum</th></tr><tr><td>i64</td><td>i64</td></tr></thead><tbody><tr><td>0</td><td>0</td></tr><tr><td>1</td><td>5</td></tr><tr><td>2</td><td>10</td></tr><tr><td>3</td><td>15</td></tr><tr><td>4</td><td>20</td></tr><tr><td>&hellip;</td><td>&hellip;</td></tr><tr><td>45</td><td>225</td></tr><tr><td>46</td><td>230</td></tr><tr><td>47</td><td>235</td></tr><tr><td>48</td><td>240</td></tr><tr><td>49</td><td>245</td></tr></tbody></table></div>"
      ],
      "text/plain": [
       "shape: (50, 2)\n",
       "┌─────┬─────┐\n",
       "│ id  ┆ sum │\n",
       "│ --- ┆ --- │\n",
       "│ i64 ┆ i64 │\n",
       "╞═════╪═════╡\n",
       "│ 0   ┆ 0   │\n",
       "│ 1   ┆ 5   │\n",
       "│ 2   ┆ 10  │\n",
       "│ 3   ┆ 15  │\n",
       "│ 4   ┆ 20  │\n",
       "│ …   ┆ …   │\n",
       "│ 45  ┆ 225 │\n",
       "│ 46  ┆ 230 │\n",
       "│ 47  ┆ 235 │\n",
       "│ 48  ┆ 240 │\n",
       "│ 49  ┆ 245 │\n",
       "└─────┴─────┘"
      ]
     },
     "execution_count": 9,
     "metadata": {},
     "output_type": "execute_result"
    }
   ],
   "source": [
    "result_stream2 = add_numbers(input_stream)\n",
    "result_stream2.run(ray_engine)\n",
    "result_stream2.as_df()"
   ]
  },
  {
   "cell_type": "markdown",
   "id": "9440ecff",
   "metadata": {},
   "source": [
    "**NOTE**: Depending on the availability of nodes and how Ray was configured, you may *not* see any improvement in the running speed for the example above (it may even take longer due to overhead!). If you observe that you don't seem to be getting any speed up, please consult your Ray cluster administrator."
   ]
  },
  {
   "cell_type": "markdown",
   "id": "39ef532a",
   "metadata": {},
   "source": [
    "## Integration with pipeline system"
   ]
  },
  {
   "cell_type": "code",
   "execution_count": 10,
   "id": "f459da03",
   "metadata": {},
   "outputs": [],
   "source": [
    "# make sure we are stating with a clean slate\n",
    "import shutil\n",
    "\n",
    "shutil.rmtree(\"./test_store\", ignore_errors=True)"
   ]
  },
  {
   "cell_type": "code",
   "execution_count": 11,
   "id": "2befd400",
   "metadata": {},
   "outputs": [],
   "source": [
    "store = op.stores.BatchedDeltaTableArrowStore(\"./test_store\")\n",
    "pipeline = op.Pipeline(\"pipeline_with_ray\", store)"
   ]
  },
  {
   "cell_type": "code",
   "execution_count": 12,
   "id": "e21ecaf2",
   "metadata": {},
   "outputs": [],
   "source": [
    "with pipeline:\n",
    "    result_stream = add_numbers(input_stream)"
   ]
  },
  {
   "cell_type": "code",
   "execution_count": 13,
   "id": "8449cb5d",
   "metadata": {},
   "outputs": [],
   "source": [
    "pipeline.run(ray_engine)"
   ]
  },
  {
   "cell_type": "code",
   "execution_count": 14,
   "id": "40743bb7",
   "metadata": {},
   "outputs": [
    {
     "data": {
      "text/html": [
       "<div><style>\n",
       ".dataframe > thead > tr,\n",
       ".dataframe > tbody > tr {\n",
       "  text-align: right;\n",
       "  white-space: pre-wrap;\n",
       "}\n",
       "</style>\n",
       "<small>shape: (50, 2)</small><table border=\"1\" class=\"dataframe\"><thead><tr><th>id</th><th>sum</th></tr><tr><td>i64</td><td>i64</td></tr></thead><tbody><tr><td>0</td><td>0</td></tr><tr><td>1</td><td>5</td></tr><tr><td>2</td><td>10</td></tr><tr><td>3</td><td>15</td></tr><tr><td>4</td><td>20</td></tr><tr><td>&hellip;</td><td>&hellip;</td></tr><tr><td>45</td><td>225</td></tr><tr><td>46</td><td>230</td></tr><tr><td>47</td><td>235</td></tr><tr><td>48</td><td>240</td></tr><tr><td>49</td><td>245</td></tr></tbody></table></div>"
      ],
      "text/plain": [
       "shape: (50, 2)\n",
       "┌─────┬─────┐\n",
       "│ id  ┆ sum │\n",
       "│ --- ┆ --- │\n",
       "│ i64 ┆ i64 │\n",
       "╞═════╪═════╡\n",
       "│ 0   ┆ 0   │\n",
       "│ 1   ┆ 5   │\n",
       "│ 2   ┆ 10  │\n",
       "│ 3   ┆ 15  │\n",
       "│ 4   ┆ 20  │\n",
       "│ …   ┆ …   │\n",
       "│ 45  ┆ 225 │\n",
       "│ 46  ┆ 230 │\n",
       "│ 47  ┆ 235 │\n",
       "│ 48  ┆ 240 │\n",
       "│ 49  ┆ 245 │\n",
       "└─────┴─────┘"
      ]
     },
     "execution_count": 14,
     "metadata": {},
     "output_type": "execute_result"
    }
   ],
   "source": [
    "pipeline.add_numbers.as_df()"
   ]
  }
 ],
 "metadata": {
  "kernelspec": {
   "display_name": ".venv",
   "language": "python",
   "name": "python3"
  },
  "language_info": {
   "codemirror_mode": {
    "name": "ipython",
    "version": 3
   },
   "file_extension": ".py",
   "mimetype": "text/x-python",
   "name": "python",
   "nbconvert_exporter": "python",
   "pygments_lexer": "ipython3",
   "version": "3.13.3"
  }
 },
 "nbformat": 4,
 "nbformat_minor": 5
}
