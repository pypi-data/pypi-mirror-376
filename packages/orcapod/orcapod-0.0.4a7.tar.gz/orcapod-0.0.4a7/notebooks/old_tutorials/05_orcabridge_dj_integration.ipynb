{
 "cells": [
  {
   "cell_type": "markdown",
   "id": "8ba1a45b",
   "metadata": {},
   "source": [
    "In previous notebooks, we have explored the core concepts behind `orcabridge` and how you can use that to define and execute computation pipeline, piecing together various operations (e.g., sources, mappers, and pods) via streams.\n",
    "\n",
    "In this notebook, we will explore how `orcabridge` can integrate with DataJoint, particularly by seeing how one could automatically generate a functional DataJoint table-based pipeline that can be used to query computation results from the original `orcabridge` pipeline and furthermore, how the auto-generated DJ pipeline can be used to trigger computations in the original pipeline. \n",
    "\n",
    "Key to all of this is `Tracker` that we explored in the [previous notebook](./04_orcabridge_tracker.ipynb) that allows us to track computational graph for a pipeline. Using a special version of tracker called `QueryTracker` that can convert the tracked computation into a DataJoint tables!"
   ]
  },
  {
   "cell_type": "markdown",
   "id": "5fdc7ea2",
   "metadata": {},
   "source": [
    "## Defining the pipeline"
   ]
  },
  {
   "cell_type": "markdown",
   "id": "4247cdde",
   "metadata": {},
   "source": [
    "As in previous notebooks, let's start by defining a concrete data pipeline in `orcabridge`."
   ]
  },
  {
   "cell_type": "code",
   "execution_count": null,
   "id": "c1d0a0f4",
   "metadata": {},
   "outputs": [],
   "source": [
    "import json\n",
    "import tempfile\n",
    "from pathlib import Path\n",
    "\n",
    "import yaml\n",
    "\n",
    "from orcabridge.pod import function_pod\n",
    "from orcabridge.source import GlobSource\n",
    "from orcabridge.store import DirDataStore\n",
    "\n",
    "# define data source\n",
    "data_source = GlobSource(\n",
    "    \"data_file\", \"../examples/dataset1\", \"*.txt\", label=\"LocalDataStore\"\n",
    ")\n",
    "\n",
    "# use default data store location of `./pod_data`\n",
    "data_store = DirDataStore()\n",
    "\n",
    "\n",
    "# function to count lines in a file and save it as JSON\n",
    "@function_pod([\"stats\"], data_store=data_store)\n",
    "def count_lines(file: str):\n",
    "    with open(file, \"r\") as f:\n",
    "        n = len(f.readlines())\n",
    "    tmp_dir = tempfile.mkdtemp()\n",
    "    data_file = Path(tmp_dir) / \"data.json\"\n",
    "    data = dict(lines=n)\n",
    "    with open(data_file, \"w\") as f:\n",
    "        json.dump(data, f)\n",
    "    return data_file\n",
    "\n",
    "\n",
    "@function_pod([\"yaml_file\"], data_store=data_store)\n",
    "def json_to_yaml(json_file: str):\n",
    "    with open(json_file, \"r\") as f:\n",
    "        data = json.load(f)\n",
    "    tmp_dir = tempfile.mkdtemp()\n",
    "    yaml_path = Path(tmp_dir) / Path(json_file).with_suffix(\".yaml\").name\n",
    "    with open(yaml_path, \"w\") as f:\n",
    "        yaml.dump(data, f)\n",
    "    return yaml_path\n",
    "\n",
    "\n",
    "# function to extract keys from a JSON file and save them as a list in another JSON file\n",
    "@function_pod([\"key_info\"], data_store=data_store)\n",
    "def extract_keys(json_file: str):\n",
    "    with open(json_file, \"r\") as f:\n",
    "        data = json.load(f)\n",
    "    keys = list(data.keys())\n",
    "    tmp_dir = tempfile.mkdtemp()\n",
    "    keys_file = Path(tmp_dir) / \"keys.json\"\n",
    "    with open(keys_file, \"w\") as f:\n",
    "        json.dump(keys, f)\n",
    "    return keys_file\n",
    "\n",
    "\n",
    "import hashlib  # noqa: E402\n",
    "\n",
    "\n",
    "@function_pod([\"joint_hash\"], data_store=data_store)\n",
    "def joint_hash(file_path1: str, file_path2: str):\n",
    "    \"\"\"\n",
    "    Hash the contents of two files, create a combined hash,\n",
    "    and save it to a JSON file in a new temporary directory.\n",
    "\n",
    "    Args:\n",
    "        file_path1 (str): Path to the first file\n",
    "        file_path2 (str): Path to the second file\n",
    "\n",
    "    Returns:\n",
    "        str: Path to the created JSON file\n",
    "    \"\"\"\n",
    "    # Hash the first file\n",
    "    with open(file_path1, \"rb\") as f:\n",
    "        file1_content = f.read()\n",
    "        file1_hash = hashlib.sha256(file1_content).hexdigest()\n",
    "\n",
    "    # Hash the second file\n",
    "    with open(file_path2, \"rb\") as f:\n",
    "        file2_content = f.read()\n",
    "        file2_hash = hashlib.sha256(file2_content).hexdigest()\n",
    "\n",
    "    # Combine the hashes and create a new hash (like in a Merkle tree)\n",
    "    combined_hash_input = file1_hash + file2_hash\n",
    "    combined_hash = hashlib.sha256(combined_hash_input.encode()).hexdigest()\n",
    "\n",
    "    # Create a temporary directory\n",
    "    temp_dir = tempfile.mkdtemp()\n",
    "\n",
    "    # Create the JSON file path\n",
    "    json_file_path = Path(temp_dir) / \"hash_data.json\"\n",
    "    # Create and save the JSON file\n",
    "    hash_data = {\n",
    "        \"joint_hash\": combined_hash,  # corrected key from \"hash_dat\" to \"hash_data\"\n",
    "        \"file1_hash\": file1_hash,\n",
    "        \"file2_hash\": file2_hash,\n",
    "    }\n",
    "\n",
    "    with open(json_file_path, \"w\") as f:\n",
    "        json.dump(hash_data, f, indent=4)\n",
    "\n",
    "    return json_file_path"
   ]
  },
  {
   "cell_type": "markdown",
   "id": "af154cbe",
   "metadata": {},
   "source": [
    "Before we chain them together into a pipeline, let's prepare the new tracker. Unlike regular `Tracker`, `QueryTracker` needs a few additional configuration in order for it to function."
   ]
  },
  {
   "cell_type": "code",
   "execution_count": 2,
   "id": "43c043cd",
   "metadata": {},
   "outputs": [
    {
     "name": "stderr",
     "output_type": "stream",
     "text": [
      "[2025-05-05 03:18:41,126][INFO]: Connecting eywalker@at-database3.stanford.edu:3306\n",
      "[2025-05-05 03:18:41,190][INFO]: Connected eywalker@at-database3.stanford.edu:3306\n"
     ]
    }
   ],
   "source": [
    "import datajoint as dj\n",
    "\n",
    "from orcabridge.dj.tracker import QueryTracker\n",
    "\n",
    "schema = dj.schema(\"enigma_orcabridge_test\")\n",
    "\n",
    "\n",
    "tracker = QueryTracker()"
   ]
  },
  {
   "cell_type": "markdown",
   "id": "68c103c4",
   "metadata": {},
   "source": [
    "Now let's build the pipeline while tracking under the `QueryTracker`"
   ]
  },
  {
   "cell_type": "code",
   "execution_count": 3,
   "id": "ec739d25",
   "metadata": {},
   "outputs": [],
   "source": [
    "with tracker:\n",
    "    line_info_json = count_lines(data_source >> {\"data_file\": \"file\"})\n",
    "    line_info_yaml = json_to_yaml(line_info_json >> {\"stats\": \"json_file\"})\n",
    "    line_info_keys = extract_keys(line_info_json >> {\"stats\": \"json_file\"})\n",
    "    joined_stream = line_info_yaml * line_info_keys\n",
    "    joined_hash_data = joint_hash(\n",
    "        joined_stream >> {\"yaml_file\": \"file_path1\", \"key_info\": \"file_path2\"}\n",
    "    )\n",
    "    final_files = count_lines(joined_hash_data >> {\"joint_hash\": \"file\"})"
   ]
  },
  {
   "cell_type": "markdown",
   "id": "ba094ac2",
   "metadata": {},
   "source": [
    "Let's make sure that the tracked computation graph looks good:"
   ]
  },
  {
   "cell_type": "code",
   "execution_count": 4,
   "id": "807bb835",
   "metadata": {},
   "outputs": [
    {
     "name": "stderr",
     "output_type": "stream",
     "text": [
      "/home/eywalker/workspace/orcabridge/src/orcabridge/tracker.py:87: UserWarning: This figure includes Axes that are not compatible with tight_layout, so results might be incorrect.\n",
      "  plt.tight_layout()\n"
     ]
    },
    {
     "data": {
      "image/png": "[encoded data removed]",
      "text/plain": [
       "<Figure size 640x480 with 1 Axes>"
      ]
     },
     "metadata": {},
     "output_type": "display_data"
    }
   ],
   "source": [
    "tracker.draw_graph()"
   ]
  },
  {
   "cell_type": "markdown",
   "id": "5234eb0d",
   "metadata": {},
   "source": [
    "Now comes the magical part -- generating the DataJoint tables from this graph."
   ]
  },
  {
   "cell_type": "code",
   "execution_count": 5,
   "id": "390b4e30",
   "metadata": {},
   "outputs": [],
   "source": [
    "G, module = tracker.generate_tables(schema)"
   ]
  },
  {
   "cell_type": "markdown",
   "id": "429e3b96",
   "metadata": {},
   "source": [
    "Believe it or not, that was all that was needed to generate a full-fledged DataJoint pipeline that corresponds to our tracked `orcabridge` pipeline. The returned `module` object actually contains all the tables in the pipeline."
   ]
  },
  {
   "cell_type": "code",
   "execution_count": 6,
   "id": "79aa67f4",
   "metadata": {},
   "outputs": [
    {
     "data": {
      "image/svg+xml": [
       "<svg xmlns=\"http://www.w3.org/2000/svg\" xmlns:xlink=\"http://www.w3.org/1999/xlink\" width=\"294pt\" height=\"291pt\" viewBox=\"0.00 0.00 293.50 291.00\">\n",
       "<g id=\"graph0\" class=\"graph\" transform=\"scale(1 1) rotate(0) translate(4 287)\">\n",
       "<title>%3</title>\n",
       "<polygon fill=\"white\" stroke=\"transparent\" points=\"-4,4 -4,-287 289.5,-287 289.5,4 -4,4\"/>\n",
       "<!-- module.CountLinesId1 -->\n",
       "<g id=\"node1\" class=\"node\">\n",
       "<title>module.CountLinesId1</title>\n",
       "<g id=\"a_node1\"><a xlink:title=\"→ module.JointHash\r------------------------------\rstats                \r\">\n",
       "<ellipse fill=\"#ff0000\" fill-opacity=\"0.125490\" stroke=\"#ff0000\" stroke-opacity=\"0.125490\" cx=\"144\" cy=\"-13\" rx=\"13\" ry=\"13\"/>\n",
       "<text text-anchor=\"middle\" x=\"144\" y=\"-9.9\" font-family=\"arial\" font-size=\"12.00\" fill=\"#7f0000\" fill-opacity=\"0.627451\">module.CountLinesId1</text>\n",
       "</a>\n",
       "</g>\n",
       "</g>\n",
       "<!-- module.CountLinesId0 -->\n",
       "<g id=\"node2\" class=\"node\">\n",
       "<title>module.CountLinesId0</title>\n",
       "<g id=\"a_node2\"><a xlink:title=\"→ module.LocalDataStore\r------------------------------\rstats                \r\">\n",
       "<ellipse fill=\"#ff0000\" fill-opacity=\"0.125490\" stroke=\"#ff0000\" stroke-opacity=\"0.125490\" cx=\"144\" cy=\"-199\" rx=\"13\" ry=\"13\"/>\n",
       "<text text-anchor=\"middle\" x=\"144\" y=\"-195.9\" font-family=\"arial\" font-size=\"12.00\" fill=\"#7f0000\" fill-opacity=\"0.627451\">module.CountLinesId0</text>\n",
       "</a>\n",
       "</g>\n",
       "</g>\n",
       "<!-- module.ExtractKeys -->\n",
       "<g id=\"node3\" class=\"node\">\n",
       "<title>module.ExtractKeys</title>\n",
       "<g id=\"a_node3\"><a xlink:title=\"→ module.CountLinesId0\r------------------------------\rkey_info             \r\">\n",
       "<ellipse fill=\"#ff0000\" fill-opacity=\"0.125490\" stroke=\"#ff0000\" stroke-opacity=\"0.125490\" cx=\"68\" cy=\"-137\" rx=\"13\" ry=\"13\"/>\n",
       "<text text-anchor=\"middle\" x=\"68\" y=\"-133.9\" font-family=\"arial\" font-size=\"12.00\" fill=\"#7f0000\" fill-opacity=\"0.627451\">module.ExtractKeys</text>\n",
       "</a>\n",
       "</g>\n",
       "</g>\n",
       "<!-- module.CountLinesId0&#45;&gt;module.ExtractKeys -->\n",
       "<g id=\"edge1\" class=\"edge\">\n",
       "<title>module.CountLinesId0-&gt;module.ExtractKeys</title>\n",
       "<path fill=\"none\" stroke=\"#000000\" stroke-width=\"2\" stroke-opacity=\"0.250980\" d=\"M134.06,-190.16C119.58,-178.72 92.8,-157.58 78.18,-146.04\"/>\n",
       "</g>\n",
       "<!-- module.JsonToYaml -->\n",
       "<g id=\"node5\" class=\"node\">\n",
       "<title>module.JsonToYaml</title>\n",
       "<g id=\"a_node5\"><a xlink:title=\"→ module.CountLinesId0\r------------------------------\ryaml_file            \r\">\n",
       "<ellipse fill=\"#ff0000\" fill-opacity=\"0.125490\" stroke=\"#ff0000\" stroke-opacity=\"0.125490\" cx=\"220\" cy=\"-137\" rx=\"13\" ry=\"13\"/>\n",
       "<text text-anchor=\"middle\" x=\"220\" y=\"-133.9\" font-family=\"arial\" font-size=\"12.00\" fill=\"#7f0000\" fill-opacity=\"0.627451\">module.JsonToYaml</text>\n",
       "</a>\n",
       "</g>\n",
       "</g>\n",
       "<!-- module.CountLinesId0&#45;&gt;module.JsonToYaml -->\n",
       "<g id=\"edge2\" class=\"edge\">\n",
       "<title>module.CountLinesId0-&gt;module.JsonToYaml</title>\n",
       "<path fill=\"none\" stroke=\"#000000\" stroke-width=\"2\" stroke-opacity=\"0.250980\" d=\"M153.94,-190.16C168.42,-178.72 195.2,-157.58 209.82,-146.04\"/>\n",
       "</g>\n",
       "<!-- module.JointHash -->\n",
       "<g id=\"node4\" class=\"node\">\n",
       "<title>module.JointHash</title>\n",
       "<g id=\"a_node4\"><a xlink:title=\"→ module.ExtractKeys\r→ module.JsonToYaml\r------------------------------\rjoint_hash           \r\">\n",
       "<ellipse fill=\"#ff0000\" fill-opacity=\"0.125490\" stroke=\"#ff0000\" stroke-opacity=\"0.125490\" cx=\"144\" cy=\"-75\" rx=\"13\" ry=\"13\"/>\n",
       "<text text-anchor=\"middle\" x=\"144\" y=\"-71.9\" font-family=\"arial\" font-size=\"12.00\" fill=\"#7f0000\" fill-opacity=\"0.627451\">module.JointHash</text>\n",
       "</a>\n",
       "</g>\n",
       "</g>\n",
       "<!-- module.ExtractKeys&#45;&gt;module.JointHash -->\n",
       "<g id=\"edge3\" class=\"edge\">\n",
       "<title>module.ExtractKeys-&gt;module.JointHash</title>\n",
       "<path fill=\"none\" stroke=\"#000000\" stroke-width=\"2\" stroke-opacity=\"0.250980\" d=\"M77.94,-128.16C92.42,-116.72 119.2,-95.58 133.82,-84.04\"/>\n",
       "</g>\n",
       "<!-- module.JointHash&#45;&gt;module.CountLinesId1 -->\n",
       "<g id=\"edge4\" class=\"edge\">\n",
       "<title>module.JointHash-&gt;module.CountLinesId1</title>\n",
       "<path fill=\"none\" stroke=\"#000000\" stroke-width=\"2\" stroke-opacity=\"0.250980\" d=\"M144,-61.86C144,-51.45 144,-36.53 144,-26.12\"/>\n",
       "</g>\n",
       "<!-- module.JsonToYaml&#45;&gt;module.JointHash -->\n",
       "<g id=\"edge5\" class=\"edge\">\n",
       "<title>module.JsonToYaml-&gt;module.JointHash</title>\n",
       "<path fill=\"none\" stroke=\"#000000\" stroke-width=\"2\" stroke-opacity=\"0.250980\" d=\"M210.06,-128.16C195.58,-116.72 168.8,-95.58 154.18,-84.04\"/>\n",
       "</g>\n",
       "<!-- module.LocalDataStore -->\n",
       "<g id=\"node6\" class=\"node\">\n",
       "<title>module.LocalDataStore</title>\n",
       "<g id=\"a_node6\"><a xlink:title=\"file_name            \r------------------------------\rdata_file            \r\">\n",
       "<polygon fill=\"#00ff00\" fill-opacity=\"0.188235\" stroke=\"#00ff00\" stroke-opacity=\"0.188235\" points=\"222.5,-283 65.5,-283 65.5,-248 222.5,-248 222.5,-283\"/>\n",
       "<text text-anchor=\"start\" x=\"73.5\" y=\"-263.4\" font-family=\"arial\" text-decoration=\"underline\" font-size=\"12.00\" fill=\"darkgreen\">module.LocalDataStore</text>\n",
       "</a>\n",
       "</g>\n",
       "</g>\n",
       "<!-- module.LocalDataStore&#45;&gt;module.CountLinesId0 -->\n",
       "<g id=\"edge6\" class=\"edge\">\n",
       "<title>module.LocalDataStore-&gt;module.CountLinesId0</title>\n",
       "<path fill=\"none\" stroke=\"#000000\" stroke-width=\"2\" stroke-opacity=\"0.250980\" d=\"M144,-247.89C144,-236.69 144,-222.17 144,-212.07\"/>\n",
       "</g>\n",
       "</g>\n",
       "</svg>"
      ],
      "text/plain": [
       "<datajoint.diagram.Diagram at 0x7fcd702f4640>"
      ]
     },
     "execution_count": 6,
     "metadata": {},
     "output_type": "execute_result"
    }
   ],
   "source": [
    "dj.Diagram(module)"
   ]
  },
  {
   "cell_type": "markdown",
   "id": "f98413cc",
   "metadata": {},
   "source": [
    "You can see that the struture of the tables naturally correspond to our `orcabridge` pipeline from the above, but with some minor differences. Namely, all nodes corresponding to `Mappers` such as `MapPackets` and `Join` are missing. This is because in DataJoint, these operations are handled as defining characteristic of the connections between tables and don't really explicitly show up in the graph."
   ]
  },
  {
   "cell_type": "markdown",
   "id": "12111161",
   "metadata": {},
   "source": [
    "Let's now take a look at some of these tables!"
   ]
  },
  {
   "cell_type": "code",
   "execution_count": 7,
   "id": "cb86320e",
   "metadata": {},
   "outputs": [
    {
     "data": {
      "text/html": [
       "\n",
       "    \n",
       "    <style type=\"text/css\">\n",
       "        .Table{\n",
       "            border-collapse:collapse;\n",
       "        }\n",
       "        .Table th{\n",
       "            background: #A0A0A0; color: #ffffff; padding:4px; border:#f0e0e0 1px solid;\n",
       "            font-weight: normal; font-family: monospace; font-size: 100%;\n",
       "        }\n",
       "        .Table td{\n",
       "            padding:4px; border:#f0e0e0 1px solid; font-size:100%;\n",
       "        }\n",
       "        .Table tr:nth-child(odd){\n",
       "            background: #ffffff;\n",
       "            color: #000000;\n",
       "        }\n",
       "        .Table tr:nth-child(even){\n",
       "            background: #f3f1ff;\n",
       "            color: #000000;\n",
       "        }\n",
       "        /* Tooltip container */\n",
       "        .djtooltip {\n",
       "        }\n",
       "        /* Tooltip text */\n",
       "        .djtooltip .djtooltiptext {\n",
       "            visibility: hidden;\n",
       "            width: 120px;\n",
       "            background-color: black;\n",
       "            color: #fff;\n",
       "            text-align: center;\n",
       "            padding: 5px 0;\n",
       "            border-radius: 6px;\n",
       "            /* Position the tooltip text - see examples below! */\n",
       "            position: absolute;\n",
       "            z-index: 1;\n",
       "        }\n",
       "        #primary {\n",
       "            font-weight: bold;\n",
       "            color: black;\n",
       "        }\n",
       "        #nonprimary {\n",
       "            font-weight: normal;\n",
       "            color: white;\n",
       "        }\n",
       "\n",
       "        /* Show the tooltip text when you mouse over the tooltip container */\n",
       "        .djtooltip:hover .djtooltiptext {\n",
       "            visibility: visible;\n",
       "        }\n",
       "    </style>\n",
       "    \n",
       "    <b>glob_source_7805336534710128524 outputs</b>\n",
       "        <div style=\"max-height:1000px;max-width:1500px;overflow:auto;\">\n",
       "        <table border=\"1\" class=\"Table\">\n",
       "            <thead> <tr style=\"text-align: right;\"> <th> <div class=\"djtooltip\">\n",
       "                            <p id=\"primary\">file_name</p>\n",
       "                            <span class=\"djtooltiptext\"></span>\n",
       "                        </div></th><th><div class=\"djtooltip\">\n",
       "                            <p id=\"nonprimary\">data_file</p>\n",
       "                            <span class=\"djtooltiptext\"></span>\n",
       "                        </div> </th> </tr> </thead>\n",
       "            <tbody> <tr>  </tr> </tbody>\n",
       "        </table>\n",
       "        \n",
       "        <p>Total: 0</p></div>\n",
       "        "
      ],
      "text/plain": [
       "*file_name    data_file    \n",
       "+-----------+ +-----------+\n",
       "\n",
       " (Total: 0)"
      ]
     },
     "execution_count": 7,
     "metadata": {},
     "output_type": "execute_result"
    }
   ],
   "source": [
    "module.LocalDataStore()"
   ]
  },
  {
   "cell_type": "markdown",
   "id": "6d545e32",
   "metadata": {},
   "source": [
    "You might be wondering where is the data? If you were to look at the `data_source` that corresponds to our `LocalDataStore` table, there are certainly a few files present."
   ]
  },
  {
   "cell_type": "code",
   "execution_count": 8,
   "id": "8be3fba1",
   "metadata": {},
   "outputs": [
    {
     "name": "stdout",
     "output_type": "stream",
     "text": [
      "Tag: {'file_name': 'day1'}, Packet: {'data_file': PosixPath('../examples/dataset1/day1.txt')}\n",
      "Tag: {'file_name': 'day2'}, Packet: {'data_file': PosixPath('../examples/dataset1/day2.txt')}\n",
      "Tag: {'file_name': 'day3'}, Packet: {'data_file': PosixPath('../examples/dataset1/day3.txt')}\n",
      "Tag: {'file_name': 'day4'}, Packet: {'data_file': PosixPath('../examples/dataset1/day4.txt')}\n",
      "Tag: {'file_name': 'day6'}, Packet: {'data_file': PosixPath('../examples/dataset1/day6.txt')}\n"
     ]
    }
   ],
   "source": [
    "data_source.head(10)"
   ]
  },
  {
   "cell_type": "markdown",
   "id": "1bf44a4b",
   "metadata": {},
   "source": [
    "Don't panic just yet! By default, DataJoint tables created to reflect `orcabridge` pipeline do *not* come prefilled with the results of the pipeline execution. Instead, you want to trigger the filling by calling `populate` on the table. Let's try filling the `LocalDataStore` table:"
   ]
  },
  {
   "cell_type": "code",
   "execution_count": 9,
   "id": "c61038f4",
   "metadata": {},
   "outputs": [
    {
     "data": {
      "text/plain": [
       "5"
      ]
     },
     "execution_count": 9,
     "metadata": {},
     "output_type": "execute_result"
    }
   ],
   "source": [
    "module.LocalDataStore().populate()"
   ]
  },
  {
   "cell_type": "code",
   "execution_count": 10,
   "id": "c7d3916d",
   "metadata": {},
   "outputs": [
    {
     "data": {
      "text/html": [
       "\n",
       "    \n",
       "    <style type=\"text/css\">\n",
       "        .Table{\n",
       "            border-collapse:collapse;\n",
       "        }\n",
       "        .Table th{\n",
       "            background: #A0A0A0; color: #ffffff; padding:4px; border:#f0e0e0 1px solid;\n",
       "            font-weight: normal; font-family: monospace; font-size: 100%;\n",
       "        }\n",
       "        .Table td{\n",
       "            padding:4px; border:#f0e0e0 1px solid; font-size:100%;\n",
       "        }\n",
       "        .Table tr:nth-child(odd){\n",
       "            background: #ffffff;\n",
       "            color: #000000;\n",
       "        }\n",
       "        .Table tr:nth-child(even){\n",
       "            background: #f3f1ff;\n",
       "            color: #000000;\n",
       "        }\n",
       "        /* Tooltip container */\n",
       "        .djtooltip {\n",
       "        }\n",
       "        /* Tooltip text */\n",
       "        .djtooltip .djtooltiptext {\n",
       "            visibility: hidden;\n",
       "            width: 120px;\n",
       "            background-color: black;\n",
       "            color: #fff;\n",
       "            text-align: center;\n",
       "            padding: 5px 0;\n",
       "            border-radius: 6px;\n",
       "            /* Position the tooltip text - see examples below! */\n",
       "            position: absolute;\n",
       "            z-index: 1;\n",
       "        }\n",
       "        #primary {\n",
       "            font-weight: bold;\n",
       "            color: black;\n",
       "        }\n",
       "        #nonprimary {\n",
       "            font-weight: normal;\n",
       "            color: white;\n",
       "        }\n",
       "\n",
       "        /* Show the tooltip text when you mouse over the tooltip container */\n",
       "        .djtooltip:hover .djtooltiptext {\n",
       "            visibility: visible;\n",
       "        }\n",
       "    </style>\n",
       "    \n",
       "    <b>glob_source_7805336534710128524 outputs</b>\n",
       "        <div style=\"max-height:1000px;max-width:1500px;overflow:auto;\">\n",
       "        <table border=\"1\" class=\"Table\">\n",
       "            <thead> <tr style=\"text-align: right;\"> <th> <div class=\"djtooltip\">\n",
       "                            <p id=\"primary\">file_name</p>\n",
       "                            <span class=\"djtooltiptext\"></span>\n",
       "                        </div></th><th><div class=\"djtooltip\">\n",
       "                            <p id=\"nonprimary\">data_file</p>\n",
       "                            <span class=\"djtooltiptext\"></span>\n",
       "                        </div> </th> </tr> </thead>\n",
       "            <tbody> <tr> <td>day1</td>\n",
       "<td>../examples/dataset1/day1.txt</td></tr><tr><td>day2</td>\n",
       "<td>../examples/dataset1/day2.txt</td></tr><tr><td>day3</td>\n",
       "<td>../examples/dataset1/day3.txt</td></tr><tr><td>day4</td>\n",
       "<td>../examples/dataset1/day4.txt</td></tr><tr><td>day6</td>\n",
       "<td>../examples/dataset1/day6.txt</td> </tr> </tbody>\n",
       "        </table>\n",
       "        \n",
       "        <p>Total: 5</p></div>\n",
       "        "
      ],
      "text/plain": [
       "*file_name    data_file     \n",
       "+-----------+ +------------+\n",
       "day1          ../examples/da\n",
       "day2          ../examples/da\n",
       "day3          ../examples/da\n",
       "day4          ../examples/da\n",
       "day6          ../examples/da\n",
       " (Total: 5)"
      ]
     },
     "execution_count": 10,
     "metadata": {},
     "output_type": "execute_result"
    }
   ],
   "source": [
    "module.LocalDataStore()"
   ]
  },
  {
   "cell_type": "markdown",
   "id": "4a7b2123",
   "metadata": {},
   "source": [
    "Now you can see that the table was successfully filled with the files from the local glob-based data source (corresponding to `data_source`)."
   ]
  },
  {
   "cell_type": "markdown",
   "id": "ac383388",
   "metadata": {},
   "source": [
    "You can in fact trigger the computation in the downstream tables by calling `populate` on them! Let's go ahead and call `populate` on all tables, following the topographical order to ensure parent tables are populated before moving onto child tables."
   ]
  },
  {
   "cell_type": "code",
   "execution_count": 11,
   "id": "db04f85a",
   "metadata": {},
   "outputs": [
    {
     "data": {
      "text/plain": [
       "{'success_count': 5, 'error_list': []}"
      ]
     },
     "execution_count": 11,
     "metadata": {},
     "output_type": "execute_result"
    }
   ],
   "source": [
    "module.LocalDataStore().populate()\n",
    "module.CountLinesId0().populate()\n",
    "module.ExtractKeys().populate()\n",
    "module.JsonToYaml().populate()\n",
    "module.JointHash().populate()\n",
    "module.CountLinesId1().populate()"
   ]
  },
  {
   "cell_type": "markdown",
   "id": "c17001a8",
   "metadata": {},
   "source": [
    "Now all tables are filled, having processed available contents. You might be happy to know that the underlying computation for each table is *memoized* and in fact shared with the `FunctionPod` based on which the table was created. Consequently, *populating* the tables actually have led to our original pipeline achieving memoization of all computations performed as part of the `populate` calls!"
   ]
  },
  {
   "cell_type": "code",
   "execution_count": 12,
   "id": "49f1a620",
   "metadata": {},
   "outputs": [
    {
     "data": {
      "text/html": [
       "\n",
       "    \n",
       "    <style type=\"text/css\">\n",
       "        .Table{\n",
       "            border-collapse:collapse;\n",
       "        }\n",
       "        .Table th{\n",
       "            background: #A0A0A0; color: #ffffff; padding:4px; border:#f0e0e0 1px solid;\n",
       "            font-weight: normal; font-family: monospace; font-size: 100%;\n",
       "        }\n",
       "        .Table td{\n",
       "            padding:4px; border:#f0e0e0 1px solid; font-size:100%;\n",
       "        }\n",
       "        .Table tr:nth-child(odd){\n",
       "            background: #ffffff;\n",
       "            color: #000000;\n",
       "        }\n",
       "        .Table tr:nth-child(even){\n",
       "            background: #f3f1ff;\n",
       "            color: #000000;\n",
       "        }\n",
       "        /* Tooltip container */\n",
       "        .djtooltip {\n",
       "        }\n",
       "        /* Tooltip text */\n",
       "        .djtooltip .djtooltiptext {\n",
       "            visibility: hidden;\n",
       "            width: 120px;\n",
       "            background-color: black;\n",
       "            color: #fff;\n",
       "            text-align: center;\n",
       "            padding: 5px 0;\n",
       "            border-radius: 6px;\n",
       "            /* Position the tooltip text - see examples below! */\n",
       "            position: absolute;\n",
       "            z-index: 1;\n",
       "        }\n",
       "        #primary {\n",
       "            font-weight: bold;\n",
       "            color: black;\n",
       "        }\n",
       "        #nonprimary {\n",
       "            font-weight: normal;\n",
       "            color: white;\n",
       "        }\n",
       "\n",
       "        /* Show the tooltip text when you mouse over the tooltip container */\n",
       "        .djtooltip:hover .djtooltiptext {\n",
       "            visibility: visible;\n",
       "        }\n",
       "    </style>\n",
       "    \n",
       "    <b>json_to_yaml_14249291253996769187 outputs</b>\n",
       "        <div style=\"max-height:1000px;max-width:1500px;overflow:auto;\">\n",
       "        <table border=\"1\" class=\"Table\">\n",
       "            <thead> <tr style=\"text-align: right;\"> <th> <div class=\"djtooltip\">\n",
       "                            <p id=\"primary\">file_name</p>\n",
       "                            <span class=\"djtooltiptext\"></span>\n",
       "                        </div></th><th><div class=\"djtooltip\">\n",
       "                            <p id=\"nonprimary\">yaml_file</p>\n",
       "                            <span class=\"djtooltiptext\"></span>\n",
       "                        </div> </th> </tr> </thead>\n",
       "            <tbody> <tr> <td>day1</td>\n",
       "<td>pod_data/json_to_yaml/0a2282eda2b641e6/6d0b282e-6970-a099-c1d7-632a66200b85/data.yaml</td></tr><tr><td>day2</td>\n",
       "<td>pod_data/json_to_yaml/0a2282eda2b641e6/4ff1d406-4431-1849-9c36-266e39f1bbfd/data.yaml</td></tr><tr><td>day3</td>\n",
       "<td>pod_data/json_to_yaml/0a2282eda2b641e6/d58c568b-7f44-f259-a195-94038e348017/data.yaml</td></tr><tr><td>day4</td>\n",
       "<td>pod_data/json_to_yaml/0a2282eda2b641e6/14e16c5b-c470-66bc-b92a-7f1c09d091df/data.yaml</td></tr><tr><td>day6</td>\n",
       "<td>pod_data/json_to_yaml/0a2282eda2b641e6/998c26f1-fc82-5d90-e25d-25f61f073189/data.yaml</td> </tr> </tbody>\n",
       "        </table>\n",
       "        \n",
       "        <p>Total: 5</p></div>\n",
       "        "
      ],
      "text/plain": [
       "*file_name    yaml_file     \n",
       "+-----------+ +------------+\n",
       "day1          pod_data/json_\n",
       "day2          pod_data/json_\n",
       "day3          pod_data/json_\n",
       "day4          pod_data/json_\n",
       "day6          pod_data/json_\n",
       " (Total: 5)"
      ]
     },
     "execution_count": 12,
     "metadata": {},
     "output_type": "execute_result"
    }
   ],
   "source": [
    "module.JsonToYaml()"
   ]
  },
  {
   "cell_type": "code",
   "execution_count": 13,
   "id": "6783b463",
   "metadata": {},
   "outputs": [
    {
     "data": {
      "text/html": [
       "\n",
       "    \n",
       "    <style type=\"text/css\">\n",
       "        .Table{\n",
       "            border-collapse:collapse;\n",
       "        }\n",
       "        .Table th{\n",
       "            background: #A0A0A0; color: #ffffff; padding:4px; border:#f0e0e0 1px solid;\n",
       "            font-weight: normal; font-family: monospace; font-size: 100%;\n",
       "        }\n",
       "        .Table td{\n",
       "            padding:4px; border:#f0e0e0 1px solid; font-size:100%;\n",
       "        }\n",
       "        .Table tr:nth-child(odd){\n",
       "            background: #ffffff;\n",
       "            color: #000000;\n",
       "        }\n",
       "        .Table tr:nth-child(even){\n",
       "            background: #f3f1ff;\n",
       "            color: #000000;\n",
       "        }\n",
       "        /* Tooltip container */\n",
       "        .djtooltip {\n",
       "        }\n",
       "        /* Tooltip text */\n",
       "        .djtooltip .djtooltiptext {\n",
       "            visibility: hidden;\n",
       "            width: 120px;\n",
       "            background-color: black;\n",
       "            color: #fff;\n",
       "            text-align: center;\n",
       "            padding: 5px 0;\n",
       "            border-radius: 6px;\n",
       "            /* Position the tooltip text - see examples below! */\n",
       "            position: absolute;\n",
       "            z-index: 1;\n",
       "        }\n",
       "        #primary {\n",
       "            font-weight: bold;\n",
       "            color: black;\n",
       "        }\n",
       "        #nonprimary {\n",
       "            font-weight: normal;\n",
       "            color: white;\n",
       "        }\n",
       "\n",
       "        /* Show the tooltip text when you mouse over the tooltip container */\n",
       "        .djtooltip:hover .djtooltiptext {\n",
       "            visibility: visible;\n",
       "        }\n",
       "    </style>\n",
       "    \n",
       "    <b>count_lines_12479767188212706286 outputs</b>\n",
       "        <div style=\"max-height:1000px;max-width:1500px;overflow:auto;\">\n",
       "        <table border=\"1\" class=\"Table\">\n",
       "            <thead> <tr style=\"text-align: right;\"> <th> <div class=\"djtooltip\">\n",
       "                            <p id=\"primary\">file_name</p>\n",
       "                            <span class=\"djtooltiptext\"></span>\n",
       "                        </div></th><th><div class=\"djtooltip\">\n",
       "                            <p id=\"nonprimary\">stats</p>\n",
       "                            <span class=\"djtooltiptext\"></span>\n",
       "                        </div> </th> </tr> </thead>\n",
       "            <tbody> <tr> <td>day1</td>\n",
       "<td>pod_data/count_lines/48028707c9dc37d7/8cd40c14-2c09-8a84-14e5-6c0b45f92cf7/data.json</td></tr><tr><td>day2</td>\n",
       "<td>pod_data/count_lines/48028707c9dc37d7/1d1430e5-cc85-7005-b8ce-603963a825df/data.json</td></tr><tr><td>day3</td>\n",
       "<td>pod_data/count_lines/48028707c9dc37d7/eda0b080-5b97-d917-1d53-ab4704e9e279/data.json</td></tr><tr><td>day4</td>\n",
       "<td>pod_data/count_lines/48028707c9dc37d7/8df403a2-522c-208e-ecd8-53d146963c9f/data.json</td></tr><tr><td>day6</td>\n",
       "<td>pod_data/count_lines/48028707c9dc37d7/79b8c697-920f-08eb-cfc6-499e810ab9d1/data.json</td> </tr> </tbody>\n",
       "        </table>\n",
       "        \n",
       "        <p>Total: 5</p></div>\n",
       "        "
      ],
      "text/plain": [
       "*file_name    stats         \n",
       "+-----------+ +------------+\n",
       "day1          pod_data/count\n",
       "day2          pod_data/count\n",
       "day3          pod_data/count\n",
       "day4          pod_data/count\n",
       "day6          pod_data/count\n",
       " (Total: 5)"
      ]
     },
     "execution_count": 13,
     "metadata": {},
     "output_type": "execute_result"
    }
   ],
   "source": [
    "module.CountLinesId1()"
   ]
  }
 ],
 "metadata": {
  "kernelspec": {
   "display_name": "venv",
   "language": "python",
   "name": "python3"
  },
  "language_info": {
   "name": "python",
   "version": "3.10.12"
  }
 },
 "nbformat": 4,
 "nbformat_minor": 5
}
