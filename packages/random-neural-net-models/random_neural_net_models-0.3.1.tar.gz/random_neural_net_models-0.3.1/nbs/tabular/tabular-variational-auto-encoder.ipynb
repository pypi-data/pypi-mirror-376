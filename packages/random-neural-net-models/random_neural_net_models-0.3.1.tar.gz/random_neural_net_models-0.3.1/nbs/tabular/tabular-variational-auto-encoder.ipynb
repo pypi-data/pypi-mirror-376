{
 "cells": [
  {
   "cell_type": "markdown",
   "metadata": {},
   "source": [
    "References:\n",
    "* Tazwar, S., Knobbout, M., Quesada, E., & Popa, M. (2024). Tab-VAE: A Novel VAE for Generating Synthetic Tabular Data: Proceedings of the 13th International Conference on Pattern Recognition Applications and Methods, 17–26. https://doi.org/10.5220/0012302400003654\n",
    "* https://github.com/sdv-dev/SDV"
   ]
  },
  {
   "cell_type": "code",
   "execution_count": null,
   "metadata": {},
   "outputs": [],
   "source": [
    "%load_ext autoreload\n",
    "%autoreload 2"
   ]
  },
  {
   "cell_type": "code",
   "execution_count": null,
   "metadata": {},
   "outputs": [],
   "source": [
    "import sklearn.datasets as sk_data\n",
    "import sklearn.model_selection as sk_selection\n",
    "import random_neural_net_models.tabular as rnnm_tab\n",
    "import torch.optim as optim\n",
    "import random_neural_net_models.learner as rnnm_learner\n",
    "import random_neural_net_models.data as rnnm_data\n",
    "import random_neural_net_models.utils as rnnm_utils\n",
    "from pathlib import Path\n",
    "import random_neural_net_models.tabular_vae as rnnm_tvae\n",
    "from torch.utils.data import DataLoader"
   ]
  },
  {
   "cell_type": "code",
   "execution_count": null,
   "metadata": {},
   "outputs": [],
   "source": [
    "rnnm_utils.make_deterministic(42)"
   ]
  },
  {
   "cell_type": "code",
   "execution_count": null,
   "metadata": {},
   "outputs": [],
   "source": [
    "device = rnnm_utils.get_device()\n",
    "device"
   ]
  },
  {
   "cell_type": "code",
   "execution_count": null,
   "metadata": {},
   "outputs": [],
   "source": [
    "n_samples = 1_000\n",
    "n_features = 3\n",
    "n_classes = 2\n",
    "X, y = sk_data.make_blobs(\n",
    "    n_samples=n_samples,\n",
    "    n_features=n_features,\n",
    "    random_state=42,\n",
    "    centers=n_classes,\n",
    ")"
   ]
  },
  {
   "cell_type": "markdown",
   "metadata": {},
   "source": [
    "## numerical columns only vae"
   ]
  },
  {
   "cell_type": "code",
   "execution_count": null,
   "metadata": {},
   "outputs": [],
   "source": [
    "X0, X1 = sk_selection.train_test_split(X, test_size=0.2)"
   ]
  },
  {
   "cell_type": "code",
   "execution_count": null,
   "metadata": {},
   "outputs": [],
   "source": [
    "X0.shape, X1.shape"
   ]
  },
  {
   "cell_type": "code",
   "execution_count": null,
   "metadata": {},
   "outputs": [],
   "source": [
    "ds_train = rnnm_data.NumpyInferenceDataset(X0)\n",
    "ds_valid = rnnm_data.NumpyInferenceDataset(X1)"
   ]
  },
  {
   "cell_type": "code",
   "execution_count": null,
   "metadata": {},
   "outputs": [],
   "source": [
    "ds_train[2]"
   ]
  },
  {
   "cell_type": "code",
   "execution_count": null,
   "metadata": {},
   "outputs": [],
   "source": [
    "from torch.utils.data import RandomSampler\n",
    "import torch"
   ]
  },
  {
   "cell_type": "code",
   "execution_count": null,
   "metadata": {},
   "outputs": [],
   "source": [
    "batch_size = 50\n",
    "\n",
    "sampler = RandomSampler(\n",
    "    ds_train,\n",
    "    replacement=True,\n",
    "    num_samples=int(1e5),\n",
    "    generator=torch.manual_seed(42),\n",
    ")\n",
    "\n",
    "dl_train = DataLoader(\n",
    "    ds_train,\n",
    "    batch_size=batch_size,\n",
    "    sampler=sampler,\n",
    "    collate_fn=rnnm_data.collate_numpy_dataset_to_xblock,\n",
    "    drop_last=True,\n",
    ")\n",
    "dl_valid = DataLoader(\n",
    "    ds_valid,\n",
    "    batch_size=batch_size,\n",
    "    collate_fn=rnnm_data.collate_numpy_dataset_to_xblock,\n",
    ")"
   ]
  },
  {
   "cell_type": "code",
   "execution_count": null,
   "metadata": {},
   "outputs": [],
   "source": [
    "next(iter(dl_train))"
   ]
  },
  {
   "cell_type": "code",
   "execution_count": null,
   "metadata": {},
   "outputs": [],
   "source": [
    "means = X0.mean(axis=0)\n",
    "means"
   ]
  },
  {
   "cell_type": "code",
   "execution_count": null,
   "metadata": {},
   "outputs": [],
   "source": [
    "stds = X0.std(axis=0)\n",
    "stds"
   ]
  },
  {
   "cell_type": "code",
   "execution_count": null,
   "metadata": {},
   "outputs": [],
   "source": [
    "n_features = X0.shape[1]\n",
    "n_hidden = [n_features, 3, 3]\n",
    "do_impute = False\n",
    "impute_bias_source = rnnm_tab.BiasSources.zero\n",
    "n_latent = 2\n",
    "\n",
    "model = rnnm_tvae.TabularVariationalAutoEncoderNumerical(\n",
    "    n_hidden=n_hidden,\n",
    "    n_latent=n_latent,\n",
    "    means=means,\n",
    "    stds=stds,\n",
    "    do_impute=False,\n",
    "    use_batch_norm=True,\n",
    ")"
   ]
  },
  {
   "cell_type": "code",
   "execution_count": null,
   "metadata": {},
   "outputs": [],
   "source": [
    "learning_rate = 0.1\n",
    "optimizer = optim.Adam(model.parameters(), lr=learning_rate)\n",
    "loss = rnnm_tvae.KullbackLeiblerNumericalOnlyLoss()\n",
    "loss_callback = rnnm_learner.TrainLossCallback()\n",
    "\n",
    "save_dir = Path(\"./models\")\n",
    "\n",
    "callbacks = [loss_callback]"
   ]
  },
  {
   "cell_type": "code",
   "execution_count": null,
   "metadata": {},
   "outputs": [],
   "source": [
    "learner = rnnm_learner.Learner(\n",
    "    model,\n",
    "    optimizer,\n",
    "    loss,\n",
    "    callbacks=callbacks,\n",
    "    save_dir=save_dir,\n",
    "    device=device,\n",
    "    show_epoch_progress=True,\n",
    ")"
   ]
  },
  {
   "cell_type": "code",
   "execution_count": null,
   "metadata": {},
   "outputs": [],
   "source": [
    "lr_find_callback = rnnm_learner.LRFinderCallback(1e-5, 100, 100)\n",
    "\n",
    "learner.find_learning_rate(\n",
    "    dl_train, n_epochs=10, lr_find_callback=lr_find_callback\n",
    ")"
   ]
  },
  {
   "cell_type": "code",
   "execution_count": null,
   "metadata": {},
   "outputs": [],
   "source": [
    "lr_find_callback.plot(yscale=\"log\", ylim=(4e3, 1e5))"
   ]
  },
  {
   "cell_type": "code",
   "execution_count": null,
   "metadata": {},
   "outputs": [],
   "source": [
    "learning_rate = 2e-1\n",
    "n_epochs = 5\n",
    "\n",
    "scheduler = optim.lr_scheduler.OneCycleLR(\n",
    "    optimizer=optimizer,\n",
    "    max_lr=learning_rate,\n",
    "    epochs=n_epochs,\n",
    "    steps_per_epoch=len(dl_train),\n",
    ")\n",
    "scheduler_callback = rnnm_learner.EveryBatchSchedulerCallback(scheduler)\n",
    "learner.update_callback(scheduler_callback)"
   ]
  },
  {
   "cell_type": "code",
   "execution_count": null,
   "metadata": {},
   "outputs": [],
   "source": [
    "learner.fit(dl_train, n_epochs=n_epochs, dataloader_valid=dl_valid)"
   ]
  },
  {
   "cell_type": "code",
   "execution_count": null,
   "metadata": {},
   "outputs": [],
   "source": [
    "loss_callback.plot(yscale=\"log\")"
   ]
  },
  {
   "cell_type": "code",
   "execution_count": null,
   "metadata": {},
   "outputs": [],
   "source": [
    "X_preds = learner.predict(dl_valid, component=0).detach().numpy()\n",
    "X_preds[:3]"
   ]
  },
  {
   "cell_type": "code",
   "execution_count": null,
   "metadata": {},
   "outputs": [],
   "source": [
    "import seaborn as sns\n",
    "\n",
    "ax = sns.scatterplot(\n",
    "    x=X1[:, 0], y=X1[:, 1], alpha=0.3, color=\"black\", label=\"orig\"\n",
    ")\n",
    "sns.scatterplot(\n",
    "    x=X_preds[:, 0],\n",
    "    y=X_preds[:, 1],\n",
    "    alpha=0.3,\n",
    "    color=\"orange\",\n",
    "    label=\"vae\",\n",
    "    ax=ax,\n",
    ")\n",
    "ax.legend()"
   ]
  },
  {
   "cell_type": "markdown",
   "metadata": {},
   "source": [
    "## numerical and categorical vae"
   ]
  },
  {
   "cell_type": "code",
   "execution_count": null,
   "metadata": {},
   "outputs": [],
   "source": [
    "X0_num, X1_num, X0_cat, X1_cat = sk_selection.train_test_split(\n",
    "    X, y.reshape((-1, 1)), test_size=0.2\n",
    ")"
   ]
  },
  {
   "cell_type": "code",
   "execution_count": null,
   "metadata": {},
   "outputs": [],
   "source": [
    "X0_num[:3], X0_cat[:3]"
   ]
  },
  {
   "cell_type": "code",
   "execution_count": null,
   "metadata": {},
   "outputs": [],
   "source": [
    "ds_train = rnnm_data.NumpyNumCatTrainingDatasetXOnly(X0_num, X0_cat)\n",
    "ds_valid = rnnm_data.NumpyNumCatTrainingDatasetXOnly(X1_num, X1_cat)"
   ]
  },
  {
   "cell_type": "code",
   "execution_count": null,
   "metadata": {},
   "outputs": [],
   "source": [
    "ds_train[0]"
   ]
  },
  {
   "cell_type": "code",
   "execution_count": null,
   "metadata": {},
   "outputs": [],
   "source": [
    "from torch.utils.data import RandomSampler\n",
    "import torch"
   ]
  },
  {
   "cell_type": "code",
   "execution_count": null,
   "metadata": {},
   "outputs": [],
   "source": [
    "batch_size = 50\n",
    "\n",
    "sampler = RandomSampler(\n",
    "    ds_train,\n",
    "    replacement=True,\n",
    "    num_samples=int(1e5),\n",
    "    generator=torch.manual_seed(42),\n",
    ")\n",
    "\n",
    "dl_train = DataLoader(\n",
    "    ds_train,\n",
    "    batch_size=batch_size,\n",
    "    sampler=sampler,\n",
    "    collate_fn=rnnm_data.collate_numpy_numcat_dataset_to_xblock,\n",
    "    drop_last=True,\n",
    ")\n",
    "dl_valid = DataLoader(\n",
    "    ds_valid,\n",
    "    batch_size=batch_size,\n",
    "    collate_fn=rnnm_data.collate_numpy_numcat_dataset_to_xblock,\n",
    ")"
   ]
  },
  {
   "cell_type": "code",
   "execution_count": null,
   "metadata": {},
   "outputs": [],
   "source": [
    "next(iter(dl_train))"
   ]
  },
  {
   "cell_type": "code",
   "execution_count": null,
   "metadata": {},
   "outputs": [],
   "source": [
    "means = X0_num.mean(axis=0)\n",
    "means"
   ]
  },
  {
   "cell_type": "code",
   "execution_count": null,
   "metadata": {},
   "outputs": [],
   "source": [
    "stds = X0_num.std(axis=0)\n",
    "stds"
   ]
  },
  {
   "cell_type": "code",
   "execution_count": null,
   "metadata": {},
   "outputs": [],
   "source": [
    "n_categories_per_column = rnnm_data.calc_n_categories_per_column(X0_cat)\n",
    "n_categories_per_column"
   ]
  },
  {
   "cell_type": "code",
   "execution_count": null,
   "metadata": {},
   "outputs": [],
   "source": [
    "n_features = X0_num.shape[1] + X0_cat.shape[1]\n",
    "n_hidden = [n_features, 3, 3]\n",
    "do_impute = False\n",
    "impute_bias_source = rnnm_tab.BiasSources.zero\n",
    "n_latent = 2\n",
    "\n",
    "model = rnnm_tvae.TabularVariationalAutoEncoderNumericalAndCategorical(\n",
    "    n_hidden=n_hidden,\n",
    "    n_categories_per_column=n_categories_per_column,\n",
    "    n_latent=n_latent,\n",
    "    means=means,\n",
    "    stds=stds,\n",
    "    do_impute=False,\n",
    "    use_batch_norm=True,\n",
    ")"
   ]
  },
  {
   "cell_type": "code",
   "execution_count": null,
   "metadata": {},
   "outputs": [],
   "source": [
    "model.decoder"
   ]
  },
  {
   "cell_type": "code",
   "execution_count": null,
   "metadata": {},
   "outputs": [],
   "source": [
    "learning_rate = 0.1\n",
    "optimizer = optim.Adam(model.parameters(), lr=learning_rate)\n",
    "loss = rnnm_tvae.KullbackLeiblerNumericalAndCategoricalLoss(\n",
    "    n_categories_per_column\n",
    ")\n",
    "loss_callback = rnnm_learner.TrainLossCallback()\n",
    "\n",
    "save_dir = Path(\"./models\")\n",
    "\n",
    "callbacks = [loss_callback]"
   ]
  },
  {
   "cell_type": "code",
   "execution_count": null,
   "metadata": {},
   "outputs": [],
   "source": [
    "learner = rnnm_learner.Learner(\n",
    "    model,\n",
    "    optimizer,\n",
    "    loss,\n",
    "    callbacks=callbacks,\n",
    "    save_dir=save_dir,\n",
    "    device=device,\n",
    "    show_epoch_progress=True,\n",
    ")"
   ]
  },
  {
   "cell_type": "code",
   "execution_count": null,
   "metadata": {},
   "outputs": [],
   "source": [
    "lr_find_callback = rnnm_learner.LRFinderCallback(1e-5, 100, 100)\n",
    "\n",
    "learner.find_learning_rate(\n",
    "    dl_train, n_epochs=10, lr_find_callback=lr_find_callback\n",
    ")"
   ]
  },
  {
   "cell_type": "code",
   "execution_count": null,
   "metadata": {},
   "outputs": [],
   "source": [
    "lr_find_callback.plot(yscale=\"log\", ylim=(4e3, 1e5))"
   ]
  },
  {
   "cell_type": "code",
   "execution_count": null,
   "metadata": {},
   "outputs": [],
   "source": [
    "learning_rate = 2e-1\n",
    "n_epochs = 5\n",
    "\n",
    "scheduler = optim.lr_scheduler.OneCycleLR(\n",
    "    optimizer=optimizer,\n",
    "    max_lr=learning_rate,\n",
    "    epochs=n_epochs,\n",
    "    steps_per_epoch=len(dl_train),\n",
    ")\n",
    "scheduler_callback = rnnm_learner.EveryBatchSchedulerCallback(scheduler)\n",
    "learner.update_callback(scheduler_callback)"
   ]
  },
  {
   "cell_type": "code",
   "execution_count": null,
   "metadata": {},
   "outputs": [],
   "source": [
    "learner.fit(dl_train, n_epochs=n_epochs, dataloader_valid=dl_valid)"
   ]
  },
  {
   "cell_type": "code",
   "execution_count": null,
   "metadata": {},
   "outputs": [],
   "source": [
    "loss_callback.plot(yscale=\"log\")"
   ]
  },
  {
   "cell_type": "code",
   "execution_count": null,
   "metadata": {},
   "outputs": [],
   "source": [
    "X_preds_num, X_preds_cat_probs = learner.predict(dl_valid, component=[0, 1])\n",
    "X_preds_num = X_preds_num.detach().numpy()\n",
    "X_preds_cat_probs = X_preds_cat_probs.detach()\n",
    "X_preds_num[:3], X_preds_cat_probs[:3]"
   ]
  },
  {
   "cell_type": "code",
   "execution_count": null,
   "metadata": {},
   "outputs": [],
   "source": [
    "X_preds_cat = rnnm_tvae.transform_X_cat_probs_to_classes(\n",
    "    X_preds_cat_probs, n_categories_per_column\n",
    ")\n",
    "X_preds_cat = X_preds_cat.numpy()\n",
    "X_preds_cat[:5]"
   ]
  },
  {
   "cell_type": "code",
   "execution_count": null,
   "metadata": {},
   "outputs": [],
   "source": [
    "import seaborn as sns\n",
    "\n",
    "ax = sns.scatterplot(\n",
    "    x=X1_num[:, 0], y=X1_num[:, 1], alpha=0.3, color=\"black\", label=\"orig\"\n",
    ")\n",
    "sns.scatterplot(\n",
    "    x=X_preds_num[:, 0],\n",
    "    y=X_preds_num[:, 1],\n",
    "    alpha=0.3,\n",
    "    color=\"orange\",\n",
    "    label=\"vae\",\n",
    "    ax=ax,\n",
    ")\n",
    "ax.legend()"
   ]
  },
  {
   "cell_type": "code",
   "execution_count": null,
   "metadata": {},
   "outputs": [],
   "source": [
    "sns.scatterplot(\n",
    "    x=X_preds_num[:, 0], y=X_preds_num[:, 1], alpha=0.3, hue=X_preds_cat[:, 0]\n",
    ")"
   ]
  }
 ],
 "metadata": {
  "kernelspec": {
   "display_name": ".venv",
   "language": "python",
   "name": "python3"
  },
  "language_info": {
   "codemirror_mode": {
    "name": "ipython",
    "version": 3
   },
   "file_extension": ".py",
   "mimetype": "text/x-python",
   "name": "python",
   "nbconvert_exporter": "python",
   "pygments_lexer": "ipython3",
   "version": "3.11.3"
  }
 },
 "nbformat": 4,
 "nbformat_minor": 2
}
