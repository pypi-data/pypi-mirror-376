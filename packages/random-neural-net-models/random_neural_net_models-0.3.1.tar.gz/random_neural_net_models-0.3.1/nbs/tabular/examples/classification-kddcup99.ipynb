{
 "cells": [
  {
   "cell_type": "code",
   "execution_count": null,
   "metadata": {},
   "outputs": [],
   "source": [
    "%load_ext autoreload\n",
    "%autoreload 2"
   ]
  },
  {
   "cell_type": "code",
   "execution_count": null,
   "metadata": {},
   "outputs": [],
   "source": [
    "import sklearn.datasets as sk_data\n",
    "import sklearn.model_selection as sk_selection\n",
    "import sklearn.metrics as sk_metrics\n",
    "import sklearn.ensemble as sk_ensemble\n",
    "import random_neural_net_models.tabular as rnnm_tab\n",
    "import torch.optim as optim\n",
    "import random_neural_net_models.losses as rnnm_loss\n",
    "import random_neural_net_models.learner as rnnm_learner\n",
    "import random_neural_net_models.data as rnnm_data\n",
    "import random_neural_net_models.utils as rnnm_utils\n",
    "from pathlib import Path\n",
    "from torch.utils.data import DataLoader"
   ]
  },
  {
   "cell_type": "code",
   "execution_count": null,
   "metadata": {},
   "outputs": [],
   "source": [
    "rnnm_utils.make_deterministic(42)"
   ]
  },
  {
   "cell_type": "code",
   "execution_count": null,
   "metadata": {},
   "outputs": [],
   "source": [
    "device = rnnm_utils.get_device()\n",
    "device"
   ]
  },
  {
   "cell_type": "code",
   "execution_count": null,
   "metadata": {},
   "outputs": [],
   "source": [
    "X, y = sk_data.fetch_kddcup99(random_state=42, return_X_y=True, as_frame=True)"
   ]
  },
  {
   "cell_type": "code",
   "execution_count": null,
   "metadata": {},
   "outputs": [],
   "source": [
    "cat_cols = [\n",
    "    \"protocol_type\",\n",
    "    \"service\",\n",
    "    \"flag\",\n",
    "    \"land\",\n",
    "    \"logged_in\",\n",
    "    \"is_host_login\",\n",
    "    \"is_guest_login\",\n",
    "]"
   ]
  },
  {
   "cell_type": "code",
   "execution_count": null,
   "metadata": {},
   "outputs": [],
   "source": [
    "X[cat_cols]"
   ]
  },
  {
   "cell_type": "code",
   "execution_count": null,
   "metadata": {},
   "outputs": [],
   "source": [
    "num_cols = [c for c in X.columns if c not in cat_cols]\n",
    "X[num_cols].T"
   ]
  },
  {
   "cell_type": "code",
   "execution_count": null,
   "metadata": {},
   "outputs": [],
   "source": [
    "X"
   ]
  },
  {
   "cell_type": "code",
   "execution_count": null,
   "metadata": {},
   "outputs": [],
   "source": [
    "X, maps_str2int_x = rnnm_tab.make_string_columns_to_int(\n",
    "    X, categorical_columns=cat_cols\n",
    ")\n",
    "X[cat_cols].T"
   ]
  },
  {
   "cell_type": "code",
   "execution_count": null,
   "metadata": {},
   "outputs": [],
   "source": [
    "y"
   ]
  },
  {
   "cell_type": "code",
   "execution_count": null,
   "metadata": {},
   "outputs": [],
   "source": [
    "y, map_str2int_y = rnnm_tab.make_string_series_to_int(y)\n",
    "y"
   ]
  },
  {
   "cell_type": "code",
   "execution_count": null,
   "metadata": {},
   "outputs": [],
   "source": [
    "X0, X1, y0, y1 = sk_selection.train_test_split(\n",
    "    X.to_numpy(), y.to_numpy(), test_size=0.2, random_state=42, stratify=y\n",
    ")"
   ]
  },
  {
   "cell_type": "markdown",
   "metadata": {},
   "source": [
    "## baseline model"
   ]
  },
  {
   "cell_type": "code",
   "execution_count": null,
   "metadata": {},
   "outputs": [],
   "source": [
    "cat_cols"
   ]
  },
  {
   "cell_type": "code",
   "execution_count": null,
   "metadata": {},
   "outputs": [],
   "source": [
    "cat_cols_ids = X.columns.get_indexer_for(cat_cols)\n",
    "cat_cols_ids"
   ]
  },
  {
   "cell_type": "code",
   "execution_count": null,
   "metadata": {},
   "outputs": [],
   "source": [
    "num_cols_ids = X.columns.get_indexer_for(num_cols)\n",
    "num_cols_ids"
   ]
  },
  {
   "cell_type": "code",
   "execution_count": null,
   "metadata": {},
   "outputs": [],
   "source": [
    "base_model = sk_ensemble.HistGradientBoostingClassifier(\n",
    "    categorical_features=cat_cols_ids\n",
    ")"
   ]
  },
  {
   "cell_type": "code",
   "execution_count": null,
   "metadata": {},
   "outputs": [],
   "source": [
    "base_model.fit(X0, y0)"
   ]
  },
  {
   "cell_type": "code",
   "execution_count": null,
   "metadata": {},
   "outputs": [],
   "source": [
    "y_pred_base = base_model.predict(X1)"
   ]
  },
  {
   "cell_type": "code",
   "execution_count": null,
   "metadata": {},
   "outputs": [],
   "source": [
    "print(sk_metrics.classification_report(y_true=y1, y_pred=y_pred_base))"
   ]
  },
  {
   "cell_type": "markdown",
   "metadata": {},
   "source": [
    "              precision    recall  f1-score   support\n",
    "\n",
    "           0       0.39      0.98      0.55       441\n",
    "           1       0.00      0.00      0.00         6\n",
    "           2       0.00      0.00      0.00         2\n",
    "           3       0.00      0.00      0.00        11\n",
    "           4       0.00      0.00      0.00         2\n",
    "           5       0.86      0.88      0.87       249\n",
    "           6       0.00      0.00      0.00         4\n",
    "           7       0.00      0.00      0.00         2\n",
    "           8       0.00      0.00      0.00         1\n",
    "           9       1.00      0.97      0.99     21440\n",
    "          10       0.05      0.13      0.07        46\n",
    "          11       0.99      0.87      0.93     19456\n",
    "          12       0.00      0.00      0.00         1\n",
    "          13       0.00      0.00      0.00         1\n",
    "          14       0.20      0.83      0.32        53\n",
    "          15       0.73      0.55      0.62       208\n",
    "          16       0.00      0.00      0.00         2\n",
    "          17       0.89      0.85      0.87       318\n",
    "          18       1.00      1.00      1.00     56158\n",
    "          19       0.00      0.00      0.00         0\n",
    "          20       0.98      0.98      0.98       196\n",
    "          21       0.54      0.76      0.63       204\n",
    "          22       0.00      0.00      0.00         4\n",
    "\n",
    "    accuracy                           0.97     98805\n",
    "   macro avg       0.33      0.38      0.34     98805\n",
    "weighted avg       0.99      0.97      0.98     98805"
   ]
  },
  {
   "cell_type": "markdown",
   "metadata": {},
   "source": [
    "## neural net model"
   ]
  },
  {
   "cell_type": "code",
   "execution_count": null,
   "metadata": {},
   "outputs": [],
   "source": [
    "import numpy as np\n",
    "\n",
    "# y0 = y0.astype(np.int64)\n",
    "# y1 = y1.astype(np.int64)"
   ]
  },
  {
   "cell_type": "code",
   "execution_count": null,
   "metadata": {},
   "outputs": [],
   "source": [
    "X0[:, num_cols_ids].shape"
   ]
  },
  {
   "cell_type": "code",
   "execution_count": null,
   "metadata": {},
   "outputs": [],
   "source": [
    "X0_cat = X0[:, cat_cols_ids].astype(int)\n",
    "X1_cat = X1[:, cat_cols_ids].astype(int)\n",
    "X0_num = X0[:, num_cols_ids].astype(float)\n",
    "X1_num = X1[:, num_cols_ids].astype(float)"
   ]
  },
  {
   "cell_type": "code",
   "execution_count": null,
   "metadata": {},
   "outputs": [],
   "source": [
    "np.isfinite(X0_cat).all(), np.isfinite(X0_num).all()"
   ]
  },
  {
   "cell_type": "code",
   "execution_count": null,
   "metadata": {},
   "outputs": [],
   "source": [
    "np.isfinite(X1_cat).all(), np.isfinite(X1_num).all()"
   ]
  },
  {
   "cell_type": "code",
   "execution_count": null,
   "metadata": {},
   "outputs": [],
   "source": [
    "ds_train = rnnm_data.NumpyNumCatTrainingDataset(\n",
    "    X_numerical=X0_num, X_categorical=X0_cat, y=y0\n",
    ")\n",
    "ds_valid = rnnm_data.NumpyNumCatTrainingDataset(\n",
    "    X_numerical=X1_num, X_categorical=X1_cat, y=y1\n",
    ")"
   ]
  },
  {
   "cell_type": "code",
   "execution_count": null,
   "metadata": {},
   "outputs": [],
   "source": [
    "ds_train[0]"
   ]
  },
  {
   "cell_type": "code",
   "execution_count": null,
   "metadata": {},
   "outputs": [],
   "source": [
    "len(X0)"
   ]
  },
  {
   "cell_type": "code",
   "execution_count": null,
   "metadata": {},
   "outputs": [],
   "source": [
    "batch_size = 500\n",
    "dl_train = DataLoader(\n",
    "    ds_train,\n",
    "    batch_size=batch_size,\n",
    "    shuffle=True,\n",
    "    collate_fn=rnnm_data.collate_numpy_numcat_dataset_to_xyblock_keep_orig_y,\n",
    "    drop_last=True,\n",
    ")\n",
    "dl_valid = DataLoader(\n",
    "    ds_valid,\n",
    "    batch_size=batch_size,\n",
    "    collate_fn=rnnm_data.collate_numpy_numcat_dataset_to_xyblock_keep_orig_y,\n",
    ")"
   ]
  },
  {
   "cell_type": "code",
   "execution_count": null,
   "metadata": {},
   "outputs": [],
   "source": [
    "next(iter(dl_train))"
   ]
  },
  {
   "cell_type": "code",
   "execution_count": null,
   "metadata": {},
   "outputs": [],
   "source": [
    "n_cats_per_col = rnnm_data.calc_n_categories_per_column(X0_cat)\n",
    "n_cats_per_col"
   ]
  },
  {
   "cell_type": "code",
   "execution_count": null,
   "metadata": {},
   "outputs": [],
   "source": [
    "n_hidden = [200, 100]\n",
    "do_impute = False\n",
    "impute_bias_source = rnnm_tab.BiasSources.zero\n",
    "n_features = X0.shape[1]\n",
    "n_classes = len(set(y0))\n",
    "\n",
    "model = rnnm_tab.TabularModelClassification(\n",
    "    n_features=n_features,\n",
    "    n_hidden=n_hidden,\n",
    "    n_classes=n_classes,\n",
    "    use_batch_norm=True,\n",
    "    n_categories_per_column=n_cats_per_col,\n",
    ")"
   ]
  },
  {
   "cell_type": "code",
   "execution_count": null,
   "metadata": {},
   "outputs": [],
   "source": [
    "learning_rate = 0.1\n",
    "optimizer = optim.Adam(model.parameters(), lr=learning_rate)\n",
    "loss = rnnm_loss.CrossEntropyXy()\n",
    "loss_callback = rnnm_learner.TrainLossCallback()\n",
    "\n",
    "save_dir = Path(\"./models\")\n",
    "\n",
    "callbacks = [loss_callback]"
   ]
  },
  {
   "cell_type": "code",
   "execution_count": null,
   "metadata": {},
   "outputs": [],
   "source": [
    "learner = rnnm_learner.Learner(\n",
    "    model,\n",
    "    optimizer,\n",
    "    loss,\n",
    "    callbacks=callbacks,\n",
    "    save_dir=save_dir,\n",
    "    device=device,\n",
    "    show_epoch_progress=True,\n",
    ")"
   ]
  },
  {
   "cell_type": "code",
   "execution_count": null,
   "metadata": {},
   "outputs": [],
   "source": [
    "lr_find_callback = rnnm_learner.LRFinderCallback(1e-5, 100, 100)\n",
    "\n",
    "learner.find_learning_rate(\n",
    "    dl_train, n_epochs=10, lr_find_callback=lr_find_callback\n",
    ")"
   ]
  },
  {
   "cell_type": "code",
   "execution_count": null,
   "metadata": {},
   "outputs": [],
   "source": [
    "# !mkdir models"
   ]
  },
  {
   "cell_type": "code",
   "execution_count": null,
   "metadata": {},
   "outputs": [],
   "source": [
    "lr_find_callback.plot(yscale=\"log\", ylim=(0.3, 5))"
   ]
  },
  {
   "cell_type": "code",
   "execution_count": null,
   "metadata": {},
   "outputs": [],
   "source": [
    "learning_rate = 1e-2\n",
    "n_epochs = 5\n",
    "\n",
    "scheduler = optim.lr_scheduler.OneCycleLR(\n",
    "    optimizer=optimizer,\n",
    "    max_lr=learning_rate,\n",
    "    epochs=n_epochs,\n",
    "    steps_per_epoch=len(dl_train),\n",
    ")\n",
    "scheduler_callback = rnnm_learner.EveryBatchSchedulerCallback(scheduler)\n",
    "learner.update_callback(scheduler_callback)"
   ]
  },
  {
   "cell_type": "code",
   "execution_count": null,
   "metadata": {},
   "outputs": [],
   "source": [
    "learner.fit(dl_train, n_epochs=n_epochs, dataloader_valid=dl_valid)"
   ]
  },
  {
   "cell_type": "code",
   "execution_count": null,
   "metadata": {},
   "outputs": [],
   "source": [
    "loss_callback.plot(yscale=\"log\")"
   ]
  },
  {
   "cell_type": "code",
   "execution_count": null,
   "metadata": {},
   "outputs": [],
   "source": [
    "probs = learner.predict(dl_valid).detach().softmax(dim=1).numpy()\n",
    "probs[:3]"
   ]
  },
  {
   "cell_type": "code",
   "execution_count": null,
   "metadata": {},
   "outputs": [],
   "source": [
    "y_pred_nn = np.argmax(probs, axis=1)\n",
    "y_pred_nn"
   ]
  },
  {
   "cell_type": "code",
   "execution_count": null,
   "metadata": {},
   "outputs": [],
   "source": [
    "print(sk_metrics.classification_report(y_true=y1, y_pred=y_pred_nn))"
   ]
  },
  {
   "cell_type": "markdown",
   "metadata": {},
   "source": [
    "              precision    recall  f1-score   support\n",
    "\n",
    "           0       1.00      0.78      0.88       441\n",
    "           1       1.00      0.17      0.29         6\n",
    "           2       1.00      0.50      0.67         2\n",
    "           3       0.71      0.91      0.80        11\n",
    "           4       1.00      0.50      0.67         2\n",
    "           5       0.99      0.96      0.98       249\n",
    "           6       0.27      1.00      0.42         4\n",
    "           7       0.00      0.00      0.00         2\n",
    "           8       0.00      0.00      0.00         1\n",
    "           9       1.00      1.00      1.00     21440\n",
    "          10       0.89      0.91      0.90        46\n",
    "          11       0.99      1.00      1.00     19456\n",
    "          12       0.00      0.00      0.00         1\n",
    "          13       1.00      1.00      1.00         1\n",
    "          14       0.98      0.98      0.98        53\n",
    "          15       1.00      1.00      1.00       208\n",
    "          16       0.00      0.00      0.00         2\n",
    "          17       1.00      0.98      0.99       318\n",
    "          18       1.00      1.00      1.00     56158\n",
    "          20       1.00      0.99      1.00       196\n",
    "          21       0.90      0.89      0.89       204\n",
    "          22       0.00      0.00      0.00         4\n",
    "\n",
    "    accuracy                           1.00     98805\n",
    "   macro avg       0.72      0.66      0.66     98805\n",
    "weighted avg       1.00      1.00      1.00     98805"
   ]
  }
 ],
 "metadata": {
  "kernelspec": {
   "display_name": ".venv",
   "language": "python",
   "name": "python3"
  },
  "language_info": {
   "codemirror_mode": {
    "name": "ipython",
    "version": 3
   },
   "file_extension": ".py",
   "mimetype": "text/x-python",
   "name": "python",
   "nbconvert_exporter": "python",
   "pygments_lexer": "ipython3",
   "version": "3.11.3"
  }
 },
 "nbformat": 4,
 "nbformat_minor": 2
}
