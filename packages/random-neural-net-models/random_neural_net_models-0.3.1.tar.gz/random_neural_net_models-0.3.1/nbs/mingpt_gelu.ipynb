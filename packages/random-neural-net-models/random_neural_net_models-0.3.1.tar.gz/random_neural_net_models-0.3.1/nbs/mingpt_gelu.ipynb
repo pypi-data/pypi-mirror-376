{
 "cells": [
  {
   "cell_type": "code",
   "execution_count": null,
   "metadata": {},
   "outputs": [],
   "source": [
    "%load_ext autoreload\n",
    "%autoreload 2"
   ]
  },
  {
   "cell_type": "code",
   "execution_count": null,
   "metadata": {},
   "outputs": [],
   "source": [
    "import matplotlib.pyplot as plt\n",
    "import seaborn as sns\n",
    "import torch\n",
    "\n",
    "from random_neural_net_models.mingpt.model import NewGELU\n",
    "\n",
    "sns.set_theme()"
   ]
  },
  {
   "cell_type": "code",
   "execution_count": null,
   "metadata": {},
   "outputs": [],
   "source": [
    "# Define the x values\n",
    "x = torch.linspace(-2, 2, 100)"
   ]
  },
  {
   "cell_type": "code",
   "execution_count": null,
   "metadata": {},
   "outputs": [],
   "source": [
    "fig, ax = plt.subplots(figsize=(8, 6))\n",
    "\n",
    "gelu = NewGELU()\n",
    "y = gelu(x)\n",
    "sns.lineplot(x=x, y=y, ax=ax, label=\"NewGELU(x)\")\n",
    "\n",
    "gelu = NewGELU(f0=0.05)\n",
    "y = gelu(x)\n",
    "sns.lineplot(x=x, y=y, ax=ax, label=\"NewGELU(x,f0=.05)\")\n",
    "\n",
    "gelu = NewGELU(f0=0.04)\n",
    "y = gelu(x)\n",
    "sns.lineplot(x=x, y=y, ax=ax, label=\"NewGELU(x,f0=.04)\")\n",
    "\n",
    "ax.set_xlabel(\"x\")\n",
    "ax.set_ylabel(\"NewGELU(x)\")\n",
    "ax.set_title(\"Plot of NewGELU(x) for -2 < x < 2\")\n",
    "ax.legend()\n",
    "ax.grid(True)\n",
    "plt.show()"
   ]
  }
 ],
 "metadata": {
  "kernelspec": {
   "display_name": ".venv",
   "language": "python",
   "name": "python3"
  },
  "language_info": {
   "codemirror_mode": {
    "name": "ipython",
    "version": 3
   },
   "file_extension": ".py",
   "mimetype": "text/x-python",
   "name": "python",
   "nbconvert_exporter": "python",
   "pygments_lexer": "ipython3",
   "version": "3.11.3"
  }
 },
 "nbformat": 4,
 "nbformat_minor": 2
}
