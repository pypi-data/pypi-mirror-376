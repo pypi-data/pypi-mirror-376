{
 "cells": [
  {
   "cell_type": "markdown",
   "metadata": {},
   "source": [
    "6 + 39 = 45 --> \"0639054\""
   ]
  },
  {
   "cell_type": "code",
   "execution_count": null,
   "metadata": {},
   "outputs": [],
   "source": [
    "%load_ext autoreload\n",
    "%autoreload 2"
   ]
  },
  {
   "cell_type": "code",
   "execution_count": null,
   "metadata": {},
   "outputs": [],
   "source": [
    "import random_neural_net_models.mingpt.adder as adder\n",
    "import random_neural_net_models.mingpt.model as gpt_model\n",
    "import random_neural_net_models.mingpt.trainer as gpt_trainer\n",
    "import random_neural_net_models.mingpt.utils as gpt_utils\n",
    "import random_neural_net_models.utils as utils\n",
    "\n",
    "logger = utils.get_logger(\"nb\")"
   ]
  },
  {
   "cell_type": "code",
   "execution_count": null,
   "metadata": {},
   "outputs": [],
   "source": [
    "data_config = adder.DataConfig(ndigit=2)"
   ]
  },
  {
   "cell_type": "code",
   "execution_count": null,
   "metadata": {},
   "outputs": [],
   "source": [
    "# construct train and test datasets\n",
    "train_dataset = adder.AdditionDataset(data_config, split=gpt_utils.SETS.train)\n",
    "test_dataset = adder.AdditionDataset(data_config, split=gpt_utils.SETS.test)"
   ]
  },
  {
   "cell_type": "code",
   "execution_count": null,
   "metadata": {},
   "outputs": [],
   "source": [
    "# get default config and overrides from the command line, if any\n",
    "config = adder.get_config(\n",
    "    vocab_size=train_dataset.get_vocab_size(),\n",
    "    block_size=train_dataset.get_block_size(),\n",
    "    max_iters=100,\n",
    ")\n",
    "\n",
    "print(config)"
   ]
  },
  {
   "cell_type": "code",
   "execution_count": null,
   "metadata": {},
   "outputs": [],
   "source": [
    "# gpt_utils.setup_logging(config)\n",
    "gpt_utils.set_seed(config.system.seed)"
   ]
  },
  {
   "cell_type": "code",
   "execution_count": null,
   "metadata": {},
   "outputs": [],
   "source": [
    "model = gpt_model.GPT(config.model)"
   ]
  },
  {
   "cell_type": "code",
   "execution_count": null,
   "metadata": {},
   "outputs": [],
   "source": [
    "# construct the trainer object\n",
    "trainer = gpt_trainer.Trainer(config.trainer, model, train_dataset)"
   ]
  },
  {
   "cell_type": "code",
   "execution_count": null,
   "metadata": {},
   "outputs": [],
   "source": [
    "# iteration callback\n",
    "\n",
    "\n",
    "def batch_end_callback(trainer: gpt_trainer.Trainer):\n",
    "    if trainer.iter_num % 10 == 0:\n",
    "        logger.info(\n",
    "            f\"iter_dt {trainer.iter_dt * 1000:.2f} ms; iter {trainer.iter_num:_d}: train loss {trainer.loss.item():.5f}\"\n",
    "        )\n",
    "\n",
    "    model.train()\n",
    "\n",
    "\n",
    "trainer.set_callback(\"on_batch_end\", batch_end_callback)"
   ]
  },
  {
   "cell_type": "code",
   "execution_count": null,
   "metadata": {},
   "outputs": [],
   "source": [
    "# run the optimization\n",
    "trainer.run()"
   ]
  },
  {
   "cell_type": "code",
   "execution_count": null,
   "metadata": {},
   "outputs": [],
   "source": [
    "for x, y in test_dataset:\n",
    "    logger.info(f\"x: {x}\")\n",
    "    logger.info(f\"y: {y}\")\n",
    "    pred = model.generate(x.unsqueeze(0), 1, do_sample=False)\n",
    "    logger.info(f\"pred: {pred}\")\n",
    "    break"
   ]
  },
  {
   "cell_type": "code",
   "execution_count": null,
   "metadata": {},
   "outputs": [],
   "source": []
  }
 ],
 "metadata": {
  "kernelspec": {
   "display_name": ".venv",
   "language": "python",
   "name": "python3"
  },
  "language_info": {
   "codemirror_mode": {
    "name": "ipython",
    "version": 3
   },
   "file_extension": ".py",
   "mimetype": "text/x-python",
   "name": "python",
   "nbconvert_exporter": "python",
   "pygments_lexer": "ipython3",
   "version": "3.11.3"
  }
 },
 "nbformat": 4,
 "nbformat_minor": 2
}
