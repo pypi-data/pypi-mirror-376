{
 "cells": [
  {
   "cell_type": "markdown",
   "metadata": {},
   "source": [
    "based on https://github.com/karpathy/minGPT/blob/master/demo.ipynb"
   ]
  },
  {
   "cell_type": "code",
   "execution_count": null,
   "metadata": {},
   "outputs": [],
   "source": [
    "%load_ext autoreload\n",
    "%autoreload 2"
   ]
  },
  {
   "cell_type": "code",
   "execution_count": null,
   "metadata": {},
   "outputs": [],
   "source": [
    "from dataclasses import dataclass\n",
    "\n",
    "import torch\n",
    "from torch.utils.data.dataloader import DataLoader\n",
    "\n",
    "import random_neural_net_models.mingpt.model as gpt_model\n",
    "import random_neural_net_models.mingpt.sorter as sorter\n",
    "import random_neural_net_models.mingpt.trainer as gpt_trainer\n",
    "import random_neural_net_models.mingpt.utils as gpt_utils\n",
    "import random_neural_net_models.utils as utils\n",
    "\n",
    "logger = utils.get_logger(\"nb\")\n",
    "\n",
    "gpt_utils.set_seed(3407)"
   ]
  },
  {
   "cell_type": "code",
   "execution_count": null,
   "metadata": {},
   "outputs": [],
   "source": [
    "# print an example instance of the dataset\n",
    "train_dataset = sorter.SortDataset(gpt_utils.SETS.train, seed=3407)\n",
    "test_dataset = sorter.SortDataset(gpt_utils.SETS.test, seed=3407)"
   ]
  },
  {
   "cell_type": "code",
   "execution_count": null,
   "metadata": {},
   "outputs": [],
   "source": [
    "x, y = train_dataset[0]\n",
    "for a, b in zip(x, y):\n",
    "    logger.info(f\"x: {int(a)}, y: {int(b)}\")"
   ]
  },
  {
   "cell_type": "code",
   "execution_count": null,
   "metadata": {},
   "outputs": [],
   "source": [
    "model_config = gpt_model.GPT.get_config(\n",
    "    model_type=\"gpt-nano\",\n",
    "    vocab_size=train_dataset.get_vocab_size(),\n",
    "    block_size=train_dataset.get_block_size(),\n",
    ")\n",
    "model = gpt_model.GPT(model_config)"
   ]
  },
  {
   "cell_type": "code",
   "execution_count": null,
   "metadata": {},
   "outputs": [],
   "source": [
    "train_config = gpt_trainer.Trainer.get_config(\n",
    "    learning_rate=5e-4,  # the model we're using is so small that we can go a bit faster\n",
    "    max_iters=100,\n",
    "    num_workers=0,\n",
    ")\n",
    "\n",
    "trainer = gpt_trainer.Trainer(train_config, model, train_dataset)"
   ]
  },
  {
   "cell_type": "code",
   "execution_count": null,
   "metadata": {},
   "outputs": [],
   "source": [
    "def batch_end_callback(trainer: gpt_trainer.Trainer):\n",
    "    if trainer.iter_num % 100 == 0:\n",
    "        logger.info(\n",
    "            f\"iter_dt {trainer.iter_dt * 1000:.2f} ms; iter {trainer.iter_num}: train loss {trainer.loss.item():.5f}\"\n",
    "        )\n",
    "\n",
    "\n",
    "trainer.set_callback(\"on_batch_end\", batch_end_callback)"
   ]
  },
  {
   "cell_type": "code",
   "execution_count": null,
   "metadata": {},
   "outputs": [],
   "source": [
    "trainer.run()"
   ]
  },
  {
   "cell_type": "code",
   "execution_count": null,
   "metadata": {},
   "outputs": [],
   "source": [
    "# now let's perform some evaluation\n",
    "model.eval();"
   ]
  },
  {
   "cell_type": "code",
   "execution_count": null,
   "metadata": {},
   "outputs": [],
   "source": [
    "@dataclass\n",
    "class EvalResult:\n",
    "    n_correct: int\n",
    "    n_total: int\n",
    "\n",
    "    def __post_init__(self):\n",
    "        self.pct_correct = self.n_correct / self.n_total\n",
    "\n",
    "    def __str__(self):\n",
    "        return f\"final score: {self.n_correct:_d} / {self.n_total:_d} = {self.pct_correct:.2%} correct\"\n",
    "\n",
    "\n",
    "def eval_split(\n",
    "    trainer: gpt_trainer.Trainer,\n",
    "    dataset: sorter.SortDataset,\n",
    "    max_batches: int,\n",
    ") -> EvalResult:\n",
    "    n = train_dataset.length\n",
    "    results = []\n",
    "    mistakes_printed_already = 0\n",
    "    loader = DataLoader(dataset, batch_size=100, num_workers=0, drop_last=False)\n",
    "\n",
    "    for b, (x, y) in enumerate(loader):\n",
    "        x = x.to(trainer.device)\n",
    "        y = y.to(trainer.device)\n",
    "\n",
    "        # isolate the input pattern alone\n",
    "        _input = x[:, :n]\n",
    "        _solution = y[:, -n:]\n",
    "\n",
    "        # let the model sample the rest of the sequence\n",
    "        _inference = model.generate(\n",
    "            _input, n, do_sample=False\n",
    "        )  # using greedy argmax, not sampling\n",
    "        _solution_candidate = _inference[\n",
    "            :, n:\n",
    "        ]  # isolate the filled in sequence\n",
    "\n",
    "        # compare the predicted sequence to the true sequence\n",
    "        correct = (_solution == _solution_candidate).all(dim=1).cpu()\n",
    "\n",
    "        for i in range(x.size(dim=0)):\n",
    "            results.append(int(correct[i]))\n",
    "            if (\n",
    "                not correct[i] and mistakes_printed_already < 3\n",
    "            ):  # only print up to 5 mistakes to get a sense\n",
    "                mistakes_printed_already += 1\n",
    "                logger.info(\n",
    "                    f\"GPT claims that {_input[i].tolist()} sorted is {_solution_candidate[i].tolist()}\"\n",
    "                    f\" but actually is {_solution[i].tolist()}\"\n",
    "                )\n",
    "        if max_batches is not None and b + 1 >= max_batches:\n",
    "            break\n",
    "\n",
    "    n_correct = int(sum(results))\n",
    "\n",
    "    return EvalResult(n_correct, len(results))\n",
    "\n",
    "\n",
    "# run a lot of examples from both train and test through the model and verify the output correctness\n",
    "with torch.no_grad():\n",
    "    train_score = eval_split(trainer, train_dataset, max_batches=50)\n",
    "    logger.info(f\"train - {train_score}\")\n",
    "    test_score = eval_split(trainer, test_dataset, max_batches=50)\n",
    "    logger.info(f\"test - {test_score}\")"
   ]
  },
  {
   "cell_type": "code",
   "execution_count": null,
   "metadata": {},
   "outputs": [],
   "source": [
    "# let's run a random given sequence through the model as well\n",
    "n = train_dataset.length\n",
    "_input = torch.tensor([[0, 0, 2, 1, 0, 1]], dtype=torch.long).to(trainer.device)\n",
    "\n",
    "assert _input[0].nelement() == n\n",
    "\n",
    "with torch.no_grad():\n",
    "    _inference = model.generate(_input, n, do_sample=False)\n",
    "\n",
    "_solution = torch.sort(_input[0])[0]\n",
    "_solution_candidate = _inference[:, n:]"
   ]
  },
  {
   "cell_type": "code",
   "execution_count": null,
   "metadata": {},
   "outputs": [],
   "source": [
    "logger.info(f\"input sequence  : {_input.tolist()}\")\n",
    "logger.info(f\"predicted sorted: {_solution_candidate.tolist()}\")\n",
    "logger.info(f\"actual sort     : {_solution.tolist()}\")\n",
    "logger.info(\n",
    "    f\"matches         : {bool((_solution == _solution_candidate).all())}\"\n",
    ")"
   ]
  }
 ],
 "metadata": {
  "kernelspec": {
   "display_name": ".venv",
   "language": "python",
   "name": "python3"
  },
  "language_info": {
   "codemirror_mode": {
    "name": "ipython",
    "version": 3
   },
   "file_extension": ".py",
   "mimetype": "text/x-python",
   "name": "python",
   "nbconvert_exporter": "python",
   "pygments_lexer": "ipython3",
   "version": "3.11.3"
  }
 },
 "nbformat": 4,
 "nbformat_minor": 2
}
