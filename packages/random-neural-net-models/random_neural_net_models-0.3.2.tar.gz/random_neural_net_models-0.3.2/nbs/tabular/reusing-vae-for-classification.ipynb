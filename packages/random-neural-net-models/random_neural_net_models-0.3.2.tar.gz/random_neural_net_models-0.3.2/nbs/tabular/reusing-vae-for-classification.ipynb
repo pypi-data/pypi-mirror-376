{
 "cells": [
  {
   "cell_type": "markdown",
   "metadata": {},
   "source": [
    "Based on `tabular-variational-auto-encoder.ipynb`"
   ]
  },
  {
   "cell_type": "code",
   "execution_count": null,
   "metadata": {},
   "outputs": [],
   "source": [
    "%load_ext autoreload\n",
    "%autoreload 2"
   ]
  },
  {
   "cell_type": "code",
   "execution_count": null,
   "metadata": {},
   "outputs": [],
   "source": [
    "import sklearn.datasets as sk_data\n",
    "import sklearn.model_selection as sk_selection\n",
    "import random_neural_net_models.tabular as rnnm_tab\n",
    "import torch.optim as optim\n",
    "import random_neural_net_models.learner as rnnm_learner\n",
    "import random_neural_net_models.data as rnnm_data\n",
    "import random_neural_net_models.utils as rnnm_utils\n",
    "from pathlib import Path\n",
    "import random_neural_net_models.tabular_vae as rnnm_tvae\n",
    "from torch.utils.data import DataLoader\n",
    "import random_neural_net_models.losses as rnnm_loss\n",
    "import sklearn.metrics as sk_metrics"
   ]
  },
  {
   "cell_type": "code",
   "execution_count": null,
   "metadata": {},
   "outputs": [],
   "source": [
    "rnnm_utils.make_deterministic(42)"
   ]
  },
  {
   "cell_type": "code",
   "execution_count": null,
   "metadata": {},
   "outputs": [],
   "source": [
    "device = rnnm_utils.get_device()\n",
    "device"
   ]
  },
  {
   "cell_type": "code",
   "execution_count": null,
   "metadata": {},
   "outputs": [],
   "source": [
    "n_samples = 1_000\n",
    "n_features = 3\n",
    "n_classes = 2\n",
    "X, y = sk_data.make_blobs(\n",
    "    n_samples=n_samples,\n",
    "    n_features=n_features,\n",
    "    random_state=42,\n",
    "    centers=n_classes,\n",
    ")"
   ]
  },
  {
   "cell_type": "code",
   "execution_count": null,
   "metadata": {},
   "outputs": [],
   "source": [
    "X0, X1, y0, y1 = sk_selection.train_test_split(X, y, test_size=0.2)"
   ]
  },
  {
   "cell_type": "code",
   "execution_count": null,
   "metadata": {},
   "outputs": [],
   "source": [
    "X0.shape, X1.shape"
   ]
  },
  {
   "cell_type": "markdown",
   "metadata": {},
   "source": [
    "## Training the VAE"
   ]
  },
  {
   "cell_type": "code",
   "execution_count": null,
   "metadata": {},
   "outputs": [],
   "source": [
    "ds_train_vae = rnnm_data.NumpyInferenceDataset(X0)\n",
    "ds_valid_vae = rnnm_data.NumpyInferenceDataset(X1)"
   ]
  },
  {
   "cell_type": "code",
   "execution_count": null,
   "metadata": {},
   "outputs": [],
   "source": [
    "ds_train_vae[2]"
   ]
  },
  {
   "cell_type": "code",
   "execution_count": null,
   "metadata": {},
   "outputs": [],
   "source": [
    "from torch.utils.data import RandomSampler\n",
    "import torch"
   ]
  },
  {
   "cell_type": "code",
   "execution_count": null,
   "metadata": {},
   "outputs": [],
   "source": [
    "batch_size_vae = 50\n",
    "\n",
    "sampler_vae = RandomSampler(\n",
    "    ds_train_vae,\n",
    "    replacement=True,\n",
    "    num_samples=int(1e5),\n",
    "    generator=torch.manual_seed(42),\n",
    ")\n",
    "\n",
    "dl_train_vae = DataLoader(\n",
    "    ds_train_vae,\n",
    "    batch_size=batch_size_vae,\n",
    "    sampler=sampler_vae,\n",
    "    collate_fn=rnnm_data.collate_numpy_dataset_to_xblock,\n",
    "    drop_last=True,\n",
    ")\n",
    "dl_valid_vae = DataLoader(\n",
    "    ds_valid_vae,\n",
    "    batch_size=batch_size_vae,\n",
    "    collate_fn=rnnm_data.collate_numpy_dataset_to_xblock,\n",
    ")"
   ]
  },
  {
   "cell_type": "code",
   "execution_count": null,
   "metadata": {},
   "outputs": [],
   "source": [
    "next(iter(dl_train_vae))"
   ]
  },
  {
   "cell_type": "code",
   "execution_count": null,
   "metadata": {},
   "outputs": [],
   "source": [
    "means = X0.mean(axis=0)\n",
    "means"
   ]
  },
  {
   "cell_type": "code",
   "execution_count": null,
   "metadata": {},
   "outputs": [],
   "source": [
    "stds = X0.std(axis=0)\n",
    "stds"
   ]
  },
  {
   "cell_type": "code",
   "execution_count": null,
   "metadata": {},
   "outputs": [],
   "source": [
    "n_features = X0.shape[1]\n",
    "n_hidden = [n_features, 3, 3]\n",
    "do_impute = False\n",
    "impute_bias_source = rnnm_tab.BiasSources.zero\n",
    "n_latent = 2\n",
    "\n",
    "model_vae = rnnm_tvae.TabularVariationalAutoEncoderNumerical(\n",
    "    n_hidden=n_hidden,\n",
    "    n_latent=n_latent,\n",
    "    means=means,\n",
    "    stds=stds,\n",
    "    do_impute=False,\n",
    "    use_batch_norm=True,\n",
    ")"
   ]
  },
  {
   "cell_type": "code",
   "execution_count": null,
   "metadata": {},
   "outputs": [],
   "source": [
    "learning_rate_classy = 0.1\n",
    "optimizer_vae = optim.Adam(model_vae.parameters(), lr=learning_rate_classy)\n",
    "loss_vae = rnnm_tvae.KullbackLeiblerNumericalOnlyLoss()\n",
    "loss_callback = rnnm_learner.TrainLossCallback()\n",
    "\n",
    "save_dir = Path(\"./models\")\n",
    "\n",
    "callbacks = [loss_callback]"
   ]
  },
  {
   "cell_type": "code",
   "execution_count": null,
   "metadata": {},
   "outputs": [],
   "source": [
    "learner_vae = rnnm_learner.Learner(\n",
    "    model_vae,\n",
    "    optimizer_vae,\n",
    "    loss_vae,\n",
    "    callbacks=callbacks,\n",
    "    save_dir=save_dir,\n",
    "    device=device,\n",
    "    show_epoch_progress=True,\n",
    ")"
   ]
  },
  {
   "cell_type": "code",
   "execution_count": null,
   "metadata": {},
   "outputs": [],
   "source": [
    "lr_find_callback = rnnm_learner.LRFinderCallback(1e-5, 100, 100)\n",
    "\n",
    "learner_vae.find_learning_rate(\n",
    "    dl_train_vae, n_epochs=10, lr_find_callback=lr_find_callback\n",
    ")"
   ]
  },
  {
   "cell_type": "code",
   "execution_count": null,
   "metadata": {},
   "outputs": [],
   "source": [
    "lr_find_callback.plot(yscale=\"log\", ylim=(1e3, 5e4))"
   ]
  },
  {
   "cell_type": "code",
   "execution_count": null,
   "metadata": {},
   "outputs": [],
   "source": [
    "learning_rate_vae = 2e-1\n",
    "n_epochs_vae = 5\n",
    "\n",
    "scheduler_vae = optim.lr_scheduler.OneCycleLR(\n",
    "    optimizer=optimizer_vae,\n",
    "    max_lr=learning_rate_vae,\n",
    "    epochs=n_epochs_vae,\n",
    "    steps_per_epoch=len(dl_train_vae),\n",
    ")\n",
    "scheduler_callback = rnnm_learner.EveryBatchSchedulerCallback(scheduler_vae)\n",
    "learner_vae.update_callback(scheduler_callback)"
   ]
  },
  {
   "cell_type": "code",
   "execution_count": null,
   "metadata": {},
   "outputs": [],
   "source": [
    "learner_vae.fit(\n",
    "    dl_train_vae, n_epochs=n_epochs_vae, dataloader_valid=dl_valid_vae\n",
    ")"
   ]
  },
  {
   "cell_type": "code",
   "execution_count": null,
   "metadata": {},
   "outputs": [],
   "source": [
    "loss_callback.plot(yscale=\"log\")"
   ]
  },
  {
   "cell_type": "code",
   "execution_count": null,
   "metadata": {},
   "outputs": [],
   "source": [
    "X_preds = learner_vae.predict(dl_valid_vae, component=0).detach().numpy()\n",
    "X_preds[:3]"
   ]
  },
  {
   "cell_type": "code",
   "execution_count": null,
   "metadata": {},
   "outputs": [],
   "source": [
    "import seaborn as sns\n",
    "\n",
    "ax = sns.scatterplot(\n",
    "    x=X1[:, 0], y=X1[:, 1], alpha=0.3, color=\"black\", label=\"orig\"\n",
    ")\n",
    "sns.scatterplot(\n",
    "    x=X_preds[:, 0],\n",
    "    y=X_preds[:, 1],\n",
    "    alpha=0.3,\n",
    "    color=\"orange\",\n",
    "    label=\"vae\",\n",
    "    ax=ax,\n",
    ")\n",
    "ax.legend()"
   ]
  },
  {
   "cell_type": "markdown",
   "metadata": {},
   "source": [
    "## Re-using the trained Encoder for classification"
   ]
  },
  {
   "cell_type": "code",
   "execution_count": null,
   "metadata": {},
   "outputs": [],
   "source": [
    "ds_train_classy = rnnm_data.NumpyTrainingDataset(X0, y0.astype(int))\n",
    "ds_valid_classy = rnnm_data.NumpyTrainingDataset(X1, y1.astype(int))"
   ]
  },
  {
   "cell_type": "code",
   "execution_count": null,
   "metadata": {},
   "outputs": [],
   "source": [
    "batch_size_classy = 50\n",
    "\n",
    "dl_train_classy = DataLoader(\n",
    "    ds_train_classy,\n",
    "    batch_size=batch_size_classy,\n",
    "    collate_fn=rnnm_data.collate_numpy_dataset_to_xyblock_keep_orig_y,\n",
    ")\n",
    "dl_valid_classy = DataLoader(\n",
    "    ds_valid_classy,\n",
    "    batch_size=batch_size_classy,\n",
    "    collate_fn=rnnm_data.collate_numpy_dataset_to_xyblock_keep_orig_y,\n",
    ")"
   ]
  },
  {
   "cell_type": "code",
   "execution_count": null,
   "metadata": {},
   "outputs": [],
   "source": [
    "next(iter(dl_train_classy))"
   ]
  },
  {
   "cell_type": "code",
   "execution_count": null,
   "metadata": {},
   "outputs": [],
   "source": [
    "model_classy = rnnm_tvae.TabularModelReusingTrainedEncoder(\n",
    "    pretrained_encoder=model_vae.encoder, n_out=n_classes, use_batch_norm=False\n",
    ")"
   ]
  },
  {
   "cell_type": "code",
   "execution_count": null,
   "metadata": {},
   "outputs": [],
   "source": [
    "learning_rate_classy = 0.1\n",
    "optimizer_classy = optim.Adam(\n",
    "    model_classy.parameters(), lr=learning_rate_classy\n",
    ")\n",
    "loss_classy = rnnm_loss.CrossEntropyXy()\n",
    "loss_callback = rnnm_learner.TrainLossCallback()\n",
    "\n",
    "save_dir = Path(\"./models\")\n",
    "\n",
    "callbacks = [loss_callback]"
   ]
  },
  {
   "cell_type": "code",
   "execution_count": null,
   "metadata": {},
   "outputs": [],
   "source": [
    "learner_classy = rnnm_learner.Learner(\n",
    "    model_classy,\n",
    "    optimizer_classy,\n",
    "    loss_classy,\n",
    "    callbacks=callbacks,\n",
    "    save_dir=save_dir,\n",
    "    device=device,\n",
    "    show_epoch_progress=True,\n",
    ")"
   ]
  },
  {
   "cell_type": "code",
   "execution_count": null,
   "metadata": {},
   "outputs": [],
   "source": [
    "import copy\n",
    "\n",
    "orig_vae_weights = copy.deepcopy(\n",
    "    model_classy.pretrained_encoder.net[0].lin.weight.detach().cpu()\n",
    ")\n",
    "orig_vae_weights"
   ]
  },
  {
   "cell_type": "code",
   "execution_count": null,
   "metadata": {},
   "outputs": [],
   "source": [
    "lr_find_callback = rnnm_learner.LRFinderCallback(1e-5, 100, 100)\n",
    "\n",
    "learner_classy.find_learning_rate(\n",
    "    dl_train_classy, n_epochs=10, lr_find_callback=lr_find_callback\n",
    ")"
   ]
  },
  {
   "cell_type": "code",
   "execution_count": null,
   "metadata": {},
   "outputs": [],
   "source": [
    "lr_find_callback.plot(yscale=\"log\")"
   ]
  },
  {
   "cell_type": "code",
   "execution_count": null,
   "metadata": {},
   "outputs": [],
   "source": [
    "learning_rate_classy = 0.1\n",
    "n_epochs_classy = 5\n",
    "\n",
    "scheduler_classy = optim.lr_scheduler.OneCycleLR(\n",
    "    optimizer=optimizer_classy,\n",
    "    max_lr=learning_rate_classy,\n",
    "    epochs=n_epochs_classy,\n",
    "    steps_per_epoch=len(dl_train_classy),\n",
    ")\n",
    "scheduler_callback = rnnm_learner.EveryBatchSchedulerCallback(scheduler_classy)\n",
    "learner_classy.update_callback(scheduler_callback)"
   ]
  },
  {
   "cell_type": "code",
   "execution_count": null,
   "metadata": {},
   "outputs": [],
   "source": [
    "learner_classy.fit(\n",
    "    dl_train_classy, n_epochs=n_epochs_classy, dataloader_valid=dl_valid_classy\n",
    ")"
   ]
  },
  {
   "cell_type": "code",
   "execution_count": null,
   "metadata": {},
   "outputs": [],
   "source": [
    "loss_callback.plot()"
   ]
  },
  {
   "cell_type": "code",
   "execution_count": null,
   "metadata": {},
   "outputs": [],
   "source": [
    "probs = (\n",
    "    learner_classy.predict(dl_valid_classy)\n",
    "    .detach()\n",
    "    .softmax(dim=1)\n",
    "    .numpy()[:, 1]\n",
    ")\n",
    "probs[:3]"
   ]
  },
  {
   "cell_type": "code",
   "execution_count": null,
   "metadata": {},
   "outputs": [],
   "source": [
    "print(sk_metrics.roc_auc_score(y1, probs))"
   ]
  },
  {
   "cell_type": "code",
   "execution_count": null,
   "metadata": {},
   "outputs": [],
   "source": [
    "orig_vae_weights"
   ]
  },
  {
   "cell_type": "code",
   "execution_count": null,
   "metadata": {},
   "outputs": [],
   "source": [
    "final_vae_weights = copy.deepcopy(\n",
    "    model_classy.pretrained_encoder.net[0].lin.weight.detach().cpu()\n",
    ")\n",
    "final_vae_weights"
   ]
  },
  {
   "cell_type": "code",
   "execution_count": null,
   "metadata": {},
   "outputs": [],
   "source": [
    "assert torch.allclose(orig_vae_weights, final_vae_weights)"
   ]
  }
 ],
 "metadata": {
  "kernelspec": {
   "display_name": ".venv",
   "language": "python",
   "name": "python3"
  },
  "language_info": {
   "codemirror_mode": {
    "name": "ipython",
    "version": 3
   },
   "file_extension": ".py",
   "mimetype": "text/x-python",
   "name": "python",
   "nbconvert_exporter": "python",
   "pygments_lexer": "ipython3",
   "version": "3.11.3"
  }
 },
 "nbformat": 4,
 "nbformat_minor": 2
}
