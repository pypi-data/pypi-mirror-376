{
  "cells": [
    {
      "cell_type": "markdown",
      "source": [
        "# Deps"
      ],
      "metadata": {
        "id": "1TuCjr-LJW5A"
      },
      "id": "1TuCjr-LJW5A"
    },
    {
      "cell_type": "code",
      "id": "vsMISfv3yTQaOXKCorV6orjW",
      "metadata": {
        "tags": [],
        "id": "vsMISfv3yTQaOXKCorV6orjW",
        "colab": {
          "base_uri": "https://localhost:8080/"
        },
        "outputId": "a62827d9-acf7-45e4-9a74-99d15c24c1e3"
      },
      "source": [
        "!pip install checklist-plus --upgrade"
      ],
      "execution_count": null,
      "outputs": [
        {
          "output_type": "stream",
          "name": "stdout",
          "text": [
            "Requirement already satisfied: checklist-plus in /usr/local/lib/python3.10/dist-packages (0.1.1)\n",
            "Requirement already satisfied: numpy>=1.18 in /usr/local/lib/python3.10/dist-packages (from checklist-plus) (1.26.4)\n",
            "Requirement already satisfied: spacy>=2.2 in /usr/local/lib/python3.10/dist-packages (from checklist-plus) (3.7.5)\n",
            "Requirement already satisfied: munch>=2.5 in /usr/local/lib/python3.10/dist-packages (from checklist-plus) (4.0.0)\n",
            "Requirement already satisfied: dill>=0.3.1 in /usr/local/lib/python3.10/dist-packages (from checklist-plus) (0.4.0)\n",
            "Requirement already satisfied: jupyter>=1.0 in /usr/local/lib/python3.10/dist-packages (from checklist-plus) (1.1.1)\n",
            "Requirement already satisfied: ipywidgets>=7.5 in /usr/local/lib/python3.10/dist-packages (from checklist-plus) (7.7.1)\n",
            "Requirement already satisfied: transformers>=2.8 in /usr/local/lib/python3.10/dist-packages (from checklist-plus) (4.47.1)\n",
            "Requirement already satisfied: patternfork-nosql in /usr/local/lib/python3.10/dist-packages (from checklist-plus) (3.6)\n",
            "Requirement already satisfied: pycountry in /usr/local/lib/python3.10/dist-packages (from checklist-plus) (24.6.1)\n",
            "Requirement already satisfied: openai>=1.0.0 in /usr/local/lib/python3.10/dist-packages (from checklist-plus) (1.59.4)\n",
            "Requirement already satisfied: anthropic>=0.3.0 in /usr/local/lib/python3.10/dist-packages (from checklist-plus) (0.67.0)\n",
            "Requirement already satisfied: tiktoken>=0.5.0 in /usr/local/lib/python3.10/dist-packages (from checklist-plus) (0.11.0)\n",
            "Requirement already satisfied: tenacity>=8.0.0 in /usr/local/lib/python3.10/dist-packages (from checklist-plus) (8.5.0)\n",
            "Requirement already satisfied: pydantic==1.10.9 in /usr/local/lib/python3.10/dist-packages (from checklist-plus) (1.10.9)\n",
            "Requirement already satisfied: aiohttp>=3.8.0 in /usr/local/lib/python3.10/dist-packages (from checklist-plus) (3.11.11)\n",
            "Requirement already satisfied: python-dotenv>=1.0.0 in /usr/local/lib/python3.10/dist-packages (from checklist-plus) (1.1.1)\n",
            "Requirement already satisfied: jsonschema>=4.0.0 in /usr/local/lib/python3.10/dist-packages (from checklist-plus) (4.23.0)\n",
            "Requirement already satisfied: langchain>=0.0.27 in /usr/local/lib/python3.10/dist-packages (from langchain[all]>=0.0.27->checklist-plus) (0.2.17)\n",
            "Requirement already satisfied: langchain-community>=0.0.38 in /usr/local/lib/python3.10/dist-packages (from checklist-plus) (0.2.19)\n",
            "Requirement already satisfied: langchain-openai>=0.1.25 in /usr/local/lib/python3.10/dist-packages (from checklist-plus) (0.1.25)\n",
            "Requirement already satisfied: hydra-core>=1.3.2 in /usr/local/lib/python3.10/dist-packages (from checklist-plus) (1.3.2)\n",
            "Requirement already satisfied: pip>=25.2 in /usr/local/lib/python3.10/dist-packages (from checklist-plus) (25.2)\n",
            "Requirement already satisfied: typing-extensions>=4.2.0 in /usr/local/lib/python3.10/dist-packages (from pydantic==1.10.9->checklist-plus) (4.14.1)\n",
            "Requirement already satisfied: aiohappyeyeballs>=2.3.0 in /usr/local/lib/python3.10/dist-packages (from aiohttp>=3.8.0->checklist-plus) (2.4.4)\n",
            "Requirement already satisfied: aiosignal>=1.1.2 in /usr/local/lib/python3.10/dist-packages (from aiohttp>=3.8.0->checklist-plus) (1.3.2)\n",
            "Requirement already satisfied: async-timeout<6.0,>=4.0 in /usr/local/lib/python3.10/dist-packages (from aiohttp>=3.8.0->checklist-plus) (4.0.3)\n",
            "Requirement already satisfied: attrs>=17.3.0 in /usr/local/lib/python3.10/dist-packages (from aiohttp>=3.8.0->checklist-plus) (24.3.0)\n",
            "Requirement already satisfied: frozenlist>=1.1.1 in /usr/local/lib/python3.10/dist-packages (from aiohttp>=3.8.0->checklist-plus) (1.5.0)\n",
            "Requirement already satisfied: multidict<7.0,>=4.5 in /usr/local/lib/python3.10/dist-packages (from aiohttp>=3.8.0->checklist-plus) (6.1.0)\n",
            "Requirement already satisfied: propcache>=0.2.0 in /usr/local/lib/python3.10/dist-packages (from aiohttp>=3.8.0->checklist-plus) (0.2.1)\n",
            "Requirement already satisfied: yarl<2.0,>=1.17.0 in /usr/local/lib/python3.10/dist-packages (from aiohttp>=3.8.0->checklist-plus) (1.18.3)\n",
            "Requirement already satisfied: idna>=2.0 in /usr/local/lib/python3.10/dist-packages (from yarl<2.0,>=1.17.0->aiohttp>=3.8.0->checklist-plus) (3.10)\n",
            "Requirement already satisfied: anyio<5,>=3.5.0 in /usr/local/lib/python3.10/dist-packages (from anthropic>=0.3.0->checklist-plus) (3.7.1)\n",
            "Requirement already satisfied: distro<2,>=1.7.0 in /usr/local/lib/python3.10/dist-packages (from anthropic>=0.3.0->checklist-plus) (1.9.0)\n",
            "Requirement already satisfied: httpx<1,>=0.25.0 in /usr/local/lib/python3.10/dist-packages (from anthropic>=0.3.0->checklist-plus) (0.28.1)\n",
            "Requirement already satisfied: jiter<1,>=0.4.0 in /usr/local/lib/python3.10/dist-packages (from anthropic>=0.3.0->checklist-plus) (0.8.2)\n",
            "Requirement already satisfied: sniffio in /usr/local/lib/python3.10/dist-packages (from anthropic>=0.3.0->checklist-plus) (1.3.1)\n",
            "Requirement already satisfied: exceptiongroup in /usr/local/lib/python3.10/dist-packages (from anyio<5,>=3.5.0->anthropic>=0.3.0->checklist-plus) (1.2.2)\n",
            "Requirement already satisfied: certifi in /usr/local/lib/python3.10/dist-packages (from httpx<1,>=0.25.0->anthropic>=0.3.0->checklist-plus) (2024.12.14)\n",
            "Requirement already satisfied: httpcore==1.* in /usr/local/lib/python3.10/dist-packages (from httpx<1,>=0.25.0->anthropic>=0.3.0->checklist-plus) (1.0.7)\n",
            "Requirement already satisfied: h11<0.15,>=0.13 in /usr/local/lib/python3.10/dist-packages (from httpcore==1.*->httpx<1,>=0.25.0->anthropic>=0.3.0->checklist-plus) (0.14.0)\n",
            "Requirement already satisfied: omegaconf<2.4,>=2.2 in /usr/local/lib/python3.10/dist-packages (from hydra-core>=1.3.2->checklist-plus) (2.3.0)\n",
            "Requirement already satisfied: antlr4-python3-runtime==4.9.* in /usr/local/lib/python3.10/dist-packages (from hydra-core>=1.3.2->checklist-plus) (4.9.3)\n",
            "Requirement already satisfied: packaging in /usr/local/lib/python3.10/dist-packages (from hydra-core>=1.3.2->checklist-plus) (24.2)\n",
            "Requirement already satisfied: PyYAML>=5.1.0 in /usr/local/lib/python3.10/dist-packages (from omegaconf<2.4,>=2.2->hydra-core>=1.3.2->checklist-plus) (6.0.2)\n",
            "Requirement already satisfied: ipykernel>=4.5.1 in /usr/local/lib/python3.10/dist-packages (from ipywidgets>=7.5->checklist-plus) (6.29.5)\n",
            "Requirement already satisfied: ipython-genutils~=0.2.0 in /usr/local/lib/python3.10/dist-packages (from ipywidgets>=7.5->checklist-plus) (0.2.0)\n",
            "Requirement already satisfied: traitlets>=4.3.1 in /usr/local/lib/python3.10/dist-packages (from ipywidgets>=7.5->checklist-plus) (5.7.1)\n",
            "Requirement already satisfied: widgetsnbextension~=3.6.0 in /usr/local/lib/python3.10/dist-packages (from ipywidgets>=7.5->checklist-plus) (3.6.10)\n",
            "Requirement already satisfied: ipython>=4.0.0 in /usr/local/lib/python3.10/dist-packages (from ipywidgets>=7.5->checklist-plus) (7.34.0)\n",
            "Requirement already satisfied: jupyterlab-widgets>=1.0.0 in /usr/local/lib/python3.10/dist-packages (from ipywidgets>=7.5->checklist-plus) (3.0.13)\n",
            "Requirement already satisfied: notebook>=4.4.1 in /usr/local/lib/python3.10/dist-packages (from widgetsnbextension~=3.6.0->ipywidgets>=7.5->checklist-plus) (6.5.5)\n",
            "Requirement already satisfied: comm>=0.1.1 in /usr/local/lib/python3.10/dist-packages (from ipykernel>=4.5.1->ipywidgets>=7.5->checklist-plus) (0.2.3)\n",
            "Requirement already satisfied: debugpy>=1.6.5 in /usr/local/lib/python3.10/dist-packages (from ipykernel>=4.5.1->ipywidgets>=7.5->checklist-plus) (1.8.0)\n",
            "Requirement already satisfied: jupyter-client>=6.1.12 in /usr/local/lib/python3.10/dist-packages (from ipykernel>=4.5.1->ipywidgets>=7.5->checklist-plus) (7.4.9)\n",
            "Requirement already satisfied: jupyter-core!=5.0.*,>=4.12 in /usr/local/lib/python3.10/dist-packages (from ipykernel>=4.5.1->ipywidgets>=7.5->checklist-plus) (5.7.2)\n",
            "Requirement already satisfied: matplotlib-inline>=0.1 in /usr/local/lib/python3.10/dist-packages (from ipykernel>=4.5.1->ipywidgets>=7.5->checklist-plus) (0.1.7)\n",
            "Requirement already satisfied: nest-asyncio in /usr/local/lib/python3.10/dist-packages (from ipykernel>=4.5.1->ipywidgets>=7.5->checklist-plus) (1.6.0)\n",
            "Requirement already satisfied: psutil in /usr/local/lib/python3.10/dist-packages (from ipykernel>=4.5.1->ipywidgets>=7.5->checklist-plus) (5.9.5)\n",
            "Requirement already satisfied: pyzmq>=24 in /usr/local/lib/python3.10/dist-packages (from ipykernel>=4.5.1->ipywidgets>=7.5->checklist-plus) (24.0.1)\n",
            "Requirement already satisfied: tornado>=6.1 in /usr/local/lib/python3.10/dist-packages (from ipykernel>=4.5.1->ipywidgets>=7.5->checklist-plus) (6.3.3)\n",
            "Requirement already satisfied: setuptools>=18.5 in /usr/local/lib/python3.10/dist-packages (from ipython>=4.0.0->ipywidgets>=7.5->checklist-plus) (69.5.1)\n",
            "Requirement already satisfied: jedi>=0.16 in /usr/local/lib/python3.10/dist-packages (from ipython>=4.0.0->ipywidgets>=7.5->checklist-plus) (0.19.2)\n",
            "Requirement already satisfied: decorator in /usr/local/lib/python3.10/dist-packages (from ipython>=4.0.0->ipywidgets>=7.5->checklist-plus) (4.4.2)\n",
            "Requirement already satisfied: pickleshare in /usr/local/lib/python3.10/dist-packages (from ipython>=4.0.0->ipywidgets>=7.5->checklist-plus) (0.7.5)\n",
            "Requirement already satisfied: prompt-toolkit!=3.0.0,!=3.0.1,<3.1.0,>=2.0.0 in /usr/local/lib/python3.10/dist-packages (from ipython>=4.0.0->ipywidgets>=7.5->checklist-plus) (3.0.48)\n",
            "Requirement already satisfied: pygments in /usr/local/lib/python3.10/dist-packages (from ipython>=4.0.0->ipywidgets>=7.5->checklist-plus) (2.19.2)\n",
            "Requirement already satisfied: backcall in /usr/local/lib/python3.10/dist-packages (from ipython>=4.0.0->ipywidgets>=7.5->checklist-plus) (0.2.0)\n",
            "Requirement already satisfied: pexpect>4.3 in /usr/local/lib/python3.10/dist-packages (from ipython>=4.0.0->ipywidgets>=7.5->checklist-plus) (4.9.0)\n",
            "Requirement already satisfied: wcwidth in /usr/local/lib/python3.10/dist-packages (from prompt-toolkit!=3.0.0,!=3.0.1,<3.1.0,>=2.0.0->ipython>=4.0.0->ipywidgets>=7.5->checklist-plus) (0.2.13)\n",
            "Requirement already satisfied: parso<0.9.0,>=0.8.4 in /usr/local/lib/python3.10/dist-packages (from jedi>=0.16->ipython>=4.0.0->ipywidgets>=7.5->checklist-plus) (0.8.4)\n",
            "Requirement already satisfied: jsonschema-specifications>=2023.03.6 in /usr/local/lib/python3.10/dist-packages (from jsonschema>=4.0.0->checklist-plus) (2024.10.1)\n",
            "Requirement already satisfied: referencing>=0.28.4 in /usr/local/lib/python3.10/dist-packages (from jsonschema>=4.0.0->checklist-plus) (0.35.1)\n",
            "Requirement already satisfied: rpds-py>=0.7.1 in /usr/local/lib/python3.10/dist-packages (from jsonschema>=4.0.0->checklist-plus) (0.22.3)\n",
            "Requirement already satisfied: jupyter-console in /usr/local/lib/python3.10/dist-packages (from jupyter>=1.0->checklist-plus) (6.1.0)\n",
            "Requirement already satisfied: nbconvert in /usr/local/lib/python3.10/dist-packages (from jupyter>=1.0->checklist-plus) (7.16.5)\n",
            "Requirement already satisfied: jupyterlab in /usr/local/lib/python3.10/dist-packages (from jupyter>=1.0->checklist-plus) (4.4.7)\n",
            "Requirement already satisfied: entrypoints in /usr/local/lib/python3.10/dist-packages (from jupyter-client>=6.1.12->ipykernel>=4.5.1->ipywidgets>=7.5->checklist-plus) (0.4)\n",
            "Requirement already satisfied: python-dateutil>=2.8.2 in /usr/local/lib/python3.10/dist-packages (from jupyter-client>=6.1.12->ipykernel>=4.5.1->ipywidgets>=7.5->checklist-plus) (2.8.2)\n",
            "Requirement already satisfied: platformdirs>=2.5 in /usr/local/lib/python3.10/dist-packages (from jupyter-core!=5.0.*,>=4.12->ipykernel>=4.5.1->ipywidgets>=7.5->checklist-plus) (4.3.6)\n",
            "Requirement already satisfied: SQLAlchemy<3,>=1.4 in /usr/local/lib/python3.10/dist-packages (from langchain>=0.0.27->langchain[all]>=0.0.27->checklist-plus) (2.0.36)\n",
            "Requirement already satisfied: langchain-core<0.3.0,>=0.2.43 in /usr/local/lib/python3.10/dist-packages (from langchain>=0.0.27->langchain[all]>=0.0.27->checklist-plus) (0.2.43)\n",
            "Requirement already satisfied: langchain-text-splitters<0.3.0,>=0.2.0 in /usr/local/lib/python3.10/dist-packages (from langchain>=0.0.27->langchain[all]>=0.0.27->checklist-plus) (0.2.4)\n",
            "Requirement already satisfied: langsmith<0.2.0,>=0.1.17 in /usr/local/lib/python3.10/dist-packages (from langchain>=0.0.27->langchain[all]>=0.0.27->checklist-plus) (0.1.147)\n",
            "Requirement already satisfied: requests<3,>=2 in /usr/local/lib/python3.10/dist-packages (from langchain>=0.0.27->langchain[all]>=0.0.27->checklist-plus) (2.32.3)\n",
            "Requirement already satisfied: jsonpatch<2.0,>=1.33 in /usr/local/lib/python3.10/dist-packages (from langchain-core<0.3.0,>=0.2.43->langchain>=0.0.27->langchain[all]>=0.0.27->checklist-plus) (1.33)\n",
            "Requirement already satisfied: jsonpointer>=1.9 in /usr/local/lib/python3.10/dist-packages (from jsonpatch<2.0,>=1.33->langchain-core<0.3.0,>=0.2.43->langchain>=0.0.27->langchain[all]>=0.0.27->checklist-plus) (3.0.0)\n",
            "Requirement already satisfied: orjson<4.0.0,>=3.9.14 in /usr/local/lib/python3.10/dist-packages (from langsmith<0.2.0,>=0.1.17->langchain>=0.0.27->langchain[all]>=0.0.27->checklist-plus) (3.10.13)\n",
            "Requirement already satisfied: requests-toolbelt<2.0.0,>=1.0.0 in /usr/local/lib/python3.10/dist-packages (from langsmith<0.2.0,>=0.1.17->langchain>=0.0.27->langchain[all]>=0.0.27->checklist-plus) (1.0.0)\n",
            "Requirement already satisfied: charset-normalizer<4,>=2 in /usr/local/lib/python3.10/dist-packages (from requests<3,>=2->langchain>=0.0.27->langchain[all]>=0.0.27->checklist-plus) (3.4.1)\n",
            "Requirement already satisfied: urllib3<3,>=1.21.1 in /usr/local/lib/python3.10/dist-packages (from requests<3,>=2->langchain>=0.0.27->langchain[all]>=0.0.27->checklist-plus) (2.3.0)\n",
            "Requirement already satisfied: greenlet!=0.4.17 in /usr/local/lib/python3.10/dist-packages (from SQLAlchemy<3,>=1.4->langchain>=0.0.27->langchain[all]>=0.0.27->checklist-plus) (3.1.1)\n",
            "Requirement already satisfied: dataclasses-json<0.7,>=0.5.7 in /usr/local/lib/python3.10/dist-packages (from langchain-community>=0.0.38->checklist-plus) (0.6.7)\n",
            "Requirement already satisfied: marshmallow<4.0.0,>=3.18.0 in /usr/local/lib/python3.10/dist-packages (from dataclasses-json<0.7,>=0.5.7->langchain-community>=0.0.38->checklist-plus) (3.26.1)\n",
            "Requirement already satisfied: typing-inspect<1,>=0.4.0 in /usr/local/lib/python3.10/dist-packages (from dataclasses-json<0.7,>=0.5.7->langchain-community>=0.0.38->checklist-plus) (0.9.0)\n",
            "Requirement already satisfied: mypy-extensions>=0.3.0 in /usr/local/lib/python3.10/dist-packages (from typing-inspect<1,>=0.4.0->dataclasses-json<0.7,>=0.5.7->langchain-community>=0.0.38->checklist-plus) (1.1.0)\n",
            "Requirement already satisfied: tqdm>4 in /usr/local/lib/python3.10/dist-packages (from openai>=1.0.0->checklist-plus) (4.67.1)\n",
            "Requirement already satisfied: regex>=2022.1.18 in /usr/local/lib/python3.10/dist-packages (from tiktoken>=0.5.0->checklist-plus) (2024.11.6)\n",
            "\u001b[33mWARNING: langchain 0.2.17 does not provide the extra 'all'\u001b[0m\u001b[33m\n",
            "\u001b[0mRequirement already satisfied: jinja2 in /usr/local/lib/python3.10/dist-packages (from notebook>=4.4.1->widgetsnbextension~=3.6.0->ipywidgets>=7.5->checklist-plus) (3.1.5)\n",
            "Requirement already satisfied: argon2-cffi in /usr/local/lib/python3.10/dist-packages (from notebook>=4.4.1->widgetsnbextension~=3.6.0->ipywidgets>=7.5->checklist-plus) (23.1.0)\n",
            "Requirement already satisfied: nbformat in /usr/local/lib/python3.10/dist-packages (from notebook>=4.4.1->widgetsnbextension~=3.6.0->ipywidgets>=7.5->checklist-plus) (5.10.4)\n",
            "Requirement already satisfied: Send2Trash>=1.8.0 in /usr/local/lib/python3.10/dist-packages (from notebook>=4.4.1->widgetsnbextension~=3.6.0->ipywidgets>=7.5->checklist-plus) (1.8.3)\n",
            "Requirement already satisfied: terminado>=0.8.3 in /usr/local/lib/python3.10/dist-packages (from notebook>=4.4.1->widgetsnbextension~=3.6.0->ipywidgets>=7.5->checklist-plus) (0.18.1)\n",
            "Requirement already satisfied: prometheus-client in /usr/local/lib/python3.10/dist-packages (from notebook>=4.4.1->widgetsnbextension~=3.6.0->ipywidgets>=7.5->checklist-plus) (0.21.1)\n",
            "Requirement already satisfied: nbclassic>=0.4.7 in /usr/local/lib/python3.10/dist-packages (from notebook>=4.4.1->widgetsnbextension~=3.6.0->ipywidgets>=7.5->checklist-plus) (1.1.0)\n",
            "Requirement already satisfied: notebook-shim>=0.2.3 in /usr/local/lib/python3.10/dist-packages (from nbclassic>=0.4.7->notebook>=4.4.1->widgetsnbextension~=3.6.0->ipywidgets>=7.5->checklist-plus) (0.2.4)\n",
            "Requirement already satisfied: beautifulsoup4 in /usr/local/lib/python3.10/dist-packages (from nbconvert->jupyter>=1.0->checklist-plus) (4.12.3)\n",
            "Requirement already satisfied: bleach!=5.0.0 in /usr/local/lib/python3.10/dist-packages (from bleach[css]!=5.0.0->nbconvert->jupyter>=1.0->checklist-plus) (6.2.0)\n",
            "Requirement already satisfied: defusedxml in /usr/local/lib/python3.10/dist-packages (from nbconvert->jupyter>=1.0->checklist-plus) (0.7.1)\n",
            "Requirement already satisfied: jupyterlab-pygments in /usr/local/lib/python3.10/dist-packages (from nbconvert->jupyter>=1.0->checklist-plus) (0.3.0)\n",
            "Requirement already satisfied: markupsafe>=2.0 in /usr/local/lib/python3.10/dist-packages (from nbconvert->jupyter>=1.0->checklist-plus) (3.0.2)\n",
            "Requirement already satisfied: mistune<4,>=2.0.3 in /usr/local/lib/python3.10/dist-packages (from nbconvert->jupyter>=1.0->checklist-plus) (3.1.0)\n",
            "Requirement already satisfied: nbclient>=0.5.0 in /usr/local/lib/python3.10/dist-packages (from nbconvert->jupyter>=1.0->checklist-plus) (0.10.2)\n",
            "Requirement already satisfied: pandocfilters>=1.4.1 in /usr/local/lib/python3.10/dist-packages (from nbconvert->jupyter>=1.0->checklist-plus) (1.5.1)\n",
            "Requirement already satisfied: webencodings in /usr/local/lib/python3.10/dist-packages (from bleach!=5.0.0->bleach[css]!=5.0.0->nbconvert->jupyter>=1.0->checklist-plus) (0.5.1)\n",
            "Requirement already satisfied: tinycss2<1.5,>=1.1.0 in /usr/local/lib/python3.10/dist-packages (from bleach[css]!=5.0.0->nbconvert->jupyter>=1.0->checklist-plus) (1.4.0)\n",
            "Requirement already satisfied: fastjsonschema>=2.15 in /usr/local/lib/python3.10/dist-packages (from nbformat->notebook>=4.4.1->widgetsnbextension~=3.6.0->ipywidgets>=7.5->checklist-plus) (2.21.1)\n",
            "Requirement already satisfied: jupyter-server<3,>=1.8 in /usr/local/lib/python3.10/dist-packages (from notebook-shim>=0.2.3->nbclassic>=0.4.7->notebook>=4.4.1->widgetsnbextension~=3.6.0->ipywidgets>=7.5->checklist-plus) (2.17.0)\n",
            "Requirement already satisfied: jupyter-events>=0.11.0 in /usr/local/lib/python3.10/dist-packages (from jupyter-server<3,>=1.8->notebook-shim>=0.2.3->nbclassic>=0.4.7->notebook>=4.4.1->widgetsnbextension~=3.6.0->ipywidgets>=7.5->checklist-plus) (0.12.0)\n",
            "Requirement already satisfied: jupyter-server-terminals>=0.4.4 in /usr/local/lib/python3.10/dist-packages (from jupyter-server<3,>=1.8->notebook-shim>=0.2.3->nbclassic>=0.4.7->notebook>=4.4.1->widgetsnbextension~=3.6.0->ipywidgets>=7.5->checklist-plus) (0.5.3)\n",
            "Requirement already satisfied: overrides>=5.0 in /usr/local/lib/python3.10/dist-packages (from jupyter-server<3,>=1.8->notebook-shim>=0.2.3->nbclassic>=0.4.7->notebook>=4.4.1->widgetsnbextension~=3.6.0->ipywidgets>=7.5->checklist-plus) (7.7.0)\n",
            "Requirement already satisfied: websocket-client>=1.7 in /usr/local/lib/python3.10/dist-packages (from jupyter-server<3,>=1.8->notebook-shim>=0.2.3->nbclassic>=0.4.7->notebook>=4.4.1->widgetsnbextension~=3.6.0->ipywidgets>=7.5->checklist-plus) (1.8.0)\n",
            "Requirement already satisfied: argon2-cffi-bindings in /usr/local/lib/python3.10/dist-packages (from argon2-cffi->notebook>=4.4.1->widgetsnbextension~=3.6.0->ipywidgets>=7.5->checklist-plus) (21.2.0)\n",
            "Requirement already satisfied: python-json-logger>=2.0.4 in /usr/local/lib/python3.10/dist-packages (from jupyter-events>=0.11.0->jupyter-server<3,>=1.8->notebook-shim>=0.2.3->nbclassic>=0.4.7->notebook>=4.4.1->widgetsnbextension~=3.6.0->ipywidgets>=7.5->checklist-plus) (3.3.0)\n",
            "Requirement already satisfied: rfc3339-validator in /usr/local/lib/python3.10/dist-packages (from jupyter-events>=0.11.0->jupyter-server<3,>=1.8->notebook-shim>=0.2.3->nbclassic>=0.4.7->notebook>=4.4.1->widgetsnbextension~=3.6.0->ipywidgets>=7.5->checklist-plus) (0.1.4)\n",
            "Requirement already satisfied: rfc3986-validator>=0.1.1 in /usr/local/lib/python3.10/dist-packages (from jupyter-events>=0.11.0->jupyter-server<3,>=1.8->notebook-shim>=0.2.3->nbclassic>=0.4.7->notebook>=4.4.1->widgetsnbextension~=3.6.0->ipywidgets>=7.5->checklist-plus) (0.1.1)\n",
            "Requirement already satisfied: fqdn in /usr/local/lib/python3.10/dist-packages (from jsonschema[format-nongpl]>=4.18.0->jupyter-events>=0.11.0->jupyter-server<3,>=1.8->notebook-shim>=0.2.3->nbclassic>=0.4.7->notebook>=4.4.1->widgetsnbextension~=3.6.0->ipywidgets>=7.5->checklist-plus) (1.5.1)\n",
            "Requirement already satisfied: isoduration in /usr/local/lib/python3.10/dist-packages (from jsonschema[format-nongpl]>=4.18.0->jupyter-events>=0.11.0->jupyter-server<3,>=1.8->notebook-shim>=0.2.3->nbclassic>=0.4.7->notebook>=4.4.1->widgetsnbextension~=3.6.0->ipywidgets>=7.5->checklist-plus) (20.11.0)\n",
            "Requirement already satisfied: uri-template in /usr/local/lib/python3.10/dist-packages (from jsonschema[format-nongpl]>=4.18.0->jupyter-events>=0.11.0->jupyter-server<3,>=1.8->notebook-shim>=0.2.3->nbclassic>=0.4.7->notebook>=4.4.1->widgetsnbextension~=3.6.0->ipywidgets>=7.5->checklist-plus) (1.3.0)\n",
            "Requirement already satisfied: webcolors>=24.6.0 in /usr/local/lib/python3.10/dist-packages (from jsonschema[format-nongpl]>=4.18.0->jupyter-events>=0.11.0->jupyter-server<3,>=1.8->notebook-shim>=0.2.3->nbclassic>=0.4.7->notebook>=4.4.1->widgetsnbextension~=3.6.0->ipywidgets>=7.5->checklist-plus) (24.11.1)\n",
            "Requirement already satisfied: ptyprocess>=0.5 in /usr/local/lib/python3.10/dist-packages (from pexpect>4.3->ipython>=4.0.0->ipywidgets>=7.5->checklist-plus) (0.7.0)\n",
            "Requirement already satisfied: six>=1.5 in /usr/local/lib/python3.10/dist-packages (from python-dateutil>=2.8.2->jupyter-client>=6.1.12->ipykernel>=4.5.1->ipywidgets>=7.5->checklist-plus) (1.17.0)\n",
            "Requirement already satisfied: spacy-legacy<3.1.0,>=3.0.11 in /usr/local/lib/python3.10/dist-packages (from spacy>=2.2->checklist-plus) (3.0.12)\n",
            "Requirement already satisfied: spacy-loggers<2.0.0,>=1.0.0 in /usr/local/lib/python3.10/dist-packages (from spacy>=2.2->checklist-plus) (1.0.5)\n",
            "Requirement already satisfied: murmurhash<1.1.0,>=0.28.0 in /usr/local/lib/python3.10/dist-packages (from spacy>=2.2->checklist-plus) (1.0.11)\n",
            "Requirement already satisfied: cymem<2.1.0,>=2.0.2 in /usr/local/lib/python3.10/dist-packages (from spacy>=2.2->checklist-plus) (2.0.10)\n",
            "Requirement already satisfied: preshed<3.1.0,>=3.0.2 in /usr/local/lib/python3.10/dist-packages (from spacy>=2.2->checklist-plus) (3.0.9)\n",
            "Requirement already satisfied: thinc<8.3.0,>=8.2.2 in /usr/local/lib/python3.10/dist-packages (from spacy>=2.2->checklist-plus) (8.2.5)\n",
            "Requirement already satisfied: wasabi<1.2.0,>=0.9.1 in /usr/local/lib/python3.10/dist-packages (from spacy>=2.2->checklist-plus) (1.1.3)\n",
            "Requirement already satisfied: srsly<3.0.0,>=2.4.3 in /usr/local/lib/python3.10/dist-packages (from spacy>=2.2->checklist-plus) (2.5.0)\n",
            "Requirement already satisfied: catalogue<2.1.0,>=2.0.6 in /usr/local/lib/python3.10/dist-packages (from spacy>=2.2->checklist-plus) (2.0.10)\n",
            "Requirement already satisfied: weasel<0.5.0,>=0.1.0 in /usr/local/lib/python3.10/dist-packages (from spacy>=2.2->checklist-plus) (0.4.1)\n",
            "Requirement already satisfied: typer<1.0.0,>=0.3.0 in /usr/local/lib/python3.10/dist-packages (from spacy>=2.2->checklist-plus) (0.15.1)\n",
            "Requirement already satisfied: langcodes<4.0.0,>=3.2.0 in /usr/local/lib/python3.10/dist-packages (from spacy>=2.2->checklist-plus) (3.5.0)\n",
            "Requirement already satisfied: language-data>=1.2 in /usr/local/lib/python3.10/dist-packages (from langcodes<4.0.0,>=3.2.0->spacy>=2.2->checklist-plus) (1.3.0)\n",
            "Requirement already satisfied: blis<0.8.0,>=0.7.8 in /usr/local/lib/python3.10/dist-packages (from thinc<8.3.0,>=8.2.2->spacy>=2.2->checklist-plus) (0.7.11)\n",
            "Requirement already satisfied: confection<1.0.0,>=0.0.1 in /usr/local/lib/python3.10/dist-packages (from thinc<8.3.0,>=8.2.2->spacy>=2.2->checklist-plus) (0.1.5)\n",
            "Requirement already satisfied: click>=8.0.0 in /usr/local/lib/python3.10/dist-packages (from typer<1.0.0,>=0.3.0->spacy>=2.2->checklist-plus) (8.1.8)\n",
            "Requirement already satisfied: shellingham>=1.3.0 in /usr/local/lib/python3.10/dist-packages (from typer<1.0.0,>=0.3.0->spacy>=2.2->checklist-plus) (1.5.4)\n",
            "Requirement already satisfied: rich>=10.11.0 in /usr/local/lib/python3.10/dist-packages (from typer<1.0.0,>=0.3.0->spacy>=2.2->checklist-plus) (13.9.4)\n",
            "Requirement already satisfied: cloudpathlib<1.0.0,>=0.7.0 in /usr/local/lib/python3.10/dist-packages (from weasel<0.5.0,>=0.1.0->spacy>=2.2->checklist-plus) (0.20.0)\n",
            "Requirement already satisfied: smart-open<8.0.0,>=5.2.1 in /usr/local/lib/python3.10/dist-packages (from weasel<0.5.0,>=0.1.0->spacy>=2.2->checklist-plus) (7.1.0)\n",
            "Requirement already satisfied: wrapt in /usr/local/lib/python3.10/dist-packages (from smart-open<8.0.0,>=5.2.1->weasel<0.5.0,>=0.1.0->spacy>=2.2->checklist-plus) (1.17.0)\n",
            "Requirement already satisfied: marisa-trie>=1.1.0 in /usr/local/lib/python3.10/dist-packages (from language-data>=1.2->langcodes<4.0.0,>=3.2.0->spacy>=2.2->checklist-plus) (1.2.1)\n",
            "Requirement already satisfied: markdown-it-py>=2.2.0 in /usr/local/lib/python3.10/dist-packages (from rich>=10.11.0->typer<1.0.0,>=0.3.0->spacy>=2.2->checklist-plus) (3.0.0)\n",
            "Requirement already satisfied: mdurl~=0.1 in /usr/local/lib/python3.10/dist-packages (from markdown-it-py>=2.2.0->rich>=10.11.0->typer<1.0.0,>=0.3.0->spacy>=2.2->checklist-plus) (0.1.2)\n",
            "Requirement already satisfied: filelock in /usr/local/lib/python3.10/dist-packages (from transformers>=2.8->checklist-plus) (3.16.1)\n",
            "Requirement already satisfied: huggingface-hub<1.0,>=0.24.0 in /usr/local/lib/python3.10/dist-packages (from transformers>=2.8->checklist-plus) (0.27.1)\n",
            "Requirement already satisfied: tokenizers<0.22,>=0.21 in /usr/local/lib/python3.10/dist-packages (from transformers>=2.8->checklist-plus) (0.21.0)\n",
            "Requirement already satisfied: safetensors>=0.4.1 in /usr/local/lib/python3.10/dist-packages (from transformers>=2.8->checklist-plus) (0.5.1)\n",
            "Requirement already satisfied: fsspec>=2023.5.0 in /usr/local/lib/python3.10/dist-packages (from huggingface-hub<1.0,>=0.24.0->transformers>=2.8->checklist-plus) (2024.10.0)\n",
            "Requirement already satisfied: cffi>=1.0.1 in /usr/local/lib/python3.10/dist-packages (from argon2-cffi-bindings->argon2-cffi->notebook>=4.4.1->widgetsnbextension~=3.6.0->ipywidgets>=7.5->checklist-plus) (1.17.1)\n",
            "Requirement already satisfied: pycparser in /usr/local/lib/python3.10/dist-packages (from cffi>=1.0.1->argon2-cffi-bindings->argon2-cffi->notebook>=4.4.1->widgetsnbextension~=3.6.0->ipywidgets>=7.5->checklist-plus) (2.22)\n",
            "Requirement already satisfied: soupsieve>1.2 in /usr/local/lib/python3.10/dist-packages (from beautifulsoup4->nbconvert->jupyter>=1.0->checklist-plus) (2.6)\n",
            "Requirement already satisfied: arrow>=0.15.0 in /usr/local/lib/python3.10/dist-packages (from isoduration->jsonschema[format-nongpl]>=4.18.0->jupyter-events>=0.11.0->jupyter-server<3,>=1.8->notebook-shim>=0.2.3->nbclassic>=0.4.7->notebook>=4.4.1->widgetsnbextension~=3.6.0->ipywidgets>=7.5->checklist-plus) (1.3.0)\n",
            "Requirement already satisfied: types-python-dateutil>=2.8.10 in /usr/local/lib/python3.10/dist-packages (from arrow>=0.15.0->isoduration->jsonschema[format-nongpl]>=4.18.0->jupyter-events>=0.11.0->jupyter-server<3,>=1.8->notebook-shim>=0.2.3->nbclassic>=0.4.7->notebook>=4.4.1->widgetsnbextension~=3.6.0->ipywidgets>=7.5->checklist-plus) (2.9.0.20250822)\n",
            "Requirement already satisfied: async-lru>=1.0.0 in /usr/local/lib/python3.10/dist-packages (from jupyterlab->jupyter>=1.0->checklist-plus) (2.0.5)\n",
            "Requirement already satisfied: jupyter-lsp>=2.0.0 in /usr/local/lib/python3.10/dist-packages (from jupyterlab->jupyter>=1.0->checklist-plus) (2.3.0)\n",
            "Requirement already satisfied: jupyterlab-server<3,>=2.27.1 in /usr/local/lib/python3.10/dist-packages (from jupyterlab->jupyter>=1.0->checklist-plus) (2.27.3)\n",
            "Requirement already satisfied: tomli>=1.2.2 in /usr/local/lib/python3.10/dist-packages (from jupyterlab->jupyter>=1.0->checklist-plus) (2.2.1)\n",
            "Requirement already satisfied: babel>=2.10 in /usr/local/lib/python3.10/dist-packages (from jupyterlab-server<3,>=2.27.1->jupyterlab->jupyter>=1.0->checklist-plus) (2.16.0)\n",
            "Requirement already satisfied: json5>=0.9.0 in /usr/local/lib/python3.10/dist-packages (from jupyterlab-server<3,>=2.27.1->jupyterlab->jupyter>=1.0->checklist-plus) (0.12.1)\n",
            "Requirement already satisfied: future in /usr/local/lib/python3.10/dist-packages (from patternfork-nosql->checklist-plus) (1.0.0)\n",
            "Requirement already satisfied: backports.csv in /usr/local/lib/python3.10/dist-packages (from patternfork-nosql->checklist-plus) (1.0.7)\n",
            "Requirement already satisfied: lxml in /usr/local/lib/python3.10/dist-packages (from patternfork-nosql->checklist-plus) (5.3.0)\n",
            "Requirement already satisfied: feedparser in /usr/local/lib/python3.10/dist-packages (from patternfork-nosql->checklist-plus) (6.0.12)\n",
            "Requirement already satisfied: pdfminer.six in /usr/local/lib/python3.10/dist-packages (from patternfork-nosql->checklist-plus) (20250506)\n",
            "Requirement already satisfied: scipy in /usr/local/lib/python3.10/dist-packages (from patternfork-nosql->checklist-plus) (1.13.1)\n",
            "Requirement already satisfied: nltk in /usr/local/lib/python3.10/dist-packages (from patternfork-nosql->checklist-plus) (3.9.1)\n",
            "Requirement already satisfied: python-docx in /usr/local/lib/python3.10/dist-packages (from patternfork-nosql->checklist-plus) (1.2.0)\n",
            "Requirement already satisfied: cherrypy in /usr/local/lib/python3.10/dist-packages (from patternfork-nosql->checklist-plus) (18.10.0)\n",
            "Requirement already satisfied: cheroot>=8.2.1 in /usr/local/lib/python3.10/dist-packages (from cherrypy->patternfork-nosql->checklist-plus) (10.0.1)\n",
            "Requirement already satisfied: portend>=2.1.1 in /usr/local/lib/python3.10/dist-packages (from cherrypy->patternfork-nosql->checklist-plus) (3.2.1)\n",
            "Requirement already satisfied: more-itertools in /usr/local/lib/python3.10/dist-packages (from cherrypy->patternfork-nosql->checklist-plus) (10.5.0)\n",
            "Requirement already satisfied: zc.lockfile in /usr/local/lib/python3.10/dist-packages (from cherrypy->patternfork-nosql->checklist-plus) (3.0.post1)\n",
            "Requirement already satisfied: jaraco.collections in /usr/local/lib/python3.10/dist-packages (from cherrypy->patternfork-nosql->checklist-plus) (5.2.1)\n",
            "Requirement already satisfied: jaraco.functools in /usr/local/lib/python3.10/dist-packages (from cheroot>=8.2.1->cherrypy->patternfork-nosql->checklist-plus) (4.3.0)\n",
            "Requirement already satisfied: tempora>=1.8 in /usr/local/lib/python3.10/dist-packages (from portend>=2.1.1->cherrypy->patternfork-nosql->checklist-plus) (5.8.1)\n",
            "Requirement already satisfied: sgmllib3k in /usr/local/lib/python3.10/dist-packages (from feedparser->patternfork-nosql->checklist-plus) (1.0.0)\n",
            "Requirement already satisfied: jaraco.text in /usr/local/lib/python3.10/dist-packages (from jaraco.collections->cherrypy->patternfork-nosql->checklist-plus) (4.0.0)\n",
            "Requirement already satisfied: jaraco.context>=4.1 in /usr/local/lib/python3.10/dist-packages (from jaraco.text->jaraco.collections->cherrypy->patternfork-nosql->checklist-plus) (6.0.1)\n",
            "Requirement already satisfied: autocommand in /usr/local/lib/python3.10/dist-packages (from jaraco.text->jaraco.collections->cherrypy->patternfork-nosql->checklist-plus) (2.2.2)\n",
            "Requirement already satisfied: backports.tarfile in /usr/local/lib/python3.10/dist-packages (from jaraco.context>=4.1->jaraco.text->jaraco.collections->cherrypy->patternfork-nosql->checklist-plus) (1.2.0)\n",
            "Requirement already satisfied: joblib in /usr/local/lib/python3.10/dist-packages (from nltk->patternfork-nosql->checklist-plus) (1.4.2)\n",
            "Requirement already satisfied: cryptography>=36.0.0 in /usr/local/lib/python3.10/dist-packages (from pdfminer.six->patternfork-nosql->checklist-plus) (43.0.3)\n"
          ]
        }
      ]
    },
    {
      "cell_type": "code",
      "source": [
        "!python -m spacy download en_core_web_sm\n"
      ],
      "metadata": {
        "colab": {
          "base_uri": "https://localhost:8080/"
        },
        "id": "aI9usO3RYm0D",
        "outputId": "718f2d94-1d00-49f8-db12-00496276ca38"
      },
      "id": "aI9usO3RYm0D",
      "execution_count": null,
      "outputs": [
        {
          "output_type": "stream",
          "name": "stdout",
          "text": [
            "Collecting en-core-web-sm==3.7.1\n",
            "  Downloading https://github.com/explosion/spacy-models/releases/download/en_core_web_sm-3.7.1/en_core_web_sm-3.7.1-py3-none-any.whl (12.8 MB)\n",
            "\u001b[2K     \u001b[90m━━━━━━━━━━━━━━━━━━━━━━━━━━━━━━━━━━━━━━━━\u001b[0m \u001b[32m12.8/12.8 MB\u001b[0m \u001b[31m13.0 MB/s\u001b[0m  \u001b[33m0:00:01\u001b[0m\n",
            "\u001b[?25hRequirement already satisfied: spacy<3.8.0,>=3.7.2 in /usr/local/lib/python3.10/dist-packages (from en-core-web-sm==3.7.1) (3.7.5)\n",
            "Requirement already satisfied: spacy-legacy<3.1.0,>=3.0.11 in /usr/local/lib/python3.10/dist-packages (from spacy<3.8.0,>=3.7.2->en-core-web-sm==3.7.1) (3.0.12)\n",
            "Requirement already satisfied: spacy-loggers<2.0.0,>=1.0.0 in /usr/local/lib/python3.10/dist-packages (from spacy<3.8.0,>=3.7.2->en-core-web-sm==3.7.1) (1.0.5)\n",
            "Requirement already satisfied: murmurhash<1.1.0,>=0.28.0 in /usr/local/lib/python3.10/dist-packages (from spacy<3.8.0,>=3.7.2->en-core-web-sm==3.7.1) (1.0.11)\n",
            "Requirement already satisfied: cymem<2.1.0,>=2.0.2 in /usr/local/lib/python3.10/dist-packages (from spacy<3.8.0,>=3.7.2->en-core-web-sm==3.7.1) (2.0.10)\n",
            "Requirement already satisfied: preshed<3.1.0,>=3.0.2 in /usr/local/lib/python3.10/dist-packages (from spacy<3.8.0,>=3.7.2->en-core-web-sm==3.7.1) (3.0.9)\n",
            "Requirement already satisfied: thinc<8.3.0,>=8.2.2 in /usr/local/lib/python3.10/dist-packages (from spacy<3.8.0,>=3.7.2->en-core-web-sm==3.7.1) (8.2.5)\n",
            "Requirement already satisfied: wasabi<1.2.0,>=0.9.1 in /usr/local/lib/python3.10/dist-packages (from spacy<3.8.0,>=3.7.2->en-core-web-sm==3.7.1) (1.1.3)\n",
            "Requirement already satisfied: srsly<3.0.0,>=2.4.3 in /usr/local/lib/python3.10/dist-packages (from spacy<3.8.0,>=3.7.2->en-core-web-sm==3.7.1) (2.5.0)\n",
            "Requirement already satisfied: catalogue<2.1.0,>=2.0.6 in /usr/local/lib/python3.10/dist-packages (from spacy<3.8.0,>=3.7.2->en-core-web-sm==3.7.1) (2.0.10)\n",
            "Requirement already satisfied: weasel<0.5.0,>=0.1.0 in /usr/local/lib/python3.10/dist-packages (from spacy<3.8.0,>=3.7.2->en-core-web-sm==3.7.1) (0.4.1)\n",
            "Requirement already satisfied: typer<1.0.0,>=0.3.0 in /usr/local/lib/python3.10/dist-packages (from spacy<3.8.0,>=3.7.2->en-core-web-sm==3.7.1) (0.15.1)\n",
            "Requirement already satisfied: tqdm<5.0.0,>=4.38.0 in /usr/local/lib/python3.10/dist-packages (from spacy<3.8.0,>=3.7.2->en-core-web-sm==3.7.1) (4.67.1)\n",
            "Requirement already satisfied: requests<3.0.0,>=2.13.0 in /usr/local/lib/python3.10/dist-packages (from spacy<3.8.0,>=3.7.2->en-core-web-sm==3.7.1) (2.32.3)\n",
            "Requirement already satisfied: pydantic!=1.8,!=1.8.1,<3.0.0,>=1.7.4 in /usr/local/lib/python3.10/dist-packages (from spacy<3.8.0,>=3.7.2->en-core-web-sm==3.7.1) (1.10.9)\n",
            "Requirement already satisfied: jinja2 in /usr/local/lib/python3.10/dist-packages (from spacy<3.8.0,>=3.7.2->en-core-web-sm==3.7.1) (3.1.5)\n",
            "Requirement already satisfied: setuptools in /usr/local/lib/python3.10/dist-packages (from spacy<3.8.0,>=3.7.2->en-core-web-sm==3.7.1) (69.5.1)\n",
            "Requirement already satisfied: packaging>=20.0 in /usr/local/lib/python3.10/dist-packages (from spacy<3.8.0,>=3.7.2->en-core-web-sm==3.7.1) (24.2)\n",
            "Requirement already satisfied: langcodes<4.0.0,>=3.2.0 in /usr/local/lib/python3.10/dist-packages (from spacy<3.8.0,>=3.7.2->en-core-web-sm==3.7.1) (3.5.0)\n",
            "Requirement already satisfied: numpy>=1.19.0 in /usr/local/lib/python3.10/dist-packages (from spacy<3.8.0,>=3.7.2->en-core-web-sm==3.7.1) (1.26.4)\n",
            "Requirement already satisfied: language-data>=1.2 in /usr/local/lib/python3.10/dist-packages (from langcodes<4.0.0,>=3.2.0->spacy<3.8.0,>=3.7.2->en-core-web-sm==3.7.1) (1.3.0)\n",
            "Requirement already satisfied: typing-extensions>=4.2.0 in /usr/local/lib/python3.10/dist-packages (from pydantic!=1.8,!=1.8.1,<3.0.0,>=1.7.4->spacy<3.8.0,>=3.7.2->en-core-web-sm==3.7.1) (4.14.1)\n",
            "Requirement already satisfied: charset-normalizer<4,>=2 in /usr/local/lib/python3.10/dist-packages (from requests<3.0.0,>=2.13.0->spacy<3.8.0,>=3.7.2->en-core-web-sm==3.7.1) (3.4.1)\n",
            "Requirement already satisfied: idna<4,>=2.5 in /usr/local/lib/python3.10/dist-packages (from requests<3.0.0,>=2.13.0->spacy<3.8.0,>=3.7.2->en-core-web-sm==3.7.1) (3.10)\n",
            "Requirement already satisfied: urllib3<3,>=1.21.1 in /usr/local/lib/python3.10/dist-packages (from requests<3.0.0,>=2.13.0->spacy<3.8.0,>=3.7.2->en-core-web-sm==3.7.1) (2.3.0)\n",
            "Requirement already satisfied: certifi>=2017.4.17 in /usr/local/lib/python3.10/dist-packages (from requests<3.0.0,>=2.13.0->spacy<3.8.0,>=3.7.2->en-core-web-sm==3.7.1) (2024.12.14)\n",
            "Requirement already satisfied: blis<0.8.0,>=0.7.8 in /usr/local/lib/python3.10/dist-packages (from thinc<8.3.0,>=8.2.2->spacy<3.8.0,>=3.7.2->en-core-web-sm==3.7.1) (0.7.11)\n",
            "Requirement already satisfied: confection<1.0.0,>=0.0.1 in /usr/local/lib/python3.10/dist-packages (from thinc<8.3.0,>=8.2.2->spacy<3.8.0,>=3.7.2->en-core-web-sm==3.7.1) (0.1.5)\n",
            "Requirement already satisfied: click>=8.0.0 in /usr/local/lib/python3.10/dist-packages (from typer<1.0.0,>=0.3.0->spacy<3.8.0,>=3.7.2->en-core-web-sm==3.7.1) (8.1.8)\n",
            "Requirement already satisfied: shellingham>=1.3.0 in /usr/local/lib/python3.10/dist-packages (from typer<1.0.0,>=0.3.0->spacy<3.8.0,>=3.7.2->en-core-web-sm==3.7.1) (1.5.4)\n",
            "Requirement already satisfied: rich>=10.11.0 in /usr/local/lib/python3.10/dist-packages (from typer<1.0.0,>=0.3.0->spacy<3.8.0,>=3.7.2->en-core-web-sm==3.7.1) (13.9.4)\n",
            "Requirement already satisfied: cloudpathlib<1.0.0,>=0.7.0 in /usr/local/lib/python3.10/dist-packages (from weasel<0.5.0,>=0.1.0->spacy<3.8.0,>=3.7.2->en-core-web-sm==3.7.1) (0.20.0)\n",
            "Requirement already satisfied: smart-open<8.0.0,>=5.2.1 in /usr/local/lib/python3.10/dist-packages (from weasel<0.5.0,>=0.1.0->spacy<3.8.0,>=3.7.2->en-core-web-sm==3.7.1) (7.1.0)\n",
            "Requirement already satisfied: wrapt in /usr/local/lib/python3.10/dist-packages (from smart-open<8.0.0,>=5.2.1->weasel<0.5.0,>=0.1.0->spacy<3.8.0,>=3.7.2->en-core-web-sm==3.7.1) (1.17.0)\n",
            "Requirement already satisfied: marisa-trie>=1.1.0 in /usr/local/lib/python3.10/dist-packages (from language-data>=1.2->langcodes<4.0.0,>=3.2.0->spacy<3.8.0,>=3.7.2->en-core-web-sm==3.7.1) (1.2.1)\n",
            "Requirement already satisfied: markdown-it-py>=2.2.0 in /usr/local/lib/python3.10/dist-packages (from rich>=10.11.0->typer<1.0.0,>=0.3.0->spacy<3.8.0,>=3.7.2->en-core-web-sm==3.7.1) (3.0.0)\n",
            "Requirement already satisfied: pygments<3.0.0,>=2.13.0 in /usr/local/lib/python3.10/dist-packages (from rich>=10.11.0->typer<1.0.0,>=0.3.0->spacy<3.8.0,>=3.7.2->en-core-web-sm==3.7.1) (2.19.2)\n",
            "Requirement already satisfied: mdurl~=0.1 in /usr/local/lib/python3.10/dist-packages (from markdown-it-py>=2.2.0->rich>=10.11.0->typer<1.0.0,>=0.3.0->spacy<3.8.0,>=3.7.2->en-core-web-sm==3.7.1) (0.1.2)\n",
            "Requirement already satisfied: MarkupSafe>=2.0 in /usr/local/lib/python3.10/dist-packages (from jinja2->spacy<3.8.0,>=3.7.2->en-core-web-sm==3.7.1) (3.0.2)\n",
            "\u001b[38;5;2m✔ Download and installation successful\u001b[0m\n",
            "You can now load the package via spacy.load('en_core_web_sm')\n",
            "\u001b[38;5;3m⚠ Restart to reload dependencies\u001b[0m\n",
            "If you are in a Jupyter or Colab notebook, you may need to restart Python in\n",
            "order to load all the package's dependencies. You can do this by selecting the\n",
            "'Restart kernel' or 'Restart runtime' option.\n"
          ]
        }
      ]
    },
    {
      "cell_type": "markdown",
      "source": [
        "# Load our Example Embedding Model"
      ],
      "metadata": {
        "id": "32d3YWvsJbXY"
      },
      "id": "32d3YWvsJbXY"
    },
    {
      "cell_type": "code",
      "source": [
        "# prompt: import bert base embedding model from hugging face\n",
        "\n",
        "from transformers import BertModel, BertTokenizer\n",
        "import torch\n",
        "\n",
        "# Load pre-trained model and tokenizer\n",
        "tokenizer = BertTokenizer.from_pretrained('bert-base-uncased')\n",
        "model = BertModel.from_pretrained('bert-base-uncased')\n",
        "\n",
        "# Example usage:\n",
        "text = \"This is a sample sentence.\"\n",
        "encoded_input = tokenizer(text, return_tensors='pt')\n",
        "output = model(**encoded_input)\n",
        "\n",
        "# The output is a dictionary containing 'last_hidden_state' and 'pooler_output'\n",
        "last_hidden_states = output.last_hidden_state\n",
        "pooler_output = output.pooler_output\n",
        "\n",
        "print(\"Last hidden states shape:\", last_hidden_states.shape)\n",
        "print(\"Pooler output shape:\", pooler_output.shape)\n"
      ],
      "metadata": {
        "colab": {
          "base_uri": "https://localhost:8080/",
          "height": 536
        },
        "id": "F-rupY0-qvol",
        "outputId": "1ef72bd1-b4d2-4093-b7e6-f7e93d574ff8"
      },
      "id": "F-rupY0-qvol",
      "execution_count": null,
      "outputs": [
        {
          "output_type": "stream",
          "name": "stderr",
          "text": [
            "2025-09-12 04:19:09.952817: E external/local_xla/xla/stream_executor/cuda/cuda_fft.cc:485] Unable to register cuFFT factory: Attempting to register factory for plugin cuFFT when one has already been registered\n",
            "2025-09-12 04:19:09.981678: E external/local_xla/xla/stream_executor/cuda/cuda_dnn.cc:8454] Unable to register cuDNN factory: Attempting to register factory for plugin cuDNN when one has already been registered\n",
            "2025-09-12 04:19:09.991349: E external/local_xla/xla/stream_executor/cuda/cuda_blas.cc:1452] Unable to register cuBLAS factory: Attempting to register factory for plugin cuBLAS when one has already been registered\n",
            "2025-09-12 04:19:10.021137: I tensorflow/core/platform/cpu_feature_guard.cc:210] This TensorFlow binary is optimized to use available CPU instructions in performance-critical operations.\n",
            "To enable the following instructions: AVX2 FMA, in other operations, rebuild TensorFlow with the appropriate compiler flags.\n"
          ]
        },
        {
          "output_type": "error",
          "ename": "AttributeError",
          "evalue": "'MessageFactory' object has no attribute 'GetPrototype'",
          "traceback": [
            "\u001b[0;31m---------------------------------------------------------------------------\u001b[0m",
            "\u001b[0;31mAttributeError\u001b[0m                            Traceback (most recent call last)",
            "\u001b[0;31mAttributeError\u001b[0m: 'MessageFactory' object has no attribute 'GetPrototype'"
          ]
        },
        {
          "output_type": "error",
          "ename": "AttributeError",
          "evalue": "'MessageFactory' object has no attribute 'GetPrototype'",
          "traceback": [
            "\u001b[0;31m---------------------------------------------------------------------------\u001b[0m",
            "\u001b[0;31mAttributeError\u001b[0m                            Traceback (most recent call last)",
            "\u001b[0;31mAttributeError\u001b[0m: 'MessageFactory' object has no attribute 'GetPrototype'"
          ]
        },
        {
          "output_type": "error",
          "ename": "AttributeError",
          "evalue": "'MessageFactory' object has no attribute 'GetPrototype'",
          "traceback": [
            "\u001b[0;31m---------------------------------------------------------------------------\u001b[0m",
            "\u001b[0;31mAttributeError\u001b[0m                            Traceback (most recent call last)",
            "\u001b[0;31mAttributeError\u001b[0m: 'MessageFactory' object has no attribute 'GetPrototype'"
          ]
        },
        {
          "output_type": "error",
          "ename": "AttributeError",
          "evalue": "'MessageFactory' object has no attribute 'GetPrototype'",
          "traceback": [
            "\u001b[0;31m---------------------------------------------------------------------------\u001b[0m",
            "\u001b[0;31mAttributeError\u001b[0m                            Traceback (most recent call last)",
            "\u001b[0;31mAttributeError\u001b[0m: 'MessageFactory' object has no attribute 'GetPrototype'"
          ]
        },
        {
          "output_type": "stream",
          "name": "stderr",
          "text": [
            "2025-09-12 04:19:11.858179: W tensorflow/compiler/tf2tensorrt/utils/py_utils.cc:38] TF-TRT Warning: Could not find TensorRT\n"
          ]
        },
        {
          "output_type": "error",
          "ename": "AttributeError",
          "evalue": "'MessageFactory' object has no attribute 'GetPrototype'",
          "traceback": [
            "\u001b[0;31m---------------------------------------------------------------------------\u001b[0m",
            "\u001b[0;31mAttributeError\u001b[0m                            Traceback (most recent call last)",
            "\u001b[0;31mAttributeError\u001b[0m: 'MessageFactory' object has no attribute 'GetPrototype'"
          ]
        },
        {
          "output_type": "stream",
          "name": "stdout",
          "text": [
            "Last hidden states shape: torch.Size([1, 8, 768])\n",
            "Pooler output shape: torch.Size([1, 768])\n"
          ]
        }
      ]
    },
    {
      "cell_type": "code",
      "source": [
        "# prompt: now compuse cosine similarity between three texts (1 relevant pair and 1 irrelevant text)\n",
        "\n",
        "from sklearn.metrics.pairwise import cosine_similarity\n",
        "from transformers import BertModel, BertTokenizer\n",
        "import torch\n",
        "\n",
        "# Load pre-trained model and tokenizer\n",
        "tokenizer = BertTokenizer.from_pretrained('bert-base-uncased')\n",
        "model = BertModel.from_pretrained('bert-base-uncased')\n",
        "\n",
        "def get_embedding(text):\n",
        "  encoded_input = tokenizer(text, return_tensors='pt', padding=True, truncation=True)\n",
        "  with torch.no_grad():\n",
        "    output = model(**encoded_input)\n",
        "  # Use the CLS token embedding as the sentence embedding\n",
        "  sentence_embedding = output.last_hidden_state[:, 0, :].numpy()\n",
        "  return sentence_embedding\n",
        "\n",
        "# Define the texts\n",
        "text1 = \"The weather is nice today.\"\n",
        "text2 = \"It's a beautiful day outside.\"\n",
        "text3 = \"The stock market crashed yesterday.\"\n",
        "\n",
        "# Get embeddings for each text\n",
        "embedding1 = get_embedding(text1)\n",
        "embedding2 = get_embedding(text2)\n",
        "embedding3 = get_embedding(text3)\n",
        "\n",
        "# Calculate cosine similarity\n",
        "similarity_1_2 = cosine_similarity(embedding1, embedding2)[0][0]\n",
        "similarity_1_3 = cosine_similarity(embedding1, embedding3)[0][0]\n",
        "similarity_2_3 = cosine_similarity(embedding2, embedding3)[0][0]\n",
        "\n",
        "print(f\"Cosine similarity between text1 and text2: {similarity_1_2:.4f}\")\n",
        "print(f\"Cosine similarity between text1 and text3: {similarity_1_3:.4f}\")\n",
        "print(f\"Cosine similarity between text2 and text3: {similarity_2_3:.4f}\")"
      ],
      "metadata": {
        "colab": {
          "base_uri": "https://localhost:8080/"
        },
        "id": "Q5gkgGP9q_dD",
        "outputId": "8c1710b6-0e0b-4c7d-a91d-173940f93b0e"
      },
      "id": "Q5gkgGP9q_dD",
      "execution_count": null,
      "outputs": [
        {
          "output_type": "stream",
          "name": "stdout",
          "text": [
            "Cosine similarity between text1 and text2: 0.9522\n",
            "Cosine similarity between text1 and text3: 0.8442\n",
            "Cosine similarity between text2 and text3: 0.8108\n"
          ]
        }
      ]
    },
    {
      "cell_type": "markdown",
      "source": [
        "# Set OPENAI API KEY"
      ],
      "metadata": {
        "id": "VWP3Y1ZpJq7H"
      },
      "id": "VWP3Y1ZpJq7H"
    },
    {
      "cell_type": "code",
      "source": [
        "import os\n",
        "os.environ['OPENAI_API_KEY'] = \"your-api-key\"\n"
      ],
      "metadata": {
        "id": "LOdMuCTcpSrH"
      },
      "id": "LOdMuCTcpSrH",
      "execution_count": null,
      "outputs": []
    },
    {
      "cell_type": "code",
      "source": [
        "import checklist_plus\n",
        "from checklist_plus.editor import Editor\n",
        "from checklist_plus.perturb import LLMPerturb"
      ],
      "metadata": {
        "id": "UA7c1LcNV7CK"
      },
      "id": "UA7c1LcNV7CK",
      "execution_count": null,
      "outputs": []
    },
    {
      "cell_type": "code",
      "source": [
        "llm_editor = Editor(\n",
        "             use_llm=True,\n",
        "            model_name='gpt-4o-mini')"
      ],
      "metadata": {
        "id": "rFHKn9FzpBdL"
      },
      "id": "rFHKn9FzpBdL",
      "execution_count": null,
      "outputs": []
    },
    {
      "cell_type": "markdown",
      "source": [
        "## Generate Examples data"
      ],
      "metadata": {
        "id": "6PHaN3zNKJ9I"
      },
      "id": "6PHaN3zNKJ9I"
    },
    {
      "cell_type": "code",
      "source": [
        "ret = llm_editor.template('The football game was very good, I especially liked {mask}', context=\"different experiences in football games\", remove_duplicates=True, n_completions=100)\n",
        "original_texts = ret.data"
      ],
      "metadata": {
        "id": "DuXzDqHyrOq5"
      },
      "id": "DuXzDqHyrOq5",
      "execution_count": null,
      "outputs": []
    },
    {
      "cell_type": "code",
      "source": [
        "original_texts = list(set(original_texts))\n",
        "print(original_texts[:5])"
      ],
      "metadata": {
        "colab": {
          "base_uri": "https://localhost:8080/"
        },
        "id": "fx-pY0FrsWlG",
        "outputId": "8ae9900b-8ee5-4ab4-fbd9-1dc747e61c34"
      },
      "id": "fx-pY0FrsWlG",
      "execution_count": null,
      "outputs": [
        {
          "output_type": "stream",
          "name": "stdout",
          "text": [
            "[\"The football game was very good, I especially liked team's performance\", \"The football game was very good, I especially liked player's positioning\", \"The football game was very good, I especially liked fan's chants\", \"The football game was very good, I especially liked opponent's challenge\", \"The football game was very good, I especially liked defender's clearance\"]\n"
          ]
        }
      ]
    },
    {
      "cell_type": "code",
      "source": [
        "len(original_texts)"
      ],
      "metadata": {
        "colab": {
          "base_uri": "https://localhost:8080/"
        },
        "id": "Jtd4SakztVVK",
        "outputId": "73a1979b-0406-40df-d8be-ceb71957e814"
      },
      "id": "Jtd4SakztVVK",
      "execution_count": null,
      "outputs": [
        {
          "output_type": "execute_result",
          "data": {
            "text/plain": [
              "100"
            ]
          },
          "metadata": {},
          "execution_count": 11
        }
      ]
    },
    {
      "cell_type": "markdown",
      "source": [
        "## Paraphrase Example Data"
      ],
      "metadata": {
        "id": "sZGGrK6UKMlH"
      },
      "id": "sZGGrK6UKMlH"
    },
    {
      "cell_type": "code",
      "source": [
        "ret = llm_editor.paraphrase_llm(original_texts, n_paraphrases=1, length_preference='similar')"
      ],
      "metadata": {
        "id": "Ttq5-xrusmdZ"
      },
      "id": "Ttq5-xrusmdZ",
      "execution_count": null,
      "outputs": []
    },
    {
      "cell_type": "code",
      "source": [
        "paraphrased_texts = ret.data"
      ],
      "metadata": {
        "id": "7OFSGqXJuLrm"
      },
      "id": "7OFSGqXJuLrm",
      "execution_count": null,
      "outputs": []
    },
    {
      "cell_type": "code",
      "source": [
        "assert len(paraphrased_texts) == len(original_texts)"
      ],
      "metadata": {
        "id": "YM7XdyTVuUEj"
      },
      "id": "YM7XdyTVuUEj",
      "execution_count": null,
      "outputs": []
    },
    {
      "cell_type": "code",
      "source": [
        "paraphrased_texts[:5]"
      ],
      "metadata": {
        "colab": {
          "base_uri": "https://localhost:8080/"
        },
        "id": "cJ-iD26kuSyh",
        "outputId": "ec4b4dd4-e5a7-479e-b60b-3cc8014da76a"
      },
      "id": "cJ-iD26kuSyh",
      "execution_count": null,
      "outputs": [
        {
          "output_type": "execute_result",
          "data": {
            "text/plain": [
              "['The soccer match was excellent, and I particularly enjoyed how well the team played.',\n",
              " 'The soccer match was quite impressive; I particularly appreciated how well the players were positioned.',\n",
              " \"The match was excellent, and I particularly enjoyed the supporters' chants.\",\n",
              " 'The match was excellent, and I particularly enjoyed the challenge posed by the opposing team.',\n",
              " 'The soccer match was quite impressive, and I particularly appreciated the way the defender cleared the ball.']"
            ]
          },
          "metadata": {},
          "execution_count": 15
        }
      ]
    },
    {
      "cell_type": "markdown",
      "source": [
        "## Negate Example Data"
      ],
      "metadata": {
        "id": "Jqt2AEfQKSSp"
      },
      "id": "Jqt2AEfQKSSp"
    },
    {
      "cell_type": "code",
      "source": [
        "perturb = LLMPerturb()"
      ],
      "metadata": {
        "id": "az7HDU05ucr3"
      },
      "id": "az7HDU05ucr3",
      "execution_count": null,
      "outputs": []
    },
    {
      "cell_type": "code",
      "source": [
        "ret = perturb.add_negation_llm(original_texts, n_variations=1)"
      ],
      "metadata": {
        "colab": {
          "base_uri": "https://localhost:8080/"
        },
        "id": "YLvV7GGaun1e",
        "outputId": "fa9570f2-3240-4062-b2e2-b4cf8d32a004"
      },
      "id": "YLvV7GGaun1e",
      "execution_count": null,
      "outputs": [
        {
          "output_type": "stream",
          "name": "stderr",
          "text": [
            "WARNING:checklist_plus.text_generation.llm:response: [NegationResponse(negated_sentences=[\"The football game was not good; I did not like the team's performance at all.\"]), NegationResponse(negated_sentences=[\"The football game was not very good, and I did not particularly like the player's positioning.\"]), NegationResponse(negated_sentences=[\"The football game was not very good, and I did not especially like the fans' chants.\"]), NegationResponse(negated_sentences=[\"The football game was not very good; I did not especially like the opponent's challenge.\"]), NegationResponse(negated_sentences=[\"The football game was not very good; I did not especially like the defender's clearance.\"]), NegationResponse(negated_sentences=[\"The football game was not good; I especially didn't like the match's lack of excitement.\"]), NegationResponse(negated_sentences=[\"The football game was not very good, and I did not like the player's composure at all.\"]), NegationResponse(negated_sentences=[\"The football game was not very good; I did not especially like the player's fitness.\"]), NegationResponse(negated_sentences=[\"The football game was not very good; I did not especially like the players' teamwork.\"]), NegationResponse(negated_sentences=[\"The football game was not very good; I did not especially like the player's dribbling.\"]), NegationResponse(negated_sentences=[\"The football game was not good, I did not especially like the penalty's execution.\"]), NegationResponse(negated_sentences=[\"The football game was not very good; I did not like the match's atmosphere at all.\"]), NegationResponse(negated_sentences=[\"The football game was not very good; I did not like the defender's tactics at all.\"]), NegationResponse(negated_sentences=[\"The football game was not very good; I did not particularly like the match's highlights.\"]), NegationResponse(negated_sentences=[\"The football game was not very good; I did not like the team's motivation at all.\"]), NegationResponse(negated_sentences=[\"The football game was not very good, and I did not especially like the match's scoreline.\"]), NegationResponse(negated_sentences=[\"The football game was not very good; I did not especially like the player's sacrifice.\"]), NegationResponse(negated_sentences=[\"The football game was not very good; I did not especially like the goalkeeper's reflexes.\"]), NegationResponse(negated_sentences=[\"The football game was not very good, and I did not especially like the goal's tension.\"]), NegationResponse(negated_sentences=[\"The football game was not very good, and I did not like the goalkeeper's positioning at all.\"]), NegationResponse(negated_sentences=[\"The football game was not very good, and I did not appreciate the substitute's impact.\"]), NegationResponse(negated_sentences=[\"The football game was not very good, and I did not especially like the game's rivalry.\"]), NegationResponse(negated_sentences=['The football game was not very good; I did not especially like the goal.']), NegationResponse(negated_sentences=[\"The football game was not very good; I did not like the opponent's skill at all.\"]), NegationResponse(negated_sentences=[\"The football game was not good at all; I did not like the team's goals.\"]), NegationResponse(negated_sentences=[\"The football game was not very good, and I did not like the team's focus at all.\"]), NegationResponse(negated_sentences=[\"The football game was not very good; I did not especially like the coach's strategy.\"]), NegationResponse(negated_sentences=[\"The football game was not very good; I did not especially like the game's highlights.\"]), NegationResponse(negated_sentences=[\"The football game was not very good; I did not like the match's intensity at all.\"]), NegationResponse(negated_sentences=[\"The football game was not very good; I did not especially like the player's role.\"]), NegationResponse(negated_sentences=[\"The football game was not very good, and I did not like the coach's vision at all.\"]), NegationResponse(negated_sentences=[\"The football game was not very good, and I did not particularly like the fans' support.\"]), NegationResponse(negated_sentences=[\"The football game was not very good; I did not especially like the assistant referee's calls.\"]), NegationResponse(negated_sentences=[\"The football game was not very good; I did not especially like the player's contribution.\"]), NegationResponse(negated_sentences=[\"The football game was not very good, and I did not particularly like the game's pace.\"]), NegationResponse(negated_sentences=[\"The football game was not very good; I did not particularly like the player's impact on the game.\"]), NegationResponse(negated_sentences=[\"The football game was not very good; I did not like the match's tension at all.\"]), NegationResponse(negated_sentences=[\"The football game was not very good; I did not especially like the team's unity.\"]), NegationResponse(negated_sentences=[\"The football game was not very good; I did not particularly like the team's lack of passion.\"]), NegationResponse(negated_sentences=[\"The football game was not very good, and I did not like the referee's decisions at all.\"]), NegationResponse(negated_sentences=[\"The football game was not very good; I did not especially like the game's strategy.\"]), NegationResponse(negated_sentences=[\"The football game was not very good, and I did not like the referee's unfairness at all.\"]), NegationResponse(negated_sentences=[\"The football game was not very good; I did not especially like the player's skills.\"]), NegationResponse(negated_sentences=[\"The football game was not very good, and I did not especially like the midfielder's control.\"]), NegationResponse(negated_sentences=[\"The football game was not very good; I did not especially like the player's pace.\"]), NegationResponse(negated_sentences=[\"The football game was not very good; I did not particularly appreciate the goalkeeper's leadership.\"]), NegationResponse(negated_sentences=[\"The football game was not very good; I did not particularly like the team's legacy.\"]), NegationResponse(negated_sentences=[\"The football game was not very good; I did not like the attacker's speed at all.\"]), NegationResponse(negated_sentences=[\"The football game was not very good; I did not especially like the goal's importance.\"]), NegationResponse(negated_sentences=[\"The football game was not very good; I did not especially like the goalie's performance.\"]), NegationResponse(negated_sentences=[\"The football game was not very good, and I did not especially like the match's quality.\"]), NegationResponse(negated_sentences=[\"The football game was not very good; I did not particularly enjoy the opponent's mistakes.\"]), NegationResponse(negated_sentences=[\"The football game was not very good; I did not especially like the team's discipline.\"]), NegationResponse(negated_sentences=[\"The football game was not very good, and I did not especially like the player's technique.\"]), NegationResponse(negated_sentences=[\"The football game was not very good; I did not especially like the defender's strength.\"]), NegationResponse(negated_sentences=[\"The football game was not very good; I did not particularly appreciate the fan's enthusiasm.\"]), NegationResponse(negated_sentences=[\"The football game was not very good; I didn't particularly like the crowd's energy.\"]), NegationResponse(negated_sentences=[\"The football game was not very good, and I did not especially like the opponent's defense.\"]), NegationResponse(negated_sentences=[\"The football game was not very good; I did not like the coach's substitutions at all.\"]), NegationResponse(negated_sentences=[\"The football game was not very good; I did not particularly enjoy the game's lack of excitement.\"]), NegationResponse(negated_sentences=[\"The football game was not very good; I did not like the match's competitiveness at all.\"]), NegationResponse(negated_sentences=[\"The football game was not very good; I did not especially like the team's resilience.\"]), NegationResponse(negated_sentences=[\"The football game was not very good, and I did not particularly like the team's preparation.\"]), NegationResponse(negated_sentences=[\"The football game was not very good; I did not like the coach's tactics, especially.\"]), NegationResponse(negated_sentences=[\"The football game was not very good; I did not especially like the game's result.\"]), NegationResponse(negated_sentences=[\"The football game was not very good; I did not particularly like the player's performance.\"]), NegationResponse(negated_sentences=['The football game was not very good; I did not like the significance of the goal at all.']), NegationResponse(negated_sentences=[\"The football game was not very good; I did not especially like the player's effort.\"]), NegationResponse(negated_sentences=[\"The football game was not very good, and I did not like the player's resilience at all.\"]), NegationResponse(negated_sentences=[\"The football game was not very good, and I did not like the team's chemistry at all.\"]), NegationResponse(negated_sentences=[\"The football game was not very good; I did not especially like the player's experience.\"]), NegationResponse(negated_sentences=[\"The football game was not good at all; I did not like the team's spirit.\"]), NegationResponse(negated_sentences=[\"The football game was not very good; I did not especially like the team's formation.\"]), NegationResponse(negated_sentences=[\"The football game was not very good; I did not especially like the player's fitness level.\"]), NegationResponse(negated_sentences=[\"The football game was not very good; I did not especially like the player's challenge.\"]), NegationResponse(negated_sentences=[\"The football game was not very good; I did not especially like the striker's goals.\"]), NegationResponse(negated_sentences=[\"The football game was not very good; I did not particularly like the opponent's strategy.\"]), NegationResponse(negated_sentences=[\"The football game was not very good; I did not particularly enjoy the match's drama.\"]), NegationResponse(negated_sentences=[\"The football game was not very good, and I did not especially like the match's fun.\"]), NegationResponse(negated_sentences=[\"The football game was not very good; I did not particularly like the player's impact.\"]), NegationResponse(negated_sentences=[\"The football game was not very good, and I did not particularly like the goalkeeper's saves.\"]), NegationResponse(negated_sentences=[\"The football game was not very good; I did not particularly enjoy the fans' celebration.\"]), NegationResponse(negated_sentences=[\"The football game was not very good; I did not particularly like the team's defense.\"]), NegationResponse(negated_sentences=[\"The football game was not very good; I did not especially like the match's buildup.\"]), NegationResponse(negated_sentences=[\"The football game was not very good; I did not especially like the player's determination.\"]), NegationResponse(negated_sentences=[\"The football game was not very good; I did not particularly like the match's analysis.\"]), NegationResponse(negated_sentences=[\"The football game was not very good; I did not like the player's creativity at all.\"]), NegationResponse(negated_sentences=[\"The football game was not very good; I did not particularly like the goal's celebration.\"]), NegationResponse(negated_sentences=['The football game was not very good; I did not like the tension of the penalty shootout at all.']), NegationResponse(negated_sentences=[\"The football game was not very good; I did not especially like the midfielder's vision.\"]), NegationResponse(negated_sentences=[\"The football game was not very good; I did not particularly appreciate the player's leadership.\"]), NegationResponse(negated_sentences=[\"The football game was not very good; I didn't particularly like the player's passing.\"]), NegationResponse(negated_sentences=[\"The football game was not very good, and I did not especially like the goalkeeper's command.\"]), NegationResponse(negated_sentences=['The football game was not very good, and I did not enjoy the thrill of the goal.']), NegationResponse(negated_sentences=[\"The football game was not very good; I did not like the player's agility at all.\"]), NegationResponse(negated_sentences=[\"The football game was not very good, and I did not like the team's strategy at all.\"]), NegationResponse(negated_sentences=[\"The football game was not very good; I did not especially like the attacker's finishing.\"]), NegationResponse(negated_sentences=[\"The football game was not very good; I did not especially like the goalkeeper's agility.\"]), NegationResponse(negated_sentences=[\"The football game was not very good; I did not especially like the team's journey.\"]), NegationResponse(negated_sentences=[\"The football game was not very good; I did not like the match's outcome at all.\"])]\n"
          ]
        }
      ]
    },
    {
      "cell_type": "code",
      "source": [
        "negated_texts = [x[0] for x in ret]"
      ],
      "metadata": {
        "id": "An-UPIzdvMWK"
      },
      "id": "An-UPIzdvMWK",
      "execution_count": null,
      "outputs": []
    },
    {
      "cell_type": "code",
      "source": [
        "negated_texts[:5]"
      ],
      "metadata": {
        "colab": {
          "base_uri": "https://localhost:8080/"
        },
        "id": "ah2sRGH-vWXp",
        "outputId": "57f1ee4e-30c1-41ab-89f6-494d9c4d8142"
      },
      "id": "ah2sRGH-vWXp",
      "execution_count": null,
      "outputs": [
        {
          "output_type": "execute_result",
          "data": {
            "text/plain": [
              "[\"The football game was not good; I did not like the team's performance at all.\",\n",
              " \"The football game was not very good, and I did not particularly like the player's positioning.\",\n",
              " \"The football game was not very good, and I did not especially like the fans' chants.\",\n",
              " \"The football game was not very good; I did not especially like the opponent's challenge.\",\n",
              " \"The football game was not very good; I did not especially like the defender's clearance.\"]"
            ]
          },
          "metadata": {},
          "execution_count": 19
        }
      ]
    },
    {
      "cell_type": "markdown",
      "source": [
        "# Perform Simple INV test"
      ],
      "metadata": {
        "id": "MhE84H_jKcq6"
      },
      "id": "MhE84H_jKcq6"
    },
    {
      "cell_type": "code",
      "source": [
        "from checklist_plus.test_types import MFT, INV, DIR\n",
        "from checklist_plus.expect import Expect"
      ],
      "metadata": {
        "id": "OIW8HXfYvceZ"
      },
      "id": "OIW8HXfYvceZ",
      "execution_count": null,
      "outputs": []
    },
    {
      "cell_type": "code",
      "source": [
        "# expect original text is more similar to the paraphrased one\n",
        "def similar_paraphrase(x, pred, conf, label=None, meta=None):\n",
        "    return pred == 0\n",
        "expect_fn = Expect.single(similar_paraphrase)"
      ],
      "metadata": {
        "id": "TPdgaB_Kwqk7"
      },
      "id": "TPdgaB_Kwqk7",
      "execution_count": null,
      "outputs": []
    },
    {
      "cell_type": "code",
      "source": [
        "test = MFT(list(zip(original_texts, paraphrased_texts, negated_texts)), expect=expect_fn, name='Simple negation',\n",
        "           capability='Negation', description='Very simple negations.')"
      ],
      "metadata": {
        "id": "iowk0KjpwWDt"
      },
      "id": "iowk0KjpwWDt",
      "execution_count": null,
      "outputs": []
    },
    {
      "cell_type": "code",
      "source": [
        "import numpy as np\n",
        "def get_cosine_similarities(data):\n",
        "  similarities = []\n",
        "  for original, paraphrased, negated in data:\n",
        "    original_embedding = get_embedding(original)\n",
        "    paraphrased_embedding = get_embedding(paraphrased)\n",
        "    negated_embedding = get_embedding(negated)\n",
        "\n",
        "    sim_paraphrased = cosine_similarity(original_embedding, paraphrased_embedding)[0][0]\n",
        "    sim_negated = cosine_similarity(original_embedding, negated_embedding)[0][0]\n",
        "\n",
        "    similarities.append([sim_paraphrased, sim_negated])\n",
        "  similarities = np.array(similarities)\n",
        "  return np.argmax(similarities, axis=-1), similarities\n",
        "\n",
        "cosine_sims = get_cosine_similarities(list(zip(original_texts, paraphrased_texts, negated_texts))[:5])"
      ],
      "metadata": {
        "id": "K1QR4_RW1hzA"
      },
      "id": "K1QR4_RW1hzA",
      "execution_count": null,
      "outputs": []
    },
    {
      "cell_type": "code",
      "source": [
        "print(cosine_sims[:5])\n"
      ],
      "metadata": {
        "colab": {
          "base_uri": "https://localhost:8080/"
        },
        "id": "sGWWq5R1xvr4",
        "outputId": "52adca8b-44bc-4731-b8ff-ff660e05a6dd"
      },
      "id": "sGWWq5R1xvr4",
      "execution_count": null,
      "outputs": [
        {
          "output_type": "stream",
          "name": "stdout",
          "text": [
            "(array([1, 1, 1, 1, 1]), array([[0.9101763 , 0.9135145 ],\n",
            "       [0.90789115, 0.91039443],\n",
            "       [0.90674376, 0.9305458 ],\n",
            "       [0.8987609 , 0.933882  ],\n",
            "       [0.91462123, 0.94341195]], dtype=float32))\n"
          ]
        }
      ]
    },
    {
      "cell_type": "code",
      "source": [
        "test.run(get_cosine_similarities)"
      ],
      "metadata": {
        "colab": {
          "base_uri": "https://localhost:8080/"
        },
        "id": "jsXxgY3j2P6y",
        "outputId": "409dfddc-54d8-4539-906a-310b7e088b58"
      },
      "id": "jsXxgY3j2P6y",
      "execution_count": null,
      "outputs": [
        {
          "output_type": "stream",
          "name": "stdout",
          "text": [
            "Predicting 100 examples\n"
          ]
        }
      ]
    },
    {
      "cell_type": "code",
      "source": [
        "# bert-base-uncased is not sensitive to negations\n",
        "test.summary()"
      ],
      "metadata": {
        "colab": {
          "base_uri": "https://localhost:8080/"
        },
        "id": "p2UqxIAg2ToE",
        "outputId": "604e6d3b-5095-4d84-c32e-b22aa9cb4dcf"
      },
      "id": "p2UqxIAg2ToE",
      "execution_count": null,
      "outputs": [
        {
          "output_type": "stream",
          "name": "stdout",
          "text": [
            "Test cases:      100\n",
            "Fails (rate):    87 (87.0%)\n",
            "\n",
            "Example fails:\n",
            "0.9 (\"The football game was very good, I especially liked player's fitness\", \"The soccer match was excellent; I particularly appreciated the athletes' conditioning.\", \"The football game was not very good; I did not especially like the player's fitness.\")\n",
            "----\n",
            "0.9 (\"The football game was very good, I especially liked midfielder's vision\", \"The soccer match was excellent; I particularly appreciated the midfielder's insight.\", \"The football game was not very good; I did not especially like the midfielder's vision.\")\n",
            "----\n",
            "0.9 (\"The football game was very good, I especially liked team's unity\", \"The soccer match was excellent, and I particularly appreciated the team's camaraderie.\", \"The football game was not very good; I did not especially like the team's unity.\")\n",
            "----\n"
          ]
        }
      ]
    }
  ],
  "metadata": {
    "kernelspec": {
      "display_name": "Python 3",
      "language": "python",
      "name": "python3"
    },
    "language_info": {
      "codemirror_mode": {
        "name": "ipython",
        "version": 3
      },
      "file_extension": ".py",
      "mimetype": "text/x-python",
      "name": "python",
      "nbconvert_exporter": "python",
      "pygments_lexer": "ipython3",
      "version": "3.10.10"
    },
    "colab": {
      "provenance": [],
      "name": "Testing Embeddings Behaviour"
    }
  },
  "nbformat": 4,
  "nbformat_minor": 5
}
