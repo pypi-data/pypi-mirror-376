{
 "cells": [
  {
   "cell_type": "markdown",
   "id": "2f80568e",
   "metadata": {},
   "source": [
    "# Quickstart\n",
    "\n",
    "This notebook gives a quick overview of some Semlib functionality. For a more in-depth treatment, see the [Examples](../examples/).\n",
    "\n",
    "Using a Jupyter notebook or an asyncio REPL (`python3 -m asyncio`), import the library and start a session:"
   ]
  },
  {
   "cell_type": "code",
   "execution_count": 1,
   "id": "1a98b995",
   "metadata": {},
   "outputs": [],
   "source": [
    "from semlib import Bare, Session\n",
    "\n",
    "session = Session()"
   ]
  },
  {
   "cell_type": "markdown",
   "id": "23575f63",
   "metadata": {},
   "source": [
    "[prompt](../api/#semlib.Session.prompt) is a basic wrapper around prompting an LLM and optionally getting structured output:"
   ]
  },
  {
   "cell_type": "code",
   "execution_count": 2,
   "id": "40d1bf51",
   "metadata": {},
   "outputs": [
    {
     "data": {
      "text/plain": [
       "['Jimmy Carter', 'Ronald Reagan', 'George H. W. Bush', 'Bill Clinton']"
      ]
     },
     "execution_count": 2,
     "metadata": {},
     "output_type": "execute_result"
    }
   ],
   "source": [
    "presidents: list[str] = await session.prompt(\n",
    "    \"Who were the 39th through 42nd presidents of the United States? Return the name only.\",\n",
    "    return_type=Bare(list[str]),\n",
    ")\n",
    "presidents"
   ]
  },
  {
   "cell_type": "markdown",
   "id": "e9cce473",
   "metadata": {},
   "source": [
    "[sort](../api/#semlib.Session.sort) sorts a list of items based on a ranking criterion:"
   ]
  },
  {
   "cell_type": "code",
   "execution_count": 3,
   "id": "09037488",
   "metadata": {},
   "outputs": [
    {
     "data": {
      "text/plain": [
       "['Jimmy Carter', 'Bill Clinton', 'George H. W. Bush', 'Ronald Reagan']"
      ]
     },
     "execution_count": 3,
     "metadata": {},
     "output_type": "execute_result"
    }
   ],
   "source": [
    "await session.sort(presidents, by=\"right-leaning\")"
   ]
  },
  {
   "cell_type": "markdown",
   "id": "8a8294c9",
   "metadata": {},
   "source": [
    "[filter](../api/#semlib.Session.filter) filters a list of items based on a criterion:"
   ]
  },
  {
   "cell_type": "code",
   "execution_count": 4,
   "id": "4b61c99f",
   "metadata": {},
   "outputs": [
    {
     "data": {
      "text/plain": [
       "['Jimmy Carter', 'George H. W. Bush', 'Bill Clinton']"
      ]
     },
     "execution_count": 4,
     "metadata": {},
     "output_type": "execute_result"
    }
   ],
   "source": [
    "await session.filter(presidents, by=\"former actor\", negate=True)"
   ]
  },
  {
   "cell_type": "markdown",
   "id": "b9849de1",
   "metadata": {},
   "source": [
    "[map](../api/#semlib.Session.map) transforms a list of items based on a prompt template:"
   ]
  },
  {
   "cell_type": "code",
   "execution_count": 5,
   "id": "795cc6d0",
   "metadata": {},
   "outputs": [
    {
     "data": {
      "text/plain": [
       "[52, 69, 64, 46]"
      ]
     },
     "execution_count": 5,
     "metadata": {},
     "output_type": "execute_result"
    }
   ],
   "source": [
    "ages: list[int] = await session.map(\n",
    "    presidents,\n",
    "    template=\"How old was {} when he took office?\",\n",
    "    return_type=Bare(int),\n",
    ")\n",
    "ages"
   ]
  },
  {
   "cell_type": "markdown",
   "id": "518b1062",
   "metadata": {},
   "source": [
    "[total_cost](../api/#semlib.Session.total_cost) returns the total cost of all LLM calls made in the session:"
   ]
  },
  {
   "cell_type": "code",
   "execution_count": 6,
   "id": "5b24dfb7",
   "metadata": {},
   "outputs": [
    {
     "data": {
      "text/plain": [
       "'$0.007'"
      ]
     },
     "execution_count": 6,
     "metadata": {},
     "output_type": "execute_result"
    }
   ],
   "source": [
    "f\"${session.total_cost():.3f}\""
   ]
  },
  {
   "cell_type": "markdown",
   "id": "8369c5b4",
   "metadata": {},
   "source": [
    "To see the full list of supported functionality, take a look at the methods defined on [Session](../api/#semlib.Session) or take a look at the [examples](../examples/)."
   ]
  }
 ],
 "metadata": {
  "kernelspec": {
   "display_name": "dev",
   "language": "python",
   "name": "python3"
  },
  "language_info": {
   "codemirror_mode": {
    "name": "ipython",
    "version": 3
   },
   "file_extension": ".py",
   "mimetype": "text/x-python",
   "name": "python",
   "nbconvert_exporter": "python",
   "pygments_lexer": "ipython3",
   "version": "3.13.3"
  }
 },
 "nbformat": 4,
 "nbformat_minor": 5
}
