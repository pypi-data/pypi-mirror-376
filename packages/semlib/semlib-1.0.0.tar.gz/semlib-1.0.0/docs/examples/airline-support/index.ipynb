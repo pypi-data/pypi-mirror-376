{
 "cells": [
  {
   "cell_type": "markdown",
   "id": "5bf61ccc",
   "metadata": {},
   "source": [
    "# Airline Support Report\n",
    "\n",
    "This notebook analyzes a large number of airline support tickets and produces a report summarizing the complaints. This notebook mirrors the [airline support tutorial](https://data-people-group.github.io/blogs/2025/01/13/docwrangler/#what-is-docwrangler) in DocWrangler / DocETL ([Shankar et al., 2024](https://arxiv.org/abs/2410.12189)), allowing for direct comparison between DocETL and Semlib.\n",
    "\n",
    "The processing pipeline consists of two phases:\n",
    "\n",
    "- ([map](../../api/#semlib.Session.map)) In one LLM call _per complaint_, extract the chief complaint and other information as structured data.\n",
    "- ([apply](../../api/#semlib.Session.apply)) In a single LLM call, process all the structured data and produce a report summarizing the complaints. In DocETL's terminology, this is a \"reduce\" operation. Semlib's [reduce](../../api/#semlib.Session.reduce) mirrors the `reduce` higher-order function in functional programming, which combines elements from a list two at a time. Semlib's [apply](../../api/#semlib.Session.apply) method processes data in a single LLM call.\n",
    "\n",
    "This notebook uses the OpenAI API and costs about $0.05 to run."
   ]
  },
  {
   "cell_type": "markdown",
   "id": "f3e0b6b0",
   "metadata": {},
   "source": [
    "## Install and configure Semlib\n",
    "\n",
    "If you don't already have Semlib installed, run:"
   ]
  },
  {
   "cell_type": "code",
   "execution_count": null,
   "id": "a6dcd5e6",
   "metadata": {},
   "outputs": [],
   "source": [
    "%pip install semlib"
   ]
  },
  {
   "cell_type": "markdown",
   "id": "84830ca6",
   "metadata": {},
   "source": [
    "We start by initializing a Semlib [Session](../../api/#semlib.Session). A session provides a context for performing Semlib operations. We configure the session to cache LLM responses on disk in `cache.db`, and we configure the default model to OpenAI's `gpt-4o-mini`.\n",
    "\n",
    "If your `OPENAI_API_KEY` is not already set in your environment, you can uncomment the line at the bottom of the next cell and set your API key there.\n",
    "\n",
    "If you wish to use a different LLM (e.g., `anthropic/claude-3-5-sonnet-20240620`), change the `model=` kwarg below. Make sure that the appropriate environment variable (e.g., `ANTHROPIC_API_KEY`) is set in your environment. You can use any LLM [supported by LiteLLM](https://docs.litellm.ai/docs/providers)."
   ]
  },
  {
   "cell_type": "code",
   "execution_count": 1,
   "id": "8217e86d",
   "metadata": {},
   "outputs": [],
   "source": [
    "from semlib import OnDiskCache, Session\n",
    "\n",
    "session = Session(cache=OnDiskCache(\"cache.db\"), model=\"openai/gpt-4o-mini\")\n",
    "\n",
    "# Uncomment the following lines and set your OpenAI API key if not already set in your environment\n",
    "\n",
    "# import os\n",
    "# os.environ[\"OPENAI_API_KEY\"] = \"...\""
   ]
  },
  {
   "cell_type": "markdown",
   "id": "8a26fba8",
   "metadata": {},
   "source": [
    "## Download and preview dataset"
   ]
  },
  {
   "cell_type": "code",
   "execution_count": 2,
   "id": "531011a7",
   "metadata": {},
   "outputs": [],
   "source": [
    "import json\n",
    "import urllib\n",
    "\n",
    "tickets = json.loads(\n",
    "    urllib.request.urlopen(\n",
    "        \"https://gist.githubusercontent.com/anishathalye/9d13b58d7ea820b11bcbe8c7b5704649/raw/7f0ae3f64f1107553a2f1f425473899104b3d4f8/airline_support_chats_kaggle.json\"\n",
    "    ).read()\n",
    ")"
   ]
  },
  {
   "cell_type": "code",
   "execution_count": 3,
   "id": "df8c2cb4",
   "metadata": {},
   "outputs": [
    {
     "name": "stdout",
     "output_type": "stream",
     "text": [
      "Total number of tickets: 250\n",
      "\n",
      "Example ticket text: Here is the description of my terrible experience with FlightNetwork: I needed to book round trip tickets to Copenhagen for 3 people. We searched Google flights for the best deal and found a round trip flight for $843 from Flight Network. Since we needed to book using 3 different credit cards, I called FlightNetwork for the booking to ensure that we all get the same price and availability. First, ...\n"
     ]
    }
   ],
   "source": [
    "print(f\"Total number of tickets: {len(tickets)}\")\n",
    "print()\n",
    "print(f\"Example ticket text: {tickets[0]['text'][:400]}...\")"
   ]
  },
  {
   "cell_type": "markdown",
   "id": "e31f94f5",
   "metadata": {},
   "source": [
    "## Produce report\n",
    "\n",
    "### Extract chief complaint and tag\n",
    "\n",
    "We begin by defining a Pydantic model describing the structure of the data we want to extract from each ticket."
   ]
  },
  {
   "cell_type": "code",
   "execution_count": 4,
   "id": "22473347",
   "metadata": {},
   "outputs": [],
   "source": [
    "from pydantic import BaseModel\n",
    "\n",
    "\n",
    "class Complaint(BaseModel):\n",
    "    chief_complaint: str\n",
    "    complaint_category: str\n",
    "    frustration_level: str"
   ]
  },
  {
   "cell_type": "markdown",
   "id": "72fab80f",
   "metadata": {},
   "source": [
    "Next, we use the [map](../../api/#semlib.Session.map) method to prompt an LLM per-ticket to extract the data we're looking for. Semlib supports structured data extraction via the `return_type=` kwarg, which supports both Pydantic models as well as [Bare](../../api/#semlib.Bare) types.\n",
    "\n",
    "We take this prompt template from the DocETL tutorial and translate it from the Jinja2 syntax to the Python lambda / f-string supported by Semlib.\n",
    "\n",
    "The following cell takes about 45 seconds, with the default concurrency level, to process 250 tickets. If you have high OpenAI rate limits, you can experiment with higher concurrency by passing `max_concurrency=<number>` to the `Session` constructor above."
   ]
  },
  {
   "cell_type": "code",
   "execution_count": 5,
   "id": "950aef28",
   "metadata": {},
   "outputs": [],
   "source": [
    "complaints: list[Complaint] = await session.map(\n",
    "    tickets,\n",
    "    lambda ticket: f\"\"\"\n",
    "Describe the chief complaint from the user, including direct quotes from the user to capture their exact words.\n",
    "\n",
    "{ ticket['text'] }\n",
    "\n",
    "Additionally, categorize the complaint into one of the following categories: pricing, tech issue, user error, customer service, or animal/pet assistance. Ensure that the category is in lowercase.\n",
    "\n",
    "Determine the level of frustration expressed by the user, using the values: high, medium, or low (all in lowercase).\n",
    "\n",
    "Format the output as follows:\n",
    "- Chief Complaint: [User's quoted complaint]\n",
    "- Complaint Category: [Selected category]\n",
    "- Frustration Level: [high/medium/low]\n",
    "\n",
    "Example output:\n",
    "- Chief Complaint: \"I was charged extra fees that were not disclosed during booking.\"\n",
    "- Complaint Category: pricing\n",
    "- Frustration Level: high\n",
    "\"\"\".strip(),\n",
    "    return_type=Complaint,\n",
    ")"
   ]
  },
  {
   "cell_type": "markdown",
   "id": "f33d26be",
   "metadata": {},
   "source": [
    "We can preview what one of the complaints looks like:"
   ]
  },
  {
   "cell_type": "code",
   "execution_count": 6,
   "id": "325b5776",
   "metadata": {},
   "outputs": [
    {
     "data": {
      "text/plain": [
       "Complaint(chief_complaint='\"Overall absolutely terrible terrible nightmarish experience with FlightNetwork. Not worth the headache and lack of transparency.\"', complaint_category='customer service', frustration_level='high')"
      ]
     },
     "execution_count": 6,
     "metadata": {},
     "output_type": "execute_result"
    }
   ],
   "source": [
    "complaints[0]"
   ]
  },
  {
   "cell_type": "markdown",
   "id": "4efd8a27",
   "metadata": {},
   "source": [
    "### Combine individual complaints into a single report\n",
    "\n",
    "Next, we use an LLM to analyze all the complaints together and generate a report. Here, we use the [apply](../../api/#semlib.Session.apply) method to apply an LLM prompt to a value (which is itself a thin wrapper around a simple LLM [prompt](../../api/#semlib.Session.prompt)).\n",
    "\n",
    "We take this prompt template from the DocETL tutorial as well; we translate it from the Jinja2 syntax as follows. First, we define a function for formatting a single complaint:"
   ]
  },
  {
   "cell_type": "code",
   "execution_count": 7,
   "id": "d8afec70",
   "metadata": {},
   "outputs": [],
   "source": [
    "def format_complaint(x: tuple[int, Complaint]) -> str:\n",
    "    return f\"\"\"\n",
    "Ticket #{x[0]}:\n",
    "- Complaint Category: { x[1].complaint_category }\n",
    "- Frustration Level: { x[1].frustration_level }\n",
    "- Chief Complaint: { x[1].chief_complaint }\n",
    "\"\"\".strip()"
   ]
  },
  {
   "cell_type": "markdown",
   "id": "c61c2a3a",
   "metadata": {},
   "source": [
    "Next, we invoke the `apply` method, passing it:\n",
    "\n",
    "- `enumerate(complaints)`, which adds ticket numbers\n",
    "- A callable prompt `template`, which takes as an argument the list of (ticket number, complaint) tuples and returns a formatted string, which will be passed to the LLM\n",
    "\n",
    "Here, we do not specify a `return_type`, so we get back a string containing the report."
   ]
  },
  {
   "cell_type": "code",
   "execution_count": 8,
   "id": "d886b75b",
   "metadata": {},
   "outputs": [],
   "source": [
    "report = await session.apply(\n",
    "    enumerate(complaints),\n",
    "    lambda c: f\"\"\"\n",
    "Here are some complaints found in the dataset:\n",
    "\n",
    "{'\\n\\n'.join(map(format_complaint, c))}\n",
    "\n",
    "Summarize the common complaints across all tickets, and highlight how they differ across frustration levels.\n",
    "\"\"\".strip(),\n",
    ")"
   ]
  },
  {
   "cell_type": "markdown",
   "id": "7e5f8e69",
   "metadata": {},
   "source": [
    "### Cost analysis\n",
    "\n",
    "We used GPT-4o-mini, a low-cost LLM. We can check the total cost for the 251 LLM operations:"
   ]
  },
  {
   "cell_type": "code",
   "execution_count": 9,
   "id": "d385ff0f",
   "metadata": {},
   "outputs": [
    {
     "data": {
      "text/plain": [
       "'$0.037'"
      ]
     },
     "execution_count": 9,
     "metadata": {},
     "output_type": "execute_result"
    }
   ],
   "source": [
    "f\"${session.total_cost():.3f}\""
   ]
  },
  {
   "cell_type": "markdown",
   "id": "3e3161e6",
   "metadata": {},
   "source": [
    "## Final result\n",
    "\n",
    "The final report is written in Markdown. We can render this Markdown in the notebook with the following:"
   ]
  },
  {
   "cell_type": "code",
   "execution_count": 10,
   "id": "d17e2843",
   "metadata": {},
   "outputs": [
    {
     "data": {
      "text/markdown": [
       "### Common Complaints summarized across all tickets:\n",
       "\n",
       "1. **Customer Service Issues**: \n",
       "   - Many complaints center on poor customer service experiences, including unhelpful staff, inaccessible customer support (long wait times), and lack of clear communication regarding flight cancellations or changes.\n",
       "   - High frustration level tickets often express feelings of being disregarded, misled, or treated poorly, while medium frustration tickets may highlight confusion or disappointment rather than outright anger.\n",
       "\n",
       "2. **Flight Cancellations and Delays**:\n",
       "   - A significant number of complaints relate to flight cancellations or delays and the inadequate responsiveness of airlines in addressing the situation. High frustration tickets emphasize the resulting inconveniences, such as missed connections and financial losses.\n",
       "   - Medium frustration tickets highlight general irritation with the situation without an extreme emotional reaction.\n",
       "\n",
       "3. **Pricing and Hidden Charges**: \n",
       "   - Numerous complaints address unexpected costs or fees that passengers encountered, such as higher charges for luggage and unanticipated pricing discrepancies.\n",
       "   - High frustration tickets denote a sense of being exploited or frustrated by the pricing policies, while medium frustration tickets express confusion or annoyance at the difficulty of navigating costs.\n",
       "\n",
       "4. **Baggage Issues**: \n",
       "   - Complaints about lost or damaged luggage are prevalent, with many expressing disbelief over the compensation or support available for such incidents. High frustration tickets articulate distress over valuable items lost or the impact on travel plans.\n",
       "   - Medium frustration tickets may relay concern without reaching the level of significant anxiety.\n",
       "\n",
       "5. **Tech Issues and Booking Complications**: \n",
       "   - Several complaints relate to technical problems during the booking process or confusion regarding ticket rules and regulations, particularly around connecting flights and baggage handling.\n",
       "   - High frustration tickets are marked by feelings of helplessness regarding procedural issues, while medium frustration tickets reveal confusion about technology but not an overwhelming sense of urgency.\n",
       "\n",
       "6. **Seating Assignments**: \n",
       "   - Problems with seating arrangements and failures to honor pre-allocated seats are reported frequently, often leading to significant frustrations when families are separated or downgraded.\n",
       "   - High frustration complaints typically involve outright anger over the perceived injustices, while medium-level frustration might indicate disappointment or uncertainty.\n",
       "\n",
       "### Frustration Levels:\n",
       "\n",
       "- **High Frustration Level**:\n",
       "  - Complaints are intense, often expressing a mixture of anger, betrayal, or a feeling of being wronged. The customers frequently demand action, compensation, or vocalize a firm decision to avoid using that airline again. There’s often a strong emotional reaction tied to personal losses or stressful situations.\n",
       "\n",
       "- **Medium Frustration Level**:\n",
       "  - These complaints convey dissatisfaction but often include a more measured tone. Customers are frustrated but might be seeking advice, expressing confusion about policies, or sharing experiences without an extreme emotional response. They may still be disappointed or annoyed but less likely than high frustration customers to express outrage or threat of action.\n",
       "\n",
       "- **Low Frustration Level**:\n",
       "  - Complaints at this level generally reflect positive remarks or minor issues. Customers express satisfaction with some aspects of service, appreciate efforts made by staff, or confirm that their experiences were generally acceptable, aside from small complaints or suggestions for improvement.\n",
       "\n",
       "In summary, the overall complaints indicate major issues with customer service, flight management, and pricing policies, with the intensity of complaints varying significantly based on the frustration levels of the customers. High frustration tickets tend to express feelings of helplessness and betrayal, while medium frustration tickets reflect confusion and irritation without extreme emotional responses. Low frustration complaints were rare and often offered constructive feedback instead of outright complaints."
      ]
     },
     "metadata": {},
     "output_type": "display_data"
    }
   ],
   "source": [
    "from IPython.display import display_markdown\n",
    "\n",
    "display_markdown(report, raw=True)"
   ]
  }
 ],
 "metadata": {
  "kernelspec": {
   "display_name": "dev",
   "language": "python",
   "name": "python3"
  },
  "language_info": {
   "codemirror_mode": {
    "name": "ipython",
    "version": 3
   },
   "file_extension": ".py",
   "mimetype": "text/x-python",
   "name": "python",
   "nbconvert_exporter": "python",
   "pygments_lexer": "ipython3",
   "version": "3.13.3"
  }
 },
 "nbformat": 4,
 "nbformat_minor": 5
}
