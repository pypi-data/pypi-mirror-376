{
 "cells": [
  {
   "cell_type": "markdown",
   "metadata": {
    "id": "4TsspBbtWyBj"
   },
   "source": [
    " <h1>🌍 <strong>MapMiner</strong> </h1>\n",
    "    <p>\n",
    "    <a href=\"https://colab.research.google.com/drive/1steVa5hY0SqUabvFLb0J4ypRWgSs7io9?usp=sharing\" target=\"_blank\">\n",
    "    <img src=\"https://colab.research.google.com/assets/colab-badge.svg\" alt=\"Open in Colab\"/>\n",
    "</a>\n",
    "        <img src=\"https://img.shields.io/badge/Python-3.x-blue.svg?style=flat-square&logo=python\" alt=\"Python\">\n",
    "        <img src=\"https://img.shields.io/badge/Xarray-0.18+-orange.svg?style=flat-square&logo=xarray\" alt=\"Xarray\">\n",
    "        <img src=\"https://img.shields.io/badge/Dask-Powered-yellow.svg?style=flat-square&logo=dask\" alt=\"Dask\">\n",
    "        <img src=\"https://img.shields.io/badge/Numba-Accelerated-green.svg?style=flat-square&logo=numba\" alt=\"Numba\">\n",
    "        <img src=\"https://img.shields.io/badge/Selenium-Automated-informational.svg?style=flat-square&logo=selenium\" alt=\"Selenium\">\n",
    "    </p>\n",
    "    <p><strong>MapMiner</strong> is a geospatial tool designed to efficiently download and process geospatial data and metadata from various sources. It leverages powerful Python libraries like <strong>Selenium</strong>, <strong>Dask</strong>, <strong>Numba</strong>, and <strong>Xarray</strong> to provide high-performance data retrieval and processing capabilities for geospatial analysis and visualization.</p><br>\n",
    "\n",
    "<br><h2>📚 <strong>Supported Datasets</strong></h2>\n",
    "<p>MapMiner supports a variety of geospatial datasets across multiple categories:</p>\n",
    "<div>\n",
    "\n",
    "| Category                            | Datasets                                                                 |\n",
    "|-------------------------------------|--------------------------------------------------------------------------|\n",
    "| 🌍 **Satellite**                    | `Sentinel-2`, `Sentinel-1`, `MODIS`, `Landsat`                            |\n",
    "| 🚁 **Aerial**                       | `NAIP`                                                                   |\n",
    "| 🗺️ **Basemap**                      | `Google`, `ESRI`                                                         |\n",
    "| 📍 **Vectors**                      | `Google Building Footprint`, `OSM`                                        |\n",
    "| 🏔️ **DEM (Digital Elevation Model)** | `Copernicus DEM 30m`, `ALOS DEM`                                          |\n",
    "| 🌍 **LULC (Land Use Land Cover)**    | `ESRI LULC`                                                              |\n",
    "| 🌾 **Crop Layer**                   | `CDL Crop Mask`    \n",
    "\n",
    "\n",
    "<br>"
   ]
  },
  {
   "cell_type": "markdown",
   "metadata": {
    "id": "SFY-Xb2OY_Rg"
   },
   "source": [
    "<div style=\"text-align: center;\">\n",
    "  <img src=\"https://www.thalesgroup.com/sites/default/files/database/assets/images/2020-01/EUTELSAT%20KONNECT_1100.jpg\" alt=\"MapMiner Image\" height=400 width=800>\n",
    "</div>\n"
   ]
  },
  {
   "cell_type": "code",
   "execution_count": null,
   "metadata": {
    "colab": {
     "base_uri": "https://localhost:8080/",
     "height": 1000
    },
    "id": "j4w4i_UqkgrA",
    "outputId": "75594808-8dd0-41bd-c0ea-278a6600c9b7",
    "tags": []
   },
   "outputs": [],
   "source": [
    "#Install MapMiner from PIP\n",
    "!pip3 install mapminer"
   ]
  },
  {
   "cell_type": "markdown",
   "metadata": {
    "id": "JzUBqsA4ZudO"
   },
   "source": [
    "<br><hr><br><strong><h2 style=\"text-align: center; color: #2ecc71; font-family: Arial, sans-serif;\">\n",
    "  🔍 Data Mining & Visualization: Extract and Visualize Earth Observation Data with MapMiner\n",
    "</h2></strong>\n",
    "<p style=\"text-align: center; font-size: 18px; color: #555;\">\n",
    "  This code imports the powerful MapMiner tools and utilizes <strong>hvPlot</strong> for interactive data visualization. Get ready to explore your geospatial data like never before!\n",
    "</p>\n"
   ]
  },
  {
   "cell_type": "code",
   "execution_count": null,
   "metadata": {
    "id": "Ie2NP3HVktgj",
    "tags": []
   },
   "outputs": [],
   "source": [
    "from mapminer.miner import *\n",
    "import holoviews\n",
    "import panel as pn\n",
    "import hvplot.xarray\n",
    "import hvplot.pandas"
   ]
  },
  {
   "cell_type": "markdown",
   "metadata": {},
   "source": [
    "<h2 style=\"text-align: center; color: #1DB954; font-family: Arial, sans-serif;\">\n",
    "  🌐✨ Unveiling Foursquare's Open Source Places Dataset\n",
    "</h2>\n",
    "<p style=\"text-align: center; font-size: 16px; color: #555;\">\n",
    "  Discover a vast collection of over 100 million global Points of Interest (POIs) 🏙️, curated for your geospatial analysis and application development needs.\n",
    "</p>\n"
   ]
  },
  {
   "cell_type": "code",
   "execution_count": null,
   "metadata": {
    "tags": []
   },
   "outputs": [],
   "source": [
    "miner = FourSquareMiner()"
   ]
  },
  {
   "cell_type": "code",
   "execution_count": null,
   "metadata": {
    "tags": []
   },
   "outputs": [],
   "source": [
    "%%time\n",
    "# Define the latitude and longitude of the center point\n",
    "lat, lon = 48.29739909,4.0804594\n",
    "\n",
    "# Define the radius in meters for fetching data around the center point\n",
    "radius = 1000\n",
    "\n",
    "# Fetch data using lat/lon and radius\n",
    "df = miner.fetch(lat, lon, radius)"
   ]
  },
  {
   "cell_type": "code",
   "execution_count": null,
   "metadata": {
    "tags": []
   },
   "outputs": [],
   "source": [
    "df.head(1)"
   ]
  },
  {
   "cell_type": "code",
   "execution_count": null,
   "metadata": {
    "tags": []
   },
   "outputs": [],
   "source": [
    "# Visualization of Fetched Buildings...\n",
    "df_plot = df.hvplot(geo=True, color='red', alpha=0.8, line_width=0.5, title=\"FourSquare POI DataPoints\",hover_cols=['name','address'],)\n",
    "esri_basemap = holoviews.element.tiles.EsriImagery().opts(width=1200, height=600,bgcolor='lightgray',alpha=0.8)\n",
    "plot = esri_basemap * df_plot\n",
    "plot.opts(toolbar='above', title=\"FourSquare POI DataPoints on ESRI Basemap\")"
   ]
  },
  {
   "cell_type": "markdown",
   "metadata": {
    "id": "1zIPneegcr-w"
   },
   "source": [
    "<h2 style=\"text-align: center; color: #e67e22; font-family: Arial, sans-serif;\">\n",
    "  1️⃣ > 🏙️📐 Scalable Google Building Footprint Mining with Dask\n",
    "</h2>\n",
    "<p style=\"text-align: center; font-size: 16px; color: #555;\">\n",
    "  Extract detailed vector data of building footprints from Google at scale, powered by <strong>Dask</strong> for distributed processing. Unlock metadata and geospatial insights with efficiency and precision.\n",
    "</p>\n"
   ]
  },
  {
   "cell_type": "code",
   "execution_count": null,
   "metadata": {
    "id": "kLX5Ws_MGvXl"
   },
   "outputs": [],
   "source": [
    "miner = GoogleBuildingMiner()"
   ]
  },
  {
   "cell_type": "code",
   "execution_count": null,
   "metadata": {
    "colab": {
     "base_uri": "https://localhost:8080/"
    },
    "id": "pwWHKq4WG1rN",
    "outputId": "2c1063d7-36f4-4f3c-b126-83c6e5b56e27"
   },
   "outputs": [],
   "source": [
    "%%time\n",
    "# Define the latitude and longitude of the center point\n",
    "lat, lon = 26.44363424, 74.64098615\n",
    "\n",
    "# Define the radius in meters for fetching data around the center point\n",
    "radius = 200\n",
    "\n",
    "# Fetch data using lat/lon and radius\n",
    "df = miner.fetch(lat, lon, radius)\n",
    "\n",
    "# Note: Polygon input is also available for polygon based geospatial queries"
   ]
  },
  {
   "cell_type": "code",
   "execution_count": null,
   "metadata": {
    "colab": {
     "base_uri": "https://localhost:8080/",
     "height": 206
    },
    "id": "NhzT9YCNITa4",
    "outputId": "139f6b72-c3b6-4e78-b895-13bc9377b845"
   },
   "outputs": [],
   "source": [
    "df.head()"
   ]
  },
  {
   "cell_type": "code",
   "execution_count": null,
   "metadata": {
    "colab": {
     "base_uri": "https://localhost:8080/",
     "height": 687
    },
    "id": "dzwS_XP-uZle",
    "outputId": "8be6a32a-042b-40c6-a821-214a6af0f37e"
   },
   "outputs": [],
   "source": [
    "# Visualization of Fetched Buildings...\n",
    "\n",
    "df_plot = df.hvplot(geo=True, color='red', alpha=0.4, line_width=0.5, title=\"Building Footprints\")\n",
    "esri_basemap = holoviews.element.tiles.EsriImagery().opts(width=1200, height=600,bgcolor='lightgray')\n",
    "plot = esri_basemap * df_plot\n",
    "plot.opts(toolbar='above', title=\"Google Building Footprint on ESRI Basemap\")"
   ]
  },
  {
   "cell_type": "markdown",
   "metadata": {
    "id": "RnYu0k3gaJmu"
   },
   "source": [
    "<br><h2 style=\"text-align: center; color: #e74c3c; font-family: Arial, sans-serif;\">\n",
    "  2️⃣ > 🌍📊 Advanced Google Earth (with metadata)\n",
    "Mining with MapMiner\n",
    "</h2>\n",
    "<p style=\"text-align: center; font-size: 16px; color: #555;\">\n",
    "  Unlock high-quality geospatial basemap tiles from Google with advanced automation, while also extracting valuable metadata such as capture date for deeper Earth observation insights.\n",
    "</p>\n"
   ]
  },
  {
   "cell_type": "code",
   "execution_count": null,
   "metadata": {
    "colab": {
     "base_uri": "https://localhost:8080/"
    },
    "id": "nm6GTHVqkxZD",
    "outputId": "42c2c2ce-fc53-405e-8bd3-8585223b57b8",
    "tags": []
   },
   "outputs": [],
   "source": [
    "%%time\n",
    "miner = GoogleBaseMapMiner()\n",
    "\n",
    "# IF Chrome version mismatch with your system drivers, run below to get latest chromedrivers\n",
    "# GoogleBaseMapMiner.install_chrome(None)"
   ]
  },
  {
   "cell_type": "code",
   "execution_count": null,
   "metadata": {
    "colab": {
     "base_uri": "https://localhost:8080/"
    },
    "id": "Gz9W5B8zlH9c",
    "outputId": "16bafc28-62d4-4341-a8ed-647f1b5eb349",
    "tags": []
   },
   "outputs": [],
   "source": [
    "%%time\n",
    "lat,lon = 26.44363424,74.64098615\n",
    "radius = 200\n",
    "\n",
    "ds = miner.fetch(lat,lon,radius)"
   ]
  },
  {
   "cell_type": "code",
   "execution_count": null,
   "metadata": {
    "colab": {
     "base_uri": "https://localhost:8080/",
     "height": 306
    },
    "id": "ssAzCqpyalja",
    "outputId": "881130c7-2ac1-474f-8cc4-f475260e900f",
    "tags": []
   },
   "outputs": [],
   "source": [
    "ds"
   ]
  },
  {
   "cell_type": "code",
   "execution_count": null,
   "metadata": {
    "colab": {
     "base_uri": "https://localhost:8080/",
     "height": 827
    },
    "id": "ibDaJIfHuivB",
    "outputId": "69d5a0e2-e1cf-4a1b-d931-e3e0fdd89354",
    "tags": []
   },
   "outputs": [],
   "source": [
    "ds.hvplot(x='x',y='y',height=800,width=800,title='Google Earth Basemap')"
   ]
  },
  {
   "cell_type": "markdown",
   "metadata": {
    "id": "WMl5J9FzcK0w"
   },
   "source": [
    "<br><h2 style=\"text-align: center; color: #3498db; font-family: Arial, sans-serif;\">\n",
    "  3️⃣ > 🌐📈 Precision Mining of ESRI Basemaps with MapMiner\n",
    "</h2>\n",
    "<p style=\"text-align: center; font-size: 16px; color: #555;\">\n",
    "  Extract high-resolution basemap tiles from ESRI, enriched with essential metadata like capture date, utilizing cutting-edge geospatial automation tools for unparalleled insights.\n",
    "</p>\n"
   ]
  },
  {
   "cell_type": "code",
   "execution_count": null,
   "metadata": {
    "colab": {
     "base_uri": "https://localhost:8080/"
    },
    "id": "_eg_qhl-F4aB",
    "outputId": "e524578c-c8b4-4866-f0a2-b18cfffc950d"
   },
   "outputs": [],
   "source": [
    "%%time\n",
    "miner = ESRIBaseMapMiner()"
   ]
  },
  {
   "cell_type": "code",
   "execution_count": null,
   "metadata": {
    "colab": {
     "base_uri": "https://localhost:8080/"
    },
    "id": "aG3M9lr0ErJv",
    "outputId": "7f942466-637e-480b-d512-69230d8ac6cc"
   },
   "outputs": [],
   "source": [
    "%%time\n",
    "lat,lon = 26.44363424,74.64098615\n",
    "radius = 200\n",
    "\n",
    "ds = miner.fetch(lat,lon,radius,resolution=1)"
   ]
  },
  {
   "cell_type": "code",
   "execution_count": null,
   "metadata": {
    "colab": {
     "base_uri": "https://localhost:8080/",
     "height": 237
    },
    "id": "M3mUyE3DGDYx",
    "outputId": "5144cdf2-ca6a-43b1-80b3-db516b4c8d73"
   },
   "outputs": [],
   "source": [
    "ds"
   ]
  },
  {
   "cell_type": "code",
   "execution_count": null,
   "metadata": {
    "colab": {
     "base_uri": "https://localhost:8080/",
     "height": 827
    },
    "id": "ibzhXlcWF_t-",
    "outputId": "41de7f06-be7f-4aec-ddb4-0e058b14a385"
   },
   "outputs": [],
   "source": [
    "ds.hvplot.rgb(x='x',y='y',height=800,width=800,title='Google Earth Basemap',bands='band')"
   ]
  },
  {
   "cell_type": "markdown",
   "metadata": {
    "id": "Gpv1BtYicY4o"
   },
   "source": [
    "<br><h2 style=\"text-align: center; color: #9b59b6; font-family: Arial, sans-serif;\">\n",
    "  4️⃣ > 🛰️⏳ Dynamic Sentinel-2 Basemap Mining with Temporal Insights\n",
    "</h2>\n",
    "<p style=\"text-align: center; font-size: 16px; color: #555;\">\n",
    "  Seamlessly mine high-resolution Sentinel-2 imagery with advanced temporal data capabilities, extracting basemaps and metadata across multiple timestamps for comprehensive Earth observation analysis.\n",
    "</p>\n"
   ]
  },
  {
   "cell_type": "code",
   "execution_count": null,
   "metadata": {
    "id": "W2mMbfGQGW_y"
   },
   "outputs": [],
   "source": [
    "miner = Sentinel2Miner()"
   ]
  },
  {
   "cell_type": "code",
   "execution_count": null,
   "metadata": {
    "colab": {
     "base_uri": "https://localhost:8080/"
    },
    "id": "Hlg81d_iGBfy",
    "outputId": "201de654-40f1-4281-9e72-87a93f5ad4b3"
   },
   "outputs": [],
   "source": [
    "%%time\n",
    "lat,lon = 26.44363424,74.64098615\n",
    "radius = 2000\n",
    "\n",
    "ds = miner.fetch(lat,lon,radius,daterange=\"2024-10-01/2024-10-24\")"
   ]
  },
  {
   "cell_type": "code",
   "execution_count": null,
   "metadata": {
    "colab": {
     "base_uri": "https://localhost:8080/",
     "height": 270
    },
    "id": "e5saJZIZGZ1d",
    "outputId": "c1bde968-eeff-4d1e-8193-75a83214477f"
   },
   "outputs": [],
   "source": [
    "ds"
   ]
  },
  {
   "cell_type": "code",
   "execution_count": null,
   "metadata": {
    "colab": {
     "base_uri": "https://localhost:8080/",
     "height": 718
    },
    "id": "qMwDAY5LyEsh",
    "outputId": "a998f321-2d47-4855-dcc2-23f3023ad809"
   },
   "outputs": [],
   "source": [
    "ds_sentinel2 = ds\n",
    "pn.extension()\n",
    "\n",
    "variables = list(ds_sentinel2.data_vars)\n",
    "\n",
    "def plot_variable(variable):\n",
    "    return ds_sentinel2[variable].hvplot.image(\n",
    "        groupby='time',\n",
    "        cmap='viridis',  # Choose a colormap (adjust as needed)\n",
    "        title=f\"{variable} over Time\",\n",
    "        frame_width=500,\n",
    "        frame_height=400,\n",
    "        colorbar=True,widget_location='top_left'\n",
    "    )\n",
    "\n",
    "# Define a function to create a histogram for the selected variable\n",
    "def plot_histogram(variable):\n",
    "    return ds_sentinel2[variable].hvplot.hist(\n",
    "        bins=50,\n",
    "        color='blue',\n",
    "        title=f\"Histogram of {variable}\",\n",
    "        width=600,\n",
    "        height=300,grid=True,\n",
    "    )\n",
    "\n",
    "# Define a function to create a line chart showing the mean over time\n",
    "def plot_mean_over_time(variable):\n",
    "    return ds_sentinel2[variable].mean(dim=['x', 'y']).hvplot.line(\n",
    "        title=f\"Mean {variable} Over Time\",\n",
    "        ylabel=variable,\n",
    "        xlabel='Time',\n",
    "        width=600,\n",
    "        height=300,grid=True,\n",
    "    )\n",
    "\n",
    "# Create a dropdown for selecting variables\n",
    "variable_selector = pn.widgets.Select(name='Select Variable', options=variables)\n",
    "\n",
    "# Create an interactive plot that updates based on the selected variable\n",
    "@pn.depends(variable_selector)\n",
    "def interactive_plot(variable):\n",
    "    return plot_variable(variable)\n",
    "\n",
    "@pn.depends(variable_selector)\n",
    "def histogram_plot(variable):\n",
    "    return plot_histogram(variable)\n",
    "\n",
    "@pn.depends(variable_selector)\n",
    "def mean_over_time_plot(variable):\n",
    "    return plot_mean_over_time(variable)\n",
    "\n",
    "# Display the dropdown and the plot together in a Panel layout\n",
    "dashboard = pn.Row(\n",
    "    pn.Column(\n",
    "        pn.pane.Markdown(\"## Sentinel-2 Data Interactive Visualization\"),\n",
    "        variable_selector,\n",
    "        interactive_plot\n",
    "    ),\n",
    "    pn.Column(\n",
    "        pn.pane.Markdown(\"### Additional Insights\"),\n",
    "        mean_over_time_plot,  # Line chart showing mean over time\n",
    "        histogram_plot  # Histogram of selected variable\n",
    "    )\n",
    ")\n",
    "\n",
    "# Serve the dashboard\n",
    "dashboard\n"
   ]
  },
  {
   "cell_type": "markdown",
   "metadata": {
    "id": "Z2cE22TNcbAD"
   },
   "source": [
    "<br><h2 style=\"text-align: center; color: #1abc9c; font-family: Arial, sans-serif;\">\n",
    "  5️⃣ > 🛰️🌍 Advanced Landsat Basemap Mining with MapMiner\n",
    "</h2>\n",
    "<p style=\"text-align: center; font-size: 16px; color: #555;\">\n",
    "  Effortlessly mine high-quality Landsat imagery with precision, extracting basemaps along with detailed metadata, including capture date and temporal layers for deep geospatial analysis.\n",
    "</p>\n"
   ]
  },
  {
   "cell_type": "code",
   "execution_count": null,
   "metadata": {
    "id": "nhpJqaCXGclB"
   },
   "outputs": [],
   "source": [
    "miner = LandsatMiner()"
   ]
  },
  {
   "cell_type": "code",
   "execution_count": null,
   "metadata": {
    "colab": {
     "base_uri": "https://localhost:8080/"
    },
    "id": "zYs9GrzWGt5t",
    "outputId": "6d12c6ee-9c09-401e-d79f-ead33247792a"
   },
   "outputs": [],
   "source": [
    "%%time\n",
    "lat,lon = 26.44363424,74.64098615\n",
    "radius = 2000\n",
    "\n",
    "ds = miner.fetch(lat,lon,radius,daterange=\"2023-09-01/2023-10-20\")"
   ]
  },
  {
   "cell_type": "code",
   "execution_count": null,
   "metadata": {
    "colab": {
     "base_uri": "https://localhost:8080/",
     "height": 270
    },
    "id": "pdyI5s22IWKF",
    "outputId": "eb97e412-8207-4c37-e4b0-13366ccb8409"
   },
   "outputs": [],
   "source": [
    "ds"
   ]
  },
  {
   "cell_type": "code",
   "execution_count": null,
   "metadata": {
    "colab": {
     "base_uri": "https://localhost:8080/",
     "height": 718
    },
    "id": "VNUTns4-z2a3",
    "outputId": "b92b72a3-5767-447c-cd9a-f0e1fe000e6e"
   },
   "outputs": [],
   "source": [
    "pn.extension()\n",
    "variables = list(ds.data_vars)\n",
    "\n",
    "def plot_variable(variable):\n",
    "    return ds[variable].hvplot.image(\n",
    "        groupby='time',\n",
    "        cmap='viridis',  # Choose a colormap (adjust as needed)\n",
    "        title=f\"{variable} over Time\",\n",
    "        frame_width=500,\n",
    "        frame_height=400,\n",
    "        colorbar=True,widget_location='top_left'\n",
    "    )\n",
    "\n",
    "# Define a function to create a histogram for the selected variable\n",
    "def plot_histogram(variable):\n",
    "    return ds[variable].hvplot.hist(\n",
    "        bins=50,\n",
    "        color='blue',\n",
    "        title=f\"Histogram of {variable}\",\n",
    "        width=600,\n",
    "        height=300,grid=True,\n",
    "    )\n",
    "\n",
    "# Define a function to create a line chart showing the mean over time\n",
    "def plot_mean_over_time(variable):\n",
    "    return ds[variable].mean(dim=['x', 'y']).hvplot.line(\n",
    "        title=f\"Mean {variable} Over Time\",\n",
    "        ylabel=variable,\n",
    "        xlabel='Time',\n",
    "        width=600,\n",
    "        height=300,grid=True,\n",
    "    )\n",
    "\n",
    "# Create a dropdown for selecting variables\n",
    "variable_selector = pn.widgets.Select(name='Select Variable', options=variables)\n",
    "\n",
    "# Create an interactive plot that updates based on the selected variable\n",
    "@pn.depends(variable_selector)\n",
    "def interactive_plot(variable):\n",
    "    return plot_variable(variable)\n",
    "\n",
    "@pn.depends(variable_selector)\n",
    "def histogram_plot(variable):\n",
    "    return plot_histogram(variable)\n",
    "\n",
    "@pn.depends(variable_selector)\n",
    "def mean_over_time_plot(variable):\n",
    "    return plot_mean_over_time(variable)\n",
    "\n",
    "# Display the dropdown and the plot together in a Panel layout\n",
    "dashboard = pn.Row(\n",
    "    pn.Column(\n",
    "        pn.pane.Markdown(\"## Landsat Data Interactive Visualization\"),\n",
    "        variable_selector,\n",
    "        interactive_plot\n",
    "    ),\n",
    "    pn.Column(\n",
    "        pn.pane.Markdown(\"### Additional Insights\"),\n",
    "        mean_over_time_plot,  # Line chart showing mean over time\n",
    "        histogram_plot  # Histogram of selected variable\n",
    "    )\n",
    ")\n",
    "\n",
    "# Serve the dashboard\n",
    "dashboard.servable()\n"
   ]
  },
  {
   "cell_type": "markdown",
   "metadata": {
    "id": "PTFj7KepfJ7R"
   },
   "source": [
    "<hr><h2 style=\"text-align: center; color: #2ecc71; font-family: Arial, sans-serif;\">\n",
    "  🚀 Join the MapMiner Journey: We Want Your Contribution!\n",
    "</h2>\n",
    "<p style=\"text-align: center; font-size: 18px; color: #555;\">\n",
    "  MapMiner is an evolving tool designed to unlock the power of geospatial data. Whether you're a developer, data scientist, or Earth observation enthusiast, your insights can make a difference.\n",
    "  <br>\n",
    "  We welcome your contributions to help us grow and innovate further! Head over to our <a href=\"https://github.com/gajeshladhar/mapminer\" style=\"color: #3498db; font-weight: bold;\" target=\"_blank\">GitHub repository</a> and be a part of this open-source revolution!\n",
    "</p>\n"
   ]
  }
 ],
 "metadata": {
  "colab": {
   "provenance": []
  },
  "kernelspec": {
   "display_name": "Python 3 (ipykernel)",
   "language": "python",
   "name": "python3"
  },
  "language_info": {
   "codemirror_mode": {
    "name": "ipython",
    "version": 3
   },
   "file_extension": ".py",
   "mimetype": "text/x-python",
   "name": "python",
   "nbconvert_exporter": "python",
   "pygments_lexer": "ipython3",
   "version": "3.11.5"
  }
 },
 "nbformat": 4,
 "nbformat_minor": 4
}
