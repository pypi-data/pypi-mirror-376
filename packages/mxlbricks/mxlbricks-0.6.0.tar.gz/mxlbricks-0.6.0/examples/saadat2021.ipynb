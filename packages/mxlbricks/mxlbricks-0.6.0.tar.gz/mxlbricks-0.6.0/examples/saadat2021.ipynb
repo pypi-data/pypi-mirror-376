{
 "cells": [
  {
   "attachments": {},
   "cell_type": "markdown",
   "metadata": {},
   "source": [
    "## Saadat 2021\n",
    "\n",
    "https://doi.org/10.3389/fpls.2021.750580"
   ]
  },
  {
   "cell_type": "code",
   "execution_count": null,
   "metadata": {},
   "outputs": [],
   "source": [
    "import matplotlib.pyplot as plt\n",
    "import numpy as np\n",
    "import pandas as pd\n",
    "from mxlpy import Simulator, plot, scan, unwrap\n",
    "from mxlpy.integrators import Assimulo\n",
    "\n",
    "from mxlbricks import get_saadat2021 as get_model\n",
    "from mxlbricks import names as n\n",
    "\n",
    "EPS = 1e-6\n",
    "\n",
    "model = get_model()\n",
    "res = unwrap(Simulator(model, integrator=Assimulo).simulate(100).get_result())\n",
    "\n",
    "fig, ax = plot.lines(\n",
    "    res.get_variables(include_derived_variables=False, include_readouts=False)\n",
    ")\n",
    "ax.legend(loc=\"upper left\", bbox_to_anchor=(1, 1), ncols=2)\n",
    "plt.show()\n",
    "\n",
    "if (\n",
    "    diff := np.linalg.norm(\n",
    "        pd.Series(model.get_initial_conditions()) - pd.Series(res.get_new_y0()), ord=2\n",
    "    )\n",
    ") > EPS:\n",
    "    msg = f\"Diff between models too large: {diff}\"\n",
    "    raise ValueError(msg)"
   ]
  },
  {
   "cell_type": "markdown",
   "metadata": {},
   "source": [
    "## Scans"
   ]
  },
  {
   "cell_type": "code",
   "execution_count": null,
   "metadata": {},
   "outputs": [],
   "source": [
    "res = scan.steady_state(\n",
    "    get_model(),\n",
    "    to_scan=pd.DataFrame({n.pfd(): np.arange(100, 1500, 100)}),\n",
    ")\n",
    "res.variables[n.pq_ox()].plot()"
   ]
  },
  {
   "cell_type": "code",
   "execution_count": null,
   "metadata": {},
   "outputs": [],
   "source": [
    "res = scan.steady_state(\n",
    "    get_model(),\n",
    "    to_scan=pd.DataFrame({n.co2(): np.geomspace(0.2e-4, 0.2, 11)}),\n",
    ")\n",
    "res.variables[n.pq_ox()].plot()"
   ]
  },
  {
   "cell_type": "code",
   "execution_count": null,
   "metadata": {},
   "outputs": [],
   "source": [
    "res = scan.steady_state(\n",
    "    get_model(),\n",
    "    to_scan=pd.DataFrame({n.o2(\"_lumen\"): np.linspace(1.0, 8.0, 11)}),\n",
    ")\n",
    "res.variables[n.pq_ox()].plot()"
   ]
  },
  {
   "cell_type": "code",
   "execution_count": null,
   "metadata": {},
   "outputs": [],
   "source": []
  }
 ],
 "metadata": {
  "kernelspec": {
   "display_name": "default",
   "language": "python",
   "name": "python3"
  },
  "language_info": {
   "codemirror_mode": {
    "name": "ipython",
    "version": 3
   },
   "file_extension": ".py",
   "mimetype": "text/x-python",
   "name": "python",
   "nbconvert_exporter": "python",
   "pygments_lexer": "ipython3",
   "version": "3.12.11"
  }
 },
 "nbformat": 4,
 "nbformat_minor": 2
}
