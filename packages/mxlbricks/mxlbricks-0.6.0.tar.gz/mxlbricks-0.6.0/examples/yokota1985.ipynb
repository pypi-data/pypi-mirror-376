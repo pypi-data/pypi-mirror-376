{
 "cells": [
  {
   "cell_type": "code",
   "execution_count": null,
   "metadata": {},
   "outputs": [],
   "source": [
    "import numpy as np\n",
    "import pandas as pd\n",
    "from mxlpy import Simulator, plot, unwrap\n",
    "from mxlpy.integrators import Assimulo\n",
    "\n",
    "from mxlbricks import get_yokota1985 as get_model\n",
    "from mxlbricks import names as n\n",
    "\n",
    "EPS = 1e-6\n",
    "\n",
    "model = get_model()\n",
    "res = unwrap(Simulator(model, integrator=Assimulo).simulate(100).get_result())\n",
    "\n",
    "fig, ax = plot.lines(\n",
    "    res.get_variables(include_derived_variables=False, include_readouts=False)\n",
    ")\n",
    "ax.legend(loc=\"upper left\", bbox_to_anchor=(1, 1), ncols=2)\n",
    "plot.show()\n",
    "\n",
    "if (\n",
    "    diff := np.linalg.norm(\n",
    "        pd.Series(model.get_initial_conditions()) - pd.Series(res.get_new_y0()), ord=2\n",
    "    )\n",
    ") > EPS:\n",
    "    msg = f\"Diff between models too large: {diff}\"\n",
    "    raise ValueError(msg)"
   ]
  },
  {
   "cell_type": "code",
   "execution_count": null,
   "metadata": {},
   "outputs": [],
   "source": [
    "c, v = unwrap(\n",
    "    Simulator(\n",
    "        get_model(),\n",
    "        y0={\n",
    "            n.glycolate(): 0,\n",
    "            n.glyoxylate(): 0,\n",
    "            n.glycine(): 0,\n",
    "            n.serine(): 0,\n",
    "            n.hydroxypyruvate(): 0,\n",
    "            n.h2o2(): 0,\n",
    "        },\n",
    "    )\n",
    "    .simulate(3)\n",
    "    .get_result()\n",
    ")\n",
    "fig, axs = plot.lines_grouped(\n",
    "    [\n",
    "        c.loc[:, [n.glycolate(), n.glyoxylate(), n.glycine()]],\n",
    "        c.loc[:, [n.serine(), n.hydroxypyruvate()]],\n",
    "        c.loc[:, [n.h2o2()]],\n",
    "    ],\n",
    "    n_cols=3,\n",
    "    col_width=3,\n",
    "    row_height=2.5,\n",
    ")\n",
    "for ax in axs:\n",
    "    ax.set(xlabel=\"Time / h\", ylabel=\"Conc. / mM\")\n",
    "plot.show()\n",
    "\n",
    "fig, axs = plot.lines_grouped(\n",
    "    [\n",
    "        v.loc[:, [\"phosphoglycolate_phosphatase\"]],\n",
    "        v.loc[:, [\"glycine_decarboxylase\"]],\n",
    "        v.loc[:, [\"catalase\"]],\n",
    "        v.loc[:, [\"glycine_transaminase\"]],\n",
    "    ],\n",
    "    n_cols=4,\n",
    "    col_width=3,\n",
    "    row_height=2.5,\n",
    "    sharey=False,\n",
    ")\n",
    "fig.suptitle(\"Wildtype\")\n",
    "for ax in axs:\n",
    "    ax.set(xlabel=\"Time / h\", ylabel=\"Flux / (mM / h)\")\n",
    "plot.show()"
   ]
  },
  {
   "cell_type": "code",
   "execution_count": null,
   "metadata": {},
   "outputs": [],
   "source": []
  }
 ],
 "metadata": {
  "kernelspec": {
   "display_name": "default",
   "language": "python",
   "name": "python3"
  },
  "language_info": {
   "codemirror_mode": {
    "name": "ipython",
    "version": 3
   },
   "file_extension": ".py",
   "mimetype": "text/x-python",
   "name": "python",
   "nbconvert_exporter": "python",
   "pygments_lexer": "ipython3",
   "version": "3.12.10"
  }
 },
 "nbformat": 4,
 "nbformat_minor": 2
}
