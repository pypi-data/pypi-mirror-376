{
 "cells": [
  {
   "attachments": {},
   "cell_type": "markdown",
   "metadata": {},
   "source": [
    "# Matuszyńska 2019\n",
    "\n",
    "https://doi.org/10.1111/ppl.12962"
   ]
  },
  {
   "cell_type": "code",
   "execution_count": null,
   "metadata": {},
   "outputs": [],
   "source": [
    "import numpy as np\n",
    "import pandas as pd\n",
    "from mxlpy import Simulator, plot, unwrap\n",
    "from mxlpy.integrators.int_assimulo import Assimulo\n",
    "\n",
    "from mxlbricks import get_matuszynska2019 as get_model\n",
    "\n",
    "EPS = 1e-6\n",
    "\n",
    "model = get_model()\n",
    "res = unwrap(\n",
    "    Simulator(model, integrator=Assimulo)\n",
    "    .simulate(100)\n",
    "    # .simulate(5)\n",
    "    .get_result()\n",
    ")\n",
    "\n",
    "fig, ax = plot.lines(\n",
    "    res.get_variables(include_derived_variables=False, include_readouts=False)\n",
    ")\n",
    "ax.legend(loc=\"upper left\", bbox_to_anchor=(1, 1), ncols=2)\n",
    "\n",
    "if (\n",
    "    diff := np.linalg.norm(\n",
    "        pd.Series(model.get_initial_conditions()) - pd.Series(res.get_new_y0()), ord=2\n",
    "    )\n",
    ") > EPS:\n",
    "    msg = f\"Diff between models too large: {diff}\"\n",
    "    raise ValueError(msg)"
   ]
  },
  {
   "cell_type": "code",
   "execution_count": null,
   "metadata": {},
   "outputs": [],
   "source": [
    "import pandas as pd\n",
    "\n",
    "v_ss = pd.read_csv(\"assets/matuszynska_2019_vss.csv\", index_col=0)[\"flux\"]\n",
    "((res.get_fluxes().iloc[0] - v_ss) / v_ss).sort_values(key=abs, ascending=False)"
   ]
  }
 ],
 "metadata": {
  "kernelspec": {
   "display_name": "default",
   "language": "python",
   "name": "python3"
  },
  "language_info": {
   "codemirror_mode": {
    "name": "ipython",
    "version": 3
   },
   "file_extension": ".py",
   "mimetype": "text/x-python",
   "name": "python",
   "nbconvert_exporter": "python",
   "pygments_lexer": "ipython3",
   "version": "3.12.10"
  }
 },
 "nbformat": 4,
 "nbformat_minor": 2
}
