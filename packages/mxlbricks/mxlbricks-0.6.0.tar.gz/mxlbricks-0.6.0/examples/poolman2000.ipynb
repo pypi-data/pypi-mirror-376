{
 "cells": [
  {
   "cell_type": "markdown",
   "metadata": {},
   "source": [
    "# Poolman 2000 model"
   ]
  },
  {
   "cell_type": "code",
   "execution_count": null,
   "metadata": {},
   "outputs": [],
   "source": [
    "import numpy as np\n",
    "import pandas as pd\n",
    "from mxlpy import Simulator, plot, unwrap\n",
    "from mxlpy.integrators.int_assimulo import Assimulo\n",
    "\n",
    "from mxlbricks import get_poolman2000 as get_model\n",
    "from mxlbricks import names as n\n",
    "\n",
    "EPS = 1e-6\n",
    "\n",
    "model = get_model()\n",
    "res = unwrap(Simulator(model, integrator=Assimulo).simulate(100).get_result())\n",
    "\n",
    "fig, ax = plot.lines(\n",
    "    res.get_variables(include_derived_variables=False, include_readouts=False)\n",
    ")\n",
    "ax.legend(loc=\"upper left\", bbox_to_anchor=(1, 1), ncols=2)\n",
    "\n",
    "if (\n",
    "    diff := np.linalg.norm(\n",
    "        pd.Series(model.get_initial_conditions()) - pd.Series(res.get_new_y0()), ord=2\n",
    "    )\n",
    ") > EPS:\n",
    "    msg = f\"Diff between models too large: {diff}\"\n",
    "    raise ValueError(msg)"
   ]
  },
  {
   "cell_type": "code",
   "execution_count": null,
   "metadata": {},
   "outputs": [],
   "source": [
    "res = unwrap(Simulator(get_model()).simulate(10).get_result())\n",
    "c, v = res\n",
    "\n",
    "groups = [\n",
    "    c.loc[:, [n.g6p(), n.pga(), n.f6p(), n.s7p()]],\n",
    "    c.loc[:, [n.ru5p(), n.x5p(), n.sbp(), n.g1p()]],\n",
    "    c.loc[:, [n.atp(), n.dhap(), n.rubp(), n.r5p()]],\n",
    "    c.loc[:, [n.bpga(), n.e4p(), n.fbp(), n.gap()]],\n",
    "]\n",
    "\n",
    "_ = plot.lines_grouped(\n",
    "    groups,\n",
    "    n_cols=2,\n",
    "    sharex=True,\n",
    "    sharey=False,\n",
    "    row_height=2.5,\n",
    ")"
   ]
  },
  {
   "cell_type": "code",
   "execution_count": null,
   "metadata": {},
   "outputs": [],
   "source": [
    "import pandas as pd\n",
    "\n",
    "v_ss = pd.read_csv(\"assets/poolman_2000_vss.csv\", index_col=0)[\"flux\"]\n",
    "((res.get_fluxes().iloc[0] - v_ss) / v_ss).sort_values(key=abs, ascending=False)"
   ]
  }
 ],
 "metadata": {
  "kernelspec": {
   "display_name": "default",
   "language": "python",
   "name": "python3"
  },
  "language_info": {
   "codemirror_mode": {
    "name": "ipython",
    "version": 3
   },
   "file_extension": ".py",
   "mimetype": "text/x-python",
   "name": "python",
   "nbconvert_exporter": "python",
   "pygments_lexer": "ipython3",
   "version": "3.12.10"
  }
 },
 "nbformat": 4,
 "nbformat_minor": 2
}
