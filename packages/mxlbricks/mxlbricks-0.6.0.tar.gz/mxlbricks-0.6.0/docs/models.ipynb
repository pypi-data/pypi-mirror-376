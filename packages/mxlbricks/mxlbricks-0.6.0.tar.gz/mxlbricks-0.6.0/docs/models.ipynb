{
 "cells": [
  {
   "cell_type": "markdown",
   "id": "5785c53f",
   "metadata": {},
   "source": [
    "# Models"
   ]
  },
  {
   "cell_type": "code",
   "execution_count": null,
   "id": "06a89e20",
   "metadata": {},
   "outputs": [],
   "source": [
    "import plot_\n",
    "from mxlpy import Assimulo, Simulator, plot, unwrap\n",
    "\n",
    "from mxlbricks import (\n",
    "    get_matuszynska2016npq,\n",
    "    get_matuszynska2019,\n",
    "    get_poolman2000,\n",
    "    get_saadat2021,\n",
    "    get_yokota1985,\n",
    ")"
   ]
  },
  {
   "cell_type": "markdown",
   "id": "dd41d1df",
   "metadata": {},
   "source": [
    "## Yokota 1985\n",
    "\n",
    "[Original article](https://doi.org/10.1080/00021369.1985.10867259): Refixation of Photorespired CO2 during Photosynthesis in Euglena gracilis z\n",
    "\n",
    "by Akiho Yokota , Hiroshi Komura , Shozaburo Kitaoka"
   ]
  },
  {
   "cell_type": "code",
   "execution_count": null,
   "id": "096eb8dc",
   "metadata": {},
   "outputs": [],
   "source": [
    "model = get_yokota1985()\n",
    "res = unwrap(Simulator(model).simulate(100).get_result())\n",
    "\n",
    "fig, ax = plot.lines(res.get_variables(), xlabel=\"Time / h\", ylabel=\"Conc / (mmol / L)\")\n",
    "ax.legend(loc=\"upper left\", bbox_to_anchor=(1, 1), ncols=1)\n",
    "plot.show()"
   ]
  },
  {
   "cell_type": "markdown",
   "id": "68474d9b",
   "metadata": {},
   "source": [
    "## Poolman 2000\n",
    "\n",
    "[Original article](https://doi.org/10.1093/jexbot/51.suppl_1.319): Modelling photosynthesis and its control\n",
    "\n",
    "by Mark G. Poolman , David A. Fell , Simon Thomas"
   ]
  },
  {
   "cell_type": "code",
   "execution_count": null,
   "id": "c31c9488",
   "metadata": {},
   "outputs": [],
   "source": [
    "model = get_poolman2000()\n",
    "res = unwrap(Simulator(model, integrator=Assimulo).simulate(100).get_result())\n",
    "\n",
    "fig, ax = plot.lines(\n",
    "    res.get_variables(),\n",
    "    xlabel=\"Time / s\",\n",
    "    ylabel=\"Conc / (mmol / L)\",\n",
    ")\n",
    "ax.legend(loc=\"upper left\", bbox_to_anchor=(1, 1), ncols=1)\n",
    "plot.show()"
   ]
  },
  {
   "cell_type": "markdown",
   "id": "dbdb3dda",
   "metadata": {},
   "source": [
    "## Matuszyńska 2016 (NPQ)\n",
    "\n",
    "\n",
    "The [Matuszynska2016](https://doi.org/10.1016/j.bbabio.2016.09.003) model, a small kinetic model, was developed to delve deeper into the effect of light memory caused by non-photochemical quenching. The systematic investigation of the Xanthophyll cycle, a combination of the pigments of violaxanthin, antheraxanthin, and zeaxanthin, sparked a series of experiments to determine whether plant light memory can be detected in a time-scale of minutes to hours through pulse amplitude modulated chlorophyll fluorescence. The model was then created based on these experimental results, providing a comprehensive description of NPQ dynamics and the short-term memory of the *Arabidopsis thaliana* plant.\n",
    "\n",
    "To keep the model as simple as possible, several processes not directly linked to NPQ have been simplified to create a dynamic ODE system consisting only of 6 different compounds. With these simplifications, the authors could fulfil an additional goal: to make a general framework that is not specific to one model organism.\n",
    "\n",
    "To demonstrate the adaptability of their model, the authors took their calibrated *Arabidopsis thaliana* model and successfully applied it to the non-model organism *Epipremnum aureum*. This adaptation allowed them to simulate realistic fluorescence measurements and replicate all the key features of chlorophyll induction, showcasing the model's versatility and potential for use in a variety of organisms."
   ]
  },
  {
   "cell_type": "code",
   "execution_count": null,
   "id": "5754ba2b",
   "metadata": {},
   "outputs": [],
   "source": [
    "model = get_matuszynska2016npq()\n",
    "res = unwrap(Simulator(model, integrator=Assimulo).simulate(100).get_result())\n",
    "\n",
    "fig, ax = plot.line_autogrouped(\n",
    "    res.get_variables(include_derived_variables=False),\n",
    "    xlabel=\"Time / s\",\n",
    "    ylabel=\"Conc / (mmol / L)\",\n",
    "    n_cols=3,\n",
    ")\n",
    "plot.show()"
   ]
  },
  {
   "cell_type": "markdown",
   "id": "e247e9ba",
   "metadata": {},
   "source": [
    "## Matuszyńska 2019\n",
    "\n",
    "[Original article](https://doi.org/10.1111/ppl.12962): Balancing energy supply during photosynthesis – a theoretical perspective\n",
    "\n",
    "by [Anna Matuszyńska](https://orcid.org/0000-0003-0882-6088), [Nima P. Saadat](https://orcid.org/0000-0002-1262-6591), [Oliver Ebenhöh](https://orcid.org/0000-0002-7229-7398)\n",
    "\n",
    "The photosynthetic electron transport chain (PETC) provides energy and redox equivalents for carbon fixation by the Calvin-Benson-Bassham (CBB) cycle. Both of these processes have been thoroughly investigated and the underlying molecular mechanisms are well known. However, it is far from understood by which mechanisms it is ensured that energy and redox supply by photosynthesis matches the demand of the downstream processes. Here, we deliver a theoretical analysis to quantitatively study the supply–demand regulation in photosynthesis. For this, we connect two previously developed models, one describing the PETC, originally developed to study non-photochemical quenching, and one providing a dynamic description of the photosynthetic carbon fixation in C3 plants, the CBB Cycle. The merged model explains how a tight regulation of supply and demand reactions leads to efficient carbon fixation. The model further illustrates that a stand-by mode is necessary in the dark to ensure that the carbon fixation cycle can be restarted after dark–light transitions, and it supports hypotheses, which reactions are responsible to generate such mode in vivo."
   ]
  },
  {
   "cell_type": "code",
   "execution_count": null,
   "id": "f4f3c15f",
   "metadata": {},
   "outputs": [],
   "source": [
    "model = get_matuszynska2019()\n",
    "res = unwrap(Simulator(model, integrator=Assimulo).simulate(100).get_result())\n",
    "\n",
    "fig, ax = plot_.line_autogrouped(\n",
    "    res.get_variables(include_derived_variables=False),\n",
    "    xlabel=\"Time / s\",\n",
    "    ylabel=\"Conc / (mmol / L)\",\n",
    "    n_cols=3,\n",
    "    min_group_size=2,\n",
    ")\n",
    "plot.show()"
   ]
  },
  {
   "cell_type": "markdown",
   "id": "82dfbb87",
   "metadata": {},
   "source": [
    "## Saadat 2021\n",
    "\n",
    "[Original article](https://doi.org/10.3389/fpls.2021.750580): Computational Analysis of Alternative Photosynthetic Electron Flows Linked With Oxidative Stress\n",
    "\n",
    "by [Nima P. Saadat](https://orcid.org/0000-0002-1262-6591), [Tim Nies](https://orcid.org/0000-0003-1587-2971), [Marvin van Aalst](https://orcid.org/0000-0002-7434-0249), Brandon Hank, Büsra Demirtas, [Oliver Ebenhöh](https://orcid.org/0000-0002-7229-7398), [Anna Matuszyńska](https://orcid.org/0000-0003-0882-6088)\n",
    "\n",
    "During photosynthesis, organisms respond to their energy demand and ensure the supply of energy and redox equivalents that sustain metabolism. Hence, the photosynthetic apparatus can, and in fact should, be treated as an integrated supply-demand system. Any imbalance in the energy produced and consumed can lead to adverse reactions, such as the production of reactive oxygen species (ROS). Reaction centres of both photosystems are known sites of ROS production. Here, we investigate in particular the central role of Photosystem I (PSI) in this tightly regulated system. Using a computational approach we have expanded a previously published mechanistic model of C3 photosynthesis by including ROS producing and scavenging reactions around PSI. These include two water to water reactions mediated by Plastid terminal oxidase (PTOX) and Mehler and the ascorbate-glutathione (ASC-GSH) cycle, as a main non-enzymatic antioxidant. We have used this model to predict flux distributions through alternative electron pathways under various environmental stress conditions by systematically varying light intensity and enzymatic activity of key reactions. In particular, we studied the link between ROS formation and activation of pathways around PSI as potential scavenging mechanisms. This work shines light on the role of alternative electron pathways in photosynthetic acclimation and investigates the effect of environmental perturbations on PSI activity in the context of metabolic productivity."
   ]
  },
  {
   "cell_type": "code",
   "execution_count": null,
   "id": "ba4a9a72",
   "metadata": {},
   "outputs": [],
   "source": [
    "model = get_saadat2021()\n",
    "res = unwrap(Simulator(model, integrator=Assimulo).simulate(100).get_result())\n",
    "\n",
    "fig, ax = plot_.line_autogrouped(\n",
    "    res.get_variables(include_derived_variables=False),\n",
    "    xlabel=\"Time / s\",\n",
    "    ylabel=\"Conc / (mmol / L)\",\n",
    "    n_cols=3,\n",
    "    min_group_size=4,\n",
    "    max_group_size=9,\n",
    ")\n",
    "plot.show()"
   ]
  }
 ],
 "metadata": {
  "kernelspec": {
   "display_name": "default",
   "language": "python",
   "name": "python3"
  },
  "language_info": {
   "codemirror_mode": {
    "name": "ipython",
    "version": 3
   },
   "file_extension": ".py",
   "mimetype": "text/x-python",
   "name": "python",
   "nbconvert_exporter": "python",
   "pygments_lexer": "ipython3",
   "version": "3.12.10"
  }
 },
 "nbformat": 4,
 "nbformat_minor": 5
}
