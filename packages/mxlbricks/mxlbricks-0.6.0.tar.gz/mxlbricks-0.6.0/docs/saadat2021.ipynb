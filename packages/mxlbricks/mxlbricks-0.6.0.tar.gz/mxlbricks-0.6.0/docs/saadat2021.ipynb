{
 "cells": [
  {
   "cell_type": "markdown",
   "id": "e2c9b566",
   "metadata": {},
   "source": [
    "# Coupling alternative electron pathways with stress response\n",
    "\n",
    "Nima P. Saadat, Tim Nies, Marvin van Aalst, Brandon Hank, Büsra Demirtas, Oliver Ebenhöh, Anna Matuszyńska\n",
    "\n",
    "\n",
    "Repeating the original work found [here](https://gitlab.com/qtb-hhu/models/cyclicphotosyn-2021)"
   ]
  },
  {
   "cell_type": "code",
   "execution_count": null,
   "id": "aee26a99",
   "metadata": {},
   "outputs": [],
   "source": [
    "import matplotlib.pyplot as plt\n",
    "import numpy as np\n",
    "import pandas as pd\n",
    "from mxlpy import Assimulo, Simulator, make_protocol, unwrap\n",
    "\n",
    "from mxlbricks import names as n\n",
    "from mxlbricks.models import get_saadat2021\n",
    "\n",
    "\n",
    "def get_npq(ppfd: pd.Series, fluorescence: pd.Series) -> pd.Series:\n",
    "    \"\"\"Calculates the non-photochemical quenching from the extracted\n",
    "    important points of the PAM simulations\n",
    "\n",
    "    Returns\n",
    "    -------\n",
    "    Fm: Fm (first element of list) and Fm' values\n",
    "    NPQ: Calculated NPQ values\n",
    "    tm: Exact time points of peaks in PAM trace\n",
    "    Fo: Fo (first element of list) and Ft' values\n",
    "    to: Exact time points of Fo and Ft' values\n",
    "    \"\"\"\n",
    "    # container for lists. Each list contains the positions of fluorescence values for one peak\n",
    "    # container for position of Fo'\n",
    "    z = []\n",
    "    o = []\n",
    "    light = ppfd.to_numpy()\n",
    "    t = ppfd.index.to_numpy()\n",
    "    fluorescence = fluorescence.to_numpy()\n",
    "    max_light = max(light)\n",
    "\n",
    "    cnt = 0\n",
    "    while cnt < len(light):\n",
    "        if light[cnt] == max_light:\n",
    "            # temporary container for all F==maxlight. For each peak it is renewed\n",
    "            h = []\n",
    "            while cnt != len(light) and light[cnt] == max(light):\n",
    "                h.append(cnt)\n",
    "                cnt += 1\n",
    "            z.append(h)\n",
    "            o.append(h[0] - 1)  # value directly at the bottom of peak is Fo\n",
    "        else:\n",
    "            cnt += 1\n",
    "    # Fm is the maximal value for each peak sequence\n",
    "    peaks = [i[np.argmax(fluorescence[i])] for i in z]\n",
    "    Fm = fluorescence[peaks]\n",
    "    return pd.Series((Fm[0] - Fm) / Fm, name=\"NPQ\", index=t[peaks])"
   ]
  },
  {
   "cell_type": "markdown",
   "id": "79d356a2",
   "metadata": {},
   "source": [
    "## Figure 2: Simulated PAM fluorescence trace"
   ]
  },
  {
   "cell_type": "code",
   "execution_count": null,
   "id": "ea1f5871",
   "metadata": {},
   "outputs": [],
   "source": [
    "protocol = make_protocol(\n",
    "    [\n",
    "        (120, {n.pfd(): 50}),\n",
    "        (0.8, {n.pfd(): 5000}),\n",
    "        (120, {n.pfd(): 50}),\n",
    "        (0.8, {n.pfd(): 5000}),\n",
    "        (120, {n.pfd(): 1000}),\n",
    "        (0.8, {n.pfd(): 5000}),\n",
    "        (120, {n.pfd(): 1000}),\n",
    "        (0.8, {n.pfd(): 5000}),\n",
    "        (120, {n.pfd(): 1000}),\n",
    "        (0.8, {n.pfd(): 5000}),\n",
    "        (120, {n.pfd(): 1000}),\n",
    "        (0.8, {n.pfd(): 5000}),\n",
    "        (120, {n.pfd(): 1000}),\n",
    "        (0.8, {n.pfd(): 5000}),\n",
    "        (120, {n.pfd(): 1000}),\n",
    "        (0.8, {n.pfd(): 5000}),\n",
    "        (120, {n.pfd(): 1000}),\n",
    "        (0.8, {n.pfd(): 5000}),\n",
    "        (120, {n.pfd(): 1000}),\n",
    "        (0.8, {n.pfd(): 5000}),\n",
    "        (120, {n.pfd(): 1000}),\n",
    "        (0.8, {n.pfd(): 5000}),\n",
    "        (120, {n.pfd(): 1000}),\n",
    "        (0.8, {n.pfd(): 5000}),\n",
    "        (120, {n.pfd(): 50}),\n",
    "        (0.8, {n.pfd(): 5000}),\n",
    "        (120, {n.pfd(): 50}),\n",
    "        (0.8, {n.pfd(): 5000}),\n",
    "        (120, {n.pfd(): 50}),\n",
    "        (0.8, {n.pfd(): 5000}),\n",
    "        (120, {n.pfd(): 50}),\n",
    "        (0.8, {n.pfd(): 5000}),\n",
    "        (120, {n.pfd(): 50}),\n",
    "        (0.8, {n.pfd(): 5000}),\n",
    "        (120, {n.pfd(): 50}),\n",
    "        (0.8, {n.pfd(): 5000}),\n",
    "        (120, {n.pfd(): 50}),\n",
    "        (0.8, {n.pfd(): 5000}),\n",
    "        (120, {n.pfd(): 50}),\n",
    "        (0.8, {n.pfd(): 5000}),\n",
    "    ]\n",
    ")"
   ]
  },
  {
   "cell_type": "code",
   "execution_count": null,
   "id": "19858a9a",
   "metadata": {},
   "outputs": [],
   "source": [
    "res = unwrap(\n",
    "    Simulator(\n",
    "        get_saadat2021().update_parameter(\"kf_cyclic_electron_flow\", 0),\n",
    "        integrator=Assimulo,\n",
    "    )\n",
    "    .simulate_protocol(protocol)\n",
    "    .get_result()\n",
    ")"
   ]
  },
  {
   "cell_type": "code",
   "execution_count": null,
   "id": "00a05035",
   "metadata": {},
   "outputs": [],
   "source": [
    "args = res.get_args(include_parameters=True, include_readouts=True)\n",
    "fluo = args.loc[:, n.fluorescence()]\n",
    "npq = get_npq(args.loc[:, n.pfd()], fluo)"
   ]
  },
  {
   "cell_type": "code",
   "execution_count": null,
   "id": "221cede7",
   "metadata": {},
   "outputs": [],
   "source": [
    "fig, ax = plt.subplots(figsize=(10, 5))\n",
    "ax.plot(fluo / fluo.max(), color=\"red\", lw=2, label=\"Fluorescence\")\n",
    "ax.plot(npq, linestyle=\"dashed\", color=\"black\", lw=2, label=\"NPQ\")\n",
    "ax.axvspan(0, 2 * 120, color=(0, 0, 0, 1 / 4))\n",
    "ax.axvspan(12 * 120, 21 * 120, color=(0, 0, 0, 1 / 4))\n",
    "ax.set(\n",
    "    ylim=(0, 1.1),\n",
    "    xlim=(0, 2500),\n",
    "    xlabel=\"Time/(s)\",\n",
    "    ylabel=\"Fluorescence (normalised)\",\n",
    ")\n",
    "ax.legend(loc=\"lower right\")\n",
    "ax.grid(visible=True)\n",
    "plt.show()"
   ]
  }
 ],
 "metadata": {
  "kernelspec": {
   "display_name": "default",
   "language": "python",
   "name": "python3"
  },
  "language_info": {
   "codemirror_mode": {
    "name": "ipython",
    "version": 3
   },
   "file_extension": ".py",
   "mimetype": "text/x-python",
   "name": "python",
   "nbconvert_exporter": "python",
   "pygments_lexer": "ipython3",
   "version": "3.12.11"
  }
 },
 "nbformat": 4,
 "nbformat_minor": 5
}
