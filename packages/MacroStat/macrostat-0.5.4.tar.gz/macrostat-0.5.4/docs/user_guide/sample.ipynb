{
 "cells": [
  {
   "cell_type": "markdown",
   "metadata": {},
   "source": [
    "# Parameter space sampling with MacroStat"
   ]
  },
  {
   "cell_type": "markdown",
   "metadata": {},
   "source": [
    "This section of the documentation is dedicated to the `sample` module of macrostat, whose purpose is to provide simple means of building a sampling of a given model's parameterspace"
   ]
  },
  {
   "cell_type": "markdown",
   "metadata": {},
   "source": [
    "## The Sample Module"
   ]
  },
  {
   "cell_type": "markdown",
   "metadata": {},
   "source": [
    "MacroStat's sampling is based on a core `BaseSampler` class together with specific child class implementing different variations of generating parameters. At the time of writing, the implemented class is the `SobolSampler` that relies on the Sobol sequence to generate a uniform sampling of the parameter space"
   ]
  },
  {
   "cell_type": "markdown",
   "metadata": {},
   "source": [
    "```{eval-rst}\n",
    ".. toctree::\n",
    "    :maxdepth: 1\n",
    "\n",
    "    Base Sampler Class <sample/base_sampler.rst>\n",
    "    Sobol Sampler <sample/sobol_sampler.rst>\n",
    "```"
   ]
  },
  {
   "cell_type": "markdown",
   "metadata": {},
   "source": []
  }
 ],
 "metadata": {
  "kernelspec": {
   "display_name": "macrostattest",
   "language": "python",
   "name": "python3"
  },
  "language_info": {
   "codemirror_mode": {
    "name": "ipython",
    "version": 3
   },
   "file_extension": ".py",
   "mimetype": "text/x-python",
   "name": "python",
   "nbconvert_exporter": "python",
   "pygments_lexer": "ipython3",
   "version": "3.11.10"
  }
 },
 "nbformat": 4,
 "nbformat_minor": 2
}
