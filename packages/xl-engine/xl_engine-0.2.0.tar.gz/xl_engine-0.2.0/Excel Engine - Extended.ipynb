{
 "cells": [
  {
   "cell_type": "markdown",
   "id": "9b00f6ff-7091-4d95-bb84-7659a0f195e2",
   "metadata": {},
   "source": [
    "# Excel Engine - Extended"
   ]
  },
  {
   "cell_type": "markdown",
   "id": "bf739f4b-4163-49f5-a389-249ad4b15411",
   "metadata": {},
   "source": [
    "Download the zip file from the button below and unzip it into your pycode directory.\n",
    "After you unzip that file, we willl read the analysis results\n",
    "We can do this with three lines of code."
   ]
  },
  {
   "cell_type": "code",
   "execution_count": 1,
   "id": "a3c34cf0",
   "metadata": {},
   "outputs": [],
   "source": [
    "%load_ext autoreload\n",
    "%autoreload 2"
   ]
  },
  {
   "cell_type": "markdown",
   "id": "3e6abf06-c68a-4cde-baaf-54d287f96a69",
   "metadata": {},
   "source": [
    "# My Footing Designs\n",
    "\n",
    "Let's say we need three footing sizes and our job now is to group the factored reactions into working with one of three footing types.\n",
    "This is where we get to do _engineering_! \n",
    "Let's manually review our reactions and get a feel for the forces we are dealing with.\n",
    "Then, let's estimate some footing sizes that we will use for our design."
   ]
  },
  {
   "cell_type": "code",
   "execution_count": 2,
   "id": "870f51f0-6301-4db5-a581-c64df2c779f4",
   "metadata": {},
   "outputs": [],
   "source": [
    "from typing import Optional\n",
    "import csv\n",
    "\n",
    "def str_to_float(x: str) -> float:\n",
    "    try:\n",
    "        return float(x)\n",
    "    except:\n",
    "        return x\n",
    "\n",
    "def parse_table(filepath: str) -> list[list[str]]:\n",
    "    \"\"\"\n",
    "    Returns a list[list[str]] representing data in a table. All numeric values\n",
    "    are converted to floats\n",
    "    \"\"\"\n",
    "    with open(filepath) as file:\n",
    "        line_acc = []\n",
    "        for line in csv.reader(file):\n",
    "            cell_acc = []\n",
    "            for cell in line:\n",
    "                cell_acc.append(str_to_float(cell))\n",
    "            line_acc.append(cell_acc)\n",
    "    return line_acc\n",
    "\n",
    "\n",
    "def extract_table_columns(\n",
    "    table_data: list[list[str | float]],\n",
    "    column_indexes: list[int], \n",
    "    column_headers: Optional[list[str]] = None\n",
    ") -> dict[str, list[str | float]]:\n",
    "    \"\"\"\n",
    "    Returns a dictionary of column values extracted from 'table_data'\n",
    "\n",
    "    'table_data': A list of lists representing a table by records\n",
    "    'column_indexes': A list of integers representing the columns to extract from each record\n",
    "    'column_headers': A list of str representing what the keys of the dictionary should be for each column\n",
    "        If not supplied, the column headers are used as keys.\n",
    "    \"\"\"\n",
    "    table_data_no_headers = table_data[1:]\n",
    "    transposed_table = list(zip(*table_data_no_headers))\n",
    "    extraction_acc = {}\n",
    "    if column_headers is None:\n",
    "        column_headers = table_data[0]\n",
    "    for pos_idx, column_index in enumerate(column_indexes):\n",
    "        extraction_acc.update({column_headers[pos_idx]: transposed_table[column_index]})\n",
    "    return extraction_acc\n",
    "    \n",
    "\n",
    "# def create_condition_check(check_against_value: float, op: str) -> callable:\n",
    "#     \"\"\"\n",
    "#     Returns a function with a single numerical input parameter.\n",
    "#     The function returns a boolean corresponding to whether the \n",
    "#     single numerical argument passed to it meets the condition\n",
    "#     encoded in the function.\n",
    "\n",
    "#     'check_against_value' the value that will be encoded in the function\n",
    "#         to check against.\n",
    "#     'op': str, one of {\"ge\", \"le\", \"gt\", \"lt\", \"eq\", \"ne\"}\n",
    "#     \"\"\"\n",
    "#     operators = {\n",
    "#         \"ge\": operator.ge,\n",
    "#         \"le\": operator.le,\n",
    "#         \"gt\": operator.gt,\n",
    "#         \"lt\": operator.lt,\n",
    "#         \"eq\": operator.eq,\n",
    "#         \"ne\": operator.ne,\n",
    "#     }\n",
    "#     def checker(test_value):\n",
    "#         return operators[op](test_value, check_against_value)\n",
    "\n",
    "#     return checker\n",
    "    \n",
    "\n",
    "# def excel_runner(\n",
    "#     xlsx_filepath,\n",
    "#     demand_input_cell_arrays: dict[str, list],\n",
    "#     identifier_cell_arrays: dict[str, list],\n",
    "#     design_inputs: dict[str, dict[str, float]],\n",
    "#     result_cells: list[str],\n",
    "#     save_conditions: dict[str, callable],\n",
    "#     save_dir: Optional[str] = None,\n",
    "#     sheet_idx: int = 0\n",
    "# ) -> None:\n",
    "#     demand_cell_ids = list(demand_input_cell_arrays.keys())\n",
    "#     iterations = len(demand_input_cell_arrays[demand_cell_ids[0]])\n",
    "#     for iteration in range(iterations):\n",
    "#         demand_cells_to_change = {cell_id: demand_input_cell_arrays[cell_id][iteration] for cell_id in demand_cell_ids}\n",
    "#         for design_tag, design_cells_to_change in design_inputs.items():\n",
    "#             cells_to_change = demand_cells_to_change | design_cells_to_change\n",
    "#             calculated_results = excel_engine(\n",
    "#                 xlsx_filepath, \n",
    "#                 cells_to_change=cells_to_change,\n",
    "#                 cells_to_retrieve=result_cells,\n",
    "#                 sheet_idx=sheet_idx\n",
    "#             )\n",
    "        \n",
    "#             save_condition_acc = []\n",
    "#             for idx, result_cell_id in enumerate(result_cells):\n",
    "#                 calculated_result = calculated_results[idx]\n",
    "#                 save_condition_acc.append(save_conditions[result_cell_id](calculated_result))\n",
    "            \n",
    "#             if all(save_condition_acc):\n",
    "#                 filepath = pathlib.Path(xlsx_filepath)\n",
    "#                 name = filepath.stem\n",
    "#                 suffix = filepath.suffix\n",
    "#                 demand_ids = \"-\".join([id_array[iteration] for id_array in identifier_cell_arrays])\n",
    "                \n",
    "#                 new_filename = f\"{name}-{demand_ids}-{design_tag}.{suffix}\"\n",
    "#                 save_dir_path = pathlib.Path(save_dir)\n",
    "#                 if not save_dir_path.exists():\n",
    "#                     save_dir_path.mkdir(parents=True)\n",
    "#                 calculated_results = excel_engine(\n",
    "#                     xlsx_filepath, \n",
    "#                     cells_to_change=cells_to_change,\n",
    "#                     cells_to_retrieve=result_cells,\n",
    "#                     sheet_idx=sheet_idx,\n",
    "#                     new_filename=f\"{str(save_dir)}/{new_filename}\"\n",
    "#                 )\n",
    "#                 break"
   ]
  },
  {
   "cell_type": "code",
   "execution_count": 3,
   "id": "454c981c-903d-4133-89d9-69e813fd6bd7",
   "metadata": {},
   "outputs": [],
   "source": [
    "from xl_engine.excel_engine import create_condition_check, excel_runner"
   ]
  },
  {
   "cell_type": "code",
   "execution_count": 4,
   "id": "dcdde104",
   "metadata": {},
   "outputs": [
    {
     "data": {
      "application/vnd.jupyter.widget-view+json": {
       "model_id": "9a9f7d333e524f2694a87eff52666ed9",
       "version_major": 2,
       "version_minor": 0
      },
      "text/plain": [
       "Output()"
      ]
     },
     "metadata": {},
     "output_type": "display_data"
    },
    {
     "data": {
      "text/html": [
       "<pre style=\"white-space:pre;overflow-x:auto;line-height:normal;font-family:Menlo,'DejaVu Sans Mono',consolas,'Courier New',monospace\">(-2147352567, 'Exception occurred.', (0, 'Microsoft Excel', 'The disk is full.', 'xlmain11.chm', 0, -2146827284), \n",
       "None)\n",
       "</pre>\n"
      ],
      "text/plain": [
       "(-2147352567, 'Exception occurred.', (0, 'Microsoft Excel', 'The disk is full.', 'xlmain11.chm', 0, -2146827284), \n",
       "None)\n"
      ]
     },
     "metadata": {},
     "output_type": "display_data"
    },
    {
     "data": {
      "text/html": [
       "<pre style=\"white-space:pre;overflow-x:auto;line-height:normal;font-family:Menlo,'DejaVu Sans Mono',consolas,'Courier New',monospace\"></pre>\n"
      ],
      "text/plain": []
     },
     "metadata": {},
     "output_type": "display_data"
    },
    {
     "ename": "RuntimeError",
     "evalue": "An error occured with the Excel interface during saving. Possible causes include:\n- You do not have permissions to save to the chosen location.\n- Your hard-drive is full.\n",
     "output_type": "error",
     "traceback": [
      "\u001b[31m---------------------------------------------------------------------------\u001b[39m",
      "\u001b[31mcom_error\u001b[39m                                 Traceback (most recent call last)",
      "\u001b[32m~\\code\\xl-engine\\src\\xl_engine\\excel_engine.py\u001b[39m in \u001b[36m?\u001b[39m\u001b[34m(xlsx_filepath, cells_to_change, cells_to_retrieve, sheet_idx, new_filepath)\u001b[39m\n\u001b[32m    140\u001b[39m             \u001b[38;5;28;01mexcept\u001b[39;00m Exception \u001b[38;5;28;01mas\u001b[39;00m e:\n\u001b[32m    141\u001b[39m                 print(e)\n\u001b[32m--> \u001b[39m\u001b[32m142\u001b[39m                 raise RuntimeError(\n\u001b[32m    143\u001b[39m                     \u001b[33m\"An error occured with the Excel interface during saving. Possible causes include:\\n\"\u001b[39m\n",
      "\u001b[32m~\\code\\xl-engine\\.venv\\Lib\\site-packages\\xlwings\\main.py\u001b[39m in \u001b[36m?\u001b[39m\u001b[34m(self, path, password)\u001b[39m\n\u001b[32m   1167\u001b[39m             path = utils.fspath(path)\n\u001b[32m   1168\u001b[39m         \u001b[38;5;28;01mwith\u001b[39;00m self.app.properties(display_alerts=\u001b[38;5;28;01mFalse\u001b[39;00m):\n\u001b[32m-> \u001b[39m\u001b[32m1169\u001b[39m             self.impl.save(path, password=password)\n",
      "\u001b[32m~\\code\\xl-engine\\.venv\\Lib\\site-packages\\xlwings\\_xlwindows.py\u001b[39m in \u001b[36m?\u001b[39m\u001b[34m(self, path, password)\u001b[39m\n\u001b[32m    892\u001b[39m             alerts_state = self.xl.Application.DisplayAlerts\n\u001b[32m    893\u001b[39m             self.xl.Application.DisplayAlerts = \u001b[38;5;28;01mFalse\u001b[39;00m\n\u001b[32m--> \u001b[39m\u001b[32m894\u001b[39m             self.xl.SaveAs(\n\u001b[32m    895\u001b[39m                 os.path.realpath(path), FileFormat=file_format, Password=password\n",
      "\u001b[32m~\\code\\xl-engine\\.venv\\Lib\\site-packages\\xlwings\\_xlwindows.py\u001b[39m in \u001b[36m?\u001b[39m\u001b[34m(self, *args, **kwargs)\u001b[39m\n\u001b[32m    134\u001b[39m                     \u001b[38;5;28;01mcontinue\u001b[39;00m\n\u001b[32m    135\u001b[39m                 \u001b[38;5;28;01melse\u001b[39;00m:\n\u001b[32m--> \u001b[39m\u001b[32m136\u001b[39m                     \u001b[38;5;28;01mraise\u001b[39;00m\n\u001b[32m    137\u001b[39m             \u001b[38;5;28;01mexcept\u001b[39;00m AttributeError:\n",
      "\u001b[32m~\\AppData\\Local\\Temp\\gen_py\\3.13\\00020813-0000-0000-C000-000000000046x0x1x9.py\u001b[39m in \u001b[36m?\u001b[39m\u001b[34m(self, Filename, FileFormat, Password, WriteResPassword, ReadOnlyRecommended, CreateBackup, AccessMode, ConflictResolution, AddToMru, TextCodepage, TextVisualLayout, Local, WorkIdentity)\u001b[39m\n\u001b[32m  46910\u001b[39m                         , ReadOnlyRecommended=defaultNamedNotOptArg, CreateBackup=defaultNamedNotOptArg, AccessMode=\u001b[32m1\u001b[39m, ConflictResolution=defaultNamedOptArg, AddToMru=defaultNamedOptArg\n\u001b[32m  46911\u001b[39m                         , TextCodepage=defaultNamedOptArg, TextVisualLayout=defaultNamedOptArg, Local=defaultNamedOptArg, WorkIdentity=defaultNamedOptArg):\n\u001b[32m> \u001b[39m\u001b[32m46912\u001b[39m \t\treturn self._oleobj_.InvokeTypes(3174, LCID, 1, (24, 0), ((12, 17), (12, 17), (12, 17), (12, 17), (12, 17), (12, 17), (3, 49), (12, 17), (12, 17), (12, 17), (12, 17), (12, 17), (12, 17)),Filename\n\u001b[32m  46913\u001b[39m                         , FileFormat, Password, WriteResPassword, ReadOnlyRecommended, CreateBackup\n",
      "\u001b[31mcom_error\u001b[39m: (-2147352567, 'Exception occurred.', (0, 'Microsoft Excel', 'The disk is full.', 'xlmain11.chm', 0, -2146827284), None)",
      "\nDuring handling of the above exception, another exception occurred:\n",
      "\u001b[31mRuntimeError\u001b[39m                              Traceback (most recent call last)",
      "\u001b[36mCell\u001b[39m\u001b[36m \u001b[39m\u001b[32mIn[4]\u001b[39m\u001b[32m, line 14\u001b[39m\n\u001b[32m     10\u001b[39m cells_to_retrieve = [\u001b[33m\"\u001b[39m\u001b[33mE33\u001b[39m\u001b[33m\"\u001b[39m, \u001b[33m\"\u001b[39m\u001b[33mE72\u001b[39m\u001b[33m\"\u001b[39m]\n\u001b[32m     12\u001b[39m save_conditions = {cell_id: dcr_check \u001b[38;5;28;01mfor\u001b[39;00m cell_id \u001b[38;5;129;01min\u001b[39;00m cells_to_retrieve}\n\u001b[32m---> \u001b[39m\u001b[32m14\u001b[39m \u001b[43mexcel_runner\u001b[49m\u001b[43m(\u001b[49m\n\u001b[32m     15\u001b[39m \u001b[43m    \u001b[49m\u001b[33;43mr\u001b[39;49m\u001b[33;43m\"\u001b[39;49m\u001b[33;43mC:\u001b[39;49m\u001b[33;43m\\\u001b[39;49m\u001b[33;43mUsers\u001b[39;49m\u001b[33;43m\\\u001b[39;49m\u001b[33;43mconno\u001b[39;49m\u001b[33;43m\\\u001b[39;49m\u001b[33;43mDesktop\u001b[39;49m\u001b[33;43m\\\u001b[39;49m\u001b[33;43mEccentric Concrete Footing.xlsx\u001b[39;49m\u001b[33;43m\"\u001b[39;49m\u001b[43m,\u001b[49m\n\u001b[32m     16\u001b[39m \u001b[43m    \u001b[49m\u001b[43mdemand_data\u001b[49m\u001b[43m,\u001b[49m\n\u001b[32m     17\u001b[39m \u001b[43m    \u001b[49m\u001b[43midentifier_data\u001b[49m\u001b[43m,\u001b[49m\n\u001b[32m     18\u001b[39m \u001b[43m    \u001b[49m\u001b[43mdesign_inputs\u001b[49m\u001b[43m=\u001b[49m\u001b[43mfooting_sizes\u001b[49m\u001b[43m,\u001b[49m\n\u001b[32m     19\u001b[39m \u001b[43m    \u001b[49m\u001b[43mresult_cells\u001b[49m\u001b[43m=\u001b[49m\u001b[43mcells_to_retrieve\u001b[49m\u001b[43m,\u001b[49m\n\u001b[32m     20\u001b[39m \u001b[43m    \u001b[49m\u001b[43msave_conditions\u001b[49m\u001b[43m=\u001b[49m\u001b[43msave_conditions\u001b[49m\u001b[43m,\u001b[49m\n\u001b[32m     21\u001b[39m \u001b[43m    \u001b[49m\u001b[43msave_dir\u001b[49m\u001b[43m \u001b[49m\u001b[43m=\u001b[49m\u001b[43m \u001b[49m\u001b[33;43mr\u001b[39;49m\u001b[33;43m\"\u001b[39;49m\u001b[33;43mC:\u001b[39;49m\u001b[33;43m\\\u001b[39;49m\u001b[33;43mUsers\u001b[39;49m\u001b[33;43m\\\u001b[39;49m\u001b[33;43mconno\u001b[39;49m\u001b[33;43m\\\u001b[39;49m\u001b[33;43mDesktop\u001b[39;49m\u001b[33;43m\\\u001b[39;49m\u001b[33;43mdesign\u001b[39;49m\u001b[33;43m\"\u001b[39;49m\u001b[43m,\u001b[49m\n\u001b[32m     22\u001b[39m \u001b[43m)\u001b[49m\n",
      "\u001b[36mFile \u001b[39m\u001b[32m~\\code\\xl-engine\\src\\xl_engine\\excel_engine.py:74\u001b[39m, in \u001b[36mexcel_runner\u001b[39m\u001b[34m(xlsx_filepath, demand_input_cell_arrays, identifier_cell_arrays, design_inputs, result_cells, save_conditions, save_dir, sheet_idx)\u001b[39m\n\u001b[32m     72\u001b[39m \u001b[38;5;28;01mif\u001b[39;00m \u001b[38;5;129;01mnot\u001b[39;00m save_dir_path.exists():\n\u001b[32m     73\u001b[39m     save_dir_path.mkdir(parents=\u001b[38;5;28;01mTrue\u001b[39;00m)\n\u001b[32m---> \u001b[39m\u001b[32m74\u001b[39m calculated_results = \u001b[43mexcel_engine\u001b[49m\u001b[43m(\u001b[49m\n\u001b[32m     75\u001b[39m \u001b[43m    \u001b[49m\u001b[43mxlsx_filepath\u001b[49m\u001b[43m,\u001b[49m\u001b[43m \u001b[49m\n\u001b[32m     76\u001b[39m \u001b[43m    \u001b[49m\u001b[43mcells_to_change\u001b[49m\u001b[43m=\u001b[49m\u001b[43mcells_to_change\u001b[49m\u001b[43m,\u001b[49m\n\u001b[32m     77\u001b[39m \u001b[43m    \u001b[49m\u001b[43mcells_to_retrieve\u001b[49m\u001b[43m=\u001b[49m\u001b[43mresult_cells\u001b[49m\u001b[43m,\u001b[49m\n\u001b[32m     78\u001b[39m \u001b[43m    \u001b[49m\u001b[43mnew_filepath\u001b[49m\u001b[43m=\u001b[49m\u001b[33;43mf\u001b[39;49m\u001b[33;43m\"\u001b[39;49m\u001b[38;5;132;43;01m{\u001b[39;49;00m\u001b[38;5;28;43mstr\u001b[39;49m\u001b[43m(\u001b[49m\u001b[43msave_dir\u001b[49m\u001b[43m)\u001b[49m\u001b[38;5;132;43;01m}\u001b[39;49;00m\u001b[33;43m/\u001b[39;49m\u001b[38;5;132;43;01m{\u001b[39;49;00m\u001b[43mnew_filename\u001b[49m\u001b[38;5;132;43;01m}\u001b[39;49;00m\u001b[33;43m\"\u001b[39;49m\u001b[43m,\u001b[49m\n\u001b[32m     79\u001b[39m \u001b[43m    \u001b[49m\u001b[43msheet_idx\u001b[49m\u001b[43m=\u001b[49m\u001b[43msheet_idx\u001b[49m\u001b[43m,\u001b[49m\n\u001b[32m     80\u001b[39m \u001b[43m\u001b[49m\u001b[43m)\u001b[49m\n\u001b[32m     81\u001b[39m variations_progress.remove_task(variations_task)\n\u001b[32m     82\u001b[39m \u001b[38;5;28;01mbreak\u001b[39;00m\n",
      "\u001b[36mFile \u001b[39m\u001b[32m~\\code\\xl-engine\\src\\xl_engine\\excel_engine.py:142\u001b[39m, in \u001b[36mexcel_engine\u001b[39m\u001b[34m(xlsx_filepath, cells_to_change, cells_to_retrieve, sheet_idx, new_filepath)\u001b[39m\n\u001b[32m    140\u001b[39m         \u001b[38;5;28;01mexcept\u001b[39;00m \u001b[38;5;167;01mException\u001b[39;00m \u001b[38;5;28;01mas\u001b[39;00m e:\n\u001b[32m    141\u001b[39m             \u001b[38;5;28mprint\u001b[39m(e)\n\u001b[32m--> \u001b[39m\u001b[32m142\u001b[39m             \u001b[38;5;28;01mraise\u001b[39;00m \u001b[38;5;167;01mRuntimeError\u001b[39;00m(\n\u001b[32m    143\u001b[39m                 \u001b[33m\"\u001b[39m\u001b[33mAn error occured with the Excel interface during saving. Possible causes include:\u001b[39m\u001b[38;5;130;01m\\n\u001b[39;00m\u001b[33m\"\u001b[39m\n\u001b[32m    144\u001b[39m                 \u001b[33m\"\u001b[39m\u001b[33m- You do not have permissions to save to the chosen location.\u001b[39m\u001b[38;5;130;01m\\n\u001b[39;00m\u001b[33m\"\u001b[39m\n\u001b[32m    145\u001b[39m                 \u001b[33m\"\u001b[39m\u001b[33m- Your hard-drive is full.\u001b[39m\u001b[38;5;130;01m\\n\u001b[39;00m\u001b[33m\"\u001b[39m\n\u001b[32m    146\u001b[39m             )\n\u001b[32m    147\u001b[39m     wb.close()\n\u001b[32m    148\u001b[39m \u001b[38;5;28;01mreturn\u001b[39;00m calculated_values\n",
      "\u001b[31mRuntimeError\u001b[39m: An error occured with the Excel interface during saving. Possible causes include:\n- You do not have permissions to save to the chosen location.\n- Your hard-drive is full.\n"
     ]
    }
   ],
   "source": [
    "table_data = parse_table(\"Model Reactions Export - SI.csv\")\n",
    "demand_data = extract_table_columns(table_data, [8, 6, 10], [\"E44\", \"E46\", \"E45\"])\n",
    "identifier_data = extract_table_columns(table_data, [1, 5])\n",
    "dcr_check = create_condition_check(1.0, \"le\")\n",
    "footing_sizes = {\n",
    "    \"F1\": {\"E24\": 2500, \"E25\": 2500, \"E14\": 400},\n",
    "    \"F2\": {\"E24\": 4000, \"E25\": 4000, \"E14\": 600},\n",
    "    \"F3\": {\"E24\": 6500, \"E25\": 6500, \"E14\": 800},\n",
    "}\n",
    "cells_to_retrieve = [\"E33\", \"E72\"]\n",
    "\n",
    "save_conditions = {cell_id: dcr_check for cell_id in cells_to_retrieve}\n",
    "\n",
    "excel_runner(\n",
    "    r\"C:\\Users\\conno\\Desktop\\Eccentric Concrete Footing.xlsx\",\n",
    "    demand_data,\n",
    "    identifier_data,\n",
    "    design_inputs=footing_sizes,\n",
    "    result_cells=cells_to_retrieve,\n",
    "    save_conditions=save_conditions,\n",
    "    save_dir = r\"C:\\Users\\conno\\Desktop\\design\",\n",
    ")\n",
    "\n"
   ]
  },
  {
   "cell_type": "code",
   "execution_count": null,
   "id": "efc0cbca",
   "metadata": {},
   "outputs": [],
   "source": []
  },
  {
   "cell_type": "code",
   "execution_count": null,
   "id": "86318372-539b-44e2-b645-680f1db98a1a",
   "metadata": {},
   "outputs": [],
   "source": []
  }
 ],
 "metadata": {
  "kernelspec": {
   "display_name": "Python 3 (ipykernel)",
   "language": "python",
   "name": "python3"
  },
  "language_info": {
   "codemirror_mode": {
    "name": "ipython",
    "version": 3
   },
   "file_extension": ".py",
   "mimetype": "text/x-python",
   "name": "python",
   "nbconvert_exporter": "python",
   "pygments_lexer": "ipython3",
   "version": "3.13.0"
  }
 },
 "nbformat": 4,
 "nbformat_minor": 5
}
