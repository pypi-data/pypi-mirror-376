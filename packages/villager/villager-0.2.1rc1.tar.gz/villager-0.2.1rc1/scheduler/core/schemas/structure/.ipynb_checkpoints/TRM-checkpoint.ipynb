{
 "cells": [
  {
   "cell_type": "code",
   "execution_count": 1,
   "id": "c05b4d7e-3b19-463c-831e-8116739823f5",
   "metadata": {},
   "outputs": [
    {
     "name": "stdout",
     "output_type": "stream",
     "text": [
      "[<__main__.T object at 0x000001344F643790>, <__main__.T object at 0x000001344F6437F0>]\n",
      "None\n",
      "[{'from_node': <__main__.T object at 0x000001344F6435E0>, 'to_node': <__main__.T object at 0x000001344F60B880>, 'direction': <Direction.UP: 1>, 'distance_with_start': 1}]\n",
      "from:L;to:K;direction:Direction.LEFT;dis:1;\n",
      "from:K;to:J;direction:Direction.LEFT;dis:2;\n",
      "from:J;to:I;direction:Direction.LEFT;dis:3;\n"
     ]
    }
   ],
   "source": [
    "from scheduler.core.schemas.structure.task_relation_manager import TaskRelationManager, Node, Direction\n",
    "\n",
    "if __name__ == '__main__':\n",
    "    \"\"\"\n",
    "    A → B → C\n",
    "    ↓\n",
    "    D → F → H\n",
    "    ↓       ↓\n",
    "    E → G   I\n",
    "    \"\"\"\n",
    "\n",
    "\n",
    "    class T(Node):\n",
    "        def __init__(self, s):\n",
    "            super().__init__()\n",
    "            self.s = s\n",
    "\n",
    "        def __str__(self):\n",
    "            return self.s\n",
    "\n",
    "\n",
    "    manager = TaskRelationManager()\n",
    "    # 使用字符串作为任务对象\n",
    "    task_a = T(\"A\")\n",
    "    task_b = T(\"B\")\n",
    "    task_c = T(\"C\")\n",
    "    task_d = T(\"D\")\n",
    "    task_e = T(\"E\")\n",
    "    task_f = T(\"F\")\n",
    "    task_g = T(\"G\")\n",
    "    task_h = T(\"H\")\n",
    "    task_i = T(\"I\")\n",
    "    task_j = T(\"J\")\n",
    "    task_k = T(\"K\")\n",
    "    task_l = T(\"L\")\n",
    "\n",
    "    manager.set_relationship(task_a, Direction.RIGHT, task_b)\n",
    "    manager.set_relationship(task_a, Direction.DOWN, task_d)\n",
    "    manager.set_relationship(task_d, Direction.DOWN, task_e)\n",
    "    manager.set_relationship(task_d, Direction.RIGHT, task_f)\n",
    "    manager.set_relationship(task_e, Direction.RIGHT, task_g)\n",
    "    manager.set_relationship(task_b, Direction.RIGHT, task_c)\n",
    "    manager.set_relationship(task_f, Direction.RIGHT, task_h)\n",
    "    manager.set_relationship(task_h, Direction.DOWN, task_i)\n",
    "\n",
    "    print(manager.get_neighbor_sub_nodes(task_d))\n",
    "    print(manager.remove_node(task_d))\n",
    "    for it in manager.get_neighbor_sub_nodes(task_d):\n",
    "        print(it)\n",
    "    print(manager.get_upper_chain(task_d, 3))\n",
    "    manager.add_sub_tasks(task_i, [task_j, task_k, task_l])\n",
    "    for Un in manager.get_upper_chain(task_l, 3):\n",
    "        print(f\"from:{Un['from_node']};to:{Un['to_node']};direction:{Un['direction']};dis:{Un['distance_with_start']};\")\n"
   ]
  }
 ],
 "metadata": {
  "kernelspec": {
   "display_name": "Python 3 (ipykernel)",
   "language": "python",
   "name": "python3"
  },
  "language_info": {
   "codemirror_mode": {
    "name": "ipython",
    "version": 3
   },
   "file_extension": ".py",
   "mimetype": "text/x-python",
   "name": "python",
   "nbconvert_exporter": "python",
   "pygments_lexer": "ipython3",
   "version": "3.9.6"
  }
 },
 "nbformat": 4,
 "nbformat_minor": 5
}
