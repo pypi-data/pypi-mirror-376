{
 "cells": [
  {
   "cell_type": "markdown",
   "metadata": {},
   "source": [
    "# BalancerV2 Python Model"
   ]
  },
  {
   "cell_type": "markdown",
   "metadata": {},
   "source": [
    "## 1. Installation"
   ]
  },
  {
   "cell_type": "code",
   "execution_count": 2,
   "metadata": {
    "scrolled": true
   },
   "outputs": [
    {
     "name": "stdout",
     "output_type": "stream",
     "text": [
      "\u001b[H\u001b[2JRequirement already satisfied: balancerv2cad in /usr/local/lib/python3.8/site-packages (0.1.91)\n",
      "Note: you may need to restart the kernel to use updated packages.\n"
     ]
    }
   ],
   "source": [
    "pip install balancerv2cad"
   ]
  },
  {
   "cell_type": "markdown",
   "metadata": {},
   "source": [
    "## 2. Show information about installed package"
   ]
  },
  {
   "cell_type": "code",
   "execution_count": 1,
   "metadata": {},
   "outputs": [
    {
     "name": "stdout",
     "output_type": "stream",
     "text": [
      "Name: balancerv2cad\n",
      "Version: 0.1.9\n",
      "Summary: A preconfigured Python package, using python poetry\n",
      "Home-page: https://github.com/metavisionlabs/balancerv2cad.git\n",
      "Author: Nico Rodriguez, Thomas Liu, Marcin Jaczynski\n",
      "Author-email: None\n",
      "License: MIT\n",
      "Location: c:\\users\\vp\\.conda\\envs\\balancer-sim\\lib\\site-packages\n",
      "Requires: \n",
      "Required-by: \n",
      "Note: you may need to restart the kernel to use updated packages.\n"
     ]
    }
   ],
   "source": [
    "# optional -f show the full list of installed files\n",
    "%pip show balancerv2cad "
   ]
  },
  {
   "cell_type": "markdown",
   "metadata": {},
   "source": [
    "## 3. Import Module"
   ]
  },
  {
   "cell_type": "code",
   "execution_count": 11,
   "metadata": {},
   "outputs": [],
   "source": [
    "from balancerv2cad.WeightedPool import WeightedPool"
   ]
  },
  {
   "cell_type": "markdown",
   "metadata": {},
   "source": [
    "## 4. Call a Module Function"
   ]
  },
  {
   "cell_type": "code",
   "execution_count": 39,
   "metadata": {},
   "outputs": [
    {
     "data": {
      "text/plain": [
       "<function balancerv2cad.WeightedPool.WeightedPool.join_pool(self, balances: dict, weights: dict)>"
      ]
     },
     "execution_count": 39,
     "metadata": {},
     "output_type": "execute_result"
    }
   ],
   "source": [
    "WeightedPool.join_pool"
   ]
  },
  {
   "cell_type": "markdown",
   "metadata": {},
   "source": [
    "##  5. Create and Join a new Pool"
   ]
  },
  {
   "cell_type": "markdown",
   "metadata": {},
   "source": [
    "**Instantiate a new balancer pool**"
   ]
  },
  {
   "cell_type": "code",
   "execution_count": 80,
   "metadata": {
    "scrolled": true
   },
   "outputs": [],
   "source": [
    "bp = WeightedPool()"
   ]
  },
  {
   "cell_type": "markdown",
   "metadata": {},
   "source": [
    "**Create and initialise the pool**\n",
    "\n",
    "With two tokens a and b with equal weights of 50/50 and equal balances of 100 each. More information about pool function:\n",
    "\n",
    "https://metavision.gitbook.io/balancerv2-py-twin/simulation-packages/pool-functions"
   ]
  },
  {
   "cell_type": "code",
   "execution_count": 81,
   "metadata": {},
   "outputs": [],
   "source": [
    "bp.join_pool(\n",
    "    # First argument populates \"balances\" as a dict with key-value pair 'token' is a string and 'value' as an integer\n",
    "    {\"a\": 100, \"b\": 100},\n",
    "    # First argument populates \"weights\" as a dict with key-value pair 'token' is a string and 'value' as float\n",
    "    {\"a\": 0.5, \"b\": 0.5},\n",
    ")"
   ]
  },
  {
   "cell_type": "code",
   "execution_count": 82,
   "metadata": {},
   "outputs": [
    {
     "name": "stdout",
     "output_type": "stream",
     "text": [
      "Balance of 'a': 100. Balance of 'b': 100\n",
      "Weight of 'a': 0.5. Weight of 'b': 0.5\n"
     ]
    }
   ],
   "source": [
    "print(\n",
    "    \"Balance of 'a': {}. Balance of 'b': {}\".format(\n",
    "        bp._balances[\"a\"], bp._balances[\"b\"]\n",
    "    )\n",
    ")\n",
    "print(\"Weight of 'a': {}. Weight of 'b': {}\".format(bp._weights[\"a\"], bp._weights[\"b\"]))"
   ]
  },
  {
   "cell_type": "markdown",
   "metadata": {},
   "source": [
    "##  6. Set the Swap fee"
   ]
  },
  {
   "cell_type": "markdown",
   "metadata": {},
   "source": [
    "Set the fee for the pool to 0.00%"
   ]
  },
  {
   "cell_type": "code",
   "execution_count": 83,
   "metadata": {},
   "outputs": [],
   "source": [
    "bp.swap_fee = 0.000"
   ]
  },
  {
   "cell_type": "markdown",
   "metadata": {},
   "source": [
    "##  7. Perform a Pool Swap"
   ]
  },
  {
   "cell_type": "markdown",
   "metadata": {},
   "source": [
    "swap (**token_in:** str, **token_out:** str,  **amount:** Decimal, **given_in:** bool)\n",
    "\n",
    "**case given_in= False:** in-given-out, known amount of tokens we want to retrieve from the pool, and we calculate the amount needed in."
   ]
  },
  {
   "cell_type": "code",
   "execution_count": 84,
   "metadata": {},
   "outputs": [
    {
     "name": "stdout",
     "output_type": "stream",
     "text": [
      "Balance of 'a': 98.98990001020303019996939190. Balance of 'b': 100.999999\n",
      "Weight of 'a': 0.5. Weight of 'b': 0.5\n"
     ]
    }
   ],
   "source": [
    "bp.swap(\"b\", \"a\", 1, given_in=False)\n",
    "print(\n",
    "    \"Balance of 'a': {}. Balance of 'b': {}\".format(\n",
    "        bp._balances[\"a\"], bp._balances[\"b\"]\n",
    "    )\n",
    ")\n",
    "print(\"Weight of 'a': {}. Weight of 'b': {}\".format(bp._weights[\"a\"], bp._weights[\"b\"]))"
   ]
  },
  {
   "cell_type": "code",
   "execution_count": null,
   "metadata": {},
   "outputs": [],
   "source": []
  }
 ],
 "metadata": {
  "kernelspec": {
   "display_name": "Python 3",
   "language": "python",
   "name": "python3"
  },
  "language_info": {
   "codemirror_mode": {
    "name": "ipython",
    "version": 3
   },
   "file_extension": ".py",
   "mimetype": "text/x-python",
   "name": "python",
   "nbconvert_exporter": "python",
   "pygments_lexer": "ipython3",
   "version": "3.8.10"
  }
 },
 "nbformat": 4,
 "nbformat_minor": 4
}
