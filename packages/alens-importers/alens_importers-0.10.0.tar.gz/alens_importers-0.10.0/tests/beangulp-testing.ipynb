{
 "cells": [
  {
   "cell_type": "markdown",
   "id": "8f4efe67",
   "metadata": {},
   "source": [
    "# Beangulp Testing"
   ]
  },
  {
   "cell_type": "markdown",
   "id": "80cd8adf",
   "metadata": {},
   "source": [
    "Instructions on how to setup and use Beangulp tests."
   ]
  },
  {
   "cell_type": "markdown",
   "id": "6a85f918",
   "metadata": {},
   "source": [
    "Setup"
   ]
  },
  {
   "cell_type": "code",
   "execution_count": null,
   "id": "6760726f",
   "metadata": {},
   "outputs": [],
   "source": [
    "from datetime import date\n",
    "from os import mkdir, path, rename, unlink\n",
    "from shutil import rmtree\n",
    "from tempfile import mkdtemp\n",
    "from beangulp.tests.utils import Importer\n",
    "import click.testing\n",
    "import beangulp.testing"
   ]
  },
  {
   "cell_type": "markdown",
   "id": "5490e0ce",
   "metadata": {},
   "source": [
    "Test harness:"
   ]
  },
  {
   "cell_type": "code",
   "execution_count": null,
   "id": "49974608",
   "metadata": {},
   "outputs": [],
   "source": [
    "config = {\n",
    "    'cash_account': 'Assets:Tests:Cash',\n",
    "    'dividend_account': 'Income:Tests:Dividend:IB:{currency}:{symbol}',\n",
    "    'interest_account': 'Income:Tests:IB:{symbol}:Interest',\n",
    "    'whtax_account': 'Expenses:Tests:IB:WithholdingTax'\n",
    "}\n",
    "importer = Importer('importers.ibflex.Importer', config, 'text/csv')\n",
    "runner = click.testing.CliRunner()\n",
    "\n",
    "def run(*args):\n",
    "    func = beangulp.testing.wrap(importer)\n",
    "    return runner.invoke(func, args, catch_exceptions=False)\n"
   ]
  },
  {
   "cell_type": "markdown",
   "id": "84f90f8e",
   "metadata": {},
   "source": [
    "Tests"
   ]
  },
  {
   "cell_type": "code",
   "execution_count": null,
   "id": "8fae9029",
   "metadata": {},
   "outputs": [],
   "source": [
    "r = run()\n",
    "r.exit_code"
   ]
  },
  {
   "cell_type": "code",
   "execution_count": null,
   "id": "100ad4f8",
   "metadata": {},
   "outputs": [],
   "source": [
    "print(r.output)"
   ]
  },
  {
   "cell_type": "code",
   "execution_count": null,
   "id": "29bcad73",
   "metadata": {},
   "outputs": [],
   "source": [
    "r = run('test', '--help')\n",
    "r.exit_code"
   ]
  },
  {
   "cell_type": "code",
   "execution_count": null,
   "id": "90dbddb8",
   "metadata": {},
   "outputs": [],
   "source": [
    "print(r.output)"
   ]
  },
  {
   "cell_type": "code",
   "execution_count": null,
   "id": "01d18c5f",
   "metadata": {},
   "outputs": [],
   "source": [
    "r = run('test')\n",
    "r.exit_code"
   ]
  },
  {
   "cell_type": "code",
   "execution_count": null,
   "id": "1b141068",
   "metadata": {},
   "outputs": [],
   "source": [
    "print(r.output)"
   ]
  },
  {
   "cell_type": "markdown",
   "id": "95bc22a5",
   "metadata": {},
   "source": [
    "Create a documents directory:"
   ]
  },
  {
   "cell_type": "code",
   "execution_count": null,
   "id": "6849d061",
   "metadata": {},
   "outputs": [],
   "source": [
    "# temp = mkdtemp()\n",
    "# documents = path.join(temp, 'documents')\n",
    "# mkdir(documents)\n",
    "import os\n",
    "\n",
    "\n",
    "documents = os.path.abspath('.')\n",
    "\n",
    "print(documents)"
   ]
  },
  {
   "cell_type": "markdown",
   "id": "928ee905",
   "metadata": {},
   "source": [
    "Generate the expected output file:"
   ]
  },
  {
   "cell_type": "code",
   "execution_count": null,
   "id": "d59a750f",
   "metadata": {},
   "outputs": [],
   "source": [
    "r = run('generate', documents)\n",
    "r.exit_code"
   ]
  },
  {
   "cell_type": "code",
   "execution_count": null,
   "id": "154439ea",
   "metadata": {},
   "outputs": [],
   "source": [
    "print(r.output)"
   ]
  }
 ],
 "metadata": {
  "kernelspec": {
   "display_name": ".venv",
   "language": "python",
   "name": "python3"
  },
  "language_info": {
   "codemirror_mode": {
    "name": "ipython",
    "version": 3
   },
   "file_extension": ".py",
   "mimetype": "text/x-python",
   "name": "python",
   "nbconvert_exporter": "python",
   "pygments_lexer": "ipython3",
   "version": "3.13.3"
  }
 },
 "nbformat": 4,
 "nbformat_minor": 5
}
