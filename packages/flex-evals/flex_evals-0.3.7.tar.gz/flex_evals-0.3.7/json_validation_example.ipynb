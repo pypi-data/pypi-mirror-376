{
 "cells": [
  {
   "cell_type": "code",
   "execution_count": null,
   "id": "db8ff766",
   "metadata": {},
   "outputs": [],
   "source": []
  },
  {
   "cell_type": "code",
   "execution_count": 1,
   "id": "eb0767ac",
   "metadata": {},
   "outputs": [
    {
     "name": "stdout",
     "output_type": "stream",
     "text": [
      "Valid: False\n",
      "Validation Errors:\n",
      "(root): 'name' is a required property\n",
      "/age: -1 is less than the minimum of 0\n"
     ]
    }
   ],
   "source": [
    "import json\n",
    "from collections.abc import Mapping\n",
    "from typing import Any\n",
    "\n",
    "from jsonschema import Draft202012Validator, FormatChecker\n",
    "from pydantic import BaseModel\n",
    "\n",
    "JSONLike = Any | str | BaseModel  # keep it simple: one alias for both inputs\n",
    "\n",
    "\n",
    "def _coerce(value: JSONLike, *, as_schema: bool) -> Any:  # noqa: ANN401\n",
    "    \"\"\"\n",
    "    Coerce input to a Python object suitable for validation.\n",
    "    - If BaseModel: dump to schema (for schema) or to data (for data).\n",
    "    - If str: json.loads.\n",
    "    - Otherwise: pass through.\n",
    "    Additionally, if as_schema=True, ensure result is a mapping.\n",
    "    \"\"\"\n",
    "    if isinstance(value, BaseModel):\n",
    "        value = value.__class__.model_json_schema() if as_schema else value.model_dump()\n",
    "    elif isinstance(value, str):\n",
    "        value = json.loads(value)\n",
    "\n",
    "    if as_schema and not isinstance(value, Mapping):\n",
    "        raise TypeError(\"Schema must be a JSON object (mapping) after coercion.\")\n",
    "    return value\n",
    "\n",
    "\n",
    "def validate_json_schema(data: JSONLike, schema: JSONLike) -> tuple[bool, str | None]:\n",
    "    \"\"\"\n",
    "    Validate `data` against JSON `schema`.\n",
    "\n",
    "    Returns (is_valid, error_report). If invalid, error_report lists all issues.\n",
    "    \"\"\"\n",
    "    schema = _coerce(schema, as_schema=True)\n",
    "    data = _coerce(data, as_schema=False)\n",
    "\n",
    "    # Draft202012Validator is the implementation of the JSON Schema 2020-12 draft, which is the\n",
    "    # latest stable version of the standard.\n",
    "    validator = Draft202012Validator(schema, format_checker=FormatChecker())\n",
    "    errors = sorted(validator.iter_errors(data), key=lambda e: list(e.path))\n",
    "\n",
    "    if not errors:\n",
    "        return True, None\n",
    "\n",
    "    validation_errors = []\n",
    "    for err in errors:\n",
    "        path_elems = [str(p) for p in err.path]\n",
    "        path = \"/\" + \"/\".join(path_elems) if path_elems else \"(root)\"\n",
    "        validation_errors.append(f\"{path}: {err.message}\")\n",
    "    return False, validation_errors\n",
    "\n",
    "schema = {\n",
    "    \"type\": \"object\",\n",
    "    \"properties\": {\n",
    "        \"name\": {\"type\": \"string\"},\n",
    "        \"age\":  {\"type\": \"integer\", \"minimum\": 0, \"maximum\": 120},\n",
    "    },\n",
    "    \"required\": [\"name\", \"age\"],\n",
    "    \"additionalProperties\": False,\n",
    "}\n",
    "\n",
    "# data = {\"name\": \"Alice\", \"age\": -1}  # violates minimum 0\n",
    "data = {'age': -1} # violates required name and minimum age\n",
    "\n",
    "valid, validation_errors = validate_json_schema(data, schema)\n",
    "print(\"Valid:\", valid)\n",
    "print(\"Validation Errors:\")\n",
    "for err in (validation_errors or []):\n",
    "    print(err)"
   ]
  },
  {
   "cell_type": "code",
   "execution_count": null,
   "id": "f9b3b789",
   "metadata": {},
   "outputs": [],
   "source": []
  }
 ],
 "metadata": {
  "kernelspec": {
   "display_name": ".venv",
   "language": "python",
   "name": "python3"
  },
  "language_info": {
   "codemirror_mode": {
    "name": "ipython",
    "version": 3
   },
   "file_extension": ".py",
   "mimetype": "text/x-python",
   "name": "python",
   "nbconvert_exporter": "python",
   "pygments_lexer": "ipython3",
   "version": "3.11.13"
  }
 },
 "nbformat": 4,
 "nbformat_minor": 5
}
