{
 "cells": [
  {
   "cell_type": "markdown",
   "id": "fe022573",
   "metadata": {},
   "source": [
    "# Schema Demo"
   ]
  },
  {
   "cell_type": "code",
   "execution_count": 1,
   "id": "788111ba",
   "metadata": {},
   "outputs": [
    {
     "name": "stdout",
     "output_type": "stream",
     "text": [
      "Schema file loaded\n"
     ]
    }
   ],
   "source": [
    "from schema import Schema\n",
    "schema = Schema()"
   ]
  },
  {
   "cell_type": "code",
   "execution_count": 2,
   "id": "136aef1e",
   "metadata": {},
   "outputs": [
    {
     "name": "stdout",
     "output_type": "stream",
     "text": [
      "\n",
      "Original Schema:\n",
      "\n",
      "N::User {\n",
      "    name: String,\n",
      "    age: U32,\n",
      "    email: String,\n",
      "    created_at: I32,\n",
      "    updated_at: I32\n",
      "}\n",
      "\n",
      "N::Post {\n",
      "    content: String,\n",
      "    created_at: I32,\n",
      "    updated_at: I32\n",
      "}\n",
      "\n",
      "E::Follows {\n",
      "    From: User,\n",
      "    To: User,\n",
      "    Properties: {\n",
      "        since: I32\n",
      "    }\n",
      "}\n",
      "\n",
      "E::Created {\n",
      "    From: User,\n",
      "    To: Post,\n",
      "    Properties: {\n",
      "        created_at: I32\n",
      "    }\n",
      "}\n",
      "\n",
      "\n"
     ]
    }
   ],
   "source": [
    "print(\"\\nOriginal Schema:\\n\")\n",
    "original_schema = schema.show_schema()"
   ]
  },
  {
   "cell_type": "code",
   "execution_count": 3,
   "id": "1e6bf889",
   "metadata": {},
   "outputs": [
    {
     "name": "stdout",
     "output_type": "stream",
     "text": [
      "Extracted elements:\n",
      "Nodes: ['User', 'Post']\n",
      "Edges: ['Follows', 'Created']\n"
     ]
    }
   ],
   "source": [
    "node_types = list(schema.get_nodes().keys())\n",
    "edge_types = list(schema.get_edges().keys())\n",
    "\n",
    "print(\"Extracted elements:\")\n",
    "print(\"Nodes:\", node_types)\n",
    "print(\"Edges:\", edge_types)"
   ]
  },
  {
   "cell_type": "code",
   "execution_count": 4,
   "id": "5a067952",
   "metadata": {},
   "outputs": [],
   "source": [
    "# Delete all elements from schema\n",
    "schema.delete_nodes(node_types)\n",
    "schema.delete_edges(edge_types)"
   ]
  },
  {
   "cell_type": "code",
   "execution_count": 5,
   "id": "9088ee00",
   "metadata": {},
   "outputs": [
    {
     "name": "stdout",
     "output_type": "stream",
     "text": [
      "Current schema:\n",
      "\n",
      "N::User {\n",
      "    name: String,\n",
      "    age: U32,\n",
      "    created_at: I32,\n",
      "    updated_at: I32\n",
      "}\n",
      "\n",
      "\n"
     ]
    }
   ],
   "source": [
    "# Create User node type\n",
    "schema.create_node(\n",
    "    \"User\", \n",
    "    {\n",
    "        \"name\": \"String\",\n",
    "        \"age\": \"U32\",\n",
    "        \"created_at\": \"I32\",\n",
    "        \"updated_at\": \"I32\"\n",
    "    }\n",
    ")\n",
    "\n",
    "print(\"Current schema:\\n\\n\" + str(schema))"
   ]
  },
  {
   "cell_type": "code",
   "execution_count": 6,
   "id": "9b0df365",
   "metadata": {},
   "outputs": [
    {
     "name": "stdout",
     "output_type": "stream",
     "text": [
      "Current schema:\n",
      "\n",
      "N::User {\n",
      "    name: String,\n",
      "    age: U32,\n",
      "    email: String,\n",
      "    created_at: I32,\n",
      "    updated_at: I32\n",
      "}\n",
      "\n",
      "\n"
     ]
    }
   ],
   "source": [
    "schema.update_node(\n",
    "    \"User\", \n",
    "    {\n",
    "        \"name\": \"String\",\n",
    "        \"age\": \"U32\",\n",
    "        \"email\": \"String\",\n",
    "        \"created_at\": \"I32\",\n",
    "        \"updated_at\": \"I32\"\n",
    "    }\n",
    ")\n",
    "\n",
    "print(\"Current schema:\\n\\n\" + str(schema))"
   ]
  },
  {
   "cell_type": "code",
   "execution_count": 7,
   "id": "eea5661c",
   "metadata": {},
   "outputs": [
    {
     "name": "stdout",
     "output_type": "stream",
     "text": [
      "Current schema:\n",
      "\n",
      "N::User {\n",
      "    name: String,\n",
      "    age: U32,\n",
      "    email: String,\n",
      "    created_at: I32,\n",
      "    updated_at: I32\n",
      "}\n",
      "\n",
      "N::Post {\n",
      "    content: String,\n",
      "    created_at: I32,\n",
      "    updated_at: I32\n",
      "}\n",
      "\n",
      "\n"
     ]
    }
   ],
   "source": [
    "schema.create_node(\n",
    "    \"Post\", \n",
    "    {\n",
    "        \"content\": \"String\",\n",
    "        \"created_at\": \"I32\",\n",
    "        \"updated_at\": \"I32\"\n",
    "    }\n",
    ")\n",
    "\n",
    "print(\"Current schema:\\n\\n\" + str(schema))"
   ]
  },
  {
   "cell_type": "code",
   "execution_count": 8,
   "id": "d8a5f2c6",
   "metadata": {},
   "outputs": [
    {
     "name": "stdout",
     "output_type": "stream",
     "text": [
      "Current schema:\n",
      "\n",
      "N::User {\n",
      "    name: String,\n",
      "    age: U32,\n",
      "    email: String,\n",
      "    created_at: I32,\n",
      "    updated_at: I32\n",
      "}\n",
      "\n",
      "N::Post {\n",
      "    content: String,\n",
      "    created_at: I32,\n",
      "    updated_at: I32\n",
      "}\n",
      "\n",
      "N::Temp {\n",
      "    prop1: String,\n",
      "    prop2: I64\n",
      "}\n",
      "\n",
      "\n"
     ]
    }
   ],
   "source": [
    "schema.create_node(\n",
    "    \"Temp\",\n",
    "    {\n",
    "        \"prop1\": \"String\",\n",
    "        \"prop2\": \"I64\"\n",
    "    }\n",
    ")\n",
    "\n",
    "print(\"Current schema:\\n\\n\" + str(schema))"
   ]
  },
  {
   "cell_type": "code",
   "execution_count": 9,
   "id": "4d70781a",
   "metadata": {},
   "outputs": [
    {
     "name": "stdout",
     "output_type": "stream",
     "text": [
      "Current schema:\n",
      "\n",
      "N::User {\n",
      "    name: String,\n",
      "    age: U32,\n",
      "    email: String,\n",
      "    created_at: I32,\n",
      "    updated_at: I32\n",
      "}\n",
      "\n",
      "N::Post {\n",
      "    content: String,\n",
      "    created_at: I32,\n",
      "    updated_at: I32\n",
      "}\n",
      "\n",
      "\n"
     ]
    }
   ],
   "source": [
    "schema.delete_node(\"Temp\")\n",
    "print(\"Current schema:\\n\\n\" + str(schema))"
   ]
  },
  {
   "cell_type": "code",
   "execution_count": 10,
   "id": "8569b6a0",
   "metadata": {},
   "outputs": [
    {
     "name": "stdout",
     "output_type": "stream",
     "text": [
      "\n",
      "Recreated schema:\n",
      "N::User {\n",
      "    name: String,\n",
      "    age: U32,\n",
      "    email: String,\n",
      "    created_at: I32,\n",
      "    updated_at: I32\n",
      "}\n",
      "\n",
      "N::Post {\n",
      "    content: String,\n",
      "    created_at: I32,\n",
      "    updated_at: I32\n",
      "}\n",
      "\n",
      "E::Follows {\n",
      "    From: User,\n",
      "    To: User,\n",
      "    Properties: {\n",
      "        since: I32\n",
      "    }\n",
      "}\n",
      "\n",
      "E::Created {\n",
      "    From: User,\n",
      "    To: Post,\n",
      "    Properties: {\n",
      "        created_at: I32\n",
      "    }\n",
      "}\n",
      "\n",
      "\n"
     ]
    }
   ],
   "source": [
    "schema.create_edge(\n",
    "    \"Follows\", \n",
    "    \"User\", \n",
    "    \"User\", \n",
    "    {\n",
    "        \"since\": \"I32\"\n",
    "    }\n",
    ")\n",
    "\n",
    "# Create Created edge type (User -> Post)\n",
    "schema.create_edge(\n",
    "    \"Created\", \n",
    "    \"User\", \n",
    "    \"Post\", \n",
    "    {\n",
    "        \"created_at\": \"I32\"\n",
    "    }\n",
    ")\n",
    "\n",
    "print(\"\\nRecreated schema:\")\n",
    "recreated_schema = schema.show_schema()"
   ]
  },
  {
   "cell_type": "code",
   "execution_count": 11,
   "id": "9cc43327",
   "metadata": {},
   "outputs": [
    {
     "name": "stdout",
     "output_type": "stream",
     "text": [
      "\n",
      "Verification:\n",
      "Nodes: ['Post', 'User']\n",
      "Edges: ['Created', 'Follows']\n"
     ]
    }
   ],
   "source": [
    "node_types = list(schema.get_nodes().keys())\n",
    "edge_types = list(schema.get_edges().keys())\n",
    "print(\"\\nVerification:\")\n",
    "print(\"Nodes:\", sorted(node_types))\n",
    "print(\"Edges:\", sorted(edge_types))"
   ]
  },
  {
   "cell_type": "code",
   "execution_count": 12,
   "id": "61740b49",
   "metadata": {},
   "outputs": [
    {
     "name": "stdout",
     "output_type": "stream",
     "text": [
      "\n",
      "Verify schemas have exact same content:\n",
      "Schemas have exact same content\n"
     ]
    }
   ],
   "source": [
    "print(\"\\nVerify schemas have exact same content:\")\n",
    "if original_schema == recreated_schema:\n",
    "    print(\"Schemas have exact same content\")\n",
    "else:\n",
    "    print(\"Schemas do not have exact same content\")"
   ]
  },
  {
   "cell_type": "code",
   "execution_count": 13,
   "id": "8da286df",
   "metadata": {},
   "outputs": [],
   "source": [
    "schema.save()"
   ]
  }
 ],
 "metadata": {
  "kernelspec": {
   "display_name": ".venv",
   "language": "python",
   "name": "python3"
  },
  "language_info": {
   "codemirror_mode": {
    "name": "ipython",
    "version": 3
   },
   "file_extension": ".py",
   "mimetype": "text/x-python",
   "name": "python",
   "nbconvert_exporter": "python",
   "pygments_lexer": "ipython3",
   "version": "3.13.5"
  }
 },
 "nbformat": 4,
 "nbformat_minor": 5
}
