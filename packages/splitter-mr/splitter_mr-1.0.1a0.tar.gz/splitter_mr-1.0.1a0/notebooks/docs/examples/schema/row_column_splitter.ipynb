{
 "cells": [
  {
   "cell_type": "markdown",
   "id": "1211354f",
   "metadata": {},
   "source": [
    "# **Example**: Splitting Tabular Data with `RowColumnSplitter`\n",
    "\n",
    "Tabular files such as CSVs, TSVs, or Markdown tables are ubiquitous in business and data workflows, but can become too large for direct LLM ingestion, annotation, or analysis. **SplitterMR [`RowColumnSplitter`](https://andreshere00.github.io/Splitter_MR/api_reference/splitter/#rowcolumnsplitter) provides flexible chunking for tabular data, letting you split tables by rows, columns, or character size—while preserving the structural integrity of each chunk.**\n",
    "\n",
    "![Tabular data example](https://cdn.prod.website-files.com/5ec4696a9b6d337d51632638/66a13775bfe37ea3ea11bbdf_666b29d252001a163f5260a4_65af215b95aef7ce55d2a923_Screenshot%2525202024-01-22%252520at%2525209.13.25%2525E2%252580%2525AFPM.png)\n",
    "\n",
    "## Step 1: Read the Tabular File\n",
    "\n",
    "Let's use the [`VanillaReader`](https://andreshere00.github.io/Splitter_MR/api_reference/reader/#vanillareader) to load a CSV file:"
   ]
  },
  {
   "cell_type": "code",
   "execution_count": 18,
   "id": "a0af9171",
   "metadata": {
    "language": "python"
   },
   "outputs": [
    {
     "name": "stdout",
     "output_type": "stream",
     "text": [
      "text='id,name,amount,Remark\\n1,\"Johnson, Smith, and Jones Co.\",345.33,Pays on time\\n2,\"Sam \"\"Mad Dog\"\" Smith\",993.44,\\n3,Barney & Company,0,\"Great to work with and always pays with cash.\"\\n4,Johnson\\'s Automotive,2344,' document_name='invoices.csv' document_path='https://raw.githubusercontent.com/andreshere00/Splitter_MR/refs/heads/main/data/invoices.csv' document_id='587fd2ce-2a41-4ab2-a9ad-f09ba3db1fe3' conversion_method='txt' reader_method='vanilla' ocr_method=None page_placeholder=None metadata={}\n"
     ]
    }
   ],
   "source": [
    "from splitter_mr.reader import VanillaReader\n",
    "\n",
    "file = \"https://raw.githubusercontent.com/andreshere00/Splitter_MR/refs/heads/main/data/invoices.csv\"\n",
    "reader = VanillaReader()\n",
    "reader_output = reader.read(file)\n",
    "\n",
    "# Print metadata and content\n",
    "print(reader_output)"
   ]
  },
  {
   "cell_type": "markdown",
   "id": "adac2b98",
   "metadata": {},
   "source": [
    "\n",
    "The content file is extracted accessing to the `text` attribute:"
   ]
  },
  {
   "cell_type": "code",
   "execution_count": 19,
   "id": "8b5ffdb1",
   "metadata": {
    "language": "text"
   },
   "outputs": [
    {
     "name": "stdout",
     "output_type": "stream",
     "text": [
      "id,name,amount,Remark\n",
      "1,\"Johnson, Smith, and Jones Co.\",345.33,Pays on time\n",
      "2,\"Sam \"\"Mad Dog\"\" Smith\",993.44,\n",
      "3,Barney & Company,0,\"Great to work with and always pays with cash.\"\n",
      "4,Johnson's Automotive,2344,\n"
     ]
    }
   ],
   "source": [
    "print(reader_output.text)"
   ]
  },
  {
   "cell_type": "markdown",
   "id": "3b08e0b3",
   "metadata": {},
   "source": [
    "\n",
    "Transformed into a markdown table will be:\n",
    "\n",
    "| id   | name   | amount   | Remark   |\n",
    "|------|--------|----------|----------|\n",
    "|    1 | Johnson, Smith, and Jones Co. |   345.33 | Pays on time |\n",
    "|    2 | Sam \"Mad Dog\" Smith |   993.44 |      nan |\n",
    "|    3 | Barney & Company |        0 | Great to work with and always pays with cash. |\n",
    "|    4 | Johnson's Automotive |     2344 |      nan |\n",
    "\n",
    "## Step 2: Split the Table\n",
    "\n",
    "### 2.1. **Split by Character Size (row-wise, preserving full rows)**\n",
    "\n",
    "Split into chunks such that each chunk's markdown table representation stays under a character limit:"
   ]
  },
  {
   "cell_type": "code",
   "execution_count": 20,
   "id": "569bf374",
   "metadata": {
    "language": "python"
   },
   "outputs": [
    {
     "name": "stdout",
     "output_type": "stream",
     "text": [
      "======================================== Chunk 1 ========================================\n",
      "| id   | name   | amount   | Remark   |\n",
      "|------|--------|----------|----------|\n",
      "|    1 | Johnson, Smith, and Jones Co. |   345.33 | Pays on time |\n",
      "|    2 | Sam \"Mad Dog\" Smith |   993.44 |      nan |\n",
      "\n",
      "======================================== Chunk 2 ========================================\n",
      "| id   | name   | amount   | Remark   |\n",
      "|------|--------|----------|----------|\n",
      "|    3 | Barney & Company |        0 | Great to work with and always pays with cash. |\n",
      "\n",
      "======================================== Chunk 3 ========================================\n",
      "| id   | name   | amount   | Remark   |\n",
      "|------|--------|----------|----------|\n",
      "|    4 | Johnson's Automotive |     2344 |      nan |\n",
      "\n"
     ]
    }
   ],
   "source": [
    "from splitter_mr.splitter import RowColumnSplitter\n",
    "\n",
    "splitter = RowColumnSplitter(chunk_size=200)\n",
    "splitter_output = splitter.split(reader_output)\n",
    "\n",
    "for idx, chunk in enumerate(splitter_output.chunks):\n",
    "    print(\"=\" * 40 + f\" Chunk {idx + 1} \" + \"=\" * 40 + \"\\n\" + chunk + \"\\n\")"
   ]
  },
  {
   "cell_type": "markdown",
   "id": "83089e94",
   "metadata": {},
   "source": [
    "\n",
    "**Chunk 1:**\n",
    "\n",
    "| id   | name   | amount   | Remark   |\n",
    "|------|--------|----------|----------|\n",
    "|    1 | Johnson, Smith, and Jones Co. |   345.33 | Pays on time |\n",
    "|    2 | Sam \"Mad Dog\" Smith |   993.44 |      nan |\n",
    "\n",
    "**Chunk 2:**\n",
    "\n",
    "| id   | name   | amount   | Remark   |\n",
    "|------|--------|----------|----------|\n",
    "|    3 | Barney & Company |        0 | Great to work with and always pays with cash. |\n",
    "\n",
    "**Chunk 3:**\n",
    "\n",
    "| id   | name   | amount   | Remark   |\n",
    "|------|--------|----------|----------|\n",
    "|    4 | Johnson's Automotive |     2344 |      nan |\n",
    "\n",
    "Each output chunk is a valid markdown table with the header and as many full rows as will fit the character size. \n",
    "\n",
    "!!! note\n",
    "    No chunk will ever split a row or a column in half.\n",
    "\n",
    "### 2.2. **Split by a Fixed Number of Rows**\n",
    "\n",
    "Set [`num_rows`](https://andreshere00.github.io/Splitter_MR/api_reference/splitter/#rowcolumnsplitter) to split the table into smaller tables, each with a fixed number of rows:"
   ]
  },
  {
   "cell_type": "code",
   "execution_count": 21,
   "id": "f168b06f",
   "metadata": {
    "language": "python"
   },
   "outputs": [
    {
     "name": "stdout",
     "output_type": "stream",
     "text": [
      "======================================== Chunk 1 ========================================\n",
      "|   id | name                          |   amount | Remark       |\n",
      "|-----:|:------------------------------|---------:|:-------------|\n",
      "|    1 | Johnson, Smith, and Jones Co. |   345.33 | Pays on time |\n",
      "|    2 | Sam \"Mad Dog\" Smith           |   993.44 | nan          |\n",
      "\n",
      "======================================== Chunk 2 ========================================\n",
      "|   id | name                 |   amount | Remark                                        |\n",
      "|-----:|:---------------------|---------:|:----------------------------------------------|\n",
      "|    3 | Barney & Company     |        0 | Great to work with and always pays with cash. |\n",
      "|    4 | Johnson's Automotive |     2344 | nan                                           |\n",
      "\n"
     ]
    }
   ],
   "source": [
    "splitter = RowColumnSplitter(num_rows=2)\n",
    "splitter_output = splitter.split(reader_output)\n",
    "\n",
    "for idx, chunk in enumerate(splitter_output.chunks):\n",
    "    print(\"=\" * 40 + f\" Chunk {idx + 1} \" + \"=\" * 40 + \"\\n\" + chunk + \"\\n\")"
   ]
  },
  {
   "cell_type": "markdown",
   "id": "1cd5d2d4",
   "metadata": {},
   "source": [
    "\n",
    "The output will be:\n",
    "\n",
    "**Chunk 1:**\n",
    "\n",
    "|   id | name                          |   amount | Remark       |\n",
    "|-----:|:------------------------------|---------:|:-------------|\n",
    "|    1 | Johnson, Smith, and Jones Co. |   345.33 | Pays on time |\n",
    "|    2 | Sam \"Mad Dog\" Smith           |   993.44 | nan          |\n",
    "\n",
    "**Chunk 2:**\n",
    "\n",
    "|   id | name                 |   amount | Remark                                        |\n",
    "|-----:|:---------------------|---------:|:----------------------------------------------|\n",
    "|    3 | Barney & Company     |        0 | Great to work with and always pays with cash. |\n",
    "|    4 | Johnson's Automotive |     2344 | nan                                           |\n",
    "\n",
    "### 2.3. **Split by a Fixed Number of Columns**\n",
    "\n",
    "Set [`num_cols`](https://andreshere00.github.io/Splitter_MR/api_reference/splitter/#rowcolumnsplitter) to split the table into column groups, each containing a fixed set of columns (e.g., for wide tables):"
   ]
  },
  {
   "cell_type": "code",
   "execution_count": 22,
   "id": "fea59177",
   "metadata": {
    "language": "python"
   },
   "outputs": [
    {
     "name": "stdout",
     "output_type": "stream",
     "text": [
      "======================================== Chunk 1 ========================================\n",
      "[['id', 1, 2, 3, 4], ['name', 'Johnson, Smith, and Jones Co.', 'Sam \"Mad Dog\" Smith', 'Barney & Company', \"Johnson's Automotive\"]]\n",
      "\n",
      "======================================== Chunk 2 ========================================\n",
      "[['amount', 345.33, 993.44, 0.0, 2344.0], ['Remark', 'Pays on time', nan, 'Great to work with and always pays with cash.', nan]]\n",
      "\n"
     ]
    }
   ],
   "source": [
    "splitter = RowColumnSplitter(num_cols=2)\n",
    "splitter_output = splitter.split(reader_output)\n",
    "\n",
    "for idx, chunk in enumerate(splitter_output.chunks):\n",
    "    print(\"=\" * 40 + f\" Chunk {idx + 1} \" + \"=\" * 40 + \"\\n\" + chunk + \"\\n\")"
   ]
  },
  {
   "cell_type": "markdown",
   "id": "5cff8b28",
   "metadata": {},
   "source": [
    "\n",
    "### 2.4. **Add Overlapping Rows/Columns**\n",
    "\n",
    "Use [`chunk_overlap`](https://andreshere00.github.io/Splitter_MR/api_reference/splitter/#rowcolumnsplitter) (int or float between 0 and 1) to specify how many rows or columns are repeated between consecutive chunks for context preservation:"
   ]
  },
  {
   "cell_type": "code",
   "execution_count": 23,
   "id": "54862610",
   "metadata": {
    "language": "python"
   },
   "outputs": [
    {
     "name": "stdout",
     "output_type": "stream",
     "text": [
      "======================================== Chunk 1 ========================================\n",
      "| id   | name   | amount   | Remark   |\n",
      "|------|--------|----------|----------|\n",
      "|    1 | Johnson, Smith, and Jones Co. |   345.33 | Pays on time |\n",
      "\n",
      "======================================== Chunk 2 ========================================\n",
      "| id   | name   | amount   | Remark   |\n",
      "|------|--------|----------|----------|\n",
      "|    2 | Sam \"Mad Dog\" Smith |   993.44 |      nan |\n",
      "\n",
      "======================================== Chunk 3 ========================================\n",
      "| id   | name   | amount   | Remark   |\n",
      "|------|--------|----------|----------|\n",
      "\n",
      "\n",
      "======================================== Chunk 4 ========================================\n",
      "| id   | name   | amount   | Remark   |\n",
      "|------|--------|----------|----------|\n",
      "|    4 | Johnson's Automotive |     2344 |      nan |\n",
      "\n"
     ]
    }
   ],
   "source": [
    "splitter = RowColumnSplitter(chunk_size=150, chunk_overlap=0.2)\n",
    "splitter_output = splitter.split(reader_output)\n",
    "\n",
    "for idx, chunk in enumerate(splitter_output.chunks):\n",
    "    print(\"=\" * 40 + f\" Chunk {idx + 1} \" + \"=\" * 40 + \"\\n\" + chunk + \"\\n\")"
   ]
  },
  {
   "cell_type": "markdown",
   "id": "56b2ed42",
   "metadata": {},
   "source": [
    "\n",
    "The output is a table with an overlapping row column:\n",
    "\n",
    "**Chunk 1:**\n",
    "\n",
    "| id   | name   | amount   | Remark   |\n",
    "|------|--------|----------|----------|\n",
    "|    1 | Johnson, Smith, and Jones Co. |   345.33 | Pays on time |\n",
    "|    2 | Sam \"Mad Dog\" Smith |   993.44 |      nan |\n",
    "|    3 | Barney & Company |        0 | Great to work with and always pays with cash. |\n",
    "\n",
    "**Chunk 2:**\n",
    "\n",
    "| id   | name   | amount   | Remark   |\n",
    "|------|--------|----------|----------|\n",
    "|    3 | Barney & Company |        0 | Great to work with and always pays with cash. |\n",
    "|    4 | Johnson's Automotive |     2344 |      nan |\n",
    "\n",
    "!!! note\n",
    "    `chunk_overlap` parameter can be used by rows or columns.\n",
    "\n",
    "**And that's it!** In this example we have used a CSV files, but we can process other file formats. The compatible file extensions are: `csv`, `tsv`, `md`, `txt` and tabular `json`. Parquet files which are processed as JSON can be processed as well. \n",
    "\n",
    "!!! warning\n",
    "    Setting both `num_rows` and `num_cols` will raise an error.\n",
    "    If `chunk_overlap` is a float, it is interpreted as a percentage (e.g., `0.2` means 20% overlap).\n",
    "\n",
    "### 3. Use cases\n",
    "\n",
    "`RowColumnSplitter` is useful for the following use cases:\n",
    "\n",
    "* For splitting large tabular datasets into LLM-friendly or context-aware chunks.\n",
    "* For preserving row/column integrity in `csv`/`tsv`/`markdown` data.\n",
    "* When you need easy chunking with overlap for annotation, document search, or analysis.\n",
    "\n",
    "## Complete script\n",
    "\n",
    "```python\n",
    "from splitter_mr.reader import VanillaReader\n",
    "from splitter_mr.splitter import RowColumnSplitter\n",
    "\n",
    "file = \"https://raw.githubusercontent.com/andreshere00/Splitter_MR/refs/heads/main/data/invoices.csv\"\n",
    "\n",
    "reader = VanillaReader()\n",
    "reader_output = reader.read(file)\n",
    "\n",
    "# Visualize the ReaderOutput object\n",
    "print(reader_output.model_dump_json(indent=4))\n",
    "\n",
    "# Access to the text content\n",
    "print(reader_output.text)\n",
    "\n",
    "print(\"*\"*20 + \" Split by rows based on chunk size \" + \"*\"*20)\n",
    "\n",
    "splitter = RowColumnSplitter(chunk_size=200)\n",
    "splitter_output = splitter.split(reader_output)\n",
    "\n",
    "print(splitter_output.model_dump_json(indent=4))\n",
    "\n",
    "for idx, chunk in enumerate(splitter_output.chunks):\n",
    "    print(\"=\"*40 + f\" Chunk {idx + 1} \" + \"=\"*40 + \"\\n\" + chunk + \"\\n\")\n",
    "\n",
    "print(\"*\"*20 + \" Split by an specific number of rows \" + \"*\"*20)\n",
    "\n",
    "splitter = RowColumnSplitter(num_rows=2)\n",
    "splitter_output = splitter.split(reader_output)\n",
    "\n",
    "for idx, chunk in enumerate(splitter_output.chunks):\n",
    "    print(\"=\"*40 + f\" Chunk {idx + 1} \" + \"=\"*40 + \"\\n\" + chunk + \"\\n\")\n",
    "\n",
    "print(\"*\"*20 + \" Split by an specific number of columns \" + \"*\"*20)\n",
    "\n",
    "splitter = RowColumnSplitter(num_cols=2)\n",
    "splitter_output = splitter.split(reader_output)\n",
    "\n",
    "for idx, chunk in enumerate(splitter_output.chunks):\n",
    "    print(\"=\"*40 + f\" Chunk {idx + 1} \" + \"=\"*40 + \"\\n\" + chunk + \"\\n\")\n",
    "\n",
    "print(\"*\"*20 + \" Split with overlap \" + \"*\"*20)\n",
    "\n",
    "splitter = RowColumnSplitter(chunk_size=300, chunk_overlap=0.4)\n",
    "splitter_output = splitter.split(reader_output)\n",
    "\n",
    "for idx, chunk in enumerate(splitter_output.chunks):\n",
    "    print(\"=\"*40 + f\" Chunk {idx + 1} \" + \"=\"*40 + \"\\n\" + chunk + \"\\n\")\n",
    "```"
   ]
  }
 ],
 "metadata": {
  "kernelspec": {
   "display_name": "splitter-mr",
   "language": "python",
   "name": "python3"
  },
  "language_info": {
   "codemirror_mode": {
    "name": "ipython",
    "version": 3
   },
   "file_extension": ".py",
   "mimetype": "text/x-python",
   "name": "python",
   "nbconvert_exporter": "python",
   "pygments_lexer": "ipython3",
   "version": "3.12.9"
  },
  "orig_format": "markdown",
  "source_file": "docs/examples/schema/row_column_splitter.md"
 },
 "nbformat": 4,
 "nbformat_minor": 5
}
