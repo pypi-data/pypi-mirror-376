{
 "cells": [
  {
   "cell_type": "markdown",
   "id": "edd8d64d",
   "metadata": {},
   "source": [
    "# **Example**: Splitting JSON Files with `RecursiveJSONSplitter`\n",
    "\n",
    "When working with structured data such as invoices, user records, or any other JSON document, it's often necessary to split the data into manageable chunks for downstream processing, storage, or LLM ingestion. **SplitterMR** provides the [**`RecursiveJSONSplitter`**](https://andreshere00.github.io/Splitter_MR/api_reference/splitter/#recursivejsonsplitter), an splitter which divides a JSON structure into key-based chunks, preserving the hierarchy and content integrity. Let's see how it works!\n",
    "\n",
    "![JSON object](https://www.json.org/img/object.png)\n",
    "\n",
    "---\n",
    "\n",
    "## Step 1: Read the JSON Document\n",
    "\n",
    "First, use the [`VanillaReader`](https://andreshere00.github.io/Splitter_MR/api_reference/reader/#vanillareader) to load the JSON file. You can use other Reader methods as your choice. Note that you can read from an URL, Path or variable."
   ]
  },
  {
   "cell_type": "code",
   "execution_count": 1,
   "id": "52112070",
   "metadata": {
    "language": "python"
   },
   "outputs": [
    {
     "name": "stdout",
     "output_type": "stream",
     "text": [
      "{\n",
      "    \"text\": \"[\\n  {\\n    \\\"id\\\": 1,\\n    \\\"name\\\": \\\"Johnson, Smith, and Jones Co.\\\",\\n    \\\"amount\\\": 345.33,\\n    \\\"Remark\\\": \\\"Pays on time\\\"\\n  },\\n  {\\n    \\\"id\\\": 2,\\n    \\\"name\\\": \\\"Sam \\\\\\\"Mad Dog\\\\\\\" Smith\\\",\\n    \\\"amount\\\": 993.44,\\n    \\\"Remark\\\": \\\"\\\"\\n  },\\n  {\\n    \\\"id\\\": 3,\\n    \\\"name\\\": \\\"Barney & Company\\\",\\n    \\\"amount\\\": 0,\\n    \\\"Remark\\\": \\\"Great to work with\\\\nand always pays with cash.\\\"\\n  },\\n  {\\n    \\\"id\\\": 4,\\n    \\\"name\\\": \\\"Johnson's Automotive\\\",\\n    \\\"amount\\\": 2344,\\n    \\\"Remark\\\": \\\"\\\"\\n  }\\n]\",\n",
      "    \"document_name\": \"invoices.json\",\n",
      "    \"document_path\": \"https://raw.githubusercontent.com/andreshere00/Splitter_MR/refs/heads/main/data/invoices.json\",\n",
      "    \"document_id\": \"aeb021c6-9707-4058-8b3b-73313e50e3c2\",\n",
      "    \"conversion_method\": \"json\",\n",
      "    \"reader_method\": \"vanilla\",\n",
      "    \"ocr_method\": null,\n",
      "    \"page_placeholder\": null,\n",
      "    \"metadata\": {}\n",
      "}\n"
     ]
    }
   ],
   "source": [
    "from splitter_mr.reader import VanillaReader\n",
    "\n",
    "file = \"https://raw.githubusercontent.com/andreshere00/Splitter_MR/refs/heads/main/data/invoices.json\"  # Path to your JSON file\n",
    "reader = VanillaReader()\n",
    "reader_output = reader.read(file)\n",
    "\n",
    "print(reader_output.model_dump_json(indent=4))  # Show metadata and summary"
   ]
  },
  {
   "cell_type": "markdown",
   "id": "eb109edf",
   "metadata": {},
   "source": [
    "\n",
    "Accessing to the text attribute you find the following JSON object:"
   ]
  },
  {
   "cell_type": "code",
   "execution_count": 2,
   "id": "aa2f2372",
   "metadata": {
    "language": "python"
   },
   "outputs": [
    {
     "name": "stdout",
     "output_type": "stream",
     "text": [
      "[\n",
      "  {\n",
      "    \"id\": 1,\n",
      "    \"name\": \"Johnson, Smith, and Jones Co.\",\n",
      "    \"amount\": 345.33,\n",
      "    \"Remark\": \"Pays on time\"\n",
      "  },\n",
      "  {\n",
      "    \"id\": 2,\n",
      "    \"name\": \"Sam \\\"Mad Dog\\\" Smith\",\n",
      "    \"amount\": 993.44,\n",
      "    \"Remark\": \"\"\n",
      "  },\n",
      "  {\n",
      "    \"id\": 3,\n",
      "    \"name\": \"Barney & Company\",\n",
      "    \"amount\": 0,\n",
      "    \"Remark\": \"Great to work with\\nand always pays with cash.\"\n",
      "  },\n",
      "  {\n",
      "    \"id\": 4,\n",
      "    \"name\": \"Johnson's Automotive\",\n",
      "    \"amount\": 2344,\n",
      "    \"Remark\": \"\"\n",
      "  }\n",
      "]\n"
     ]
    }
   ],
   "source": [
    "print(reader_output.text)"
   ]
  },
  {
   "cell_type": "markdown",
   "id": "a579da5f",
   "metadata": {},
   "source": [
    "\n",
    "This is a JSON dataset with some sample invoices.\n",
    "\n",
    "|id |name                         |amount|Remark                                       |\n",
    "|---|-----------------------------|------|---------------------------------------------|\n",
    "|1  |Johnson, Smith, and Jones Co.|345.33|Pays on time                                 |\n",
    "|2  |Sam \"Mad Dog\" Smith          |993.44|                                             |\n",
    "|3  |Barney & Company             |0     |Great to work with and always pays with cash.|\n",
    "|4  |Johnson's Automotive         |2344  |                                             |\n",
    "\n",
    "---\n",
    "\n",
    "## Step 2: Split the JSON Document\n",
    "\n",
    "To split the text, instantiate the [`RecursiveJSONSplitter`](https://andreshere00.github.io/Splitter_MR/api_reference/splitter/#recursivejsonsplitter) and split the loaded JSON content:"
   ]
  },
  {
   "cell_type": "code",
   "execution_count": 3,
   "id": "ddac9880",
   "metadata": {
    "language": "python"
   },
   "outputs": [
    {
     "name": "stdout",
     "output_type": "stream",
     "text": [
      "{\n",
      "    \"chunks\": [\n",
      "        \"{\\\"0\\\": {\\\"id\\\": 1, \\\"name\\\": \\\"Johnson, Smith, and Jones Co.\\\", \\\"amount\\\": 345.33, \\\"Remark\\\": \\\"Pays on time\\\"}}\",\n",
      "        \"{\\\"1\\\": {\\\"id\\\": 2, \\\"name\\\": \\\"Sam \\\\\\\"Mad Dog\\\\\\\" Smith\\\", \\\"amount\\\": 993.44, \\\"Remark\\\": \\\"\\\"}}\",\n",
      "        \"{\\\"2\\\": {\\\"id\\\": 3, \\\"name\\\": \\\"Barney & Company\\\", \\\"amount\\\": 0, \\\"Remark\\\": \\\"Great to work with\\\\nand always pays with cash.\\\"}}\",\n",
      "        \"{\\\"3\\\": {\\\"id\\\": 4, \\\"name\\\": \\\"Johnson's Automotive\\\", \\\"amount\\\": 2344, \\\"Remark\\\": \\\"\\\"}}\"\n",
      "    ],\n",
      "    \"chunk_id\": [\n",
      "        \"0bb576e2-ab1a-4cea-9053-f85e9f170689\",\n",
      "        \"8d501587-c6be-40e3-ab72-ac940e230728\",\n",
      "        \"009c3999-56e7-4166-9d37-f61d1f12db3a\",\n",
      "        \"4bc82b0c-a890-4ec4-959c-d2c9e533f5d2\"\n",
      "    ],\n",
      "    \"document_name\": \"invoices.json\",\n",
      "    \"document_path\": \"https://raw.githubusercontent.com/andreshere00/Splitter_MR/refs/heads/main/data/invoices.json\",\n",
      "    \"document_id\": \"aeb021c6-9707-4058-8b3b-73313e50e3c2\",\n",
      "    \"conversion_method\": \"json\",\n",
      "    \"reader_method\": \"vanilla\",\n",
      "    \"ocr_method\": null,\n",
      "    \"split_method\": \"recursive_json_splitter\",\n",
      "    \"split_params\": {\n",
      "        \"max_chunk_size\": 100,\n",
      "        \"min_chunk_size\": 20\n",
      "    },\n",
      "    \"metadata\": {}\n",
      "}\n"
     ]
    }
   ],
   "source": [
    "from splitter_mr.splitter import RecursiveJSONSplitter\n",
    "\n",
    "splitter = RecursiveJSONSplitter(chunk_size=100, min_chunk_size=20)\n",
    "splitter_output = splitter.split(reader_output)\n",
    "\n",
    "print(splitter_output.model_dump_json(indent=4))  # Show the SplitterOutput object"
   ]
  },
  {
   "cell_type": "markdown",
   "id": "b82a1f94",
   "metadata": {},
   "source": [
    "\n",
    "To inspect every chunk individually, print them as follows:"
   ]
  },
  {
   "cell_type": "code",
   "execution_count": 4,
   "id": "4388f72d",
   "metadata": {
    "language": "python"
   },
   "outputs": [
    {
     "name": "stdout",
     "output_type": "stream",
     "text": [
      "======================================== Chunk 1 ========================================\n",
      "{\n",
      "    \"id\": 1,\n",
      "    \"name\": \"Johnson, Smith, and Jones Co.\",\n",
      "    \"amount\": 345.33,\n",
      "    \"Remark\": \"Pays on time\"\n",
      "}\n",
      "\n",
      "======================================== Chunk 2 ========================================\n",
      "{\n",
      "    \"id\": 2,\n",
      "    \"name\": \"Sam \\\"Mad Dog\\\" Smith\",\n",
      "    \"amount\": 993.44,\n",
      "    \"Remark\": \"\"\n",
      "}\n",
      "\n",
      "======================================== Chunk 3 ========================================\n",
      "{\n",
      "    \"id\": 3,\n",
      "    \"name\": \"Barney & Company\",\n",
      "    \"amount\": 0,\n",
      "    \"Remark\": \"Great to work with\\nand always pays with cash.\"\n",
      "}\n",
      "\n",
      "======================================== Chunk 4 ========================================\n",
      "{\n",
      "    \"id\": 4,\n",
      "    \"name\": \"Johnson's Automotive\",\n",
      "    \"amount\": 2344,\n",
      "    \"Remark\": \"\"\n",
      "}\n",
      "\n"
     ]
    }
   ],
   "source": [
    "import json\n",
    "\n",
    "for i, c in enumerate(splitter_output.chunks, 1):\n",
    "    data = next(iter(json.loads(c).values()))\n",
    "    print(f\"{'=' * 40} Chunk {i} {'=' * 40}\\n{json.dumps(data, indent=4)}\\n\")"
   ]
  },
  {
   "cell_type": "markdown",
   "id": "c1ff9527",
   "metadata": {},
   "source": [
    "\n",
    "In markdown format table:\n",
    "\n",
    "|id |name                         |amount|Remark                                       |\n",
    "|---|-----------------------------|------|---------------------------------------------|\n",
    "|1  |Johnson, Smith, and Jones Co.|345.33|Pays on time                                 |\n",
    "\n",
    "---\n",
    "\n",
    "|id |name                         |amount|Remark                                       |\n",
    "|---|-----------------------------|------|---------------------------------------------|\n",
    "|2  |Sam \"Mad Dog\" Smith          |993.44|                                             |\n",
    "\n",
    "---\n",
    "\n",
    "|id |name                         |amount|Remark                                       |\n",
    "|---|-----------------------------|------|---------------------------------------------|\n",
    "|3  |Barney & Company             |0     |Great to work with and always pays with cash.|\n",
    "\n",
    "---\n",
    "\n",
    "|id |name                         |amount|Remark                                       |\n",
    "|---|-----------------------------|------|---------------------------------------------|\n",
    "|4  |Johnson's Automotive         |2344  |                                             |\n",
    "\n",
    "**And that's it!** As you can see, a chunk for every row in the JSON table has been generated. \n",
    "\n",
    "!!! note \n",
    "    All the objects obtained by the `SplitterOutput` `.chunks` attribute are `dict`. In case that you need to transform it into `str` elements, you need to process them with the instruction `str(chunk[idx])`.\n",
    "\n",
    "---\n",
    "\n",
    "## Complete Script\n",
    "\n",
    "```python\n",
    "import json\n",
    "from splitter_mr.reader import VanillaReader\n",
    "from splitter_mr.splitter import RecursiveJSONSplitter\n",
    "\n",
    "file = \"https://raw.githubusercontent.com/andreshere00/Splitter_MR/refs/heads/main/data/invoices.json\"\n",
    "\n",
    "reader = VanillaReader() # Load a Reader\n",
    "reader_output = reader.read(file) # Read the file\n",
    "\n",
    "print(reader_output) # ReaderOutput object\n",
    "print(reader_output.text) # Visualize the file\n",
    "\n",
    "splitter = RecursiveJSONSplitter(chunk_size = 100, min_chunk_size=20) # Instantiate the Splitter class\n",
    "splitter_output = splitter.split(reader_output) # Split the text\n",
    "\n",
    "print(splitter_output) # SplitterOutput object\n",
    "\n",
    "# Visualize every chunk\n",
    "for i, c in enumerate(splitter_output.chunks, 1):\n",
    "    data = next(iter(json.loads(c).values()))\n",
    "    print(f\"{'='*40} Chunk {i} {'='*40}\\n{json.dumps(data, indent=2)}\\n\")\n",
    "\n",
    "```"
   ]
  },
  {
   "cell_type": "markdown",
   "id": "13bfd925",
   "metadata": {},
   "source": [
    "\n",
    "### References\n",
    "\n",
    "[RecursiveJSONSplitter API (Langchain)](https://python.langchain.com/api_reference/text_splitters/json/langchain_text_splitters.json.RecursiveJsonSplitter.html#langchain_text_splitters.json.RecursiveJsonSplitter)"
   ]
  }
 ],
 "metadata": {
  "kernelspec": {
   "display_name": "splitter-mr",
   "language": "python",
   "name": "python3"
  },
  "language_info": {
   "codemirror_mode": {
    "name": "ipython",
    "version": 3
   },
   "file_extension": ".py",
   "mimetype": "text/x-python",
   "name": "python",
   "nbconvert_exporter": "python",
   "pygments_lexer": "ipython3",
   "version": "3.12.9"
  },
  "orig_format": "markdown",
  "source_file": "docs/examples/schema/json_splitter.md"
 },
 "nbformat": 4,
 "nbformat_minor": 5
}
