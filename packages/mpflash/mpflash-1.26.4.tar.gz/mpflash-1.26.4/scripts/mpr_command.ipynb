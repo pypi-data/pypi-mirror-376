{
 "cells": [
  {
   "cell_type": "markdown",
   "metadata": {},
   "source": [
    "Test mpremote (command) API with some basic commands"
   ]
  },
  {
   "cell_type": "code",
   "execution_count": 1,
   "metadata": {},
   "outputs": [],
   "source": [
    "import argparse  # needed as some of the commands require arguments to be passed\n",
    "\n",
    "import mpremote\n",
    "import mpremote.commands as mprc  # shortcut to the commands module\n",
    "from mpremote.main import State  # state is needed to handle the mpremote state of a device"
   ]
  },
  {
   "cell_type": "code",
   "execution_count": 2,
   "metadata": {},
   "outputs": [
    {
     "name": "stdout",
     "output_type": "stream",
     "text": [
      "COM12 None 0000:0000 Microsoft None\n",
      "COM13 None 0000:0000 Microsoft None\n",
      "COM24 206437A1304E f055:9800 Microsoft None\n",
      "COM31 18:8B:0E:03:1B:54 303a:1001 Microsoft None\n"
     ]
    }
   ],
   "source": [
    "# State hanldes the state of the device - currently mostly serial\n",
    "mcu_1_state = State()\n",
    "mpc.do_resume(mcu_1_state)  # no soft reste at start of session\n",
    "\n",
    "devices = mpc.do_connect(mcu_1_state, argparse.Namespace(device=[\"list\"]))\n",
    "\n",
    "\n",
    "# the output of this is a list of devices that are connected\n",
    "# BUG: the outut is printed to stdout instead of being returned\n",
    "\n",
    "# for an API a function that returns a list of devices would be useful\n",
    "# mpremote.api.get_devices()\n",
    "# something like the below ( )\n",
    "\n",
    "# output = mpc.get_device_list()\n",
    "# print(\"Connected devices:\")\n",
    "# for device in output:\n",
    "#     print(device)"
   ]
  },
  {
   "cell_type": "code",
   "execution_count": 3,
   "metadata": {},
   "outputs": [
    {
     "name": "stdout",
     "output_type": "stream",
     "text": [
      "mcu_1_state.transport.device_name='COM24'\n"
     ]
    }
   ],
   "source": [
    "# connecting to the first device in the list is a bit clumsy as well as it requires the device name 'auto' to be passed as a string\n",
    "#\n",
    "args = argparse.Namespace(device=[\"auto\"])\n",
    "\n",
    "try:\n",
    "    mpc.do_connect(mcu_1_state, args)\n",
    "    # nothing is returned, so unclear if / how it can be determined that a connection attemp succeeded\n",
    "    if mcu_1_state.transport:\n",
    "        print(f\"{mcu_1_state.transport.device_name=}\")\n",
    "except Exception as e:\n",
    "    print(e)\n",
    "\n",
    "# Also unclear how to determine if a connection attempt failed"
   ]
  },
  {
   "cell_type": "code",
   "execution_count": 4,
   "metadata": {},
   "outputs": [
    {
     "name": "stdout",
     "output_type": "stream",
     "text": [
      "<mpremote.main.State object at 0x0000021E90D98D90>\n",
      "mcu_1_state.transport.device_name='COM24'\n",
      "mcu_1_state.transport.mounted=False\n",
      "mcu_1_state.transport.in_raw_repl=False\n",
      "mcu_1_state.transport.serial=Serial<id=0x21e90d3dde0, open=True>(port='COM24', baudrate=115200, bytesize=8, parity='N', stopbits=1, timeout=None, xonxoff=False, rtscts=False, dsrdtr=False)\n"
     ]
    }
   ],
   "source": [
    "print(mcu_1_state)\n",
    "# the state itself does not provide any information about the connection\n",
    "# in order to get information about the connection, the state must be accessed via the transport attribute\n",
    "# however, there it is not clear what attributes can be accessed reliably across all connection types\n",
    "\n",
    "if mcu_1_state.transport:\n",
    "    print(f\"{mcu_1_state.transport.device_name=}\")\n",
    "    print(f\"{mcu_1_state.transport.mounted=}\")\n",
    "    print(f\"{mcu_1_state.transport.in_raw_repl=}\")\n",
    "    print(f\"{mcu_1_state.transport.serial=}\")\n",
    "else:\n",
    "    print(\"No connection\")\n",
    "\n",
    "# it would make sense to reflect some of the transport's attributes in the state itself\n",
    "# e.g.\n",
    "# mpremote.state.connected\n",
    "# mpremote.state.device_name\n",
    "\n",
    "\n",
    "#     @property\n",
    "#     def device_name(self) -> str:\n",
    "#         return \"\" if not self.transport else self.transport.device_name"
   ]
  },
  {
   "cell_type": "code",
   "execution_count": 5,
   "metadata": {},
   "outputs": [],
   "source": [
    "# mcu_1_state.device_name"
   ]
  },
  {
   "cell_type": "code",
   "execution_count": 6,
   "metadata": {},
   "outputs": [
    {
     "name": "stdout",
     "output_type": "stream",
     "text": [
      "<class 'mpremote.commands.CommandError'> failed to access COM24 (it may be in use by another program)\n"
     ]
    }
   ],
   "source": [
    "# try to create a 2nd connection to the same device - tis should raise an error on Windows (but not on Linux)\n",
    "\n",
    "mcu_2_state = mpremote.main.State()\n",
    "mpc.do_resume(mcu_2_state)  # no soft reste at start of session\n",
    "\n",
    "# args = argparse.Namespace(device=[\"port:COM6\"])\n",
    "args = argparse.Namespace(device=[mcu_1_state.transport.device_name])\n",
    "\n",
    "try:\n",
    "    mpc.do_connect(mcu_2_state, args)\n",
    "# except (mpc.TransportError, mpc.CommandError) as e:\n",
    "except mpc.CommandError as e:\n",
    "    print(type(e), e)\n",
    "\n",
    "# I would expect a transport error, but instead a command error is raised"
   ]
  },
  {
   "cell_type": "code",
   "execution_count": 7,
   "metadata": {},
   "outputs": [],
   "source": [
    "# discnnect MCU1\n",
    "mpc.do_disconnect(mcu_1_state)"
   ]
  },
  {
   "cell_type": "code",
   "execution_count": 10,
   "metadata": {},
   "outputs": [
    {
     "name": "stdout",
     "output_type": "stream",
     "text": [
      "Connection succeeded\n",
      "mcu_2_state.transport.device_name='COM24'\n"
     ]
    }
   ],
   "source": [
    "try:\n",
    "    mpc.do_connect(mcu_2_state, args)\n",
    "    print(\"Connection succeeded\")\n",
    "    if mcu_2_state.transport:\n",
    "        print(f\"{mcu_2_state.transport.device_name=}\")\n",
    "# except (mpc.TransportError, mpc.CommandError) as e:\n",
    "except mpc.CommandError as e:\n",
    "    print(type(e), e)"
   ]
  },
  {
   "cell_type": "code",
   "execution_count": 11,
   "metadata": {},
   "outputs": [],
   "source": [
    "mpc.do_resume(mcu_2_state)"
   ]
  },
  {
   "cell_type": "code",
   "execution_count": 12,
   "metadata": {},
   "outputs": [],
   "source": [
    "mpc.do_soft_reset(mcu_2_state)\n",
    "# reset runs quite a bit faster than via the cmd line\n",
    "# 22.6 ms ± 120 µs per loop (mean ± std. dev. of 7 runs, 10 loops each)"
   ]
  },
  {
   "cell_type": "code",
   "execution_count": 13,
   "metadata": {},
   "outputs": [
    {
     "name": "stdout",
     "output_type": "stream",
     "text": [
      "(2025, 3, 16, 6, 23, 56, 25, 245)\n"
     ]
    }
   ],
   "source": [
    "# Set and get time works as expected\n",
    "# using the argparse.Namespace(set=True) is a bit verbose to pass just a boolean\n",
    "mpc.do_rtc(mcu_2_state, argparse.Namespace(set=True))\n",
    "mpc.do_rtc(mcu_2_state, argparse.Namespace(set=False))"
   ]
  },
  {
   "cell_type": "code",
   "execution_count": 14,
   "metadata": {},
   "outputs": [],
   "source": [
    "comport = mcu_2_state.transport.device_name\n",
    "# mpc.do_disconnect(mcu_2_state)\n",
    "\n",
    "# expilitly disconnect from COM17\n",
    "mpc.do_disconnect(mcu_2_state, argparse.Namespace(device=[f\"port:{comport}\"]))"
   ]
  },
  {
   "cell_type": "code",
   "execution_count": 32,
   "metadata": {
    "tags": [
     "Bug"
    ]
   },
   "outputs": [
    {
     "name": "stdout",
     "output_type": "stream",
     "text": [
      "Local directory . is mounted at /remote\n"
     ]
    }
   ],
   "source": [
    "mpc.do_mount(mcu_1_state, argparse.Namespace(path=[\".\"], unsafe_links=False))\n",
    "\n",
    "# Mount work as expected,\n",
    "# BUG: but the output is printed to stdout instead of being returned"
   ]
  },
  {
   "cell_type": "code",
   "execution_count": 16,
   "metadata": {},
   "outputs": [
    {
     "name": "stdout",
     "output_type": "stream",
     "text": [
      "ls :/remote\n",
      "           0 board_id.ipynb\n",
      "           0 libusb_flash.ipynb\n",
      "           0 mpr_command.ipynb\n",
      "----------\n",
      "           0 board_id.ipynb\n",
      "           0 libusb_flash.ipynb\n",
      "           0 mpr_command.ipynb\n",
      "----------\n",
      "ls :/\n",
      "           0 flash/\n",
      "           0 sd/\n",
      "           0 remote/\n"
     ]
    }
   ],
   "source": [
    "for verb in [True, False]:\n",
    "    mpc.do_filesystem(mcu_1_state, argparse.Namespace(command=[\"ls\"], path=[\"/remote\"], verbose=verb))\n",
    "    print(\"-\" * 10)\n",
    "\n",
    "mpc.do_filesystem(mcu_1_state, argparse.Namespace(command=[\"ls\"], path=[\"/\"], verbose=True))\n",
    "\n",
    "# BUG: the output is printed to stdout instead of being returned"
   ]
  },
  {
   "cell_type": "code",
   "execution_count": 22,
   "metadata": {},
   "outputs": [
    {
     "name": "stdout",
     "output_type": "stream",
     "text": [
      "{'cpu': 'STM32F405RG', 'build': '389', 'board': 'PYBv1.1 with STM32F405RG', 'family': 'micropython', '_build': 'PYBV11-DP_THREAD', 'ver': 'v1.25.0-preview-389', 'port': 'stm32', 'arch': 'armv7emsp', 'mpy': 'v6.3', 'version': '1.25.0-preview'}\n"
     ]
    }
   ],
   "source": [
    "from pathlib import Path\n",
    "\n",
    "mpc.do_run(mcu_1_state, argparse.Namespace(path=[\"D:\\\\mypython\\\\mpflash\\\\mpflash\\\\mpremoteboard\\\\mpy_fw_info.py\"], follow=True))\n",
    "\n",
    "# mpc.do_run(\n",
    "#     mcu_1_state, argparse.Namespace(path=[Path(\"mpflash/mpremoteboard/mpy_fw_info.py\").absolute()], follow=True)\n",
    "# )\n",
    "\n",
    "\n",
    "# File C:\\develop\\MyPython\\micropython\\tools\\mpremote\\mpremote\\commands.py:397, in _do_execbuffer..stdout_write_bytes(b)\n",
    "#     395 def stdout_write_bytes(b):\n",
    "#     396     b = b.replace(b\"\\x04\", b\"\")\n",
    "# --> 397     sys.stdout.buffer.write(b)\n",
    "#     398     sys.stdout.buffer.flush()\n",
    "\n",
    "# AttributeError: 'OutStream' object has no attribute 'buffer'\n",
    "\n",
    "# BUG: output is printed to stdout instead of being returned"
   ]
  },
  {
   "cell_type": "code",
   "execution_count": 24,
   "metadata": {
    "notebookRunGroups": {
     "groupValue": "2"
    },
    "tags": [
     "Bug"
    ]
   },
   "outputs": [
    {
     "name": "stdout",
     "output_type": "stream",
     "text": [
      "2\n",
      "None\n"
     ]
    }
   ],
   "source": [
    "x = mpc.do_eval(mcu_1_state, argparse.Namespace(expr=[\"1+1\"]))\n",
    "print(x)\n",
    "\n",
    "# bug in do_eval: the output is printed to stdout instead of being returned\n",
    "# File C:\\develop\\MyPython\\micropython\\tools\\mpremote\\mpremote\\commands.py:397, in _do_execbuffer..stdout_write_bytes(b)\n",
    "#     395 def stdout_write_bytes(b):\n",
    "#     396     b = b.replace(b\"\\x04\", b\"\")\n",
    "# --> 397     sys.stdout.buffer.write(b)\n",
    "#     398     sys.stdout.buffer.flush()\n",
    "\n",
    "# AttributeError: 'OutStream' object has no attribute 'buffer'"
   ]
  },
  {
   "cell_type": "code",
   "execution_count": 43,
   "metadata": {},
   "outputs": [],
   "source": [
    "# bit of a different API - this is simpler to use\n",
    "mpc.do_umount(mcu_1_state, path=\"/remote\")"
   ]
  },
  {
   "cell_type": "code",
   "execution_count": null,
   "metadata": {},
   "outputs": [],
   "source": [
    "# mpc.do_edit(mcu_1_state, argparse.Namespace(path=[\"/remote/main.py\"]))"
   ]
  },
  {
   "cell_type": "code",
   "execution_count": 26,
   "metadata": {},
   "outputs": [],
   "source": [
    "# disconnect and reconnect\n",
    "mpc.do_disconnect(mcu_1_state)"
   ]
  },
  {
   "cell_type": "code",
   "execution_count": 27,
   "metadata": {},
   "outputs": [
    {
     "name": "stdout",
     "output_type": "stream",
     "text": [
      "ls :\n",
      "          14 foo.txt\n",
      "           0 folder_1/\n",
      "           0 p1_meter/\n",
      "           0 lib/\n",
      "         628 test.py\n",
      "         104 board_info.toml\n",
      "           0 System Volume Information/\n",
      "      455656 MTCPBWY-v1.gcode\n"
     ]
    }
   ],
   "source": [
    "# %%timeit\n",
    "# 819 ms ± 69.5 ms per loop (mean ± std. dev. of 7 runs, 1 loop each)\n",
    "! mpremote ls"
   ]
  },
  {
   "cell_type": "code",
   "execution_count": null,
   "metadata": {},
   "outputs": [],
   "source": [
    "# %%timeit\n",
    "# 88.3 ms ± 1.42 ms per loop (mean ± std. dev. of 7 runs, 10 loops each)\n",
    "mpc.do_connect(mcu_1_state, argparse.Namespace(device=[\"port:COM6\"]))\n",
    "mpc.do_filesystem(mcu_1_state, argparse.Namespace(command=[\"ls\"], path=[\"/tests\"], verbose=True))"
   ]
  },
  {
   "cell_type": "code",
   "execution_count": null,
   "metadata": {},
   "outputs": [],
   "source": [
    "mpc.do_filesystem_cp(\n",
    "    mcu_1_state,\n",
    "    src=\"C:\\\\develop\\\\MyPython\\\\micropython\\\\tests\\\\basics\\\\0prelim.py\",\n",
    "    dest=\":0prelim.py\",\n",
    "    multiple=False,\n",
    "    check_hash=False,\n",
    ")\n",
    "# works - but no return value - should return 0 or error code\n",
    "\n",
    "mpc.do_filesystem_cp(\n",
    "    mcu_1_state,\n",
    "    src=\"C:\\\\develop\\\\MyPython\\\\micropython\\\\tests\\\\basics\\\\0prelim.py\",\n",
    "    dest=\":0prelim.py\",\n",
    "    multiple=False,\n",
    "    check_hash=True,\n",
    ")\n",
    "# works - but no return value - should return 0 or error code\n",
    "# prints to tdout instead of returning"
   ]
  },
  {
   "cell_type": "code",
   "execution_count": 42,
   "metadata": {},
   "outputs": [
    {
     "ename": "CommandError",
     "evalue": "cp: destination does not exist",
     "output_type": "error",
     "traceback": [
      "\u001b[1;31m---------------------------------------------------------------------------\u001b[0m",
      "\u001b[1;31mCommandError\u001b[0m                              Traceback (most recent call last)",
      "Cell \u001b[1;32mIn[42], line 1\u001b[0m\n\u001b[1;32m----> 1\u001b[0m \u001b[43mmpc\u001b[49m\u001b[38;5;241;43m.\u001b[39;49m\u001b[43mdo_filesystem_recursive_cp\u001b[49m\u001b[43m(\u001b[49m\n\u001b[0;32m      2\u001b[0m \u001b[43m    \u001b[49m\u001b[43mmcu_1_state\u001b[49m\u001b[43m,\u001b[49m\n\u001b[0;32m      3\u001b[0m \u001b[43m    \u001b[49m\u001b[43msrc\u001b[49m\u001b[38;5;241;43m=\u001b[39;49m\u001b[38;5;124;43m\"\u001b[39;49m\u001b[38;5;124;43mD:\u001b[39;49m\u001b[38;5;130;43;01m\\\\\u001b[39;49;00m\u001b[38;5;124;43mmypython\u001b[39;49m\u001b[38;5;130;43;01m\\\\\u001b[39;49;00m\u001b[38;5;124;43mmpflash\u001b[39;49m\u001b[38;5;130;43;01m\\\\\u001b[39;49;00m\u001b[38;5;124;43mscripts\u001b[39;49m\u001b[38;5;124;43m\"\u001b[39;49m\u001b[43m,\u001b[49m\n\u001b[0;32m      4\u001b[0m \u001b[43m    \u001b[49m\u001b[43mdest\u001b[49m\u001b[38;5;241;43m=\u001b[39;49m\u001b[38;5;124;43m\"\u001b[39;49m\u001b[38;5;124;43m:\u001b[39;49m\u001b[38;5;130;43;01m\\\\\u001b[39;49;00m\u001b[38;5;124;43msd\u001b[39;49m\u001b[38;5;124;43m\"\u001b[39;49m\u001b[43m,\u001b[49m\n\u001b[0;32m      5\u001b[0m \u001b[43m    \u001b[49m\u001b[43mmultiple\u001b[49m\u001b[38;5;241;43m=\u001b[39;49m\u001b[38;5;28;43;01mTrue\u001b[39;49;00m\u001b[43m,\u001b[49m\n\u001b[0;32m      6\u001b[0m \u001b[43m    \u001b[49m\u001b[43mcheck_hash\u001b[49m\u001b[38;5;241;43m=\u001b[39;49m\u001b[38;5;28;43;01mTrue\u001b[39;49;00m\u001b[43m,\u001b[49m\n\u001b[0;32m      7\u001b[0m \u001b[43m)\u001b[49m\n",
      "File \u001b[1;32md:\\mypython\\mpflash\\.venv\\Lib\\site-packages\\mpremote\\commands.py:267\u001b[0m, in \u001b[0;36mdo_filesystem_recursive_cp\u001b[1;34m(state, src, dest, multiple, check_hash)\u001b[0m\n\u001b[0;32m    265\u001b[0m \u001b[38;5;66;03m# If no directories were encountered then we must have just had a file.\u001b[39;00m\n\u001b[0;32m    266\u001b[0m \u001b[38;5;28;01mif\u001b[39;00m \u001b[38;5;129;01mnot\u001b[39;00m dirs:\n\u001b[1;32m--> 267\u001b[0m     \u001b[38;5;28;01mreturn\u001b[39;00m \u001b[43mdo_filesystem_cp\u001b[49m\u001b[43m(\u001b[49m\u001b[43mstate\u001b[49m\u001b[43m,\u001b[49m\u001b[43m \u001b[49m\u001b[43msrc\u001b[49m\u001b[43m,\u001b[49m\u001b[43m \u001b[49m\u001b[43mdest\u001b[49m\u001b[43m,\u001b[49m\u001b[43m \u001b[49m\u001b[43mmultiple\u001b[49m\u001b[43m,\u001b[49m\u001b[43m \u001b[49m\u001b[43mcheck_hash\u001b[49m\u001b[43m)\u001b[49m\n\u001b[0;32m    269\u001b[0m \u001b[38;5;28;01mdef\u001b[39;00m\u001b[38;5;250m \u001b[39m\u001b[38;5;21m_mkdir\u001b[39m(a, \u001b[38;5;241m*\u001b[39mb):\n\u001b[0;32m    270\u001b[0m     \u001b[38;5;28;01mtry\u001b[39;00m:\n",
      "File \u001b[1;32md:\\mypython\\mpflash\\.venv\\Lib\\site-packages\\mpremote\\commands.py:147\u001b[0m, in \u001b[0;36mdo_filesystem_cp\u001b[1;34m(state, src, dest, multiple, check_hash)\u001b[0m\n\u001b[0;32m    145\u001b[0m \u001b[38;5;28;01mif\u001b[39;00m multiple:\n\u001b[0;32m    146\u001b[0m     \u001b[38;5;28;01mif\u001b[39;00m \u001b[38;5;129;01mnot\u001b[39;00m dest_exists:\n\u001b[1;32m--> 147\u001b[0m         \u001b[38;5;28;01mraise\u001b[39;00m CommandError(\u001b[38;5;124m\"\u001b[39m\u001b[38;5;124mcp: destination does not exist\u001b[39m\u001b[38;5;124m\"\u001b[39m)\n\u001b[0;32m    148\u001b[0m     \u001b[38;5;28;01mif\u001b[39;00m \u001b[38;5;129;01mnot\u001b[39;00m dest_isdir:\n\u001b[0;32m    149\u001b[0m         \u001b[38;5;28;01mraise\u001b[39;00m CommandError(\u001b[38;5;124m\"\u001b[39m\u001b[38;5;124mcp: destination is not a directory\u001b[39m\u001b[38;5;124m\"\u001b[39m)\n",
      "\u001b[1;31mCommandError\u001b[0m: cp: destination does not exist"
     ]
    }
   ],
   "source": [
    "mpc.do_filesystem_recursive_cp(\n",
    "    mcu_1_state,\n",
    "    src=\"D:\\\\mypython\\\\mpflash\\\\scripts\",\n",
    "    dest=\":\\\\sd\",\n",
    "    multiple=True,\n",
    "    check_hash=True,\n",
    ")"
   ]
  }
 ],
 "metadata": {
  "kernelspec": {
   "display_name": "mpflash-py3.11",
   "language": "python",
   "name": "python3"
  },
  "language_info": {
   "codemirror_mode": {
    "name": "ipython",
    "version": 3
   },
   "file_extension": ".py",
   "mimetype": "text/x-python",
   "name": "python",
   "nbconvert_exporter": "python",
   "pygments_lexer": "ipython3",
   "version": "3.11.9"
  },
  "orig_nbformat": 4
 },
 "nbformat": 4,
 "nbformat_minor": 2
}
