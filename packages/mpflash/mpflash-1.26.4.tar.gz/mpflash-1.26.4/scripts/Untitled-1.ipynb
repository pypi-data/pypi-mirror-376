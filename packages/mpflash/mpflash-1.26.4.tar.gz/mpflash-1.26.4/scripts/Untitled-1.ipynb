{
 "cells": [
  {
   "cell_type": "markdown",
   "metadata": {},
   "source": [
    "quick test to validate if all boards that were found with the old scan , are found with the new scan and are not missing from the database \n",
    "\n",
    "-  load the old data \n",
    "- remove all items that are < v1.18.0\n",
    "- for each row \n",
    "  - check if the long name can be found in the database\n",
    "    - check the version \n",
    "  - check if the short name can be found in the database\n",
    "    - check the version \n",
    "\n",
    ">"
   ]
  },
  {
   "cell_type": "code",
   "execution_count": 4,
   "metadata": {},
   "outputs": [],
   "source": [
    "import sqlite3\n",
    "from mpflash.config import config\n",
    "from mpflash.mpboard_id import read_known_boardinfo\n",
    "from packaging.version import Version\n",
    "\n",
    "\n",
    "candidate_boards = read_known_boardinfo()\n",
    "\n",
    "candidate_boards = [board for board in candidate_boards if Version(board.version) >= Version(\"1.18.0\")]"
   ]
  },
  {
   "cell_type": "code",
   "execution_count": 9,
   "metadata": {},
   "outputs": [
    {
     "name": "stdout",
     "output_type": "stream",
     "text": [
      "SAMD_GENERIC_D21X18 v1.25.0-preview Generic SAMD21J18 with SAMD21J18A from ports\\samd\\boards\\SAMD_GENERIC_D21X18\\mpconfigboard.h not found\n",
      "SAMD_GENERIC_D51X19 v1.25.0-preview Generic SAMD51P19 with SAMD51P19A from ports\\samd\\boards\\SAMD_GENERIC_D51X19\\mpconfigboard.h not found\n",
      "SAMD_GENERIC_D51X20 v1.25.0-preview Generic SAMD51P20 with SAMD51P20A from ports\\samd\\boards\\SAMD_GENERIC_D51X20\\mpconfigboard.h not found\n",
      "ADAFRUIT_NEOKEY_TRINKEY v1.25.0-preview NeoKey Trinkey with SAMD21E18A from ports\\samd\\boards\\ADAFRUIT_NEOKEY_TRINKEY\\mpconfigboard.h not found\n",
      "ADAFRUIT_QTPY_SAMD21 v1.25.0-preview QT Py with SAMD21E18A from ports\\samd\\boards\\ADAFRUIT_QTPY_SAMD21\\mpconfigboard.h not found\n",
      "RPI_PICO2_W v1.25.0-preview Raspberry Pi Pico 2 W from ports\\rp2\\boards\\RPI_PICO2_W\\mpconfigboard.h not found\n",
      "SPARKFUN_IOTNODE_LORAWAN_RP2350 v1.25.0-preview SparkFun IoT Node LoRaWAN from ports\\rp2\\boards\\SPARKFUN_IOTNODE_LORAWAN_RP2350\\mpconfigboard.h not found\n",
      "SPARKFUN_PROMICRO_RP2350 v1.25.0-preview SparkFun Pro Micro RP2350 from ports\\rp2\\boards\\SPARKFUN_PROMICRO_RP2350\\mpconfigboard.h not found\n",
      "SPARKFUN_THINGPLUS_RP2350 v1.25.0-preview SparkFun Thing Plus RP2350 from ports\\rp2\\boards\\SPARKFUN_THINGPLUS_RP2350\\mpconfigboard.h not found\n",
      "WEACT_F411_BLACKPILL v1.25.0-preview WEACT_F411_BLACKPILL with STM32F411CE from ports\\stm32\\boards\\WEACT_F411_BLACKPILL\\mpconfigboard.h not found\n",
      "Missing ['SAMD_GENERIC_D21X18', 'SAMD_GENERIC_D51X19', 'SAMD_GENERIC_D51X20', 'ADAFRUIT_NEOKEY_TRINKEY', 'ADAFRUIT_QTPY_SAMD21', 'RPI_PICO2_W', 'SPARKFUN_IOTNODE_LORAWAN_RP2350', 'SPARKFUN_PROMICRO_RP2350', 'SPARKFUN_THINGPLUS_RP2350', 'WEACT_F411_BLACKPILL'] boards\n"
     ]
    }
   ],
   "source": [
    "from pathlib import Path\n",
    "\n",
    "missing = []\n",
    "\n",
    "with sqlite3.connect(config.db_path) as conn:\n",
    "    conn.row_factory = sqlite3.Row\n",
    "    for board in candidate_boards:\n",
    "        # print(f'Checking {board.description}')\n",
    "        # cursor = conn.execute('SELECT * FROM boards WHERE description = ? AND version = ?', (board.description,board.version))\n",
    "        # cursor = conn.execute('SELECT * FROM boards WHERE description = ?', (board.description,))\n",
    "        qry = f\"SELECT * FROM boards WHERE description in ( '{board.description}' , 'Generic ' || '{board.description}')\"\n",
    "        cursor = conn.execute(qry)\n",
    "        row = cursor.fetchone()\n",
    "        if row:\n",
    "            row = dict(row)\n",
    "            if row[\"version\"] != board.version:\n",
    "                # print(f\"version mismatch: {row['version']} != {board.version}\")\n",
    "                pass\n",
    "        else:\n",
    "            json = Path(\"../micropython\") / board.path.parent / \"board.json\"\n",
    "            if json.exists():\n",
    "                missing.append(board.board_id)\n",
    "                print(f\"{board.board_id} {board.version} {board.description} from {board.path} not found\")\n",
    "            else:\n",
    "                # print(f\"{board.board_id} -no json\")\n",
    "                pass\n",
    "\n",
    "print(f\"Missing {missing} boards\")"
   ]
  },
  {
   "cell_type": "code",
   "execution_count": 1,
   "metadata": {},
   "outputs": [],
   "source": [
    "from mpflash.vendor.board_database import Database\n",
    "from pathlib import Path\n",
    "\n",
    "db = Database(Path(\"../micropython\"))\n",
    "\n",
    "list_of_boards = db.boards"
   ]
  },
  {
   "cell_type": "code",
   "execution_count": 10,
   "metadata": {},
   "outputs": [
    {
     "name": "stdout",
     "output_type": "stream",
     "text": [
      "Board(name='SAMD_GENERIC_D21X18', variants=[], url='', mcu='samd21', product='Generic SAMD21J18', vendor='Microchip', images=['generic_board.jpg'], deploy=['../deploy.md'], port=Port(name='samd'), path='../micropython/ports/samd/boards/SAMD_GENERIC_D21X18')\n",
      "Board(name='SAMD_GENERIC_D51X19', variants=[], url='', mcu='samd51', product='Generic SAMD51P19', vendor='Microchip', images=['generic_board.jpg'], deploy=['../deploy.md'], port=Port(name='samd'), path='../micropython/ports/samd/boards/SAMD_GENERIC_D51X19')\n",
      "Board(name='SAMD_GENERIC_D51X20', variants=[], url='', mcu='samd51', product='Generic SAMD51P20', vendor='Microchip', images=['generic_board.jpg'], deploy=['../deploy.md'], port=Port(name='samd'), path='../micropython/ports/samd/boards/SAMD_GENERIC_D51X20')\n",
      "Board(name='ADAFRUIT_NEOKEY_TRINKEY', variants=[], url='https://www.adafruit.com/product/5020', mcu='samd21', product='NeoKey Trinkey', vendor='Adafruit', images=['neokey_trinkey.jpg'], deploy=['../deploy.md'], port=Port(name='samd'), path='../micropython/ports/samd/boards/ADAFRUIT_NEOKEY_TRINKEY')\n",
      "Board(name='ADAFRUIT_QTPY_SAMD21', variants=[Variant(name='SPIFLASH', text='Support for an external Flash chip')], url='https://www.adafruit.com/product/4600', mcu='samd21', product='QT Py - SAMD21', vendor='Adafruit', images=['qt_py_samd21.jpg'], deploy=['../deploy.md'], port=Port(name='samd'), path='../micropython/ports/samd/boards/ADAFRUIT_QTPY_SAMD21')\n",
      "Board(name='RPI_PICO2_W', variants=[], url='https://www.raspberrypi.com/products/raspberry-pi-pico-2/', mcu='rp2350', product='Pico 2 W', vendor='Raspberry Pi', images=['rp2-pico2-w.jpg'], deploy=['../deploy.md'], port=Port(name='rp2'), path='../micropython/ports/rp2/boards/RPI_PICO2_W')\n",
      "Board(name='SPARKFUN_IOTNODE_LORAWAN_RP2350', variants=[], url='https://www.sparkfun.com/products/26060', mcu='rp2350', product='IoT Node LoRaWAN RP2350', vendor='Sparkfun', images=['26060-IoT-Node-LoRaWAN-Feature-new.jpg'], deploy=['../deploy.md'], port=Port(name='rp2'), path='../micropython/ports/rp2/boards/SPARKFUN_IOTNODE_LORAWAN_RP2350')\n",
      "Board(name='SPARKFUN_PROMICRO_RP2350', variants=[], url='https://www.sparkfun.com/products/24870', mcu='rp2350', product='Pro Micro RP2350', vendor='Sparkfun', images=['DEV-24870-Pro-Micro-RP2350-Feature.jpg'], deploy=['../deploy.md'], port=Port(name='rp2'), path='../micropython/ports/rp2/boards/SPARKFUN_PROMICRO_RP2350')\n",
      "Board(name='SPARKFUN_THINGPLUS_RP2350', variants=[], url='https://www.sparkfun.com/products/25134', mcu='rp2350', product='Thing Plus RP2350', vendor='Sparkfun', images=['25134-Thing-Plus-RP2350-Feature.jpg'], deploy=['../deploy.md'], port=Port(name='rp2'), path='../micropython/ports/rp2/boards/SPARKFUN_THINGPLUS_RP2350')\n",
      "Board(name='WEACT_F411_BLACKPILL', variants=[Variant(name='V13', text='v1.3 board with no SPI Flash'), Variant(name='V13_FLASH_4M', text='v1.3 board with 4MB SPI Flash'), Variant(name='V20_FLASH_4M', text='v2.0 board with 4MB SPI Flash'), Variant(name='V31_FLASH_8M', text='v3.1 board with 8MB SPI Flash'), Variant(name='V31_XTAL_8M', text='v3.1 board with 8MHz crystal')], url='https://github.com/WeActStudio/WeActStudio.MiniSTM32F4x1', mcu='stm32f411', product=\"WeAct F411 'blackpill'. Default variant is v3.1 with no SPI Flash.\", vendor='WeAct Studio', images=['WEACTV20_F411.jpg'], deploy=['../PYBV10/deploy.md'], port=Port(name='stm32'), path='../micropython/ports/stm32/boards/WEACT_F411_BLACKPILL')\n"
     ]
    }
   ],
   "source": [
    "for b in missing:\n",
    "    print(db.boards[b])"
   ]
  },
  {
   "cell_type": "code",
   "execution_count": null,
   "metadata": {},
   "outputs": [],
   "source": [
    "db = Database(mpy_dir)\n",
    "shortlist = list(iter_boards(db, version=version))\n",
    "print(f\"boards found {len(db.boards.keys())}\")"
   ]
  }
 ],
 "metadata": {
  "kernelspec": {
   "display_name": ".venv",
   "language": "python",
   "name": "python3"
  },
  "language_info": {
   "codemirror_mode": {
    "name": "ipython",
    "version": 3
   },
   "file_extension": ".py",
   "mimetype": "text/x-python",
   "name": "python",
   "nbconvert_exporter": "python",
   "pygments_lexer": "ipython3",
   "version": "3.11.9"
  }
 },
 "nbformat": 4,
 "nbformat_minor": 2
}
