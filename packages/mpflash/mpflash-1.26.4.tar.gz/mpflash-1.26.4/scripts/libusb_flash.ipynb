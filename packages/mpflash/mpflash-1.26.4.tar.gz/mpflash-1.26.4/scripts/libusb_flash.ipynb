{
 "cells": [
  {
   "cell_type": "code",
   "execution_count": 3,
   "metadata": {},
   "outputs": [
    {
     "data": {
      "text/plain": [
       "[<DEVICE ID 0a05:7211 on Bus 002 Address 054>,\n",
       " <DEVICE ID 0a05:7211 on Bus 002 Address 032>,\n",
       " <DEVICE ID 045e:0c1e on Bus 002 Address 002>,\n",
       " <DEVICE ID 045e:07b2 on Bus 002 Address 028>,\n",
       " <DEVICE ID 045e:0904 on Bus 002 Address 015>,\n",
       " <DEVICE ID 043e:9a39 on Bus 002 Address 057>,\n",
       " <DEVICE ID 045e:0901 on Bus 002 Address 006>,\n",
       " <DEVICE ID 05e3:0610 on Bus 002 Address 010>,\n",
       " <DEVICE ID 2109:0817 on Bus 001 Address 001>,\n",
       " <DEVICE ID 045e:0902 on Bus 002 Address 008>,\n",
       " <DEVICE ID 1000:2000 on Bus 002 Address 016>,\n",
       " <DEVICE ID 1189:8890 on Bus 002 Address 027>,\n",
       " <DEVICE ID 2109:0817 on Bus 001 Address 002>,\n",
       " <DEVICE ID 2109:2812 on Bus 002 Address 025>,\n",
       " <DEVICE ID 046d:085e on Bus 002 Address 017>,\n",
       " <DEVICE ID 045e:07c6 on Bus 002 Address 056>,\n",
       " <DEVICE ID 0bda:5401 on Bus 002 Address 009>,\n",
       " <DEVICE ID 10c4:ea60 on Bus 002 Address 055>,\n",
       " <DEVICE ID 2109:2817 on Bus 002 Address 004>,\n",
       " <DEVICE ID 0bda:5411 on Bus 002 Address 005>,\n",
       " <DEVICE ID 045e:0900 on Bus 002 Address 003>,\n",
       " <DEVICE ID 04e8:61f5 on Bus 002 Address 023>,\n",
       " <DEVICE ID 045e:0903 on Bus 002 Address 020>,\n",
       " <DEVICE ID 2109:2812 on Bus 002 Address 026>,\n",
       " <DEVICE ID 8086:a0ed on Bus 002 Address 000>,\n",
       " <DEVICE ID 2109:2817 on Bus 002 Address 013>,\n",
       " <DEVICE ID 8087:0029 on Bus 002 Address 001>,\n",
       " <DEVICE ID 8086:9a13 on Bus 001 Address 000>]"
      ]
     },
     "execution_count": 3,
     "metadata": {},
     "output_type": "execute_result"
    }
   ],
   "source": [
    "import usb.core\n",
    "import usb.util\n",
    "import usb.backend.libusb1 as libusb1\n",
    "from usb.core import USBError, Device\n",
    "\n",
    "from pathlib import Path\n",
    "import platform\n",
    "\n",
    "if platform.system() == \"Windows\":\n",
    "    # on windows you need to use the libusb1 backend\n",
    "    import libusb\n",
    "\n",
    "    arch = \"x64\" if platform.architecture()[0] == \"64bit\" else \"x86\"\n",
    "    libusb1_dll = Path(libusb.__file__).parent / f\"_platform\\\\_windows\\\\{arch}\\\\libusb-1.0.dll\"\n",
    "\n",
    "    backend = libusb1.get_backend(find_library=lambda x: libusb1_dll.as_posix())\n",
    "usb_devices = usb.core.find(backend=backend, find_all=True)\n",
    "\n",
    "list(usb_devices)"
   ]
  },
  {
   "cell_type": "code",
   "execution_count": null,
   "metadata": {},
   "outputs": [],
   "source": [
    "for d in usb.core.find(backend=backend, find_all=True):\n",
    "    print(f\"Device {d.idVendor:04x}:{d.idProduct:04x}\")\n",
    "    print(f\"{d.iManufacturer=}\")\n",
    "    print(f\"{d.iProduct=}\")\n",
    "    print(f\"{d.bDeviceClass=}\")\n",
    "    print(f\"{d.bDescriptorType=}\")\n",
    "    print(f\"{d.bcdDevice=}\")\n",
    "    print(f\"{d.bcdUSB=}\")\n",
    "    # print(dir(d))\n",
    "    # print(f\"  Manufacturer: {usb.util.get_string(dev, dev.iManufacturer)}\")\n",
    "\n",
    "    print()"
   ]
  },
  {
   "cell_type": "code",
   "execution_count": null,
   "metadata": {},
   "outputs": [],
   "source": [
    "import serial.tools.list_ports\n",
    "\n",
    "ports = serial.tools.list_ports.comports()\n",
    "\n",
    "for port in ports:\n",
    "    print(f\"Port: {port.device}\")\n",
    "    print(f\"Description: {port.description}\")\n",
    "    print(f\"Hardware ID: {port.hwid}\")\n",
    "    print()"
   ]
  },
  {
   "cell_type": "code",
   "execution_count": null,
   "metadata": {},
   "outputs": [],
   "source": [
    "from mpflash.vendor import pydfu as pydfu\n",
    "\n",
    "try:\n",
    "    pydfu.list_dfu_devices()\n",
    "except SystemExit:\n",
    "    print(\"No DFU devices found\")"
   ]
  },
  {
   "cell_type": "code",
   "execution_count": null,
   "metadata": {},
   "outputs": [],
   "source": [
    "pydfu.init()"
   ]
  },
  {
   "cell_type": "code",
   "execution_count": null,
   "metadata": {},
   "outputs": [],
   "source": [
    "dfu_file = Path(\"C:\\\\Users\\\\josverl\\\\Downloads\\\\firmware\\\\stm32\\\\PYBV11-THREAD-v1.23.0-preview.203.dfu\")\n",
    "\n",
    "print(\"Read DFU file...\")\n",
    "elements = pydfu.read_dfu_file(dfu_file)\n",
    "if not elements:\n",
    "    print(\"No data in dfu file\")"
   ]
  },
  {
   "cell_type": "code",
   "execution_count": 1,
   "metadata": {},
   "outputs": [
    {
     "name": "stdout",
     "output_type": "stream",
     "text": [
      "Writing memory...\n"
     ]
    },
    {
     "ename": "NameError",
     "evalue": "name 'pydfu' is not defined",
     "output_type": "error",
     "traceback": [
      "\u001b[1;31m---------------------------------------------------------------------------\u001b[0m",
      "\u001b[1;31mNameError\u001b[0m                                 Traceback (most recent call last)",
      "Cell \u001b[1;32mIn[1], line 2\u001b[0m\n\u001b[0;32m      1\u001b[0m \u001b[38;5;28mprint\u001b[39m(\u001b[38;5;124m\"\u001b[39m\u001b[38;5;124mWriting memory...\u001b[39m\u001b[38;5;124m\"\u001b[39m)\n\u001b[1;32m----> 2\u001b[0m \u001b[43mpydfu\u001b[49m\u001b[38;5;241m.\u001b[39mwrite_elements(elements, \u001b[38;5;28;01mFalse\u001b[39;00m, progress\u001b[38;5;241m=\u001b[39mpydfu\u001b[38;5;241m.\u001b[39mcli_progress)\n",
      "\u001b[1;31mNameError\u001b[0m: name 'pydfu' is not defined"
     ]
    }
   ],
   "source": [
    "print(\"Writing memory...\")\n",
    "pydfu.write_elements(elements, False, progress=pydfu.cli_progress)"
   ]
  },
  {
   "cell_type": "code",
   "execution_count": null,
   "metadata": {},
   "outputs": [],
   "source": [
    "print(\"Exiting DFU...\")\n",
    "pydfu.exit_dfu()"
   ]
  }
 ],
 "metadata": {
  "kernelspec": {
   "display_name": ".venv",
   "language": "python",
   "name": "python3"
  },
  "language_info": {
   "codemirror_mode": {
    "name": "ipython",
    "version": 3
   },
   "file_extension": ".py",
   "mimetype": "text/x-python",
   "name": "python",
   "nbconvert_exporter": "python",
   "pygments_lexer": "ipython3",
   "version": "3.11.7"
  }
 },
 "nbformat": 4,
 "nbformat_minor": 2
}
