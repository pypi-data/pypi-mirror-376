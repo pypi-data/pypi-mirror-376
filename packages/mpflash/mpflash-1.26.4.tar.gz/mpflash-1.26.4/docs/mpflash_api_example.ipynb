{
 "cells": [
  {
   "cell_type": "code",
   "execution_count": 1,
   "metadata": {},
   "outputs": [],
   "source": [
    "import mpflash\n",
    "import logging\n",
    "\n",
    "from mpflash.logger import log, set_loglevel\n",
    "from mpflash.config import config\n",
    "\n",
    "set_loglevel(\"INFO\")\n",
    "config.interactive = False"
   ]
  },
  {
   "cell_type": "markdown",
   "metadata": {},
   "source": [
    "## List the connected MCUs.\n",
    "\n",
    "This will use filters to avoid listing bluetooth devices across the various platforms\n",
    "\n"
   ]
  },
  {
   "cell_type": "code",
   "execution_count": 2,
   "metadata": {},
   "outputs": [
    {
     "data": {
      "application/vnd.jupyter.widget-view+json": {
       "model_id": "c27c25be1fbb4bc79a9d7c09557df112",
       "version_major": 2,
       "version_minor": 0
      },
      "text/plain": [
       "Output()"
      ]
     },
     "metadata": {},
     "output_type": "display_data"
    },
    {
     "data": {
      "text/html": [
       "<pre style=\"white-space:pre;overflow-x:auto;line-height:normal;font-family:Menlo,'DejaVu Sans Mono',consolas,'Courier New',monospace\"></pre>\n"
      ],
      "text/plain": []
     },
     "metadata": {},
     "output_type": "display_data"
    },
    {
     "name": "stdout",
     "output_type": "stream",
     "text": [
      "Connected boards:\n",
      "  RPI_PICO_W: COM17\n",
      "  PYBV11: COM24\n"
     ]
    }
   ],
   "source": [
    "from mpflash.connected import list_mcus\n",
    "from mpflash.list import show_mcus\n",
    "\n",
    "\n",
    "# scan boards and just work with the ones that respond with understandable data\n",
    "connected_mcus = list_mcus(ignore=[], include=[], bluetooth=False)\n",
    "print(\"Connected boards:\")\n",
    "for mcu in connected_mcus:\n",
    "    print(f\"  {mcu.board}: {mcu.serialport}\")"
   ]
  },
  {
   "cell_type": "code",
   "execution_count": 3,
   "metadata": {},
   "outputs": [
    {
     "data": {
      "application/vnd.jupyter.widget-view+json": {
       "model_id": "009bbdd914354007984e984161f70292",
       "version_major": 2,
       "version_minor": 0
      },
      "text/plain": [
       "Output()"
      ]
     },
     "metadata": {},
     "output_type": "display_data"
    },
    {
     "data": {
      "text/html": [
       "<pre style=\"white-space:pre;overflow-x:auto;line-height:normal;font-family:Menlo,'DejaVu Sans Mono',consolas,'Courier New',monospace\"></pre>\n"
      ],
      "text/plain": []
     },
     "metadata": {},
     "output_type": "display_data"
    },
    {
     "data": {
      "text/html": [
       "<pre style=\"white-space:pre;overflow-x:auto;line-height:normal;font-family:Menlo,'DejaVu Sans Mono',consolas,'Courier New',monospace\"><span style=\"color: #800080; text-decoration-color: #800080\">                                           Connected boards                                           </span>\n",
       "┏━━━━━━┳━━━━━━━━━━━┳━━━━━┳━━━━━━━━━━━━━━━━━━━━━━━━━━━━━━━┳━━━━━━━━━┳━━━━━━━━━━━┳━━━━━━━━━━━━━━━┳━━━━━┓\n",
       "┃<span style=\"color: #800080; text-decoration-color: #800080; font-weight: bold\">Serial</span>┃<span style=\"color: #800080; text-decoration-color: #800080; font-weight: bold\">Family     </span>┃<span style=\"color: #800080; text-decoration-color: #800080; font-weight: bold\">Port </span>┃<span style=\"color: #800080; text-decoration-color: #800080; font-weight: bold\">Board                          </span>┃<span style=\"color: #800080; text-decoration-color: #800080; font-weight: bold\">Variant  </span>┃<span style=\"color: #800080; text-decoration-color: #800080; font-weight: bold\">CPU        </span>┃<span style=\"color: #800080; text-decoration-color: #800080; font-weight: bold\">Version        </span>┃<span style=\"color: #800080; text-decoration-color: #800080; font-weight: bold\">Build</span>┃\n",
       "┡━━━━━━╇━━━━━━━━━━━╇━━━━━╇━━━━━━━━━━━━━━━━━━━━━━━━━━━━━━━╇━━━━━━━━━╇━━━━━━━━━━━╇━━━━━━━━━━━━━━━╇━━━━━┩\n",
       "│COM17 │micropython│rp2  │RPI_PICO_W                     │         │RP2040     │v1.25.0-preview│  389│\n",
       "│      │           │     │<span style=\"color: #00ffff; text-decoration-color: #00ffff; font-style: italic\">Raspberry Pi Pico W with RP2040</span>│         │           │               │     │\n",
       "│COM24 │micropython│stm32│PYBV11                         │DP_THREAD│STM32F405RG│v1.25.0-preview│  389│\n",
       "│      │           │     │<span style=\"color: #00ffff; text-decoration-color: #00ffff; font-style: italic\">PYBv1.1 with STM32F405RG</span>       │         │           │               │     │\n",
       "│      │           │     │<span style=\"color: #00ff00; text-decoration-color: #00ff00; font-style: italic\">Blue Norwegian feeder</span>          │         │           │               │     │\n",
       "└──────┴───────────┴─────┴───────────────────────────────┴─────────┴───────────┴───────────────┴─────┘\n",
       "</pre>\n"
      ],
      "text/plain": [
       "\u001b[35m                                           Connected boards                                           \u001b[0m\n",
       "┏━━━━━━┳━━━━━━━━━━━┳━━━━━┳━━━━━━━━━━━━━━━━━━━━━━━━━━━━━━━┳━━━━━━━━━┳━━━━━━━━━━━┳━━━━━━━━━━━━━━━┳━━━━━┓\n",
       "┃\u001b[1;35mSerial\u001b[0m┃\u001b[1;35mFamily     \u001b[0m┃\u001b[1;35mPort \u001b[0m┃\u001b[1;35mBoard                          \u001b[0m┃\u001b[1;35mVariant  \u001b[0m┃\u001b[1;35mCPU        \u001b[0m┃\u001b[1;35mVersion        \u001b[0m┃\u001b[1;35mBuild\u001b[0m┃\n",
       "┡━━━━━━╇━━━━━━━━━━━╇━━━━━╇━━━━━━━━━━━━━━━━━━━━━━━━━━━━━━━╇━━━━━━━━━╇━━━━━━━━━━━╇━━━━━━━━━━━━━━━╇━━━━━┩\n",
       "│COM17 │micropython│rp2  │RPI_PICO_W                     │         │RP2040     │v1.25.0-preview│  389│\n",
       "│      │           │     │\u001b[3;96mRaspberry Pi Pico W with RP2040\u001b[0m│         │           │               │     │\n",
       "│COM24 │micropython│stm32│PYBV11                         │DP_THREAD│STM32F405RG│v1.25.0-preview│  389│\n",
       "│      │           │     │\u001b[3;96mPYBv1.1 with STM32F405RG\u001b[0m       │         │           │               │     │\n",
       "│      │           │     │\u001b[3;92mBlue Norwegian feeder\u001b[0m          │         │           │               │     │\n",
       "└──────┴───────────┴─────┴───────────────────────────────┴─────────┴───────────┴───────────────┴─────┘\n"
      ]
     },
     "metadata": {},
     "output_type": "display_data"
    }
   ],
   "source": [
    "show_mcus(connected_mcus, refresh=True)"
   ]
  },
  {
   "cell_type": "code",
   "execution_count": 4,
   "metadata": {},
   "outputs": [
    {
     "name": "stdout",
     "output_type": "stream",
     "text": [
      "MPRemoteBoard(COM17, micropython rp2, RPI_PICO_W, 1.25.0-preview): \n",
      " - RPI_PICO_W: COM17\n",
      " - ls :\n",
      "MPRemoteBoard(COM24, micropython stm32, PYBV11-DP_THREAD, 1.25.0-preview): \n",
      " - PYBV11: COM24\n",
      " - ls :\n",
      " -           14 foo.txt\n",
      " -            0 folder_1/\n",
      " -            0 p1_meter/\n",
      " -            0 lib/\n",
      " -          628 test.py\n",
      " -          104 board_info.toml\n",
      " -            0 System Volume Information/\n",
      " -       455656 MTCPBWY-v1.gcode\n"
     ]
    }
   ],
   "source": [
    "for mcu in connected_mcus:\n",
    "    # run a mpremote command\n",
    "    print(f\"{mcu}: \")\n",
    "    print(f\" - {mcu.board}: {mcu.serialport}\")\n",
    "    # no_info to only Return the results, rather than log them\n",
    "    result = mcu.run_command(\"ls :\", no_info=True)\n",
    "\n",
    "    # print the result\n",
    "    for l in result[1]:\n",
    "        print(f\" - {l.rstrip()}\")"
   ]
  },
  {
   "cell_type": "code",
   "execution_count": 5,
   "metadata": {},
   "outputs": [
    {
     "data": {
      "text/html": [
       "<pre style=\"white-space:pre;overflow-x:auto;line-height:normal;font-family:Menlo,'DejaVu Sans Mono',consolas,'Courier New',monospace\"><span style=\"color: #008000; text-decoration-color: #008000\">18:18:16</span> | ℹ️ <span style=\"font-weight: bold\">Entering bootloader on COM17 using methods [</span><span style=\"color: #008000; text-decoration-color: #008000; font-weight: bold\">'mpy'</span><span style=\"font-weight: bold\">, </span><span style=\"color: #008000; text-decoration-color: #008000; font-weight: bold\">'touch1200'</span><span style=\"font-weight: bold\">, </span><span style=\"color: #008000; text-decoration-color: #008000; font-weight: bold\">'manual'</span><span style=\"font-weight: bold\">]</span>\n",
       "</pre>\n"
      ],
      "text/plain": [
       "\u001b[32m18:18:16\u001b[0m | ℹ️ \u001b[1mEntering bootloader on COM17 using methods \u001b[0m\u001b[1m[\u001b[0m\u001b[1;32m'mpy'\u001b[0m\u001b[1m, \u001b[0m\u001b[1;32m'touch1200'\u001b[0m\u001b[1m, \u001b[0m\u001b[1;32m'manual'\u001b[0m\u001b[1m]\u001b[0m\n"
      ]
     },
     "metadata": {},
     "output_type": "display_data"
    },
    {
     "data": {
      "text/html": [
       "<pre style=\"white-space:pre;overflow-x:auto;line-height:normal;font-family:Menlo,'DejaVu Sans Mono',consolas,'Courier New',monospace\"><span style=\"color: #008000; text-decoration-color: #008000\">18:18:16</span> | ℹ️ <span style=\"font-weight: bold\">Attempting bootloader on COM17 using </span><span style=\"color: #008000; text-decoration-color: #008000; font-weight: bold\">'mpremote bootloader'</span>\n",
       "</pre>\n"
      ],
      "text/plain": [
       "\u001b[32m18:18:16\u001b[0m | ℹ️ \u001b[1mAttempting bootloader on COM17 using \u001b[0m\u001b[1;32m'mpremote bootloader'\u001b[0m\n"
      ]
     },
     "metadata": {},
     "output_type": "display_data"
    },
    {
     "data": {
      "application/vnd.jupyter.widget-view+json": {
       "model_id": "44d87462e8894e74b445cc9a28bb7d26",
       "version_major": 2,
       "version_minor": 0
      },
      "text/plain": [
       "Output()"
      ]
     },
     "metadata": {},
     "output_type": "display_data"
    },
    {
     "data": {
      "text/html": [
       "<pre style=\"white-space:pre;overflow-x:auto;line-height:normal;font-family:Menlo,'DejaVu Sans Mono',consolas,'Courier New',monospace\"></pre>\n"
      ],
      "text/plain": []
     },
     "metadata": {},
     "output_type": "display_data"
    },
    {
     "data": {
      "application/vnd.jupyter.widget-view+json": {
       "model_id": "faab5eb5f5664f33b70b2be7b29a6a6e",
       "version_major": 2,
       "version_minor": 0
      },
      "text/plain": [
       "Output()"
      ]
     },
     "metadata": {},
     "output_type": "display_data"
    },
    {
     "data": {
      "text/html": [
       "<pre style=\"white-space:pre;overflow-x:auto;line-height:normal;font-family:Menlo,'DejaVu Sans Mono',consolas,'Courier New',monospace\"></pre>\n"
      ],
      "text/plain": []
     },
     "metadata": {},
     "output_type": "display_data"
    },
    {
     "data": {
      "text/html": [
       "<pre style=\"white-space:pre;overflow-x:auto;line-height:normal;font-family:Menlo,'DejaVu Sans Mono',consolas,'Courier New',monospace\"><span style=\"color: #008000; text-decoration-color: #008000\">18:18:18</span> | ℹ️ <span style=\"font-weight: bold\">Board is in bootloader mode</span>\n",
       "</pre>\n"
      ],
      "text/plain": [
       "\u001b[32m18:18:18\u001b[0m | ℹ️ \u001b[1mBoard is in bootloader mode\u001b[0m\n"
      ]
     },
     "metadata": {},
     "output_type": "display_data"
    },
    {
     "data": {
      "text/html": [
       "<pre style=\"white-space:pre;overflow-x:auto;line-height:normal;font-family:Menlo,'DejaVu Sans Mono',consolas,'Courier New',monospace\"><span style=\"color: #008000; text-decoration-color: #008000\">18:18:18</span> | ℹ️ <span style=\"font-weight: bold\">Board ID: RPI-RP2</span>\n",
       "</pre>\n"
      ],
      "text/plain": [
       "\u001b[32m18:18:18\u001b[0m | ℹ️ \u001b[1mBoard ID: RPI-RP2\u001b[0m\n"
      ]
     },
     "metadata": {},
     "output_type": "display_data"
    },
    {
     "data": {
      "text/html": [
       "<pre style=\"white-space:pre;overflow-x:auto;line-height:normal;font-family:Menlo,'DejaVu Sans Mono',consolas,'Courier New',monospace\"><span style=\"color: #008000; text-decoration-color: #008000\">18:18:18</span> | ℹ️ <span style=\"font-weight: bold\">Copying RPI_PICO_W-v1.</span><span style=\"color: #008080; text-decoration-color: #008080; font-weight: bold\">25.0</span><span style=\"font-weight: bold\">-preview.</span><span style=\"color: #008080; text-decoration-color: #008080; font-weight: bold\">389.</span><span style=\"font-weight: bold\">uf2 to G:\\.</span>\n",
       "</pre>\n"
      ],
      "text/plain": [
       "\u001b[32m18:18:18\u001b[0m | ℹ️ \u001b[1mCopying RPI_PICO_W-v1.\u001b[0m\u001b[1;36m25.0\u001b[0m\u001b[1m-preview.\u001b[0m\u001b[1;36m389.\u001b[0m\u001b[1muf2 to G:\\.\u001b[0m\n"
      ]
     },
     "metadata": {},
     "output_type": "display_data"
    },
    {
     "data": {
      "text/html": [
       "<pre style=\"white-space:pre;overflow-x:auto;line-height:normal;font-family:Menlo,'DejaVu Sans Mono',consolas,'Courier New',monospace\"><span style=\"color: #008000; text-decoration-color: #008000\">18:18:30</span> | ✅ <span style=\"color: #008000; text-decoration-color: #008000; font-weight: bold\">Done copying, resetting the board.</span>\n",
       "</pre>\n"
      ],
      "text/plain": [
       "\u001b[32m18:18:30\u001b[0m | ✅ \u001b[1;32mDone copying, resetting the board.\u001b[0m\n"
      ]
     },
     "metadata": {},
     "output_type": "display_data"
    },
    {
     "data": {
      "application/vnd.jupyter.widget-view+json": {
       "model_id": "742504337ef24c929e8ef3fb9449b3e1",
       "version_major": 2,
       "version_minor": 0
      },
      "text/plain": [
       "Output()"
      ]
     },
     "metadata": {},
     "output_type": "display_data"
    },
    {
     "data": {
      "text/html": [
       "<pre style=\"white-space:pre;overflow-x:auto;line-height:normal;font-family:Menlo,'DejaVu Sans Mono',consolas,'Courier New',monospace\"></pre>\n"
      ],
      "text/plain": []
     },
     "metadata": {},
     "output_type": "display_data"
    },
    {
     "name": "stdout",
     "output_type": "stream",
     "text": [
      "  RPI_PICO_W: COM17 -> MPRemoteBoard(COM17, micropython rp2, RPI_PICO_W, 1.25.0-preview)\n"
     ]
    }
   ],
   "source": [
    "from pathlib import Path\n",
    "from turtle import up\n",
    "from mpflash.flash import flash_mcu\n",
    "from mpflash.common import PORT_FWTYPES, BootloaderMethod\n",
    "\n",
    "# flash the first connected mcu\n",
    "mcu = connected_mcus[0]\n",
    "firmware_bin = Path(\"C:\\\\Users\\\\josverl\\\\Downloads\\\\firmware\\\\rp2\\\\RPI_PICO_W-v1.25.0-preview.389.uf2\")\n",
    "# flash the mcu\n",
    "updated = flash_mcu(mcu, fw_file=firmware_bin)\n",
    "\n",
    "if updated:\n",
    "    updated.get_mcu_info()\n",
    "    print(f\"  {mcu.board}: {mcu.serialport} -> {mcu}\")"
   ]
  },
  {
   "cell_type": "code",
   "execution_count": 6,
   "metadata": {},
   "outputs": [
    {
     "name": "stdout",
     "output_type": "stream",
     "text": [
      "  RPI_PICO_W: COM17 -> MPRemoteBoard(COM17, micropython rp2, RPI_PICO_W, 1.25.0-preview)\n"
     ]
    }
   ],
   "source": [
    "print(f\"  {mcu.board}: {mcu.serialport} -> {mcu}\")"
   ]
  },
  {
   "cell_type": "code",
   "execution_count": 7,
   "metadata": {},
   "outputs": [
    {
     "data": {
      "application/vnd.jupyter.widget-view+json": {
       "model_id": "920c9f3554ee49e3b7af8d5048ab5499",
       "version_major": 2,
       "version_minor": 0
      },
      "text/plain": [
       "Output()"
      ]
     },
     "metadata": {},
     "output_type": "display_data"
    },
    {
     "data": {
      "text/html": [
       "<pre style=\"white-space:pre;overflow-x:auto;line-height:normal;font-family:Menlo,'DejaVu Sans Mono',consolas,'Courier New',monospace\"></pre>\n"
      ],
      "text/plain": []
     },
     "metadata": {},
     "output_type": "display_data"
    },
    {
     "data": {
      "application/vnd.jupyter.widget-view+json": {
       "model_id": "35ddd1113aa84c48838d8ab2cb776fef",
       "version_major": 2,
       "version_minor": 0
      },
      "text/plain": [
       "Output()"
      ]
     },
     "metadata": {},
     "output_type": "display_data"
    },
    {
     "data": {
      "text/html": [
       "<pre style=\"white-space:pre;overflow-x:auto;line-height:normal;font-family:Menlo,'DejaVu Sans Mono',consolas,'Courier New',monospace\"></pre>\n"
      ],
      "text/plain": []
     },
     "metadata": {},
     "output_type": "display_data"
    },
    {
     "name": "stdout",
     "output_type": "stream",
     "text": [
      "  PYBV11 @ v1.24.1 | PYBV11-v1.24.1.dfu <-- https://micropython.org/resources/firmware/PYBV11-20241129-v1.24.1.dfu\n",
      "  PYBV11 @ v1.24.1 | PYBV11-DP-v1.24.1.dfu <-- https://micropython.org/resources/firmware/PYBV11-DP-20241129-v1.24.1.dfu\n",
      "  PYBV11 @ v1.24.1 | PYBV11-DP_THREAD-v1.24.1.dfu <-- https://micropython.org/resources/firmware/PYBV11-DP_THREAD-20241129-v1.24.1.dfu\n",
      "  PYBV11 @ v1.24.1 | PYBV11-NETWORK-v1.24.1.dfu <-- https://micropython.org/resources/firmware/PYBV11-NETWORK-20241129-v1.24.1.dfu\n",
      "  PYBV11 @ v1.24.1 | PYBV11-THREAD-v1.24.1.dfu <-- https://micropython.org/resources/firmware/PYBV11-THREAD-20241129-v1.24.1.dfu\n",
      "  PYBV11 @ v1.25.0 | PYBV11-v1.25.0-preview.393.dfu <-- https://micropython.org/resources/firmware/PYBV11-20250317-v1.25.0-preview.393.gf1018ee5c.dfu\n",
      "  PYBV11 @ v1.25.0 | PYBV11-DP-v1.25.0-preview.393.dfu <-- https://micropython.org/resources/firmware/PYBV11-DP-20250317-v1.25.0-preview.393.gf1018ee5c.dfu\n",
      "  PYBV11 @ v1.25.0 | PYBV11-DP_THREAD-v1.25.0-preview.393.dfu <-- https://micropython.org/resources/firmware/PYBV11-DP_THREAD-20250317-v1.25.0-preview.393.gf1018ee5c.dfu\n",
      "  PYBV11 @ v1.25.0 | PYBV11-NETWORK-v1.25.0-preview.393.dfu <-- https://micropython.org/resources/firmware/PYBV11-NETWORK-20250317-v1.25.0-preview.393.gf1018ee5c.dfu\n",
      "  PYBV11 @ v1.25.0 | PYBV11-THREAD-v1.25.0-preview.393.dfu <-- https://micropython.org/resources/firmware/PYBV11-THREAD-20250317-v1.25.0-preview.393.gf1018ee5c.dfu\n"
     ]
    }
   ],
   "source": [
    "from mpflash.download import get_firmware_list, download_firmware_files\n",
    "\n",
    "online = get_firmware_list(ports=[\"rp2\", \"stm32\"], boards=[\"PYBV11\"], versions=[\"stable\", \"preview\"], clean=True)\n",
    "for fw in online:\n",
    "    print(f\"  {fw.board} @ {fw.version} | {fw.filename} <-- {fw.firmware}\")"
   ]
  },
  {
   "cell_type": "code",
   "execution_count": 8,
   "metadata": {},
   "outputs": [
    {
     "data": {
      "text/plain": [
       "(0, 10)"
      ]
     },
     "execution_count": 8,
     "metadata": {},
     "output_type": "execute_result"
    }
   ],
   "source": [
    "from mpflash.config import config\n",
    "\n",
    "download_firmware_files(online, config.firmware_folder, force=False)"
   ]
  }
 ],
 "metadata": {
  "kernelspec": {
   "display_name": ".venv",
   "language": "python",
   "name": "python3"
  },
  "language_info": {
   "codemirror_mode": {
    "name": "ipython",
    "version": 3
   },
   "file_extension": ".py",
   "mimetype": "text/x-python",
   "name": "python",
   "nbconvert_exporter": "python",
   "pygments_lexer": "ipython3",
   "version": "3.11.9"
  }
 },
 "nbformat": 4,
 "nbformat_minor": 2
}
