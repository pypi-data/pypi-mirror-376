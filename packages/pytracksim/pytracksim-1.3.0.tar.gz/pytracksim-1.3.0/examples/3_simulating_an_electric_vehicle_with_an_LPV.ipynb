{
 "cells": [
  {
   "cell_type": "markdown",
   "id": "32dab3fa-3a6f-437f-a545-e7e0f27b0303",
   "metadata": {},
   "source": [
    "# Example 3: Simulating an Electric Vehicle with an LPV Model"
   ]
  },
  {
   "cell_type": "markdown",
   "id": "a3e28d66-4c2f-40d5-9cef-dda7964ede36",
   "metadata": {},
   "source": [
    "This example follows the previous example, but where we instead assume that each cell in the battery pack are modeled as a Linear Parameter-Varying (LPV) model. The model is assmued to follow the structure:\n",
    "\n",
    "$$V_q[k] = -\\sum_{i=1}^n a_i\\big(SOC[k-i], I[k-1]\\big) V_q[k-i] + \\sum_{i=0}^n b_i\\big(SOC[k-i], I[k-i]\\big) V_q[k-i]$$\n",
    "where\n",
    "$$V_q[k] = V_t[k] - OCV[k]$$\n",
    "$$a_i\\big(SOC[k-i], I[k-i]\\big) = \\sum_{j=1}^l a_{ij}\\phi_j\\big(SOC[k-i], I[k-i]\\big)$$\n",
    "$$b_i\\big(SOC[k-i], I[k-i]\\big) = \\sum_{j=1}^l b_{ij}\\phi_j\\big(SOC[k-i], I[k-i]\\big)$$\n",
    "\n",
    "and $\\phi(\\cdot)$ represent a nonlinear basis function. The model order and nonlinearity order are represented by $n$ and $l$, respectively."
   ]
  },
  {
   "cell_type": "code",
   "execution_count": null,
   "id": "c8b89f40-bf86-4218-8769-babbfc3a6a2b",
   "metadata": {},
   "outputs": [],
   "source": [
    "from tracksim.tracksim import Vehicle, Pack\n",
    "from tracksim.vehicle_models import ChevyVoltTuned\n",
    "from tracksim.pack_models import ChevyVoltPack\n",
    "from tracksim.cell_models import load_LPV_2_1 # first order ARX with dynamic parameters\n",
    "\n",
    "cell_model = load_LPV_2_1()\n",
    "\n",
    "print(cell_model)"
   ]
  },
  {
   "cell_type": "markdown",
   "id": "84b17b87-02ba-4147-a576-9bfb9126e7be",
   "metadata": {},
   "source": [
    "Since the nominal capacity of this cell is relatively small, we can increase the dimensions of the battery pack to raise the nominal energy capacity."
   ]
  },
  {
   "cell_type": "code",
   "execution_count": null,
   "id": "172e73da-1569-4493-bd9d-35093b057ce3",
   "metadata": {},
   "outputs": [],
   "source": [
    "pack_model = ChevyVoltPack.copy()\n",
    "\n",
    "pack_model['Number of cells in series'] = 36\n",
    "pack_model['Number of cells in parallel'] = 16"
   ]
  },
  {
   "cell_type": "markdown",
   "id": "48364189-b2e4-4bb4-b2ce-8e6a6237cbbb",
   "metadata": {},
   "source": [
    "The setup and simulation of the vehicle is the same as before."
   ]
  },
  {
   "cell_type": "code",
   "execution_count": null,
   "id": "6e787837-fd19-43db-879c-de0ae8827891",
   "metadata": {},
   "outputs": [],
   "source": [
    "pack = Pack(pack_model, cell_model)\n",
    "vehicle = Vehicle(ChevyVoltTuned, pack)"
   ]
  },
  {
   "cell_type": "code",
   "execution_count": null,
   "id": "501df811-0817-4ea3-9bcc-0e79b9cb9e61",
   "metadata": {},
   "outputs": [],
   "source": [
    "import pandas as pd\n",
    "from tracksim.utils import exp_average\n",
    "\n",
    "# Get trip data\n",
    "\n",
    "trip_file = 'simulated_trip_files/veh0.csv'\n",
    "trip_data = pd.read_csv(trip_file)\n",
    "\n",
    "time = trip_data['Time [s]']\n",
    "time_delta = time[1] - time[0]\n",
    "speed = exp_average(trip_data['Speed [m/s]'], 0.2) # Low-pass filter to make a more realistic speed profile\n",
    "\n",
    "# Set initial battery conditions\n",
    "\n",
    "vehicle.simulate_vehicle(time, speed, time_delta)\n",
    "vehicle.simulate_battery_pack()"
   ]
  },
  {
   "cell_type": "markdown",
   "id": "8ae0d7f0-e248-4db4-a0f7-243eac245f48",
   "metadata": {},
   "source": [
    "We can then retrieve the same vehicle, pack, and cell measurements as in the previous example."
   ]
  },
  {
   "cell_type": "code",
   "execution_count": null,
   "id": "3bd1b4f1-7216-4cfb-b36d-d44457e96970",
   "metadata": {},
   "outputs": [],
   "source": [
    "from tracksim.utils import plot_vehicle_and_battery_data\n",
    "\n",
    "fig, ax = plot_vehicle_and_battery_data(vehicle)"
   ]
  },
  {
   "cell_type": "markdown",
   "id": "905822e5-4fe5-4263-a6ae-39b6c9451cc7",
   "metadata": {},
   "source": [
    "We can also extract the varying LPV parameters. Since the LPV is a 2nd-order model, the available parameters are $a_1$, $a_2$, $b_0$, $b_1$, and $b_2$."
   ]
  },
  {
   "cell_type": "code",
   "execution_count": null,
   "id": "393158ad-d7bc-4436-a33a-20704a319610",
   "metadata": {},
   "outputs": [],
   "source": [
    "a1 = vehicle.pack.simulation_results['Cell 0-0']['a1']\n",
    "a2 = vehicle.pack.simulation_results['Cell 0-0']['a2']\n",
    "b0 = vehicle.pack.simulation_results['Cell 0-0']['b0']\n",
    "b1 = vehicle.pack.simulation_results['Cell 0-0']['b1']\n",
    "b2 = vehicle.pack.simulation_results['Cell 0-0']['b2']\n",
    "\n",
    "fig, ax = plt.subplots(nrows=5)\n",
    "ax[0].plot(a1)\n",
    "ax[0].set_ylabel(r'$a_1$')\n",
    "ax[1].plot(a2)\n",
    "ax[1].set_ylabel(r'$a_2$')\n",
    "ax[2].plot(b0)\n",
    "ax[2].set_ylabel(r'$b_0$')\n",
    "ax[3].plot(b1)\n",
    "ax[3].set_ylabel('$b_1$')\n",
    "ax[4].plot(b2)\n",
    "ax[4].set_ylabel('$b_2$')\n",
    "ax[4].set_xlabel('Time [s]')\n",
    "\n",
    "fig.tight_layout()"
   ]
  }
 ],
 "metadata": {
  "kernelspec": {
   "display_name": "Python 3 (ipykernel)",
   "language": "python",
   "name": "python3"
  },
  "language_info": {
   "codemirror_mode": {
    "name": "ipython",
    "version": 3
   },
   "file_extension": ".py",
   "mimetype": "text/x-python",
   "name": "python",
   "nbconvert_exporter": "python",
   "pygments_lexer": "ipython3",
   "version": "3.12.7"
  }
 },
 "nbformat": 4,
 "nbformat_minor": 5
}
