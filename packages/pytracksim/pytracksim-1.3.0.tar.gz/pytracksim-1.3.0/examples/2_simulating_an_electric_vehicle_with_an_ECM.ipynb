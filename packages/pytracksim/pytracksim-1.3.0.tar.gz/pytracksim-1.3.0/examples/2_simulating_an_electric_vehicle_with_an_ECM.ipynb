{
 "cells": [
  {
   "cell_type": "markdown",
   "id": "8c914d87-1103-4370-9b98-0d3a12dd732f",
   "metadata": {},
   "source": [
    "# Example 2: Simulating an Electric Vehicle with an ECM"
   ]
  },
  {
   "cell_type": "markdown",
   "id": "03cd1398-f59c-4553-b8df-118aa15f9399",
   "metadata": {},
   "source": [
    "In this example, we will perform a full simulation of an electric vehicle based on trip data from the earlier example. It is assumed that the traffic in the last example has been simulated already and that the trip files are stored in a folder named 'simulated_trip_files'."
   ]
  },
  {
   "cell_type": "markdown",
   "id": "812144b2-7975-43ff-a8a9-301c0d6c4fbe",
   "metadata": {},
   "source": [
    "The vehicle and battery pack simulations are handled by the 'Vehicle' and 'Pack' classes."
   ]
  },
  {
   "cell_type": "code",
   "execution_count": null,
   "id": "59928baf-206f-45a3-92f0-ac6f3510a9f4",
   "metadata": {},
   "outputs": [],
   "source": [
    "from tracksim.tracksim import Vehicle, Pack"
   ]
  },
  {
   "cell_type": "markdown",
   "id": "025746b1-99e4-4597-8920-6e1387bb27d8",
   "metadata": {},
   "source": [
    "In order to perform the simulation, we first need to define the type of vehicle, the type of battery pack, and the type of cells within the pack. We will use already defined models available in the package. In this example, we will use a first order Equivalent Circuit Model (ECM) with dynamic parameters to model each cell. The model is represented by the state-space model\n",
    "\n",
    "$$\\rho[k] = \\begin{cases} \\eta, & I[k] > 0 \\\\ 1, & \\text{otherwise} \\end{cases}$$\n",
    "$$SOC[k] = SOC[k-1] + \\frac{\\Delta t}{Q\\cdot3600}\\rho[k-1]I[k-1]$$\n",
    "$$I_{RC}[k] = \\exp\\left\\{\\frac{-\\Delta t}{R_1 C_1}\\right\\}I_{RC}[k-1] + \\left(1-\\exp\\left\\{\\frac{-\\Delta t}{R_1 C_1)}\\right\\}\\right)I[k-1]$$\n",
    "$$V_t[k] = OCV\\left(SOC[k-1]\\right) + R_1 I_{RC}[k] + R_0I[k]$$\n",
    "\n",
    "where $k$ is the sample index $I$ is the load current (assumed to be positive when charging), $V_t$ is the terminal cell voltage, $\\eta$ is the Coulombic efficiency, $\\Delta t$ is the sampling time, $Q$ is the capacity of the cell in Ah, $I_{RC}$ is the diffusion current, and $OCV$ is the $SOC$ dependent open circuit voltage. The resistances and capacitance, $R_0$, $R_1$, and $C_1$, are SOC and Temperature dependent i.e.\n",
    "\n",
    "$$R_0 = R_0(SOC, T), \\quad R_1 = R_1(SOC, T), \\quad C_1 = C_1(SOC, T)$$"
   ]
  },
  {
   "cell_type": "code",
   "execution_count": null,
   "id": "28898017-49dd-47fd-b034-66c76ae938c7",
   "metadata": {},
   "outputs": [],
   "source": [
    "from tracksim.vehicle_models import ChevyVoltTuned\n",
    "from tracksim.pack_models import ChevyVoltPack\n",
    "from tracksim.cell_models import load_Zheng2024 # first order ECM with dynamic parameters\n",
    "\n",
    "vehicle_model = ChevyVoltTuned.copy()\n",
    "pack_model = ChevyVoltPack.copy()\n",
    "cell_model = load_Zheng2024()"
   ]
  },
  {
   "cell_type": "markdown",
   "id": "0741cc1d-1711-4753-9f09-2af332cca889",
   "metadata": {},
   "source": [
    "Each model is stored as a dictionary following a format compatible with TRACKSIM. For example, the cell model holds the following information."
   ]
  },
  {
   "cell_type": "code",
   "execution_count": null,
   "id": "4ef95f65-860b-4ca5-b31f-81becba56f1b",
   "metadata": {
    "scrolled": true
   },
   "outputs": [],
   "source": [
    "print(vehicle_model, '\\n')\n",
    "print(pack_model, '\\n')\n",
    "print(cell_model)"
   ]
  },
  {
   "cell_type": "markdown",
   "id": "685cf1a1-0a58-488d-b883-a7bcf39897e0",
   "metadata": {},
   "source": [
    "If you are curious where these models come from, you can check the reference in the dictionary."
   ]
  },
  {
   "cell_type": "code",
   "execution_count": null,
   "id": "4b24dbbf-ae37-4168-89dd-11ed8482db6f",
   "metadata": {},
   "outputs": [],
   "source": [
    "print(vehicle_model['Reference'])\n",
    "print(pack_model['Reference'])\n",
    "print(cell_model['Reference'])"
   ]
  },
  {
   "cell_type": "markdown",
   "id": "ba4ad781-2963-44b4-b536-a8ee07b44271",
   "metadata": {},
   "source": [
    "Setting up the vehicle and the battery pack with these models is straightforward. First, the pack is defined using the pack and cell models and then the vehicle is configured with the vehicle model and the defined pack."
   ]
  },
  {
   "cell_type": "code",
   "execution_count": null,
   "id": "5f93062e-f877-47c2-aaa3-731fb86bcfca",
   "metadata": {},
   "outputs": [],
   "source": [
    "pack = Pack(pack_model, cell_model)\n",
    "vehicle = Vehicle(vehicle_model, pack)"
   ]
  },
  {
   "cell_type": "markdown",
   "id": "c584b299-ed80-4d04-aa9f-dd53cade538f",
   "metadata": {},
   "source": [
    "That's it! Now we can simulate the vehicle and the battery pack. The full simulation follows 2 steps:\n",
    "\n",
    "1. Simulate the battery power demand based on a desired vehicle speed profile\n",
    "2. Simulate the battery pack based on the power demand profile"
   ]
  },
  {
   "cell_type": "code",
   "execution_count": null,
   "id": "7fbc03f2-c84d-4666-aebb-00a7f2a09f32",
   "metadata": {},
   "outputs": [],
   "source": [
    "import pandas as pd\n",
    "from tracksim.utils import exp_average\n",
    "\n",
    "# Get trip data\n",
    "\n",
    "trip_file = 'simulated_trip_files/veh0.csv'\n",
    "trip_data = pd.read_csv(trip_file)\n",
    "\n",
    "time = trip_data['Time [s]']\n",
    "sample_period = time[1] - time[0]\n",
    "speed = exp_average(trip_data['Speed [m/s]'], 0.4) # Low-pass filter to make a more realistic speed profile\n",
    "\n",
    "# Set initial battery conditions\n",
    "\n",
    "soc_init = 0.8 # Initial State Of Charge (SOC)\n",
    "\n",
    "vehicle.simulate_vehicle(time, speed, sample_period)\n",
    "vehicle.simulate_battery_pack(initial_soc=soc_init)\n"
   ]
  },
  {
   "cell_type": "markdown",
   "id": "e4a657c0-2927-429c-b0e4-a97bfbe7b76c",
   "metadata": {},
   "source": [
    "The simulation results for the vehicle and the battery pack are stored in their own dictionaries. These can be accessed by:"
   ]
  },
  {
   "cell_type": "code",
   "execution_count": null,
   "id": "c0ac453f-adf8-41bc-9ee6-c79ce2c3ac5a",
   "metadata": {
    "scrolled": true
   },
   "outputs": [],
   "source": [
    "print(vehicle.simulation_results,'\\n')\n",
    "print(pack.simulation_results)"
   ]
  },
  {
   "cell_type": "markdown",
   "id": "f51dfa3d-7ef7-4578-b004-bf5bb97e6cc5",
   "metadata": {},
   "source": [
    "Now we can plot some simulation results. First, we might be interested in the vehicle speed, acceleration, and the resulting battery power demand."
   ]
  },
  {
   "cell_type": "code",
   "execution_count": null,
   "id": "14aede8c-7b63-4e05-ab71-9e5268ac0908",
   "metadata": {},
   "outputs": [],
   "source": [
    "import matplotlib.pyplot as plt\n",
    "\n",
    "plt.style.use('seaborn-v0_8-notebook')\n",
    "\n",
    "fig, ax = plt.subplots(nrows=3)\n",
    "ax[0].plot(vehicle.simulation_results['Desired speed [m/s]']*3.6)\n",
    "ax[0].set_ylabel('Speed [km/h]')\n",
    "ax[1].plot(vehicle.simulation_results['Desired acceleration [m/s2]'], label='Desired')\n",
    "ax[1].set_ylabel('Acceleraton [m/s^2]')\n",
    "ax[1].plot(vehicle.simulation_results['Actual acceleration [m/s2]'], linestyle='--', label='Actual')\n",
    "ax[1].legend()\n",
    "ax[2].plot(vehicle.simulation_results['Battery power demand [W]']/1000)\n",
    "ax[2].set_ylabel('Battery Power Demand [kW]')\n",
    "ax[2].set_xlabel('Time [s]')\n",
    "\n",
    "fig.tight_layout()\n"
   ]
  },
  {
   "cell_type": "markdown",
   "id": "f31530d0-9075-490b-8c16-ed5bc279fc18",
   "metadata": {},
   "source": [
    "We can also plot simulation results for the battery pack."
   ]
  },
  {
   "cell_type": "code",
   "execution_count": null,
   "id": "58f343a7-0248-4275-bc4b-3c05ed3f194c",
   "metadata": {},
   "outputs": [],
   "source": [
    "pack.simulation_results['Pack'].keys()"
   ]
  },
  {
   "cell_type": "code",
   "execution_count": null,
   "id": "bd9952a2-94e7-4766-9e6e-3051643b574a",
   "metadata": {},
   "outputs": [],
   "source": [
    "fig, ax = plt.subplots(nrows=3)\n",
    "ax[0].plot(pack.simulation_results['Pack']['Current [A]'])\n",
    "ax[0].set_ylabel('Pack current [A]')\n",
    "ax[1].plot(pack.simulation_results['Pack']['Voltage [V]'])\n",
    "ax[1].set_ylabel('Pack voltage [V]')\n",
    "ax[2].plot(pack.simulation_results['Pack']['Avg SOC']*100)\n",
    "ax[2].set_ylabel('Pack SOC (%)')\n",
    "ax[2].set_xlabel('Time [s]')\n",
    "\n",
    "fig.tight_layout()"
   ]
  },
  {
   "cell_type": "markdown",
   "id": "202dcb31-b0a7-424a-bc0b-11239be93709",
   "metadata": {},
   "source": [
    "We can also extract the current, voltage, and soc for each cell in the battery pack."
   ]
  },
  {
   "cell_type": "code",
   "execution_count": null,
   "id": "ed0312c9-0fc1-4a66-92bc-175b87acb73c",
   "metadata": {},
   "outputs": [],
   "source": [
    "cell_i, cell_j = (0,0) # Cell index\n",
    "\n",
    "fig, ax = plt.subplots(nrows=3)\n",
    "ax[0].plot(pack.simulation_results[f'Cell {cell_i}-{cell_j}']['Current [A]'])\n",
    "ax[0].plot(pack.simulation_results[f'Cell {cell_i}-{cell_j}']['RC1 current [A]'], alpha=0.7, label='RC current')\n",
    "ax[0].legend()\n",
    "ax[0].set_ylabel('Cell current [A]')\n",
    "ax[1].plot(pack.simulation_results[f'Cell {cell_i}-{cell_j}']['Voltage [V]'])\n",
    "ax[1].set_ylabel('Cell voltage [V]')\n",
    "ax[2].plot(pack.simulation_results[f'Cell {cell_i}-{cell_j}']['SOC']*100)\n",
    "ax[2].set_ylabel('Cell SOC (%)')\n",
    "ax[2].set_xlabel('Time [s]')\n",
    "\n",
    "fig.tight_layout()\n"
   ]
  },
  {
   "cell_type": "markdown",
   "id": "29e63a1a-592e-40ea-858c-a60150127bf0",
   "metadata": {},
   "source": [
    "We can also extract the dynamic ECM parameters and see how they vary over time."
   ]
  },
  {
   "cell_type": "code",
   "execution_count": null,
   "id": "37081da0-743b-4db7-9c79-249c63663428",
   "metadata": {},
   "outputs": [],
   "source": [
    "R0 = vehicle.pack.simulation_results['Cell 0-0']['R0 [Ohm]']\n",
    "R1 = vehicle.pack.simulation_results['Cell 0-0']['R1 [Ohm]']\n",
    "C1 = vehicle.pack.simulation_results['Cell 0-0']['C1 [F]']\n",
    "\n",
    "fig, ax = plt.subplots(nrows=3)\n",
    "ax[0].plot(R0*1000)\n",
    "ax[0].set_ylabel(r'R0 (m$\\Omega$)')\n",
    "ax[1].plot(R1*1000)\n",
    "ax[1].set_ylabel(r'R1 (m$\\Omega$)')\n",
    "ax[2].plot(C1/1000)\n",
    "ax[2].set_ylabel('C1 (kF)')\n",
    "ax[2].set_xlabel('Time [s]')\n",
    "\n",
    "fig.tight_layout()"
   ]
  },
  {
   "cell_type": "markdown",
   "id": "10895b53-e835-4d21-a2ce-b7909c2c9980",
   "metadata": {},
   "source": [
    "If you just need a quick overview of the vehicle and battery profiles, you can pass the fully simulated vehicle to the 'plot_vehicle_and_battery_data' function from the 'utils' module."
   ]
  },
  {
   "cell_type": "code",
   "execution_count": null,
   "id": "82aca3c1-11e5-4955-a483-46edf04d9b23",
   "metadata": {},
   "outputs": [],
   "source": [
    "from tracksim.utils import plot_vehicle_and_battery_data\n",
    "\n",
    "fig, ax = plot_vehicle_and_battery_data(vehicle)"
   ]
  }
 ],
 "metadata": {
  "kernelspec": {
   "display_name": "Python 3 (ipykernel)",
   "language": "python",
   "name": "python3"
  },
  "language_info": {
   "codemirror_mode": {
    "name": "ipython",
    "version": 3
   },
   "file_extension": ".py",
   "mimetype": "text/x-python",
   "name": "python",
   "nbconvert_exporter": "python",
   "pygments_lexer": "ipython3",
   "version": "3.12.7"
  }
 },
 "nbformat": 4,
 "nbformat_minor": 5
}
