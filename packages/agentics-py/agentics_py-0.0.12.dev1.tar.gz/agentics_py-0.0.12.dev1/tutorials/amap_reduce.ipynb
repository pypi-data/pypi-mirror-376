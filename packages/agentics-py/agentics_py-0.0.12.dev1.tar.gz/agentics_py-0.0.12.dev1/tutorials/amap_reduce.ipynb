{
 "cells": [
  {
   "cell_type": "markdown",
   "id": "d14bfec4",
   "metadata": {},
   "source": [
    "# aMapReduce Framework\n",
    "\n",
    "Agentics enable scalable execution of LLM workflows by implementing a MapReduce framework which enable the async use of LLM blended with regular python code."
   ]
  },
  {
   "cell_type": "code",
   "execution_count": 1,
   "id": "d2c428a7",
   "metadata": {},
   "outputs": [
    {
     "name": "stdout",
     "output_type": "stream",
     "text": [
      "\u001b[2mUsing Python 3.12.9 environment at: /Users/gliozzo/Code/agentics0.0.6/Agentics/.venv\u001b[0m\n",
      "\u001b[2K\u001b[2mResolved \u001b[1m249 packages\u001b[0m \u001b[2min 36ms\u001b[0m\u001b[0m                                        \u001b[0m\n",
      "\u001b[2mUninstalled \u001b[1m2 packages\u001b[0m \u001b[2min 1ms\u001b[0m\u001b[0m\n",
      "\u001b[2K\u001b[2mInstalled \u001b[1m1 package\u001b[0m \u001b[2min 1ms\u001b[0m\u001b[0m                                  \u001b[0m\n",
      " \u001b[31m-\u001b[39m \u001b[1magentics-py\u001b[0m\u001b[2m==0.0.4.post1.dev0+b2e926b (from file:///Users/gliozzo/Code/agentics0.0.6/Agentics)\u001b[0m\n",
      " \u001b[33m~\u001b[39m \u001b[1magentics-py\u001b[0m\u001b[2m==0.0.10\u001b[0m\n",
      "In Colab: False\n"
     ]
    }
   ],
   "source": [
    "! uv pip install agentics-py\n",
    "\n",
    "\n",
    "import os\n",
    "from pathlib import Path\n",
    "import sys\n",
    "from getpass import getpass\n",
    "\n",
    "from dotenv import find_dotenv, load_dotenv\n",
    "\n",
    "CURRENT_PATH = \"\"\n",
    "\n",
    "IN_COLAB = \"google.colab\" in sys.modules\n",
    "print(\"In Colab:\", IN_COLAB)\n",
    "\n",
    "\n",
    "if IN_COLAB:\n",
    "    CURRENT_PATH = \"/content/drive/MyDrive/\"\n",
    "    # Mount your google drive\n",
    "    load_dotenv(\"/content/drive/MyDrive/.env\")\n",
    "    from google.colab import drive\n",
    "\n",
    "    drive.mount(\"/content/drive\")\n",
    "else:\n",
    "    load_dotenv(find_dotenv())\n",
    "\n",
    "if not os.getenv(\"GEMINI_API_KEY\"):\n",
    "    os.environ[\"GEMINI_API_KEY\"] = getpass(\"Enter your GEMINI_API_KEY:\")\n",
    "\n",
    "base = Path(CURRENT_PATH)"
   ]
  },
  {
   "cell_type": "markdown",
   "id": "90dd4694",
   "metadata": {},
   "source": [
    "Let us first define an aType to represent StockMarket Data for the DowJones index, and populate it with historical data"
   ]
  },
  {
   "cell_type": "code",
   "execution_count": 7,
   "id": "d981012d",
   "metadata": {},
   "outputs": [
    {
     "name": "stderr",
     "output_type": "stream",
     "text": [
      "2025-09-05 09:39:54.462 | DEBUG    | agentics.core.agentics:from_csv:312 - Importing Agentics of type StockMarketState from CSV data/dow_jones.csv\n"
     ]
    }
   ],
   "source": [
    "from agentics import Agentics as AG\n",
    "from typing import Optional\n",
    "from pydantic import BaseModel, Field\n",
    "from datetime import datetime\n",
    "## Define the data model for stock market data\n",
    "\n",
    "\n",
    "class StockMarketState(BaseModel):   \n",
    "    ticker: str = Field(..., description=\"The stock ticker symbol.\")\n",
    "    date: Optional[datetime] = None\n",
    "    open: Optional[float] = Field(None, ge=0)\n",
    "    high: Optional[float] = None\n",
    "    low: Optional[float] = None\n",
    "    daily_range: Optional[float] = Field(None, \n",
    "        description=\"\"\"The difference between the high and low prices for the day.\"\"\")\n",
    "    News: Optional[list[str]] = Field([], \n",
    "        description=\"\"\"A list of news headlines relevant to the stock for the day.\"\"\")\n",
    "    Explanation_report: Optional[str] = Field(None,\n",
    "        description=\"A detailed explanation of the stock market state for the day.\")\n",
    "\n",
    "\n",
    "       \n",
    "    \n",
    "## import the data\n",
    "dj_data = AG.from_csv(base / \"data/dow_jones.csv\", atype=StockMarketState)"
   ]
  },
  {
   "cell_type": "markdown",
   "id": "ca61713d",
   "metadata": {},
   "source": [
    "## Amap\n",
    "\n",
    "Amap functions enable async execution of functions over all the states of an AG. Agentics supports 1:1 maps that maps all states of an AG into states of the same type.\n",
    "\n",
    "In the following example we define a simple function to compute the daily_range of the stock and we pass that to an amap fuction which applies that to all states asyncronously"
   ]
  },
  {
   "cell_type": "code",
   "execution_count": 8,
   "id": "fa1e862d",
   "metadata": {},
   "outputs": [
    {
     "name": "stderr",
     "output_type": "stream",
     "text": [
      "2025-09-05 09:40:58.753 | DEBUG    | agentics.core.agentics:amap:206 - Executing amap on function <function get_daily_variation_percentage at 0x126bb6d40>\n",
      "2025-09-05 09:40:58.756 | DEBUG    | agentics.core.agentics:amap:231 - 100 states processed. 1.6341209411621095e-05 seconds average per state in the last chunk ...\n",
      "2025-09-05 09:40:58.757 | DEBUG    | agentics.core.agentics:amap:231 - 200 states processed. 9.36269760131836e-06 seconds average per state in the last chunk ...\n",
      "2025-09-05 09:40:58.759 | DEBUG    | agentics.core.agentics:amap:231 - 300 states processed. 9.570121765136719e-06 seconds average per state in the last chunk ...\n",
      "2025-09-05 09:40:58.760 | DEBUG    | agentics.core.agentics:amap:231 - 400 states processed. 7.398128509521485e-06 seconds average per state in the last chunk ...\n",
      "2025-09-05 09:40:58.761 | DEBUG    | agentics.core.agentics:amap:231 - 500 states processed. 9.279251098632813e-06 seconds average per state in the last chunk ...\n",
      "2025-09-05 09:40:58.762 | DEBUG    | agentics.core.agentics:amap:231 - 600 states processed. 7.948875427246095e-06 seconds average per state in the last chunk ...\n",
      "2025-09-05 09:40:58.763 | DEBUG    | agentics.core.agentics:amap:231 - 700 states processed. 9.627342224121094e-06 seconds average per state in the last chunk ...\n",
      "2025-09-05 09:40:58.765 | DEBUG    | agentics.core.agentics:amap:231 - 800 states processed. 9.341239929199219e-06 seconds average per state in the last chunk ...\n",
      "2025-09-05 09:40:58.766 | DEBUG    | agentics.core.agentics:amap:231 - 900 states processed. 8.09192657470703e-06 seconds average per state in the last chunk ...\n",
      "2025-09-05 09:40:58.767 | DEBUG    | agentics.core.agentics:amap:231 - 1000 states processed. 9.40084457397461e-06 seconds average per state in the last chunk ...\n",
      "2025-09-05 09:40:58.768 | DEBUG    | agentics.core.agentics:amap:231 - 1100 states processed. 7.87973403930664e-06 seconds average per state in the last chunk ...\n",
      "2025-09-05 09:40:58.769 | DEBUG    | agentics.core.agentics:amap:231 - 1200 states processed. 7.808208465576172e-06 seconds average per state in the last chunk ...\n",
      "2025-09-05 09:40:58.770 | DEBUG    | agentics.core.agentics:amap:231 - 1300 states processed. 6.508827209472656e-06 seconds average per state in the last chunk ...\n",
      "2025-09-05 09:40:58.771 | DEBUG    | agentics.core.agentics:amap:231 - 1400 states processed. 6.580352783203125e-06 seconds average per state in the last chunk ...\n",
      "2025-09-05 09:40:58.772 | DEBUG    | agentics.core.agentics:amap:231 - 1500 states processed. 6.930828094482422e-06 seconds average per state in the last chunk ...\n",
      "2025-09-05 09:40:58.773 | DEBUG    | agentics.core.agentics:amap:231 - 1600 states processed. 7.20977783203125e-06 seconds average per state in the last chunk ...\n",
      "2025-09-05 09:40:58.774 | DEBUG    | agentics.core.agentics:amap:231 - 1700 states processed. 7.181167602539063e-06 seconds average per state in the last chunk ...\n",
      "2025-09-05 09:40:58.775 | DEBUG    | agentics.core.agentics:amap:231 - 1800 states processed. 6.740093231201172e-06 seconds average per state in the last chunk ...\n",
      "2025-09-05 09:40:58.776 | DEBUG    | agentics.core.agentics:amap:231 - 1900 states processed. 7.410049438476562e-06 seconds average per state in the last chunk ...\n",
      "2025-09-05 09:40:58.777 | DEBUG    | agentics.core.agentics:amap:231 - 2000 states processed. 7.157325744628906e-06 seconds average per state in the last chunk ...\n"
     ]
    },
    {
     "name": "stdout",
     "output_type": "stream",
     "text": [
      "Date: 2016-07-01, Daily Range: 0.47703930117312493\n",
      "Date: 2016-06-30, Daily Range: 1.2353831025172834\n",
      "Date: 2016-06-29, Daily Range: 1.423521751672572\n"
     ]
    }
   ],
   "source": [
    "## Note that input and output are both StockMarketState objects\n",
    "async def get_daily_variation_percentage(state: StockMarketState) -> StockMarketState:\n",
    "    state.daily_range = (float(state.High) - float(state.Low)) / float(state.Low) * 100\n",
    "    return state\n",
    "\n",
    "## Apply the function to all states using amap\n",
    "dj_data.batch_size = 100\n",
    "dj_data = await dj_data.amap(get_daily_variation_percentage)\n",
    "\n",
    "for state in dj_data[:3]: \n",
    "    print(f\"Date: {state.Date}, Daily Range: {state.daily_range}\")"
   ]
  },
  {
   "cell_type": "markdown",
   "id": "e0e2bdfd",
   "metadata": {},
   "source": [
    "## aReduce"
   ]
  },
  {
   "cell_type": "markdown",
   "id": "ecb8895e",
   "metadata": {},
   "source": [
    "Reduce functions enable executing operations on the entire list of elements (states) within an Agentics group. Although reduce operations are intrinsically synchronous—since they consider all states at once—they are defined as async functions to allow for internal async calls (such as fetching news or running LLMs).\n",
    "\n",
    "In the following example we will use a reduce function to analyze get the top 10 days with highest variation in the market"
   ]
  },
  {
   "cell_type": "code",
   "execution_count": 9,
   "id": "9b73900d",
   "metadata": {},
   "outputs": [
    {
     "name": "stdout",
     "output_type": "stream",
     "text": [
      "Atype : <class '__main__.StockMarketState'>\n",
      "Date: '2008-10-10'\n",
      "Open: 8568.669922\n",
      "High: 8901.280273\n",
      "Low: 7882.509766\n",
      "Close: 8451.19043\n",
      "Volume: 674920000\n",
      "Adj_Close: null\n",
      "daily_range: 12.924443321266926\n",
      "News: null\n",
      "Explanation_report: null\n",
      "\n",
      "Date: '2008-11-13'\n",
      "Open: 8281.139648\n",
      "High: 8876.589844\n",
      "Low: 7965.419922\n",
      "Close: 8835.25\n",
      "Volume: 476600000\n",
      "Adj_Close: null\n",
      "daily_range: 11.439069514507388\n",
      "News: null\n",
      "Explanation_report: null\n",
      "\n",
      "Date: '2008-10-13'\n",
      "Open: 8462.419922\n",
      "High: 9427.990234\n",
      "Low: 8462.179688\n",
      "Close: 9387.610352\n",
      "Volume: 399290000\n",
      "Adj_Close: null\n",
      "daily_range: 11.413259722782675\n",
      "News: null\n",
      "Explanation_report: null\n",
      "\n",
      "Date: '2008-10-28'\n",
      "Open: 8178.720215\n",
      "High: 9082.080078\n",
      "Low: 8174.72998\n",
      "Close: 9065.120117\n",
      "Volume: 372160000\n",
      "Adj_Close: null\n",
      "daily_range: 11.099450382090795\n",
      "News: null\n",
      "Explanation_report: null\n",
      "\n",
      "Date: '2010-05-06'\n",
      "Open: 10868.120117\n",
      "High: 10879.759766\n",
      "Low: 9869.620117\n",
      "Close: 10520.320312\n",
      "Volume: 459890000\n",
      "Adj_Close: null\n",
      "daily_range: 10.23483819058118\n",
      "News: null\n",
      "Explanation_report: null\n",
      "\n",
      "Date: '2008-10-09'\n",
      "Open: 9261.69043\n",
      "High: 9448.139648\n",
      "Low: 8579.19043\n",
      "Close: 8579.19043\n",
      "Volume: 436740000\n",
      "Adj_Close: null\n",
      "daily_range: 10.12856894936647\n",
      "News: null\n",
      "Explanation_report: null\n",
      "\n",
      "Date: '2008-10-16'\n",
      "Open: 8577.040039\n",
      "High: 9013.269531\n",
      "Low: 8197.669922\n",
      "Close: 8979.259766\n",
      "Volume: 422450000\n",
      "Adj_Close: null\n",
      "daily_range: 9.949163808257087\n",
      "News: null\n",
      "Explanation_report: null\n",
      "\n",
      "Date: '2008-10-15'\n",
      "Open: 9301.910156\n",
      "High: 9308.759766\n",
      "Low: 8530.120117\n",
      "Close: 8577.910156\n",
      "Volume: 374350000\n",
      "Adj_Close: null\n",
      "daily_range: 9.128120569465585\n",
      "News: null\n",
      "Explanation_report: null\n",
      "\n",
      "Date: '2008-11-20'\n",
      "Open: 7995.529785\n",
      "High: 8187.399902\n",
      "Low: 7506.970215\n",
      "Close: 7552.290039\n",
      "Volume: 528130000\n",
      "Adj_Close: null\n",
      "daily_range: 9.06397211541354\n",
      "News: null\n",
      "Explanation_report: null\n",
      "\n",
      "Date: '2008-12-01'\n",
      "Open: 8826.889648\n",
      "High: 8827.049805\n",
      "Low: 8141.359863\n",
      "Close: 8149.089844\n",
      "Volume: 321010000\n",
      "Adj_Close: null\n",
      "daily_range: 8.422302336938241\n",
      "News: null\n",
      "Explanation_report: null\n",
      "\n",
      "\n"
     ]
    }
   ],
   "source": [
    "async def get_highest_volatility_days(states:list[StockMarketState]) -> list[StockMarketState]:\n",
    "    \n",
    "    # sort the states by volatility and return the top 10, define a new AG with these states\n",
    "    return sorted(states, \n",
    "                key=lambda x: abs(x.daily_range) if x.daily_range is not None else 0, \n",
    "                reverse=True)[:10]\n",
    "\n",
    "# apply the reduce function to get the top 10 days with highest volatility\n",
    "highest_volatility_days = await dj_data.areduce(get_highest_volatility_days)\n",
    "print(highest_volatility_days.pretty_print())"
   ]
  },
  {
   "cell_type": "markdown",
   "id": "26496816",
   "metadata": {},
   "source": [
    "## Complex AMAPs\n",
    "\n",
    "aMaps function can contain external API and LLM calls. This way we can use agentics as a scaleout frameworks for complex workflows. "
   ]
  },
  {
   "cell_type": "code",
   "execution_count": 10,
   "id": "7f30733f",
   "metadata": {},
   "outputs": [
    {
     "name": "stderr",
     "output_type": "stream",
     "text": [
      "2025-09-05 09:42:14.165 | DEBUG    | agentics.core.agentics:amap:206 - Executing amap on function <function get_news at 0x120491ee0>\n",
      "2025-09-05 09:42:29.293 | DEBUG    | agentics.core.agentics:amap:231 - 10 states processed. 1.5126305103302002 seconds average per state in the last chunk ...\n"
     ]
    },
    {
     "name": "stdout",
     "output_type": "stream",
     "text": [
      "Date: 2008-10-10, Daily Range: 12.924443321266926, News: [{'title': 'Global financial crisis in October 2008 - Wikipedia', 'href': 'https://en.wikipedia.org/wiki/Global_financial_crisis_in_October_2008', 'body': 'The Dow ended the day losing only 128 points...\n"
     ]
    }
   ],
   "source": [
    "from ddgs import DDGS\n",
    "\n",
    "## Define a function to get news for a given date using the DDGS search engine\n",
    "## Note that the similar functionalities can be implemented using MCP tools in AGs\n",
    "async def get_news(state):\n",
    "    state.News=str(DDGS().text(f\"What happended to the stock market and dow jones on {state.Date}\", max_results=10))\n",
    "    return state    \n",
    "\n",
    "## set the batch size for the amap function to 5 (only 10 states will be processed)\n",
    "highest_volatility_days.batch_size = 10\n",
    "\n",
    "# Now get news for the top 10 days with highest volatility using amap\n",
    "highest_volatility_days = await highest_volatility_days.amap(get_news)\n",
    "\n",
    "# print the first result for brevity\n",
    "print(f\"Date: {highest_volatility_days[0].Date}, Daily Range: {highest_volatility_days[0].daily_range}, News: {highest_volatility_days[0].News[:200]}...\")"
   ]
  },
  {
   "cell_type": "markdown",
   "id": "9cf39b3b",
   "metadata": {},
   "source": [
    "Now let's use self transduction to provide an explanation for the market volatility"
   ]
  },
  {
   "cell_type": "code",
   "execution_count": 11,
   "id": "9ce555e2",
   "metadata": {},
   "outputs": [
    {
     "name": "stderr",
     "output_type": "stream",
     "text": [
      "2025-09-05 09:43:09.659 | DEBUG    | agentics.core.llm_connections:get_llm_provider:29 - No LLM provider specified. Using the first available provider.\n",
      "2025-09-05 09:43:09.659 | DEBUG    | agentics.core.llm_connections:get_llm_provider:31 - Available LLM providers: ['watsonx', 'gemini', 'openai']. Using 'watsonx'\n",
      "2025-09-05 09:43:09.660 | DEBUG    | agentics.core.agentics:__lshift__:518 - Executing task: Explain the reasons why the market went down or up \n",
      "given the high volatility in the stock market on this day based on the news provided. \n",
      "Provide a concise summary.\n",
      "10 states will be transduced\n",
      "2025-09-05 09:43:09.661 | DEBUG    | agentics.core.agentics:__lshift__:612 - transducer class: <class 'agentics.abstractions.pydantic_transducer.PydanticTransducerCrewAI'>\n",
      "2025-09-05 09:43:17.024 | DEBUG    | agentics.core.agentics:__lshift__:648 - Processed 10 states in 7.3627002239227295 seconds\n",
      "2025-09-05 09:43:17.024 | DEBUG    | agentics.core.agentics:__lshift__:700 - 10 states processed in 0.7362700223922729 seconds average per state ...\n"
     ]
    },
    {
     "name": "stdout",
     "output_type": "stream",
     "text": [
      "Date: 2008-10-10, Daily Range: 12.924443321266926\n",
      "Explanation: The market went down on October 10, 2008, due to the global financial crisis. The Dow Jones Industrial Average fell by 7.3% to close at 8,451.19, its lowest level in five years. This decline was part of a larger trend of losses in the stock market, with the Dow having fallen by 18% over the course of the week and 40% from its record high in October 2007. The crisis was triggered by a speculative bubble in the housing market, which led to a surge in defaults on subprime mortgage-backed securities. As a result, banks and other financial institutions suffered significant losses, leading to a credit crunch and a decline in investor confidence. The situation was exacerbated by the collapse of Lehman Brothers and the subsequent bailout of American International Group (AIG). The news articles from the time period, including those from The New York Times, Wikipedia, and CNBC, all point to the same conclusion: the stock market crash of 2008 was caused by a combination of factors, including the housing market bubble, excessive leverage, and a lack of regulation. The consequences of the crash were severe, with $16.4 trillion in net worth wiped out and over $2 trillion in retirement savings lost. The Dow Jones Industrial Average ultimately fell by 54% from its peak in October 2007 to its trough in March 2009....\n",
      "Date: 2008-11-13, Daily Range: 11.439069514507388\n",
      "Explanation: The market went up on this day, as indicated by the 'Close' price of 8835.25 being higher than the 'Open' price of 8281.139648. The high volatility in the stock market on this day can be attributed to the global financial crisis in November 2008. According to the provided news, the Dow Jones Industrial Average dropped 445 points in the last minutes of the trading session on November 20, closing at 7,552, the lowest point in six years. Shares in Citigroup plummeted another 26%, and shares of other major US financial institutions dropped by more than 10%. However, on the specific date of November 13, 2008, the market closed higher, with a daily range of 11.439069514507388. The average closing price for the Dow Jones Industrial Average in November 2008 was $8,614.55, which was down 5.3% for the month....\n",
      "Date: 2008-10-13, Daily Range: 11.413259722782675\n",
      "Explanation: The market went up on October 13, 2008, due to the global financial crisis and the announcement of steps to relieve the economic crisis. The Dow Jones industrial average showed a 400-point leap at the start of trading and closed with a 935-point increase, or 11.1 percent. This significant increase was a result of the market's positive response to the aid provided to banks and the rescue plans implemented to address the financial crisis. The news articles provided confirm that the market was expected to rebound after eight days of precipitous losses, but the extent of the rebound was unexpected. The S&P financial index also shot up 10.23 percent, and the Dow Jones industrial average rose 936.42 points, or 11.08 percent, to 9,387.61. The historic rally on Wall Street was a result of the collective efforts to stabilize the financial markets and restore investor confidence....\n",
      "Date: 2008-10-28, Daily Range: 11.099450382090795\n",
      "Explanation: The market went up on this day, with the Dow Jones Industrial Average gaining 889.35 points (10.88%), rising to 9,065.12, due to a significant stock market recovery. This recovery was likely caused by bargain hunters and the possibility of a Federal rate cut. The global financial crisis in October 2008 had a significant impact on the stock market, with the Dow Jones Industrial Average experiencing a 54% plunge in little under 18 months, from its high of 14,164.43 on October 9, 2007, to 6,443.27 on March 6, 2009. The 2008 stock market crash was caused by a speculative bubble and had a significant effect on the financial system, with a 33.8% drop in the Dow Jones industrials, the worst since 1931. The crash also destroyed $16.4 trillion of American households' net worth and wiped out more than $2 trillion of Americans' retirement savings....\n",
      "Date: 2010-05-06, Daily Range: 10.23483819058118\n",
      "Explanation: The market went down on May 6, 2010, due to a combination of factors, including worries about the debt crisis in Greece and technical errors made by a single trader. The Dow Jones Industrial Average (DJIA) dropped nearly 1,000 points in a matter of minutes, only to recover most of the losses shortly after. This event, known as the 'flash crash,' was characterized by extreme market volatility and a rapid decline in stock prices. The causes of the flash crash were attributed to high-frequency traders, who accounted for over half of all US equity trading at the time, and their aggressive withdrawal from the market, which highly affected market liquidity. The flash crash led to a significant erosion of investor confidence and prompted regulatory changes to prevent similar events in the future. According to various news sources, including Wikipedia, Corporate Finance Institute, and NPR, the flash crash was triggered by a trader's technical errors in entering order amounts, leading to the posting of erroneous trade orders. The event resulted in a loss of nearly $1 trillion in market value, but prices rebounded quickly, recovering most of the losses by 3:07 PM. The flash crash of 2010 was a historic market event that highlighted the importance of market regulation and the need for measures to prevent similar events in the future....\n",
      "Date: 2008-10-09, Daily Range: 10.12856894936647\n",
      "Explanation: The market went down on October 9, 2008, due to the global financial crisis. The Dow Jones Industrial Average fell below 9,000 for the first time in five years, with a loss of 128 points or 1.49%. This was part of a larger decline, with the Dow down 1,874 points or 18% for the week, and 40% down from its record high on October 9, 2007. The crisis was triggered by a speculative bubble, with the biggest single-day crash in Dow Jones history occurring on September 29, 2008, when the U.S. House of Representatives rejected the government's $700 billion bank bailout, resulting in a 777.68-point drop. The 2008 stock market crash destroyed $16.4 trillion of American households' net worth and wiped out more than $2 trillion of Americans' retirement savings. The Dow Jones Industrial Average eventually fell from its high of 14,164.43 on October 9, 2007, to 6,443.27 by March 6, 2009, a 54% plunge in little under 18 months....\n",
      "Date: 2008-10-16, Daily Range: 9.949163808257087\n",
      "Explanation: The market went down on October 16, 2008, due to fear of a severe recession, despite investor relief over the banking system bailout. The Dow Jones Industrial Average plunged 733 points, falling below 10,000 to its lowest level since March 17. This significant drop was a result of the global financial crisis, which was triggered by trouble in the housing and credit markets. The crisis led to a stunning decline in stocks, leaving confidence shattered on both Wall Street and worldwide. The market's volatility was further exacerbated by a series of events, including a global cash infusion designed to unthaw the credit markets, which initially boosted investor sentiment but ultimately proved insufficient to stem the downturn. As the day progressed, the market experienced a bumpy ride, with the Dow Jones Industrial Average fluctuating between positive and negative territory before ultimately closing down nearly 8 percent, its steepest drop since one week after Black Monday....\n",
      "Date: 2008-10-15, Daily Range: 9.128120569465585\n",
      "Explanation: The market went down on October 15, 2008, due to the global financial crisis. The Dow Jones Industrial Average closed down 733.08 points, or 7.87%, to 8,577.91. This was a result of the Bush administration's announcement of a $250 billion investment in nine major US banks as part of a financial stabilization strategy. The Dow's massive drop was also attributed to investors' concerns about the global credit crisis. The 2008 financial crisis had a significant impact on the US economy, with the Dow Jones Industrial Average falling from its high of 14,164.43 on October 9, 2007, to 6,443.27 by March 6, 2009, a 54% plunge in little under 18 months. The crisis destroyed $16.4 trillion of American households' net worth and wiped out more than $2 trillion of Americans' retirement savings....\n",
      "Date: 2008-11-20, Daily Range: 9.06397211541354\n",
      "Explanation: The market went down on November 20, 2008, due to the global financial crisis. The Dow Jones Industrial Average dropped 445 points in the last minutes of the trading session, closing at 7,552, the lowest point in six years. Shares in Citigroup plummeted another 26%, and shares of other major US financial institutions dropped by more than 10%. This was a result of the ongoing financial crisis, which was triggered by the subprime mortgage crisis and led to a significant decline in the stock market. The crisis was characterized by a lack of confidence in the financial system, leading to a decrease in lending and a increase in borrowing costs. The drop in oil prices below $50 a barrel also contributed to the decline in the stock market. The average closing price for the Dow Jones Industrial Average in November 2008 was $8,614.55, which was down 5.3% for the month. The stock market crash of 2008 had a significant impact on the global economy, leading to a recession and a significant decline in economic activity....\n",
      "Date: 2008-12-01, Daily Range: 8.422302336938241\n",
      "Explanation: The market went down on December 1, 2008, due to the global financial crisis. The Dow Jones Industrial Average closed at 8,149.09 with a drop of 679.95 points (7.70%), and the S&P 500 fell 80.03 points to 816.21, down 8.93%. Financial stocks in the S&P 500 fell 17%. The decline was attributed to dismal reports on U.S. manufacturing sentiment and construction spending, as well as the ongoing recession. Oil prices also fell below $50 a barrel in New York Trading. The market's performance was the worst in seven decades, with the Dow Jones industrials experiencing a 33.8% drop, the worst since 1931, and the Standard & Poor's 500 delivering a 38.5% loss, the worst since 1937....\n"
     ]
    }
   ],
   "source": [
    "from agentics.core.llm_connections import get_llm_provider\n",
    "highest_volatility_days.instructions = \"\"\"Explain the reasons why the market went down or up \n",
    "given the high volatility in the stock market on this day based on the news provided. \n",
    "Provide a concise summary.\"\"\"\n",
    "highest_volatility_days.llm= get_llm_provider() ## You can choose between \"openai\", \"watsonx\", \"gemini\", \"vllm_crewai\"\n",
    "highest_volatility_explanations = await highest_volatility_days.self_transduction(\n",
    "[\"Date\", \"Open\", \"High\", \"Low\", \"Close\", \"Volume\", \"daily_range\", \"News\"],[\"Explanation_report\"])\n",
    "\n",
    "for state in highest_volatility_explanations: \n",
    "    print(f\"Date: {state.Date}, Daily Range: {state.daily_range}\\nExplanation: {state.Explanation_report}...\")"
   ]
  },
  {
   "cell_type": "markdown",
   "id": "00ae3253",
   "metadata": {},
   "source": [
    "## Well Done\n",
    "You are now fully equipped to work with agentics and apply it to your data.\n",
    "Congratulations and please contribute back to the community if you feel this is exciting. "
   ]
  }
 ],
 "metadata": {
  "kernelspec": {
   "display_name": "agentics",
   "language": "python",
   "name": "python3"
  },
  "language_info": {
   "codemirror_mode": {
    "name": "ipython",
    "version": 3
   },
   "file_extension": ".py",
   "mimetype": "text/x-python",
   "name": "python",
   "nbconvert_exporter": "python",
   "pygments_lexer": "ipython3",
   "version": "3.12.11"
  }
 },
 "nbformat": 4,
 "nbformat_minor": 5
}
