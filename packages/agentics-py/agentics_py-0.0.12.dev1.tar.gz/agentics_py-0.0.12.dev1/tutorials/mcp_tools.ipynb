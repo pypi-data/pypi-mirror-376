{
 "cells": [
  {
   "cell_type": "markdown",
   "id": "82835cd5",
   "metadata": {},
   "source": [
    "# Using tools in Agentics\n",
    "\n",
    "Agents are embedded into the AGs to support logical transduction. \n",
    "\n",
    "Those agents can be optionally making use of externally provided tools to gather additional information needed to execute the transductions. \n",
    "\n",
    "Agentics support the use of the MCP protocol to provide agents with externally provided functionalities, such as executing web search or use a calculator."
   ]
  },
  {
   "cell_type": "markdown",
   "id": "54535a54",
   "metadata": {},
   "source": [
    "## Activate exiting MCP server\n",
    "\n",
    "To use an existing MCP server, open a shell and run the server code in background.\n",
    "This example will run the Duck Duck Go Search MCP server provided as an example. \n",
    "\n",
    "```bash\n",
    "poetry run python mcp/DDG_search_tool_mcp.py > /tmp/mcp_server.log 2>&1 &\n",
    "```"
   ]
  },
  {
   "cell_type": "markdown",
   "id": "1e3a7a07",
   "metadata": {},
   "source": [
    "Unfortunately MCP servers do not play well with jupyter notebooks. \n",
    "Try to run the example and explore the code. \n",
    "\n",
    "```bash\n",
    "poetry run python examples/agentics_web_search_report.py\n",
    "```\n"
   ]
  },
  {
   "cell_type": "markdown",
   "id": "15f4a820",
   "metadata": {},
   "source": [
    "## Make your own MCP server\n",
    "\n",
    "You can easily create your MCP server by cloning the code in DDG_search_tool_mcp.py give it a new name and replace the tool definition with your favourite fuction. \n",
    "The example below illustrate a tool to get the square root of a number. Try to run it with the web search example.\n"
   ]
  },
  {
   "cell_type": "code",
   "execution_count": null,
   "id": "f3a965e9",
   "metadata": {},
   "outputs": [],
   "source": [
    "from mcp.server.fastmcp import FastMCP\n",
    "import math\n",
    "\n",
    "mcp = FastMCP(\"Search\")\n",
    "\n",
    "@mcp.tool()\n",
    "def square_root(x:float) -> float:\n",
    "    \"\"\"return the square root of the input number\"\"\" \n",
    "    return math.sqrt(x)"
   ]
  }
 ],
 "metadata": {
  "kernelspec": {
   "display_name": ".venv",
   "language": "python",
   "name": "python3"
  },
  "language_info": {
   "codemirror_mode": {
    "name": "ipython",
    "version": 3
   },
   "file_extension": ".py",
   "mimetype": "text/x-python",
   "name": "python",
   "nbconvert_exporter": "python",
   "pygments_lexer": "ipython3",
   "version": "3.12.9"
  }
 },
 "nbformat": 4,
 "nbformat_minor": 5
}
