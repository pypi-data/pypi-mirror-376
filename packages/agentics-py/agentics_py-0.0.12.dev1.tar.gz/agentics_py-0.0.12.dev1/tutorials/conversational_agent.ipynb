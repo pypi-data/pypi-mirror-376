{
 "cells": [
  {
   "cell_type": "markdown",
   "id": "92e3a769",
   "metadata": {},
   "source": [
    "## Initialize environment\n",
    "\n",
    "Note: Before executing this notebook on colab, copy your .env file in /content/drive/MyDrive/.env or otherwise you'll be prompted to enter your GEMINI_API_KEY all the times."
   ]
  },
  {
   "cell_type": "code",
   "execution_count": null,
   "id": "c2f4e70d",
   "metadata": {},
   "outputs": [
    {
     "name": "stdout",
     "output_type": "stream",
     "text": [
      "\u001b[2mUsing Python 3.12.11 environment at: /Users/gliozzo/miniforge3/envs/agentics\u001b[0m\n",
      "\u001b[2mAudited \u001b[1m1 package\u001b[0m \u001b[2min 14ms\u001b[0m\u001b[0m\n",
      "\u001b[2mUsing Python 3.12.11 environment at: /Users/gliozzo/miniforge3/envs/agentics\u001b[0m\n",
      "\u001b[2mAudited \u001b[1m1 package\u001b[0m \u001b[2min 9ms\u001b[0m\u001b[0m\n",
      "In Colab: False\n"
     ]
    }
   ],
   "source": [
    "! uv pip install agentics-py\n",
    "! uv pip install 'crewai[tools]'\n",
    "\n",
    "import os\n",
    "import sys\n",
    "from getpass import getpass\n",
    "\n",
    "from dotenv import find_dotenv, load_dotenv\n",
    "\n",
    "CURRENT_PATH = \"\"\n",
    "\n",
    "IN_COLAB = \"google.colab\" in sys.modules\n",
    "print(\"In Colab:\", IN_COLAB)\n",
    "\n",
    "\n",
    "if IN_COLAB:\n",
    "    CURRENT_PATH = \"/content/drive/MyDrive/\"\n",
    "    # Mount your google drive\n",
    "    from google.colab import drive\n",
    "    drive.mount(\"/content/drive\")\n",
    "    load_dotenv(\"/content/drive/MyDrive/.env\")\n",
    "else:\n",
    "    load_dotenv(find_dotenv())\n",
    "\n",
    "if not os.getenv(\"GEMINI_API_KEY\"):\n",
    "    os.environ[\"GEMINI_API_KEY\"] = getpass(\"Enter your GEMINI_API_KEY:\")"
   ]
  },
  {
   "cell_type": "markdown",
   "id": "c4e87ade",
   "metadata": {},
   "source": [
    "## Create a new tool\n",
    "Wrap the Duck Duck Go Search API call into a CrewAI tool using the @tool decorator. Similarly you can turn any function of your choice into a tool. "
   ]
  },
  {
   "cell_type": "code",
   "execution_count": 2,
   "id": "b1128c1a",
   "metadata": {},
   "outputs": [],
   "source": [
    "from ddgs import DDGS\n",
    "from crewai.tools import tool\n",
    "## Define a Crew AI tool to get news for a given date using the DDGS search engine\n",
    "@tool(\"fetch_data_async\")\n",
    "def web_search(query: str) -> str:\n",
    "    \"\"\" Fetch web search results for the given query using DDGS.\"\"\"\n",
    "    return str(DDGS().text(query, max_results=10))    \n"
   ]
  },
  {
   "cell_type": "markdown",
   "id": "748092c9",
   "metadata": {},
   "source": [
    "## Define your agent, task and crew\n",
    "\n",
    "Note that the agent is provided with memory = True This provides the agent with conversation history. By activating memory=True in the crew, we make sure that the agents persists across multiple crew session calls, with different input states. "
   ]
  },
  {
   "cell_type": "code",
   "execution_count": 3,
   "id": "88c23d1a",
   "metadata": {},
   "outputs": [],
   "source": [
    "from crewai import Agent, Task, Crew, Process\n",
    "\n",
    "# Create a conversational agent with a friendly role/goal\n",
    "chat_agent = Agent(\n",
    "    role=\"Helpful Assistant\",\n",
    "    goal=\"Have a natural multi-turn conversation\",\n",
    "    backstory=\"You are a friendly assistant that remembers context and asks for clarification when needed.\",\n",
    "    memory=True  # enable memory for conversational context. \n",
    ")\n",
    "\n",
    "# Define a simple Task that represents a single AI response\n",
    "task = Task(\n",
    "    description=\"Respond appropriately to user's message, maintaining context. {input}\",\n",
    "    expected_output=\"A conversational reply\",\n",
    "    agent=chat_agent,\n",
    "    tools=[web_search]\n",
    ")\n",
    "\n",
    "crew = Crew(\n",
    "    agents=[chat_agent],\n",
    "    tasks=[task],\n",
    "    memory=True,  # ensure conversation state persists across turns\n",
    ")"
   ]
  },
  {
   "cell_type": "markdown",
   "id": "c3cafb0e",
   "metadata": {},
   "source": [
    "## Run the crew in a conversation loop\n",
    "Since memory has been set to True, the crew will get access to the previous round of conversations, exibiting a conversational behaviour"
   ]
  },
  {
   "cell_type": "code",
   "execution_count": 5,
   "id": "6316ff36",
   "metadata": {},
   "outputs": [
    {
     "name": "stdout",
     "output_type": "stream",
     "text": [
      "\n",
      "\n",
      "===========\n",
      "You:  What is agentics?\n",
      "\n",
      "Assistant: IBM Agentics is a platform developed by IBM that facilitates the creation and orchestration of autonomous AI systems, referred to as agentic AI. These systems are designed to execute tasks and make decisions with minimal human supervision, thereby enhancing organizational efficiency. The primary focus of IBM Agentics is to streamline workflows, automate processes, and improve productivity across various business functions.\n",
      "\n",
      "One of the standout features of IBM Agentics is its ability to integrate seamlessly with existing business infrastructures, such as AWS, Salesforce, and ServiceNow. This integration helps organizations leverage their current systems while adopting advanced AI capabilities without extensive overhauls.\n",
      "\n",
      "Furthermore, IBM's approach to agentic AI emphasizes the importance of balancing creativity from generative AI with operational control. This balance ensures that organizations can deploy AI responsibly while adhering to governance and compliance standards.\n",
      "\n",
      "In practical application, businesses using IBM Agentics can expect to reduce the burden of manual tasks and enhance their decision-making processes, effectively positioning themselves to compete in a rapidly changing market landscape. If you're interested in learning more about specific features or use cases of IBM Agentics, feel free to ask!\n",
      "\n",
      "\n",
      "===========\n",
      "You:  Who developed that?\n",
      "\n",
      "Assistant: IBM Agentics is a platform developed by IBM aimed at facilitating the development and orchestration of autonomous AI systems, known as agentic AI. This initiative is part of IBM’s broader strategy to enhance organizational efficiency through AI. The key leaders behind this development include various IBM executives and researchers dedicated to advancing AI technologies. \n",
      "\n",
      "Agentic AI is designed to operate with minimal human supervision, allowing businesses to automate tasks and improve productivity significantly. IBM has launched multiple initiatives to promote the adoption of agentic AI, showcasing its commitment to integrating AI solutions within existing business frameworks like AWS and Salesforce.\n",
      "\n",
      "If you have more specific inquiries about the individuals involved in the development or the technical aspects of IBM Agentics, feel free to ask!\n"
     ]
    }
   ],
   "source": [
    "while user_input := input(\"You: \").strip():\n",
    "    print(\"\\n\\n===========\\nYou: \",user_input)\n",
    "    result = crew.kickoff(inputs={\"input\": user_input})\n",
    "    print(\"\\nAssistant:\", result)"
   ]
  },
  {
   "cell_type": "markdown",
   "id": "e1101782",
   "metadata": {},
   "source": [
    "## Let's give it one more tool"
   ]
  }
 ],
 "metadata": {
  "kernelspec": {
   "display_name": "agentics",
   "language": "python",
   "name": "python3"
  },
  "language_info": {
   "codemirror_mode": {
    "name": "ipython",
    "version": 3
   },
   "file_extension": ".py",
   "mimetype": "text/x-python",
   "name": "python",
   "nbconvert_exporter": "python",
   "pygments_lexer": "ipython3",
   "version": "3.12.11"
  }
 },
 "nbformat": 4,
 "nbformat_minor": 5
}
