{
 "cells": [
  {
   "cell_type": "markdown",
   "id": "08fccf46",
   "metadata": {
    "id": "08fccf46"
   },
   "source": [
    "# Logical Transduction\n",
    "\n",
    "Agentics objects are capable of performing logical transduction between their states by using the provied LLMs. The logical transduction operator << can be applied between any two agentics of any type.\n",
    "\n",
    "Transduction is done between a source and a target AG when connected by the << operator.\n",
    "\n",
    "The follwing example transduces a Question into an Answer."
   ]
  },
  {
   "cell_type": "code",
   "execution_count": 1,
   "id": "069407b8",
   "metadata": {
    "colab": {
     "base_uri": "https://localhost:8080/"
    },
    "executionInfo": {
     "elapsed": 3284,
     "status": "ok",
     "timestamp": 1757074891021,
     "user": {
      "displayName": "",
      "userId": ""
     },
     "user_tz": -180
    },
    "id": "069407b8",
    "outputId": "df336c0c-62bb-40f9-9132-2bb38f6c0c2a"
   },
   "outputs": [
    {
     "name": "stdout",
     "output_type": "stream",
     "text": [
      "\u001b[2mUsing Python 3.12.9 environment at: /Users/gliozzo/Code/agentics0.0.6/Agentics/.venv\u001b[0m\n",
      "\u001b[2K   \u001b[36m\u001b[1mUpdating\u001b[0m\u001b[39m https://github.com/IBM/agentics/ (\u001b[2mColab\u001b[0m)               \u001b[0m\n",
      "\u001b[2K\u001b[1A   \u001b[36m\u001b[1mUpdating\u001b[0m\u001b[39m https://github.com/IBM/agentics/ (\u001b[2mColab\u001b[0m)       \u001b[0m\u001b[1A\n",
      "\u001b[2K\u001b[1A   \u001b[36m\u001b[1mUpdating\u001b[0m\u001b[39m https://github.com/IBM/agentics/ (\u001b[2mColab\u001b[0m)       \u001b[0m\u001b[1A\n",
      "\u001b[2K\u001b[1A    \u001b[32m\u001b[1mUpdated\u001b[0m\u001b[39m https://github.com/IBM/agentics/ (\u001b[2m796dd9054e482a239b385753017d359cab8a85\n",
      "\u001b[2K\u001b[2mResolved \u001b[1m250 packages\u001b[0m \u001b[2min 322ms\u001b[0m\u001b[0m                                       \u001b[0m\n",
      "\u001b[2mUninstalled \u001b[1m2 packages\u001b[0m \u001b[2min 2ms\u001b[0m\u001b[0m\n",
      "\u001b[2K\u001b[2mInstalled \u001b[1m1 package\u001b[0m \u001b[2min 1ms\u001b[0m\u001b[0m.post7.dev0+796dd90 (from git+http\u001b[0m\n",
      " \u001b[31m-\u001b[39m \u001b[1magentics-py\u001b[0m\u001b[2m==0.0.4.post1.dev0+b2e926b (from file:///Users/gliozzo/Code/agentics0.0.6/Agentics)\u001b[0m\n",
      " \u001b[33m~\u001b[39m \u001b[1magentics-py\u001b[0m\u001b[2m==0.0.10.post7.dev0+796dd90 (from git+https://github.com/IBM/agentics/@796dd9054e482a239b385753017d359cab8a8573)\u001b[0m\n",
      "In Colab: False\n",
      "In Colab: False\n"
     ]
    }
   ],
   "source": [
    "# ! uv pip install agentics-py\n",
    "\n",
    "! uv pip install \"git+https://github.com/IBM/agentics/@Colab\"\n",
    "\n",
    "\n",
    "import os\n",
    "import sys\n",
    "\n",
    "from dotenv import find_dotenv, load_dotenv\n",
    "\n",
    "CURRENT_PATH = \"\"\n",
    "\n",
    "IN_COLAB = \"google.colab\" in sys.modules\n",
    "print(\"In Colab:\", IN_COLAB)\n",
    "\n",
    "IN_COLAB = \"google.colab\" in sys.modules\n",
    "print(\"In Colab:\", IN_COLAB)\n",
    "\n",
    "if IN_COLAB:\n",
    "    CURRENT_PATH = \"/content/drive/MyDrive/\"\n",
    "    # Mount your google drive\n",
    "    load_dotenv(\"/content/drive/MyDrive/.env\")\n",
    "    from google.colab import drive\n",
    "\n",
    "    drive.mount(\"/content/drive\")\n",
    "else:\n",
    "    load_dotenv(find_dotenv())\n",
    "\n",
    "if not os.getenv(\"GEMINI_API_KEY\"):\n",
    "    os.environ[\"GEMINI_API_KEY\"] = input(\"Enter your GEMINI_API_KEY:\")"
   ]
  },
  {
   "cell_type": "code",
   "execution_count": 2,
   "id": "7b080d14",
   "metadata": {
    "colab": {
     "base_uri": "https://localhost:8080/",
     "height": 1000,
     "referenced_widgets": [
      "333bba1a5012475a946a9d10ae2525fc",
      "958824c60e6a422cbe77d7dc95cbed16"
     ]
    },
    "executionInfo": {
     "elapsed": 14872,
     "status": "ok",
     "timestamp": 1757074905896,
     "user": {
      "displayName": "",
      "userId": ""
     },
     "user_tz": -180
    },
    "id": "7b080d14",
    "outputId": "5d7382b0-6357-4a97-f7cd-d362152e0fd1"
   },
   "outputs": [
    {
     "name": "stderr",
     "output_type": "stream",
     "text": [
      "2025-09-05 09:25:17.605 | DEBUG    | agentics.core.llm_connections:<module>:121 - AGENTICS is connecting to the following LLM API providers:\n",
      "2025-09-05 09:25:17.605 | DEBUG    | agentics.core.llm_connections:<module>:124 - 0 - WatsonX\n",
      "2025-09-05 09:25:17.606 | DEBUG    | agentics.core.llm_connections:<module>:129 - 1 - Gemini\n",
      "2025-09-05 09:25:17.606 | DEBUG    | agentics.core.llm_connections:<module>:133 - 2 - OpenAI\n",
      "2025-09-05 09:25:17.606 | DEBUG    | agentics.core.llm_connections:<module>:135 - Please add API keys in .env file to add or disconnect providers.\n",
      "2025-09-05 09:25:17.615 | DEBUG    | agentics.core.llm_connections:get_llm_provider:29 - No LLM provider specified. Using the first available provider.\n",
      "2025-09-05 09:25:17.616 | DEBUG    | agentics.core.llm_connections:get_llm_provider:31 - Available LLM providers: ['watsonx', 'gemini', 'openai']. Using 'watsonx'\n",
      "2025-09-05 09:25:17.617 | DEBUG    | agentics.core.llm_connections:get_llm_provider:29 - No LLM provider specified. Using the first available provider.\n",
      "2025-09-05 09:25:17.618 | DEBUG    | agentics.core.llm_connections:get_llm_provider:31 - Available LLM providers: ['watsonx', 'gemini', 'openai']. Using 'watsonx'\n",
      "2025-09-05 09:25:17.618 | DEBUG    | agentics.core.agentics:__lshift__:518 - Executing task: Generate an object of the specified type from the following input.\n",
      "1 states will be transduced\n",
      "2025-09-05 09:25:17.618 | DEBUG    | agentics.core.agentics:__lshift__:612 - transducer class: <class 'agentics.abstractions.pydantic_transducer.PydanticTransducerCrewAI'>\n"
     ]
    },
    {
     "data": {
      "text/html": [
       "<pre style=\"white-space:pre;overflow-x:auto;line-height:normal;font-family:Menlo,'DejaVu Sans Mono',consolas,'Courier New',monospace\"><span style=\"color: #008080; text-decoration-color: #008080\">╭──────────────────────────────────────────── Crew Execution Started ─────────────────────────────────────────────╮</span>\n",
       "<span style=\"color: #008080; text-decoration-color: #008080\">│</span>                                                                                                                 <span style=\"color: #008080; text-decoration-color: #008080\">│</span>\n",
       "<span style=\"color: #008080; text-decoration-color: #008080\">│</span>  <span style=\"color: #008080; text-decoration-color: #008080; font-weight: bold\">Crew Execution Started</span>                                                                                         <span style=\"color: #008080; text-decoration-color: #008080\">│</span>\n",
       "<span style=\"color: #008080; text-decoration-color: #008080\">│</span>  <span style=\"color: #c0c0c0; text-decoration-color: #c0c0c0\">Name: </span><span style=\"color: #008080; text-decoration-color: #008080\">crew</span>                                                                                                     <span style=\"color: #008080; text-decoration-color: #008080\">│</span>\n",
       "<span style=\"color: #008080; text-decoration-color: #008080\">│</span>  <span style=\"color: #c0c0c0; text-decoration-color: #c0c0c0\">ID: </span><span style=\"color: #008080; text-decoration-color: #008080\">aa37a26c-c7ba-4681-8d17-3da1568239cd</span>                                                                       <span style=\"color: #008080; text-decoration-color: #008080\">│</span>\n",
       "<span style=\"color: #008080; text-decoration-color: #008080\">│</span>  <span style=\"color: #c0c0c0; text-decoration-color: #c0c0c0\">Tool Args: </span>                                                                                                    <span style=\"color: #008080; text-decoration-color: #008080\">│</span>\n",
       "<span style=\"color: #008080; text-decoration-color: #008080\">│</span>                                                                                                                 <span style=\"color: #008080; text-decoration-color: #008080\">│</span>\n",
       "<span style=\"color: #008080; text-decoration-color: #008080\">│</span>                                                                                                                 <span style=\"color: #008080; text-decoration-color: #008080\">│</span>\n",
       "<span style=\"color: #008080; text-decoration-color: #008080\">╰─────────────────────────────────────────────────────────────────────────────────────────────────────────────────╯</span>\n",
       "</pre>\n"
      ],
      "text/plain": [
       "\u001b[36m╭─\u001b[0m\u001b[36m───────────────────────────────────────────\u001b[0m\u001b[36m Crew Execution Started \u001b[0m\u001b[36m────────────────────────────────────────────\u001b[0m\u001b[36m─╮\u001b[0m\n",
       "\u001b[36m│\u001b[0m                                                                                                                 \u001b[36m│\u001b[0m\n",
       "\u001b[36m│\u001b[0m  \u001b[1;36mCrew Execution Started\u001b[0m                                                                                         \u001b[36m│\u001b[0m\n",
       "\u001b[36m│\u001b[0m  \u001b[37mName: \u001b[0m\u001b[36mcrew\u001b[0m                                                                                                     \u001b[36m│\u001b[0m\n",
       "\u001b[36m│\u001b[0m  \u001b[37mID: \u001b[0m\u001b[36maa37a26c-c7ba-4681-8d17-3da1568239cd\u001b[0m                                                                       \u001b[36m│\u001b[0m\n",
       "\u001b[36m│\u001b[0m  \u001b[37mTool Args: \u001b[0m                                                                                                    \u001b[36m│\u001b[0m\n",
       "\u001b[36m│\u001b[0m                                                                                                                 \u001b[36m│\u001b[0m\n",
       "\u001b[36m│\u001b[0m                                                                                                                 \u001b[36m│\u001b[0m\n",
       "\u001b[36m╰─────────────────────────────────────────────────────────────────────────────────────────────────────────────────╯\u001b[0m\n"
      ]
     },
     "metadata": {},
     "output_type": "display_data"
    },
    {
     "data": {
      "text/html": [
       "<pre style=\"white-space:pre;overflow-x:auto;line-height:normal;font-family:Menlo,'DejaVu Sans Mono',consolas,'Courier New',monospace\">\n",
       "</pre>\n"
      ],
      "text/plain": [
       "\n"
      ]
     },
     "metadata": {},
     "output_type": "display_data"
    },
    {
     "data": {
      "text/html": [
       "<pre style=\"white-space:pre;overflow-x:auto;line-height:normal;font-family:Menlo,'DejaVu Sans Mono',consolas,'Courier New',monospace\"></pre>\n"
      ],
      "text/plain": []
     },
     "metadata": {},
     "output_type": "display_data"
    },
    {
     "data": {
      "text/html": [
       "<pre style=\"white-space:pre;overflow-x:auto;line-height:normal;font-family:Menlo,'DejaVu Sans Mono',consolas,'Courier New',monospace\"><span style=\"color: #800080; text-decoration-color: #800080\">╭─────────────────────────────────────────────── 🤖 Agent Started ────────────────────────────────────────────────╮</span>\n",
       "<span style=\"color: #800080; text-decoration-color: #800080\">│</span>                                                                                                                 <span style=\"color: #800080; text-decoration-color: #800080\">│</span>\n",
       "<span style=\"color: #800080; text-decoration-color: #800080\">│</span>  <span style=\"color: #c0c0c0; text-decoration-color: #c0c0c0\">Agent: </span><span style=\"color: #00ff00; text-decoration-color: #00ff00; font-weight: bold\">Task Executor</span>                                                                                           <span style=\"color: #800080; text-decoration-color: #800080\">│</span>\n",
       "<span style=\"color: #800080; text-decoration-color: #800080\">│</span>                                                                                                                 <span style=\"color: #800080; text-decoration-color: #800080\">│</span>\n",
       "<span style=\"color: #800080; text-decoration-color: #800080\">│</span>  <span style=\"color: #c0c0c0; text-decoration-color: #c0c0c0\">Task: </span>                                                                                                         <span style=\"color: #800080; text-decoration-color: #800080\">│</span>\n",
       "<span style=\"color: #800080; text-decoration-color: #800080\">│</span>  <span style=\"color: #00ff00; text-decoration-color: #00ff00\">Your task is to transduce a source Pydantic Object into the specified Output type. Generate only slots that </span>   <span style=\"color: #800080; text-decoration-color: #800080\">│</span>\n",
       "<span style=\"color: #800080; text-decoration-color: #800080\">│</span>  <span style=\"color: #00ff00; text-decoration-color: #00ff00\">are logically deduced from the input information, otherwise live then null.</span>                                    <span style=\"color: #800080; text-decoration-color: #800080\">│</span>\n",
       "<span style=\"color: #800080; text-decoration-color: #800080\">│</span>                                                                                                                 <span style=\"color: #800080; text-decoration-color: #800080\">│</span>\n",
       "<span style=\"color: #800080; text-decoration-color: #800080\">│</span>  <span style=\"color: #00ff00; text-decoration-color: #00ff00\">Read carefully the following instructions for executing your task:</span>                                             <span style=\"color: #800080; text-decoration-color: #800080\">│</span>\n",
       "<span style=\"color: #800080; text-decoration-color: #800080\">│</span>  <span style=\"color: #00ff00; text-decoration-color: #00ff00\">Generate an object of the specified type from the following input. SOURCE:</span>                                     <span style=\"color: #800080; text-decoration-color: #800080\">│</span>\n",
       "<span style=\"color: #800080; text-decoration-color: #800080\">│</span>  <span style=\"color: #00ff00; text-decoration-color: #00ff00\">{\"question\": \"What is the capital of Italy?\"}</span>                                                                  <span style=\"color: #800080; text-decoration-color: #800080\">│</span>\n",
       "<span style=\"color: #800080; text-decoration-color: #800080\">│</span>                                                                                                                 <span style=\"color: #800080; text-decoration-color: #800080\">│</span>\n",
       "<span style=\"color: #800080; text-decoration-color: #800080\">╰─────────────────────────────────────────────────────────────────────────────────────────────────────────────────╯</span>\n",
       "</pre>\n"
      ],
      "text/plain": [
       "\u001b[35m╭─\u001b[0m\u001b[35m──────────────────────────────────────────────\u001b[0m\u001b[35m 🤖 Agent Started \u001b[0m\u001b[35m───────────────────────────────────────────────\u001b[0m\u001b[35m─╮\u001b[0m\n",
       "\u001b[35m│\u001b[0m                                                                                                                 \u001b[35m│\u001b[0m\n",
       "\u001b[35m│\u001b[0m  \u001b[37mAgent: \u001b[0m\u001b[1;92mTask Executor\u001b[0m                                                                                           \u001b[35m│\u001b[0m\n",
       "\u001b[35m│\u001b[0m                                                                                                                 \u001b[35m│\u001b[0m\n",
       "\u001b[35m│\u001b[0m  \u001b[37mTask: \u001b[0m                                                                                                         \u001b[35m│\u001b[0m\n",
       "\u001b[35m│\u001b[0m  \u001b[92mYour task is to transduce a source Pydantic Object into the specified Output type. Generate only slots that \u001b[0m   \u001b[35m│\u001b[0m\n",
       "\u001b[35m│\u001b[0m  \u001b[92mare logically deduced from the input information, otherwise live then null.\u001b[0m                                    \u001b[35m│\u001b[0m\n",
       "\u001b[35m│\u001b[0m                                                                                                                 \u001b[35m│\u001b[0m\n",
       "\u001b[35m│\u001b[0m  \u001b[92mRead carefully the following instructions for executing your task:\u001b[0m                                             \u001b[35m│\u001b[0m\n",
       "\u001b[35m│\u001b[0m  \u001b[92mGenerate an object of the specified type from the following input. SOURCE:\u001b[0m                                     \u001b[35m│\u001b[0m\n",
       "\u001b[35m│\u001b[0m  \u001b[92m{\"question\": \"What is the capital of Italy?\"}\u001b[0m                                                                  \u001b[35m│\u001b[0m\n",
       "\u001b[35m│\u001b[0m                                                                                                                 \u001b[35m│\u001b[0m\n",
       "\u001b[35m╰─────────────────────────────────────────────────────────────────────────────────────────────────────────────────╯\u001b[0m\n"
      ]
     },
     "metadata": {},
     "output_type": "display_data"
    },
    {
     "data": {
      "text/html": [
       "<pre style=\"white-space:pre;overflow-x:auto;line-height:normal;font-family:Menlo,'DejaVu Sans Mono',consolas,'Courier New',monospace\">\n",
       "</pre>\n"
      ],
      "text/plain": [
       "\n"
      ]
     },
     "metadata": {},
     "output_type": "display_data"
    },
    {
     "data": {
      "text/html": [
       "<pre style=\"white-space:pre;overflow-x:auto;line-height:normal;font-family:Menlo,'DejaVu Sans Mono',consolas,'Courier New',monospace\"></pre>\n"
      ],
      "text/plain": []
     },
     "metadata": {},
     "output_type": "display_data"
    },
    {
     "data": {
      "text/html": [
       "<pre style=\"white-space:pre;overflow-x:auto;line-height:normal;font-family:Menlo,'DejaVu Sans Mono',consolas,'Courier New',monospace\"><span style=\"color: #008000; text-decoration-color: #008000\">╭───────────────────────────────────────────── ✅ Agent Final Answer ─────────────────────────────────────────────╮</span>\n",
       "<span style=\"color: #008000; text-decoration-color: #008000\">│</span>                                                                                                                 <span style=\"color: #008000; text-decoration-color: #008000\">│</span>\n",
       "<span style=\"color: #008000; text-decoration-color: #008000\">│</span>  <span style=\"color: #c0c0c0; text-decoration-color: #c0c0c0\">Agent: </span><span style=\"color: #00ff00; text-decoration-color: #00ff00; font-weight: bold\">Task Executor</span>                                                                                           <span style=\"color: #008000; text-decoration-color: #008000\">│</span>\n",
       "<span style=\"color: #008000; text-decoration-color: #008000\">│</span>                                                                                                                 <span style=\"color: #008000; text-decoration-color: #008000\">│</span>\n",
       "<span style=\"color: #008000; text-decoration-color: #008000\">│</span>  <span style=\"color: #c0c0c0; text-decoration-color: #c0c0c0\">Final Answer:</span>                                                                                                  <span style=\"color: #008000; text-decoration-color: #008000\">│</span>\n",
       "<span style=\"color: #008000; text-decoration-color: #008000\">│</span>  <span style=\"color: #00ff00; text-decoration-color: #00ff00\">{</span>                                                                                                              <span style=\"color: #008000; text-decoration-color: #008000\">│</span>\n",
       "<span style=\"color: #008000; text-decoration-color: #008000\">│</span>  <span style=\"color: #00ff00; text-decoration-color: #00ff00\">  \"answer\": \"Rome\",</span>                                                                                            <span style=\"color: #008000; text-decoration-color: #008000\">│</span>\n",
       "<span style=\"color: #008000; text-decoration-color: #008000\">│</span>  <span style=\"color: #00ff00; text-decoration-color: #00ff00\">  \"justification\": \"The capital of Italy is a well-known fact, and Rome is the correct answer.\",</span>               <span style=\"color: #008000; text-decoration-color: #008000\">│</span>\n",
       "<span style=\"color: #008000; text-decoration-color: #008000\">│</span>  <span style=\"color: #00ff00; text-decoration-color: #00ff00\">  \"confidence\": 1.0</span>                                                                                            <span style=\"color: #008000; text-decoration-color: #008000\">│</span>\n",
       "<span style=\"color: #008000; text-decoration-color: #008000\">│</span>  <span style=\"color: #00ff00; text-decoration-color: #00ff00\">}</span>                                                                                                              <span style=\"color: #008000; text-decoration-color: #008000\">│</span>\n",
       "<span style=\"color: #008000; text-decoration-color: #008000\">│</span>                                                                                                                 <span style=\"color: #008000; text-decoration-color: #008000\">│</span>\n",
       "<span style=\"color: #008000; text-decoration-color: #008000\">╰─────────────────────────────────────────────────────────────────────────────────────────────────────────────────╯</span>\n",
       "</pre>\n"
      ],
      "text/plain": [
       "\u001b[32m╭─\u001b[0m\u001b[32m────────────────────────────────────────────\u001b[0m\u001b[32m ✅ Agent Final Answer \u001b[0m\u001b[32m────────────────────────────────────────────\u001b[0m\u001b[32m─╮\u001b[0m\n",
       "\u001b[32m│\u001b[0m                                                                                                                 \u001b[32m│\u001b[0m\n",
       "\u001b[32m│\u001b[0m  \u001b[37mAgent: \u001b[0m\u001b[1;92mTask Executor\u001b[0m                                                                                           \u001b[32m│\u001b[0m\n",
       "\u001b[32m│\u001b[0m                                                                                                                 \u001b[32m│\u001b[0m\n",
       "\u001b[32m│\u001b[0m  \u001b[37mFinal Answer:\u001b[0m                                                                                                  \u001b[32m│\u001b[0m\n",
       "\u001b[32m│\u001b[0m  \u001b[92m{\u001b[0m                                                                                                              \u001b[32m│\u001b[0m\n",
       "\u001b[32m│\u001b[0m  \u001b[92m  \"answer\": \"Rome\",\u001b[0m                                                                                            \u001b[32m│\u001b[0m\n",
       "\u001b[32m│\u001b[0m  \u001b[92m  \"justification\": \"The capital of Italy is a well-known fact, and Rome is the correct answer.\",\u001b[0m               \u001b[32m│\u001b[0m\n",
       "\u001b[32m│\u001b[0m  \u001b[92m  \"confidence\": 1.0\u001b[0m                                                                                            \u001b[32m│\u001b[0m\n",
       "\u001b[32m│\u001b[0m  \u001b[92m}\u001b[0m                                                                                                              \u001b[32m│\u001b[0m\n",
       "\u001b[32m│\u001b[0m                                                                                                                 \u001b[32m│\u001b[0m\n",
       "\u001b[32m╰─────────────────────────────────────────────────────────────────────────────────────────────────────────────────╯\u001b[0m\n"
      ]
     },
     "metadata": {},
     "output_type": "display_data"
    },
    {
     "data": {
      "text/html": [
       "<pre style=\"white-space:pre;overflow-x:auto;line-height:normal;font-family:Menlo,'DejaVu Sans Mono',consolas,'Courier New',monospace\">\n",
       "</pre>\n"
      ],
      "text/plain": [
       "\n"
      ]
     },
     "metadata": {},
     "output_type": "display_data"
    },
    {
     "data": {
      "text/html": [
       "<pre style=\"white-space:pre;overflow-x:auto;line-height:normal;font-family:Menlo,'DejaVu Sans Mono',consolas,'Courier New',monospace\"></pre>\n"
      ],
      "text/plain": []
     },
     "metadata": {},
     "output_type": "display_data"
    },
    {
     "data": {
      "text/html": [
       "<pre style=\"white-space:pre;overflow-x:auto;line-height:normal;font-family:Menlo,'DejaVu Sans Mono',consolas,'Courier New',monospace\"><span style=\"color: #008000; text-decoration-color: #008000\">╭──────────────────────────────────────────────── Task Completion ────────────────────────────────────────────────╮</span>\n",
       "<span style=\"color: #008000; text-decoration-color: #008000\">│</span>                                                                                                                 <span style=\"color: #008000; text-decoration-color: #008000\">│</span>\n",
       "<span style=\"color: #008000; text-decoration-color: #008000\">│</span>  <span style=\"color: #008000; text-decoration-color: #008000; font-weight: bold\">Task Completed</span>                                                                                                 <span style=\"color: #008000; text-decoration-color: #008000\">│</span>\n",
       "<span style=\"color: #008000; text-decoration-color: #008000\">│</span>  <span style=\"color: #c0c0c0; text-decoration-color: #c0c0c0\">Name: </span><span style=\"color: #008000; text-decoration-color: #008000\">121a8f0f-6c02-4154-962b-a0e68a955fc9</span>                                                                     <span style=\"color: #008000; text-decoration-color: #008000\">│</span>\n",
       "<span style=\"color: #008000; text-decoration-color: #008000\">│</span>  <span style=\"color: #c0c0c0; text-decoration-color: #c0c0c0\">Agent: </span><span style=\"color: #008000; text-decoration-color: #008000\">Task Executor</span>                                                                                           <span style=\"color: #008000; text-decoration-color: #008000\">│</span>\n",
       "<span style=\"color: #008000; text-decoration-color: #008000\">│</span>  <span style=\"color: #c0c0c0; text-decoration-color: #c0c0c0\">Tool Args: </span>                                                                                                    <span style=\"color: #008000; text-decoration-color: #008000\">│</span>\n",
       "<span style=\"color: #008000; text-decoration-color: #008000\">│</span>                                                                                                                 <span style=\"color: #008000; text-decoration-color: #008000\">│</span>\n",
       "<span style=\"color: #008000; text-decoration-color: #008000\">│</span>                                                                                                                 <span style=\"color: #008000; text-decoration-color: #008000\">│</span>\n",
       "<span style=\"color: #008000; text-decoration-color: #008000\">╰─────────────────────────────────────────────────────────────────────────────────────────────────────────────────╯</span>\n",
       "</pre>\n"
      ],
      "text/plain": [
       "\u001b[32m╭─\u001b[0m\u001b[32m───────────────────────────────────────────────\u001b[0m\u001b[32m Task Completion \u001b[0m\u001b[32m───────────────────────────────────────────────\u001b[0m\u001b[32m─╮\u001b[0m\n",
       "\u001b[32m│\u001b[0m                                                                                                                 \u001b[32m│\u001b[0m\n",
       "\u001b[32m│\u001b[0m  \u001b[1;32mTask Completed\u001b[0m                                                                                                 \u001b[32m│\u001b[0m\n",
       "\u001b[32m│\u001b[0m  \u001b[37mName: \u001b[0m\u001b[32m121a8f0f-6c02-4154-962b-a0e68a955fc9\u001b[0m                                                                     \u001b[32m│\u001b[0m\n",
       "\u001b[32m│\u001b[0m  \u001b[37mAgent: \u001b[0m\u001b[32mTask Executor\u001b[0m                                                                                           \u001b[32m│\u001b[0m\n",
       "\u001b[32m│\u001b[0m  \u001b[37mTool Args: \u001b[0m                                                                                                    \u001b[32m│\u001b[0m\n",
       "\u001b[32m│\u001b[0m                                                                                                                 \u001b[32m│\u001b[0m\n",
       "\u001b[32m│\u001b[0m                                                                                                                 \u001b[32m│\u001b[0m\n",
       "\u001b[32m╰─────────────────────────────────────────────────────────────────────────────────────────────────────────────────╯\u001b[0m\n"
      ]
     },
     "metadata": {},
     "output_type": "display_data"
    },
    {
     "data": {
      "text/html": [
       "<pre style=\"white-space:pre;overflow-x:auto;line-height:normal;font-family:Menlo,'DejaVu Sans Mono',consolas,'Courier New',monospace\">\n",
       "</pre>\n"
      ],
      "text/plain": [
       "\n"
      ]
     },
     "metadata": {},
     "output_type": "display_data"
    },
    {
     "data": {
      "text/html": [
       "<pre style=\"white-space:pre;overflow-x:auto;line-height:normal;font-family:Menlo,'DejaVu Sans Mono',consolas,'Courier New',monospace\"><span style=\"color: #008000; text-decoration-color: #008000\">╭──────────────────────────────────────────────── Crew Completion ────────────────────────────────────────────────╮</span>\n",
       "<span style=\"color: #008000; text-decoration-color: #008000\">│</span>                                                                                                                 <span style=\"color: #008000; text-decoration-color: #008000\">│</span>\n",
       "<span style=\"color: #008000; text-decoration-color: #008000\">│</span>  <span style=\"color: #008000; text-decoration-color: #008000; font-weight: bold\">Crew Execution Completed</span>                                                                                       <span style=\"color: #008000; text-decoration-color: #008000\">│</span>\n",
       "<span style=\"color: #008000; text-decoration-color: #008000\">│</span>  <span style=\"color: #c0c0c0; text-decoration-color: #c0c0c0\">Name: </span><span style=\"color: #008000; text-decoration-color: #008000\">crew</span>                                                                                                     <span style=\"color: #008000; text-decoration-color: #008000\">│</span>\n",
       "<span style=\"color: #008000; text-decoration-color: #008000\">│</span>  <span style=\"color: #c0c0c0; text-decoration-color: #c0c0c0\">ID: </span><span style=\"color: #008000; text-decoration-color: #008000\">aa37a26c-c7ba-4681-8d17-3da1568239cd</span>                                                                       <span style=\"color: #008000; text-decoration-color: #008000\">│</span>\n",
       "<span style=\"color: #008000; text-decoration-color: #008000\">│</span>  <span style=\"color: #c0c0c0; text-decoration-color: #c0c0c0\">Tool Args: </span>                                                                                                    <span style=\"color: #008000; text-decoration-color: #008000\">│</span>\n",
       "<span style=\"color: #008000; text-decoration-color: #008000\">│</span>  <span style=\"color: #c0c0c0; text-decoration-color: #c0c0c0\">Final Output: {</span>                                                                                                <span style=\"color: #008000; text-decoration-color: #008000\">│</span>\n",
       "<span style=\"color: #008000; text-decoration-color: #008000\">│</span>  <span style=\"color: #c0c0c0; text-decoration-color: #c0c0c0\">  \"answer\": \"Rome\",</span>                                                                                            <span style=\"color: #008000; text-decoration-color: #008000\">│</span>\n",
       "<span style=\"color: #008000; text-decoration-color: #008000\">│</span>  <span style=\"color: #c0c0c0; text-decoration-color: #c0c0c0\">  \"justification\": \"The capital of Italy is a well-known fact, and Rome is the correct answer.\",</span>               <span style=\"color: #008000; text-decoration-color: #008000\">│</span>\n",
       "<span style=\"color: #008000; text-decoration-color: #008000\">│</span>  <span style=\"color: #c0c0c0; text-decoration-color: #c0c0c0\">  \"confidence\": 1.0</span>                                                                                            <span style=\"color: #008000; text-decoration-color: #008000\">│</span>\n",
       "<span style=\"color: #008000; text-decoration-color: #008000\">│</span>  <span style=\"color: #c0c0c0; text-decoration-color: #c0c0c0\">}</span>                                                                                                              <span style=\"color: #008000; text-decoration-color: #008000\">│</span>\n",
       "<span style=\"color: #008000; text-decoration-color: #008000\">│</span>                                                                                                                 <span style=\"color: #008000; text-decoration-color: #008000\">│</span>\n",
       "<span style=\"color: #008000; text-decoration-color: #008000\">│</span>                                                                                                                 <span style=\"color: #008000; text-decoration-color: #008000\">│</span>\n",
       "<span style=\"color: #008000; text-decoration-color: #008000\">╰─────────────────────────────────────────────────────────────────────────────────────────────────────────────────╯</span>\n",
       "</pre>\n"
      ],
      "text/plain": [
       "\u001b[32m╭─\u001b[0m\u001b[32m───────────────────────────────────────────────\u001b[0m\u001b[32m Crew Completion \u001b[0m\u001b[32m───────────────────────────────────────────────\u001b[0m\u001b[32m─╮\u001b[0m\n",
       "\u001b[32m│\u001b[0m                                                                                                                 \u001b[32m│\u001b[0m\n",
       "\u001b[32m│\u001b[0m  \u001b[1;32mCrew Execution Completed\u001b[0m                                                                                       \u001b[32m│\u001b[0m\n",
       "\u001b[32m│\u001b[0m  \u001b[37mName: \u001b[0m\u001b[32mcrew\u001b[0m                                                                                                     \u001b[32m│\u001b[0m\n",
       "\u001b[32m│\u001b[0m  \u001b[37mID: \u001b[0m\u001b[32maa37a26c-c7ba-4681-8d17-3da1568239cd\u001b[0m                                                                       \u001b[32m│\u001b[0m\n",
       "\u001b[32m│\u001b[0m  \u001b[37mTool Args: \u001b[0m                                                                                                    \u001b[32m│\u001b[0m\n",
       "\u001b[32m│\u001b[0m  \u001b[37mFinal Output: {\u001b[0m                                                                                                \u001b[32m│\u001b[0m\n",
       "\u001b[32m│\u001b[0m  \u001b[37m  \"answer\": \"Rome\",\u001b[0m                                                                                            \u001b[32m│\u001b[0m\n",
       "\u001b[32m│\u001b[0m  \u001b[37m  \"justification\": \"The capital of Italy is a well-known fact, and Rome is the correct answer.\",\u001b[0m               \u001b[32m│\u001b[0m\n",
       "\u001b[32m│\u001b[0m  \u001b[37m  \"confidence\": 1.0\u001b[0m                                                                                            \u001b[32m│\u001b[0m\n",
       "\u001b[32m│\u001b[0m  \u001b[37m}\u001b[0m                                                                                                              \u001b[32m│\u001b[0m\n",
       "\u001b[32m│\u001b[0m                                                                                                                 \u001b[32m│\u001b[0m\n",
       "\u001b[32m│\u001b[0m                                                                                                                 \u001b[32m│\u001b[0m\n",
       "\u001b[32m╰─────────────────────────────────────────────────────────────────────────────────────────────────────────────────╯\u001b[0m\n"
      ]
     },
     "metadata": {},
     "output_type": "display_data"
    },
    {
     "data": {
      "text/html": [
       "<pre style=\"white-space:pre;overflow-x:auto;line-height:normal;font-family:Menlo,'DejaVu Sans Mono',consolas,'Courier New',monospace\">\n",
       "</pre>\n"
      ],
      "text/plain": [
       "\n"
      ]
     },
     "metadata": {},
     "output_type": "display_data"
    },
    {
     "name": "stderr",
     "output_type": "stream",
     "text": [
      "2025-09-05 09:25:19.494 | DEBUG    | agentics.core.agentics:__lshift__:648 - Processed 1 states in 1.8753011226654053 seconds\n",
      "2025-09-05 09:25:19.494 | DEBUG    | agentics.core.agentics:__lshift__:700 - 1 states processed in 0.09376505613327027 seconds average per state ...\n"
     ]
    },
    {
     "name": "stdout",
     "output_type": "stream",
     "text": [
      "Atype : <class '__main__.Answer'>\n",
      "answer: Rome\n",
      "justification: The capital of Italy is a well-known fact, and Rome is the correct\n",
      "  answer.\n",
      "confidence: 1.0\n",
      "\n",
      "\n"
     ]
    }
   ],
   "source": [
    "from agentics import Agentics as AG\n",
    "from pydantic import BaseModel\n",
    "from typing import Optional\n",
    "from agentics.core.llm_connections import get_llm_provider\n",
    "\n",
    "\n",
    "## Define target and source types\n",
    "class Answer(BaseModel):\n",
    "    answer: Optional[str] = None\n",
    "    justification: Optional[str] = None\n",
    "    confidence: Optional[float] = None\n",
    "\n",
    "class Question(BaseModel):\n",
    "    question :Optional[str] = None\n",
    "\n",
    "\n",
    "## Instantiate the source AG with a question\n",
    "source = AG(atype=Question,\n",
    "            llm=get_llm_provider(), ## You can choose between \"openai\" (i.e. get_llm_provider(\"openai\")), \"watsonx\", \"gemini\", \"vllm_crewai\"\n",
    "                                    ## set verbose to true to see the internal agents log. This is optional.\n",
    "            states=[Question(question=\"What is the capital of Italy?\")])\n",
    "\n",
    "## Instantiate the target AG with a target type. No instances are needed for zero shot transduction\n",
    "target= AG(atype=Answer,  ## You can choose between \"openai\", \"watsonx\", \"gemini\", \"vllm_crewai\"\n",
    "           verbose_agent=True)   ## set verbose to true to see the internal agents log\n",
    "\n",
    "# Execute logical transduction by using the << operator between source and target AG\n",
    "answer = await (target << source) ## Note that << operator is asyncronus and the results should be awaited\n",
    "\n",
    "# Print the results of the transduction\n",
    "print(answer.pretty_print()) ## Note that confidence is a float number, while other fields are strings"
   ]
  },
  {
   "cell_type": "markdown",
   "id": "b8681fea",
   "metadata": {
    "id": "b8681fea"
   },
   "source": [
    "In agentics, lists of strings can be used as sources instead of AG. Those are provided as input for the transduction."
   ]
  },
  {
   "cell_type": "code",
   "execution_count": 3,
   "id": "66f8d2e0",
   "metadata": {
    "colab": {
     "base_uri": "https://localhost:8080/"
    },
    "executionInfo": {
     "elapsed": 1595,
     "status": "ok",
     "timestamp": 1757074907494,
     "user": {
      "displayName": "",
      "userId": ""
     },
     "user_tz": -180
    },
    "id": "66f8d2e0",
    "outputId": "a04db6b5-016b-4c11-d374-f5f9e62dc731"
   },
   "outputs": [
    {
     "name": "stderr",
     "output_type": "stream",
     "text": [
      "2025-09-05 09:25:19.499 | DEBUG    | agentics.core.agentics:__lshift__:545 - Transduction from input texts ['Where is Paris?'] to <class 'pydantic._internal._model_construction.ModelMetaclass'> in progress. This might take a while\n",
      "2025-09-05 09:25:19.499 | DEBUG    | agentics.core.agentics:__lshift__:612 - transducer class: <class 'agentics.abstractions.pydantic_transducer.PydanticTransducerCrewAI'>\n",
      "2025-09-05 09:25:21.030 | DEBUG    | agentics.core.agentics:__lshift__:648 - Processed 1 states in 1.5306179523468018 seconds\n",
      "2025-09-05 09:25:21.030 | DEBUG    | agentics.core.agentics:__lshift__:700 - 1 states processed in 0.07653089761734008 seconds average per state ...\n"
     ]
    },
    {
     "name": "stdout",
     "output_type": "stream",
     "text": [
      "Atype : <class '__main__.Answer'>\n",
      "answer: Paris is the capital of France\n",
      "justification: The question asks for the location of Paris, and based on general knowledge,\n",
      "  Paris is the capital of France\n",
      "confidence: 0.95\n",
      "\n",
      "\n"
     ]
    }
   ],
   "source": [
    "answer = await (AG(atype=Answer) << [\"Where is Paris?\"])\n",
    "print(answer.pretty_print())"
   ]
  },
  {
   "cell_type": "markdown",
   "id": "2ade51f3",
   "metadata": {
    "id": "2ade51f3"
   },
   "source": [
    "## Asyncronous Transduction\n",
    "\n",
    "When the source AG has more than one state, the << operator perform asyncronous transfuction for each state to the target type. Transductions are executed in batches."
   ]
  },
  {
   "cell_type": "code",
   "execution_count": 4,
   "id": "b4ec8966",
   "metadata": {
    "colab": {
     "base_uri": "https://localhost:8080/"
    },
    "executionInfo": {
     "elapsed": 8082,
     "status": "ok",
     "timestamp": 1757074915577,
     "user": {
      "displayName": "",
      "userId": ""
     },
     "user_tz": -180
    },
    "id": "b4ec8966",
    "outputId": "da8b8411-2788-4a5e-d616-f83e41cee8d2"
   },
   "outputs": [
    {
     "name": "stderr",
     "output_type": "stream",
     "text": [
      "2025-09-05 09:25:21.036 | DEBUG    | agentics.core.agentics:__lshift__:545 - Transduction from input texts ['Where is Paris?', 'Who is Alberto Sordi', 'When will climate change be irreverible?', 'Who is the best Jeopardy player?'] to <class 'pydantic._internal._model_construction.ModelMetaclass'> in progress. This might take a while\n",
      "2025-09-05 09:25:21.037 | DEBUG    | agentics.core.agentics:__lshift__:612 - transducer class: <class 'agentics.abstractions.pydantic_transducer.PydanticTransducerCrewAI'>\n",
      "2025-09-05 09:25:32.985 | DEBUG    | agentics.core.agentics:__lshift__:648 - Processed 4 states in 11.947695970535278 seconds\n",
      "2025-09-05 09:25:32.986 | DEBUG    | agentics.core.agentics:__lshift__:700 - 4 states processed in 2.9869239926338196 seconds average per state ...\n",
      "2025-09-05 09:25:32.987 | DEBUG    | agentics.core.agentics:__lshift__:545 - Transduction from input texts ['Where is Paris?', 'Who is Alberto Sordi', 'When will climate change be irreverible?', 'Who is the best Jeopardy player?'] to <class 'pydantic._internal._model_construction.ModelMetaclass'> in progress. This might take a while\n",
      "2025-09-05 09:25:32.988 | DEBUG    | agentics.core.agentics:__lshift__:612 - transducer class: <class 'agentics.abstractions.pydantic_transducer.PydanticTransducerCrewAI'>\n"
     ]
    },
    {
     "name": "stdout",
     "output_type": "stream",
     "text": [
      "Atype : <class '__main__.Answer'>\n",
      "answer: Paris is the capital of France\n",
      "justification: The question asks for the location of Paris, and based on general knowledge,\n",
      "  Paris is the capital of France\n",
      "confidence: 0.95\n",
      "\n",
      "\n"
     ]
    },
    {
     "name": "stderr",
     "output_type": "stream",
     "text": [
      "2025-09-05 09:25:37.118 | DEBUG    | agentics.core.agentics:__lshift__:648 - Processed 4 states in 4.130216121673584 seconds\n",
      "2025-09-05 09:25:37.120 | DEBUG    | agentics.core.agentics:__lshift__:700 - 4 states processed in 1.032554030418396 seconds average per state ...\n"
     ]
    }
   ],
   "source": [
    "target = AG(atype=Answer,\n",
    "            batch_size = 4, # This will process 2 questions per batch\n",
    "            verbose_transduction = True, # Set to verbose to see transduction timings and other logs\n",
    "            transduction_logs_path = \"/tmp/answers.jsonl\") # Optionally write longs of transductions on the specified path\n",
    "questions= [\"Where is Paris?\",\n",
    "            \"Who is Alberto Sordi\",\n",
    "            \"When will climate change be irreverible?\",\n",
    "            \"Who is the best Jeopardy player?\"]\n",
    "\n",
    "answers = await (target << questions)\n",
    "\n",
    "print(answer.pretty_print())\n",
    "\n",
    "target.batch_size = 4  ## Processing 4 questions in parallel often results in\n",
    "                                    ## lower execution time\n",
    "                                    ## if supported by LLM backend\n",
    "\n",
    "answers = await (target << questions)"
   ]
  },
  {
   "cell_type": "markdown",
   "id": "298be399",
   "metadata": {
    "id": "298be399"
   },
   "source": [
    "## Self Transduction\n",
    "\n",
    "Self transduction is a method of AGs that enables async execution of transductions between slots of the same object."
   ]
  },
  {
   "cell_type": "code",
   "execution_count": 5,
   "id": "974143b6",
   "metadata": {
    "colab": {
     "base_uri": "https://localhost:8080/"
    },
    "executionInfo": {
     "elapsed": 38722,
     "status": "ok",
     "timestamp": 1757075164819,
     "user": {
      "displayName": "",
      "userId": ""
     },
     "user_tz": -180
    },
    "id": "974143b6",
    "outputId": "0f63dbf4-462d-4be7-8ed5-e6ca62af16aa"
   },
   "outputs": [
    {
     "name": "stderr",
     "output_type": "stream",
     "text": [
      "2025-09-05 09:25:37.128 | DEBUG    | agentics.core.agentics:from_csv:312 - Importing Agentics of type Movie from CSV data/movies.csv\n",
      "2025-09-05 09:25:37.130 | DEBUG    | agentics.core.llm_connections:get_llm_provider:42 - Using specified LLM provider: watsonx\n",
      "2025-09-05 09:25:37.132 | DEBUG    | agentics.core.agentics:__lshift__:518 - Executing task: Generate a tweet to advertise the release of the input movie\n",
      "20 states will be transduced\n",
      "2025-09-05 09:25:37.133 | DEBUG    | agentics.core.agentics:__lshift__:612 - transducer class: <class 'agentics.abstractions.pydantic_transducer.PydanticTransducerCrewAI'>\n",
      "2025-09-05 09:25:44.439 | DEBUG    | agentics.core.agentics:__lshift__:648 - Processed 20 states in 7.3056230545043945 seconds\n",
      "2025-09-05 09:25:44.439 | DEBUG    | agentics.core.agentics:__lshift__:700 - 20 states processed in 0.3652811527252197 seconds average per state ...\n"
     ]
    },
    {
     "name": "stdout",
     "output_type": "stream",
     "text": [
      "Atype : <class '__main__.Movie'>\n",
      "movie_name: The Shawshank Redemption\n",
      "genre: Drama, Crime\n",
      "description: Imprisoned in the 1940s for the double murder of his wife and her lover,\n",
      "  upstanding banker Andy Dufresne begins a new life at the Shawshank prison, where\n",
      "  he puts his accounting skills to work for an amoral warden. During his long stretch\n",
      "  in prison, Dufresne comes to be admired by the other inmates -- including an older\n",
      "  prisoner named Red -- for his integrity and unquenchable sense of hope.\n",
      "tweet: 'Get ready to be inspired! ''The Shawshank Redemption'', a gripping Drama &\n",
      "  Crime film, is now out! Imprisoned for a crime he didn''t commit, Andy Dufresne''s\n",
      "  story of hope, integrity & redemption will leave you moved. Don''t miss it! #TheShawshankRedemption\n",
      "  #NewRelease'\n",
      "\n",
      "movie_name: The Godfather\n",
      "genre: Drama, Crime\n",
      "description: Spanning the years 1945 to 1955, a chronicle of the fictional Italian-American\n",
      "  Corleone crime family. When organized crime family patriarch, Vito Corleone barely\n",
      "  survives an attempt on his life, his youngest son, Michael steps in to take care\n",
      "  of the would-be killers, launching a campaign of bloody revenge.\n",
      "tweet: 'Get ready for a cinematic masterpiece! ''The Godfather'', a gripping Drama\n",
      "  and Crime film, hits the screens! Spanning 1945 to 1955, this intense chronicle\n",
      "  of the Italian-American Corleone crime family will keep you on the edge of your\n",
      "  seat. Don''t miss it! #TheGodfather #Drama #Crime'\n",
      "\n",
      "movie_name: The Godfather Part II\n",
      "genre: Drama, Crime\n",
      "description: In the continuing saga of the Corleone crime family, a young Vito Corleone\n",
      "  grows up in Sicily and in 1910s New York. In the 1950s, Michael Corleone attempts\n",
      "  to expand the family business into Las Vegas, Hollywood and Cuba.\n",
      "tweet: 'Get ready for a cinematic masterpiece! ''The Godfather Part II'' is now out!\n",
      "  This Drama, Crime film follows the Corleone crime family''s saga as they expand\n",
      "  their business into Las Vegas, Hollywood, and Cuba. Don''t miss out on the intense\n",
      "  action and gripping storyline! #TheGodfatherPartII #NewRelease #Drama #Crime'\n",
      "\n",
      "movie_name: Schindler's List\n",
      "genre: Drama, History, War\n",
      "description: The true story of how businessman Oskar Schindler saved over a thousand\n",
      "  Jewish lives from the Nazis while they worked as slaves in his factory during World\n",
      "  War II.\n",
      "tweet: 'Get ready to witness a powerful true story! ''Schindler''s List'' is now out!\n",
      "  This Drama, History, War film tells the story of Oskar Schindler, who saved over\n",
      "  1,000 Jewish lives from the Nazis during WWII. Don''t miss it! #SchindlersList #NewRelease\n",
      "  #MustSee'\n",
      "\n",
      "movie_name: 12 Angry Men\n",
      "genre: Drama\n",
      "description: The defense and the prosecution have rested and the jury is filing into\n",
      "  the jury room to decide if a young Spanish-American is guilty or innocent of murdering\n",
      "  his father. What begins as an open and shut case soon becomes a mini-drama of each\n",
      "  of the jurors' prejudices and preconceptions about the trial, the accused, and each\n",
      "  other.\n",
      "tweet: 'Get ready for a gripping drama! ''12 Angry Men'' is now out! This intense\n",
      "  film tells the story of a jury''s deliberation, exposing their prejudices and preconceptions.\n",
      "  Don''t miss this thought-provoking movie! #12AngryMen #Drama #NewRelease'\n",
      "\n",
      "movie_name: Spirited Away\n",
      "genre: Animation, Family, Fantasy\n",
      "description: A young girl, Chihiro, becomes trapped in a strange new world of spirits.\n",
      "  When her parents undergo a mysterious transformation, she must call upon the courage\n",
      "  she never knew she had to free her family.\n",
      "tweet: 'Get ready to be spirited away! Our new movie ''Spirited Away'' is out now!\n",
      "  This animated fantasy film follows Chihiro, a young girl who must summon her courage\n",
      "  to free her family from a strange new world of spirits. #SpiritedAway #NewMovie\n",
      "  #Animation'\n",
      "\n",
      "movie_name: The Dark Knight\n",
      "genre: Drama, Action, Crime, Thriller\n",
      "description: Batman raises the stakes in his war on crime. With the help of Lt. Jim\n",
      "  Gordon and District Attorney Harvey Dent, Batman sets out to dismantle the remaining\n",
      "  criminal organizations that plague the streets. The partnership proves to be effective,\n",
      "  but they soon find themselves prey to a reign of chaos unleashed by a rising criminal\n",
      "  mastermind known to the terrified citizens of Gotham as the Joker.\n",
      "tweet: 'Get ready for the epic battle between good and evil! ''The Dark Knight'' is\n",
      "  now out in theaters! Batman, Lt. Jim Gordon, and District Attorney Harvey Dent join\n",
      "  forces to take down the notorious Joker and bring justice to the streets of Gotham.\n",
      "  #TheDarkKnight #Batman #Joker'\n",
      "\n",
      "movie_name: Dilwale Dulhania Le Jayenge\n",
      "genre: Comedy, Drama, Romance\n",
      "description: \"Raj is a rich, carefree, happy-go-lucky second generation NRI. Simran\\\n",
      "  \\ is the daughter of Chaudhary Baldev Singh, who in spite of being an NRI is very\\\n",
      "  \\ strict about adherence to Indian values. Simran has left for India to be married\\\n",
      "  \\ to her childhood fianc\\xE9. Raj leaves for India with a mission at his hands,\\\n",
      "  \\ to claim his lady love under the noses of her whole family. Thus begins a saga.\"\n",
      "tweet: 'Get ready to fall in love! ''Dilwale Dulhania Le Jayenge'' is now out! This\n",
      "  Comedy, Drama, Romance film tells the story of Raj and Simran, two young hearts\n",
      "  trying to make their love work despite the odds. Watch the saga unfold! #DilwaleDulhaniaLeJayenge\n",
      "  #NewRelease'\n",
      "\n",
      "movie_name: The Green Mile\n",
      "genre: Fantasy, Drama, Crime\n",
      "description: A supernatural tale set on death row in a Southern prison, where gentle\n",
      "  giant John Coffey possesses the mysterious power to heal people's ailments. When\n",
      "  the cell block's head guard, Paul Edgecomb, recognizes Coffey's miraculous gift,\n",
      "  he tries desperately to help stave off the condemned man's execution.\n",
      "tweet: 'Get ready to experience the supernatural tale of ''The Green Mile''! This\n",
      "  Fantasy, Drama, Crime movie tells the story of John Coffey, a gentle giant with\n",
      "  the power to heal, and his desperate fight against execution. Don''t miss it! #TheGreenMile\n",
      "  #NewRelease #MustWatch'\n",
      "\n",
      "movie_name: Parasite\n",
      "genre: ''\n",
      "description: All unemployed, Ki-taek's family takes peculiar interest in the wealthy\n",
      "  and glamorous Parks for their livelihood until they get entangled in an unexpected\n",
      "  incident.\n",
      "tweet: 'Get ready to experience the thrill! ''Parasite'' is now out! The story of\n",
      "  the unemployed Ki-taek''s family and their unexpected entanglement with the wealthy\n",
      "  Parks family will keep you on the edge of your seat. Don''t miss it! #Parasite #NewRelease'\n",
      "\n",
      "movie_name: Pulp Fiction\n",
      "genre: ''\n",
      "description: A burger-loving hit man, his philosophical partner, a drug-addled gangster's\n",
      "  moll and a washed-up boxer converge in this sprawling, comedic crime caper. Their\n",
      "  adventures unfurl in three stories that ingeniously trip back and forth in time.\n",
      "tweet: 'Get ready for a wild ride! ''Pulp Fiction'' is now out! A burger-loving hit\n",
      "  man, his philosophical partner, a drug-addled gangster''s moll and a washed-up boxer\n",
      "  converge in this sprawling, comedic crime caper. Their adventures unfurl in three\n",
      "  stories that ingeniously trip back and forth in time. #PulpFiction #NewRelease'\n",
      "\n",
      "movie_name: Your Name.\n",
      "genre: ''\n",
      "description: \"High schoolers Mitsuha and Taki are complete strangers living separate\\\n",
      "  \\ lives. But one night, they suddenly switch places. Mitsuha wakes up in Taki\\u2019\\\n",
      "  s body, and he in hers. This bizarre occurrence continues to happen randomly, and\\\n",
      "  \\ the two must adjust their lives around each other.\"\n",
      "tweet: 'Get ready to experience the magical and romantic story of ''Your Name.''!\n",
      "  This stunning anime film follows the lives of two high schoolers, Mitsuha and Taki,\n",
      "  as they switch places and navigate their new reality. Don''t miss out on this unforgettable\n",
      "  journey! #YourName #Anime #MovieNight'\n",
      "\n",
      "movie_name: 'The Lord of the Rings: The Return of the King'\n",
      "genre: ''\n",
      "description: \"As armies mass for a final battle that will decide the fate of the world--and\\\n",
      "  \\ powerful, ancient forces of Light and Dark compete to determine the outcome--one\\\n",
      "  \\ member of the Fellowship of the Ring is revealed as the noble heir to the throne\\\n",
      "  \\ of the Kings of Men. Yet, the sole hope for triumph over evil lies with a brave\\\n",
      "  \\ hobbit, Frodo, who, accompanied by his loyal friend Sam and the hideous, wretched\\\n",
      "  \\ Gollum, ventures deep into the very dark heart of Mordor on his seemingly impossible\\\n",
      "  \\ quest to destroy the Ring of Power.\\u200B\"\n",
      "tweet: 'Get ready for the epic conclusion! ''The Lord of the Rings: The Return of\n",
      "  the King'' is now out! Join Frodo, Sam, and Gollum on their perilous journey to\n",
      "  destroy the Ring of Power and save Middle Earth from darkness. #TheLordOfTheRings\n",
      "  #TheReturnOfTheKing #NewMovieRelease'\n",
      "\n",
      "movie_name: Forrest Gump\n",
      "genre: ''\n",
      "description: \"A man with a low IQ has accomplished great things in his life and been\\\n",
      "  \\ present during significant historic events\\u2014in each case, far exceeding what\\\n",
      "  \\ anyone imagined he could do. But despite all he has achieved, his one true love\\\n",
      "  \\ eludes him.\"\n",
      "tweet: 'Get ready to be inspired! ''Forrest Gump'' is now out! This epic film tells\n",
      "  the story of a man with a low IQ who achieves great things and finds himself in\n",
      "  the middle of significant historic events, all while searching for his one true\n",
      "  love. #ForrestGump #NewRelease'\n",
      "\n",
      "movie_name: The Good, the Bad and the Ugly\n",
      "genre: ''\n",
      "description: \"While the Civil War rages on between the Union and the Confederacy,\\\n",
      "  \\ three men \\u2013 a quiet loner, a ruthless hitman, and a Mexican bandit \\u2013\\\n",
      "  \\ comb the American Southwest in search of a strongbox containing $200,000 in stolen\\\n",
      "  \\ gold.\"\n",
      "tweet: 'Get ready for the wild west! ''The Good, the Bad and the Ugly'' is now out!\n",
      "  Join a quiet loner, a ruthless hitman, and a Mexican bandit on their perilous journey\n",
      "  in search of $200,000 in stolen gold. #TheGoodTheBadAndTheUgly #NewRelease #WesternClassic'\n",
      "\n",
      "movie_name: Seven Samurai\n",
      "genre: ''\n",
      "description: A samurai answers a village's request for protection after he falls on\n",
      "  hard times. The town needs protection from bandits, so the samurai gathers six others\n",
      "  to help him teach the people how to defend themselves, and the villagers provide\n",
      "  the soldiers with food.\n",
      "tweet: 'Get ready for an epic adventure! ''Seven Samurai'' is now out! A samurai answers\n",
      "  a village''s request for protection after he falls on hard times. The town needs\n",
      "  protection from bandits, so the samurai gathers six others to help him teach the\n",
      "  people how to defend themselves. #SevenSamurai #NewRelease'\n",
      "\n",
      "movie_name: GoodFellas\n",
      "genre: ''\n",
      "description: The true story of Henry Hill, a half-Irish, half-Sicilian Brooklyn kid\n",
      "  who is adopted by neighbourhood gangsters at an early age and climbs the ranks of\n",
      "  a Mafia family under the guidance of Jimmy Conway.\n",
      "tweet: 'Get ready to witness the true story of Henry Hill! ''GoodFellas'' is now out!\n",
      "  This gripping film tells the story of a young Brooklyn kid who rises through the\n",
      "  ranks of a Mafia family. Don''t miss it! #GoodFellas #NewRelease #MovieNight'\n",
      "\n",
      "movie_name: Interstellar\n",
      "genre: ''\n",
      "description: The adventures of a group of explorers who make use of a newly discovered\n",
      "  wormhole to surpass the limitations on human space travel and conquer the vast distances\n",
      "  involved in an interstellar voyage.\n",
      "tweet: 'Get ready to explore the cosmos! ''Interstellar'' is now out! Join a group\n",
      "  of brave explorers as they travel through a wormhole and push the boundaries of\n",
      "  human space travel. Don''t miss this epic adventure! #Interstellar #NewMovie #SpaceTravel'\n",
      "\n",
      "movie_name: Grave of the Fireflies\n",
      "genre: ''\n",
      "description: In the final months of World War II, 14-year-old Seita and his sister\n",
      "  Setsuko are orphaned when their mother is killed during an air raid in Kobe, Japan.\n",
      "  After a falling out with their aunt, they move into an abandoned bomb shelter. With\n",
      "  no surviving relatives and their emergency rations depleted, Seita and Setsuko struggle\n",
      "  to survive.\n",
      "tweet: 'Get ready to experience a powerful and emotional journey! ''Grave of the Fireflies''\n",
      "  is now out! This heart-wrenching film tells the story of two orphaned siblings struggling\n",
      "  to survive in war-torn Japan. Don''t miss this classic tale of hope and resilience.\n",
      "  #GraveOfTheFireflies #NewRelease'\n",
      "\n",
      "movie_name: Life Is Beautiful\n",
      "genre: ''\n",
      "description: A touching story of an Italian book seller of Jewish ancestry who lives\n",
      "  in his own little fairy tale. His creative and happy life would come to an abrupt\n",
      "  halt when his entire family is deported to a concentration camp during World War\n",
      "  II. While locked up he tries to convince his son that the whole thing is just a\n",
      "  game.\n",
      "tweet: 'Get ready to experience the powerful & emotional story of ''Life Is Beautiful''!\n",
      "  This heart-wrenching film tells the tale of an Italian book seller''s fight to protect\n",
      "  his son in a concentration camp during WW2. A must-watch! #LifeIsBeautiful #NewRelease'\n",
      "\n",
      "\n"
     ]
    }
   ],
   "source": [
    "from pydantic import BaseModel, Field\n",
    "from typing import Optional\n",
    "from pathlib import Path\n",
    "## Define the Pydantic type\n",
    "class Movie(BaseModel):\n",
    "    movie_name: Optional[str] = None ## Note that fields name should match the column name in the input csv\n",
    "    genre: Optional[str] = None\n",
    "    description: Optional[str]=None\n",
    "    tweet: Optional[str]=Field(None,description=\"Generate a Tweet to advertise the movie\")\n",
    "base = Path(CURRENT_PATH)\n",
    "movies = AG.from_csv( base / \"data/movies.csv\", atype=Movie, max_rows=20) ## Load the input data from a csv file\n",
    "movies.verbose_transduction = True\n",
    "movies.llm=get_llm_provider(\"watsonx\") ## You can choose between \"openai\", \"watsonx\", \"gemini\", \"vllm_crewai\"\n",
    "\n",
    "movies_with_tweets = await movies.self_transduction(\n",
    "\n",
    "    [\"movie_name\", \"genre\", \"description\"], ## source fields\n",
    "    [\"tweet\"],                              ## target fields\n",
    "\n",
    "    ## Note that instruction are only needed when the  relation between source and target type\n",
    "    # is not innediately clear and need to be further specified or disambiguated.\n",
    "    instructions=\"Generate a tweet to advertise the release of the input movie\")\n",
    "\n",
    "print(movies_with_tweets.pretty_print())"
   ]
  },
  {
   "cell_type": "markdown",
   "id": "fc007db0",
   "metadata": {
    "id": "fc007db0"
   },
   "source": [
    "As an alternative, self transduction can be encoded using logical transduction algebra which uses the AG() notation to rebind the original data into AGs of the requested subtypes. Learn more about atype manipulation in agentics [here](link)"
   ]
  },
  {
   "cell_type": "code",
   "execution_count": 6,
   "id": "8dbb1b7f",
   "metadata": {
    "colab": {
     "base_uri": "https://localhost:8080/"
    },
    "executionInfo": {
     "elapsed": 38963,
     "status": "ok",
     "timestamp": 1757075203780,
     "user": {
      "displayName": "",
      "userId": ""
     },
     "user_tz": -180
    },
    "id": "8dbb1b7f",
    "outputId": "d9c0de9a-56ba-498e-f0e9-051b5c78cec9"
   },
   "outputs": [
    {
     "name": "stderr",
     "output_type": "stream",
     "text": [
      "2025-09-05 09:25:44.456 | DEBUG    | agentics.core.agentics:from_csv:312 - Importing Agentics of type Movie from CSV data/movies.csv\n",
      "2025-09-05 09:25:44.459 | DEBUG    | agentics.core.agentics:__lshift__:518 - Executing task: Generate a tweet to advertise the release of the input movie\n",
      "20 states will be transduced\n",
      "2025-09-05 09:25:44.460 | DEBUG    | agentics.core.agentics:__lshift__:612 - transducer class: <class 'agentics.abstractions.pydantic_transducer.PydanticTransducerCrewAI'>\n",
      "2025-09-05 09:25:52.172 | DEBUG    | agentics.core.agentics:__lshift__:648 - Processed 20 states in 7.71193790435791 seconds\n",
      "2025-09-05 09:25:52.173 | DEBUG    | agentics.core.agentics:__lshift__:700 - 20 states processed in 0.38559689521789553 seconds average per state ...\n"
     ]
    },
    {
     "name": "stdout",
     "output_type": "stream",
     "text": [
      "Atype : <class 'agentics.core.agentics.tweet'>\n",
      "tweet: 'Get ready to be inspired! ''The Shawshank Redemption'', a gripping Drama &\n",
      "  Crime film, is now out! Imprisoned for a crime he didn''t commit, Andy Dufresne''s\n",
      "  story of hope & redemption will leave you moved. Don''t miss it! #TheShawshankRedemption\n",
      "  #NewRelease #MustWatch'\n",
      "\n",
      "tweet: 'Get ready for a cinematic masterpiece! ''The Godfather'', a gripping Drama\n",
      "  & Crime film, is out now! Spanning 1945 to 1955, this epic tale of the Italian-American\n",
      "  Corleone crime family will keep you on the edge of your seat. Don''t miss it! #TheGodfather\n",
      "  #Drama #Crime'\n",
      "\n",
      "tweet: 'Get ready for a cinematic masterpiece! ''The Godfather Part II'' is now out!\n",
      "  This gripping Drama, Crime film follows the Corleone crime family''s saga as they\n",
      "  expand their empire. Don''t miss the epic story of Vito and Michael Corleone''s\n",
      "  journey! #TheGodfatherPartII #Drama #Crime'\n",
      "\n",
      "tweet: 'Get ready to witness a powerful true story! ''Schindler''s List'', a gripping\n",
      "  Drama, History, War film, is now out! Discover how Oskar Schindler saved over 1000\n",
      "  Jewish lives from the Nazis during WWII. Don''t miss this epic release! #SchindlersList\n",
      "  #NewRelease #MustWatch'\n",
      "\n",
      "tweet: 'Get ready for a gripping Drama! ''12 Angry Men'' is now out! The fate of a\n",
      "  young Spanish-American hangs in the balance as 12 jurors must put aside their prejudices\n",
      "  to decide his guilt or innocence. Will justice prevail? #12AngryMen #Drama #NewRelease'\n",
      "\n",
      "tweet: 'Get ready to be transported to a world of wonder! ''Spirited Away'', an unforgettable\n",
      "  Animation, Family, Fantasy film, is now out! Join Chihiro on her brave journey as\n",
      "  she navigates a strange new world to free her family. #SpiritedAway #NewRelease\n",
      "  #MustSee'\n",
      "\n",
      "tweet: 'Get ready for the epic battle between good and evil! ''The Dark Knight'' is\n",
      "  now out in theaters! Batman, Lt. Jim Gordon, and District Attorney Harvey Dent join\n",
      "  forces to take down the remaining criminal organizations in Gotham, but the Joker\n",
      "  has other plans. Don''t miss this action-packed Drama, Action, Crime, Thriller movie!\n",
      "  #TheDarkKnight #Batman #Joker'\n",
      "\n",
      "tweet: 'Get ready to fall in love! ''Dilwale Dulhania Le Jayenge'' is now out! This\n",
      "  Comedy, Drama, Romance film tells the story of Raj and Simran, two souls from different\n",
      "  worlds, and their journey to be together. Don''t miss out on this epic saga! #DilwaleDulhaniaLeJayenge\n",
      "  #NewRelease'\n",
      "\n",
      "tweet: 'Get ready to experience the magic of ''The Green Mile''! This supernatural\n",
      "  tale of a gentle giant with healing powers will leave you on the edge of your seat.\n",
      "  Fantasy, Drama, and Crime come together in a story that will touch your heart. #TheGreenMile\n",
      "  #NewRelease #MustWatch'\n",
      "\n",
      "tweet: 'Get ready to experience the thrill! ''Parasite'' is now out! All unemployed,\n",
      "  Ki-taek''s family takes peculiar interest in the wealthy and glamorous Parks for\n",
      "  their livelihood until they get entangled in an unexpected incident. #Parasite #NewRelease'\n",
      "\n",
      "tweet: 'Get ready for a thrilling ride! ''Pulp Fiction'' is now out! A burger-loving\n",
      "  hit man, his philosophical partner, a drug-addled gangster''s moll and a washed-up\n",
      "  boxer converge in this comedic crime caper. #PulpFiction #NewRelease #MovieNight'\n",
      "\n",
      "tweet: 'Get ready to experience a mind-bending romance! ''Your Name.'' is now out!\n",
      "  This beautifully crafted film tells the story of two high schoolers, Mitsuha and\n",
      "  Taki, who mysteriously switch lives. Don''t miss out on this unique love story!\n",
      "  #YourName #NewRelease #MovieNight'\n",
      "\n",
      "tweet: 'Get ready for the epic conclusion! ''The Lord of the Rings: The Return of\n",
      "  the King'' is out now! Join Frodo, Sam, and Gollum on their perilous journey to\n",
      "  destroy the Ring of Power and save Middle Earth from the darkness. #TheLordOfTheRings\n",
      "  #TheReturnOfTheKing #NewMovieRelease'\n",
      "\n",
      "tweet: 'Get ready to be inspired! ''Forrest Gump'' is now out! This iconic film tells\n",
      "  the story of a man who defies all odds and achieves greatness, despite his low IQ.\n",
      "  With a heartwarming and historic journey, don''t miss out on this incredible movie!\n",
      "  #ForrestGump #NewRelease'\n",
      "\n",
      "tweet: 'Get ready for the epic Western adventure! ''The Good, the Bad and the Ugly''\n",
      "  is now released! Join a quiet loner, a ruthless hitman, and a Mexican bandit as\n",
      "  they search for $200,000 in stolen gold in the American Southwest. #TheGoodTheBadAndTheUgly\n",
      "  #WesternMovie #NewRelease'\n",
      "\n",
      "tweet: 'Get ready for an epic adventure! ''Seven Samurai'' is now out! A samurai answers\n",
      "  a village''s request for protection after he falls on hard times. The town needs\n",
      "  protection from bandits, so the samurai gathers six others to help him teach the\n",
      "  people how to defend themselves. #SevenSamurai #NewRelease'\n",
      "\n",
      "tweet: 'Get ready to witness the thrilling true story of Henry Hill! ''GoodFellas''\n",
      "  is now out! This gripping film tells the tale of a young Brooklyn kid''s rise through\n",
      "  the ranks of a Mafia family. Don''t miss it! #GoodFellas #NewRelease #MovieNight'\n",
      "\n",
      "tweet: 'Get ready to explore the cosmos! ''Interstellar'' is now out! Join a group\n",
      "  of brave explorers as they travel through a newly discovered wormhole to conquer\n",
      "  the vast distances of an interstellar voyage. Don''t miss this epic adventure! #Interstellar\n",
      "  #NewMovie #SpaceTravel'\n",
      "\n",
      "tweet: 'Get ready to witness a powerful and emotional journey! ''Grave of the Fireflies''\n",
      "  is now out! This heart-wrenching film tells the story of two orphaned siblings,\n",
      "  Seita and Setsuko, struggling to survive in war-torn Japan. Don''t miss this critically\n",
      "  acclaimed movie! #GraveOfTheFireflies #NewRelease'\n",
      "\n",
      "tweet: 'Get ready to experience a powerful & emotional journey! ''Life Is Beautiful''\n",
      "  is now out! This heart-wrenching film tells the story of an Italian book seller''s\n",
      "  fight to protect his son''s innocence in the midst of WWII. Don''t miss it! #LifeIsBeautiful\n",
      "  #NewRelease #MustSee'\n",
      "\n",
      "\n"
     ]
    }
   ],
   "source": [
    "\n",
    "movies = AG.from_csv( base / \"data/movies.csv\", atype=Movie, max_rows=20)\n",
    "tweets = await (AG(atype=movies(\"tweet\").atype,\n",
    "                   instructions=\"Generate a tweet to advertise the release of the input movie\")\n",
    "                << movies(\"movie_name\",\"genre\",\"description\" ))\n",
    "print(tweets.pretty_print())    ## Note that differently from self transduction the output tweets\n",
    "                                ##has only the tweet field, whereas self transduction preserves\n",
    "                                ## the original source data"
   ]
  },
  {
   "cell_type": "markdown",
   "id": "c3044a80",
   "metadata": {
    "id": "c3044a80"
   },
   "source": [
    "## Few Shots Transduction\n",
    "\n",
    "Few shots examples can be provided for transduction by adding instances of the target instances in correspondance to their sources . Those will be used by the LLM to infer by analogy all the Null instances of the target type.\n"
   ]
  },
  {
   "cell_type": "code",
   "execution_count": null,
   "id": "a4803bba",
   "metadata": {
    "colab": {
     "base_uri": "https://localhost:8080/"
    },
    "executionInfo": {
     "elapsed": 7671,
     "status": "ok",
     "timestamp": 1757075243259,
     "user": {
      "displayName": "",
      "userId": ""
     },
     "user_tz": -180
    },
    "id": "a4803bba",
    "outputId": "ca59e4dc-a35e-4aec-c823-37ab94ef94b4"
   },
   "outputs": [
    {
     "name": "stderr",
     "output_type": "stream",
     "text": [
      "2025-09-05 09:25:52.211 | DEBUG    | agentics.core.agentics:__lshift__:518 - Executing task: Generate an object of the specified type from the following input.\n",
      "20 states will be transduced\n",
      "2025-09-05 09:25:52.212 | DEBUG    | agentics.core.agentics:__lshift__:612 - transducer class: <class 'agentics.abstractions.pydantic_transducer.PydanticTransducerCrewAI'>\n"
     ]
    },
    {
     "name": "stdout",
     "output_type": "stream",
     "text": [
      "0: Drama, Crime\n",
      "1: Drama, Crime\n",
      "2: Drama, Crime\n",
      "3: Drama, History, War\n",
      "4: Drama\n",
      "5: Animation, Family, Fantasy\n",
      "6: Drama, Action, Crime, Thriller\n",
      "7: Comedy, Drama, Romance\n",
      "8: Fantasy, Drama, Crime\n",
      "9: \n",
      "10: \n",
      "11: \n",
      "12: \n",
      "13: \n",
      "14: \n",
      "15: \n",
      "16: \n",
      "17: \n",
      "18: \n",
      "19: \n"
     ]
    },
    {
     "name": "stderr",
     "output_type": "stream",
     "text": [
      "2025-09-05 09:25:54.159 | DEBUG    | agentics.core.agentics:__lshift__:648 - Processed 20 states in 1.9466400146484375 seconds\n",
      "2025-09-05 09:25:54.159 | DEBUG    | agentics.core.agentics:__lshift__:700 - 20 states processed in 0.09733200073242188 seconds average per state ...\n",
      "2025-09-05 09:25:54.161 | DEBUG    | agentics.core.agentics:__lshift__:518 - Executing task: Generate an object of the specified type from the following input.\n",
      "20 states will be transduced\n",
      "2025-09-05 09:25:54.162 | DEBUG    | agentics.core.agentics:__lshift__:612 - transducer class: <class 'agentics.abstractions.pydantic_transducer.PydanticTransducerCrewAI'>\n"
     ]
    },
    {
     "name": "stdout",
     "output_type": "stream",
     "text": [
      "Atype : <class 'agentics.core.agentics.genre'>\n",
      "genre: Drama, Crime\n",
      "\n",
      "genre: Drama, Crime\n",
      "\n",
      "genre: Drama, Crime\n",
      "\n",
      "genre: Drama, History, War\n",
      "\n",
      "genre: Drama\n",
      "\n",
      "genre: Animation, Family, Fantasy\n",
      "\n",
      "genre: Drama, Action, Crime, Thriller\n",
      "\n",
      "genre: Comedy, Drama, Romance\n",
      "\n",
      "genre: Fantasy, Drama, Crime\n",
      "\n",
      "genre: Drama, Comedy, Thriller\n",
      "\n",
      "genre: Crime, Drama\n",
      "\n",
      "genre: Fantasy, Romance\n",
      "\n",
      "genre: Fantasy, Adventure, Drama\n",
      "\n",
      "genre: Drama, Romance\n",
      "\n",
      "genre: Western, Drama\n",
      "\n",
      "genre: Action, Adventure, Drama\n",
      "\n",
      "genre: Drama, Crime\n",
      "\n",
      "genre: Adventure, Science Fiction\n",
      "\n",
      "genre: Drama, War\n",
      "\n",
      "genre: Drama, Comedy\n",
      "\n",
      "\n"
     ]
    },
    {
     "name": "stderr",
     "output_type": "stream",
     "text": [
      "2025-09-05 09:25:55.709 | DEBUG    | agentics.core.agentics:__lshift__:648 - Processed 20 states in 1.547492265701294 seconds\n",
      "2025-09-05 09:25:55.710 | DEBUG    | agentics.core.agentics:__lshift__:700 - 20 states processed in 0.0773746132850647 seconds average per state ...\n"
     ]
    },
    {
     "name": "stdout",
     "output_type": "stream",
     "text": [
      "Atype : <class 'agentics.core.utils.AType#movie_name:genre:descriptionOptional'>\n",
      "movie_name: The Shawshank Redemption\n",
      "genre: Drama, Crime\n",
      "description: Imprisoned in the 1940s for the double murder of his wife and her lover,\n",
      "  upstanding banker Andy Dufresne begins a new life at the Shawshank prison, where\n",
      "  he puts his accounting skills to work for an amoral warden. During his long stretch\n",
      "  in prison, Dufresne comes to be admired by the other inmates -- including an older\n",
      "  prisoner named Red -- for his integrity and unquenchable sense of hope.\n",
      "\n",
      "movie_name: The Godfather\n",
      "genre: Drama, Crime\n",
      "description: Spanning the years 1945 to 1955, a chronicle of the fictional Italian-American\n",
      "  Corleone crime family. When organized crime family patriarch, Vito Corleone barely\n",
      "  survives an attempt on his life, his youngest son, Michael steps in to take care\n",
      "  of the would-be killers, launching a campaign of bloody revenge.\n",
      "\n",
      "movie_name: The Godfather Part II\n",
      "genre: Drama, Crime\n",
      "description: In the continuing saga of the Corleone crime family, a young Vito Corleone\n",
      "  grows up in Sicily and in 1910s New York. In the 1950s, Michael Corleone attempts\n",
      "  to expand the family business into Las Vegas, Hollywood and Cuba.\n",
      "\n",
      "movie_name: Schindler's List\n",
      "genre: Drama, History, War\n",
      "description: The true story of how businessman Oskar Schindler saved over a thousand\n",
      "  Jewish lives from the Nazis while they worked as slaves in his factory during World\n",
      "  War II.\n",
      "\n",
      "movie_name: 12 Angry Men\n",
      "genre: Drama\n",
      "description: The defense and the prosecution have rested and the jury is filing into\n",
      "  the jury room to decide if a young Spanish-American is guilty or innocent of murdering\n",
      "  his father. What begins as an open and shut case soon becomes a mini-drama of each\n",
      "  of the jurors' prejudices and preconceptions about the trial, the accused, and each\n",
      "  other.\n",
      "\n",
      "movie_name: Spirited Away\n",
      "genre: Animation, Family, Fantasy\n",
      "description: A young girl, Chihiro, becomes trapped in a strange new world of spirits.\n",
      "  When her parents undergo a mysterious transformation, she must call upon the courage\n",
      "  she never knew she had to free her family.\n",
      "\n",
      "movie_name: The Dark Knight\n",
      "genre: Drama, Action, Crime, Thriller\n",
      "description: Batman raises the stakes in his war on crime. With the help of Lt. Jim\n",
      "  Gordon and District Attorney Harvey Dent, Batman sets out to dismantle the remaining\n",
      "  criminal organizations that plague the streets. The partnership proves to be effective,\n",
      "  but they soon find themselves prey to a reign of chaos unleashed by a rising criminal\n",
      "  mastermind known to the terrified citizens of Gotham as the Joker.\n",
      "\n",
      "movie_name: Dilwale Dulhania Le Jayenge\n",
      "genre: Comedy, Drama, Romance\n",
      "description: \"Raj is a rich, carefree, happy-go-lucky second generation NRI. Simran\\\n",
      "  \\ is the daughter of Chaudhary Baldev Singh, who in spite of being an NRI is very\\\n",
      "  \\ strict about adherence to Indian values. Simran has left for India to be married\\\n",
      "  \\ to her childhood fianc\\xE9. Raj leaves for India with a mission at his hands,\\\n",
      "  \\ to claim his lady love under the noses of her whole family. Thus begins a saga.\"\n",
      "\n",
      "movie_name: The Green Mile\n",
      "genre: Fantasy, Drama, Crime\n",
      "description: A supernatural tale set on death row in a Southern prison, where gentle\n",
      "  giant John Coffey possesses the mysterious power to heal people's ailments. When\n",
      "  the cell block's head guard, Paul Edgecomb, recognizes Coffey's miraculous gift,\n",
      "  he tries desperately to help stave off the condemned man's execution.\n",
      "\n",
      "movie_name: Parasite\n",
      "genre: Comedy, Drama, Thriller\n",
      "description: All unemployed, Ki-taek's family takes peculiar interest in the wealthy\n",
      "  and glamorous Parks for their livelihood until they get entangled in an unexpected\n",
      "  incident.\n",
      "\n",
      "movie_name: Pulp Fiction\n",
      "genre: Crime, Drama\n",
      "description: A burger-loving hit man, his philosophical partner, a drug-addled gangster's\n",
      "  moll and a washed-up boxer converge in this sprawling, comedic crime caper. Their\n",
      "  adventures unfurl in three stories that ingeniously trip back and forth in time.\n",
      "\n",
      "movie_name: Your Name.\n",
      "genre: Fantasy, Romance, Animation\n",
      "description: \"High schoolers Mitsuha and Taki are complete strangers living separate\\\n",
      "  \\ lives. But one night, they suddenly switch places. Mitsuha wakes up in Taki\\u2019\\\n",
      "  s body, and he in hers. This bizarre occurrence continues to happen randomly, and\\\n",
      "  \\ the two must adjust their lives around each other.\"\n",
      "\n",
      "movie_name: 'The Lord of the Rings: The Return of the King'\n",
      "genre: Fantasy, Adventure, Drama\n",
      "description: \"As armies mass for a final battle that will decide the fate of the world--and\\\n",
      "  \\ powerful, ancient forces of Light and Dark compete to determine the outcome--one\\\n",
      "  \\ member of the Fellowship of the Ring is revealed as the noble heir to the throne\\\n",
      "  \\ of the Kings of Men. Yet, the sole hope for triumph over evil lies with a brave\\\n",
      "  \\ hobbit, Frodo, who, accompanied by his loyal friend Sam and the hideous, wretched\\\n",
      "  \\ Gollum, ventures deep into the very dark heart of Mordor on his seemingly impossible\\\n",
      "  \\ quest to destroy the Ring of Power.\\u200B\"\n",
      "\n",
      "movie_name: Forrest Gump\n",
      "genre: Drama, Romance\n",
      "description: \"A man with a low IQ has accomplished great things in his life and been\\\n",
      "  \\ present during significant historic events\\u2014in each case, far exceeding what\\\n",
      "  \\ anyone imagined he could do. But despite all he has achieved, his one true love\\\n",
      "  \\ eludes him.\"\n",
      "\n",
      "movie_name: The Good, the Bad and the Ugly\n",
      "genre: Western, Adventure, Drama\n",
      "description: \"While the Civil War rages on between the Union and the Confederacy,\\\n",
      "  \\ three men \\u2013 a quiet loner, a ruthless hitman, and a Mexican bandit \\u2013\\\n",
      "  \\ comb the American Southwest in search of a strongbox containing $200,000 in stolen\\\n",
      "  \\ gold.\"\n",
      "\n",
      "movie_name: Seven Samurai\n",
      "genre: Action, Adventure, Drama\n",
      "description: A samurai answers a village's request for protection after he falls on\n",
      "  hard times. The town needs protection from bandits, so the samurai gathers six others\n",
      "  to help him teach the people how to defend themselves, and the villagers provide\n",
      "  the soldiers with food.\n",
      "\n",
      "movie_name: GoodFellas\n",
      "genre: Drama, Crime\n",
      "description: The true story of Henry Hill, a half-Irish, half-Sicilian Brooklyn kid\n",
      "  who is adopted by neighbourhood gangsters at an early age and climbs the ranks of\n",
      "  a Mafia family under the guidance of Jimmy Conway.\n",
      "\n",
      "movie_name: Interstellar\n",
      "genre: Science Fiction, Adventure\n",
      "description: The adventures of a group of explorers who make use of a newly discovered\n",
      "  wormhole to surpass the limitations on human space travel and conquer the vast distances\n",
      "  involved in an interstellar voyage.\n",
      "\n",
      "movie_name: Grave of the Fireflies\n",
      "genre: Drama, War\n",
      "description: In the final months of World War II, 14-year-old Seita and his sister\n",
      "  Setsuko are orphaned when their mother is killed during an air raid in Kobe, Japan.\n",
      "  After a falling out with their aunt, they move into an abandoned bomb shelter. With\n",
      "  no surviving relatives and their emergency rations depleted, Seita and Setsuko struggle\n",
      "  to survive.\n",
      "\n",
      "movie_name: Life Is Beautiful\n",
      "genre: Drama, Comedy\n",
      "description: A touching story of an Italian book seller of Jewish ancestry who lives\n",
      "  in his own little fairy tale. His creative and happy life would come to an abrupt\n",
      "  halt when his entire family is deported to a concentration camp during World War\n",
      "  II. While locked up he tries to convince his son that the whole thing is just a\n",
      "  game.\n",
      "\n",
      "\n"
     ]
    }
   ],
   "source": [
    "movies = AG.from_csv(base / \"data/movies.csv\", max_rows=20)\n",
    "## Note that obly the first 9 movies have categories\n",
    "for i, movie in enumerate(movies): print(f\"{i}: {movie.genre}\")\n",
    "## predicting new genre from given examples\n",
    "all_genres=await (movies(\"genre\")<<movies(\"movie_name\",  \"description\"))\n",
    "print(all_genres.pretty_print())\n",
    "## few shots examples can also be used in self transfuction\n",
    "movies_with_genre = await movies.self_transduction([\"movie_name\",  \"description\"],[\"genre\"])\n",
    "print(movies_with_genre.pretty_print())"
   ]
  }
 ],
 "metadata": {
  "colab": {
   "provenance": [
    {
     "file_id": "https://github.com/IBM/Agentics/blob/Colab/tutorials/transduction.ipynb",
     "timestamp": 1757075262425
    }
   ]
  },
  "kernelspec": {
   "display_name": ".venv",
   "language": "python",
   "name": "python3"
  },
  "language_info": {
   "codemirror_mode": {
    "name": "ipython",
    "version": 3
   },
   "file_extension": ".py",
   "mimetype": "text/x-python",
   "name": "python",
   "nbconvert_exporter": "python",
   "pygments_lexer": "ipython3",
   "version": "3.12.9"
  },
  "widgets": {
   "application/vnd.jupyter.widget-state+json": {
    "333bba1a5012475a946a9d10ae2525fc": {
     "model_module": "@jupyter-widgets/output",
     "model_module_version": "1.0.0",
     "model_name": "OutputModel",
     "state": {
      "_dom_classes": [],
      "_model_module": "@jupyter-widgets/output",
      "_model_module_version": "1.0.0",
      "_model_name": "OutputModel",
      "_view_count": null,
      "_view_module": "@jupyter-widgets/output",
      "_view_module_version": "1.0.0",
      "_view_name": "OutputView",
      "layout": "IPY_MODEL_958824c60e6a422cbe77d7dc95cbed16",
      "msg_id": "",
      "outputs": [
       {
        "data": {
         "text/html": "<pre style=\"white-space:pre;overflow-x:auto;line-height:normal;font-family:Menlo,'DejaVu Sans Mono',consolas,'Courier New',monospace\"><span style=\"color: #008080; text-decoration-color: #008080; font-weight: bold\">🚀 Crew: crew</span>\n└── <span style=\"color: #808000; text-decoration-color: #808000; font-weight: bold\">📋 Task: 9a635803-1e07-4de4-a5df-3e332d7e7051</span>\n    <span style=\"color: #c0c0c0; text-decoration-color: #c0c0c0\">Status: </span><span style=\"color: #bfbf7f; text-decoration-color: #bfbf7f\">Executing Task...</span>\n</pre>\n",
         "text/plain": "\u001b[1;36m🚀 Crew: \u001b[0m\u001b[1;36mcrew\u001b[0m\n└── \u001b[1;33m📋 Task: 9a635803-1e07-4de4-a5df-3e332d7e7051\u001b[0m\n    \u001b[37mStatus: \u001b[0m\u001b[2;33mExecuting Task...\u001b[0m\n"
        },
        "metadata": {},
        "output_type": "display_data"
       }
      ]
     }
    },
    "958824c60e6a422cbe77d7dc95cbed16": {
     "model_module": "@jupyter-widgets/base",
     "model_module_version": "1.2.0",
     "model_name": "LayoutModel",
     "state": {
      "_model_module": "@jupyter-widgets/base",
      "_model_module_version": "1.2.0",
      "_model_name": "LayoutModel",
      "_view_count": null,
      "_view_module": "@jupyter-widgets/base",
      "_view_module_version": "1.2.0",
      "_view_name": "LayoutView",
      "align_content": null,
      "align_items": null,
      "align_self": null,
      "border": null,
      "bottom": null,
      "display": null,
      "flex": null,
      "flex_flow": null,
      "grid_area": null,
      "grid_auto_columns": null,
      "grid_auto_flow": null,
      "grid_auto_rows": null,
      "grid_column": null,
      "grid_gap": null,
      "grid_row": null,
      "grid_template_areas": null,
      "grid_template_columns": null,
      "grid_template_rows": null,
      "height": null,
      "justify_content": null,
      "justify_items": null,
      "left": null,
      "margin": null,
      "max_height": null,
      "max_width": null,
      "min_height": null,
      "min_width": null,
      "object_fit": null,
      "object_position": null,
      "order": null,
      "overflow": null,
      "overflow_x": null,
      "overflow_y": null,
      "padding": null,
      "right": null,
      "top": null,
      "visibility": null,
      "width": null
     }
    }
   }
  }
 },
 "nbformat": 4,
 "nbformat_minor": 5
}
