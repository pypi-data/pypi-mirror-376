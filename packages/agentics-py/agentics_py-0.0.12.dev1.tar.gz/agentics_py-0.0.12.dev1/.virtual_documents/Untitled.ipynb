from agentics import Agentics as AG
from pydantic import BaseModel
import asyncio

# Define the structured output schema
class Answer(BaseModel):
    answer: str
    justification: str

async def main():
    # Initialize the Agentics pipeline with the output type
    answers = AG.from_pydantic(Answer)

    # Submit a batch of input questions
    answers = answers << [
        "How many states are in the US?",
        "Who is the greatest philosopher of all time?"
    ]

    # Execute the transduction
    answers = await answers

    # Print structured results
    print(answers.states)

# Run the async main function
await main()



