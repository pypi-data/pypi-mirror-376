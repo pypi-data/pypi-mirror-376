{
 "cells": [
  {
   "cell_type": "code",
   "execution_count": 1,
   "id": "fe8e24b7-2ab0-479a-af49-56b9f1a66493",
   "metadata": {},
   "outputs": [
    {
     "ename": "AttributeError",
     "evalue": "from_pydantic",
     "output_type": "error",
     "traceback": [
      "\u001b[31m---------------------------------------------------------------------------\u001b[39m",
      "\u001b[31mAttributeError\u001b[39m                            Traceback (most recent call last)",
      "\u001b[36mCell\u001b[39m\u001b[36m \u001b[39m\u001b[32mIn[1]\u001b[39m\u001b[32m, line 27\u001b[39m\n\u001b[32m     24\u001b[39m     \u001b[38;5;28mprint\u001b[39m(answers.states)\n\u001b[32m     26\u001b[39m \u001b[38;5;66;03m# Run the async main function\u001b[39;00m\n\u001b[32m---> \u001b[39m\u001b[32m27\u001b[39m \u001b[38;5;28;01mawait\u001b[39;00m main()\n",
      "\u001b[36mCell\u001b[39m\u001b[36m \u001b[39m\u001b[32mIn[1]\u001b[39m\u001b[32m, line 12\u001b[39m, in \u001b[36mmain\u001b[39m\u001b[34m()\u001b[39m\n\u001b[32m     10\u001b[39m \u001b[38;5;28;01masync\u001b[39;00m \u001b[38;5;28;01mdef\u001b[39;00m\u001b[38;5;250m \u001b[39m\u001b[34mmain\u001b[39m():\n\u001b[32m     11\u001b[39m     \u001b[38;5;66;03m# Initialize the Agentics pipeline with the output type\u001b[39;00m\n\u001b[32m---> \u001b[39m\u001b[32m12\u001b[39m     answers = \u001b[43mAG\u001b[49m\u001b[43m.\u001b[49m\u001b[43mfrom_pydantic\u001b[49m(Answer)\n\u001b[32m     14\u001b[39m     \u001b[38;5;66;03m# Submit a batch of input questions\u001b[39;00m\n\u001b[32m     15\u001b[39m     answers = answers << [\n\u001b[32m     16\u001b[39m         \u001b[33m\"\u001b[39m\u001b[33mHow many states are in the US?\u001b[39m\u001b[33m\"\u001b[39m,\n\u001b[32m     17\u001b[39m         \u001b[33m\"\u001b[39m\u001b[33mWho is the greatest philosopher of all time?\u001b[39m\u001b[33m\"\u001b[39m\n\u001b[32m     18\u001b[39m     ]\n",
      "\u001b[36mFile \u001b[39m\u001b[32m~/Library/Caches/uv/archive-v0/PveIN-GP_tk-Bcm1R4Ont/lib/python3.13/site-packages/pydantic/_internal/_model_construction.py:271\u001b[39m, in \u001b[36mModelMetaclass.__getattr__\u001b[39m\u001b[34m(self, item)\u001b[39m\n\u001b[32m    269\u001b[39m \u001b[38;5;28;01mif\u001b[39;00m private_attributes \u001b[38;5;129;01mand\u001b[39;00m item \u001b[38;5;129;01min\u001b[39;00m private_attributes:\n\u001b[32m    270\u001b[39m     \u001b[38;5;28;01mreturn\u001b[39;00m private_attributes[item]\n\u001b[32m--> \u001b[39m\u001b[32m271\u001b[39m \u001b[38;5;28;01mraise\u001b[39;00m \u001b[38;5;167;01mAttributeError\u001b[39;00m(item)\n",
      "\u001b[31mAttributeError\u001b[39m: from_pydantic"
     ]
    }
   ],
   "source": [
    "from agentics import Agentics as AG\n",
    "from pydantic import BaseModel\n",
    "import asyncio\n",
    "\n",
    "# Define the structured output schema\n",
    "class Answer(BaseModel):\n",
    "    answer: str\n",
    "    justification: str\n",
    "\n",
    "async def main():\n",
    "    # Initialize the Agentics pipeline with the output type\n",
    "    answers = AG.from_pydantic(Answer)\n",
    "\n",
    "    # Submit a batch of input questions\n",
    "    answers = answers << [\n",
    "        \"How many states are in the US?\",\n",
    "        \"Who is the greatest philosopher of all time?\"\n",
    "    ]\n",
    "\n",
    "    # Execute the transduction\n",
    "    answers = await answers\n",
    "\n",
    "    # Print structured results\n",
    "    print(answers.states)\n",
    "\n",
    "# Run the async main function\n",
    "await main()"
   ]
  },
  {
   "cell_type": "code",
   "execution_count": null,
   "id": "6c50b1ba-bb8a-4670-8320-c077ed787806",
   "metadata": {},
   "outputs": [],
   "source": []
  }
 ],
 "metadata": {
  "kernelspec": {
   "display_name": "Python 3 (ipykernel)",
   "language": "python",
   "name": "python3"
  },
  "language_info": {
   "codemirror_mode": {
    "name": "ipython",
    "version": 3
   },
   "file_extension": ".py",
   "mimetype": "text/x-python",
   "name": "python",
   "nbconvert_exporter": "python",
   "pygments_lexer": "ipython3",
   "version": "3.13.3"
  }
 },
 "nbformat": 4,
 "nbformat_minor": 5
}
