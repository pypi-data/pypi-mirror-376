{
 "cells": [
  {
   "cell_type": "code",
   "source": [
    "from line_solver import *\n",
    "GlobalConstants.setVerbose(VerboseLevel.STD)"
   ],
   "metadata": {
    "collapsed": false,
    "ExecuteTime": {
     "end_time": "2025-07-17T00:37:45.425247Z",
     "start_time": "2025-07-17T00:37:45.400423Z"
    }
   },
   "id": "f7f879166a5915ce",
   "outputs": [],
   "execution_count": 4
  },
  {
   "cell_type": "code",
   "source": [
    "model = Network(\"M/M/1 model\")\n",
    "source = Source(model, \"mySource\")\n",
    "queue = Queue(model, \"myQueue\", SchedStrategy.FCFS)\n",
    "sink = Sink(model, \"mySink\")\n",
    "\n",
    "# An M/M/1 queue with arrival rate 0.5 and service rate 1.0\n",
    "openclass = OpenClass(model, \"Class1\")\n",
    "source.setArrival(openclass, Exp(1.0))\n",
    "queue.setService(openclass, Exp(2.0))\n",
    "\n",
    "model.addLink(source, queue)\n",
    "model.addLink(queue, sink)"
   ],
   "metadata": {
    "collapsed": false,
    "ExecuteTime": {
     "end_time": "2025-07-17T00:37:45.904801Z",
     "start_time": "2025-07-17T00:37:45.876Z"
    }
   },
   "id": "efab7afb7190e806",
   "outputs": [],
   "execution_count": 5
  },
  {
   "cell_type": "code",
   "source": [
    "solver = SolverJMT(model)\n",
    "table = solver.get_avg_table()  # pandas.DataFrame\n",
    "#model.jsimgView() ## uncomment to visualize model"
   ],
   "metadata": {
    "collapsed": false,
    "ExecuteTime": {
     "end_time": "2025-07-17T00:37:53.680853Z",
     "start_time": "2025-07-17T00:37:46.358034Z"
    }
   },
   "id": "ca8edb4c7cec0496",
   "outputs": [
    {
     "name": "stdout",
     "output_type": "stream",
     "text": [
      "JMT Model: /tmp/workspace/jsim/11397352320258984602/jmodel.jsim\n",
      "    Station JobClass    QLen    Util   RespT  ResidT    ArvR    Tput\n",
      "0  mySource   Class1  0.0000  0.0000  0.0000  0.0000  0.0000  0.9822\n",
      "1   myQueue   Class1  0.8238  0.4881  0.9506  0.9506  0.9822  0.9817\n"
     ]
    }
   ],
   "execution_count": 6
  }
 ],
 "metadata": {
  "kernelspec": {
   "display_name": "Python 3",
   "language": "python",
   "name": "python3"
  },
  "language_info": {
   "codemirror_mode": {
    "name": "ipython",
    "version": 2
   },
   "file_extension": ".py",
   "mimetype": "text/x-python",
   "name": "python",
   "nbconvert_exporter": "python",
   "pygments_lexer": "ipython2",
   "version": "2.7.6"
  }
 },
 "nbformat": 4,
 "nbformat_minor": 5
}
