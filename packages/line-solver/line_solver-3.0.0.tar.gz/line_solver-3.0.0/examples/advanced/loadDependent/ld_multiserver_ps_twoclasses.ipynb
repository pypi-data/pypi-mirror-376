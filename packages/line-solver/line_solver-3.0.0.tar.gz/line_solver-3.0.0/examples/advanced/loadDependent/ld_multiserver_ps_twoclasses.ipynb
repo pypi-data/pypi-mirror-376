{
 "cells": [
  {
   "cell_type": "code",
   "metadata": {
    "ExecuteTime": {
     "end_time": "2025-07-14T16:56:28.343862Z",
     "start_time": "2025-07-14T16:56:28.323135Z"
    }
   },
   "source": [
    "from line_solver import *\n",
    "import numpy as np\n",
    "GlobalConstants.set_verbose(VerboseLevel.STD)"
   ],
   "outputs": [],
   "execution_count": 14
  },
  {
   "cell_type": "code",
   "metadata": {
    "ExecuteTime": {
     "end_time": "2025-07-14T16:56:28.482310Z",
     "start_time": "2025-07-14T16:56:28.461396Z"
    }
   },
   "source": [
    "# Model parameters\n",
    "N = 4  # number of jobs in Class1\n",
    "c = 2  # number of servers\n",
    "\n",
    "# Create network\n",
    "model = Network('model')\n",
    "node1 = Delay(model, 'Delay')\n",
    "node2 = Queue(model, 'Queue1', SchedStrategy.PS)\n",
    "\n",
    "# Create job classes\n",
    "jobclass1 = ClosedClass(model, 'Class1', N, node1, 0)\n",
    "jobclass2 = ClosedClass(model, 'Class2', N // 2, node1, 0)  # N/2 = 2 jobs\n",
    "\n",
    "# Set service times\n",
    "node1.set_service(jobclass1, Exp.fitMean(1.0))   # Class1: mean = 1.0\n",
    "node1.set_service(jobclass2, Exp.fitMean(2.0))   # Class2: mean = 2.0\n",
    "node2.set_service(jobclass1, Exp.fitMean(1.5))   # Class1: mean = 1.5\n",
    "node2.set_service(jobclass2, Exp.fitMean(2.5))   # Class2: mean = 2.5\n",
    "node2.set_number_of_servers(c)\n",
    "\n",
    "# Create routing matrix\n",
    "P = model.init_routing_matrix()\n",
    "P.set(jobclass1, jobclass1, node1, node2, 1.0)\n",
    "P.set(jobclass1, jobclass1, node2, node1, 1.0)\n",
    "P.set(jobclass2, jobclass2, node1, node2, 1.0)\n",
    "P.set(jobclass2, jobclass2, node2, node1, 1.0)\n",
    "model.link(P)"
   ],
   "outputs": [],
   "execution_count": 15
  },
  {
   "metadata": {
    "ExecuteTime": {
     "end_time": "2025-07-14T16:56:28.707364Z",
     "start_time": "2025-07-14T16:56:28.596669Z"
    }
   },
   "cell_type": "code",
   "source": "avg_table_mva=SolverMVA(model, method='exact').get_avg_table()",
   "outputs": [
    {
     "name": "stdout",
     "output_type": "stream",
     "text": [
      "MVA [method: exact, lang: java, env: 17.0.15] completed in 0.000020s.\n",
      "  Station JobClass    QLen    Util   RespT  ResidT    ArvR    Tput\n",
      "0   Delay   Class1  0.8975  0.8975  1.0000  1.0000  0.8975  0.8975\n",
      "1   Delay   Class2  0.5116  0.5116  2.0000  2.0000  0.2558  0.2558\n",
      "2  Queue1   Class1  3.1025  0.6731  3.4568  3.4568  0.8975  0.8975\n",
      "3  Queue1   Class2  1.4884  0.3197  5.8190  5.8190  0.2558  0.2558\n"
     ]
    }
   ],
   "execution_count": 16
  },
  {
   "metadata": {
    "ExecuteTime": {
     "end_time": "2025-07-14T16:56:29.007637Z",
     "start_time": "2025-07-14T16:56:28.946850Z"
    }
   },
   "cell_type": "code",
   "source": [
    "# Create load-dependent model\n",
    "ldmodel = Network('ldmodel')\n",
    "ldnode1 = Delay(ldmodel, 'Delay')\n",
    "ldnode2 = Queue(ldmodel, 'Queue1', SchedStrategy.PS)\n",
    "\n",
    "# Create job classes for load-dependent model\n",
    "ldjobclass1 = ClosedClass(ldmodel, 'Class1', N, ldnode1, 0)\n",
    "ldjobclass2 = ClosedClass(ldmodel, 'Class2', N // 2, ldnode1, 0)\n",
    "\n",
    "# Set service times for load-dependent model\n",
    "ldnode1.set_service(ldjobclass1, Exp.fitMean(1.0))\n",
    "ldnode1.set_service(ldjobclass2, Exp.fitMean(2.0))\n",
    "ldnode2.set_service(ldjobclass1, Exp.fitMean(1.5))\n",
    "ldnode2.set_service(ldjobclass2, Exp.fitMean(2.5))\n",
    "\n",
    "# Set load dependence: min(total_jobs+1, 2) servers available\n",
    "# Create load dependence matrix where rows are total jobs (0 to 6) and columns are service rates\n",
    "max_jobs = N + N // 2  # 4 + 2 = 6 total jobs\n",
    "ld_matrix = np.zeros((max_jobs + 1, 2))  # (total_jobs+1) x num_classes\n",
    "\n",
    "for total_jobs in range(max_jobs + 1):\n",
    "    servers_available = min(total_jobs + 1, c)\n",
    "    ld_matrix[total_jobs, 0] = servers_available  # Class1 scaling\n",
    "    ld_matrix[total_jobs, 1] = servers_available  # Class2 scaling\n",
    "\n",
    "ldnode2.set_load_dependence(ld_matrix)\n",
    "ldnode2.set_number_of_servers(c)\n",
    "\n",
    "# Create routing matrix for load-dependent model\n",
    "P_ld = ldmodel.init_routing_matrix()\n",
    "P_ld.set(ldjobclass1, ldjobclass1, ldnode1, ldnode2, 1.0)\n",
    "P_ld.set(ldjobclass1, ldjobclass1, ldnode2, ldnode1, 1.0)\n",
    "P_ld.set(ldjobclass2, ldjobclass2, ldnode1, ldnode2, 1.0)\n",
    "P_ld.set(ldjobclass2, ldjobclass2, ldnode2, ldnode1, 1.0)\n",
    "ldmodel.link(P_ld)"
   ],
   "outputs": [],
   "execution_count": 17
  },
  {
   "cell_type": "code",
   "source": [
    "# Solve load-dependent model with CTMC\n",
    "lldAvgTableCTMC=SolverCTMC(ldmodel).get_avg_table()"
   ],
   "metadata": {
    "ExecuteTime": {
     "end_time": "2025-07-14T16:56:29.353313Z",
     "start_time": "2025-07-14T16:56:29.183476Z"
    }
   },
   "outputs": [
    {
     "ename": "org.ejml.MatrixDimensionException",
     "evalue": "org.ejml.MatrixDimensionException: srcX1 < srcX0 || srcX0 < 0 || srcX1 > src.numCols. ( 6x2 ) ( 2x6 )",
     "output_type": "error",
     "traceback": [
      "\u001b[31m---------------------------------------------------------------------------\u001b[39m",
      "\u001b[31mException\u001b[39m                                 Traceback (most recent call last)",
      "\u001b[36mFile \u001b[39m\u001b[32mSolverCTMC.java:55\u001b[39m, in \u001b[36mjline.solvers.ctmc.SolverCTMC.<init>\u001b[39m\u001b[34m()\u001b[39m\n",
      "\u001b[31mException\u001b[39m: Java Exception",
      "\nThe above exception was the direct cause of the following exception:\n",
      "\u001b[31morg.ejml.MatrixDimensionException\u001b[39m         Traceback (most recent call last)",
      "\u001b[36mCell\u001b[39m\u001b[36m \u001b[39m\u001b[32mIn[18]\u001b[39m\u001b[32m, line 2\u001b[39m\n\u001b[32m      1\u001b[39m \u001b[38;5;66;03m# Solve load-dependent model with CTMC\u001b[39;00m\n\u001b[32m----> \u001b[39m\u001b[32m2\u001b[39m lldAvgTableCTMC=\u001b[43mSolverCTMC\u001b[49m\u001b[43m(\u001b[49m\u001b[43mldmodel\u001b[49m\u001b[43m)\u001b[49m.getAvgTable()\n",
      "\u001b[36mFile \u001b[39m\u001b[32m~/line-solver.git/python/line_solver/solvers.py:406\u001b[39m, in \u001b[36mSolverCTMC.__init__\u001b[39m\u001b[34m(self, *args)\u001b[39m\n\u001b[32m    404\u001b[39m \u001b[38;5;28msuper\u001b[39m().\u001b[34m__init__\u001b[39m(options, args)\n\u001b[32m    405\u001b[39m model = args[\u001b[32m0\u001b[39m] \u001b[38;5;66;03m# model is the first argument\u001b[39;00m\n\u001b[32m--> \u001b[39m\u001b[32m406\u001b[39m \u001b[38;5;28mself\u001b[39m.obj = \u001b[43mjpype\u001b[49m\u001b[43m.\u001b[49m\u001b[43mJPackage\u001b[49m\u001b[43m(\u001b[49m\u001b[33;43m'\u001b[39;49m\u001b[33;43mjline\u001b[39;49m\u001b[33;43m'\u001b[39;49m\u001b[43m)\u001b[49m\u001b[43m.\u001b[49m\u001b[43msolvers\u001b[49m\u001b[43m.\u001b[49m\u001b[43mctmc\u001b[49m\u001b[43m.\u001b[49m\u001b[43mSolverCTMC\u001b[49m\u001b[43m(\u001b[49m\u001b[43mmodel\u001b[49m\u001b[43m.\u001b[49m\u001b[43mobj\u001b[49m\u001b[43m,\u001b[49m\u001b[43m \u001b[49m\u001b[38;5;28;43mself\u001b[39;49m\u001b[43m.\u001b[49m\u001b[43msolveropt\u001b[49m\u001b[43m.\u001b[49m\u001b[43mobj\u001b[49m\u001b[43m)\u001b[49m\n",
      "\u001b[31morg.ejml.MatrixDimensionException\u001b[39m: org.ejml.MatrixDimensionException: srcX1 < srcX0 || srcX0 < 0 || srcX1 > src.numCols. ( 6x2 ) ( 2x6 )"
     ]
    }
   ],
   "execution_count": 18
  },
  {
   "cell_type": "code",
   "execution_count": null,
   "metadata": {
    "ExecuteTime": {
     "end_time": "2025-07-14T16:56:33.332181Z",
     "start_time": "2025-07-14T16:56:33.180252Z"
    }
   },
   "outputs": [],
   "source": [
    "# Solve with NC methods\n",
    "lldAvgTableNC=SolverNC(ldmodel).get_avg_table()"
   ]
  },
  {
   "cell_type": "code",
   "execution_count": null,
   "metadata": {
    "ExecuteTime": {
     "end_time": "2025-07-14T16:56:33.332181Z",
     "start_time": "2025-07-14T16:56:33.180252Z"
    }
   },
   "outputs": [],
   "source": [
    "\n",
    "lldAvgTableRD=SolverNC(ldmodel, method='rd').get_avg_table()"
   ]
  },
  {
   "cell_type": "code",
   "execution_count": null,
   "metadata": {
    "ExecuteTime": {
     "end_time": "2025-07-14T16:56:33.332181Z",
     "start_time": "2025-07-14T16:56:33.180252Z"
    }
   },
   "outputs": [],
   "source": "lldAvgTableNRP=SolverNC(ldmodel, method='nrp').get_avg_table()"
  },
  {
   "cell_type": "code",
   "execution_count": null,
   "metadata": {
    "ExecuteTime": {
     "end_time": "2025-07-14T16:56:33.332181Z",
     "start_time": "2025-07-14T16:56:33.180252Z"
    }
   },
   "outputs": [],
   "source": "lldAvgTableNRL=SolverNC(ldmodel, method='nrl').get_avg_table()"
  },
  {
   "cell_type": "code",
   "execution_count": null,
   "metadata": {
    "ExecuteTime": {
     "end_time": "2025-07-14T16:56:36.194161Z",
     "start_time": "2025-07-14T16:56:35.925796Z"
    }
   },
   "outputs": [],
   "source": [
    "# Solve with MVA methods\n",
    "lldAvgTableMVALD=SolverMVA(ldmodel, method='exact').get_avg_table()"
   ]
  },
  {
   "cell_type": "code",
   "execution_count": null,
   "metadata": {
    "ExecuteTime": {
     "end_time": "2025-07-14T16:56:36.194161Z",
     "start_time": "2025-07-14T16:56:35.925796Z"
    }
   },
   "outputs": [],
   "source": "lldAvgTableQD=SolverMVA(ldmodel, method='qd').get_avg_table()"
  }
 ],
 "metadata": {
  "kernelspec": {
   "display_name": "Python 3",
   "language": "python",
   "name": "python3"
  },
  "language_info": {
   "codemirror_mode": {
    "name": "ipython",
    "version": 3
   },
   "file_extension": ".py",
   "name": "python",
   "nbconvert_exporter": "python",
   "pygments_lexer": "ipython3",
   "version": "3.8.5"
  }
 },
 "nbformat": 4,
 "nbformat_minor": 4
}