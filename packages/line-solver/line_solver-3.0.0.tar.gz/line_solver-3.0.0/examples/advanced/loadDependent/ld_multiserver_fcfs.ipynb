{
 "cells": [
  {
   "cell_type": "code",
   "source": [
    "from line_solver import *\n",
    "GlobalConstants.set_verbose(VerboseLevel.STD)"
   ],
   "metadata": {
    "collapsed": false,
    "ExecuteTime": {
     "end_time": "2025-07-14T16:57:34.186196Z",
     "start_time": "2025-07-14T16:57:29.110947Z"
    }
   },
   "id": "2a6c869fa9057919",
   "outputs": [],
   "execution_count": 1
  },
  {
   "cell_type": "code",
   "source": [
    "N = 16 # number of jobs\n",
    "c = 2 # number of servers\n",
    "\n",
    "model = Network('model')\n",
    "node = np.empty(2, dtype=object)\n",
    "node[0] = Delay(model, 'Delay')\n",
    "node[1] = Queue(model, 'Queue1', SchedStrategy.FCFS)\n",
    "\n",
    "jobclass = ClosedClass(model, 'Class1', N, node[0], 0)\n",
    "\n",
    "node[0].set_service(jobclass, Exp.fitMean(1.0)) # mean = 1\n",
    "node[1].set_service(jobclass, Exp.fitMean(1.5)) # mean = 1.5\n",
    "node[1].set_number_of_servers(c)\n",
    "\n",
    "model.link(Network.serialRouting(node))\n",
    "\n",
    "msT=SolverNC(model).get_avg_table()\n",
    "print(msT)"
   ],
   "metadata": {
    "collapsed": false,
    "ExecuteTime": {
     "end_time": "2025-07-14T16:57:35.728765Z",
     "start_time": "2025-07-14T16:57:34.888550Z"
    }
   },
   "id": "872654342869e1c9",
   "outputs": [
    {
     "name": "stdout",
     "output_type": "stream",
     "text": [
      "NC [method: comomld, lang: java, env: 17.0.15] completed in 0.000213s.\n",
      "  Station JobClass     QLen    Util  RespT  ResidT    ArvR    Tput\n",
      "0   Delay   Class1   1.3333  1.3333    1.0     1.0  1.3333  1.3333\n",
      "1  Queue1   Class1  14.6667  1.0000   11.0    11.0  1.3333  1.3333\n",
      "  Station JobClass     QLen    Util  RespT  ResidT    ArvR    Tput\n",
      "0   Delay   Class1   1.3333  1.3333    1.0     1.0  1.3333  1.3333\n",
      "1  Queue1   Class1  14.6667  1.0000   11.0    11.0  1.3333  1.3333\n"
     ]
    }
   ],
   "execution_count": 2
  },
  {
   "cell_type": "code",
   "source": [
    "# casted with scaling function that depends on the total queue\n",
    "ldmodel = Network('model')\n",
    "node = np.empty(2, dtype=object)\n",
    "node[0] = Delay(ldmodel, 'Delay')\n",
    "node[1] = Queue(ldmodel, 'Queue1', SchedStrategy.FCFS)\n",
    "\n",
    "jobclass = ClosedClass(ldmodel, 'Class1', N, node[0], 0)\n",
    "\n",
    "node[0].set_service(jobclass, Exp.fitMean(1.0)) # mean = 1\n",
    "node[1].set_service(jobclass, Exp.fitMean(1.5)) # mean = 1.5\n",
    "\n",
    "node[1].set_load_dependence(np.minimum(np.arange(1,N+1,1),c)) # multi-server with c servers\n",
    "\n",
    "ldmodel.link(Network.serialRouting(node))\n",
    "\n",
    "lldAvgTableCTMC=SolverCTMC(ldmodel).get_avg_table()\n",
    "print(lldAvgTableCTMC)"
   ],
   "metadata": {
    "collapsed": false,
    "ExecuteTime": {
     "end_time": "2025-07-14T16:57:36.681873Z",
     "start_time": "2025-07-14T16:57:35.826617Z"
    }
   },
   "id": "3b4929fbdb789da7",
   "outputs": [
    {
     "name": "stdout",
     "output_type": "stream",
     "text": [
      "CTMC [method: default, lang: java, env: 17.0.15] completed in 0.299000s.\n",
      "  Station JobClass     QLen    Util  RespT  ResidT    ArvR    Tput\n",
      "0   Delay   Class1   1.3333  1.3333    1.0     1.0  1.3333  1.3333\n",
      "1  Queue1   Class1  14.6667  1.0000   11.0    11.0  1.3333  1.3333\n",
      "  Station JobClass     QLen    Util  RespT  ResidT    ArvR    Tput\n",
      "0   Delay   Class1   1.3333  1.3333    1.0     1.0  1.3333  1.3333\n",
      "1  Queue1   Class1  14.6667  1.0000   11.0    11.0  1.3333  1.3333\n"
     ]
    }
   ],
   "execution_count": 3
  },
  {
   "metadata": {
    "ExecuteTime": {
     "end_time": "2025-07-14T16:57:37.572671Z",
     "start_time": "2025-07-14T16:57:37.107177Z"
    }
   },
   "cell_type": "code",
   "source": "lldAvgTableNC=SolverNC(ldmodel).get_avg_table()",
   "id": "171a4faf09e518e2",
   "outputs": [
    {
     "name": "stderr",
     "output_type": "stream",
     "text": [
      "java.lang.IllegalArgumentException: The solver accepts at most a single queueing station.\n",
      "\tat jline.api.pfqn.Pfqn_comomrm_ldKt.pfqn_comomrm_ld(Pfqn_comomrm_ld.kt:98)\n",
      "\tat jline.api.pfqn.Pfqn_ncldKt.compute_norm_const_ld(Pfqn_ncld.kt:317)\n",
      "\tat jline.api.pfqn.Pfqn_ncldKt.pfqn_ncld(Pfqn_ncld.kt:248)\n",
      "\tat jline.solvers.nc.handlers.Solver_ncldKt.solver_ncld(Solver_ncld.kt:208)\n",
      "\tat jline.solvers.nc.analyzers.Solver_ncld_analyzerKt.solver_ncld_analyzer(Solver_ncld_analyzer.kt:62)\n",
      "\tat jline.solvers.nc.SolverNC.runAnalyzer(SolverNC.java:416)\n",
      "\tat jline.solvers.NetworkSolver.getAvg(NetworkSolver.java:216)\n",
      "\tat jline.solvers.NetworkSolver.getAvgTable(NetworkSolver.java:1659)\n"
     ]
    },
    {
     "ename": "java.lang.RuntimeException",
     "evalue": "java.lang.RuntimeException: Unable to compute results and therefore unable to print AvgTable.",
     "output_type": "error",
     "traceback": [
      "\u001b[31m---------------------------------------------------------------------------\u001b[39m",
      "\u001b[31mException\u001b[39m                                 Traceback (most recent call last)",
      "\u001b[36mFile \u001b[39m\u001b[32mNetworkSolver.java:1663\u001b[39m, in \u001b[36mjline.solvers.NetworkSolver.getAvgTable\u001b[39m\u001b[34m()\u001b[39m\n",
      "\u001b[31mException\u001b[39m: Java Exception",
      "\nThe above exception was the direct cause of the following exception:\n",
      "\u001b[31mjava.lang.RuntimeException\u001b[39m                Traceback (most recent call last)",
      "\u001b[36mCell\u001b[39m\u001b[36m \u001b[39m\u001b[32mIn[4]\u001b[39m\u001b[32m, line 1\u001b[39m\n\u001b[32m----> \u001b[39m\u001b[32m1\u001b[39m lldAvgTableNC=\u001b[43mSolverNC\u001b[49m\u001b[43m(\u001b[49m\u001b[43mldmodel\u001b[49m\u001b[43m)\u001b[49m\u001b[43m.\u001b[49m\u001b[43mgetAvgTable\u001b[49m\u001b[43m(\u001b[49m\u001b[43m)\u001b[49m\n",
      "\u001b[36mFile \u001b[39m\u001b[32m~/line-solver.git/python/line_solver/solvers.py:245\u001b[39m, in \u001b[36mNetworkSolver.getAvgTable\u001b[39m\u001b[34m(self)\u001b[39m\n\u001b[32m    244\u001b[39m \u001b[38;5;28;01mdef\u001b[39;00m\u001b[38;5;250m \u001b[39m\u001b[34mgetAvgTable\u001b[39m(\u001b[38;5;28mself\u001b[39m):\n\u001b[32m--> \u001b[39m\u001b[32m245\u001b[39m     table = \u001b[38;5;28;43mself\u001b[39;49m\u001b[43m.\u001b[49m\u001b[43mobj\u001b[49m\u001b[43m.\u001b[49m\u001b[43mgetAvgTable\u001b[49m\u001b[43m(\u001b[49m\u001b[43m)\u001b[49m\n\u001b[32m    247\u001b[39m     \u001b[38;5;66;03m# convert to NumPy\u001b[39;00m\n\u001b[32m    249\u001b[39m     QLen = np.array(\u001b[38;5;28mlist\u001b[39m(table.getQLen()))\n",
      "\u001b[31mjava.lang.RuntimeException\u001b[39m: java.lang.RuntimeException: Unable to compute results and therefore unable to print AvgTable."
     ]
    }
   ],
   "execution_count": 4
  },
  {
   "metadata": {},
   "cell_type": "code",
   "source": "lldAvgTableRD=SolverNC(ldmodel, method='rd').get_avg_table()",
   "id": "c057d2f06c8a195a",
   "outputs": [],
   "execution_count": null
  },
  {
   "metadata": {},
   "cell_type": "code",
   "source": "lldAvgTableNRP=SolverNC(ldmodel, method='nrp').get_avg_table()",
   "id": "479058fc6045d8ca",
   "outputs": [],
   "execution_count": null
  },
  {
   "metadata": {},
   "cell_type": "code",
   "source": "lldAvgTableNRL=SolverNC(ldmodel, method='nrl').get_avg_table()",
   "id": "20401292f216d012",
   "outputs": [],
   "execution_count": null
  },
  {
   "metadata": {},
   "cell_type": "code",
   "source": "lldAvgTableMVALD=SolverMVA(ldmodel, method='exact').get_avg_table()",
   "id": "e5a0acb919526898",
   "outputs": [],
   "execution_count": null
  },
  {
   "metadata": {},
   "cell_type": "code",
   "source": "lldAvgTableQD=SolverMVA(ldmodel, method='qd').get_avg_table()",
   "id": "dc1f1ee1d02f4b22",
   "outputs": [],
   "execution_count": null
  },
  {
   "cell_type": "code",
   "execution_count": null,
   "metadata": {
    "collapsed": false
   },
   "outputs": [],
   "source": [
    "# casted with scaling function that depends on the per-class queue population\n",
    "cdmodel = Network('model')\n",
    "node = np.empty(2, dtype=object)\n",
    "node[0] = Delay(cdmodel, 'Delay')\n",
    "node[1] = Queue(cdmodel, 'Queue1', SchedStrategy.FCFS)\n",
    "\n",
    "jobclass = ClosedClass(cdmodel, 'Class1', N, node[0], 0)\n",
    "\n",
    "node[0].set_service(jobclass, Exp.fitMean(1.0)) # mean = 1\n",
    "node[1].set_service(jobclass, Exp.fitMean(1.5)) # mean = 1.5\n",
    "\n",
    "# Note: setClassDependence(@(ni) min(sum(ni),c)) not available in Python\n",
    "#node[1].set_load_dependence(np.minimum(np.arange(1,N+1,1),c))\n",
    "\n",
    "#cdmodel.link(Network.serialRouting(node))\n",
    "#cdAvgTableCTMC=SolverCTMC(cdmodel).get_avg_table()"
   ],
   "id": "initial_id_split_9"
  }
 ],
 "metadata": {
  "kernelspec": {
   "display_name": "Python 3",
   "language": "python",
   "name": "python3"
  },
  "language_info": {
   "codemirror_mode": {
    "name": "ipython",
    "version": 2
   },
   "file_extension": ".py",
   "mimetype": "text/x-python",
   "name": "python",
   "nbconvert_exporter": "python",
   "pygments_lexer": "ipython2",
   "version": "2.7.6"
  }
 },
 "nbformat": 4,
 "nbformat_minor": 5
}