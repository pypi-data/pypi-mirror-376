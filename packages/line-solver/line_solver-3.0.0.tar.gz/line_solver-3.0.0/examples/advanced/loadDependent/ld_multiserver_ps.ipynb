{
 "cells": [
  {
   "cell_type": "markdown",
   "metadata": {},
   "source": [
    "# Load-Dependent Example 3: Multi-Class Load Dependence with PS Scheduling\n",
    "\n",
    "This example demonstrates load-dependent queues with multiple job classes and PS (Processor Sharing) scheduling.\n",
    "\n",
    "**Features:**\n",
    "- Two closed classes: Class1 (4 jobs), Class2 (2 jobs)\n",
    "- Three stations: Delay + two PS queues with load dependence\n",
    "- Each queue has 3 servers with load dependence: min(total_jobs, servers)\n",
    "- Compares load-independent model vs load-dependent model\n",
    "- Demonstrates different solver methods: CTMC, NC, MVA"
   ]
  },
  {
   "cell_type": "code",
   "metadata": {
    "ExecuteTime": {
     "end_time": "2025-07-14T23:55:28.273620Z",
     "start_time": "2025-07-14T23:55:23.193199Z"
    }
   },
   "source": [
    "from line_solver import *\n",
    "import numpy as np\n",
    "GlobalConstants.set_verbose(VerboseLevel.STD)"
   ],
   "outputs": [],
   "execution_count": 1
  },
  {
   "cell_type": "code",
   "metadata": {
    "ExecuteTime": {
     "end_time": "2025-07-14T23:55:28.802840Z",
     "start_time": "2025-07-14T23:55:28.697839Z"
    }
   },
   "source": [
    "# Model parameters\n",
    "N = 4  # number of jobs in Class1\n",
    "c = 3  # number of servers per queue\n",
    "\n",
    "# Create load-independent model for comparison\n",
    "model = Network('model')\n",
    "node1 = Delay(model, 'Delay')\n",
    "node2 = Queue(model, 'Queue1', SchedStrategy.PS)\n",
    "node3 = Queue(model, 'Queue2', SchedStrategy.PS)\n",
    "\n",
    "# Create job classes\n",
    "jobclass1 = ClosedClass(model, 'Class1', N, node1, 0)\n",
    "jobclass2 = ClosedClass(model, 'Class2', N // 2, node1, 0)  # N/2 = 2 jobs\n",
    "\n",
    "# Set service times\n",
    "node1.set_service(jobclass1, Exp.fitMean(1.0))  # mean = 1.0\n",
    "node1.set_service(jobclass2, Exp.fitMean(2.0))  # mean = 2.0\n",
    "\n",
    "node2.set_service(jobclass1, Exp.fitMean(1.5))  # mean = 1.5\n",
    "node2.set_service(jobclass2, Exp.fitMean(2.5))  # mean = 2.5\n",
    "node2.set_number_of_servers(c)\n",
    "\n",
    "node3.set_service(jobclass1, Exp.fitMean(3.5))  # mean = 3.5\n",
    "node3.set_service(jobclass2, Exp.fitMean(4.5))  # mean = 4.5\n",
    "node3.set_number_of_servers(c)\n",
    "\n",
    "# Create routing matrix (serial routing for each class)\n",
    "P = model.init_routing_matrix()\n",
    "P.set(jobclass1, jobclass1, node1, node2, 1.0)\n",
    "P.set(jobclass1, jobclass1, node2, node3, 1.0)\n",
    "P.set(jobclass1, jobclass1, node3, node1, 1.0)\n",
    "P.set(jobclass2, jobclass2, node1, node2, 1.0)\n",
    "P.set(jobclass2, jobclass2, node2, node3, 1.0)\n",
    "P.set(jobclass2, jobclass2, node3, node1, 1.0)\n",
    "model.link(P)"
   ],
   "outputs": [],
   "execution_count": 2
  },
  {
   "cell_type": "code",
   "metadata": {
    "ExecuteTime": {
     "end_time": "2025-07-14T23:55:29.651761Z",
     "start_time": "2025-07-14T23:55:29.116349Z"
    }
   },
   "source": [
    "# Solve load-independent model with MVA\n",
    "solver_mva = SolverMVA(model, method='exact')\n",
    "msT = solver_mva.get_avg_table()"
   ],
   "outputs": [
    {
     "name": "stdout",
     "output_type": "stream",
     "text": [
      "MVA [method: exact, lang: java, env: 17.0.15] completed in 0.000099s.\n",
      "  Station JobClass    QLen    Util   RespT  ResidT    ArvR    Tput\n",
      "0   Delay   Class1  0.5467  0.5467  1.0000  1.0000  0.5467  0.5467\n",
      "1   Delay   Class2  0.3694  0.3694  2.0000  2.0000  0.1847  0.1847\n",
      "2  Queue1   Class1  0.8564  0.2734  1.5664  1.5664  0.5467  0.5467\n",
      "3  Queue1   Class2  0.4808  0.1539  2.6027  2.6027  0.1847  0.1847\n",
      "4  Queue2   Class1  2.5969  0.6379  4.7498  4.7498  0.5467  0.5467\n",
      "5  Queue2   Class2  1.1498  0.2771  6.2244  6.2244  0.1847  0.1847\n"
     ]
    }
   ],
   "execution_count": 3
  },
  {
   "cell_type": "code",
   "metadata": {
    "ExecuteTime": {
     "end_time": "2025-07-14T23:55:29.807320Z",
     "start_time": "2025-07-14T23:55:29.713371Z"
    }
   },
   "source": [
    "# Create load-dependent model\n",
    "ldmodel = Network('ldmodel')\n",
    "node1 = Delay(ldmodel, 'Delay')\n",
    "node2 = Queue(ldmodel, 'Queue1', SchedStrategy.PS)\n",
    "node3 = Queue(ldmodel, 'Queue2', SchedStrategy.PS)\n",
    "\n",
    "# Create job classes\n",
    "jobclass1 = ClosedClass(ldmodel, 'Class1', N, node1, 0)\n",
    "jobclass2 = ClosedClass(ldmodel, 'Class2', N // 2, node1, 0)\n",
    "\n",
    "# Set service times (same as load-independent model)\n",
    "node1.set_service(jobclass1, Exp.fitMean(1.0))\n",
    "node1.set_service(jobclass2, Exp.fitMean(2.0))\n",
    "\n",
    "node2.set_service(jobclass1, Exp.fitMean(1.5))\n",
    "node2.set_service(jobclass2, Exp.fitMean(2.5))\n",
    "\n",
    "node3.set_service(jobclass1, Exp.fitMean(3.5))\n",
    "node3.set_service(jobclass2, Exp.fitMean(4.5))\n",
    "\n",
    "# Set load dependence: min(total_jobs, c) servers\n",
    "total_jobs = N + N // 2  # 4 + 2 = 6 total jobs\n",
    "alpha = np.minimum(np.arange(1, total_jobs + 1), c)  # min(1:6, 3) = [1,2,3,3,3,3]\n",
    "node2.set_load_dependence(alpha)\n",
    "node3.set_load_dependence(alpha)\n",
    "\n",
    "# Create routing matrix\n",
    "P = ldmodel.init_routing_matrix()\n",
    "P.set(jobclass1, jobclass1, node1, node2, 1.0)\n",
    "P.set(jobclass1, jobclass1, node2, node3, 1.0)\n",
    "P.set(jobclass1, jobclass1, node3, node1, 1.0)\n",
    "P.set(jobclass2, jobclass2, node1, node2, 1.0)\n",
    "P.set(jobclass2, jobclass2, node2, node3, 1.0)\n",
    "P.set(jobclass2, jobclass2, node3, node1, 1.0)\n",
    "ldmodel.link(P)"
   ],
   "outputs": [],
   "execution_count": 4
  },
  {
   "cell_type": "code",
   "metadata": {
    "ExecuteTime": {
     "end_time": "2025-07-14T23:55:30.709193Z",
     "start_time": "2025-07-14T23:55:29.885325Z"
    }
   },
   "source": [
    "# Solve with CTMC (exact solution)\n",
    "solver_ctmc = SolverCTMC(ldmodel)\n",
    "lldAvgTableCTMC = solver_ctmc.get_avg_table()"
   ],
   "outputs": [
    {
     "name": "stdout",
     "output_type": "stream",
     "text": [
      "CTMC [method: default, lang: java, env: 17.0.15] completed in 0.410000s.\n",
      "  Station JobClass    QLen    Util   RespT  ResidT    ArvR    Tput\n",
      "0   Delay   Class1  0.5467  0.5467  1.0000  1.0000  0.5467  0.5467\n",
      "1   Delay   Class2  0.3694  0.3694  2.0000  2.0000  0.1847  0.1847\n",
      "2  Queue1   Class1  0.8564  0.4739  1.5664  1.5664  0.5467  0.5467\n",
      "3  Queue1   Class2  0.4808  0.2713  2.6027  2.6027  0.1847  0.1847\n",
      "4  Queue2   Class1  2.5969  0.6941  4.7498  4.7498  0.5467  0.5467\n",
      "5  Queue2   Class2  1.1498  0.2980  6.2244  6.2244  0.1847  0.1847\n"
     ]
    }
   ],
   "execution_count": 5
  },
  {
   "cell_type": "code",
   "metadata": {
    "ExecuteTime": {
     "end_time": "2025-07-14T23:55:31.275101Z",
     "start_time": "2025-07-14T23:55:30.802504Z"
    }
   },
   "source": [
    "# Solve with NC (Normalizing Constant) - Exact method\n",
    "solver_nc_exact = SolverNC(ldmodel, method='exact')\n",
    "lldAvgTableNC = solver_nc_exact.get_avg_table()"
   ],
   "outputs": [
    {
     "name": "stderr",
     "output_type": "stream",
     "text": [
      "java.lang.RuntimeException: NC solver cannot provide exact solutions for open or mixed queueing networks. Remove the 'exact' option.\n",
      "\tat jline.solvers.nc.analyzers.Solver_ncld_analyzerKt.solver_ncld_analyzer(Solver_ncld_analyzer.kt:23)\n",
      "\tat jline.solvers.nc.SolverNC.runAnalyzer(SolverNC.java:416)\n",
      "\tat jline.solvers.NetworkSolver.getAvg(NetworkSolver.java:216)\n",
      "\tat jline.solvers.NetworkSolver.getAvgTable(NetworkSolver.java:1659)\n"
     ]
    },
    {
     "ename": "java.lang.RuntimeException",
     "evalue": "java.lang.RuntimeException: Unable to compute results and therefore unable to print AvgTable.",
     "output_type": "error",
     "traceback": [
      "\u001b[31m---------------------------------------------------------------------------\u001b[39m",
      "\u001b[31mException\u001b[39m                                 Traceback (most recent call last)",
      "\u001b[36mFile \u001b[39m\u001b[32mNetworkSolver.java:1663\u001b[39m, in \u001b[36mjline.solvers.NetworkSolver.getAvgTable\u001b[39m\u001b[34m()\u001b[39m\n",
      "\u001b[31mException\u001b[39m: Java Exception",
      "\nThe above exception was the direct cause of the following exception:\n",
      "\u001b[31mjava.lang.RuntimeException\u001b[39m                Traceback (most recent call last)",
      "\u001b[36mCell\u001b[39m\u001b[36m \u001b[39m\u001b[32mIn[6]\u001b[39m\u001b[32m, line 3\u001b[39m\n\u001b[32m      1\u001b[39m \u001b[38;5;66;03m# Solve with NC (Normalizing Constant) - Exact method\u001b[39;00m\n\u001b[32m      2\u001b[39m solver_nc_exact = SolverNC(ldmodel, \u001b[33m'\u001b[39m\u001b[33mmethod\u001b[39m\u001b[33m'\u001b[39m, \u001b[33m'\u001b[39m\u001b[33mexact\u001b[39m\u001b[33m'\u001b[39m)\n\u001b[32m----> \u001b[39m\u001b[32m3\u001b[39m lldAvgTableNC = \u001b[43msolver_nc_exact\u001b[49m\u001b[43m.\u001b[49m\u001b[43mgetAvgTable\u001b[49m\u001b[43m(\u001b[49m\u001b[43m)\u001b[49m\n",
      "\u001b[36mFile \u001b[39m\u001b[32m~/line-solver.git/python/line_solver/solvers.py:245\u001b[39m, in \u001b[36mNetworkSolver.getAvgTable\u001b[39m\u001b[34m(self)\u001b[39m\n\u001b[32m    244\u001b[39m \u001b[38;5;28;01mdef\u001b[39;00m\u001b[38;5;250m \u001b[39m\u001b[34mgetAvgTable\u001b[39m(\u001b[38;5;28mself\u001b[39m):\n\u001b[32m--> \u001b[39m\u001b[32m245\u001b[39m     table = \u001b[38;5;28;43mself\u001b[39;49m\u001b[43m.\u001b[49m\u001b[43mobj\u001b[49m\u001b[43m.\u001b[49m\u001b[43mgetAvgTable\u001b[49m\u001b[43m(\u001b[49m\u001b[43m)\u001b[49m\n\u001b[32m    247\u001b[39m     \u001b[38;5;66;03m# convert to NumPy\u001b[39;00m\n\u001b[32m    249\u001b[39m     QLen = np.array(\u001b[38;5;28mlist\u001b[39m(table.getQLen()))\n",
      "\u001b[31mjava.lang.RuntimeException\u001b[39m: java.lang.RuntimeException: Unable to compute results and therefore unable to print AvgTable."
     ]
    }
   ],
   "execution_count": 6
  },
  {
   "cell_type": "code",
   "execution_count": null,
   "metadata": {},
   "outputs": [],
   "source": [
    "# Solve with NC - Reduction heuristic (RD) method\n",
    "solver_nc_rd = SolverNC(ldmodel, method='rd')\n",
    "lldAvgTableRD = solver_nc_rd.get_avg_table()"
   ]
  },
  {
   "cell_type": "code",
   "execution_count": null,
   "metadata": {},
   "outputs": [],
   "source": [
    "# Solve with NC - NRP and NRL methods\n",
    "solver_nc_nrp = SolverNC(ldmodel, method='nrp')\n",
    "lldAvgTableNRP = solver_nc_nrp.get_avg_table()"
   ]
  },
  {
   "cell_type": "code",
   "execution_count": null,
   "metadata": {},
   "outputs": [],
   "source": [
    "\n",
    "solver_nc_nrl = SolverNC(ldmodel, method='nrl')\n",
    "lldAvgTableNRL = solver_nc_nrl.get_avg_table()"
   ]
  },
  {
   "cell_type": "code",
   "execution_count": null,
   "metadata": {},
   "outputs": [],
   "source": [
    "# Solve with MVA for load-dependent model\n",
    "solver_mva_ld = SolverMVA(ldmodel, method='exact')\n",
    "lldAvgTableMVALD = solver_mva_ld.get_avg_table()"
   ]
  },
  {
   "cell_type": "code",
   "execution_count": null,
   "metadata": {},
   "outputs": [],
   "source": [
    "\n",
    "solver_mva_qd = SolverMVA(ldmodel, method='qd')\n",
    "lldAvgTableQD = solver_mva_qd.get_avg_table()"
   ]
  },
  {
   "cell_type": "markdown",
   "metadata": {},
   "source": [
    "## Results Analysis\n",
    "\n",
    "This example demonstrates the effect of load dependence on queue performance:\n",
    "\n",
    "1. **Load-Independent Model**: Each queue has a fixed number of servers (3) regardless of population\n",
    "2. **Load-Dependent Model**: Number of active servers depends on total population: min(population, 3)\n",
    "\n",
    "The load dependence affects system performance by:\n",
    "- Limiting the effective service capacity when population is low\n",
    "- Providing full service capacity only when enough jobs are present\n",
    "- This creates more realistic modeling of servers that scale with demand\n",
    "\n",
    "Different solvers (CTMC, NC, MVA) provide various numerical methods for solving the same model, allowing comparison of accuracy and computational efficiency."
   ]
  }
 ],
 "metadata": {
  "kernelspec": {
   "display_name": "Python 3",
   "language": "python",
   "name": "python3"
  },
  "language_info": {
   "codemirror_mode": {
    "name": "ipython",
    "version": 3
   },
   "file_extension": ".py",
   "mimetype": "text/x-python",
   "name": "python",
   "nbconvert_exporter": "python",
   "pygments_lexer": "ipython3",
   "version": "3.8.0"
  }
 },
 "nbformat": 4,
 "nbformat_minor": 4
}