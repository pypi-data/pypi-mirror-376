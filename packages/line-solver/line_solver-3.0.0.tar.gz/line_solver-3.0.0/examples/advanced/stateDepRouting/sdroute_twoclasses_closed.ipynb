{
 "cells": [
  {
   "cell_type": "code",
   "source": [
    "from line_solver import *\n",
    "GlobalConstants.set_verbose(VerboseLevel.STD)"
   ],
   "metadata": {
    "collapsed": false,
    "ExecuteTime": {
     "end_time": "2025-07-15T22:49:58.542685Z",
     "start_time": "2025-07-15T22:49:58.527020Z"
    }
   },
   "id": "initial_id",
   "outputs": [],
   "execution_count": 6
  },
  {
   "cell_type": "code",
   "source": [
    "model = Network('model')\n",
    "\n",
    "node = np.empty(3, dtype=object)\n",
    "node[0] = Delay(model, 'Delay')\n",
    "node[1] = Queue(model, 'Queue1', SchedStrategy.PS)\n",
    "node[2] = Queue(model, 'Queue2', SchedStrategy.FCFS)\n",
    "\n",
    "jobclass = np.empty(2, dtype=object)\n",
    "jobclass[0] = ClosedClass(model, 'Class1', 1, node[0], 0)\n",
    "jobclass[1] = ClosedClass(model, 'Class2', 2, node[0], 0)\n",
    "\n",
    "# renewal\n",
    "map21 = APH([1,0],[[-2,2],[0,-0.5]])\n",
    "map22 = MAP([-1],[1]) \n",
    "# non-renewal\n",
    "map31 = MAP([[-20,0],[0,-1]],[[0,20],[0.8,0.2]])\n",
    "map32 = MAP([[-20,0],[0,-1]],[[0,20],[0.8,0.2]])\n",
    "\n",
    "node[0].set_service(jobclass[0], HyperExp.fitMeanAndSCV(1.0,25.0))\n",
    "node[1].set_service(jobclass[0], map21)\n",
    "node[2].set_service(jobclass[0], map31)\n",
    "\n",
    "node[0].set_service(jobclass[1], HyperExp.fitMeanAndSCV(1.0,25.0))\n",
    "node[1].set_service(jobclass[1], map22)\n",
    "node[2].set_service(jobclass[1], map32)\n",
    "\n",
    "model.add_link(node[0], node[0])\n",
    "model.add_link(node[0], node[1])\n",
    "model.add_link(node[0], node[2])\n",
    "model.add_link(node[1], node[0])\n",
    "model.add_link(node[2], node[0])\n",
    "\n",
    "node[0].set_routing(jobclass[0],RoutingStrategy.RROBIN) # if changed to RAND the EJML exception goes\n",
    "node[1].setProbRouting(jobclass[0], node[0], 1.0)\n",
    "node[2].setProbRouting(jobclass[0], node[0], 1.0)\n",
    "\n",
    "node[0].set_routing(jobclass[1],RoutingStrategy.RROBIN) # if changed to RAND the EJML exception goes\n",
    "node[1].setProbRouting(jobclass[1], node[0], 1.0)\n",
    "node[2].setProbRouting(jobclass[1], node[0], 1.0)"
   ],
   "metadata": {
    "collapsed": false,
    "ExecuteTime": {
     "end_time": "2025-07-15T22:49:58.846684Z",
     "start_time": "2025-07-15T22:49:58.737946Z"
    }
   },
   "id": "618813b9e09def60",
   "outputs": [],
   "execution_count": 7
  },
  {
   "cell_type": "code",
   "source": [
    "solver = np.array([], dtype=object)\n",
    "solver = np.append(solver, SolverJMT(model, seed=23000))\n",
    "solver = np.append(solver, SolverCTMC(model, keep=False))"
   ],
   "metadata": {
    "collapsed": false,
    "ExecuteTime": {
     "end_time": "2025-07-15T22:50:44.705459Z",
     "start_time": "2025-07-15T22:50:44.488195Z"
    }
   },
   "id": "cae4b61bc6f3da51",
   "outputs": [],
   "execution_count": 10
  },
  {
   "cell_type": "code",
   "source": [
    "AvgTable = np.empty(len(solver), dtype=object)\n",
    "for s in range(len(solver)):\n",
    "    print(f'\\nSOLVER: {solver[s].get_name()}')\n",
    "    AvgTable[s] = solver[s].get_avg_table()"
   ],
   "metadata": {
    "collapsed": false,
    "ExecuteTime": {
     "end_time": "2025-07-15T22:50:54.387421Z",
     "start_time": "2025-07-15T22:50:45.985125Z"
    }
   },
   "id": "b6372443a630adb",
   "outputs": [
    {
     "name": "stdout",
     "output_type": "stream",
     "text": [
      "\n",
      "SOLVER: SolverJMT\n",
      "JMT Model: /tmp/workspace/jsim/1949142404011704035/jmodel.jsim\n",
      "  Station JobClass    QLen    Util   RespT  ResidT    ArvR    Tput\n",
      "0   Delay   Class1  0.4238  0.4238  1.0158  1.0158  0.3896  0.3896\n",
      "1   Delay   Class2  1.1440  1.1440  0.9474  0.9474  1.1793  1.1791\n",
      "2  Queue1   Class1  0.4884  0.3307  3.6702  1.2234  0.1340  0.1340\n",
      "3  Queue1   Class2  0.5799  0.3575  1.5453  0.5151  0.3733  0.3733\n",
      "4  Queue2   Class1  0.1081  0.0778  0.8230  0.2743  0.1341  0.1343\n",
      "5  Queue2   Class2  0.2562  0.2159  0.6946  0.2315  0.3733  0.3733\n",
      "\n",
      "SOLVER: SolverCTMC\n",
      "Unimplemented code reached\n",
      "Unimplemented code reached\n",
      "Unimplemented code reached\n",
      "Unimplemented code reached\n",
      "Unimplemented code reached\n",
      "Unimplemented code reached\n",
      "Unimplemented code reached\n",
      "Unimplemented code reached\n",
      "Unimplemented code reached\n",
      "Unimplemented code reached\n",
      "Unimplemented code reached\n",
      "Unimplemented code reached\n",
      "Unimplemented code reached\n",
      "Unimplemented code reached\n"
     ]
    },
    {
     "name": "stderr",
     "output_type": "stream",
     "text": [
      "org.ejml.MatrixDimensionException: srcX1 < srcX0 || srcX0 < 0 || srcX1 > src.numCols. ( 1x4 ) ( 1x4 )\n",
      "\tat org.ejml.sparse.csc.CommonOps_DSCC.extract(CommonOps_DSCC.java:1199)\n",
      "\tat jline.util.matrix.SparseMatrix.extractMatrixStatic(SparseMatrix.java:167)\n",
      "\tat jline.util.matrix.Matrix.extract(Matrix.java:658)\n",
      "\tat jline.lang.state.ToMarginal.toMarginal(ToMarginal.java:165)\n",
      "\tat jline.lang.state.FromMarginal.fromMarginalBounds(FromMarginal.java:1545)\n",
      "\tat jline.lang.state.State.spaceGeneratorNodes(State.java:1610)\n",
      "\tat jline.lang.state.State.spaceGenerator(State.java:1305)\n",
      "\tat jline.api.mc.Ctmc_ssgKt.ctmc_ssg(Ctmc_ssg.kt:14)\n",
      "\tat jline.solvers.ctmc.handlers.Solver_ctmc$Companion.solver_ctmc(Solver_ctmc.kt:49)\n",
      "\tat jline.solvers.ctmc.analyzers.Solver_ctmc_analyzer$Companion.solver_ctmc_analyzer(Solver_ctmc_analyzer.kt:35)\n",
      "\tat jline.solvers.ctmc.analyzers.Solver_ctmc_analyzer.solver_ctmc_analyzer(Solver_ctmc_analyzer.kt)\n",
      "\tat jline.solvers.ctmc.SolverCTMC.runAnalyzer(SolverCTMC.java:558)\n",
      "\tat jline.solvers.NetworkSolver.getAvg(NetworkSolver.java:216)\n",
      "\tat jline.solvers.NetworkSolver.getAvgTable(NetworkSolver.java:1659)\n"
     ]
    },
    {
     "ename": "java.lang.RuntimeException",
     "evalue": "java.lang.RuntimeException: Unable to compute results and therefore unable to print AvgTable.",
     "output_type": "error",
     "traceback": [
      "\u001b[31m---------------------------------------------------------------------------\u001b[39m",
      "\u001b[31mException\u001b[39m                                 Traceback (most recent call last)",
      "\u001b[36mFile \u001b[39m\u001b[32mNetworkSolver.java:1663\u001b[39m, in \u001b[36mjline.solvers.NetworkSolver.getAvgTable\u001b[39m\u001b[34m()\u001b[39m\n",
      "\u001b[31mException\u001b[39m: Java Exception",
      "\nThe above exception was the direct cause of the following exception:\n",
      "\u001b[31mjava.lang.RuntimeException\u001b[39m                Traceback (most recent call last)",
      "\u001b[36mCell\u001b[39m\u001b[36m \u001b[39m\u001b[32mIn[11]\u001b[39m\u001b[32m, line 4\u001b[39m\n\u001b[32m      2\u001b[39m \u001b[38;5;28;01mfor\u001b[39;00m s \u001b[38;5;129;01min\u001b[39;00m \u001b[38;5;28mrange\u001b[39m(\u001b[38;5;28mlen\u001b[39m(solver)):\n\u001b[32m      3\u001b[39m     \u001b[38;5;28mprint\u001b[39m(\u001b[33mf\u001b[39m\u001b[33m'\u001b[39m\u001b[38;5;130;01m\\n\u001b[39;00m\u001b[33mSOLVER: \u001b[39m\u001b[38;5;132;01m{\u001b[39;00msolver[s].getName()\u001b[38;5;132;01m}\u001b[39;00m\u001b[33m'\u001b[39m)\n\u001b[32m----> \u001b[39m\u001b[32m4\u001b[39m     AvgTable[s] = \u001b[43msolver\u001b[49m\u001b[43m[\u001b[49m\u001b[43ms\u001b[49m\u001b[43m]\u001b[49m\u001b[43m.\u001b[49m\u001b[43mgetAvgTable\u001b[49m\u001b[43m(\u001b[49m\u001b[43m)\u001b[49m\n",
      "\u001b[36mFile \u001b[39m\u001b[32m~/line-solver.git/python/line_solver/solvers.py:347\u001b[39m, in \u001b[36mNetworkSolver.getAvgTable\u001b[39m\u001b[34m(self)\u001b[39m\n\u001b[32m    346\u001b[39m \u001b[38;5;28;01mdef\u001b[39;00m\u001b[38;5;250m \u001b[39m\u001b[34mgetAvgTable\u001b[39m(\u001b[38;5;28mself\u001b[39m):\n\u001b[32m--> \u001b[39m\u001b[32m347\u001b[39m     table = \u001b[38;5;28;43mself\u001b[39;49m\u001b[43m.\u001b[49m\u001b[43mobj\u001b[49m\u001b[43m.\u001b[49m\u001b[43mgetAvgTable\u001b[49m\u001b[43m(\u001b[49m\u001b[43m)\u001b[49m\n\u001b[32m    349\u001b[39m     \u001b[38;5;66;03m# convert to NumPy\u001b[39;00m\n\u001b[32m    351\u001b[39m     QLen = np.array(\u001b[38;5;28mlist\u001b[39m(table.getQLen()))\n",
      "\u001b[31mjava.lang.RuntimeException\u001b[39m: java.lang.RuntimeException: Unable to compute results and therefore unable to print AvgTable."
     ]
    }
   ],
   "execution_count": 11
  }
 ],
 "metadata": {
  "kernelspec": {
   "display_name": "Python 3",
   "language": "python",
   "name": "python3"
  },
  "language_info": {
   "codemirror_mode": {
    "name": "ipython",
    "version": 2
   },
   "file_extension": ".py",
   "mimetype": "text/x-python",
   "name": "python",
   "nbconvert_exporter": "python",
   "pygments_lexer": "ipython2",
   "version": "2.7.6"
  }
 },
 "nbformat": 4,
 "nbformat_minor": 5
}