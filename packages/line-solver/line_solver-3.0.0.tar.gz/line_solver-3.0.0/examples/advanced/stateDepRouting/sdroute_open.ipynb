{
 "cells": [
  {
   "cell_type": "code",
   "metadata": {
    "ExecuteTime": {
     "end_time": "2025-07-15T22:50:24.310027Z",
     "start_time": "2025-07-15T22:50:19.463632Z"
    }
   },
   "source": [
    "from line_solver import *\n",
    "import numpy as np\n",
    "GlobalConstants.set_verbose(VerboseLevel.STD)"
   ],
   "outputs": [],
   "execution_count": 1
  },
  {
   "cell_type": "code",
   "metadata": {
    "ExecuteTime": {
     "end_time": "2025-07-15T22:50:24.700631Z",
     "start_time": "2025-07-15T22:50:24.594046Z"
    }
   },
   "source": [
    "model = Network('myModel')\n",
    "\n",
    "# Block 1: nodes\n",
    "source = Source(model, 'Source')\n",
    "router = Router(model, 'Router')\n",
    "queue1 = Queue(model, 'Queue1', SchedStrategy.FCFS)\n",
    "queue2 = Queue(model, 'Queue2', SchedStrategy.FCFS)\n",
    "sink = Sink(model, 'Sink')\n",
    "\n",
    "# Block 2: classes\n",
    "oclass = OpenClass(model, 'Class1')\n",
    "source.set_arrival(oclass, Exp(1.0))\n",
    "queue1.set_service(oclass, Exp(2.0))\n",
    "queue2.set_service(oclass, Exp(2.0))\n",
    "\n",
    "# Block 3: topology\n",
    "model.add_link(source, router)\n",
    "model.add_link(router, queue1)\n",
    "model.add_link(router, queue2)\n",
    "model.add_link(queue1, sink)\n",
    "model.add_link(queue2, sink)\n",
    "\n",
    "router.set_routing(oclass, RoutingStrategy.RROBIN)"
   ],
   "outputs": [],
   "execution_count": 2
  },
  {
   "cell_type": "code",
   "metadata": {
    "ExecuteTime": {
     "end_time": "2025-07-15T22:50:34.481595Z",
     "start_time": "2025-07-15T22:50:24.805683Z"
    }
   },
   "source": [
    "solver = np.array([], dtype=object)\n",
    "solver = np.append(solver, SolverJMT(model, seed=23000))\n",
    "solver = np.append(solver, SolverCTMC(model, cutoff=5))\n",
    "\n",
    "AvgTable = np.empty(len(solver), dtype=object)\n",
    "for s in range(len(solver)):\n",
    "    print(f'\\nSOLVER: {solver[s].get_name()}')\n",
    "    AvgTable[s] = solver[s].getAvgNodeTable()"
   ],
   "outputs": [
    {
     "name": "stdout",
     "output_type": "stream",
     "text": [
      "\n",
      "SOLVER: SolverJMT\n",
      "JMT Model: /tmp/workspace/jsim/1111946335051461192/jmodel.jsim\n",
      "     Node JobClass    QLen    Util   RespT  ResidT   ArvR   Tput\n",
      "0  Source   Class1  0.0000  0.0000  0.0000  0.0000  0.000  1.012\n",
      "1  Router   Class1  0.0000  0.0000  0.0000  0.0000  1.012  1.012\n",
      "2  Queue1   Class1  0.3024  0.2622  0.5761  0.5761  0.506  0.506\n",
      "3  Queue2   Class1  0.2932  0.2536  0.5695  0.2848  0.506  0.506\n",
      "4    Sink   Class1  0.0000  0.0000  0.0000  0.0000  1.012  0.000\n",
      "\n",
      "SOLVER: SolverCTMC\n"
     ]
    },
    {
     "name": "stderr",
     "output_type": "stream",
     "text": [
      "java.lang.RuntimeException: Matrix is singular and cannot be inverted (determinant = 0.0)\n",
      "\tat jline.util.matrix.Matrix.inv(Matrix.java:3412)\n",
      "\tat jline.api.mc.Ctmc_stochcompKt.ctmc_stochcomp(Ctmc_stochcomp.kt:36)\n",
      "\tat jline.solvers.ctmc.handlers.Solver_ctmc$Companion.solver_ctmc(Solver_ctmc.kt:393)\n",
      "\tat jline.solvers.ctmc.analyzers.Solver_ctmc_analyzer$Companion.solver_ctmc_analyzer(Solver_ctmc_analyzer.kt:35)\n",
      "\tat jline.solvers.ctmc.analyzers.Solver_ctmc_analyzer.solver_ctmc_analyzer(Solver_ctmc_analyzer.kt)\n",
      "\tat jline.solvers.ctmc.SolverCTMC.runAnalyzer(SolverCTMC.java:558)\n",
      "\tat jline.solvers.NetworkSolver.getAvg(NetworkSolver.java:216)\n",
      "\tat jline.solvers.NetworkSolver.getAvgNode(NetworkSolver.java:645)\n",
      "\tat jline.solvers.NetworkSolver.getAvgNodeTable(NetworkSolver.java:982)\n"
     ]
    },
    {
     "ename": "java.lang.RuntimeException",
     "evalue": "java.lang.RuntimeException: Unable to compute results - solver execution failed or did not complete.",
     "output_type": "error",
     "traceback": [
      "\u001b[31m---------------------------------------------------------------------------\u001b[39m",
      "\u001b[31mException\u001b[39m                                 Traceback (most recent call last)",
      "\u001b[36mFile \u001b[39m\u001b[32mNetworkSolver.java:990\u001b[39m, in \u001b[36mjline.solvers.NetworkSolver.getAvgNodeTable\u001b[39m\u001b[34m()\u001b[39m\n",
      "\u001b[31mException\u001b[39m: Java Exception",
      "\nThe above exception was the direct cause of the following exception:\n",
      "\u001b[31mjava.lang.RuntimeException\u001b[39m                Traceback (most recent call last)",
      "\u001b[36mCell\u001b[39m\u001b[36m \u001b[39m\u001b[32mIn[3]\u001b[39m\u001b[32m, line 8\u001b[39m\n\u001b[32m      6\u001b[39m \u001b[38;5;28;01mfor\u001b[39;00m s \u001b[38;5;129;01min\u001b[39;00m \u001b[38;5;28mrange\u001b[39m(\u001b[38;5;28mlen\u001b[39m(solver)):\n\u001b[32m      7\u001b[39m     \u001b[38;5;28mprint\u001b[39m(\u001b[33mf\u001b[39m\u001b[33m'\u001b[39m\u001b[38;5;130;01m\\n\u001b[39;00m\u001b[33mSOLVER: \u001b[39m\u001b[38;5;132;01m{\u001b[39;00msolver[s].getName()\u001b[38;5;132;01m}\u001b[39;00m\u001b[33m'\u001b[39m)\n\u001b[32m----> \u001b[39m\u001b[32m8\u001b[39m     AvgTable[s] = \u001b[43msolver\u001b[49m\u001b[43m[\u001b[49m\u001b[43ms\u001b[49m\u001b[43m]\u001b[49m\u001b[43m.\u001b[49m\u001b[43mgetAvgNodeTable\u001b[49m\u001b[43m(\u001b[49m\u001b[43m)\u001b[49m\n",
      "\u001b[36mFile \u001b[39m\u001b[32m~/line-solver.git/python/line_solver/solvers.py:252\u001b[39m, in \u001b[36mNetworkSolver.getAvgNodeTable\u001b[39m\u001b[34m(self)\u001b[39m\n\u001b[32m    251\u001b[39m \u001b[38;5;28;01mdef\u001b[39;00m\u001b[38;5;250m \u001b[39m\u001b[34mgetAvgNodeTable\u001b[39m(\u001b[38;5;28mself\u001b[39m):\n\u001b[32m--> \u001b[39m\u001b[32m252\u001b[39m     table = \u001b[38;5;28;43mself\u001b[39;49m\u001b[43m.\u001b[49m\u001b[43mobj\u001b[49m\u001b[43m.\u001b[49m\u001b[43mgetAvgNodeTable\u001b[49m\u001b[43m(\u001b[49m\u001b[43m)\u001b[49m\n\u001b[32m    254\u001b[39m     \u001b[38;5;66;03m# convert to NumPy\u001b[39;00m\n\u001b[32m    256\u001b[39m     QLen = np.array(\u001b[38;5;28mlist\u001b[39m(table.getQLen()))\n",
      "\u001b[31mjava.lang.RuntimeException\u001b[39m: java.lang.RuntimeException: Unable to compute results - solver execution failed or did not complete."
     ]
    }
   ],
   "execution_count": 3
  }
 ],
 "metadata": {
  "kernelspec": {
   "display_name": "Python 3",
   "language": "python",
   "name": "python3"
  },
  "language_info": {
   "codemirror_mode": {
    "name": "ipython",
    "version": 3
   },
   "file_extension": ".py",
   "mimetype": "text/x-python",
   "name": "python",
   "nbconvert_exporter": "python",
   "pygments_lexer": "ipython3",
   "version": "3.8.5"
  }
 },
 "nbformat": 4,
 "nbformat_minor": 4
}