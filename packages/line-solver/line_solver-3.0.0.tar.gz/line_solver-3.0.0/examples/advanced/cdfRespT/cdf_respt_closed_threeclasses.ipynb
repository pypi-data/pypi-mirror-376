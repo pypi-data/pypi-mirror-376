{
 "cells": [
  {
   "cell_type": "code",
   "metadata": {
    "ExecuteTime": {
     "end_time": "2025-09-06T05:55:39.375244Z",
     "start_time": "2025-09-06T05:55:38.579482Z"
    }
   },
   "source": [
    "from line_solver import *\n",
    "import numpy as np\n",
    "GlobalConstants.set_verbose(VerboseLevel.STD)"
   ],
   "outputs": [],
   "execution_count": 1
  },
  {
   "cell_type": "code",
   "metadata": {
    "ExecuteTime": {
     "end_time": "2025-09-06T05:55:39.400840Z",
     "start_time": "2025-09-06T05:55:39.379370Z"
    }
   },
   "source": [
    "# CDF Response Time Analysis Example 2\n",
    "# Demonstrates class switching in a closed network with 3 classes\n",
    "\n",
    "model = Network('model')\n",
    "\n",
    "# Create closed queueing network with Delay and Queue nodes\n",
    "node = [None] * 2  # using 0-based indexing\n",
    "node[0] = Delay(model, 'Delay')\n",
    "node[1] = Queue(model, 'Queue2', SchedStrategy.PS)\n",
    "\n",
    "# Three closed classes - only Class1 has initial population\n",
    "jobclass = [None] * 3  # using 0-based indexing\n",
    "jobclass[0] = ClosedClass(model, 'Class1', 1, node[0], 0)\n",
    "jobclass[1] = ClosedClass(model, 'Class2', 0, node[0], 0)\n",
    "jobclass[2] = ClosedClass(model, 'Class3', 0, node[0], 0)\n",
    "\n",
    "# Class1 doesn't complete (stays in the system for class switching)\n",
    "jobclass[0].completes = False\n",
    "\n",
    "# Service processes at Delay node\n",
    "node[0].set_service(jobclass[0], Exp(1/1))  # rate = 1\n",
    "node[0].set_service(jobclass[1], Exp(1/1))  # rate = 1\n",
    "node[0].set_service(jobclass[2], Exp(1/1))  # rate = 1\n",
    "\n",
    "# Service processes at Queue node\n",
    "node[1].set_service(jobclass[0], Exp(1/1))      # rate = 1\n",
    "node[1].set_service(jobclass[1], Erlang(1/2, 2)) # Erlang with rate=1/2, order=2\n",
    "node[1].set_service(jobclass[2], Exp(1/0.01))   # rate = 100\n",
    "\n",
    "# Complex routing matrix with class switching\n",
    "P = model.init_routing_matrix()\n",
    "\n",
    "# Class 1 to Class 1: Delay->Queue2\n",
    "P.set(jobclass[0], jobclass[0], node[0], node[1], 1.0)\n",
    "\n",
    "# Class 1 to Class 2: Queue2->Delay (class switch)\n",
    "P.set(jobclass[0], jobclass[1], node[1], node[0], 1.0)\n",
    "\n",
    "# Class 2 to Class 1: Delay->Queue2 (class switch back)\n",
    "P.set(jobclass[1], jobclass[0], node[1], node[0], 1.0)\n",
    "\n",
    "# Class 2 to Class 2: Delay->Queue2\n",
    "P.set(jobclass[1], jobclass[1], node[0], node[1], 1.0)\n",
    "\n",
    "# Class 3 circulates within itself\n",
    "P.set(jobclass[2], jobclass[2], node[0], node[1], 1.0)\n",
    "P.set(jobclass[2], jobclass[2], node[1], node[0], 1.0)\n",
    "\n",
    "model.link(P)"
   ],
   "outputs": [],
   "execution_count": 2
  },
  {
   "cell_type": "code",
   "metadata": {
    "ExecuteTime": {
     "end_time": "2025-09-06T05:55:43.348730Z",
     "start_time": "2025-09-06T05:55:39.428161Z"
    }
   },
   "source": "# NOTE: The JAR test shows that JMT getCdfRespT is not implemented for multi-class models\n# So we only implement the Fluid solver scenario that works\n\n# Solve with Fluid solver - aligned with JAR test scenario\noptions = SolverFluid.defaultOptions()\noptions.method = 'statedep'  # Aligned with JAR test: method=\"statedep\"\noptions.iter_max = 100  # Aligned with JAR test: iter_max=100\n\nsolver = SolverFluid(model, options)\nAvgRespT = solver.get_avg_resp_t()\nprint('AvgRespT =')\nprint(AvgRespT)\n\n# Get CDF of response times\nFC = solver.get_cdf_resp_t()\n\n# Calculate statistics from CDF\nAvgRespTfromCDF = np.zeros((model.get_number_of_stations(), model.get_number_of_classes()))\nPowerMoment2_R = np.zeros((model.get_number_of_stations(), model.get_number_of_classes()))\nVariance_R = np.zeros((model.get_number_of_stations(), model.get_number_of_classes()))\nSqCoeffOfVariationRespTfromCDF = np.zeros((model.get_number_of_stations(), model.get_number_of_classes()))\n\nfor i in range(model.get_number_of_stations()):\n    for c in range(model.get_number_of_classes()):\n        if FC[i][c] is not None and len(FC[i][c]) > 1:\n            # Calculate mean from CDF\n            diffs = np.diff(FC[i][c][:, 0])\n            values = FC[i][c][1:, 1]\n            AvgRespTfromCDF[i, c] = np.sum(diffs * values)\n            \n            # Calculate second moment and variance\n            PowerMoment2_R[i, c] = np.sum(diffs * (values ** 2))\n            Variance_R[i, c] = PowerMoment2_R[i, c] - AvgRespTfromCDF[i, c] ** 2\n            SqCoeffOfVariationRespTfromCDF[i, c] = Variance_R[i, c] / (AvgRespTfromCDF[i, c] ** 2)\n\nprint('AvgRespTfromCDF =')\nprint(AvgRespTfromCDF)\nprint('SqCoeffOfVariationRespTfromCDF =')\nprint(SqCoeffOfVariationRespTfromCDF)\n\n# Commented out JMT solver scenario - JAR test shows it's disabled for multi-class CDF models\n# # Solve with JMT solver - aligned with JAR test scenario (disabled in JAR)\n# # solver = SolverJMT(model, seed=23000, samples=10000)\n# # FC_jmt = solver.get_cdf_resp_t()\n# # print(\"JMT solver CDF analysis would be here, but it's not implemented for multi-class models\")",
   "outputs": [
    {
     "name": "stdout",
     "output_type": "stream",
     "text": [
      "[[1. 1. 0.]\n",
      " [1. 4. 0.]]\n",
      "AvgRespT =\n",
      "[[1. 1. 0.]\n",
      " [1. 4. 0.]]\n",
      "WARNING: Large CDF jump of 0.20% detected at Station 0, Class 0 between t=0.000000 and t=0.002001\n",
      "INFO: Added 20 refined points between t=0.000000 and t=0.002001\n",
      "WARNING: Large CDF jump of 0.20% detected at Station 0, Class 1 between t=0.000000 and t=0.002001\n",
      "INFO: Added 20 refined points between t=0.000000 and t=0.002001\n",
      "WARNING: Large CDF jump of 0.20% detected at Station 1, Class 0 between t=0.000000 and t=0.002001\n",
      "INFO: Added 20 refined points between t=0.000000 and t=0.002001\n",
      "WARNING: Large CDF jump of 0.10% detected at Station 1, Class 1 between t=1.999345 and t=2.004787\n",
      "INFO: Added 20 refined points between t=1.999345 and t=2.004787\n",
      "AvgRespTfromCDF =\n",
      "[[1.00393363 1.00393363 0.        ]\n",
      " [1.00393363 4.03663613 0.        ]]\n",
      "SqCoeffOfVariationRespTfromCDF =\n",
      "[[1.00395948 1.00395948        nan]\n",
      " [1.00395948 0.51511866        nan]]\n"
     ]
    },
    {
     "name": "stderr",
     "output_type": "stream",
     "text": [
      "/tmp/ipykernel_2124599/212424586.py:34: RuntimeWarning: invalid value encountered in scalar divide\n",
      "  SqCoeffOfVariationRespTfromCDF[i, c] = Variance_R[i, c] / (AvgRespTfromCDF[i, c] ** 2)\n"
     ]
    }
   ],
   "execution_count": 3
  },
  {
   "cell_type": "code",
   "source": "# Plot the CDF response times (excluding Class 3 which has 0 jobs)\nimport matplotlib.pyplot as plt\n\n# Only plot Classes 1 and 2 (exclude Class 3)\nnum_classes_to_plot = 2\nfig, axes = plt.subplots(model.get_number_of_stations(), num_classes_to_plot, figsize=(12, 8))\n\nfor i in range(model.get_number_of_stations()):\n    for c in range(num_classes_to_plot):  # Only plot first 2 classes\n        if FC[i][c] is not None and len(FC[i][c]) > 0:\n            # Data format is [CDF_value, time]\n            cdf_values = FC[i][c][:, 0]     # CDF values (column 0)\n            time_values = FC[i][c][:, 1]    # Time values (column 1)\n            \n            # Normal CDF plot for classes with jobs\n            axes[i, c].semilogx(time_values, cdf_values, 'b-', label='fluid-steady')\n            axes[i, c].legend(loc='best')\n            axes[i, c].set_ylabel('F(t) [CDF]')\n            axes[i, c].set_xlabel('Time')\n            axes[i, c].grid(True, alpha=0.3)\n            axes[i, c].set_title(f'CDF: {node[i].name}, {jobclass[c].name}')\n        else:\n            # No data for this station/class combination\n            axes[i, c].text(0.5, 0.5, 'No data', ha='center', va='center', \n                          transform=axes[i, c].transAxes, fontsize=12)\n            axes[i, c].set_title(f'{node[i].name}, {jobclass[c].name}')\n            axes[i, c].set_xlabel('Time')\n            axes[i, c].set_ylabel('F(t) [CDF]')\n\nplt.tight_layout()\nplt.show()",
   "metadata": {
    "ExecuteTime": {
     "end_time": "2025-09-06T05:55:44.575246Z",
     "start_time": "2025-09-06T05:55:43.477773Z"
    }
   },
   "outputs": [],
   "execution_count": null
  }
 ],
 "metadata": {
  "kernelspec": {
   "display_name": "Python 3",
   "language": "python",
   "name": "python3"
  },
  "language_info": {
   "codemirror_mode": {
    "name": "ipython",
    "version": 3
   },
   "file_extension": ".py",
   "mimetype": "text/x-python",
   "name": "python",
   "nbconvert_exporter": "python",
   "pygments_lexer": "ipython3",
   "version": "3.8.0"
  }
 },
 "nbformat": 4,
 "nbformat_minor": 4
}