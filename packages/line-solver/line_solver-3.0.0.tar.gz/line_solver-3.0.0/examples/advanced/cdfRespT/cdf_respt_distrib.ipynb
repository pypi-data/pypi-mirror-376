{
 "cells": [
  {
   "cell_type": "code",
   "metadata": {
    "ExecuteTime": {
     "end_time": "2025-09-06T05:21:57.338557Z",
     "start_time": "2025-09-06T05:21:56.571871Z"
    }
   },
   "source": [
    "from line_solver import *\n",
    "import numpy as np\n",
    "GlobalConstants.set_verbose(VerboseLevel.STD)"
   ],
   "outputs": [],
   "execution_count": 1
  },
  {
   "cell_type": "code",
   "metadata": {
    "ExecuteTime": {
     "end_time": "2025-09-06T05:21:57.384663Z",
     "start_time": "2025-09-06T05:21:57.341916Z"
    }
   },
   "source": [
    "# CDF Response Time Analysis Example 4\n",
    "# Closed network with two classes and different service distributions\n",
    "\n",
    "model = Network('model')\n",
    "\n",
    "# Create closed queueing network\n",
    "node = [None] * 2  # using 0-based indexing\n",
    "node[0] = Delay(model, 'Delay')\n",
    "node[1] = Queue(model, 'Queue1', SchedStrategy.PS)\n",
    "\n",
    "# Two closed classes with different populations\n",
    "jobclass = [None] * 2  # using 0-based indexing\n",
    "jobclass[0] = ClosedClass(model, 'Class1', 1, node[0], 0)  # 1 job of Class1\n",
    "jobclass[1] = ClosedClass(model, 'Class2', 3, node[0], 0)  # 3 jobs of Class2\n",
    "\n",
    "# Service processes at Delay node\n",
    "node[0].set_service(jobclass[0], Exp.fitMean(1.0))           # Class1: Exp with mean=1.0\n",
    "node[0].set_service(jobclass[1], Erlang.fitMeanAndOrder(4.0, 2))  # Class2: Erlang with mean=4.0, order=2\n",
    "\n",
    "# Service processes at Queue1 node  \n",
    "node[1].set_service(jobclass[0], Exp.fitMean(2.0))           # Class1: Exp with mean=2.0\n",
    "node[1].set_service(jobclass[1], HyperExp.fitMeanAndSCV(5.0, 30.0))  # Class2: HyperExp with mean=5.0, SCV=30.0\n",
    "\n",
    "# Routing matrix - independent circulation for each class\n",
    "P = model.init_routing_matrix()\n",
    "\n",
    "# Class 1 circular routing\n",
    "P.set(jobclass[0], jobclass[0], node[0], node[1], 1.0)\n",
    "P.set(jobclass[0], jobclass[0], node[1], node[0], 1.0)\n",
    "\n",
    "# Class 2 circular routing \n",
    "P.set(jobclass[1], jobclass[1], node[0], node[1], 1.0)\n",
    "P.set(jobclass[1], jobclass[1], node[1], node[0], 1.0)\n",
    "\n",
    "model.link(P)"
   ],
   "outputs": [],
   "execution_count": 2
  },
  {
   "cell_type": "code",
   "metadata": {
    "ExecuteTime": {
     "end_time": "2025-09-06T05:22:00.906724Z",
     "start_time": "2025-09-06T05:21:57.389597Z"
    }
   },
   "source": "# Solve with JMT solver - aligned with JAR test scenario\njmtoptions = SolverJMT.defaultOptions()\njmtoptions.samples = int(100000)  # Aligned with JAR test: samples=100000  \njmtoptions.seed = 23000  # Aligned with JAR test: seed=23000\n# Note: JAR test also uses keep=true, but Python wrapper may not have this option\nRDsim = SolverJMT(model, jmtoptions).get_tran_cdf_resp_t()  # Using getTranCdfRespT like JAR test",
   "outputs": [
    {
     "name": "stdout",
     "output_type": "stream",
     "text": [
      "JMT Model: /tmp/workspace/jsim/13382117903497559809/jmodel.jsim\n",
      "JMT Model: /tmp/workspace/jsim/3835371252943560648/jmodel.jsim\n"
     ]
    }
   ],
   "execution_count": 3
  },
  {
   "cell_type": "code",
   "metadata": {
    "ExecuteTime": {
     "end_time": "2025-09-06T05:22:02.851254Z",
     "start_time": "2025-09-06T05:22:00.964996Z"
    }
   },
   "source": "# Solve with Fluid solver - aligned with JAR test scenario (default options)\nRDfluid = SolverFluid(model).get_cdf_resp_t()  # Using default options like JAR test",
   "outputs": [],
   "execution_count": null
  },
  {
   "cell_type": "code",
   "metadata": {
    "ExecuteTime": {
     "end_time": "2025-09-06T05:22:04.028316Z",
     "start_time": "2025-09-06T05:22:02.901512Z"
    }
   },
   "source": "# Plotting and comparison\nimport matplotlib.pyplot as plt\n\nfig, axes = plt.subplots(model.get_number_of_stations(), 2, figsize=(12, 8))\n\nfor i in range(model.get_number_of_stations()):\n    # Class 1 plot - Plot CDF (not complementary CDF)\n    if RDsim[i][0] is not None and RDfluid[i][0] is not None:\n        # Data format is [CDF_value, time]\n        # No need for offset - (0,0) point has been removed\n        time_sim = RDsim[i][0][:, 1]    # Time values\n        cdf_sim = RDsim[i][0][:, 0]     # CDF values\n        time_fluid = RDfluid[i][0][:, 1]  # Time values\n        cdf_fluid = RDfluid[i][0][:, 0]   # CDF values\n        \n        axes[i, 0].semilogx(time_sim, cdf_sim, 'r', label='jmt-transient')\n        axes[i, 0].semilogx(time_fluid, cdf_fluid, '--', label='fluid-steady')\n        axes[i, 0].legend(loc='best')\n        axes[i, 0].set_ylabel('F(t) [CDF]')\n        axes[i, 0].set_xlabel('Time')\n        axes[i, 0].grid(True, alpha=0.3)\n        \n        # Get service process name for title\n        service_name = node[i].serviceProcess[0].name if hasattr(node[i], 'serviceProcess') else 'service'\n        axes[i, 0].set_title(f'CDF: Node {i}, Class 1, {service_name} service')\n    \n    # Class 2 plot - Plot CDF (not complementary CDF)\n    if RDsim[i][1] is not None and RDfluid[i][1] is not None:\n        # Data format is [CDF_value, time]\n        # No need for offset - (0,0) point has been removed\n        time_sim = RDsim[i][1][:, 1]    # Time values\n        cdf_sim = RDsim[i][1][:, 0]     # CDF values\n        time_fluid = RDfluid[i][1][:, 1]  # Time values\n        cdf_fluid = RDfluid[i][1][:, 0]   # CDF values\n        \n        axes[i, 1].semilogx(time_sim, cdf_sim, 'r', label='jmt-transient')\n        axes[i, 1].semilogx(time_fluid, cdf_fluid, '--', label='fluid-steady')\n        axes[i, 1].legend(loc='best')\n        axes[i, 1].set_ylabel('F(t) [CDF]')\n        axes[i, 1].set_xlabel('Time')\n        axes[i, 1].grid(True, alpha=0.3)\n        \n        # Get service process name for title\n        service_name = node[i].serviceProcess[1].name if hasattr(node[i], 'serviceProcess') else 'service'\n        axes[i, 1].set_title(f'CDF: Node {i}, Class 2, {service_name} service')\n\nplt.tight_layout()\nplt.show()\n\n# Calculate average response times from CDFs\n# Data format is [CDF_value, time]\nAvgRespTfromCDFfluid = np.zeros((model.get_number_of_stations(), model.get_number_of_classes()))\nAvgRespTfromCDFsim = np.zeros((model.get_number_of_stations(), model.get_number_of_classes()))\n\nfor i in range(model.get_number_of_stations()):\n    for c in range(model.get_number_of_classes()):\n        # From Fluid CDF - format: [CDF_value, time]\n        if RDfluid[i][c] is not None and len(RDfluid[i][c]) > 1:\n            diffs = np.diff(RDfluid[i][c][:, 0])  # diff of CDF values (column 0)\n            values = RDfluid[i][c][1:, 1]         # time values (column 1)\n            AvgRespTfromCDFfluid[i, c] = np.sum(diffs * values)\n        \n        # From Simulation CDF - format: [CDF_value, time]\n        if RDsim[i][c] is not None and len(RDsim[i][c]) > 1:\n            diffs = np.diff(RDsim[i][c][:, 0])    # diff of CDF values (column 0)\n            values = RDsim[i][c][1:, 1]           # time values (column 1)\n            AvgRespTfromCDFsim[i, c] = np.sum(diffs * values)\n\nprint('AvgRespTfromCDFfluid =')\nprint(AvgRespTfromCDFfluid)\nprint('AvgRespTfromCDFsim =')\nprint(AvgRespTfromCDFsim)",
   "outputs": [],
   "execution_count": null
  }
 ],
 "metadata": {
  "kernelspec": {
   "display_name": "Python 3",
   "language": "python",
   "name": "python3"
  },
  "language_info": {
   "codemirror_mode": {
    "name": "ipython",
    "version": 3
   },
   "file_extension": ".py",
   "mimetype": "text/x-python",
   "name": "python",
   "nbconvert_exporter": "python",
   "pygments_lexer": "ipython3",
   "version": "3.8.0"
  }
 },
 "nbformat": 4,
 "nbformat_minor": 4
}