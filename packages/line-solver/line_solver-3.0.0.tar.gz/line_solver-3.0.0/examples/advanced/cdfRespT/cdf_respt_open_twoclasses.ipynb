{
 "cells": [
  {
   "cell_type": "code",
   "metadata": {
    "ExecuteTime": {
     "end_time": "2025-07-14T18:55:29.370297Z",
     "start_time": "2025-07-14T18:55:25.993646Z"
    }
   },
   "source": [
    "from line_solver import *\n",
    "import numpy as np\n",
    "GlobalConstants.set_verbose(VerboseLevel.STD)"
   ],
   "outputs": [],
   "execution_count": 1
  },
  {
   "cell_type": "code",
   "metadata": {
    "ExecuteTime": {
     "end_time": "2025-07-14T18:55:29.878443Z",
     "start_time": "2025-07-14T18:55:29.754210Z"
    }
   },
   "source": [
    "# CDF Response Time Analysis Example 3\n",
    "# Open network with two classes, comparing Fluid and JMT transient CDF\n",
    "\n",
    "model = Network('myModel')\n",
    "\n",
    "# Block 1: nodes\n",
    "node = [None] * 4  # using 0-based indexing\n",
    "node[0] = Source(model, 'Source')\n",
    "node[1] = Queue(model, 'Queue1', SchedStrategy.FCFS)\n",
    "node[2] = Queue(model, 'Queue2', SchedStrategy.FCFS)\n",
    "node[3] = Sink(model, 'Sink')\n",
    "\n",
    "# Block 2: classes\n",
    "jobclass = [None] * 2  # using 0-based indexing\n",
    "jobclass[0] = OpenClass(model, 'Class1', 0)\n",
    "jobclass[1] = OpenClass(model, 'Class2', 0)\n",
    "\n",
    "# Arrival processes\n",
    "node[0].set_arrival(jobclass[0], Exp.fitMean(4.0))  # Source,Class1\n",
    "node[0].set_arrival(jobclass[1], Exp.fitMean(4.0))  # Source,Class2\n",
    "\n",
    "# Service processes\n",
    "node[1].set_service(jobclass[0], Exp.fitMean(1.0))  # Queue1,Class1\n",
    "node[1].set_service(jobclass[1], Exp.fitMean(1.0))  # Queue1,Class2\n",
    "\n",
    "node[2].set_service(jobclass[0], Exp.fitMean(1.0))  # Queue2,Class1\n",
    "node[2].set_service(jobclass[1], Exp.fitMean(1.0))  # Queue2,Class2\n",
    "\n",
    "# Block 3: topology - complex routing matrix\n",
    "P = model.init_routing_matrix()\n",
    "\n",
    "# Class 1 routing\n",
    "P.set(jobclass[0], jobclass[0], node[0], node[1], 1.0)  # Source->Queue1\n",
    "P.set(jobclass[0], jobclass[1], node[1], node[2], 1.0)  # Queue1->Queue2 (class switch)\n",
    "P.set(jobclass[1], jobclass[0], node[2], node[3], 1.0)  # Queue2->Sink\n",
    "\n",
    "# Class 2 routing  \n",
    "P.set(jobclass[1], jobclass[1], node[0], node[1], 1.0)  # Source->Queue1\n",
    "P.set(jobclass[1], jobclass[0], node[1], node[2], 1.0)  # Queue1->Queue2 (class switch)\n",
    "P.set(jobclass[0], jobclass[1], node[2], node[3], 1.0)  # Queue2->Sink\n",
    "\n",
    "model.link(P)"
   ],
   "outputs": [],
   "execution_count": null
  },
  {
   "cell_type": "code",
   "execution_count": null,
   "metadata": {
    "ExecuteTime": {
     "end_time": "2025-07-14T18:55:34.051309Z",
     "start_time": "2025-07-14T18:55:29.964406Z"
    }
   },
   "outputs": [],
   "source": "# Solve with JMT solver - aligned with JAR test scenario  \njmtoptions = SolverJMT.defaultOptions()\njmtoptions.samples = int(10000)  # Aligned with JAR test: samples=10000\njmtoptions.seed = 23000  # Aligned with JAR test: seed=23000\nRDsim = SolverJMT(model, jmtoptions).get_tran_cdf_resp_t()  # Using getTranCdfRespT like JAR test\n\n# Solve with Fluid solver - aligned with JAR test scenario\noptions = SolverFluid.defaultOptions()  \noptions.iter_max = 300  # Aligned with JAR test: iter_max=300\nRDfluid = SolverFluid(model, options).get_cdf_resp_t()"
  },
  {
   "cell_type": "code",
   "execution_count": null,
   "metadata": {
    "ExecuteTime": {
     "end_time": "2025-07-14T18:55:34.051309Z",
     "start_time": "2025-07-14T18:55:29.964406Z"
    }
   },
   "outputs": [],
   "source": "# Plotting and comparison (note: Python equivalent of MATLAB plotting)\nimport matplotlib.pyplot as plt\n\nnum_queue_stations = model.get_number_of_stations() - 2  # Exclude Source and Sink\nfig, axes = plt.subplots(num_queue_stations, 2, figsize=(12, 8))\n\n# Ensure axes is always 2D array for consistent indexing\nif num_queue_stations == 1:\n    axes = axes.reshape(1, 2)\nelif num_queue_stations == 2:\n    # axes is already (2, 2), no reshape needed\n    pass\n\nfor i in range(1, model.get_number_of_stations() - 1):  # stations 1 and 2 (queues)\n    # Class 1 plot\n    if RDsim[i][0] is not None and RDfluid[i][0] is not None:\n        axes[i-1, 0].semilogx(RDsim[i][0][:, 1], 1 - RDsim[i][0][:, 0], 'r', label='sim')\n        axes[i-1, 0].semilogx(RDfluid[i][0][:, 1], 1 - RDfluid[i][0][:, 0], '--', label='fluid')\n        axes[i-1, 0].legend(loc='lower left')\n        axes[i-1, 0].set_title(f'RespT Tail: Node {i}, Class 1')\n    \n    # Class 2 plot\n    if RDsim[i][1] is not None and RDfluid[i][1] is not None:\n        axes[i-1, 1].semilogx(RDsim[i][1][:, 1], 1 - RDsim[i][1][:, 0], 'r', label='sim')\n        axes[i-1, 1].semilogx(RDfluid[i][1][:, 1], 1 - RDfluid[i][1][:, 0], '--', label='fluid')\n        axes[i-1, 1].legend(loc='lower left')\n        axes[i-1, 1].set_title(f'RespT Tail: Node {i}, Class 2')\n\nplt.tight_layout()\nplt.show()\n\n# Calculate average response times from CDFs\nAvgRespTfromCDFfluid = np.zeros((model.get_number_of_stations(), model.get_number_of_classes()))\nAvgRespTfromCDFsim = np.zeros((model.get_number_of_stations(), model.get_number_of_classes()))\n\nfor i in range(1, model.get_number_of_stations() - 1):  # only queue stations\n    for c in range(model.get_number_of_classes()):\n        # From Fluid CDF\n        if RDfluid[i][c] is not None and len(RDfluid[i][c]) > 1:\n            diffs = np.diff(RDfluid[i][c][:, 0])\n            values = RDfluid[i][c][1:, 1]\n            AvgRespTfromCDFfluid[i, c] = np.sum(diffs * values)\n        \n        # From Simulation CDF\n        if RDsim[i][c] is not None and len(RDsim[i][c]) > 1:\n            diffs = np.diff(RDsim[i][c][:, 0])\n            values = RDsim[i][c][1:, 1]\n            AvgRespTfromCDFsim[i, c] = np.sum(diffs * values)\n\nprint('AvgRespTfromCDFfluid =')\nprint(AvgRespTfromCDFfluid)\nprint('AvgRespTfromCDFsim =')\nprint(AvgRespTfromCDFsim)"
  }
 ],
 "metadata": {
  "kernelspec": {
   "display_name": "Python 3",
   "language": "python",
   "name": "python3"
  },
  "language_info": {
   "codemirror_mode": {
    "name": "ipython",
    "version": 3
   },
   "file_extension": ".py",
   "mimetype": "text/x-python",
   "name": "python",
   "nbconvert_exporter": "python",
   "pygments_lexer": "ipython3",
   "version": "3.8.0"
  }
 },
 "nbformat": 4,
 "nbformat_minor": 4
}