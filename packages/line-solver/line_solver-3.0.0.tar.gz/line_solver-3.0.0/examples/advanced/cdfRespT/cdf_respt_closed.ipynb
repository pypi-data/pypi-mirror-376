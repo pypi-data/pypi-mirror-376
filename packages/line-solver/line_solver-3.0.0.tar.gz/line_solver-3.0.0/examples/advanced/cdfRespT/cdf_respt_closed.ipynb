{
 "cells": [
  {
   "cell_type": "code",
   "metadata": {
    "ExecuteTime": {
     "end_time": "2025-09-06T05:49:10.199381Z",
     "start_time": "2025-09-06T05:49:10.197503Z"
    }
   },
   "source": [
    "from line_solver import *\n",
    "import numpy as np\n",
    "GlobalConstants.set_verbose(VerboseLevel.STD)"
   ],
   "outputs": [],
   "execution_count": 4
  },
  {
   "metadata": {
    "ExecuteTime": {
     "end_time": "2025-09-06T05:49:10.209210Z",
     "start_time": "2025-09-06T05:49:10.203400Z"
    }
   },
   "cell_type": "code",
   "source": [
    "# CDF Response Time Analysis Example 1\n",
    "# Demonstrates cumulative distribution function analysis for a closed network\n",
    "\n",
    "model = Network('model')\n",
    "\n",
    "# Create closed queueing network with Delay and Queue nodes\n",
    "node = [None] * 2  # using 0-based indexing\n",
    "node[0] = Delay(model, 'Delay')\n",
    "node[1] = Queue(model, 'Queue2', SchedStrategy.PS)\n",
    "\n",
    "# Single closed class with 1 job starting at Delay node\n",
    "jobclass = [None] * 1  # using 0-based indexing\n",
    "jobclass[0] = ClosedClass(model, 'Class1', 1, node[0], 0)\n",
    "\n",
    "# Service processes - match MATLAB exactly\n",
    "servProc1 = Exp(1/0.1)  # rate = 1/0.1 = 10\n",
    "node[0].set_service(jobclass[0], servProc1)\n",
    "\n",
    "servProc2 = Erlang.fitMeanAndSCV(1, 1/3)  # mean=1, SCV=1/3\n",
    "node[1].set_service(jobclass[0], servProc2)\n",
    "\n",
    "# Routing matrix - circular routing between the two nodes\n",
    "P = model.init_routing_matrix()\n",
    "P.set(jobclass[0], jobclass[0], node[0], node[1], 1.0)\n",
    "P.set(jobclass[0], jobclass[0], node[1], node[0], 1.0)\n",
    "model.link(P)"
   ],
   "outputs": [],
   "execution_count": 5
  },
  {
   "cell_type": "code",
   "metadata": {
    "ExecuteTime": {
     "end_time": "2025-09-06T05:49:12.757532Z",
     "start_time": "2025-09-06T05:49:10.253901Z"
    }
   },
   "source": "# Solve with JMT solver - aligned with JAR test scenario\nsolver = SolverJMT(model, seed=23000, samples=10000)  # Aligned with JAR test: seed=23000, samples=10000\nFC = solver.get_cdf_resp_t()\n\nAvgRespTfromCDFSim = np.zeros((model.get_number_of_stations(), model.get_number_of_classes()))\nPowerMoment2_R = np.zeros((model.get_number_of_stations(), model.get_number_of_classes()))\nVariance_R = np.zeros((model.get_number_of_stations(), model.get_number_of_classes()))\nSqCoeffOfVariationRespTfromCDFSim = np.zeros((model.get_number_of_stations(), model.get_number_of_classes()))\n\nfor i in range(model.get_number_of_stations()):\n    for c in range(model.get_number_of_classes()):\n        if FC[i][c] is not None and len(FC[i][c]) > 1:\n            # Calculate mean from CDF\n            diffs = np.diff(FC[i][c][:, 0])\n            values = FC[i][c][1:, 1]\n            AvgRespTfromCDFSim[i, c] = np.sum(diffs * values)\n            \n            # Calculate second moment and variance\n            PowerMoment2_R[i, c] = np.sum(diffs * (values ** 2))\n            Variance_R[i, c] = PowerMoment2_R[i, c] - AvgRespTfromCDFSim[i, c] ** 2\n            SqCoeffOfVariationRespTfromCDFSim[i, c] = Variance_R[i, c] / (AvgRespTfromCDFSim[i, c] ** 2)\n\n# Solve with Fluid solver - aligned with JAR test scenario (default options)\nsolver = SolverFluid(model)  # Using default options like JAR test\nFC = solver.get_cdf_resp_t()\n\nAvgRespTfromCDFFluid = np.zeros((model.get_number_of_stations(), model.get_number_of_classes()))\nSqCoeffOfVariationRespTfromCDFFluid = np.zeros((model.get_number_of_stations(), model.get_number_of_classes()))\n\nfor i in range(model.get_number_of_stations()):\n    for c in range(model.get_number_of_classes()):\n        if FC[i][c] is not None and len(FC[i][c]) > 1:\n            # Calculate mean from CDF  \n            diffs = np.diff(FC[i][c][:, 0])\n            values = FC[i][c][1:, 1]\n            AvgRespTfromCDFFluid[i, c] = np.sum(diffs * values)\n            \n            # Calculate second moment and variance\n            PowerMoment2_R_fluid = np.sum(diffs * (values ** 2))\n            Variance_R_fluid = PowerMoment2_R_fluid - AvgRespTfromCDFFluid[i, c] ** 2\n            SqCoeffOfVariationRespTfromCDFFluid[i, c] = Variance_R_fluid / (AvgRespTfromCDFFluid[i, c] ** 2)\n\n# Theoretical values from service processes\nAvgRespTfromTheory = np.array([servProc1.get_mean(), servProc2.get_mean()])\nSqCoeffOfVariationRespTfromTheory = np.array([servProc1.get_scv(), servProc2.get_scv()])\n\nprint('AvgRespTfromTheory =')\nprint(AvgRespTfromTheory)\nprint('AvgRespTfromCDFSim =')\nprint(AvgRespTfromCDFSim)\nprint('AvgRespTfromCDFFluid =')\nprint(AvgRespTfromCDFFluid)\nprint('SqCoeffOfVariationRespTfromTheory =')\nprint(SqCoeffOfVariationRespTfromTheory)\nprint('SqCoeffOfVariationRespTfromCDFSim =')\nprint(SqCoeffOfVariationRespTfromCDFSim)\nprint('SqCoeffOfVariationRespTfromCDFFluid =')\nprint(SqCoeffOfVariationRespTfromCDFFluid)",
   "outputs": [],
   "execution_count": null
  }
 ],
 "metadata": {
  "kernelspec": {
   "display_name": "Python 3",
   "language": "python",
   "name": "python3"
  },
  "language_info": {
   "codemirror_mode": {
    "name": "ipython",
    "version": 3
   },
   "file_extension": ".py",
   "mimetype": "text/x-python",
   "name": "python",
   "nbconvert_exporter": "python",
   "pygments_lexer": "ipython3",
   "version": "3.8.0"
  }
 },
 "nbformat": 4,
 "nbformat_minor": 4
}