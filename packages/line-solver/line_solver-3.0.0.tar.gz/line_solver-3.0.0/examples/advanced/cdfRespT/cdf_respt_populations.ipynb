{
 "cells": [
  {
   "cell_type": "code",
   "metadata": {
    "ExecuteTime": {
     "end_time": "2025-07-01T05:25:27.508419Z",
     "start_time": "2025-07-01T05:25:26.092424Z"
    }
   },
   "source": [
    "from line_solver import *\n",
    "import numpy as np\n",
    "GlobalConstants.set_verbose(VerboseLevel.STD)"
   ],
   "outputs": [],
   "execution_count": 1
  },
  {
   "cell_type": "code",
   "metadata": {
    "ExecuteTime": {
     "end_time": "2025-07-01T05:25:27.612868Z",
     "start_time": "2025-07-01T05:25:27.609130Z"
    }
   },
   "source": "# CDF Response Time Analysis Example 5\n# Closed network with varying job populations - CDF comparison\n\nimport matplotlib.pyplot as plt\n\n# Initialize figure and data structures\nplt.figure(figsize=(10, 6))\nlabel = []\nnJobs = [1, 4, 8]\nplotColors = ['k', 'b--', 'r-.']\n\n# Storage for results across different population sizes\nAvgRespT = {}\nAvgRespTfromCDF = {}\nPowerMoment2_R = {}\nVariance_R = {}\nSqCoeffOfVariationRespTfromCDF = {}\n\nfor ni, N in enumerate(nJobs):\n    # Create model for this population size\n    model = Network('model')\n    \n    # Create closed queueing network\n    node = [None] * 3  # using 0-based indexing\n    node[0] = Delay(model, 'Delay')\n    node[1] = Queue(model, 'Queue1', SchedStrategy.PS)\n    node[2] = Queue(model, 'Queue2', SchedStrategy.PS)\n    \n    # Single closed class with N jobs\n    jobclass = [None] * 1  # using 0-based indexing\n    jobclass[0] = ClosedClass(model, 'Class1', N, node[0], 0)\n    \n    # Class doesn't complete (stays in system)\n    jobclass[0].completes = False\n    \n    # Service processes - all exponential\n    node[0].set_service(jobclass[0], Exp(1/1))  # rate = 1\n    node[1].set_service(jobclass[0], Exp(1/2))  # rate = 0.5\n    node[2].set_service(jobclass[0], Exp(1/2))  # rate = 0.5\n    \n    # Circular routing through all 3 stations\n    P = model.init_routing_matrix()\n    P.set(jobclass[0], jobclass[0], node[0], node[1], 1.0)\n    P.set(jobclass[0], jobclass[0], node[1], node[2], 1.0)\n    P.set(jobclass[0], jobclass[0], node[2], node[0], 1.0)\n    model.link(P)\n    \n    # NOTE: JAR test shows JMT getCdfRespT is not working for this model configuration\n    # So we only use Fluid solver like the working JAR test\n    \n    # Solve with Fluid solver - aligned with JAR test scenario\n    options = SolverFluid.defaultOptions()\n    options.iter_max = 100  # Aligned with JAR test: iter_max=100\n    solver = SolverFluid(model, options)\n    \n    AvgRespT[ni] = solver.get_avg_resp_t()\n    FC = solver.get_cdf_resp_t()\n    \n    # Calculate statistics from CDF\n    AvgRespTfromCDF[ni] = np.zeros((model.get_number_of_stations(), model.get_number_of_classes()))\n    PowerMoment2_R[ni] = np.zeros((model.get_number_of_stations(), model.get_number_of_classes()))\n    Variance_R[ni] = np.zeros((model.get_number_of_stations(), model.get_number_of_classes()))\n    SqCoeffOfVariationRespTfromCDF[ni] = np.zeros((model.get_number_of_stations(), model.get_number_of_classes()))\n    \n    for c in range(model.get_number_of_classes()):\n        for i in range(model.get_number_of_stations()):\n            if FC[i][c] is not None and len(FC[i][c]) > 1:\n                # Calculate mean from CDF\n                diffs = np.diff(FC[i][c][:, 0])\n                values = FC[i][c][1:, 1]\n                AvgRespTfromCDF[ni][i, c] = np.sum(diffs * values)\n                \n                # Calculate second moment and variance\n                PowerMoment2_R[ni][i, c] = np.sum(diffs * (values ** 2))\n                Variance_R[ni][i, c] = PowerMoment2_R[ni][i, c] - AvgRespTfromCDF[ni][i, c] ** 2\n                SqCoeffOfVariationRespTfromCDF[ni][i, c] = Variance_R[ni][i, c] / (AvgRespTfromCDF[ni][i, c] ** 2)\n    \n    # Plot CDF for station 2 (index 2)\n    i = 2  # Station 2\n    for c in range(model.get_number_of_classes()):\n        if FC[i][c] is not None and len(FC[i][c]) > 0:\n            plt.semilogx(FC[i][c][:, 1], FC[i][c][:, 0], plotColors[ni], label=f'N={N} jobs')\n    \n    print(f'AvgRespTfromCDF[{ni}] =')\n    print(AvgRespTfromCDF[ni])\n    \n    label.append(f'N={N} jobs')\n    \n    # Commented out JMT solver scenario - JAR test shows it's not working for this model\n    # # Solve with JMT solver - aligned with JAR test scenario (disabled in JAR)\n    # # solver = SolverJMT(model, seed=23000, samples=10000)\n    # # FC_jmt = solver.get_cdf_resp_t()\n\n# Finalize plot\nplt.legend(loc='lower right')\nplt.xlim([0, 200])\nplt.title('Response time CDF at station 2 under increasing populations')\nplt.ylabel('Pr[RespT < t]')\nplt.xlabel('Response time t')\nplt.grid(True, alpha=0.3)\nplt.show()\n\nprint(f'\\\\nComparison across populations:')",
   "outputs": [],
   "execution_count": null
  }
 ],
 "metadata": {
  "kernelspec": {
   "display_name": "Python 3",
   "language": "python",
   "name": "python3"
  },
  "language_info": {
   "codemirror_mode": {
    "name": "ipython",
    "version": 3
   },
   "file_extension": ".py",
   "mimetype": "text/x-python",
   "name": "python",
   "nbconvert_exporter": "python",
   "pygments_lexer": "ipython3",
   "version": "3.8.0"
  }
 },
 "nbformat": 4,
 "nbformat_minor": 4
}