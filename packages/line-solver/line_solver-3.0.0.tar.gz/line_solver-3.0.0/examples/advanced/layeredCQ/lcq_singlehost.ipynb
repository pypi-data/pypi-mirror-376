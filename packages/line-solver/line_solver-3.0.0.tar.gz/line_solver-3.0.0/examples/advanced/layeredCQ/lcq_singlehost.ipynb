{
 "cells": [
  {
   "cell_type": "code",
   "execution_count": null,
   "metadata": {},
   "outputs": [],
   "source": "from line_solver import *\nimport numpy as np\nGlobalConstants.set_verbose(VerboseLevel.SILENT)"
  },
  {
   "cell_type": "code",
   "execution_count": null,
   "metadata": {},
   "outputs": [],
   "source": "model = LayeredNetwork('cacheInLayeredNetwork')\n\n# Client\nP1 = Processor(model, 'P1', 1, SchedStrategy.PS)\nT1 = Task(model, 'T1', 1, SchedStrategy.REF).on(P1)\nE1 = Entry(model, 'E1').on(T1)\n\n# Cache task\ntotalitems = 4\ncachecapacity = 2\n# Create uniform access probabilities using Matrix\nfrom jline.util.matrix import Matrix\naccess_probs = Matrix(1, totalitems).fill(1.0 / totalitems)\npAccess = DiscreteSampler(access_probs)\nPC = Processor(model, 'PC', 1, SchedStrategy.PS)\nC2 = CacheTask(model, 'C2', totalitems, cachecapacity, ReplacementStrategy.RR, 1).on(PC)\nI2 = ItemEntry(model, 'I2', totalitems, pAccess).on(C2)\n\n# Definition of activities\nA1 = Activity(model, 'A1', Immediate()).on(T1).boundTo(E1).synchCall(I2, 1)\nAC2 = Activity(model, 'AC2', Immediate()).on(C2).boundTo(I2)\nAC2h = Activity(model, 'AC2h', Exp(1.0)).on(C2).repliesTo(I2)  # Cache hit\nAC2m = Activity(model, 'AC2m', Exp(0.5)).on(C2).repliesTo(I2)  # Cache miss\n\n# Add cache access precedence\nC2.addPrecedence(ActivityPrecedence.CacheAccess(AC2, [AC2h, AC2m]))"
  },
  {
   "cell_type": "code",
   "execution_count": null,
   "metadata": {},
   "outputs": [],
   "source": [
    "lnoptions = SolverLN.defaultOptions()\n",
    "# lnoptions.iter_max = 1  # Note: iter_max option may not be available\n",
    "lnoptions.verbose = True\n",
    "options = SolverMVA.defaultOptions()\n",
    "options.verbose = False\n",
    "\n",
    "solver = SolverLN(model, lambda model: SolverMVA(model, options), lnoptions)\n",
    "AvgTable = solver.get_avg_table()"
   ]
  }
 ],
 "metadata": {
  "kernelspec": {
   "display_name": "Python 3",
   "language": "python",
   "name": "python3"
  },
  "language_info": {
   "codemirror_mode": {
    "name": "ipython",
    "version": 3
   },
   "file_extension": ".py",
   "mimetype": "text/x-python",
   "name": "python",
   "nbconvert_exporter": "python",
   "pygments_lexer": "ipython3",
   "version": "3.8.0"
  }
 },
 "nbformat": 4,
 "nbformat_minor": 4
}