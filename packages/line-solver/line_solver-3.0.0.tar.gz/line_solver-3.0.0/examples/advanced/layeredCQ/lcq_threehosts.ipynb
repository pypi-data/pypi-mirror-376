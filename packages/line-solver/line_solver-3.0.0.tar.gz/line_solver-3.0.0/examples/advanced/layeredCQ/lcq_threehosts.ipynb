{
 "cells": [
  {
   "cell_type": "code",
   "execution_count": null,
   "metadata": {},
   "outputs": [],
   "source": "from line_solver import *\nimport numpy as np\nGlobalConstants.set_verbose(VerboseLevel.SILENT)"
  },
  {
   "cell_type": "code",
   "execution_count": null,
   "metadata": {},
   "outputs": [],
   "source": "model = LayeredNetwork('layeredNetwork')\n\n# Create processors, tasks, and entries - client\nP1 = Processor(model, 'P1', 1, SchedStrategy.INF)\nT1 = Task(model, 'T1', 5, SchedStrategy.REF).on(P1)\nE1 = Entry(model, 'E1').on(T1)\n\n# Server 1\nP2 = Processor(model, 'P2', 1, SchedStrategy.PS)\nT2 = Task(model, 'T2', 1, SchedStrategy.FCFS).on(P2)\nE2 = Entry(model, 'E2').on(T2)\n\n# Server 2\nP3 = Processor(model, 'P3', 1, SchedStrategy.PS)\nT3 = Task(model, 'T3', 1, SchedStrategy.FCFS).on(P3)\nE3 = Entry(model, 'E3').on(T3)\n\n# DB server\nPDB = Processor(model, 'PDB', 1, SchedStrategy.PS)\nTDB = Task(model, 'TDB', 1, SchedStrategy.FCFS).on(PDB)\nEDB = Entry(model, 'EDB').on(TDB)\n\n# Cache task\ntotalitems = 2\ncachecapacity = 1\n# Create uniform access probabilities using Matrix\nfrom jline.util.matrix import Matrix\naccess_probs = Matrix(1, totalitems).fill(1.0 / totalitems)\npAccess = DiscreteSampler(access_probs)\nPC = Processor(model, 'PC', 1, SchedStrategy.PS)\nC2 = CacheTask(model, 'C2', totalitems, cachecapacity, ReplacementStrategy.RR, 1).on(PC)\nI2 = ItemEntry(model, 'I2', totalitems, pAccess).on(C2)\n\n# Definition of activities\n\n# Client layer\nA1 = Activity(model, 'A1', Exp(2.0)).on(T1).boundTo(E1).synchCall(E2, 1)\nA1end = Activity(model, 'A1end', Immediate()).on(T1).repliesTo(E1)\n\n# Server layer for E2 (calling I2)\nA2 = Activity(model, 'A2', Exp(1.0)).on(T2).boundTo(E2).synchCall(I2, 1)\nA2end = Activity(model, 'A2end', Immediate()).on(T2).repliesTo(E2)\n\n# Server layer for E3 (calling EDB)\nA3 = Activity(model, 'A3', Exp(1.0)).on(T3).boundTo(E3).synchCall(EDB, 1)\nA3end = Activity(model, 'A3end', Immediate()).on(T3).repliesTo(E3)\n\n# Cache task layer\nAC2 = Activity(model, 'AC2', Immediate()).on(C2).boundTo(I2)\nAC2h = Activity(model, 'AC2h', Exp(1.0)).on(C2).repliesTo(I2)  # hit\nAC2m = Activity(model, 'AC2m', Exp(0.5)).on(C2).synchCall(E3, 1)  # miss\nAC2end = Activity(model, 'AC2end', Immediate()).on(C2).repliesTo(I2)\n\n# Database layer\nADB = Activity(model, 'ADB', Exp(0.5)).on(TDB).boundTo(EDB).repliesTo(EDB)\n\n# Add precedences\nT1.addPrecedence(ActivityPrecedence.PRE(A1))\nT1.addPrecedence(ActivityPrecedence.POST(A1end))\nT2.addPrecedence(ActivityPrecedence.PRE_SEQ([A2, A2end]))\nT3.addPrecedence(ActivityPrecedence.PRE_SEQ([A3, A3end]))\nTDB.addPrecedence(ActivityPrecedence.PRE(ADB))\nC2.addPrecedence(ActivityPrecedence.CacheAccess(AC2, [AC2h, AC2m]))\nC2.addPrecedence(ActivityPrecedence.POST(AC2end))"
  },
  {
   "cell_type": "code",
   "metadata": {
    "ExecuteTime": {
     "end_time": "2025-07-14T23:52:43.025294Z",
     "start_time": "2025-07-14T23:52:41.996681Z"
    }
   },
   "source": [
    "lnoptions = SolverLN.defaultOptions()\n",
    "lnoptions.verbose = 1\n",
    "ncoptions = SolverNC.defaultOptions()\n",
    "ncoptions.verbose = 0\n",
    "mvaoptions = SolverMVA.defaultOptions()\n",
    "mvaoptions.verbose = 0\n",
    "solver1 = SolverLN(model, lambda model: SolverNC(model, ncoptions), lnoptions)\n",
    "AvgTable[0] = solver1.get_avg_table()"
   ],
   "outputs": [
    {
     "ename": "NameError",
     "evalue": "name 'SolverLN' is not defined",
     "output_type": "error",
     "traceback": [
      "\u001b[31m---------------------------------------------------------------------------\u001b[39m",
      "\u001b[31mNameError\u001b[39m                                 Traceback (most recent call last)",
      "\u001b[36mCell\u001b[39m\u001b[36m \u001b[39m\u001b[32mIn[1]\u001b[39m\u001b[32m, line 1\u001b[39m\n\u001b[32m----> \u001b[39m\u001b[32m1\u001b[39m lnoptions = \u001b[43mSolverLN\u001b[49m.defaultOptions()\n\u001b[32m      2\u001b[39m lnoptions.verbose = \u001b[32m1\u001b[39m\n\u001b[32m      3\u001b[39m ncoptions = SolverNC.defaultOptions()\n",
      "\u001b[31mNameError\u001b[39m: name 'SolverLN' is not defined"
     ]
    }
   ],
   "execution_count": 1
  },
  {
   "cell_type": "code",
   "execution_count": null,
   "metadata": {},
   "outputs": [],
   "source": [
    "solver2 = SolverLN(model, lambda model: SolverMVA(model, mvaoptions), lnoptions)\n",
    "AvgTable[1] = solver2.get_avg_table()"
   ]
  }
 ],
 "metadata": {
  "kernelspec": {
   "display_name": "Python 3",
   "language": "python",
   "name": "python3"
  },
  "language_info": {
   "codemirror_mode": {
    "name": "ipython",
    "version": 3
   },
   "file_extension": ".py",
   "mimetype": "text/x-python",
   "name": "python",
   "nbconvert_exporter": "python",
   "pygments_lexer": "ipython3",
   "version": "3.8.0"
  }
 },
 "nbformat": 4,
 "nbformat_minor": 4
}