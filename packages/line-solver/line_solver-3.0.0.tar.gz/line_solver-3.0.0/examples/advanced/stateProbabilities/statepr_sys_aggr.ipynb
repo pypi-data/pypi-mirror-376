{
 "cells": [
  {
   "cell_type": "code",
   "metadata": {
    "ExecuteTime": {
     "end_time": "2025-07-29T11:13:53.113666Z",
     "start_time": "2025-07-29T11:13:52.130760Z"
    }
   },
   "source": [
    "from line_solver import *\n",
    "import numpy as np\n",
    "GlobalConstants.set_verbose(VerboseLevel.STD)"
   ],
   "outputs": [],
   "execution_count": 1
  },
  {
   "cell_type": "code",
   "metadata": {
    "ExecuteTime": {
     "end_time": "2025-07-29T11:13:53.189257Z",
     "start_time": "2025-07-29T11:13:53.180708Z"
    }
   },
   "source": [
    "# Create network\n",
    "model = Network('model')\n",
    "\n",
    "# Block 1: nodes\n",
    "node1 = Delay(model, 'Delay')\n",
    "node2 = Queue(model, 'Queue1', SchedStrategy.PS)\n",
    "node3 = Queue(model, 'Queue2', SchedStrategy.PS)\n",
    "node3.set_number_of_servers(2)  # Queue2 has 2 servers"
   ],
   "outputs": [],
   "execution_count": 2
  },
  {
   "cell_type": "code",
   "metadata": {
    "ExecuteTime": {
     "end_time": "2025-07-29T11:13:53.234776Z",
     "start_time": "2025-07-29T11:13:53.228375Z"
    }
   },
   "source": [
    "# Block 2: classes\n",
    "N = [1, 0, 3, 0]  # Population for each class\n",
    "jobclass1 = ClosedClass(model, 'Class1', N[0], node1, 0)\n",
    "jobclass2 = ClosedClass(model, 'Class2', N[1], node1, 0)\n",
    "jobclass3 = ClosedClass(model, 'Class3', N[2], node1, 0)\n",
    "jobclass4 = ClosedClass(model, 'Class4', N[3], node1, 0)"
   ],
   "outputs": [],
   "execution_count": 3
  },
  {
   "cell_type": "code",
   "metadata": {
    "ExecuteTime": {
     "end_time": "2025-07-29T11:13:53.293548Z",
     "start_time": "2025-07-29T11:13:53.287579Z"
    }
   },
   "source": [
    "# Set service times for all stations\n",
    "# Delay\n",
    "node1.set_service(jobclass1, Exp.fitMean(1.0))\n",
    "node1.set_service(jobclass2, Exp.fitMean(1.0/2.0))\n",
    "node1.set_service(jobclass3, Exp.fitMean(1.0))\n",
    "node1.set_service(jobclass4, Exp.fitMean(1.0))\n",
    "\n",
    "# Queue1\n",
    "node2.set_service(jobclass1, Exp.fitMean(1.0/3.0))\n",
    "node2.set_service(jobclass2, Exp.fitMean(1.0/4.0))\n",
    "node2.set_service(jobclass3, Exp.fitMean(1.0/5.0))\n",
    "node2.set_service(jobclass4, Exp.fitMean(1.0))\n",
    "\n",
    "# Queue2\n",
    "node3.set_service(jobclass1, Exp.fitMean(1.0))\n",
    "node3.set_service(jobclass2, Exp.fitMean(1.0/3.0))\n",
    "node3.set_service(jobclass3, Exp.fitMean(1.0/5.0))\n",
    "node3.set_service(jobclass4, Exp.fitMean(1.0/2.0))"
   ],
   "outputs": [],
   "execution_count": 4
  },
  {
   "cell_type": "code",
   "metadata": {
    "ExecuteTime": {
     "end_time": "2025-07-29T11:13:53.367631Z",
     "start_time": "2025-07-29T11:13:53.350110Z"
    }
   },
   "source": [
    "# Block 3: routing with class switching\n",
    "RT = model.init_routing_matrix()\n",
    "\n",
    "# Set up the routing matrix with class switching\n",
    "nodes = [node1, node2, node3]\n",
    "jobclasses = [jobclass1, jobclass2, jobclass3, jobclass4]\n",
    "\n",
    "# Class1 routing: Delay -> Queue1 -> Queue2 -> switch to Class2\n",
    "RT.set(jobclass1, jobclass1, node1, node2, 1.0)  # Delay -> Queue1\n",
    "RT.set(jobclass1, jobclass1, node2, node3, 1.0)  # Queue1 -> Queue2\n",
    "RT.set(jobclass1, jobclass2, node3, node1, 1.0)  # Queue2 -> Delay (switch to Class2)\n",
    "\n",
    "# Class2 routing: Delay -> Queue1 -> Queue2 -> switch to Class1\n",
    "RT.set(jobclass2, jobclass2, node1, node2, 1.0)  # Delay -> Queue1\n",
    "RT.set(jobclass2, jobclass2, node2, node3, 1.0)  # Queue1 -> Queue2\n",
    "RT.set(jobclass2, jobclass1, node3, node1, 1.0)  # Queue2 -> Delay (switch to Class1)\n",
    "\n",
    "# Class3 routing: Delay -> Queue1 -> Queue2 -> switch to Class4\n",
    "RT.set(jobclass3, jobclass3, node1, node2, 1.0)  # Delay -> Queue1\n",
    "RT.set(jobclass3, jobclass3, node2, node3, 1.0)  # Queue1 -> Queue2\n",
    "RT.set(jobclass3, jobclass4, node3, node1, 1.0)  # Queue2 -> Delay (switch to Class4)\n",
    "\n",
    "# Class4 routing: Delay -> Queue2 -> switch to Class3\n",
    "RT.set(jobclass4, jobclass4, node1, node3, 1.0)  # Delay -> Queue2\n",
    "RT.set(jobclass4, jobclass3, node3, node1, 1.0)  # Queue2 -> Delay (switch to Class3)\n",
    "\n",
    "model.link(RT)"
   ],
   "outputs": [],
   "execution_count": 5
  },
  {
   "cell_type": "code",
   "metadata": {
    "ExecuteTime": {
     "end_time": "2025-07-29T11:13:53.444903Z",
     "start_time": "2025-07-29T11:13:53.398168Z"
    }
   },
   "source": [
    "# Set initial state: all jobs at Queue2\n",
    "n = np.array([[0,0,0,0],        # Delay: no jobs\n",
    "              [0,0,0,0],        # Queue1: no jobs\n",
    "              [N[0],N[1],N[2],N[3]]])  # Queue2: all jobs\n",
    "\n",
    "nodes = [node1, node2, node3]\n",
    "for i in range(len(nodes)):\n",
    "    nodes[i].setState(n[i])"
   ],
   "outputs": [],
   "execution_count": 6
  },
  {
   "cell_type": "code",
   "metadata": {
    "ExecuteTime": {
     "end_time": "2025-07-29T11:13:53.461786Z",
     "start_time": "2025-07-29T11:13:53.460125Z"
    }
   },
   "source": [
    "# Solver options\n",
    "options = Solver.defaultOptions\n",
    "options.verbose = 1"
   ],
   "outputs": [],
   "execution_count": 7
  },
  {
   "cell_type": "code",
   "metadata": {
    "ExecuteTime": {
     "end_time": "2025-07-29T11:13:53.864507Z",
     "start_time": "2025-07-29T11:13:53.518779Z"
    }
   },
   "source": [
    "# Solve with CTMC\n",
    "solver_ctmc = SolverCTMC(model, options)\n",
    "Pr_ctmc = solver_ctmc.getProbSysAggr()"
   ],
   "outputs": [
    {
     "name": "stdout",
     "output_type": "stream",
     "text": [
      "CTMC getProbSysAggr failed: java.lang.IllegalArgumentException: Outside of matrix bounds\n"
     ]
    }
   ],
   "execution_count": 8
  },
  {
   "cell_type": "code",
   "metadata": {
    "ExecuteTime": {
     "end_time": "2025-07-29T11:13:54.087253Z",
     "start_time": "2025-07-29T11:13:53.873519Z"
    }
   },
   "source": [
    "# Solve with NC (exact method)\n",
    "options_nc = Solver.defaultOptions\n",
    "options_nc.verbose = 1\n",
    "options_nc.method = 'exact'\n",
    "\n",
    "solver_nc = SolverNC(model, options_nc)\n",
    "Pr_nc = solver_nc.getProbSysAggr()"
   ],
   "outputs": [],
   "execution_count": 9
  },
  {
   "cell_type": "code",
   "metadata": {
    "ExecuteTime": {
     "end_time": "2025-07-29T11:13:54.138248Z",
     "start_time": "2025-07-29T11:13:54.094926Z"
    }
   },
   "source": [
    "# Solve with JMT (simulation)\n",
    "solver_jmt = SolverJMT(model, samples=10000, seed=532733)\n",
    "Pr_jmt = solver_jmt.getProbSysAggr()"
   ],
   "outputs": [
    {
     "name": "stderr",
     "output_type": "stream",
     "text": [
      "Jul 29, 2025 12:13:54 PM jline.io.InputOutputKt line_printf\n",
      "SEVERE: [LINE2JSIMG] Error during LINE to JSIMG conversion: Unable to determine root folder.\n",
      "Error in sampleSysAggr: Error during network copy operation: [LINE2JSIMG] Error during LINE to JSIMG conversion: Unable to determine root folder.\n"
     ]
    }
   ],
   "execution_count": 10
  }
 ],
 "metadata": {
  "kernelspec": {
   "display_name": "Python 3",
   "language": "python",
   "name": "python3"
  },
  "language_info": {
   "codemirror_mode": {
    "name": "ipython",
    "version": 3
   },
   "file_extension": ".py",
   "mimetype": "text/x-python",
   "name": "python",
   "nbconvert_exporter": "python",
   "pygments_lexer": "ipython3",
   "version": "3.8.0"
  }
 },
 "nbformat": 4,
 "nbformat_minor": 4
}
