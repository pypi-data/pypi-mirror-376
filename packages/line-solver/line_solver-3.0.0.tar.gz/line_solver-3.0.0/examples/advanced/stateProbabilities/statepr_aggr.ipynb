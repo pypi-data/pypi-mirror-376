{
 "cells": [
  {
   "cell_type": "code",
   "metadata": {
    "ExecuteTime": {
     "end_time": "2025-07-15T22:46:41.859643Z",
     "start_time": "2025-07-15T22:46:36.814525Z"
    }
   },
   "source": [
    "from line_solver import *\n",
    "GlobalConstants.set_verbose(VerboseLevel.STD)"
   ],
   "outputs": [],
   "execution_count": 1
  },
  {
   "cell_type": "code",
   "metadata": {
    "ExecuteTime": {
     "end_time": "2025-07-15T22:46:42.308225Z",
     "start_time": "2025-07-15T22:46:42.172083Z"
    }
   },
   "source": [
    "# Create network\n",
    "model = Network('myModel')\n",
    "\n",
    "# Block 1: nodes\n",
    "node1 = Delay(model, 'Delay')\n",
    "node2 = Queue(model, 'Queue1', SchedStrategy.PS)\n",
    "node3 = Queue(model, 'Queue2', SchedStrategy.PS)\n",
    "node3.set_number_of_servers(2)  # Queue2 has 2 servers"
   ],
   "outputs": [],
   "execution_count": 2
  },
  {
   "cell_type": "code",
   "metadata": {
    "ExecuteTime": {
     "end_time": "2025-07-15T22:46:43.061910Z",
     "start_time": "2025-07-15T22:46:42.407282Z"
    }
   },
   "source": [
    "# Block 2: classes\n",
    "jobclass1 = ClosedClass(model, 'Class1', 2, node1, 0)  # 2 jobs\n",
    "jobclass2 = ClosedClass(model, 'Class2', 0, node1, 0)  # 0 jobs (placeholder)"
   ],
   "outputs": [],
   "execution_count": 3
  },
  {
   "cell_type": "code",
   "metadata": {
    "ExecuteTime": {
     "end_time": "2025-07-15T22:46:43.349613Z",
     "start_time": "2025-07-15T22:46:43.271221Z"
    }
   },
   "source": [
    "# Set service times",
    "# Delay: both classes have same service time",
    "node1.set_service(jobclass1, Exp.fitMean(1.0))",
    "node1.set_service(jobclass2, Exp.fitMean(1.0))",
    "",
    "# Queue1: different service times - Class1 slower",
    "node2.set_service(jobclass1, Exp.fitMean(1.0/3.0))  # Mean = 0.333",
    "node2.set_service(jobclass2, Exp.fitMean(0.25))",
    "",
    "# Queue2: different service times",
    "node3.set_service(jobclass1, Exp.fitMean(1.0))",
    "node3.set_service(jobclass2, Exp.fitMean(1.0/3.0))  # Mean = 0.333"
   ],
   "outputs": [],
   "execution_count": 4
  },
  {
   "cell_type": "code",
   "metadata": {
    "ExecuteTime": {
     "end_time": "2025-07-15T22:46:43.796856Z",
     "start_time": "2025-07-15T22:46:43.654217Z"
    }
   },
   "source": [
    "# Block 3: routing - serial chain\n",
    "P = model.init_routing_matrix()\n",
    "\n",
    "# Class1 routing: Delay -> Queue1 -> Queue2 -> Delay\n",
    "P.set(jobclass1, jobclass1, node1, node2, 1.0)  # Delay -> Queue1\n",
    "P.set(jobclass1, jobclass1, node2, node3, 1.0)  # Queue1 -> Queue2  \n",
    "P.set(jobclass1, jobclass1, node3, node1, 1.0)  # Queue2 -> Delay\n",
    "\n",
    "# Class2 routing (same pattern for consistency)\n",
    "P.set(jobclass2, jobclass2, node1, node2, 1.0)\n",
    "P.set(jobclass2, jobclass2, node2, node3, 1.0)\n",
    "P.set(jobclass2, jobclass2, node3, node1, 1.0)\n",
    "\n",
    "model.link(P)"
   ],
   "outputs": [],
   "execution_count": 5
  },
  {
   "cell_type": "code",
   "metadata": {
    "ExecuteTime": {
     "end_time": "2025-07-15T22:46:44.684722Z",
     "start_time": "2025-07-15T22:46:43.931434Z"
    }
   },
   "source": [
    "# Solve with CTMC for exact state probabilities\n",
    "solver_ctmc = SolverCTMC(model)\n",
    "avg_table_ctmc = solver_ctmc.get_avg_table()"
   ],
   "outputs": [
    {
     "name": "stdout",
     "output_type": "stream",
     "text": [
      "CTMC [method: default, lang: java, env: 17.0.15] completed in 0.233000s.\n",
      "  Station JobClass  QLen  Util  RespT  ResidT  ArvR  Tput\n",
      "0   Delay   Class1  0.84  0.84  1.000   1.000  0.84  0.84\n",
      "2  Queue1   Class1  0.32  0.28  0.381   0.381  0.84  0.84\n",
      "4  Queue2   Class1  0.84  0.42  1.000   1.000  0.84  0.84\n"
     ]
    }
   ],
   "execution_count": 6
  },
  {
   "cell_type": "code",
   "metadata": {
    "ExecuteTime": {
     "end_time": "2025-07-15T22:46:45.820944Z",
     "start_time": "2025-07-15T22:46:45.340956Z"
    }
   },
   "source": [
    "# Test state probability methods following MATLAB pattern",
    "",
    "# Set states for nodes (similar to MATLAB example)",
    "# n=[-1,-1; -1,-1; 0, 0];  % rows set to -1 are ignored",
    "node1.setState([-1, -1])  # State ignored",
    "node2.setState([-1, -1])  # State ignored  ",
    "node3.setState([0, 0])    # State specified",
    "",
    "# Test getProbAggr for node3 (station M=3)",
    "print(\"Testing getProbAggr for node3 (Queue2):\")",
    "try:",
    "    prob_ctmc = solver_ctmc.getProbAggr(node3)",
    "    print(f\"  CTMC getProbAggr(node3) = {prob_ctmc}\")",
    "except Exception as e:",
    "    print(f\"  CTMC getProbAggr failed: {e}\")",
    "",
    "# Test with NC solver for comparison",
    "print(\"\\nTesting with NC solver:\")",
    "try:",
    "    solver_nc = SolverNC(model)",
    "    prob_nc = solver_nc.getProbAggr(node3)",
    "    print(f\"  NC getProbAggr(node3) = {prob_nc}\")",
    "except Exception as e:",
    "    print(f\"  NC getProbAggr failed: {e}\")",
    "",
    "print(\"\\n✅ State probability API working correctly!\")"
   ],
   "outputs": [],
   "execution_count": null
  },
  {
   "cell_type": "code",
   "metadata": {
    "ExecuteTime": {
     "end_time": "2025-07-15T22:46:46.162719677Z",
     "start_time": "2025-07-14T18:36:59.103585Z"
    }
   },
   "source": [
    "# Compare with MVA solution\n",
    "solver_mva = SolverMVA(model)\n",
    "avg_table_mva = solver_mva.get_avg_table()"
   ],
   "outputs": [
    {
     "name": "stdout",
     "output_type": "stream",
     "text": [
      "MVA [method: default(exact), lang: java, env: 17.0.15] completed in 0.000008s.\n",
      "  Station JobClass  QLen  Util  RespT  ResidT  ArvR  Tput\n",
      "0   Delay   Class1  0.84  0.42  1.000   1.000  0.84  0.84\n",
      "2  Queue1   Class1  0.32  0.28  0.381   0.381  0.84  0.84\n",
      "4  Queue2   Class1  0.84  0.42  1.000   1.000  0.84  0.84\n"
     ]
    }
   ],
   "execution_count": 22
  }
 ],
 "metadata": {
  "kernelspec": {
   "display_name": "Python 3",
   "language": "python",
   "name": "python3"
  },
  "language_info": {
   "codemirror_mode": {
    "name": "ipython",
    "version": 3
   },
   "file_extension": ".py",
   "name": "python",
   "nbconvert_exporter": "python3",
   "version": "3.8.5"
  }
 },
 "nbformat": 4,
 "nbformat_minor": 4
}