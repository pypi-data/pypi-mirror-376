{
 "cells": [
  {
   "cell_type": "code",
   "metadata": {
    "ExecuteTime": {
     "end_time": "2025-07-29T11:14:04.821390Z",
     "start_time": "2025-07-29T11:14:03.876554Z"
    }
   },
   "source": [
    "from line_solver import *\n",
    "import numpy as np\n",
    "GlobalConstants.set_verbose(VerboseLevel.STD)"
   ],
   "outputs": [],
   "execution_count": 1
  },
  {
   "cell_type": "code",
   "metadata": {
    "ExecuteTime": {
     "end_time": "2025-07-29T11:14:04.897107Z",
     "start_time": "2025-07-29T11:14:04.886688Z"
    }
   },
   "source": [
    "# Create network\n",
    "model = Network('model')\n",
    "\n",
    "# Block 1: nodes\n",
    "node1 = Delay(model, 'Delay')\n",
    "node2 = Queue(model, 'Queue1', SchedStrategy.PS)\n",
    "node3 = Queue(model, 'Queue2', SchedStrategy.PS)\n",
    "node3.set_number_of_servers(2)"
   ],
   "outputs": [],
   "execution_count": 2
  },
  {
   "cell_type": "code",
   "metadata": {
    "ExecuteTime": {
     "end_time": "2025-07-29T11:14:04.944158Z",
     "start_time": "2025-07-29T11:14:04.939868Z"
    }
   },
   "source": [
    "# Block 2: classes\n",
    "N = [2, 0]  # Class1: 2 jobs, Class2: 0 jobs\n",
    "jobclass1 = ClosedClass(model, 'Class1', N[0], node1, 0)\n",
    "jobclass2 = ClosedClass(model, 'Class2', N[1], node1, 0)"
   ],
   "outputs": [],
   "execution_count": 3
  },
  {
   "cell_type": "code",
   "metadata": {
    "ExecuteTime": {
     "end_time": "2025-07-29T11:14:04.996482Z",
     "start_time": "2025-07-29T11:14:04.990684Z"
    }
   },
   "source": [
    "# Set service times\n",
    "node1.set_service(jobclass1, Exp.fitMean(1.0))\n",
    "node1.set_service(jobclass2, Exp.fitMean(1.0))\n",
    "\n",
    "node2.set_service(jobclass1, Exp.fitMean(1.0/3.0))\n",
    "node2.set_service(jobclass2, Exp.fitMean(1.0/4.0))\n",
    "\n",
    "node3.set_service(jobclass1, Exp.fitMean(1.0))\n",
    "node3.set_service(jobclass2, Exp.fitMean(1.0/3.0))"
   ],
   "outputs": [],
   "execution_count": 4
  },
  {
   "cell_type": "code",
   "metadata": {
    "ExecuteTime": {
     "end_time": "2025-07-29T11:14:05.062146Z",
     "start_time": "2025-07-29T11:14:05.048094Z"
    }
   },
   "source": [
    "# Block 3: routing with class switching\n",
    "P = model.init_routing_matrix()\n",
    "\n",
    "# Class1 routing: Delay -> Queue1 (stay Class1), Queue2 -> Delay (switch to Class2)\n",
    "P.set(jobclass1, jobclass1, node1, node2, 1.0)  # Delay -> Queue1\n",
    "P.set(jobclass1, jobclass2, node2, node3, 1.0)  # Queue1 -> Queue2 (switch to Class2)\n",
    "\n",
    "# Class2 routing: Queue2 -> Delay (switch to Class1)\n",
    "P.set(jobclass2, jobclass1, node1, node2, 1.0)  # Delay -> Queue1 (switch to Class1)\n",
    "P.set(jobclass2, jobclass2, node2, node3, 1.0)  # Queue1 -> Queue2\n",
    "P.set(jobclass2, jobclass1, node3, node1, 1.0)  # Queue2 -> Delay (switch to Class1)\n",
    "\n",
    "model.link(P)"
   ],
   "outputs": [],
   "execution_count": 5
  },
  {
   "cell_type": "code",
   "metadata": {
    "ExecuteTime": {
     "end_time": "2025-07-29T11:14:05.136948Z",
     "start_time": "2025-07-29T11:14:05.099741Z"
    }
   },
   "source": [
    "# Set specific state for probability calculation\n",
    "n = np.array([[0,0],   # Delay: no jobs\n",
    "              [1,0],   # Queue1: 1 job of Class1\n",
    "              [0,1]])  # Queue2: 1 job of Class2\n",
    "\n",
    "nodes = [node1, node2, node3]\n",
    "for i in range(len(nodes)):\n",
    "    nodes[i].setState(n[i])\n",
    "\n",
    "state = model.getState()"
   ],
   "outputs": [],
   "execution_count": 6
  },
  {
   "cell_type": "code",
   "metadata": {
    "ExecuteTime": {
     "end_time": "2025-07-29T11:14:05.151697Z",
     "start_time": "2025-07-29T11:14:05.150042Z"
    }
   },
   "source": [
    "# Solver options\n",
    "options = Solver.defaultOptions\n",
    "options.verbose = 1\n",
    "options.samples = 20000\n",
    "options.seed = 23000"
   ],
   "outputs": [],
   "execution_count": 7
  },
  {
   "cell_type": "code",
   "metadata": {
    "ExecuteTime": {
     "end_time": "2025-07-29T11:14:12.368064Z",
     "start_time": "2025-07-29T11:14:12.340346Z"
    }
   },
   "source": [
    "# Method 1: getProbAggr - Marginal probabilities for aggregated state\nresults_margaggr = {}\n\n# CTMC\nsolver_ctmc = SolverCTMC(model, options)\nPr = solver_ctmc.getProbAggr(node3)"
   ],
   "outputs": [
    {
     "ename": "java.lang.IllegalArgumentException",
     "evalue": "java.lang.IllegalArgumentException: Outside of matrix bounds",
     "output_type": "error",
     "traceback": [
      "\u001B[31m---------------------------------------------------------------------------\u001B[39m",
      "\u001B[31mException\u001B[39m                                 Traceback (most recent call last)",
      "\u001B[36mFile \u001B[39m\u001B[32mSolverCTMC.java:430\u001B[39m, in \u001B[36mjline.solvers.ctmc.SolverCTMC.getProbAggr\u001B[39m\u001B[34m()\u001B[39m\n",
      "\u001B[31mException\u001B[39m: Java Exception",
      "\nThe above exception was the direct cause of the following exception:\n",
      "\u001B[31mjava.lang.IllegalArgumentException\u001B[39m        Traceback (most recent call last)",
      "\u001B[36mCell\u001B[39m\u001B[36m \u001B[39m\u001B[32mIn[9]\u001B[39m\u001B[32m, line 6\u001B[39m\n\u001B[32m      4\u001B[39m \u001B[38;5;66;03m# CTMC\u001B[39;00m\n\u001B[32m      5\u001B[39m solver_ctmc = SolverCTMC(model, options)\n\u001B[32m----> \u001B[39m\u001B[32m6\u001B[39m Pr = \u001B[43msolver_ctmc\u001B[49m\u001B[43m.\u001B[49m\u001B[43mgetProbAggr\u001B[49m\u001B[43m(\u001B[49m\u001B[43mnode3\u001B[49m\u001B[43m)\u001B[49m\n",
      "\u001B[36mFile \u001B[39m\u001B[32m/mnt/c/Users/gcasale/Dropbox/code/line-dev.git/python/line_solver/solvers.py:695\u001B[39m, in \u001B[36mNetworkSolver.getProbAggr\u001B[39m\u001B[34m(self, node, state)\u001B[39m\n\u001B[32m    693\u001B[39m         java_result = \u001B[38;5;28mself\u001B[39m.obj.getProbAggr(node.obj, jlineMatrixFromArray(state))\n\u001B[32m    694\u001B[39m     \u001B[38;5;28;01melse\u001B[39;00m:\n\u001B[32m--> \u001B[39m\u001B[32m695\u001B[39m         java_result = \u001B[38;5;28;43mself\u001B[39;49m\u001B[43m.\u001B[49m\u001B[43mobj\u001B[49m\u001B[43m.\u001B[49m\u001B[43mgetProbAggr\u001B[49m\u001B[43m(\u001B[49m\u001B[43mnode\u001B[49m\u001B[43m.\u001B[49m\u001B[43mobj\u001B[49m\u001B[43m)\u001B[49m\n\u001B[32m    696\u001B[39m \u001B[38;5;28;01melse\u001B[39;00m:\n\u001B[32m    697\u001B[39m     \u001B[38;5;28;01mif\u001B[39;00m state \u001B[38;5;129;01mis\u001B[39;00m \u001B[38;5;129;01mnot\u001B[39;00m \u001B[38;5;28;01mNone\u001B[39;00m:\n",
      "\u001B[31mjava.lang.IllegalArgumentException\u001B[39m: java.lang.IllegalArgumentException: Outside of matrix bounds"
     ]
    }
   ],
   "execution_count": 9
  },
  {
   "cell_type": "code",
   "metadata": {
    "ExecuteTime": {
     "end_time": "2025-07-29T11:14:19.408244Z",
     "start_time": "2025-07-29T11:14:19.397306Z"
    }
   },
   "source": [
    "results_margaggr['CTMC'] = Pr\n\n# NC\nsolver_nc = SolverNC(model, options)\nPr = solver_nc.getProbAggr(node3)"
   ],
   "outputs": [
    {
     "ename": "NameError",
     "evalue": "name 'Pr' is not defined",
     "output_type": "error",
     "traceback": [
      "\u001B[31m---------------------------------------------------------------------------\u001B[39m",
      "\u001B[31mNameError\u001B[39m                                 Traceback (most recent call last)",
      "\u001B[36mCell\u001B[39m\u001B[36m \u001B[39m\u001B[32mIn[10]\u001B[39m\u001B[32m, line 1\u001B[39m\n\u001B[32m----> \u001B[39m\u001B[32m1\u001B[39m results_margaggr[\u001B[33m'\u001B[39m\u001B[33mCTMC\u001B[39m\u001B[33m'\u001B[39m] = \u001B[43mPr\u001B[49m\n\u001B[32m      3\u001B[39m \u001B[38;5;66;03m# NC\u001B[39;00m\n\u001B[32m      4\u001B[39m solver_nc = SolverNC(model, options)\n",
      "\u001B[31mNameError\u001B[39m: name 'Pr' is not defined"
     ]
    }
   ],
   "execution_count": 10
  },
  {
   "cell_type": "code",
   "metadata": {
    "ExecuteTime": {
     "end_time": "2025-07-29T11:14:23.033643Z",
     "start_time": "2025-07-29T11:14:23.023136Z"
    }
   },
   "source": [
    "results_margaggr['NC'] = Pr\n\n# SSA\nsolver_ssa = SolverSSA(model, options)\nPr = solver_ssa.getProbAggr(node3)"
   ],
   "outputs": [
    {
     "ename": "NameError",
     "evalue": "name 'Pr' is not defined",
     "output_type": "error",
     "traceback": [
      "\u001B[31m---------------------------------------------------------------------------\u001B[39m",
      "\u001B[31mNameError\u001B[39m                                 Traceback (most recent call last)",
      "\u001B[36mCell\u001B[39m\u001B[36m \u001B[39m\u001B[32mIn[11]\u001B[39m\u001B[32m, line 1\u001B[39m\n\u001B[32m----> \u001B[39m\u001B[32m1\u001B[39m results_margaggr[\u001B[33m'\u001B[39m\u001B[33mNC\u001B[39m\u001B[33m'\u001B[39m] = \u001B[43mPr\u001B[49m\n\u001B[32m      3\u001B[39m \u001B[38;5;66;03m# SSA\u001B[39;00m\n\u001B[32m      4\u001B[39m solver_ssa = SolverSSA(model, options)\n",
      "\u001B[31mNameError\u001B[39m: name 'Pr' is not defined"
     ]
    }
   ],
   "execution_count": 11
  },
  {
   "cell_type": "code",
   "execution_count": null,
   "metadata": {},
   "outputs": [],
   "source": [
    "results_margaggr['SSA'] = Pr\n\n# JMT\nsolver_jmt = SolverJMT(model, options)\nPr = solver_jmt.getProbAggr(node3)"
   ]
  },
  {
   "cell_type": "code",
   "execution_count": null,
   "metadata": {},
   "outputs": [],
   "source": [
    "results_margaggr['JMT'] = Pr"
   ]
  },
  {
   "cell_type": "code",
   "execution_count": null,
   "metadata": {},
   "outputs": [],
   "source": [
    "# Method 2: getProb - Marginal probabilities for detailed state\nsolver_ctmc = SolverCTMC(model, options)\nPr = solver_ctmc.getProb(node3)"
   ]
  },
  {
   "cell_type": "code",
   "execution_count": null,
   "metadata": {},
   "outputs": [],
   "source": [
    "#     results_marg['NC'] = Pr\n#     print(f\"NC:   {Pr:.6f}\")\n# except Exception as e:\n#     print(f\"NC error: {e}\")\n\n# SSA\nsolver_ssa = SolverSSA(model, options)\nPr = solver_ssa.getProb(node3)"
   ]
  },
  {
   "cell_type": "code",
   "execution_count": null,
   "metadata": {},
   "outputs": [],
   "source": [
    "# Method 3: getProbSysAggr - Joint system probabilities for aggregated state\nsolver_ctmc = SolverCTMC(model, options)\nPr = solver_ctmc.getProbSysAggr()"
   ]
  },
  {
   "cell_type": "code",
   "execution_count": null,
   "metadata": {},
   "outputs": [],
   "source": [
    "\nsolver_nc = SolverNC(model, options)\nPr = solver_nc.getProbSysAggr()"
   ]
  },
  {
   "cell_type": "code",
   "execution_count": null,
   "metadata": {},
   "outputs": [],
   "source": [
    "\nsolver_ssa = SolverSSA(model, options)\nPr = solver_ssa.getProbSysAggr()"
   ]
  },
  {
   "cell_type": "code",
   "execution_count": null,
   "metadata": {},
   "outputs": [],
   "source": [
    "\nsolver_jmt = SolverJMT(model, options)\nPr = solver_jmt.getProbSysAggr()"
   ]
  },
  {
   "cell_type": "code",
   "execution_count": null,
   "metadata": {},
   "outputs": [],
   "source": [
    "solver_ctmc = SolverCTMC(model, options)\nPr = solver_ctmc.getProbSys()"
   ]
  },
  {
   "cell_type": "code",
   "execution_count": null,
   "metadata": {},
   "outputs": [],
   "source": [
    "#     results_joint['NC'] = Pr\n#     print(f\"NC:   {Pr:.6f}\")\n# except Exception as e:\n#     print(f\"NC error: {e}\")\n\n# SSA\nsolver_ssa = SolverSSA(model, options)\nPr = solver_ssa.getProbSys()"
   ]
  }
 ],
 "metadata": {
  "kernelspec": {
   "display_name": "Python 3",
   "language": "python",
   "name": "python3"
  },
  "language_info": {
   "codemirror_mode": {
    "name": "ipython",
    "version": 3
   },
   "file_extension": ".py",
   "mimetype": "text/x-python",
   "name": "python",
   "nbconvert_exporter": "python",
   "pygments_lexer": "ipython3",
   "version": "3.8.0"
  }
 },
 "nbformat": 4,
 "nbformat_minor": 4
}
