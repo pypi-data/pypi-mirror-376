{
 "cells": [
  {
   "cell_type": "code",
   "metadata": {
    "ExecuteTime": {
     "end_time": "2025-07-29T11:13:13.582222Z",
     "start_time": "2025-07-29T11:13:13.580019Z"
    }
   },
   "source": [
    "from line_solver import *\n",
    "import numpy as np\n",
    "import time\n",
    "GlobalConstants.set_verbose(VerboseLevel.STD)"
   ],
   "outputs": [],
   "execution_count": 10
  },
  {
   "cell_type": "code",
   "metadata": {
    "ExecuteTime": {
     "end_time": "2025-07-29T11:13:13.591982Z",
     "start_time": "2025-07-29T11:13:13.590186Z"
    }
   },
   "source": [
    "# Create network\n",
    "model = Network('model')\n",
    "\n",
    "# Block 1: nodes (all queues, no delay)\n",
    "node1 = Queue(model, 'Queue1', SchedStrategy.PS)\n",
    "node2 = Queue(model, 'Queue2', SchedStrategy.PS)\n",
    "node3 = Queue(model, 'Queue3', SchedStrategy.PS)\n",
    "node3.set_number_of_servers(3)  # Queue3 has 3 servers"
   ],
   "outputs": [],
   "execution_count": 11
  },
  {
   "cell_type": "code",
   "metadata": {
    "ExecuteTime": {
     "end_time": "2025-07-29T11:13:13.651457Z",
     "start_time": "2025-07-29T11:13:13.648975Z"
    }
   },
   "source": [
    "# Block 2: classes - each with 1 job\n",
    "N = [1, 1, 1, 1]  # Population for each class\n",
    "jobclass1 = ClosedClass(model, 'Class1', N[0], node1, 0)\n",
    "jobclass2 = ClosedClass(model, 'Class2', N[1], node1, 0)\n",
    "jobclass3 = ClosedClass(model, 'Class3', N[2], node1, 0)\n",
    "jobclass4 = ClosedClass(model, 'Class4', N[3], node1, 0)"
   ],
   "outputs": [],
   "execution_count": 12
  },
  {
   "cell_type": "code",
   "metadata": {
    "ExecuteTime": {
     "end_time": "2025-07-29T11:13:13.700590Z",
     "start_time": "2025-07-29T11:13:13.697881Z"
    }
   },
   "source": [
    "# Set service times for Queue1\n",
    "node1.set_service(jobclass1, Exp.fitMean(1.0))\n",
    "node1.set_service(jobclass2, Exp.fitMean(1.0/2.0))\n",
    "node1.set_service(jobclass3, Exp.fitMean(1.0))\n",
    "node1.set_service(jobclass4, Exp.fitMean(1.0))\n",
    "\n",
    "# Set service times for Queue2\n",
    "node2.set_service(jobclass1, Exp.fitMean(1.0/3.0))\n",
    "node2.set_service(jobclass2, Exp.fitMean(1.0/4.0))\n",
    "node2.set_service(jobclass3, Exp.fitMean(1.0/5.0))\n",
    "node2.set_service(jobclass4, Exp.fitMean(1.0))\n",
    "\n",
    "# Set service times for Queue3\n",
    "node3.set_service(jobclass1, Exp.fitMean(1.0))\n",
    "node3.set_service(jobclass2, Exp.fitMean(1.0/3.0))\n",
    "node3.set_service(jobclass3, Exp.fitMean(1.0/5.0))\n",
    "node3.set_service(jobclass4, Exp.fitMean(1.0/2.0))"
   ],
   "outputs": [],
   "execution_count": 13
  },
  {
   "cell_type": "code",
   "metadata": {
    "ExecuteTime": {
     "end_time": "2025-07-29T11:13:13.752715Z",
     "start_time": "2025-07-29T11:13:13.748398Z"
    }
   },
   "source": [
    "# Block 3: routing with class switching\n",
    "K = 4  # Number of classes\n",
    "P = {}\n",
    "\n",
    "# Class1 routing: Queue1 -> Queue2 -> stays as Class1, Queue3 -> Queue1 as Class2\n",
    "P[(jobclass1, jobclass1)] = np.array([[0,1,0], [0,0,1], [0,0,0]])\n",
    "P[(jobclass1, jobclass2)] = np.array([[0,0,0], [0,0,0], [1,0,0]])\n",
    "P[(jobclass1, jobclass3)] = np.array([[0,0,0], [0,0,0], [0,0,0]])\n",
    "P[(jobclass1, jobclass4)] = np.array([[0,0,0], [0,0,0], [0,0,0]])\n",
    "\n",
    "# Class2 routing: Queue3 -> Queue1 as Class1\n",
    "P[(jobclass2, jobclass1)] = np.array([[0,0,0], [0,0,0], [1,0,0]])\n",
    "P[(jobclass2, jobclass2)] = np.array([[0,1,0], [0,0,1], [0,0,0]])\n",
    "P[(jobclass2, jobclass3)] = np.array([[0,0,0], [0,0,0], [0,0,0]])\n",
    "P[(jobclass2, jobclass4)] = np.array([[0,0,0], [0,0,0], [0,0,0]])\n",
    "\n",
    "# Class3 routing: Queue3 -> Queue1 as Class4\n",
    "P[(jobclass3, jobclass1)] = np.array([[0,0,0], [0,0,0], [0,0,0]])\n",
    "P[(jobclass3, jobclass2)] = np.array([[0,0,0], [0,0,0], [0,0,0]])\n",
    "P[(jobclass3, jobclass3)] = np.array([[0,1,0], [0,0,1], [0,0,0]])\n",
    "P[(jobclass3, jobclass4)] = np.array([[0,0,0], [0,0,0], [1,0,0]])\n",
    "\n",
    "# Class4 routing: Queue3 -> Queue1 as Class3, Queue1 -> Queue3\n",
    "P[(jobclass4, jobclass1)] = np.array([[0,0,0], [0,0,0], [0,0,0]])\n",
    "P[(jobclass4, jobclass2)] = np.array([[0,0,0], [0,0,0], [0,0,0]])\n",
    "P[(jobclass4, jobclass3)] = np.array([[0,0,0], [0,0,0], [1,0,0]])\n",
    "P[(jobclass4, jobclass4)] = np.array([[0,0,1], [0,0,0], [0,0,0]])\n",
    "\n",
    "model.link(P)"
   ],
   "outputs": [],
   "execution_count": 14
  },
  {
   "cell_type": "code",
   "metadata": {
    "ExecuteTime": {
     "end_time": "2025-07-29T11:13:13.800870Z",
     "start_time": "2025-07-29T11:13:13.798599Z"
    }
   },
   "source": [
    "# Set initial state: all jobs at Queue3\n",
    "n = np.array([[0,0,0,0],        # Queue1: no jobs\n",
    "              [0,0,0,0],        # Queue2: no jobs\n",
    "              [N[0],N[1],N[2],N[3]]])  # Queue3: all jobs\n",
    "\n",
    "nodes = [node1, node2, node3]\n",
    "for i in range(len(nodes)):\n",
    "    nodes[i].setState(n[i])\n",
    "\n",
    "state = model.getState()"
   ],
   "outputs": [],
   "execution_count": 15
  },
  {
   "cell_type": "code",
   "metadata": {
    "ExecuteTime": {
     "end_time": "2025-07-29T11:13:13.857743Z",
     "start_time": "2025-07-29T11:13:13.856055Z"
    }
   },
   "source": [
    "# Solver options\n",
    "options = Solver.defaultOptions\n",
    "options.verbose = 1\n",
    "\n",
    "# Results storage\n",
    "results = {}\n",
    "timings = {}"
   ],
   "outputs": [],
   "execution_count": 16
  },
  {
   "cell_type": "code",
   "metadata": {
    "ExecuteTime": {
     "end_time": "2025-07-29T11:13:21.935238Z",
     "start_time": "2025-07-29T11:13:13.907822Z"
    }
   },
   "source": [
    "# CTMC solver\n",
    "start_time = time.time()\n",
    "options.seed = 23000\n",
    "solver_ctmc = SolverCTMC(model, options)\n",
    "Pr_ctmc = solver_ctmc.getProbSysAggr()"
   ],
   "outputs": [
    {
     "name": "stdout",
     "output_type": "stream",
     "text": [
      "CTMC getProbSysAggr failed: java.lang.IllegalArgumentException: Outside of matrix bounds\n"
     ]
    }
   ],
   "execution_count": 17
  },
  {
   "cell_type": "code",
   "metadata": {
    "ExecuteTime": {
     "end_time": "2025-07-29T11:13:21.996188Z",
     "start_time": "2025-07-29T11:13:21.939307Z"
    }
   },
   "source": [
    "# JMT solver (simulation)\n",
    "start_time = time.time()\n",
    "solver_jmt = SolverJMT(model, seed=23000, samples=100000)\n",
    "Pr_jmt = solver_jmt.getProbSysAggr()"
   ],
   "outputs": [
    {
     "name": "stderr",
     "output_type": "stream",
     "text": [
      "Jul 29, 2025 12:13:21 PM jline.io.InputOutputKt line_printf\n",
      "SEVERE: [LINE2JSIMG] Error during LINE to JSIMG conversion: Unable to determine root folder.\n",
      "Error in sampleSysAggr: Error during network copy operation: [LINE2JSIMG] Error during LINE to JSIMG conversion: Unable to determine root folder.\n"
     ]
    }
   ],
   "execution_count": 18
  },
  {
   "cell_type": "code",
   "metadata": {
    "ExecuteTime": {
     "end_time": "2025-07-29T11:13:22.168251Z",
     "start_time": "2025-07-29T11:13:22.006040Z"
    }
   },
   "source": [
    "# NC solver with sampling\n",
    "start_time = time.time()\n",
    "options_nc = Solver.defaultOptions\n",
    "options_nc.verbose = 1\n",
    "options_nc.method = 'ls'  # Logistic sampling\n",
    "options_nc.seed = 23000\n",
    "options_nc.samples = 1000\n",
    "\n",
    "solver_nc = SolverNC(model, options_nc)\n",
    "Pr_nc = solver_nc.getProbSysAggr()"
   ],
   "outputs": [],
   "execution_count": 19
  }
 ],
 "metadata": {
  "kernelspec": {
   "display_name": "Python 3",
   "language": "python",
   "name": "python3"
  },
  "language_info": {
   "codemirror_mode": {
    "name": "ipython",
    "version": 3
   },
   "file_extension": ".py",
   "mimetype": "text/x-python",
   "name": "python",
   "nbconvert_exporter": "python",
   "pygments_lexer": "ipython3",
   "version": "3.8.0"
  }
 },
 "nbformat": 4,
 "nbformat_minor": 4
}
