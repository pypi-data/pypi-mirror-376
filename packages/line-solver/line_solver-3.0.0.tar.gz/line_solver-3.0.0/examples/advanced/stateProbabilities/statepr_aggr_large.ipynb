{
 "cells": [
  {
   "cell_type": "code",
   "metadata": {
    "ExecuteTime": {
     "end_time": "2025-07-29T17:23:34.442516Z",
     "start_time": "2025-07-29T17:23:34.438247Z"
    }
   },
   "source": [
    "from line_solver import *\n",
    "import numpy as np\n",
    "GlobalConstants.set_verbose(VerboseLevel.STD)"
   ],
   "outputs": [],
   "execution_count": 8
  },
  {
   "cell_type": "code",
   "metadata": {
    "ExecuteTime": {
     "end_time": "2025-07-29T17:23:34.501474Z",
     "start_time": "2025-07-29T17:23:34.499469Z"
    }
   },
   "source": [
    "# Create network\n",
    "model = Network('model')\n",
    "\n",
    "# Block 1: nodes\n",
    "node1 = Delay(model, 'Delay')\n",
    "node2 = Queue(model, 'Queue1', SchedStrategy.PS)\n",
    "node3 = Queue(model, 'Queue2', SchedStrategy.PS)\n",
    "node3.set_number_of_servers(2)  # Queue2 has 2 servers"
   ],
   "outputs": [],
   "execution_count": 9
  },
  {
   "cell_type": "code",
   "metadata": {
    "ExecuteTime": {
     "end_time": "2025-07-29T17:23:34.552308Z",
     "start_time": "2025-07-29T17:23:34.549624Z"
    }
   },
   "source": [
    "# Block 2: classes\n",
    "N = [1, 0, 4, 0]  # Population for each class\n",
    "jobclass1 = ClosedClass(model, 'Class1', N[0], node1, 0)\n",
    "jobclass2 = ClosedClass(model, 'Class2', N[1], node1, 0)\n",
    "jobclass3 = ClosedClass(model, 'Class3', N[2], node1, 0)\n",
    "jobclass4 = ClosedClass(model, 'Class4', N[3], node1, 0)"
   ],
   "outputs": [],
   "execution_count": 10
  },
  {
   "cell_type": "code",
   "metadata": {
    "ExecuteTime": {
     "end_time": "2025-07-29T17:23:34.601467Z",
     "start_time": "2025-07-29T17:23:34.598526Z"
    }
   },
   "source": [
    "# Set service times for Delay\n",
    "node1.set_service(jobclass1, Exp.fitMean(1.0))\n",
    "node1.set_service(jobclass2, Exp.fitMean(1.0/2.0))  # Mean = 0.5\n",
    "node1.set_service(jobclass3, Exp.fitMean(1.0))\n",
    "node1.set_service(jobclass4, Exp.fitMean(1.0))\n",
    "\n",
    "# Set service times for Queue1\n",
    "node2.set_service(jobclass1, Exp.fitMean(1.0/3.0))  # Mean = 0.333\n",
    "node2.set_service(jobclass2, Exp.fitMean(1.0/4.0))  # Mean = 0.25\n",
    "node2.set_service(jobclass3, Exp.fitMean(1.0/5.0))  # Mean = 0.2\n",
    "node2.set_service(jobclass4, Exp.fitMean(1.0))\n",
    "\n",
    "# Set service times for Queue2\n",
    "node3.set_service(jobclass1, Exp.fitMean(1.0))\n",
    "node3.set_service(jobclass2, Exp.fitMean(1.0/3.0))  # Mean = 0.333\n",
    "node3.set_service(jobclass3, Exp.fitMean(1.0/5.0))  # Mean = 0.2\n",
    "node3.set_service(jobclass4, Exp.fitMean(1.0/2.0))  # Mean = 0.5"
   ],
   "outputs": [],
   "execution_count": 11
  },
  {
   "cell_type": "code",
   "metadata": {
    "ExecuteTime": {
     "end_time": "2025-07-29T17:23:34.656960Z",
     "start_time": "2025-07-29T17:23:34.649657Z"
    }
   },
   "source": [
    "# Block 3: routing with class switching\n",
    "# Create routing matrices for each class-to-class transition\n",
    "K = 4  # Number of classes\n",
    "P = {}\n",
    "\n",
    "# P[(i,j)] represents routing from class i to class j\n",
    "# Matrix dimensions: [from_node, to_node]\n",
    "\n",
    "# Class1 routing\n",
    "P[(jobclass1, jobclass1)] = np.array([[0,1,0], [0,0,1], [0,0,0]])\n",
    "P[(jobclass1, jobclass2)] = np.array([[0,0,0], [0,0,0], [1,0,0]])  # Class switch at Queue2\n",
    "P[(jobclass1, jobclass3)] = np.array([[0,0,0], [0,0,0], [0,0,0]])\n",
    "P[(jobclass1, jobclass4)] = np.array([[0,0,0], [0,0,0], [0,0,0]])\n",
    "\n",
    "# Class2 routing\n",
    "P[(jobclass2, jobclass1)] = np.array([[0,0,0], [0,0,0], [1,0,0]])  # Class switch at Queue2\n",
    "P[(jobclass2, jobclass2)] = np.array([[0,1,0], [0,0,1], [0,0,0]])\n",
    "P[(jobclass2, jobclass3)] = np.array([[0,0,0], [0,0,0], [0,0,0]])\n",
    "P[(jobclass2, jobclass4)] = np.array([[0,0,0], [0,0,0], [0,0,0]])\n",
    "\n",
    "# Class3 routing\n",
    "P[(jobclass3, jobclass1)] = np.array([[0,0,0], [0,0,0], [0,0,0]])\n",
    "P[(jobclass3, jobclass2)] = np.array([[0,0,0], [0,0,0], [0,0,0]])\n",
    "P[(jobclass3, jobclass3)] = np.array([[0,1,0], [0,0,1], [0,0,0]])\n",
    "P[(jobclass3, jobclass4)] = np.array([[0,0,0], [0,0,0], [1,0,0]])  # Class switch at Queue2\n",
    "\n",
    "# Class4 routing\n",
    "P[(jobclass4, jobclass1)] = np.array([[0,0,0], [0,0,0], [0,0,0]])\n",
    "P[(jobclass4, jobclass2)] = np.array([[0,0,0], [0,0,0], [0,0,0]])\n",
    "P[(jobclass4, jobclass3)] = np.array([[0,0,0], [0,0,0], [1,0,0]])  # Class switch at Queue2\n",
    "P[(jobclass4, jobclass4)] = np.array([[0,0,1], [0,0,0], [0,0,0]])  # Delay -> Queue2\n",
    "\n",
    "model.link(P)"
   ],
   "outputs": [],
   "execution_count": 12
  },
  {
   "cell_type": "code",
   "metadata": {
    "ExecuteTime": {
     "end_time": "2025-07-29T17:23:34.701989Z",
     "start_time": "2025-07-29T17:23:34.698976Z"
    }
   },
   "source": [
    "# Set initial state for probability calculation\n",
    "# State format: [station][class] where -1 means ignored\n",
    "n = np.array([[-1,-1,-1,-1],   # Delay state (ignored)\n",
    "              [-1,-1,-1,-1],   # Queue1 state (ignored)\n",
    "              [1, 0, 2, 1]])   # Queue2 state: 1 Class1, 0 Class2, 2 Class3, 1 Class4\n",
    "\n",
    "# Set state for each node\n",
    "nodes = [node1, node2, node3]\n",
    "for i in range(len(nodes)):\n",
    "    if not np.any(n[i] == -1):  # Only set state if not ignored\n",
    "        nodes[i].setState(n[i])"
   ],
   "outputs": [],
   "execution_count": 13
  },
  {
   "cell_type": "code",
   "metadata": {
    "ExecuteTime": {
     "end_time": "2025-07-29T17:23:34.752171Z",
     "start_time": "2025-07-29T17:23:34.748205Z"
    }
   },
   "source": [
    "# Solve with CTMC for exact state probabilities",
    "",
    "options = Solver.defaultOptions",
    "options.verbose = 1",
    "",
    "solver_ctmc = SolverCTMC(model, options)",
    "",
    "#Pr_ctmc = solver_ctmc.getProbAggr(node3)"
   ],
   "outputs": [
    {
     "name": "stdout",
     "output_type": "stream",
     "text": [
      "=== CTMC Solution (Exact) ===\n"
     ]
    }
   ],
   "execution_count": 14
  },
  {
   "cell_type": "code",
   "metadata": {
    "ExecuteTime": {
     "end_time": "2025-07-29T17:23:34.828128Z",
     "start_time": "2025-07-29T17:23:34.799956Z"
    }
   },
   "source": [
    "# Solve with NC (Normalizing Constant) method\n",
    "print(\"\\n=== NC Solution (Normalizing Constants) ===\")\n",
    "solver_nc = SolverNC(model, options)\n",
    "\n",
    "Pr_nc = solver_nc.getProbAggr(node3)"
   ],
   "outputs": [
    {
     "name": "stdout",
     "output_type": "stream",
     "text": [
      "\n",
      "=== NC Solution (Normalizing Constants) ===\n"
     ]
    }
   ],
   "execution_count": 15
  },
  {
   "cell_type": "code",
   "metadata": {
    "ExecuteTime": {
     "end_time": "2025-07-29T17:23:44.361501800Z",
     "start_time": "2025-07-29T17:23:34.849887Z"
    }
   },
   "source": "#avg_table = solver_ctmc.get_avg_table()",
   "outputs": [],
   "execution_count": null
  }
 ],
 "metadata": {
  "kernelspec": {
   "display_name": "Python 3",
   "language": "python",
   "name": "python3"
  },
  "language_info": {
   "codemirror_mode": {
    "name": "ipython",
    "version": 3
   },
   "file_extension": ".py",
   "mimetype": "text/x-python",
   "name": "python",
   "nbconvert_exporter": "python",
   "pygments_lexer": "ipython3",
   "version": "3.8.0"
  }
 },
 "nbformat": 4,
 "nbformat_minor": 4
}