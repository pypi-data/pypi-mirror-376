{
 "cells": [
  {
   "cell_type": "code",
   "execution_count": null,
   "metadata": {},
   "outputs": [],
   "source": [
    "from line_solver import *\n",
    "import numpy as np\n",
    "GlobalConstants.set_verbose(VerboseLevel.STD)"
   ]
  },
  {
   "cell_type": "code",
   "execution_count": null,
   "metadata": {},
   "outputs": [],
   "source": [
    "def circul(c):\n",
    "    \"\"\"Returns a circulant matrix of order c.\n",
    "    \n",
    "    Args:\n",
    "        c: Either an integer (order) or a vector for the first row\n",
    "        \n",
    "    Returns:\n",
    "        numpy.ndarray: Circulant matrix\n",
    "    \"\"\"\n",
    "    if np.isscalar(c):\n",
    "        if c == 1:\n",
    "            return np.array([[1]])\n",
    "        else:\n",
    "            v = np.zeros(c)\n",
    "            v[-1] = 1  # Last element = 1\n",
    "            return circul(v)\n",
    "    \n",
    "    # c is a vector\n",
    "    n = len(c)\n",
    "    C = np.zeros((n, n))\n",
    "    \n",
    "    for i in range(n):\n",
    "        for j in range(n):\n",
    "            C[i, j] = c[(j - i) % n]\n",
    "    \n",
    "    return C\n",
    "\n",
    "def renv_genqn(rate, N):\n",
    "    \"\"\"Helper function to generate a queueing network for random environment advanced.\"\"\"\n",
    "    qnet = Network('qn1')\n",
    "    \n",
    "    node = np.empty(2, dtype=object)\n",
    "    node[0] = Delay(qnet, 'Queue1')\n",
    "    node[1] = Queue(qnet, 'Queue2', SchedStrategy.PS)\n",
    "    \n",
    "    jobclass = np.empty(1, dtype=object)\n",
    "    jobclass[0] = ClosedClass(qnet, 'Class1', N, node[0], 0)\n",
    "    \n",
    "    node[0].set_service(jobclass[0], Exp(rate[0]))\n",
    "    node[1].set_service(jobclass[0], Exp(rate[1]))\n",
    "    \n",
    "    P = qnet.init_routing_matrix()\n",
    "    P.set(jobclass[0], jobclass[0], [[0, 1], [1, 0]])\n",
    "    qnet.link(P)\n",
    "    \n",
    "    return qnet"
   ]
  },
  {
   "cell_type": "code",
   "execution_count": null,
   "metadata": {},
   "outputs": [],
   "source": [
    "# Model parameters\n",
    "N = 2  # Job population  \n",
    "M = 2  # Number of stations\n",
    "E = 3  # Number of environment stages\n",
    "\n",
    "# Create environment model\n",
    "envModel = Env('MyEnv', E)\n",
    "envName = ['Stage1', 'Stage2', 'Stage3']\n",
    "envType = ['UP', 'DOWN', 'FAST']\n",
    "\n",
    "# Create rate matrix\n",
    "rate = np.ones((M, E))\n",
    "rate[M-1, :] = np.arange(1, E+1)  # rate(M,1:E)=(1:E)\n",
    "rate[0, :] = np.arange(E, 0, -1)  # rate(1,1:E)=(E:-1:1)\n",
    "\n",
    "print(f\"Rate matrix:\")\n",
    "print(rate)"
   ]
  },
  {
   "cell_type": "code",
   "execution_count": null,
   "metadata": {},
   "outputs": [],
   "source": "# Create queueing networks for each environment stage\nqn1 = renv_genqn(rate[:, 0], N)\nqn2 = renv_genqn(rate[:, 1], N)\nqn3 = renv_genqn(rate[:, 2], N)\n\nenvSubModel = [qn1, qn2, qn3]\n\n# Add stages to environment model\nfor e in range(E):\n    envModel.add_stage(e, envName[e], envType[e], envSubModel[e])"
  },
  {
   "cell_type": "code",
   "execution_count": null,
   "metadata": {},
   "outputs": [],
   "source": [
    "# Define environment transition rates using circulant matrix\n",
    "envRates = circul(3)  # Creates a 3x3 circulant matrix\n",
    "\n",
    "print(f\"Environment transition rates (circulant matrix):\")\n",
    "print(envRates)\n",
    "\n",
    "# Add transitions with Erlang distributions\n",
    "for e in range(E):\n",
    "    for h in range(E):\n",
    "        if envRates[e, h] > 0:\n",
    "            mean_time = 1.0 / envRates[e, h]\n",
    "            order = e + h  # Erlang order based on stage indices\n",
    "            if order == 0:\n",
    "                order = 1  # Minimum order is 1\n",
    "            envModel.add_transition(e, h, Erlang.fitMeanAndOrder(mean_time, order))"
   ]
  },
  {
   "cell_type": "markdown",
   "metadata": {},
   "source": [
    "The metasolver considers an environment with 3 stages and a queueing network with 2 stations.\n",
    "This example illustrates the computation of the infinitesimal generator of the system."
   ]
  },
  {
   "cell_type": "code",
   "execution_count": null,
   "metadata": {},
   "outputs": [],
   "source": [
    "# Create solvers for each submodel using CTMC",
    "solvers = np.empty(E, dtype=object)",
    "for e in range(E):",
    "    solvers[e] = SolverCTMC(envSubModel[e])",
    "",
    "# Create environment solver",
    "envSolver = SolverEnv(envModel, solvers)",
    "",
    "# Get results",
    "try:",
    "    # Try to get the generator (infinitesimal generator matrix)",
    "    try:",
    "        generator_result = envSolver.getGenerator()",
    "        print(\"Infinitesimal generator computation completed\")",
    "        print(f\"Generator result type: {type(generator_result)}\")",
    "        if hasattr(generator_result, 'shape'):",
    "            print(f\"Generator shape: {generator_result.shape}\")",
    "        else:",
    "            print(f\"Generator result: {generator_result}\")",
    "    except Exception as gen_error:",
    "        print(f\"Generator computation error: {gen_error}\")",
    "        print(\"Note: getGenerator() may not be fully implemented in Python version\")",
    "    ",
    "    # Alternative: Get ensemble averages",
    "    try:",
    "        avgTable = envSolver.getEnsembleAvg()",
    "        print(\"\\nEnsemble average performance metrics:\")",
    "        print(avgTable)",
    "    except Exception as avg_error:",
    "        print(f\"\\nEnsemble average error: {avg_error}\")",
    "        ",
    "except Exception as e:",
    "    print(f\"Error during solving: {e}\")",
    "    print(\"Note: Some environment solver features may not be fully implemented in the Python version\")"
   ]
  }
 ],
 "metadata": {
  "kernelspec": {
   "display_name": "Python 3",
   "language": "python",
   "name": "python3"
  },
  "language_info": {
   "codemirror_mode": {
    "name": "ipython",
    "version": 3
   },
   "file_extension": ".py",
   "name": "python",
   "nbconvert_exporter": "python",
   "pygments_lexer": "ipython3",
   "version": "3.8.5"
  }
 },
 "nbformat": 4,
 "nbformat_minor": 4
}