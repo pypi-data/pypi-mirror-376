{
 "cells": [
  {
   "cell_type": "code",
   "source": [
    "from line_solver import *\n",
    "GlobalConstants.set_verbose(VerboseLevel.STD)"
   ],
   "metadata": {
    "collapsed": false,
    "ExecuteTime": {
     "end_time": "2025-07-15T22:53:57.966996Z",
     "start_time": "2025-07-15T22:53:53.073175Z"
    }
   },
   "id": "e5b643ca6db90f63",
   "outputs": [],
   "execution_count": 1
  },
  {
   "cell_type": "code",
   "source": [
    "N = 1\n",
    "M = 2\n",
    "E = 2\n",
    "envModel = Env('MyEnv', E)\n",
    "envName = ['Stage1', 'Stage2']\n",
    "envType = ['UP', 'DOWN']\n",
    "\n",
    "rate = np.array([[2,1],[1,2]])"
   ],
   "metadata": {
    "collapsed": false,
    "ExecuteTime": {
     "end_time": "2025-07-15T22:53:58.259511Z",
     "start_time": "2025-07-15T22:53:58.212950Z"
    }
   },
   "id": "be89dcf9f773ee40",
   "outputs": [],
   "execution_count": 2
  },
  {
   "cell_type": "code",
   "source": [
    "def renv_genqn(rate, N):\n",
    "    # sn1\n",
    "    qnet = Network('qn1')\n",
    "    \n",
    "    node = np.empty(2, dtype=object)\n",
    "    node[0] = Delay(qnet, 'Queue1')\n",
    "    node[1] = Queue(qnet, 'Queue2', SchedStrategy.PS)\n",
    "\n",
    "    jobclass = np.empty(1, dtype=object)\n",
    "    jobclass[0] = ClosedClass(qnet, 'Class1', N, node[0], 0)\n",
    "    \n",
    "    node[0].set_service(jobclass[0], Exp(rate[0]))\n",
    "    node[1].set_service(jobclass[0], Exp(rate[1]))\n",
    "    \n",
    "    P = qnet.init_routing_matrix()\n",
    "    P.set(jobclass[0],jobclass[0], [[0,1],[1,0]])\n",
    "    qnet.link(P)\n",
    "    return qnet"
   ],
   "metadata": {
    "collapsed": false,
    "ExecuteTime": {
     "end_time": "2025-07-15T22:53:58.445547Z",
     "start_time": "2025-07-15T22:53:58.413920Z"
    }
   },
   "id": "ee2686164cd5d763",
   "outputs": [],
   "execution_count": null
  },
  {
   "metadata": {
    "ExecuteTime": {
     "end_time": "2025-07-15T22:53:58.674610Z",
     "start_time": "2025-07-15T22:53:58.555207Z"
    }
   },
   "cell_type": "code",
   "source": "envSubModel = [renv_genqn(rate[:,0],N), renv_genqn(rate[:,1],N)]\n\nfor e in range(E):\n    envModel.add_stage(e, envName[e], envType[e], envSubModel[e])\n \nenvRates = [[0,1], [0.5,0.5]]\nfor e in range(E):\n    for h in range(E):\n        if envRates[e][h]>0.0:\n            envModel.add_transition(e, h, Exp(envRates[e][h]))",
   "id": "ae76b527697bb8bf",
   "outputs": [],
   "execution_count": null
  },
  {
   "metadata": {
    "ExecuteTime": {
     "end_time": "2025-07-15T22:54:08.006893Z",
     "start_time": "2025-07-15T22:54:07.841024Z"
    }
   },
   "cell_type": "code",
   "source": [
    "# Display stage table\n",
    "print(\"Stage Table:\")\n",
    "envModel.getStageTable()"
   ],
   "id": "b7dd18dfd386d2e9",
   "outputs": [
    {
     "name": "stdout",
     "output_type": "stream",
     "text": [
      "Stage Table:\n"
     ]
    },
    {
     "ename": "java.lang.RuntimeException",
     "evalue": "java.lang.RuntimeException: printStageTable() has not yet been implemented in JLINE.",
     "output_type": "error",
     "traceback": [
      "\u001b[31m---------------------------------------------------------------------------\u001b[39m",
      "\u001b[31mException\u001b[39m                                 Traceback (most recent call last)",
      "\u001b[36mFile \u001b[39m\u001b[32mEnv.java:177\u001b[39m, in \u001b[36mjline.lang.Env.printStageTable\u001b[39m\u001b[34m()\u001b[39m\n",
      "\u001b[31mException\u001b[39m: Java Exception",
      "\nThe above exception was the direct cause of the following exception:\n",
      "\u001b[31mjava.lang.RuntimeException\u001b[39m                Traceback (most recent call last)",
      "\u001b[36mCell\u001b[39m\u001b[36m \u001b[39m\u001b[32mIn[6]\u001b[39m\u001b[32m, line 3\u001b[39m\n\u001b[32m      1\u001b[39m \u001b[38;5;66;03m# Display stage table\u001b[39;00m\n\u001b[32m      2\u001b[39m \u001b[38;5;28mprint\u001b[39m(\u001b[33m\"\u001b[39m\u001b[33mStage Table:\u001b[39m\u001b[33m\"\u001b[39m)\n\u001b[32m----> \u001b[39m\u001b[32m3\u001b[39m \u001b[43menvModel\u001b[49m\u001b[43m.\u001b[49m\u001b[43mgetStageTable\u001b[49m\u001b[43m(\u001b[49m\u001b[43m)\u001b[49m\n",
      "\u001b[36mFile \u001b[39m\u001b[32m~/line-solver.git/python/line_solver/lang.py:958\u001b[39m, in \u001b[36mEnv.getStageTable\u001b[39m\u001b[34m(self)\u001b[39m\n\u001b[32m    956\u001b[39m \u001b[38;5;28;01mdef\u001b[39;00m\u001b[38;5;250m \u001b[39m\u001b[34mgetStageTable\u001b[39m(\u001b[38;5;28mself\u001b[39m):\n\u001b[32m    957\u001b[39m     \u001b[38;5;66;03m# NOTE: Not implemented yet in  JLINE\u001b[39;00m\n\u001b[32m--> \u001b[39m\u001b[32m958\u001b[39m     \u001b[38;5;28;01mreturn\u001b[39;00m \u001b[38;5;28;43mself\u001b[39;49m\u001b[43m.\u001b[49m\u001b[43mobj\u001b[49m\u001b[43m.\u001b[49m\u001b[43mprintStageTable\u001b[49m\u001b[43m(\u001b[49m\u001b[43m)\u001b[49m\n",
      "\u001b[31mjava.lang.RuntimeException\u001b[39m: java.lang.RuntimeException: printStageTable() has not yet been implemented in JLINE."
     ]
    }
   ],
   "execution_count": 6
  },
  {
   "metadata": {
    "ExecuteTime": {
     "end_time": "2025-07-15T22:55:23.614348Z",
     "start_time": "2025-07-15T22:55:23.499462Z"
    }
   },
   "cell_type": "code",
   "source": "# Configure solver options  \nfrom line_solver import SolverType\noptions = SolverOptions(SolverType.ENV.value)\noptions.timespan = [0, float('inf')]\noptions.iter_max = 100\noptions.iter_tol = 0.01\noptions.method = 'default'\noptions.verbose = True\n\n# Configure fluid solver options\nsfoptions = SolverOptions(SolverType.FLUID.value)\nsfoptions.timespan = [0, 1e3]\nsfoptions.verbose = False\n\n# Create solvers for each submodel\nsolvers = np.empty(E, dtype=object)\nfor e in range(E):\n    solvers[e] = SolverFluid(envSubModel[e], sfoptions)\n\n# Create environment solver\nenvSolver = SolverEnv(envModel, solvers, options)\n\n# Get results\ntry:\n    QN, UN, TN = envSolver.getAvg()\n    print(\"Average queue lengths (QN):\", QN)\n    print(\"Average utilizations (UN):\", UN)\n    print(\"Average throughputs (TN):\", TN)\n    \n    AvgTable = envSolver.get_avg_table()\n    print(\"\\nAverage Table:\")\n    print(AvgTable)\n    \nexcept Exception as e:\n    print(f\"Error during solving: {e}\")\n    print(\"Note: Environment solver features may not be fully implemented\")",
   "id": "b2dbd6fc095e2ac0",
   "outputs": [],
   "execution_count": null
  },
  {
   "cell_type": "markdown",
   "id": "1my83bkg43z",
   "source": "## Alternative: CTMC Solver (Commented)\nThe MATLAB version also shows an alternative using SolverCTMC, which is commented out in the original.",
   "metadata": {}
  },
  {
   "cell_type": "code",
   "id": "ft2aatdhc6c",
   "source": [
    "# Alternative solver using CTMC (commented out as in MATLAB version)\n",
    "# scoptions = SolverOptions()\n",
    "# scoptions.timespan = [0, 1e3]\n",
    "# scoptions.verbose = False\n",
    "# envSolver = SolverEnv(envModel, lambda model: SolverCTMC(model, scoptions), options)\n",
    "# QNc, UNc, TNc = envSolver.getAvg()\n",
    "# AvgTableC = envSolver.get_avg_table()\n",
    "# print(\"CTMC Results:\")\n",
    "# print(\"Average Table (CTMC):\", AvgTableC)"
   ],
   "metadata": {},
   "execution_count": null,
   "outputs": []
  }
 ],
 "metadata": {
  "kernelspec": {
   "display_name": "Python 3",
   "language": "python",
   "name": "python3"
  },
  "language_info": {
   "codemirror_mode": {
    "name": "ipython",
    "version": 2
   },
   "file_extension": ".py",
   "mimetype": "text/x-python",
   "name": "python",
   "nbconvert_exporter": "python",
   "pygments_lexer": "ipython2",
   "version": "2.7.6"
  }
 },
 "nbformat": 4,
 "nbformat_minor": 5
}