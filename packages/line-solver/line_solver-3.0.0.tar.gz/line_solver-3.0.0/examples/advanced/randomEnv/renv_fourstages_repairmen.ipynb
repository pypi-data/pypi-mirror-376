{
 "cells": [
  {
   "cell_type": "code",
   "execution_count": null,
   "metadata": {},
   "outputs": [],
   "source": [
    "from line_solver import *\n",
    "import numpy as np\n",
    "GlobalConstants.set_verbose(VerboseLevel.STD)"
   ]
  },
  {
   "cell_type": "code",
   "execution_count": null,
   "metadata": {},
   "outputs": [],
   "source": [
    "def renv_genqn(rate, N):\n",
    "    \"\"\"Helper function to generate a queueing network for random environment advanced.\"\"\"\n",
    "    qnet = Network('qn1')\n",
    "    \n",
    "    node = np.empty(2, dtype=object)\n",
    "    node[0] = Delay(qnet, 'Queue1')\n",
    "    node[1] = Queue(qnet, 'Queue2', SchedStrategy.PS)\n",
    "    \n",
    "    jobclass = np.empty(1, dtype=object)\n",
    "    jobclass[0] = ClosedClass(qnet, 'Class1', N, node[0], 0)\n",
    "    \n",
    "    node[0].set_service(jobclass[0], Exp(rate[0]))\n",
    "    node[1].set_service(jobclass[0], Exp(rate[1]))\n",
    "    \n",
    "    P = qnet.init_routing_matrix()\n",
    "    P.set(jobclass[0], jobclass[0], [[0, 1], [1, 0]])\n",
    "    qnet.link(P)\n",
    "    \n",
    "    return qnet"
   ]
  },
  {
   "cell_type": "code",
   "execution_count": null,
   "metadata": {},
   "outputs": [],
   "source": [
    "# Model parameters\n",
    "N = 30  # Job population\n",
    "M = 3   # Number of stations\n",
    "E = 4   # Number of environment stages\n",
    "\n",
    "# Create environment model\n",
    "envModel = Env('MyEnv', E)\n",
    "envName = ['Stage1', 'Stage2', 'Stage3', 'Stage4']\n",
    "envType = ['UP', 'DOWN', 'FAST', 'SLOW']\n",
    "\n",
    "# Create rate matrix\n",
    "rate = np.ones((M, E))\n",
    "rate[M-1, :] = np.arange(1, E+1)  # rate(M,1:E)=(1:E)\n",
    "rate[0, :] = np.arange(E, 0, -1)  # rate(1,1:E)=(E:-1:1)\n",
    "\n",
    "print(f\"Rate matrix:\")\n",
    "print(rate)"
   ]
  },
  {
   "cell_type": "code",
   "execution_count": null,
   "metadata": {},
   "outputs": [],
   "source": "# Create queueing networks for each environment stage\nqn1 = renv_genqn(rate[:, 0], N)\nqn2 = renv_genqn(rate[:, 1], N)\nqn3 = renv_genqn(rate[:, 2], N)\nqn4 = renv_genqn(rate[:, 3], N)\nenvSubModel = [qn1, qn2, qn3, qn4]\n\n# Add stages to environment model\nfor e in range(E):\n    envModel.add_stage(e, envName[e], envType[e], envSubModel[e])"
  },
  {
   "cell_type": "code",
   "execution_count": null,
   "metadata": {},
   "outputs": [],
   "source": [
    "# Define environment transition rates\n",
    "envRates = np.array([[0, 1, 0, 0],\n",
    "                     [0, 0, 1, 1],\n",
    "                     [1, 0, 0, 1],\n",
    "                     [1, 1, 0, 0]]) / 2\n",
    "\n",
    "print(f\"Environment transition rates:\")\n",
    "print(envRates)\n",
    "\n",
    "# Add transitions with APH distributions\n",
    "for e in range(E):\n",
    "    for h in range(E):\n",
    "        if envRates[e, h] > 0:\n",
    "            # Use Erlang distribution as approximation for APH.fitMeanAndSCV\n",
    "            mean_time = 1.0 / envRates[e, h]\n",
    "            # APH.fitMeanAndSCV(mean, 0.5) approximated with Erlang of order 2\n",
    "            envModel.add_transition(e, h, Erlang.fitMeanAndOrder(mean_time, 2))"
   ]
  },
  {
   "cell_type": "markdown",
   "metadata": {},
   "source": [
    "The metasolver considers an environment with 4 stages and a queueing network with 3 stations.\n",
    "Every time the stage changes, the queueing network will modify the service rates of the stations."
   ]
  },
  {
   "cell_type": "code",
   "execution_count": null,
   "metadata": {},
   "outputs": [],
   "source": [
    "# Create solvers for each submodel",
    "solvers = np.empty(E, dtype=object)",
    "for e in range(E):",
    "    solvers[e] = SolverFluid(envSubModel[e])",
    "",
    "# Create environment solver",
    "envSolver = SolverEnv(envModel, solvers)",
    "",
    "# Get results",
    "try:",
    "    # Note: Some methods may not be fully implemented in Python version",
    "    avgTable = envSolver.getEnsembleAvg()",
    "    print(\"Average performance metrics:\")",
    "    print(avgTable)",
    "    ",
    "    # Try to get ensemble average tables",
    "    try:",
    "        ensembleAvgTables = envSolver.getEnsembleAvgTables()",
    "        print(\"\\nEnsemble average tables:\")",
    "        print(ensembleAvgTables)",
    "    except:",
    "        print(\"\\nEnsemble average tables not available in this version\")",
    "        ",
    "except Exception as e:",
    "    print(f\"Error during solving: {e}\")",
    "    print(\"Note: Some environment solver features may not be fully implemented in the Python version\")"
   ]
  }
 ],
 "metadata": {
  "kernelspec": {
   "display_name": "Python 3",
   "language": "python",
   "name": "python3"
  },
  "language_info": {
   "codemirror_mode": {
    "name": "ipython",
    "version": 3
   },
   "file_extension": ".py",
   "name": "python",
   "nbconvert_exporter": "python",
   "pygments_lexer": "ipython3",
   "version": "3.8.5"
  }
 },
 "nbformat": 4,
 "nbformat_minor": 4
}