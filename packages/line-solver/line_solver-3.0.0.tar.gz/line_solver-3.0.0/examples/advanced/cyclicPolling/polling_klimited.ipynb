{
 "cells": [
  {
   "cell_type": "code",
   "metadata": {
    "ExecuteTime": {
     "end_time": "2025-07-29T17:56:59.557243Z",
     "start_time": "2025-07-29T17:56:58.503476Z"
    }
   },
   "source": "from line_solver import *\nimport numpy as np\nGlobalConstants.set_verbose(VerboseLevel.STD)",
   "outputs": [],
   "execution_count": 1
  },
  {
   "cell_type": "code",
   "metadata": {
    "ExecuteTime": {
     "end_time": "2025-07-29T17:56:59.639614Z",
     "start_time": "2025-07-29T17:56:59.627014Z"
    }
   },
   "source": "model = Network('M[2]/M[2]/1-Gated')\n## Block 1: nodes\nsource = Source(model, 'mySource')\nqueue = Queue(model, 'myQueue', SchedStrategy.POLLING)\nsink = Sink(model, 'mySink')",
   "outputs": [],
   "execution_count": 2
  },
  {
   "cell_type": "code",
   "metadata": {
    "ExecuteTime": {
     "end_time": "2025-07-29T17:56:59.712051Z",
     "start_time": "2025-07-29T17:56:59.702758Z"
    }
   },
   "source": "## Block 2: classes\noclass1 = OpenClass(model, 'myClass1')\nsource.set_arrival(oclass1, Exp(0.2))\nqueue.set_service(oclass1, Exp(1.0))\n\noclass2 = OpenClass(model, 'myClass2')\nsource.set_arrival(oclass2, Exp(0.3))\nqueue.set_service(oclass2, Exp(1.5))\n\nqueue.set_polling_type(PollingType.KLIMITED, 1)\nqueue.set_switchover(oclass1, Exp(1))\n# Use Exp(1) for switchover (same as oclass1)\nqueue.set_switchover(oclass2, Exp(1))",
   "outputs": [],
   "execution_count": null
  },
  {
   "cell_type": "code",
   "metadata": {
    "ExecuteTime": {
     "end_time": "2025-07-29T17:56:59.791040Z",
     "start_time": "2025-07-29T17:56:59.779933Z"
    }
   },
   "source": [
    "## Block 3: topology\n",
    "P = model.init_routing_matrix()\n",
    "P.add_route(oclass1, source, queue, sink)\n",
    "P.add_route(oclass2, source, queue, sink)\n",
    "model.link(P)"
   ],
   "outputs": [],
   "execution_count": 4
  },
  {
   "cell_type": "code",
   "metadata": {
    "ExecuteTime": {
     "end_time": "2025-07-29T17:56:59.949563Z",
     "start_time": "2025-07-29T17:56:59.852248Z"
    }
   },
   "source": "SolverMVA(model).get_avg_table()  # solution is approximate",
   "outputs": [
    {
     "name": "stdout",
     "output_type": "stream",
     "text": [
      "MVA analysis [method: default(null), lang: java, env: 21.0.8] completed in 0.017537s.\n",
      "    Station  JobClass  QLen  Util  RespT  ResidT  ArvR  Tput\n",
      "0  mySource  myClass1  0.00   0.0   0.00    0.00   0.0   0.2\n",
      "1  mySource  myClass2  0.00   0.0   0.00    0.00   0.0   0.2\n",
      "2   myQueue  myClass1  0.25   0.2   1.25    1.25   0.2   0.2\n",
      "3   myQueue  myClass2  0.25   0.2   1.25    1.25   0.2   0.2\n"
     ]
    },
    {
     "data": {
      "text/plain": [
       "    Station  JobClass  QLen  Util  RespT  ResidT  ArvR  Tput\n",
       "0  mySource  myClass1  0.00   0.0   0.00    0.00   0.0   0.2\n",
       "1  mySource  myClass2  0.00   0.0   0.00    0.00   0.0   0.2\n",
       "2   myQueue  myClass1  0.25   0.2   1.25    1.25   0.2   0.2\n",
       "3   myQueue  myClass2  0.25   0.2   1.25    1.25   0.2   0.2"
      ],
      "text/html": [
       "<div>\n",
       "<style scoped>\n",
       "    .dataframe tbody tr th:only-of-type {\n",
       "        vertical-align: middle;\n",
       "    }\n",
       "\n",
       "    .dataframe tbody tr th {\n",
       "        vertical-align: top;\n",
       "    }\n",
       "\n",
       "    .dataframe thead th {\n",
       "        text-align: right;\n",
       "    }\n",
       "</style>\n",
       "<table border=\"1\" class=\"dataframe\">\n",
       "  <thead>\n",
       "    <tr style=\"text-align: right;\">\n",
       "      <th></th>\n",
       "      <th>Station</th>\n",
       "      <th>JobClass</th>\n",
       "      <th>QLen</th>\n",
       "      <th>Util</th>\n",
       "      <th>RespT</th>\n",
       "      <th>ResidT</th>\n",
       "      <th>ArvR</th>\n",
       "      <th>Tput</th>\n",
       "    </tr>\n",
       "  </thead>\n",
       "  <tbody>\n",
       "    <tr>\n",
       "      <th>0</th>\n",
       "      <td>mySource</td>\n",
       "      <td>myClass1</td>\n",
       "      <td>0.00</td>\n",
       "      <td>0.0</td>\n",
       "      <td>0.00</td>\n",
       "      <td>0.00</td>\n",
       "      <td>0.0</td>\n",
       "      <td>0.2</td>\n",
       "    </tr>\n",
       "    <tr>\n",
       "      <th>1</th>\n",
       "      <td>mySource</td>\n",
       "      <td>myClass2</td>\n",
       "      <td>0.00</td>\n",
       "      <td>0.0</td>\n",
       "      <td>0.00</td>\n",
       "      <td>0.00</td>\n",
       "      <td>0.0</td>\n",
       "      <td>0.2</td>\n",
       "    </tr>\n",
       "    <tr>\n",
       "      <th>2</th>\n",
       "      <td>myQueue</td>\n",
       "      <td>myClass1</td>\n",
       "      <td>0.25</td>\n",
       "      <td>0.2</td>\n",
       "      <td>1.25</td>\n",
       "      <td>1.25</td>\n",
       "      <td>0.2</td>\n",
       "      <td>0.2</td>\n",
       "    </tr>\n",
       "    <tr>\n",
       "      <th>3</th>\n",
       "      <td>myQueue</td>\n",
       "      <td>myClass2</td>\n",
       "      <td>0.25</td>\n",
       "      <td>0.2</td>\n",
       "      <td>1.25</td>\n",
       "      <td>1.25</td>\n",
       "      <td>0.2</td>\n",
       "      <td>0.2</td>\n",
       "    </tr>\n",
       "  </tbody>\n",
       "</table>\n",
       "</div>"
      ]
     },
     "execution_count": 5,
     "metadata": {},
     "output_type": "execute_result"
    }
   ],
   "execution_count": 5
  },
  {
   "cell_type": "code",
   "metadata": {
    "ExecuteTime": {
     "end_time": "2025-07-29T17:57:00.300153Z",
     "start_time": "2025-07-29T17:56:59.976634Z"
    }
   },
   "source": "SolverJMT(model, samples=100000, seed=23000).get_avg_table()",
   "outputs": [
    {
     "name": "stderr",
     "output_type": "stream",
     "text": [
      "java.lang.IllegalArgumentException: Outside of matrix bounds\n",
      "\tat org.ejml.data.DMatrixSparseCSC.get(DMatrixSparseCSC.java:176)\n",
      "\tat jline.util.matrix.Matrix.get(Matrix.java:2965)\n",
      "\tat jline.solvers.jmt.SolverJMT.writeJSIM(SolverJMT.java:2928)\n",
      "\tat jline.solvers.jmt.SolverJMT.writeJSIM(SolverJMT.java:2964)\n",
      "\tat jline.solvers.jmt.SolverJMT.runAnalyzer(SolverJMT.java:1771)\n",
      "\tat jline.solvers.NetworkSolver.getAvg(NetworkSolver.java:217)\n",
      "\tat jline.solvers.NetworkSolver.getAvgTable(NetworkSolver.java:2071)\n"
     ]
    },
    {
     "ename": "java.lang.RuntimeException",
     "evalue": "java.lang.RuntimeException: Unable to compute results and therefore unable to print AvgTable.",
     "output_type": "error",
     "traceback": [
      "\u001b[31m---------------------------------------------------------------------------\u001b[39m",
      "\u001b[31mException\u001b[39m                                 Traceback (most recent call last)",
      "\u001b[36mFile \u001b[39m\u001b[32mNetworkSolver.java:2075\u001b[39m, in \u001b[36mjline.solvers.NetworkSolver.getAvgTable\u001b[39m\u001b[34m()\u001b[39m\n",
      "\u001b[31mException\u001b[39m: Java Exception",
      "\nThe above exception was the direct cause of the following exception:\n",
      "\u001b[31mjava.lang.RuntimeException\u001b[39m                Traceback (most recent call last)",
      "\u001b[36mCell\u001b[39m\u001b[36m \u001b[39m\u001b[32mIn[6]\u001b[39m\u001b[32m, line 1\u001b[39m\n\u001b[32m----> \u001b[39m\u001b[32m1\u001b[39m \u001b[43mSolverJMT\u001b[49m\u001b[43m(\u001b[49m\u001b[43mmodel\u001b[49m\u001b[43m,\u001b[49m\u001b[43m \u001b[49m\u001b[43msamples\u001b[49m\u001b[43m=\u001b[49m\u001b[32;43m100000\u001b[39;49m\u001b[43m,\u001b[49m\u001b[43m \u001b[49m\u001b[43mseed\u001b[49m\u001b[43m=\u001b[49m\u001b[32;43m23000\u001b[39;49m\u001b[43m)\u001b[49m\u001b[43m.\u001b[49m\u001b[43mget_avg_table\u001b[49m\u001b[43m(\u001b[49m\u001b[43m)\u001b[49m\n",
      "\u001b[36mFile \u001b[39m\u001b[32m/mnt/c/Users/gcasale/Dropbox/code/line-dev.git/python/line_solver/solvers.py:422\u001b[39m, in \u001b[36mNetworkSolver.getAvgTable\u001b[39m\u001b[34m(self)\u001b[39m\n\u001b[32m    421\u001b[39m \u001b[38;5;28;01mdef\u001b[39;00m\u001b[38;5;250m \u001b[39m\u001b[34mgetAvgTable\u001b[39m(\u001b[38;5;28mself\u001b[39m):\n\u001b[32m--> \u001b[39m\u001b[32m422\u001b[39m     table = \u001b[38;5;28;43mself\u001b[39;49m\u001b[43m.\u001b[49m\u001b[43mobj\u001b[49m\u001b[43m.\u001b[49m\u001b[43mgetAvgTable\u001b[49m\u001b[43m(\u001b[49m\u001b[43m)\u001b[49m\n\u001b[32m    425\u001b[39m     QLen = np.array(\u001b[38;5;28mlist\u001b[39m(table.getQLen()))\n\u001b[32m    426\u001b[39m     Util = np.array(\u001b[38;5;28mlist\u001b[39m(table.getUtil()))\n",
      "\u001b[31mjava.lang.RuntimeException\u001b[39m: java.lang.RuntimeException: Unable to compute results and therefore unable to print AvgTable."
     ]
    }
   ],
   "execution_count": 6
  }
 ],
 "metadata": {
  "kernelspec": {
   "display_name": "Python 3",
   "language": "python",
   "name": "python3"
  },
  "language_info": {
   "codemirror_mode": {
    "name": "ipython",
    "version": 3
   },
   "file_extension": ".py",
   "mimetype": "text/x-python",
   "name": "python",
   "nbconvert_exporter": "python",
   "pygments_lexer": "ipython3",
   "version": "3.8.0"
  }
 },
 "nbformat": 4,
 "nbformat_minor": 4
}