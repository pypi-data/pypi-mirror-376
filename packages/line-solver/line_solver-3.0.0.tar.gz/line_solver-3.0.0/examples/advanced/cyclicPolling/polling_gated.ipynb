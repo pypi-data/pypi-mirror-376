{
 "cells": [
  {
   "cell_type": "code",
   "metadata": {
    "ExecuteTime": {
     "end_time": "2025-07-15T04:42:11.753198Z",
     "start_time": "2025-07-15T04:42:07.555910Z"
    }
   },
   "source": "from line_solver import *\nimport numpy as np\nGlobalConstants.set_verbose(VerboseLevel.STD)",
   "outputs": [],
   "execution_count": 1
  },
  {
   "cell_type": "code",
   "metadata": {
    "ExecuteTime": {
     "end_time": "2025-07-15T04:42:12.355574Z",
     "start_time": "2025-07-15T04:42:12.302777Z"
    }
   },
   "source": "model = Network('M[2]/M[2]/1-Exhaustive')\n## Block 1: nodes\nsource = Source(model, 'mySource')\nqueue = Queue(model, 'myQueue', SchedStrategy.POLLING)\nsink = Sink(model, 'mySink')",
   "outputs": [],
   "execution_count": 2
  },
  {
   "cell_type": "code",
   "metadata": {
    "ExecuteTime": {
     "end_time": "2025-07-15T04:42:12.625756Z",
     "start_time": "2025-07-15T04:42:12.483033Z"
    }
   },
   "source": "## Block 2: classes\noclass1 = OpenClass(model, 'myClass1')\nsource.set_arrival(oclass1, Exp(1.0))\nqueue.set_service(oclass1, Exp(4.0))\n\noclass2 = OpenClass(model, 'myClass2')\nsource.set_arrival(oclass2, Exp(0.8))\nqueue.set_service(oclass2, Exp(1.5))\n\nqueue.set_polling_type(PollingType.GATED)\nqueue.set_switchover(oclass1, Exp(1.0))\nqueue.set_switchover(oclass2, Exp(0.5))",
   "outputs": [],
   "execution_count": 3
  },
  {
   "cell_type": "code",
   "metadata": {
    "ExecuteTime": {
     "end_time": "2025-07-15T04:42:12.814048Z",
     "start_time": "2025-07-15T04:42:12.756488Z"
    }
   },
   "source": [
    "## Block 3: topology\n",
    "P = model.init_routing_matrix()\n",
    "P.add_route(oclass1, source, queue, sink)\n",
    "P.add_route(oclass2, source, queue, sink)\n",
    "model.link(P)"
   ],
   "outputs": [],
   "execution_count": 4
  },
  {
   "cell_type": "code",
   "metadata": {
    "ExecuteTime": {
     "end_time": "2025-07-15T04:42:13.903808Z",
     "start_time": "2025-07-15T04:42:12.981830Z"
    }
   },
   "source": "SolverMVA(model).get_avg_table()  # solution is exact",
   "outputs": [
    {
     "ename": "java.lang.IndexOutOfBoundsException",
     "evalue": "java.lang.IndexOutOfBoundsException: Index 0 out of bounds for length 0",
     "output_type": "error",
     "traceback": [
      "\u001b[31m---------------------------------------------------------------------------\u001b[39m",
      "\u001b[31mException\u001b[39m                                 Traceback (most recent call last)",
      "\u001b[36mFile \u001b[39m\u001b[32mSolverMVA.java:58\u001b[39m, in \u001b[36mjline.solvers.mva.SolverMVA.<init>\u001b[39m\u001b[34m()\u001b[39m\n",
      "\u001b[31mException\u001b[39m: Java Exception",
      "\nThe above exception was the direct cause of the following exception:\n",
      "\u001b[31mjava.lang.IndexOutOfBoundsException\u001b[39m       Traceback (most recent call last)",
      "\u001b[36mCell\u001b[39m\u001b[36m \u001b[39m\u001b[32mIn[5]\u001b[39m\u001b[32m, line 1\u001b[39m\n\u001b[32m----> \u001b[39m\u001b[32m1\u001b[39m \u001b[43mSolverMVA\u001b[49m\u001b[43m(\u001b[49m\u001b[43mmodel\u001b[49m\u001b[43m)\u001b[49m.getAvgTable()  \u001b[38;5;66;03m# solution is exact\u001b[39;00m\n",
      "\u001b[36mFile \u001b[39m\u001b[32m~/line-solver.git/python/line_solver/solvers.py:687\u001b[39m, in \u001b[36mSolverMVA.__init__\u001b[39m\u001b[34m(self, *args)\u001b[39m\n\u001b[32m    685\u001b[39m \u001b[38;5;28msuper\u001b[39m().\u001b[34m__init__\u001b[39m(options, args)\n\u001b[32m    686\u001b[39m model = args[\u001b[32m0\u001b[39m] \u001b[38;5;66;03m#\u001b[39;00m\n\u001b[32m--> \u001b[39m\u001b[32m687\u001b[39m \u001b[38;5;28mself\u001b[39m.obj = \u001b[43mjpype\u001b[49m\u001b[43m.\u001b[49m\u001b[43mJPackage\u001b[49m\u001b[43m(\u001b[49m\u001b[33;43m'\u001b[39;49m\u001b[33;43mjline\u001b[39;49m\u001b[33;43m'\u001b[39;49m\u001b[43m)\u001b[49m\u001b[43m.\u001b[49m\u001b[43msolvers\u001b[49m\u001b[43m.\u001b[49m\u001b[43mmva\u001b[49m\u001b[43m.\u001b[49m\u001b[43mSolverMVA\u001b[49m\u001b[43m(\u001b[49m\u001b[43mmodel\u001b[49m\u001b[43m.\u001b[49m\u001b[43mobj\u001b[49m\u001b[43m,\u001b[49m\u001b[43m \u001b[49m\u001b[38;5;28;43mself\u001b[39;49m\u001b[43m.\u001b[49m\u001b[43msolveropt\u001b[49m\u001b[43m.\u001b[49m\u001b[43mobj\u001b[49m\u001b[43m)\u001b[49m\n",
      "\u001b[31mjava.lang.IndexOutOfBoundsException\u001b[39m: java.lang.IndexOutOfBoundsException: Index 0 out of bounds for length 0"
     ]
    }
   ],
   "execution_count": 5
  },
  {
   "cell_type": "code",
   "metadata": {
    "ExecuteTime": {
     "end_time": "2025-07-15T04:42:18.635731Z",
     "start_time": "2025-07-15T04:42:18.381812Z"
    }
   },
   "source": "SolverJMT(model, samples=1000000).get_avg_table()",
   "outputs": [
    {
     "ename": "java.lang.IndexOutOfBoundsException",
     "evalue": "java.lang.IndexOutOfBoundsException: Index 0 out of bounds for length 0",
     "output_type": "error",
     "traceback": [
      "\u001b[31m---------------------------------------------------------------------------\u001b[39m",
      "\u001b[31mException\u001b[39m                                 Traceback (most recent call last)",
      "\u001b[36mFile \u001b[39m\u001b[32mSolverJMT.java:82\u001b[39m, in \u001b[36mjline.solvers.jmt.SolverJMT.<init>\u001b[39m\u001b[34m()\u001b[39m\n",
      "\u001b[31mException\u001b[39m: Java Exception",
      "\nThe above exception was the direct cause of the following exception:\n",
      "\u001b[31mjava.lang.IndexOutOfBoundsException\u001b[39m       Traceback (most recent call last)",
      "\u001b[36mCell\u001b[39m\u001b[36m \u001b[39m\u001b[32mIn[6]\u001b[39m\u001b[32m, line 1\u001b[39m\n\u001b[32m----> \u001b[39m\u001b[32m1\u001b[39m \u001b[43mSolverJMT\u001b[49m\u001b[43m(\u001b[49m\u001b[43mmodel\u001b[49m\u001b[43m,\u001b[49m\u001b[43m \u001b[49m\u001b[33;43m'\u001b[39;49m\u001b[33;43msamples\u001b[39;49m\u001b[33;43m'\u001b[39;49m\u001b[43m,\u001b[49m\u001b[43m \u001b[49m\u001b[32;43m1000000\u001b[39;49m\u001b[43m)\u001b[49m.getAvgTable()\n",
      "\u001b[36mFile \u001b[39m\u001b[32m~/line-solver.git/python/line_solver/solvers.py:620\u001b[39m, in \u001b[36mSolverJMT.__init__\u001b[39m\u001b[34m(self, *args)\u001b[39m\n\u001b[32m    618\u001b[39m model = args[\u001b[32m0\u001b[39m] \u001b[38;5;66;03m# model is the first argument\u001b[39;00m\n\u001b[32m    619\u001b[39m \u001b[38;5;28mself\u001b[39m.jmtPath = jpype.JPackage(\u001b[33m'\u001b[39m\u001b[33mjava\u001b[39m\u001b[33m'\u001b[39m).lang.String(os.path.dirname(os.path.abspath(\u001b[34m__file__\u001b[39m)) + \u001b[33m\"\u001b[39m\u001b[33m/JMT.jar\u001b[39m\u001b[33m\"\u001b[39m)\n\u001b[32m--> \u001b[39m\u001b[32m620\u001b[39m \u001b[38;5;28mself\u001b[39m.obj = \u001b[43mjpype\u001b[49m\u001b[43m.\u001b[49m\u001b[43mJPackage\u001b[49m\u001b[43m(\u001b[49m\u001b[33;43m'\u001b[39;49m\u001b[33;43mjline\u001b[39;49m\u001b[33;43m'\u001b[39;49m\u001b[43m)\u001b[49m\u001b[43m.\u001b[49m\u001b[43msolvers\u001b[49m\u001b[43m.\u001b[49m\u001b[43mjmt\u001b[49m\u001b[43m.\u001b[49m\u001b[43mSolverJMT\u001b[49m\u001b[43m(\u001b[49m\u001b[43mmodel\u001b[49m\u001b[43m.\u001b[49m\u001b[43mobj\u001b[49m\u001b[43m,\u001b[49m\u001b[43m \u001b[49m\u001b[38;5;28;43mself\u001b[39;49m\u001b[43m.\u001b[49m\u001b[43msolveropt\u001b[49m\u001b[43m.\u001b[49m\u001b[43mobj\u001b[49m\u001b[43m,\u001b[49m\u001b[43m \u001b[49m\u001b[38;5;28;43mself\u001b[39;49m\u001b[43m.\u001b[49m\u001b[43mjmtPath\u001b[49m\u001b[43m)\u001b[49m\n",
      "\u001b[31mjava.lang.IndexOutOfBoundsException\u001b[39m: java.lang.IndexOutOfBoundsException: Index 0 out of bounds for length 0"
     ]
    }
   ],
   "execution_count": 6
  }
 ],
 "metadata": {
  "kernelspec": {
   "display_name": "Python 3",
   "language": "python",
   "name": "python3"
  },
  "language_info": {
   "codemirror_mode": {
    "name": "ipython",
    "version": 3
   },
   "file_extension": ".py",
   "mimetype": "text/x-python",
   "name": "python",
   "nbconvert_exporter": "python",
   "pygments_lexer": "ipython3",
   "version": "3.8.0"
  }
 },
 "nbformat": 4,
 "nbformat_minor": 4
}