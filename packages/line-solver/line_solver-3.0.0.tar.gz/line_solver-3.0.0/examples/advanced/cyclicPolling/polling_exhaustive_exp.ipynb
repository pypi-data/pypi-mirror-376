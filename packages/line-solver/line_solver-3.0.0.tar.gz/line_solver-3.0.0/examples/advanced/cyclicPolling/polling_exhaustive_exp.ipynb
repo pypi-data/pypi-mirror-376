{
 "cells": [
  {
   "cell_type": "code",
   "metadata": {
    "ExecuteTime": {
     "end_time": "2025-07-29T17:57:12.699897Z",
     "start_time": "2025-07-29T17:57:12.697503Z"
    }
   },
   "source": "from line_solver import *\nimport numpy as np\nGlobalConstants.set_verbose(VerboseLevel.STD)",
   "outputs": [],
   "execution_count": 13
  },
  {
   "cell_type": "code",
   "metadata": {
    "ExecuteTime": {
     "end_time": "2025-07-29T17:57:12.750025Z",
     "start_time": "2025-07-29T17:57:12.748219Z"
    }
   },
   "source": "model = Network('M[2]/M[2]/1-Gated')\n## Block 1: nodes\nsource = Source(model, 'mySource')\nqueue = Queue(model, 'myQueue', SchedStrategy.POLLING)\nsink = Sink(model, 'mySink')",
   "outputs": [],
   "execution_count": 14
  },
  {
   "cell_type": "code",
   "metadata": {
    "ExecuteTime": {
     "end_time": "2025-07-29T17:57:12.802263Z",
     "start_time": "2025-07-29T17:57:12.799623Z"
    }
   },
   "source": "## Block 2: classes\noclass1 = OpenClass(model, 'myClass1')\nsource.set_arrival(oclass1, Exp(0.1))\nqueue.set_service(oclass1, Exp(1.0))\n\noclass2 = OpenClass(model, 'myClass2')\nsource.set_arrival(oclass2, Exp(0.1))\nqueue.set_service(oclass2, Exp(1.5))\n\nqueue.set_polling_type(PollingType.EXHAUSTIVE)",
   "outputs": [],
   "execution_count": 15
  },
  {
   "cell_type": "code",
   "metadata": {
    "ExecuteTime": {
     "end_time": "2025-07-29T17:57:12.849931Z",
     "start_time": "2025-07-29T17:57:12.847803Z"
    }
   },
   "source": [
    "## Block 3: topology\n",
    "P = model.init_routing_matrix()\n",
    "P.add_route(oclass1, source, queue, sink)\n",
    "P.add_route(oclass2, source, queue, sink)\n",
    "model.link(P)"
   ],
   "outputs": [],
   "execution_count": 16
  },
  {
   "cell_type": "code",
   "metadata": {
    "ExecuteTime": {
     "end_time": "2025-07-29T17:57:12.906595Z",
     "start_time": "2025-07-29T17:57:12.898211Z"
    }
   },
   "source": "SolverMVA(model).get_avg_table()  # solution is approximate in general",
   "outputs": [
    {
     "name": "stdout",
     "output_type": "stream",
     "text": [
      "MVA    Station  JobClass    QLen  Util   RespT  ResidT  ArvR  Tput\n",
      "0  mySource  myClass1  0.0000   0.0  0.0000  0.0000   0.0   0.1\n",
      "1  mySource  myClass2  0.0000   0.0  0.0000  0.0000   0.0   0.1\n",
      "2   myQueue  myClass1  0.1111   0.1  1.1111  1.1111   0.1   0.1\n",
      "3   myQueue  myClass2  0.1111   0.1  1.1111  1.1111   0.1   0.1\n"
     ]
    },
    {
     "data": {
      "text/plain": [
       "    Station  JobClass    QLen  Util   RespT  ResidT  ArvR  Tput\n",
       "0  mySource  myClass1  0.0000   0.0  0.0000  0.0000   0.0   0.1\n",
       "1  mySource  myClass2  0.0000   0.0  0.0000  0.0000   0.0   0.1\n",
       "2   myQueue  myClass1  0.1111   0.1  1.1111  1.1111   0.1   0.1\n",
       "3   myQueue  myClass2  0.1111   0.1  1.1111  1.1111   0.1   0.1"
      ],
      "text/html": [
       "<div>\n",
       "<style scoped>\n",
       "    .dataframe tbody tr th:only-of-type {\n",
       "        vertical-align: middle;\n",
       "    }\n",
       "\n",
       "    .dataframe tbody tr th {\n",
       "        vertical-align: top;\n",
       "    }\n",
       "\n",
       "    .dataframe thead th {\n",
       "        text-align: right;\n",
       "    }\n",
       "</style>\n",
       "<table border=\"1\" class=\"dataframe\">\n",
       "  <thead>\n",
       "    <tr style=\"text-align: right;\">\n",
       "      <th></th>\n",
       "      <th>Station</th>\n",
       "      <th>JobClass</th>\n",
       "      <th>QLen</th>\n",
       "      <th>Util</th>\n",
       "      <th>RespT</th>\n",
       "      <th>ResidT</th>\n",
       "      <th>ArvR</th>\n",
       "      <th>Tput</th>\n",
       "    </tr>\n",
       "  </thead>\n",
       "  <tbody>\n",
       "    <tr>\n",
       "      <th>0</th>\n",
       "      <td>mySource</td>\n",
       "      <td>myClass1</td>\n",
       "      <td>0.0000</td>\n",
       "      <td>0.0</td>\n",
       "      <td>0.0000</td>\n",
       "      <td>0.0000</td>\n",
       "      <td>0.0</td>\n",
       "      <td>0.1</td>\n",
       "    </tr>\n",
       "    <tr>\n",
       "      <th>1</th>\n",
       "      <td>mySource</td>\n",
       "      <td>myClass2</td>\n",
       "      <td>0.0000</td>\n",
       "      <td>0.0</td>\n",
       "      <td>0.0000</td>\n",
       "      <td>0.0000</td>\n",
       "      <td>0.0</td>\n",
       "      <td>0.1</td>\n",
       "    </tr>\n",
       "    <tr>\n",
       "      <th>2</th>\n",
       "      <td>myQueue</td>\n",
       "      <td>myClass1</td>\n",
       "      <td>0.1111</td>\n",
       "      <td>0.1</td>\n",
       "      <td>1.1111</td>\n",
       "      <td>1.1111</td>\n",
       "      <td>0.1</td>\n",
       "      <td>0.1</td>\n",
       "    </tr>\n",
       "    <tr>\n",
       "      <th>3</th>\n",
       "      <td>myQueue</td>\n",
       "      <td>myClass2</td>\n",
       "      <td>0.1111</td>\n",
       "      <td>0.1</td>\n",
       "      <td>1.1111</td>\n",
       "      <td>1.1111</td>\n",
       "      <td>0.1</td>\n",
       "      <td>0.1</td>\n",
       "    </tr>\n",
       "  </tbody>\n",
       "</table>\n",
       "</div>"
      ]
     },
     "execution_count": 17,
     "metadata": {},
     "output_type": "execute_result"
    },
    {
     "name": "stdout",
     "output_type": "stream",
     "text": [
      " analysis [method: default(null), lang: java, env: 21.0.8] completed in 0.000128s.\n"
     ]
    }
   ],
   "execution_count": 17
  },
  {
   "cell_type": "code",
   "metadata": {
    "ExecuteTime": {
     "end_time": "2025-07-29T17:57:13.013816Z",
     "start_time": "2025-07-29T17:57:12.982811Z"
    }
   },
   "source": "SolverJMT(model).get_avg_table()",
   "outputs": [
    {
     "name": "stderr",
     "output_type": "stream",
     "text": [
      "java.lang.IllegalArgumentException: Outside of matrix bounds\n",
      "\tat org.ejml.data.DMatrixSparseCSC.get(DMatrixSparseCSC.java:176)\n",
      "\tat jline.util.matrix.Matrix.get(Matrix.java:2965)\n",
      "\tat jline.solvers.jmt.SolverJMT.writeJSIM(SolverJMT.java:2928)\n",
      "\tat jline.solvers.jmt.SolverJMT.writeJSIM(SolverJMT.java:2964)\n",
      "\tat jline.solvers.jmt.SolverJMT.runAnalyzer(SolverJMT.java:1771)\n",
      "\tat jline.solvers.NetworkSolver.getAvg(NetworkSolver.java:217)\n",
      "\tat jline.solvers.NetworkSolver.getAvgTable(NetworkSolver.java:2071)\n"
     ]
    },
    {
     "ename": "java.lang.RuntimeException",
     "evalue": "java.lang.RuntimeException: Unable to compute results and therefore unable to print AvgTable.",
     "output_type": "error",
     "traceback": [
      "\u001B[31m---------------------------------------------------------------------------\u001B[39m",
      "\u001B[31mException\u001B[39m                                 Traceback (most recent call last)",
      "\u001B[36mFile \u001B[39m\u001B[32mNetworkSolver.java:2075\u001B[39m, in \u001B[36mjline.solvers.NetworkSolver.getAvgTable\u001B[39m\u001B[34m()\u001B[39m\n",
      "\u001B[31mException\u001B[39m: Java Exception",
      "\nThe above exception was the direct cause of the following exception:\n",
      "\u001B[31mjava.lang.RuntimeException\u001B[39m                Traceback (most recent call last)",
      "\u001B[36mCell\u001B[39m\u001B[36m \u001B[39m\u001B[32mIn[18]\u001B[39m\u001B[32m, line 1\u001B[39m\n\u001B[32m----> \u001B[39m\u001B[32m1\u001B[39m \u001B[43mSolverJMT\u001B[49m\u001B[43m(\u001B[49m\u001B[43mmodel\u001B[49m\u001B[43m)\u001B[49m\u001B[43m.\u001B[49m\u001B[43mget_avg_table\u001B[49m\u001B[43m(\u001B[49m\u001B[43m)\u001B[49m\n",
      "\u001B[36mFile \u001B[39m\u001B[32m/mnt/c/Users/gcasale/Dropbox/code/line-dev.git/python/line_solver/solvers.py:422\u001B[39m, in \u001B[36mNetworkSolver.getAvgTable\u001B[39m\u001B[34m(self)\u001B[39m\n\u001B[32m    421\u001B[39m \u001B[38;5;28;01mdef\u001B[39;00m\u001B[38;5;250m \u001B[39m\u001B[34mgetAvgTable\u001B[39m(\u001B[38;5;28mself\u001B[39m):\n\u001B[32m--> \u001B[39m\u001B[32m422\u001B[39m     table = \u001B[38;5;28;43mself\u001B[39;49m\u001B[43m.\u001B[49m\u001B[43mobj\u001B[49m\u001B[43m.\u001B[49m\u001B[43mgetAvgTable\u001B[49m\u001B[43m(\u001B[49m\u001B[43m)\u001B[49m\n\u001B[32m    425\u001B[39m     QLen = np.array(\u001B[38;5;28mlist\u001B[39m(table.getQLen()))\n\u001B[32m    426\u001B[39m     Util = np.array(\u001B[38;5;28mlist\u001B[39m(table.getUtil()))\n",
      "\u001B[31mjava.lang.RuntimeException\u001B[39m: java.lang.RuntimeException: Unable to compute results and therefore unable to print AvgTable."
     ]
    }
   ],
   "execution_count": 18
  }
 ],
 "metadata": {
  "kernelspec": {
   "display_name": "Python 3",
   "language": "python",
   "name": "python3"
  },
  "language_info": {
   "codemirror_mode": {
    "name": "ipython",
    "version": 3
   },
   "file_extension": ".py",
   "mimetype": "text/x-python",
   "name": "python",
   "nbconvert_exporter": "python",
   "pygments_lexer": "ipython3",
   "version": "3.8.0"
  }
 },
 "nbformat": 4,
 "nbformat_minor": 4
}
