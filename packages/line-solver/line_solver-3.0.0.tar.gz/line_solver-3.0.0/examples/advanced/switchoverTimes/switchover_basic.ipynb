{
 "cells": [
  {
   "metadata": {
    "ExecuteTime": {
     "end_time": "2025-07-15T22:43:16.254404Z",
     "start_time": "2025-07-15T22:43:04.666233Z"
    }
   },
   "cell_type": "code",
   "source": "from line_solver import *",
   "outputs": [],
   "execution_count": 1
  },
  {
   "cell_type": "code",
   "metadata": {
    "ExecuteTime": {
     "end_time": "2025-07-15T22:43:16.665004Z",
     "start_time": "2025-07-15T22:43:16.485124Z"
    }
   },
   "source": [
    "model = Network('SOQueue')\n",
    "## Block 1: nodes\n",
    "source = Source(model, 'mySource')\n",
    "queue = Queue(model, 'myQueue', SchedStrategy.FCFS)\n",
    "sink = Sink(model, 'mySink')"
   ],
   "outputs": [],
   "execution_count": 2
  },
  {
   "cell_type": "code",
   "metadata": {
    "ExecuteTime": {
     "end_time": "2025-07-15T22:43:17.322876Z",
     "start_time": "2025-07-15T22:43:17.263303Z"
    }
   },
   "source": [
    "## Block 2: classes\n",
    "oclass1 = OpenClass(model, 'myClass1')\n",
    "source.set_arrival(oclass1, Exp(0.2))\n",
    "queue.set_service(oclass1, Exp(0.1))\n",
    "\n",
    "oclass2 = OpenClass(model, 'myClass2')\n",
    "source.set_arrival(oclass2, Exp(0.8))\n",
    "queue.set_service(oclass2, Exp(1.5))"
   ],
   "outputs": [],
   "execution_count": 3
  },
  {
   "metadata": {
    "ExecuteTime": {
     "end_time": "2025-07-15T22:43:17.441711Z",
     "start_time": "2025-07-15T22:43:17.418329Z"
    }
   },
   "cell_type": "code",
   "source": [
    "# Here we set an overhead for switching from a job of class 1 to a job of class 2\n",
    "queue.set_switchover(oclass1, oclass2, Exp(1))\n",
    "queue.set_switchover(oclass2, oclass1, Erlang(1, 2))"
   ],
   "outputs": [],
   "execution_count": 4
  },
  {
   "cell_type": "code",
   "metadata": {
    "ExecuteTime": {
     "end_time": "2025-07-15T22:44:39.173223Z",
     "start_time": "2025-07-15T22:43:49.192452Z"
    }
   },
   "source": [
    "## Block 3: topology\n",
    "P = model.init_routing_matrix()\n",
    "P.add_route(oclass1, source, queue, sink)\n",
    "P.add_route(oclass2, source, queue, sink)\n",
    "model.link(P)\n",
    "#model.jsimgView()"
   ],
   "outputs": [
    {
     "name": "stderr",
     "output_type": "stream",
     "text": [
      "Jul 15, 2025 10:43:49 PM jline.io.InputOutputKt line_printf\n",
      "WARNING: [link] The Network.link method cannot be used after calling the addLink() method. Use Node.setProbRouting instead to configure routing probabilities.\n"
     ]
    },
    {
     "name": "stdout",
     "output_type": "stream",
     "text": [
      "JMT Model: /tmp/workspace/jsim/14090335674359091960/jmodel.jsim\n",
      "JMT view model command: java -cp /home/cg025mf/line-solver.git/python/line_solver/JMT.jar jmt.commandline.Jmt jsimg /tmp/workspace/jsim/14090335674359091960/jmodel.jsim  > /dev/null\n",
      "JMT view model command output: Warning: exception in jmt.gui.jsimgraph.JGraphMod.JmtEdgeRenderer.paint\n",
      "\n"
     ]
    }
   ],
   "execution_count": 7
  },
  {
   "cell_type": "code",
   "metadata": {
    "ExecuteTime": {
     "end_time": "2025-07-15T22:43:32.789614Z",
     "start_time": "2025-07-15T22:43:19.025353Z"
    }
   },
   "source": "avg_table = SolverJMT(model, keep=True).get_avg_table()",
   "outputs": [
    {
     "name": "stdout",
     "output_type": "stream",
     "text": [
      "JMT Model: /tmp/workspace/jsim/6276681265911658879/jmodel.jsim\n",
      "    Station  JobClass       QLen    Util       RespT      ResidT    ArvR  \\\n",
      "0  mySource  myClass1     0.0000  0.0000      0.0000      0.0000  0.0000   \n",
      "1  mySource  myClass2     0.0000  0.0000      0.0000      0.0000  0.0000   \n",
      "2   myQueue  myClass1  2210.3819  0.7838  38678.7902  38678.7902  0.1960   \n",
      "3   myQueue  myClass2  2267.7774  0.2063   9851.9004   9851.9004  0.8196   \n",
      "\n",
      "     Tput  \n",
      "0  0.1960  \n",
      "1  0.8196  \n",
      "2  0.0782  \n",
      "3  0.3229  \n"
     ]
    },
    {
     "name": "stderr",
     "output_type": "stream",
     "text": [
      "Jul 15, 2025 10:43:32 PM jline.io.InputOutputKt line_printf\n",
      "WARNING: [getAvg] The model has unstable queues, performance metrics may grow unbounded.\n"
     ]
    }
   ],
   "execution_count": 6
  }
 ],
 "metadata": {
  "kernelspec": {
   "display_name": "Python 3",
   "language": "python",
   "name": "python3"
  },
  "language_info": {
   "codemirror_mode": {
    "name": "ipython",
    "version": 3
   },
   "file_extension": ".py",
   "mimetype": "text/x-python",
   "name": "python",
   "nbconvert_exporter": "python",
   "pygments_lexer": "ipython3",
   "version": "3.8.0"
  }
 },
 "nbformat": 4,
 "nbformat_minor": 4
}