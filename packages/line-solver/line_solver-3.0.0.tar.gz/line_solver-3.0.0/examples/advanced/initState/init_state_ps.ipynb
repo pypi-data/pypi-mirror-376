{
 "cells": [
  {
   "cell_type": "code",
   "metadata": {
    "ExecuteTime": {
     "end_time": "2025-07-01T07:35:45.368660Z",
     "start_time": "2025-07-01T07:35:44.129834Z"
    }
   },
   "source": "from line_solver import *\nimport numpy as np\nGlobalConstants.set_verbose(VerboseLevel.STD)",
   "outputs": [],
   "execution_count": null
  },
  {
   "cell_type": "code",
   "metadata": {
    "ExecuteTime": {
     "end_time": "2025-07-01T07:35:45.444478Z",
     "start_time": "2025-07-01T07:35:45.440445Z"
    }
   },
   "source": [
    "model = Network('model')\n",
    "\n",
    "node = [None] * 2  # Using 0-based indexing\n",
    "node[0] = Delay(model, 'InfiniteServer')\n",
    "node[1] = Queue(model, 'Queue1', SchedStrategy.PS)\n",
    "node[1].set_number_of_servers(2)\n",
    "\n",
    "jobclass = [None] * 2  # Using 0-based indexing\n",
    "jobclass[0] = ClosedClass(model, 'Class1', 3, node[0], 0)\n",
    "jobclass[1] = ClosedClass(model, 'Class2', 1, node[0], 0)\n",
    "\n",
    "node[0].set_service(jobclass[0], Exp(3))\n",
    "node[0].set_service(jobclass[1], Exp(0.5))\n",
    "\n",
    "node[1].set_service(jobclass[0], Exp(0.1))\n",
    "node[1].set_service(jobclass[1], Exp(1))\n",
    "\n",
    "M = model.get_number_of_stations()\n",
    "K = model.get_number_of_classes()\n",
    "\n",
    "P = model.init_routing_matrix()\n",
    "# Class 1 to Class 1 routing matrix\n",
    "P.set(jobclass[0], jobclass[0], node[0], node[0], 0.3)\n",
    "P.set(jobclass[0], jobclass[0], node[0], node[1], 0.1)  \n",
    "P.set(jobclass[0], jobclass[0], node[1], node[0], 0.2)\n",
    "P.set(jobclass[0], jobclass[0], node[1], node[1], 0.0)\n",
    "\n",
    "# Class 1 to Class 2 routing matrix\n",
    "P.set(jobclass[0], jobclass[1], node[0], node[0], 0.6)\n",
    "P.set(jobclass[0], jobclass[1], node[0], node[1], 0.0)\n",
    "P.set(jobclass[0], jobclass[1], node[1], node[0], 0.8)\n",
    "P.set(jobclass[0], jobclass[1], node[1], node[1], 0.0)\n",
    "\n",
    "# Class 2 to Class 2 routing matrix  \n",
    "P.set(jobclass[1], jobclass[1], node[0], node[0], 0.0)\n",
    "P.set(jobclass[1], jobclass[1], node[0], node[1], 1.0)\n",
    "P.set(jobclass[1], jobclass[1], node[1], node[0], 0.0)\n",
    "P.set(jobclass[1], jobclass[1], node[1], node[1], 0.0)\n",
    "\n",
    "# Class 2 to Class 1 routing matrix\n",
    "P.set(jobclass[1], jobclass[0], node[0], node[0], 0.0)\n",
    "P.set(jobclass[1], jobclass[0], node[0], node[1], 0.0)\n",
    "P.set(jobclass[1], jobclass[0], node[1], node[0], 1.0)\n",
    "P.set(jobclass[1], jobclass[0], node[1], node[1], 0.0)\n",
    "\n",
    "model.link(P)"
   ],
   "outputs": [],
   "execution_count": null
  },
  {
   "cell_type": "code",
   "metadata": {
    "ExecuteTime": {
     "end_time": "2025-07-14T23:50:57.699900Z",
     "start_time": "2025-07-14T23:50:56.634570Z"
    }
   },
   "source": "# Note: The initFromMarginalAndStarted method is not yet available in Python LINE\n# This example demonstrates the 2-class 2-node class-switching model setup\n\n# SolverCTMC is available in the Python wrapper but may not be imported by default\ntry:\n    from line_solver.solvers import SolverCTMC\n    solver_ctmc = SolverCTMC(model)\n    avg_table_ctmc = solver_ctmc.get_avg_table()\nexcept (ImportError, Exception) as e:\n    print(f\"SolverCTMC not available or failed: {e}\")",
   "outputs": [],
   "execution_count": null
  },
  {
   "cell_type": "code",
   "execution_count": null,
   "metadata": {
    "ExecuteTime": {
     "end_time": "2025-07-01T07:35:45.507930Z",
     "start_time": "2025-07-01T07:35:45.497508Z"
    }
   },
   "outputs": [],
   "source": [
    "solver_jmt = SolverJMT(model, samples=100000, seed=23000)\n",
    "avg_table_jmt = solver_jmt.get_avg_table()"
   ]
  },
  {
   "cell_type": "code",
   "execution_count": null,
   "metadata": {
    "ExecuteTime": {
     "end_time": "2025-07-01T07:35:45.507930Z",
     "start_time": "2025-07-01T07:35:45.497508Z"
    }
   },
   "outputs": [],
   "source": [
    "solver_ssa = SolverSSA(model, samples=100000, seed=23000)\n",
    "avg_table_ssa = solver_ssa.get_avg_table()"
   ]
  },
  {
   "cell_type": "code",
   "execution_count": null,
   "metadata": {
    "ExecuteTime": {
     "end_time": "2025-07-01T07:35:45.507930Z",
     "start_time": "2025-07-01T07:35:45.497508Z"
    }
   },
   "outputs": [],
   "source": [
    "solver_fluid = SolverFluid(model)\n",
    "avg_table_fluid = solver_fluid.get_avg_table()"
   ]
  },
  {
   "cell_type": "code",
   "execution_count": null,
   "metadata": {
    "ExecuteTime": {
     "end_time": "2025-07-01T07:35:45.507930Z",
     "start_time": "2025-07-01T07:35:45.497508Z"
    }
   },
   "outputs": [],
   "source": [
    "solver_mva = SolverMVA(model)\n",
    "avg_table_mva = solver_mva.get_avg_table()"
   ]
  },
  {
   "cell_type": "code",
   "execution_count": null,
   "metadata": {
    "ExecuteTime": {
     "end_time": "2025-07-01T07:35:45.507930Z",
     "start_time": "2025-07-01T07:35:45.497508Z"
    }
   },
   "outputs": [],
   "source": [
    "solver_nc = SolverNC(model)\n",
    "avg_table_nc = solver_nc.get_avg_table()"
   ]
  }
 ],
 "metadata": {
  "kernelspec": {
   "display_name": "Python 3",
   "language": "python",
   "name": "python3"
  },
  "language_info": {
   "codemirror_mode": {
    "name": "ipython",
    "version": 3
   },
   "file_extension": ".py",
   "mimetype": "text/x-python",
   "name": "python",
   "nbconvert_exporter": "python",
   "pygments_lexer": "ipython3",
   "version": "3.8.0"
  }
 },
 "nbformat": 4,
 "nbformat_minor": 4
}