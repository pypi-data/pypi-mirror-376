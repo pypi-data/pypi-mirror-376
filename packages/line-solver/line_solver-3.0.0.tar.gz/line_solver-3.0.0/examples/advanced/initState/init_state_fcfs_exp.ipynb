{
 "cells": [
  {
   "cell_type": "code",
   "id": "9585b24c724d6f81",
   "metadata": {
    "collapsed": true,
    "ExecuteTime": {
     "end_time": "2025-07-15T04:54:07.752129Z",
     "start_time": "2025-07-15T04:54:01.515857Z"
    }
   },
   "source": "from line_solver import *\nGlobalConstants.set_verbose(VerboseLevel.STD)",
   "outputs": [],
   "execution_count": 2
  },
  {
   "cell_type": "code",
   "source": [
    "model = Network('model')\n",
    "\n",
    "node = [None] * 2  # Using 0-based indexing\n",
    "node[0] = Delay(model, 'Delay')\n",
    "node[1] = Queue(model, 'Queue1', SchedStrategy.FCFS)\n",
    "jobclass = [None] * 1  # Using 0-based indexing\n",
    "jobclass[0] = ClosedClass(model, 'Class1', 5, node[1], 0)\n",
    "\n",
    "node[0].set_service(jobclass[0], Exp(1))\n",
    "node[1].set_service(jobclass[0], Exp(0.7))\n",
    "\n",
    "M = model.get_number_of_stations()\n",
    "K = model.get_number_of_classes()\n",
    "\n",
    "P = model.init_routing_matrix()\n",
    "# P{1} = circul(2) equivalent to circular routing between 2 stations\n",
    "P.set(jobclass[0], jobclass[0], node[0], node[1], 1.0)\n",
    "P.set(jobclass[0], jobclass[0], node[1], node[0], 1.0)\n",
    "model.link(P)"
   ],
   "metadata": {
    "collapsed": false,
    "ExecuteTime": {
     "end_time": "2025-07-15T04:54:08.016117Z",
     "start_time": "2025-07-15T04:54:07.852710Z"
    }
   },
   "id": "bb95804fedee978f",
   "outputs": [],
   "execution_count": null
  },
  {
   "cell_type": "code",
   "source": [
    "# Note: Transient analysis features are not yet available in Python LINE\n",
    "# This example demonstrates the model setup that would be used for transient analysis\n",
    "solver_mva = SolverMVA(model)\n",
    "avg_table = solver_mva.get_avg_table()"
   ],
   "metadata": {
    "collapsed": false,
    "ExecuteTime": {
     "end_time": "2025-07-15T04:54:08.837778Z",
     "start_time": "2025-07-15T04:54:08.179336Z"
    }
   },
   "id": "initial_id",
   "outputs": [
    {
     "name": "stdout",
     "output_type": "stream",
     "text": [
      "MVA [method: default(exact), lang: java, env: 17.0.15] completed in 0.000112s.\n",
      "  Station JobClass    QLen    Util   RespT  ResidT    ArvR    Tput\n",
      "0   Delay   Class1  0.6995  0.6995  1.0000  1.0000  0.6995  0.6995\n",
      "1  Queue1   Class1  4.3005  0.9993  6.1478  6.1478  0.6995  0.6995\n"
     ]
    }
   ],
   "execution_count": 4
  }
 ],
 "metadata": {
  "kernelspec": {
   "display_name": "Python 3",
   "language": "python",
   "name": "python3"
  },
  "language_info": {
   "codemirror_mode": {
    "name": "ipython",
    "version": 2
   },
   "file_extension": ".py",
   "mimetype": "text/x-python",
   "name": "python",
   "nbconvert_exporter": "python",
   "pygments_lexer": "ipython2",
   "version": "2.7.6"
  }
 },
 "nbformat": 4,
 "nbformat_minor": 5
}