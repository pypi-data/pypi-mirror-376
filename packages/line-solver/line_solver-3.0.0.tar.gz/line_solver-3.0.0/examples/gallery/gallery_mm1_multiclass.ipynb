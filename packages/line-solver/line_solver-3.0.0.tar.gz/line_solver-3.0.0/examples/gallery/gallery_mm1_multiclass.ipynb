{
 "cells": [
  {
   "cell_type": "markdown",
   "metadata": {},
   "source": [
    "# Gallery Example: M[2]/M[2]/1 Multi-Class Queue\n",
    "\n",
    "This example demonstrates a multi-class M/M/1 queue:\n",
    "- **Arrivals**: Two independent Poisson processes\n",
    "- **Service**: Exponential service times (same server, different rates)\n",
    "- **Classes**: 2 job classes with different characteristics\n",
    "- **Servers**: 1 server serving both classes\n",
    "- **Scheduling**: FCFS (First-Come-First-Served)\n",
    "\n",
    "This model is useful for analyzing systems with heterogeneous workloads."
   ]
  },
  {
   "cell_type": "code",
   "execution_count": null,
   "metadata": {},
   "outputs": [],
   "source": [
    "from line_solver import *\n",
    "import numpy as np\n",
    "GlobalConstants.set_verbose(VerboseLevel.STD)"
   ]
  },
  {
   "cell_type": "code",
   "execution_count": null,
   "metadata": {},
   "outputs": [],
   "source": [
    "def gallery_mm1_multiclass():",
    "    \"\"\"Create M[2]/M[2]/1 multi-class queueing model\"\"\"",
    "    model = Network('M[2]/M[2]/1')",
    "    ",
    "    # Block 1: nodes",
    "    source = Source(model, 'mySource')",
    "    queue = Queue(model, 'myQueue', SchedStrategy.FCFS)",
    "    sink = Sink(model, 'mySink')",
    "    ",
    "    # Block 2: classes",
    "    oclass1 = OpenClass(model, 'myClass1')",
    "    source.set_arrival(oclass1, Exp(1))      # λ₁ = 1",
    "    queue.set_service(oclass1, Exp(4))       # μ₁ = 4, so service time = 0.25",
    "    ",
    "    oclass2 = OpenClass(model, 'myClass2')",
    "    source.set_arrival(oclass2, Exp(0.5))    # λ₂ = 0.5",
    "    queue.set_service(oclass2, Exp(4))       # μ₂ = 4, so service time = 0.25",
    "    ",
    "    # Block 3: topology - serial routing for both classes",
    "    P = model.init_routing_matrix()",
    "    P.add_route(oclass1, source, queue, 1.0)",
    "    P.add_route(oclass1, queue, sink, 1.0)",
    "    P.add_route(oclass2, source, queue, 1.0)",
    "    P.add_route(oclass2, queue, sink, 1.0)",
    "    model.link(P)",
    "    ",
    "    return model",
    "",
    "# Create the model",
    "model = gallery_mm1_multiclass()"
   ]
  },
  {
   "cell_type": "markdown",
   "metadata": {},
   "source": [
    "## Theoretical Analysis for Multi-Class M/M/1\n",
    "\n",
    "For M[2]/M[2]/1 with:\n",
    "- **Class 1**: λ₁ = 1, μ₁ = 4, ρ₁ = 0.25\n",
    "- **Class 2**: λ₂ = 0.5, μ₂ = 4, ρ₂ = 0.125\n",
    "- **Total**: λ = 1.5, ρ_total = 0.375\n",
    "\n",
    "Under FCFS, both classes experience the same mean response time:\n",
    "- **Mean Response Time**: W = 1/(μ_eff - λ_total) where μ_eff depends on class mix"
   ]
  },
  {
   "cell_type": "code",
   "execution_count": null,
   "metadata": {},
   "outputs": [],
   "source": [
    "# Solve with multiple solvers\n",
    "print(\"\\n=== Solver Results ===\")\n",
    "\n",
    "# MVA Solver\n",
    "solver_mva = SolverMVA(model)\n",
    "avg_table_mva = solver_mva.get_avg_table()\n",
    "print(\"\\nMVA Solver:\")\n",
    "print(avg_table_mva)\n",
    "\n",
    "# CTMC Solver\n",
    "solver_ctmc = SolverCTMC(model, cutoff=15)\n",
    "avg_table_ctmc = solver_ctmc.get_avg_table()\n",
    "print(\"\\nCTMC Solver:\")\n",
    "print(avg_table_ctmc)\n",
    "\n",
    "# Fluid Solver\n",
    "solver_fluid = SolverFluid(model)\n",
    "avg_table_fluid = solver_fluid.get_avg_table()\n",
    "print(\"\\nFluid Solver:\")\n",
    "print(avg_table_fluid)"
   ]
  },
  {
   "cell_type": "code",
   "execution_count": null,
   "metadata": {},
   "outputs": [],
   "source": [
    "# Analyze class-specific performance metrics\n",
    "print(\"\\n=== Class-Specific Analysis ===\")\n",
    "\n",
    "# Get detailed metrics for each class\n",
    "solver = SolverMVA(model)\n",
    "avg_table = solver.get_avg_table()\n",
    "\n",
    "# Extract performance metrics by class\n",
    "print(\"Performance by class:\")\n",
    "for class_idx in range(model.getNumberOfClasses()):\n",
    "    class_name = f\"Class {class_idx + 1}\"\n",
    "    queue_row = 1  # Queue is at index 1 (after source)\n",
    "    \n",
    "    # Note: The avg_table structure may vary - adjust indices as needed\n",
    "    print(f\"\\n{class_name}:\")\n",
    "    print(f\"  Queue metrics: {avg_table.iloc[queue_row]}\")"
   ]
  },
  {
   "cell_type": "code",
   "execution_count": null,
   "metadata": {},
   "outputs": [],
   "source": [
    "# Compare with single-class systems\n",
    "print(\"\\n=== Comparison with Single-Class Systems ===\")\n",
    "\n",
    "# Create equivalent single-class systems\n",
    "def create_single_class_mm1(arrival_rate, service_rate, class_name):\n",
    "    model_single = Network(f'M/M/1-{class_name}')\n",
    "    source = Source(model_single, 'Source')\n",
    "    queue = Queue(model_single, 'Queue', SchedStrategy.FCFS)\n",
    "    sink = Sink(model_single, 'Sink')\n",
    "    \n",
    "    oclass = OpenClass(model_single, class_name)\n",
    "    source.set_arrival(oclass, Exp(arrival_rate))\n",
    "    queue.set_service(oclass, Exp(service_rate))\n",
    "    \n",
    "    P = model_single.init_routing_matrix()\n",
    "    P.add_route(oclass, source, queue, 1.0)\n",
    "    P.add_route(oclass, queue, sink, 1.0)\n",
    "    model_single.link(P)\n",
    "    \n",
    "    return model_single\n",
    "\n",
    "# Analyze individual class performance in isolation\n",
    "model1_single = create_single_class_mm1(1.0, 4, 'Class1-Isolated')\n",
    "model2_single = create_single_class_mm1(0.5, 4, 'Class2-Isolated')\n",
    "\n",
    "solver1 = SolverMVA(model1_single)\n",
    "solver2 = SolverMVA(model2_single)\n",
    "\n",
    "avg_table1 = solver1.get_avg_table()\n",
    "avg_table2 = solver2.get_avg_table()\n",
    "\n",
    "print(\"Class 1 in isolation:\")\n",
    "print(avg_table1)\n",
    "\n",
    "print(\"\\nClass 2 in isolation:\")\n",
    "print(avg_table2)\n",
    "\n",
    "print(\"\\nNote: In multi-class FCFS, classes influence each other's performance\")\n",
    "print(\"compared to their isolated single-class equivalents.\")"
   ]
  }
 ],
 "metadata": {
  "kernelspec": {
   "display_name": "Python 3",
   "language": "python",
   "name": "python3"
  },
  "language_info": {
   "codemirror_mode": {
    "name": "ipython",
    "version": 3
   },
   "file_extension": ".py",
   "mimetype": "text/x-python",
   "name": "python",
   "nbconvert_exporter": "python",
   "pygments_lexer": "ipython3",
   "version": "3.8.5"
  }
 },
 "nbformat": 4,
 "nbformat_minor": 4
}