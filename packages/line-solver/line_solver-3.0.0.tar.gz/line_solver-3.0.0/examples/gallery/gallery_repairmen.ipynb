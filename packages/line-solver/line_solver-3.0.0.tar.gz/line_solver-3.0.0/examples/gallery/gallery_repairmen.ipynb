{
 "cells": [
  {
   "cell_type": "markdown",
   "id": "cell-0",
   "metadata": {},
   "source": [
    "# Gallery Example: Finite Repairmen Model\n",
    "\n",
    "This is a classic finite population model representing a repairmen system:\n",
    "- **Machines**: Finite number of machines that can break down\n",
    "- **Repairmen**: Limited number of servers to fix machines\n",
    "- **Topology**: Machines cycle between working (delay) and being repaired (queue)\n",
    "- **Population**: Finite and fixed number of jobs (machines)\n",
    "\n",
    "This model is fundamental for:\n",
    "- Manufacturing systems\n",
    "- Computer systems reliability\n",
    "- Any finite population service system"
   ]
  },
  {
   "cell_type": "code",
   "execution_count": null,
   "id": "cell-1",
   "metadata": {},
   "outputs": [],
   "source": [
    "from line_solver import *\n",
    "import numpy as np\n",
    "import random\n",
    "GlobalConstants.set_verbose(VerboseLevel.STD)"
   ]
  },
  {
   "cell_type": "code",
   "execution_count": null,
   "id": "cell-2",
   "metadata": {},
   "outputs": [],
   "source": [
    "def gallery_repairmen(nservers=1, seed=23000):",
    "    \"\"\"Create finite repairmen model",
    "    ",
    "    Parameters:",
    "    - nservers: Number of repair servers (default 1)",
    "    - seed: Random seed for reproducibility (default 23000)",
    "    \"\"\"",
    "    model = Network('Finite repairmen CQN')",
    "    ",
    "    # Set random seed",
    "    random.seed(seed)",
    "    np.random.seed(seed)",
    "    ",
    "    # Block 1: nodes",
    "    repair_queue = Queue(model, 'Queue1', SchedStrategy.PS)",
    "    repair_queue.set_number_of_servers(nservers)",
    "    ",
    "    working_delay = Delay(model, 'Delay1')  # Machines working (operational time)",
    "    ",
    "    # Block 2: classes",
    "    # Random population of machines (between 3 and 13)",
    "    population = int(random.random() * 10 + 3)",
    "    jobclass = ClosedClass(model, 'Class1', population, repair_queue, 0)",
    "    ",
    "    # Set service times",
    "    repair_rate = random.random() + 1  # Random repair rate between 1 and 2",
    "    repair_queue.set_service(jobclass, Exp.fitMean(repair_rate))",
    "    ",
    "    working_delay.set_service(jobclass, Exp.fitMean(2.0))  # Mean time between failures",
    "    ",
    "    # Block 3: topology - simple cycle",
    "    P = model.init_routing_matrix()",
    "    P.add_route(jobclass, repair_queue, working_delay, 1.0)  # Repaired -> Working",
    "    P.add_route(jobclass, working_delay, repair_queue, 1.0)  # Broken -> Repair",
    "    ",
    "    model.link(P)",
    "    ",
    "    return model, population, nservers",
    "",
    "# Create the model",
    "model, population, nservers = gallery_repairmen(nservers=2, seed=23000)",
    "",
    "print(f\"Machines: {population}\")",
    "print(f\"Repairmen: {nservers}\")"
   ]
  },
  {
   "cell_type": "markdown",
   "id": "cell-3",
   "metadata": {},
   "source": [
    "## Model Interpretation\n",
    "\n",
    "- **Queue1**: Repair facility where broken machines wait to be fixed\n",
    "- **Delay1**: Operational state where machines work until they break down\n",
    "- **Population**: Fixed number of machines in the system\n",
    "- **Servers**: Number of repair technicians available\n",
    "\n",
    "Key metrics:\n",
    "- **Queue length at repair**: Average number of machines waiting/being repaired\n",
    "- **Queue length at delay**: Average number of operational machines  \n",
    "- **Utilization**: Fraction of time repair facility is busy\n",
    "- **Throughput**: Rate of completions (repairs per time unit)"
   ]
  },
  {
   "cell_type": "code",
   "execution_count": null,
   "id": "cell-4",
   "metadata": {},
   "outputs": [],
   "source": [
    "# Solve with multiple solvers\n",
    "print(\"\\n=== Solver Results ===\")\n",
    "\n",
    "# MVA Solver (exact for closed models)\n",
    "solver_mva = SolverMVA(model)\n",
    "avg_table_mva = solver_mva.get_avg_table()\n",
    "print(\"\\nMVA Solver:\")\n",
    "print(avg_table_mva)\n",
    "\n",
    "# CTMC Solver \n",
    "solver_ctmc = SolverCTMC(model)\n",
    "avg_table_ctmc = solver_ctmc.get_avg_table()\n",
    "print(\"\\nCTMC Solver:\")\n",
    "print(avg_table_ctmc)\n",
    "\n",
    "# NC Solver\n",
    "solver_nc = SolverNC(model)\n",
    "avg_table_nc = solver_nc.get_avg_table()\n",
    "print(\"\\nNC Solver:\")\n",
    "print(avg_table_nc)"
   ]
  }
 ],
 "metadata": {
  "kernelspec": {
   "display_name": "Python 3",
   "language": "python",
   "name": "python3"
  },
  "language_info": {
   "codemirror_mode": {
    "name": "ipython",
    "version": 3
   },
   "file_extension": ".py",
   "name": "python",
   "nbconvert_exporter": "python",
   "pygments_lexer": "ipython3",
   "version": "3.8.0"
  }
 },
 "nbformat": 4,
 "nbformat_minor": 4
}