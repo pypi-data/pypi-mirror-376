{
 "cells": [
  {
   "cell_type": "markdown",
   "id": "cell-0",
   "metadata": {},
   "source": [
    "# Gallery Example: Single-Class Closed Queueing Network\n",
    "\n",
    "This example creates a parameterizable closed queueing network with:\n",
    "- **M stations**: Variable number of queues (default 2)\n",
    "- **Single class**: One job class circulating in the network\n",
    "- **Random population**: Random number of jobs (2 to M+2)\n",
    "- **Random service rates**: Different service rates at each station\n",
    "- **Optional delay**: Can include a delay station\n",
    "\n",
    "This model is useful for testing multi-station closed network solvers."
   ]
  },
  {
   "cell_type": "code",
   "execution_count": null,
   "id": "cell-1",
   "metadata": {},
   "outputs": [],
   "source": [
    "from line_solver import *\n",
    "import numpy as np\n",
    "import random\n",
    "GlobalConstants.set_verbose(VerboseLevel.STD)"
   ]
  },
  {
   "cell_type": "code",
   "execution_count": null,
   "id": "cell-2",
   "metadata": {},
   "outputs": [],
   "source": [
    "def gallery_cqn(M=2, useDelay=False, seed=23000):",
    "    \"\"\"Create single-class closed queueing network",
    "    ",
    "    Parameters:",
    "    - M: Number of queue stations (default 2)",
    "    - useDelay: Whether to include delay station (default False)",
    "    - seed: Random seed for reproducibility (default 23000)",
    "    \"\"\"",
    "    model = Network('Single-class CQN')",
    "    ",
    "    # Set random seed",
    "    random.seed(seed)",
    "    np.random.seed(seed)",
    "    ",
    "    # Block 1: nodes",
    "    station = []",
    "    ",
    "    for i in range(M):",
    "        queue = Queue(model, f'Queue{i+1}', SchedStrategy.PS)",
    "        station.append(queue)",
    "    ",
    "    if useDelay:",
    "        delay = Delay(model, 'Delay1')",
    "        station.append(delay)",
    "    ",
    "    # Block 2: classes",
    "    population = int(random.random() * M + 2)  # Random population from 2 to M+2",
    "    jobclass = ClosedClass(model, 'Class1', population, station[0], 0)",
    "    ",
    "    # Set service rates",
    "    for i in range(M):",
    "        service_rate = random.random() + i + 1  # Random rate between i+1 and i+2",
    "        station[i].set_service(jobclass, Exp.fitMean(service_rate))",
    "    ",
    "    if useDelay:",
    "        station[-1].set_service(jobclass, Exp.fitMean(2.0))",
    "    ",
    "    # Block 3: topology - serial routing",
    "    P = model.init_routing_matrix()",
    "    ",
    "    # Create cyclic routing: station[0] -> station[1] -> ... -> station[0]",
    "    for i in range(len(station)):",
    "        next_station = station[(i + 1) % len(station)]",
    "        P.add_route(jobclass, station[i], next_station, 1.0)",
    "    ",
    "    model.link(P)",
    "    ",
    "    return model, population",
    "",
    "# Create the model",
    "model, population = gallery_cqn(M=3, useDelay=True, seed=23000)",
    "",
    "print(f\"Population: {population} jobs\")"
   ]
  },
  {
   "cell_type": "code",
   "execution_count": null,
   "id": "cell-3",
   "metadata": {},
   "outputs": [],
   "source": [
    "# Solve with multiple solvers\n",
    "print(\"\\n=== Solver Results ===\")\n",
    "\n",
    "# MVA Solver (exact for closed models)\n",
    "solver_mva = SolverMVA(model)\n",
    "avg_table_mva = solver_mva.get_avg_table()\n",
    "print(\"\\nMVA Solver:\")\n",
    "print(avg_table_mva)\n",
    "\n",
    "# CTMC Solver\n",
    "solver_ctmc = SolverCTMC(model)\n",
    "avg_table_ctmc = solver_ctmc.get_avg_table()\n",
    "print(\"\\nCTMC Solver:\")\n",
    "print(avg_table_ctmc)\n",
    "\n",
    "# NC Solver\n",
    "solver_nc = SolverNC(model)\n",
    "avg_table_nc = solver_nc.get_avg_table()\n",
    "print(\"\\nNC Solver:\")\n",
    "print(avg_table_nc)"
   ]
  }
 ],
 "metadata": {
  "kernelspec": {
   "display_name": "Python 3",
   "language": "python",
   "name": "python3"
  },
  "language_info": {
   "codemirror_mode": {
    "name": "ipython",
    "version": 3
   },
   "file_extension": ".py",
   "name": "python",
   "nbconvert_exporter": "python",
   "pygments_lexer": "ipython3",
   "version": "3.8.0"
  }
 },
 "nbformat": 4,
 "nbformat_minor": 4
}