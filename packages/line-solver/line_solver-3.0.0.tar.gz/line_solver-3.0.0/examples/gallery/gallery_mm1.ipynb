{
 "cells": [
  {
   "cell_type": "markdown",
   "id": "cell-0",
   "metadata": {},
   "source": [
    "# Gallery Example: M/M/1 Queue\n",
    "\n",
    "This is the classic M/M/1 queueing model:\n",
    "- **Arrivals**: Poisson process (Exponential inter-arrival times)\n",
    "- **Service**: Exponential service times\n",
    "- **Servers**: 1 server\n",
    "- **Capacity**: Infinite\n",
    "- **Scheduling**: FCFS (First-Come-First-Served)\n",
    "\n",
    "This is one of the most fundamental queueing models used for validation and benchmarking."
   ]
  },
  {
   "cell_type": "code",
   "execution_count": null,
   "id": "cell-1",
   "metadata": {},
   "outputs": [],
   "source": [
    "from line_solver import *\n",
    "import numpy as np\n",
    "GlobalConstants.set_verbose(VerboseLevel.STD)"
   ]
  },
  {
   "cell_type": "code",
   "execution_count": null,
   "id": "cell-2",
   "metadata": {},
   "outputs": [],
   "source": "def gallery_mm1():\n    \"\"\"Create M/M/1 queueing model\"\"\"\n    model = Network('M/M/1')\n    \n    # Block 1: nodes\n    source = Source(model, 'mySource')\n    queue = Queue(model, 'myQueue', SchedStrategy.FCFS)\n    sink = Sink(model, 'mySink')\n    \n    # Block 2: classes\n    oclass = OpenClass(model, 'myClass')\n    source.set_arrival(oclass, Exp(1))  # λ = 1\n    queue.set_service(oclass, Exp(2))   # μ = 2, so ρ = λ/μ = 0.5\n    \n    # Block 3: topology\n    P = model.init_routing_matrix()\n    P.add_route(oclass, source, queue, 1.0)\n    P.add_route(oclass, queue, sink, 1.0)\n    model.link(P)\n    \n    return model\n\n# Create the model\nmodel = gallery_mm1()"
  },
  {
   "cell_type": "markdown",
   "id": "cell-3",
   "metadata": {},
   "source": [
    "## Theoretical Results for M/M/1\n",
    "\n",
    "For M/M/1 with λ=1, μ=2 (ρ=0.5):\n",
    "- **Utilization**: ρ = 0.5\n",
    "- **Mean Queue Length**: L = ρ/(1-ρ) = 0.5/(1-0.5) = 1.0\n",
    "- **Mean Response Time**: W = 1/(μ-λ) = 1/(2-1) = 1.0 seconds\n",
    "- **Throughput**: X = λ = 1.0"
   ]
  },
  {
   "cell_type": "code",
   "execution_count": null,
   "id": "cell-4",
   "metadata": {},
   "outputs": [],
   "source": "# Solve with multiple solvers - aligned with MATLAB gallery patterns\n\n# MVA Solver (exact for open models)\nsolver_mva = SolverMVA(model)\navg_table_mva = solver_mva.get_avg_table()\nprint(\"MVA Solver:\")\nprint(avg_table_mva)\n\n# CTMC Solver\nsolver_ctmc = SolverCTMC(model, cutoff=10)\navg_table_ctmc = solver_ctmc.get_avg_table()\nprint(\"CTMC Solver:\")\nprint(avg_table_ctmc)\n\n# Fluid Solver\nsolver_fluid = SolverFluid(model)\navg_table_fluid = solver_fluid.get_avg_table()\nprint(\"Fluid Solver:\")\nprint(avg_table_fluid)"
  }
 ],
 "metadata": {
  "kernelspec": {
   "display_name": "Python 3",
   "language": "python",
   "name": "python3"
  },
  "language_info": {
   "codemirror_mode": {
    "name": "ipython",
    "version": 3
   },
   "file_extension": ".py",
   "name": "python",
   "nbconvert_exporter": "python",
   "pygments_lexer": "ipython3",
   "version": "3.8.0"
  }
 },
 "nbformat": 4,
 "nbformat_minor": 4
}