{
 "cells": [
  {
   "cell_type": "markdown",
   "metadata": {},
   "source": [
    "# Gallery Example: M/M/1 Linear Tandem Network\n",
    "\n",
    "This example demonstrates a linear (tandem) network of M/M/1 queues:\n",
    "- **Topology**: n queues in series (tandem)\n",
    "- **Arrivals**: Poisson process to first queue\n",
    "- **Service**: Exponential service times with symmetric load profile\n",
    "- **Load Profile**: Service times increase to middle, then decrease\n",
    "- **Scheduling**: FCFS at all stations\n",
    "\n",
    "This creates a bottleneck in the middle of the network, useful for studying load balancing effects."
   ]
  },
  {
   "cell_type": "code",
   "execution_count": null,
   "metadata": {},
   "outputs": [],
   "source": [
    "from line_solver import *\n",
    "import numpy as np\n",
    "GlobalConstants.set_verbose(VerboseLevel.STD)"
   ]
  },
  {
   "cell_type": "code",
   "execution_count": null,
   "metadata": {},
   "outputs": [],
   "source": [
    "def gallery_mm1_linear(n=2, Umax=0.9):",
    "    \"\"\"Create linear tandem network of M/M/1 queues",
    "    ",
    "    Parameters:",
    "    - n: Number of queues in the tandem (default 2)",
    "    - Umax: Maximum utilization at bottleneck (default 0.9)",
    "    \"\"\"",
    "    model = Network('M/M/1-Linear')",
    "    ",
    "    # Block 1: nodes",
    "    line = []",
    "    line.append(Source(model, 'mySource'))",
    "    ",
    "    for i in range(n):",
    "        queue = Queue(model, f'Queue{i+1}', SchedStrategy.FCFS)",
    "        line.append(queue)",
    "    ",
    "    line.append(Sink(model, 'mySink'))",
    "    ",
    "    # Block 2: classes",
    "    oclass = OpenClass(model, 'myClass')",
    "    line[0].set_arrival(oclass, Exp(1))  # λ = 1",
    "    ",
    "    # Create symmetric load profile: increases to middle, then decreases",
    "    means = np.linspace(0.1, Umax, n//2)",
    "    if n % 2 == 0:",
    "        means = np.concatenate([means, means[::-1]])",
    "    else:",
    "        means = np.concatenate([means, [Umax], means[::-1]])",
    "    ",
    "    for i in range(n):",
    "        line[i+1].set_service(oclass, Exp.fitMean(means[i]))",
    "    ",
    "    # Block 3: topology - serial routing",
    "    P = model.init_routing_matrix()",
    "    for i in range(len(line)-1):",
    "        P.add_route(oclass, line[i], line[i+1], 1.0)",
    "    model.link(P)",
    "    ",
    "    return model, means",
    "",
    "# Create the model with default parameters",
    "n_queues = 4",
    "max_util = 0.9",
    "model, service_means = gallery_mm1_linear(n_queues, max_util)",
    "",
    "print(f\"Number of queues: {n_queues}\")",
    "print(f\"Service means: {service_means}\")",
    "print(f\"Utilizations: {1.0 * service_means}\")"
   ]
  },
  {
   "cell_type": "markdown",
   "metadata": {},
   "source": [
    "## Theoretical Analysis\n",
    "\n",
    "For a tandem network:\n",
    "- **Throughput**: Same at all stations (λ = 1)\n",
    "- **Utilization**: ρᵢ = λ × service_time_i\n",
    "- **Response Time**: Sum of individual response times\n",
    "- **Bottleneck**: Station with highest utilization limits throughput"
   ]
  },
  {
   "cell_type": "code",
   "execution_count": null,
   "metadata": {},
   "outputs": [],
   "source": [
    "# Solve with multiple solvers\n",
    "print(\"\\n=== Solver Results ===\")\n",
    "\n",
    "# MVA Solver\n",
    "solver_mva = SolverMVA(model)\n",
    "avg_table_mva = solver_mva.get_avg_table()\n",
    "print(\"\\nMVA Solver:\")\n",
    "print(avg_table_mva)\n",
    "\n",
    "# CTMC Solver\n",
    "solver_ctmc = SolverCTMC(model, cutoff=10)\n",
    "avg_table_ctmc = solver_ctmc.get_avg_table()\n",
    "print(\"\\nCTMC Solver:\")\n",
    "print(avg_table_ctmc)\n",
    "\n",
    "# Fluid Solver\n",
    "solver_fluid = SolverFluid(model)\n",
    "avg_table_fluid = solver_fluid.get_avg_table()\n",
    "print(\"\\nFluid Solver:\")\n",
    "print(avg_table_fluid)"
   ]
  },
  {
   "cell_type": "code",
   "execution_count": null,
   "metadata": {},
   "outputs": [],
   "source": [
    "# Analyze bottleneck effects with different network sizes\n",
    "print(\"\\n=== Network Size Analysis ===\")\n",
    "for n in [2, 3, 5, 7]:\n",
    "    model_n, means_n = gallery_mm1_linear(n, 0.8)\n",
    "    solver = SolverMVA(model_n)\n",
    "    avg_table = solver.get_avg_table()\n",
    "    \n",
    "    # Calculate total response time (sum across all queues)\n",
    "    total_resp_time = 0\n",
    "    max_util = 0\n",
    "    \n",
    "    for i in range(1, n+1):  # Skip source (index 0) and sink (last)\n",
    "        resp_time_i = float(avg_table.iloc[i, 2])\n",
    "        util_i = float(avg_table.iloc[i, 1])\n",
    "        total_resp_time += resp_time_i\n",
    "        max_util = max(max_util, util_i)\n",
    "    \n",
    "    print(f\"n={n}: Total Response Time={total_resp_time:.3f}, Max Utilization={max_util:.3f}\")"
   ]
  }
 ],
 "metadata": {
  "kernelspec": {
   "display_name": "Python 3",
   "language": "python",
   "name": "python3"
  },
  "language_info": {
   "codemirror_mode": {
    "name": "ipython",
    "version": 3
   },
   "file_extension": ".py",
   "mimetype": "text/x-python",
   "name": "python",
   "nbconvert_exporter": "python",
   "pygments_lexer": "ipython3",
   "version": "3.8.5"
  }
 },
 "nbformat": 4,
 "nbformat_minor": 4
}