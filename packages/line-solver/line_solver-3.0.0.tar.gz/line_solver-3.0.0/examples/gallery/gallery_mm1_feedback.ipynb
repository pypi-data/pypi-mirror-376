{
 "cells": [
  {
   "cell_type": "markdown",
   "metadata": {},
   "source": [
    "# Gallery Example: M/M/1 Queue with Feedback\n",
    "\n",
    "This example demonstrates an M/M/1 queue with probabilistic feedback:\n",
    "- **Arrivals**: Poisson process (Exponential inter-arrival times)\n",
    "- **Service**: Exponential service times\n",
    "- **Servers**: 1 server\n",
    "- **Feedback**: Jobs may return to the queue with probability p\n",
    "- **Scheduling**: FCFS (First-Come-First-Served)\n",
    "\n",
    "With feedback probability p, the effective service rate becomes μ(1-p), increasing the utilization and response time."
   ]
  },
  {
   "cell_type": "code",
   "execution_count": null,
   "metadata": {},
   "outputs": [],
   "source": [
    "from line_solver import *\n",
    "import numpy as np\n",
    "GlobalConstants.set_verbose(VerboseLevel.STD)"
   ]
  },
  {
   "cell_type": "code",
   "execution_count": null,
   "metadata": {},
   "outputs": [],
   "source": [
    "def gallery_mm1_feedback(p=1/3):",
    "    \"\"\"Create M/M/1 queueing model with feedback",
    "    ",
    "    Parameters:",
    "    - p: Feedback probability (default 1/3)",
    "    \"\"\"",
    "    model = Network('M/M/1-Feedback')",
    "    ",
    "    # Block 1: nodes",
    "    source = Source(model, 'Source')",
    "    queue = Queue(model, 'Queue', SchedStrategy.FCFS)",
    "    sink = Sink(model, 'Sink')",
    "    ",
    "    # Block 2: classes",
    "    oclass1 = OpenClass(model, 'Class1')",
    "    source.set_arrival(oclass1, Exp.fitMean(1))  # λ = 1",
    "    queue.set_service(oclass1, Exp.fitMean(0.5)) # μ = 2, mean service time = 0.5",
    "    ",
    "    # Block 3: topology - feedback routing",
    "    P = model.init_routing_matrix()",
    "    P.add_route(oclass1, source, queue, 1.0)  # All arrivals go to queue",
    "    P.add_route(oclass1, queue, queue, p)     # Feedback with probability p",
    "    P.add_route(oclass1, queue, sink, 1-p)    # Exit with probability 1-p",
    "    model.link(P)",
    "    ",
    "    return model",
    "",
    "# Create the model with default feedback probability",
    "p_feedback = 1/3",
    "model = gallery_mm1_feedback(p_feedback)",
    "",
    "print(f\"Feedback probability: {p_feedback:.3f}\")"
   ]
  },
  {
   "cell_type": "markdown",
   "metadata": {},
   "source": [
    "## Theoretical Analysis for M/M/1 with Feedback\n",
    "\n",
    "For M/M/1 with feedback probability p:\n",
    "- **External arrival rate**: λ = 1\n",
    "- **Service rate**: μ = 2\n",
    "- **Effective service rate**: μ_eff = μ(1-p) = 2(1-1/3) = 4/3\n",
    "- **Effective utilization**: ρ_eff = λ/μ_eff = 1/(4/3) = 0.75\n",
    "- **Mean number of visits**: 1/(1-p) = 1/(1-1/3) = 1.5\n",
    "- **Throughput**: X = λ = 1.0"
   ]
  },
  {
   "cell_type": "code",
   "execution_count": null,
   "metadata": {},
   "outputs": [],
   "source": [
    "# Solve with multiple solvers\n",
    "print(\"\\n=== Solver Results ===\")\n",
    "\n",
    "# MVA Solver\n",
    "solver_mva = SolverMVA(model)\n",
    "avg_table_mva = solver_mva.get_avg_table()\n",
    "print(\"\\nMVA Solver:\")\n",
    "print(avg_table_mva)\n",
    "\n",
    "# CTMC Solver\n",
    "solver_ctmc = SolverCTMC(model, cutoff=20)\n",
    "avg_table_ctmc = solver_ctmc.get_avg_table()\n",
    "print(\"\\nCTMC Solver:\")\n",
    "print(avg_table_ctmc)\n",
    "\n",
    "# Fluid Solver\n",
    "solver_fluid = SolverFluid(model)\n",
    "avg_table_fluid = solver_fluid.get_avg_table()\n",
    "print(\"\\nFluid Solver:\")\n",
    "print(avg_table_fluid)"
   ]
  },
  {
   "cell_type": "code",
   "execution_count": null,
   "metadata": {},
   "outputs": [],
   "source": [
    "# Compare with different feedback probabilities\n",
    "print(\"\\n=== Impact of Feedback Probability ===\")\n",
    "p_values = [0.0, 0.2, 0.4, 0.6, 0.8]\n",
    "\n",
    "for p in p_values:\n",
    "    model_p = gallery_mm1_feedback(p)\n",
    "    solver = SolverMVA(model_p)\n",
    "    avg_table = solver.get_avg_table()\n",
    "    \n",
    "    # Extract utilization and response time from results\n",
    "    util = float(avg_table.iloc[1, 1])  # Queue utilization\n",
    "    resp_time = float(avg_table.iloc[1, 2])  # Queue response time\n",
    "    \n",
    "    print(f\"p={p:.1f}: Utilization={util:.3f}, Response Time={resp_time:.3f}\")"
   ]
  }
 ],
 "metadata": {
  "kernelspec": {
   "display_name": "Python 3",
   "language": "python",
   "name": "python3"
  },
  "language_info": {
   "codemirror_mode": {
    "name": "ipython",
    "version": 3
   },
   "file_extension": ".py",
   "mimetype": "text/x-python",
   "name": "python",
   "nbconvert_exporter": "python",
   "pygments_lexer": "ipython3",
   "version": "3.8.5"
  }
 },
 "nbformat": 4,
 "nbformat_minor": 4
}