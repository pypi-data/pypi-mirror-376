{
 "cells": [
  {
   "cell_type": "code",
   "metadata": {
    "ExecuteTime": {
     "end_time": "2025-07-27T17:23:21.574825Z",
     "start_time": "2025-07-27T17:23:20.660574Z"
    }
   },
   "source": [
    "from line_solver import *\n",
    "GlobalConstants.set_verbose(VerboseLevel.STD)"
   ],
   "outputs": [],
   "execution_count": 1
  },
  {
   "cell_type": "code",
   "metadata": {
    "ExecuteTime": {
     "end_time": "2025-07-27T17:23:21.660497Z",
     "start_time": "2025-07-27T17:23:21.634727Z"
    }
   },
   "source": [
    "model = Network('MRP')\n",
    "# Block 1: nodes\n",
    "delay = Delay(model, 'WorkingState')\n",
    "queue = Queue(model, 'RepairQueue', SchedStrategy.FCFS)\n",
    "queue.set_number_of_servers(2)\n",
    "# Block 2: classes\n",
    "cclass = ClosedClass(model, 'Machines', 3, delay)\n",
    "delay.set_service(cclass, Exp(0.5))\n",
    "queue.set_service(cclass, Exp(4.0))\n",
    "# Block 3: topology\n",
    "model.link(Network.serialRouting(delay, queue))"
   ],
   "outputs": [],
   "execution_count": 2
  },
  {
   "cell_type": "code",
   "source": "# Block 4: solution\nsolver = SolverCTMC(model)\nctmcAvgTable = solver.avg_table()",
   "metadata": {
    "collapsed": false,
    "ExecuteTime": {
     "end_time": "2025-07-27T17:23:21.799424Z",
     "start_time": "2025-07-27T17:23:21.668865Z"
    }
   },
   "outputs": [
    {
     "name": "stdout",
     "output_type": "stream",
     "text": [
      "CTMC analysis [method: default, lang: java, env: 21.0.8] completed in 0.032731s.\n",
      "        Station  JobClass    QLen    Util   RespT  ResidT    ArvR    Tput\n",
      "0  WorkingState  Machines  2.6648  2.6648  2.0000  2.0000  1.3324  1.3324\n",
      "1   RepairQueue  Machines  0.3352  0.1666  0.2515  0.2515  1.3324  1.3324\n"
     ]
    }
   ],
   "execution_count": 3
  },
  {
   "cell_type": "code",
   "source": [
    "stateSpace, nodeStateSpace = solver.get_state_space()\n",
    "print(\"CTMC state space:\")\n",
    "print(stateSpace)\n",
    "print(nodeStateSpace)"
   ],
   "metadata": {
    "ExecuteTime": {
     "end_time": "2025-07-27T17:23:21.809818Z",
     "start_time": "2025-07-27T17:23:21.803724Z"
    }
   },
   "outputs": [
    {
     "name": "stdout",
     "output_type": "stream",
     "text": [
      "CTMC state space:\n",
      "[[0. 1. 2.]\n",
      " [1. 0. 2.]\n",
      " [2. 0. 1.]\n",
      " [3. 0. 0.]]\n",
      "{0: array([[0.],\n",
      "       [1.],\n",
      "       [2.],\n",
      "       [3.]]), 1: array([[1., 2.],\n",
      "       [0., 2.],\n",
      "       [0., 1.],\n",
      "       [0., 0.]])}\n"
     ]
    }
   ],
   "execution_count": 4
  },
  {
   "cell_type": "code",
   "source": [
    "infGen, eventFilt = solver.get_generator()\n",
    "print(\"CTMC infinitesimal generator:\")\n",
    "print(infGen)"
   ],
   "metadata": {
    "collapsed": false,
    "ExecuteTime": {
     "end_time": "2025-07-27T17:23:21.881873Z",
     "start_time": "2025-07-27T17:23:21.877293Z"
    }
   },
   "outputs": [
    {
     "name": "stdout",
     "output_type": "stream",
     "text": [
      "CTMC infinitesimal generator:\n",
      "[[-8.   8.   0.   0. ]\n",
      " [ 0.5 -8.5  8.   0. ]\n",
      " [ 0.   1.  -5.   4. ]\n",
      " [ 0.   0.   1.5 -1.5]]\n"
     ]
    }
   ],
   "execution_count": 5
  },
  {
   "metadata": {
    "ExecuteTime": {
     "end_time": "2025-07-27T17:23:21.947166Z",
     "start_time": "2025-07-27T17:23:21.930736Z"
    }
   },
   "cell_type": "code",
   "source": "SolverCTMC.printInfGen(infGen, stateSpace)",
   "outputs": [
    {
     "name": "stdout",
     "output_type": "stream",
     "text": [
      "[ 0.0   1.0   2.0 ] -> [ 1.0   0.0   2.0 ] : 8.0\n",
      "[ 1.0   0.0   2.0 ] -> [ 0.0   1.0   2.0 ] : 0.5\n",
      "[ 1.0   0.0   2.0 ] -> [ 2.0   0.0   1.0 ] : 8.0\n",
      "[ 2.0   0.0   1.0 ] -> [ 1.0   0.0   2.0 ] : 1.0\n",
      "[ 2.0   0.0   1.0 ] -> [ 3.0   0.0   0.0 ] : 4.0\n",
      "[ 3.0   0.0   0.0 ] -> [ 2.0   0.0   1.0 ] : 1.5\n"
     ]
    }
   ],
   "execution_count": 6
  }
 ],
 "metadata": {
  "kernelspec": {
   "display_name": "Python 3",
   "language": "python",
   "name": "python3"
  },
  "language_info": {
   "codemirror_mode": {
    "name": "ipython",
    "version": 3
   },
   "file_extension": ".py",
   "mimetype": "text/x-python",
   "name": "python",
   "nbconvert_exporter": "python",
   "pygments_lexer": "ipython3",
   "version": "3.6.4"
  }
 },
 "nbformat": 4,
 "nbformat_minor": 2
}