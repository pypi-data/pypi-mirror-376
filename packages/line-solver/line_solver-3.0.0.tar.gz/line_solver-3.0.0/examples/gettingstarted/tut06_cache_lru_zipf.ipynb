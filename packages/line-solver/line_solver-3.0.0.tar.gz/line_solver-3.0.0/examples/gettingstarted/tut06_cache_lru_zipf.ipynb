{
 "cells": [
  {
   "metadata": {},
   "cell_type": "raw",
   "source": "BUG: Does not yet match matlab"
  },
  {
   "cell_type": "code",
   "metadata": {
    "ExecuteTime": {
     "end_time": "2025-07-27T17:23:47.798637Z",
     "start_time": "2025-07-27T17:23:46.899003Z"
    }
   },
   "source": [
    "from line_solver import *\n",
    "GlobalConstants.set_verbose(VerboseLevel.STD)"
   ],
   "outputs": [],
   "execution_count": 1
  },
  {
   "cell_type": "code",
   "metadata": {
    "ExecuteTime": {
     "end_time": "2025-07-27T17:23:47.887182Z",
     "start_time": "2025-07-27T17:23:47.850116Z"
    }
   },
   "source": [
    "model = Network('Model')\n",
    "# Block 1: nodes\n",
    "clientDelay = Delay(model, 'Client')\n",
    "cacheNode = Cache(model, 'Cache', 1000, 50, ReplacementStrategy.LRU)\n",
    "cacheDelay = Delay(model, 'CacheDelay')"
   ],
   "outputs": [],
   "execution_count": 2
  },
  {
   "cell_type": "code",
   "source": [
    "# Block 2: classes\n",
    "clientClass = ClosedClass(model, 'ClientClass', 1, clientDelay, 0)\n",
    "hitClass = ClosedClass(model, 'HitClass', 0, clientDelay, 0)\n",
    "missClass = ClosedClass(model, 'MissClass', 0, clientDelay, 0)\n",
    "\n",
    "clientDelay.set_service(clientClass, Immediate())\n",
    "cacheDelay.set_service(hitClass, Exp.fitMean(0.2))\n",
    "cacheDelay.set_service(missClass, Exp.fitMean(1.0))\n",
    "\n",
    "cacheNode.set_read(clientClass, Zipf(1.4, 1000))\n",
    "cacheNode.set_hit_class(clientClass, hitClass)\n",
    "cacheNode.set_miss_class(clientClass, missClass)"
   ],
   "metadata": {
    "collapsed": false,
    "ExecuteTime": {
     "end_time": "2025-07-27T17:23:47.963797Z",
     "start_time": "2025-07-27T17:23:47.904043Z"
    }
   },
   "outputs": [],
   "execution_count": 3
  },
  {
   "cell_type": "code",
   "source": [
    "# Block 3: topology\n",
    "P = model.init_routing_matrix()\n",
    "# routing from client to cache\n",
    "P.set(clientClass, clientClass, clientDelay, cacheNode, 1.0)\n",
    "# routing out of the cache\n",
    "P.set(hitClass, hitClass, cacheNode, cacheDelay, 1.0)\n",
    "P.set(missClass, missClass, cacheNode, cacheDelay, 1.0)\n",
    "# return to the client\n",
    "P.set(hitClass, clientClass, cacheDelay, clientDelay, 1.0)\n",
    "P.set(missClass, clientClass, cacheDelay, clientDelay, 1.0)\n",
    "# routing from cacheNode\n",
    "model.link(P)"
   ],
   "metadata": {
    "collapsed": false,
    "ExecuteTime": {
     "end_time": "2025-07-27T17:23:47.983142Z",
     "start_time": "2025-07-27T17:23:47.970908Z"
    }
   },
   "outputs": [],
   "execution_count": 4
  },
  {
   "metadata": {
    "ExecuteTime": {
     "end_time": "2025-07-27T17:24:00.116433Z",
     "start_time": "2025-07-27T17:23:48.028410Z"
    }
   },
   "cell_type": "code",
   "source": "ssaAvgTablePara = SolverSSA(model, samples=20000, seed=1, verbose=True, method='serial').avg_table()",
   "outputs": [
    {
     "name": "stdout",
     "output_type": "stream",
     "text": [
      "SSA samples:   20000\n",
      "SSA analysis [method: serial, lang: java, env: 21.0.8] completed in 12.018969s. Iterations: 20001.\n",
      "      Station     JobClass    QLen    Util       RespT  ResidT  ArvR    Tput\n",
      "0      Client  ClientClass  0.0000  0.0000  1.0000e-08  0.0000   0.0  3.0155\n",
      "4  CacheDelay     HitClass  0.4814  0.4814  2.0000e-01  0.1640   0.0  2.4068\n",
      "5  CacheDelay    MissClass  0.5186  0.5186  1.0000e+00  0.1798   0.0  0.5186\n"
     ]
    }
   ],
   "execution_count": 5
  }
 ],
 "metadata": {
  "kernelspec": {
   "display_name": "Python 3",
   "language": "python",
   "name": "python3"
  },
  "language_info": {
   "codemirror_mode": {
    "name": "ipython",
    "version": 3
   },
   "file_extension": ".py",
   "mimetype": "text/x-python",
   "name": "python",
   "nbconvert_exporter": "python",
   "pygments_lexer": "ipython3",
   "version": "3.6.4"
  }
 },
 "nbformat": 4,
 "nbformat_minor": 2
}