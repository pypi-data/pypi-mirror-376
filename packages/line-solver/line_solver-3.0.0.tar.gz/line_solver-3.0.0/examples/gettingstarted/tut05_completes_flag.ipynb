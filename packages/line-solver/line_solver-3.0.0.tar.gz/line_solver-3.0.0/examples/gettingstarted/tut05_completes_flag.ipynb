{
 "cells": [
  {
   "cell_type": "code",
   "metadata": {
    "ExecuteTime": {
     "end_time": "2025-07-27T17:23:38.415115Z",
     "start_time": "2025-07-27T17:23:37.036594Z"
    }
   },
   "source": [
    "from line_solver import *\n",
    "GlobalConstants.set_verbose(VerboseLevel.STD)"
   ],
   "outputs": [],
   "execution_count": 1
  },
  {
   "cell_type": "code",
   "metadata": {
    "ExecuteTime": {
     "end_time": "2025-07-27T17:23:38.485857Z",
     "start_time": "2025-07-27T17:23:38.418952Z"
    }
   },
   "source": [
    "model = Network('RL')\n",
    "queue = Queue(model, 'Queue', SchedStrategy.FCFS)\n",
    "K = 3\n",
    "N = (1, 0, 0)\n",
    "jobclass = []\n",
    "for k in range(K):\n",
    "    jobclass.append(ClosedClass(model, 'Class' + str(k+1), N[k], queue))\n",
    "    queue.set_service(jobclass[k], Erlang.fitMeanAndOrder(1+k, 2))\n",
    "P = model.init_routing_matrix()\n",
    "P.set(jobclass[0], jobclass[1], queue, queue, 1.0)\n",
    "P.set(jobclass[1], jobclass[2], queue, queue, 1.0)\n",
    "P.set(jobclass[2], jobclass[0], queue, queue, 1.0)\n",
    "model.link(P)\n",
    "sn = model.struct()"
   ],
   "outputs": [],
   "execution_count": 2
  },
  {
   "cell_type": "code",
   "source": "ncAvgTable = SolverNC(model).avg_table()",
   "metadata": {
    "collapsed": false,
    "ExecuteTime": {
     "end_time": "2025-07-27T17:23:38.608406Z",
     "start_time": "2025-07-27T17:23:38.556182Z"
    }
   },
   "outputs": [
    {
     "name": "stdout",
     "output_type": "stream",
     "text": [
      "NC analysis [method: default(exact), lang: java, env: 21.0.8] completed in 0.028761s. Iterations: 100000.\n",
      "  Station JobClass    QLen    Util  RespT  ResidT    ArvR    Tput\n",
      "0   Queue   Class1  0.1667  0.1667    1.0  0.3333  0.1667  0.1667\n",
      "1   Queue   Class2  0.3333  0.3333    2.0  0.6667  0.1667  0.1667\n",
      "2   Queue   Class3  0.5000  0.5000    3.0  1.0000  0.1667  0.1667\n"
     ]
    }
   ],
   "execution_count": 3
  },
  {
   "cell_type": "code",
   "source": "ncAvgSysTable = SolverNC(model).avg_sys_table()",
   "metadata": {
    "collapsed": false,
    "ExecuteTime": {
     "end_time": "2025-07-27T17:23:38.629947Z",
     "start_time": "2025-07-27T17:23:38.624214Z"
    }
   },
   "outputs": [
    {
     "name": "stdout",
     "output_type": "stream",
     "text": [
      "NC analysis [method: default(exact), lang: java, env: 21.0.8] completed in 0.000517s. Iterations: 100000.\n",
      "    Chain              JobClasses  SysRespT  SysTput\n",
      "0  Chain1  (Class1 Class2 Class3)       2.0      0.5\n"
     ]
    }
   ],
   "execution_count": 4
  },
  {
   "cell_type": "code",
   "source": "jobclass[0].completes = False\njobclass[1].completes = False\nncAvgSysTable2 = SolverNC(model).avg_sys_table()",
   "metadata": {
    "collapsed": false,
    "ExecuteTime": {
     "end_time": "2025-07-27T17:23:38.696933Z",
     "start_time": "2025-07-27T17:23:38.689767Z"
    }
   },
   "outputs": [
    {
     "name": "stdout",
     "output_type": "stream",
     "text": [
      "NC analysis [method: default(exact), lang: java, env: 21.0.8] completed in 0.002940s. Iterations: 100000.\n",
      "    Chain              JobClasses  SysRespT  SysTput\n",
      "0  Chain1  (Class1 Class2 Class3)       6.0   0.1667\n"
     ]
    }
   ],
   "execution_count": 5
  }
 ],
 "metadata": {
  "kernelspec": {
   "display_name": "Python 3",
   "language": "python",
   "name": "python3"
  },
  "language_info": {
   "codemirror_mode": {
    "name": "ipython",
    "version": 3
   },
   "file_extension": ".py",
   "mimetype": "text/x-python",
   "name": "python",
   "nbconvert_exporter": "python",
   "pygments_lexer": "ipython3",
   "version": "3.6.4"
  }
 },
 "nbformat": 4,
 "nbformat_minor": 2
}