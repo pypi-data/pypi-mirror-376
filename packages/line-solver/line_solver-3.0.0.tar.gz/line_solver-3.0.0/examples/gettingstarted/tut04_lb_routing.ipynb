{
 "cells": [
  {
   "cell_type": "code",
   "metadata": {
    "ExecuteTime": {
     "end_time": "2025-07-27T17:23:30.835642Z",
     "start_time": "2025-07-27T17:23:29.896781Z"
    }
   },
   "source": [
    "from line_solver import *\n",
    "GlobalConstants.set_verbose(VerboseLevel.STD)"
   ],
   "outputs": [],
   "execution_count": 1
  },
  {
   "cell_type": "code",
   "metadata": {
    "ExecuteTime": {
     "end_time": "2025-07-27T17:23:30.901408Z",
     "start_time": "2025-07-27T17:23:30.885319Z"
    }
   },
   "source": [
    "model = Network('RRLB')\n",
    "source = Source(model, 'Source')\n",
    "lb = Router(model, 'LB')\n",
    "queue1 = Queue(model, 'Queue1', SchedStrategy.PS)\n",
    "queue2 = Queue(model, 'Queue2', SchedStrategy.PS)\n",
    "sink = Sink(model, 'Sink')\n",
    "oclass = OpenClass(model, 'Class1')\n",
    "source.set_arrival(oclass, Exp(1))\n",
    "queue1.set_service(oclass, Exp(2))\n",
    "queue2.set_service(oclass, Exp(2))"
   ],
   "outputs": [],
   "execution_count": 2
  },
  {
   "cell_type": "code",
   "source": "model.add_link(source, lb)\nmodel.add_link(lb, queue1)\nmodel.add_link(lb, queue2)\nmodel.add_link(queue1, sink)\nmodel.add_link(queue2, sink)\nlb.set_routing(oclass, RoutingStrategy.RAND)\njmtAvgTable = SolverJMT(model, seed=23000).avg_table()",
   "metadata": {
    "collapsed": false,
    "ExecuteTime": {
     "end_time": "2025-07-27T17:23:31.884254Z",
     "start_time": "2025-07-27T17:23:30.935051Z"
    }
   },
   "outputs": [
    {
     "name": "stdout",
     "output_type": "stream",
     "text": [
      "JMT Model: /tmp/workspace/jsim/10618587250603818123/jmodel.jsim\n",
      "JMT [method: default, lang: java, env: 21.0.8] completed in 0.837581s.\n",
      "  Station JobClass    QLen    Util   RespT  ResidT    ArvR    Tput\n",
      "0  Source   Class1  0.0000  0.0000  0.0000  0.0000  0.0000  1.0135\n",
      "1  Queue1   Class1  0.3161  0.2468  0.6541  0.6541  0.5014  0.5010\n",
      "2  Queue2   Class1  0.3340  0.2508  0.6841  0.3420  0.5045  0.5041\n"
     ]
    }
   ],
   "execution_count": 3
  },
  {
   "cell_type": "code",
   "source": "model.reset()\nlb.set_routing(oclass, RoutingStrategy.RROBIN)\njmtAvgTableRR = SolverJMT(model, seed=23000).avg_table()",
   "metadata": {
    "collapsed": false,
    "ExecuteTime": {
     "end_time": "2025-07-27T17:23:32.716305Z",
     "start_time": "2025-07-27T17:23:31.920755Z"
    }
   },
   "outputs": [
    {
     "name": "stdout",
     "output_type": "stream",
     "text": [
      "JMT Model: /tmp/workspace/jsim/5244573241205877715/jmodel.jsim\n",
      "JMT [method: default, lang: java, env: 21.0.8] completed in 0.781767s.\n",
      "  Station JobClass    QLen    Util   RespT  ResidT    ArvR    Tput\n",
      "0  Source   Class1  0.0000  0.0000  0.0000  0.0000  0.0000  1.0089\n",
      "1  Queue1   Class1  0.3043  0.2612  0.5848  0.5848  0.5029  0.5053\n",
      "2  Queue2   Class1  0.2928  0.2440  0.5729  0.2865  0.5050  0.5053\n"
     ]
    }
   ],
   "execution_count": 4
  }
 ],
 "metadata": {
  "kernelspec": {
   "display_name": "Python 3",
   "language": "python",
   "name": "python3"
  },
  "language_info": {
   "codemirror_mode": {
    "name": "ipython",
    "version": 3
   },
   "file_extension": ".py",
   "mimetype": "text/x-python",
   "name": "python",
   "nbconvert_exporter": "python",
   "pygments_lexer": "ipython3",
   "version": "3.6.4"
  }
 },
 "nbformat": 4,
 "nbformat_minor": 2
}