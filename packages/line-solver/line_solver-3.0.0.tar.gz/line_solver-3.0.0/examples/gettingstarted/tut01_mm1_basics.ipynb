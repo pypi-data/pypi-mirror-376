{
 "cells": [
  {
   "cell_type": "code",
   "metadata": {
    "ExecuteTime": {
     "end_time": "2025-07-27T17:23:01.105743Z",
     "start_time": "2025-07-27T17:23:00.161970Z"
    }
   },
   "source": [
    "from line_solver import *\n",
    "GlobalConstants.set_verbose(VerboseLevel.STD)"
   ],
   "outputs": [],
   "execution_count": 1
  },
  {
   "cell_type": "code",
   "metadata": {
    "ExecuteTime": {
     "end_time": "2025-07-27T17:23:01.218478Z",
     "start_time": "2025-07-27T17:23:01.193008Z"
    }
   },
   "source": "model = Network('M/M/1')\n# Block 1: nodes\nsource = Source(model, 'mySource')\nqueue = Queue(model, 'myQueue', SchedStrategy.FCFS)\nsink = Sink(model, 'mySink')\n# Block 2: classes\njobclass = OpenClass(model, 'myClass')\nsource.set_arrival(jobclass, Exp(1))\nqueue.set_service(jobclass, Exp(2))\n# Block 3: topology\nmodel.link(Network.serialRouting(source, queue, sink))",
   "outputs": [],
   "execution_count": null
  },
  {
   "cell_type": "code",
   "source": "# Block 4: solution\nAvgTable = SolverJMT(model, seed=23000, verbose=VerboseLevel.SILENT).avg_table()",
   "metadata": {
    "collapsed": false,
    "ExecuteTime": {
     "end_time": "2025-07-27T17:23:02.135536Z",
     "start_time": "2025-07-27T17:23:01.244701Z"
    }
   },
   "outputs": [],
   "execution_count": 3
  },
  {
   "cell_type": "code",
   "source": "# select a particular table row\nprint(tget(AvgTable, queue, jobclass))",
   "metadata": {
    "collapsed": false,
    "ExecuteTime": {
     "end_time": "2025-07-27T17:23:02.156767Z",
     "start_time": "2025-07-27T17:23:02.149601Z"
    }
   },
   "outputs": [
    {
     "name": "stdout",
     "output_type": "stream",
     "text": [
      "   Station JobClass    QLen    Util   RespT  ResidT    ArvR    Tput\n",
      "1  myQueue  myClass  0.9555  0.4874  0.9543  0.9543  0.9989  0.9999\n"
     ]
    }
   ],
   "execution_count": 4
  },
  {
   "cell_type": "code",
   "source": [
    "# select a particular table row by node and class label\n",
    "print(tget(AvgTable, 'myQueue', 'myClass'))"
   ],
   "metadata": {
    "collapsed": false,
    "ExecuteTime": {
     "end_time": "2025-07-27T17:23:02.299475Z",
     "start_time": "2025-07-27T17:23:02.294200Z"
    }
   },
   "outputs": [
    {
     "name": "stdout",
     "output_type": "stream",
     "text": [
      "   Station JobClass    QLen    Util   RespT  ResidT    ArvR    Tput\n",
      "1  myQueue  myClass  0.9555  0.4874  0.9543  0.9543  0.9989  0.9999\n"
     ]
    }
   ],
   "execution_count": 5
  },
  {
   "metadata": {
    "ExecuteTime": {
     "end_time": "2025-07-27T17:23:02.360229Z",
     "start_time": "2025-07-27T17:23:02.358095Z"
    }
   },
   "cell_type": "code",
   "source": "print(AvgTable['RespT'].tolist())",
   "outputs": [
    {
     "name": "stdout",
     "output_type": "stream",
     "text": [
      "[0.0, 0.9542929280966826]\n"
     ]
    }
   ],
   "execution_count": 6
  },
  {
   "metadata": {
    "ExecuteTime": {
     "end_time": "2025-07-27T17:23:02.412473Z",
     "start_time": "2025-07-27T17:23:02.408412Z"
    }
   },
   "cell_type": "code",
   "source": "print(tget(AvgTable,'myQueue','myClass')['RespT'].tolist())",
   "outputs": [
    {
     "name": "stdout",
     "output_type": "stream",
     "text": [
      "[0.9542929280966826]\n"
     ]
    }
   ],
   "execution_count": 7
  }
 ],
 "metadata": {
  "kernelspec": {
   "display_name": "Python 3",
   "language": "python",
   "name": "python3"
  },
  "language_info": {
   "codemirror_mode": {
    "name": "ipython",
    "version": 3
   },
   "file_extension": ".py",
   "mimetype": "text/x-python",
   "name": "python",
   "nbconvert_exporter": "python",
   "pygments_lexer": "ipython3",
   "version": "3.6.4"
  }
 },
 "nbformat": 4,
 "nbformat_minor": 2
}