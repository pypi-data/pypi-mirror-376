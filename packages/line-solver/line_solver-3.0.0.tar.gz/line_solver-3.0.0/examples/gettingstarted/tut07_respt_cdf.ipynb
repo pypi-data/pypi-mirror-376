{
 "cells": [
  {
   "cell_type": "code",
   "metadata": {
    "ExecuteTime": {
     "end_time": "2025-07-27T18:22:05.402564Z",
     "start_time": "2025-07-27T18:22:03.826034Z"
    }
   },
   "source": "from line_solver import *\nGlobalConstants.set_verbose(VerboseLevel.STD)\nimport matplotlib.pyplot as plt",
   "outputs": [],
   "execution_count": 1
  },
  {
   "cell_type": "code",
   "metadata": {
    "ExecuteTime": {
     "end_time": "2025-07-27T18:22:05.432381Z",
     "start_time": "2025-07-27T18:22:05.410774Z"
    }
   },
   "source": [
    "model = Network('Model')\n",
    "\n",
    "# Block 1: nodes\n",
    "node = np.empty(2, dtype=object)\n",
    "node[0] = Delay(model, 'Delay')\n",
    "node[1] = Queue(model, 'Queue1', SchedStrategy.PS)\n",
    "\n",
    "# Block 2: classes\n",
    "jobclass = np.empty(2, dtype=object)\n",
    "jobclass[0] = ClosedClass(model, 'Class1', 5, node[0], 0)\n",
    "node[0].set_service(jobclass[0], Exp(1.0))\n",
    "node[1].set_service(jobclass[0], Exp(0.5))\n",
    "\n",
    "# Block 3: topology\n",
    "model.link(Network.serialRouting(node[0], node[1]))"
   ],
   "outputs": [],
   "execution_count": 2
  },
  {
   "cell_type": "code",
   "source": [
    "# Block 4: solution\n",
    "RDfluid = SolverFluid(model).get_cdf_resp_t()\n",
    "RDsim = SolverJMT(model, seed=23000, samples=10000).get_cdf_resp_t()"
   ],
   "metadata": {
    "collapsed": false,
    "ExecuteTime": {
     "end_time": "2025-07-27T18:22:06.564347Z",
     "start_time": "2025-07-27T18:22:05.530522Z"
    }
   },
   "outputs": [
    {
     "name": "stdout",
     "output_type": "stream",
     "text": [
      "Fluid analysis [method: closing, lang: java, env: 21.0.8] completed in 0.031390s.\n",
      "JMT Model: /tmp/workspace/jsim/14870567134225848431/jmodel.jsim\n",
      "JMT [method: default, lang: java, env: 21.0.8] completed in 0.856482s.\n"
     ]
    },
    {
     "name": "stderr",
     "output_type": "stream",
     "text": [
      "Error in getCdfRespT: Unable to determine root folder.\n"
     ]
    }
   ],
   "execution_count": 3
  },
  {
   "cell_type": "code",
   "source": "# Plot results\nimport matplotlib.pyplot as plt\n\nif RDsim[1][0] is not None and len(RDsim[1][0]) > 0:\n    plt.figure(figsize=(10, 6))\n    plt.semilogx(RDsim[1][0][:, 1], 1 - RDsim[1][0][:, 0], 'r-', label='jmt-transient')\n    plt.semilogx(RDfluid[1][0][:, 1], 1 - RDfluid[1][0][:, 0], 'k--', label='fluid-steady')\n    plt.legend(loc='best')\n    plt.ylabel('Pr(T > t)')\n    plt.xlabel('time t')\n    plt.title('Response Time Distribution and Percentiles')\n    plt.grid(True, alpha=0.3)\n    plt.show()\nelse:\n    print(\"No simulation results available for plotting\")",
   "metadata": {
    "ExecuteTime": {
     "end_time": "2025-07-27T18:22:06.577791Z",
     "start_time": "2025-07-27T18:22:06.575021Z"
    }
   },
   "outputs": [
    {
     "name": "stdout",
     "output_type": "stream",
     "text": [
      "No simulation results available for plotting\n"
     ]
    }
   ],
   "execution_count": 4
  }
 ],
 "metadata": {
  "kernelspec": {
   "display_name": "Python 3",
   "language": "python",
   "name": "python3"
  },
  "language_info": {
   "codemirror_mode": {
    "name": "ipython",
    "version": 3
   },
   "file_extension": ".py",
   "mimetype": "text/x-python",
   "name": "python",
   "nbconvert_exporter": "python",
   "pygments_lexer": "ipython3",
   "version": "3.6.4"
  }
 },
 "nbformat": 4,
 "nbformat_minor": 2
}