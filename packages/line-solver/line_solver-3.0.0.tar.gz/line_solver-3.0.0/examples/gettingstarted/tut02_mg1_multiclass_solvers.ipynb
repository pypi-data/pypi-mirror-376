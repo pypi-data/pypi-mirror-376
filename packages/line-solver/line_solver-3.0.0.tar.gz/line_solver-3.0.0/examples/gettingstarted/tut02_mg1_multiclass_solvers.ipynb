{
 "cells": [
  {
   "cell_type": "code",
   "metadata": {
    "is_executing": true,
    "ExecuteTime": {
     "end_time": "2025-07-27T17:23:08.943783Z",
     "start_time": "2025-07-27T17:23:08.081587Z"
    }
   },
   "source": [
    "from line_solver import *\n",
    "import os\n",
    "GlobalConstants.set_verbose(VerboseLevel.STD)"
   ],
   "outputs": [],
   "execution_count": 1
  },
  {
   "cell_type": "code",
   "metadata": {
    "ExecuteTime": {
     "end_time": "2025-07-27T17:23:09.111014Z",
     "start_time": "2025-07-27T17:23:09.004501Z"
    }
   },
   "source": [
    "model = Network('M/G/1')",
    "source = Source(model, 'Source')",
    "queue = Queue(model, 'Queue', SchedStrategy.FCFS)",
    "sink = Sink(model, 'Sink')",
    "jobclass1 = OpenClass(model, 'Class1')",
    "jobclass2 = OpenClass(model, 'Class2')",
    "source.set_arrival(jobclass1, Exp(0.5))",
    "source.set_arrival(jobclass2, Exp(0.5))",
    "queue.set_service(jobclass1, Erlang.fitMeanAndSCV(1.0, 1 / 3))",
    "queue.set_service(jobclass2, Replayer(lineRootFolder() + \"/examples/gettingstarted/example_trace.txt\").fitAPH())"
   ],
   "outputs": [],
   "execution_count": 2
  },
  {
   "cell_type": "code",
   "source": [
    "P = model.init_routing_matrix()\n",
    "P.set(jobclass1, Network.serialRouting(source,queue,sink))\n",
    "P.set(jobclass2, Network.serialRouting(source,queue,sink))\n",
    "model.link(P)"
   ],
   "metadata": {
    "collapsed": false,
    "ExecuteTime": {
     "end_time": "2025-07-27T17:23:09.160342Z",
     "start_time": "2025-07-27T17:23:09.119275Z"
    }
   },
   "outputs": [],
   "execution_count": 3
  },
  {
   "cell_type": "code",
   "source": "jmtAvgTable = SolverJMT(model, seed=23000).avg_table()",
   "metadata": {
    "collapsed": false,
    "ExecuteTime": {
     "end_time": "2025-07-27T17:23:10.110516Z",
     "start_time": "2025-07-27T17:23:09.176151Z"
    }
   },
   "outputs": [
    {
     "name": "stdout",
     "output_type": "stream",
     "text": [
      "JMT Model: /tmp/workspace/jsim/17485517947977639743/jmodel.jsim\n",
      "JMT [method: default, lang: java, env: 21.0.8] completed in 0.842837s.\n",
      "  Station JobClass    QLen    Util   RespT  ResidT    ArvR    Tput\n",
      "0  Source   Class1  0.0000  0.0000  0.0000  0.0000  0.0000  0.5071\n",
      "1  Source   Class2  0.0000  0.0000  0.0000  0.0000  0.0000  0.4914\n",
      "2   Queue   Class1  0.8324  0.4764  1.7504  1.7504  0.5071  0.5071\n",
      "3   Queue   Class2  0.4027  0.0503  0.8309  0.8309  0.4914  0.4914\n"
     ]
    }
   ],
   "execution_count": 4
  },
  {
   "cell_type": "code",
   "source": "ctmcAvgTable2 = SolverCTMC(model, cutoff=2, verbose=True).avg_table()",
   "metadata": {
    "ExecuteTime": {
     "end_time": "2025-07-27T17:23:10.214164Z",
     "start_time": "2025-07-27T17:23:10.121043Z"
    }
   },
   "outputs": [
    {
     "name": "stdout",
     "output_type": "stream",
     "text": [
      "CTMC analysis [method: default, lang: java, env: 21.0.8] completed in 0.070160s.\n",
      "  Station JobClass    QLen    Util   RespT  ResidT    ArvR    Tput\n",
      "0  Source   Class1  0.0000  0.0000  0.0000  0.0000  0.0000  0.4411\n",
      "1  Source   Class2  0.0000  0.0000  0.0000  0.0000  0.0000  0.4758\n",
      "2   Queue   Class1  0.5673  0.4411  1.2863  1.2863  0.4411  0.4411\n",
      "3   Queue   Class2  0.2446  0.0481  0.5140  0.5140  0.4758  0.4758\n"
     ]
    }
   ],
   "execution_count": 5
  },
  {
   "metadata": {
    "collapsed": false,
    "ExecuteTime": {
     "end_time": "2025-07-27T17:23:15.077886Z",
     "start_time": "2025-07-27T17:23:10.224350Z"
    }
   },
   "cell_type": "code",
   "source": "ctmcAvgTable4 = SolverCTMC(model, cutoff=4, verbose=True).avg_table()",
   "outputs": [
    {
     "name": "stdout",
     "output_type": "stream",
     "text": [
      "CTMC analysis [method: default, lang: java, env: 21.0.8] completed in 4.848322s.\n",
      "  Station JobClass    QLen    Util   RespT  ResidT    ArvR    Tput\n",
      "0  Source   Class1  0.0000  0.0000  0.0000  0.0000  0.0000  0.4916\n",
      "1  Source   Class2  0.0000  0.0000  0.0000  0.0000  0.0000  0.4957\n",
      "2   Queue   Class1  0.7958  0.4916  1.6187  1.6187  0.4916  0.4916\n",
      "3   Queue   Class2  0.3756  0.0501  0.7576  0.7576  0.4957  0.4957\n"
     ]
    }
   ],
   "execution_count": 6
  },
  {
   "metadata": {
    "ExecuteTime": {
     "end_time": "2025-07-27T17:23:15.116871Z",
     "start_time": "2025-07-27T17:23:15.088554Z"
    }
   },
   "cell_type": "code",
   "source": "mamAvgTable = SolverMAM(model).avg_table()",
   "outputs": [
    {
     "name": "stdout",
     "output_type": "stream",
     "text": [
      "MAM analysis [method: default, lang: java, env: 21.0.8] completed in 0.019929s. Iterations: 10000.\n",
      "  Station JobClass    QLen    Util   RespT  ResidT  ArvR  Tput\n",
      "0  Source   Class1  0.0000  0.0000  0.0000  0.0000   0.0   0.5\n",
      "1  Source   Class2  0.0000  0.0000  0.0000  0.0000   0.0   0.5\n",
      "2   Queue   Class1  0.8765  0.5000  1.7529  1.7529   0.5   0.5\n",
      "3   Queue   Class2  0.4270  0.0505  0.8540  0.8540   0.5   0.5\n"
     ]
    }
   ],
   "execution_count": 7
  }
 ],
 "metadata": {
  "kernelspec": {
   "display_name": "Python 3",
   "language": "python",
   "name": "python3"
  },
  "language_info": {
   "codemirror_mode": {
    "name": "ipython",
    "version": 3
   },
   "file_extension": ".py",
   "mimetype": "text/x-python",
   "name": "python",
   "nbconvert_exporter": "python",
   "pygments_lexer": "ipython3",
   "version": "3.6.4"
  }
 },
 "nbformat": 4,
 "nbformat_minor": 2
}