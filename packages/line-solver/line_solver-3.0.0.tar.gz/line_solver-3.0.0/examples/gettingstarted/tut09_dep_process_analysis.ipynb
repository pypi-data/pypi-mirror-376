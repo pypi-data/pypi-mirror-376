{
 "cells": [
  {
   "cell_type": "code",
   "metadata": {
    "ExecuteTime": {
     "end_time": "2025-07-27T17:24:28.115097Z",
     "start_time": "2025-07-27T17:24:28.111488Z"
    }
   },
   "source": [
    "from line_solver import *\n",
    "import numpy as np"
   ],
   "outputs": [],
   "execution_count": 8
  },
  {
   "cell_type": "code",
   "metadata": {
    "ExecuteTime": {
     "end_time": "2025-07-27T17:24:28.129313Z",
     "start_time": "2025-07-27T17:24:28.127013Z"
    }
   },
   "source": [
    "model, source, queue, sink, oclass = gallery_merl1()"
   ],
   "outputs": [],
   "execution_count": 9
  },
  {
   "cell_type": "code",
   "metadata": {
    "ExecuteTime": {
     "end_time": "2025-07-27T17:24:28.178910Z",
     "start_time": "2025-07-27T17:24:28.175541Z"
    }
   },
   "source": "solver = SolverCTMC(model, cutoff=150, seed=23000, verbose=VerboseLevel.SILENT)",
   "outputs": [],
   "execution_count": 10
  },
  {
   "metadata": {
    "ExecuteTime": {
     "end_time": "2025-07-27T17:24:34.578229Z",
     "start_time": "2025-07-27T17:24:28.225096Z"
    }
   },
   "cell_type": "code",
   "source": "sa = solver.sample_sys_aggr(5000)",
   "outputs": [],
   "execution_count": 11
  },
  {
   "cell_type": "code",
   "metadata": {
    "ExecuteTime": {
     "end_time": "2025-07-27T17:24:34.592165Z",
     "start_time": "2025-07-27T17:24:34.588651Z"
    }
   },
   "source": [
    "ind = model.get_node_index(queue)\n",
    "\n",
    "# Filter events for departures from the queue\n",
    "dep_times = []\n",
    "for event in sa.event:\n",
    "    if event.node == ind and event.event == \"DEP\":\n",
    "        dep_times.append(event.t)\n",
    "\n",
    "print(f\"Found {len(dep_times)} departure events from queue\")\n",
    "\n",
    "if len(dep_times) > 1:\n",
    "    inter_dep_times = np.diff(dep_times)\n",
    "    # Estimated squared coefficient of variation of departures\n",
    "    scv_d_est = np.var(inter_dep_times) / np.mean(inter_dep_times)**2\n",
    "    print(f\"Simulated SCV of departures: {scv_d_est}\")\n",
    "else:\n",
    "    print(\"Error: Insufficient departure events found\")\n",
    "    print(f\"Total events generated: {len(sa.event)}\")\n",
    "    print(f\"Sample of events: {[(e.node, e.event, e.t) for e in sa.event[:5]]}\")"
   ],
   "outputs": [
    {
     "name": "stdout",
     "output_type": "stream",
     "text": [
      "Found 1666 departure events from queue\n",
      "Simulated SCV of departures: 0.7927766006094973\n"
     ]
    }
   ],
   "execution_count": 12
  },
  {
   "cell_type": "code",
   "metadata": {
    "ExecuteTime": {
     "end_time": "2025-07-27T17:24:34.648956Z",
     "start_time": "2025-07-27T17:24:34.646781Z"
    }
   },
   "source": [
    "# Get queue utilization and waiting time\n",
    "util = solver.get_avg_util()\n",
    "util_queue = util[queue][0]\n",
    "avg_wait_time = solver.get_avg_wait_t()\n",
    "avg_wait_time_queue = avg_wait_time[ind]"
   ],
   "outputs": [],
   "execution_count": 13
  },
  {
   "metadata": {
    "ExecuteTime": {
     "end_time": "2025-07-27T17:26:10.656539Z",
     "start_time": "2025-07-27T17:26:10.563266Z"
    }
   },
   "cell_type": "code",
   "source": [
    "# Marshall's exact formula for SCV of departures\n",
    "scv_a = source.get_arrival_process(oclass).get_scv()\n",
    "svc_rate = queue.get_service_process(oclass).get_rate()\n",
    "scv_s = queue.get_service_process(oclass).get_scv()\n",
    "scv_d = scv_a + 2*util_queue**2*scv_s - 2*util_queue*(1-util_queue)*svc_rate*avg_wait_time_queue\n",
    "print(f\"Theoretical SCV of departures (Marshall's formula): {scv_d}\")\n",
    "\n",
    "# Calculate relative error between simulated and theoretical SCV  \n",
    "if 'scv_d_est' in locals():\n",
    "    relative_error = abs(scv_d_est - scv_d[0]) / scv_d[0] * 100\n",
    "    print(f\"\\n=== Departure Process Analysis Results ===\")\n",
    "    print(f\"Simulated SCV of departures:   {scv_d_est:.6f}\")\n",
    "    print(f\"Theoretical SCV (Marshall):    {scv_d[0]:.6f}\")\n",
    "    print(f\"Relative error:                {relative_error:.2f}%\")\n",
    "else:\n",
    "    print(\"\\nCannot calculate relative error - simulation failed\")"
   ],
   "outputs": [
    {
     "ename": "AttributeError",
     "evalue": "'Source' object has no attribute 'get_arrival_process'",
     "output_type": "error",
     "traceback": [
      "\u001B[31m---------------------------------------------------------------------------\u001B[39m",
      "\u001B[31mAttributeError\u001B[39m                            Traceback (most recent call last)",
      "\u001B[36mCell\u001B[39m\u001B[36m \u001B[39m\u001B[32mIn[15]\u001B[39m\u001B[32m, line 2\u001B[39m\n\u001B[32m      1\u001B[39m \u001B[38;5;66;03m# Marshall's exact formula for SCV of departures\u001B[39;00m\n\u001B[32m----> \u001B[39m\u001B[32m2\u001B[39m scv_a = \u001B[43msource\u001B[49m\u001B[43m.\u001B[49m\u001B[43mget_arrival_process\u001B[49m(oclass).get_scv()\n\u001B[32m      3\u001B[39m svc_rate = queue.get_service_process(oclass).get_rate()\n\u001B[32m      4\u001B[39m scv_s = queue.get_service_process(oclass).get_scv()\n",
      "\u001B[31mAttributeError\u001B[39m: 'Source' object has no attribute 'get_arrival_process'"
     ]
    }
   ],
   "execution_count": 15
  }
 ],
 "metadata": {
  "kernelspec": {
   "display_name": "Python 3",
   "language": "python",
   "name": "python3"
  },
  "language_info": {
   "codemirror_mode": {
    "name": "ipython",
    "version": 3
   },
   "file_extension": ".py",
   "mimetype": "text/x-python",
   "name": "python",
   "nbconvert_exporter": "python",
   "pygments_lexer": "ipython3",
   "version": "3.8.5"
  }
 },
 "nbformat": 4,
 "nbformat_minor": 4
}
