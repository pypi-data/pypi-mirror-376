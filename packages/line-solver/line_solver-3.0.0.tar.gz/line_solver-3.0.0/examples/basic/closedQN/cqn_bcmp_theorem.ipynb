{
 "cells": [
  {
   "cell_type": "code",
   "metadata": {
    "ExecuteTime": {
     "end_time": "2025-07-30T22:15:12.668286Z",
     "start_time": "2025-07-30T22:15:11.800278Z"
    }
   },
   "source": [
    "from line_solver import *\n",
    "\n",
    "import numpy as np\n",
    "GlobalConstants.set_verbose(VerboseLevel.STD)"
   ],
   "outputs": [],
   "execution_count": 1
  },
  {
   "metadata": {
    "ExecuteTime": {
     "end_time": "2025-07-30T22:15:12.675722Z",
     "start_time": "2025-07-30T22:15:12.673485Z"
    }
   },
   "cell_type": "code",
   "source": [
    "#Comparison of product-form scheduling policies\n",
    "c = 1"
   ],
   "outputs": [],
   "execution_count": 2
  },
  {
   "metadata": {
    "ExecuteTime": {
     "end_time": "2025-07-30T22:15:12.750891Z",
     "start_time": "2025-07-30T22:15:12.729089Z"
    }
   },
   "cell_type": "code",
   "source": [
    "# PS (Processor Sharing) Model",
    "psmodel = Network('PS scheduling model')",
    "",
    "node = np.empty(2, dtype = object)",
    "node[0] = Delay(psmodel, 'Delay')",
    "node[1] = Queue(psmodel, 'Queue1', SchedStrategy.PS)",
    "node[1].set_number_of_servers(c)",
    "",
    "jobclass = np.empty(2, dtype = object)",
    "jobclass[0] = ClosedClass(psmodel, 'Class1', 2, node[0], 0)",
    "jobclass[1] = ClosedClass(psmodel, 'Class2', 2, node[0], 0)",
    "",
    "node[0].set_service(jobclass[0], Erlang(3, 2))",
    "node[0].set_service(jobclass[1], HyperExp(0.5, 3.0, 10.0))",
    "node[1].set_service(jobclass[0], Exp(1))",
    "node[1].set_service(jobclass[1], Exp(1))",
    "",
    "P = psmodel.init_routing_matrix()",
    "P.set(jobclass[0], jobclass[0], node[0], node[1], 1.0)",
    "P.set(jobclass[0], jobclass[0], node[1], node[0], 1.0)",
    "P.set(jobclass[1], jobclass[1], node[0], node[1], 1.0)",
    "P.set(jobclass[1], jobclass[1], node[1], node[0], 1.0)",
    "psmodel.link(P)"
   ],
   "outputs": [],
   "execution_count": 3
  },
  {
   "metadata": {
    "ExecuteTime": {
     "end_time": "2025-07-30T22:15:12.792090Z",
     "start_time": "2025-07-30T22:15:12.788963Z"
    }
   },
   "cell_type": "code",
   "source": [
    "# FCFS (First-Come-First-Served) Model\n",
    "fcfsmodel = Network('FCFS scheduling model')\n",
    "\n",
    "node = np.empty(2, dtype = object)\n",
    "node[0] = Delay(fcfsmodel, 'Delay')\n",
    "node[1] = Queue(fcfsmodel, 'Queue1', SchedStrategy.FCFS)\n",
    "node[1].set_number_of_servers(c)\n",
    "jobclass = np.empty(2, dtype = object)\n",
    "jobclass[0] = ClosedClass(fcfsmodel, 'Class1', 2, node[0], 0)\n",
    "jobclass[1] = ClosedClass(fcfsmodel, 'Class2', 2, node[0], 0)\n",
    "node[0].set_service(jobclass[0], Erlang(3, 2))\n",
    "node[0].set_service(jobclass[1], HyperExp(0.5, 3.0, 10.0))\n",
    "node[1].set_service(jobclass[0], Exp(1))\n",
    "node[1].set_service(jobclass[1], Exp(1))\n",
    "P = fcfsmodel.init_routing_matrix()\n",
    "P.set(jobclass[0], jobclass[0], node[0], node[1], 1.0)\n",
    "P.set(jobclass[0], jobclass[0], node[1], node[0], 1.0)\n",
    "P.set(jobclass[1], jobclass[1], node[0], node[1], 1.0)\n",
    "P.set(jobclass[1], jobclass[1], node[1], node[0], 1.0)\n",
    "fcfsmodel.link(P)"
   ],
   "outputs": [],
   "execution_count": 4
  },
  {
   "metadata": {
    "ExecuteTime": {
     "end_time": "2025-07-30T22:15:12.844924Z",
     "start_time": "2025-07-30T22:15:12.841847Z"
    }
   },
   "cell_type": "code",
   "source": [
    "# LCFS-PR (Last-Come-First-Served Preemptive Resume) Model\n",
    "lcfsprmodel = Network('LCFS-PR scheduling model')\n",
    "\n",
    "node = np.empty(2, dtype = object)\n",
    "node[0] = Delay(lcfsprmodel, 'Delay')\n",
    "node[1] = Queue(lcfsprmodel, 'Queue1', SchedStrategy.LCFSPR)\n",
    "node[1].set_number_of_servers(c)\n",
    "jobclass = np.empty(2, dtype = object)\n",
    "jobclass[0] = ClosedClass(lcfsprmodel, 'Class1', 2, node[0], 0)\n",
    "jobclass[1] = ClosedClass(lcfsprmodel, 'Class2', 2, node[0], 0)\n",
    "node[0].set_service(jobclass[0], Erlang(3, 2))\n",
    "node[0].set_service(jobclass[1], HyperExp(0.5, 3.0, 10.0))\n",
    "node[1].set_service(jobclass[0], Exp(1))\n",
    "node[1].set_service(jobclass[1], Exp(1))\n",
    "P = lcfsprmodel.init_routing_matrix()\n",
    "P.set(jobclass[0], jobclass[0], node[0], node[1], 1.0)\n",
    "P.set(jobclass[0], jobclass[0], node[1], node[0], 1.0)\n",
    "P.set(jobclass[1], jobclass[1], node[0], node[1], 1.0)\n",
    "P.set(jobclass[1], jobclass[1], node[1], node[0], 1.0)\n",
    "lcfsprmodel.link(P)"
   ],
   "outputs": [],
   "execution_count": 5
  },
  {
   "metadata": {
    "ExecuteTime": {
     "end_time": "2025-07-30T22:15:13.073542Z",
     "start_time": "2025-07-30T22:15:12.890557Z"
    }
   },
   "cell_type": "code",
   "source": "# Aligned with JAR test scenarios for cqn_bcmp_theorem\n# JAR tests: PS-CTMC(), FCFS-CTMC(), LCFSPR-CTMC()\n\n# Solve all models with CTMC solver (matches JAR)\nmodels = [psmodel, fcfsmodel, lcfsprmodel]\nmodel_names = ['PS scheduling model', 'FCFS scheduling model', 'LCFS-PR scheduling model']\nfor i, model in enumerate(models):\n    print(f'MODEL: {model_names[i]}')\n    solver = SolverCTMC(model)\n    avgTable = solver.get_avg_table()",
   "outputs": [],
   "execution_count": null
  }
 ],
 "metadata": {
  "kernelspec": {
   "display_name": "Python 3",
   "language": "python",
   "name": "python3"
  },
  "language_info": {
   "codemirror_mode": {
    "name": "ipython",
    "version": 3
   },
   "file_extension": ".py",
   "mimetype": "text/x-python",
   "name": "python",
   "nbconvert_exporter": "python",
   "pygments_lexer": "ipython3",
   "version": "3.8.0"
  }
 },
 "nbformat": 4,
 "nbformat_minor": 4
}