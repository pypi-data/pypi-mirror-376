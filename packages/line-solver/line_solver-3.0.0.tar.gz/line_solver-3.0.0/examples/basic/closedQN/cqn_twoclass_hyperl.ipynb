{
 "cells": [
  {
   "cell_type": "code",
   "source": "from line_solver import *\nimport numpy as np\nGlobalConstants.set_verbose(VerboseLevel.STD)",
   "metadata": {
    "ExecuteTime": {
     "end_time": "2025-07-30T22:13:09.598388Z",
     "start_time": "2025-07-30T22:13:08.666239Z"
    }
   },
   "outputs": [],
   "execution_count": 1
  },
  {
   "metadata": {
    "ExecuteTime": {
     "end_time": "2025-07-30T22:13:09.678381Z",
     "start_time": "2025-07-30T22:13:09.650388Z"
    }
   },
   "cell_type": "code",
   "source": [
    "model = Network('model')\n",
    "\n",
    "node = np.empty(2, dtype=object)\n",
    "node[0] = Delay(model, 'Delay')\n",
    "node[1] = Queue(model, 'Queue1', SchedStrategy.PS)\n",
    "\n",
    "jobclass = np.empty(2, dtype=object)\n",
    "jobclass[0] = ClosedClass(model, 'Class1', 2, node[0], 0)\n",
    "jobclass[1] = ClosedClass(model, 'Class2', 2, node[0], 0)\n",
    "\n",
    "node[0].set_service(jobclass[0], Erlang(3, 2))\n",
    "node[0].set_service(jobclass[1], HyperExp(0.5, 3.0, 10.0))\n",
    "\n",
    "node[1].set_service(jobclass[0], HyperExp(0.1, 1.0, 10.0))\n",
    "node[1].set_service(jobclass[1], Exp(1))\n",
    "\n",
    "P = model.init_routing_matrix()\n",
    "P.set(jobclass[0], jobclass[0], node[0], node[0], 0.3)\n",
    "P.set(jobclass[0], jobclass[0], node[0], node[1], 0.1)\n",
    "P.set(jobclass[0], jobclass[0], node[1], node[0], 0.2)\n",
    "\n",
    "P.set(jobclass[0], jobclass[1], node[0], node[0], 0.6)\n",
    "P.set(jobclass[0], jobclass[1], node[1], node[0], 0.8)\n",
    "\n",
    "P.set(jobclass[1], jobclass[0], node[1], node[0], 1.0)\n",
    "\n",
    "P.set(jobclass[1], jobclass[1], node[0], node[1], 1.0)\n",
    "\n",
    "model.link(P)"
   ],
   "outputs": [],
   "execution_count": 2
  },
  {
   "metadata": {
    "ExecuteTime": {
     "end_time": "2025-07-30T22:13:18.104849Z",
     "start_time": "2025-07-30T22:13:09.703900Z"
    }
   },
   "cell_type": "code",
   "source": "# Aligned with JAR test scenarios for cqn_twoclass_hyperl\n# JAR tests: CTMC(), JMT(seed=23000, samples=5000), SSA(seed=23000, samples=5000),\n#           Fluid(), MVA(method=\"exact\"), NC(method=\"exact\"), MAM()\n\nsolver = np.array([], dtype=object)\n\n# CTMC with default settings (matches JAR)\nsolver = np.append(solver, SolverCTMC(model))\n\n# JMT with seed=23000, samples=5000 (matches JAR)\nsolver = np.append(solver, SolverJMT(model, seed=23000, samples=5000))\n\n# SSA with seed=23000, samples=5000 (matches JAR)\nsolver = np.append(solver, SolverSSA(model, seed=23000, samples=5000))\n\n# Fluid with default settings (matches JAR)\nsolver = np.append(solver, SolverFluid(model))\n\n# MVA with method=\"exact\" (matches JAR)\nsolver = np.append(solver, SolverMVA(model, method='exact'))\n\n# NC with method=\"exact\" (matches JAR)\nsolver = np.append(solver, SolverNC(model, method='exact'))\n\n# MAM with default settings (matches JAR)\nsolver = np.append(solver, SolverMAM(model))\n\nAvgTable = np.empty(len(solver), dtype=object)\nfor s in range(len(solver)):\n    print(f'\\\\nSOLVER: {solver[s].get_name()}')\n    AvgTable[s] = solver[s].get_avg_table()",
   "outputs": [],
   "execution_count": null
  }
 ],
 "metadata": {
  "kernelspec": {
   "display_name": "Python 3",
   "language": "python",
   "name": "python3"
  },
  "language_info": {
   "codemirror_mode": {
    "name": "ipython",
    "version": 3
   },
   "file_extension": ".py",
   "mimetype": "text/x-python",
   "name": "python",
   "nbconvert_exporter": "python",
   "pygments_lexer": "ipython3",
   "version": "3.9.0"
  }
 },
 "nbformat": 4,
 "nbformat_minor": 4
}