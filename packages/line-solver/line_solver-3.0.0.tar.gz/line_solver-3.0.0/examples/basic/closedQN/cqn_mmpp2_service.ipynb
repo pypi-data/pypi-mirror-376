{
 "cells": [
  {
   "cell_type": "code",
   "metadata": {
    "ExecuteTime": {
     "end_time": "2025-07-30T22:15:43.024001Z",
     "start_time": "2025-07-30T22:15:43.021338Z"
    }
   },
   "source": [
    "from line_solver import *\n",
    "import numpy as np\n",
    "GlobalConstants.set_verbose(VerboseLevel.STD)"
   ],
   "outputs": [],
   "execution_count": 12
  },
  {
   "cell_type": "code",
   "metadata": {
    "ExecuteTime": {
     "end_time": "2025-07-30T22:15:43.042629Z",
     "start_time": "2025-07-30T22:15:43.039512Z"
    }
   },
   "source": [
    "# Create network\n",
    "model = Network('model')\n",
    "\n",
    "# Block 1: nodes\n",
    "node = np.empty(3, dtype=object)\n",
    "node[0] = Delay(model, 'Delay')\n",
    "node[1] = Queue(model, 'Queue1', SchedStrategy.PS)\n",
    "node[2] = Queue(model, 'Queue2', SchedStrategy.PS)\n",
    "\n",
    "# Block 2: classes (1 job each)\n",
    "jobclass = np.empty(2, dtype=object)\n",
    "jobclass[0] = ClosedClass(model, 'Class1', 1, node[0], 0)\n",
    "jobclass[1] = ClosedClass(model, 'Class2', 1, node[0], 0)\n",
    "\n",
    "print(\"Network created with 3 nodes and 2 classes (1 job each)\")\n",
    "print(f\"  {node[0].get_name()}: Delay node\")\n",
    "print(f\"  {node[1].get_name()}: PS Queue\")\n",
    "print(f\"  {node[2].get_name()}: PS Queue\")"
   ],
   "outputs": [
    {
     "name": "stdout",
     "output_type": "stream",
     "text": [
      "Network created with 3 nodes and 2 classes (1 job each)\n",
      "  Delay: Delay node\n",
      "  Queue1: PS Queue\n",
      "  Queue2: PS Queue\n"
     ]
    }
   ],
   "execution_count": 13
  },
  {
   "cell_type": "code",
   "metadata": {
    "ExecuteTime": {
     "end_time": "2025-07-30T22:15:43.102356Z",
     "start_time": "2025-07-30T22:15:43.098998Z"
    }
   },
   "source": [
    "# Set advanced service distributions",
    "",
    "# Delay node - mixed distributions",
    "node[0].set_service(jobclass[0], Erlang.fitMeanAndOrder(3, 2))  # Erlang with mean=3, shape=2",
    "node[0].set_service(jobclass[1], HyperExp(0.5, 3.0, 10.0))     # HyperExp with prob=0.5, rates=3.0,10.0",
    "",
    "print(\"Delay node distributions:\")",
    "print(\"  Class1: Erlang(mean=3, shape=2) - Low variability\")",
    "print(\"  Class2: HyperExp(p=0.5, λ1=3, λ2=10) - High variability\")",
    "",
    "# Queue1 - HyperExp and MMPP2",
    "node[1].set_service(jobclass[0], HyperExp(0.1, 1.0, 10.0))     # HyperExp with prob=0.1, rates=1.0,10.0",
    "node[1].set_service(jobclass[1], MMPP2(1, 2, 3, 4))           # MMPP2 with parameters λ0=1, λ1=2, σ01=3, σ10=4",
    "",
    "print(\"\\nQueue1 distributions:\")",
    "print(\"  Class1: HyperExp(p=0.1, λ1=1, λ2=10) - Very high variability\")",
    "print(\"  Class2: MMPP2(λ0=1, λ1=2, σ01=3, σ10=4) - Markov Modulated Poisson Process\")",
    "",
    "# Queue2 - HyperExp and Erlang",
    "node[2].set_service(jobclass[0], HyperExp(0.1, 1.0, 10.0))     # Same as Queue1 for Class1",
    "node[2].set_service(jobclass[1], Erlang(1, 2))                 # Erlang with rate=1, shape=2",
    "",
    "print(\"\\nQueue2 distributions:\")",
    "print(\"  Class1: HyperExp(p=0.1, λ1=1, λ2=10) - Same as Queue1\")",
    "print(\"  Class2: Erlang(rate=1, shape=2) - Low variability\")"
   ],
   "outputs": [
    {
     "name": "stdout",
     "output_type": "stream",
     "text": [
      "=== Setting Advanced Service Distributions ===\n",
      "Delay node distributions:\n",
      "  Class1: Erlang(mean=3, shape=2) - Low variability\n",
      "  Class2: HyperExp(p=0.5, λ1=3, λ2=10) - High variability\n",
      "\n",
      "Queue1 distributions:\n",
      "  Class1: HyperExp(p=0.1, λ1=1, λ2=10) - Very high variability\n",
      "  Class2: MMPP2(λ0=1, λ1=2, σ01=3, σ10=4) - Markov Modulated Poisson Process\n",
      "\n",
      "Queue2 distributions:\n",
      "  Class1: HyperExp(p=0.1, λ1=1, λ2=10) - Same as Queue1\n",
      "  Class2: Erlang(rate=1, shape=2) - Low variability\n"
     ]
    }
   ],
   "execution_count": 14
  },
  {
   "cell_type": "code",
   "metadata": {
    "ExecuteTime": {
     "end_time": "2025-07-30T22:15:43.164528Z",
     "start_time": "2025-07-30T22:15:43.161093Z"
    }
   },
   "source": [
    "# Set up connectivity\n",
    "model.add_link(node[0], node[0])  # Delay can route to itself\n",
    "model.add_link(node[0], node[1])  # Delay -> Queue1\n",
    "model.add_link(node[0], node[2])  # Delay -> Queue2\n",
    "model.add_link(node[1], node[0])  # Queue1 -> Delay\n",
    "model.add_link(node[2], node[0])  # Queue2 -> Delay\n",
    "\n",
    "print(\"\\n=== Configuring Routing Strategies ===\")\n",
    "\n",
    "# Class1: Probabilistic routing from Delay\n",
    "node[0].setProbRouting(jobclass[0], node[0], 0.0)  # No self-loop for Class1\n",
    "node[0].setProbRouting(jobclass[0], node[1], 0.3)  # 30% to Queue1\n",
    "node[0].setProbRouting(jobclass[0], node[2], 0.7)  # 70% to Queue2\n",
    "node[1].setProbRouting(jobclass[0], node[0], 1.0)  # Queue1 -> Delay (deterministic)\n",
    "node[2].setProbRouting(jobclass[0], node[0], 1.0)  # Queue2 -> Delay (deterministic)\n",
    "\n",
    "print(\"Class1 routing (Probabilistic):\")\n",
    "print(\"  From Delay: 30% Queue1, 70% Queue2\")\n",
    "print(\"  From Queues: 100% back to Delay\")\n",
    "\n",
    "# Class2: Random routing strategy\n",
    "node[0].set_routing(jobclass[1], RoutingStrategy.RAND)  # Random from Delay\n",
    "node[1].set_routing(jobclass[1], RoutingStrategy.RAND)  # Random from Queue1\n",
    "node[2].set_routing(jobclass[1], RoutingStrategy.RAND)  # Random from Queue2\n",
    "\n",
    "print(\"\\nClass2 routing (Random):\")\n",
    "print(\"  All nodes use random routing among connected destinations\")"
   ],
   "outputs": [
    {
     "name": "stdout",
     "output_type": "stream",
     "text": [
      "\n",
      "=== Configuring Routing Strategies ===\n",
      "Class1 routing (Probabilistic):\n",
      "  From Delay: 30% Queue1, 70% Queue2\n",
      "  From Queues: 100% back to Delay\n",
      "\n",
      "Class2 routing (Random):\n",
      "  All nodes use random routing among connected destinations\n"
     ]
    }
   ],
   "execution_count": 15
  },
  {
   "cell_type": "code",
   "metadata": {
    "ExecuteTime": {
     "end_time": "2025-07-30T22:15:43.220738Z",
     "start_time": "2025-07-30T22:15:43.218349Z"
    }
   },
   "source": [
    "# Link the routing matrix\n",
    "P = model.init_routing_matrix()\n",
    "model.link(P)\n",
    "\n",
    "print(\"Routing matrix linked successfully\")\n",
    "print(\"\\nModel configuration complete!\")"
   ],
   "outputs": [
    {
     "name": "stdout",
     "output_type": "stream",
     "text": [
      "Routing matrix linked successfully\n",
      "\n",
      "Model configuration complete!\n"
     ]
    },
    {
     "name": "stderr",
     "output_type": "stream",
     "text": [
      "Jul 30, 2025 11:15:43 PM jline.io.InputOutputKt line_printf\n",
      "WARNING: Warning [link]: Warning message casted more than once, repetitions will not be printed on screen for 60 seconds.\n",
      "\n"
     ]
    }
   ],
   "execution_count": 16
  },
  {
   "cell_type": "code",
   "metadata": {
    "ExecuteTime": {
     "end_time": "2025-07-30T22:15:43.293500Z",
     "start_time": "2025-07-30T22:15:43.287322Z"
    }
   },
   "source": [
    "# Aligned with JAR test scenarios for cqn_mmpp2_service",
    "# JAR tests: JMT(seed=23000) only",
    "",
    "# Configure solver (using JMT as it handles advanced distributions well)",
    "",
    "solver = SolverJMT(model, seed=23000)",
    "",
    "print(\"Solver configured with seed=23000 (matches JAR)\")"
   ],
   "outputs": [],
   "execution_count": null
  },
  {
   "cell_type": "code",
   "metadata": {
    "ExecuteTime": {
     "end_time": "2025-07-30T22:15:44.374832Z",
     "start_time": "2025-07-30T22:15:43.358487Z"
    }
   },
   "source": [
    "# Solve the model\n",
    "print(f'\\n=== SOLVER: {solver.get_name()} ===')\n",
    "avg_table = solver.get_avg_table()\n",
    "print(avg_table)"
   ],
   "outputs": [
    {
     "name": "stdout",
     "output_type": "stream",
     "text": [
      "\n",
      "=== SOLVER: SolverJMT ===\n",
      "JMT Model: /tmp/workspace/jsim/17557913342183253771/jmodel.jsim\n",
      "JMT [method: default, lang: java, env: 21.0.8] completed in 1.008300s.\n",
      "  Station JobClass    QLen    Util   RespT  ResidT    ArvR    Tput\n",
      "0   Delay   Class1  0.9101  0.9101  2.9593  2.9593  0.3071  0.3072\n",
      "1   Delay   Class2  0.1870  0.1870  0.2174  0.2174  0.8582  0.8583\n",
      "2  Queue1   Class1  0.0208  0.0170  0.2280  0.0684  0.0908  0.0908\n",
      "3  Queue1   Class2  0.2022  0.1992  0.7076  0.2359  0.2880  0.2876\n",
      "4  Queue2   Class1  0.0685  0.0421  0.3070  0.2149  0.2155  0.2155\n",
      "5  Queue2   Class2  0.6105  0.5942  2.0809  0.6936  0.2929  0.2953\n",
      "  Station JobClass    QLen    Util   RespT  ResidT    ArvR    Tput\n",
      "0   Delay   Class1  0.9101  0.9101  2.9593  2.9593  0.3071  0.3072\n",
      "1   Delay   Class2  0.1870  0.1870  0.2174  0.2174  0.8582  0.8583\n",
      "2  Queue1   Class1  0.0208  0.0170  0.2280  0.0684  0.0908  0.0908\n",
      "3  Queue1   Class2  0.2022  0.1992  0.7076  0.2359  0.2880  0.2876\n",
      "4  Queue2   Class1  0.0685  0.0421  0.3070  0.2149  0.2155  0.2155\n",
      "5  Queue2   Class2  0.6105  0.5942  2.0809  0.6936  0.2929  0.2953\n"
     ]
    }
   ],
   "execution_count": 18
  }
 ],
 "metadata": {
  "kernelspec": {
   "display_name": "Python 3",
   "language": "python",
   "name": "python3"
  },
  "language_info": {
   "codemirror_mode": {
    "name": "ipython",
    "version": 3
   },
   "file_extension": ".py",
   "mimetype": "text/x-python",
   "name": "python",
   "nbconvert_exporter": "python",
   "pygments_lexer": "ipython3",
   "version": "3.8.5"
  }
 },
 "nbformat": 4,
 "nbformat_minor": 4
}