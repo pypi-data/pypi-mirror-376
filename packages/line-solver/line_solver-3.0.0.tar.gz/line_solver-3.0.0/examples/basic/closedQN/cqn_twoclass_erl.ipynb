{
 "cells": [
  {
   "metadata": {
    "ExecuteTime": {
     "end_time": "2025-07-30T22:13:51.911293Z",
     "start_time": "2025-07-30T22:13:50.969919Z"
    }
   },
   "cell_type": "code",
   "source": [
    "from line_solver import *\n",
    "import numpy as np\n",
    "GlobalConstants.set_verbose(VerboseLevel.STD)"
   ],
   "id": "e49b037df98b45c2",
   "outputs": [],
   "execution_count": 1
  },
  {
   "metadata": {
    "ExecuteTime": {
     "end_time": "2025-07-30T22:13:52.058913Z",
     "start_time": "2025-07-30T22:13:51.985702Z"
    }
   },
   "cell_type": "code",
   "source": "model = Network('model')\n# Create models\nnode = np.empty(4, dtype = object)\nnode[0] = ClassSwitch(model, 'CS', [[0, 1], [1, 0]])\nnode[1] = Queue(model, 'Queue1', SchedStrategy.PS)\nnode[2] = Queue(model, 'Queue2', SchedStrategy.PS)\nnode[3] = Queue(model, 'Delay', SchedStrategy.INF)\n\n# Create job classes\njobclass = np.empty(2, dtype = object)\njobclass[0] = ClosedClass(model, 'Class1', 15, node[3], 0)\njobclass[1] = ClosedClass(model, 'Class2', 5, node[3], 0)\n\n# Set service times\nnode[1].set_service(jobclass[0], Exp.fitMean(1.5))  #mean = 1.5\nnode[1].set_service(jobclass[1], Erlang.fitMeanAndOrder(1.5, 2))  #mean = 1.5\n\nnode[2].set_service(jobclass[0], Erlang.fitMeanAndOrder(1.5, 2))  #mean = 1.5\nnode[2].set_service(jobclass[1], Exp.fitMean(1.5))  #mean = 1.5\n\nnode[3].set_service(jobclass[0], Exp.fitMean(1.0))  #mean = 1\nnode[3].set_service(jobclass[1], Exp.fitMean(1.0))  #mean = 1\n\n# Add links\nmodel.add_link(node[1], node[0])\nmodel.add_link(node[2], node[0])\nmodel.add_link(node[0], node[3])\nmodel.add_link(node[3], node[1])\nmodel.add_link(node[3], node[2])\n\n# Set routing strategies\nnode[0].set_routing(jobclass[0], RoutingStrategy.RAND)\nnode[1].set_routing(jobclass[0], RoutingStrategy.RAND)\nnode[2].set_routing(jobclass[0], RoutingStrategy.RAND)\nnode[3].set_routing(jobclass[0], RoutingStrategy.RROBIN)\n\nnode[0].set_routing(jobclass[1], RoutingStrategy.RAND)\nnode[1].set_routing(jobclass[1], RoutingStrategy.RAND)\nnode[2].set_routing(jobclass[1], RoutingStrategy.RAND)\nnode[3].set_routing(jobclass[1], RoutingStrategy.WRROBIN, node[1], 1)\nnode[3].set_routing(jobclass[1], RoutingStrategy.WRROBIN, node[2], 2)",
   "id": "f9e6dd94a85a54a8",
   "outputs": [],
   "execution_count": 2
  },
  {
   "metadata": {
    "ExecuteTime": {
     "end_time": "2025-07-30T22:13:53.164520Z",
     "start_time": "2025-07-30T22:13:52.066586Z"
    }
   },
   "cell_type": "code",
   "source": [
    "# Solve with SolverJMT\n",
    "simoptions = SolverJMT.defaultOptions()\n",
    "simoptions.verbose = True\n",
    "simoptions.seed = 23000\n",
    "solver = np.array([], dtype = object)\n",
    "solver = np.append(solver, SolverJMT(model, simoptions))\n",
    "\n",
    "AvgTable = np.empty(len(solver), dtype = object)\n",
    "for s in range(len(solver)):\n",
    "    print(f'\\nSOLVER: {solver[s].get_name()}')\n",
    "    AvgTable[s] = solver[s].get_avg_table()"
   ],
   "id": "4c97c44e671ea563",
   "outputs": [
    {
     "name": "stdout",
     "output_type": "stream",
     "text": [
      "\n",
      "SOLVER: SolverJMT\n",
      "JMT Model: /tmp/workspace/jsim/11635613029177468032/jmodel.jsim\n",
      "JMT [method: default, lang: java, env: 21.0.8] completed in 1.000450s.\n",
      "  Station JobClass    QLen    Util    RespT  ResidT    ArvR    Tput\n",
      "0  Queue1   Class1  0.8618  0.4264   3.0767  0.7692  0.2857  0.2854\n",
      "1  Queue1   Class2  0.5490  0.2855   2.8913  0.7228  0.1920  0.1926\n",
      "2  Queue2   Class1  7.4570  0.4282  26.1672  6.5418  0.2852  0.2854\n",
      "3  Queue2   Class2  9.9248  0.5718  26.0750  6.5188  0.3787  0.3789\n",
      "4   Delay   Class1  0.5635  0.5635   0.9954  0.4977  0.5678  0.5697\n",
      "5   Delay   Class2  0.5857  0.5857   1.0176  0.5088  0.5746  0.5745\n"
     ]
    }
   ],
   "execution_count": 3
  }
 ],
 "metadata": {},
 "nbformat": 4,
 "nbformat_minor": 5
}
