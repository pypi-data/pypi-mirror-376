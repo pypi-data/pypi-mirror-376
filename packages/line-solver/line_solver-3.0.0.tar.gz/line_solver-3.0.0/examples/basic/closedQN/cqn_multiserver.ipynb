{
 "cells": [
  {
   "cell_type": "code",
   "source": [
    "from line_solver import *\n",
    "GlobalConstants.set_verbose(VerboseLevel.STD)"
   ],
   "metadata": {
    "collapsed": false,
    "ExecuteTime": {
     "end_time": "2025-07-30T22:14:54.494913Z",
     "start_time": "2025-07-30T22:14:53.578853Z"
    }
   },
   "outputs": [],
   "execution_count": 1
  },
  {
   "cell_type": "code",
   "source": [
    "model = Network('model')\n",
    "\n",
    "# Block 1: nodes\n",
    "node1 = Delay(model, \"Delay\")\n",
    "node2 = Queue(model, \"Queue1\", SchedStrategy.FCFS)\n",
    "node3 = Queue(model, \"Queue2\", SchedStrategy.FCFS)\n",
    "node2.set_number_of_servers(3)\n",
    "node3.set_number_of_servers(3)\n",
    "\n",
    "# Block 2: classes\n",
    "jobclass1 = ClosedClass(model, \"Class1\", 2, node1, 0)\n",
    "jobclass2 = ClosedClass(model, \"Class2\", 2, node1, 0)\n",
    "jobclass3 = ClosedClass(model, \"Class3\", 2, node1, 0)\n",
    "jobclass4 = ClosedClass(model, \"Class4\", 1, node1, 0)\n",
    "\n",
    "node1.set_service(jobclass1, Exp(1)) # (Delay,Class1)\n",
    "node1.set_service(jobclass2, Exp(1)) # (Delay,Class2)\n",
    "node1.set_service(jobclass3, Exp(10)) # (Delay,Class3)\n",
    "node1.set_service(jobclass4, Exp(1)) # (Delay,Class4)\n",
    "\n",
    "node2.set_service(jobclass1, Exp(1)) # (Queue1,Class1)\n",
    "node2.set_service(jobclass2, Erlang(1, 2)) # (Queue1,Class2)\n",
    "node2.set_service(jobclass3, Exp(10)) # (Queue1,Class3)\n",
    "node2.set_service(jobclass4, Exp(1)) # (Queue1,Class4)\n",
    "\n",
    "node3.set_service(jobclass1, Disabled()) # (Queue2,Class1)\n",
    "node3.set_service(jobclass2, Disabled()) # (Queue2,Class2)\n",
    "node3.set_service(jobclass3, Erlang(1, 2)) # (Queue2,Class3)\n",
    "node3.set_service(jobclass4, Exp(1)) # (Queue2,Class4)\n",
    "\n",
    "# Block 3: topology\n",
    "routingMatrix = model.init_routing_matrix()\n",
    "\n",
    "routingMatrix.set(jobclass1, jobclass1, node1, node2, 0.50)\n",
    "routingMatrix.set(jobclass1, jobclass1, node2, node1, 1.00)\n",
    "routingMatrix.set(jobclass1, jobclass1, node3, node1, 1.00)\n",
    "\n",
    "routingMatrix.set(jobclass1, jobclass2, node1, node2, 0.50)\n",
    "\n",
    "routingMatrix.set(jobclass2, jobclass2, node2, node1, 1.00)\n",
    "routingMatrix.set(jobclass2, jobclass2, node3, node1, 1.00)\n",
    "\n",
    "routingMatrix.set(jobclass2, jobclass1, node1, node2, 1.00)\n",
    "\n",
    "routingMatrix.set(jobclass3, jobclass3, node1, node2, 0.25)\n",
    "routingMatrix.set(jobclass3, jobclass3, node1, node3, 0.25)\n",
    "routingMatrix.set(jobclass3, jobclass3, node2, node1, 1.00)\n",
    "routingMatrix.set(jobclass3, jobclass3, node3, node1, 1.00)\n",
    "\n",
    "routingMatrix.set(jobclass3, jobclass4, node1, node2, 0.50)\n",
    "\n",
    "routingMatrix.set(jobclass4, jobclass4, node2, node1, 1.00)\n",
    "routingMatrix.set(jobclass4, jobclass4, node3, node1, 1.00)\n",
    "\n",
    "routingMatrix.set(jobclass4, jobclass3, node1, node2, 1.00)\n",
    "\n",
    "model.link(routingMatrix)\n",
    "\n",
    "# Create nodes array for State operations\n",
    "node = np.array([node1, node2, node3])\n",
    "\n",
    "# State operations like MATLAB - using node index 1 (second node, node2)\n",
    "spaceRunning = State.fromMarginalAndRunning(model, 1, [2,1,1,1], [2,1,0,0])\n",
    "spaceStarted = State.fromMarginalAndStarted(model, 1, [2,1,1,1], [2,1,0,0])\n",
    "space = State.fromMarginal(model, 1, [2,1,1,1])"
   ],
   "metadata": {
    "collapsed": false,
    "ExecuteTime": {
     "end_time": "2025-07-30T22:14:54.684600Z",
     "start_time": "2025-07-30T22:14:54.548464Z"
    }
   },
   "outputs": [],
   "execution_count": 2
  },
  {
   "cell_type": "code",
   "source": "# This example demonstrates State operations as shown in MATLAB\nprint(\"spaceRunning:\", spaceRunning)\nprint(\"spaceStarted:\", spaceStarted)\nprint(\"space:\", space)",
   "metadata": {
    "collapsed": false,
    "ExecuteTime": {
     "end_time": "2025-07-30T22:14:54.695363Z",
     "start_time": "2025-07-30T22:14:54.693038Z"
    }
   },
   "outputs": [
    {
     "name": "stdout",
     "output_type": "stream",
     "text": [
      "spaceRunning: [[4. 3. 2. 1. 0. 0. 0.]\n",
      " [4. 3. 2. 0. 1. 0. 0.]\n",
      " [3. 4. 2. 1. 0. 0. 0.]\n",
      " [3. 4. 2. 0. 1. 0. 0.]]\n",
      "spaceStarted: [[4. 3. 2. 1. 0. 0. 0.]\n",
      " [3. 4. 2. 1. 0. 0. 0.]]\n",
      "space: [[4. 3. 2. 1. 0. 0. 0.]\n",
      " [4. 3. 2. 0. 1. 0. 0.]\n",
      " [4. 2. 2. 0. 0. 1. 0.]\n",
      " [4. 1. 1. 1. 0. 1. 0.]\n",
      " [4. 1. 1. 0. 1. 1. 0.]\n",
      " [3. 4. 2. 1. 0. 0. 0.]\n",
      " [3. 4. 2. 0. 1. 0. 0.]\n",
      " [3. 2. 2. 0. 0. 0. 1.]\n",
      " [3. 1. 1. 1. 0. 0. 1.]\n",
      " [3. 1. 1. 0. 1. 0. 1.]\n",
      " [2. 4. 2. 0. 0. 1. 0.]\n",
      " [2. 3. 2. 0. 0. 0. 1.]\n",
      " [2. 1. 1. 0. 0. 1. 1.]\n",
      " [1. 4. 1. 1. 0. 1. 0.]\n",
      " [1. 4. 1. 0. 1. 1. 0.]\n",
      " [1. 3. 1. 1. 0. 0. 1.]\n",
      " [1. 3. 1. 0. 1. 0. 1.]\n",
      " [1. 2. 1. 0. 0. 1. 1.]\n",
      " [1. 1. 0. 1. 0. 1. 1.]\n",
      " [1. 1. 0. 0. 1. 1. 1.]]\n"
     ]
    }
   ],
   "execution_count": 3
  }
 ],
 "metadata": {
  "kernelspec": {
   "display_name": "Python 3",
   "language": "python",
   "name": "python3"
  },
  "language_info": {
   "codemirror_mode": {
    "name": "ipython",
    "version": 3
   },
   "file_extension": ".py",
   "mimetype": "text/x-python",
   "name": "python",
   "nbconvert_exporter": "python",
   "pygments_lexer": "ipython3",
   "version": "3.6.4"
  }
 },
 "nbformat": 4,
 "nbformat_minor": 2
}
