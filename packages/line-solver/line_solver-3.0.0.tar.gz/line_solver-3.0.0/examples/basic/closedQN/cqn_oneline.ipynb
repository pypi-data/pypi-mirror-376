{
 "cells": [
  {
   "metadata": {
    "ExecuteTime": {
     "end_time": "2025-07-30T22:14:47.591445Z",
     "start_time": "2025-07-30T22:14:46.698200Z"
    }
   },
   "cell_type": "code",
   "source": [
    "from line_solver import *\n",
    "import numpy as np\n",
    "GlobalConstants.set_verbose(VerboseLevel.STD)"
   ],
   "outputs": [],
   "execution_count": 1
  },
  {
   "metadata": {
    "ExecuteTime": {
     "end_time": "2025-07-30T22:14:47.654817Z",
     "start_time": "2025-07-30T22:14:47.653042Z"
    }
   },
   "cell_type": "code",
   "source": [
    "# Service times - S(i,r) - mean service time of class r at station i\n",
    "D = np.array([[10, 5], [5, 9]])\n",
    "# Number of jobs - N(r) - number of jobs of class r\n",
    "N = np.array([1, 2])\n",
    "# Think times - Z(r) - mean service time of class r at delay station i\n",
    "Z = np.array([[91, 92], [93, 94]])"
   ],
   "outputs": [],
   "execution_count": 2
  },
  {
   "metadata": {
    "ExecuteTime": {
     "end_time": "2025-07-30T22:14:47.743688Z",
     "start_time": "2025-07-30T22:14:47.713371Z"
    }
   },
   "cell_type": "code",
   "source": [
    "# Create cyclic model using the Network.cyclicPsInf method\n",
    "model = Network.cyclicPsInf(N, D, Z)"
   ],
   "outputs": [],
   "execution_count": 3
  },
  {
   "metadata": {
    "ExecuteTime": {
     "end_time": "2025-07-30T22:14:47.847658Z",
     "start_time": "2025-07-30T22:14:47.760595Z"
    }
   },
   "cell_type": "code",
   "source": [
    "# Solve using exact MVA\n",
    "avgTable = SolverMVA(model, method='exact').get_avg_table()"
   ],
   "outputs": [
    {
     "name": "stdout",
     "output_type": "stream",
     "text": [
      "MVA analysis [method: exact, lang: java, env: 21.0.8] completed in 0.018652s.\n",
      "  Station JobClass    QLen    Util    RespT   ResidT    ArvR    Tput\n",
      "0  Delay1   Class1  0.4530  0.4530  91.0000  91.0000  0.0050  0.0050\n",
      "1  Delay1   Class2  0.9110  0.9110  92.0000  92.0000  0.0099  0.0099\n",
      "2  Delay2   Class1  0.4630  0.4630  93.0000  93.0000  0.0050  0.0050\n",
      "3  Delay2   Class2  0.9308  0.9308  94.0000  94.0000  0.0099  0.0099\n",
      "4  Queue1   Class1  0.0546  0.0498  10.9693  10.9693  0.0050  0.0050\n",
      "5  Queue1   Class2  0.0569  0.0495   5.7432   5.7432  0.0099  0.0099\n",
      "6  Queue2   Class1  0.0294  0.0249   5.9035   5.9035  0.0050  0.0050\n",
      "7  Queue2   Class2  0.1014  0.0891  10.2425  10.2425  0.0099  0.0099\n"
     ]
    }
   ],
   "execution_count": 4
  }
 ],
 "metadata": {
  "kernelspec": {
   "display_name": "Python 3",
   "language": "python",
   "name": "python3"
  },
  "language_info": {
   "codemirror_mode": {
    "name": "ipython",
    "version": 3
   },
   "file_extension": ".py",
   "mimetype": "text/x-python",
   "name": "python",
   "nbconvert_exporter": "python",
   "pygments_lexer": "ipython3",
   "version": "3.8.0"
  }
 },
 "nbformat": 4,
 "nbformat_minor": 4
}
