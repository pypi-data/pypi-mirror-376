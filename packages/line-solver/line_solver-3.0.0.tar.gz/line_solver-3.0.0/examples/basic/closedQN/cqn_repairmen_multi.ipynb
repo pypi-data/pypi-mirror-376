{
 "cells": [
  {
   "metadata": {
    "ExecuteTime": {
     "end_time": "2025-07-30T22:14:30.090794Z",
     "start_time": "2025-07-30T22:14:29.081499Z"
    }
   },
   "cell_type": "code",
   "source": [
    "from line_solver import *\n",
    "\n",
    "import numpy as np\n",
    "GlobalConstants.set_verbose(VerboseLevel.STD)"
   ],
   "outputs": [],
   "execution_count": 1
  },
  {
   "metadata": {
    "ExecuteTime": {
     "end_time": "2025-07-30T22:14:30.175866Z",
     "start_time": "2025-07-30T22:14:30.151974Z"
    }
   },
   "cell_type": "code",
   "source": [
    "model = Network('model')\n",
    "\n",
    "node = np.empty(2, dtype=object)\n",
    "node[0] = Delay(model, 'Delay')\n",
    "node[1] = Queue(model, 'Queue1', SchedStrategy.FCFS)\n",
    "node[1].set_number_of_servers(3)\n",
    "\n",
    "# Default: scheduling is set as FCFS everywhere, routing as Random\n",
    "jobclass = np.empty(2, dtype=object)\n",
    "jobclass[0] = ClosedClass(model, 'Class1', 4, node[0], 0)\n",
    "jobclass[1] = ClosedClass(model, 'Class2', 2, node[0], 0)\n",
    "\n",
    "node[0].set_service(jobclass[0], Exp(1))\n",
    "node[0].set_service(jobclass[1], Exp(1))\n",
    "\n",
    "node[1].set_service(jobclass[0], Exp(1))\n",
    "node[1].set_service(jobclass[1], Exp(10))\n",
    "\n",
    "myP = model.init_routing_matrix()\n",
    "myP.set(jobclass[0], jobclass[0], node[0], node[1], 1.0)\n",
    "myP.set(jobclass[0], jobclass[0], node[1], node[0], 1.0)\n",
    "myP.set(jobclass[1], jobclass[1], node[0], node[1], 1.0)\n",
    "myP.set(jobclass[1], jobclass[1], node[1], node[0], 1.0)\n",
    "model.link(myP)"
   ],
   "outputs": [],
   "execution_count": 2
  },
  {
   "metadata": {
    "ExecuteTime": {
     "end_time": "2025-07-30T22:14:30.542285Z",
     "start_time": "2025-07-30T22:14:30.208774Z"
    }
   },
   "cell_type": "code",
   "source": [
    "# Solve with multiple solvers\n",
    "options = SolverQNS.defaultOptions()\n",
    "\n",
    "solver = np.array([], dtype=object)\n",
    "solver = np.append(solver, SolverCTMC(model))\n",
    "\n",
    "# Skip QNS solvers if external qnsolver is not available\n",
    "if SolverQNS.isAvailable():\n",
    "    solver = np.append(solver, SolverQNS(model, method='conway'))\n",
    "    solver = np.append(solver, SolverQNS(model, method='reiser'))\n",
    "    solver = np.append(solver, SolverQNS(model, method='rolia'))\n",
    "    solver = np.append(solver, SolverQNS(model, method='zhou'))\n",
    "else:\n",
    "    print(\"QNS solvers skipped: external qnsolver not available\")\n",
    "\n",
    "options = SolverMVA.defaultOptions()\n",
    "options.config.multiserver = 'softmin'\n",
    "solver = np.append(solver, SolverMVA(model, options))\n",
    "options.config.multiserver = 'seidmann'\n",
    "solver = np.append(solver, SolverMVA(model, options))\n",
    "solver = np.append(solver, SolverNC(model))\n",
    "\n",
    "AvgTable = np.empty(len(solver), dtype=object)\n",
    "for s in range(len(solver)):\n",
    "    print(f'SOLVER: {solver[s].get_name()}')\n",
    "    try:\n",
    "        AvgTable[s] = solver[s].get_avg_table()\n",
    "    except Exception as e:\n",
    "        print(f'  Error: {e}')\n",
    "        AvgTable[s] = None"
   ],
   "outputs": [
    {
     "name": "stdout",
     "output_type": "stream",
     "text": [
      "SOLVER: SolverCTMC\n",
      "CTMC analysis [method: default, lang: java, env: 21.0.8] completed in 0.056065s.\n",
      "  Station JobClass    QLen    Util   RespT  ResidT    ArvR    Tput\n",
      "0   Delay   Class1  1.9455  1.9455  1.0000  1.0000  1.9455  1.9455\n",
      "1   Delay   Class2  1.6383  1.6383  1.0000  1.0000  1.6383  1.6383\n",
      "2  Queue1   Class1  2.0545  0.6485  1.0561  1.0561  1.9455  1.9455\n",
      "3  Queue1   Class2  0.3617  0.0546  0.2208  0.2208  1.6383  1.6383\n",
      "SOLVER: QNS\n",
      "QNS analysis [method: conway, lang: java, env: 21.0.8] completed in 0.082171s.\n",
      "  Station JobClass    QLen    Util   RespT  ResidT    ArvR    Tput\n",
      "0   Delay   Class1  1.8349  0.3058  1.0000  1.0000  1.8349  1.8349\n",
      "1   Delay   Class2  1.5168  0.2528  1.0000  1.0000  1.5168  1.5168\n",
      "2  Queue1   Class1  2.1651  0.6116  1.1799  1.1799  1.8349  1.8349\n",
      "3  Queue1   Class2  0.4832  0.0506  0.3186  0.3186  1.5168  1.5168\n",
      "SOLVER: QNS\n",
      "QNS analysis [method: reiser, lang: java, env: 21.0.8] completed in 0.005280s.\n",
      "  Station JobClass    QLen    Util   RespT  ResidT    ArvR    Tput\n",
      "0   Delay   Class1  1.9801  0.3300  1.0000  1.0000  1.9801  1.9801\n",
      "1   Delay   Class2  1.7900  0.2983  1.0000  1.0000  1.7900  1.7900\n",
      "2  Queue1   Class1  2.0199  0.6600  1.0201  1.0201  1.9801  1.9801\n",
      "3  Queue1   Class2  0.2100  0.0597  0.1173  0.1173  1.7900  1.7900\n",
      "SOLVER: QNS\n",
      "QNS analysis [method: rolia, lang: java, env: 21.0.8] completed in 0.005115s.\n",
      "  Station JobClass    QLen    Util   RespT  ResidT    ArvR    Tput\n",
      "0   Delay   Class1  1.9363  0.3227  1.0000  1.0000  1.9363  1.9363\n",
      "1   Delay   Class2  1.5314  0.2552  1.0000  1.0000  1.5314  1.5314\n",
      "2  Queue1   Class1  2.0637  0.6454  1.0658  1.0658  1.9363  1.9363\n",
      "3  Queue1   Class2  0.4686  0.0510  0.3060  0.3060  1.5314  1.5314\n",
      "SOLVER: QNS\n",
      "QNS analysis [method: zhou, lang: java, env: 21.0.8] completed in 0.004446s.\n",
      "  Station JobClass    QLen    Util   RespT  ResidT    ArvR    Tput\n",
      "0   Delay   Class1  1.9250  0.3208  1.0000  1.0000  1.9250  1.9250\n",
      "1   Delay   Class2  1.6977  0.2829  1.0000  1.0000  1.6977  1.6977\n",
      "2  Queue1   Class1  2.0750  0.6417  1.0780  1.0780  1.9250  1.9250\n",
      "3  Queue1   Class2  0.3023  0.0566  0.1781  0.1781  1.6977  1.6977\n",
      "SOLVER: SolverMVA\n",
      "MVA analysis [method: default(lin), lang: java, env: 21.0.8] completed in 0.026477s.\n",
      "  Station JobClass    QLen    Util   RespT  ResidT    ArvR    Tput\n",
      "0   Delay   Class1  1.2442  0.5602  0.3702  0.3702  3.3612  3.3612\n",
      "1   Delay   Class2  0.4756  0.2141  0.3702  0.3702  1.2848  1.2848\n",
      "2  Queue1   Class1  2.7558  1.1204  0.8199  0.8199  3.3612  3.3612\n",
      "3  Queue1   Class2  1.5244  0.0428  1.1864  1.1864  1.2848  1.2848\n",
      "SOLVER: SolverMVA\n",
      "MVA analysis [method: default(lin), lang: java, env: 21.0.8] completed in 0.002108s.\n",
      "  Station JobClass    QLen    Util   RespT  ResidT    ArvR    Tput\n",
      "0   Delay   Class1  0.3920  0.3920  0.1667  0.1667  2.3519  2.3519\n",
      "1   Delay   Class2  0.3314  0.3314  0.1667  0.1667  1.9883  1.9883\n",
      "2  Queue1   Class1  3.6080  0.7840  1.5341  1.5341  2.3519  2.3519\n",
      "3  Queue1   Class2  1.6686  0.0663  0.8392  0.8392  1.9883  1.9883\n",
      "SOLVER: SolverNC\n",
      "NC analysis [method: rd, lang: java, env: 21.0.8] completed in 0.022549s. Iterations: 100000.\n",
      "  Station JobClass  QLen    Util   RespT  ResidT     ArvR     Tput\n",
      "0   Delay   Class1   0.0  0.0000  0.0000  0.0000   2.8313   2.8313\n",
      "1   Delay   Class2   0.0  0.0000  0.0000  0.0000  12.6990  12.6990\n",
      "2  Queue1   Class1   4.0  0.1986  1.4128  1.4128   2.8313   2.8313\n",
      "3  Queue1   Class2   2.0  0.0205  0.1575  0.1575  12.6990  12.6990\n"
     ]
    },
    {
     "name": "stderr",
     "output_type": "stream",
     "text": [
      "Jul 30, 2025 11:14:30 PM jline.io.InputOutputKt line_printf\n",
      "WARNING: [compute_norm_const_ld] Load-dependent CoMoM is available only in models with a delay and m identical stations, running the \"rd\" algorithm instead.\n",
      "\n",
      "Jul 30, 2025 11:14:30 PM jline.io.InputOutputKt line_printf\n",
      "WARNING: Warning [compute_norm_const_ld]: Warning message casted more than once, repetitions will not be printed on screen for 60 seconds.\n",
      "\n"
     ]
    }
   ],
   "execution_count": 3
  }
 ],
 "metadata": {
  "kernelspec": {
   "display_name": "Python 3",
   "language": "python",
   "name": "python3"
  },
  "language_info": {
   "codemirror_mode": {
    "name": "ipython",
    "version": 3
   },
   "file_extension": ".py",
   "mimetype": "text/x-python",
   "name": "python",
   "nbconvert_exporter": "python",
   "pygments_lexer": "ipython3",
   "version": "3.8.0"
  }
 },
 "nbformat": 4,
 "nbformat_minor": 4
}
