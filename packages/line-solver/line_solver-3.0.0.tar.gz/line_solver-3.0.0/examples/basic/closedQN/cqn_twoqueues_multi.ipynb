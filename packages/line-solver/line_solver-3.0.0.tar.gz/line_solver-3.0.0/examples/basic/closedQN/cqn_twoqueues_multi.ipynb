{
 "cells": [
  {
   "cell_type": "code",
   "metadata": {
    "ExecuteTime": {
     "end_time": "2025-07-30T22:12:53.735228Z",
     "start_time": "2025-07-30T22:12:52.847266Z"
    }
   },
   "source": [
    "from line_solver import *\n",
    "\n",
    "import numpy as np\n",
    "GlobalConstants.set_verbose(VerboseLevel.STD)"
   ],
   "outputs": [],
   "execution_count": 1
  },
  {
   "metadata": {
    "ExecuteTime": {
     "end_time": "2025-07-30T22:12:53.817630Z",
     "start_time": "2025-07-30T22:12:53.796695Z"
    }
   },
   "cell_type": "code",
   "source": [
    "model = Network('model')\n",
    "\n",
    "node = np.empty(3, dtype=object)\n",
    "node[0] = Delay(model, 'Delay')\n",
    "node[1] = Queue(model, 'Queue1', SchedStrategy.FCFS)\n",
    "node[2] = Queue(model, 'Queue2', SchedStrategy.FCFS)\n",
    "\n",
    "jobclass = np.empty(2, dtype=object)\n",
    "jobclass[0] = ClosedClass(model, 'Class1', 10, node[0], 0)\n",
    "jobclass[1] = ClosedClass(model, 'Class2', 10, node[0], 0)\n",
    "\n",
    "node[0].set_service(jobclass[0], Exp.fitMean(1.0))  # mean = 1\n",
    "node[1].set_service(jobclass[0], Exp.fitMean(1.5))  # mean = 1.5\n",
    "node[2].set_service(jobclass[0], Exp.fitMean(3.0))  # mean = 3.0\n",
    "\n",
    "node[0].set_service(jobclass[1], Exp.fitMean(1.0))  # mean = 1\n",
    "node[1].set_service(jobclass[1], Exp.fitMean(1.5))  # mean = 1.5\n",
    "node[2].set_service(jobclass[1], Exp.fitMean(3.0))  # mean = 3.0\n",
    "\n",
    "P = model.init_routing_matrix()\n",
    "P.set(jobclass[0], jobclass[0], node[0], node[1], 1.0)\n",
    "P.set(jobclass[0], jobclass[0], node[1], node[2], 1.0)\n",
    "P.set(jobclass[0], jobclass[0], node[2], node[0], 1.0)\n",
    "\n",
    "P.set(jobclass[1], jobclass[1], node[0], node[1], 1.0)\n",
    "P.set(jobclass[1], jobclass[1], node[1], node[2], 1.0)\n",
    "P.set(jobclass[1], jobclass[1], node[2], node[0], 1.0)\n",
    "\n",
    "model.link(P)"
   ],
   "outputs": [],
   "execution_count": 2
  },
  {
   "metadata": {
    "ExecuteTime": {
     "end_time": "2025-07-30T22:12:53.942740Z",
     "start_time": "2025-07-30T22:12:53.848850Z"
    }
   },
   "cell_type": "code",
   "source": [
    "# Solve with MVA only (following MATLAB example)\n",
    "options = SolverMVA.defaultOptions()\n",
    "solver = np.array([], dtype=object)\n",
    "solver = np.append(solver, SolverMVA(model, options))\n",
    "\n",
    "AvgTable = np.empty(len(solver), dtype=object)\n",
    "for s in range(len(solver)):\n",
    "    print(f'SOLVER: {solver[s].get_name()}')\n",
    "    AvgTable[s] = solver[s].get_avg_table()"
   ],
   "outputs": [
    {
     "name": "stdout",
     "output_type": "stream",
     "text": [
      "SOLVER: SolverMVA\n",
      "MVA analysis [method: default(exact), lang: java, env: 21.0.8] completed in 0.020706s.\n",
      "  Station JobClass    QLen    Util    RespT   ResidT    ArvR    Tput\n",
      "0   Delay   Class1  0.1667  0.1667   1.0000   1.0000  0.1667  0.1667\n",
      "1   Delay   Class2  0.1667  0.1667   1.0000   1.0000  0.1667  0.1667\n",
      "2  Queue1   Class1  0.5000  0.2500   3.0000   3.0000  0.1667  0.1667\n",
      "3  Queue1   Class2  0.5000  0.2500   3.0000   3.0000  0.1667  0.1667\n",
      "4  Queue2   Class1  9.3333  0.5000  56.0001  56.0001  0.1667  0.1667\n",
      "5  Queue2   Class2  9.3333  0.5000  56.0001  56.0001  0.1667  0.1667\n"
     ]
    }
   ],
   "execution_count": 3
  }
 ],
 "metadata": {
  "kernelspec": {
   "display_name": "Python 3",
   "language": "python",
   "name": "python3"
  },
  "language_info": {
   "codemirror_mode": {
    "name": "ipython",
    "version": 3
   },
   "file_extension": ".py",
   "mimetype": "text/x-python",
   "name": "python",
   "nbconvert_exporter": "python",
   "pygments_lexer": "ipython3",
   "version": "3.8.0"
  }
 },
 "nbformat": 4,
 "nbformat_minor": 4
}
