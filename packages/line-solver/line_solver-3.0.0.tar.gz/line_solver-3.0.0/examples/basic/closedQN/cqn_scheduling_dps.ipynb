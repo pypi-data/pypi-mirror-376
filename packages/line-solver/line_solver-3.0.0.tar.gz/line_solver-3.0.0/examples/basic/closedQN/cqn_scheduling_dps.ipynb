{
 "cells": [
  {
   "cell_type": "code",
   "metadata": {
    "ExecuteTime": {
     "end_time": "2025-07-30T22:14:02.167191Z",
     "start_time": "2025-07-30T22:14:01.307695Z"
    }
   },
   "source": [
    "from line_solver import *\n",
    "import numpy as np\n",
    "GlobalConstants.set_verbose(VerboseLevel.STD)"
   ],
   "outputs": [],
   "execution_count": 1
  },
  {
   "cell_type": "code",
   "metadata": {
    "ExecuteTime": {
     "end_time": "2025-07-30T22:14:02.188081Z",
     "start_time": "2025-07-30T22:14:02.170953Z"
    }
   },
   "source": "# Create network\nmodel = Network('model')\n\n# Block 1: nodes with mixed scheduling\nnode1 = Delay(model, 'Delay')\nnode2 = Queue(model, 'Queue1', SchedStrategy.PS)   # Processor Sharing\nnode3 = Queue(model, 'Queue2', SchedStrategy.DPS)  # Discriminatory Processor Sharing\n\n# Block 2: classes with different populations\njobclass1 = ClosedClass(model, 'Class1', 2, node1, 0)  # 2 jobs\njobclass2 = ClosedClass(model, 'Class2', 1, node1, 0)  # 1 job\n\nprint(\"Network created with mixed scheduling:\")\nprint(f\"  {node1.get_name()}: Delay node\")\nprint(f\"  {node2.get_name()}: PS (Processor Sharing)\")\nprint(f\"  {node3.get_name()}: DPS (Discriminatory Processor Sharing)\")\nprint(f\"\\nClass populations: Class1={jobclass1.getPopulation()}, Class2={jobclass2.getPopulation()}\")",
   "outputs": [
    {
     "name": "stdout",
     "output_type": "stream",
     "text": [
      "Network created with mixed scheduling:\n",
      "  Delay: Delay node\n",
      "  Queue1: PS (Processor Sharing)\n",
      "  Queue2: DPS (Discriminatory Processor Sharing)\n",
      "\n",
      "Class populations: Class1=2.0, Class2=1.0\n"
     ]
    }
   ],
   "execution_count": 2
  },
  {
   "cell_type": "code",
   "metadata": {
    "ExecuteTime": {
     "end_time": "2025-07-30T22:14:02.282682Z",
     "start_time": "2025-07-30T22:14:02.276906Z"
    }
   },
   "source": [
    "# Set service distributions\n",
    "node1.set_service(jobclass1, Exp.fitMean(1.0/3.0))   # Delay, Class1: mean=1/3\n",
    "node1.set_service(jobclass2, Exp.fitMean(1.0/0.5))   # Delay, Class2: mean=1/0.5=2\n",
    "\n",
    "# PS Queue - weights are ignored in PS scheduling\n",
    "w1_ps = 5  # This weight is ignored since the node is PS\n",
    "w2_ps = 1  # This weight is ignored since the node is PS\n",
    "node2.set_service(jobclass1, Exp.fitMean(1.0/0.1), w1_ps)\n",
    "node2.set_service(jobclass2, Exp.fitMean(1.0/1.0), w2_ps)\n",
    "\n",
    "# DPS Queue - weights matter for service differentiation\n",
    "w1_dps = 1  # Lower weight for Class1\n",
    "w2_dps = 5  # Higher weight for Class2 (gets priority)\n",
    "node3.set_service(jobclass1, Exp.fitMean(1.0/0.1), w1_dps)\n",
    "node3.set_service(jobclass2, Exp.fitMean(1.0/1.0), w2_dps)\n",
    "\n",
    "print(\"Service parameters configured:\")\n",
    "print(f\"  Delay: Class1=Exp(3), Class2=Exp(0.5)\")\n",
    "print(f\"  Queue1 (PS): Class1=Exp(0.1), Class2=Exp(1) - weights ignored\")\n",
    "print(f\"  Queue2 (DPS): Class1=Exp(0.1,w={w1_dps}), Class2=Exp(1,w={w2_dps}) - Class2 has priority\")"
   ],
   "outputs": [
    {
     "name": "stdout",
     "output_type": "stream",
     "text": [
      "Service parameters configured:\n",
      "  Delay: Class1=Exp(3), Class2=Exp(0.5)\n",
      "  Queue1 (PS): Class1=Exp(0.1), Class2=Exp(1) - weights ignored\n",
      "  Queue2 (DPS): Class1=Exp(0.1,w=1), Class2=Exp(1,w=5) - Class2 has priority\n"
     ]
    }
   ],
   "execution_count": 3
  },
  {
   "cell_type": "code",
   "metadata": {
    "ExecuteTime": {
     "end_time": "2025-07-30T22:14:02.341262Z",
     "start_time": "2025-07-30T22:14:02.329785Z"
    }
   },
   "source": [
    "# Set up routing matrix\n",
    "P = model.init_routing_matrix()\n",
    "\n",
    "# Class1 routing: probabilistic from Delay (30% Queue1, 70% Queue2)\n",
    "P.set(jobclass1, jobclass1, node1, node2, 0.3)  # Delay -> Queue1 (30%)\n",
    "P.set(jobclass1, jobclass1, node1, node3, 0.7)  # Delay -> Queue2 (70%)\n",
    "P.set(jobclass1, jobclass1, node2, node1, 1.0)  # Queue1 -> Delay (100%)\n",
    "P.set(jobclass1, jobclass1, node3, node1, 1.0)  # Queue2 -> Delay (100%)\n",
    "\n",
    "# Class2 routing: probabilistic from Delay (70% Queue1, 30% Queue2)\n",
    "P.set(jobclass2, jobclass2, node1, node2, 0.7)  # Delay -> Queue1 (70%)\n",
    "P.set(jobclass2, jobclass2, node1, node3, 0.3)  # Delay -> Queue2 (30%)\n",
    "P.set(jobclass2, jobclass2, node2, node1, 1.0)  # Queue1 -> Delay (100%)\n",
    "P.set(jobclass2, jobclass2, node3, node1, 1.0)  # Queue2 -> Delay (100%)\n",
    "\n",
    "model.link(P)\n",
    "\n",
    "print(\"Routing configured:\")\n",
    "print(\"  Class1: 30% Queue1, 70% Queue2 (more traffic to DPS queue)\")\n",
    "print(\"  Class2: 70% Queue1, 30% Queue2 (more traffic to PS queue)\")\n",
    "print(\"  All queues return 100% to Delay\")"
   ],
   "outputs": [
    {
     "name": "stdout",
     "output_type": "stream",
     "text": [
      "Routing configured:\n",
      "  Class1: 30% Queue1, 70% Queue2 (more traffic to DPS queue)\n",
      "  Class2: 70% Queue1, 30% Queue2 (more traffic to PS queue)\n",
      "  All queues return 100% to Delay\n"
     ]
    }
   ],
   "execution_count": 4
  },
  {
   "cell_type": "code",
   "metadata": {
    "ExecuteTime": {
     "end_time": "2025-07-30T22:14:02.487694Z",
     "start_time": "2025-07-30T22:14:02.379667Z"
    }
   },
   "source": [
    "# Configure multiple solvers for comparison",
    "",
    "solver_list = []",
    "",
    "# Add different solvers with their respective options",
    "# CTMC",
    "ctmc_options = SolverCTMC.defaultOptions()",
    "ctmc_options.verbose = 1",
    "solver_list.append(SolverCTMC(model, ctmc_options))",
    "",
    "# JMT",
    "jmt_options = SolverJMT.defaultOptions()",
    "jmt_options.verbose = 1",
    "jmt_options.samples = 10000",
    "jmt_options.seed = 23000",
    "solver_list.append(SolverJMT(model, jmt_options))",
    "",
    "# Fluid",
    "fluid_options = SolverFluid.defaultOptions()",
    "fluid_options.verbose = 1",
    "solver_list.append(SolverFluid(model, fluid_options))",
    "",
    "# MVA",
    "mva_options = SolverMVA.defaultOptions()",
    "mva_options.verbose = 1",
    "solver_list.append(SolverMVA(model, mva_options))",
    "",
    "print(f\"Configured {len(solver_list)} solvers for comparison\")"
   ],
   "outputs": [
    {
     "name": "stdout",
     "output_type": "stream",
     "text": [
      "=== Multi-Solver Analysis ===\n",
      "Configured 4 solvers for comparison\n"
     ]
    }
   ],
   "execution_count": 5
  },
  {
   "cell_type": "code",
   "metadata": {
    "ExecuteTime": {
     "end_time": "2025-07-30T22:14:03.707107Z",
     "start_time": "2025-07-30T22:14:02.494999Z"
    }
   },
   "source": [
    "# Solve with each solver and compare results\n",
    "avg_tables = []\n",
    "\n",
    "for s, solver in enumerate(solver_list):\n",
    "    print(f'\\n=== SOLVER: {solver.get_name()} ===')\n",
    "    avg_table = solver.get_avg_table()\n",
    "    avg_tables.append(avg_table)\n",
    "    print(avg_table)"
   ],
   "outputs": [
    {
     "name": "stdout",
     "output_type": "stream",
     "text": [
      "\n",
      "=== SOLVER: SolverCTMC ===\n",
      "CTMC analysis [method: default, lang: java, env: 21.0.8] completed in 0.042864s.\n",
      "  Station JobClass    QLen    Util    RespT   ResidT    ArvR    Tput\n",
      "0   Delay   Class1  0.0372  0.0372   0.3333   0.3333  0.1117  0.1117\n",
      "1   Delay   Class2  0.5865  0.5865   2.0000   2.0000  0.2933  0.2933\n",
      "2  Queue1   Class1  0.5346  0.3351  15.9547   4.7864  0.0335  0.0335\n",
      "3  Queue1   Class2  0.2984  0.2053   1.4537   1.0176  0.2053  0.2053\n",
      "4  Queue2   Class1  1.4282  0.7819  18.2661  12.7863  0.0782  0.0782\n",
      "5  Queue2   Class2  0.1150  0.0880   1.3074   0.3922  0.0880  0.0880\n",
      "  Station JobClass    QLen    Util    RespT   ResidT    ArvR    Tput\n",
      "0   Delay   Class1  0.0372  0.0372   0.3333   0.3333  0.1117  0.1117\n",
      "1   Delay   Class2  0.5865  0.5865   2.0000   2.0000  0.2933  0.2933\n",
      "2  Queue1   Class1  0.5346  0.3351  15.9547   4.7864  0.0335  0.0335\n",
      "3  Queue1   Class2  0.2984  0.2053   1.4537   1.0176  0.2053  0.2053\n",
      "4  Queue2   Class1  1.4282  0.7819  18.2661  12.7863  0.0782  0.0782\n",
      "5  Queue2   Class2  0.1150  0.0880   1.3074   0.3922  0.0880  0.0880\n",
      "\n",
      "=== SOLVER: SolverJMT ===\n",
      "JMT Model: /tmp/workspace/jsim/9832800558503120767/jmodel.jsim\n",
      "JMT [method: default, lang: java, env: 21.0.8] completed in 1.068463s.\n",
      "  Station JobClass    QLen    Util    RespT   ResidT    ArvR    Tput\n",
      "0   Delay   Class1  0.0358  0.0358   0.3388   0.3388  0.1094  0.1096\n",
      "1   Delay   Class2  0.6017  0.6017   2.0177   2.0177  0.2902  0.2899\n",
      "2  Queue1   Class1  0.5127  0.3194  15.8351   4.7505  0.0331  0.0331\n",
      "3  Queue1   Class2  0.2971  0.2049   1.4504   1.0153  0.2024  0.2025\n",
      "4  Queue2   Class1  1.4744  0.7981  18.7256  13.1079  0.0777  0.0773\n",
      "5  Queue2   Class2  0.1159  0.0860   1.3217   0.3965  0.0904  0.0904\n",
      "  Station JobClass    QLen    Util    RespT   ResidT    ArvR    Tput\n",
      "0   Delay   Class1  0.0358  0.0358   0.3388   0.3388  0.1094  0.1096\n",
      "1   Delay   Class2  0.6017  0.6017   2.0177   2.0177  0.2902  0.2899\n",
      "2  Queue1   Class1  0.5127  0.3194  15.8351   4.7505  0.0331  0.0331\n",
      "3  Queue1   Class2  0.2971  0.2049   1.4504   1.0153  0.2024  0.2025\n",
      "4  Queue2   Class1  1.4744  0.7981  18.7256  13.1079  0.0777  0.0773\n",
      "5  Queue2   Class2  0.1159  0.0860   1.3217   0.3965  0.0904  0.0904\n",
      "\n",
      "=== SOLVER: SolverFluid ===\n",
      "Fluid analysis [method: closing, lang: java, env: 21.0.8] completed in 0.025249s.\n",
      "  Station JobClass    QLen    Util    RespT   ResidT    ArvR    Tput\n",
      "0   Delay   Class1  0.0163  0.0163   0.3333   0.3333  0.0658  0.0489\n",
      "1   Delay   Class2  0.6618  0.6618   2.0000   2.0000  0.9007  0.3309\n",
      "2  Queue1   Class1  0.1466  0.1466  10.0000   3.0000  0.0000  0.0147\n",
      "3  Queue1   Class2  0.2316  0.2316   1.0000   0.7000  0.0000  0.2316\n",
      "4  Queue2   Class1  1.8371  1.0000  18.3710  12.8597  0.0000  0.1000\n",
      "5  Queue2   Class2  0.1066  0.1066   0.1066   0.0320  0.0000  1.0000\n",
      "  Station JobClass    QLen    Util    RespT   ResidT    ArvR    Tput\n",
      "0   Delay   Class1  0.0163  0.0163   0.3333   0.3333  0.0658  0.0489\n",
      "1   Delay   Class2  0.6618  0.6618   2.0000   2.0000  0.9007  0.3309\n",
      "2  Queue1   Class1  0.1466  0.1466  10.0000   3.0000  0.0000  0.0147\n",
      "3  Queue1   Class2  0.2316  0.2316   1.0000   0.7000  0.0000  0.2316\n",
      "4  Queue2   Class1  1.8371  1.0000  18.3710  12.8597  0.0000  0.1000\n",
      "5  Queue2   Class2  0.1066  0.1066   0.1066   0.0320  0.0000  1.0000\n",
      "\n",
      "=== SOLVER: SolverMVA ===\n",
      "MVA analysis [method: default(lin), lang: java, env: 21.0.8] completed in 0.027709s.\n",
      "  Station JobClass    QLen    Util    RespT   ResidT  ArvR    Tput\n",
      "0   Delay   Class1  0.0222  0.0101   0.2429   0.2429   0.0  0.0912\n",
      "1   Delay   Class2  0.4934  0.2257   1.4577   1.4577   0.0  0.3385\n",
      "2  Queue1   Class1  0.4147  0.2737  15.1535   4.5460   0.0  0.0274\n",
      "3  Queue1   Class2  0.3732  0.2370   1.5751   1.1026   0.0  0.2370\n",
      "4  Queue2   Class1  1.5632  0.6385  24.4812  17.1368   0.0  0.0639\n",
      "5  Queue2   Class2  0.1333  0.1016   1.3126   0.3938   0.0  0.1016\n",
      "  Station JobClass    QLen    Util    RespT   ResidT  ArvR    Tput\n",
      "0   Delay   Class1  0.0222  0.0101   0.2429   0.2429   0.0  0.0912\n",
      "1   Delay   Class2  0.4934  0.2257   1.4577   1.4577   0.0  0.3385\n",
      "2  Queue1   Class1  0.4147  0.2737  15.1535   4.5460   0.0  0.0274\n",
      "3  Queue1   Class2  0.3732  0.2370   1.5751   1.1026   0.0  0.2370\n",
      "4  Queue2   Class1  1.5632  0.6385  24.4812  17.1368   0.0  0.0639\n",
      "5  Queue2   Class2  0.1333  0.1016   1.3126   0.3938   0.0  0.1016\n"
     ]
    }
   ],
   "execution_count": 6
  }
 ],
 "metadata": {
  "kernelspec": {
   "display_name": "Python 3",
   "language": "python",
   "name": "python3"
  },
  "language_info": {
   "codemirror_mode": {
    "name": "ipython",
    "version": 3
   },
   "file_extension": ".py",
   "mimetype": "text/x-python",
   "name": "python",
   "nbconvert_exporter": "python",
   "pygments_lexer": "ipython3",
   "version": "3.8.5"
  }
 },
 "nbformat": 4,
 "nbformat_minor": 4
}