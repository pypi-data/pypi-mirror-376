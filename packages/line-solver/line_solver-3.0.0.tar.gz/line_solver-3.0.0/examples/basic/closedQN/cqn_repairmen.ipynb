{
 "cells": [
  {
   "cell_type": "code",
   "source": [
    "from line_solver import *\n",
    "GlobalConstants.set_verbose(VerboseLevel.STD)"
   ],
   "metadata": {
    "collapsed": false,
    "ExecuteTime": {
     "end_time": "2025-07-30T22:14:39.997768Z",
     "start_time": "2025-07-30T22:14:39.119454Z"
    }
   },
   "outputs": [],
   "execution_count": 1
  },
  {
   "cell_type": "code",
   "source": [
    "model = Network('model')\n",
    "\n",
    "node = np.empty(2, dtype=object)\n",
    "node[0] = Delay(model, 'Delay')\n",
    "node[1] = Queue(model, 'Queue1', SchedStrategy.FCFS)\n",
    "\n",
    "jobclass = ClosedClass(model, 'Class1', 10, node[0], 0)\n",
    "\n",
    "node[0].set_service(jobclass, Exp.fitMean(1.0)) # mean = 1\n",
    "node[1].set_service(jobclass, Exp.fitMean(1.5)) # mean = 1.5\n",
    "\n",
    "P = model.init_routing_matrix()\n",
    "pmatrix = [[0.7,0.3],[1.0,0]]\n",
    "for i in range(len(node)):\n",
    "    for j in range(len(node)):\n",
    "        P.set(jobclass, jobclass, node[i], node[j], pmatrix[i][j])        \n",
    "model.link(P)"
   ],
   "metadata": {
    "collapsed": false,
    "ExecuteTime": {
     "end_time": "2025-07-30T22:14:40.086291Z",
     "start_time": "2025-07-30T22:14:40.057800Z"
    }
   },
   "outputs": [],
   "execution_count": 2
  },
  {
   "cell_type": "code",
   "source": "# Aligned with JAR test scenarios for cqn_repairmen\n# JAR tests: CTMC(), JMT(seed=23000), MVA(), MAM(), NC(method=\"exact\"), \n#           SSA(seed=23000, samples=5000), Fluid()\n\nsolver = np.array([], dtype=object)\n\n# CTMC with default settings (matches JAR)\nsolver = np.append(solver, SolverCTMC(model))\n\n# JMT with seed=23000 (matches JAR) \nsolver = np.append(solver, SolverJMT(model, seed=23000))\n\n# MVA with default settings (matches JAR)\nsolver = np.append(solver, SolverMVA(model))\n\n# MAM with default settings (matches JAR)\nsolver = np.append(solver, SolverMAM(model))\n\n# NC with method=\"exact\" (matches JAR)\nsolver = np.append(solver, SolverNC(model, method='exact'))\n\n# SSA with seed=23000, samples=5000 (matches JAR)\nsolver = np.append(solver, SolverSSA(model, seed=23000, samples=5000))\n\n# Fluid with default settings (matches JAR)\nsolver = np.append(solver, SolverFluid(model))\n\nAvgTable = np.empty(len(solver), dtype=object)\nfor s in range(len(solver)):\n    print(f'\\\\nSOLVER: {solver[s].get_name()}')\n    AvgTable[s] = solver[s].get_avg_table()",
   "metadata": {
    "collapsed": false,
    "ExecuteTime": {
     "end_time": "2025-07-30T22:14:41.689397Z",
     "start_time": "2025-07-30T22:14:40.112320Z"
    }
   },
   "outputs": [],
   "execution_count": null
  }
 ],
 "metadata": {
  "kernelspec": {
   "display_name": "Python 3",
   "language": "python",
   "name": "python3"
  },
  "language_info": {
   "codemirror_mode": {
    "name": "ipython",
    "version": 3
   },
   "file_extension": ".py",
   "mimetype": "text/x-python",
   "name": "python",
   "nbconvert_exporter": "python",
   "pygments_lexer": "ipython3",
   "version": "3.6.4"
  }
 },
 "nbformat": 4,
 "nbformat_minor": 2
}