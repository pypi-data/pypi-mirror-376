{
 "cells": [
  {
   "cell_type": "code",
   "metadata": {
    "ExecuteTime": {
     "end_time": "2025-07-30T22:13:44.479821Z",
     "start_time": "2025-07-30T22:13:43.555708Z"
    }
   },
   "source": [
    "from line_solver import *\n",
    "import numpy as np\n",
    "GlobalConstants.set_verbose(VerboseLevel.STD)"
   ],
   "outputs": [],
   "execution_count": 1
  },
  {
   "metadata": {
    "ExecuteTime": {
     "end_time": "2025-07-30T22:13:44.570322Z",
     "start_time": "2025-07-30T22:13:44.545010Z"
    }
   },
   "cell_type": "code",
   "source": [
    "# reducible routing matrix\n",
    "model = Network('model')\n",
    "\n",
    "node = np.empty(3, dtype=object)\n",
    "node[0] = Delay(model, 'Delay')\n",
    "node[1] = Queue(model, 'Queue1', SchedStrategy.FCFS)\n",
    "node[2] = Queue(model, 'Queue2', SchedStrategy.FCFS)\n",
    "\n",
    "jobclass = np.empty(1, dtype=object)\n",
    "jobclass[0] = ClosedClass(model, 'Class1', 1, node[0], 0)\n",
    "\n",
    "node[0].set_service(jobclass[0], Exp.fitMean(1.0))  # mean = 1\n",
    "node[1].set_service(jobclass[0], Exp.fitMean(1.5))  # mean = 1.5\n",
    "node[2].set_service(jobclass[0], Exp.fitMean(3.0))  # mean = 3.0\n",
    "\n",
    "P = model.init_routing_matrix()\n",
    "P.set(jobclass[0], jobclass[0], node[0], node[0], 0.2)\n",
    "P.set(jobclass[0], jobclass[0], node[0], node[1], 0.3)\n",
    "P.set(jobclass[0], jobclass[0], node[0], node[2], 0.5)\n",
    "P.set(jobclass[0], jobclass[0], node[1], node[1], 1.0)\n",
    "P.set(jobclass[0], jobclass[0], node[2], node[2], 1.0)\n",
    "model.link(P)"
   ],
   "outputs": [],
   "execution_count": 2
  },
  {
   "metadata": {
    "ExecuteTime": {
     "end_time": "2025-07-30T22:13:44.698748Z",
     "start_time": "2025-07-30T22:13:44.601275Z"
    }
   },
   "cell_type": "code",
   "source": [
    "options = SolverMVA.defaultOptions()\n",
    "solver = np.array([], dtype=object)\n",
    "solver = np.append(solver, SolverMVA(model, options))\n",
    "\n",
    "AvgTable = np.empty(len(solver), dtype=object)\n",
    "for s in range(len(solver)):\n",
    "    print(f'SOLVER: {solver[s].get_name()}')\n",
    "    AvgTable[s] = solver[s].get_avg_table()"
   ],
   "outputs": [
    {
     "name": "stdout",
     "output_type": "stream",
     "text": [
      "SOLVER: SolverMVA\n",
      "MVA analysis [method: default(exact), lang: java, env: 21.0.8] completed in 0.032950s.\n",
      "  Station JobClass    QLen    Util  RespT  ResidT    ArvR    Tput\n",
      "0   Delay   Class1  0.1818  0.1818    1.0     1.0  0.0364  0.1818\n",
      "1  Queue1   Class1  0.2727  0.2727    1.5     1.5  0.2364  0.1818\n",
      "2  Queue2   Class1  0.5455  0.5455    3.0     3.0  0.2727  0.1818\n"
     ]
    }
   ],
   "execution_count": 3
  }
 ],
 "metadata": {
  "kernelspec": {
   "display_name": "Python 3",
   "language": "python",
   "name": "python3"
  },
  "language_info": {
   "codemirror_mode": {
    "name": "ipython",
    "version": 3
   },
   "file_extension": ".py",
   "mimetype": "text/x-python",
   "name": "python",
   "nbconvert_exporter": "python",
   "pygments_lexer": "ipython3",
   "version": "3.8.0"
  }
 },
 "nbformat": 4,
 "nbformat_minor": 4
}
