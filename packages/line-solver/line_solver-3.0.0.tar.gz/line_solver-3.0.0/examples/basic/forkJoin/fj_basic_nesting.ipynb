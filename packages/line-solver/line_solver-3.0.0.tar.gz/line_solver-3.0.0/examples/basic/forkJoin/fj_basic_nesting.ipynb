{
 "cells": [
  {
   "cell_type": "code",
   "metadata": {
    "ExecuteTime": {
     "end_time": "2025-07-30T22:16:27.240847Z",
     "start_time": "2025-07-30T22:16:26.389571Z"
    }
   },
   "source": [
    "from line_solver import *\n",
    "import numpy as np\n",
    "GlobalConstants.set_verbose(VerboseLevel.STD)"
   ],
   "outputs": [],
   "execution_count": 1
  },
  {
   "cell_type": "code",
   "metadata": {
    "ExecuteTime": {
     "end_time": "2025-07-30T22:16:27.340675Z",
     "start_time": "2025-07-30T22:16:27.315548Z"
    }
   },
   "source": [
    "model = Network('model')\n",
    "\n",
    "# Nodes\n",
    "delay = Delay(model, 'Delay')\n",
    "fork1 = Fork(model, 'Fork1')\n",
    "fork1.set_tasks_per_link(1)\n",
    "fork11 = Fork(model, 'Fork1_1')\n",
    "fork11.set_tasks_per_link(2)\n",
    "join1 = Join(model, 'Join1', fork1)\n",
    "join11 = Join(model, 'Join1_1', fork11)\n",
    "queue1 = Queue(model, 'Queue1', SchedStrategy.PS)\n",
    "queue2 = Queue(model, 'Queue2', SchedStrategy.PS)\n",
    "\n",
    "# Classes\n",
    "jobclass1 = ClosedClass(model, 'class1', 5, delay, 0)\n",
    "jobclass2 = ClosedClass(model, 'class2', 2, delay, 0)\n",
    "\n",
    "# Service times\n",
    "delay.set_service(jobclass1, Exp(0.25))\n",
    "queue1.set_service(jobclass1, Exp(1.0))\n",
    "queue2.set_service(jobclass1, Exp(0.75))\n",
    "\n",
    "delay.set_service(jobclass2, Exp(0.25))\n",
    "queue1.set_service(jobclass2, Exp(2.0))\n",
    "queue2.set_service(jobclass2, Exp(2.0))"
   ],
   "outputs": [],
   "execution_count": 2
  },
  {
   "cell_type": "code",
   "metadata": {
    "ExecuteTime": {
     "end_time": "2025-07-30T22:16:27.365691Z",
     "start_time": "2025-07-30T22:16:27.355673Z"
    }
   },
   "source": [
    "# Routing\n",
    "P = model.init_routing_matrix()\n",
    "\n",
    "# Class 1 routing\n",
    "P.set(jobclass1, jobclass1, delay, fork1, 1.0)\n",
    "P.set(jobclass1, jobclass1, fork1, queue1, 1.0)\n",
    "P.set(jobclass1, jobclass1, fork1, queue2, 1.0)\n",
    "P.set(jobclass1, jobclass1, queue1, join1, 1.0)\n",
    "P.set(jobclass1, jobclass1, queue2, join1, 1.0)\n",
    "P.set(jobclass1, jobclass1, join1, delay, 1.0)\n",
    "\n",
    "# Class 2 routing\n",
    "P.set(jobclass2, jobclass2, delay, fork11, 1.0)\n",
    "P.set(jobclass2, jobclass2, fork11, fork1, 1.0)\n",
    "P.set(jobclass2, jobclass2, fork1, queue1, 1.0)\n",
    "P.set(jobclass2, jobclass2, fork1, queue2, 1.0)\n",
    "P.set(jobclass2, jobclass2, queue1, join1, 1.0)\n",
    "P.set(jobclass2, jobclass2, queue2, join1, 1.0)\n",
    "P.set(jobclass2, jobclass2, join1, join11, 1.0)\n",
    "P.set(jobclass2, jobclass2, join11, delay, 1.0)\n",
    "\n",
    "model.link(P)"
   ],
   "outputs": [],
   "execution_count": 3
  },
  {
   "cell_type": "code",
   "metadata": {
    "ExecuteTime": {
     "end_time": "2025-07-30T22:16:29.655643Z",
     "start_time": "2025-07-30T22:16:27.408594Z"
    }
   },
   "source": [
    "# Solve with different solvers",
    "solver = []",
    "",
    "# JMT solver",
    "jmt_options = SolverJMT.defaultOptions()",
    "jmt_options.seed = 23000",
    "solver.append(SolverJMT(model, jmt_options))",
    "",
    "# MVA solver",
    "solver.append(SolverMVA(model))",
    "",
    "# Get average tables",
    "AvgTable = []",
    "for s in solver:",
    "    print(f'\\nSOLVER: {s.get_name()}')",
    "    avg_table = s.get_avg_table()",
    "    AvgTable.append(avg_table)"
   ],
   "outputs": [
    {
     "name": "stdout",
     "output_type": "stream",
     "text": [
      "\n",
      "SOLVER: SolverJMT\n",
      "JMT Model: /tmp/workspace/jsim/10319964193960901386/jmodel.jsim\n",
      "JMT [method: default, lang: java, env: 21.0.8] completed in 1.942999s.\n",
      "   Station JobClass    QLen    Util   RespT  ResidT    ArvR    Tput\n",
      "0    Delay   class1  2.0048  2.0048  4.0521  4.0521  0.4957  0.4959\n",
      "1    Delay   class2  1.0274  1.0274  3.9767  3.9767  0.2546  0.2546\n",
      "2    Join1   class1  2.2220  0.0000  2.2680  2.2680  0.9824  0.4957\n",
      "3    Join1   class2  1.0298  0.0000  0.9969  0.9969  1.0307  0.4962\n",
      "5  Join1_1   class2  0.5092  0.0000  1.0146  1.0146  0.4962  0.2546\n",
      "6   Queue1   class1  1.3422  0.4968  2.6209  1.3105  0.4959  0.4958\n",
      "7   Queue1   class2  0.7907  0.2531  1.5417  0.7709  0.4975  0.5027\n",
      "8   Queue2   class1  2.4293  0.6700  4.9108  2.4554  0.4959  0.4956\n",
      "9   Queue2   class2  1.0851  0.2506  2.2152  1.1076  0.4975  0.4990\n",
      "\n",
      "SOLVER: SolverMVA\n",
      "MVA analysis [method: default(egflin), lang: java, env: 21.0.8] completed in 0.101014s.\n",
      "   Station JobClass    QLen    Util   RespT  ResidT    ArvR    Tput\n",
      "0    Delay   class1  1.8215  1.8215  4.0000  4.0000  0.4554  0.4554\n",
      "1    Delay   class2  0.8226  0.8226  4.0000  4.0000  0.4113  0.2057\n",
      "2    Join1   class1  2.3569  0.0000  2.5882  2.5882  1.3661  0.4554\n",
      "3    Join1   class2  0.4146  0.0000  0.4030  0.4030  1.2339  0.4113\n",
      "5  Join1_1   class2  1.1929  0.0000  2.9001  2.9001  1.2339  0.2057\n",
      "6   Queue1   class1  1.2687  0.4553  2.7863  1.3932  0.6831  0.4553\n",
      "7   Queue1   class2  0.5797  0.2057  1.4087  0.7043  0.6170  0.4115\n",
      "8   Queue2   class1  2.8425  0.6071  6.2428  3.1214  0.6831  0.4553\n",
      "9   Queue2   class2  0.9775  0.2057  2.3756  1.1878  0.6170  0.4115\n"
     ]
    }
   ],
   "execution_count": 4
  }
 ],
 "metadata": {
  "kernelspec": {
   "display_name": "Python 3",
   "language": "python",
   "name": "python3"
  },
  "language_info": {
   "codemirror_mode": {
    "name": "ipython",
    "version": 3
   },
   "file_extension": ".py",
   "mimetype": "text/x-python",
   "name": "python",
   "nbconvert_exporter": "python",
   "pygments_lexer": "ipython3",
   "version": "3.8.0"
  }
 },
 "nbformat": 4,
 "nbformat_minor": 4
}