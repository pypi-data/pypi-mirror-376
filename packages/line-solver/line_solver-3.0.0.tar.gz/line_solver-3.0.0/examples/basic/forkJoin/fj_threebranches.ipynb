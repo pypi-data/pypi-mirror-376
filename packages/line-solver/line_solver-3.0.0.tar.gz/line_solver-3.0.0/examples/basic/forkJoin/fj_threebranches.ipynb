{
 "cells": [
  {
   "cell_type": "code",
   "metadata": {
    "ExecuteTime": {
     "end_time": "2025-07-30T22:18:10.185518Z",
     "start_time": "2025-07-30T22:18:09.302259Z"
    }
   },
   "source": [
    "from line_solver import *\n",
    "import numpy as np\n",
    "GlobalConstants.set_verbose(VerboseLevel.STD)"
   ],
   "outputs": [],
   "execution_count": 1
  },
  {
   "cell_type": "code",
   "metadata": {
    "ExecuteTime": {
     "end_time": "2025-07-30T22:18:10.243807Z",
     "start_time": "2025-07-30T22:18:10.239623Z"
    }
   },
   "source": [
    "#Advanced Fork-Join Example 13\n",
    "#Complex fork-join with 3 parallel branches\n",
    "model = Network('model')"
   ],
   "outputs": [],
   "execution_count": 2
  },
  {
   "cell_type": "code",
   "metadata": {
    "ExecuteTime": {
     "end_time": "2025-07-30T22:18:10.305113Z",
     "start_time": "2025-07-30T22:18:10.288248Z"
    }
   },
   "source": "# Create network\ndelay = Delay(model, 'Delay1')\nqueue1 = Queue(model,'Queue1',SchedStrategy.PS)\nqueue2 = Queue(model,'Queue2',SchedStrategy.PS)\nqueue3 = Queue(model,'Queue3',SchedStrategy.PS)\nfork = Fork(model,'Fork')\njoin = Join(model,'Join', fork)\n\njobclass1 = ClosedClass(model, 'class1', 10, delay, 0)\njobclass2 = ClosedClass(model, 'class2', 10, delay, 0)",
   "outputs": [],
   "execution_count": 3
  },
  {
   "cell_type": "code",
   "metadata": {
    "ExecuteTime": {
     "end_time": "2025-07-30T22:18:10.354775Z",
     "start_time": "2025-07-30T22:18:10.349553Z"
    }
   },
   "source": "# Service configurations\n# Class 1\nqueue1.set_service(jobclass1, Exp(1.5))\nqueue2.set_service(jobclass1, Exp(1.1))\nqueue3.set_service(jobclass1, Exp(2.5))\ndelay.set_service(jobclass1, Exp(0.5))\n\n# Class 2\nqueue1.set_service(jobclass2, Exp(2.8))\nqueue2.set_service(jobclass2, Exp(3.0))\nqueue3.set_service(jobclass2, Exp(1.0))\ndelay.set_service(jobclass2, Exp(0.8))",
   "outputs": [],
   "execution_count": 4
  },
  {
   "cell_type": "code",
   "metadata": {
    "ExecuteTime": {
     "end_time": "2025-07-30T22:18:10.419861Z",
     "start_time": "2025-07-30T22:18:10.410311Z"
    }
   },
   "source": [
    "# Set routing matrix with serial routing queue2->queue3\n",
    "P = model.init_routing_matrix()\n",
    "\n",
    "# Class 1 routing\n",
    "P.set(jobclass1, jobclass1, delay, fork, 1.0)\n",
    "P.set(jobclass1, jobclass1, fork, queue1, 1.0)\n",
    "P.set(jobclass1, jobclass1, fork, queue2, 1.0)\n",
    "P.set(jobclass1, jobclass1, queue2, queue3, 1.0)  # Serial: queue2 -> queue3\n",
    "P.set(jobclass1, jobclass1, queue3, join, 1.0)\n",
    "P.set(jobclass1, jobclass1, queue1, join, 1.0)\n",
    "P.set(jobclass1, jobclass1, join, delay, 1.0)\n",
    "\n",
    "# Class 2 routing\n",
    "P.set(jobclass2, jobclass2, delay, fork, 1.0)\n",
    "P.set(jobclass2, jobclass2, fork, queue1, 1.0)\n",
    "P.set(jobclass2, jobclass2, fork, queue2, 1.0)\n",
    "P.set(jobclass2, jobclass2, queue2, queue3, 1.0)  # Serial: queue2 -> queue3\n",
    "P.set(jobclass2, jobclass2, queue3, join, 1.0)\n",
    "P.set(jobclass2, jobclass2, queue1, join, 1.0)\n",
    "P.set(jobclass2, jobclass2, join, delay, 1.0)\n",
    "\n",
    "model.link(P)"
   ],
   "outputs": [],
   "execution_count": 5
  },
  {
   "cell_type": "code",
   "metadata": {
    "ExecuteTime": {
     "end_time": "2025-07-30T22:18:10.789688Z",
     "start_time": "2025-07-30T22:18:10.458918Z"
    }
   },
   "source": [
    "# Solve with MVA only (like MATLAB)\n",
    "solver = SolverMVA(model)\n",
    "avgTable = solver.get_avg_table()"
   ],
   "outputs": [
    {
     "name": "stdout",
     "output_type": "stream",
     "text": [
      "MVA analysis [method: default(egflin), lang: java, env: 21.0.8] completed in 0.149325s.\n",
      "  Station JobClass    QLen    Util    RespT  ResidT    ArvR    Tput\n",
      "0  Delay1   class1  1.4649  1.4649   2.0000  2.0000  0.7325  0.7325\n",
      "1  Delay1   class2  0.7901  0.7901   1.2500  1.2500  0.6321  0.6321\n",
      "2  Queue1   class1  1.6386  0.4883   2.2371  1.1185  0.7325  0.7325\n",
      "3  Queue1   class2  0.7575  0.2257   1.1984  0.5992  0.6321  0.6321\n",
      "4  Queue2   class1  4.7629  0.6659   6.5026  3.2513  0.7325  0.7325\n",
      "5  Queue2   class2  1.5071  0.2107   2.3843  1.1922  0.6321  0.6321\n",
      "6  Queue3   class1  3.5643  0.2930   4.8662  2.4331  0.7325  0.7325\n",
      "7  Queue3   class2  7.6896  0.6321  12.1655  6.0827  0.6321  0.6321\n",
      "8    Join   class1  7.2282  0.0000   4.9342  4.9342  1.4649  0.7325\n",
      "9    Join   class2  8.5556  0.0000   6.7677  6.7677  1.2642  0.6321\n"
     ]
    }
   ],
   "execution_count": 6
  }
 ],
 "metadata": {
  "kernelspec": {
   "display_name": "Python 3",
   "language": "python",
   "name": "python3"
  },
  "language_info": {
   "codemirror_mode": {
    "name": "ipython",
    "version": 3
   },
   "file_extension": ".py",
   "mimetype": "text/x-python",
   "name": "python",
   "nbconvert_exporter": "python",
   "pygments_lexer": "ipython3",
   "version": "3.8.0"
  }
 },
 "nbformat": 4,
 "nbformat_minor": 4
}
