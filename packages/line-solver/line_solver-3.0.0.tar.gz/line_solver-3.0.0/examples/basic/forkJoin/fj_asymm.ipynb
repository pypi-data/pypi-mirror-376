{
 "cells": [
  {
   "cell_type": "code",
   "metadata": {
    "ExecuteTime": {
     "end_time": "2025-07-30T22:16:10.525862Z",
     "start_time": "2025-07-30T22:16:09.661406Z"
    }
   },
   "source": [
    "from line_solver import *\n",
    "import numpy as np\n",
    "GlobalConstants.set_verbose(VerboseLevel.STD)"
   ],
   "outputs": [],
   "execution_count": 1
  },
  {
   "cell_type": "code",
   "metadata": {
    "ExecuteTime": {
     "end_time": "2025-07-30T22:16:10.583606Z",
     "start_time": "2025-07-30T22:16:10.579748Z"
    }
   },
   "source": [
    "# Fork-Join network example 10\n",
    "model = Network('model')"
   ],
   "outputs": [],
   "execution_count": 2
  },
  {
   "cell_type": "code",
   "metadata": {
    "ExecuteTime": {
     "end_time": "2025-07-30T22:16:10.656823Z",
     "start_time": "2025-07-30T22:16:10.629439Z"
    }
   },
   "source": "# Create network\ndelay = Delay(model, 'Delay1')\nqueue1 = Queue(model,'Queue1',SchedStrategy.FCFS)\nqueue2 = Queue(model,'Queue2',SchedStrategy.FCFS)\nqueue3 = Queue(model,'Queue3',SchedStrategy.FCFS)\nfork = Fork(model,'Fork')\njoin = Join(model,'Join', fork)\n\njobclass1 = ClosedClass(model, 'class1', 10, delay, 0)",
   "outputs": [],
   "execution_count": 3
  },
  {
   "cell_type": "code",
   "metadata": {
    "ExecuteTime": {
     "end_time": "2025-07-30T22:16:10.687191Z",
     "start_time": "2025-07-30T22:16:10.679688Z"
    }
   },
   "source": "# Service configurations\nqueue1.set_service(jobclass1, Exp(1.0))\nqueue2.set_service(jobclass1, Exp(2.0))\nqueue3.set_service(jobclass1, Exp(1.0))\ndelay.set_service(jobclass1, Exp(0.5))",
   "outputs": [],
   "execution_count": 4
  },
  {
   "cell_type": "code",
   "metadata": {
    "ExecuteTime": {
     "end_time": "2025-07-30T22:16:10.746667Z",
     "start_time": "2025-07-30T22:16:10.739711Z"
    }
   },
   "source": [
    "# Set routing matrix with serial queue2->queue3 routing\n",
    "P = model.init_routing_matrix()\n",
    "\n",
    "P.set(jobclass1, jobclass1, delay, fork, 1.0)\n",
    "P.set(jobclass1, jobclass1, fork, queue1, 1.0)\n",
    "P.set(jobclass1, jobclass1, fork, queue2, 1.0)\n",
    "P.set(jobclass1, jobclass1, queue1, join, 1.0)\n",
    "P.set(jobclass1, jobclass1, queue2, queue3, 1.0)  # Serial routing: queue2 -> queue3\n",
    "P.set(jobclass1, jobclass1, queue3, join, 1.0)\n",
    "P.set(jobclass1, jobclass1, join, delay, 1.0)\n",
    "\n",
    "model.link(P)"
   ],
   "outputs": [],
   "execution_count": 5
  },
  {
   "cell_type": "code",
   "metadata": {
    "ExecuteTime": {
     "end_time": "2025-07-30T22:16:12.094815Z",
     "start_time": "2025-07-30T22:16:10.788984Z"
    }
   },
   "source": [
    "# Solve with multiple methods\n",
    "solvers = [SolverJMT(model, seed=23000), SolverMVA(model)]\n",
    "for i, solver in enumerate(solvers):\n",
    "    print(f'SOLVER {i+1}: {solver.get_name()}')\n",
    "    avgTable = solver.get_avg_table()"
   ],
   "outputs": [
    {
     "name": "stdout",
     "output_type": "stream",
     "text": [
      "SOLVER 1: SolverJMT\n",
      "JMT Model: /tmp/workspace/jsim/15045175220891375852/jmodel.jsim\n",
      "JMT [method: default, lang: java, env: 21.0.8] completed in 1.048899s.\n",
      "  Station JobClass    QLen    Util   RespT  ResidT    ArvR    Tput\n",
      "0  Delay1   class1  1.8834  1.8834  2.0364  2.0364  0.9455  0.9518\n",
      "1  Queue1   class1  5.9301  0.9415  6.2669  3.1335  0.9518  0.9480\n",
      "2  Queue2   class1  0.8816  0.4671  0.8938  0.4469  0.9518  0.9444\n",
      "3  Queue3   class1  5.3458  0.9335  5.6723  2.8362  0.9444  0.9444\n",
      "4    Join   class1  4.1832  0.0000  2.1920  2.1920  1.9276  0.9455\n",
      "SOLVER 2: SolverMVA\n",
      "MVA analysis [method: default(egflin), lang: java, env: 21.0.8] completed in 0.053155s.\n",
      "  Station JobClass    QLen    Util   RespT  ResidT    ArvR    Tput\n",
      "0  Delay1   class1  1.7139  1.7139  2.0000  2.0000  0.8569  0.8569\n",
      "1  Queue1   class1  5.2236  0.8569  6.0958  3.0479  0.8569  0.8569\n",
      "2  Queue2   class1  0.7360  0.4285  0.8589  0.4295  0.8569  0.8569\n",
      "3  Queue3   class1  5.2236  0.8569  6.0958  3.0479  0.8569  0.8569\n",
      "4    Join   class1  5.6159  0.0000  3.2768  3.2768  1.7139  0.8569\n"
     ]
    }
   ],
   "execution_count": 6
  }
 ],
 "metadata": {
  "kernelspec": {
   "display_name": "Python 3",
   "language": "python",
   "name": "python3"
  },
  "language_info": {
   "codemirror_mode": {
    "name": "ipython",
    "version": 3
   },
   "file_extension": ".py",
   "mimetype": "text/x-python",
   "name": "python",
   "nbconvert_exporter": "python",
   "pygments_lexer": "ipython3",
   "version": "3.8.0"
  }
 },
 "nbformat": 4,
 "nbformat_minor": 4
}
