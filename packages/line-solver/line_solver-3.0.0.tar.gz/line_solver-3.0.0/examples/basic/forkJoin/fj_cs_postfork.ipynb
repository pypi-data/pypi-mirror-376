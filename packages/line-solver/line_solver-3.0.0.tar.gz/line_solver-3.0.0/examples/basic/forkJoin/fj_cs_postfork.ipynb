{
 "cells": [
  {
   "cell_type": "code",
   "metadata": {
    "ExecuteTime": {
     "end_time": "2025-07-30T22:17:02.486344Z",
     "start_time": "2025-07-30T22:17:01.619195Z"
    }
   },
   "source": [
    "from line_solver import *\n",
    "import numpy as np\n",
    "GlobalConstants.set_verbose(VerboseLevel.STD)"
   ],
   "outputs": [],
   "execution_count": 1
  },
  {
   "cell_type": "code",
   "metadata": {
    "ExecuteTime": {
     "end_time": "2025-07-30T22:17:02.546024Z",
     "start_time": "2025-07-30T22:17:02.542222Z"
    }
   },
   "source": [
    "# Fork-Join network example 7\n",
    "model = Network('model')"
   ],
   "outputs": [],
   "execution_count": 2
  },
  {
   "cell_type": "code",
   "metadata": {
    "ExecuteTime": {
     "end_time": "2025-07-30T22:17:02.602332Z",
     "start_time": "2025-07-30T22:17:02.589816Z"
    }
   },
   "source": "# Create network\ndelay = Delay(model,'Delay')\nfork1 = Fork(model,'Fork1')\njoin1 = Join(model,'Join1',fork1)\nqueue1 = Queue(model,'Queue1',SchedStrategy.PS)\nqueue2 = Queue(model,'Queue2',SchedStrategy.PS)\n\njobclass1 = ClosedClass(model, 'class1', 1, delay, 0)\njobclass2 = ClosedClass(model, 'class2', 1, delay, 0)",
   "outputs": [],
   "execution_count": 3
  },
  {
   "cell_type": "code",
   "metadata": {
    "ExecuteTime": {
     "end_time": "2025-07-30T22:17:02.654587Z",
     "start_time": "2025-07-30T22:17:02.649651Z"
    }
   },
   "source": "# Service configurations\ndelay.set_service(jobclass1, Exp(0.25))\nqueue1.set_service(jobclass1, Exp(2.0))\nqueue2.set_service(jobclass1, Exp(2.0))\n\ndelay.set_service(jobclass2, Exp(0.25))\nqueue1.set_service(jobclass2, Exp(2.0))\nqueue2.set_service(jobclass2, Exp(2.0))",
   "outputs": [],
   "execution_count": 4
  },
  {
   "cell_type": "code",
   "metadata": {
    "ExecuteTime": {
     "end_time": "2025-07-30T22:17:02.720705Z",
     "start_time": "2025-07-30T22:17:02.709360Z"
    }
   },
   "source": [
    "# Set routing matrix with class switching\n",
    "P = model.init_routing_matrix()\n",
    "\n",
    "# Class 1 routing\n",
    "P.set(jobclass1, jobclass1, delay, fork1, 1.0)\n",
    "P.set(jobclass1, jobclass1, fork1, queue1, 1.0)\n",
    "P.set(jobclass1, jobclass1, fork1, queue2, 1.0)\n",
    "P.set(jobclass1, jobclass1, queue1, join1, 1.0)\n",
    "P.set(jobclass1, jobclass1, queue2, join1, 1.0)\n",
    "P.set(jobclass1, jobclass1, join1, delay, 1.0)\n",
    "\n",
    "# Class 2 routing (note the class switching from jobclass2 to jobclass1)\n",
    "P.set(jobclass2, jobclass2, delay, fork1, 1.0)\n",
    "P.set(jobclass2, jobclass1, fork1, queue1, 1.0)\n",
    "P.set(jobclass2, jobclass1, fork1, queue2, 1.0)\n",
    "\n",
    "model.link(P)"
   ],
   "outputs": [],
   "execution_count": 5
  },
  {
   "cell_type": "code",
   "metadata": {
    "ExecuteTime": {
     "end_time": "2025-07-30T22:17:04.721635Z",
     "start_time": "2025-07-30T22:17:02.760061Z"
    }
   },
   "source": [
    "# Solve with multiple methods\n",
    "solvers = [SolverMVA(model), SolverJMT(model, seed=23000)] # JMT has a bug on this one\n",
    "for i, solver in enumerate(solvers):\n",
    "    print(f'SOLVER {i+1}: {solver.get_name()}')\n",
    "    avgTable = solver.get_avg_table()"
   ],
   "outputs": [
    {
     "name": "stdout",
     "output_type": "stream",
     "text": [
      "SOLVER 1: SolverMVA\n",
      "MVA analysis [method: default(egflin), lang: java, env: 21.0.8] completed in 0.056588s.\n",
      "  Station JobClass    QLen    Util   RespT  ResidT    ArvR    Tput\n",
      "0   Delay   class1  1.6364  1.6364  4.0000  4.0000  0.4091  0.4091\n",
      "2   Join1   class1  0.2464  0.0000  0.3012  0.3012  1.2273  0.4091\n",
      "4  Queue1   class1  0.2464  0.2045  0.6024  0.3012  0.6137  0.4090\n",
      "6  Queue2   class1  0.2464  0.2045  0.6024  0.3012  0.6137  0.4090\n",
      "SOLVER 2: SolverJMT\n",
      "JMT Model: /tmp/workspace/jsim/5934446376259706483/jmodel.jsim\n",
      "JMT [method: default, lang: java, env: 21.0.8] completed in 1.713442s.\n",
      "  Station JobClass    QLen    Util   RespT  ResidT    ArvR    Tput\n",
      "0   Delay   class1  0.8324  0.8324  4.0033  4.0033  0.2054  0.2078\n",
      "2   Join1   class1  0.2241  0.0000  0.2740  0.2740  0.8255  0.2058\n",
      "4  Queue1   class1  0.2234  0.2007  0.5470  0.2735  0.4146  0.4146\n",
      "6  Queue2   class1  0.2159  0.1980  0.5504  0.2752  0.4146  0.4146\n"
     ]
    }
   ],
   "execution_count": 6
  }
 ],
 "metadata": {
  "kernelspec": {
   "display_name": "Python 3",
   "language": "python",
   "name": "python3"
  },
  "language_info": {
   "codemirror_mode": {
    "name": "ipython",
    "version": 3
   },
   "file_extension": ".py",
   "mimetype": "text/x-python",
   "name": "python",
   "nbconvert_exporter": "python",
   "pygments_lexer": "ipython3",
   "version": "3.8.0"
  }
 },
 "nbformat": 4,
 "nbformat_minor": 4
}
