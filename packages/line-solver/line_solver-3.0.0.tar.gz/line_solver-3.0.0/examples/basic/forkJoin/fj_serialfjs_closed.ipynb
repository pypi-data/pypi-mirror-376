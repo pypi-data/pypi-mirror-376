{
 "cells": [
  {
   "cell_type": "code",
   "metadata": {
    "ExecuteTime": {
     "end_time": "2025-07-30T22:17:54.064128Z",
     "start_time": "2025-07-30T22:17:53.115284Z"
    }
   },
   "source": [
    "from line_solver import *\n",
    "import numpy as np\n",
    "GlobalConstants.set_verbose(VerboseLevel.STD)"
   ],
   "outputs": [],
   "execution_count": 1
  },
  {
   "cell_type": "code",
   "metadata": {
    "ExecuteTime": {
     "end_time": "2025-07-30T22:17:54.125324Z",
     "start_time": "2025-07-30T22:17:54.121669Z"
    }
   },
   "source": "# Series of Fork-Join Networks\nmodel = Network('model')",
   "outputs": [],
   "execution_count": 2
  },
  {
   "cell_type": "code",
   "metadata": {
    "ExecuteTime": {
     "end_time": "2025-07-30T22:17:54.182346Z",
     "start_time": "2025-07-30T22:17:54.169130Z"
    }
   },
   "source": "# Create series of fork-join stages\ndelay = Delay(model, 'Delay1')\nqueue1 = Queue(model,'Queue1',SchedStrategy.PS)\nqueue2 = Queue(model,'Queue2',SchedStrategy.PS)\nfork = Fork(model,'Fork')\njoin = Join(model,'Join', fork)\nqueue3 = Queue(model,'Queue3',SchedStrategy.PS)\nqueue4 = Queue(model,'Queue4',SchedStrategy.PS)\nfork2 = Fork(model,'Fork2')\njoin2 = Join(model,'Join2', fork2)\n\njobclass1 = ClosedClass(model, 'class1', 10, delay, 0)",
   "outputs": [],
   "execution_count": 3
  },
  {
   "cell_type": "code",
   "metadata": {
    "ExecuteTime": {
     "end_time": "2025-07-30T22:17:54.224518Z",
     "start_time": "2025-07-30T22:17:54.220165Z"
    }
   },
   "source": "# Service configurations\nqueue1.set_service(jobclass1, Exp(1.0))\nqueue2.set_service(jobclass1, Exp(1.0))\ndelay.set_service(jobclass1, Exp(0.5))\nqueue3.set_service(jobclass1, Exp(1.0))\nqueue4.set_service(jobclass1, Exp(1.0))",
   "outputs": [],
   "execution_count": 4
  },
  {
   "cell_type": "code",
   "metadata": {
    "ExecuteTime": {
     "end_time": "2025-07-30T22:17:54.288924Z",
     "start_time": "2025-07-30T22:17:54.281206Z"
    }
   },
   "source": [
    "# Series fork-join routing\n",
    "P = model.init_routing_matrix()\n",
    "\n",
    "# First fork-join stage\n",
    "P.set(jobclass1, jobclass1, delay, fork, 1.0)\n",
    "P.set(jobclass1, jobclass1, fork, queue1, 1.0)\n",
    "P.set(jobclass1, jobclass1, fork, queue2, 1.0)\n",
    "P.set(jobclass1, jobclass1, queue1, join, 1.0)\n",
    "P.set(jobclass1, jobclass1, queue2, join, 1.0)\n",
    "# Between stages: join -> fork2\n",
    "P.set(jobclass1, jobclass1, join, fork2, 1.0)\n",
    "# Second fork-join stage\n",
    "P.set(jobclass1, jobclass1, fork2, queue3, 1.0)\n",
    "P.set(jobclass1, jobclass1, fork2, queue4, 1.0)\n",
    "P.set(jobclass1, jobclass1, queue3, join2, 1.0)\n",
    "P.set(jobclass1, jobclass1, queue4, join2, 1.0)\n",
    "P.set(jobclass1, jobclass1, join2, delay, 1.0)\n",
    "\n",
    "model.link(P)"
   ],
   "outputs": [],
   "execution_count": 5
  },
  {
   "cell_type": "code",
   "metadata": {
    "ExecuteTime": {
     "end_time": "2025-07-30T22:17:55.836189Z",
     "start_time": "2025-07-30T22:17:54.339840Z"
    }
   },
   "source": [
    "# Solve with multiple methods\n",
    "solvers = [SolverJMT(model, seed=23000), SolverMVA(model)]\n",
    "for i, solver in enumerate(solvers):\n",
    "    print(f'SOLVER {i+1}: {solver.get_name()}')\n",
    "    avgTable = solver.get_avg_table()"
   ],
   "outputs": [
    {
     "name": "stdout",
     "output_type": "stream",
     "text": [
      "SOLVER 1: SolverJMT\n",
      "JMT Model: /tmp/workspace/jsim/3370124402616682040/jmodel.jsim\n",
      "JMT [method: default, lang: java, env: 21.0.8] completed in 1.254740s.\n",
      "  Station JobClass    QLen    Util   RespT  ResidT    ArvR    Tput\n",
      "0  Delay1   class1  1.6255  1.6255  1.9812  1.9812  0.7941  0.7942\n",
      "1  Queue1   class1  2.4695  0.7886  3.0255  1.5128  0.7942  0.7895\n",
      "2  Queue2   class1  2.6214  0.7811  3.4269  1.7134  0.7942  0.7945\n",
      "3    Join   class1  2.8113  0.0000  1.6344  1.6344  1.5847  0.7945\n",
      "4  Queue3   class1  2.7476  0.8061  3.5097  1.7549  0.7945  0.7908\n",
      "5  Queue4   class1  2.8230  0.8190  3.5903  1.7952  0.7945  0.7912\n",
      "6   Join2   class1  3.1266  0.0000  1.9626  1.9626  1.5855  0.7941\n",
      "SOLVER 2: SolverMVA\n",
      "MVA analysis [method: default(egflin), lang: java, env: 21.0.8] completed in 0.057938s.\n",
      "  Station JobClass    QLen    Util   RespT  ResidT    ArvR   Tput\n",
      "0  Delay1   class1  1.5101  1.5101  2.0000  2.0000  0.7550  0.755\n",
      "1  Queue1   class1  2.8654  0.7550  3.7951  1.8975  0.3775  0.755\n",
      "2  Queue2   class1  2.8654  0.7550  3.7951  1.8975  0.3775  0.755\n",
      "3    Join   class1  2.8654  0.0000  1.8975  1.8975  0.7550  0.755\n",
      "4  Queue3   class1  2.8654  0.7550  3.7951  1.8975  0.7550  0.755\n",
      "5  Queue4   class1  2.8654  0.7550  3.7951  1.8975  0.7550  0.755\n",
      "6   Join2   class1  2.8654  0.0000  1.8975  1.8975  1.5101  0.755\n"
     ]
    }
   ],
   "execution_count": 6
  }
 ],
 "metadata": {
  "kernelspec": {
   "display_name": "Python 3",
   "language": "python",
   "name": "python3"
  },
  "language_info": {
   "codemirror_mode": {
    "name": "ipython",
    "version": 3
   },
   "file_extension": ".py",
   "mimetype": "text/x-python",
   "name": "python",
   "nbconvert_exporter": "python",
   "pygments_lexer": "ipython3",
   "version": "3.8.0"
  }
 },
 "nbformat": 4,
 "nbformat_minor": 4
}
