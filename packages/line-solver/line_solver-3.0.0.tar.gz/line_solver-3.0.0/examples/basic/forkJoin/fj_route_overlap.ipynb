{
 "cells": [
  {
   "cell_type": "code",
   "metadata": {
    "ExecuteTime": {
     "end_time": "2025-07-30T22:17:45.543530Z",
     "start_time": "2025-07-30T22:17:44.646483Z"
    }
   },
   "source": [
    "from line_solver import *\n",
    "import numpy as np\n",
    "GlobalConstants.set_verbose(VerboseLevel.STD)"
   ],
   "outputs": [],
   "execution_count": 1
  },
  {
   "cell_type": "code",
   "metadata": {
    "ExecuteTime": {
     "end_time": "2025-07-30T22:17:45.620175Z",
     "start_time": "2025-07-30T22:17:45.616271Z"
    }
   },
   "source": [
    "# Fork-Join network example 9\n",
    "model = Network('model')"
   ],
   "outputs": [],
   "execution_count": 2
  },
  {
   "cell_type": "code",
   "metadata": {
    "ExecuteTime": {
     "end_time": "2025-07-30T22:17:45.690566Z",
     "start_time": "2025-07-30T22:17:45.668587Z"
    }
   },
   "source": "# Create network\ndelay = Delay(model, 'Delay1')\nqueue1 = Queue(model,'Queue1',SchedStrategy.FCFS)\nqueue2 = Queue(model,'Queue2',SchedStrategy.FCFS)\nfork = Fork(model,'Fork')\njoin = Join(model,'Join', fork)\n\njobclass1 = ClosedClass(model, 'class1', 10, delay, 0)\njobclass2 = ClosedClass(model, 'class2', 10, delay, 0)",
   "outputs": [],
   "execution_count": 3
  },
  {
   "cell_type": "code",
   "metadata": {
    "ExecuteTime": {
     "end_time": "2025-07-30T22:17:45.723903Z",
     "start_time": "2025-07-30T22:17:45.719345Z"
    }
   },
   "source": "# Service configurations\n# Class 1\nqueue1.set_service(jobclass1, Exp(1.0))\nqueue2.set_service(jobclass1, Exp(2.0))\ndelay.set_service(jobclass1, Exp(0.5))\n\n# Class 2\nqueue1.set_service(jobclass2, Exp(1.0))\nqueue2.set_service(jobclass2, Exp(2.0))\ndelay.set_service(jobclass2, Exp(0.2))",
   "outputs": [],
   "execution_count": 4
  },
  {
   "cell_type": "code",
   "metadata": {
    "ExecuteTime": {
     "end_time": "2025-07-30T22:17:45.777082Z",
     "start_time": "2025-07-30T22:17:45.769586Z"
    }
   },
   "source": [
    "# Set routing matrix\n",
    "P = model.init_routing_matrix()\n",
    "\n",
    "# Class 1 routing\n",
    "P.set(jobclass1, jobclass1, delay, fork, 1.0)\n",
    "P.set(jobclass1, jobclass1, fork, queue1, 1.0)\n",
    "P.set(jobclass1, jobclass1, fork, queue2, 1.0)\n",
    "P.set(jobclass1, jobclass1, queue1, join, 1.0)\n",
    "P.set(jobclass1, jobclass1, queue2, join, 1.0)\n",
    "P.set(jobclass1, jobclass1, join, delay, 1.0)\n",
    "\n",
    "# Class 2 routing\n",
    "P.set(jobclass2, jobclass2, delay, fork, 1.0)\n",
    "P.set(jobclass2, jobclass2, fork, queue1, 1.0)\n",
    "P.set(jobclass2, jobclass2, fork, queue2, 1.0)\n",
    "P.set(jobclass2, jobclass2, queue1, join, 1.0)\n",
    "P.set(jobclass2, jobclass2, queue2, join, 1.0)\n",
    "P.set(jobclass2, jobclass2, join, delay, 1.0)\n",
    "\n",
    "model.link(P)"
   ],
   "outputs": [],
   "execution_count": 5
  },
  {
   "cell_type": "code",
   "metadata": {
    "ExecuteTime": {
     "end_time": "2025-07-30T22:17:47.250615Z",
     "start_time": "2025-07-30T22:17:45.819111Z"
    }
   },
   "source": [
    "# Solve with multiple methods\n",
    "solvers = [SolverJMT(model, seed=23000), SolverMVA(model)]\n",
    "for i, solver in enumerate(solvers):\n",
    "    print(f'SOLVER {i+1}: {solver.get_name()}')\n",
    "    avgTable = solver.get_avg_table()"
   ],
   "outputs": [
    {
     "name": "stdout",
     "output_type": "stream",
     "text": [
      "SOLVER 1: SolverJMT\n",
      "JMT Model: /tmp/workspace/jsim/2052350308563438810/jmodel.jsim\n",
      "JMT [method: default, lang: java, env: 21.0.8] completed in 1.092072s.\n",
      "  Station JobClass    QLen    Util    RespT  ResidT    ArvR    Tput\n",
      "0  Delay1   class1  1.0786  1.0786   1.9821  1.9821  0.5433  0.5434\n",
      "1  Delay1   class2  2.2985  2.2985   5.0546  5.0546  0.4624  0.4626\n",
      "2  Queue1   class1  8.9214  0.5414  16.4290  8.2145  0.5434  0.5433\n",
      "3  Queue1   class2  7.7015  0.4553  16.6717  8.3358  0.4626  0.4624\n",
      "4  Queue2   class1  0.5708  0.2640   1.0145  0.5073  0.5434  0.5434\n",
      "5  Queue2   class2  0.4647  0.2335   1.0317  0.5158  0.4626  0.4626\n",
      "6    Join   class1  8.4049  0.0000   7.7213  7.7213  1.0828  0.5433\n",
      "7    Join   class2  7.2518  0.0000   7.7680  7.7680  0.9268  0.4624\n",
      "SOLVER 2: SolverMVA\n",
      "MVA analysis [method: default(egflin), lang: java, env: 21.0.8] completed in 0.161029s.\n",
      "  Station JobClass    QLen    Util    RespT  ResidT    ArvR    Tput\n",
      "0  Delay1   class1  1.0241  1.0241   2.0000  2.0000  0.5120  0.5120\n",
      "1  Delay1   class2  2.2149  2.2149   5.0000  5.0000  0.4430  0.4430\n",
      "2  Queue1   class1  9.0081  0.5121  17.5920  8.7960  0.5120  0.5121\n",
      "3  Queue1   class2  7.8062  0.4430  17.6214  8.8107  0.4430  0.4430\n",
      "4  Queue2   class1  0.4843  0.2560   0.9458  0.4729  0.5120  0.5121\n",
      "5  Queue2   class2  0.4194  0.2215   0.9466  0.4733  0.4430  0.4430\n",
      "6    Join   class1  8.5768  0.0000   8.3748  8.3748  1.0241  0.5120\n",
      "7    Join   class2  7.4327  0.0000   8.3891  8.3891  0.8860  0.4430\n"
     ]
    }
   ],
   "execution_count": 6
  }
 ],
 "metadata": {
  "kernelspec": {
   "display_name": "Python 3",
   "language": "python",
   "name": "python3"
  },
  "language_info": {
   "codemirror_mode": {
    "name": "ipython",
    "version": 3
   },
   "file_extension": ".py",
   "mimetype": "text/x-python",
   "name": "python",
   "nbconvert_exporter": "python",
   "pygments_lexer": "ipython3",
   "version": "3.8.0"
  }
 },
 "nbformat": 4,
 "nbformat_minor": 4
}
