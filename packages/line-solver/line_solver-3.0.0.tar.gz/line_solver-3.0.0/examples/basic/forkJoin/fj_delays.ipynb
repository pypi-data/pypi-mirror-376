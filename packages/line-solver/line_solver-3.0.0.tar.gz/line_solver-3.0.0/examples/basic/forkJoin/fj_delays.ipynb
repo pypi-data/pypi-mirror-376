{
 "cells": [
  {
   "cell_type": "code",
   "metadata": {
    "ExecuteTime": {
     "end_time": "2025-07-30T22:17:30.151064Z",
     "start_time": "2025-07-30T22:17:29.202283Z"
    }
   },
   "source": [
    "from line_solver import *\n",
    "import numpy as np\n",
    "GlobalConstants.set_verbose(VerboseLevel.STD)"
   ],
   "outputs": [],
   "execution_count": 1
  },
  {
   "cell_type": "code",
   "metadata": {
    "ExecuteTime": {
     "end_time": "2025-07-30T22:17:30.158807Z",
     "start_time": "2025-07-30T22:17:30.154071Z"
    }
   },
   "source": "# Fork-Join Example 11\nmodel = Network('model')",
   "outputs": [],
   "execution_count": 2
  },
  {
   "cell_type": "code",
   "metadata": {
    "ExecuteTime": {
     "end_time": "2025-07-30T22:17:30.239249Z",
     "start_time": "2025-07-30T22:17:30.226199Z"
    }
   },
   "source": "# Create network\ndelay = Delay(model, 'Delay1')\ndelay2 = Delay(model, 'Delay2')\nqueue1 = Queue(model,'Queue1',SchedStrategy.FCFS)\nqueue2 = Queue(model,'Queue2',SchedStrategy.FCFS)\nfork = Fork(model,'Fork')\njoin = Join(model,'Join', fork)\n\njobclass1 = ClosedClass(model, 'class1', 10, delay, 0)",
   "outputs": [],
   "execution_count": 3
  },
  {
   "cell_type": "code",
   "metadata": {
    "ExecuteTime": {
     "end_time": "2025-07-30T22:17:30.294182Z",
     "start_time": "2025-07-30T22:17:30.288714Z"
    }
   },
   "source": "# Service configurations\nqueue1.set_service(jobclass1, Exp(1.0))\nqueue2.set_service(jobclass1, Exp(1.0))\ndelay.set_service(jobclass1, Exp(0.5))\ndelay2.set_service(jobclass1, Exp(2.0))",
   "outputs": [],
   "execution_count": 4
  },
  {
   "cell_type": "code",
   "metadata": {
    "ExecuteTime": {
     "end_time": "2025-07-30T22:17:30.345824Z",
     "start_time": "2025-07-30T22:17:30.338413Z"
    }
   },
   "source": [
    "# Set routing matrix\n",
    "P = model.init_routing_matrix()\n",
    "\n",
    "# Serial routing through delays: delay -> delay2 -> fork\n",
    "P.set(jobclass1, jobclass1, delay, delay2, 1.0)\n",
    "P.set(jobclass1, jobclass1, delay2, fork, 1.0)\n",
    "P.set(jobclass1, jobclass1, fork, queue1, 1.0)\n",
    "P.set(jobclass1, jobclass1, fork, queue2, 1.0)\n",
    "P.set(jobclass1, jobclass1, queue1, join, 1.0)\n",
    "P.set(jobclass1, jobclass1, queue2, join, 1.0)\n",
    "P.set(jobclass1, jobclass1, join, delay, 1.0)\n",
    "\n",
    "model.link(P)"
   ],
   "outputs": [],
   "execution_count": 5
  },
  {
   "cell_type": "code",
   "metadata": {
    "ExecuteTime": {
     "end_time": "2025-07-30T22:17:31.596972Z",
     "start_time": "2025-07-30T22:17:30.389397Z"
    }
   },
   "source": [
    "# Solve with multiple methods\n",
    "solvers = [SolverJMT(model, seed=23000), SolverMVA(model)]\n",
    "for i, solver in enumerate(solvers):\n",
    "    print(f'SOLVER {i+1}: {solver.get_name()}')\n",
    "    avgTable = solver.get_avg_table()"
   ],
   "outputs": [
    {
     "name": "stdout",
     "output_type": "stream",
     "text": [
      "SOLVER 1: SolverJMT\n",
      "JMT Model: /tmp/workspace/jsim/12359597666112809508/jmodel.jsim\n",
      "JMT [method: default, lang: java, env: 21.0.8] completed in 0.980834s.\n",
      "  Station JobClass    QLen    Util   RespT  ResidT    ArvR    Tput\n",
      "0  Delay1   class1  1.8026  1.8026  1.9628  1.9628  0.9450  0.9425\n",
      "1  Delay2   class1  0.4646  0.4646  0.4845  0.4845  0.9425  0.9428\n",
      "2  Queue1   class1  5.3478  0.9380  6.0091  3.0046  0.9428  0.9431\n",
      "3  Queue2   class1  5.6791  0.9343  5.9441  2.9720  0.9428  0.9433\n",
      "4    Join   class1  4.3491  0.0000  2.2717  2.2717  1.8720  0.9413\n",
      "SOLVER 2: SolverMVA\n",
      "MVA analysis [method: default(egflin), lang: java, env: 21.0.8] completed in 0.043077s.\n",
      "  Station JobClass    QLen    Util   RespT  ResidT    ArvR    Tput\n",
      "0  Delay1   class1  1.7184  1.7184  2.0000  2.0000  0.8592  0.8592\n",
      "1  Delay2   class1  0.4296  0.4296  0.5000  0.5000  0.8592  0.8592\n",
      "2  Queue1   class1  5.3091  0.8592  6.1792  3.0896  0.8592  0.8592\n",
      "3  Queue2   class1  5.3091  0.8592  6.1792  3.0896  0.8592  0.8592\n",
      "4    Join   class1  5.3091  0.0000  3.0896  3.0896  1.7184  0.8592\n"
     ]
    }
   ],
   "execution_count": 6
  }
 ],
 "metadata": {
  "kernelspec": {
   "display_name": "Python 3",
   "language": "python",
   "name": "python3"
  },
  "language_info": {
   "codemirror_mode": {
    "name": "ipython",
    "version": 3
   },
   "file_extension": ".py",
   "mimetype": "text/x-python",
   "name": "python",
   "nbconvert_exporter": "python",
   "pygments_lexer": "ipython3",
   "version": "3.8.0"
  }
 },
 "nbformat": 4,
 "nbformat_minor": 4
}
