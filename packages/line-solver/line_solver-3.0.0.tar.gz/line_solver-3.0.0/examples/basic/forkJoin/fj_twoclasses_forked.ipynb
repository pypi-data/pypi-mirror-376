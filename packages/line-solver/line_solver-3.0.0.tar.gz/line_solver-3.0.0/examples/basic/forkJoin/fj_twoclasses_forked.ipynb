{
 "cells": [
  {
   "cell_type": "code",
   "metadata": {
    "ExecuteTime": {
     "end_time": "2025-07-30T22:18:17.755573Z",
     "start_time": "2025-07-30T22:18:16.745933Z"
    }
   },
   "source": [
    "from line_solver import *\n",
    "import numpy as np\n",
    "GlobalConstants.set_verbose(VerboseLevel.STD)"
   ],
   "outputs": [],
   "execution_count": 1
  },
  {
   "cell_type": "code",
   "metadata": {
    "ExecuteTime": {
     "end_time": "2025-07-30T22:18:17.835840Z",
     "start_time": "2025-07-30T22:18:17.832047Z"
    }
   },
   "source": [
    "# Fork-Join queueing network\n",
    "model = Network('model')"
   ],
   "outputs": [],
   "execution_count": 2
  },
  {
   "cell_type": "code",
   "metadata": {
    "ExecuteTime": {
     "end_time": "2025-07-30T22:18:17.889708Z",
     "start_time": "2025-07-30T22:18:17.877875Z"
    }
   },
   "source": [
    "# Create network \n",
    "source = Source(model, 'Source')\n",
    "\n",
    "queue1 = Queue(model, 'Queue1', SchedStrategy.PS)\n",
    "queue2 = Queue(model, 'Queue2', SchedStrategy.PS)\n",
    "\n",
    "fork = Fork(model, 'Fork')\n",
    "fork.set_tasks_per_link(2)\n",
    "join = Join(model, 'Join', fork)\n",
    "\n",
    "sink = Sink(model, 'Sink')"
   ],
   "outputs": [],
   "execution_count": 3
  },
  {
   "cell_type": "code",
   "metadata": {
    "ExecuteTime": {
     "end_time": "2025-07-30T22:18:17.942054Z",
     "start_time": "2025-07-30T22:18:17.939069Z"
    }
   },
   "source": [
    "# Create job classes\n",
    "jobclass1 = OpenClass(model, 'class1')\n",
    "jobclass2 = OpenClass(model, 'class2')"
   ],
   "outputs": [],
   "execution_count": 4
  },
  {
   "cell_type": "code",
   "metadata": {
    "ExecuteTime": {
     "end_time": "2025-07-30T22:18:18.004243Z",
     "start_time": "2025-07-30T22:18:17.998404Z"
    }
   },
   "source": [
    "#Set arrival and service processes\n",
    "# Class 1\n",
    "source.set_arrival(jobclass1, Exp(0.25))\n",
    "queue1.set_service(jobclass1, Exp(1.0))\n",
    "queue2.set_service(jobclass1, Exp(0.75))\n",
    "# Class 2\n",
    "source.set_arrival(jobclass2, Exp(0.25))\n",
    "queue1.set_service(jobclass2, Immediate())\n",
    "queue2.set_service(jobclass2, Exp(2.0))"
   ],
   "outputs": [],
   "execution_count": 5
  },
  {
   "cell_type": "code",
   "metadata": {
    "ExecuteTime": {
     "end_time": "2025-07-30T22:18:18.057869Z",
     "start_time": "2025-07-30T22:18:18.048586Z"
    }
   },
   "source": [
    "# Set routing matrix\n",
    "P = model.init_routing_matrix() # Class 1 routing\n",
    "P.set(jobclass1, jobclass1, source, fork, 1.0)\n",
    "P.set(jobclass1, jobclass1, fork, queue1, 1.0)\n",
    "P.set(jobclass1, jobclass1, fork, queue2, 1.0)\n",
    "P.set(jobclass1, jobclass1, queue1, join, 1.0)\n",
    "P.set(jobclass1, jobclass1, queue2, join, 1.0)\n",
    "P.set(jobclass1, jobclass1, join, sink, 1.0) # Class 2 routing\n",
    "P.set(jobclass2, jobclass2, source, fork, 1.0)\n",
    "P.set(jobclass2, jobclass2, fork, queue1, 1.0)\n",
    "P.set(jobclass2, jobclass2, fork, queue2, 1.0)\n",
    "P.set(jobclass2, jobclass2, queue1, join, 1.0)\n",
    "P.set(jobclass2, jobclass2, queue2, join, 1.0)\n",
    "P.set(jobclass2, jobclass2, join, sink, 1.0)\n",
    "model.link(P)"
   ],
   "outputs": [],
   "execution_count": 6
  },
  {
   "cell_type": "code",
   "metadata": {
    "ExecuteTime": {
     "end_time": "2025-07-30T22:18:19.655833Z",
     "start_time": "2025-07-30T22:18:18.099399Z"
    }
   },
   "source": [
    "# Solve with multiple methods\n",
    "solvers = [ SolverJMT(model, seed=23000), SolverMVA(model)]\n",
    "for i, solver in enumerate(solvers):\n",
    "    print(f'SOLVER {i+1}: {solver.get_name()}')\n",
    "    avgTable = solver.get_avg_table()"
   ],
   "outputs": [
    {
     "name": "stdout",
     "output_type": "stream",
     "text": [
      "SOLVER 1: SolverJMT\n",
      "JMT Model: /tmp/workspace/jsim/15479674282163109897/jmodel.jsim\n",
      "JMT [method: default, lang: java, env: 21.0.8] completed in 1.202283s.\n",
      "  Station JobClass     QLen    Util    RespT   ResidT    ArvR    Tput\n",
      "0  Source   class1   0.0000  0.0000   0.0000   0.0000  0.0000  0.2510\n",
      "1  Source   class2   0.0000  0.0000   0.0000   0.0000  0.0000  0.2477\n",
      "2  Queue1   class1   1.3998  0.5127   3.0043   1.5021  0.5209  0.5209\n",
      "3  Queue1   class2   0.0000  0.0000   0.0000   0.0000  0.5004  0.5004\n",
      "4  Queue2   class1  11.3398  0.6998  20.6083  10.3042  0.5209  0.5115\n",
      "5  Queue2   class2   4.1457  0.2507   8.5604   4.2802  0.5004  0.5061\n",
      "6    Join   class1  20.0231  0.0000  19.2747  19.2747  1.0307  0.2507\n",
      "7    Join   class2   8.1158  0.0000   8.1805   8.1805  1.0108  0.2480\n",
      "SOLVER 2: SolverMVA\n",
      "MVA analysis [method: default(egflin), lang: java, env: 21.0.8] completed in 0.151226s.\n",
      "  Station JobClass     QLen    Util       RespT   ResidT  ArvR  Tput\n",
      "0  Source   class1   0.0000  0.0000  0.0000e+00   0.0000   0.0  0.25\n",
      "1  Source   class2   0.0000  0.0000  0.0000e+00   0.0000   0.0  0.25\n",
      "2  Queue1   class1   1.0000  0.5000  2.0000e+00   1.0000   0.5  0.50\n",
      "3  Queue1   class2   0.0000  0.0000  2.0000e-08   0.0000   0.5  0.50\n",
      "4  Queue2   class1   7.9989  0.6667  1.5998e+01   7.9990   0.5  0.50\n",
      "5  Queue2   class2   2.9996  0.2500  5.9992e+00   2.9996   0.5  0.50\n",
      "6    Join   class1  23.4382  0.0000  2.3438e+01  23.4385   1.0  0.25\n",
      "7    Join   class2   8.9976  0.0000  8.9977e+00   8.9977   1.0  0.25\n"
     ]
    }
   ],
   "execution_count": 7
  }
 ],
 "metadata": {
  "kernelspec": {
   "display_name": "Python 3",
   "language": "python",
   "name": "python3"
  },
  "language_info": {
   "codemirror_mode": {
    "name": "ipython",
    "version": 3
   },
   "file_extension": ".py",
   "mimetype": "text/x-python",
   "name": "python",
   "nbconvert_exporter": "python",
   "pygments_lexer": "ipython3",
   "version": "3.8.0"
  }
 },
 "nbformat": 4,
 "nbformat_minor": 4
}
