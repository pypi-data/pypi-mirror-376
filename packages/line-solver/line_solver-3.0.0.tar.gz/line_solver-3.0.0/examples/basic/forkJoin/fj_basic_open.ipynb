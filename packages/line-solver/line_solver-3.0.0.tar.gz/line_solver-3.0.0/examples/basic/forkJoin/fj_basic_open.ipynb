{
 "cells": [
  {
   "cell_type": "code",
   "id": "initial_id",
   "metadata": {
    "collapsed": true,
    "ExecuteTime": {
     "end_time": "2025-07-30T22:16:37.000961Z",
     "start_time": "2025-07-30T22:16:36.014328Z"
    }
   },
   "source": [
    "import time\n",
    "from line_solver import *\n",
    "GlobalConstants.set_verbose(VerboseLevel.STD)"
   ],
   "outputs": [],
   "execution_count": 1
  },
  {
   "cell_type": "code",
   "source": [
    "t = time.time()\n",
    "model = Network('model')\n",
    "\n",
    "source = Source(model,'Source')\n",
    "queue1 = Queue(model,'Queue1',SchedStrategy.FCFS)\n",
    "queue2 = Queue(model,'Queue2',SchedStrategy.FCFS)\n",
    "fork = Fork(model,'Fork')\n",
    "join = Join(model,'Join', fork)\n",
    "sink = Sink(model,'Sink')\n",
    "\n",
    "jobclass1 = OpenClass(model, 'class1')\n",
    "\n",
    "source.set_arrival(jobclass1, Exp(0.05))\n",
    "queue1.set_service(jobclass1, Exp(1.0))\n",
    "queue2.set_service(jobclass1, Exp(2.0))\n",
    "\n",
    "P = model.init_routing_matrix()\n",
    "P.set(jobclass1, jobclass1, source, fork, 1.0)\n",
    "P.set(jobclass1, jobclass1, fork, queue1, 1.0)\n",
    "P.set(jobclass1, jobclass1, fork, queue2, 1.0)\n",
    "P.set(jobclass1, jobclass1, queue1, join, 1.0)\n",
    "P.set(jobclass1, jobclass1, queue2, join, 1.0)\n",
    "P.set(jobclass1, jobclass1, join, sink, 1.0)\n",
    "\n",
    "model.link(P)"
   ],
   "metadata": {
    "collapsed": false,
    "ExecuteTime": {
     "end_time": "2025-07-30T22:16:37.072713Z",
     "start_time": "2025-07-30T22:16:37.048720Z"
    }
   },
   "id": "3b204d2d5a3a029f",
   "outputs": [],
   "execution_count": 2
  },
  {
   "cell_type": "code",
   "source": [
    "solver = np.array([], dtype=object)",
    "solver = np.append(solver, SolverJMT(model, seed=23000, verbose=False, keep=False))",
    "solver = np.append(solver, SolverMVA(model)) # this worked before, so a regression error",
    "",
    "AvgTable = np.empty(len(solver), dtype=object)",
    "for s in range(len(solver)):",
    "    print(f'\\nSOLVER: {solver[s].get_name()}')",
    "    AvgTable[s] = solver[s].get_avg_table()"
   ],
   "metadata": {
    "collapsed": false,
    "ExecuteTime": {
     "end_time": "2025-07-30T22:16:38.185815Z",
     "start_time": "2025-07-30T22:16:37.099723Z"
    }
   },
   "id": "19b311ca76098e3c",
   "outputs": [
    {
     "name": "stdout",
     "output_type": "stream",
     "text": [
      "\n",
      "SOLVER: SolverJMT\n",
      "  Station JobClass    QLen    Util   RespT  ResidT    ArvR    Tput\n",
      "0  Source   class1  0.0000  0.0000  0.0000  0.0000  0.0000  0.0511\n",
      "1  Queue1   class1  0.0555  0.0519  1.0825  0.5412  0.0511  0.0509\n",
      "2  Queue2   class1  0.0262  0.0256  0.5022  0.2511  0.0511  0.0511\n",
      "3    Join   class1  0.0466  0.0000  0.4520  0.4520  0.1026  0.0509\n",
      "\n",
      "SOLVER: SolverMVA\n",
      "MVA analysis [method: default(egflin), lang: java, env: 21.0.8] completed in 0.043864s.\n",
      "  Station JobClass    QLen   Util   RespT  ResidT  ArvR  Tput\n",
      "0  Source   class1  0.0000  0.000  0.0000  0.0000  0.00  0.05\n",
      "1  Queue1   class1  0.0526  0.050  1.0526  0.5263  0.05  0.05\n",
      "2  Queue2   class1  0.0256  0.025  0.5128  0.2564  0.05  0.05\n",
      "3    Join   class1  0.0438  0.000  0.4379  0.4379  0.10  0.05\n"
     ]
    }
   ],
   "execution_count": 3
  }
 ],
 "metadata": {
  "kernelspec": {
   "display_name": "Python 3",
   "language": "python",
   "name": "python3"
  },
  "language_info": {
   "codemirror_mode": {
    "name": "ipython",
    "version": 2
   },
   "file_extension": ".py",
   "mimetype": "text/x-python",
   "name": "python",
   "nbconvert_exporter": "python",
   "pygments_lexer": "ipython2",
   "version": "2.7.6"
  }
 },
 "nbformat": 4,
 "nbformat_minor": 5
}