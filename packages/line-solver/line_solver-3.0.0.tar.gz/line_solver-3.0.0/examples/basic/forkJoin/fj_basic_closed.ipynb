{
 "cells": [
  {
   "cell_type": "code",
   "metadata": {
    "ExecuteTime": {
     "end_time": "2025-07-30T22:16:17.797622Z",
     "start_time": "2025-07-30T22:16:16.907570Z"
    }
   },
   "source": [
    "from line_solver import *\n",
    "import numpy as np\n",
    "GlobalConstants.set_verbose(VerboseLevel.STD)"
   ],
   "outputs": [],
   "execution_count": 1
  },
  {
   "cell_type": "code",
   "metadata": {
    "ExecuteTime": {
     "end_time": "2025-07-30T22:16:17.856339Z",
     "start_time": "2025-07-30T22:16:17.852562Z"
    }
   },
   "source": "# Fork-Join network example 5 - similar to example_forkJoin_1 but closed\nmodel = Network('model')",
   "outputs": [],
   "execution_count": 2
  },
  {
   "cell_type": "code",
   "metadata": {
    "ExecuteTime": {
     "end_time": "2025-07-30T22:16:17.919789Z",
     "start_time": "2025-07-30T22:16:17.909610Z"
    }
   },
   "source": "# Create network\ndelay = Delay(model,'Delay')\nqueue1 = Queue(model,'Queue1',SchedStrategy.PS)\nqueue2 = Queue(model,'Queue2',SchedStrategy.PS)\nfork = Fork(model, 'Fork')\njoin = Join(model, 'Join', fork)\n\njobclass1 = ClosedClass(model, 'class1', 5, delay, 0)",
   "outputs": [],
   "execution_count": 3
  },
  {
   "cell_type": "code",
   "metadata": {
    "ExecuteTime": {
     "end_time": "2025-07-30T22:16:17.964281Z",
     "start_time": "2025-07-30T22:16:17.959656Z"
    }
   },
   "source": "# Service configurations\ndelay.set_service(jobclass1, Exp(1.0))\nqueue1.set_service(jobclass1, Exp(1.0))\nqueue2.set_service(jobclass1, Exp(1.0))",
   "outputs": [],
   "execution_count": 4
  },
  {
   "cell_type": "code",
   "metadata": {
    "ExecuteTime": {
     "end_time": "2025-07-30T22:16:18.024250Z",
     "start_time": "2025-07-30T22:16:18.015450Z"
    }
   },
   "source": [
    "# Set routing matrix\n",
    "P = model.init_routing_matrix()\n",
    "P.set(jobclass1, jobclass1, delay, fork, 1.0)\n",
    "P.set(jobclass1, jobclass1, fork, queue1, 1.0)\n",
    "P.set(jobclass1, jobclass1, fork, queue2, 1.0)\n",
    "P.set(jobclass1, jobclass1, queue1, join, 1.0)\n",
    "P.set(jobclass1, jobclass1, queue2, join, 1.0)\n",
    "P.set(jobclass1, jobclass1, join, delay, 1.0)\n",
    "model.link(P)"
   ],
   "outputs": [],
   "execution_count": 5
  },
  {
   "cell_type": "code",
   "metadata": {
    "ExecuteTime": {
     "end_time": "2025-07-30T22:16:19.336769Z",
     "start_time": "2025-07-30T22:16:18.070823Z"
    }
   },
   "source": [
    "# Solve with multiple methods\n",
    "solvers = [SolverJMT(model, seed=23000)]\n",
    "# Add MVA with specific options like MATLAB\n",
    "options = SolverMVA.defaultOptions()\n",
    "options.config.fork_join = 'ht'\n",
    "options.method = 'amva'\n",
    "solvers.append(SolverMVA(model, options))\n",
    "\n",
    "for i, solver in enumerate(solvers):\n",
    "    print(f'SOLVER {i+1}: {solver.get_name()}')\n",
    "    avgTable = solver.get_avg_table()"
   ],
   "outputs": [
    {
     "name": "stdout",
     "output_type": "stream",
     "text": [
      "SOLVER 1: SolverJMT\n",
      "JMT Model: /tmp/workspace/jsim/16736691655599200892/jmodel.jsim\n",
      "JMT [method: default, lang: java, env: 21.0.8] completed in 1.014385s.\n",
      "  Station JobClass    QLen    Util   RespT  ResidT    ArvR    Tput\n",
      "0   Delay   class1  0.8791  0.8791  0.9950  0.9950  0.8801  0.8764\n",
      "1  Queue1   class1  2.6764  0.8854  3.0212  1.5106  0.8764  0.8715\n",
      "2  Queue2   class1  2.6266  0.8860  3.0353  1.5177  0.8764  0.8728\n",
      "3    Join   class1  2.9037  0.0000  1.6797  1.6797  1.7657  0.8801\n",
      "SOLVER 2: SolverMVA\n",
      "MVA analysis [method: default(exact), lang: java, env: 21.0.8] completed in 0.051491s.\n",
      "  Station JobClass    QLen    Util   RespT  ResidT    ArvR    Tput\n",
      "0   Delay   class1  0.7669  0.7669  1.0000  1.0000  0.7669  0.7669\n",
      "1  Queue1   class1  1.4521  0.7669  1.8936  0.9468  0.7669  0.7669\n",
      "2  Queue2   class1  3.8343  0.7669  5.0000  2.5000  0.7669  0.7669\n",
      "3    Join   class1  3.1799  0.0000  2.0734  2.0734  1.5337  0.7669\n"
     ]
    }
   ],
   "execution_count": 6
  }
 ],
 "metadata": {
  "kernelspec": {
   "display_name": "Python 3",
   "language": "python",
   "name": "python3"
  },
  "language_info": {
   "codemirror_mode": {
    "name": "ipython",
    "version": 3
   },
   "file_extension": ".py",
   "mimetype": "text/x-python",
   "name": "python",
   "nbconvert_exporter": "python",
   "pygments_lexer": "ipython3",
   "version": "3.8.0"
  }
 },
 "nbformat": 4,
 "nbformat_minor": 4
}
