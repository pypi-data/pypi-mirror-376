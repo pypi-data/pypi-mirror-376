{
 "cells": [
  {
   "cell_type": "code",
   "metadata": {
    "ExecuteTime": {
     "end_time": "2025-07-30T22:17:12.900201Z",
     "start_time": "2025-07-30T22:17:11.866604Z"
    }
   },
   "source": [
    "from line_solver import *\n",
    "import numpy as np\n",
    "GlobalConstants.set_verbose(VerboseLevel.STD)"
   ],
   "outputs": [],
   "execution_count": 1
  },
  {
   "cell_type": "code",
   "metadata": {
    "ExecuteTime": {
     "end_time": "2025-07-30T22:17:12.962640Z",
     "start_time": "2025-07-30T22:17:12.958915Z"
    }
   },
   "source": "# Fork-Join with Class Switching\nmodel = Network('model')",
   "outputs": [],
   "execution_count": 2
  },
  {
   "cell_type": "code",
   "metadata": {
    "ExecuteTime": {
     "end_time": "2025-07-30T22:17:13.024651Z",
     "start_time": "2025-07-30T22:17:13.012164Z"
    }
   },
   "source": "# Create network\ndelay = Delay(model, 'Delay1')\ndelay2 = Delay(model, 'Delay2')\nqueue1 = Queue(model,'Queue1',SchedStrategy.PS)\nqueue2 = Queue(model,'Queue2',SchedStrategy.PS)\nfork = Fork(model,'Fork')\njoin = Join(model,'Join', fork)\n\njobclass1 = ClosedClass(model, 'class1', 10, delay, 0)\njobclass2 = ClosedClass(model, 'class2', 10, delay, 0)",
   "outputs": [],
   "execution_count": 3
  },
  {
   "cell_type": "code",
   "metadata": {
    "ExecuteTime": {
     "end_time": "2025-07-30T22:17:13.064684Z",
     "start_time": "2025-07-30T22:17:13.059854Z"
    }
   },
   "source": "# Service configurations\nqueue1.set_service(jobclass1, Exp(1.0))\nqueue2.set_service(jobclass1, Exp(1.0))\ndelay.set_service(jobclass1, Exp(0.5))\ndelay.set_service(jobclass2, Exp(0.5))\ndelay2.set_service(jobclass2, Exp(2.0))",
   "outputs": [],
   "execution_count": 4
  },
  {
   "cell_type": "code",
   "metadata": {
    "ExecuteTime": {
     "end_time": "2025-07-30T22:17:13.123824Z",
     "start_time": "2025-07-30T22:17:13.109568Z"
    }
   },
   "source": [
    "# Set routing matrix with class switching\n",
    "P = model.init_routing_matrix()\n",
    "\n",
    "# Class switching routing: jobclass1 -> jobclass2 -> jobclass1\n",
    "P.set(jobclass1, jobclass2, delay, delay2, 1.0)    # Class switch: class1 -> class2 at delay\n",
    "P.set(jobclass2, jobclass1, delay2, fork, 1.0)     # Class switch: class2 -> class1 at delay2\n",
    "\n",
    "# Fork-join routing for class1\n",
    "P.set(jobclass1, jobclass1, fork, queue1, 1.0)\n",
    "P.set(jobclass1, jobclass1, fork, queue2, 1.0)\n",
    "P.set(jobclass1, jobclass1, queue1, join, 1.0)\n",
    "P.set(jobclass1, jobclass1, queue2, join, 1.0)\n",
    "P.set(jobclass1, jobclass1, join, delay, 1.0)\n",
    "\n",
    "model.link(P)"
   ],
   "outputs": [],
   "execution_count": 5
  },
  {
   "cell_type": "code",
   "metadata": {
    "ExecuteTime": {
     "end_time": "2025-07-30T22:17:15.100683Z",
     "start_time": "2025-07-30T22:17:13.159882Z"
    }
   },
   "source": [
    "# Solve with multiple methods\n",
    "solvers = [SolverJMT(model, seed=23000), SolverMVA(model)]\n",
    "for i, solver in enumerate(solvers):\n",
    "    print(f'SOLVER {i+1}: {solver.get_name()}')\n",
    "    avgTable = solver.get_avg_table()"
   ],
   "outputs": [
    {
     "name": "stdout",
     "output_type": "stream",
     "text": [
      "SOLVER 1: SolverJMT\n",
      "JMT Model: /tmp/workspace/jsim/12088967178434273930/jmodel.jsim\n",
      "JMT [method: default, lang: java, env: 21.0.8] completed in 1.680398s.\n",
      "  Station JobClass     QLen    Util    RespT  ResidT    ArvR    Tput\n",
      "0  Delay1   class1   1.9093  1.9093   1.9791  1.9791  0.9831  0.9821\n",
      "3  Delay2   class2   0.4864  0.4864   0.5077  0.5077  0.9821  0.9836\n",
      "4  Queue1   class1  12.7339  0.9808  12.7957  6.3979  0.9836  0.9837\n",
      "6  Queue2   class1   9.0597  0.9583   9.8528  4.9264  0.9836  0.9821\n",
      "8    Join   class1  13.3251  0.0000   6.9336  6.9336  1.9492  0.9831\n",
      "SOLVER 2: SolverMVA\n",
      "MVA analysis [method: default(egflin), lang: java, env: 21.0.8] completed in 0.066085s.\n",
      "  Station JobClass     QLen    Util    RespT  ResidT    ArvR    Tput\n",
      "0  Delay1   class1   1.8658  1.8658   2.0000  2.0000  0.9329  0.9329\n",
      "3  Delay2   class2   0.4665  0.4665   0.5000  0.5000  0.9329  0.9329\n",
      "4  Queue1   class1  11.8695  0.9329  12.7229  6.3614  0.9329  0.9329\n",
      "6  Queue2   class1  11.8695  0.9329  12.7229  6.3614  0.9329  0.9329\n",
      "8    Join   class1  11.8701  0.0000   6.3618  6.3618  1.8658  0.9329\n"
     ]
    }
   ],
   "execution_count": 6
  }
 ],
 "metadata": {
  "kernelspec": {
   "display_name": "Python 3",
   "language": "python",
   "name": "python3"
  },
  "language_info": {
   "codemirror_mode": {
    "name": "ipython",
    "version": 3
   },
   "file_extension": ".py",
   "mimetype": "text/x-python",
   "name": "python",
   "nbconvert_exporter": "python",
   "pygments_lexer": "ipython3",
   "version": "3.8.0"
  }
 },
 "nbformat": 4,
 "nbformat_minor": 4
}
