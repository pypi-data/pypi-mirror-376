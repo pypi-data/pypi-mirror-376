{
 "cells": [
  {
   "cell_type": "code",
   "metadata": {
    "ExecuteTime": {
     "end_time": "2025-07-30T22:16:52.350174Z",
     "start_time": "2025-07-30T22:16:51.525268Z"
    }
   },
   "source": [
    "from line_solver import *\n",
    "import numpy as np\n",
    "GlobalConstants.set_verbose(VerboseLevel.STD)"
   ],
   "outputs": [],
   "execution_count": 1
  },
  {
   "cell_type": "code",
   "metadata": {
    "ExecuteTime": {
     "end_time": "2025-07-30T22:16:52.411732Z",
     "start_time": "2025-07-30T22:16:52.407980Z"
    }
   },
   "source": "# Fork-Join network example 8 - fork-join with multiple visits within the same chain\nmodel = Network('model')",
   "outputs": [],
   "execution_count": 2
  },
  {
   "cell_type": "code",
   "metadata": {
    "ExecuteTime": {
     "end_time": "2025-07-30T22:16:52.470705Z",
     "start_time": "2025-07-30T22:16:52.459355Z"
    }
   },
   "source": "# Create network\nsource = Source(model,'Source')\nqueue1 = Queue(model,'Queue1',SchedStrategy.PS)\nqueue2 = Queue(model,'Queue2',SchedStrategy.PS)\nfork = Fork(model,'Fork')\njoin = Join(model,'Join', fork)\nsink = Sink(model,'Sink')\n\njobclass1 = OpenClass(model, 'class1')\njobclass2 = OpenClass(model, 'class2')",
   "outputs": [],
   "execution_count": 3
  },
  {
   "cell_type": "code",
   "metadata": {
    "ExecuteTime": {
     "end_time": "2025-07-30T22:16:52.517153Z",
     "start_time": "2025-07-30T22:16:52.509787Z"
    }
   },
   "source": "# Service configurations\nsource.set_arrival(jobclass1, Exp(0.1))\nqueue1.set_service(jobclass1, Exp(1.0))\nqueue2.set_service(jobclass1, Exp(1.0))\nqueue1.set_service(jobclass2, Exp(1.0))\nqueue2.set_service(jobclass2, Exp(1.0))",
   "outputs": [],
   "execution_count": 4
  },
  {
   "cell_type": "code",
   "metadata": {
    "ExecuteTime": {
     "end_time": "2025-07-30T22:16:52.577852Z",
     "start_time": "2025-07-30T22:16:52.560851Z"
    }
   },
   "source": [
    "# Set routing matrix with class switching - multiple visits\n",
    "P = model.init_routing_matrix()\n",
    "\n",
    "# Class 1 initial routing\n",
    "P.set(jobclass1, jobclass1, source, fork, 1.0)\n",
    "P.set(jobclass1, jobclass1, fork, queue1, 1.0)\n",
    "P.set(jobclass1, jobclass1, fork, queue2, 1.0)\n",
    "P.set(jobclass1, jobclass1, queue1, join, 1.0)\n",
    "P.set(jobclass1, jobclass1, queue2, join, 1.0)\n",
    "\n",
    "# Class switching: class1 -> class2 after join\n",
    "P.set(jobclass1, jobclass2, join, fork, 1.0)\n",
    "\n",
    "# Class 2 routing\n",
    "P.set(jobclass2, jobclass2, fork, queue1, 1.0)\n",
    "P.set(jobclass2, jobclass2, fork, queue2, 1.0)\n",
    "P.set(jobclass2, jobclass2, queue1, join, 1.0)\n",
    "P.set(jobclass2, jobclass2, queue2, join, 1.0)\n",
    "P.set(jobclass2, jobclass2, join, sink, 1.0)\n",
    "\n",
    "model.link(P)"
   ],
   "outputs": [],
   "execution_count": 5
  },
  {
   "cell_type": "code",
   "metadata": {
    "ExecuteTime": {
     "end_time": "2025-07-30T22:16:54.650841Z",
     "start_time": "2025-07-30T22:16:52.609089Z"
    }
   },
   "source": [
    "# Solve with multiple methods\n",
    "solvers = [SolverMVA(model), SolverJMT(model, seed=23000)]\n",
    "for i, solver in enumerate(solvers):\n",
    "    print(f'SOLVER {i+1}: {solver.get_name()}')\n",
    "    avgTable = solver.get_avg_table()"
   ],
   "outputs": [
    {
     "name": "stdout",
     "output_type": "stream",
     "text": [
      "SOLVER 1: SolverMVA\n",
      "MVA analysis [method: default(egflin), lang: java, env: 21.0.8] completed in 0.056494s.\n",
      "  Station JobClass    QLen  Util   RespT  ResidT  ArvR  Tput\n",
      "0  Source   class1  0.0000   0.0  0.0000  0.0000  0.00   0.1\n",
      "2  Queue1   class1  0.1247   0.1  1.2473  0.6236  0.10   0.1\n",
      "3  Queue1   class2  0.1247   0.1  1.2473  0.6236  0.05   0.1\n",
      "4  Queue2   class1  0.1247   0.1  1.2473  0.6236  0.10   0.1\n",
      "5  Queue2   class2  0.1247   0.1  1.2473  0.6236  0.05   0.1\n",
      "6    Join   class1  0.1247   0.0  0.6236  0.6236  0.20   0.1\n",
      "7    Join   class2  0.1247   0.0  0.6236  0.6236  0.10   0.1\n",
      "SOLVER 2: SolverJMT\n",
      "JMT Model: /tmp/workspace/jsim/1961779642320289935/jmodel.jsim\n",
      "JMT [method: default, lang: java, env: 21.0.8] completed in 1.756938s.\n",
      "  Station JobClass    QLen    Util   RespT  ResidT    ArvR    Tput\n",
      "0  Source   class1  0.0000  0.0000  0.0000  0.0000  0.0000  0.1021\n",
      "2  Queue1   class1  0.1306  0.1015  1.2685  0.6343  0.1021  0.1021\n",
      "3  Queue1   class2  0.1353  0.0992  1.3002  0.6501  0.1009  0.1009\n",
      "4  Queue2   class1  0.1260  0.0990  1.2527  0.6264  0.1021  0.1021\n",
      "5  Queue2   class2  0.1279  0.0981  1.2668  0.6334  0.1009  0.1009\n",
      "6    Join   class1  0.1349  0.0000  0.6519  0.6519  0.2081  0.1009\n",
      "7    Join   class2  0.1352  0.0000  0.6438  0.6438  0.2076  0.1009\n"
     ]
    }
   ],
   "execution_count": 6
  }
 ],
 "metadata": {
  "kernelspec": {
   "display_name": "Python 3",
   "language": "python",
   "name": "python3"
  },
  "language_info": {
   "codemirror_mode": {
    "name": "ipython",
    "version": 3
   },
   "file_extension": ".py",
   "mimetype": "text/x-python",
   "name": "python",
   "nbconvert_exporter": "python",
   "pygments_lexer": "ipython3",
   "version": "3.8.0"
  }
 },
 "nbformat": 4,
 "nbformat_minor": 4
}
