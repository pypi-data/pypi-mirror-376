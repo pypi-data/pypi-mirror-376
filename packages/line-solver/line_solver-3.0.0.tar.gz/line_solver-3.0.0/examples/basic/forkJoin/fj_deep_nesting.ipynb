{
 "cells": [
  {
   "cell_type": "code",
   "metadata": {
    "ExecuteTime": {
     "end_time": "2025-07-30T22:17:22.370585Z",
     "start_time": "2025-07-30T22:17:21.446818Z"
    }
   },
   "source": [
    "from line_solver import *\n",
    "import numpy as np\n",
    "GlobalConstants.set_verbose(VerboseLevel.STD)"
   ],
   "outputs": [],
   "execution_count": 1
  },
  {
   "cell_type": "code",
   "metadata": {
    "ExecuteTime": {
     "end_time": "2025-07-30T22:17:22.422282Z",
     "start_time": "2025-07-30T22:17:22.418482Z"
    }
   },
   "source": "# Nested Fork-Join Network\nmodel = Network('model')",
   "outputs": [],
   "execution_count": 2
  },
  {
   "cell_type": "code",
   "metadata": {
    "ExecuteTime": {
     "end_time": "2025-07-30T22:17:22.482470Z",
     "start_time": "2025-07-30T22:17:22.472027Z"
    }
   },
   "source": "# Create nested fork-join structure\ndelay = Delay(model, 'Delay1')\nqueue1 = Queue(model,'Queue1',SchedStrategy.FCFS)\nqueue2 = Queue(model,'Queue2',SchedStrategy.FCFS)\nfork = Fork(model,'Fork')\njoin = Join(model,'Join', fork)\nqueue3 = Queue(model,'Queue3',SchedStrategy.FCFS)\nqueue4 = Queue(model,'Queue4',SchedStrategy.FCFS)\nfork2 = Fork(model,'Fork2')\njoin2 = Join(model,'Join2', fork2)\n\njobclass1 = ClosedClass(model, 'class1', 1, delay, 0)",
   "outputs": [],
   "execution_count": 3
  },
  {
   "cell_type": "code",
   "metadata": {
    "ExecuteTime": {
     "end_time": "2025-07-30T22:17:22.534566Z",
     "start_time": "2025-07-30T22:17:22.529571Z"
    }
   },
   "source": "# Service configurations\nqueue1.set_service(jobclass1, Exp(1.0))\nqueue2.set_service(jobclass1, Exp(1.0))\ndelay.set_service(jobclass1, Exp(0.5))\nqueue3.set_service(jobclass1, Exp(2.0))\nqueue4.set_service(jobclass1, Exp(2.0))",
   "outputs": [],
   "execution_count": 4
  },
  {
   "cell_type": "code",
   "metadata": {
    "ExecuteTime": {
     "end_time": "2025-07-30T22:17:22.592494Z",
     "start_time": "2025-07-30T22:17:22.581749Z"
    }
   },
   "source": [
    "# Nested fork-join routing\n",
    "P = model.init_routing_matrix()\n",
    "\n",
    "P.set(jobclass1, jobclass1, delay, fork, 1.0)\n",
    "P.set(jobclass1, jobclass1, fork, queue1, 1.0)\n",
    "P.set(jobclass1, jobclass1, fork, queue2, 1.0)\n",
    "# Nested structure: queue1 goes to fork2\n",
    "P.set(jobclass1, jobclass1, queue1, fork2, 1.0)\n",
    "P.set(jobclass1, jobclass1, fork2, queue3, 1.0)\n",
    "P.set(jobclass1, jobclass1, fork2, queue4, 1.0)\n",
    "P.set(jobclass1, jobclass1, queue3, join2, 1.0)\n",
    "P.set(jobclass1, jobclass1, queue4, join2, 1.0)\n",
    "P.set(jobclass1, jobclass1, join2, join, 1.0)\n",
    "# Queue2 goes directly to join\n",
    "P.set(jobclass1, jobclass1, queue2, join, 1.0)\n",
    "P.set(jobclass1, jobclass1, join, delay, 1.0)\n",
    "\n",
    "model.link(P)"
   ],
   "outputs": [],
   "execution_count": 5
  },
  {
   "cell_type": "code",
   "metadata": {
    "ExecuteTime": {
     "end_time": "2025-07-30T22:17:23.877618Z",
     "start_time": "2025-07-30T22:17:22.628916Z"
    }
   },
   "source": [
    "# Solve with multiple methods\n",
    "solvers = [SolverJMT(model, seed=23000)]\n",
    "# Add MVA with special fork-join options\n",
    "mva_options = SolverMVA.defaultOptions()\n",
    "mva_options.config.fork_join = 'fjt'\n",
    "solvers.append(SolverMVA(model, mva_options))\n",
    "\n",
    "for i, solver in enumerate(solvers):\n",
    "    print(f'SOLVER {i+1}: {solver.get_name()}')\n",
    "    avgTable = solver.get_avg_table()"
   ],
   "outputs": [
    {
     "name": "stdout",
     "output_type": "stream",
     "text": [
      "SOLVER 1: SolverJMT\n",
      "JMT Model: /tmp/workspace/jsim/1135324105097683643/jmodel.jsim\n",
      "JMT [method: default, lang: java, env: 21.0.8] completed in 0.994562s.\n",
      "  Station JobClass    QLen    Util   RespT  ResidT    ArvR    Tput\n",
      "0  Delay1   class1  0.5038  0.5038  1.9924  1.9924  0.2505  0.2496\n",
      "1  Queue1   class1  0.2431  0.2431  0.9990  0.4995  0.2496  0.2496\n",
      "2  Queue2   class1  0.2518  0.2518  0.9906  0.4953  0.2496  0.2496\n",
      "3    Join   class1  0.3067  0.0000  0.6164  0.6164  0.5051  0.2496\n",
      "4  Queue3   class1  0.1247  0.1247  0.4897  0.1224  0.2496  0.2496\n",
      "5  Queue4   class1  0.1226  0.1226  0.4926  0.1232  0.2496  0.2496\n",
      "6   Join2   class1  0.1258  0.0000  0.2453  0.1227  0.5001  0.2496\n",
      "SOLVER 2: SolverMVA\n",
      "MVA analysis [method: default(egflin), lang: java, env: 21.0.8] completed in 0.059348s.\n",
      "  Station JobClass    QLen    Util   RespT  ResidT    ArvR    Tput\n",
      "0  Delay1   class1  0.4563  0.4563  2.0000  2.0000  0.2282  0.2282\n",
      "1  Queue1   class1  0.2762  0.2281  1.2109  0.6054  0.1141  0.2281\n",
      "2  Queue2   class1  0.2762  0.2281  1.2109  0.6054  0.1141  0.2281\n",
      "3    Join   class1  0.3875  0.0000  0.8492  0.8492  0.2282  0.2282\n",
      "4  Queue3   class1  0.0596  0.0570  0.5225  0.1306  0.1711  0.1141\n",
      "5  Queue4   class1  0.0596  0.0570  0.5225  0.1306  0.1711  0.1141\n",
      "6   Join2   class1  0.0596  0.0000  0.1742  0.0871  0.3422  0.2281\n"
     ]
    }
   ],
   "execution_count": 6
  }
 ],
 "metadata": {
  "kernelspec": {
   "display_name": "Python 3",
   "language": "python",
   "name": "python3"
  },
  "language_info": {
   "codemirror_mode": {
    "name": "ipython",
    "version": 3
   },
   "file_extension": ".py",
   "mimetype": "text/x-python",
   "name": "python",
   "nbconvert_exporter": "python",
   "pygments_lexer": "ipython3",
   "version": "3.8.0"
  }
 },
 "nbformat": 4,
 "nbformat_minor": 4
}
