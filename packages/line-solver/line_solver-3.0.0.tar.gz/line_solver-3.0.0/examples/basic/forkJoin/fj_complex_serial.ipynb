{
 "cells": [
  {
   "cell_type": "code",
   "metadata": {
    "ExecuteTime": {
     "end_time": "2025-07-30T22:16:44.307769Z",
     "start_time": "2025-07-30T22:16:43.412543Z"
    }
   },
   "source": [
    "from line_solver import *\n",
    "import numpy as np\n",
    "GlobalConstants.set_verbose(VerboseLevel.STD)"
   ],
   "outputs": [],
   "execution_count": 1
  },
  {
   "cell_type": "code",
   "metadata": {
    "ExecuteTime": {
     "end_time": "2025-07-30T22:16:44.443206Z",
     "start_time": "2025-07-30T22:16:44.439590Z"
    }
   },
   "source": [
    "#Advanced Fork-Join Example 12#Complex fork-join with 2 parallel branches\n",
    "model = Network('model')"
   ],
   "outputs": [],
   "execution_count": 2
  },
  {
   "cell_type": "code",
   "metadata": {
    "ExecuteTime": {
     "end_time": "2025-07-30T22:16:44.500819Z",
     "start_time": "2025-07-30T22:16:44.490323Z"
    }
   },
   "source": "# Create network\ndelay = Delay(model, 'Delay1')\nqueue1 = Queue(model,'Queue1',SchedStrategy.FCFS)\nqueue2 = Queue(model,'Queue2',SchedStrategy.FCFS)\nqueue3 = Queue(model,'Queue3',SchedStrategy.FCFS)\nqueue4 = Queue(model,'Queue4',SchedStrategy.FCFS)\nqueue5 = Queue(model,'Queue5',SchedStrategy.FCFS)\nfork = Fork(model,'Fork')\njoin = Join(model,'Join', fork)\n\njobclass1 = ClosedClass(model, 'class1', 10, delay, 0)",
   "outputs": [],
   "execution_count": 3
  },
  {
   "cell_type": "code",
   "metadata": {
    "ExecuteTime": {
     "end_time": "2025-07-30T22:16:44.544333Z",
     "start_time": "2025-07-30T22:16:44.539401Z"
    }
   },
   "source": "# Service configurations\nqueue1.set_service(jobclass1, Exp(1.0))\nqueue2.set_service(jobclass1, Exp(2.0))\nqueue3.set_service(jobclass1, Exp(1.0))\nqueue4.set_service(jobclass1, Exp(3.0))\nqueue5.set_service(jobclass1, Exp(0.8))\ndelay.set_service(jobclass1, Exp(0.5))",
   "outputs": [],
   "execution_count": 4
  },
  {
   "cell_type": "code",
   "metadata": {
    "ExecuteTime": {
     "end_time": "2025-07-30T22:16:44.604795Z",
     "start_time": "2025-07-30T22:16:44.590139Z"
    }
   },
   "source": [
    "# Set routing matrix with complex serial routing\n",
    "P = model.init_routing_matrix()\n",
    "\n",
    "P.set(jobclass1, jobclass1, delay, fork, 1.0)\n",
    "P.set(jobclass1, jobclass1, fork, queue1, 1.0)\n",
    "P.set(jobclass1, jobclass1, fork, queue2, 1.0)\n",
    "# Complex serial routing:\n",
    "P.set(jobclass1, jobclass1, queue1, queue4, 1.0)  # queue1 -> queue4\n",
    "P.set(jobclass1, jobclass1, queue4, queue5, 1.0)  # queue4 -> queue5  \n",
    "P.set(jobclass1, jobclass1, queue5, join, 1.0)    # queue5 -> join\n",
    "P.set(jobclass1, jobclass1, queue2, queue3, 1.0)  # queue2 -> queue3\n",
    "P.set(jobclass1, jobclass1, queue3, join, 1.0)    # queue3 -> join\n",
    "P.set(jobclass1, jobclass1, join, delay, 1.0)\n",
    "\n",
    "model.link(P)"
   ],
   "outputs": [],
   "execution_count": 5
  },
  {
   "cell_type": "code",
   "metadata": {
    "ExecuteTime": {
     "end_time": "2025-07-30T22:16:45.877812Z",
     "start_time": "2025-07-30T22:16:44.640135Z"
    }
   },
   "source": [
    "# Solve with multiple methods\n",
    "solvers = [SolverJMT(model, seed=23000), SolverMVA(model)]\n",
    "for i, solver in enumerate(solvers):\n",
    "    print(f'SOLVER {i+1}: {solver.get_name()}')\n",
    "    avgTable = solver.get_avg_table()"
   ],
   "outputs": [
    {
     "name": "stdout",
     "output_type": "stream",
     "text": [
      "SOLVER 1: SolverJMT\n",
      "JMT Model: /tmp/workspace/jsim/1881338300358790791/jmodel.jsim\n",
      "JMT [method: default, lang: java, env: 21.0.8] completed in 0.997908s.\n",
      "  Station JobClass    QLen    Util   RespT  ResidT    ArvR    Tput\n",
      "0  Delay1   class1  1.5268  1.5268  2.0031  2.0031  0.7608  0.7605\n",
      "1  Queue1   class1  2.4714  0.7577  3.2755  1.6378  0.7605  0.7662\n",
      "2  Queue2   class1  0.5817  0.3711  0.7558  0.3779  0.7605  0.7599\n",
      "3  Queue3   class1  2.8414  0.7579  3.5921  1.7960  0.7599  0.7655\n",
      "4  Queue4   class1  0.3381  0.2501  0.4457  0.2229  0.7662  0.7576\n",
      "5  Queue5   class1  5.4035  0.9519  7.0996  3.5498  0.7576  0.7620\n",
      "6    Join   class1  5.3121  0.0000  3.4381  3.4381  1.5305  0.7607\n",
      "SOLVER 2: SolverMVA\n",
      "MVA analysis [method: default(egflin), lang: java, env: 21.0.8] completed in 0.083628s.\n",
      "  Station JobClass    QLen    Util   RespT  ResidT    ArvR    Tput\n",
      "0  Delay1   class1  1.3867  1.3867  2.0000  2.0000  0.6934  0.6934\n",
      "1  Queue1   class1  2.1420  0.6933  3.0894  1.5447  0.6934  0.6933\n",
      "2  Queue2   class1  0.5237  0.3467  0.7554  0.3777  0.6934  0.6933\n",
      "3  Queue3   class1  2.1420  0.6933  3.0894  1.5447  0.6934  0.6933\n",
      "4  Queue4   class1  0.2984  0.2311  0.4303  0.2152  0.6934  0.6933\n",
      "5  Queue5   class1  5.6088  0.8667  8.0894  4.0447  0.6934  0.6933\n",
      "6    Join   class1  6.7097  0.0000  4.8386  4.8386  1.3867  0.6934\n"
     ]
    }
   ],
   "execution_count": 6
  }
 ],
 "metadata": {
  "kernelspec": {
   "display_name": "Python 3",
   "language": "python",
   "name": "python3"
  },
  "language_info": {
   "codemirror_mode": {
    "name": "ipython",
    "version": 3
   },
   "file_extension": ".py",
   "mimetype": "text/x-python",
   "name": "python",
   "nbconvert_exporter": "python",
   "pygments_lexer": "ipython3",
   "version": "3.8.0"
  }
 },
 "nbformat": 4,
 "nbformat_minor": 4
}
