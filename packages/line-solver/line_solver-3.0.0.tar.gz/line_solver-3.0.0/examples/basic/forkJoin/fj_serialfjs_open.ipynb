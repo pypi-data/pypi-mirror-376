{
 "cells": [
  {
   "cell_type": "code",
   "metadata": {
    "ExecuteTime": {
     "end_time": "2025-07-30T22:18:02.077282Z",
     "start_time": "2025-07-30T22:18:01.121669Z"
    }
   },
   "source": [
    "from line_solver import *\n",
    "import numpy as np\n",
    "GlobalConstants.set_verbose(VerboseLevel.STD)"
   ],
   "outputs": [],
   "execution_count": 1
  },
  {
   "cell_type": "code",
   "metadata": {
    "ExecuteTime": {
     "end_time": "2025-07-30T22:18:02.084621Z",
     "start_time": "2025-07-30T22:18:02.080224Z"
    }
   },
   "source": [
    "# Fork-Join network example 6\n",
    "model = Network('model')"
   ],
   "outputs": [],
   "execution_count": 2
  },
  {
   "cell_type": "code",
   "metadata": {
    "ExecuteTime": {
     "end_time": "2025-07-30T22:18:02.149228Z",
     "start_time": "2025-07-30T22:18:02.138096Z"
    }
   },
   "source": "# Create network\nsource = Source(model,'Source')\nqueue1 = Queue(model,'Queue1',SchedStrategy.FCFS)\nqueue2 = Queue(model,'Queue2',SchedStrategy.FCFS)\nfork1 = Fork(model,'Fork1')\njoin1 = Join(model,'Join1',fork1)\nqueue3 = Queue(model,'Queue3',SchedStrategy.FCFS)\nqueue4 = Queue(model,'Queue4',SchedStrategy.FCFS)\nfork2 = Fork(model,'Fork2')\njoin2 = Join(model,'Join2',fork2)\nsink = Sink(model,'Sink')\n\njobclass1 = OpenClass(model, 'class1')",
   "outputs": [],
   "execution_count": 3
  },
  {
   "cell_type": "code",
   "metadata": {
    "ExecuteTime": {
     "end_time": "2025-07-30T22:18:02.198517Z",
     "start_time": "2025-07-30T22:18:02.189507Z"
    }
   },
   "source": "# Service configurations\nsource.set_arrival(jobclass1, Exp(0.4))\nqueue1.set_service(jobclass1, Exp(1.0))\nqueue2.set_service(jobclass1, Exp(1.0))\nqueue3.set_service(jobclass1, Exp(1.0))\nqueue4.set_service(jobclass1, Exp(1.0))",
   "outputs": [],
   "execution_count": 4
  },
  {
   "cell_type": "code",
   "metadata": {
    "ExecuteTime": {
     "end_time": "2025-07-30T22:18:02.248748Z",
     "start_time": "2025-07-30T22:18:02.240521Z"
    }
   },
   "source": [
    "# Two sequential fork-join stages routing\n",
    "P = model.init_routing_matrix()\n",
    "P.set(jobclass1, jobclass1, source, fork1, 1.0)\n",
    "P.set(jobclass1, jobclass1, fork1, queue1, 1.0)\n",
    "P.set(jobclass1, jobclass1, fork1, queue2, 1.0)\n",
    "P.set(jobclass1, jobclass1, queue1, join1, 1.0)\n",
    "P.set(jobclass1, jobclass1, queue2, join1, 1.0)\n",
    "P.set(jobclass1, jobclass1, join1, fork2, 1.0)\n",
    "P.set(jobclass1, jobclass1, fork2, queue3, 1.0)\n",
    "P.set(jobclass1, jobclass1, fork2, queue4, 1.0)\n",
    "P.set(jobclass1, jobclass1, queue3, join2, 1.0)\n",
    "P.set(jobclass1, jobclass1, queue4, join2, 1.0)\n",
    "P.set(jobclass1, jobclass1, join2, sink, 1.0)\n",
    "model.link(P)"
   ],
   "outputs": [],
   "execution_count": 5
  },
  {
   "cell_type": "code",
   "metadata": {
    "ExecuteTime": {
     "end_time": "2025-07-30T22:18:03.610841Z",
     "start_time": "2025-07-30T22:18:02.289502Z"
    }
   },
   "source": [
    "# Solve with multiple methods\n",
    "solvers = [SolverJMT(model, seed=23000), SolverMVA(model)]\n",
    "for i, solver in enumerate(solvers):\n",
    "    print(f'SOLVER {i+1}: {solver.get_name()}')\n",
    "    avgTable = solver.get_avg_table()"
   ],
   "outputs": [
    {
     "name": "stdout",
     "output_type": "stream",
     "text": [
      "SOLVER 1: SolverJMT\n",
      "JMT Model: /tmp/workspace/jsim/7352768470375424539/jmodel.jsim\n",
      "JMT [method: default, lang: java, env: 21.0.8] completed in 1.048575s.\n",
      "  Station JobClass    QLen    Util   RespT  ResidT    ArvR    Tput\n",
      "0  Source   class1  0.0000  0.0000  0.0000  0.0000  0.0000  0.3975\n",
      "1  Queue1   class1  0.6574  0.3987  1.6509  0.8254  0.3975  0.4032\n",
      "2  Queue2   class1  0.6394  0.3974  1.6874  0.8437  0.3975  0.4024\n",
      "3   Join1   class1  0.5835  0.0000  0.7363  0.7363  0.7996  0.4038\n",
      "4  Queue3   class1  0.6722  0.3992  1.6622  0.8311  0.4038  0.4040\n",
      "5  Queue4   class1  0.6451  0.3963  1.5845  0.7923  0.4038  0.4038\n",
      "6   Join2   class1  0.6520  0.0000  0.7552  0.7552  0.8001  0.4040\n",
      "SOLVER 2: SolverMVA\n",
      "MVA analysis [method: default(egflin), lang: java, env: 21.0.8] completed in 0.074028s.\n",
      "  Station JobClass    QLen  Util   RespT  ResidT  ArvR  Tput\n",
      "0  Source   class1  0.0000   0.0  0.0000  0.0000   0.0   0.4\n",
      "1  Queue1   class1  0.6665   0.4  1.6665  0.8333   0.2   0.4\n",
      "2  Queue2   class1  0.6665   0.4  1.6665  0.8333   0.2   0.4\n",
      "3   Join1   class1  0.6665   0.0  0.8332  0.8332   0.4   0.4\n",
      "4  Queue3   class1  0.2500   0.2  1.2500  0.6250   0.4   0.2\n",
      "5  Queue4   class1  0.2500   0.2  1.2500  0.6250   0.4   0.2\n",
      "6   Join2   class1  0.2500   0.0  0.6250  0.6250   0.8   0.4\n"
     ]
    }
   ],
   "execution_count": 6
  }
 ],
 "metadata": {
  "kernelspec": {
   "display_name": "Python 3",
   "language": "python",
   "name": "python3"
  },
  "language_info": {
   "codemirror_mode": {
    "name": "ipython",
    "version": 3
   },
   "file_extension": ".py",
   "mimetype": "text/x-python",
   "name": "python",
   "nbconvert_exporter": "python",
   "pygments_lexer": "ipython3",
   "version": "3.8.0"
  }
 },
 "nbformat": 4,
 "nbformat_minor": 4
}
