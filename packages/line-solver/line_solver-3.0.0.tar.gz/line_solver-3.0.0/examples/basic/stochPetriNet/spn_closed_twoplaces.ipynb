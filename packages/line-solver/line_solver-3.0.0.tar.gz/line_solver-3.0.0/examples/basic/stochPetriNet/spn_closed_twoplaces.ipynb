{
 "cells": [
  {
   "cell_type": "code",
   "metadata": {
    "ExecuteTime": {
     "end_time": "2025-07-30T22:26:47.448893Z",
     "start_time": "2025-07-30T22:26:46.596991Z"
    }
   },
   "source": [
    "from line_solver import *"
   ],
   "outputs": [],
   "execution_count": 1
  },
  {
   "cell_type": "code",
   "metadata": {
    "ExecuteTime": {
     "end_time": "2025-07-30T22:26:47.460916Z",
     "start_time": "2025-07-30T22:26:47.451640Z"
    }
   },
   "source": [
    "model = Network('model')\n",
    "\n",
    "P1 = Place(model, 'P1')\n",
    "P2 = Place(model, 'P2')\n",
    "T1 = Transition(model, 'T1')\n",
    "T2 = Transition(model, 'T2')\n",
    "T3 = Transition(model, 'T3')\n",
    "\n",
    "jobclass1 = ClosedClass(model, 'Class1', 10, P1, 0)\n",
    "jobclass2 = ClosedClass(model, 'Class2', 7, P1, 0)"
   ],
   "outputs": [],
   "execution_count": 2
  },
  {
   "cell_type": "code",
   "metadata": {
    "ExecuteTime": {
     "end_time": "2025-07-30T22:26:47.526237Z",
     "start_time": "2025-07-30T22:26:47.517974Z"
    }
   },
   "source": [
    "# T1 - Different modes for different job classes\n",
    "# Mode1: handles Class1 - requires 2 tokens\n",
    "mode1 = T1.add_mode('Mode1')\n",
    "T1.setDistribution(mode1, Exp(2))\n",
    "T1.setEnablingConditions(mode1, jobclass1, P1, 2)\n",
    "T1.setFiringOutcome(mode1, jobclass1, P2, 2)\n",
    "\n",
    "# Mode2: handles Class2 - requires 1 token\n",
    "mode2 = T1.add_mode('Mode2')\n",
    "T1.setDistribution(mode2, Exp(3))\n",
    "T1.setEnablingConditions(mode2, jobclass2, P1, 1)\n",
    "T1.setFiringOutcome(mode2, jobclass2, P2, 1)\n",
    "\n",
    "# T2 - Handles Class1 tokens individually\n",
    "mode3 = T2.add_mode('Mode3')\n",
    "T2.setDistribution(mode3, Erlang(1.5, 2))\n",
    "T2.setEnablingConditions(mode3, jobclass1, P2, 1)\n",
    "T2.setFiringOutcome(mode3, jobclass1, P1, 1)\n",
    "\n",
    "# T3 - Handles Class2 tokens in batches of 4\n",
    "mode4 = T3.add_mode('Mode4')\n",
    "T3.setDistribution(mode4, Exp(0.5))\n",
    "T3.setEnablingConditions(mode4, jobclass2, P2, 4)\n",
    "T3.setFiringOutcome(mode4, jobclass2, P1, 4)"
   ],
   "outputs": [],
   "execution_count": 3
  },
  {
   "cell_type": "code",
   "metadata": {
    "ExecuteTime": {
     "end_time": "2025-07-30T22:26:47.583940Z",
     "start_time": "2025-07-30T22:26:47.570254Z"
    }
   },
   "source": [
    "# Set up routing matrix for both job classes\n",
    "routingMatrix = model.init_routing_matrix()\n",
    "\n",
    "# Class1 routing\n",
    "routingMatrix.set(jobclass1, jobclass1, P1, T1, 1.0)  # P1 -> T1 (Class1)\n",
    "routingMatrix.set(jobclass1, jobclass1, P2, T2, 1.0)  # P2 -> T2 (Class1)\n",
    "routingMatrix.set(jobclass1, jobclass1, T1, P2, 1.0)  # T1 -> P2 (Class1)\n",
    "routingMatrix.set(jobclass1, jobclass1, T2, P1, 1.0)  # T2 -> P1 (Class1)\n",
    "\n",
    "# Class2 routing\n",
    "routingMatrix.set(jobclass2, jobclass2, P1, T1, 1.0)  # P1 -> T1 (Class2)\n",
    "routingMatrix.set(jobclass2, jobclass2, P2, T3, 1.0)  # P2 -> T3 (Class2)\n",
    "routingMatrix.set(jobclass2, jobclass2, T1, P2, 1.0)  # T1 -> P2 (Class2)\n",
    "routingMatrix.set(jobclass2, jobclass2, T3, P1, 1.0)  # T3 -> P1 (Class2)\n",
    "\n",
    "model.link(routingMatrix)"
   ],
   "outputs": [],
   "execution_count": 4
  },
  {
   "cell_type": "code",
   "metadata": {
    "ExecuteTime": {
     "end_time": "2025-07-30T22:26:47.659329Z",
     "start_time": "2025-07-30T22:26:47.619379Z"
    }
   },
   "source": "# Set initial state - both classes start in P1\n# P1 gets [10, 7] tokens for [Class1, Class2]\nP1.setState([10, 7])  # Using Python list for multi-class\nP2.setState([0, 0])  # No tokens in P2 for either class",
   "outputs": [],
   "execution_count": 5
  },
  {
   "cell_type": "code",
   "metadata": {
    "ExecuteTime": {
     "end_time": "2025-07-30T22:26:49.326530Z",
     "start_time": "2025-07-30T22:26:47.667713Z"
    }
   },
   "source": [
    "# Solve the model\n",
    "solver = SolverJMT(model, seed=23000)\n",
    "avgTable = solver.get_avg_table()"
   ],
   "outputs": [
    {
     "name": "stdout",
     "output_type": "stream",
     "text": [
      "JMT Model: /tmp/workspace/jsim/3023745069890190980/jmodel.jsim\n",
      "JMT [method: default, lang: java, env: 21.0.8] completed in 1.595659s.\n",
      "  Station JobClass    QLen  Util    RespT   ResidT    ArvR    Tput\n",
      "0      P1   Class1  0.8811   0.0   1.1688   1.1688  0.7533  0.7549\n",
      "1      P1   Class2  1.7080   0.0   1.1162   1.1162  1.5906  1.6042\n",
      "2      P2   Class1  9.1189   0.0  12.1005  12.1005  0.7549  0.7550\n",
      "3      P2   Class2  5.2920   0.0   3.3423   3.3423  1.6042  1.5821\n"
     ]
    }
   ],
   "execution_count": 6
  }
 ],
 "metadata": {
  "kernelspec": {
   "display_name": "Python 3",
   "language": "python",
   "name": "python3"
  },
  "language_info": {
   "codemirror_mode": {
    "name": "ipython",
    "version": 3
   },
   "file_extension": ".py",
   "mimetype": "text/x-python",
   "name": "python",
   "nbconvert_exporter": "python",
   "pygments_lexer": "ipython3",
   "version": "3.8.0"
  }
 },
 "nbformat": 4,
 "nbformat_minor": 4
}
