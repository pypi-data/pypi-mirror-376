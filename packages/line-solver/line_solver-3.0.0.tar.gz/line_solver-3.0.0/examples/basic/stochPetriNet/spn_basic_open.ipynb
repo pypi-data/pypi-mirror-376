{
 "cells": [
  {
   "cell_type": "code",
   "metadata": {
    "ExecuteTime": {
     "end_time": "2025-07-30T22:27:03.997708Z",
     "start_time": "2025-07-30T22:27:03.135622Z"
    }
   },
   "source": [
    "from line_solver import *"
   ],
   "outputs": [],
   "execution_count": 1
  },
  {
   "cell_type": "code",
   "metadata": {
    "ExecuteTime": {
     "end_time": "2025-07-30T22:27:04.064147Z",
     "start_time": "2025-07-30T22:27:04.052853Z"
    }
   },
   "source": [
    "model = Network('model')\n",
    "source = Source(model, 'Source')\n",
    "sink = Sink(model, 'Sink')\n",
    "P = Place(model, 'P1')\n",
    "T = Transition(model, 'T1')\n",
    "\n",
    "jobclass = OpenClass(model, 'Class1', 0)\n",
    "source.set_arrival(jobclass, Exp.fitMean(1.0))"
   ],
   "outputs": [],
   "execution_count": 2
  },
  {
   "cell_type": "code",
   "metadata": {
    "ExecuteTime": {
     "end_time": "2025-07-30T22:27:04.112529Z",
     "start_time": "2025-07-30T22:27:04.108907Z"
    }
   },
   "source": [
    "# Configure transition T1\n",
    "mode1 = T.add_mode('Mode1')\n",
    "T.set_number_of_servers(mode1, GlobalConstants.MaxInt)  # Infinite servers\n",
    "T.setDistribution(mode1, Exp(4))  # Exponential firing time with rate 4.0\n",
    "T.setEnablingConditions(mode1, jobclass, P, 1)  # Requires 1 token from P1\n",
    "T.setFiringOutcome(mode1, jobclass, sink, 1)  # Produces 1 token to sink"
   ],
   "outputs": [],
   "execution_count": 3
  },
  {
   "cell_type": "code",
   "metadata": {
    "ExecuteTime": {
     "end_time": "2025-07-30T22:27:04.168428Z",
     "start_time": "2025-07-30T22:27:04.161050Z"
    }
   },
   "source": [
    "# Set up routing - use explicit routing matrix instead of serialRouting\n",
    "R = model.init_routing_matrix()\n",
    "R.set(jobclass, jobclass, source, P, 1)  # Source -> P1\n",
    "R.set(jobclass, jobclass, P, T, 1)       # P1 -> T1\n",
    "R.set(jobclass, jobclass, T, sink, 1)    # T1 -> Sink\n",
    "model.link(R)"
   ],
   "outputs": [],
   "execution_count": 4
  },
  {
   "cell_type": "code",
   "metadata": {
    "ExecuteTime": {
     "end_time": "2025-07-30T22:27:05.074213Z",
     "start_time": "2025-07-30T22:27:04.219990Z"
    }
   },
   "source": [
    "# Solve the model\n",
    "solver = SolverJMT(model, seed=23000)\n",
    "avgTable = solver.get_avg_table()"
   ],
   "outputs": [
    {
     "name": "stdout",
     "output_type": "stream",
     "text": [
      "JMT Model: /tmp/workspace/jsim/17140954030545514501/jmodel.jsim\n",
      "JMT [method: default, lang: java, env: 21.0.8] completed in 0.770819s.\n",
      "  Station JobClass    QLen  Util   RespT  ResidT    ArvR    Tput\n",
      "0  Source   Class1  0.0000   0.0  0.0000  0.0000  0.0000  1.0312\n",
      "1      P1   Class1  0.2597   0.0  0.2503  0.2503  1.0312  1.0427\n"
     ]
    }
   ],
   "execution_count": 5
  }
 ],
 "metadata": {
  "kernelspec": {
   "display_name": "Python 3",
   "language": "python",
   "name": "python3"
  },
  "language_info": {
   "codemirror_mode": {
    "name": "ipython",
    "version": 3
   },
   "file_extension": ".py",
   "mimetype": "text/x-python",
   "name": "python",
   "nbconvert_exporter": "python",
   "pygments_lexer": "ipython3",
   "version": "3.8.0"
  }
 },
 "nbformat": 4,
 "nbformat_minor": 4
}
