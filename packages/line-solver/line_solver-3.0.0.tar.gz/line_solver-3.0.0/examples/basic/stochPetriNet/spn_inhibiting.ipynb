{
 "cells": [
  {
   "metadata": {
    "ExecuteTime": {
     "end_time": "2025-07-30T22:26:23.091713Z",
     "start_time": "2025-07-30T22:26:22.263621Z"
    }
   },
   "cell_type": "code",
   "source": "from line_solver import *",
   "outputs": [],
   "execution_count": 1
  },
  {
   "cell_type": "code",
   "metadata": {
    "ExecuteTime": {
     "end_time": "2025-07-30T22:26:23.104169Z",
     "start_time": "2025-07-30T22:26:23.094584Z"
    }
   },
   "source": [
    "model = Network('model')\n",
    "\n",
    "P1 = Place(model, 'P1')\n",
    "P2 = Place(model, 'P2')\n",
    "P3 = Place(model, 'P3')\n",
    "\n",
    "T1 = Transition(model, 'T1')\n",
    "T2 = Transition(model, 'T2')\n",
    "T3 = Transition(model, 'T3')\n",
    "\n",
    "jobclass = ClosedClass(model, 'Class1', 4, P1, 0)"
   ],
   "outputs": [],
   "execution_count": 2
  },
  {
   "cell_type": "code",
   "metadata": {
    "ExecuteTime": {
     "end_time": "2025-07-30T22:26:23.216594Z",
     "start_time": "2025-07-30T22:26:23.209943Z"
    }
   },
   "source": [
    "# T1 - Multiple firing modes\n",
    "# Mode1: requires 2 tokens from P1, produces 2 tokens to P2\n",
    "mode1 = T1.add_mode('Mode1')\n",
    "T1.setDistribution(mode1, Exp(2))\n",
    "T1.setEnablingConditions(mode1, jobclass, P1, 2)\n",
    "T1.setFiringOutcome(mode1, jobclass, P2, 2)\n",
    "\n",
    "# Mode2: requires 1 token from P1, produces 1 token to P3\n",
    "mode2 = T1.add_mode('Mode2')\n",
    "T1.setDistribution(mode2, Exp(1))\n",
    "T1.setEnablingConditions(mode2, jobclass, P1, 1)\n",
    "T1.setFiringOutcome(mode2, jobclass, P3, 1)\n",
    "\n",
    "# T2 - Standard transition: P2 -> P1\n",
    "mode3 = T2.add_mode('Mode3')\n",
    "T2.setDistribution(mode3, Exp(4))\n",
    "T2.setEnablingConditions(mode3, jobclass, P2, 1)\n",
    "T2.setFiringOutcome(mode3, jobclass, P1, 1)\n",
    "\n",
    "# T3 - Transition with inhibiting condition\n",
    "# Requires 3 tokens from P3, but inhibited when P2 has tokens\n",
    "mode4 = T3.add_mode('Mode4')\n",
    "T3.setDistribution(mode4, Exp(1))\n",
    "T3.setEnablingConditions(mode4, jobclass, P3, 3)\n",
    "T3.setInhibitingConditions(mode4, jobclass, P2, 1)  # Inhibited by P2\n",
    "T3.setFiringOutcome(mode4, jobclass, P1, 3)"
   ],
   "outputs": [],
   "execution_count": 3
  },
  {
   "cell_type": "code",
   "metadata": {
    "ExecuteTime": {
     "end_time": "2025-07-30T22:26:23.268221Z",
     "start_time": "2025-07-30T22:26:23.258130Z"
    }
   },
   "source": [
    "# Set up routing matrix\n",
    "routingMatrix = model.init_routing_matrix()\n",
    "\n",
    "# Place to transition routing\n",
    "routingMatrix.set(jobclass, jobclass, P1, T1, 1.0)  # P1 -> T1 (both modes)\n",
    "routingMatrix.set(jobclass, jobclass, P2, T2, 1.0)  # P2 -> T2\n",
    "routingMatrix.set(jobclass, jobclass, P2, T3, 1.0)  # P2 -> T3 (inhibiting)\n",
    "routingMatrix.set(jobclass, jobclass, P3, T3, 1.0)  # P3 -> T3\n",
    "\n",
    "# Transition to place routing\n",
    "routingMatrix.set(jobclass, jobclass, T1, P2, 1.0)  # T1 -> P2 (Mode1)\n",
    "routingMatrix.set(jobclass, jobclass, T1, P3, 1.0)  # T1 -> P3 (Mode2)\n",
    "routingMatrix.set(jobclass, jobclass, T2, P1, 1.0)  # T2 -> P1\n",
    "routingMatrix.set(jobclass, jobclass, T3, P1, 1.0)  # T3 -> P1\n",
    "\n",
    "model.link(routingMatrix)"
   ],
   "outputs": [],
   "execution_count": 4
  },
  {
   "cell_type": "code",
   "metadata": {
    "ExecuteTime": {
     "end_time": "2025-07-30T22:26:23.342534Z",
     "start_time": "2025-07-30T22:26:23.319178Z"
    }
   },
   "source": "# Set initial state - all 4 tokens start in P1\nP1.setState([jobclass.getPopulation()])\nP2.setState([0])\nP3.setState([0])",
   "outputs": [],
   "execution_count": 5
  },
  {
   "cell_type": "code",
   "metadata": {
    "ExecuteTime": {
     "end_time": "2025-07-30T22:26:25.181410Z",
     "start_time": "2025-07-30T22:26:23.369320Z"
    }
   },
   "source": [
    "# Solve the model\n",
    "solver = SolverJMT(model, seed=23000)\n",
    "avgTable = solver.get_avg_table()"
   ],
   "outputs": [
    {
     "name": "stdout",
     "output_type": "stream",
     "text": [
      "JMT Model: /tmp/workspace/jsim/11064491680299168389/jmodel.jsim\n",
      "JMT [method: default, lang: java, env: 21.0.8] completed in 1.739824s.\n",
      "  Station JobClass    QLen  Util   RespT  ResidT    ArvR    Tput\n",
      "0      P1   Class1  1.3667   0.0  0.5680  0.5680  2.4787  2.4778\n",
      "1      P2   Class1  0.7450   0.0  0.4371  0.1093  1.7363  1.7134\n",
      "2      P3   Class1  1.8403   0.0  2.6351  1.3176  0.7158  0.7163\n"
     ]
    }
   ],
   "execution_count": 6
  },
  {
   "cell_type": "code",
   "metadata": {
    "ExecuteTime": {
     "end_time": "2025-07-30T22:26:27.158682Z",
     "start_time": "2025-07-30T22:26:25.193446Z"
    }
   },
   "source": [
    "# Solve the model\n",
    "solver = SolverJMT(model, seed=23000)\n",
    "avgTable = solver.get_avg_table()"
   ],
   "outputs": [
    {
     "name": "stdout",
     "output_type": "stream",
     "text": [
      "JMT Model: /tmp/workspace/jsim/4381402928643889708/jmodel.jsim\n",
      "JMT [method: default, lang: java, env: 21.0.8] completed in 1.952547s.\n",
      "  Station JobClass    QLen  Util   RespT  ResidT    ArvR    Tput\n",
      "0      P1   Class1  1.3667   0.0  0.5680  0.5680  2.4787  2.4778\n",
      "1      P2   Class1  0.7450   0.0  0.4371  0.1093  1.7363  1.7134\n",
      "2      P3   Class1  1.8403   0.0  2.6351  1.3176  0.7158  0.7163\n"
     ]
    }
   ],
   "execution_count": 7
  }
 ],
 "metadata": {
  "kernelspec": {
   "display_name": "Python 3",
   "language": "python",
   "name": "python3"
  },
  "language_info": {
   "codemirror_mode": {
    "name": "ipython",
    "version": 3
   },
   "file_extension": ".py",
   "mimetype": "text/x-python",
   "name": "python",
   "nbconvert_exporter": "python",
   "pygments_lexer": "ipython3",
   "version": "3.8.0"
  }
 },
 "nbformat": 4,
 "nbformat_minor": 4
}
