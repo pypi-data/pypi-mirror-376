{
 "cells": [
  {
   "cell_type": "code",
   "metadata": {
    "ExecuteTime": {
     "end_time": "2025-07-30T22:26:56.560576Z",
     "start_time": "2025-07-30T22:26:55.659272Z"
    }
   },
   "source": [
    "from line_solver import *"
   ],
   "outputs": [],
   "execution_count": 1
  },
  {
   "cell_type": "code",
   "metadata": {
    "ExecuteTime": {
     "end_time": "2025-07-30T22:26:56.624396Z",
     "start_time": "2025-07-30T22:26:56.616933Z"
    }
   },
   "source": [
    "model = Network('model')\n",
    "\n",
    "P1 = Place(model, 'P1')\n",
    "P2 = Place(model, 'P2')\n",
    "P3 = Place(model, 'P3')\n",
    "P4 = Place(model, 'P4')\n",
    "\n",
    "T1 = Transition(model, 'T1')\n",
    "T2 = Transition(model, 'T2')\n",
    "T3 = Transition(model, 'T3')\n",
    "T4 = Transition(model, 'T4')\n",
    "\n",
    "jobclass = ClosedClass(model, 'Class1', 2, P1, 0)"
   ],
   "outputs": [],
   "execution_count": 2
  },
  {
   "cell_type": "code",
   "metadata": {
    "ExecuteTime": {
     "end_time": "2025-07-30T22:26:56.695714Z",
     "start_time": "2025-07-30T22:26:56.669702Z"
    }
   },
   "source": [
    "# T1 - Exponential distribution\n",
    "mode1 = T1.add_mode('Mode1')\n",
    "T1.setDistribution(mode1, Exp(2))\n",
    "T1.setEnablingConditions(mode1, jobclass, P1, 2)\n",
    "T1.setFiringOutcome(mode1, jobclass, P2, 2)\n",
    "\n",
    "# T2 - Erlang distribution (shape=3, rate=4)\n",
    "mode2 = T2.add_mode('Mode2')\n",
    "T2.setDistribution(mode2, Erlang(3, 4))\n",
    "T2.setEnablingConditions(mode2, jobclass, P2, 2)\n",
    "T2.setFiringOutcome(mode2, jobclass, P3, 2)\n",
    "\n",
    "# T3 - Hyperexponential distribution (p=0.7, lambda1=3, lambda2=1.5)\n",
    "mode3 = T3.add_mode('Mode3')\n",
    "T3.setDistribution(mode3, HyperExp(0.7, 3, 1.5))\n",
    "T3.setEnablingConditions(mode3, jobclass, P3, 2)\n",
    "T3.setFiringOutcome(mode3, jobclass, P4, 2)\n",
    "\n",
    "# T4 - Coxian distribution with custom parameters\n",
    "# Define Coxian parameters: mu (service rates) and phi (transition probabilities)\n",
    "mu0 = np.array([[1.0], [2.0]])  # Service rates for each phase\n",
    "phi0 = np.array([[0.6], [1.0]]) # Transition probabilities\n",
    "\n",
    "mode4 = T4.add_mode('Mode4')\n",
    "T4.setDistribution(mode4, Coxian(mu0, phi0))\n",
    "T4.setEnablingConditions(mode4, jobclass, P4, 2)\n",
    "T4.setFiringOutcome(mode4, jobclass, P1, 2)"
   ],
   "outputs": [],
   "execution_count": 3
  },
  {
   "cell_type": "code",
   "metadata": {
    "ExecuteTime": {
     "end_time": "2025-07-30T22:26:56.742386Z",
     "start_time": "2025-07-30T22:26:56.734942Z"
    }
   },
   "source": [
    "# Set up routing matrix for serial flow\n",
    "routingMatrix = model.init_routing_matrix()\n",
    "routingMatrix.set(jobclass, jobclass, P1, T1, 1.0)  # P1 -> T1\n",
    "routingMatrix.set(jobclass, jobclass, P2, T2, 1.0)  # P2 -> T2\n",
    "routingMatrix.set(jobclass, jobclass, P3, T3, 1.0)  # P3 -> T3\n",
    "routingMatrix.set(jobclass, jobclass, P4, T4, 1.0)  # P4 -> T4\n",
    "\n",
    "routingMatrix.set(jobclass, jobclass, T1, P2, 1.0)  # T1 -> P2\n",
    "routingMatrix.set(jobclass, jobclass, T2, P3, 1.0)  # T2 -> P3\n",
    "routingMatrix.set(jobclass, jobclass, T3, P4, 1.0)  # T3 -> P4\n",
    "routingMatrix.set(jobclass, jobclass, T4, P1, 1.0)  # T4 -> P1 (back to start)\n",
    "\n",
    "model.link(routingMatrix)"
   ],
   "outputs": [],
   "execution_count": 4
  },
  {
   "cell_type": "code",
   "metadata": {
    "ExecuteTime": {
     "end_time": "2025-07-30T22:26:56.802304Z",
     "start_time": "2025-07-30T22:26:56.800221Z"
    }
   },
   "source": "# Set initial state - all 2 tokens start in P1\nP1.setState(np.array([[jobclass.getPopulation()]]))\nP2.setState(np.array([[0]]))\nP3.setState(np.array([[0]]))\nP4.setState(np.array([[0]]))",
   "outputs": [],
   "execution_count": 5
  },
  {
   "cell_type": "code",
   "metadata": {
    "ExecuteTime": {
     "end_time": "2025-07-30T22:26:58.146521Z",
     "start_time": "2025-07-30T22:26:56.850830Z"
    }
   },
   "source": [
    "# Solve the model\n",
    "solver = SolverJMT(model, seed=23000)\n",
    "avgTable = solver.get_avg_table()"
   ],
   "outputs": [
    {
     "name": "stdout",
     "output_type": "stream",
     "text": [
      "JMT Model: /tmp/workspace/jsim/7906216698791189964/jmodel.jsim\n",
      "JMT [method: default, lang: java, env: 21.0.8] completed in 1.207335s.\n",
      "  Station JobClass    QLen  Util   RespT  ResidT    ArvR    Tput\n",
      "0      P1   Class1  0.2775   0.0  0.4822  0.4822  0.5746  0.5743\n",
      "1      P2   Class1  0.7768   0.0  1.3441  1.3441  0.5743  0.5727\n",
      "2      P3   Class1  0.2516   0.0  0.4304  0.4304  0.5727  0.5729\n",
      "3      P4   Class1  0.6939   0.0  1.2301  1.2301  0.5729  0.5744\n"
     ]
    }
   ],
   "execution_count": 6
  }
 ],
 "metadata": {
  "kernelspec": {
   "display_name": "Python 3",
   "language": "python",
   "name": "python3"
  },
  "language_info": {
   "codemirror_mode": {
    "name": "ipython",
    "version": 3
   },
   "file_extension": ".py",
   "mimetype": "text/x-python",
   "name": "python",
   "nbconvert_exporter": "python",
   "pygments_lexer": "ipython3",
   "version": "3.8.0"
  }
 },
 "nbformat": 4,
 "nbformat_minor": 4
}
