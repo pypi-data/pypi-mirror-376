{
 "cells": [
  {
   "cell_type": "code",
   "metadata": {
    "ExecuteTime": {
     "end_time": "2025-07-30T22:26:39.111865Z",
     "start_time": "2025-07-30T22:26:38.277879Z"
    }
   },
   "source": [
    "from line_solver import *"
   ],
   "outputs": [],
   "execution_count": 1
  },
  {
   "cell_type": "code",
   "metadata": {
    "ExecuteTime": {
     "end_time": "2025-07-30T22:26:39.124955Z",
     "start_time": "2025-07-30T22:26:39.114919Z"
    }
   },
   "source": [
    "model = Network('model')\n",
    "\n",
    "P1 = Place(model, 'P1')\n",
    "P2 = Place(model, 'P2')\n",
    "P3 = Place(model, 'P3')\n",
    "\n",
    "T1 = Transition(model, 'T1')\n",
    "T2 = Transition(model, 'T2')\n",
    "T3 = Transition(model, 'T3')\n",
    "T4 = Transition(model, 'T4')\n",
    "\n",
    "jobclass = ClosedClass(model, 'Class1', 8, P1, 0)"
   ],
   "outputs": [],
   "execution_count": 2
  },
  {
   "cell_type": "code",
   "metadata": {
    "ExecuteTime": {
     "end_time": "2025-07-30T22:26:39.184479Z",
     "start_time": "2025-07-30T22:26:39.177698Z"
    }
   },
   "source": [
    "# T1 - Competes for tokens: requires 2 tokens from P1, produces 2 to P2\n",
    "mode1 = T1.add_mode('Mode1')\n",
    "T1.setDistribution(mode1, Exp(2))\n",
    "T1.setEnablingConditions(mode1, jobclass, P1, 2)\n",
    "T1.setFiringOutcome(mode1, jobclass, P2, 2)\n",
    "\n",
    "# T2 - Competes for tokens: requires 3 tokens from P1, produces 3 to P3\n",
    "mode2 = T2.add_mode('Mode2')\n",
    "T2.setDistribution(mode2, Exp(1))\n",
    "T2.setEnablingConditions(mode2, jobclass, P1, 3)\n",
    "T2.setFiringOutcome(mode2, jobclass, P3, 3)\n",
    "\n",
    "# T3 - Returns tokens: takes 1 from P2, returns 1 to P1\n",
    "mode3 = T3.add_mode('Mode3')\n",
    "T3.setDistribution(mode3, Exp(4))\n",
    "T3.setEnablingConditions(mode3, jobclass, P2, 1)\n",
    "T3.setFiringOutcome(mode3, jobclass, P1, 1)\n",
    "\n",
    "# T4 - Returns tokens: takes 2 from P3, returns 2 to P1\n",
    "mode4 = T4.add_mode('Mode4')\n",
    "T4.setDistribution(mode4, Exp(2))\n",
    "T4.setEnablingConditions(mode4, jobclass, P3, 2)\n",
    "T4.setFiringOutcome(mode4, jobclass, P1, 2)"
   ],
   "outputs": [],
   "execution_count": 3
  },
  {
   "cell_type": "code",
   "metadata": {
    "ExecuteTime": {
     "end_time": "2025-07-30T22:26:39.238542Z",
     "start_time": "2025-07-30T22:26:39.229363Z"
    }
   },
   "source": [
    "# Set up routing matrix\n",
    "routingMatrix = model.init_routing_matrix()\n",
    "\n",
    "# Place to transition routing (competing transitions from P1)\n",
    "routingMatrix.set(jobclass, jobclass, P1, T1, 1.0)  # P1 -> T1\n",
    "routingMatrix.set(jobclass, jobclass, P1, T2, 1.0)  # P1 -> T2 (competing)\n",
    "routingMatrix.set(jobclass, jobclass, P2, T3, 1.0)  # P2 -> T3\n",
    "routingMatrix.set(jobclass, jobclass, P3, T4, 1.0)  # P3 -> T4\n",
    "\n",
    "# Transition to place routing\n",
    "routingMatrix.set(jobclass, jobclass, T1, P2, 1.0)  # T1 -> P2\n",
    "routingMatrix.set(jobclass, jobclass, T2, P3, 1.0)  # T2 -> P3\n",
    "routingMatrix.set(jobclass, jobclass, T3, P1, 1.0)  # T3 -> P1\n",
    "routingMatrix.set(jobclass, jobclass, T4, P1, 1.0)  # T4 -> P1\n",
    "\n",
    "model.link(routingMatrix)"
   ],
   "outputs": [],
   "execution_count": 4
  },
  {
   "cell_type": "code",
   "metadata": {
    "ExecuteTime": {
     "end_time": "2025-07-30T22:26:39.328782Z",
     "start_time": "2025-07-30T22:26:39.288127Z"
    }
   },
   "source": "# Set initial state - all 8 tokens start in P1\nP1.setState([jobclass.getPopulation()])\nP2.setState([0])\nP3.setState([0])",
   "outputs": [],
   "execution_count": 5
  },
  {
   "cell_type": "code",
   "metadata": {
    "ExecuteTime": {
     "end_time": "2025-07-30T22:26:40.801968Z",
     "start_time": "2025-07-30T22:26:39.349411Z"
    }
   },
   "source": [
    "# Solve the model\n",
    "solver = SolverJMT(model, seed=23000)\n",
    "avgTable = solver.get_avg_table()"
   ],
   "outputs": [
    {
     "name": "stdout",
     "output_type": "stream",
     "text": [
      "JMT Model: /tmp/workspace/jsim/14206373839422455609/jmodel.jsim\n",
      "JMT [method: default, lang: java, env: 21.0.8] completed in 1.376436s.\n",
      "  Station JobClass    QLen  Util   RespT  ResidT    ArvR    Tput\n",
      "0      P1   Class1  3.4344   0.0  0.7203  0.7203  4.7960  4.7866\n",
      "1      P2   Class1  2.5589   0.0  0.8665  0.8665  2.9984  3.0006\n",
      "2      P3   Class1  1.9935   0.0  1.1405  1.1405  1.8044  1.7420\n"
     ]
    }
   ],
   "execution_count": 6
  }
 ],
 "metadata": {
  "kernelspec": {
   "display_name": "Python 3",
   "language": "python",
   "name": "python3"
  },
  "language_info": {
   "codemirror_mode": {
    "name": "ipython",
    "version": 3
   },
   "file_extension": ".py",
   "mimetype": "text/x-python",
   "name": "python",
   "nbconvert_exporter": "python",
   "pygments_lexer": "ipython3",
   "version": "3.8.0"
  }
 },
 "nbformat": 4,
 "nbformat_minor": 4
}
