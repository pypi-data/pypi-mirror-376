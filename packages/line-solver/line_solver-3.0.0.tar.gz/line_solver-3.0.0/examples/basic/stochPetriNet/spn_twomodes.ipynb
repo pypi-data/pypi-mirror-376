{
 "cells": [
  {
   "cell_type": "code",
   "metadata": {
    "ExecuteTime": {
     "end_time": "2025-07-30T22:26:07.955514Z",
     "start_time": "2025-07-30T22:26:07.067222Z"
    }
   },
   "source": [
    "from line_solver import *"
   ],
   "outputs": [],
   "execution_count": 1
  },
  {
   "cell_type": "code",
   "metadata": {
    "ExecuteTime": {
     "end_time": "2025-07-30T22:26:08.024514Z",
     "start_time": "2025-07-30T22:26:08.014877Z"
    }
   },
   "source": [
    "model = Network('model')\n",
    "\n",
    "P1 = Place(model, 'P1')\n",
    "P2 = Place(model, 'P2')\n",
    "T1 = Transition(model, 'T1')\n",
    "T2 = Transition(model, 'T2')\n",
    "\n",
    "jobclass = ClosedClass(model, 'Class1', 10, P1, 0)"
   ],
   "outputs": [],
   "execution_count": 2
  },
  {
   "cell_type": "code",
   "metadata": {
    "ExecuteTime": {
     "end_time": "2025-07-30T22:26:08.076936Z",
     "start_time": "2025-07-30T22:26:08.070395Z"
    }
   },
   "source": [
    "# T1 - Batch processing: requires 4 tokens, produces 4 tokens\n",
    "mode1 = T1.add_mode('Mode1')\n",
    "T1.setDistribution(mode1, Exp(2))\n",
    "T1.setEnablingConditions(mode1, jobclass, P1, 4)  # Requires 4 tokens from P1\n",
    "T1.setFiringOutcome(mode1, jobclass, P2, 4)       # Produces 4 tokens to P2\n",
    "\n",
    "# T2 - Batch processing: requires 2 tokens, produces 2 tokens\n",
    "mode2 = T2.add_mode('Mode2')\n",
    "T2.setDistribution(mode2, Exp(3))\n",
    "T2.setEnablingConditions(mode2, jobclass, P2, 2)  # Requires 2 tokens from P2\n",
    "T2.setFiringOutcome(mode2, jobclass, P1, 2)       # Produces 2 tokens to P1"
   ],
   "outputs": [],
   "execution_count": 3
  },
  {
   "cell_type": "code",
   "metadata": {
    "ExecuteTime": {
     "end_time": "2025-07-30T22:26:08.127110Z",
     "start_time": "2025-07-30T22:26:08.119528Z"
    }
   },
   "source": [
    "# Set up routing matrix\n",
    "routingMatrix = model.init_routing_matrix()\n",
    "routingMatrix.set(jobclass, jobclass, P1, T1, 1.0)  # P1 -> T1\n",
    "routingMatrix.set(jobclass, jobclass, P2, T2, 1.0)  # P2 -> T2\n",
    "routingMatrix.set(jobclass, jobclass, T1, P2, 1.0)  # T1 -> P2\n",
    "routingMatrix.set(jobclass, jobclass, T2, P1, 1.0)  # T2 -> P1\n",
    "\n",
    "model.link(routingMatrix)"
   ],
   "outputs": [],
   "execution_count": 4
  },
  {
   "cell_type": "code",
   "metadata": {
    "ExecuteTime": {
     "end_time": "2025-07-30T22:26:08.185243Z",
     "start_time": "2025-07-30T22:26:08.168760Z"
    }
   },
   "source": "# Set initial state - all 10 tokens start in P1\nP1.setState([jobclass.getPopulation()])\nP2.setState([0])",
   "outputs": [],
   "execution_count": 5
  },
  {
   "cell_type": "code",
   "metadata": {
    "ExecuteTime": {
     "end_time": "2025-07-30T22:26:09.458623Z",
     "start_time": "2025-07-30T22:26:08.219114Z"
    }
   },
   "source": [
    "# Solve the model\n",
    "solver = SolverJMT(model, seed=23000)\n",
    "avgTable = solver.get_avg_table()"
   ],
   "outputs": [
    {
     "name": "stdout",
     "output_type": "stream",
     "text": [
      "JMT Model: /tmp/workspace/jsim/8968712463160524897/jmodel.jsim\n",
      "JMT [method: default, lang: java, env: 21.0.8] completed in 1.171107s.\n",
      "  Station JobClass    QLen  Util   RespT  ResidT    ArvR    Tput\n",
      "0      P1   Class1  4.6632   0.0  0.8976  0.8976  5.0348  4.9991\n",
      "1      P2   Class1  5.3368   0.0  1.0474  1.0474  4.9991  5.0357\n"
     ]
    }
   ],
   "execution_count": 6
  }
 ],
 "metadata": {
  "kernelspec": {
   "display_name": "Python 3",
   "language": "python",
   "name": "python3"
  },
  "language_info": {
   "codemirror_mode": {
    "name": "ipython",
    "version": 3
   },
   "file_extension": ".py",
   "mimetype": "text/x-python",
   "name": "python",
   "nbconvert_exporter": "python",
   "pygments_lexer": "ipython3",
   "version": "3.8.0"
  }
 },
 "nbformat": 4,
 "nbformat_minor": 4
}
