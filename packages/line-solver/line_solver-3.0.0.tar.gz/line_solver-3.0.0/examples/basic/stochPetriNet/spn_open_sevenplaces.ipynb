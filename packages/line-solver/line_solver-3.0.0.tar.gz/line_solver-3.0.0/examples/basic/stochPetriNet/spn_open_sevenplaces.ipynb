{
 "cells": [
  {
   "cell_type": "code",
   "metadata": {
    "ExecuteTime": {
     "end_time": "2025-07-30T22:26:15.064318Z",
     "start_time": "2025-07-30T22:26:14.230002Z"
    }
   },
   "source": [
    "from line_solver import *"
   ],
   "outputs": [],
   "execution_count": 1
  },
  {
   "cell_type": "code",
   "metadata": {
    "ExecuteTime": {
     "end_time": "2025-07-30T22:26:15.081046Z",
     "start_time": "2025-07-30T22:26:15.067041Z"
    }
   },
   "source": [
    "model = Network('model')\n",
    "source = Source(model, 'Source')\n",
    "sink = Sink(model, 'Sink')\n",
    "\n",
    "# Create 7 places\n",
    "P = []\n",
    "for i in range(7):\n",
    "    P.append(Place(model, f'P{i+1}'))\n",
    "\n",
    "# Create 8 transitions\n",
    "T = []\n",
    "for i in range(8):\n",
    "    T.append(Transition(model, f'T{i+1}'))\n",
    "\n",
    "jobclass = OpenClass(model, 'Class1', 0)\n",
    "source.set_arrival(jobclass, Exp.fitMean(1.0))"
   ],
   "outputs": [],
   "execution_count": 2
  },
  {
   "cell_type": "code",
   "metadata": {
    "ExecuteTime": {
     "end_time": "2025-07-30T22:26:15.147513Z",
     "start_time": "2025-07-30T22:26:15.139312Z"
    }
   },
   "source": [
    "# T1 - Timed transition with exponential distribution\n",
    "mode1 = T[0].add_mode('Mode1')\n",
    "T[0].set_number_of_servers(mode1, GlobalConstants.MaxInt)\n",
    "T[0].setDistribution(mode1, Exp(4))\n",
    "T[0].setEnablingConditions(mode1, jobclass, P[0], 1)\n",
    "T[0].setFiringOutcome(mode1, jobclass, P[1], 1)\n",
    "\n",
    "# T2 - Immediate transition\n",
    "mode2 = T[1].add_mode('Mode1')\n",
    "T[1].set_number_of_servers(mode2, GlobalConstants.MaxInt)\n",
    "T[1].setEnablingConditions(mode2, jobclass, P[1], 1)\n",
    "T[1].setFiringOutcome(mode2, jobclass, P[2], 1)\n",
    "T[1].setTimingStrategy(mode2, TimingStrategy.IMMEDIATE)\n",
    "T[1].setFiringPriorities(mode2, 1)\n",
    "T[1].setFiringWeights(mode2, 1.0)\n",
    "\n",
    "# T3 - Immediate transition\n",
    "mode3 = T[2].add_mode('Mode1')\n",
    "T[2].set_number_of_servers(mode3, GlobalConstants.MaxInt)\n",
    "T[2].setEnablingConditions(mode3, jobclass, P[1], 1)\n",
    "T[2].setFiringOutcome(mode3, jobclass, P[3], 1)\n",
    "T[2].setTimingStrategy(mode3, TimingStrategy.IMMEDIATE)\n",
    "T[2].setFiringPriorities(mode3, 1)\n",
    "T[2].setFiringWeights(mode3, 0.6)\n",
    "\n",
    "# T4 - Immediate transition with multiple enabling/firing conditions\n",
    "mode4 = T[3].add_mode('Mode1')\n",
    "T[3].set_number_of_servers(mode4, GlobalConstants.MaxInt)\n",
    "T[3].setEnablingConditions(mode4, jobclass, P[2], 1)\n",
    "T[3].setEnablingConditions(mode4, jobclass, P[4], 1)\n",
    "T[3].setFiringOutcome(mode4, jobclass, P[4], 1)\n",
    "T[3].setFiringOutcome(mode4, jobclass, P[5], 1)\n",
    "T[3].setTimingStrategy(mode4, TimingStrategy.IMMEDIATE)\n",
    "T[3].setFiringPriorities(mode4, 1)\n",
    "\n",
    "# T5 - Immediate transition with inhibiting conditions\n",
    "mode5 = T[4].add_mode('Mode1')\n",
    "T[4].set_number_of_servers(mode5, GlobalConstants.MaxInt)\n",
    "T[4].setEnablingConditions(mode5, jobclass, P[3], 1)\n",
    "T[4].setEnablingConditions(mode5, jobclass, P[4], 1)\n",
    "T[4].setFiringOutcome(mode5, jobclass, P[6], 1)\n",
    "T[4].setInhibitingConditions(mode5, jobclass, P[5], 1)  # Inhibited by P6\n",
    "T[4].setTimingStrategy(mode5, TimingStrategy.IMMEDIATE)\n",
    "T[4].setFiringPriorities(mode5, 1)\n",
    "\n",
    "# T6 - Timed transition with Erlang distribution\n",
    "mode6 = T[5].add_mode('Mode1')\n",
    "T[5].set_number_of_servers(mode6, GlobalConstants.MaxInt)\n",
    "T[5].setDistribution(mode6, Erlang(2, 2))\n",
    "T[5].setEnablingConditions(mode6, jobclass, P[5], 1)\n",
    "T[5].setFiringOutcome(mode6, jobclass, P[0], 1)\n",
    "\n",
    "# T7 - Timed transition with multiple firing outcomes\n",
    "mode7 = T[6].add_mode('Mode1')\n",
    "T[6].set_number_of_servers(mode7, GlobalConstants.MaxInt)\n",
    "T[6].setDistribution(mode7, Exp(2))\n",
    "T[6].setEnablingConditions(mode7, jobclass, P[6], 1)\n",
    "T[6].setFiringOutcome(mode7, jobclass, P[0], 1)\n",
    "T[6].setFiringOutcome(mode7, jobclass, P[4], 1)\n",
    "\n",
    "# T8 - Timed transition to sink\n",
    "mode8 = T[7].add_mode('Mode1')\n",
    "T[7].set_number_of_servers(mode8, GlobalConstants.MaxInt)\n",
    "T[7].setDistribution(mode8, Exp(2))\n",
    "T[7].setEnablingConditions(mode8, jobclass, P[3], 1)\n",
    "T[7].setFiringOutcome(mode8, jobclass, sink, 1)"
   ],
   "outputs": [],
   "execution_count": 3
  },
  {
   "cell_type": "code",
   "metadata": {
    "ExecuteTime": {
     "end_time": "2025-07-30T22:26:15.199930Z",
     "start_time": "2025-07-30T22:26:15.189133Z"
    }
   },
   "source": [
    "# Set up routing matrix\n",
    "routingMatrix = model.init_routing_matrix()\n",
    "\n",
    "# Source routing\n",
    "routingMatrix.set(jobclass, jobclass, source, P[0], 1.0)\n",
    "\n",
    "# Place to transition routing\n",
    "routingMatrix.set(jobclass, jobclass, P[0], T[0], 1.0)  # P1 -> T1\n",
    "routingMatrix.set(jobclass, jobclass, P[1], T[1], 1.0)  # P2 -> T2\n",
    "routingMatrix.set(jobclass, jobclass, P[1], T[2], 1.0)  # P2 -> T3\n",
    "routingMatrix.set(jobclass, jobclass, P[2], T[3], 1.0)  # P3 -> T4\n",
    "routingMatrix.set(jobclass, jobclass, P[3], T[4], 1.0)  # P4 -> T5\n",
    "routingMatrix.set(jobclass, jobclass, P[4], T[3], 1.0)  # P5 -> T4\n",
    "routingMatrix.set(jobclass, jobclass, P[4], T[4], 1.0)  # P5 -> T5\n",
    "routingMatrix.set(jobclass, jobclass, P[5], T[4], 1.0)  # P6 -> T5\n",
    "routingMatrix.set(jobclass, jobclass, P[5], T[5], 1.0)  # P6 -> T6\n",
    "routingMatrix.set(jobclass, jobclass, P[6], T[6], 1.0)  # P7 -> T7\n",
    "routingMatrix.set(jobclass, jobclass, P[3], T[7], 1.0)  # P4 -> T8\n",
    "\n",
    "# Transition to place/sink routing\n",
    "routingMatrix.set(jobclass, jobclass, T[0], P[1], 1.0)  # T1 -> P2\n",
    "routingMatrix.set(jobclass, jobclass, T[1], P[2], 1.0)  # T2 -> P3\n",
    "routingMatrix.set(jobclass, jobclass, T[2], P[3], 1.0)  # T3 -> P4\n",
    "routingMatrix.set(jobclass, jobclass, T[3], P[4], 1.0)  # T4 -> P5\n",
    "routingMatrix.set(jobclass, jobclass, T[3], P[5], 1.0)  # T4 -> P6\n",
    "routingMatrix.set(jobclass, jobclass, T[4], P[6], 1.0)  # T5 -> P7\n",
    "routingMatrix.set(jobclass, jobclass, T[5], P[0], 1.0)  # T6 -> P1\n",
    "routingMatrix.set(jobclass, jobclass, T[6], sink, 1.0)  # T7 -> Sink\n",
    "routingMatrix.set(jobclass, jobclass, T[6], P[0], 1.0)  # T7 -> P1\n",
    "routingMatrix.set(jobclass, jobclass, T[6], P[4], 1.0)  # T7 -> P5\n",
    "routingMatrix.set(jobclass, jobclass, T[7], sink, 1.0)  # T8 -> Sink\n",
    "\n",
    "model.link(routingMatrix)"
   ],
   "outputs": [],
   "execution_count": 4
  },
  {
   "cell_type": "code",
   "metadata": {
    "ExecuteTime": {
     "end_time": "2025-07-30T22:26:15.255851Z",
     "start_time": "2025-07-30T22:26:15.238359Z"
    }
   },
   "source": "# Set initial state\nP[0].setState([2])        # 2 tokens at P1\nP[1].setState([0])   # 0 tokens at P2\nP[2].setState([0])   # 0 tokens at P3\nP[3].setState([0])   # 0 tokens at P4\nP[4].setState([1])    # 1 token at P5\nP[5].setState([0])   # 0 tokens at P6\nP[6].setState([0])   # 0 tokens at P7\n\nprint(\"Initial state set:\")\nprint(\"P1: 2 tokens, P2-P4: 0 tokens, P5: 1 token, P6-P7: 0 tokens\")",
   "outputs": [
    {
     "name": "stdout",
     "output_type": "stream",
     "text": [
      "Initial state set:\n",
      "P1: 2 tokens, P2-P4: 0 tokens, P5: 1 token, P6-P7: 0 tokens\n"
     ]
    }
   ],
   "execution_count": 5
  },
  {
   "cell_type": "code",
   "metadata": {
    "ExecuteTime": {
     "end_time": "2025-07-30T22:26:19.395445Z",
     "start_time": "2025-07-30T22:26:15.296689Z"
    }
   },
   "source": [
    "# Solve the model\n",
    "solver = SolverJMT(model, seed=23000)\n",
    "avgTable = solver.get_avg_table()"
   ],
   "outputs": [
    {
     "name": "stdout",
     "output_type": "stream",
     "text": [
      "JMT Model: /tmp/workspace/jsim/428458131443126086/jmodel.jsim\n",
      "JMT [method: default, lang: java, env: 21.0.8] completed in 3.992487s.\n",
      "  Station JobClass    QLen  Util   RespT  ResidT    ArvR    Tput\n",
      "0  Source   Class1  0.0000   0.0  0.0000  0.0000  0.0000  1.0161\n",
      "1      P1   Class1  0.8524   0.0  0.2550  0.4911  3.3732  3.3769\n",
      "2      P2   Class1  0.0000   0.0  0.0000  0.0000  3.3769  3.3769\n",
      "3      P3   Class1  0.0995   0.0  0.0451  0.0434  2.1128  2.1129\n",
      "4      P4   Class1  0.5152   0.0  0.4132  0.1990  1.2609  1.2589\n",
      "5      P5   Class1  0.8908   0.0  0.3802  0.2535  2.3421  2.3432\n",
      "6      P6   Class1  2.0874   0.0  0.9921  0.4042  2.1129  2.1083\n",
      "7      P7   Class1  0.1124   0.0  0.4965  0.7724  0.2279  0.2278\n"
     ]
    }
   ],
   "execution_count": 6
  }
 ],
 "metadata": {
  "kernelspec": {
   "display_name": "Python 3",
   "language": "python",
   "name": "python3"
  },
  "language_info": {
   "codemirror_mode": {
    "name": "ipython",
    "version": 3
   },
   "file_extension": ".py",
   "mimetype": "text/x-python",
   "name": "python",
   "nbconvert_exporter": "python",
   "pygments_lexer": "ipython3",
   "version": "3.8.0"
  }
 },
 "nbformat": 4,
 "nbformat_minor": 4
}
