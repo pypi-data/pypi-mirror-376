{
 "cells": [
  {
   "cell_type": "code",
   "metadata": {
    "ExecuteTime": {
     "end_time": "2025-07-31T05:40:25.400146Z",
     "start_time": "2025-07-31T05:40:24.956374Z"
    }
   },
   "source": [
    "from line_solver import *"
   ],
   "outputs": [
    {
     "ename": "OSError",
     "evalue": "JVM is already started",
     "output_type": "error",
     "traceback": [
      "\u001B[31m---------------------------------------------------------------------------\u001B[39m",
      "\u001B[31mOSError\u001B[39m                                   Traceback (most recent call last)",
      "\u001B[36mCell\u001B[39m\u001B[36m \u001B[39m\u001B[32mIn[1]\u001B[39m\u001B[32m, line 1\u001B[39m\n\u001B[32m----> \u001B[39m\u001B[32m1\u001B[39m \u001B[38;5;28;01mfrom\u001B[39;00m\u001B[38;5;250m \u001B[39m\u001B[34;01mline_solver\u001B[39;00m\u001B[38;5;250m \u001B[39m\u001B[38;5;28;01mimport\u001B[39;00m *\n",
      "\u001B[36mFile \u001B[39m\u001B[32m/mnt/c/Users/gcasale/Dropbox/code/line-dev.git/python/line_solver/__init__.py:207\u001B[39m\n\u001B[32m    203\u001B[39m         solver_type = solver_type_map.get(solverName.upper(), jpype.JPackage(\u001B[33m'\u001B[39m\u001B[33mjline\u001B[39m\u001B[33m'\u001B[39m).lang.constant.SolverType.MVA)\n\u001B[32m    204\u001B[39m         \u001B[38;5;28;01mreturn\u001B[39;00m SolverOptions(solver_type)\n\u001B[32m--> \u001B[39m\u001B[32m207\u001B[39m \u001B[43mjlineStart\u001B[49m\u001B[43m(\u001B[49m\u001B[43m)\u001B[49m\n\u001B[32m    208\u001B[39m \u001B[38;5;28;01mfrom\u001B[39;00m\u001B[38;5;250m \u001B[39m\u001B[34;01m.\u001B[39;00m\u001B[34;01mapi\u001B[39;00m\u001B[38;5;250m \u001B[39m\u001B[38;5;28;01mimport\u001B[39;00m *\n\u001B[32m    209\u001B[39m \u001B[38;5;28;01mfrom\u001B[39;00m\u001B[38;5;250m \u001B[39m\u001B[34;01m.\u001B[39;00m\u001B[34;01mconstants\u001B[39;00m\u001B[38;5;250m \u001B[39m\u001B[38;5;28;01mimport\u001B[39;00m *\n",
      "\u001B[36mFile \u001B[39m\u001B[32m/mnt/c/Users/gcasale/Dropbox/code/line-dev.git/python/line_solver/__init__.py:54\u001B[39m, in \u001B[36mjlineStart\u001B[39m\u001B[34m()\u001B[39m\n\u001B[32m     52\u001B[39m     \u001B[38;5;28mprint\u001B[39m(\u001B[33m\"\u001B[39m\u001B[33mdone.\u001B[39m\u001B[33m\"\u001B[39m)\n\u001B[32m     53\u001B[39m jpype.startJVM()\n\u001B[32m---> \u001B[39m\u001B[32m54\u001B[39m \u001B[43mjpype\u001B[49m\u001B[43m.\u001B[49m\u001B[43mstartJVM\u001B[49m\u001B[43m(\u001B[49m\u001B[43mjpype\u001B[49m\u001B[43m.\u001B[49m\u001B[43mgetDefaultJVMPath\u001B[49m\u001B[43m(\u001B[49m\u001B[43m)\u001B[49m\u001B[43m,\u001B[49m\n\u001B[32m     55\u001B[39m \u001B[43m               \u001B[49m\u001B[33;43m\"\u001B[39;49m\u001B[33;43m-agentlib:jdwp=transport=dt_socket,server=n,suspend=y,address=5005\u001B[39;49m\u001B[33;43m\"\u001B[39;49m\u001B[43m)\u001B[49m\n\u001B[32m     56\u001B[39m jpype.addClassPath(jar_file_path)\n\u001B[32m     57\u001B[39m \u001B[38;5;28;01mfrom\u001B[39;00m\u001B[38;5;250m \u001B[39m\u001B[34;01mjline\u001B[39;00m\u001B[38;5;250m \u001B[39m\u001B[38;5;28;01mimport\u001B[39;00m GlobalConstants\n",
      "\u001B[36mFile \u001B[39m\u001B[32m~/.virtualenvs/line-python/lib/python3.12/site-packages/jpype/_core.py:249\u001B[39m, in \u001B[36mstartJVM\u001B[39m\u001B[34m(jvmpath, classpath, ignoreUnrecognized, convertStrings, interrupt, *jvmargs)\u001B[39m\n\u001B[32m    245\u001B[39m \u001B[38;5;66;03m# Code for 1.6\u001B[39;00m\n\u001B[32m    246\u001B[39m \u001B[38;5;66;03m#    modulepath: typing.Union[typing.Sequence[_PathOrStr], _PathOrStr, None] = None,\u001B[39;00m\n\u001B[32m    248\u001B[39m     \u001B[38;5;28;01mif\u001B[39;00m _jpype.isStarted():\n\u001B[32m--> \u001B[39m\u001B[32m249\u001B[39m         \u001B[38;5;28;01mraise\u001B[39;00m \u001B[38;5;167;01mOSError\u001B[39;00m(\u001B[33m'\u001B[39m\u001B[33mJVM is already started\u001B[39m\u001B[33m'\u001B[39m)\n\u001B[32m    250\u001B[39m     \u001B[38;5;28;01mglobal\u001B[39;00m _JVM_started\n\u001B[32m    251\u001B[39m     \u001B[38;5;28;01mif\u001B[39;00m _JVM_started:\n",
      "\u001B[31mOSError\u001B[39m: JVM is already started"
     ]
    }
   ],
   "execution_count": 1
  },
  {
   "cell_type": "code",
   "metadata": {},
   "source": [
    "model = Network('model')\n",
    "\n",
    "# Single place\n",
    "P1 = Place(model, 'P1')\n",
    "\n",
    "# Single transition\n",
    "T1 = Transition(model, 'T1')\n",
    "\n",
    "# Single job class with 1 token\n",
    "jobclass = ClosedClass(model, 'Class1', 1, P1, 0)"
   ],
   "outputs": [],
   "execution_count": null
  },
  {
   "cell_type": "code",
   "metadata": {},
   "source": [
    "# Mode 1: Exponential distribution with mean 1.0\n",
    "mode1 = T1.add_mode('Mode1')\n",
    "T1.set_distribution(mode1, Exp.fitMean(1.0))  # mean = 1.0\n",
    "T1.set_enabling_conditions(mode1, jobclass, P1, 1)\n",
    "T1.set_firing_outcome(mode1, jobclass, P1, 1)  # Returns token to same place\n",
    "\n",
    "# Mode 2: Erlang distribution with mean 1.0 and order 2\n",
    "mode2 = T1.add_mode('Mode2')\n",
    "T1.set_distribution(mode2, Erlang.fitMeanAndOrder(1, 2))  # mean = 1, order = 2\n",
    "T1.set_enabling_conditions(mode2, jobclass, P1, 1)\n",
    "T1.set_firing_outcome(mode2, jobclass, P1, 1)  # Returns token to same place\n",
    "\n",
    "# Mode 3: HyperExponential distribution with mean 1.0 and SCV = 4.0\n",
    "mode3 = T1.add_mode('Mode3')\n",
    "T1.set_distribution(mode3, HyperExp.fitMeanAndSCV(1.0, 4.0))  # mean = 1, SCV = 4\n",
    "T1.set_enabling_conditions(mode3, jobclass, P1, 1)\n",
    "T1.set_firing_outcome(mode3, jobclass, P1, 1)  # Returns token to same place"
   ],
   "outputs": [],
   "execution_count": null
  },
  {
   "cell_type": "code",
   "metadata": {},
   "source": [
    "# Set up routing matrix for self-loop\n",
    "routingMatrix = model.init_routing_matrix()\n",
    "routingMatrix.set(jobclass, jobclass, P1, T1, 1.0)  # P1 -> T1\n",
    "routingMatrix.set(jobclass, jobclass, T1, P1, 1.0)  # T1 -> P1 (self-loop)\n",
    "\n",
    "model.link(routingMatrix)"
   ],
   "outputs": [],
   "execution_count": null
  },
  {
   "cell_type": "code",
   "metadata": {},
   "source": [
    "# Set initial state - 1 token in P1\n",
    "P1.set_state([jobclass.get_population()])"
   ],
   "outputs": [],
   "execution_count": null
  },
  {
   "cell_type": "code",
   "metadata": {},
   "source": [
    "# Solve the model\n",
    "solver = SolverJMT(model, seed=23000)\n",
    "avgTable = solver.get_avg_table()"
   ],
   "outputs": [],
   "execution_count": null
  }
 ],
 "metadata": {
  "kernelspec": {
   "display_name": "Python 3",
   "language": "python",
   "name": "python3"
  },
  "language_info": {
   "codemirror_mode": {
    "name": "ipython",
    "version": 3
   },
   "file_extension": ".py",
   "mimetype": "text/x-python",
   "name": "python",
   "nbconvert_exporter": "python",
   "pygments_lexer": "ipython3",
   "version": "3.8.0"
  }
 },
 "nbformat": 4,
 "nbformat_minor": 4
}
