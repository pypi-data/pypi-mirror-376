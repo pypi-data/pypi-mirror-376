{
 "cells": [
  {
   "cell_type": "code",
   "metadata": {
    "ExecuteTime": {
     "end_time": "2025-07-15T04:53:11.106846Z",
     "start_time": "2025-07-15T04:53:04.629572Z"
    }
   },
   "source": [
    "from line_solver import *\n",
    "import numpy as np\n",
    "GlobalConstants.set_verbose(VerboseLevel.STD)"
   ],
   "outputs": [],
   "execution_count": 1
  },
  {
   "cell_type": "code",
   "metadata": {
    "ExecuteTime": {
     "end_time": "2025-07-15T04:53:12.112104Z",
     "start_time": "2025-07-15T04:53:11.991560Z"
    }
   },
   "source": [
    "# Class switching example 1\n",
    "# A basic M/M/1 with explicit definition of a ClassSwitch node\n",
    "# Recommended ClassSwitch declaration style\n",
    "model = Network('mm1cs')"
   ],
   "outputs": [],
   "execution_count": 2
  },
  {
   "cell_type": "code",
   "metadata": {
    "ExecuteTime": {
     "end_time": "2025-07-15T04:53:13.370705Z",
     "start_time": "2025-07-15T04:53:13.159258Z"
    }
   },
   "source": "# Block 1: nodes\nnode = np.empty(4, dtype=object)\nnode[0] = Source(model, 'Source 1')\nnode[1] = Queue(model, 'Queue 1', SchedStrategy.FCFS)\nnode[2] = Sink(model, 'Sink 1')\nnode[3] = ClassSwitch(model, 'ClassSwitch 1')\n\n# Block 2: classes\njobclass = np.empty(2, dtype=object)\njobclass[0] = OpenClass(model, 'Class1', 0)\njobclass[1] = OpenClass(model, 'Class2', 0)",
   "outputs": [],
   "execution_count": 3
  },
  {
   "cell_type": "code",
   "metadata": {
    "ExecuteTime": {
     "end_time": "2025-07-15T04:53:13.646692Z",
     "start_time": "2025-07-15T04:53:13.573501Z"
    }
   },
   "source": "# Service configurations\nnode[0].set_arrival(jobclass[0], Exp.fitMean(10.000000))  # (Source 1,Class1)\nnode[0].set_arrival(jobclass[1], Exp.fitMean(2.000000))   # (Source 1,Class2)\nnode[1].set_service(jobclass[0], Exp.fitMean(1.000000))   # (Queue 1,Class1)\nnode[1].set_service(jobclass[1], Exp.fitMean(1.000000))   # (Queue 1,Class2)",
   "outputs": [],
   "execution_count": 4
  },
  {
   "cell_type": "code",
   "metadata": {
    "ExecuteTime": {
     "end_time": "2025-07-15T04:53:13.953344Z",
     "start_time": "2025-07-15T04:53:13.782782Z"
    }
   },
   "source": [
    "# Block 3: topology\n",
    "# The class switching matrix can now be declared after the classes, so the\n",
    "# ClassSwitch node can be declared outside Block 1.\n",
    "csmatrix = node[3].init_class_switch_matrix()  # element (i,j) = probability that class i switches to j\n",
    "\n",
    "# Get class indices for the matrix\n",
    "class1_idx = jobclass[0].getIndex()\n",
    "class2_idx = jobclass[1].getIndex()\n",
    "\n",
    "# Set class switching probabilities using array indexing\n",
    "csmatrix[class1_idx, class1_idx] = 0.3\n",
    "csmatrix[class1_idx, class2_idx] = 0.7\n",
    "csmatrix[class2_idx, class1_idx] = 1.0\n",
    "node[3].set_class_switching_matrix(csmatrix)\n",
    "\n",
    "P = model.init_routing_matrix()  # initialize routing matrix\n",
    "P.set(jobclass[0], jobclass[0], node[0], node[3], 1.0)  # (Source 1,Class1) -> (ClassSwitch 1,Class1)\n",
    "P.set(jobclass[0], jobclass[0], node[1], node[2], 1.0)  # (Queue 1,Class1) -> (Sink 1,Class1)\n",
    "P.set(jobclass[0], jobclass[0], node[3], node[1], 1.0)  # (ClassSwitch 1,Class1) -> (Queue 1,Class1)\n",
    "P.set(jobclass[1], jobclass[1], node[0], node[3], 1.0)  # (Source 1,Class2) -> (ClassSwitch 1,Class2)\n",
    "P.set(jobclass[1], jobclass[1], node[1], node[2], 1.0)  # (Queue 1,Class2) -> (Sink 1,Class2)\n",
    "P.set(jobclass[1], jobclass[1], node[3], node[1], 1.0)  # (ClassSwitch 1,Class2) -> (Queue 1,Class2)\n",
    "model.link(P)\n",
    "#model.printRoutingMatrix()"
   ],
   "outputs": [],
   "execution_count": 5
  },
  {
   "cell_type": "code",
   "metadata": {
    "ExecuteTime": {
     "end_time": "2025-07-15T04:53:15.431963Z",
     "start_time": "2025-07-15T04:53:14.024942Z"
    }
   },
   "source": [
    "# Solve\n",
    "solver = SolverMVA(model)\n",
    "AvgTable = solver.getAvgChainTable()"
   ],
   "outputs": [
    {
     "name": "stdout",
     "output_type": "stream",
     "text": [
      "MVA [method: default(egflin), lang: java, env: 17.0.15] completed in 0.000253s.\n",
      "    Station   Chain    QLen  Util   RespT  ResidT  ArvR  Tput\n",
      "1  Source 1  Chain2  0.0000  0.00  0.0000  0.0000  0.00  0.50\n",
      "3   Queue 1  Chain2  0.1765  0.15  1.1765  0.3529  0.15  0.15\n"
     ]
    }
   ],
   "execution_count": 6
  }
 ],
 "metadata": {
  "kernelspec": {
   "display_name": "Python 3",
   "language": "python",
   "name": "python3"
  },
  "language_info": {
   "codemirror_mode": {
    "name": "ipython",
    "version": 3
   },
   "file_extension": ".py",
   "mimetype": "text/x-python",
   "name": "python",
   "nbconvert_exporter": "python",
   "pygments_lexer": "ipython3",
   "version": "3.8.0"
  }
 },
 "nbformat": 4,
 "nbformat_minor": 4
}