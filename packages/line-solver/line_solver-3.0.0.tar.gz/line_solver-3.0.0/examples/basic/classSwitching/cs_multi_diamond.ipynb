{
 "cells": [
  {
   "cell_type": "code",
   "metadata": {
    "ExecuteTime": {
     "end_time": "2025-07-15T01:25:56.694358Z",
     "start_time": "2025-07-15T01:25:56.655734Z"
    }
   },
   "source": [
    "from line_solver import *\n",
    "import numpy as np\n",
    "GlobalConstants.set_verbose(VerboseLevel.STD)"
   ],
   "outputs": [],
   "execution_count": 7
  },
  {
   "cell_type": "code",
   "metadata": {
    "ExecuteTime": {
     "end_time": "2025-07-15T01:25:56.937079Z",
     "start_time": "2025-07-15T01:25:56.915361Z"
    }
   },
   "source": [
    "# Class switching example 2\n",
    "# Example of class switching controlled by a reducible Markov chain\n",
    "model = Network('mm1cs')"
   ],
   "outputs": [],
   "execution_count": 8
  },
  {
   "cell_type": "code",
   "metadata": {
    "ExecuteTime": {
     "end_time": "2025-07-15T01:25:57.231780Z",
     "start_time": "2025-07-15T01:25:57.188926Z"
    }
   },
   "source": "# Block 1: nodes\nnode = np.empty(5, dtype=object)\nnode[0] = Source(model, 'Source 1')\nnode[1] = Queue(model, 'Queue 0', SchedStrategy.FCFS)\nnode[2] = Queue(model, 'Queue 1', SchedStrategy.FCFS)\nnode[3] = Queue(model, 'Queue 2', SchedStrategy.FCFS)\nnode[4] = Sink(model, 'Sink 1')\n\n# Block 2: classes\njobclass = np.empty(3, dtype=object)\njobclass[0] = OpenClass(model, 'Class1', 0)\njobclass[1] = OpenClass(model, 'Class2', 0)\njobclass[2] = OpenClass(model, 'Class3', 0)",
   "outputs": [],
   "execution_count": 9
  },
  {
   "cell_type": "code",
   "metadata": {
    "ExecuteTime": {
     "end_time": "2025-07-15T01:25:57.814480Z",
     "start_time": "2025-07-15T01:25:57.785394Z"
    }
   },
   "source": "# Service configurations\nnode[0].set_arrival(jobclass[0], Exp.fitMean(1.000000))   # (Source 1,Class1)\nnode[1].set_service(jobclass[0], Exp.fitMean(10.000000))  # (Queue 0,Class1)\nnode[2].set_service(jobclass[1], Exp.fitMean(20.000000))  # (Queue 1,Class2)\nnode[3].set_service(jobclass[2], Exp.fitMean(30.000000))  # (Queue 2,Class3)",
   "outputs": [],
   "execution_count": 10
  },
  {
   "cell_type": "code",
   "metadata": {
    "ExecuteTime": {
     "end_time": "2025-07-15T01:25:58.340822Z",
     "start_time": "2025-07-15T01:25:58.306075Z"
    }
   },
   "source": [
    "# Routing matrix with class switching\n",
    "P = model.init_routing_matrix()  # initialize routing matrix\n",
    "P.set(jobclass[0], jobclass[0], node[0], node[1], 1.0)\n",
    "P.set(jobclass[0], jobclass[0], node[1], node[1], 0.2)\n",
    "P.set(jobclass[0], jobclass[1], node[1], node[2], 0.3)\n",
    "P.set(jobclass[0], jobclass[2], node[1], node[3], 0.5)\n",
    "P.set(jobclass[1], jobclass[1], node[2], node[4], 1.0)\n",
    "P.set(jobclass[2], jobclass[2], node[3], node[4], 1.0)\n",
    "model.link(P)\n",
    "#model.printRoutingMatrix()"
   ],
   "outputs": [],
   "execution_count": 11
  },
  {
   "cell_type": "code",
   "metadata": {
    "ExecuteTime": {
     "end_time": "2025-07-15T01:25:58.828782Z",
     "start_time": "2025-07-15T01:25:58.636404Z"
    }
   },
   "source": [
    "# Solve\n",
    "solver = SolverMVA(model)\n",
    "AvgTable = solver.getAvgChainTable()"
   ],
   "outputs": [
    {
     "name": "stdout",
     "output_type": "stream",
     "text": [
      "MVA [method: default(egflin), lang: java, env: 17.0.15] completed in 0.000086s.\n",
      "    Station   Chain  QLen  Util  RespT  ResidT   ArvR   Tput\n",
      "0  Source 1  Chain1   0.0   0.0    0.0     0.0  0.000  1.000\n",
      "1   Queue 0  Chain1   0.0   0.0    0.0     0.0  1.250  1.250\n",
      "2   Queue 1  Chain1   0.0   0.0    0.0     0.0  0.375  0.375\n",
      "3   Queue 2  Chain1   0.0   0.0    0.0     0.0  0.625  0.625\n"
     ]
    }
   ],
   "execution_count": 12
  }
 ],
 "metadata": {
  "kernelspec": {
   "display_name": "Python 3",
   "language": "python",
   "name": "python3"
  },
  "language_info": {
   "codemirror_mode": {
    "name": "ipython",
    "version": 3
   },
   "file_extension": ".py",
   "mimetype": "text/x-python",
   "name": "python",
   "nbconvert_exporter": "python",
   "pygments_lexer": "ipython3",
   "version": "3.8.0"
  }
 },
 "nbformat": 4,
 "nbformat_minor": 4
}