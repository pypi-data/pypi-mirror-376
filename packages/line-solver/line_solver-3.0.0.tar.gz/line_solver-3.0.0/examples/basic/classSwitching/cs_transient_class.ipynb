{
 "cells": [
  {
   "cell_type": "code",
   "metadata": {
    "ExecuteTime": {
     "end_time": "2025-07-30T22:11:51.917901Z",
     "start_time": "2025-07-30T22:11:51.915265Z"
    }
   },
   "source": [
    "from line_solver import *\n",
    "import numpy as np\n",
    "GlobalConstants.set_verbose(VerboseLevel.STD)"
   ],
   "outputs": [],
   "execution_count": 7
  },
  {
   "metadata": {
    "ExecuteTime": {
     "end_time": "2025-07-30T22:11:51.971168Z",
     "start_time": "2025-07-30T22:11:51.969056Z"
    }
   },
   "cell_type": "code",
   "source": [
    "# Class switching example 4\n",
    "# Example of class switching controlled by a reducible Markov chain\n",
    "# In this variant the job remains either in class 2 or class 3 forever\n",
    "model = Network('reducible_cs')"
   ],
   "outputs": [],
   "execution_count": 8
  },
  {
   "metadata": {
    "ExecuteTime": {
     "end_time": "2025-07-30T22:11:52.021173Z",
     "start_time": "2025-07-30T22:11:52.018599Z"
    }
   },
   "cell_type": "code",
   "source": "# Block 1: nodes\nnode = np.empty(3, dtype=object)\nnode[0] = Delay(model, 'Queue 0')\nnode[1] = Delay(model, 'Queue 1')\nnode[2] = Delay(model, 'Queue 2')\n\n# Block 2: classes\njobclass = np.empty(3, dtype=object)\njobclass[0] = ClosedClass(model, 'Class1', 1, node[0])\njobclass[1] = ClosedClass(model, 'Class2', 0, node[0])\njobclass[2] = ClosedClass(model, 'Class3', 0, node[0])",
   "outputs": [],
   "execution_count": 9
  },
  {
   "metadata": {
    "ExecuteTime": {
     "end_time": "2025-07-30T22:11:52.071566Z",
     "start_time": "2025-07-30T22:11:52.069449Z"
    }
   },
   "cell_type": "code",
   "source": "# Service configurations\nnode[0].set_service(jobclass[0], Exp.fitMean(1.000000))  # (Queue 0,Class1)\nnode[0].set_service(jobclass[1], Exp.fitMean(1.000000))  # (Queue 0,Class2)\nnode[0].set_service(jobclass[2], Exp.fitMean(1.000000))  # (Queue 0,Class3)\nnode[1].set_service(jobclass[1], Exp.fitMean(1.000000))  # (Queue 1,Class2)\nnode[2].set_service(jobclass[2], Exp.fitMean(1.000000))  # (Queue 2,Class3)",
   "outputs": [],
   "execution_count": 10
  },
  {
   "metadata": {
    "ExecuteTime": {
     "end_time": "2025-07-30T22:11:52.124352Z",
     "start_time": "2025-07-30T22:11:52.121174Z"
    }
   },
   "cell_type": "code",
   "source": [
    "# Routing matrix with class switching - following MATLAB specification exactly\n",
    "P = model.init_routing_matrix()  # initialize routing matrix\n",
    "P.set(jobclass[0], jobclass[0], node[0], node[0], 0.2)  # P{1,1}(1,1) = 0.2\n",
    "P.set(jobclass[1], jobclass[1], node[0], node[1], 1.0)  # P{2,2}(1,2) = 1.0\n",
    "P.set(jobclass[2], jobclass[2], node[0], node[2], 1.0)  # P{3,3}(1,3) = 1.0\n",
    "P.set(jobclass[0], jobclass[1], node[0], node[1], 0.3)  # P{1,2}(1,2) = 0.3\n",
    "P.set(jobclass[0], jobclass[2], node[0], node[2], 0.5)  # P{1,3}(1,3) = 0.5\n",
    "P.set(jobclass[1], jobclass[1], node[1], node[0], 1.0)  # P{2,2}(2,1) = 1\n",
    "P.set(jobclass[2], jobclass[2], node[2], node[0], 1.0)  # P{3,3}(3,1) = 1\n",
    "model.link(P)"
   ],
   "outputs": [],
   "execution_count": 11
  },
  {
   "metadata": {
    "ExecuteTime": {
     "end_time": "2025-07-30T22:11:52.171955Z",
     "start_time": "2025-07-30T22:11:52.170349Z"
    }
   },
   "cell_type": "code",
   "source": "#model.printRoutingMatrix()",
   "outputs": [],
   "execution_count": 12
  },
  {
   "metadata": {
    "ExecuteTime": {
     "end_time": "2025-07-30T22:11:52.318265Z",
     "start_time": "2025-07-30T22:11:52.215457Z"
    }
   },
   "cell_type": "code",
   "source": [
    "# Solve\n",
    "solver = SolverMVA(model)\n",
    "AvgTable = solver.getAvgChainTable()"
   ],
   "outputs": [
    {
     "ename": "java.lang.IllegalArgumentException",
     "evalue": "java.lang.IllegalArgumentException: Cannot reshape matrix: new dimensions (9x1) do not match total number of elements (0)",
     "output_type": "error",
     "traceback": [
      "\u001B[31m---------------------------------------------------------------------------\u001B[39m",
      "\u001B[31mException\u001B[39m                                 Traceback (most recent call last)",
      "\u001B[36mFile \u001B[39m\u001B[32mSolverMVA.java:58\u001B[39m, in \u001B[36mjline.solvers.mva.SolverMVA.<init>\u001B[39m\u001B[34m()\u001B[39m\n",
      "\u001B[31mException\u001B[39m: Java Exception",
      "\nThe above exception was the direct cause of the following exception:\n",
      "\u001B[31mjava.lang.IllegalArgumentException\u001B[39m        Traceback (most recent call last)",
      "\u001B[36mCell\u001B[39m\u001B[36m \u001B[39m\u001B[32mIn[13]\u001B[39m\u001B[32m, line 2\u001B[39m\n\u001B[32m      1\u001B[39m \u001B[38;5;66;03m# Solve\u001B[39;00m\n\u001B[32m----> \u001B[39m\u001B[32m2\u001B[39m solver = \u001B[43mSolverMVA\u001B[49m\u001B[43m(\u001B[49m\u001B[43mmodel\u001B[49m\u001B[43m)\u001B[49m\n\u001B[32m      3\u001B[39m AvgTable = solver.getAvgChainTable()\n",
      "\u001B[36mFile \u001B[39m\u001B[32m/mnt/c/Users/gcasale/Dropbox/code/line-dev.git/python/line_solver/solvers.py:1608\u001B[39m, in \u001B[36mSolverMVA.__init__\u001B[39m\u001B[34m(self, *args, **kwargs)\u001B[39m\n\u001B[32m   1605\u001B[39m model = args[\u001B[32m0\u001B[39m]\n\u001B[32m   1607\u001B[39m \u001B[38;5;28;01mtry\u001B[39;00m:\n\u001B[32m-> \u001B[39m\u001B[32m1608\u001B[39m     \u001B[38;5;28mself\u001B[39m.obj = \u001B[43mjpype\u001B[49m\u001B[43m.\u001B[49m\u001B[43mJPackage\u001B[49m\u001B[43m(\u001B[49m\u001B[33;43m'\u001B[39;49m\u001B[33;43mjline\u001B[39;49m\u001B[33;43m'\u001B[39;49m\u001B[43m)\u001B[49m\u001B[43m.\u001B[49m\u001B[43msolvers\u001B[49m\u001B[43m.\u001B[49m\u001B[43mmva\u001B[49m\u001B[43m.\u001B[49m\u001B[43mSolverMVA\u001B[49m\u001B[43m(\u001B[49m\u001B[43mmodel\u001B[49m\u001B[43m.\u001B[49m\u001B[43mobj\u001B[49m\u001B[43m,\u001B[49m\u001B[43m \u001B[49m\u001B[38;5;28;43mself\u001B[39;49m\u001B[43m.\u001B[49m\u001B[43msolveropt\u001B[49m\u001B[43m.\u001B[49m\u001B[43mobj\u001B[49m\u001B[43m)\u001B[49m\n\u001B[32m   1609\u001B[39m \u001B[38;5;28;01mexcept\u001B[39;00m jpype.JException \u001B[38;5;28;01mas\u001B[39;00m e:\n\u001B[32m   1610\u001B[39m     \u001B[38;5;28;01mif\u001B[39;00m \u001B[33m\"\u001B[39m\u001B[33mOutside of matrix bounds\u001B[39m\u001B[33m\"\u001B[39m \u001B[38;5;129;01min\u001B[39;00m \u001B[38;5;28mstr\u001B[39m(e):\n",
      "\u001B[31mjava.lang.IllegalArgumentException\u001B[39m: java.lang.IllegalArgumentException: Cannot reshape matrix: new dimensions (9x1) do not match total number of elements (0)"
     ]
    }
   ],
   "execution_count": 13
  }
 ],
 "metadata": {
  "kernelspec": {
   "display_name": "Python 3",
   "language": "python",
   "name": "python3"
  },
  "language_info": {
   "codemirror_mode": {
    "name": "ipython",
    "version": 3
   },
   "file_extension": ".py",
   "mimetype": "text/x-python",
   "name": "python",
   "nbconvert_exporter": "python",
   "pygments_lexer": "ipython3",
   "version": "3.8.0"
  }
 },
 "nbformat": 4,
 "nbformat_minor": 4
}
