{
 "cells": [
  {
   "metadata": {
    "ExecuteTime": {
     "end_time": "2025-07-15T01:25:20.657111Z",
     "start_time": "2025-07-15T01:25:20.637671Z"
    }
   },
   "cell_type": "code",
   "source": [
    "from line_solver import *\n",
    "import numpy as np\n",
    "GlobalConstants.set_verbose(VerboseLevel.STD)"
   ],
   "outputs": [],
   "execution_count": 13
  },
  {
   "metadata": {
    "ExecuteTime": {
     "end_time": "2025-07-15T01:25:20.779088Z",
     "start_time": "2025-07-15T01:25:20.769042Z"
    }
   },
   "cell_type": "code",
   "source": [
    "# Class switching example 3\n",
    "# Example of class switching controlled by a reducible Markov chain\n",
    "model = Network('mm1cs')"
   ],
   "outputs": [],
   "execution_count": 14
  },
  {
   "metadata": {
    "ExecuteTime": {
     "end_time": "2025-07-15T01:25:20.896259Z",
     "start_time": "2025-07-15T01:25:20.881654Z"
    }
   },
   "cell_type": "code",
   "source": "# Block 1: nodes\nnode = np.empty(3, dtype=object)\nnode[0] = Delay(model, 'Queue 0')\nnode[1] = Delay(model, 'Queue 1')\nnode[2] = Delay(model, 'Queue 2')\n\n# Block 2: classes\njobclass = np.empty(3, dtype=object)\njobclass[0] = ClosedClass(model, 'Class1', 1, node[0])\njobclass[1] = ClosedClass(model, 'Class2', 0, node[0])\njobclass[2] = ClosedClass(model, 'Class3', 0, node[0])",
   "outputs": [],
   "execution_count": 15
  },
  {
   "metadata": {
    "ExecuteTime": {
     "end_time": "2025-07-15T01:25:21.026333Z",
     "start_time": "2025-07-15T01:25:21.002189Z"
    }
   },
   "cell_type": "code",
   "source": "# Service configurations\nnode[0].set_service(jobclass[0], Exp.fitMean(1.000000))  # (Queue 0,Class1)\nnode[1].set_service(jobclass[1], Exp.fitMean(2.000000))  # (Queue 1,Class2)\nnode[2].set_service(jobclass[2], Exp.fitMean(3.000000))  # (Queue 2,Class3)",
   "outputs": [],
   "execution_count": 16
  },
  {
   "metadata": {
    "ExecuteTime": {
     "end_time": "2025-07-15T01:25:21.199133Z",
     "start_time": "2025-07-15T01:25:21.154599Z"
    }
   },
   "cell_type": "code",
   "source": [
    "# Routing matrix with class switching",
    "P = model.init_routing_matrix()  # initialize routing matrix",
    "P.set(jobclass[0], jobclass[0], node[0], node[0], 0.2)",
    "P.set(jobclass[0], jobclass[1], node[0], node[1], 0.3)",
    "P.set(jobclass[0], jobclass[2], node[0], node[2], 0.5)",
    "P.set(jobclass[1], jobclass[0], node[1], node[0], 1.0)",
    "P.set(jobclass[2], jobclass[0], node[2], node[0], 1.0)",
    "model.link(P)",
    "#model.printRoutingMatrix()"
   ],
   "outputs": [],
   "execution_count": 17
  },
  {
   "metadata": {
    "ExecuteTime": {
     "end_time": "2025-07-15T01:25:21.647263Z",
     "start_time": "2025-07-15T01:25:21.531105Z"
    }
   },
   "cell_type": "code",
   "source": [
    "# Solve\n",
    "solver = SolverMVA(model)\n",
    "AvgTable = solver.getAvgChainTable()"
   ],
   "outputs": [
    {
     "name": "stdout",
     "output_type": "stream",
     "text": [
      "MVA [method: default(exact), lang: java, env: 17.0.15] completed in 0.000005s.\n",
      "   Station   Chain    QLen    Util  RespT  ResidT    ArvR    Tput\n",
      "0  Queue 0  Chain1  0.3226  0.3226    1.0     1.0  0.3226  0.3226\n",
      "1  Queue 1  Chain1  0.1935  0.1935    2.0     0.6  0.0968  0.0968\n",
      "2  Queue 2  Chain1  0.4839  0.4839    3.0     1.5  0.1613  0.1613\n"
     ]
    }
   ],
   "execution_count": 18
  }
 ],
 "metadata": {
  "kernelspec": {
   "display_name": "Python 3",
   "language": "python",
   "name": "python3"
  },
  "language_info": {
   "codemirror_mode": {
    "name": "ipython",
    "version": 3
   },
   "file_extension": ".py",
   "mimetype": "text/x-python",
   "name": "python",
   "nbconvert_exporter": "python",
   "pygments_lexer": "ipython3",
   "version": "3.8.0"
  }
 },
 "nbformat": 4,
 "nbformat_minor": 4
}