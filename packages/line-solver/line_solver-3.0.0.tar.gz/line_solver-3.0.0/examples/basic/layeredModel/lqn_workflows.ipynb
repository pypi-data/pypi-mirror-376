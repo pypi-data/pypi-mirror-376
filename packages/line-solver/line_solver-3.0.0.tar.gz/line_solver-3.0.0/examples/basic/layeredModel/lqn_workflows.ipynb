{
 "cells": [
  {
   "cell_type": "code",
   "metadata": {
    "ExecuteTime": {
     "end_time": "2025-07-30T22:18:47.178779Z",
     "start_time": "2025-07-30T22:18:46.302647Z"
    }
   },
   "source": [
    "from line_solver import *\n",
    "import numpy as np\n",
    "GlobalConstants.set_verbose(VerboseLevel.SILENT)"
   ],
   "outputs": [],
   "execution_count": 1
  },
  {
   "cell_type": "code",
   "metadata": {
    "ExecuteTime": {
     "end_time": "2025-07-30T22:18:47.245299Z",
     "start_time": "2025-07-30T22:18:47.230010Z"
    }
   },
   "source": [
    "print('This example illustrates a layered network with a loop.')\n",
    "\n",
    "model = LayeredNetwork('myLayeredModel')\n",
    "\n",
    "# Layer 1 - Reference task\n",
    "P1 = Processor(model, 'P1', GlobalConstants.MaxInt, SchedStrategy.INF)\n",
    "T1 = Task(model, 'T1', 1, SchedStrategy.REF).on(P1)\n",
    "T1.setThinkTime(Immediate())\n",
    "E1 = Entry(model, 'Entry').on(T1)\n",
    "\n",
    "# Layer 2 - Service task\n",
    "P2 = Processor(model, 'P2', GlobalConstants.MaxInt, SchedStrategy.INF)\n",
    "T2 = Task(model, 'T2', 1, SchedStrategy.INF).on(P2).setThinkTime(Immediate())\n",
    "E2 = Entry(model, 'E2').on(T2)\n",
    "\n",
    "# Layer 3 - Backend task\n",
    "P3 = Processor(model, 'P3', 5, SchedStrategy.PS)\n",
    "T3 = Task(model, 'T3', 20, SchedStrategy.INF).on(P3)\n",
    "T3.setThinkTime(Exp.fitMean(10))\n",
    "E3 = Entry(model, 'E1').on(T3)  # Note: Entry named 'E1' in original\n",
    "\n",
    "# Activities for T1 (with loop)\n",
    "A1 = Activity(model, 'A1', Exp.fitMean(1)).on(T1).boundTo(E1)\n",
    "A2 = Activity(model, 'A2', Exp.fitMean(2)).on(T1)\n",
    "A3 = Activity(model, 'A3', Exp.fitMean(3)).on(T1).synchCall(E2, 1)\n",
    "\n",
    "# Activities for T2 (with fork-join)\n",
    "B1 = Activity(model, 'B1', Exp.fitMean(0.1)).on(T2).boundTo(E2)\n",
    "B2 = Activity(model, 'B2', Exp.fitMean(0.2)).on(T2)\n",
    "B3 = Activity(model, 'B3', Exp.fitMean(0.3)).on(T2)\n",
    "B4 = Activity(model, 'B4', Exp.fitMean(0.4)).on(T2)\n",
    "B5 = Activity(model, 'B5', Exp.fitMean(0.5)).on(T2)\n",
    "B6 = Activity(model, 'B6', Exp.fitMean(0.6)).on(T2).synchCall(E3, 1).repliesTo(E2)\n",
    "\n",
    "# Activities for T3 (with or-fork/join)\n",
    "C1 = Activity(model, 'C1', Exp.fitMean(0.1)).on(T3).boundTo(E3)\n",
    "C2 = Activity(model, 'C2', Exp.fitMean(0.2)).on(T3)\n",
    "C3 = Activity(model, 'C3', Exp.fitMean(0.3)).on(T3)\n",
    "C4 = Activity(model, 'C4', Exp.fitMean(0.4)).on(T3)\n",
    "C5 = Activity(model, 'C5', Exp.fitMean(0.5)).on(T3).repliesTo(E3)"
   ],
   "outputs": [
    {
     "name": "stdout",
     "output_type": "stream",
     "text": [
      "This example illustrates a layered network with a loop.\n"
     ]
    }
   ],
   "execution_count": 2
  },
  {
   "cell_type": "code",
   "metadata": {
    "ExecuteTime": {
     "end_time": "2025-07-30T22:18:47.309815Z",
     "start_time": "2025-07-30T22:18:47.282769Z"
    }
   },
   "source": [
    "# Add precedence relationships\n",
    "\n",
    "# T1: Loop with 3 iterations\n",
    "T1.addPrecedence(ActivityPrecedence.Loop(A1, [A2, A3], 3))\n",
    "\n",
    "# T2: Serial connection and AND fork-join\n",
    "T2.addPrecedence(ActivityPrecedence.Serial(B4, B5))\n",
    "T2.addPrecedence(ActivityPrecedence.AndFork(B1, [B2, B3, B4]))\n",
    "T2.addPrecedence(ActivityPrecedence.AndJoin([B2, B3, B5], B6))\n",
    "\n",
    "# T3: OR fork-join with probabilities\n",
    "T3.addPrecedence(ActivityPrecedence.OrFork(C1, [C2, C3, C4], [0.3, 0.3, 0.4]))\n",
    "T3.addPrecedence(ActivityPrecedence.OrJoin([C2, C3, C4], C5))"
   ],
   "outputs": [],
   "execution_count": 3
  },
  {
   "metadata": {
    "ExecuteTime": {
     "end_time": "2025-07-30T22:18:47.452237Z",
     "start_time": "2025-07-30T22:18:47.345032Z"
    }
   },
   "cell_type": "code",
   "source": [
    "# Solve with different solvers\n",
    "\n",
    "if SolverLQNS.isAvailable():\n",
    "    solver_lqns = SolverLQNS(model)\n",
    "    avg_table_lqns = solver_lqns.get_avg_table()"
   ],
   "outputs": [
    {
     "name": "stdout",
     "output_type": "stream",
     "text": [
      "     Node   NodeType    QLen    Util    RespT  ResidT  ArvR    Tput\n",
      "0      P1  Processor     NaN  0.7958      NaN     0.0   0.0     NaN\n",
      "1      P2  Processor     NaN  0.1671      NaN     0.0   0.0     NaN\n",
      "2      P3  Processor     NaN  0.0724      NaN     0.0   0.0     NaN\n",
      "3      T1    RefTask  1.0000  0.7958      NaN     0.0   0.0  0.0796\n",
      "4      T2       Task  0.2042  0.1671      NaN     0.0   0.0  0.0796\n",
      "5      T3       Task  0.0724  0.0724      NaN     0.0   0.0  0.0796\n",
      "6   Entry      Entry  1.0000  0.7958  12.5667     0.0   0.0  0.0796\n",
      "7      E2      Entry  0.2042  0.1671   2.5667     0.0   0.0  0.0796\n",
      "8      E1      Entry  0.0724  0.0724   0.9098     0.0   0.0  0.0796\n",
      "9      A1   Activity  0.0796  0.0796   1.0000     0.0   0.0  0.0796\n",
      "10     A2   Activity  0.4775  0.4775   2.0000     0.0   0.0  0.2387\n",
      "11     A3   Activity  0.4430  0.2387   5.5667     0.0   0.0  0.0796\n",
      "12     B1   Activity  0.0080  0.0080   0.1000     0.0   0.0  0.0796\n",
      "13     B2   Activity  0.0159  0.0159   0.2000     0.0   0.0  0.0796\n",
      "14     B3   Activity  0.0239  0.0239   0.3000     0.0   0.0  0.0796\n",
      "15     B4   Activity  0.0318  0.0318   0.4000     0.0   0.0  0.0796\n",
      "16     B5   Activity  0.0398  0.0398   0.5000     0.0   0.0  0.0796\n",
      "17     B6   Activity  0.1201  0.0477   1.5098     0.0   0.0  0.0796\n",
      "18     C1   Activity  0.0080  0.0080   0.1000     0.0   0.0  0.0796\n",
      "19     C2   Activity  0.0048  0.0048   0.2000     0.0   0.0  0.0239\n",
      "20     C3   Activity  0.0072  0.0072   0.2999     0.0   0.0  0.0239\n",
      "21     C4   Activity  0.0127  0.0127   0.3999     0.0   0.0  0.0318\n",
      "22     C5   Activity  0.0398  0.0398   0.4999     0.0   0.0  0.0796\n"
     ]
    }
   ],
   "execution_count": 4
  },
  {
   "metadata": {
    "ExecuteTime": {
     "end_time": "2025-07-30T22:18:51.877340Z",
     "start_time": "2025-07-30T22:18:47.460550Z"
    }
   },
   "cell_type": "code",
   "source": [
    "solver_ln = SolverLN(model)\n",
    "avg_table_ln = solver_ln.get_avg_table()"
   ],
   "outputs": [
    {
     "name": "stdout",
     "output_type": "stream",
     "text": [
      "SolverLN initialization completed. Starting iteration on ensemble models.\n",
      "Iter 1.Analyze time: 0.593035s. Update time: 0.001328s. Runtime: 0.606098s.\n",
      "Iter 2.Analyze time: 0.509590s. Update time: 0.000264s. Runtime: 1.117572s.\n",
      "Iter 3.Analyze time: 0.530334s. Update time: 0.000545s. Runtime: 1.648403s.\n",
      "Iter 4.Analyze time: 0.502539s. Update time: 0.000319s. Runtime: 2.151876s.\n",
      "Iter 5.Analyze time: 0.506623s. Update time: 0.000348s. Runtime: 2.659189s.\n",
      "Iter 6.Analyze time: 0.476367s. Update time: 0.000363s. Runtime: 3.136123sTesting convergence.\n",
      "\n",
      "Iter 7.Analyze time: 0.533111s. Update time: 0.000248s. Runtime: 3.670100s.\n",
      "SolverLN completed in 5 iterations. Running final checks.\\n\n",
      "Summary: Analyze avg time: 0.521657s. Update avg time: 0.000488s. Total runtime: 4.140292s. \n",
      "     Node   NodeType    QLen    Util    RespT   ResidT  ArvR    Tput\n",
      "0      P1  Processor     NaN  0.8280      NaN      NaN   NaN     NaN\n",
      "1      P2  Processor     NaN  0.1716      NaN      NaN   NaN     NaN\n",
      "2      P3  Processor     NaN  0.0241      NaN      NaN   NaN     NaN\n",
      "3      T1       Task  1.0000  0.8280      NaN  10.0000   NaN  0.0828\n",
      "4      T2       Task  0.1650  0.1716      NaN   1.1667   NaN  0.0794\n",
      "5      T3       Task  0.0723  0.0241      NaN   0.9100   NaN  0.0794\n",
      "6   Entry      Entry  1.0000     NaN  12.0767      NaN   NaN  0.0828\n",
      "7      E2      Entry  0.1650     NaN   2.0767      NaN   NaN  0.0794\n",
      "8      E1      Entry  0.0723     NaN   0.9100      NaN   NaN  0.0794\n",
      "9      A1   Activity  0.0828  0.0828   1.0000   1.0000   NaN  0.0828\n",
      "10     A2   Activity  0.4968  0.4968   2.0000   6.0000   NaN  0.2484\n",
      "11     A3   Activity  0.4204  0.2484   5.0767   3.0000   NaN  0.0828\n",
      "12     B1   Activity  0.0095  0.0095   0.1000   0.1000   NaN  0.0953\n",
      "13     B2   Activity  0.0191  0.0191   0.2000   0.0667   NaN  0.0953\n",
      "14     B3   Activity  0.0238  0.0238   0.3000   0.1000   NaN  0.0794\n",
      "15     B4   Activity  0.0318  0.0318   0.4000   0.1333   NaN  0.0794\n",
      "16     B5   Activity  0.0397  0.0397   0.5000   0.1667   NaN  0.0794\n",
      "17     B6   Activity  0.1200  0.0477   1.5100   0.6000   NaN  0.0794\n",
      "18     C1   Activity  0.0079  0.0026   0.1000   0.1000   NaN  0.0794\n",
      "19     C2   Activity  0.0048  0.0016   0.2000   0.0600   NaN  0.0238\n",
      "20     C3   Activity  0.0072  0.0024   0.3000   0.0900   NaN  0.0238\n",
      "21     C4   Activity  0.0127  0.0042   0.4000   0.1600   NaN  0.0318\n",
      "22     C5   Activity  0.0397  0.0132   0.5000   0.5000   NaN  0.0794\n"
     ]
    }
   ],
   "execution_count": 5
  }
 ],
 "metadata": {
  "kernelspec": {
   "display_name": "Python 3",
   "language": "python",
   "name": "python3"
  },
  "language_info": {
   "codemirror_mode": {
    "name": "ipython",
    "version": 3
   },
   "file_extension": ".py",
   "mimetype": "text/x-python",
   "name": "python",
   "nbconvert_exporter": "python",
   "pygments_lexer": "ipython3",
   "version": "3.8.0"
  }
 },
 "nbformat": 4,
 "nbformat_minor": 4
}
