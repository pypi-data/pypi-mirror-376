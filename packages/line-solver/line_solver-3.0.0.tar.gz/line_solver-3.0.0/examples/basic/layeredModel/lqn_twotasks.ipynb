{
 "cells": [
  {
   "cell_type": "code",
   "metadata": {
    "ExecuteTime": {
     "end_time": "2025-07-30T22:18:55.477924Z",
     "start_time": "2025-07-30T22:18:54.600749Z"
    }
   },
   "source": "from line_solver import *\nimport numpy as np\nGlobalConstants.set_verbose(VerboseLevel.SILENT)\n\n# Clear variables (equivalent to MATLAB's clear solver AvgTable)\nsolver = None\nAvgTable = None",
   "outputs": [],
   "execution_count": 1
  },
  {
   "cell_type": "code",
   "metadata": {
    "ExecuteTime": {
     "end_time": "2025-07-30T22:18:55.541582Z",
     "start_time": "2025-07-30T22:18:55.528150Z"
    }
   },
   "source": "# MATLAB: model = LayeredNetwork('myLayeredModel');\nmodel = LayeredNetwork('myLayeredModel')\n\n# definition of processors, tasks and entries\n# MATLAB: P1 = Processor(model, 'P1', 1, SchedStrategy.PS);\n# MATLAB: T1 = Task(model, 'T1', 100, SchedStrategy.REF).on(P1);\n# MATLAB: E1 = Entry(model, 'E1').on(T1);\nP1 = Processor(model, 'P1', 1, SchedStrategy.PS)\nT1 = Task(model, 'T1', 100, SchedStrategy.REF).on(P1)\nE1 = Entry(model, 'E1').on(T1)\n\n# MATLAB: P2 = Processor(model, 'P2', 1, SchedStrategy.PS);\n# MATLAB: T2 = Task(model, 'T2', 1, SchedStrategy.INF).on(P2);\n# MATLAB: E2 = Entry(model, 'E2').on(T2);\n# MATLAB: E3 = Entry(model, 'E3').on(T2);\nP2 = Processor(model, 'P2', 1, SchedStrategy.PS)\nT2 = Task(model, 'T2', 1, SchedStrategy.INF).on(P2)\nE2 = Entry(model, 'E2').on(T2)\nE3 = Entry(model, 'E3').on(T2)\n\n# definition of activities\n# MATLAB: T1.setThinkTime(Erlang.fitMeanAndOrder(10,1));\nT1.setThinkTime(Erlang.fitMeanAndOrder(10, 1))\n\n# MATLAB: A1 = Activity(model, 'A1', Exp(1)).on(T1).boundTo(E1).synchCall(E2).synchCall(E3,1);\nA1 = Activity(model, 'A1', Exp(1)).on(T1).boundTo(E1).synchCall(E2).synchCall(E3, 1)\n\n# MATLAB: A20 = Activity(model, 'A20', Exp(1)).on(T2).boundTo(E2);\n# MATLAB: A21 = Activity(model, 'A21', Exp(1)).on(T2);\n# MATLAB: A22 = Activity(model, 'A22', Exp(1)).on(T2).repliesTo(E2);\n# MATLAB: T2.addPrecedence(ActivityPrecedence.Serial(A20, A21, A22));\nA20 = Activity(model, 'A20', Exp(1)).on(T2).boundTo(E2)\nA21 = Activity(model, 'A21', Exp(1)).on(T2)\nA22 = Activity(model, 'A22', Exp(1)).on(T2).repliesTo(E2)\nT2.addPrecedence(ActivityPrecedence.Serial(A20, A21))\nT2.addPrecedence(ActivityPrecedence.Serial(A21, A22))\n\n# MATLAB: A3 = Activity(model, 'A3', Exp(1)).on(T2).boundTo(E3).repliesTo(E3);\nA3 = Activity(model, 'A3', Exp(1)).on(T2).boundTo(E3).repliesTo(E3)",
   "outputs": [],
   "execution_count": 2
  },
  {
   "metadata": {
    "ExecuteTime": {
     "end_time": "2025-07-30T22:18:55.690507Z",
     "start_time": "2025-07-30T22:18:55.590669Z"
    }
   },
   "cell_type": "code",
   "source": [
    "# instantiate solvers\n",
    "solvers = []\n",
    "avg_tables = []\n",
    "\n",
    "# LQNS solver\n",
    "options = SolverLQNS.defaultOptions()\n",
    "options.keep = True\n",
    "options.verbose = 0\n",
    "if SolverLQNS.isAvailable():\n",
    "    solver_lqns = SolverLQNS(model, options)\n",
    "    avg_table_lqns = solver_lqns.get_avg_table()"
   ],
   "outputs": [
    {
     "name": "stdout",
     "output_type": "stream",
     "text": [
      "   Node   NodeType     QLen  Util     RespT  ResidT  ArvR  Tput\n",
      "0    P1  Processor      NaN  0.25       NaN     0.0   0.0   NaN\n",
      "1    P2  Processor      NaN  1.00       NaN     0.0   0.0   NaN\n",
      "2    T1    RefTask  97.5000  0.25       NaN     0.0   0.0  0.25\n",
      "3    T2       Task  97.1681  1.00       NaN     0.0   0.0  0.50\n",
      "4    E1      Entry  97.5000  0.25  390.0000     0.0   0.0  0.25\n",
      "5    E2      Entry  72.8761  0.75  291.5040     0.0   0.0  0.25\n",
      "6    E3      Entry  24.2920  0.25   97.1682     0.0   0.0  0.25\n",
      "7    A1   Activity  97.5000  0.25  390.0000     0.0   0.0  0.25\n",
      "8   A20   Activity  24.2920  0.25   97.1682     0.0   0.0  0.25\n",
      "9   A21   Activity  24.2920  0.25   97.1682     0.0   0.0  0.25\n",
      "10  A22   Activity  24.2920  0.25   97.1682     0.0   0.0  0.25\n",
      "11   A3   Activity  24.2920  0.25   97.1682     0.0   0.0  0.25\n"
     ]
    }
   ],
   "execution_count": 3
  },
  {
   "metadata": {
    "ExecuteTime": {
     "end_time": "2025-07-30T22:18:56.157435Z",
     "start_time": "2025-07-30T22:18:55.693271Z"
    }
   },
   "cell_type": "code",
   "source": [
    "# LN solver with NC\n",
    "lnoptions = SolverLN.defaultOptions()\n",
    "lnoptions.verbose = 0\n",
    "solveroptions = SolverNC.defaultOptions()\n",
    "solveroptions.verbose = 0\n",
    "solver_nc = SolverLN(model, lambda l: SolverNC(l, solveroptions), lnoptions)\n",
    "avg_table_nc = solver_nc.get_avg_table()"
   ],
   "outputs": [
    {
     "name": "stdout",
     "output_type": "stream",
     "text": [
      "SolverLN initialization completed. Starting iteration on ensemble models.\n",
      "Iter 1.Analyze time: 0.038810s. Update time: 0.003394s. Runtime: 0.039157s.\n",
      "Iter 2.Analyze time: 0.002368s. Update time: 0.001933s. Runtime: 0.046235s.\n",
      "Iter 3.Analyze time: 0.002085s. Update time: 0.002433s. Runtime: 0.050512s.\n",
      "Iter 4.Analyze time: 0.002923s. Update time: 0.002368s. Runtime: 0.056037s.\n",
      "Iter 5.Analyze time: 0.001459s. Update time: 0.002526s. Runtime: 0.060042s.\n",
      "Iter 6.Analyze time: 0.001773s. Update time: 0.001918s. Runtime: 0.064504s.\n",
      "Iter 7.Analyze time: 0.001612s. Update time: 0.002017s. Runtime: 0.068272s.\n",
      "Iter 8.Analyze time: 0.001911s. Update time: 0.003765s. Runtime: 0.072507s.\n",
      "Iter 9.Analyze time: 0.002732s. Update time: 0.001786s. Runtime: 0.079853s.\n",
      "Iter 10.Analyze time: 0.001150s. Update time: 0.001429s. Runtime: 0.083850s.\n",
      "Iter 11.Analyze time: 0.001054s. Update time: 0.001669s. Runtime: 0.086685s.\n",
      "Iter 12.Analyze time: 0.000993s. Update time: 0.001623s. Runtime: 0.089463s.\n",
      "Iter 13.Analyze time: 0.001279s. Update time: 0.001707s. Runtime: 0.092588s.\n",
      "Iter 14.Analyze time: 0.001199s. Update time: 0.001436s. Runtime: 0.095933s.\n",
      "Iter 15.Analyze time: 0.001380s. Update time: 0.001524s. Runtime: 0.098902s.\n",
      "Iter 16.Analyze time: 0.000848s. Update time: 0.001508s. Runtime: 0.101502s.\n",
      "Iter 17.Analyze time: 0.001151s. Update time: 0.002015s. Runtime: 0.105151s.\n",
      "Iter 18.Analyze time: 0.000963s. Update time: 0.001128s. Runtime: 0.108290s.\n",
      "Iter 19.Analyze time: 0.001205s. Update time: 0.001274s. Runtime: 0.110760s.\n",
      "Iter 20.Analyze time: 0.002174s. Update time: 0.001126s. Runtime: 0.114423s.\n",
      "Iter 21.Analyze time: 0.000919s. Update time: 0.001439s. Runtime: 0.116672s.\n",
      "Iter 22.Analyze time: 0.001461s. Update time: 0.001094s. Runtime: 0.119694s.\n",
      "Iter 23.Analyze time: 0.000951s. Update time: 0.001195s. Runtime: 0.121861s.\n",
      "Iter 24.Analyze time: 0.000781s. Update time: 0.001161s. Runtime: 0.123949s.\n",
      "Iter 25.Analyze time: 0.001325s. Update time: 0.000979s. Runtime: 0.126632s Started averaging to aid convergence Started averaging to aid convergence Started averaging to aid convergence.\n",
      "Iter 26.Analyze time: 0.001673s. Update time: 0.001453s. Runtime: 0.130430s.\n",
      "Iter 27.Analyze time: 0.000916s. Update time: 0.001193s. Runtime: 0.133233s.\n",
      "Iter 28.Analyze time: 0.000962s. Update time: 0.001158s. Runtime: 0.135674s.\n",
      "Iter 29.Analyze time: 0.001188s. Update time: 0.001032s. Runtime: 0.138295s.\n",
      "Iter 30.Analyze time: 0.000997s. Update time: 0.001241s. Runtime: 0.140548s.\n",
      "Iter 31.Analyze time: 0.001098s. Update time: 0.002623s. Runtime: 0.145023s.\n",
      "Iter 32.Analyze time: 0.001336s. Update time: 0.001222s. Runtime: 0.149189s.\n",
      "Iter 33.Analyze time: 0.000807s. Update time: 0.001336s. Runtime: 0.151372s.\n",
      "Iter 34.Analyze time: 0.000944s. Update time: 0.000973s. Runtime: 0.153804s.\n",
      "Iter 35.Analyze time: 0.001114s. Update time: 0.001060s. Runtime: 0.156130s.\n",
      "Iter 36.Analyze time: 0.000807s. Update time: 0.001742s. Runtime: 0.158159s.\n",
      "Iter 37.Analyze time: 0.001469s. Update time: 0.000940s. Runtime: 0.161612s.\n",
      "Iter 38.Analyze time: 0.000830s. Update time: 0.000943s. Runtime: 0.163543s.\n",
      "Iter 39.Analyze time: 0.001475s. Update time: 0.001302s. Runtime: 0.166177s.\n",
      "Iter 40.Analyze time: 0.000911s. Update time: 0.001351s. Runtime: 0.168821s.\n",
      "Iter 41.Analyze time: 0.000772s. Update time: 0.000998s. Runtime: 0.171142s.\n",
      "Iter 42.Analyze time: 0.000903s. Update time: 0.000972s. Runtime: 0.173159s.\n",
      "Iter 43.Analyze time: 0.000932s. Update time: 0.005159s. Runtime: 0.175191s.\n",
      "Iter 44.Analyze time: 0.001016s. Update time: 0.000836s. Runtime: 0.181605s.\n",
      "Iter 45.Analyze time: 0.001609s. Update time: 0.000822s. Runtime: 0.184255s.\n",
      "Iter 46.Analyze time: 0.000827s. Update time: 0.001585s. Runtime: 0.186021s.\n",
      "Iter 47.Analyze time: 0.000895s. Update time: 0.000900s. Runtime: 0.188616s.\n",
      "Iter 48.Analyze time: 0.001571s. Update time: 0.000893s. Runtime: 0.191281s.\n",
      "Iter 49.Analyze time: 0.001862s. Update time: 0.001123s. Runtime: 0.194154s.\n",
      "Iter 50.Analyze time: 0.001018s. Update time: 0.002561s. Runtime: 0.196455s.\n",
      "Iter 51.Analyze time: 0.002183s. Update time: 0.001320s. Runtime: 0.201508s.\n",
      "Iter 52.Analyze time: 0.002692s. Update time: 0.000991s. Runtime: 0.205689s.\n",
      "Iter 53.Analyze time: 0.000969s. Update time: 0.011241s. Runtime: 0.207851s.\n",
      "Iter 54.Analyze time: 0.001042s. Update time: 0.001448s. Runtime: 0.220347s.\n",
      "Iter 55.Analyze time: 0.001191s. Update time: 0.001009s. Runtime: 0.223852s.\n",
      "Iter 56.Analyze time: 0.001607s. Update time: 0.000973s. Runtime: 0.226583s.\n",
      "Iter 57.Analyze time: 0.000925s. Update time: 0.001687s. Runtime: 0.228603s.\n",
      "Iter 58.Analyze time: 0.000907s. Update time: 0.000876s. Runtime: 0.231326s.\n",
      "Iter 59.Analyze time: 0.001723s. Update time: 0.000923s. Runtime: 0.234041s.\n",
      "Iter 60.Analyze time: 0.001598s. Update time: 0.000913s. Runtime: 0.236724s.\n",
      "Iter 61.Analyze time: 0.000780s. Update time: 0.001664s. Runtime: 0.238538s.\n",
      "Iter 62.Analyze time: 0.000868s. Update time: 0.000868s. Runtime: 0.241190s.\n",
      "Iter 63.Analyze time: 0.011073s. Update time: 0.001563s. Runtime: 0.253268s.\n",
      "Iter 64.Analyze time: 0.002097s. Update time: 0.001370s. Runtime: 0.257301s.\n",
      "Iter 65.Analyze time: 0.001331s. Update time: 0.001100s. Runtime: 0.260336s.\n",
      "Iter 66.Analyze time: 0.000887s. Update time: 0.001902s. Runtime: 0.262467s.\n",
      "Iter 67.Analyze time: 0.001168s. Update time: 0.000969s. Runtime: 0.265733s.\n",
      "Iter 68.Analyze time: 0.000999s. Update time: 0.000907s. Runtime: 0.267839s.\n",
      "Iter 69.Analyze time: 0.000846s. Update time: 0.000875s. Runtime: 0.269716s.\n",
      "Iter 70.Analyze time: 0.000743s. Update time: 0.000905s. Runtime: 0.271443s.\n",
      "Iter 71.Analyze time: 0.000738s. Update time: 0.000826s. Runtime: 0.273192s.\n",
      "Iter 72.Analyze time: 0.003117s. Update time: 0.000903s. Runtime: 0.277235s.\n",
      "Iter 73.Analyze time: 0.000957s. Update time: 0.000963s. Runtime: 0.279226s.\n",
      "Iter 74.Analyze time: 0.000812s. Update time: 0.000955s. Runtime: 0.281389s.\n",
      "Iter 75.Analyze time: 0.001604s. Update time: 0.000967s. Runtime: 0.284094s.\n",
      "Iter 76.Analyze time: 0.000883s. Update time: 0.000892s. Runtime: 0.286140s.\n",
      "Iter 77.Analyze time: 0.000839s. Update time: 0.000879s. Runtime: 0.288021s.\n",
      "Iter 78.Analyze time: 0.000841s. Update time: 0.000880s. Runtime: 0.289886s.\n",
      "Iter 79.Analyze time: 0.000781s. Update time: 0.001349s. Runtime: 0.291686s.\n",
      "Iter 80.Analyze time: 0.000851s. Update time: 0.001927s. Runtime: 0.294424s.\n",
      "Iter 81.Analyze time: 0.000964s. Update time: 0.001051s. Runtime: 0.297546s.\n",
      "Iter 82.Analyze time: 0.002216s. Update time: 0.002110s. Runtime: 0.300954s.\n",
      "Iter 83.Analyze time: 0.001491s. Update time: 0.001903s. Runtime: 0.304779s.\n",
      "Iter 84.Analyze time: 0.001483s. Update time: 0.001643s. Runtime: 0.308352s.\n",
      "Iter 85.Analyze time: 0.001517s. Update time: 0.000927s. Runtime: 0.311717s.\n",
      "Iter 86.Analyze time: 0.001815s. Update time: 0.001517s. Runtime: 0.314830s.\n",
      "Iter 87.Analyze time: 0.001256s. Update time: 0.001275s. Runtime: 0.318034s.\n",
      "Iter 88.Analyze time: 0.000753s. Update time: 0.000914s. Runtime: 0.320230s.\n",
      "Iter 89.Analyze time: 0.000773s. Update time: 0.000983s. Runtime: 0.322017s.\n",
      "Iter 90.Analyze time: 0.000736s. Update time: 0.000890s. Runtime: 0.323860s.\n",
      "Iter 91.Analyze time: 0.000724s. Update time: 0.001052s. Runtime: 0.325593s.\n",
      "Iter 92.Analyze time: 0.000785s. Update time: 0.000899s. Runtime: 0.327558s.\n",
      "Iter 93.Analyze time: 0.000902s. Update time: 0.001022s. Runtime: 0.329490s.\n",
      "Iter 94.Analyze time: 0.001677s. Update time: 0.000973s. Runtime: 0.332321s.\n",
      "Iter 95.Analyze time: 0.000757s. Update time: 0.000964s. Runtime: 0.334383s.\n",
      "Iter 96.Analyze time: 0.000791s. Update time: 0.001038s. Runtime: 0.336234s.\n",
      "Iter 97.Analyze time: 0.001023s. Update time: 0.000904s. Runtime: 0.338557s.\n",
      "Iter 98.Analyze time: 0.001517s. Update time: 0.001361s. Runtime: 0.341191s.\n",
      "Iter 99.Analyze time: 0.000746s. Update time: 0.000917s. Runtime: 0.343428s.\n",
      "Iter 100.Analyze time: 0.000787s. Update time: 0.001352s. Runtime: 0.345222s.Summary: Analyze avg time: 0.001722s. Update avg time: 0.001476s. Total runtime: 0.347532s. \n",
      "   Node   NodeType     QLen    Util    RespT   ResidT  ArvR    Tput\n",
      "0    P1  Processor      NaN  1.0000      NaN      NaN   NaN     NaN\n",
      "1    P2  Processor      NaN  0.3220      NaN      NaN   NaN     NaN\n",
      "2    T1       Task  86.9737  1.0000      NaN  87.6312   NaN  1.0000\n",
      "3    T2       Task   0.0000  0.3220      NaN   2.0000   NaN  0.1610\n",
      "4    E1      Entry  86.9737     NaN  86.9719      NaN   NaN  1.0000\n",
      "5    E2      Entry   0.0000     NaN   0.0000      NaN   NaN  0.0805\n",
      "6    E3      Entry   0.0000     NaN   0.0000      NaN   NaN  0.0805\n",
      "7    A1   Activity  89.2112  1.0000  89.2094  87.6312   NaN  1.0000\n",
      "8   A20   Activity   0.0805  0.0805   1.0000   0.5000   NaN  0.0805\n",
      "9   A21   Activity   0.0805  0.0805   1.0000   0.5000   NaN  0.0805\n",
      "10  A22   Activity   0.0805  0.0805   1.0000   0.5000   NaN  0.0805\n",
      "11   A3   Activity   0.0805  0.0805   1.0000   0.5000   NaN  0.0805\n"
     ]
    }
   ],
   "execution_count": 4
  },
  {
   "cell_type": "code",
   "metadata": {
    "ExecuteTime": {
     "end_time": "2025-07-30T22:18:56.172887Z",
     "start_time": "2025-07-30T22:18:56.170038Z"
    }
   },
   "source": [
    "print(avg_table_nc)"
   ],
   "outputs": [
    {
     "name": "stdout",
     "output_type": "stream",
     "text": [
      "   Node   NodeType     QLen    Util    RespT   ResidT  ArvR    Tput\n",
      "0    P1  Processor      NaN  1.0000      NaN      NaN   NaN     NaN\n",
      "1    P2  Processor      NaN  0.3220      NaN      NaN   NaN     NaN\n",
      "2    T1       Task  86.9737  1.0000      NaN  87.6312   NaN  1.0000\n",
      "3    T2       Task   0.0000  0.3220      NaN   2.0000   NaN  0.1610\n",
      "4    E1      Entry  86.9737     NaN  86.9719      NaN   NaN  1.0000\n",
      "5    E2      Entry   0.0000     NaN   0.0000      NaN   NaN  0.0805\n",
      "6    E3      Entry   0.0000     NaN   0.0000      NaN   NaN  0.0805\n",
      "7    A1   Activity  89.2112  1.0000  89.2094  87.6312   NaN  1.0000\n",
      "8   A20   Activity   0.0805  0.0805   1.0000   0.5000   NaN  0.0805\n",
      "9   A21   Activity   0.0805  0.0805   1.0000   0.5000   NaN  0.0805\n",
      "10  A22   Activity   0.0805  0.0805   1.0000   0.5000   NaN  0.0805\n",
      "11   A3   Activity   0.0805  0.0805   1.0000   0.5000   NaN  0.0805\n"
     ]
    }
   ],
   "execution_count": 5
  }
 ],
 "metadata": {
  "kernelspec": {
   "display_name": "Python 3",
   "language": "python",
   "name": "python3"
  },
  "language_info": {
   "codemirror_mode": {
    "name": "ipython",
    "version": 3
   },
   "file_extension": ".py",
   "mimetype": "text/x-python",
   "name": "python",
   "nbconvert_exporter": "python",
   "pygments_lexer": "ipython3",
   "version": "3.8.0"
  }
 },
 "nbformat": 4,
 "nbformat_minor": 4
}
