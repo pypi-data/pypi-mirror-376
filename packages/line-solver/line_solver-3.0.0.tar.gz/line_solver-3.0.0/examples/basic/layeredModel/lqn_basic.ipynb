{
 "cells": [
  {
   "cell_type": "code",
   "metadata": {
    "ExecuteTime": {
     "end_time": "2025-08-06T05:26:13.967970Z",
     "start_time": "2025-08-06T05:26:11.868467Z"
    }
   },
   "source": [
    "from line_solver import *\n",
    "import numpy as np\n",
    "GlobalConstants.set_verbose(VerboseLevel.SILENT)"
   ],
   "outputs": [],
   "execution_count": 1
  },
  {
   "cell_type": "code",
   "metadata": {
    "ExecuteTime": {
     "end_time": "2025-08-06T05:26:14.024987Z",
     "start_time": "2025-08-06T05:26:13.988057Z"
    }
   },
   "source": "# MATLAB: model = LayeredNetwork('test_LQN_4');\nmodel = LayeredNetwork('test_LQN_4')\n\n# MATLAB: P1 =  Processor(model, 'P1', 2, SchedStrategy.PS);\n# MATLAB: P2 =  Processor(model, 'P2', 3, SchedStrategy.PS);\nP1 = Processor(model, 'P1', 2, SchedStrategy.PS)\nP2 = Processor(model, 'P2', 3, SchedStrategy.PS)\n\n# MATLAB: T1 =  Task(model, 'T1', 50, SchedStrategy.REF).on(P1).setThinkTime( Exp(1 / 2));\n# MATLAB: T2 =  Task(model, 'T2', 50, SchedStrategy.FCFS).on(P1).setThinkTime( Exp(1 / 3));\n# MATLAB: T3 =  Task(model, 'T3', 25, SchedStrategy.FCFS).on(P2).setThinkTime( Exp(1 / 4));\nT1 = Task(model, 'T1', 50, SchedStrategy.REF).on(P1).setThinkTime(Exp(1 / 2))\nT2 = Task(model, 'T2', 50, SchedStrategy.FCFS).on(P1).setThinkTime(Exp(1 / 3))\nT3 = Task(model, 'T3', 25, SchedStrategy.FCFS).on(P2).setThinkTime(Exp(1 / 4))\n\n# MATLAB: E1 =  Entry(model, 'E1').on(T1);\n# MATLAB: E2 =  Entry(model, 'E2').on(T2);\n# MATLAB: E3 =  Entry(model, 'E3').on(T3);\nE1 = Entry(model, 'E1').on(T1)\nE2 = Entry(model, 'E2').on(T2)\nE3 = Entry(model, 'E3').on(T3)\n\n# MATLAB: A1 =  Activity(model, 'AS1',  Exp(10)).on(T1).boundTo(E1).synchCall(E2, 1);\n# MATLAB: A2 =  Activity(model, 'AS2',  Exp(20)).on(T2).boundTo(E2).synchCall(E3, 5).repliesTo(E2);\n# MATLAB: A3 =  Activity(model, 'AS3',  Exp(50)).on(T3).boundTo(E3).repliesTo(E3);\nA1 = Activity(model, 'AS1', Exp(10)).on(T1).boundTo(E1).synchCall(E2, 1)\nA2 = Activity(model, 'AS2', Exp(20)).on(T2).boundTo(E2).synchCall(E3, 5).repliesTo(E2)\nA3 = Activity(model, 'AS3', Exp(50)).on(T3).boundTo(E3).repliesTo(E3)",
   "outputs": [],
   "execution_count": 2
  },
  {
   "cell_type": "code",
   "metadata": {
    "ExecuteTime": {
     "end_time": "2025-08-06T05:27:42.767215Z",
     "start_time": "2025-08-06T05:26:14.049227Z"
    }
   },
   "source": [
    "# MATLAB: SolverLN(model).get_avg_table\n",
    "avg_table = SolverLN(model).get_avg_table()\n",
    "print('Average Table:')\n",
    "print(avg_table)"
   ],
   "outputs": [
    {
     "name": "stdout",
     "output_type": "stream",
     "text": [
      "SolverLN initialization completed. Starting iteration on ensemble models.\n",
      "Iter 1.Analyze time: 0.154223s. Update time: 0.000842s. Runtime: 0.154623s.\n",
      "Iter 2.Analyze time: 3.045538s. Update time: 0.006402s. Runtime: 3.201517s.\n",
      "Iter 3.Analyze time: 3.562855s. Update time: 0.000373s. Runtime: 6.771353s.\n",
      "Iter 4.Analyze time: 2.374069s. Update time: 0.000590s. Runtime: 9.146044s.\n",
      "Iter 5.Analyze time: 1.820317s. Update time: 0.002025s. Runtime: 10.969245s.\n",
      "Iter 6.Analyze time: 2.370954s. Update time: 0.000387s. Runtime: 13.345207s.\n",
      "Iter 7.Analyze time: 1.904947s. Update time: 0.000322s. Runtime: 15.250828s.\n",
      "Iter 8.Analyze time: 1.485654s. Update time: 0.000392s. Runtime: 16.737030s.\n",
      "Iter 9.Analyze time: 1.362726s. Update time: 0.000359s. Runtime: 18.100390s.\n",
      "Iter 10.Analyze time: 1.725809s. Update time: 0.000324s. Runtime: 19.828197s.\n",
      "Iter 11.Analyze time: 1.565888s. Update time: 0.000401s. Runtime: 21.394592s.\n",
      "Iter 12.Analyze time: 1.512724s. Update time: 0.000346s. Runtime: 22.907976s.\n",
      "Iter 13.Analyze time: 1.473424s. Update time: 0.000389s. Runtime: 24.381974s.\n",
      "Iter 14.Analyze time: 1.577361s. Update time: 0.000324s. Runtime: 25.960124s.\n",
      "Iter 15.Analyze time: 1.559204s. Update time: 0.001469s. Runtime: 27.519859s.\n",
      "Iter 16.Analyze time: 1.484012s. Update time: 0.000283s. Runtime: 29.006274s.\n",
      "Iter 17.Analyze time: 1.434469s. Update time: 0.000313s. Runtime: 30.441211s.\n",
      "Iter 18.Analyze time: 1.572185s. Update time: 0.000350s. Runtime: 32.013938s.\n",
      "Iter 19.Analyze time: 1.502624s. Update time: 0.000435s. Runtime: 33.517265s.\n",
      "Iter 20.Analyze time: 1.413851s. Update time: 0.000405s. Runtime: 34.931834s.\n",
      "Iter 21.Analyze time: 1.450446s. Update time: 0.002011s. Runtime: 36.382952s.\n",
      "Iter 22.Analyze time: 1.514184s. Update time: 0.000827s. Runtime: 37.899345s.\n",
      "Iter 23.Analyze time: 1.526725s. Update time: 0.000307s. Runtime: 39.427636s.\n",
      "Iter 24.Analyze time: 1.481712s. Update time: 0.000411s. Runtime: 40.909846s.\n",
      "Iter 25.Analyze time: 1.480092s. Update time: 0.000273s. Runtime: 42.390582s Started averaging to aid convergence Started averaging to aid convergence Started averaging to aid convergence Started averaging to aid convergence.\n",
      "Iter 26.Analyze time: 1.501684s. Update time: 0.000269s. Runtime: 43.894464s.\n",
      "Iter 27.Analyze time: 1.526487s. Update time: 0.000266s. Runtime: 45.421686s.\n",
      "Iter 28.Analyze time: 1.135325s. Update time: 0.000280s. Runtime: 46.557696s.\n",
      "Iter 29.Analyze time: 1.095881s. Update time: 0.000375s. Runtime: 47.654191s.\n",
      "Iter 30.Analyze time: 1.209261s. Update time: 0.000447s. Runtime: 48.864456s.\n",
      "Iter 31.Analyze time: 1.191511s. Update time: 0.000313s. Runtime: 50.056934s.\n",
      "Iter 32.Analyze time: 1.331515s. Update time: 0.000309s. Runtime: 51.389110s.\n",
      "Iter 33.Analyze time: 1.445031s. Update time: 0.000318s. Runtime: 52.834697s.\n",
      "Iter 34.Analyze time: 1.285453s. Update time: 0.000314s. Runtime: 54.120831s.\n",
      "Iter 35.Analyze time: 1.280965s. Update time: 0.000203s. Runtime: 55.402522s.\n",
      "Iter 36.Analyze time: 1.290086s. Update time: 0.000234s. Runtime: 56.693051s.\n",
      "Iter 37.Analyze time: 1.390274s. Update time: 0.000236s. Runtime: 58.083784s.\n",
      "Iter 38.Analyze time: 1.476963s. Update time: 0.000203s. Runtime: 59.561308s.\n",
      "Iter 39.Analyze time: 1.401877s. Update time: 0.000249s. Runtime: 60.963672s.\n",
      "Iter 40.Analyze time: 1.451657s. Update time: 0.000212s. Runtime: 62.416393s.\n",
      "Iter 41.Analyze time: 1.483940s. Update time: 0.000290s. Runtime: 63.900854s.\n",
      "Iter 42.Analyze time: 1.435970s. Update time: 0.000204s. Runtime: 65.337405s.\n",
      "Iter 43.Analyze time: 1.487194s. Update time: 0.000300s. Runtime: 66.825041s.\n",
      "Iter 44.Analyze time: 1.664150s. Update time: 0.000284s. Runtime: 68.489802s.\n",
      "Iter 45.Analyze time: 1.896620s. Update time: 0.000236s. Runtime: 70.387069s.\n",
      "Iter 46.Analyze time: 1.529878s. Update time: 0.000238s. Runtime: 71.917406s.\n",
      "Iter 47.Analyze time: 1.448323s. Update time: 0.000238s. Runtime: 73.366194s.\n",
      "Iter 48.Analyze time: 1.526767s. Update time: 0.000286s. Runtime: 74.893412s.\n",
      "Iter 49.Analyze time: 1.537131s. Update time: 0.000451s. Runtime: 76.431126s.\n",
      "Iter 50.Analyze time: 1.498225s. Update time: 0.000212s. Runtime: 77.930236s.\n",
      "Iter 51.Analyze time: 1.424984s. Update time: 0.000281s. Runtime: 79.355635s.\n",
      "Iter 52.Analyze time: 1.472111s. Update time: 0.000267s. Runtime: 80.828363s.\n",
      "Iter 53.Analyze time: 1.526122s. Update time: 0.000240s. Runtime: 82.355189s.\n",
      "Iter 54.Analyze time: 1.438334s. Update time: 0.000228s. Runtime: 83.793973s.\n",
      "Iter 55.Analyze time: 1.467266s. Update time: 0.000242s. Runtime: 85.261647sTesting convergence.\n",
      "\n",
      "Iter 56.Analyze time: 1.623876s. Update time: 0.000297s. Runtime: 86.886077s.\n",
      "SolverLN completed in 4 iterations. Running final checks.\\n\n",
      "Summary: Analyze avg time: 1.550551s. Update avg time: 0.000519s. Total runtime: 88.519142s. \n",
      "   Node   NodeType     QLen    Util   RespT  ResidT  ArvR     Tput\n",
      "0    P1  Processor      NaN  0.9962     NaN     NaN   NaN      NaN\n",
      "1    P2  Processor      NaN  0.0415     NaN     NaN   NaN      NaN\n",
      "2    T1       Task  23.4625  0.6643     NaN  1.0911   NaN  13.2851\n",
      "3    T2       Task   8.6773  0.3320     NaN  0.5558   NaN  13.2787\n",
      "4    T3       Task   0.1205  0.0415     NaN  0.0200   NaN   6.2189\n",
      "5    E1      Entry  23.4625     NaN  1.7661     NaN   NaN  13.2851\n",
      "6    E2      Entry   8.6773     NaN  0.6535     NaN   NaN  13.2787\n",
      "7    E3      Entry   0.1205     NaN  0.0194     NaN   NaN   6.2189\n",
      "8   AS1   Activity  23.4314  0.6643  1.7637  1.0911   NaN  13.2851\n",
      "9   AS2   Activity   8.6658  0.3320  0.6526  0.5558   NaN  13.2787\n",
      "10  AS3   Activity   0.1244  0.0415  0.0200  0.0200   NaN   6.2189\n",
      "Average Table:\n",
      "   Node   NodeType     QLen    Util   RespT  ResidT  ArvR     Tput\n",
      "0    P1  Processor      NaN  0.9962     NaN     NaN   NaN      NaN\n",
      "1    P2  Processor      NaN  0.0415     NaN     NaN   NaN      NaN\n",
      "2    T1       Task  23.4625  0.6643     NaN  1.0911   NaN  13.2851\n",
      "3    T2       Task   8.6773  0.3320     NaN  0.5558   NaN  13.2787\n",
      "4    T3       Task   0.1205  0.0415     NaN  0.0200   NaN   6.2189\n",
      "5    E1      Entry  23.4625     NaN  1.7661     NaN   NaN  13.2851\n",
      "6    E2      Entry   8.6773     NaN  0.6535     NaN   NaN  13.2787\n",
      "7    E3      Entry   0.1205     NaN  0.0194     NaN   NaN   6.2189\n",
      "8   AS1   Activity  23.4314  0.6643  1.7637  1.0911   NaN  13.2851\n",
      "9   AS2   Activity   8.6658  0.3320  0.6526  0.5558   NaN  13.2787\n",
      "10  AS3   Activity   0.1244  0.0415  0.0200  0.0200   NaN   6.2189\n"
     ]
    }
   ],
   "execution_count": 3
  }
 ],
 "metadata": {
  "kernelspec": {
   "display_name": "Python 3",
   "language": "python",
   "name": "python3"
  },
  "language_info": {
   "codemirror_mode": {
    "name": "ipython",
    "version": 3
   },
   "file_extension": ".py",
   "mimetype": "text/x-python",
   "name": "python",
   "nbconvert_exporter": "python",
   "pygments_lexer": "ipython3",
   "version": "3.8.0"
  }
 },
 "nbformat": 4,
 "nbformat_minor": 4
}
