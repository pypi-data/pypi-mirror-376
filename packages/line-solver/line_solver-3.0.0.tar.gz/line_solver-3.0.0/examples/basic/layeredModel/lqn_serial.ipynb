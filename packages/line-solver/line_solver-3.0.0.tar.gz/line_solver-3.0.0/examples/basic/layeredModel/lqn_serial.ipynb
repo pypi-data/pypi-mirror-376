{
 "cells": [
  {
   "cell_type": "code",
   "metadata": {
    "ExecuteTime": {
     "end_time": "2025-07-30T22:19:04.194866Z",
     "start_time": "2025-07-30T22:19:03.230474Z"
    }
   },
   "source": "from line_solver import *\nGlobalConstants.set_verbose(VerboseLevel.SILENT)\n\n# Clear variables (equivalent to MATLAB's clear P T E A solver AvgTable)\nP = None\nT = None \nE = None\nA = None\nsolver = None\nAvgTable = None",
   "outputs": [],
   "execution_count": 1
  },
  {
   "cell_type": "code",
   "source": "print('This example illustrates the execution on a layered queueing network model.')\nprint('Performance indexes now refer to processors, tasks, entries, and activities.')\nprint('Indexes refer to the submodel (layer) where the processor or task acts as a server.')\nprint('NaN indexes indicate that the metric is not supported by the node type.')\n\n# cwd = os.path.dirname(os.path.abspath(__file__))\n# model = LayeredNetwork.parseXML(os.path.join(cwd, 'example_layeredModel_1.xml'))\n\n# Create model following MATLAB exactly\nmodel = LayeredNetwork('myLayeredModel')\n\n# MATLAB: P{1} = Processor(model, 'P1', 1, SchedStrategy.PS);\n# MATLAB: P{2} = Processor(model, 'P2', 1, SchedStrategy.PS);\nP = {}\nP[1] = Processor(model, 'P1', 1, SchedStrategy.PS)\nP[2] = Processor(model, 'P2', 1, SchedStrategy.PS)\n\n# MATLAB: T{1} = Task(model, 'T1', 10, SchedStrategy.REF).on(P{1}).setThinkTime(Exp.fitMean(100));\n# MATLAB: T{2} = Task(model, 'T2', 1, SchedStrategy.FCFS).on(P{2}).setThinkTime(Immediate());\nT = {}\nT[1] = Task(model, 'T1', 10, SchedStrategy.REF).on(P[1]).setThinkTime(Exp.fitMean(100))\nT[2] = Task(model, 'T2', 1, SchedStrategy.FCFS).on(P[2]).setThinkTime(Immediate())\n\n# MATLAB: E{1} = Entry(model, 'E1').on(T{1});\n# MATLAB: E{2} = Entry(model, 'E2').on(T{2});\nE = {}\nE[1] = Entry(model, 'E1').on(T[1])\nE[2] = Entry(model, 'E2').on(T[2])\n\n# MATLAB: A{1} = Activity(model, 'AS1', Exp.fitMean(1.6)).on(T{1}).boundTo(E{1});\n# MATLAB: A{2} = Activity(model, 'AS2', Immediate()).on(T{1}).synchCall(E{2},1);\n# MATLAB: A{3} = Activity(model, 'AS3', Exp.fitMean(5)).on(T{2}).boundTo(E{2});\n# MATLAB: A{4} = Activity(model, 'AS4', Exp.fitMean(1)).on(T{2}).repliesTo(E{2});\nA = {}\nA[1] = Activity(model, 'AS1', Exp.fitMean(1.6)).on(T[1]).boundTo(E[1])\nA[2] = Activity(model, 'AS2', Immediate()).on(T[1]).synchCall(E[2], 1)\nA[3] = Activity(model, 'AS3', Exp.fitMean(5)).on(T[2]).boundTo(E[2])\nA[4] = Activity(model, 'AS4', Exp.fitMean(1)).on(T[2]).repliesTo(E[2])\n\n# MATLAB: T{1}.addPrecedence(ActivityPrecedence.Serial(A{1}, A{2}));\n# MATLAB: T{2}.addPrecedence(ActivityPrecedence.Serial(A{3}, A{4}));\nT[1].addPrecedence(ActivityPrecedence.Serial(A[1], A[2]))\nT[2].addPrecedence(ActivityPrecedence.Serial(A[3], A[4]))",
   "metadata": {
    "collapsed": false,
    "ExecuteTime": {
     "end_time": "2025-07-30T22:19:04.271145Z",
     "start_time": "2025-07-30T22:19:04.258602Z"
    }
   },
   "outputs": [
    {
     "name": "stdout",
     "output_type": "stream",
     "text": [
      "This example illustrates the execution on a layered queueing network model.\n",
      "Performance indexes now refer to processors, tasks, entries, and activities.\n",
      "Indexes refer to the submodel (layer) where the processor or task acts as a server.\n",
      "NaN indexes indicate that the metric is not supported by the node type.\n"
     ]
    }
   ],
   "execution_count": 2
  },
  {
   "cell_type": "code",
   "source": [
    "# MATLAB: options = SolverLQNS.defaultOptions;\n",
    "# MATLAB: options.keep = true; % uncomment to keep the intermediate XML files generates while translating the model to LQNS\n",
    "options = SolverLQNS.defaultOptions()\n",
    "options.keep = True  # uncomment to keep the intermediate XML files generates while translating the model to LQNS\n",
    "\n",
    "# MATLAB: solver{1} = SolverLQNS(model);\n",
    "# MATLAB: AvgTable{1} = solver{1}.get_avg_table();\n",
    "# MATLAB: AvgTable{1}\n",
    "solver = {}\n",
    "AvgTable = {}\n",
    "\n",
    "if SolverLQNS.isAvailable():\n",
    "    solver[1] = SolverLQNS(model)\n",
    "    AvgTable[1] = solver[1].get_avg_table()\n",
    "    print('AvgTable[1]:')\n",
    "    print(AvgTable[1])\n",
    "else:\n",
    "    print('LQNS solver not available')\n",
    "\n",
    "# MATLAB: CallAvgTable = {};\n",
    "# MATLAB: [AvgTable{2}, CallAvgTable{2}] = solver{1}.getRawAvgTables();\n",
    "# MATLAB: AvgTable{2}\n",
    "# MATLAB: CallAvgTable{2}\n",
    "CallAvgTable = {}\n",
    "if SolverLQNS.isAvailable():\n",
    "    try:\n",
    "        AvgTable[2], CallAvgTable[2] = solver[1].getRawAvgTables()\n",
    "        print('AvgTable[2]:')\n",
    "        print(AvgTable[2])\n",
    "        print('CallAvgTable[2]:')\n",
    "        print(CallAvgTable[2])\n",
    "    except:\n",
    "        print('getRawAvgTables method not yet implemented')\n",
    "\n",
    "# MATLAB: AvgTable{3} = SolverLN(model).get_avg_table\n",
    "AvgTable[3] = SolverLN(model).get_avg_table()\n",
    "print('AvgTable[3]:')\n",
    "print(AvgTable[3])"
   ],
   "metadata": {
    "collapsed": false,
    "ExecuteTime": {
     "end_time": "2025-07-30T22:19:04.533039Z",
     "start_time": "2025-07-30T22:19:04.318788Z"
    }
   },
   "outputs": [
    {
     "name": "stdout",
     "output_type": "stream",
     "text": [
      "  Node   NodeType    QLen        Util    RespT  ResidT  ArvR    Tput\n",
      "0   P1  Processor     NaN  1.4206e-01      NaN     0.0   0.0     NaN\n",
      "1   P2  Processor     NaN  5.3271e-01      NaN     0.0   0.0     NaN\n",
      "2   T1    RefTask  1.1215  1.4206e-01      NaN     0.0   0.0  0.0888\n",
      "3   T2       Task  0.5327  5.3271e-01      NaN     0.0   0.0  0.0888\n",
      "4   E1      Entry  1.1215  1.4206e-01  12.6310     0.0   0.0  0.0888\n",
      "5   E2      Entry  0.5327  5.3271e-01   6.0000     0.0   0.0  0.0888\n",
      "6  AS1   Activity  0.1627  1.4206e-01   1.8327     0.0   0.0  0.0888\n",
      "7  AS2   Activity  0.9587  8.8786e-10  10.7983     0.0   0.0  0.0888\n",
      "8  AS3   Activity  0.4439  4.4393e-01   5.0000     0.0   0.0  0.0888\n",
      "9  AS4   Activity  0.0888  8.8786e-02   1.0000     0.0   0.0  0.0888\n",
      "AvgTable[1]:\n",
      "  Node   NodeType    QLen        Util    RespT  ResidT  ArvR    Tput\n",
      "0   P1  Processor     NaN  1.4206e-01      NaN     0.0   0.0     NaN\n",
      "1   P2  Processor     NaN  5.3271e-01      NaN     0.0   0.0     NaN\n",
      "2   T1    RefTask  1.1215  1.4206e-01      NaN     0.0   0.0  0.0888\n",
      "3   T2       Task  0.5327  5.3271e-01      NaN     0.0   0.0  0.0888\n",
      "4   E1      Entry  1.1215  1.4206e-01  12.6310     0.0   0.0  0.0888\n",
      "5   E2      Entry  0.5327  5.3271e-01   6.0000     0.0   0.0  0.0888\n",
      "6  AS1   Activity  0.1627  1.4206e-01   1.8327     0.0   0.0  0.0888\n",
      "7  AS2   Activity  0.9587  8.8786e-10  10.7983     0.0   0.0  0.0888\n",
      "8  AS3   Activity  0.4439  4.4393e-01   5.0000     0.0   0.0  0.0888\n",
      "9  AS4   Activity  0.0888  8.8786e-02   1.0000     0.0   0.0  0.0888\n",
      "getRawAvgTables method not yet implemented\n",
      "SolverLN initialization completed. Starting iteration on ensemble models.\n",
      "Iter 1.Analyze time: 0.021287s. Update time: 0.000519s. Runtime: 0.021598s.\n",
      "Iter 2.Analyze time: 0.001160s. Update time: 0.000214s. Runtime: 0.023719s.\n",
      "Iter 3.Analyze time: 0.001075s. Update time: 0.000216s. Runtime: 0.025396s.\n",
      "Iter 4.Analyze time: 0.001241s. Update time: 0.000288s. Runtime: 0.027009s.\n",
      "Iter 5.Analyze time: 0.000726s. Update time: 0.000146s. Runtime: 0.028220s.\n",
      "Iter 6.Analyze time: 0.001316s. Update time: 0.000196s. Runtime: 0.029920sTesting convergence.\n",
      "\n",
      "Iter 7.Analyze time: 0.004983s. Update time: 0.000498s. Runtime: 0.035400s.\n",
      "SolverLN completed in 3 iterations. Running final checks.\\n\n",
      "Summary: Analyze avg time: 0.004541s. Update avg time: 0.000297s. Total runtime: 0.037092s. \n",
      "  Node   NodeType        QLen    Util       RespT  ResidT  ArvR    Tput\n",
      "0   P1  Processor         NaN  0.1571         NaN     NaN   NaN     NaN\n",
      "1   P2  Processor         NaN  0.3707         NaN     NaN   NaN     NaN\n",
      "2   T1       Task  1.8243e-01  0.1571         NaN  1.8582   NaN  0.0982\n",
      "3   T2       Task  3.7069e-01  0.3707         NaN  6.0000   NaN  0.0618\n",
      "4   E1      Entry  1.8243e-01     NaN  1.8582e+00     NaN   NaN  0.0982\n",
      "5   E2      Entry  3.7069e-01     NaN  6.0000e+00     NaN   NaN  0.0618\n",
      "6  AS1   Activity  1.8243e-01  0.1571  1.8582e+00  1.8582   NaN  0.0982\n",
      "7  AS2   Activity  1.1402e-09  0.0000  1.1614e-08  0.0000   NaN  0.0982\n",
      "8  AS3   Activity  3.0891e-01  0.3089  5.0000e+00  5.0000   NaN  0.0618\n",
      "9  AS4   Activity  6.1782e-02  0.0618  1.0000e+00  1.0000   NaN  0.0618\n",
      "AvgTable[3]:\n",
      "  Node   NodeType        QLen    Util       RespT  ResidT  ArvR    Tput\n",
      "0   P1  Processor         NaN  0.1571         NaN     NaN   NaN     NaN\n",
      "1   P2  Processor         NaN  0.3707         NaN     NaN   NaN     NaN\n",
      "2   T1       Task  1.8243e-01  0.1571         NaN  1.8582   NaN  0.0982\n",
      "3   T2       Task  3.7069e-01  0.3707         NaN  6.0000   NaN  0.0618\n",
      "4   E1      Entry  1.8243e-01     NaN  1.8582e+00     NaN   NaN  0.0982\n",
      "5   E2      Entry  3.7069e-01     NaN  6.0000e+00     NaN   NaN  0.0618\n",
      "6  AS1   Activity  1.8243e-01  0.1571  1.8582e+00  1.8582   NaN  0.0982\n",
      "7  AS2   Activity  1.1402e-09  0.0000  1.1614e-08  0.0000   NaN  0.0982\n",
      "8  AS3   Activity  3.0891e-01  0.3089  5.0000e+00  5.0000   NaN  0.0618\n",
      "9  AS4   Activity  6.1782e-02  0.0618  1.0000e+00  1.0000   NaN  0.0618\n"
     ]
    }
   ],
   "execution_count": 3
  }
 ],
 "metadata": {
  "kernelspec": {
   "display_name": "Python 3",
   "language": "python",
   "name": "python3"
  },
  "language_info": {
   "codemirror_mode": {
    "name": "ipython",
    "version": 3
   },
   "file_extension": ".py",
   "mimetype": "text/x-python",
   "name": "python",
   "nbconvert_exporter": "python",
   "pygments_lexer": "ipython3",
   "version": "3.6.4"
  }
 },
 "nbformat": 4,
 "nbformat_minor": 2
}
