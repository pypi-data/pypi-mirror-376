{
 "cells": [
  {
   "cell_type": "code",
   "metadata": {
    "ExecuteTime": {
     "end_time": "2025-07-30T22:20:08.854929Z",
     "start_time": "2025-07-30T22:20:07.874691Z"
    }
   },
   "source": [
    "from line_solver import *\n",
    "import numpy as np\n",
    "GlobalConstants.set_verbose(VerboseLevel.SILENT)"
   ],
   "outputs": [],
   "execution_count": 1
  },
  {
   "cell_type": "code",
   "metadata": {
    "ExecuteTime": {
     "end_time": "2025-07-30T22:20:08.935238Z",
     "start_time": "2025-07-30T22:20:08.915805Z"
    }
   },
   "source": [
    "print('Example of layered model with a function task (FaaS)')\n",
    "\n",
    "model = LayeredNetwork('faas_test_example')\n",
    "\n",
    "# definition of processors, tasks and entries\n",
    "P1 = Processor(model, 'P1', GlobalConstants.MaxInt, SchedStrategy.INF)\n",
    "T1 = Task(model, 'T1', 1, SchedStrategy.REF).on(P1)\n",
    "E1 = Entry(model, 'E1').on(T1)\n",
    "\n",
    "P2 = Processor(model, 'P2', 4, SchedStrategy.FCFS)\n",
    "# Function task with capacity, scheduling strategy, think time, setup time, and delay-off time\n",
    "T2 = FunctionTask(model, 'F2', 6, SchedStrategy.FCFS).on(P2).setThinkTime(Exp.fitMean(8.0))\n",
    "T2.setSetupTime(Exp(1.0))      # Cold start time\n",
    "T2.setDelayOffTime(Exp(2.0))   # Time before function instance is removed\n",
    "\n",
    "E2 = Entry(model, 'E2').on(T2)\n",
    "\n",
    "# definition of activities\n",
    "A1 = Activity(model, 'A1', Exp(1.0)).on(T1).boundTo(E1).synchCall(E2, 1)\n",
    "A2 = Activity(model, 'A2', Exp(3.0)).on(T2).boundTo(E2).repliesTo(E2)"
   ],
   "outputs": [
    {
     "name": "stdout",
     "output_type": "stream",
     "text": [
      "Example of layered model with a function task (FaaS)\n"
     ]
    }
   ],
   "execution_count": 2
  },
  {
   "cell_type": "code",
   "metadata": {
    "ExecuteTime": {
     "end_time": "2025-07-30T22:20:09.092746Z",
     "start_time": "2025-07-30T22:20:08.972953Z"
    }
   },
   "source": [
    "# Define a helper function for solver selection (as in original MATLAB)\n",
    "def myFunction(model):\n",
    "    \"\"\"Helper function to select appropriate solver for the model\"\"\"\n",
    "    # This could implement logic to choose between MVA, MAM, etc.\n",
    "    # For now, use MVA as default\n",
    "    options = SolverMVA.defaultOptions()\n",
    "    options.verbose = 0\n",
    "    return SolverMVA(model, options)\n",
    "\n",
    "# Solve with LN solver using custom function\n",
    "lnoptions = SolverLN.defaultOptions()\n",
    "lnoptions.verbose = 0\n",
    "lnoptions.seed = 2300\n",
    "\n",
    "solver = SolverLN(model, myFunction, lnoptions)\n",
    "avg_table = solver.get_avg_table()"
   ],
   "outputs": [
    {
     "name": "stdout",
     "output_type": "stream",
     "text": [
      "SolverLN initialization completed. Starting iteration on ensemble models.\n",
      "Iter 1.Analyze time: 0.021339s. Update time: 0.001145s. Runtime: 0.021647s.\n",
      "Iter 2.Analyze time: 0.001382s. Update time: 0.000173s. Runtime: 0.024709s.\n",
      "Iter 3.Analyze time: 0.001268s. Update time: 0.000230s. Runtime: 0.026385sTesting convergence.\n",
      "\n",
      "Iter 4.Analyze time: 0.004079s. Update time: 0.000214s. Runtime: 0.030923s.\n",
      "SolverLN completed in 3 iterations. Running final checks.\\n\n",
      "Summary: Analyze avg time: 0.007017s. Update avg time: 0.000440s. Total runtime: 0.032257s. \n",
      "  Node   NodeType  QLen  Util  RespT  ResidT  ArvR   Tput\n",
      "0   P1  Processor   NaN   1.0    NaN     NaN   NaN    NaN\n",
      "1   P2  Processor   NaN   0.0    NaN     NaN   NaN    NaN\n",
      "2   T1       Task   1.0   1.0    NaN     1.0   NaN  1.000\n",
      "3   F2       Task   0.0   0.0    NaN     0.0   NaN  0.125\n",
      "4   E1      Entry   1.0   NaN    1.0     NaN   NaN  1.000\n",
      "5   E2      Entry   0.0   NaN    0.0     NaN   NaN  0.125\n",
      "6   A1   Activity   1.0   1.0    1.0     1.0   NaN  1.000\n",
      "7   A2   Activity   0.0   0.0    0.0     0.0   NaN  0.125\n"
     ]
    }
   ],
   "execution_count": 3
  }
 ],
 "metadata": {
  "kernelspec": {
   "display_name": "Python 3",
   "language": "python",
   "name": "python3"
  },
  "language_info": {
   "codemirror_mode": {
    "name": "ipython",
    "version": 3
   },
   "file_extension": ".py",
   "mimetype": "text/x-python",
   "name": "python",
   "nbconvert_exporter": "python",
   "pygments_lexer": "ipython3",
   "version": "3.8.0"
  }
 },
 "nbformat": 4,
 "nbformat_minor": 4
}
