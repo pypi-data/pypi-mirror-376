{
 "cells": [
  {
   "cell_type": "code",
   "id": "initial_id",
   "metadata": {
    "collapsed": true,
    "ExecuteTime": {
     "end_time": "2025-07-31T08:01:50.088666Z",
     "start_time": "2025-07-31T08:01:48.556540Z"
    }
   },
   "source": [
    "from line_solver import *\n",
    "GlobalConstants.set_verbose(VerboseLevel.STD)"
   ],
   "outputs": [],
   "execution_count": 1
  },
  {
   "cell_type": "code",
   "source": [
    "# multiclass example with PS, SIRO, FCFS, HOL priority\n",
    "model = Network('MyNetwork')\n",
    "\n",
    "# Block 1: nodes\n",
    "node = np.empty(6, dtype=object)\n",
    "node[0] = Source(model, 'Source')\n",
    "node[1] = Queue(model, 'Queue1', SchedStrategy.FCFS)   # Fixed: was PS\n",
    "node[2] = Queue(model, 'Queue2', SchedStrategy.SIRO)   # Fixed: was PS  \n",
    "node[3] = Queue(model, 'Queue3', SchedStrategy.PS)     # Correct\n",
    "node[4] = Queue(model, 'Queue4', SchedStrategy.HOL)    # Fixed: was PS\n",
    "node[5] = Sink(model, 'Sink')\n",
    "\n",
    "# Block 2: classes\n",
    "jobclass = np.empty(3, dtype=object)\n",
    "jobclass[0] = OpenClass(model, 'Class1', 0)\n",
    "jobclass[1] = OpenClass(model, 'Class2', 1) # higher priority\n",
    "jobclass[2] = OpenClass(model, 'Class3', 0)\n",
    "\n",
    "node[0].set_arrival(jobclass[0], Exp.fitMean(10.0)) # (Source of Customers,Class0)\n",
    "node[0].set_arrival(jobclass[1], Exp.fitMean(10.0)) # (Source of Customers,Class1)\n",
    "node[0].set_arrival(jobclass[2], Exp.fitMean(10.0)) # (Source of Customers,Class2)\n",
    "node[1].set_service(jobclass[0], Exp.fitMean(0.3)) # (WebServer,Class0)\n",
    "node[1].set_service(jobclass[1], Exp.fitMean(0.5)) # (WebServer,Class1)\n",
    "node[1].set_service(jobclass[2], Exp.fitMean(0.6)) # (WebServer,Class2)\n",
    "node[2].set_service(jobclass[0], Exp.fitMean(1.1)) # (Storage1,Class0)\n",
    "node[2].set_service(jobclass[1], Exp.fitMean(1.3)) # (Storage1,Class1)\n",
    "node[2].set_service(jobclass[2], Exp.fitMean(1.5)) # (Storage1,Class2)\n",
    "node[3].set_service(jobclass[0], Exp.fitMean(2.0)) # (Storage2,Class0)\n",
    "node[3].set_service(jobclass[1], Exp.fitMean(2.1)) # (Storage2,Class1)\n",
    "node[3].set_service(jobclass[2], Exp.fitMean(1.9)) # (Storage2,Class2)\n",
    "node[4].set_service(jobclass[0], Exp.fitMean(2.5)) # (Storage3,Class0)\n",
    "node[4].set_service(jobclass[1], Exp.fitMean(1.9)) # (Storage3,Class1)\n",
    "node[4].set_service(jobclass[2], Exp.fitMean(4.3)) # (Storage3,Class2)\n",
    "\n",
    "# Block 3: topology\n",
    "P = model.init_routing_matrix() # initialize routing matrix\n",
    "P.set(jobclass[0],jobclass[0],node[0],node[1], 1.0) # (Source of Customers,Class0) -> (WebServer,Class0)\n",
    "P.set(jobclass[0],jobclass[0],node[1],node[2], 2.50e-01) # (WebServer,Class0) -> (Storage1,Class0)\n",
    "P.set(jobclass[0],jobclass[0],node[1],node[3], 2.50e-01) # (WebServer,Class0) -> (Storage2,Class0)\n",
    "P.set(jobclass[0],jobclass[0],node[1],node[4], 2.50e-01) # (WebServer,Class0) -> (Storage3,Class0)\n",
    "P.set(jobclass[0],jobclass[0],node[1],node[5], 2.50e-01) # (WebServer,Class0) -> (Out,Class0)\n",
    "P.set(jobclass[0],jobclass[0],node[2],node[1], 1.0) # (Storage1,Class0) -> (WebServer,Class0)\n",
    "P.set(jobclass[0],jobclass[0],node[3],node[1], 1.0) # (Storage2,Class0) -> (WebServer,Class0)\n",
    "P.set(jobclass[0],jobclass[0],node[4],node[1], 1.0) # (Storage3,Class0) -> (WebServer,Class0)\n",
    "P.set(jobclass[1],jobclass[1],node[0],node[1], 1.0) # (Source of Customers,Class1) -> (WebServer,Class1)\n",
    "P.set(jobclass[1],jobclass[1],node[1],node[2],2.50e-01) # (WebServer,Class1) -> (Storage1,Class1)\n",
    "P.set(jobclass[1],jobclass[1],node[1],node[3],2.50e-01) # (WebServer,Class1) -> (Storage2,Class1)\n",
    "P.set(jobclass[1],jobclass[1],node[1],node[4],2.50e-01) # (WebServer,Class1) -> (Storage3,Class1)\n",
    "P.set(jobclass[1],jobclass[1],node[1],node[5],2.50e-01) # (WebServer,Class1) -> (Out,Class1)\n",
    "P.set(jobclass[1],jobclass[1],node[2],node[1],1.0) # (Storage1,Class1) -> (WebServer,Class1)\n",
    "P.set(jobclass[1],jobclass[1],node[3],node[1],1.0) # (Storage2,Class1) -> (WebServer,Class1)\n",
    "P.set(jobclass[1],jobclass[1],node[4],node[1],1.0) # (Storage3,Class1) -> (WebServer,Class1)\n",
    "P.set(jobclass[2],jobclass[2],node[0],node[1],1.0) # (Source of Customers,Class2) -> (WebServer,Class2)\n",
    "P.set(jobclass[2],jobclass[2],node[1],node[2],2.50e-01) # (WebServer,Class2) -> (Storage1,Class2)\n",
    "P.set(jobclass[2],jobclass[2],node[1],node[3],2.50e-01) # (WebServer,Class2) -> (Storage2,Class2)\n",
    "P.set(jobclass[2],jobclass[2],node[1],node[4],2.50e-01) # (WebServer,Class2) -> (Storage3,Class2)\n",
    "P.set(jobclass[2],jobclass[2],node[1],node[5],2.50e-01) # (WebServer,Class2) -> (Out,Class2)\n",
    "P.set(jobclass[2],jobclass[2],node[2],node[1],1.0) # (Storage1,Class2) -> (WebServer,Class2)\n",
    "P.set(jobclass[2],jobclass[2],node[3],node[1],1.0) # (Storage2,Class2) -> (WebServer,Class2)\n",
    "P.set(jobclass[2],jobclass[2],node[4],node[1],1.0) # (Storage3,Class2) -> (WebServer,Class2)\n",
    "model.link(P)"
   ],
   "metadata": {
    "collapsed": false,
    "ExecuteTime": {
     "end_time": "2025-07-31T08:01:50.132014Z",
     "start_time": "2025-07-31T08:01:50.101364Z"
    }
   },
   "id": "2d0af03a60ffaab4",
   "outputs": [],
   "execution_count": 2
  },
  {
   "cell_type": "code",
   "source": "# SolverCTMC removed - not tested in JAR for prio_hol_open\n# solver = SolverCTMC(model, keep=False, cutoff=1)\n# AvgTable = solver.get_avg_table()",
   "metadata": {
    "collapsed": false,
    "ExecuteTime": {
     "end_time": "2025-07-31T08:02:05.609198Z",
     "start_time": "2025-07-31T08:02:05.417742Z"
    }
   },
   "id": "b1ed1c4bc0a10843",
   "outputs": [],
   "execution_count": null
  },
  {
   "cell_type": "code",
   "source": "# SolverFluid removed - not tested in JAR for prio_hol_open\n# solver = SolverFluid(model)\n# AvgTable = solver.get_avg_table()",
   "metadata": {
    "collapsed": false,
    "ExecuteTime": {
     "end_time": "2025-07-31T08:01:50.974961900Z",
     "start_time": "2025-07-15T22:56:16.094703Z"
    }
   },
   "id": "e8d3f346ea510596",
   "outputs": [],
   "execution_count": null
  },
  {
   "cell_type": "code",
   "source": "# SolverMVA with seed=23000 to match JAR test\nsolver = SolverMVA(model, seed=23000, verbose=VerboseLevel.SILENT)\nAvgTable = solver.get_avg_table()",
   "metadata": {
    "collapsed": false,
    "ExecuteTime": {
     "end_time": "2025-07-31T08:01:50.982869300Z",
     "start_time": "2025-07-15T22:56:16.861561Z"
    }
   },
   "id": "fd4b2c4a6564d3b9",
   "outputs": [],
   "execution_count": null
  },
  {
   "cell_type": "code",
   "source": "# SolverJMT removed - not tested in JAR for prio_hol_open\n# solver = SolverJMT(model, seed=23000, verbose=False, keep=False)\n# AvgTable = solver.get_avg_table()",
   "metadata": {
    "collapsed": false,
    "ExecuteTime": {
     "end_time": "2025-07-31T08:01:50.982869300Z",
     "start_time": "2025-07-15T22:56:17.424543Z"
    }
   },
   "id": "19b311ca76098e3c",
   "outputs": [],
   "execution_count": null
  },
  {
   "cell_type": "code",
   "id": "gwonoefouz",
   "source": "# SolverSSA with seed=23000, samples=10000 to match JAR test\nsolver = SolverSSA(model, seed=23000, samples=10000, verbose=VerboseLevel.SILENT)\nAvgTable = solver.get_avg_table()",
   "metadata": {},
   "execution_count": null,
   "outputs": []
  }
 ],
 "metadata": {
  "kernelspec": {
   "display_name": "Python 3",
   "language": "python",
   "name": "python3"
  },
  "language_info": {
   "codemirror_mode": {
    "name": "ipython",
    "version": 2
   },
   "file_extension": ".py",
   "mimetype": "text/x-python",
   "name": "python",
   "nbconvert_exporter": "python",
   "pygments_lexer": "ipython2",
   "version": "2.7.6"
  }
 },
 "nbformat": 4,
 "nbformat_minor": 5
}