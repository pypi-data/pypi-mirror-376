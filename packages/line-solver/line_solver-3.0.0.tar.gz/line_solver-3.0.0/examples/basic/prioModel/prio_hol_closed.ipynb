{
 "cells": [
  {
   "cell_type": "code",
   "metadata": {
    "ExecuteTime": {
     "end_time": "2025-07-30T22:23:59.014062Z",
     "start_time": "2025-07-30T22:23:57.958062Z"
    }
   },
   "source": [
    "from line_solver import *\n",
    "import numpy as np\n",
    "GlobalConstants.set_verbose(VerboseLevel.STD)"
   ],
   "outputs": [],
   "execution_count": 1
  },
  {
   "cell_type": "code",
   "metadata": {
    "ExecuteTime": {
     "end_time": "2025-07-30T22:23:59.110347Z",
     "start_time": "2025-07-30T22:23:59.100239Z"
    }
   },
   "source": [
    "# Create network",
    "model = Network('MyNetwork')",
    "",
    "# Block 1: nodes",
    "node1 = Delay(model, 'SlowDelay')",
    "node2 = Queue(model, 'FCFSQueue', SchedStrategy.FCFS)",
    "node3 = Queue(model, 'SIROQueue', SchedStrategy.SIRO)  # Service In Random Order",
    "node4 = Queue(model, 'PSQueue', SchedStrategy.PS)      # Processor Sharing",
    "node5 = Queue(model, 'HOLQueue', SchedStrategy.HOL)    # Head-of-Line priority",
    "node6 = Delay(model, 'FastDelay')"
   ],
   "outputs": [],
   "execution_count": 2
  },
  {
   "cell_type": "code",
   "metadata": {
    "ExecuteTime": {
     "end_time": "2025-07-30T22:23:59.155819Z",
     "start_time": "2025-07-30T22:23:59.150698Z"
    }
   },
   "source": [
    "# Block 2: classes with priorities\n",
    "# Priority: 0=low, 1=high - Class2 has higher priority\n",
    "jobclass1 = ClosedClass(model, 'Class1', 18, node1, 0)  # Low priority\n",
    "jobclass2 = ClosedClass(model, 'Class2', 18, node1, 1)  # High priority\n",
    "jobclass3 = ClosedClass(model, 'Class3', 18, node1, 0)  # Low priority"
   ],
   "outputs": [],
   "execution_count": 3
  },
  {
   "cell_type": "code",
   "metadata": {
    "ExecuteTime": {
     "end_time": "2025-07-30T22:23:59.215204Z",
     "start_time": "2025-07-30T22:23:59.209091Z"
    }
   },
   "source": [
    "# Set service times - identical at delay stations for fair comparison\n",
    "# SlowDelay: all classes same service time\n",
    "node1.set_service(jobclass1, Exp.fitMean(10.0))\n",
    "node1.set_service(jobclass2, Exp.fitMean(10.0))\n",
    "node1.set_service(jobclass3, Exp.fitMean(10.0))\n",
    "\n",
    "# FCFSQueue: different service times per class\n",
    "node2.set_service(jobclass1, Exp.fitMean(0.3))\n",
    "node2.set_service(jobclass2, Exp.fitMean(0.5))\n",
    "node2.set_service(jobclass3, Exp.fitMean(0.6))\n",
    "\n",
    "# SIROQueue: different service times per class\n",
    "node3.set_service(jobclass1, Exp.fitMean(1.1))\n",
    "node3.set_service(jobclass2, Exp.fitMean(1.3))\n",
    "node3.set_service(jobclass3, Exp.fitMean(1.5))\n",
    "\n",
    "# PSQueue: different service times per class\n",
    "node4.set_service(jobclass1, Exp.fitMean(1.0))\n",
    "node4.set_service(jobclass2, Exp.fitMean(1.1))\n",
    "node4.set_service(jobclass3, Exp.fitMean(1.9))\n",
    "\n",
    "# HOLQueue: different service times per class - priority will matter here\n",
    "node5.set_service(jobclass1, Exp.fitMean(2.5))\n",
    "node5.set_service(jobclass2, Exp.fitMean(1.9))\n",
    "node5.set_service(jobclass3, Exp.fitMean(4.3))\n",
    "\n",
    "# FastDelay: all classes same service time\n",
    "node6.set_service(jobclass1, Exp.fitMean(1.0))\n",
    "node6.set_service(jobclass2, Exp.fitMean(1.0))\n",
    "node6.set_service(jobclass3, Exp.fitMean(1.0))"
   ],
   "outputs": [],
   "execution_count": 4
  },
  {
   "cell_type": "code",
   "metadata": {
    "ExecuteTime": {
     "end_time": "2025-07-30T22:23:59.269113Z",
     "start_time": "2025-07-30T22:23:59.259973Z"
    }
   },
   "source": [
    "# Create cyclic routing: SlowDelay -> FCFS -> SIRO -> PS -> HOL -> FastDelay -> SlowDelay\n",
    "P = model.init_routing_matrix()\n",
    "\n",
    "# All classes follow the same cyclic route\n",
    "for jobclass in [jobclass1, jobclass2, jobclass3]:\n",
    "    P.set(jobclass, jobclass, node1, node2, 1.0)  # SlowDelay -> FCFSQueue\n",
    "    P.set(jobclass, jobclass, node2, node3, 1.0)  # FCFSQueue -> SIROQueue\n",
    "    P.set(jobclass, jobclass, node3, node4, 1.0)  # SIROQueue -> PSQueue\n",
    "    P.set(jobclass, jobclass, node4, node5, 1.0)  # PSQueue -> HOLQueue\n",
    "    P.set(jobclass, jobclass, node5, node6, 1.0)  # HOLQueue -> FastDelay\n",
    "    P.set(jobclass, jobclass, node6, node1, 1.0)  # FastDelay -> SlowDelay\n",
    "\n",
    "model.link(P)"
   ],
   "outputs": [],
   "execution_count": 5
  },
  {
   "cell_type": "code",
   "metadata": {
    "ExecuteTime": {
     "end_time": "2025-07-30T22:23:59.417684Z",
     "start_time": "2025-07-30T22:23:59.311481Z"
    }
   },
   "source": "# SolverMVA with seed=23000 to match JAR test\nsolver = SolverMVA(model, seed=23000, verbose=VerboseLevel.SILENT)\navg_table = solver.get_avg_table()",
   "outputs": [],
   "execution_count": null
  },
  {
   "cell_type": "code",
   "source": "# SolverSSA with seed=23000, samples=10000 to match JAR test\nsolver = SolverSSA(model, seed=23000, samples=10000, verbose=VerboseLevel.SILENT)\navg_table = solver.get_avg_table()",
   "metadata": {},
   "execution_count": null,
   "outputs": []
  }
 ],
 "metadata": {
  "kernelspec": {
   "display_name": "Python 3",
   "language": "python",
   "name": "python3"
  },
  "language_info": {
   "codemirror_mode": {
    "name": "ipython",
    "version": 3
   },
   "file_extension": ".py",
   "name": "python",
   "nbconvert_exporter": "python",
   "pygments_lexer": "ipython3",
   "version": "3.8.5"
  }
 },
 "nbformat": 4,
 "nbformat_minor": 4
}