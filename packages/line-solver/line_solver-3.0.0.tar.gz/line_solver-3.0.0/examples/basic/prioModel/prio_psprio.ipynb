{
 "cells": [
  {
   "cell_type": "code",
   "metadata": {
    "ExecuteTime": {
     "end_time": "2025-07-30T22:25:49.154074Z",
     "start_time": "2025-07-30T22:25:49.151771Z"
    }
   },
   "source": [
    "from line_solver import *\n",
    "import numpy as np\n",
    "GlobalConstants.set_verbose(VerboseLevel.STD)"
   ],
   "outputs": [],
   "execution_count": 10
  },
  {
   "cell_type": "code",
   "metadata": {
    "ExecuteTime": {
     "end_time": "2025-07-30T22:25:49.208013Z",
     "start_time": "2025-07-30T22:25:49.204439Z"
    }
   },
   "source": [
    "# Create network model\n",
    "model = Network('model')\n",
    "\n",
    "# Block 1: Create nodes\n",
    "node = np.empty(2, dtype=object)\n",
    "node[0] = Delay(model, 'Delay')\n",
    "node[1] = Queue(model, 'Queue1', SchedStrategy.PSPRIO)  # Preemptive Static Priority"
   ],
   "outputs": [],
   "execution_count": 11
  },
  {
   "cell_type": "code",
   "metadata": {
    "ExecuteTime": {
     "end_time": "2025-07-30T22:25:49.263182Z",
     "start_time": "2025-07-30T22:25:49.261235Z"
    }
   },
   "source": [
    "# Block 2: Create job classes with different priorities\n",
    "jobclass = np.empty(2, dtype=object)\n",
    "jobclass[0] = ClosedClass(model, 'Class1', 2, node[0], 0)  # 2 jobs, priority 0 (low)\n",
    "jobclass[1] = ClosedClass(model, 'Class2', 2, node[0], 1)  # 2 jobs, priority 1 (high)"
   ],
   "outputs": [],
   "execution_count": 12
  },
  {
   "cell_type": "code",
   "metadata": {
    "ExecuteTime": {
     "end_time": "2025-07-30T22:25:49.313698Z",
     "start_time": "2025-07-30T22:25:49.311430Z"
    }
   },
   "source": "# Block 3: Set service time distributions - following MATLAB specification exactly\n# Delay station (think time)\nnode[0].set_service(jobclass[0], Erlang(3, 2))  # Erlang(k=3, rate=2)\nnode[0].set_service(jobclass[1], HyperExp(0.5, 3.0, 10.0))  # HyperExp(p=0.5, rate1=3.0, rate2=10.0)\n\n# PSPRIO Queue station\nnode[1].set_service(jobclass[0], HyperExp(0.1, 1.0, 10.0))  # HyperExp(p=0.1, rate1=1.0, rate2=10.0)\nnode[1].set_service(jobclass[1], Exp(1))  # Exponential with rate=1",
   "outputs": [],
   "execution_count": 13
  },
  {
   "cell_type": "code",
   "metadata": {
    "ExecuteTime": {
     "end_time": "2025-07-30T22:25:49.363018Z",
     "start_time": "2025-07-30T22:25:49.360686Z"
    }
   },
   "source": [
    "# Block 4: Set routing (serial routing for both classes) - following MATLAB specification exactly\n",
    "P = model.init_routing_matrix()\n",
    "# P{1} = Network.serialRouting(node) equivalent for jobclass[0]\n",
    "P.set(jobclass[0], jobclass[0], node[0], node[1], 1.0)  # Delay -> Queue1\n",
    "P.set(jobclass[0], jobclass[0], node[1], node[0], 1.0)  # Queue1 -> Delay\n",
    "# P{2} = Network.serialRouting(node) equivalent for jobclass[1]\n",
    "P.set(jobclass[1], jobclass[1], node[0], node[1], 1.0)  # Delay -> Queue1\n",
    "P.set(jobclass[1], jobclass[1], node[1], node[0], 1.0)  # Queue1 -> Delay\n",
    "model.link(P)"
   ],
   "outputs": [],
   "execution_count": 14
  },
  {
   "cell_type": "code",
   "metadata": {
    "ExecuteTime": {
     "end_time": "2025-07-30T22:25:49.411549Z",
     "start_time": "2025-07-30T22:25:49.409737Z"
    }
   },
   "source": [
    "# Model information\n",
    "M = model.get_number_of_stations()\n",
    "K = model.get_number_of_classes()"
   ],
   "outputs": [],
   "execution_count": 15
  },
  {
   "cell_type": "code",
   "metadata": {
    "ExecuteTime": {
     "end_time": "2025-07-30T22:25:49.484936Z",
     "start_time": "2025-07-30T22:25:49.461688Z"
    }
   },
   "source": "# SolverCTMC removed - not tested in JAR for prio_psprio\n# solver_ctmc = SolverCTMC(model)\n# avg_table_ctmc = solver_ctmc.get_avg_table()",
   "outputs": [],
   "execution_count": null
  },
  {
   "cell_type": "code",
   "metadata": {
    "ExecuteTime": {
     "end_time": "2025-07-30T22:25:49.515084Z",
     "start_time": "2025-07-30T22:25:49.512820Z"
    }
   },
   "source": [
    "# Solve with JMT simulation - skip due to PSPRIO JMT support issue\n",
    "print(\"\\\\nSOLVER: JMT (skipped - PSPRIO scheduling not supported in JMT)\")\n",
    "print(\"JMT cannot handle PSPRIO scheduling strategy - ClassNotFoundException for EPSStrategyPriority\")\n",
    "# solver_jmt = SolverJMT(model, seed=23000, verbose=VerboseLevel.STD, samples=5000)\n",
    "# avg_table_jmt = solver_jmt.get_avg_table()"
   ],
   "outputs": [
    {
     "name": "stdout",
     "output_type": "stream",
     "text": [
      "\\nSOLVER: JMT (skipped - PSPRIO scheduling not supported in JMT)\n",
      "JMT cannot handle PSPRIO scheduling strategy - ClassNotFoundException for EPSStrategyPriority\n"
     ]
    }
   ],
   "execution_count": 17
  },
  {
   "cell_type": "code",
   "metadata": {
    "ExecuteTime": {
     "end_time": "2025-07-30T22:25:49.897055Z",
     "start_time": "2025-07-30T22:25:49.572233Z"
    }
   },
   "source": "# SolverSSA with seed=23000, samples=5000, verbose=SILENT to match JAR test\nsolver_ssa = SolverSSA(model, seed=23000, samples=5000, verbose=VerboseLevel.SILENT)\navg_table_ssa = solver_ssa.get_avg_table()",
   "outputs": [],
   "execution_count": null
  }
 ],
 "metadata": {
  "kernelspec": {
   "display_name": "Python 3",
   "language": "python",
   "name": "python3"
  },
  "language_info": {
   "codemirror_mode": {
    "name": "ipython",
    "version": 3
   },
   "file_extension": ".py",
   "name": "python",
   "nbconvert_exporter": "python",
   "pygments_lexer": "ipython3",
   "version": "3.8.5"
  }
 },
 "nbformat": 4,
 "nbformat_minor": 4
}