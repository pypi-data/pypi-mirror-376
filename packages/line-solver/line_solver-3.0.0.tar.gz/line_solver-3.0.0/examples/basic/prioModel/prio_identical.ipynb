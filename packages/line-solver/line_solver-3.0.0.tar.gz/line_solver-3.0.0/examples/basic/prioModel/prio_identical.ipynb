{
 "cells": [
  {
   "cell_type": "code",
   "metadata": {
    "ExecuteTime": {
     "end_time": "2025-07-30T22:25:42.092959Z",
     "start_time": "2025-07-30T22:25:42.090934Z"
    }
   },
   "source": [
    "from line_solver import *\n",
    "import numpy as np\n",
    "GlobalConstants.set_verbose(VerboseLevel.STD)"
   ],
   "outputs": [],
   "execution_count": 14
  },
  {
   "cell_type": "code",
   "metadata": {
    "ExecuteTime": {
     "end_time": "2025-07-30T22:25:42.157739Z",
     "start_time": "2025-07-30T22:25:42.155409Z"
    }
   },
   "source": [
    "# Create network model\n",
    "model = Network('model')\n",
    "\n",
    "# Block 1: Create nodes\n",
    "node = np.empty(2, dtype=object)\n",
    "node[0] = Delay(model, 'Delay')\n",
    "node[1] = Queue(model, 'Queue1', SchedStrategy.GPSPRIO)  # Generalized Processor Sharing with Priority\n",
    "\n",
    "print(\"Network created with nodes:\")\n",
    "print(\"  Delay: Think time/delay station\")\n",
    "print(\"  Queue1: GPSPRIO (Generalized Processor Sharing with Priority) queue\")"
   ],
   "outputs": [
    {
     "name": "stdout",
     "output_type": "stream",
     "text": [
      "Network created with nodes:\n",
      "  Delay: Think time/delay station\n",
      "  Queue1: GPSPRIO (Generalized Processor Sharing with Priority) queue\n"
     ]
    }
   ],
   "execution_count": 15
  },
  {
   "cell_type": "code",
   "metadata": {
    "ExecuteTime": {
     "end_time": "2025-07-30T22:25:42.230753Z",
     "start_time": "2025-07-30T22:25:42.228205Z"
    }
   },
   "source": [
    "# Block 2: Create job classes with different priorities and populations\n",
    "jobclass = np.empty(4, dtype=object)\n",
    "jobclass[0] = ClosedClass(model, 'Class1', 6, node[0], 0)  # 6 jobs, priority 0\n",
    "jobclass[1] = ClosedClass(model, 'Class2', 4, node[0], 1)  # 4 jobs, priority 1  \n",
    "jobclass[2] = ClosedClass(model, 'Class3', 4, node[0], 1)  # 4 jobs, priority 1\n",
    "jobclass[3] = ClosedClass(model, 'Class4', 1, node[0], 2)  # 1 job, priority 2 (highest)\n",
    "\n",
    "print(\"Job classes created:\")\n",
    "print(\"  Class1: 6 jobs, priority 0 (lowest)\")\n",
    "print(\"  Class2: 4 jobs, priority 1 (medium)\")\n",
    "print(\"  Class3: 4 jobs, priority 1 (medium)\")\n",
    "print(\"  Class4: 1 job,  priority 2 (highest)\")\n",
    "print(f\"  Total population: {6+4+4+1} jobs\")"
   ],
   "outputs": [
    {
     "name": "stdout",
     "output_type": "stream",
     "text": [
      "Job classes created:\n",
      "  Class1: 6 jobs, priority 0 (lowest)\n",
      "  Class2: 4 jobs, priority 1 (medium)\n",
      "  Class3: 4 jobs, priority 1 (medium)\n",
      "  Class4: 1 job,  priority 2 (highest)\n",
      "  Total population: 15 jobs\n"
     ]
    }
   ],
   "execution_count": 16
  },
  {
   "cell_type": "code",
   "metadata": {
    "ExecuteTime": {
     "end_time": "2025-07-30T22:25:42.290120Z",
     "start_time": "2025-07-30T22:25:42.287441Z"
    }
   },
   "source": [
    "# Block 3: Set service time distributions at Delay station\n",
    "node[0].set_service(jobclass[0], Erlang(3, 2))  # Erlang(k=3, rate=2)\n",
    "node[0].set_service(jobclass[1], Exp.fitMean(1.0))  # Exponential with mean=1.0\n",
    "node[0].set_service(jobclass[2], Exp.fitMean(1.0))  # Exponential with mean=1.0\n",
    "node[0].set_service(jobclass[3], Exp.fitMean(0.5))  # Exponential with mean=0.5\n",
    "\n",
    "print(\"Delay station service times configured:\")\n",
    "print(\"  Class1: Erlang(k=3, rate=2)\")\n",
    "print(\"  Class2: Exponential(mean=1.0)\")\n",
    "print(\"  Class3: Exponential(mean=1.0)\")\n",
    "print(\"  Class4: Exponential(mean=0.5)\")"
   ],
   "outputs": [
    {
     "name": "stdout",
     "output_type": "stream",
     "text": [
      "Delay station service times configured:\n",
      "  Class1: Erlang(k=3, rate=2)\n",
      "  Class2: Exponential(mean=1.0)\n",
      "  Class3: Exponential(mean=1.0)\n",
      "  Class4: Exponential(mean=0.5)\n"
     ]
    }
   ],
   "execution_count": 17
  },
  {
   "cell_type": "code",
   "metadata": {
    "ExecuteTime": {
     "end_time": "2025-07-30T22:25:42.349407Z",
     "start_time": "2025-07-30T22:25:42.346160Z"
    }
   },
   "source": [
    "# Block 4: Set service times and weights at GPSPRIO queue\n",
    "# Service rates and weights for weighted sharing within priority levels\n",
    "w1 = 12  # Weight for Class1\n",
    "w2 = 3   # Weight for Class2\n",
    "w3 = 5   # Weight for Class3\n",
    "w4 = 1   # Weight for Class4\n",
    "\n",
    "# Set service times with weights (Python API: setService(jobclass, distribution, weight))\n",
    "node[1].set_service(jobclass[0], Exp.fitRate(30.0), w1)  # Rate=30, Weight=12\n",
    "node[1].set_service(jobclass[1], Exp.fitRate(2.0), w2)   # Rate=2, Weight=3\n",
    "node[1].set_service(jobclass[2], Exp.fitRate(12.0), w3)  # Rate=12, Weight=5\n",
    "node[1].set_service(jobclass[3], Exp.fitRate(1.0), w4)   # Rate=1, Weight=1\n",
    "\n",
    "print(\"GPSPRIO queue service configuration:\")\n",
    "print(f\"  Class1 (priority 0): rate=30.0, weight={w1}\")\n",
    "print(f\"  Class2 (priority 1): rate=2.0,  weight={w2}\")\n",
    "print(f\"  Class3 (priority 1): rate=12.0, weight={w3}\")\n",
    "print(f\"  Class4 (priority 2): rate=1.0,  weight={w4}\")\n",
    "print()\n",
    "print(\"GPSPRIO behavior:\")\n",
    "print(\"  1. Class4 (priority 2) gets served first when present\")\n",
    "print(\"  2. Class2&3 (priority 1) share capacity by weights 3:5 when present\")\n",
    "print(\"  3. Class1 (priority 0) gets remaining capacity\")"
   ],
   "outputs": [
    {
     "name": "stdout",
     "output_type": "stream",
     "text": [
      "GPSPRIO queue service configuration:\n",
      "  Class1 (priority 0): rate=30.0, weight=12\n",
      "  Class2 (priority 1): rate=2.0,  weight=3\n",
      "  Class3 (priority 1): rate=12.0, weight=5\n",
      "  Class4 (priority 2): rate=1.0,  weight=1\n",
      "\n",
      "GPSPRIO behavior:\n",
      "  1. Class4 (priority 2) gets served first when present\n",
      "  2. Class2&3 (priority 1) share capacity by weights 3:5 when present\n",
      "  3. Class1 (priority 0) gets remaining capacity\n"
     ]
    }
   ],
   "execution_count": 18
  },
  {
   "cell_type": "code",
   "metadata": {
    "ExecuteTime": {
     "end_time": "2025-07-30T22:25:42.410799Z",
     "start_time": "2025-07-30T22:25:42.407522Z"
    }
   },
   "source": [
    "# Block 5: Set routing (serial routing for all classes)\n",
    "P = model.init_routing_matrix()\n",
    "\n",
    "# All classes follow the same cyclic route: Delay <-> Queue1\n",
    "for i in range(4):\n",
    "    P.add_route(jobclass[i], node[0], node[1], 1.0)  # Delay -> Queue1\n",
    "    P.add_route(jobclass[i], node[1], node[0], 1.0)  # Queue1 -> Delay\n",
    "\n",
    "model.link(P)\n",
    "\n",
    "print(\"Routing configured: Delay <-> Queue1 (cyclic for all classes)\")\n",
    "print(\"All classes follow the same route but with different priorities and weights\")"
   ],
   "outputs": [
    {
     "name": "stdout",
     "output_type": "stream",
     "text": [
      "Routing configured: Delay <-> Queue1 (cyclic for all classes)\n",
      "All classes follow the same route but with different priorities and weights\n"
     ]
    }
   ],
   "execution_count": 19
  },
  {
   "cell_type": "code",
   "metadata": {
    "ExecuteTime": {
     "end_time": "2025-07-30T22:25:42.487480Z",
     "start_time": "2025-07-30T22:25:42.483735Z"
    }
   },
   "source": [
    "# Model information\n",
    "M = model.get_number_of_stations()\n",
    "K = model.get_number_of_classes()\n",
    "print(f\"Model has {M} stations and {K} classes\")\n",
    "print(f\"Total population: {sum(cls.getNumberOfJobs() for cls in jobclass)} jobs\")"
   ],
   "outputs": [
    {
     "name": "stdout",
     "output_type": "stream",
     "text": [
      "Model has 2 stations and 4 classes\n",
      "Total population: 15.0 jobs\n"
     ]
    }
   ],
   "execution_count": 20
  },
  {
   "cell_type": "code",
   "metadata": {
    "ExecuteTime": {
     "end_time": "2025-07-30T22:25:58.483752Z",
     "start_time": "2025-07-30T22:25:42.546758Z"
    }
   },
   "source": "# SolverCTMC with verbose=SILENT to match JAR test  \nsolver_ctmc = SolverCTMC(model, verbose=VerboseLevel.SILENT)\navg_table_ctmc = solver_ctmc.get_avg_table()\nprint(avg_table_ctmc)",
   "outputs": [],
   "execution_count": null
  },
  {
   "cell_type": "code",
   "metadata": {
    "ExecuteTime": {
     "end_time": "2025-07-30T22:26:06.286648Z",
     "start_time": "2025-07-30T22:25:58.533409Z"
    }
   },
   "source": "# SolverJMT removed - not tested in JAR for prio_identical\n# solver_jmt = SolverJMT(model, seed=23000, verbose=VerboseLevel.STD, samples=30000)\n# avg_table_jmt = solver_jmt.get_avg_table()\n# print(avg_table_jmt)",
   "outputs": [],
   "execution_count": null
  }
 ],
 "metadata": {
  "kernelspec": {
   "display_name": "Python 3",
   "language": "python",
   "name": "python3"
  },
  "language_info": {
   "codemirror_mode": {
    "name": "ipython",
    "version": 3
   },
   "file_extension": ".py",
   "name": "python",
   "nbconvert_exporter": "python",
   "pygments_lexer": "ipython3",
   "version": "3.8.5"
  }
 },
 "nbformat": 4,
 "nbformat_minor": 4
}