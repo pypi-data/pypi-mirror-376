{
 "cells": [
  {
   "cell_type": "code",
   "metadata": {
    "ExecuteTime": {
     "end_time": "2025-07-30T22:21:44.199312Z",
     "start_time": "2025-07-30T22:21:43.265760Z"
    }
   },
   "source": [
    "from line_solver import *\n",
    "import numpy as np\n",
    "GlobalConstants.set_verbose(VerboseLevel.STD)"
   ],
   "outputs": [],
   "execution_count": 1
  },
  {
   "cell_type": "code",
   "metadata": {
    "ExecuteTime": {
     "end_time": "2025-07-30T22:21:44.269904Z",
     "start_time": "2025-07-30T22:21:44.248509Z"
    }
   },
   "source": [
    "model = Network('model')\n",
    "\n",
    "M = 4\n",
    "# Create 4 single-server queues with FCFS scheduling\n",
    "node = np.empty(4, dtype=object)\n",
    "node[0] = Queue(model, 'Queue1', SchedStrategy.FCFS)\n",
    "node[1] = Queue(model, 'Queue2', SchedStrategy.FCFS)\n",
    "node[2] = Queue(model, 'Queue3', SchedStrategy.FCFS)\n",
    "node[3] = Queue(model, 'Queue4', SchedStrategy.FCFS)  # only closed classes\n",
    "\n",
    "source = Source(model, 'Source')\n",
    "sink = Sink(model, 'Sink')\n",
    "\n",
    "# Create job classes\n",
    "jobclass = np.empty(2, dtype=object)\n",
    "jobclass[0] = ClosedClass(model, 'ClosedClass', 100, node[0], 0)\n",
    "jobclass[1] = OpenClass(model, 'OpenClass', 0)\n",
    "\n",
    "# Set service rates\n",
    "for i in range(M):\n",
    "    node[i].set_service(jobclass[0], Exp(i+1))\n",
    "    node[i].set_service(jobclass[1], Exp(np.sqrt(i+1)))\n",
    "\n",
    "# Set arrival rate for open class using APH distribution\n",
    "source.set_arrival(jobclass[1], APH.fitMeanAndSCV(3, 64))"
   ],
   "outputs": [],
   "execution_count": 2
  },
  {
   "cell_type": "code",
   "metadata": {
    "ExecuteTime": {
     "end_time": "2025-07-30T22:21:44.310416Z",
     "start_time": "2025-07-30T22:21:44.298200Z"
    }
   },
   "source": [
    "# Setup routing matrix\n",
    "M = model.get_number_of_stations()\n",
    "K = model.get_number_of_classes()\n",
    "\n",
    "P = model.init_routing_matrix()\n",
    "\n",
    "# Closed class routing: Queue1 -> Queue2 -> Queue3 -> Queue4 -> Queue1 (circular)\n",
    "P.set(jobclass[0], jobclass[0], node[0], node[1], 1.0)\n",
    "P.set(jobclass[0], jobclass[0], node[1], node[2], 1.0)\n",
    "P.set(jobclass[0], jobclass[0], node[2], node[3], 1.0)\n",
    "P.set(jobclass[0], jobclass[0], node[3], node[0], 1.0)\n",
    "\n",
    "# Open class routing: Source -> Queue1 -> Queue2 -> Queue3 -> Sink (excludes Queue4)\n",
    "P.set(jobclass[1], jobclass[1], source, node[0], 1.0)\n",
    "P.set(jobclass[1], jobclass[1], node[0], node[1], 1.0)\n",
    "P.set(jobclass[1], jobclass[1], node[1], node[2], 1.0)\n",
    "P.set(jobclass[1], jobclass[1], node[2], sink, 1.0)\n",
    "\n",
    "model.link(P)"
   ],
   "outputs": [],
   "execution_count": 3
  },
  {
   "cell_type": "code",
   "metadata": {
    "ExecuteTime": {
     "end_time": "2025-07-30T22:21:47.411672Z",
     "start_time": "2025-07-30T22:21:44.348430Z"
    }
   },
   "source": [
    "print('This example shows the execution of the solver on a 2-class mixed model with 4 single server nodes.')",
    "",
    "# Create solvers",
    "solver = np.array([], dtype=object)",
    "# Note: CTMC is infinite on this model due to high population so omitted CTMC and SSA",
    "solver = np.append(solver, SolverJMT(model, cutoff=3, keep=False, verbose=True, seed=23000, samples=20000))",
    "#solver = np.append(solver, SolverFluid(model, keep=False, verbose=True, seed=23000)) #TODO Fluid is very slow",
    "solver = np.append(solver, SolverMVA(model, method='lin', keep=False, verbose=True, seed=23000))",
    "solver = np.append(solver, SolverNC(model, keep=False, verbose=True, seed=23000))",
    "solver = np.append(solver, SolverMAM(model, keep=False, verbose=True, seed=23000))",
    "",
    "# Solve and display results",
    "AvgTable = np.empty(len(solver), dtype=object)",
    "for s in range(len(solver)):",
    "    print(f'\\nSOLVER: {solver[s].get_name()}')",
    "    AvgTable[s] = solver[s].get_avg_table()"
   ],
   "outputs": [
    {
     "name": "stdout",
     "output_type": "stream",
     "text": [
      "This example shows the execution of the solver on a 2-class mixed model with 4 single server nodes.\n",
      "\n",
      "SOLVER: SolverJMT\n",
      "JMT Model: /tmp/workspace/jsim/8354047143952879044/jmodel.jsim\n",
      "JMT [method: default, lang: java, env: 21.0.8] completed in 2.759755s.\n",
      "  Station     JobClass     QLen    Util     RespT    ResidT    ArvR    Tput\n",
      "0  Queue1  ClosedClass  98.4400  0.6812  143.7537  143.7537  0.6927  0.6887\n",
      "1  Queue1    OpenClass  56.6240  0.2977  187.5381  187.5381  0.3042  0.3047\n",
      "2  Queue2  ClosedClass   0.8707  0.3381    1.2547    1.2547  0.6887  0.6886\n",
      "3  Queue2    OpenClass   0.5367  0.1911    1.7508    1.7508  0.3047  0.3047\n",
      "4  Queue3  ClosedClass   0.4373  0.2063    0.6263    0.6263  0.6886  0.6927\n",
      "5  Queue3    OpenClass   0.2972  0.1808    0.9696    0.9696  0.3047  0.2954\n",
      "6  Queue4  ClosedClass   0.2189  0.1596    0.3142    0.3142  0.6927  0.6927\n",
      "9  Source    OpenClass   0.0000  0.0000    0.0000    0.0000  0.0000  0.3042\n",
      "\n",
      "SOLVER: SolverMVA\n",
      "MVA analysis [method: lin, lang: java, env: 21.0.8] completed in 0.023930s.\n",
      "  Station     JobClass     QLen    Util     RespT    ResidT    ArvR    Tput\n",
      "0  Queue1  ClosedClass  98.5326  0.6644  148.3136  148.3136  0.6644  0.6644\n",
      "1  Queue1    OpenClass  49.7663  0.3333  149.2989  149.2989  0.3333  0.3333\n",
      "2  Queue2  ClosedClass   0.8388  0.3322    1.2626    1.2626  0.6644  0.6644\n",
      "3  Queue2    OpenClass   0.4913  0.2357    1.4739    1.4739  0.3333  0.3333\n",
      "4  Queue3  ClosedClass   0.4298  0.2215    0.6469    0.6469  0.6644  0.6644\n",
      "5  Queue3    OpenClass   0.2974  0.1925    0.8923    0.8923  0.3333  0.3333\n",
      "6  Queue4  ClosedClass   0.1988  0.1661    0.2992    0.2992  0.6644  0.6644\n",
      "9  Source    OpenClass   0.0000  0.0000    0.0000    0.0000  0.0000  0.3333\n",
      "\n",
      "SOLVER: SolverNC\n",
      "NC analysis [method: default(cub), lang: java, env: 21.0.8] completed in 0.023474s. Iterations: 100000.\n",
      "  Station     JobClass     QLen    Util     RespT    ResidT    ArvR    Tput\n",
      "0  Queue1  ClosedClass  98.6224  0.6671  147.8313  147.8313  0.6671  0.6671\n",
      "1  Queue1    OpenClass  49.8112  0.3333  149.4336  149.4336  0.3333  0.3333\n",
      "2  Queue2  ClosedClass   0.7817  0.3336    1.1718    1.1718  0.6671  0.6671\n",
      "3  Queue2    OpenClass   0.5495  0.2357    1.6484    1.6484  0.3333  0.3333\n",
      "4  Queue3  ClosedClass   0.3884  0.2224    0.5821    0.5821  0.6671  0.6671\n",
      "5  Queue3    OpenClass   0.3309  0.1925    0.9926    0.9926  0.3333  0.3333\n",
      "6  Queue4  ClosedClass   0.2075  0.1668    0.3111    0.3111  0.6671  0.6671\n",
      "9  Source    OpenClass   0.0000  0.0000    0.0000    0.0000  0.0000  0.3333\n",
      "\n",
      "SOLVER: SolverMAM\n",
      "MAM analysis [method: default, lang: java, env: 21.0.8] completed in 0.125102s. Iterations: 10000.\n",
      "  Station     JobClass     QLen    Util    RespT   ResidT    ArvR    Tput\n",
      "0  Queue1  ClosedClass  98.1316  0.9895  99.1695  99.1695  0.9895  0.9895\n",
      "1  Queue1    OpenClass   0.0000  0.0000  95.5487  95.5487  0.3333  0.0000\n",
      "2  Queue2  ClosedClass   1.0164  0.4948   1.0272   1.0272  0.9895  0.9895\n",
      "3  Queue2    OpenClass   0.0000  0.0000   1.1972   1.1972  0.0000  0.0000\n",
      "4  Queue3  ClosedClass   0.5108  0.3298   0.5163   0.5163  0.9895  0.9895\n",
      "5  Queue3    OpenClass   0.0000  0.0000   0.7402   0.7402  0.0000  0.0000\n",
      "6  Queue4  ClosedClass   0.3412  0.2474   0.3448   0.3448  0.9895  0.9895\n",
      "9  Source    OpenClass   0.0000  0.0000   0.0000   0.0000  0.0000  0.3333\n"
     ]
    }
   ],
   "execution_count": 4
  }
 ],
 "metadata": {
  "kernelspec": {
   "display_name": "Python 3",
   "language": "python",
   "name": "python3"
  },
  "language_info": {
   "codemirror_mode": {
    "name": "ipython",
    "version": 3
   },
   "file_extension": ".py",
   "name": "python",
   "nbconvert_exporter": "python",
   "pygments_lexer": "ipython3",
   "version": "3.8.0"
  }
 },
 "nbformat": 4,
 "nbformat_minor": 4
}