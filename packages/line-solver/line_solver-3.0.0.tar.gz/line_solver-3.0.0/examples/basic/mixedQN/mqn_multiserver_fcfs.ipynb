{
 "cells": [
  {
   "cell_type": "code",
   "metadata": {
    "ExecuteTime": {
     "end_time": "2025-07-30T22:22:05.399281Z",
     "start_time": "2025-07-30T22:22:04.458185Z"
    }
   },
   "source": [
    "from line_solver import *\n",
    "import numpy as np\n",
    "GlobalConstants.set_verbose(VerboseLevel.STD)"
   ],
   "outputs": [],
   "execution_count": 1
  },
  {
   "cell_type": "code",
   "metadata": {
    "ExecuteTime": {
     "end_time": "2025-07-30T22:22:05.426856Z",
     "start_time": "2025-07-30T22:22:05.402234Z"
    }
   },
   "source": [
    "model = Network('model')\n",
    "\n",
    "# Create 5 multi-server queues with FCFS scheduling\n",
    "node = np.empty(5, dtype=object)\n",
    "node[0] = Queue(model, 'Queue1', SchedStrategy.FCFS)\n",
    "node[0].set_number_of_servers(1)\n",
    "node[1] = Queue(model, 'Queue2', SchedStrategy.FCFS)\n",
    "node[1].set_number_of_servers(2)\n",
    "node[2] = Queue(model, 'Queue3', SchedStrategy.FCFS)\n",
    "node[2].set_number_of_servers(3)\n",
    "node[3] = Queue(model, 'Queue4', SchedStrategy.FCFS)  # only closed classes\n",
    "node[3].set_number_of_servers(4)\n",
    "node[4] = Queue(model, 'Queue5', SchedStrategy.FCFS)  # only open classes\n",
    "node[4].set_number_of_servers(5)\n",
    "\n",
    "source = Source(model, 'Source')\n",
    "sink = Sink(model, 'Sink')\n",
    "\n",
    "# Create job classes\n",
    "jobclass = np.empty(2, dtype=object)\n",
    "jobclass[0] = ClosedClass(model, 'ClosedClass', 3, node[0], 0)\n",
    "jobclass[1] = OpenClass(model, 'OpenClass', 0)\n",
    "\n",
    "# Set service rates\n",
    "for i in range(5):\n",
    "    node[i].set_service(jobclass[0], Exp(i+1))\n",
    "    node[i].set_service(jobclass[1], Exp(np.sqrt(i+1)))\n",
    "\n",
    "# Set arrival rate for open class\n",
    "source.set_arrival(jobclass[1], Exp(0.3))"
   ],
   "outputs": [],
   "execution_count": 2
  },
  {
   "cell_type": "code",
   "metadata": {
    "ExecuteTime": {
     "end_time": "2025-07-30T22:22:05.513075Z",
     "start_time": "2025-07-30T22:22:05.504390Z"
    }
   },
   "source": [
    "# Setup routing matrix\n",
    "M = model.get_number_of_stations()\n",
    "K = model.get_number_of_classes()\n",
    "\n",
    "P = model.init_routing_matrix()\n",
    "\n",
    "# Closed class routing: Queue1 -> Queue2 -> Queue3 -> Queue4 -> Queue1 (circular)\n",
    "P.set(jobclass[0], jobclass[0], node[0], node[1], 1.0)\n",
    "P.set(jobclass[0], jobclass[0], node[1], node[2], 1.0)\n",
    "P.set(jobclass[0], jobclass[0], node[2], node[3], 1.0)\n",
    "P.set(jobclass[0], jobclass[0], node[3], node[0], 1.0)\n",
    "\n",
    "# Open class routing: Source -> Queue1 -> Queue2 -> Queue3 -> Queue5 -> Sink\n",
    "P.set(jobclass[1], jobclass[1], source, node[0], 1.0)\n",
    "P.set(jobclass[1], jobclass[1], node[0], node[1], 1.0)\n",
    "P.set(jobclass[1], jobclass[1], node[1], node[2], 1.0)\n",
    "P.set(jobclass[1], jobclass[1], node[2], node[4], 1.0)\n",
    "P.set(jobclass[1], jobclass[1], node[4], sink, 1.0)\n",
    "\n",
    "model.link(P)"
   ],
   "outputs": [],
   "execution_count": 3
  },
  {
   "cell_type": "code",
   "metadata": {
    "jupyter": {
     "is_executing": true
    },
    "ExecuteTime": {
     "start_time": "2025-07-30T22:22:05.548740Z"
    }
   },
   "source": [
    "print('This example shows the execution of the solver on a 2-class mixed model with 5 multi-server nodes.')",
    "",
    "# Create solvers",
    "solver = np.array([], dtype=object)",
    "solver = np.append(solver, SolverCTMC(model, cutoff=3))  # CTMC is infinite on this model",
    "solver = np.append(solver, SolverJMT(model, samples=100000, seed=23000))",
    "solver = np.append(solver, SolverSSA(model, cutoff=3, seed=23000))",
    "solver = np.append(solver, SolverMVA(model))",
    "solver = np.append(solver, SolverMAM(model, cutoff=3, seed=23000, keep=False, verbose=True))",
    "",
    "# Solve and display results",
    "AvgTable = np.empty(len(solver), dtype=object)",
    "for s in range(len(solver)):",
    "    print(f'\\nSOLVER: {solver[s].get_name()}')",
    "    AvgTable[s] = solver[s].get_avg_table()",
    "    print(AvgTable[s])"
   ],
   "outputs": [
    {
     "name": "stdout",
     "output_type": "stream",
     "text": [
      "This example shows the execution of the solver on a 2-class mixed model with 5 multi-server nodes.\n",
      "\n",
      "SOLVER: SolverCTMC\n"
     ]
    }
   ],
   "execution_count": null
  }
 ],
 "metadata": {
  "kernelspec": {
   "display_name": "Python 3",
   "language": "python",
   "name": "python3"
  },
  "language_info": {
   "codemirror_mode": {
    "name": "ipython",
    "version": 3
   },
   "file_extension": ".py",
   "name": "python",
   "nbconvert_exporter": "python",
   "pygments_lexer": "ipython3",
   "version": "3.8.0"
  }
 },
 "nbformat": 4,
 "nbformat_minor": 4
}