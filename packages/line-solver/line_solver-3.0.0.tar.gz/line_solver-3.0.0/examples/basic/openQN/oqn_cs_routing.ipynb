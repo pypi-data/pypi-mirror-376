{
 "cells": [
  {
   "cell_type": "code",
   "metadata": {
    "ExecuteTime": {
     "end_time": "2025-07-30T22:23:32.475816Z",
     "start_time": "2025-07-30T22:23:31.490321Z"
    }
   },
   "source": "from line_solver import *\nimport numpy as np",
   "outputs": [],
   "execution_count": 1
  },
  {
   "cell_type": "code",
   "metadata": {
    "ExecuteTime": {
     "end_time": "2025-07-30T22:23:32.484784Z",
     "start_time": "2025-07-30T22:23:32.480559Z"
    }
   },
   "source": [
    "# Model creation\n",
    "# model = JMT2LINE('example_openModel_3.jsimg')  # Alternative: load from JMT file\n",
    "model = Network('myModel')\n",
    "\n",
    "print(f\"Created model: {model.get_name()}\")"
   ],
   "outputs": [
    {
     "name": "stdout",
     "output_type": "stream",
     "text": [
      "Created model: myModel\n"
     ]
    }
   ],
   "execution_count": 2
  },
  {
   "cell_type": "code",
   "metadata": {
    "ExecuteTime": {
     "end_time": "2025-07-30T22:23:32.567401Z",
     "start_time": "2025-07-30T22:23:32.551486Z"
    }
   },
   "source": [
    "# Block 1: Network nodes\n",
    "node = np.empty(5, dtype=object)\n",
    "node[0] = Source(model, 'Source 1')\n",
    "node[1] = Queue(model, 'Queue 1', SchedStrategy.PS)\n",
    "node[2] = ClassSwitch(model, 'ClassSwitch 1')  # Class switching is embedded in the routing matrix P\n",
    "node[3] = Sink(model, 'Sink 1')\n",
    "node[4] = Queue(model, 'Queue 2', SchedStrategy.PS)"
   ],
   "outputs": [],
   "execution_count": 3
  },
  {
   "cell_type": "code",
   "metadata": {
    "ExecuteTime": {
     "end_time": "2025-07-30T22:23:32.604922Z",
     "start_time": "2025-07-30T22:23:32.598657Z"
    }
   },
   "source": [
    "# Block 2: Job classes  \n",
    "jobclass = np.empty(3, dtype=object)\n",
    "jobclass[0] = OpenClass(model, 'Class A', 0)\n",
    "jobclass[1] = OpenClass(model, 'Class B', 0)\n",
    "jobclass[2] = OpenClass(model, 'Class C', 0)"
   ],
   "outputs": [],
   "execution_count": 4
  },
  {
   "cell_type": "code",
   "metadata": {
    "ExecuteTime": {
     "end_time": "2025-07-30T22:23:32.654203Z",
     "start_time": "2025-07-30T22:23:32.648905Z"
    }
   },
   "source": [
    "# Arrival processes\n",
    "node[0].set_arrival(jobclass[0], Exp.fitMean(0.500000))  # (Source 1, Class A)\n",
    "node[0].set_arrival(jobclass[1], Exp.fitMean(1.000000))  # (Source 1, Class B)\n",
    "node[0].set_arrival(jobclass[2], Disabled.getInstance())  # (Source 1, Class C) - no direct arrivals"
   ],
   "outputs": [],
   "execution_count": 5
  },
  {
   "cell_type": "code",
   "metadata": {
    "ExecuteTime": {
     "end_time": "2025-07-30T22:23:32.703518Z",
     "start_time": "2025-07-30T22:23:32.698839Z"
    }
   },
   "source": [
    "# Service processes at Queue 1\n",
    "node[1].set_service(jobclass[0], Exp.fitMean(0.200000))  # (Queue 1, Class A)\n",
    "node[1].set_service(jobclass[1], Exp.fitMean(0.300000))  # (Queue 1, Class B)\n",
    "node[1].set_service(jobclass[2], Exp.fitMean(0.333333))  # (Queue 1, Class C)"
   ],
   "outputs": [],
   "execution_count": 6
  },
  {
   "cell_type": "code",
   "metadata": {
    "ExecuteTime": {
     "end_time": "2025-07-30T22:23:32.750386Z",
     "start_time": "2025-07-30T22:23:32.748254Z"
    }
   },
   "source": [
    "# Service processes at Queue 2\n",
    "node[4].set_service(jobclass[0], Exp.fitMean(1.000000))  # (Queue 2, Class A)\n",
    "node[4].set_service(jobclass[1], Exp.fitMean(1.000000))  # (Queue 2, Class B)\n",
    "node[4].set_service(jobclass[2], Exp.fitMean(0.150000))  # (Queue 2, Class C)"
   ],
   "outputs": [],
   "execution_count": 7
  },
  {
   "cell_type": "code",
   "metadata": {
    "ExecuteTime": {
     "end_time": "2025-07-30T22:23:32.830055Z",
     "start_time": "2025-07-30T22:23:32.801144Z"
    }
   },
   "source": "# Block 3: Network topology and class switching\n# Initialize class switching matrix (identity matrix - no class change at the switch node itself)\nC = node[2].init_class_switch_matrix()\nC = np.eye(len(jobclass))  # Use number of classes for identity matrix size\nnode[2].set_class_switching_matrix(C)",
   "outputs": [],
   "execution_count": 8
  },
  {
   "cell_type": "code",
   "metadata": {
    "ExecuteTime": {
     "end_time": "2025-07-30T22:23:32.864024Z",
     "start_time": "2025-07-30T22:23:32.850403Z"
    }
   },
   "source": [
    "# Initialize routing matrix\n",
    "P = model.init_routing_matrix()\n",
    "\n",
    "# Routing for Class A (index 0)\n",
    "P.set(jobclass[0], jobclass[0], node[0], node[1], 1.0)  # (Source 1, Class A) -> (Queue 1, Class A)\n",
    "P.set(jobclass[0], jobclass[0], node[1], node[2], 1.0)  # (Queue 1, Class A) -> (ClassSwitch 1, Class A)\n",
    "P.set(jobclass[0], jobclass[2], node[2], node[4], 1.0)  # (ClassSwitch 1, Class A) -> (Queue 2, Class C) - class switch!\n",
    "P.set(jobclass[2], jobclass[2], node[4], node[3], 1.0)  # (Queue 2, Class C) -> (Sink 1, Class C)\n",
    "\n",
    "# Routing for Class B (index 1)\n",
    "P.set(jobclass[1], jobclass[1], node[0], node[1], 1.0)  # (Source 1, Class B) -> (Queue 1, Class B)\n",
    "P.set(jobclass[1], jobclass[1], node[1], node[2], 1.0)  # (Queue 1, Class B) -> (ClassSwitch 1, Class B)\n",
    "P.set(jobclass[1], jobclass[2], node[2], node[4], 1.0)  # (ClassSwitch 1, Class B) -> (Queue 2, Class C) - class switch!\n",
    "P.set(jobclass[2], jobclass[2], node[4], node[3], 1.0)  # (Queue 2, Class C) -> (Sink 1, Class C)\n",
    "\n",
    "# Routing for Class C (index 2) - no arrivals, but define internal routing\n",
    "P.set(jobclass[2], jobclass[2], node[0], node[1], 1.0)  # (Source 1, Class C) -> (Queue 1, Class C) - not used\n",
    "P.set(jobclass[2], jobclass[2], node[1], node[2], 1.0)  # (Queue 1, Class C) -> (ClassSwitch 1, Class C) - not used\n",
    "P.set(jobclass[2], jobclass[2], node[2], node[4], 1.0)  # (ClassSwitch 1, Class C) -> (Queue 2, Class C)\n",
    "P.set(jobclass[2], jobclass[2], node[4], node[3], 1.0)  # (Queue 2, Class C) -> (Sink 1, Class C)\n",
    "\n",
    "model.link(P)"
   ],
   "outputs": [],
   "execution_count": 9
  },
  {
   "cell_type": "code",
   "metadata": {
    "ExecuteTime": {
     "end_time": "2025-07-30T22:23:32.935342Z",
     "start_time": "2025-07-30T22:23:32.902411Z"
    }
   },
   "source": [
    "# Solver options\n",
    "options = Solver.defaultOptions()\n",
    "options['keep'] = True\n",
    "options['verbose'] = 1\n",
    "options['cutoff'] = np.array([[1,1,0],[3,3,0],[0,0,3]])  # 5 nodes x 3 classes cutoff matrix\n",
    "options['seed'] = 23000\n",
    "options['samples'] = int(1e5)"
   ],
   "outputs": [],
   "execution_count": 10
  },
  {
   "cell_type": "code",
   "metadata": {
    "ExecuteTime": {
     "end_time": "2025-07-30T22:23:33.090886Z",
     "start_time": "2025-07-30T22:23:32.959905Z"
    }
   },
   "source": "# Aligned with JAR test scenarios for oqn_cs_routing\n# JAR tests: CTMC(cutoff=[[1,1,0],[3,3,0],[0,0,3]]), MVA(), MAM(), NC(), Fluid(), \n#           JMT(seed=23000, samples=100000), SSA(seed=23000, samples=100000, @Disabled)\n\nsolver = np.array([], dtype=object)\n\n# CTMC with specific cutoff matrix (matches JAR)  \nsolver = np.append(solver, SolverCTMC(model, cutoff=np.array([[1,1,0],[3,3,0],[0,0,3]])))\n\n# MVA with default settings (matches JAR)\nsolver = np.append(solver, SolverMVA(model))\n\n# MAM with default settings (matches JAR)\nsolver = np.append(solver, SolverMAM(model))\n\n# NC with default settings (matches JAR)\nsolver = np.append(solver, SolverNC(model))\n\n# Fluid with default settings (matches JAR)\nsolver = np.append(solver, SolverFluid(model))\n\n# JMT with seed=23000, samples=100000 (matches JAR)\nsolver = np.append(solver, SolverJMT(model, seed=23000, samples=100000))\n\n# SSA with seed=23000, samples=100000 (matches JAR, but disabled in JAR tests)\n# Commented out per JAR @Disabled annotation\n# solver = np.append(solver, SolverSSA(model, seed=23000, samples=100000))",
   "outputs": [],
   "execution_count": null
  },
  {
   "cell_type": "code",
   "metadata": {
    "ExecuteTime": {
     "end_time": "2025-07-30T22:23:47.852497Z",
     "start_time": "2025-07-30T22:23:33.099174Z"
    }
   },
   "source": [
    "# Execute all solvers and collect results\n",
    "AvgTable = np.empty(len(solver), dtype=object)\n",
    "\n",
    "for s in range(len(solver)):\n",
    "    AvgTable[s] = solver[s].get_avg_table()"
   ],
   "outputs": [
    {
     "name": "stdout",
     "output_type": "stream",
     "text": [
      "CTMC analysis [method: default, lang: java, env: 21.0.8] completed in 0.968439s.\n",
      "    Station JobClass    QLen    Util   RespT  ResidT    ArvR    Tput\n",
      "0  Source 1  Class A  0.0000  0.0000  0.0000  0.0000  0.0000  1.8159\n",
      "1  Source 1  Class B  0.0000  0.0000  0.0000  0.0000  0.0000  0.9412\n",
      "3   Queue 1  Class A  0.8844  0.3632  0.4870  0.3247  1.8159  1.8159\n",
      "4   Queue 1  Class B  0.7109  0.2824  0.7553  0.2518  0.9412  0.9412\n",
      "8   Queue 2  Class C  0.6183  0.4136  0.2243  0.2243  2.7571  2.7571\n",
      "Fluid analysis [method: closing, lang: java, env: 21.0.8] completed in 10.183573s.\n",
      "    Station JobClass  QLen  Util  RespT  ResidT  ArvR    Tput\n",
      "0  Source 1  Class A  0.00  0.00   0.00  0.0000   0.0  2.0000\n",
      "1  Source 1  Class B  0.00  0.00   0.00  0.0000   0.0  1.0000\n",
      "3   Queue 1  Class A  0.40  0.40   0.20  0.1333   0.0  2.0000\n",
      "4   Queue 1  Class B  0.30  0.30   0.30  0.1000   0.0  1.0000\n",
      "8   Queue 2  Class C  0.45  0.45   0.15  0.1500   0.0  3.0001\n",
      "MVA analysis [method: default(egflin), lang: java, env: 21.0.8] completed in 0.014320s.\n",
      "    Station JobClass    QLen  Util   RespT  ResidT  ArvR  Tput\n",
      "0  Source 1  Class A  0.0000  0.00  0.0000  0.0000   0.0   2.0\n",
      "1  Source 1  Class B  0.0000  0.00  0.0000  0.0000   0.0   1.0\n",
      "3   Queue 1  Class A  1.3333  0.40  0.6667  0.4444   0.0   2.0\n",
      "4   Queue 1  Class B  1.0000  0.30  1.0000  0.3333   0.0   1.0\n",
      "8   Queue 2  Class C  0.8182  0.45  0.2727  0.2727   0.0   3.0\n",
      "MAM analysis [method: default, lang: java, env: 21.0.8] completed in 0.014823s. Iterations: 100000.\n",
      "    Station JobClass    QLen  Util   RespT  ResidT  ArvR  Tput\n",
      "0  Source 1  Class A  0.0000  0.00  0.0000  0.0000   0.0   2.0\n",
      "1  Source 1  Class B  0.0000  0.00  0.0000  0.0000   0.0   1.0\n",
      "3   Queue 1  Class A  1.3333  0.40  0.6667  0.4444   0.0   2.0\n",
      "4   Queue 1  Class B  1.0000  0.30  1.0000  0.3333   0.0   1.0\n",
      "8   Queue 2  Class C  0.8182  0.45  0.2727  0.2727   0.0   3.0\n",
      "NC analysis [method: default(exact), lang: java, env: 21.0.8] completed in 0.013878s. Iterations: 100000.\n",
      "    Station JobClass    QLen  Util   RespT  ResidT  ArvR  Tput\n",
      "0  Source 1  Class A  0.0000  0.00  0.0000  0.0000   0.0   2.0\n",
      "1  Source 1  Class B  0.0000  0.00  0.0000  0.0000   0.0   1.0\n",
      "3   Queue 1  Class A  1.3333  0.40  0.6667  0.4444   0.0   2.0\n",
      "4   Queue 1  Class B  1.0000  0.30  1.0000  0.3333   0.0   1.0\n",
      "8   Queue 2  Class C  0.8182  0.45  0.2727  0.2727   0.0   3.0\n",
      "JMT Model: /tmp/workspace/jsim/12568093619866706231/jmodel.jsim\n",
      "JMT [method: default, lang: java, env: 21.0.8] completed in 3.111829s.\n",
      "    Station JobClass    QLen    Util   RespT  ResidT    ArvR    Tput\n",
      "0  Source 1  Class A  0.0000  0.0000  0.0000  0.0000  0.0000  2.0131\n",
      "1  Source 1  Class B  0.0000  0.0000  0.0000  0.0000  0.0000  1.0031\n",
      "3   Queue 1  Class A  1.2960  0.3962  0.6696  0.4464  2.0131  2.0047\n",
      "4   Queue 1  Class B  1.0174  0.2994  0.9929  0.3310  1.0031  1.0028\n",
      "8   Queue 2  Class C  0.8232  0.4513  0.2749  0.2749  3.0228  3.0232\n",
      "SSA samples:     100000\n",
      "SSA analysis [method: default(default(nrm)), lang: java, env: 21.0.8] completed in 0.412089s. Iterations: 100000.\n",
      "    Station JobClass    QLen    Util   RespT  ResidT    ArvR    Tput\n",
      "0  Source 1  Class A  0.0000  0.0000  0.0000  0.0000  0.0000  2.0000\n",
      "1  Source 1  Class B  0.0000  0.0000  0.0000  0.0000  0.0000  1.0000\n",
      "3   Queue 1  Class A  1.2890  0.3894  0.6621  0.4414  0.0531  1.9469\n",
      "4   Queue 1  Class B  0.9932  0.2979  1.0002  0.3334  0.0070  0.9930\n",
      "8   Queue 2  Class C  0.7932  0.4441  0.2679  0.2679  0.0000  2.9605\n"
     ]
    }
   ],
   "execution_count": 12
  }
 ],
 "metadata": {
  "kernelspec": {
   "display_name": "Python 3",
   "language": "python",
   "name": "python3"
  },
  "language_info": {
   "codemirror_mode": {
    "name": "ipython",
    "version": 3
   },
   "file_extension": ".py",
   "mimetype": "text/x-python",
   "name": "python",
   "nbconvert_exporter": "python",
   "pygments_lexer": "ipython3",
   "version": "3.8.5"
  }
 },
 "nbformat": 4,
 "nbformat_minor": 4
}