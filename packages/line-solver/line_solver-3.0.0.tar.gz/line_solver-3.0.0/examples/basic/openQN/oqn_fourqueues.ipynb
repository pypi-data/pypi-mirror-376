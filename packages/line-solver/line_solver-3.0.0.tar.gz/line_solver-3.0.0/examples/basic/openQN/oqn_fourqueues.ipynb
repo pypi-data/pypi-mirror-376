{
 "cells": [
  {
   "cell_type": "code",
   "metadata": {
    "ExecuteTime": {
     "end_time": "2025-07-30T22:23:18.709651Z",
     "start_time": "2025-07-30T22:23:17.866501Z"
    }
   },
   "source": [
    "from line_solver import *\n",
    "import numpy as np\n",
    "GlobalConstants.set_verbose(VerboseLevel.STD)"
   ],
   "outputs": [],
   "execution_count": 1
  },
  {
   "cell_type": "code",
   "metadata": {
    "ExecuteTime": {
     "end_time": "2025-07-30T22:23:18.717134Z",
     "start_time": "2025-07-30T22:23:18.712594Z"
    }
   },
   "source": [
    "# Create the large multiclass network\n",
    "model = Network('MyNetwork')"
   ],
   "outputs": [],
   "execution_count": 2
  },
  {
   "cell_type": "code",
   "metadata": {
    "ExecuteTime": {
     "end_time": "2025-07-30T22:23:18.830693Z",
     "start_time": "2025-07-30T22:23:18.819619Z"
    }
   },
   "source": [
    "# Block 1: Network nodes\n",
    "node = np.empty(6, dtype=object)\n",
    "node[0] = Source(model, 'Source')\n",
    "node[1] = Queue(model, 'Queue1', SchedStrategy.FCFS)  # WebServer\n",
    "node[2] = Queue(model, 'Queue2', SchedStrategy.FCFS)  # Storage1\n",
    "node[3] = Queue(model, 'Queue3', SchedStrategy.PS)    # Storage2\n",
    "node[4] = Queue(model, 'Queue4', SchedStrategy.FCFS)  # Storage3\n",
    "node[5] = Sink(model, 'Sink')"
   ],
   "outputs": [],
   "execution_count": 3
  },
  {
   "cell_type": "code",
   "metadata": {
    "ExecuteTime": {
     "end_time": "2025-07-30T22:23:18.873230Z",
     "start_time": "2025-07-30T22:23:18.868639Z"
    }
   },
   "source": [
    "# Block 2: Job classes with different characteristics\n",
    "jobclass = np.empty(3, dtype=object)\n",
    "jobclass[0] = OpenClass(model, 'Class1', 0)  # High-priority requests\n",
    "jobclass[1] = OpenClass(model, 'Class2', 0)  # Medium-priority requests\n",
    "jobclass[2] = OpenClass(model, 'Class3', 0)  # Low-priority requests"
   ],
   "outputs": [],
   "execution_count": 4
  },
  {
   "cell_type": "code",
   "metadata": {
    "ExecuteTime": {
     "end_time": "2025-07-30T22:23:18.923767Z",
     "start_time": "2025-07-30T22:23:18.918557Z"
    }
   },
   "source": [
    "# Arrival processes - different arrival rates per class\n",
    "node[0].set_arrival(jobclass[0], Exp.fitMean(5.000000))  # Class1: mean inter-arrival = 5.0 (rate = 0.2)\n",
    "node[0].set_arrival(jobclass[1], Exp.fitMean(8.000000))  # Class2: mean inter-arrival = 8.0 (rate = 0.125)\n",
    "node[0].set_arrival(jobclass[2], Exp.fitMean(7.000000))  # Class3: mean inter-arrival = 7.0 (rate = 0.143)"
   ],
   "outputs": [],
   "execution_count": 5
  },
  {
   "cell_type": "code",
   "metadata": {
    "ExecuteTime": {
     "end_time": "2025-07-30T22:23:18.971598Z",
     "start_time": "2025-07-30T22:23:18.967976Z"
    }
   },
   "source": [
    "# Service processes at WebServer (Queue1) - front-end processing\n",
    "node[1].set_service(jobclass[0], Exp.fitMean(0.300000))  # Class1: fast processing\n",
    "node[1].set_service(jobclass[1], Exp.fitMean(0.500000))  # Class2: medium processing\n",
    "node[1].set_service(jobclass[2], Exp.fitMean(0.600000))  # Class3: slower processing"
   ],
   "outputs": [],
   "execution_count": 6
  },
  {
   "cell_type": "code",
   "metadata": {
    "ExecuteTime": {
     "end_time": "2025-07-30T22:23:19.023985Z",
     "start_time": "2025-07-30T22:23:19.019784Z"
    }
   },
   "source": [
    "# Service processes at Storage1 (Queue2) - database access\n",
    "node[2].set_service(jobclass[0], Exp.fitMean(1.100000))  # Class1: complex queries\n",
    "node[2].set_service(jobclass[1], Exp.fitMean(1.300000))  # Class2: medium queries\n",
    "node[2].set_service(jobclass[2], Exp.fitMean(1.500000))  # Class3: simple queries"
   ],
   "outputs": [],
   "execution_count": 7
  },
  {
   "cell_type": "code",
   "metadata": {
    "ExecuteTime": {
     "end_time": "2025-07-30T22:23:19.070140Z",
     "start_time": "2025-07-30T22:23:19.068159Z"
    }
   },
   "source": [
    "# Service processes at Storage2 (Queue3) - file system access with PS\n",
    "node[3].set_service(jobclass[0], Exp.fitMean(2.000000))  # Class1: large files\n",
    "node[3].set_service(jobclass[1], Exp.fitMean(2.100000))  # Class2: medium files\n",
    "node[3].set_service(jobclass[2], Exp.fitMean(1.900000))  # Class3: small files"
   ],
   "outputs": [],
   "execution_count": 8
  },
  {
   "cell_type": "code",
   "metadata": {
    "ExecuteTime": {
     "end_time": "2025-07-30T22:23:19.120462Z",
     "start_time": "2025-07-30T22:23:19.118408Z"
    }
   },
   "source": [
    "# Service processes at Storage3 (Queue4) - cache access\n",
    "node[4].set_service(jobclass[0], Exp.fitMean(1.500000))  # Class1: cache miss handling\n",
    "node[4].set_service(jobclass[1], Exp.fitMean(0.900000))  # Class2: cache hits\n",
    "node[4].set_service(jobclass[2], Exp.fitMean(2.300000))  # Class3: cache updates"
   ],
   "outputs": [],
   "execution_count": 9
  },
  {
   "cell_type": "code",
   "metadata": {
    "ExecuteTime": {
     "end_time": "2025-07-30T22:23:19.179790Z",
     "start_time": "2025-07-30T22:23:19.168656Z"
    }
   },
   "source": [
    "# Block 3: Complex routing topology with feedback loops\n",
    "P = model.init_routing_matrix()\n",
    "\n",
    "# Class1 routing\n",
    "P.set(jobclass[0], jobclass[0], node[0], node[1], 1.0)        # Source → WebServer\n",
    "P.set(jobclass[0], jobclass[0], node[1], node[2], 0.25)       # WebServer → Storage1 (25%)\n",
    "P.set(jobclass[0], jobclass[0], node[1], node[3], 0.25)       # WebServer → Storage2 (25%)\n",
    "P.set(jobclass[0], jobclass[0], node[1], node[4], 0.25)       # WebServer → Storage3 (25%)\n",
    "P.set(jobclass[0], jobclass[0], node[1], node[5], 0.25)       # WebServer → Sink (25%)\n",
    "P.set(jobclass[0], jobclass[0], node[2], node[1], 1.0)        # Storage1 → WebServer (feedback)\n",
    "P.set(jobclass[0], jobclass[0], node[3], node[1], 1.0)        # Storage2 → WebServer (feedback)\n",
    "P.set(jobclass[0], jobclass[0], node[4], node[1], 1.0)        # Storage3 → WebServer (feedback)\n",
    "\n",
    "# Class2 routing\n",
    "P.set(jobclass[1], jobclass[1], node[0], node[1], 1.0)        # Source → WebServer\n",
    "P.set(jobclass[1], jobclass[1], node[1], node[2], 0.25)       # WebServer → Storage1 (25%)\n",
    "P.set(jobclass[1], jobclass[1], node[1], node[3], 0.25)       # WebServer → Storage2 (25%)\n",
    "P.set(jobclass[1], jobclass[1], node[1], node[4], 0.25)       # WebServer → Storage3 (25%)\n",
    "P.set(jobclass[1], jobclass[1], node[1], node[5], 0.25)       # WebServer → Sink (25%)\n",
    "P.set(jobclass[1], jobclass[1], node[2], node[1], 1.0)        # Storage1 → WebServer (feedback)\n",
    "P.set(jobclass[1], jobclass[1], node[3], node[1], 1.0)        # Storage2 → WebServer (feedback)\n",
    "P.set(jobclass[1], jobclass[1], node[4], node[1], 1.0)        # Storage3 → WebServer (feedback)\n",
    "\n",
    "# Class3 routing\n",
    "P.set(jobclass[2], jobclass[2], node[0], node[1], 1.0)        # Source → WebServer\n",
    "P.set(jobclass[2], jobclass[2], node[1], node[2], 0.25)       # WebServer → Storage1 (25%)\n",
    "P.set(jobclass[2], jobclass[2], node[1], node[3], 0.25)       # WebServer → Storage2 (25%)\n",
    "P.set(jobclass[2], jobclass[2], node[1], node[4], 0.25)       # WebServer → Storage3 (25%)\n",
    "P.set(jobclass[2], jobclass[2], node[1], node[5], 0.25)       # WebServer → Sink (25%)\n",
    "P.set(jobclass[2], jobclass[2], node[2], node[1], 1.0)        # Storage1 → WebServer (feedback)\n",
    "P.set(jobclass[2], jobclass[2], node[3], node[1], 1.0)        # Storage2 → WebServer (feedback)\n",
    "P.set(jobclass[2], jobclass[2], node[4], node[1], 1.0)        # Storage3 → WebServer (feedback)\n",
    "\n",
    "model.link(P)"
   ],
   "outputs": [],
   "execution_count": 10
  },
  {
   "cell_type": "code",
   "metadata": {
    "ExecuteTime": {
     "end_time": "2025-07-30T22:23:19.245194Z",
     "start_time": "2025-07-30T22:23:19.218758Z"
    }
   },
   "source": "# Configure solver options for the large network\noptions = lineDefaults()  # Call the function to get SolverOptions object\noptions['seed'] = 23000\noptions['samples'] = int(1e6)  # High sample count for accuracy\noptions['cutoff'] = 1         # Population cutoff for finite state approximation",
   "outputs": [],
   "execution_count": 11
  },
  {
   "cell_type": "code",
   "metadata": {
    "ExecuteTime": {
     "end_time": "2025-07-30T22:23:19.338900Z",
     "start_time": "2025-07-30T22:23:19.267857Z"
    }
   },
   "source": "# Aligned with JAR test scenarios for oqn_fourqueues\n# JAR tests: CTMC(seed=23000, cutoff=1), MVA(seed=23000), MAM(seed=23000), JMT(seed=23000, samples=1000000)\n\nsolver = np.array([], dtype=object)\n\n# CTMC with seed=23000, cutoff=1 (matches JAR)\nsolver = np.append(solver, SolverCTMC(model, seed=23000, cutoff=1))\n\n# MVA with seed=23000 (matches JAR)\nsolver = np.append(solver, SolverMVA(model, seed=23000))\n\n# MAM with seed=23000 (matches JAR)\nsolver = np.append(solver, SolverMAM(model, seed=23000))\n\n# JMT with seed=23000, samples=1000000 (matches JAR)\nsolver = np.append(solver, SolverJMT(model, seed=23000, samples=1000000))",
   "outputs": [],
   "execution_count": null
  },
  {
   "cell_type": "code",
   "metadata": {
    "ExecuteTime": {
     "end_time": "2025-07-30T22:24:04.191522Z",
     "start_time": "2025-07-30T22:23:19.400394Z"
    }
   },
   "source": [
    "# Execute all solvers and collect results\n",
    "AvgTable = np.empty(len(solver), dtype=object)\n",
    "\n",
    "for s in range(len(solver)):\n",
    "    AvgTable[s] = solver[s].get_avg_table()"
   ],
   "outputs": [
    {
     "name": "stdout",
     "output_type": "stream",
     "text": [
      "CTMC analysis [method: default, lang: java, env: 21.0.8] completed in 0.309663s.\n",
      "   Station JobClass    QLen    Util   RespT  ResidT    ArvR    Tput\n",
      "0   Source   Class1  0.0000  0.0000  0.0000  0.0000  0.0000  0.0782\n",
      "1   Source   Class2  0.0000  0.0000  0.0000  0.0000  0.0000  0.0611\n",
      "2   Source   Class3  0.0000  0.0000  0.0000  0.0000  0.0000  0.0599\n",
      "3   Queue1   Class1  0.1462  0.0938  0.4677  1.8707  0.3127  0.3127\n",
      "4   Queue1   Class2  0.1568  0.1223  0.6413  2.5653  0.2445  0.2445\n",
      "5   Queue1   Class3  0.1700  0.1436  0.7100  2.8402  0.2394  0.2394\n",
      "6   Queue2   Class1  0.1090  0.0860  1.3940  1.3940  0.0782  0.0782\n",
      "7   Queue2   Class2  0.0960  0.0795  1.5698  1.5698  0.0611  0.0611\n",
      "8   Queue2   Class3  0.1030  0.0898  1.7216  1.7216  0.0599  0.0599\n",
      "9   Queue3   Class1  0.2029  0.1563  2.5963  2.5963  0.0782  0.0782\n",
      "10  Queue3   Class2  0.1713  0.1284  2.8018  2.8018  0.0611  0.0611\n",
      "11  Queue3   Class3  0.1541  0.1137  2.5753  2.5753  0.0599  0.0599\n",
      "12  Queue4   Class1  0.1510  0.1172  1.9322  1.9322  0.0782  0.0782\n",
      "13  Queue4   Class2  0.0870  0.0550  1.4226  1.4226  0.0611  0.0611\n",
      "14  Queue4   Class3  0.1539  0.1377  2.5705  2.5705  0.0599  0.0599\n",
      "MVA analysis [method: default(egflin), lang: java, env: 21.0.8] completed in 0.032334s.\n",
      "   Station JobClass    QLen    Util    RespT   ResidT    ArvR    Tput\n",
      "0   Source   Class1  0.0000  0.0000   0.0000   0.0000  0.0000  0.2000\n",
      "1   Source   Class2  0.0000  0.0000   0.0000   0.0000  0.0000  0.1250\n",
      "2   Source   Class3  0.0000  0.0000   0.0000   0.0000  0.0000  0.1429\n",
      "3   Queue1   Class1  2.1675  0.2400   2.7094  10.8376  0.8000  0.8000\n",
      "4   Queue1   Class2  1.4547  0.2500   2.9094  11.6376  0.5000  0.5000\n",
      "5   Queue1   Class3  1.7197  0.3429   3.0094  12.0376  0.5714  0.5714\n",
      "6   Queue2   Class1  0.6043  0.2200   3.0213   3.0213  0.2000  0.2000\n",
      "7   Queue2   Class2  0.4027  0.1625   3.2213   3.2213  0.1250  0.1250\n",
      "8   Queue2   Class3  0.4888  0.2143   3.4213   3.4213  0.1429  0.1429\n",
      "9   Queue3   Class1  6.0540  0.4000  30.2702  30.2702  0.2000  0.2000\n",
      "10  Queue3   Class2  3.9730  0.2625  31.7837  31.7837  0.1250  0.1250\n",
      "11  Queue3   Class3  4.1081  0.2714  28.7567  28.7567  0.1429  0.1429\n",
      "12  Queue4   Class1  1.3095  0.3000   6.5476   6.5476  0.2000  0.2000\n",
      "13  Queue4   Class2  0.7434  0.1125   5.9476   5.9476  0.1250  0.1250\n",
      "14  Queue4   Class3  1.0497  0.3286   7.3476   7.3476  0.1429  0.1429\n",
      "MAM analysis [method: default, lang: java, env: 21.0.8] completed in 0.045392s. Iterations: 1000000.\n",
      "   Station JobClass    QLen    Util    RespT   ResidT    ArvR    Tput\n",
      "0   Source   Class1  0.0000  0.0000   0.0000   0.0000  0.0000  0.2000\n",
      "1   Source   Class2  0.0000  0.0000   0.0000   0.0000  0.0000  0.1250\n",
      "2   Source   Class3  0.0000  0.0000   0.0000   0.0000  0.0000  0.1429\n",
      "3   Queue1   Class1  2.1675  0.2400   2.7094  10.8376  0.8000  0.8000\n",
      "4   Queue1   Class2  1.4547  0.2500   2.9094  11.6376  0.5000  0.5000\n",
      "5   Queue1   Class3  1.7197  0.3429   3.0094  12.0376  0.5714  0.5714\n",
      "6   Queue2   Class1  0.6043  0.2200   3.0213   3.0213  0.2000  0.2000\n",
      "7   Queue2   Class2  0.4027  0.1625   3.2213   3.2213  0.1250  0.1250\n",
      "8   Queue2   Class3  0.4888  0.2143   3.4213   3.4213  0.1429  0.1429\n",
      "9   Queue3   Class1  6.0541  0.4000  30.2703  30.2703  0.2000  0.2000\n",
      "10  Queue3   Class2  3.9730  0.2625  31.7838  31.7838  0.1250  0.1250\n",
      "11  Queue3   Class3  4.1081  0.2714  28.7568  28.7568  0.1429  0.1429\n",
      "12  Queue4   Class1  1.3095  0.3000   6.5476   6.5476  0.2000  0.2000\n",
      "13  Queue4   Class2  0.7434  0.1125   5.9476   5.9476  0.1250  0.1250\n",
      "14  Queue4   Class3  1.0497  0.3286   7.3476   7.3476  0.1429  0.1429\n",
      "JMT Model: /tmp/workspace/jsim/16210690896199926192/jmodel.jsim\n",
      "JMT [method: default, lang: java, env: 21.0.8] completed in 44.370953s.\n",
      "   Station JobClass    QLen    Util    RespT   ResidT    ArvR    Tput\n",
      "0   Source   Class1  0.0000  0.0000   0.0000   0.0000  0.0000  0.1995\n",
      "1   Source   Class2  0.0000  0.0000   0.0000   0.0000  0.0000  0.1247\n",
      "2   Source   Class3  0.0000  0.0000   0.0000   0.0000  0.0000  0.1430\n",
      "3   Queue1   Class1  2.1767  0.2405   2.7049  10.8197  0.8008  0.8008\n",
      "4   Queue1   Class2  1.5433  0.2510   2.9736  11.8945  0.5012  0.5011\n",
      "5   Queue1   Class3  1.7830  0.3426   3.0395  12.1578  0.5730  0.5729\n",
      "6   Queue2   Class1  0.6220  0.2197   3.0969   3.0969  0.1998  0.1998\n",
      "7   Queue2   Class2  0.4044  0.1625   3.2333   3.2333  0.1249  0.1249\n",
      "8   Queue2   Class3  0.4863  0.2149   3.3922   3.3922  0.1430  0.1430\n",
      "9   Queue3   Class1  5.9986  0.3972  28.9281  28.9281  0.1992  0.1992\n",
      "10  Queue3   Class2  3.8567  0.2626  30.0784  30.0784  0.1246  0.1246\n",
      "11  Queue3   Class3  3.9759  0.2725  26.9008  26.9008  0.1425  0.1427\n",
      "12  Queue4   Class1  1.3583  0.2994   6.6818   6.6818  0.1994  0.1994\n",
      "13  Queue4   Class2  0.7276  0.1126   5.7367   5.7367  0.1251  0.1246\n",
      "14  Queue4   Class3  1.0722  0.3281   7.4165   7.4165  0.1427  0.1429\n"
     ]
    }
   ],
   "execution_count": 13
  }
 ],
 "metadata": {
  "kernelspec": {
   "display_name": "Python 3",
   "language": "python",
   "name": "python3"
  },
  "language_info": {
   "codemirror_mode": {
    "name": "ipython",
    "version": 3
   },
   "file_extension": ".py",
   "mimetype": "text/x-python",
   "name": "python",
   "nbconvert_exporter": "python",
   "pygments_lexer": "ipython3",
   "version": "3.8.5"
  }
 },
 "nbformat": 4,
 "nbformat_minor": 4
}