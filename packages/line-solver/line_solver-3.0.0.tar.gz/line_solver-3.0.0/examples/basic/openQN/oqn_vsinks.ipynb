{
 "cells": [
  {
   "cell_type": "code",
   "metadata": {
    "ExecuteTime": {
     "end_time": "2025-07-30T22:22:47.864235Z",
     "start_time": "2025-07-30T22:22:46.718128Z"
    }
   },
   "source": [
    "from line_solver import *\n",
    "import numpy as np\n",
    "GlobalConstants.set_verbose(VerboseLevel.STD)"
   ],
   "outputs": [],
   "execution_count": 1
  },
  {
   "cell_type": "code",
   "metadata": {
    "ExecuteTime": {
     "end_time": "2025-07-30T22:22:47.931137Z",
     "start_time": "2025-07-30T22:22:47.925391Z"
    }
   },
   "source": [
    "# Create the model\n",
    "model = Network('model')"
   ],
   "outputs": [],
   "execution_count": 2
  },
  {
   "cell_type": "code",
   "metadata": {
    "ExecuteTime": {
     "end_time": "2025-07-30T22:22:48.004186Z",
     "start_time": "2025-07-30T22:22:47.991906Z"
    }
   },
   "source": [
    "# Define network nodes\n",
    "source = Source(model, 'Source')\n",
    "queue = Queue(model, 'Queue1', SchedStrategy.FCFS)\n",
    "sink = Sink(model, 'Sink')\n",
    "vsink1 = Router(model, 'VSink1')  # Virtual sink 1\n",
    "vsink2 = Router(model, 'VSink2')  # Virtual sink 2"
   ],
   "outputs": [],
   "execution_count": 3
  },
  {
   "cell_type": "code",
   "metadata": {
    "ExecuteTime": {
     "end_time": "2025-07-30T22:22:48.045826Z",
     "start_time": "2025-07-30T22:22:48.040807Z"
    }
   },
   "source": [
    "# Define job classes\n",
    "ocl1 = OpenClass(model, 'Class1')\n",
    "ocl2 = OpenClass(model, 'Class2')"
   ],
   "outputs": [],
   "execution_count": 4
  },
  {
   "cell_type": "code",
   "metadata": {
    "ExecuteTime": {
     "end_time": "2025-07-30T22:22:48.095933Z",
     "start_time": "2025-07-30T22:22:48.090415Z"
    }
   },
   "source": [
    "# Set arrival processes\n",
    "source.set_arrival(ocl1, Exp(1.0))  # Class1: arrival rate 1.0\n",
    "source.set_arrival(ocl2, Exp(1.0))  # Class2: arrival rate 1.0"
   ],
   "outputs": [],
   "execution_count": 5
  },
  {
   "cell_type": "code",
   "metadata": {
    "ExecuteTime": {
     "end_time": "2025-07-30T22:22:48.146080Z",
     "start_time": "2025-07-30T22:22:48.141985Z"
    }
   },
   "source": [
    "# Set service processes\n",
    "queue.set_service(ocl1, Exp(100.0))  # Class1: very fast service (rate 100)\n",
    "queue.set_service(ocl2, Exp(100.0))  # Class2: very fast service (rate 100)"
   ],
   "outputs": [],
   "execution_count": 6
  },
  {
   "cell_type": "code",
   "metadata": {
    "ExecuteTime": {
     "end_time": "2025-07-30T22:22:48.199404Z",
     "start_time": "2025-07-30T22:22:48.189592Z"
    }
   },
   "source": [
    "# Configure routing matrix with virtual sinks\n",
    "P = model.init_routing_matrix()\n",
    "\n",
    "# Class1 routing\n",
    "P.set(ocl1, ocl1, source, queue, 1.0)     # Source → Queue1\n",
    "P.set(ocl1, ocl1, queue, vsink1, 0.6)     # Queue1 → VSink1 (60%)\n",
    "P.set(ocl1, ocl1, queue, vsink2, 0.4)     # Queue1 → VSink2 (40%)\n",
    "P.set(ocl1, ocl1, vsink1, sink, 1.0)      # VSink1 → Sink\n",
    "P.set(ocl1, ocl1, vsink2, sink, 1.0)      # VSink2 → Sink\n",
    "\n",
    "# Class2 routing\n",
    "P.set(ocl2, ocl2, source, queue, 1.0)     # Source → Queue1\n",
    "P.set(ocl2, ocl2, queue, vsink1, 0.1)     # Queue1 → VSink1 (10%)\n",
    "P.set(ocl2, ocl2, queue, vsink2, 0.9)     # Queue1 → VSink2 (90%)\n",
    "P.set(ocl2, ocl2, vsink1, sink, 1.0)      # VSink1 → Sink\n",
    "P.set(ocl2, ocl2, vsink2, sink, 1.0)      # VSink2 → Sink\n",
    "\n",
    "model.link(P)"
   ],
   "outputs": [],
   "execution_count": 7
  },
  {
   "cell_type": "code",
   "metadata": {
    "ExecuteTime": {
     "end_time": "2025-07-30T22:22:48.242299Z",
     "start_time": "2025-07-30T22:22:48.239906Z"
    }
   },
   "source": [
    "# Expected throughput calculations\n",
    "# Input rates\n",
    "class1_arrival = 1.0\n",
    "class2_arrival = 1.0\n",
    "\n",
    "# Class1 flows\n",
    "class1_to_vsink1 = class1_arrival * 0.6\n",
    "class1_to_vsink2 = class1_arrival * 0.4\n",
    "\n",
    "# Class2 flows\n",
    "class2_to_vsink1 = class2_arrival * 0.1\n",
    "class2_to_vsink2 = class2_arrival * 0.9\n",
    "\n",
    "# Total flows to each virtual sink\n",
    "total_to_vsink1 = class1_to_vsink1 + class2_to_vsink1\n",
    "total_to_vsink2 = class1_to_vsink2 + class2_to_vsink2\n",
    "\n",
    "print(f\"Class1 flows:\")\n",
    "print(f\"  To VSink1: {class1_to_vsink1:.1f}\")\n",
    "print(f\"  To VSink2: {class1_to_vsink2:.1f}\")\n",
    "\n",
    "print(f\"\\nClass2 flows:\")\n",
    "print(f\"  To VSink1: {class2_to_vsink1:.1f}\")\n",
    "print(f\"  To VSink2: {class2_to_vsink2:.1f}\")"
   ],
   "outputs": [
    {
     "name": "stdout",
     "output_type": "stream",
     "text": [
      "Class1 flows:\n",
      "  To VSink1: 0.6\n",
      "  To VSink2: 0.4\n",
      "\n",
      "Class2 flows:\n",
      "  To VSink1: 0.1\n",
      "  To VSink2: 0.9\n"
     ]
    }
   ],
   "execution_count": 8
  },
  {
   "cell_type": "code",
   "metadata": {
    "ExecuteTime": {
     "end_time": "2025-07-30T22:22:48.418895Z",
     "start_time": "2025-07-30T22:22:48.290110Z"
    }
   },
   "source": "# Aligned with JAR test scenarios for oqn_vsinks\n# JAR tests: MVA(), MAM(), NC()\n\n# Solve with MVA solver (matches JAR)\nsolver_mva = SolverMVA(model)\nAvgTable = solver_mva.get_avg_table()",
   "outputs": [],
   "execution_count": null
  },
  {
   "cell_type": "code",
   "metadata": {
    "ExecuteTime": {
     "end_time": "2025-07-30T22:22:48.436307Z",
     "start_time": "2025-07-30T22:22:48.428256Z"
    }
   },
   "source": "AvgNodeTable = solver_mva.getAvgNodeTable()",
   "outputs": [
    {
     "name": "stdout",
     "output_type": "stream",
     "text": [
      "     Node JobClass    QLen  Util   RespT  ResidT  ArvR  Tput\n",
      "0  Source   Class1  0.0000  0.00  0.0000  0.0000   0.0   1.0\n",
      "1  Source   Class2  0.0000  0.00  0.0000  0.0000   0.0   1.0\n",
      "2  Queue1   Class1  0.0102  0.01  0.0102  0.0102   1.0   1.0\n",
      "3  Queue1   Class2  0.0102  0.01  0.0102  0.0102   1.0   1.0\n",
      "4    Sink   Class1  0.0000  0.00  0.0000  0.0000   1.0   0.0\n",
      "5    Sink   Class2  0.0000  0.00  0.0000  0.0000   1.0   0.0\n",
      "6  VSink1   Class1  0.0000  0.00  0.0000  0.0000   0.6   0.6\n",
      "7  VSink1   Class2  0.0000  0.00  0.0000  0.0000   0.1   0.1\n",
      "8  VSink2   Class1  0.0000  0.00  0.0000  0.0000   0.4   0.4\n",
      "9  VSink2   Class2  0.0000  0.00  0.0000  0.0000   0.9   0.9\n"
     ]
    }
   ],
   "execution_count": 10
  },
  {
   "cell_type": "code",
   "metadata": {
    "ExecuteTime": {
     "end_time": "2025-07-30T22:22:48.560336Z",
     "start_time": "2025-07-30T22:22:48.491300Z"
    }
   },
   "source": "# Solve with MAM solver for comparison (matches JAR)\nsolver_mam = SolverMAM(model)\nAvgTableMAM = solver_mam.get_avg_table()",
   "outputs": [],
   "execution_count": null
  },
  {
   "cell_type": "code",
   "metadata": {
    "ExecuteTime": {
     "end_time": "2025-07-30T22:22:48.583056Z",
     "start_time": "2025-07-30T22:22:48.578507Z"
    }
   },
   "source": "AvgNodeTableMAM = solver_mam.getAvgNodeTable()",
   "outputs": [
    {
     "name": "stdout",
     "output_type": "stream",
     "text": [
      "     Node JobClass    QLen  Util   RespT  ResidT  ArvR  Tput\n",
      "0  Source   Class1  0.0000  0.00  0.0000  0.0000   0.0   1.0\n",
      "1  Source   Class2  0.0000  0.00  0.0000  0.0000   0.0   1.0\n",
      "2  Queue1   Class1  0.0102  0.01  0.0102  0.0102   1.0   1.0\n",
      "3  Queue1   Class2  0.0102  0.01  0.0102  0.0102   1.0   1.0\n",
      "4    Sink   Class1  0.0000  0.00  0.0000  0.0000   1.0   0.0\n",
      "5    Sink   Class2  0.0000  0.00  0.0000  0.0000   1.0   0.0\n",
      "6  VSink1   Class1  0.0000  0.00  0.0000  0.0000   0.6   0.6\n",
      "7  VSink1   Class2  0.0000  0.00  0.0000  0.0000   0.1   0.1\n",
      "8  VSink2   Class1  0.0000  0.00  0.0000  0.0000   0.4   0.4\n",
      "9  VSink2   Class2  0.0000  0.00  0.0000  0.0000   0.9   0.9\n"
     ]
    }
   ],
   "execution_count": 12
  },
  {
   "cell_type": "code",
   "metadata": {
    "ExecuteTime": {
     "end_time": "2025-07-30T22:22:48.674899Z",
     "start_time": "2025-07-30T22:22:48.639446Z"
    }
   },
   "source": "# Solve with NC solver for comparison (matches JAR)\nsolver_nc = SolverNC(model)\nAvgTableNC = solver_nc.get_avg_table()",
   "outputs": [],
   "execution_count": null
  },
  {
   "cell_type": "code",
   "metadata": {
    "ExecuteTime": {
     "end_time": "2025-07-30T22:22:48.713402Z",
     "start_time": "2025-07-30T22:22:48.708857Z"
    }
   },
   "source": "AvgNodeTableNC = solver_nc.getAvgNodeTable()",
   "outputs": [
    {
     "name": "stdout",
     "output_type": "stream",
     "text": [
      "     Node JobClass    QLen  Util   RespT  ResidT  ArvR  Tput\n",
      "0  Source   Class1  0.0000  0.00  0.0000  0.0000   0.0   1.0\n",
      "1  Source   Class2  0.0000  0.00  0.0000  0.0000   0.0   1.0\n",
      "2  Queue1   Class1  0.0102  0.01  0.0102  0.0102   1.0   1.0\n",
      "3  Queue1   Class2  0.0102  0.01  0.0102  0.0102   1.0   1.0\n",
      "4    Sink   Class1  0.0000  0.00  0.0000  0.0000   1.0   0.0\n",
      "5    Sink   Class2  0.0000  0.00  0.0000  0.0000   1.0   0.0\n",
      "6  VSink1   Class1  0.0000  0.00  0.0000  0.0000   0.6   0.6\n",
      "7  VSink1   Class2  0.0000  0.00  0.0000  0.0000   0.1   0.1\n",
      "8  VSink2   Class1  0.0000  0.00  0.0000  0.0000   0.4   0.4\n",
      "9  VSink2   Class2  0.0000  0.00  0.0000  0.0000   0.9   0.9\n"
     ]
    }
   ],
   "execution_count": 14
  }
 ],
 "metadata": {
  "kernelspec": {
   "display_name": "Python 3",
   "language": "python",
   "name": "python3"
  },
  "language_info": {
   "codemirror_mode": {
    "name": "ipython",
    "version": 3
   },
   "file_extension": ".py",
   "mimetype": "text/x-python",
   "name": "python",
   "nbconvert_exporter": "python",
   "pygments_lexer": "ipython3",
   "version": "3.8.5"
  }
 },
 "nbformat": 4,
 "nbformat_minor": 4
}