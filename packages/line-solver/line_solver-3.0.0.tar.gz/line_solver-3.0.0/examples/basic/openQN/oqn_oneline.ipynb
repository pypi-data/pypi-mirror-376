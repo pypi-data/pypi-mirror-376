{
 "cells": [
  {
   "cell_type": "code",
   "metadata": {
    "ExecuteTime": {
     "end_time": "2025-07-30T22:23:08.471193Z",
     "start_time": "2025-07-30T22:23:07.579672Z"
    }
   },
   "source": [
    "from line_solver import *\n",
    "import numpy as np\n",
    "GlobalConstants.set_verbose(VerboseLevel.STD)"
   ],
   "outputs": [],
   "execution_count": 1
  },
  {
   "cell_type": "code",
   "metadata": {
    "ExecuteTime": {
     "end_time": "2025-07-30T22:23:08.478583Z",
     "start_time": "2025-07-30T22:23:08.474107Z"
    }
   },
   "source": "# Model parameters\n# Arrival rates for each class (scaled down by factor 50)\nlambda_rates = np.array([1, 2])  # [Class1, Class2] base rates\nlambda_rates = lambda_rates / 50  # Scale down: [0.02, 0.04]\n\n# Service time matrix D(i,r): mean service time of class r at station i\n# Station 1: Class1=10, Class2=5\n# Station 2: Class1=5,  Class2=9\nD = np.array([[10, 5],\n              [5, 9]])\n\n# Delay station service times Z(r): mean service time of class r at delay\nZ = np.array([91, 92])  # [Class1=91, Class2=92]\n\nprint(\"Model parameters:\")\nprint(f\"Arrival rates: {lambda_rates}\")\nprint(f\"Service time matrix D:\\n{D}\")\nprint(f\"Delay service times Z: {Z}\")",
   "outputs": [
    {
     "name": "stdout",
     "output_type": "stream",
     "text": [
      "Model parameters:\n",
      "Arrival rates: [0.02 0.04]\n",
      "Service time matrix D:\n",
      "[[10  5]\n",
      " [ 5  9]]\n",
      "Delay service times Z: [91 92]\n"
     ]
    }
   ],
   "execution_count": 2
  },
  {
   "cell_type": "code",
   "metadata": {
    "ExecuteTime": {
     "end_time": "2025-07-30T22:23:08.842395Z",
     "start_time": "2025-07-30T22:23:08.590174Z"
    }
   },
   "source": [
    "# Create tandem PS network with infinite servers\n",
    "model = Network.tandemPsInf(lambda_rates, D, Z)\n",
    "\n",
    "print(f\"Tandem PS network created with {model.getNumberOfNodes()} nodes and {model.get_number_of_classes()} classes\")\n",
    "print(f\"Node names: {[node.get_name() for node in model.nodes()]}\")\n",
    "print(f\"Class names: {[cls.get_name() for cls in model.classes()]}\")"
   ],
   "outputs": [
    {
     "name": "stdout",
     "output_type": "stream",
     "text": [
      "Tandem PS network created with 5 nodes and 2 classes\n",
      "Node names: ['Source', 'Delay1', 'Queue1', 'Queue2', 'Sink']\n",
      "Class names: ['Class1', 'Class2']\n"
     ]
    }
   ],
   "execution_count": 3
  },
  {
   "cell_type": "code",
   "metadata": {
    "ExecuteTime": {
     "end_time": "2025-07-30T22:23:10.194583Z",
     "start_time": "2025-07-30T22:23:08.853467Z"
    }
   },
   "source": [
    "# Aligned with JAR test scenarios for oqn_oneline",
    "# JAR tests: Fluid() only",
    "",
    "# Solve with Fluid solver (matches JAR)",
    "",
    "solver_fluid = SolverFluid(model)",
    "avg_table_fluid = solver_fluid.get_avg_table()",
    "print(avg_table_fluid)"
   ],
   "outputs": [],
   "execution_count": null
  },
  {
   "cell_type": "code",
   "metadata": {
    "ExecuteTime": {
     "end_time": "2025-07-30T22:23:10.312961Z",
     "start_time": "2025-07-30T22:23:10.208869Z"
    }
   },
   "source": [
    "# Original JMT comparison commented out to align with JAR (Fluid only)",
    "# ",
    "# solver_jmt = SolverJMT(model)",
    "# avg_table_jmt = solver_jmt.get_avg_table()",
    "# print(avg_table_jmt)"
   ],
   "outputs": [],
   "execution_count": null
  },
  {
   "cell_type": "code",
   "metadata": {
    "ExecuteTime": {
     "end_time": "2025-07-30T22:23:10.338020Z",
     "start_time": "2025-07-30T22:23:10.333622Z"
    }
   },
   "source": [
    "# Performance analysis updated to use Fluid results only (JAR alignment)",
    "",
    "# Class-specific analysis",
    "for class_name in ['Class1', 'Class2']:",
    "    class_metrics = avg_table_fluid[avg_table_fluid['JobClass'] == class_name]",
    "    print(f\"\\n{class_name}:\")",
    "    ",
    "    total_resp_time = class_metrics['RespT'].sum()",
    "    total_utilization = class_metrics['Util'].sum()",
    "    avg_throughput = class_metrics['Tput'].iloc[0] if len(class_metrics) > 0 else 0",
    "    ",
    "    print(f\"  Total response time: {total_resp_time:.4f}\")",
    "    print(f\"  Total utilization: {total_utilization:.4f}\")",
    "    print(f\"  Throughput: {avg_throughput:.6f}\")",
    "    ",
    "    # Per-station breakdown",
    "    for _, row in class_metrics.iterrows():",
    "        if row['RespT'] > 0:  # Only show stations with non-zero response time",
    "            print(f\"    {row['Station']}: RespT={row['RespT']:.4f}, Util={row['Util']:.4f}\")",
    "",
    "# System totals",
    "total_system_tput = avg_table_fluid['Tput'].sum()",
    "print(f\"\\nTotal system throughput: {total_system_tput:.6f}\")"
   ],
   "outputs": [],
   "execution_count": null
  },
  {
   "cell_type": "code",
   "metadata": {
    "ExecuteTime": {
     "end_time": "2025-07-30T22:23:10.397888Z",
     "start_time": "2025-07-30T22:23:10.394341Z"
    }
   },
   "source": [
    "# Little's Law verification updated to use Fluid results only (JAR alignment)",
    "",
    "for class_name in ['Class1', 'Class2']:",
    "    class_metrics = avg_table_fluid[avg_table_fluid['JobClass'] == class_name]",
    "    if len(class_metrics) > 0:",
    "        total_qlen = class_metrics['QLen'].sum()",
    "        total_resp_time = class_metrics['RespT'].sum()",
    "        throughput = class_metrics['Tput'].iloc[0]",
    "        ",
    "        # Little's Law: L = λ * W",
    "        expected_qlen = throughput * total_resp_time",
    "        ",
    "        print(f\"\\n{class_name}:\")",
    "        print(f\"  Observed queue length: {total_qlen:.6f}\")",
    "        print(f\"  Expected (λ*W): {expected_qlen:.6f}\")",
    "        print(f\"  Difference: {abs(total_qlen - expected_qlen):.8f}\")"
   ],
   "outputs": [],
   "execution_count": null
  }
 ],
 "metadata": {
  "kernelspec": {
   "display_name": "Python 3",
   "language": "python",
   "name": "python3"
  },
  "language_info": {
   "codemirror_mode": {
    "name": "ipython",
    "version": 3
   },
   "file_extension": ".py",
   "name": "python",
   "nbconvert_exporter": "python",
   "pygments_lexer": "ipython3",
   "version": "3.8.5"
  }
 },
 "nbformat": 4,
 "nbformat_minor": 4
}