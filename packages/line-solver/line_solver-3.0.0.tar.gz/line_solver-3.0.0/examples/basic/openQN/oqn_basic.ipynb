{
 "cells": [
  {
   "cell_type": "code",
   "id": "4930fb9c4fab467c",
   "metadata": {
    "collapsed": true,
    "ExecuteTime": {
     "end_time": "2025-07-30T22:23:42.407148Z",
     "start_time": "2025-07-30T22:23:41.480467Z"
    }
   },
   "source": [
    "from line_solver import *\n",
    "GlobalConstants.set_verbose(VerboseLevel.STD)"
   ],
   "outputs": [],
   "execution_count": 1
  },
  {
   "cell_type": "code",
   "source": [
    "model = Network('model')\n",
    "\n",
    "node = np.empty(4, dtype=object)\n",
    "node[0] = Delay(model, 'Delay')\n",
    "node[1] = Queue(model, 'Queue1', SchedStrategy.FCFS)\n",
    "node[2] = Source(model,'Source')\n",
    "node[3] = Sink(model,'Sink')\n",
    "\n",
    "jobclass = OpenClass(model, 'Class1', 0)\n",
    "\n",
    "node[0].set_service(jobclass, HyperExp(0.5,3.0,10.0))\n",
    "node[1].set_service(jobclass, Exp(1))\n",
    "node[2].set_arrival(jobclass, Exp(0.1))\n",
    "\n",
    "M = model.get_number_of_stations()\n",
    "K = model.get_number_of_classes()\n",
    "\n",
    "P = model.init_routing_matrix()\n",
    "P.set(jobclass, jobclass, [[0,1,0,0],[0,0,0,1],[1,0,0,0],[0,0,0,0]])\n",
    "\n",
    "model.link(P)"
   ],
   "metadata": {
    "collapsed": false,
    "ExecuteTime": {
     "end_time": "2025-07-30T22:23:42.499900Z",
     "start_time": "2025-07-30T22:23:42.468489Z"
    }
   },
   "id": "bf3848b78f83c1f7",
   "outputs": [],
   "execution_count": 2
  },
  {
   "cell_type": "markdown",
   "source": [
    "This example shows the execution of the solver on a 1-class 2-node open model."
   ],
   "metadata": {
    "collapsed": false
   },
   "id": "b4e133009e163fe"
  },
  {
   "cell_type": "code",
   "source": "# Aligned with JAR test scenarios for oqn_basic\n# JAR tests: CTMC(cutoff=10), JMT(seed=23000), SSA(seed=23000, samples=10000), \n#           MVA(), NC(), MAM(), Fluid()\n\nsolver = np.array([], dtype=object)\n\n# CTMC with cutoff=10 (matches JAR)\nsolver = np.append(solver, SolverCTMC(model, cutoff=10))\n\n# JMT with seed=23000 (matches JAR) \nsolver = np.append(solver, SolverJMT(model, seed=23000))\n\n# MVA with default settings (matches JAR)\nsolver = np.append(solver, SolverMVA(model))\n\n# Fluid with default settings (matches JAR)\nsolver = np.append(solver, SolverFluid(model))\n\n# NC with default settings (matches JAR)\nsolver = np.append(solver, SolverNC(model))\n\n# MAM with default settings (matches JAR)\nsolver = np.append(solver, SolverMAM(model))\n\n# SSA with seed=23000, samples=10000 (matches JAR)\nsolver = np.append(solver, SolverSSA(model, seed=23000, samples=10000))\n\nAvgTable = np.empty(len(solver), dtype=object)\nfor s in range(len(solver)):\n    print(f'\\\\nSOLVER: {solver[s].get_name()}')\n    AvgTable[s] = solver[s].get_avg_table()",
   "metadata": {
    "collapsed": false,
    "ExecuteTime": {
     "end_time": "2025-07-30T22:23:44.407401Z",
     "start_time": "2025-07-30T22:23:42.522341Z"
    }
   },
   "id": "initial_id",
   "outputs": [],
   "execution_count": null
  }
 ],
 "metadata": {
  "kernelspec": {
   "display_name": "Python 3",
   "language": "python",
   "name": "python3"
  },
  "language_info": {
   "codemirror_mode": {
    "name": "ipython",
    "version": 2
   },
   "file_extension": ".py",
   "mimetype": "text/x-python",
   "name": "python",
   "nbconvert_exporter": "python",
   "pygments_lexer": "ipython2",
   "version": "2.7.6"
  }
 },
 "nbformat": 4,
 "nbformat_minor": 5
}