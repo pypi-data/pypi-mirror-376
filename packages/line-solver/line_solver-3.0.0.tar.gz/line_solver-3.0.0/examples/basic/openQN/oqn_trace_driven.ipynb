{
 "cells": [
  {
   "cell_type": "code",
   "metadata": {
    "ExecuteTime": {
     "end_time": "2025-07-30T22:23:02.638676Z",
     "start_time": "2025-07-30T22:23:02.636869Z"
    }
   },
   "source": [
    "from line_solver import *\n",
    "import numpy as np\n",
    "import os\n",
    "GlobalConstants.set_verbose(VerboseLevel.STD)"
   ],
   "outputs": [],
   "execution_count": 9
  },
  {
   "cell_type": "code",
   "metadata": {
    "ExecuteTime": {
     "end_time": "2025-07-30T22:23:02.693128Z",
     "start_time": "2025-07-30T22:23:02.691457Z"
    }
   },
   "source": [
    "# Create the model\n",
    "model = Network('model')"
   ],
   "outputs": [],
   "execution_count": 10
  },
  {
   "cell_type": "code",
   "metadata": {
    "ExecuteTime": {
     "end_time": "2025-07-30T22:23:02.744434Z",
     "start_time": "2025-07-30T22:23:02.740912Z"
    }
   },
   "source": [
    "# Define network nodes\n",
    "source = Source(model, 'Source')\n",
    "queue = Queue(model, 'Queue', SchedStrategy.FCFS)\n",
    "sink = Sink(model, 'Sink')"
   ],
   "outputs": [],
   "execution_count": 11
  },
  {
   "cell_type": "code",
   "metadata": {
    "ExecuteTime": {
     "end_time": "2025-07-30T22:23:02.793363Z",
     "start_time": "2025-07-30T22:23:02.790927Z"
    }
   },
   "source": [
    "# Define job class\n",
    "jobclass = OpenClass(model, 'OpenClass', 0)"
   ],
   "outputs": [],
   "execution_count": 12
  },
  {
   "cell_type": "code",
   "metadata": {
    "ExecuteTime": {
     "end_time": "2025-07-30T22:23:02.843167Z",
     "start_time": "2025-07-30T22:23:02.841304Z"
    }
   },
   "source": [
    "# Set arrival process\n",
    "source.set_arrival(jobclass, Exp(1))"
   ],
   "outputs": [],
   "execution_count": 13
  },
  {
   "cell_type": "code",
   "metadata": {
    "ExecuteTime": {
     "end_time": "2025-07-30T22:23:02.914649Z",
     "start_time": "2025-07-30T22:23:02.890740Z"
    }
   },
   "source": [
    "# Set service process using trace file\n",
    "# Find the directory containing this notebook\n",
    "current_dir = os.path.dirname(os.path.abspath(''))\n",
    "trace_file_path = os.path.join(current_dir, 'example_trace.txt')\n",
    "\n",
    "# Check if trace file exists\n",
    "if os.path.exists('example_trace.txt'):\n",
    "    trace_file_path = 'example_trace.txt'\n",
    "    print(f\"Found trace file: {trace_file_path}\")\n",
    "elif os.path.exists(trace_file_path):\n",
    "    print(f\"Found trace file: {trace_file_path}\")\n",
    "else:\n",
    "    print(f\"Warning: Trace file not found at {trace_file_path}\")\n",
    "    print(\"Using current directory path: example_trace.txt\")\n",
    "    trace_file_path = 'example_trace.txt'\n",
    "\n",
    "# Set service process using Replayer with the trace file\n",
    "queue.set_service(jobclass, Replayer(trace_file_path))"
   ],
   "outputs": [
    {
     "name": "stdout",
     "output_type": "stream",
     "text": [
      "Found trace file: example_trace.txt\n"
     ]
    }
   ],
   "execution_count": 14
  },
  {
   "cell_type": "code",
   "metadata": {
    "ExecuteTime": {
     "end_time": "2025-07-30T22:23:02.949085Z",
     "start_time": "2025-07-30T22:23:02.946714Z"
    }
   },
   "source": [
    "# Define network topology using serial routing\n",
    "model.link(Network.serialRouting(source, queue, sink))"
   ],
   "outputs": [],
   "execution_count": 15
  },
  {
   "cell_type": "code",
   "metadata": {
    "ExecuteTime": {
     "end_time": "2025-07-30T22:23:03.763915Z",
     "start_time": "2025-07-30T22:23:02.999958Z"
    }
   },
   "source": "# Aligned with JAR test scenarios for oqn_trace_driven\n# JAR tests: JMT(seed=23000) only\n\n# Solve using JMT solver with seed=23000 (matches JAR)\nsolver_jmt = SolverJMT(model, seed=23000)\nAvgTable = solver_jmt.get_avg_table()",
   "outputs": [],
   "execution_count": null
  }
 ],
 "metadata": {
  "kernelspec": {
   "display_name": "Python 3",
   "language": "python",
   "name": "python3"
  },
  "language_info": {
   "codemirror_mode": {
    "name": "ipython",
    "version": 3
   },
   "file_extension": ".py",
   "mimetype": "text/x-python",
   "name": "python",
   "nbconvert_exporter": "python",
   "pygments_lexer": "ipython3",
   "version": "3.8.5"
  }
 },
 "nbformat": 4,
 "nbformat_minor": 4
}