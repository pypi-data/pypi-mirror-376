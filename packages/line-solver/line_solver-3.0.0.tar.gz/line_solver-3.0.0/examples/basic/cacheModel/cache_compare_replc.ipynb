{
 "cells": [
  {
   "cell_type": "code",
   "metadata": {
    "ExecuteTime": {
     "end_time": "2025-07-30T22:07:01.533218Z",
     "start_time": "2025-07-30T22:07:00.630614Z"
    }
   },
   "source": "# Cache model example 4 - Testing different replacement strategies\nfrom line_solver import *\nimport numpy as np\nGlobalConstants.set_verbose(VerboseLevel.STD)",
   "outputs": [],
   "execution_count": 1
  },
  {
   "cell_type": "code",
   "metadata": {
    "ExecuteTime": {
     "end_time": "2025-07-30T22:07:01.551265Z",
     "start_time": "2025-07-30T22:07:01.548417Z"
    }
   },
   "source": [
    "# Model parameters\n",
    "n = 5  # number of items\n",
    "m = [2, 1]  # cache capacity\n",
    "alpha = 1.0  # Zipf parameter\n",
    "\n",
    "# Replacement strategies to test\n",
    "replStrat = [ReplacementStrategy.RR, ReplacementStrategy.FIFO] #, ReplacementStrategy.LRU]\n",
    "\n",
    "# Storage for results\n",
    "AvgTable = []\n",
    "solver = []\n",
    "ctmcHitRatio = []\n",
    "mvaHitRatio = []\n",
    "ncHitRatio = []\n",
    "\n",
    "print(\"repl-strategy, ctmc, mva, nc:\")"
   ],
   "outputs": [
    {
     "name": "stdout",
     "output_type": "stream",
     "text": [
      "repl-strategy, ctmc, mva, nc:\n"
     ]
    }
   ],
   "execution_count": 2
  },
  {
   "cell_type": "code",
   "metadata": {
    "ExecuteTime": {
     "end_time": "2025-07-30T22:07:02.018109Z",
     "start_time": "2025-07-30T22:07:01.674541Z"
    }
   },
   "source": [
    "# Test each replacement strategy\n",
    "for s, strategy in enumerate(replStrat):\n",
    "    # Create model\n",
    "    model = Network('model')\n",
    "    source = Source(model, 'Source')\n",
    "    cacheNode = Cache(model, 'Cache', n, m, strategy)\n",
    "    sink = Sink(model, 'Sink')\n",
    "    \n",
    "    # Create classes\n",
    "    jobClass = OpenClass(model, 'InitClass', 0)\n",
    "    hitClass = OpenClass(model, 'HitClass', 0)\n",
    "    missClass = OpenClass(model, 'MissClass', 0)\n",
    "    \n",
    "    # Set arrival\n",
    "    source.set_arrival(jobClass, Exp(2))\n",
    "    \n",
    "    # Zipf-like item references\n",
    "    pAccess = Zipf(alpha, n)\n",
    "    cacheNode.set_read(jobClass, pAccess)\n",
    "    \n",
    "    # Configure cache classes\n",
    "    cacheNode.set_hit_class(jobClass, hitClass)\n",
    "    cacheNode.set_miss_class(jobClass, missClass)\n",
    "    \n",
    "    # Routing\n",
    "    P = model.init_routing_matrix()\n",
    "    P.set(jobClass, jobClass, source, cacheNode, 1.0)\n",
    "    P.set(hitClass, hitClass, cacheNode, sink, 1.0)\n",
    "    P.set(missClass, missClass, cacheNode, sink, 1.0)\n",
    "    model.link(P)\n",
    "    \n",
    "    # Solver CTMC - commented out as runs forever\n",
    "    ctmc_hr = float('nan')\n",
    "    # ctmc_solver = SolverCTMC(model, keep=False, cutoff=1, seed=1, verbose=False)\n",
    "    # solver.append(ctmc_solver)\n",
    "    # AvgTable.append(ctmc_solver.getAvgNodeTable())\n",
    "    # hr = cacheNode.hit_ratio()\n",
    "    # if hr is not None and len(hr) > 0:\n",
    "    #     ctmc_hr = hr[0] if hasattr(hr, '__len__') else hr\n",
    "    # else:\n",
    "    #     ctmc_hr = float('nan')\n",
    "    ctmcHitRatio.append(ctmc_hr)\n",
    "    \n",
    "    # Solver MVA\n",
    "    try:\n",
    "        mva_solver = SolverMVA(model, seed=1, verbose=False)\n",
    "        solver.append(mva_solver)\n",
    "        model.reset()\n",
    "        AvgTable.append(mva_solver.getAvgNodeTable())\n",
    "        hr = cacheNode.hit_ratio()\n",
    "        if hr is not None and len(hr) > 0:\n",
    "            mva_hr = hr[0][0] if hasattr(hr[0], '__len__') else hr[0]\n",
    "        else:\n",
    "            mva_hr = float('nan')\n",
    "    except Exception as e:\n",
    "        mva_hr = float('nan')\n",
    "    mvaHitRatio.append(mva_hr)\n",
    "\n",
    "    # Solver NC - try to run it, catch exception if not supported\n",
    "    try:\n",
    "        nc_solver = SolverNC(model, seed=1, verbose=False)\n",
    "        if nc_solver.supports(model):\n",
    "            solver.append(nc_solver)\n",
    "            model.reset()\n",
    "            AvgTable.append(nc_solver.getAvgNodeTable())\n",
    "            hr = cacheNode.hit_ratio()\n",
    "            if hr is not None and len(hr) > 0:\n",
    "                nc_hr = hr[0][0] if hasattr(hr[0], '__len__') else hr[0]\n",
    "            else:\n",
    "                nc_hr = float('nan')\n",
    "        else:\n",
    "            nc_hr = float('nan')\n",
    "    except Exception as e:\n",
    "        nc_hr = float('nan')\n",
    "    ncHitRatio.append(nc_hr)"
   ],
   "outputs": [
    {
     "name": "stdout",
     "output_type": "stream",
     "text": [
      "     Node   JobClass  QLen  Util  RespT  ResidT    ArvR    Tput\n",
      "0  Source  InitClass   0.0   0.0    0.0     0.0  0.0000  2.0000\n",
      "3   Cache  InitClass   0.0   0.0    0.0     0.0  2.0000  0.0000\n",
      "4   Cache   HitClass   0.0   0.0    0.0     0.0  0.0000  1.3935\n",
      "5   Cache  MissClass   0.0   0.0    0.0     0.0  0.0000  0.6065\n",
      "7    Sink   HitClass   0.0   0.0    0.0     0.0  1.3935  0.0000\n",
      "8    Sink  MissClass   0.0   0.0    0.0     0.0  0.6065  0.0000\n",
      "     Node   JobClass  QLen  Util  RespT  ResidT    ArvR    Tput\n",
      "0  Source  InitClass   0.0   0.0    0.0     0.0  0.0000  2.0000\n",
      "3   Cache  InitClass   0.0   0.0    0.0     0.0  2.0000  0.0000\n",
      "4   Cache   HitClass   0.0   0.0    0.0     0.0  0.0000  1.4061\n",
      "5   Cache  MissClass   0.0   0.0    0.0     0.0  0.0000  0.5939\n",
      "7    Sink   HitClass   0.0   0.0    0.0     0.0  1.4061  0.0000\n",
      "8    Sink  MissClass   0.0   0.0    0.0     0.0  0.5939  0.0000\n",
      "     Node   JobClass  QLen  Util  RespT  ResidT    ArvR    Tput\n",
      "0  Source  InitClass   0.0   0.0    0.0     0.0  0.0000  2.0000\n",
      "3   Cache  InitClass   0.0   0.0    0.0     0.0  2.0000  0.0000\n",
      "4   Cache   HitClass   0.0   0.0    0.0     0.0  0.0000  1.3935\n",
      "5   Cache  MissClass   0.0   0.0    0.0     0.0  0.0000  0.6065\n",
      "7    Sink   HitClass   0.0   0.0    0.0     0.0  1.3935  0.0000\n",
      "8    Sink  MissClass   0.0   0.0    0.0     0.0  0.6065  0.0000\n",
      "     Node   JobClass  QLen  Util  RespT  ResidT    ArvR    Tput\n",
      "0  Source  InitClass   0.0   0.0    0.0     0.0  0.0000  2.0000\n",
      "3   Cache  InitClass   0.0   0.0    0.0     0.0  2.0000  0.0000\n",
      "4   Cache   HitClass   0.0   0.0    0.0     0.0  0.0000  1.4061\n",
      "5   Cache  MissClass   0.0   0.0    0.0     0.0  0.0000  0.5939\n",
      "7    Sink   HitClass   0.0   0.0    0.0     0.0  1.4061  0.0000\n",
      "8    Sink  MissClass   0.0   0.0    0.0     0.0  0.5939  0.0000\n"
     ]
    }
   ],
   "execution_count": 3
  },
  {
   "cell_type": "code",
   "metadata": {
    "ExecuteTime": {
     "end_time": "2025-07-30T22:07:02.033422Z",
     "start_time": "2025-07-30T22:07:02.031228Z"
    }
   },
   "source": "# Print results (matching MATLAB format)\nprint(\"\\\\nResults comparison:\")\nfor s, strategy in enumerate(replStrat):\n    try:\n        strategy_name = ReplacementStrategy.toText(strategy)\n    except AttributeError:\n        # Fallback if toText method not available\n        strategy_name = str(strategy).split('.')[-1].lower()\n    \n    print(f\"{strategy_name}: {ctmcHitRatio[s]:.8f}, {mvaHitRatio[s]:.8f}, {ncHitRatio[s]:.8f}\")",
   "outputs": [
    {
     "name": "stdout",
     "output_type": "stream",
     "text": [
      "\\nResults comparison:\n",
      "rr: nan, 0.69673077, 0.70305657\n",
      "fifo: nan, 0.69673077, 0.70305657\n"
     ]
    }
   ],
   "execution_count": 4
  }
 ],
 "metadata": {
  "kernelspec": {
   "display_name": "Python 3",
   "language": "python",
   "name": "python3"
  },
  "language_info": {
   "codemirror_mode": {
    "name": "ipython",
    "version": 3
   },
   "file_extension": ".py",
   "mimetype": "text/x-python",
   "name": "python",
   "nbconvert_exporter": "python",
   "pygments_lexer": "ipython3",
   "version": "3.8.0"
  }
 },
 "nbformat": 4,
 "nbformat_minor": 4
}
