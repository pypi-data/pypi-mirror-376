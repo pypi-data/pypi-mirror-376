{
 "cells": [
  {
   "metadata": {
    "ExecuteTime": {
     "end_time": "2025-07-30T22:07:16.535657Z",
     "start_time": "2025-07-30T22:07:15.549473Z"
    }
   },
   "cell_type": "code",
   "source": [
    "from line_solver import *\n",
    "\n",
    "import numpy as np\n",
    "GlobalConstants.set_verbose(VerboseLevel.STD)"
   ],
   "outputs": [],
   "execution_count": 1
  },
  {
   "metadata": {
    "ExecuteTime": {
     "end_time": "2025-07-30T22:07:16.688568Z",
     "start_time": "2025-07-30T22:07:16.592394Z"
    }
   },
   "cell_type": "code",
   "source": [
    "model = Network('model')\n",
    "n = 5  # number of items\n",
    "m = 2  # cache capacity\n",
    "\n",
    "delay = Delay(model, 'Delay')\n",
    "cacheNode = Cache(model, 'Cache', n, m, ReplacementStrategy.FIFO)\n",
    "jobClass = ClosedClass(model, 'JobClass', 1, delay, 0)\n",
    "hitClass = ClosedClass(model, 'HitClass', 0, delay, 0)\n",
    "missClass = ClosedClass(model, 'MissClass', 0, delay, 0)\n",
    "\n",
    "delay.set_service(jobClass, Exp(1))\n",
    "\n",
    "# Uniform item references - create Matrix from numpy array\n",
    "prob_array = np.ones(n) / n\n",
    "pAccess = DiscreteSampler(jlineMatrixFromArray(prob_array))\n",
    "cacheNode.set_read(jobClass, pAccess)\n",
    "\n",
    "cacheNode.set_hit_class(jobClass, hitClass)\n",
    "cacheNode.set_miss_class(jobClass, missClass)\n",
    "P = model.init_routing_matrix()\n",
    "P.set(jobClass, jobClass, delay, cacheNode, 1.0)\n",
    "P.set(hitClass, jobClass, cacheNode, delay, 1.0)\n",
    "P.set(missClass, jobClass, cacheNode, delay, 1.0)\n",
    "\n",
    "model.link(P)"
   ],
   "outputs": [],
   "execution_count": 2
  },
  {
   "metadata": {
    "ExecuteTime": {
     "end_time": "2025-07-30T22:07:16.698381Z",
     "start_time": "2025-07-30T22:07:16.696782Z"
    }
   },
   "cell_type": "code",
   "source": [
    "solver = np.empty(3, dtype=object)\n",
    "AvgTable = np.empty(3, dtype=object)"
   ],
   "outputs": [],
   "execution_count": 3
  },
  {
   "metadata": {
    "ExecuteTime": {
     "end_time": "2025-07-30T22:07:16.893679Z",
     "start_time": "2025-07-30T22:07:16.750084Z"
    }
   },
   "cell_type": "code",
   "source": [
    "solver[0] = SolverCTMC(model, keep=False, seed=1)\n",
    "AvgTable[0] = solver[0].getAvgNodeTable()"
   ],
   "outputs": [
    {
     "name": "stdout",
     "output_type": "stream",
     "text": [
      "CTMC analysis [method: default, lang: java, env: 21.0.8] completed in 0.062213s.\n",
      "                Node   JobClass  QLen  Util  RespT  ResidT    ArvR    Tput\n",
      "0              Delay   JobClass   1.0   1.0    1.0  0.3333  0.3333  0.3333\n",
      "1              Delay   HitClass   0.0   0.0    0.0  0.0000  0.3333  0.3333\n",
      "2              Delay  MissClass   0.0   0.0    0.0  0.0000  0.3333  0.3333\n",
      "4              Cache   HitClass   0.0   0.0    0.0  0.0000  0.0000  0.3333\n",
      "5              Cache  MissClass   0.0   0.0    0.0  0.0000  0.0000  0.3333\n",
      "6  CS_Cache_to_Delay   JobClass   0.0   0.0    0.0  0.0000  0.3333  1.0000\n",
      "7  CS_Cache_to_Delay   HitClass   0.0   0.0    0.0  0.0000  0.3333  0.0000\n",
      "8  CS_Cache_to_Delay  MissClass   0.0   0.0    0.0  0.0000  0.3333  0.0000\n"
     ]
    }
   ],
   "execution_count": 4
  },
  {
   "metadata": {
    "ExecuteTime": {
     "end_time": "2025-07-30T22:07:16.906852Z",
     "start_time": "2025-07-30T22:07:16.905150Z"
    }
   },
   "cell_type": "code",
   "source": "model.reset()",
   "outputs": [],
   "execution_count": 5
  },
  {
   "metadata": {
    "ExecuteTime": {
     "end_time": "2025-07-30T22:07:17.742637Z",
     "start_time": "2025-07-30T22:07:16.960715Z"
    }
   },
   "cell_type": "code",
   "source": [
    "solver[1] = SolverSSA(model, samples=10000, verbose=True, method='serial', seed=1)\n",
    "AvgTable[1] = solver[1].getAvgNodeTable()"
   ],
   "outputs": [
    {
     "name": "stdout",
     "output_type": "stream",
     "text": [
      "SSA samples:   10000\n",
      "SSA analysis [method: serial, lang: java, env: 21.0.8] completed in 0.767665s. Iterations: 10001.\n",
      "                Node   JobClass  QLen  Util  RespT  ResidT  ArvR  Tput\n",
      "0              Delay   JobClass   1.0   1.0    1.0     1.0   1.0   1.0\n",
      "3              Cache   JobClass   0.0   0.0    0.0     0.0   1.0   0.0\n",
      "4              Cache   HitClass   0.0   0.0    0.0     0.0   0.0   0.4\n",
      "5              Cache  MissClass   0.0   0.0    0.0     0.0   0.0   0.6\n",
      "6  CS_Cache_to_Delay   JobClass   0.0   0.0    0.0     0.0   0.0   1.0\n",
      "7  CS_Cache_to_Delay   HitClass   0.0   0.0    0.0     0.0   0.4   0.0\n",
      "8  CS_Cache_to_Delay  MissClass   0.0   0.0    0.0     0.0   0.6   0.0\n"
     ]
    }
   ],
   "execution_count": 6
  },
  {
   "metadata": {
    "ExecuteTime": {
     "end_time": "2025-07-30T22:07:17.802620Z",
     "start_time": "2025-07-30T22:07:17.753802Z"
    }
   },
   "cell_type": "code",
   "source": [
    "solver[2] = SolverMVA(model, seed=1)\n",
    "AvgTable[2] = solver[2].getAvgNodeTable()"
   ],
   "outputs": [
    {
     "name": "stdout",
     "output_type": "stream",
     "text": [
      "MVA analysis [method: default(exact), lang: java, env: 21.0.8] completed in 0.039687s. Iterations: 2.\n",
      "                Node   JobClass  QLen  Util  RespT  ResidT  ArvR  Tput\n",
      "0              Delay   JobClass   1.0   1.0    1.0     1.0   1.0   1.0\n",
      "3              Cache   JobClass   0.0   0.0    0.0     0.0   1.0   0.0\n",
      "4              Cache   HitClass   0.0   0.0    0.0     0.0   0.0   0.4\n",
      "5              Cache  MissClass   0.0   0.0    0.0     0.0   0.0   0.6\n",
      "6  CS_Cache_to_Delay   JobClass   0.0   0.0    0.0     0.0   0.0   1.0\n",
      "7  CS_Cache_to_Delay   HitClass   0.0   0.0    0.0     0.0   0.4   0.0\n",
      "8  CS_Cache_to_Delay  MissClass   0.0   0.0    0.0     0.0   0.6   0.0\n"
     ]
    }
   ],
   "execution_count": 7
  },
  {
   "metadata": {
    "ExecuteTime": {
     "end_time": "2025-07-30T22:07:17.825289Z",
     "start_time": "2025-07-30T22:07:17.818745Z"
    }
   },
   "cell_type": "code",
   "source": [
    "# SolverMVA\n",
    "model.reset()\n",
    "solver = np.append(solver, SolverMVA(model, seed=1))\n",
    "print('\\nSOLVER: SolverMVA')\n",
    "AvgTable3 = solver[2].getAvgNodeTable()"
   ],
   "outputs": [
    {
     "name": "stdout",
     "output_type": "stream",
     "text": [
      "\n",
      "SOLVER: SolverMVA\n",
      "                Node   JobClass  QLen  Util  RespT  ResidT    ArvR    Tput\n",
      "0              Delay   JobClass   1.0   1.0    1.0  0.3333  0.3333  0.3333\n",
      "1              Delay   HitClass   0.0   0.0    0.0  0.0000  0.3333  0.3333\n",
      "2              Delay  MissClass   0.0   0.0    0.0  0.0000  0.3333  0.3333\n",
      "4              Cache   HitClass   0.0   0.0    0.0  0.0000  0.0000  0.3333\n",
      "5              Cache  MissClass   0.0   0.0    0.0  0.0000  0.0000  0.3333\n",
      "6  CS_Cache_to_Delay   JobClass   0.0   0.0    0.0  0.0000  0.3333  1.0000\n",
      "7  CS_Cache_to_Delay   HitClass   0.0   0.0    0.0  0.0000  0.3333  0.0000\n",
      "8  CS_Cache_to_Delay  MissClass   0.0   0.0    0.0  0.0000  0.3333  0.0000\n"
     ]
    }
   ],
   "execution_count": 8
  }
 ],
 "metadata": {
  "kernelspec": {
   "display_name": "Python 3",
   "language": "python",
   "name": "python3"
  },
  "language_info": {
   "codemirror_mode": {
    "name": "ipython",
    "version": 3
   },
   "file_extension": ".py",
   "mimetype": "text/x-python",
   "name": "python",
   "nbconvert_exporter": "python",
   "pygments_lexer": "ipython3",
   "version": "3.8.0"
  }
 },
 "nbformat": 4,
 "nbformat_minor": 4
}
