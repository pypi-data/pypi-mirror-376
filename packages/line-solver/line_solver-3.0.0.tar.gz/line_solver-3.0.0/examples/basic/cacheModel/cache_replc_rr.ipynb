{
 "cells": [
  {
   "metadata": {
    "ExecuteTime": {
     "end_time": "2025-07-30T22:08:29.992449Z",
     "start_time": "2025-07-30T22:08:29.003009Z"
    }
   },
   "cell_type": "code",
   "source": [
    "from line_solver import *\n",
    "import numpy as np\n",
    "\n",
    "GlobalConstants.set_verbose(VerboseLevel.STD)"
   ],
   "id": "2c12645d075cb4ad",
   "outputs": [],
   "execution_count": 1
  },
  {
   "metadata": {
    "ExecuteTime": {
     "end_time": "2025-07-30T22:08:30.130466Z",
     "start_time": "2025-07-30T22:08:30.042688Z"
    }
   },
   "cell_type": "code",
   "source": [
    "model = Network('model')\n",
    "\n",
    "n = 5  # number of items\n",
    "m = 2  # cache capacity\n",
    "\n",
    "source = Source(model, 'Source')\n",
    "cacheNode = Cache(model, 'Cache', n, m, ReplacementStrategy.RR)\n",
    "sink = Sink(model, 'Sink')\n",
    "\n",
    "jobClass = OpenClass(model, 'InitClass', 0)\n",
    "hitClass = OpenClass(model, 'HitClass', 0)\n",
    "missClass = OpenClass(model, 'MissClass', 0)\n",
    "\n",
    "source.set_arrival(jobClass, Exp(2))\n",
    "\n",
    "#pAccess = DiscreteSampler((1/n)*ones(1,n))  # uniform item references\n",
    "pAccess = Zipf(1.4, n)  # Zipf-like item references\n",
    "cacheNode.set_read(jobClass, pAccess)\n",
    "\n",
    "cacheNode.set_hit_class(jobClass, hitClass)\n",
    "cacheNode.set_miss_class(jobClass, missClass)\n",
    "\n",
    "P = model.init_routing_matrix()\n",
    "P.set(jobClass, jobClass, source, cacheNode, 1.0)\n",
    "P.set(hitClass, hitClass, cacheNode, sink, 1.0)\n",
    "P.set(missClass, missClass, cacheNode, sink, 1.0)\n",
    "\n",
    "model.link(P)"
   ],
   "id": "a71b02657afadf35",
   "outputs": [],
   "execution_count": 2
  },
  {
   "metadata": {
    "ExecuteTime": {
     "end_time": "2025-07-30T22:08:30.371031Z",
     "start_time": "2025-07-30T22:08:30.140497Z"
    }
   },
   "cell_type": "code",
   "source": [
    "solver = np.empty(4, dtype=object)\n",
    "AvgTable = np.empty(4, dtype=object)\n",
    "\n",
    "solver[0] = SolverCTMC(model, keep=False, cutoff=1, seed=1)\n",
    "AvgTable[0] = solver[0].getAvgNodeTable()"
   ],
   "id": "c9fd311968bcf178",
   "outputs": [
    {
     "name": "stdout",
     "output_type": "stream",
     "text": [
      "CTMC analysis [method: default, lang: java, env: 21.0.8] completed in 0.156982s.\n",
      "     Node   JobClass  QLen  Util  RespT  ResidT  ArvR  Tput\n",
      "0  Source  InitClass   0.0   0.0    0.0     0.0   0.0   2.0\n",
      "3   Cache  InitClass   0.0   0.0    0.0     0.0   2.0   0.0\n",
      "4   Cache   HitClass   0.0   0.0    0.0     0.0   0.0   2.0\n",
      "7    Sink   HitClass   0.0   0.0    0.0     0.0   2.0   0.0\n"
     ]
    }
   ],
   "execution_count": 3
  },
  {
   "cell_type": "code",
   "id": "rmw8ku5mwy",
   "source": [
    "model.reset()\n",
    "solver[1] = SolverSSA(model, samples=10000, verbose=True, method=\"serial\", seed=1)\n",
    "AvgTable[1] = solver[1].getAvgNodeTable()"
   ],
   "metadata": {
    "ExecuteTime": {
     "end_time": "2025-07-30T22:08:31.207482Z",
     "start_time": "2025-07-30T22:08:30.380892Z"
    }
   },
   "outputs": [
    {
     "name": "stdout",
     "output_type": "stream",
     "text": [
      "SSA samples:   10000\n",
      "SSA analysis [method: serial, lang: java, env: 21.0.8] completed in 0.728864s. Iterations: 10001.\n",
      "     Node   JobClass  QLen  Util  RespT  ResidT    ArvR    Tput\n",
      "0  Source  InitClass   0.0   0.0    0.0     0.0  0.0000  2.0000\n",
      "3   Cache  InitClass   0.0   0.0    0.0     0.0  2.0000  0.0000\n",
      "4   Cache   HitClass   0.0   0.0    0.0     0.0  0.0000  1.1633\n",
      "5   Cache  MissClass   0.0   0.0    0.0     0.0  0.0000  0.8367\n",
      "7    Sink   HitClass   0.0   0.0    0.0     0.0  1.1633  0.0000\n",
      "8    Sink  MissClass   0.0   0.0    0.0     0.0  0.8367  0.0000\n"
     ]
    }
   ],
   "execution_count": 4
  },
  {
   "cell_type": "code",
   "id": "s4twieap75j",
   "source": [
    "model.reset()\n",
    "solver[2] = SolverMVA(model, seed=1)\n",
    "AvgTable[2] = solver[2].getAvgNodeTable()"
   ],
   "metadata": {
    "ExecuteTime": {
     "end_time": "2025-07-30T22:08:31.233942Z",
     "start_time": "2025-07-30T22:08:31.217889Z"
    }
   },
   "outputs": [
    {
     "name": "stdout",
     "output_type": "stream",
     "text": [
      "MVA analysis [method: default(fpi), lang: java, env: 21.0.8] completed in 0.004558s.\n",
      "     Node   JobClass  QLen  Util  RespT  ResidT    ArvR    Tput\n",
      "0  Source  InitClass   0.0   0.0    0.0     0.0  0.0000  2.0000\n",
      "3   Cache  InitClass   0.0   0.0    0.0     0.0  2.0000  0.0000\n",
      "4   Cache   HitClass   0.0   0.0    0.0     0.0  0.0000  1.1127\n",
      "5   Cache  MissClass   0.0   0.0    0.0     0.0  0.0000  0.8873\n",
      "7    Sink   HitClass   0.0   0.0    0.0     0.0  1.1127  0.0000\n",
      "8    Sink  MissClass   0.0   0.0    0.0     0.0  0.8873  0.0000\n"
     ]
    }
   ],
   "execution_count": 5
  },
  {
   "cell_type": "code",
   "id": "ij6wnmnnk7q",
   "source": [
    "model.reset()\n",
    "solver[3] = SolverNC(model, seed=1)\n",
    "AvgTable[3] = solver[3].getAvgNodeTable()\n",
    "\n",
    "hitRatio = cacheNode.hit_ratio()\n",
    "missRatio = cacheNode.miss_ratio()\n",
    "print(f\"hitRatio = {hitRatio}\")\n",
    "print(f\"missRatio = {missRatio}\")"
   ],
   "metadata": {
    "ExecuteTime": {
     "end_time": "2025-07-30T22:08:31.326898Z",
     "start_time": "2025-07-30T22:08:31.279723Z"
    }
   },
   "outputs": [
    {
     "name": "stdout",
     "output_type": "stream",
     "text": [
      "NC analysis [method: default(rayint), lang: java, env: 21.0.8] completed in 0.033308s. Iterations: 100000.\n",
      "     Node   JobClass  QLen  Util  RespT  ResidT    ArvR    Tput\n",
      "0  Source  InitClass   0.0   0.0    0.0     0.0  0.0000  2.0000\n",
      "3   Cache  InitClass   0.0   0.0    0.0     0.0  2.0000  0.0000\n",
      "4   Cache   HitClass   0.0   0.0    0.0     0.0  0.0000  1.1722\n",
      "5   Cache  MissClass   0.0   0.0    0.0     0.0  0.0000  0.8278\n",
      "7    Sink   HitClass   0.0   0.0    0.0     0.0  1.1722  0.0000\n",
      "8    Sink  MissClass   0.0   0.0    0.0     0.0  0.8278  0.0000\n",
      "hitRatio = [[0.58609163 0.         0.        ]]\n",
      "missRatio = [[0.41390837 1.         1.        ]]\n"
     ]
    }
   ],
   "execution_count": 6
  }
 ],
 "metadata": {
  "kernelspec": {
   "display_name": "Python 3",
   "language": "python",
   "name": "python3"
  },
  "language_info": {
   "codemirror_mode": {
    "name": "ipython",
    "version": 2
   },
   "file_extension": ".py",
   "mimetype": "text/x-python",
   "name": "python",
   "nbconvert_exporter": "python",
   "pygments_lexer": "ipython2",
   "version": "2.7.6"
  }
 },
 "nbformat": 4,
 "nbformat_minor": 5
}
