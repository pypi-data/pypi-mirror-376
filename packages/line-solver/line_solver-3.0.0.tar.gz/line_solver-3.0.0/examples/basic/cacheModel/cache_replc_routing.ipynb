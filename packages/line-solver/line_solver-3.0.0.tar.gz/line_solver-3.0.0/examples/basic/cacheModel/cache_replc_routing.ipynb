{
 "cells": [
  {
   "cell_type": "code",
   "metadata": {
    "ExecuteTime": {
     "end_time": "2025-09-06T04:50:45.405543Z",
     "start_time": "2025-09-06T04:50:45.403771Z"
    }
   },
   "source": [
    "# Cache with state dependent routing\n",
    "from line_solver import *\n",
    "import numpy as np\n",
    "GlobalConstants.set_verbose(VerboseLevel.STD)"
   ],
   "outputs": [],
   "execution_count": 15
  },
  {
   "cell_type": "markdown",
   "metadata": {},
   "source": [
    "## Invalid Routing Setup (Demonstrates Error)"
   ]
  },
  {
   "cell_type": "code",
   "metadata": {
    "ExecuteTime": {
     "end_time": "2025-09-06T04:50:45.456152Z",
     "start_time": "2025-09-06T04:50:45.451528Z"
    }
   },
   "source": [
    "# First demonstrate invalid routing setup that will trigger an error\n",
    "print('First demonstrating invalid routing setup for a cache that triggers an exception:\\n')\n",
    "\n",
    "model = Network('model')\n",
    "\n",
    "# Model parameters\n",
    "n = 5  # number of items\n",
    "m = 2  # cache capacity\n",
    "\n",
    "# Create nodes (without Router initially to demonstrate error)\n",
    "source = Source(model, 'Source')\n",
    "cacheNode = Cache(model, 'Cache', n, m, ReplacementStrategy.FIFO)\n",
    "delay1 = Delay(model, 'Delay1')\n",
    "delay2 = Delay(model, 'Delay2')\n",
    "sink = Sink(model, 'Sink')\n",
    "\n",
    "# Create classes\n",
    "jobClass = OpenClass(model, 'InitClass', 0)\n",
    "hitClass = OpenClass(model, 'HitClass', 0)\n",
    "missClass = OpenClass(model, 'MissClass', 0)\n",
    "\n",
    "# Set arrival process\n",
    "source.set_arrival(jobClass, Exp(2))\n",
    "\n",
    "# Set service processes\n",
    "delay1.set_service(hitClass, Exp(10))\n",
    "delay1.set_service(missClass, Exp(1))\n",
    "delay2.set_service(hitClass, Exp(20))\n",
    "delay2.set_service(missClass, Exp(2))\n",
    "\n",
    "# Set cache configuration\n",
    "# Uniform item references - use Python list instead of Matrix\n",
    "prob_array = [1.0/n] * n\n",
    "pAccess = DiscreteSampler(prob_array)\n",
    "cacheNode.set_read(jobClass, pAccess)\n",
    "cacheNode.set_hit_class(jobClass, hitClass)\n",
    "cacheNode.set_miss_class(jobClass, missClass)\n",
    "\n",
    "# Add links (direct from cache to delays - this will cause error)\n",
    "model.add_link(source, cacheNode)\n",
    "model.add_link(cacheNode, delay1)\n",
    "model.add_link(cacheNode, delay2)\n",
    "model.add_link(delay1, sink)\n",
    "model.add_link(delay2, sink)\n",
    "\n",
    "# Set routing\n",
    "source.setProbRouting(jobClass, cacheNode, 1.0)\n",
    "\n",
    "# Try to set routing strategy on cache node - this should trigger an error\n",
    "try:\n",
    "    cacheNode.set_routing(hitClass, RoutingStrategy.RROBIN)\n",
    "    print('ERROR: Setting routing strategy on cache node should have failed!')\n",
    "except Exception as e:\n",
    "    print(f'Expected error occurred: {e}')\n",
    "    print('\\nWe now illustrate the correct setup of the same model using a Router node.\\n')"
   ],
   "outputs": [
    {
     "name": "stdout",
     "output_type": "stream",
     "text": [
      "First demonstrating invalid routing setup for a cache that triggers an exception:\n",
      "\n",
      "ERROR: Setting routing strategy on cache node should have failed!\n"
     ]
    }
   ],
   "execution_count": 16
  },
  {
   "cell_type": "markdown",
   "metadata": {},
   "source": [
    "## Correct Model Setup with Router Node"
   ]
  },
  {
   "cell_type": "code",
   "metadata": {
    "ExecuteTime": {
     "end_time": "2025-09-06T04:50:45.507419Z",
     "start_time": "2025-09-06T04:50:45.502761Z"
    }
   },
   "source": [
    "# Create correct model with Router node\n",
    "model = Network('model')\n",
    "\n",
    "# Model parameters\n",
    "n = 5  # number of items\n",
    "m = 2  # cache capacity\n",
    "\n",
    "# Create nodes (now including Router)\n",
    "source = Source(model, 'Source')\n",
    "cacheNode = Cache(model, 'Cache', n, m, ReplacementStrategy.FIFO)\n",
    "routerNode = Router(model, 'Router')  # Router node for correct routing\n",
    "delay1 = Delay(model, 'Delay1')\n",
    "delay2 = Delay(model, 'Delay2')\n",
    "sink = Sink(model, 'Sink')\n",
    "\n",
    "# Create classes\n",
    "jobClass = OpenClass(model, 'InitClass', 0)\n",
    "hitClass = OpenClass(model, 'HitClass', 0)\n",
    "missClass = OpenClass(model, 'MissClass', 0)\n",
    "\n",
    "# Set arrival process\n",
    "source.set_arrival(jobClass, Exp(2))\n",
    "\n",
    "# Set service processes\n",
    "delay1.set_service(hitClass, Exp(10))\n",
    "delay1.set_service(missClass, Exp(1))\n",
    "delay2.set_service(hitClass, Exp(20))\n",
    "delay2.set_service(missClass, Exp(2))\n",
    "\n",
    "# Set cache configuration\n",
    "# Uniform item references - use Python list instead of Matrix\n",
    "prob_array = [1.0/n] * n\n",
    "pAccess = DiscreteSampler(prob_array)\n",
    "cacheNode.set_read(jobClass, pAccess)\n",
    "cacheNode.set_hit_class(jobClass, hitClass)\n",
    "cacheNode.set_miss_class(jobClass, missClass)\n",
    "\n",
    "# Add links (now using Router as intermediary)\n",
    "model.add_link(source, cacheNode)\n",
    "model.add_link(cacheNode, routerNode)  # Cache to Router\n",
    "model.add_link(routerNode, delay1)     # Router to Delay1\n",
    "model.add_link(routerNode, delay2)     # Router to Delay2\n",
    "model.add_link(delay1, sink)\n",
    "model.add_link(delay2, sink)\n",
    "\n",
    "# Set routing\n",
    "source.setProbRouting(jobClass, cacheNode, 1.0)\n",
    "\n",
    "# Cache routes both hit and miss to router\n",
    "cacheNode.setProbRouting(hitClass, routerNode, 1.0)\n",
    "cacheNode.setProbRouting(missClass, routerNode, 1.0)\n",
    "\n",
    "# Router uses RAND strategy for both classes\n",
    "routerNode.set_routing(hitClass, RoutingStrategy.RAND)\n",
    "routerNode.set_routing(missClass, RoutingStrategy.RAND)\n",
    "\n",
    "# Delays route to sink\n",
    "delay1.setProbRouting(hitClass, sink, 1.0)\n",
    "delay1.setProbRouting(missClass, sink, 1.0)\n",
    "delay2.setProbRouting(hitClass, sink, 1.0)\n",
    "delay2.setProbRouting(missClass, sink, 1.0)"
   ],
   "outputs": [],
   "execution_count": 17
  },
  {
   "cell_type": "markdown",
   "metadata": {},
   "source": [
    "## Solve with Different Solvers"
   ]
  },
  {
   "cell_type": "code",
   "metadata": {
    "ExecuteTime": {
     "end_time": "2025-09-06T04:51:01.042489Z",
     "start_time": "2025-09-06T04:50:45.551997Z"
    }
   },
   "source": [
    "# Initialize solver list\n",
    "solvers = []\n",
    "\n",
    "# SolverCTMC\n",
    "solvers.append(SolverCTMC(model, keep=False, cutoff=1, seed=1))\n",
    "print('SOLVER: SolverCTMC')\n",
    "AvgTable1 = solvers[0].getAvgNodeTable()"
   ],
   "outputs": [
    {
     "name": "stdout",
     "output_type": "stream",
     "text": [
      "SOLVER: SolverCTMC\n",
      "      Node   JobClass    QLen    Util  RespT  ResidT        ArvR        Tput\n",
      "0   Source  InitClass  0.0000  0.0000   0.00    0.00  0.0000e+00  6.3194e-01\n",
      "3    Cache  InitClass  0.0000  0.0000   0.00    0.00  6.3194e-01  0.0000e+00\n",
      "4    Cache   HitClass  0.0000  0.0000   0.00    0.00  0.0000e+00  2.5278e-01\n",
      "5    Cache  MissClass  0.0000  0.0000   0.00    0.00  0.0000e+00  3.7917e-01\n",
      "7   Router   HitClass  0.0000  0.0000   0.00    0.00  2.5278e-01  2.5278e-01\n",
      "8   Router  MissClass  0.0000  0.0000   0.00    0.00  3.7917e-01  3.7917e-01\n",
      "10  Delay1   HitClass  0.2305  0.2305   0.10    0.04  1.2639e-01  1.2639e-01\n",
      "11  Delay1  MissClass  0.3006  0.3006   1.00    0.60  1.8958e-01  1.8958e-01\n",
      "12  Delay2  InitClass  0.0000  0.0000   0.00    0.00  3.0068e-17  3.0068e-17\n",
      "13  Delay2   HitClass  0.2275  0.2275   0.05    0.02  1.2639e-01  1.2639e-01\n",
      "14  Delay2  MissClass  0.2797  0.2797   0.50    0.30  1.8958e-01  1.8958e-01\n",
      "15    Sink  InitClass  0.0000  0.0000   0.00    0.00  3.0068e-17  0.0000e+00\n",
      "16    Sink   HitClass  0.0000  0.0000   0.00    0.00  2.5278e-01  0.0000e+00\n",
      "17    Sink  MissClass  0.0000  0.0000   0.00    0.00  3.7917e-01  0.0000e+00\n"
     ]
    }
   ],
   "execution_count": 18
  },
  {
   "cell_type": "code",
   "metadata": {
    "ExecuteTime": {
     "end_time": "2025-09-06T04:51:02.654886Z",
     "start_time": "2025-09-06T04:51:01.093548Z"
    }
   },
   "source": [
    "# Reset model\n",
    "model.reset()\n",
    "\n",
    "# SolverSSA\n",
    "solvers.append(SolverSSA(model, samples=10000, verbose=True, method='serial', seed=23000))\n",
    "print('\\nSOLVER: SolverSSA')\n",
    "AvgTable2 = solvers[1].getAvgNodeTable()"
   ],
   "outputs": [
    {
     "name": "stdout",
     "output_type": "stream",
     "text": [
      "\n",
      "SOLVER: SolverSSA\n",
      "SSA samples:   10000\n",
      "      Node   JobClass    QLen    Util  RespT  ResidT        ArvR        Tput\n",
      "0   Source  InitClass  0.0000  0.0000   0.00  0.0000  0.0000e+00  2.0000e+00\n",
      "3    Cache  InitClass  0.0000  0.0000   0.00  0.0000  2.0000e+00  0.0000e+00\n",
      "4    Cache   HitClass  0.0000  0.0000   0.00  0.0000  0.0000e+00  7.5448e-01\n",
      "5    Cache  MissClass  0.0000  0.0000   0.00  0.0000  0.0000e+00  1.2455e+00\n",
      "7   Router   HitClass  0.0000  0.0000   0.00  0.0000  7.5448e-01  7.5448e-01\n",
      "8   Router  MissClass  0.0000  0.0000   0.00  0.0000  1.2455e+00  1.2455e+00\n",
      "10  Delay1   HitClass  0.0432  0.0432   0.10  0.0377  3.7724e-01  3.7724e-01\n",
      "11  Delay1  MissClass  0.6275  0.6275   1.00  0.6228  6.2276e-01  6.2276e-01\n",
      "12  Delay2  InitClass  0.0000  0.0000   0.00  0.0000  9.5162e-17  9.5162e-17\n",
      "13  Delay2   HitClass  0.0184  0.0184   0.05  0.0189  3.7724e-01  3.7724e-01\n",
      "14  Delay2  MissClass  0.2905  0.2905   0.50  0.3114  6.2276e-01  6.2276e-01\n",
      "15    Sink  InitClass  0.0000  0.0000   0.00  0.0000  9.5162e-17  0.0000e+00\n",
      "16    Sink   HitClass  0.0000  0.0000   0.00  0.0000  7.5448e-01  0.0000e+00\n",
      "17    Sink  MissClass  0.0000  0.0000   0.00  0.0000  1.2455e+00  0.0000e+00\n"
     ]
    }
   ],
   "execution_count": 19
  },
  {
   "cell_type": "code",
   "metadata": {
    "ExecuteTime": {
     "end_time": "2025-09-06T04:51:02.722524Z",
     "start_time": "2025-09-06T04:51:02.704030Z"
    }
   },
   "source": [
    "# Reset model\n",
    "model.reset()\n",
    "\n",
    "# SolverMVA\n",
    "solvers.append(SolverMVA(model))\n",
    "print('\\nSOLVER: SolverMVA')\n",
    "AvgTable3 = solvers[2].getAvgNodeTable()"
   ],
   "outputs": [
    {
     "name": "stdout",
     "output_type": "stream",
     "text": [
      "\n",
      "SOLVER: SolverMVA\n",
      "      Node   JobClass  QLen  Util  RespT  ResidT        ArvR        Tput\n",
      "0   Source  InitClass  0.00  0.00   0.00    0.00  0.0000e+00  2.0000e+00\n",
      "3    Cache  InitClass  0.00  0.00   0.00    0.00  2.0000e+00  0.0000e+00\n",
      "4    Cache   HitClass  0.00  0.00   0.00    0.00  0.0000e+00  8.0000e-01\n",
      "5    Cache  MissClass  0.00  0.00   0.00    0.00  0.0000e+00  1.2000e+00\n",
      "7   Router   HitClass  0.00  0.00   0.00    0.00  8.0000e-01  8.0000e-01\n",
      "8   Router  MissClass  0.00  0.00   0.00    0.00  1.2000e+00  1.2000e+00\n",
      "10  Delay1   HitClass  0.04  0.04   0.10    0.04  4.0000e-01  4.0000e-01\n",
      "11  Delay1  MissClass  0.60  0.60   1.00    0.60  6.0000e-01  6.0000e-01\n",
      "12  Delay2  InitClass  0.00  0.00   0.00    0.00  1.9032e-16  1.9032e-16\n",
      "13  Delay2   HitClass  0.02  0.02   0.05    0.02  4.0000e-01  4.0000e-01\n",
      "14  Delay2  MissClass  0.30  0.30   0.50    0.30  6.0000e-01  6.0000e-01\n",
      "15    Sink  InitClass  0.00  0.00   0.00    0.00  1.9032e-16  0.0000e+00\n",
      "16    Sink   HitClass  0.00  0.00   0.00    0.00  8.0000e-01  0.0000e+00\n",
      "17    Sink  MissClass  0.00  0.00   0.00    0.00  1.2000e+00  0.0000e+00\n"
     ]
    }
   ],
   "execution_count": 20
  },
  {
   "cell_type": "code",
   "metadata": {
    "ExecuteTime": {
     "end_time": "2025-09-06T04:51:02.774729Z",
     "start_time": "2025-09-06T04:51:02.751814Z"
    }
   },
   "source": [
    "# Reset model\n",
    "model.reset()\n",
    "\n",
    "# SolverNC\n",
    "solvers.append(SolverNC(model))\n",
    "print('\\nSOLVER: SolverNC')\n",
    "AvgTable4 = solvers[3].getAvgNodeTable()\n",
    "print(AvgTable4)\n",
    "\n",
    "# Get cache metrics\n",
    "print(f'\\nHit Ratio: {cacheNode.hit_ratio()}')\n",
    "print(f'Miss Ratio: {cacheNode.miss_ratio()}')"
   ],
   "outputs": [
    {
     "name": "stdout",
     "output_type": "stream",
     "text": [
      "\n",
      "SOLVER: SolverNC\n",
      "      Node   JobClass    QLen    Util  RespT  ResidT    ArvR    Tput\n",
      "0   Source  InitClass  0.0000  0.0000   0.00  0.0000  0.0000  2.0000\n",
      "3    Cache  InitClass  0.0000  0.0000   0.00  0.0000  2.0000  0.0000\n",
      "4    Cache   HitClass  0.0000  0.0000   0.00  0.0000  0.0000  0.7885\n",
      "5    Cache  MissClass  0.0000  0.0000   0.00  0.0000  0.0000  1.2115\n",
      "7   Router   HitClass  0.0000  0.0000   0.00  0.0000  0.7885  0.7885\n",
      "8   Router  MissClass  0.0000  0.0000   0.00  0.0000  1.2115  1.2115\n",
      "10  Delay1   HitClass  0.0394  0.0394   0.10  0.0394  0.3943  0.3943\n",
      "11  Delay1  MissClass  0.6057  0.6057   1.00  0.6057  0.6057  0.6057\n",
      "13  Delay2   HitClass  0.0197  0.0197   0.05  0.0197  0.3943  0.3943\n",
      "14  Delay2  MissClass  0.3029  0.3029   0.50  0.3029  0.6057  0.6057\n",
      "16    Sink   HitClass  0.0000  0.0000   0.00  0.0000  0.7885  0.0000\n",
      "17    Sink  MissClass  0.0000  0.0000   0.00  0.0000  1.2115  0.0000\n",
      "      Node   JobClass    QLen    Util  RespT  ResidT    ArvR    Tput\n",
      "0   Source  InitClass  0.0000  0.0000   0.00  0.0000  0.0000  2.0000\n",
      "3    Cache  InitClass  0.0000  0.0000   0.00  0.0000  2.0000  0.0000\n",
      "4    Cache   HitClass  0.0000  0.0000   0.00  0.0000  0.0000  0.7885\n",
      "5    Cache  MissClass  0.0000  0.0000   0.00  0.0000  0.0000  1.2115\n",
      "7   Router   HitClass  0.0000  0.0000   0.00  0.0000  0.7885  0.7885\n",
      "8   Router  MissClass  0.0000  0.0000   0.00  0.0000  1.2115  1.2115\n",
      "10  Delay1   HitClass  0.0394  0.0394   0.10  0.0394  0.3943  0.3943\n",
      "11  Delay1  MissClass  0.6057  0.6057   1.00  0.6057  0.6057  0.6057\n",
      "13  Delay2   HitClass  0.0197  0.0197   0.05  0.0197  0.3943  0.3943\n",
      "14  Delay2  MissClass  0.3029  0.3029   0.50  0.3029  0.6057  0.6057\n",
      "16    Sink   HitClass  0.0000  0.0000   0.00  0.0000  0.7885  0.0000\n",
      "17    Sink  MissClass  0.0000  0.0000   0.00  0.0000  1.2115  0.0000\n",
      "\n",
      "Hit Ratio: [[0.39426267 0.         0.        ]]\n",
      "Miss Ratio: [[0.60573733 0.         0.        ]]\n"
     ]
    }
   ],
   "execution_count": 21
  }
 ],
 "metadata": {
  "kernelspec": {
   "display_name": "Python 3",
   "language": "python",
   "name": "python3"
  },
  "language_info": {
   "codemirror_mode": {
    "name": "ipython",
    "version": 3
   },
   "file_extension": ".py",
   "mimetype": "text/x-python",
   "name": "python",
   "nbconvert_exporter": "python",
   "pygments_lexer": "ipython3",
   "version": "3.8.10"
  }
 },
 "nbformat": 4,
 "nbformat_minor": 4
}
