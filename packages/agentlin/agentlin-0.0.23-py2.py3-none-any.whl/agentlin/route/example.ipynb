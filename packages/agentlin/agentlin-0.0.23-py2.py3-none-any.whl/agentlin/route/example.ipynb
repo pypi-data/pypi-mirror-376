{
 "cells": [
  {
   "cell_type": "markdown",
   "id": "bc5aac09",
   "metadata": {},
   "source": [
    "# Code for Interpreter"
   ]
  },
  {
   "cell_type": "code",
   "execution_count": null,
   "id": "code_for_interpreter",
   "metadata": {
    "type": "code_for_interpreter"
   },
   "outputs": [],
   "source": [
    "print(\"init\")"
   ]
  },
  {
   "cell_type": "markdown",
   "id": "712927cc",
   "metadata": {},
   "source": [
    "# Code for Agent"
   ]
  },
  {
   "cell_type": "code",
   "execution_count": null,
   "id": "code_for_agent",
   "metadata": {
    "type": "code_for_agent"
   },
   "outputs": [],
   "source": [
    "print(\"init\")"
   ]
  },
  {
   "cell_type": "markdown",
   "id": "1b0e4347",
   "metadata": {},
   "source": [
    "# Developer Prompt"
   ]
  },
  {
   "cell_type": "raw",
   "id": "developer_prompt",
   "metadata": {
    "type": "developer_prompt",
    "vscode": {
     "languageId": "raw"
    }
   },
   "source": [
    "your system prompt here"
   ]
  },
  {
   "cell_type": "markdown",
   "id": "eb8f2f43",
   "metadata": {},
   "source": [
    "# 调试"
   ]
  },
  {
   "cell_type": "code",
   "execution_count": null,
   "id": "583f5c9e",
   "metadata": {},
   "outputs": [],
   "source": []
  }
 ],
 "metadata": {
  "kernelspec": {
   "display_name": "agent",
   "language": "python",
   "name": "python3"
  },
  "language_info": {
   "codemirror_mode": {
    "name": "ipython",
    "version": 3
   },
   "file_extension": ".py",
   "mimetype": "text/x-python",
   "name": "python",
   "nbconvert_exporter": "python",
   "pygments_lexer": "ipython3",
   "version": "3.11.5"
  }
 },
 "nbformat": 4,
 "nbformat_minor": 5
}
