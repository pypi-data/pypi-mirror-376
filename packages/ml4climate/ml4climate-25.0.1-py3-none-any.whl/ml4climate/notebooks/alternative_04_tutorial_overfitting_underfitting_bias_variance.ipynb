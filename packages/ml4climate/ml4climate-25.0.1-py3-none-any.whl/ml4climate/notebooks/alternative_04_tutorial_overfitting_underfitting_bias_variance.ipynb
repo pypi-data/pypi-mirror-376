{
 "cells": [
  {
   "cell_type": "markdown",
   "id": "f7b500a8",
   "metadata": {},
   "source": [
    "# Tutorial: Overfitting/Underfitting and Bias/Variance\n",
    "\n",
    "[![Binder](https://mybinder.org/badge_logo.svg)](https://mybinder.org/v2/git/https%3A%2F%2Fgitlab.in2p3.fr%2Fenergy4climate%2Fpublic%2Feducation%2Fmachine_learning_for_climate_and_energy/master?filepath=book%2Fnotebooks%2F03_tutorial_overfitting_underfitting_bias_variance.ipynb)\n",
    "\n",
    "Tutorial to the class [Overfitting/Underfitting and Bias/Variance](03_overfitting_underfitting_bias_variance.ipynb) based on the same case study as in [Tutorial: Supervised Learning Problem and Least Squares](02_tutorial_supervised_learning_problem_ols.ipynb)."
   ]
  },
  {
   "cell_type": "markdown",
   "id": "884267e1",
   "metadata": {},
   "source": [
    "<div class=\"alert alert-block alert-info\">\n",
    "    <b>Tutorial Objectives</b>\n",
    "    \n",
    "- Evaluate model performance by estimating the Expected Prediction Errors (EPE) using test data\n",
    "- Same as above but with cross-validation\n",
    "- Compute and plot learning curves\n",
    "- Improve the models by modifying the input features\n",
    "</div>"
   ]
  },
  {
   "cell_type": "markdown",
   "id": "a00b50e8",
   "metadata": {},
   "source": [
    "## Getting ready\n",
    "\n",
    "Let us follow the same procedure as in [Tutorial: Supervised Learning Problem and Least Squares](02_tutorial_supervised_learning_problem_ols.ipynb) to import the required modules and read the data."
   ]
  },
  {
   "cell_type": "code",
   "execution_count": null,
   "id": "c4b6fdce",
   "metadata": {},
   "outputs": [],
   "source": [
    "# Path manipulation module\n",
    "from pathlib import Path\n",
    "# Numerical analysis module\n",
    "import numpy as np\n",
    "# Formatted numerical analysis module\n",
    "import pandas as pd\n",
    "# Plot module\n",
    "import matplotlib.pyplot as plt\n",
    "# Default colors\n",
    "RC_COLORS = plt.rcParams['axes.prop_cycle'].by_key()['color']\n",
    "# Matplotlib configuration\n",
    "plt.rc('font', size=14)\n",
    "\n",
    "# Set data directory\n",
    "data_dir = Path('data')\n",
    "\n",
    "# Set keyword arguments for pd.read_csv\n",
    "kwargs_read_csv = dict()\n",
    "\n",
    "# Set first and last years\n",
    "FIRST_YEAR = 2014\n",
    "LAST_YEAR = 2021\n",
    "\n",
    "# Define temperature filepath\n",
    "temp_filename = 'surface_temperature_merra2_{}-{}.csv'.format(\n",
    "    FIRST_YEAR, LAST_YEAR)\n",
    "temp_filepath = Path(data_dir, temp_filename)\n",
    "temp_label = 'Temperature (°C)'\n",
    "\n",
    "# Define electricity demand filepath\n",
    "dem_filename = 'reseaux_energies_demand_demand.csv'\n",
    "dem_filepath = Path(data_dir, dem_filename)\n",
    "dem_label = 'Electricity consumption (MWh)'\n",
    "\n",
    "# Read hourly temperature and demand data averaged over each region\n",
    "df_temp_hourly = pd.read_csv(temp_filepath, index_col=0, parse_dates=True, header=0)\n",
    "df_dem_hourly = pd.read_csv(dem_filepath, index_col=0, header=0, parse_dates=True)\n",
    "\n",
    "# Get daily-mean temperature and daily demand\n",
    "df_temp = df_temp_hourly.resample('D').mean()\n",
    "df_dem = df_dem_hourly.resample('D').sum()\n",
    "\n",
    "# Select Île-de-France region\n",
    "region_name = 'Île-de-France'\n",
    "df_temp_reg = df_temp[region_name]\n",
    "df_dem_reg = df_dem[region_name]\n",
    "\n",
    "# Number of years in dataset\n",
    "n_years = df_temp_reg.index.year.max() - df_temp_reg.index.year.min() + 1"
   ]
  },
  {
   "cell_type": "markdown",
   "id": "10e44c5d",
   "metadata": {},
   "source": [
    "## Estimating the prediction error using a test set"
   ]
  },
  {
   "cell_type": "markdown",
   "id": "f8563b26",
   "metadata": {},
   "source": [
    "> ***Question***\n",
    "> - Estimate the prediction error (prediction $R^2$) from 1 year of test data for Île-de-France using the other years to train an OLS.\n",
    "> - How does it compare to the train error estimated from the train data?\n",
    "> - Is the prediction $R^2$ an estimate of the expected prediction error or of the prediction error conditioned on some train dataset?\n",
    "> - Do you expect overfitting to have occurred?"
   ]
  },
  {
   "cell_type": "code",
   "execution_count": null,
   "id": "ca2f5cbd",
   "metadata": {},
   "outputs": [],
   "source": [
    "# answer cell\n"
   ]
  },
  {
   "cell_type": "markdown",
   "id": "d7edd55e",
   "metadata": {},
   "source": [
    "Answer:"
   ]
  },
  {
   "cell_type": "markdown",
   "id": "0f339cba",
   "metadata": {},
   "source": [
    "> ***Question***\n",
    "> - How does the prediction error change if it is computed based on the last 3 months of the year instead?\n",
    "> - Give at least 2 reasons to explain these changes."
   ]
  },
  {
   "cell_type": "code",
   "execution_count": null,
   "id": "b2bb01cb",
   "metadata": {},
   "outputs": [],
   "source": [
    "# answer cell\n"
   ]
  },
  {
   "cell_type": "markdown",
   "id": "1a090d02",
   "metadata": {},
   "source": [
    "Answer:"
   ]
  },
  {
   "cell_type": "markdown",
   "id": "1b7a1863",
   "metadata": {},
   "source": [
    "### Learning curve"
   ]
  },
  {
   "cell_type": "markdown",
   "id": "1e4ecf34",
   "metadata": {},
   "source": [
    "> ***Question***\n",
    "> - Compute and plot a learning curve. To do so:\n",
    ">   - Set 1 year of data aside to compute the test error always on the same period\n",
    ">   - Define a list of train period of increasing lengths\n",
    ">   - Loop over these train periods to iteratively:\n",
    ">     - Select data for this train period\n",
    ">     - Train the model\n",
    ">     - Compute the train error from the train data for the train period\n",
    ">     - Compute the test error from the test data for the test period\n",
    ">     - Save both errors\n",
    ">   - Plot both errors curves\n",
    "> - Interpret the results."
   ]
  },
  {
   "cell_type": "code",
   "execution_count": null,
   "id": "f08d5f94-1aae-4318-ba57-4a84aebc45d9",
   "metadata": {},
   "outputs": [],
   "source": [
    "# answer cell\n"
   ]
  },
  {
   "cell_type": "code",
   "execution_count": null,
   "id": "308817cc-b0bc-4d08-95e9-e524473cc46f",
   "metadata": {},
   "outputs": [],
   "source": [
    "# answer cell\n"
   ]
  },
  {
   "cell_type": "markdown",
   "id": "0b96bde4",
   "metadata": {},
   "source": [
    "Answer: "
   ]
  },
  {
   "cell_type": "markdown",
   "id": "fd0b3a73",
   "metadata": {},
   "source": [
    "> ***Question***\n",
    "> - Same question as above but for 2 years of test data.\n",
    "> - Compare the results using 1 year and 2 years of test data."
   ]
  },
  {
   "cell_type": "code",
   "execution_count": null,
   "id": "d51facfc",
   "metadata": {},
   "outputs": [],
   "source": [
    "# answer cell\n"
   ]
  },
  {
   "cell_type": "markdown",
   "id": "fa377ada",
   "metadata": {},
   "source": [
    "Answer: "
   ]
  },
  {
   "cell_type": "markdown",
   "id": "536677a7",
   "metadata": {},
   "source": [
    "## Estimating the expected prediction error with cross-validation"
   ]
  },
  {
   "cell_type": "markdown",
   "id": "b96af599",
   "metadata": {},
   "source": [
    "> ***Question***\n",
    "> - Perform a $k$-fold cross-validation of your own by repeating the above estimation of the test error on all years. To do so:\n",
    ">   - Use the `split` method of a `sklearn.model_selection.KFold` object initialized with the `n_splits` option to get a sequence train and test indices over which to loop.\n",
    ">   - For each pair of train and test indices:\n",
    ">     - Select the train and test data from the input and output data;\n",
    ">     - Fit the model using the train data;\n",
    ">     - Use the fitted model to predict the target from the test inputs;\n",
    ">     - Estimate the $R^2$ from the test output.\n",
    ">   - Average the $R^2$ estimates."
   ]
  },
  {
   "cell_type": "code",
   "execution_count": null,
   "id": "b6a8db64",
   "metadata": {},
   "outputs": [],
   "source": [
    "# answer cell\n"
   ]
  },
  {
   "cell_type": "markdown",
   "id": "e35e1b0d",
   "metadata": {},
   "source": [
    "> ***Question***\n",
    "> - Verify your results using the `cross_val_score` function of `sklearn.model_selection` with the appropriate value for the `cv` option.\n",
    "> - How does the $R^2$ estimate from the cross-validation compare to your estimation above?"
   ]
  },
  {
   "cell_type": "code",
   "execution_count": null,
   "id": "fadc17f9",
   "metadata": {},
   "outputs": [],
   "source": [
    "# answer cell\n"
   ]
  },
  {
   "cell_type": "markdown",
   "id": "87b2cb6c",
   "metadata": {},
   "source": [
    "Answer: "
   ]
  },
  {
   "cell_type": "markdown",
   "id": "ce2331a8",
   "metadata": {},
   "source": [
    "## Improving the linear model by adding features"
   ]
  },
  {
   "cell_type": "markdown",
   "id": "e2edd765-99e4-498c-b650-e71f3b972c28",
   "metadata": {},
   "source": [
    "### Adding a heating function to the model\n",
    "\n",
    "We know from consumer behavior and heating technologies that individual heating tends to increase linearly from no heating below some heating temperature $T_H \\approx 15$°C.\n",
    "\n",
    "This \"heating\" function is coded below and returned as a dictionnary."
   ]
  },
  {
   "cell_type": "code",
   "execution_count": null,
   "id": "2fe459b9-0c48-4186-9e1e-41a35e70a18a",
   "metadata": {},
   "outputs": [],
   "source": [
    "# Heating-temperature threshold\n",
    "TEMP_HEAT = 15.\n",
    "\n",
    "# Define function returning a dictionary from variable name\n",
    "# to variable train data with base and heating variables\n",
    "def get_heat(x):\n",
    "    return {\n",
    "        'heat': (TEMP_HEAT - x) * (x < TEMP_HEAT).astype(float)\n",
    "    }"
   ]
  },
  {
   "cell_type": "markdown",
   "id": "e88b2642-df38-40b8-a689-b5e94be832dc",
   "metadata": {},
   "source": [
    "> ***Question***\n",
    "> - Fit the heating model and plot its predictions.\n",
    "> - Compute the train and test learning curves for this model.\n",
    "> - Compare the results to the one-dimensional model and explain."
   ]
  },
  {
   "cell_type": "code",
   "execution_count": null,
   "id": "a87a2bc9",
   "metadata": {},
   "outputs": [],
   "source": [
    "# answer cell\n"
   ]
  },
  {
   "cell_type": "markdown",
   "id": "811e6a9d",
   "metadata": {},
   "source": [
    "Answer:"
   ]
  },
  {
   "cell_type": "markdown",
   "id": "46e190d5-70c8-4b99-851a-c7d5f6116a10",
   "metadata": {},
   "source": [
    "### Adding a cooling function to the model\n",
    "\n",
    "In southern regions where climates are relatively warm, air conditioning may be used when daily-mean temperatures increase above about 20°C.\n",
    "As a result, regional electricity demand increases somewhat linearly above this threshold.\n",
    "\n",
    "This \"cooling\" function is coded below and returned as a dictionnary together with the \"heating\" function defined above."
   ]
  },
  {
   "cell_type": "code",
   "execution_count": null,
   "id": "3f22a512-5bcb-404b-83a8-9422d9ac65f3",
   "metadata": {},
   "outputs": [],
   "source": [
    "#Cooling-temperature threshold\n",
    "TEMP_COOL = 20.\n",
    "\n",
    "# Define function returning a dictionary from variable name\n",
    "# to variable train data with base, heating and cooling variables\n",
    "def get_heat_cool(x):\n",
    "    return {\n",
    "        'heat': (TEMP_HEAT - x) * (x < TEMP_HEAT).astype(float),\n",
    "        'cool': (x - TEMP_COOL) * (x > TEMP_COOL).astype(float)\n",
    "    }"
   ]
  },
  {
   "cell_type": "markdown",
   "id": "820c512c-e008-4717-9e17-dd10881085a4",
   "metadata": {},
   "source": [
    "> ***Question***\n",
    "> - Apply and validate the heating and cooling model to the `\"Provence-Alpes-Côte d'Azur\"` region.\n",
    "> - Compare the skills of the linear model, the heating model and the heating and cooling model."
   ]
  },
  {
   "cell_type": "code",
   "execution_count": null,
   "id": "96834e4d",
   "metadata": {},
   "outputs": [],
   "source": [
    "# answer cell\n"
   ]
  },
  {
   "cell_type": "markdown",
   "id": "aa6ac18b",
   "metadata": {},
   "source": [
    "Answer: "
   ]
  },
  {
   "cell_type": "markdown",
   "id": "c467e84a",
   "metadata": {},
   "source": [
    "***\n",
    "## Credit\n",
    "\n",
    "[//]: # \"This notebook is part of [E4C Interdisciplinary Center - Education](https://gitlab.in2p3.fr/energy4climate/public/education).\"\n",
    "Contributors include Bruno Deremble and Alexis Tantet.\n",
    "Several slides and images are taken from the very good [Scikit-learn course](https://inria.github.io/scikit-learn-mooc/).\n",
    "\n",
    "<br>\n",
    "\n",
    "<div style=\"display: flex; height: 70px\">\n",
    "    \n",
    "<img alt=\"Logo LMD\" src=\"images/logos/logo_lmd.jpg\" style=\"display: inline-block\"/>\n",
    "\n",
    "<img alt=\"Logo IPSL\" src=\"images/logos/logo_ipsl.png\" style=\"display: inline-block\"/>\n",
    "\n",
    "<img alt=\"Logo E4C\" src=\"images/logos/logo_e4c_final.png\" style=\"display: inline-block\"/>\n",
    "\n",
    "<img alt=\"Logo EP\" src=\"images/logos/logo_ep.png\" style=\"display: inline-block\"/>\n",
    "\n",
    "<img alt=\"Logo SU\" src=\"images/logos/logo_su.png\" style=\"display: inline-block\"/>\n",
    "\n",
    "<img alt=\"Logo ENS\" src=\"images/logos/logo_ens.jpg\" style=\"display: inline-block\"/>\n",
    "\n",
    "<img alt=\"Logo CNRS\" src=\"images/logos/logo_cnrs.png\" style=\"display: inline-block\"/>\n",
    "    \n",
    "</div>\n",
    "\n",
    "<hr>\n",
    "\n",
    "<div style=\"display: flex\">\n",
    "    <a rel=\"license\" href=\"http://creativecommons.org/licenses/by-sa/4.0/\"><img alt=\"Creative Commons License\" style=\"border-width:0; margin-right: 10px\" src=\"https://i.creativecommons.org/l/by-sa/4.0/88x31.png\" /></a>\n",
    "    <br>This work is licensed under a &nbsp; <a rel=\"license\" href=\"http://creativecommons.org/licenses/by-sa/4.0/\">Creative Commons Attribution-ShareAlike 4.0 International License</a>.\n",
    "</div>"
   ]
  }
 ],
 "metadata": {
  "kernelspec": {
   "display_name": "Python 3 (ipykernel)",
   "language": "python",
   "name": "python3"
  },
  "language_info": {
   "codemirror_mode": {
    "name": "ipython",
    "version": 3
   },
   "file_extension": ".py",
   "mimetype": "text/x-python",
   "name": "python",
   "nbconvert_exporter": "python",
   "pygments_lexer": "ipython3",
   "version": "3.9.12"
  },
  "latex_envs": {
   "LaTeX_envs_menu_present": true,
   "autoclose": true,
   "autocomplete": false,
   "bibliofile": "biblio.bib",
   "cite_by": "apalike",
   "current_citInitial": 1,
   "eqLabelWithNumbers": true,
   "eqNumInitial": 1,
   "hotkeys": {
    "equation": "Ctrl-E",
    "itemize": "Ctrl-I"
   },
   "labels_anchors": false,
   "latex_user_defs": false,
   "report_style_numbering": false,
   "user_envs_cfg": false
  },
  "toc": {
   "base_numbering": 1,
   "nav_menu": {},
   "number_sections": true,
   "sideBar": true,
   "skip_h1_title": false,
   "title_cell": "Table of Contents",
   "title_sidebar": "Contents",
   "toc_cell": false,
   "toc_position": {},
   "toc_section_display": true,
   "toc_window_display": false
  },
  "varInspector": {
   "cols": {
    "lenName": 16,
    "lenType": 16,
    "lenVar": 40
   },
   "kernels_config": {
    "python": {
     "delete_cmd_postfix": "",
     "delete_cmd_prefix": "del ",
     "library": "var_list.py",
     "varRefreshCmd": "print(var_dic_list())"
    },
    "r": {
     "delete_cmd_postfix": ") ",
     "delete_cmd_prefix": "rm(",
     "library": "var_list.r",
     "varRefreshCmd": "cat(var_dic_list()) "
    }
   },
   "types_to_exclude": [
    "module",
    "function",
    "builtin_function_or_method",
    "instance",
    "_Feature"
   ],
   "window_display": false
  }
 },
 "nbformat": 4,
 "nbformat_minor": 5
}
