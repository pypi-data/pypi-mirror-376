{
 "cells": [
  {
   "cell_type": "markdown",
   "id": "76bc35cd",
   "metadata": {
    "slideshow": {
     "slide_type": "slide"
    }
   },
   "source": [
    "# Tutorial: Universal approximation theorem\n",
    "\n",
    "[![Binder](https://mybinder.org/badge_logo.svg)](https://mybinder.org/v2/git/https%3A%2F%2Fgitlab.in2p3.fr%2Fenergy4climate%2Fpublic%2Feducation%2Fmachine_learning_for_climate_and_energy/master?filepath=book%2Fnotebooks%2F10_tutorial_neural_networks.ipynb)\n",
    "\n",
    "Tutorial to the class [Neural Networks](10_neural_networks.ipynb)."
   ]
  },
  {
   "cell_type": "markdown",
   "id": "2948ff71",
   "metadata": {
    "slideshow": {
     "slide_type": "subslide"
    }
   },
   "source": [
    "## Objective\n",
    "\n",
    "The objective of this tutorial is to design a simple network in order to understand the arhitecture of a neural network. Then we will focus on the hyperparameters of the network. Last we will work with the neural network implementation in scikit learn."
   ]
  },
  {
   "cell_type": "code",
   "execution_count": 1,
   "id": "4b8e981b",
   "metadata": {},
   "outputs": [],
   "source": [
    "import numpy as np\n",
    "import matplotlib.pyplot as plt"
   ]
  },
  {
   "cell_type": "markdown",
   "id": "a132e546",
   "metadata": {},
   "source": [
    "In the first part of this tutorial, we want to build a simple network with 1 input, 1 hidden layer with 3 neurons and 1 output. We want a sigmoid activation function for the hidden layer and a no activation function for the output neuron.\n",
    "\n",
    "> ***Question***\n",
    ">\n",
    "> - Draw this network on paper. Think about all the arrays you are going to need"
   ]
  },
  {
   "cell_type": "markdown",
   "id": "ff45d35a",
   "metadata": {},
   "source": [
    "For now, let suppose we have only one observation `x` and one corresponding output `y = sin(x)`"
   ]
  },
  {
   "cell_type": "code",
   "execution_count": 2,
   "id": "268e0cc4",
   "metadata": {},
   "outputs": [],
   "source": [
    "x = 0.5\n",
    "y = np.sin(2*x)"
   ]
  },
  {
   "cell_type": "markdown",
   "id": "42931b31",
   "metadata": {},
   "source": [
    "We write `N=3` the number of hidden neurons. Declare the arrays `w1`, `b1`, `w2` and `b2` for the weights and biases. Initialize these arrays with random values."
   ]
  },
  {
   "cell_type": "code",
   "execution_count": 3,
   "id": "094e0aaa",
   "metadata": {},
   "outputs": [],
   "source": [
    "# your code here\n",
    "N = 3"
   ]
  },
  {
   "cell_type": "markdown",
   "id": "c2e9d6c3",
   "metadata": {},
   "source": [
    "Write two functions:\n",
    "- one for the sigmoid \n",
    "- and one for the derivative of the sigmoid"
   ]
  },
  {
   "cell_type": "code",
   "execution_count": 4,
   "id": "4ab3fb4f",
   "metadata": {},
   "outputs": [],
   "source": [
    "# your code here"
   ]
  },
  {
   "cell_type": "markdown",
   "id": "d7414cc0",
   "metadata": {},
   "source": [
    "Plot the sigmoid and its derivative it in the range [-10,10]"
   ]
  },
  {
   "cell_type": "code",
   "execution_count": 5,
   "id": "581a7fc7",
   "metadata": {},
   "outputs": [],
   "source": [
    "# your code here"
   ]
  },
  {
   "cell_type": "markdown",
   "id": "53388962",
   "metadata": {
    "slideshow": {
     "slide_type": "slide"
    }
   },
   "source": [
    "### Hidden layer\n",
    "\n",
    "> Write a function that computes the activation level in the hidden layer"
   ]
  },
  {
   "cell_type": "code",
   "execution_count": 6,
   "id": "8d2c8034",
   "metadata": {},
   "outputs": [],
   "source": [
    "# your code here"
   ]
  },
  {
   "cell_type": "markdown",
   "id": "350f9156",
   "metadata": {},
   "source": [
    "Write the `feedforward` function that computes the ouput layer as a function of the input layer `x`."
   ]
  },
  {
   "cell_type": "code",
   "execution_count": 7,
   "id": "334c4317",
   "metadata": {},
   "outputs": [],
   "source": [
    "# your code here"
   ]
  },
  {
   "cell_type": "markdown",
   "id": "cc7fdd85",
   "metadata": {},
   "source": [
    "Write the `cost` function that returns the cost function as a function of the input data `x` and output `y`"
   ]
  },
  {
   "cell_type": "code",
   "execution_count": 8,
   "id": "618461c2",
   "metadata": {},
   "outputs": [],
   "source": [
    "# your code here"
   ]
  },
  {
   "cell_type": "markdown",
   "id": "6d46afd8",
   "metadata": {},
   "source": [
    "What is the value of cost function of your network initialize with random weights and biases?"
   ]
  },
  {
   "cell_type": "code",
   "execution_count": 9,
   "id": "5f8087b7",
   "metadata": {},
   "outputs": [],
   "source": [
    "# your code here"
   ]
  },
  {
   "cell_type": "markdown",
   "id": "0fb68696",
   "metadata": {},
   "source": [
    "### Gradient of the cost function\n",
    "\n",
    "We want to optimize our network and to do so we need to change the weights and biases. As we saw in class, we need to compute the gradient of the cost function with respect to the weights and biases in order to march down the gradient of the cost function. For this simple network you may want to re-derive the expression of the gradient based on the forwarward propagation function.\n",
    "\n",
    "On a piece of paper, derive\n",
    "\n",
    "\\begin{equation}\n",
    "\\frac{\\partial C}{\\partial \\mathbf w_2}\\quad \\frac{\\partial C}{\\partial \\mathbf b_2} \\quad \\frac{\\partial C}{\\partial \\mathbf w_1}\\quad \\frac{\\partial C}{\\partial \\mathbf b_1}\n",
    "\\end{equation}\n",
    "\n",
    "you will see that as you move backward in the network, you can reuse the derivative of the layer above. Do you see why it is called the backpropagation algorithm?"
   ]
  },
  {
   "cell_type": "markdown",
   "id": "91ab7102",
   "metadata": {},
   "source": [
    "Implement it in python."
   ]
  },
  {
   "cell_type": "code",
   "execution_count": 10,
   "id": "538a4c60",
   "metadata": {},
   "outputs": [],
   "source": [
    "# your code here"
   ]
  },
  {
   "cell_type": "markdown",
   "id": "e5ee897a",
   "metadata": {},
   "source": [
    "Choose a learning rate `eta` and increment your weights and biases by $-\\eta \\nabla C$"
   ]
  },
  {
   "cell_type": "code",
   "execution_count": 11,
   "id": "05fe3059",
   "metadata": {},
   "outputs": [],
   "source": [
    "# your code here"
   ]
  },
  {
   "cell_type": "markdown",
   "id": "bed88b95",
   "metadata": {},
   "source": [
    "Compute the new cost function. It should have gone down... There are many possibilities if that is not the case: first decrease the learning rate, then check all your functions."
   ]
  },
  {
   "cell_type": "code",
   "execution_count": 12,
   "id": "22bc5688",
   "metadata": {},
   "outputs": [],
   "source": [
    "# your code here"
   ]
  },
  {
   "cell_type": "markdown",
   "id": "2ed019b9",
   "metadata": {},
   "source": [
    "Add a loop to repeat the previous operation until you reach convergence. You will have to first define convergence."
   ]
  },
  {
   "cell_type": "code",
   "execution_count": 13,
   "id": "19ed3d70",
   "metadata": {},
   "outputs": [],
   "source": [
    "# your code here"
   ]
  },
  {
   "cell_type": "markdown",
   "id": "bfa87d91",
   "metadata": {},
   "source": [
    "***Congratulations!!***\n",
    "\n",
    "You have built your first neural network."
   ]
  },
  {
   "cell_type": "markdown",
   "id": "9c3817f1",
   "metadata": {},
   "source": [
    "Study the properties of convergence: how many epoch do you need to reach convergence?\n",
    "When you change the learning rate, how does it affect the convergence?"
   ]
  },
  {
   "cell_type": "code",
   "execution_count": 14,
   "id": "af61134a",
   "metadata": {},
   "outputs": [],
   "source": [
    "# your code here"
   ]
  },
  {
   "cell_type": "markdown",
   "id": "27153d54",
   "metadata": {},
   "source": [
    "### More samples\n",
    "\n",
    "So far, we have only worked with one sample. It is actually a good news that we were able to fit a neural network on it. As you may have noticed in the begining of this tutorial, we had $y = \\sin(2*x)$. So we are trying to guess this $\\sin$ function. Below is the actual data"
   ]
  },
  {
   "cell_type": "code",
   "execution_count": 15,
   "id": "31f65422",
   "metadata": {},
   "outputs": [
    {
     "data": {
      "text/plain": [
       "[<matplotlib.lines.Line2D at 0x7f90b1ab9ac0>]"
      ]
     },
     "execution_count": 15,
     "metadata": {},
     "output_type": "execute_result"
    },
    {
     "data": {
      "image/png": "[encoded data removed]",
      "text/plain": [
       "<Figure size 432x288 with 1 Axes>"
      ]
     },
     "metadata": {
      "needs_background": "light"
     },
     "output_type": "display_data"
    }
   ],
   "source": [
    "N_sample = 200\n",
    "x = np.linspace(-1, 1, N_sample)[:, None]\n",
    "y = np.sin(2*x)\n",
    "plt.plot(x,y)"
   ]
  },
  {
   "cell_type": "markdown",
   "id": "be8fc056",
   "metadata": {},
   "source": [
    "Below is an extension of the code you have just writen in order to compute the cost function and the gradient over all sample. The code is writen on purpose in a very compact form. \n",
    "\n",
    "> - Look at the code above and identify all the steps that we have described so far. \n",
    "> - Add comments in the code to describe what the code is doing\n",
    "> - Change the code to define 3 hyper parameters: number of neurons in the hidden layer, learning rate and the number of epochs.\n"
   ]
  },
  {
   "cell_type": "code",
   "execution_count": 16,
   "id": "fe32b4f1",
   "metadata": {},
   "outputs": [],
   "source": [
    "def tanh(x):\n",
    "    return np.tanh(x)\n",
    "def derivative_tanh(x):\n",
    "    return 1 - tanh(x)**2\n",
    "w1 = np.random.uniform(0, 1, (1, 10))\n",
    "w2 = np.random.uniform(0, 1, (10, 1))\n",
    "b1 = np.full((1, 10), 0.1)\n",
    "b2 = np.full((1, 1), 0.1)\n",
    "for i in range(5000):\n",
    "    a1 = x\n",
    "    z2 = a1.dot(w1) + b1\n",
    "    a2 = tanh(z2)\n",
    "    z3 = a2.dot(w2) + b2\n",
    "    cost = np.sum((z3 - y)**2)/2\n",
    "    z3_delta = z3 - y\n",
    "    dw2 = a2.T.dot(z3_delta)\n",
    "    db2 = np.sum(z3_delta, axis=0, keepdims=True)\n",
    "    z2_delta = z3_delta.dot(w2.T) * derivative_tanh(z2)\n",
    "    dw1 = x.T.dot(z2_delta)\n",
    "    db1 = np.sum(z2_delta, axis=0, keepdims=True)\n",
    "    for param, gradient in zip([w1, w2, b1, b2], [dw1, dw2, db1, db2]):\n",
    "        param -= 0.0001 * gradient"
   ]
  },
  {
   "cell_type": "markdown",
   "id": "dc6abfd6",
   "metadata": {},
   "source": [
    "In the same figure, plot the output as a function of input parameters \n",
    "- for the observations\n",
    "- for the output of the network"
   ]
  },
  {
   "cell_type": "code",
   "execution_count": 17,
   "id": "343d0690",
   "metadata": {},
   "outputs": [],
   "source": [
    "# your code here"
   ]
  },
  {
   "cell_type": "markdown",
   "id": "9e2f7d43",
   "metadata": {},
   "source": [
    "Modify the code above to get the cost function at each epoch and plot it"
   ]
  },
  {
   "cell_type": "code",
   "execution_count": 18,
   "id": "3fd27b92",
   "metadata": {},
   "outputs": [],
   "source": [
    "# your code here"
   ]
  },
  {
   "cell_type": "markdown",
   "id": "5faf4814",
   "metadata": {},
   "source": [
    "What hyper parameter has the most impact to get an accurate reconstruction."
   ]
  },
  {
   "cell_type": "code",
   "execution_count": 19,
   "id": "c46fc6a4",
   "metadata": {},
   "outputs": [],
   "source": [
    "# your code here"
   ]
  },
  {
   "cell_type": "markdown",
   "id": "1f1da9cf",
   "metadata": {},
   "source": [
    "### Neural network with scikit-learn\n",
    "\n",
    "Scikit-learn has a built-in Neural network function"
   ]
  },
  {
   "cell_type": "code",
   "execution_count": 20,
   "id": "edb23716",
   "metadata": {},
   "outputs": [],
   "source": [
    "from sklearn.neural_network import MLPRegressor"
   ]
  },
  {
   "cell_type": "markdown",
   "id": "7cc402fc",
   "metadata": {},
   "source": [
    "Look at the documentation of the `MLPRegressor`. This class of model is extremely similar to what we have been working on so far. Identify the parameters that we have already explored."
   ]
  },
  {
   "cell_type": "markdown",
   "id": "193316f5",
   "metadata": {},
   "source": [
    "We are now trying to predict a more complicated function:"
   ]
  },
  {
   "cell_type": "code",
   "execution_count": 21,
   "id": "bc175f99",
   "metadata": {},
   "outputs": [
    {
     "data": {
      "text/plain": [
       "[<matplotlib.lines.Line2D at 0x7f90a6f402e0>]"
      ]
     },
     "execution_count": 21,
     "metadata": {},
     "output_type": "execute_result"
    },
    {
     "data": {
      "image/png": "[encoded data removed]",
      "text/plain": [
       "<Figure size 432x288 with 1 Axes>"
      ]
     },
     "metadata": {
      "needs_background": "light"
     },
     "output_type": "display_data"
    }
   ],
   "source": [
    "x = np.linspace(-1, 1, 200)[:, None]\n",
    "y = np.sin(10*x).squeeze()\n",
    "plt.plot(x,y)"
   ]
  },
  {
   "cell_type": "markdown",
   "id": "fe81a040",
   "metadata": {},
   "source": [
    "Try to fit the MLP with all default parameters. Are you satisfied with the result?"
   ]
  },
  {
   "cell_type": "code",
   "execution_count": 22,
   "id": "b067de4f",
   "metadata": {},
   "outputs": [],
   "source": [
    "# your code here"
   ]
  },
  {
   "cell_type": "markdown",
   "id": "4bffd327",
   "metadata": {},
   "source": [
    "There are several things we can do to get a better fit. Let's go through the options one by one. Let's focus first on the hyper-parameters we know.\n",
    "\n",
    "- What is the default activation. Do you see an improvement if you revert it to the smooth functions we have see so far?"
   ]
  },
  {
   "cell_type": "code",
   "execution_count": 23,
   "id": "90bc7b1f",
   "metadata": {},
   "outputs": [],
   "source": [
    "# your code here"
   ]
  },
  {
   "cell_type": "markdown",
   "id": "b5ac7345",
   "metadata": {},
   "source": [
    "- Try to increase/decrease the number of hidden layers"
   ]
  },
  {
   "cell_type": "code",
   "execution_count": 24,
   "id": "2d55ae22",
   "metadata": {},
   "outputs": [],
   "source": [
    "# your code here"
   ]
  },
  {
   "cell_type": "markdown",
   "id": "44fa86bc",
   "metadata": {},
   "source": [
    "As you can see in the documentation, the choice of solver can make a big difference. DO you confirm this is the case for your dataset?"
   ]
  },
  {
   "cell_type": "code",
   "execution_count": 25,
   "id": "929454ba",
   "metadata": {},
   "outputs": [],
   "source": [
    "# your code here"
   ]
  },
  {
   "cell_type": "markdown",
   "id": "6779378b",
   "metadata": {},
   "source": [
    "With all these options, you should be able to find a very small neural network that fits your data better than the default options. What is your minimal neural network?"
   ]
  },
  {
   "cell_type": "code",
   "execution_count": 26,
   "id": "3c394d13",
   "metadata": {},
   "outputs": [],
   "source": [
    "# your code here"
   ]
  },
  {
   "cell_type": "markdown",
   "id": "043b0fa1",
   "metadata": {},
   "source": [
    "## Neural network for classification\n",
    "\n",
    "Neural networks are also used for classification"
   ]
  },
  {
   "cell_type": "code",
   "execution_count": 27,
   "id": "87783dce",
   "metadata": {},
   "outputs": [
    {
     "data": {
      "image/png": "[encoded data removed]",
      "text/plain": [
       "<Figure size 720x216 with 4 Axes>"
      ]
     },
     "metadata": {
      "needs_background": "light"
     },
     "output_type": "display_data"
    }
   ],
   "source": [
    "# degraded version of the original MNIST data set\n",
    "from sklearn import datasets\n",
    "digits = datasets.load_digits()\n",
    "\n",
    "_, axes = plt.subplots(nrows=1, ncols=4, figsize=(10, 3))\n",
    "for ax, image, label in zip(axes, digits.images, digits.target):\n",
    "    ax.set_axis_off()\n",
    "    ax.imshow(image, cmap=plt.cm.gray_r, interpolation=\"nearest\")\n",
    "    ax.set_title(\"Training: %i\" % label)"
   ]
  },
  {
   "cell_type": "markdown",
   "id": "b4c51a0a",
   "metadata": {},
   "source": [
    "Use this data set to train a neural network to recognize hand writen digits. Look at the [Documention](https://scikit-learn.org/stable/modules/neural_networks_supervised.html) to get help"
   ]
  },
  {
   "cell_type": "markdown",
   "id": "3847b4c7",
   "metadata": {},
   "source": [
    "## References\n",
    "\n",
    "- https://github.com/MorvanZhou/simple-neural-networks\n",
    "- https://www.manning.com/books/deep-learning-with-python-second-edition\n",
    "- http://neuralnetworksanddeeplearning.com/"
   ]
  },
  {
   "cell_type": "markdown",
   "id": "5e186998",
   "metadata": {
    "slideshow": {
     "slide_type": "slide"
    }
   },
   "source": [
    "***\n",
    "## Credit\n",
    "\n",
    "[//]: # \"This notebook is part of [E4C Interdisciplinary Center - Education](https://gitlab.in2p3.fr/energy4climate/public/education).\"\n",
    "Contributors include Bruno Deremble and Alexis Tantet.\n",
    "\n",
    "<br>\n",
    "\n",
    "<div style=\"display: flex; height: 70px\">\n",
    "    \n",
    "<img alt=\"Logo LMD\" src=\"images/logos/logo_lmd.jpg\" style=\"display: inline-block\"/>\n",
    "\n",
    "<img alt=\"Logo IPSL\" src=\"images/logos/logo_ipsl.png\" style=\"display: inline-block\"/>\n",
    "\n",
    "<img alt=\"Logo E4C\" src=\"images/logos/logo_e4c_final.png\" style=\"display: inline-block\"/>\n",
    "\n",
    "<img alt=\"Logo EP\" src=\"images/logos/logo_ep.png\" style=\"display: inline-block\"/>\n",
    "\n",
    "<img alt=\"Logo SU\" src=\"images/logos/logo_su.png\" style=\"display: inline-block\"/>\n",
    "\n",
    "<img alt=\"Logo ENS\" src=\"images/logos/logo_ens.jpg\" style=\"display: inline-block\"/>\n",
    "\n",
    "<img alt=\"Logo CNRS\" src=\"images/logos/logo_cnrs.png\" style=\"display: inline-block\"/>\n",
    "    \n",
    "</div>\n",
    "\n",
    "<hr>\n",
    "\n",
    "<div style=\"display: flex\">\n",
    "    <a rel=\"license\" href=\"http://creativecommons.org/licenses/by-sa/4.0/\"><img alt=\"Creative Commons License\" style=\"border-width:0; margin-right: 10px\" src=\"https://i.creativecommons.org/l/by-sa/4.0/88x31.png\" /></a>\n",
    "    <br>This work is licensed under a &nbsp; <a rel=\"license\" href=\"http://creativecommons.org/licenses/by-sa/4.0/\">Creative Commons Attribution-ShareAlike 4.0 International License</a>.\n",
    "</div>"
   ]
  }
 ],
 "metadata": {
  "celltoolbar": "Slideshow",
  "kernelspec": {
   "display_name": "Python 3 (ipykernel)",
   "language": "python",
   "name": "python3"
  },
  "language_info": {
   "codemirror_mode": {
    "name": "ipython",
    "version": 3
   },
   "file_extension": ".py",
   "mimetype": "text/x-python",
   "name": "python",
   "nbconvert_exporter": "python",
   "pygments_lexer": "ipython3",
   "version": "3.9.12"
  },
  "latex_envs": {
   "LaTeX_envs_menu_present": true,
   "autoclose": true,
   "autocomplete": false,
   "bibliofile": "biblio.bib",
   "cite_by": "apalike",
   "current_citInitial": 1,
   "eqLabelWithNumbers": true,
   "eqNumInitial": 1,
   "hotkeys": {
    "equation": "Ctrl-E",
    "itemize": "Ctrl-I"
   },
   "labels_anchors": false,
   "latex_user_defs": false,
   "report_style_numbering": false,
   "user_envs_cfg": false
  },
  "toc": {
   "base_numbering": 1,
   "nav_menu": {},
   "number_sections": true,
   "sideBar": true,
   "skip_h1_title": false,
   "title_cell": "Table of Contents",
   "title_sidebar": "Contents",
   "toc_cell": false,
   "toc_position": {},
   "toc_section_display": true,
   "toc_window_display": false
  },
  "varInspector": {
   "cols": {
    "lenName": 16,
    "lenType": 16,
    "lenVar": 40
   },
   "kernels_config": {
    "python": {
     "delete_cmd_postfix": "",
     "delete_cmd_prefix": "del ",
     "library": "var_list.py",
     "varRefreshCmd": "print(var_dic_list())"
    },
    "r": {
     "delete_cmd_postfix": ") ",
     "delete_cmd_prefix": "rm(",
     "library": "var_list.r",
     "varRefreshCmd": "cat(var_dic_list()) "
    }
   },
   "types_to_exclude": [
    "module",
    "function",
    "builtin_function_or_method",
    "instance",
    "_Feature"
   ],
   "window_display": false
  }
 },
 "nbformat": 4,
 "nbformat_minor": 5
}
