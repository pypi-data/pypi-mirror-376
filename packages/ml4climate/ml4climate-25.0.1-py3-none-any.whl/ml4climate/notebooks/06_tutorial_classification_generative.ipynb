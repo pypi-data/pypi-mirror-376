{
 "cells": [
  {
   "cell_type": "markdown",
   "id": "5eb8c31b",
   "metadata": {
    "slideshow": {
     "slide_type": "slide"
    }
   },
   "source": [
    "# Tutorial on Classification I: Generative models\n",
    "\n",
    "[![Binder](https://mybinder.org/badge_logo.svg)](https://mybinder.org/v2/git/https%3A%2F%2Fgitlab.in2p3.fr%2Fenergy4climate%2Fpublic%2Feducation%2Fmachine_learning_for_climate_and_energy/master?filepath=book%2Fnotebooks%2F05_tutorial_classification_generative.ipynb)\n",
    "\n",
    "Tutorial to the class [Classification I: Generative models](05_classification_generative.ipynb)."
   ]
  },
  {
   "cell_type": "markdown",
   "id": "3a485dc1",
   "metadata": {
    "slideshow": {
     "slide_type": "subslide"
    }
   },
   "source": [
    "<div class=\"alert alert-block alert-success\">\n",
    "    <b>Context</b>\n",
    "    \n",
    "- Era5 data set: surface data at paris.\n",
    "- Linear discriminant analysis\n",
    "\n",
    "</div>"
   ]
  },
  {
   "cell_type": "markdown",
   "id": "ebf19950",
   "metadata": {},
   "source": [
    "## Case Study : Prediction of the Rain\n",
    "\n",
    "### Introduction\n",
    "\n",
    "Prediction of the rain remains one of the most challenging task in numerical weather prediction. In fact the rain is the result of multiple scale phenomena: from the large-scale organization of weather system to the small scale microphysics of dropplet formation. Getting the right prediction for the rain implies that we have a model that captures well all these scales.\n",
    "\n",
    "Despite the fact that rain is hard to predict, there seem to be exist a correspondance between the surface pressure and the weather conditions as shown in the picture below:\n",
    "\n",
    "<img alt=\"Barometer\" src=\"images/barometer.jpg\">\n"
   ]
  },
  {
   "cell_type": "markdown",
   "id": "4cbc239b",
   "metadata": {},
   "source": [
    "### Dataset\n",
    "\n",
    "The data we are going to use in this notebook comes from the [ERA5 data base](https://cds.climate.copernicus.eu/cdsapp#!/dataset/reanalysis-era5-pressure-levels). To quote ECMWF: *Reanalysis combines model data with observations from across the world into a globally complete and consistent dataset using the laws of physics.* In the ERA5 data base, we can find 4d fields (time, latitude, longitude, height) such as temperature, wind, humidity, clouds, precipitation, etc... The time resolution is 1 hour, horizontal grid spacing is approx 20 km and vertical resolution varies with high resolution near the ground and coarse resolution near the top of the atmosphere."
   ]
  },
  {
   "cell_type": "markdown",
   "id": "ecd01a21",
   "metadata": {},
   "source": [
    "To illustrate this notebook, I prepared a data set with surface variables only at a given location between 2000 and 2009 at the hourly resolution.\n",
    "\n",
    "The variables in this data set are the raw variables that you can find in the ERA reanalysis\n",
    "\n",
    "| Variable name  | Description                             | Unit    |\n",
    "| :------------- | :-------------                          | :------ |\n",
    "| t2m            | Air temperature at 2 m above the ground | [K]     |\n",
    "| d2m            | [Dew point](https://en.wikipedia.org/wiki/Dew_point) at 2 m above the ground       | [K]     |\n",
    "| u10            | Zonal wind component at 10 m            | [m/s]   |\n",
    "| v10            | Meridional wind component at 10 m       | [m/s]   |\n",
    "| skt            | Skin temperature                        | [K]     |\n",
    "| tcc            | Total cloud cover                       | [0-1]   |\n",
    "| sp             | Surface pressure                        | [Pa]    |\n",
    "| tp             | Total precipitation                     | [m]     |\n",
    "| ssrd           | Surface solar radiation (downwards)     | [J/m^2] |\n",
    "| blh            | Boundary layer height                   | [m]     |\n",
    "\n",
    "\n",
    "#### Reading the Data\n",
    "\n"
   ]
  },
  {
   "cell_type": "code",
   "execution_count": null,
   "id": "03e5af8d",
   "metadata": {
    "tags": []
   },
   "outputs": [],
   "source": [
    "import numpy as np\n",
    "import matplotlib as mpl\n",
    "import matplotlib.pyplot as plt\n",
    "import matplotlib.ticker as mticker\n",
    "import pandas as pd\n",
    "# Default colors\n",
    "RC_COLORS = plt.rcParams['axes.prop_cycle'].by_key()['color']\n",
    "# Matplotlib configuration\n",
    "plt.rc('font', size=14)"
   ]
  },
  {
   "cell_type": "code",
   "execution_count": null,
   "id": "ed2a2262",
   "metadata": {
    "tags": []
   },
   "outputs": [],
   "source": [
    "df = pd.read_csv(\"data/era5_paris_sf_2000_2009.csv\", index_col='time', parse_dates=True)"
   ]
  },
  {
   "cell_type": "code",
   "execution_count": null,
   "id": "00a691cd",
   "metadata": {
    "scrolled": true,
    "tags": []
   },
   "outputs": [],
   "source": [
    "df.describe()"
   ]
  },
  {
   "cell_type": "markdown",
   "id": "7ebfde13",
   "metadata": {},
   "source": [
    "#### Processing the Data\n",
    "\n",
    "In this tutorial, we will be interested in the precipitation variable `tp`, the surface pressure `sp`, and the air temperature near the surface `t2m`. You can plot time series of these variables for the entire data set or for limited periods of time. Remember that you can use the index `df.loc` to select part of the dataset. For more advanced users, you can compute the seasonal cycle with `.groupby(df.index.month).mean()`\n",
    " \n",
    "> ***Question***\n",
    "> - Take a moment to explore this data set."
   ]
  },
  {
   "cell_type": "code",
   "execution_count": null,
   "id": "bf08629f",
   "metadata": {
    "tags": []
   },
   "outputs": [],
   "source": [
    "# Explore the data set here. \n",
    "# You can add more cells if needed."
   ]
  },
  {
   "cell_type": "markdown",
   "id": "b49a4cfd",
   "metadata": {},
   "source": [
    "> ***Question (optional)***\n",
    "> - Which variables exhibit a seasonal cycle? a daily cycle? Could you have anticipated this result?"
   ]
  },
  {
   "cell_type": "markdown",
   "id": "f5e8d062-5e3b-4130-8cb1-b4dbb96d7d18",
   "metadata": {},
   "source": [
    "***Your answer:***"
   ]
  },
  {
   "cell_type": "markdown",
   "id": "d9a117f1",
   "metadata": {},
   "source": [
    "> ***Question***\n",
    "> - In the same figure, plot a time series of the total precipitation `tp` and surface pressure `sp`. You can plot this time series for a month in winter and a month in summer.\n",
    "> - Do you observe any correlation between rain and pressure?"
   ]
  },
  {
   "cell_type": "code",
   "execution_count": null,
   "id": "a9de6bda",
   "metadata": {
    "tags": []
   },
   "outputs": [],
   "source": [
    "# your code here"
   ]
  },
  {
   "cell_type": "markdown",
   "id": "3b6ed6cf",
   "metadata": {},
   "source": [
    "As you can see (if you zoom enough),  rain is very noisy data set. Indeed, if you observe the rain pattern, it is often very localized. This is also the reason why it is very hard to predict. In order to smooth the data, we are going to work with daily sums.\n",
    "\n",
    "> ***Question***\n",
    "> - Use the `.resample` method to to get daily sums."
   ]
  },
  {
   "cell_type": "code",
   "execution_count": null,
   "id": "da775812-b6af-4e83-950a-d7e7291dd813",
   "metadata": {
    "scrolled": true,
    "tags": []
   },
   "outputs": [],
   "source": [
    "# your code here\n",
    "# df_day_dim = "
   ]
  },
  {
   "cell_type": "markdown",
   "id": "f976fd9b-d513-459c-b103-fbf58b1880ee",
   "metadata": {},
   "source": [
    "> ***Question***\n",
    "> - To avoid having to worry about the offset and the scale of the inputs, center them and normalize them by the standard deviation."
   ]
  },
  {
   "cell_type": "code",
   "execution_count": null,
   "id": "890e28e4-9ce3-4ec3-ba14-0950cc02b6cb",
   "metadata": {
    "scrolled": true,
    "tags": []
   },
   "outputs": [],
   "source": [
    "# your code here\n",
    "# df_day = "
   ]
  },
  {
   "cell_type": "markdown",
   "id": "47f7a1c3",
   "metadata": {},
   "source": [
    "### Defining the Training Set\n",
    "\n",
    "#### Defining the Classes and the Target Data\n",
    "\n",
    "Let's classify the days into two classes: \"Rain\", \"Dry\". We use a threshold of $0.5$ mm/day. We assign a class tag of 1 for \"Rain\" and 0 for \"Dry\"."
   ]
  },
  {
   "cell_type": "code",
   "execution_count": null,
   "id": "5ee534d9",
   "metadata": {
    "tags": []
   },
   "outputs": [],
   "source": [
    "# Threshold: 0.5 mm/day\n",
    "PRECIP_TH_DIM = 5.e-4\n",
    "\n",
    "# Normalized threshold\n",
    "precip_th = (PRECIP_TH_DIM - df_day_dim['tp'].mean()) / df_day_dim['tp'].std()\n",
    "print('Rain/dry threshold [m/d]: {:.2e}'.format(PRECIP_TH_DIM))\n",
    "print('Normalized rain/dry threshold:{:.2e}'.format(precip_th))\n",
    "\n",
    "# Class labels dict for plots\n",
    "CLASS_LABELS = {0: 'Dry', 1: 'Rain'}\n",
    "label_classes = {v: k for k, v in CLASS_LABELS.items()}\n",
    "\n",
    "# Create target variable\n",
    "df_day['tag'] = df_day['tp'].where(df_day['tp'] < precip_th, label_classes['Rain'])\n",
    "df_day['tag'] = df_day['tag'].where(df_day['tp'] >= precip_th, label_classes['Dry'])\n",
    "df_day['tag'] = df_day['tag'].astype(int)"
   ]
  },
  {
   "cell_type": "markdown",
   "id": "7d47d48e",
   "metadata": {},
   "source": [
    "> ***Question***\n",
    "> - Use the function `plt.scatter` to plot a scatter plot of rain classification in the (pressure, temperature) space (`sp`, `t2m`). You need to adjust the color of the points so that we can see which category they belong to. Don't forget to add labels to your plot."
   ]
  },
  {
   "cell_type": "code",
   "execution_count": null,
   "id": "d436dab6",
   "metadata": {
    "tags": []
   },
   "outputs": [],
   "source": [
    "# your code here"
   ]
  },
  {
   "cell_type": "markdown",
   "id": "ab76c3d4",
   "metadata": {},
   "source": [
    "> ***Question***\n",
    "> - Use the .boxplot method to plot the percentiles of the pressure distribution for the rainy days and dry days. Keyword arguments that could be useful here are `column` and `by` (and if you feel like designing it a bit: `patch_artist = True`)."
   ]
  },
  {
   "cell_type": "code",
   "execution_count": null,
   "id": "6923e58c",
   "metadata": {
    "tags": []
   },
   "outputs": [],
   "source": [
    "# your code here"
   ]
  },
  {
   "cell_type": "markdown",
   "id": "bf365f4b",
   "metadata": {},
   "source": [
    "Let's split our dataset into a training set and a testing set. For this tutorial, we will only keep surface pressure `sp` as our input feature. Uncomment the lines below to generate the training and testing data sets."
   ]
  },
  {
   "cell_type": "code",
   "execution_count": null,
   "id": "3a16f001",
   "metadata": {
    "tags": []
   },
   "outputs": [],
   "source": [
    "from sklearn.model_selection import train_test_split\n",
    "\n",
    "X_train, X_test, y_train, y_test = train_test_split(\n",
    "    df_day[['sp']], df_day['tag'],\n",
    "    test_size=.3, random_state=0)"
   ]
  },
  {
   "cell_type": "markdown",
   "id": "18722b7f",
   "metadata": {},
   "source": [
    "For now on, we will train our model an `X_train` and `y_train`. Later on, we will validate our results with `X_test` and `y_test`.\n",
    "\n",
    "> ***Question***\n",
    "> - What is the number of day in each class?\n",
    "> - What is the probability of having a rainy day in this data set?"
   ]
  },
  {
   "cell_type": "code",
   "execution_count": null,
   "id": "521c2984",
   "metadata": {
    "tags": []
   },
   "outputs": [],
   "source": [
    "# your code here"
   ]
  },
  {
   "cell_type": "markdown",
   "id": "3ed0c4b6",
   "metadata": {},
   "source": [
    "## Linear Discriminant Analysis Application\n",
    "\n",
    "### From Scratch\n",
    "\n",
    "In order to compute the linear discriminant analysis, we need to compute the mean and covariance matrix of each class\n",
    "\n",
    "> ***Question***\n",
    "> - What is the mean of each class? (Use the method `.groupby(y_train)`)"
   ]
  },
  {
   "cell_type": "code",
   "execution_count": null,
   "id": "73898d86",
   "metadata": {
    "tags": []
   },
   "outputs": [],
   "source": [
    "# your code here"
   ]
  },
  {
   "cell_type": "markdown",
   "id": "4c3b7ffb",
   "metadata": {},
   "source": [
    "> ***Question***\n",
    "> - What is the covariance matrix of each class? (Same hint)"
   ]
  },
  {
   "cell_type": "code",
   "execution_count": null,
   "id": "f96b2958",
   "metadata": {
    "tags": []
   },
   "outputs": [],
   "source": [
    "# your code here"
   ]
  },
  {
   "cell_type": "markdown",
   "id": "152f6d75",
   "metadata": {},
   "source": [
    "> ***Question***\n",
    "> - What is the weighted sum of the two covariance matrices"
   ]
  },
  {
   "cell_type": "code",
   "execution_count": null,
   "id": "a7040a54",
   "metadata": {
    "tags": []
   },
   "outputs": [],
   "source": [
    "# your code here"
   ]
  },
  {
   "cell_type": "markdown",
   "id": "4401f200",
   "metadata": {},
   "source": [
    "Suppose rain is only function of pressure.\n",
    "\n",
    "> ***Question***\n",
    "> - Compute the numerical coefficients of the two discriminant functions $\\delta_k(x) = x\\frac{\\mu_k}{\\sigma^2} - \\frac{\\mu_k^2}{2\\sigma^2} + \\log P_k$"
   ]
  },
  {
   "cell_type": "code",
   "execution_count": null,
   "id": "fe25412e",
   "metadata": {
    "tags": []
   },
   "outputs": [],
   "source": [
    "# your code here"
   ]
  },
  {
   "cell_type": "markdown",
   "id": "bd894645",
   "metadata": {},
   "source": [
    "> ***Question***\n",
    "> - What is the threshold pressure to discriminate between rainy days and dry days?"
   ]
  },
  {
   "cell_type": "code",
   "execution_count": null,
   "id": "30f43550",
   "metadata": {
    "tags": []
   },
   "outputs": [],
   "source": [
    "# your code here"
   ]
  },
  {
   "cell_type": "markdown",
   "id": "ec2df850",
   "metadata": {},
   "source": [
    "> ***Question (optional)***\n",
    "> - Same question but in the 2d space (pressure, temperature)\n",
    "> - Plot this decision boundary on top of your scatter plot"
   ]
  },
  {
   "cell_type": "code",
   "execution_count": null,
   "id": "a27f2414",
   "metadata": {
    "tags": []
   },
   "outputs": [],
   "source": [
    "# your code here"
   ]
  },
  {
   "cell_type": "markdown",
   "id": "a998c20c-7eda-4d05-8206-d9ccf69e6ecb",
   "metadata": {},
   "source": [
    "### With Scikit-Learn\n",
    "\n",
    "> ***Question***\n",
    "> - Use the `LinearDiscriminantAnalysis` classifier from `sklearn.discriminant_analysis` to fit the model using Scikit-Learn."
   ]
  },
  {
   "cell_type": "code",
   "execution_count": null,
   "id": "1a7dacb2",
   "metadata": {
    "tags": []
   },
   "outputs": [],
   "source": [
    "# your code here"
   ]
  },
  {
   "cell_type": "markdown",
   "id": "747001bf",
   "metadata": {},
   "source": [
    "> ***Question***\n",
    "> - What is the class prediction according to this Linear Discriminant Analysis?"
   ]
  },
  {
   "cell_type": "code",
   "execution_count": null,
   "id": "0717b075",
   "metadata": {
    "tags": []
   },
   "outputs": [],
   "source": [
    "# your code here"
   ]
  },
  {
   "cell_type": "markdown",
   "id": "0dad63bc",
   "metadata": {},
   "source": [
    "> ***Question***\n",
    "> - What is the overall accuracy of our predictor? You can use the `classification_report` function."
   ]
  },
  {
   "cell_type": "code",
   "execution_count": null,
   "id": "1f67eab7",
   "metadata": {
    "tags": []
   },
   "outputs": [],
   "source": [
    "from sklearn.metrics import classification_report\n",
    "\n",
    "# your code here"
   ]
  },
  {
   "cell_type": "markdown",
   "id": "e8b7b95b",
   "metadata": {},
   "source": [
    "> ***Question***\n",
    "> - Look more closely at the results with the [confusion matrix](https://en.wikipedia.org/wiki/Confusion_matrix)"
   ]
  },
  {
   "cell_type": "code",
   "execution_count": null,
   "id": "6bd6e3cb",
   "metadata": {
    "tags": []
   },
   "outputs": [],
   "source": [
    "from sklearn.metrics import confusion_matrix\n",
    "\n",
    "# your code here"
   ]
  },
  {
   "cell_type": "markdown",
   "id": "87c1f1b7",
   "metadata": {},
   "source": [
    "> ***Question***\n",
    "> - Do you get a completely different confusion matrix with the test data than with the train data?"
   ]
  },
  {
   "cell_type": "code",
   "execution_count": null,
   "id": "7435c2b4",
   "metadata": {
    "tags": []
   },
   "outputs": [],
   "source": [
    "# your code here"
   ]
  },
  {
   "cell_type": "markdown",
   "id": "a19d8492",
   "metadata": {},
   "source": [
    "> ***Question***\n",
    "> - Do you feel you have built a good predictor? \n",
    "> - What would be the score of a predictor that would predict rain every day? dry every day? \n",
    "> - What about a completely random predictor?\n",
    "> - What do you think of the [picture of the barometer](#Prediction-of-the-rain) at the beginning of this tutorial?"
   ]
  },
  {
   "cell_type": "markdown",
   "id": "a183ae88",
   "metadata": {},
   "source": [
    "### Comparing LDA with QDA based on the ROC Curve\n",
    "\n",
    "> ***Question (optional)***\n",
    "> - Read about the [ROC curve](https://en.wikipedia.org/wiki/Receiver_operating_characteristic) and try to use the scikit-learn module to plot it.\n",
    "> - Does the Quadratic discriminant analysis performs better on this dataset?"
   ]
  },
  {
   "cell_type": "code",
   "execution_count": null,
   "id": "75f1d994",
   "metadata": {
    "tags": []
   },
   "outputs": [],
   "source": [
    "# your code here"
   ]
  },
  {
   "cell_type": "markdown",
   "id": "5e186998",
   "metadata": {
    "slideshow": {
     "slide_type": "slide"
    }
   },
   "source": [
    "***\n",
    "## Credit\n",
    "\n",
    "[//]: # \"This notebook is part of [E4C Interdisciplinary Center - Education](https://gitlab.in2p3.fr/energy4climate/public/education).\"\n",
    "Contributors include Bruno Deremble and Alexis Tantet.\n",
    "\n",
    "<br>\n",
    "\n",
    "<div style=\"display: flex; height: 70px\">\n",
    "    \n",
    "<img alt=\"Logo LMD\" src=\"images/logos/logo_lmd.jpg\" style=\"display: inline-block\"/>\n",
    "\n",
    "<img alt=\"Logo IPSL\" src=\"images/logos/logo_ipsl.png\" style=\"display: inline-block\"/>\n",
    "\n",
    "<img alt=\"Logo E4C\" src=\"images/logos/logo_e4c_final.png\" style=\"display: inline-block\"/>\n",
    "\n",
    "<img alt=\"Logo EP\" src=\"images/logos/logo_ep.png\" style=\"display: inline-block\"/>\n",
    "\n",
    "<img alt=\"Logo SU\" src=\"images/logos/logo_su.png\" style=\"display: inline-block\"/>\n",
    "\n",
    "<img alt=\"Logo ENS\" src=\"images/logos/logo_ens.jpg\" style=\"display: inline-block\"/>\n",
    "\n",
    "<img alt=\"Logo CNRS\" src=\"images/logos/logo_cnrs.png\" style=\"display: inline-block\"/>\n",
    "    \n",
    "</div>\n",
    "\n",
    "<hr>\n",
    "\n",
    "<div style=\"display: flex\">\n",
    "    <a rel=\"license\" href=\"http://creativecommons.org/licenses/by-sa/4.0/\"><img alt=\"Creative Commons License\" style=\"border-width:0; margin-right: 10px\" src=\"https://i.creativecommons.org/l/by-sa/4.0/88x31.png\" /></a>\n",
    "    <br>This work is licensed under a &nbsp; <a rel=\"license\" href=\"http://creativecommons.org/licenses/by-sa/4.0/\">Creative Commons Attribution-ShareAlike 4.0 International License</a>.\n",
    "</div>"
   ]
  }
 ],
 "metadata": {
  "celltoolbar": "Slideshow",
  "kernelspec": {
   "display_name": "Python 3 (ipykernel)",
   "language": "python",
   "name": "python3"
  },
  "language_info": {
   "codemirror_mode": {
    "name": "ipython",
    "version": 3
   },
   "file_extension": ".py",
   "mimetype": "text/x-python",
   "name": "python",
   "nbconvert_exporter": "python",
   "pygments_lexer": "ipython3",
   "version": "3.9.16"
  },
  "latex_envs": {
   "LaTeX_envs_menu_present": true,
   "autoclose": true,
   "autocomplete": false,
   "bibliofile": "biblio.bib",
   "cite_by": "apalike",
   "current_citInitial": 1,
   "eqLabelWithNumbers": true,
   "eqNumInitial": 1,
   "hotkeys": {
    "equation": "Ctrl-E",
    "itemize": "Ctrl-I"
   },
   "labels_anchors": false,
   "latex_user_defs": false,
   "report_style_numbering": false,
   "user_envs_cfg": false
  },
  "toc": {
   "base_numbering": 1,
   "nav_menu": {},
   "number_sections": true,
   "sideBar": true,
   "skip_h1_title": false,
   "title_cell": "Table of Contents",
   "title_sidebar": "Contents",
   "toc_cell": false,
   "toc_position": {},
   "toc_section_display": true,
   "toc_window_display": false
  },
  "varInspector": {
   "cols": {
    "lenName": 16,
    "lenType": 16,
    "lenVar": 40
   },
   "kernels_config": {
    "python": {
     "delete_cmd_postfix": "",
     "delete_cmd_prefix": "del ",
     "library": "var_list.py",
     "varRefreshCmd": "print(var_dic_list())"
    },
    "r": {
     "delete_cmd_postfix": ") ",
     "delete_cmd_prefix": "rm(",
     "library": "var_list.r",
     "varRefreshCmd": "cat(var_dic_list()) "
    }
   },
   "types_to_exclude": [
    "module",
    "function",
    "builtin_function_or_method",
    "instance",
    "_Feature"
   ],
   "window_display": false
  }
 },
 "nbformat": 4,
 "nbformat_minor": 5
}
