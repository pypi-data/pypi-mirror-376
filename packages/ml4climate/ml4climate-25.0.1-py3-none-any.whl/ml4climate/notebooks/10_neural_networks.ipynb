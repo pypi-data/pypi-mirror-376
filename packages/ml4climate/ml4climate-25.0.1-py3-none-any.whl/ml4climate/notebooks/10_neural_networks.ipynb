{
 "cells": [
  {
   "cell_type": "markdown",
   "id": "76bc35cd",
   "metadata": {
    "slideshow": {
     "slide_type": "slide"
    }
   },
   "source": [
    "# Neural Networks\n",
    "\n",
    "[![Binder](https://mybinder.org/badge_logo.svg)](https://mybinder.org/v2/git/https%3A%2F%2Fgitlab.in2p3.fr%2Fenergy4climate%2Fpublic%2Feducation%2Fmachine_learning_for_climate_and_energy/master?filepath=book%2Fnotebooks%2F10_neural_networks.ipynb)"
   ]
  },
  {
   "cell_type": "markdown",
   "id": "bf385f06",
   "metadata": {
    "slideshow": {
     "slide_type": "subslide"
    }
   },
   "source": [
    "<div class=\"alert alert-block alert-warning\">\n",
    "    <b>Prerequisites</b>\n",
    "    <br>\n",
    "    \n",
    "- Matrix calculus\n",
    "- Ordinary least squares\n",
    "- Classification\n",
    "    \n",
    "</div>"
   ]
  },
  {
   "cell_type": "markdown",
   "id": "14edfd21",
   "metadata": {
    "slideshow": {
     "slide_type": "subslide"
    }
   },
   "source": [
    "<div class=\"alert alert-block alert-info\">\n",
    "    <b>Learning Outcomes</b>\n",
    "    <br>\n",
    "\n",
    "- Understand the neural network formalism.\n",
    "- Program a gradient descent algorithm with backpropagation to optimize a neural network. \n",
    "- Train and test a neural network. \n",
    "    \n",
    "</div>"
   ]
  },
  {
   "cell_type": "markdown",
   "id": "2948ff71",
   "metadata": {
    "slideshow": {
     "slide_type": "slide"
    }
   },
   "source": [
    "## Introduction"
   ]
  },
  {
   "cell_type": "markdown",
   "id": "53388962",
   "metadata": {
    "slideshow": {
     "slide_type": "subslide"
    }
   },
   "source": [
    "### Objective\n",
    "\n",
    "- Review the architecture of neural networks.\n",
    "- Build a neural network from scratch in order to study each component. "
   ]
  },
  {
   "cell_type": "markdown",
   "id": "cc44398f",
   "metadata": {
    "slideshow": {
     "slide_type": "subslide"
    }
   },
   "source": [
    "### Case study\n",
    "\n",
    "- **Goal:** recognize hand-written digits from the [MNIST](http://yann.lecun.com/exdb/mnist/) dataset.\n",
    "- **Dataset:**\n",
    "    - 70000 images of hand-written digits (from 0 to 9) collected in an American administration.\n",
    "    - Small and clean with well identified categories (hence its popularity in machine learning).\n",
    "    - Why? We have not yet found an equivalent dataset in climate/energy science that is small enough to quickly build and test our programs."
   ]
  },
  {
   "cell_type": "markdown",
   "id": "d2a69532",
   "metadata": {
    "slideshow": {
     "slide_type": "subslide"
    }
   },
   "source": [
    "Here is an example of a sequence of numbers from this dataset:\n",
    "\n",
    "<img alt=\"weather\" src=\"images/MnistExamples.png\" width=600 style=\"float:center\">\n",
    "\n",
    "**Figure:** 28 x 28 pixels images of handwritten numbers from 0 to 9. Author: Suvanjanprasai. License: [CC BY-SA](https://creativecommons.org/licenses/by-sa/4.0/deed.en).\n",
    "\n"
   ]
  },
  {
   "cell_type": "markdown",
   "id": "7e91f51b",
   "metadata": {
    "slideshow": {
     "slide_type": "subslide"
    }
   },
   "source": [
    "In this figure:\n",
    "- One has no issue recognizing each digit: for each image, we immediately attach a label to our visual impression.\n",
    "- Yet, the task of writing a computer program that is able to identify each individual image seems complicated.\n",
    "- Each digit can indeed be written in many different ways and there are no clear logical instructions on how to proceed to identify the digit pattern.\n",
    "\n",
    "The following code cells read and plot the MNIST data."
   ]
  },
  {
   "cell_type": "code",
   "execution_count": 1,
   "id": "575f3c1a",
   "metadata": {
    "slideshow": {
     "slide_type": "subslide"
    }
   },
   "outputs": [],
   "source": [
    "import gzip\n",
    "import numpy as np\n",
    "import matplotlib.pyplot as plt\n",
    "from pathlib import Path\n",
    "\n",
    "# MNIST image size\n",
    "MNIST_IM_SIZE = 28\n",
    "\n",
    "# MNIST directory\n",
    "DIR_MNIST = Path('data', 'mnist')\n",
    "\n",
    "# MNIST training set configuration\n",
    "N_TRAIN = 60000\n",
    "FILE_TRAIN_IMAGES = 'train-images-idx3-ubyte.gz'\n",
    "FILE_TRAIN_LABELS = 'train-labels-idx1-ubyte.gz'\n",
    "\n",
    "# MNIST test set configuration\n",
    "N_TEST = 10000\n",
    "FILE_TEST_IMAGES = 't10k-images-idx3-ubyte.gz'\n",
    "FILE_TEST_LABELS = 't10k-labels-idx1-ubyte.gz'"
   ]
  },
  {
   "cell_type": "code",
   "execution_count": 2,
   "id": "7235cb04",
   "metadata": {
    "slideshow": {
     "slide_type": "subslide"
    }
   },
   "outputs": [],
   "source": [
    "def load_mnist_images(filename, num_images, mnist_im_size=MNIST_IM_SIZE):\n",
    "    '''\n",
    "    return flatten images\n",
    "    '''\n",
    "    f = gzip.open(filename,'r')\n",
    "    f.read(16)\n",
    "    buf = f.read(num_images * mnist_im_size**2)\n",
    "    images = np.frombuffer(buf, dtype=np.uint8) / 255.\n",
    "    images = images.reshape(num_images, mnist_im_size**2)\n",
    "    f.close()\n",
    "\n",
    "    return images\n",
    "\n",
    "def load_mnist_labels(filename, num_labels):\n",
    "\n",
    "    f = gzip.open(filename, 'r')\n",
    "    f.read(8)\n",
    "    buf = f.read(num_labels)\n",
    "    labels = np.frombuffer(buf, dtype=np.uint8).astype(np.int64)\n",
    "    f.close()\n",
    "  \n",
    "    return labels\n",
    "\n",
    "def plot_mnist_image(image, cmap=plt.cm.gray_r):\n",
    "    n_side = int(np.sqrt(len(image)))\n",
    "    plt.figure()\n",
    "    plt.imshow(image.reshape((n_side, n_side)), cmap=cmap)"
   ]
  },
  {
   "cell_type": "code",
   "execution_count": 3,
   "id": "e8d041da",
   "metadata": {
    "slideshow": {
     "slide_type": "subslide"
    }
   },
   "outputs": [],
   "source": [
    "# Read training set\n",
    "X_train = load_mnist_images(Path(DIR_MNIST, FILE_TRAIN_IMAGES), N_TRAIN)\n",
    "y_train = load_mnist_labels(Path(DIR_MNIST, FILE_TRAIN_LABELS), N_TRAIN)\n",
    "\n",
    "# Read test set\n",
    "X_test  = load_mnist_images(Path(DIR_MNIST, FILE_TEST_IMAGES), N_TEST)\n",
    "y_test  = load_mnist_labels(Path(DIR_MNIST, FILE_TEST_LABELS), N_TEST)"
   ]
  },
  {
   "cell_type": "code",
   "execution_count": 4,
   "id": "7ef1c805",
   "metadata": {
    "slideshow": {
     "slide_type": "subslide"
    }
   },
   "outputs": [
    {
     "data": {
      "image/png": "[encoded data removed]",
      "text/plain": [
       "<Figure size 640x480 with 1 Axes>"
      ]
     },
     "metadata": {},
     "output_type": "display_data"
    },
    {
     "data": {
      "image/png": "[encoded data removed]",
      "text/plain": [
       "<Figure size 640x480 with 1 Axes>"
      ]
     },
     "metadata": {},
     "output_type": "display_data"
    }
   ],
   "source": [
    "# Plot examples of 0 and 9\n",
    "plot_mnist_image(X_train[1])\n",
    "plot_mnist_image(X_train[4])"
   ]
  },
  {
   "cell_type": "markdown",
   "id": "6050037d",
   "metadata": {
    "slideshow": {
     "slide_type": "subslide"
    }
   },
   "source": [
    "### Supervised-learning approach\n",
    "\n",
    "- **Classification problem:** Learn the patterns from a training set made of couples of an image and a number between 0 and 9 ($K = 10$).\n",
    "- **Discriminative model:** Directly predict the probability $P(C = k | \\boldsymbol X = \\boldsymbol x)$ to observe a $k$th digit given the image $\\boldsymbol x$.\n",
    "\n",
    "The function to estimate is thus,\n",
    "\n",
    "\\begin{equation}\n",
    "\\boldsymbol y = f(\\boldsymbol x),\n",
    "\\end{equation}\n",
    "\n",
    "where $\\boldsymbol y$ is a $K$-dimensional vector such that its $k$th element corresponds to the probability $P(C = k | \\boldsymbol X = \\boldsymbol x)$ (see [Classification II: Discriminative models\n",
    "](07_classification_discriminative.ipynb))."
   ]
  },
  {
   "cell_type": "markdown",
   "id": "54ae3c1f",
   "metadata": {
    "slideshow": {
     "slide_type": "subslide"
    }
   },
   "source": [
    "In the example of handwritten digits:\n",
    "- $\\boldsymbol x$ is a multivariate vector that contains the grayscale value of each pixel of the image.\n",
    "- Each image of this dataset is 28 pixels by 28 pixels and so each vector of the input space has dimension $p =784$.\n",
    "- The convention that 0 is white and 1 is black is followed.\n",
    "- Any value between 0 and 1 corresponds to some level of gray."
   ]
  },
  {
   "cell_type": "markdown",
   "id": "44b351fa",
   "metadata": {
    "slideshow": {
     "slide_type": "subslide"
    }
   },
   "source": [
    "<div class=\"alert alert-block alert-warning\">\n",
    "    <b>Warning</b>\n",
    "    \n",
    "This dataset is interesting for teaching purposes but it may also convey the idea that neural networks are simple and always work.\n",
    "    \n",
    "Dealing with more serious machine learning problems, one soon realizes that datasets tend to be more complex.\n",
    "</div>"
   ]
  },
  {
   "cell_type": "markdown",
   "id": "143c0ec3",
   "metadata": {
    "slideshow": {
     "slide_type": "subslide"
    }
   },
   "source": [
    "## Building blocks of Neural Networks"
   ]
  },
  {
   "cell_type": "markdown",
   "id": "9a02f79c",
   "metadata": {
    "slideshow": {
     "slide_type": "subslide"
    }
   },
   "source": [
    "### Neurons\n",
    "\n",
    "In neural network terminology:\n",
    "- $\\boldsymbol x$ is the the input layer;\n",
    "- each component of $\\boldsymbol x$ is a *neuron*;\n",
    "- the numerical value held by the neuron is a real number called the *activation*;\n",
    "- a neuron is *active* (resp. *inactive*) when it holds a positive (resp. non-positive) value.\n",
    "\n",
    "Here, the activation of the input layer corresponds to the grayscale value of the corresponding pixel on the image: white pixels have activation equal to zero and black pixels have activation equal to 1."
   ]
  },
  {
   "cell_type": "markdown",
   "id": "950c0468",
   "metadata": {
    "slideshow": {
     "slide_type": "subslide"
    }
   },
   "source": [
    "#### The MNIST input layer\n",
    "\n",
    "<img alt=\"weather\" src=\"images/mnist_52.png\" width=300 style=\"float:left\">\n",
    "\n",
    "\\begin{align}\n",
    " \\boldsymbol{x} &=\n",
    " \\begin{pmatrix}\n",
    "    x_0 \\\\\n",
    "    x_1 \\\\\n",
    "    x_2 \\\\\n",
    "    \\vdots \\\\\n",
    "    x_{p - 1} \\\\\n",
    "  \\end{pmatrix}\n",
    "\\end{align}\n",
    "\n"
   ]
  },
  {
   "cell_type": "markdown",
   "id": "5f439702",
   "metadata": {
    "slideshow": {
     "slide_type": "subslide"
    }
   },
   "source": [
    "#### The MNIST output layer\n",
    "\n",
    "The values of the neurons of the output layer $\\boldsymbol y$ can be interpreted as the probabilities of each class given the input.\n",
    "\n",
    "In the MNIST example, the $k$th class corresponds to the digit $k - 1$). For instance, if\n",
    "$$\n",
    "\\boldsymbol y^\\top = \\left(0.01, 0.9, 0.2, 0.1, 0.05, 0.09, 0.05, 0.03, 0.25, 0.1\\right)\n",
    "$$\n",
    "the most probable digit is $k = 1$ (the second class).\n",
    "\n",
    "<div class=\"alert alert-block alert-warning\">\n",
    "    <b>Remark</b>\n",
    "    \n",
    "The output does not have to be between 0 and 1. In that case, one simply selects the neuron that is the most active.\n",
    "</div>\n",
    "\n"
   ]
  },
  {
   "cell_type": "markdown",
   "id": "83b2d2f0",
   "metadata": {
    "slideshow": {
     "slide_type": "subslide"
    }
   },
   "source": [
    "#### The simplest neural network for the MNIST example\n",
    "\n",
    "<img alt=\"weather\" src=\"images/nnet_mnist.png\" width=400 style=\"float:right\">\n",
    "\n",
    "The simplest neural network that one can build for this problem is represented in the following figure (mind the differences in notations with this course).\n",
    "\n",
    "Each link represents a contribution of an input to an output.\n",
    "\n",
    "Here, each contribution is linear because no activation function has been applied yet.\n",
    "\n",
    "Thus, in this network, all outputs are linear combinations of all features."
   ]
  },
  {
   "cell_type": "markdown",
   "id": "bc6b98f3",
   "metadata": {
    "slideshow": {
     "slide_type": "subslide"
    }
   },
   "source": [
    "### A two-layer linear network\n",
    "\n",
    "In the simplest construction, the outputs are linear functions of the inputs, so that\n",
    "\n",
    "\\begin{equation}\n",
    "\\hat y_k = \\sum_{j = 1}^{p} w_{kj} x_j + b_k,\n",
    "\\end{equation}\n",
    "\n",
    "for some matrix $\\boldsymbol W$ with elements $w_{kj}$, or *weights*, and some vector $\\boldsymbol b$ with elements $b_k$, or *biases*, for $0 \\le k \\le K -1 $ and $1 \\le j \\le p$.\n",
    "\n",
    "\n",
    "In matrix form,\n",
    "\n",
    "\\begin{equation}\n",
    "\\hat {\\boldsymbol y} = \\boldsymbol W \\boldsymbol x + \\boldsymbol b.\n",
    "\\end{equation}"
   ]
  },
  {
   "cell_type": "markdown",
   "id": "3fbd5418",
   "metadata": {
    "slideshow": {
     "slide_type": "subslide"
    }
   },
   "source": [
    "This is a linear regression model with multiple outputs applied to classification.\n",
    "\n",
    "If we use the Mean-Squared Error (MSE) as loss function, this is just an Ordinary Least Squares (OLS) problem.\n",
    "\n",
    "<div class=\"alert alert-block alert-warning\">\n",
    "    <b>Remark</b>\n",
    "    \n",
    "More layers could be added to this two-layer linear model.\n",
    "\n",
    "However, since a linear function of a linear function is itself linear, the resulting model would linearly link all outputs to all inputs and thus be equivalent to the two-layer linear model.\n",
    "</div>"
   ]
  },
  {
   "cell_type": "markdown",
   "id": "76db83b5",
   "metadata": {
    "slideshow": {
     "slide_type": "subslide"
    }
   },
   "source": [
    "### From a linear model to a non-linear model\n",
    "\n",
    "- Non-linear functions are now applied to the linear combination of the features.\n",
    "- These functions are referred to as *activation function*, since their role is to turn on or off a neuron, and the value they return (the state of the neuron) as the *activation*.\n",
    "- Their role is crucial since their non-linearity is what distinguishes a linear model that is able to represent linear relationships only from a neural network that can capture nonlinear interactions between features and combinations of features.\n",
    "\n",
    "Let us introduce some possible activation functions (see [Table of activation functions on Wikipedia](https://en.wikipedia.org/wiki/Activation_function#Table_of_activation_functions) for other examples)."
   ]
  },
  {
   "cell_type": "markdown",
   "id": "e22d2e30",
   "metadata": {
    "slideshow": {
     "slide_type": "subslide"
    }
   },
   "source": [
    "#### Heaviside distribution\n",
    "\n",
    "The Heaviside distribution (or step function, or binary step) is defined as\n",
    "\n",
    "\\begin{equation}\n",
    "f(x)={\\begin{cases}1,&x>0\\\\0,&x\\leq 0\\end{cases}}\n",
    "\\end{equation}\n",
    "\n",
    "If we apply this function to the weighted sum, we then get a binary neuron: its activation state is either 0 or 1.\n",
    "\n",
    "In neural network terminology, the association of the weighted sum and Heaviside activation function is called a *perceptron*."
   ]
  },
  {
   "cell_type": "markdown",
   "id": "e6bba5f8",
   "metadata": {
    "slideshow": {
     "slide_type": "subslide"
    }
   },
   "source": [
    "---\n",
    "**Perceptron**\n",
    "\n",
    "A perceptron is a function that maps an input vector $\\boldsymbol x$ to a single binary value depending on the value of the affine transformation of $\\boldsymbol x$:\n",
    "\n",
    "\\begin{equation}\n",
    "f(\\boldsymbol x) =\n",
    "\\begin{cases}\n",
    "    1 & {\\text{if }}\\ \\boldsymbol w_k^\\top \\boldsymbol x + b_k > 0\\\\\n",
    "    0 & {\\text{otherwise}}.\n",
    "\\end{cases}\n",
    "\\end{equation}\n",
    "\n",
    "---\n",
    "\n",
    "In this case, the activation state of a neuron can only be 0 or 1."
   ]
  },
  {
   "cell_type": "markdown",
   "id": "32b2a61c",
   "metadata": {
    "slideshow": {
     "slide_type": "subslide"
    }
   },
   "source": [
    "For multiple classes, we can set the output of the perceptron to the class label for the largest $\\boldsymbol w_k \\boldsymbol x + b_k$.\n",
    "\n",
    "We then have a single output $\\hat{y}$ taking as many values as class labels.\n",
    "\n",
    "We are left with an optimization problem where we need to adjust these weights and biases to minimize the error in the image recognition."
   ]
  },
  {
   "cell_type": "markdown",
   "id": "d50be2cf",
   "metadata": {
    "slideshow": {
     "slide_type": "subslide"
    }
   },
   "source": [
    "> ***Question***\n",
    "> - For this simple network, do you have an intuition for how the weights should combine to recognize a \"0\"? a \"9\"? (again think of the perceptron as a weighted sum)\n",
    "\n",
    "Let's check it with scikit-learn. For now we will let scikit-learn handle all the heavy lifting (i.e. finding the best set of weights and biases)"
   ]
  },
  {
   "cell_type": "code",
   "execution_count": 9,
   "id": "7b93f547",
   "metadata": {
    "slideshow": {
     "slide_type": "subslide"
    }
   },
   "outputs": [],
   "source": [
    "from sklearn.linear_model import Perceptron\n",
    "\n",
    "clf = Perceptron(tol=1e-3, random_state=0)\n",
    "clf.fit(X_train, y_train)\n",
    "train_score = clf.score(X_train, y_train)"
   ]
  },
  {
   "cell_type": "code",
   "execution_count": 6,
   "id": "c9342dde",
   "metadata": {
    "slideshow": {
     "slide_type": "subslide"
    }
   },
   "outputs": [
    {
     "name": "stdout",
     "output_type": "stream",
     "text": [
      "Train score (% of correct classification): 89 %\n"
     ]
    },
    {
     "data": {
      "image/png": "[encoded data removed]",
      "text/plain": [
       "<Figure size 640x480 with 1 Axes>"
      ]
     },
     "metadata": {},
     "output_type": "display_data"
    },
    {
     "data": {
      "image/png": "[encoded data removed]",
      "text/plain": [
       "<Figure size 640x480 with 1 Axes>"
      ]
     },
     "metadata": {},
     "output_type": "display_data"
    }
   ],
   "source": [
    "print('Train score (% of correct classification): {:.0f} %'.format(\n",
    "    train_score * 100))\n",
    "plot_mnist_image(clf.coef_[0])\n",
    "plot_mnist_image(clf.coef_[9])  "
   ]
  },
  {
   "cell_type": "markdown",
   "id": "65f5236d",
   "metadata": {
    "slideshow": {
     "slide_type": "subslide"
    }
   },
   "source": [
    "In the figure above, we plotted the weights for the class \"0\" and the weights for the class \"9\". You can compare these pattern with the actual \"0\" and \"9\" that we plotted above.\n",
    "\n",
    "**Interpretation:**\n",
    "\n",
    "- It seems that the weights are trying to pick up the edges of the digit pattern.\n",
    "- However, the signal seems noisy.\n",
    "- We are actually moving away from linear methods (maximum interpretability), trading interpretability against performance."
   ]
  },
  {
   "cell_type": "markdown",
   "id": "4e51f17a",
   "metadata": {
    "slideshow": {
     "slide_type": "subslide"
    }
   },
   "source": [
    "**Perceptrons limitations:**\n",
    "\n",
    "- Perceptrons are highly nonlinear functions: when the weighted sum is close the threshold, a small modification of the input parameter will introduce a change of category.\n",
    "- Perceptrons are not continuous functions and so they are not differentiable (optimization perspective).\n",
    "\n",
    "In order to overcome these limitations, let us introduce two other popular activation functions: the sigmoid and the rectifier (ReLU for Rectified Linear Unit)."
   ]
  },
  {
   "cell_type": "markdown",
   "id": "a732f84c",
   "metadata": {
    "slideshow": {
     "slide_type": "subslide"
    }
   },
   "source": [
    "#### Sigmoid activation function\n",
    "\n",
    "The sigmoid function is a good alternative to the Heaviside because the function and its derivative are continuous. (cf. classification)\n",
    "\n",
    "\n",
    "> ***Question***\n",
    ">\n",
    "> - Can you recall the main properties of the sigmoid function? What is the role of the weights and biases?"
   ]
  },
  {
   "cell_type": "code",
   "execution_count": 15,
   "id": "bbd5b25d",
   "metadata": {
    "slideshow": {
     "slide_type": "subslide"
    }
   },
   "outputs": [],
   "source": [
    "def sigmoid(x):                                        \n",
    "    return 1 / (1 + np.exp(-x))"
   ]
  },
  {
   "cell_type": "code",
   "execution_count": 8,
   "id": "602fb1a6",
   "metadata": {
    "slideshow": {
     "slide_type": "subslide"
    }
   },
   "outputs": [
    {
     "data": {
      "image/png": "[encoded data removed]",
      "text/plain": [
       "<Figure size 640x480 with 1 Axes>"
      ]
     },
     "metadata": {},
     "output_type": "display_data"
    }
   ],
   "source": [
    "x = np.linspace(-10, 10, 100)\n",
    "_ = plt.plot(x, sigmoid(x))"
   ]
  },
  {
   "cell_type": "markdown",
   "id": "ed2e80f1",
   "metadata": {
    "slideshow": {
     "slide_type": "subslide"
    }
   },
   "source": [
    "#### ReLU activation function\n",
    "\n",
    "The ReLU activation function is defined as\n",
    "\n",
    "\\begin{equation}\n",
    "f(x)=\\max(0,x)\n",
    "\\end{equation}\n",
    "\n",
    "This function will \"activate\" a neuron only if the input value is positive. Note that with this activation function, the activation level is not restricted to be between 0 an 1. Advantages of ReLU are that :\n",
    "- they are cheap to compute (later on, we are going to use millions of these units so we need to take that into account) ;\n",
    "- although its derivative is not continuous, is has nice properties for optimization purposes (the gradient does not vanish for large values of x, more on that later)."
   ]
  },
  {
   "cell_type": "code",
   "execution_count": 16,
   "id": "eef37fc3",
   "metadata": {
    "slideshow": {
     "slide_type": "subslide"
    }
   },
   "outputs": [],
   "source": [
    "def relu(x):                                         \n",
    "    return np.maximum(0, x)"
   ]
  },
  {
   "cell_type": "code",
   "execution_count": 10,
   "id": "a860d1f6",
   "metadata": {
    "slideshow": {
     "slide_type": "subslide"
    }
   },
   "outputs": [
    {
     "data": {
      "image/png": "[encoded data removed]",
      "text/plain": [
       "<Figure size 640x480 with 1 Axes>"
      ]
     },
     "metadata": {},
     "output_type": "display_data"
    }
   ],
   "source": [
    "_ = plt.plot(x, relu(x))"
   ]
  },
  {
   "cell_type": "markdown",
   "id": "43a67174",
   "metadata": {
    "slideshow": {
     "slide_type": "subslide"
    }
   },
   "source": [
    "Before to proceed, let us absorb the bias into the weight matrix to simplify the notation. To do so, we need to append a \"1\" to the $\\boldsymbol x$ vector.\n",
    "\n",
    "The affine transformation of the input vector is then given by the weighted sum:\n",
    "\n",
    "\\begin{equation}\n",
    "\\boldsymbol z = \\boldsymbol W \\boldsymbol x,\n",
    "\\end{equation}\n",
    "\n",
    "where the last column of $\\boldsymbol W$ is equal to $\\boldsymbol b$, and the dimension of $\\boldsymbol x$ is now $p + 1$."
   ]
  },
  {
   "cell_type": "markdown",
   "id": "59661750",
   "metadata": {
    "slideshow": {
     "slide_type": "subslide"
    }
   },
   "source": [
    "### Cost function\n",
    "\n",
    "In order to asses the performance of our network, we introduce the cost function that we want to minimize:\n",
    "\n",
    "$$\n",
    "C := \\frac{1}{N} \\sum_{i = 1}^N \\| \\boldsymbol y_i - \\boldsymbol {\\hat y}_i \\|^2\\, ,\n",
    "$$\n",
    "\n",
    "where $\\boldsymbol y_i$ is the target of the $i$th sample and $\\boldsymbol {\\hat y}_i$ is the network output for that sample. The sum spans the entire training set of size $N$.\n",
    "\n",
    "For an activation function $\\sigma$, the cost function for an individual input writes\n",
    "\n",
    "\\begin{equation}\n",
    "C_i := \\| \\boldsymbol y_i - \\sigma (\\boldsymbol W \\boldsymbol x_i) \\|^2\\, .\n",
    "\\end{equation}\n"
   ]
  },
  {
   "cell_type": "markdown",
   "id": "a8295eb5",
   "metadata": {
    "slideshow": {
     "slide_type": "subslide"
    }
   },
   "source": [
    "### Iterative algorithm: Gradient descent\n",
    "\n",
    "To solve this minimization problem, we follow a standard iterative algorithm known as the gradient descent.\n",
    "\n",
    "To illustrate it, let us first consider the two-class problem with a single sample:\n",
    "\n",
    "\\begin{equation}\n",
    "C := (y - \\sigma (\\boldsymbol w^\\top \\boldsymbol x) )^2\\, ,\n",
    "\\end{equation}\n",
    "\n",
    "where $y$ is a scalar.\n",
    "\n",
    "We want to find the set of weights and biases that minimize the cost function $C$. The cost function is minimum when \n",
    "\n",
    "\\begin{equation}\n",
    "\\frac{d C}{d \\boldsymbol w} = 0.\n",
    "\\end{equation}"
   ]
  },
  {
   "cell_type": "markdown",
   "id": "0cddf62f",
   "metadata": {
    "slideshow": {
     "slide_type": "subslide"
    }
   },
   "source": [
    "\n",
    "> ***Question***\n",
    "> \n",
    "> - Compute $dC/d \\boldsymbol w$.\n",
    "\n",
    "This nonlinear equation has no closed form solution so we will instead use an iterative algorithm."
   ]
  },
  {
   "cell_type": "markdown",
   "id": "e0d07153",
   "metadata": {
    "slideshow": {
     "slide_type": "subslide"
    }
   },
   "source": [
    "We start from a first guess for the weights $\\boldsymbol w^{(0)}$. For this value of the weights, we compute the value of the cost function $C$. We then add increments:\n",
    "\n",
    "\\begin{equation}\n",
    "\\boldsymbol w^{(1)} = \\boldsymbol w^{(0)} + \\delta \\boldsymbol w^{(0)}\n",
    "\\end{equation}\n",
    "\n",
    "The cost function will vary by an amount \n",
    "\n",
    "\\begin{align}\n",
    "\\Delta C &= C\\left(\\boldsymbol w^{(1)}\\right) - C\\left(\\boldsymbol w^{(0)}\\right)\\\\\n",
    "& = C\\left(\\boldsymbol w^{(0)} + \\delta \\boldsymbol w^{(0)}\\right) - C\\left(\\boldsymbol w^{(0)}\\right)\\\\\n",
    " & \\simeq \\left.\\frac{d C}{d \\boldsymbol w}\\right|_{\\boldsymbol w^{(0)}} \\delta \\boldsymbol w^{(0)}\n",
    "\\end{align}"
   ]
  },
  {
   "cell_type": "markdown",
   "id": "1dda438b",
   "metadata": {
    "slideshow": {
     "slide_type": "subslide"
    }
   },
   "source": [
    "> ***Question***\n",
    ">\n",
    ">- Show that if we choose \n",
    "\\begin{equation}\n",
    "\\delta \\boldsymbol w = - \\lambda  \\left[\\frac{d C}{d \\boldsymbol w}\\right]^\\top\n",
    "\\end{equation}\n",
    "> then at each iteration, we have $\\Delta C < 0$ when $\\lambda$ is a positive number.\n"
   ]
  },
  {
   "cell_type": "markdown",
   "id": "9760f802",
   "metadata": {
    "slideshow": {
     "slide_type": "subslide"
    }
   },
   "source": [
    "The parameter $\\lambda$ is called the *learning rate*.\n",
    "\n",
    "In the limit where linearity holds we can compute the little increments in the weights and biases that ensure that the cost function will decrease.\n",
    "\n",
    "This method is called the *gradient descent*."
   ]
  },
  {
   "cell_type": "markdown",
   "id": "bd5cb1e6",
   "metadata": {
    "slideshow": {
     "slide_type": "subslide"
    }
   },
   "source": [
    "### Illustration of the gradient descent\n",
    "\n",
    "We illustrate the gradient descent technique in the next figure for the case where $\\boldsymbol w$ is dimension 2. The cost function $C$ is plotted with contours: it is minimum in the yellow area. The initial guess $\\boldsymbol w^{(0)}$ is plotted with the red dot. The value of $\\boldsymbol w$ for which $dC/d\\boldsymbol w = 0$ is plotted with a red cross.\n",
    "\n",
    "\n",
    "<img alt=\"weather\" src=\"images/gradient_descent.png\" width=400 style=\"float:center\">\n"
   ]
  },
  {
   "cell_type": "markdown",
   "id": "9f23d1c4",
   "metadata": {
    "slideshow": {
     "slide_type": "subslide"
    }
   },
   "source": [
    "> ***Question***\n",
    ">\n",
    "> - What is the problem if $\\lambda$ is too small? too big?\n",
    "> - What happens if the cost function is a complicated function of $\\mathbf w$ with many local minima?\n",
    "\n",
    "In practice, the gradient descent method works well but is slow to converge.\n",
    "\n",
    "There are other methods that have better convergence properties for this iterative process: [Newton-Raphson](https://en.wikipedia.org/wiki/Newton%27s_method), [Conjugate gradient](https://en.wikipedia.org/wiki/Conjugate_gradient_method), etc (see turorial)"
   ]
  },
  {
   "cell_type": "markdown",
   "id": "1775ea7e",
   "metadata": {
    "slideshow": {
     "slide_type": "subslide"
    }
   },
   "source": [
    "### Hidden layers"
   ]
  },
  {
   "cell_type": "markdown",
   "id": "b3d623ac",
   "metadata": {
    "slideshow": {
     "slide_type": "subslide"
    }
   },
   "source": [
    "In the perceptron model, the complexity of the relationship between the input and the output is limited. \n",
    "\n",
    "To overcome this limitation, one way is to add one or more *hidden layers* of neurons between the input and output layers."
   ]
  },
  {
   "cell_type": "markdown",
   "id": "f3be17ee",
   "metadata": {
    "slideshow": {
     "slide_type": "subslide"
    }
   },
   "source": [
    "The motivation to add these layers is to break down the problem into multiple small task, e.g. \"pick and edge\" and \"find a strait line\" in the case of the digit recognition.\n",
    "\n",
    "<img alt=\"weather\" src=\"images/hidden_layer.png\" width=400 style=\"float:center\">"
   ]
  },
  {
   "cell_type": "markdown",
   "id": "57452641",
   "metadata": {
    "slideshow": {
     "slide_type": "subslide"
    }
   },
   "source": [
    "The figure above is an illustration of the simplest possible architecture of a neural network: it comprises an input layer of $p$ neurons, one hidden layer, and one output layer.\n",
    "\n",
    "For historical reasons, neural networks are sometimes called *multi-layer perceptron (MLP)* even if the activation functions in the hidden layers do not constitute a perceptron."
   ]
  },
  {
   "cell_type": "markdown",
   "id": "30b66ecf",
   "metadata": {
    "slideshow": {
     "slide_type": "subslide"
    }
   },
   "source": [
    "## Universal approximation theorem\n",
    "\n",
    "Why could adding more layers help? \n",
    "\n",
    "The universal approximation theorem  states that a feedforward network with at least one hidden layer can approximate any continuous function with an (training) error that can be made as small as we want by adding neurons in the hidden layer.\n",
    "\n",
    "Of course, the function $\\boldsymbol x \\to \\boldsymbol y = f(\\boldsymbol x)$ should exist for this theorem to be applied.\n",
    "\n",
    "Hence, neural networks are \"universal\" tools (can be used every time we believe there exists a mapping: digit recognition, classification, uncover physical laws...)."
   ]
  },
  {
   "cell_type": "markdown",
   "id": "623bfcdf",
   "metadata": {
    "slideshow": {
     "slide_type": "subslide"
    }
   },
   "source": [
    "One caveat however is that, if we are guaranteed the existence of a network, we have no guidance on how to find such network. We need to build a strategy to find the weights and biases to find that optimal solution.\n",
    "\n",
    "Plus, minimizing the training error could lead to overfitting ; it is the expected prediction error that should be minimized."
   ]
  },
  {
   "cell_type": "markdown",
   "id": "d52030dd",
   "metadata": {
    "slideshow": {
     "slide_type": "slide"
    }
   },
   "source": [
    "## Training a neural network: backpropagation\n",
    "\n",
    "Let us consider the case where we have more than one hidden layer.\n",
    "\n",
    "We write with a subscript $\\boldsymbol a^l$ the activation in the $l^{th}$ layer. So we have,\n",
    "\n",
    "\\begin{equation}\n",
    "\\boldsymbol a^l = \\sigma \\left( \\boldsymbol W^l \\boldsymbol a^{l-1} \\right)\n",
    "\\end{equation}\n",
    "\n",
    "with $\\boldsymbol W^l$ the matrix of weights (including the bias) to compute the activation in layer $l$ and for some activation function $\\sigma$.\n",
    "\n",
    "The activation in the first layer is fixed to the input, $\\boldsymbol x = \\boldsymbol a^0$, while the activation  in the last layer gives the output, $\\boldsymbol y = \\boldsymbol a^L$, resulting in $L + 1$ layers."
   ]
  },
  {
   "cell_type": "markdown",
   "id": "97fc5146",
   "metadata": {
    "slideshow": {
     "slide_type": "subslide"
    }
   },
   "source": [
    "We note,\n",
    "\n",
    "\\begin{equation}\n",
    "\\boldsymbol z^l := \\boldsymbol W^l \\boldsymbol a^{l-1},\n",
    "\\end{equation}\n",
    "\n",
    "the weighted sum in layer $l$."
   ]
  },
  {
   "cell_type": "markdown",
   "id": "793f3628",
   "metadata": {
    "slideshow": {
     "slide_type": "subslide"
    }
   },
   "source": [
    "> ***Question***\n",
    ">\n",
    "> - If there are $p$ neurons in layer $l-1$ and $q$ neurons in layer $l$, what is the dimension of each of the terms in the equation above? (Hint: don't forget about the bias.)"
   ]
  },
  {
   "cell_type": "markdown",
   "id": "f41f8e8b",
   "metadata": {
    "slideshow": {
     "slide_type": "subslide"
    }
   },
   "source": [
    "The cost function is\n",
    "\n",
    "\\begin{equation}\n",
    "C = \\frac{1}{N}\\sum_{i = 1}^N \\| \\boldsymbol y_i - \\boldsymbol a^L_i \\|^2\\, .\n",
    "\\end{equation}\n",
    "\n",
    "We want to compute the derivative of this cost function with respect to **all** weights and biases in the network in order to use the gradient descent algorithm:\n",
    "\n",
    "\\begin{equation}\n",
    "\\frac{\\partial C}{\\partial \\boldsymbol W^l} \\, ,\n",
    "\\end{equation}\n",
    "for all $l$."
   ]
  },
  {
   "cell_type": "markdown",
   "id": "cc4ac682",
   "metadata": {
    "slideshow": {
     "slide_type": "subslide"
    }
   },
   "source": [
    "Observe that the derivatives in one layer is related to the derivatives in the previous layers by the chain rule:\n",
    "\n",
    "\\begin{equation}\n",
    "\\frac{\\partial C}{\\partial \\boldsymbol W^l} = \\frac{\\partial C}{\\partial \\boldsymbol z^l} \\frac{\\partial \\boldsymbol z^l}{\\partial \\boldsymbol W^l}.\n",
    "\\end{equation}\n",
    "\n",
    "Let us introduce the notation\n",
    "\n",
    "\\begin{equation}\n",
    "\\boldsymbol \\delta^l = \\frac{\\partial C}{\\partial \\boldsymbol z^l},\n",
    "\\end{equation}\n",
    "\n",
    "which is a row vector according to our numerator layout convention."
   ]
  },
  {
   "cell_type": "markdown",
   "id": "bbcebe09",
   "metadata": {
    "slideshow": {
     "slide_type": "subslide"
    }
   },
   "source": [
    "Let's first derive $\\mathbf \\delta^L$ in the last layer. For a single point,\n",
    "\n",
    "\\begin{equation}\n",
    "C = (\\boldsymbol y - \\sigma(\\boldsymbol z^L))^\\top ( \\boldsymbol y - \\sigma (\\boldsymbol z^L))\\, ,\n",
    "\\end{equation}\n",
    "\n",
    "so,\n",
    "\n",
    "\\begin{equation}\n",
    "\\boldsymbol \\delta^L = -2( \\boldsymbol y - \\sigma(\\boldsymbol z^L))^\\top \\Sigma' (\\boldsymbol z^L))\\, ,\n",
    "\\end{equation}\n",
    "\n",
    "where $\\Sigma'$ is a matrix with diagonal entries which are $\\sigma'(\\boldsymbol z^l)$."
   ]
  },
  {
   "cell_type": "markdown",
   "id": "4a1c41dc",
   "metadata": {
    "slideshow": {
     "slide_type": "subslide"
    }
   },
   "source": [
    "The derivative of a vector by a matrix is given by\n",
    "\n",
    "\\begin{equation}\n",
    "\\frac{\\partial \\boldsymbol z^l}{\\partial \\boldsymbol W^l} = \\frac{\\partial }{\\partial \\boldsymbol W^l}  \\boldsymbol W^l \\boldsymbol a^{l-1},\n",
    "\\end{equation}\n",
    "\n",
    "which is a tensor of order 3 with a lot of zeros in it (sparsity).\n",
    "\n",
    "The above equation simplifies in\n",
    "\n",
    "\\begin{equation}\n",
    "\\frac{\\partial C}{\\partial \\boldsymbol W^l} = \\boldsymbol a^{l-1} \\delta^l.\n",
    "\\end{equation}"
   ]
  },
  {
   "cell_type": "markdown",
   "id": "aa59b3f2",
   "metadata": {
    "slideshow": {
     "slide_type": "subslide"
    }
   },
   "source": [
    "> ***Question***\n",
    ">\n",
    "> - What is the physical interpretation of this derivative?\n",
    "> - *(Optional)* Verify that $\\frac{\\partial C}{\\partial \\boldsymbol W^l}$ is the same dimension as ${\\boldsymbol W^l}^\\top$"
   ]
  },
  {
   "cell_type": "markdown",
   "id": "3bd1d19e",
   "metadata": {
    "slideshow": {
     "slide_type": "subslide"
    }
   },
   "source": [
    "In addition, the chain rule gives us the following recurrence relation,\n",
    "\n",
    "\\begin{align}\n",
    "\\boldsymbol \\delta^l &= \\frac{\\partial C}{\\partial \\boldsymbol z^{l+1}} \\frac{\\partial \\boldsymbol z^{l+1}}{\\partial \\mathbf z^{l}}\\\\\n",
    "&= \\boldsymbol \\delta^{l+1} \\frac{\\partial \\boldsymbol z^{l+1}}{\\partial \\boldsymbol z^{l}}.\n",
    "\\end{align}"
   ]
  },
  {
   "cell_type": "markdown",
   "id": "a3a5e0c0",
   "metadata": {
    "slideshow": {
     "slide_type": "subslide"
    }
   },
   "source": [
    "Moreover we have\n",
    "\n",
    "\\begin{equation}\n",
    "\\boldsymbol z^{l+1} = \\boldsymbol W^{l+1} \\boldsymbol a^l = \\boldsymbol W^{l+1} \\sigma(\\boldsymbol z^l)\n",
    "\\end{equation}\n",
    "\n",
    "so \n",
    "\n",
    "\\begin{equation}\n",
    "\\frac{\\partial \\boldsymbol z^{l+1}}{\\partial \\boldsymbol z^{l}} = \\boldsymbol W^{l+1} \\Sigma'(\\boldsymbol z^l).\n",
    "\\end{equation}"
   ]
  },
  {
   "cell_type": "markdown",
   "id": "243a688f",
   "metadata": {
    "slideshow": {
     "slide_type": "subslide"
    }
   },
   "source": [
    "So we have\n",
    "\n",
    "\\begin{equation}\n",
    "\\boldsymbol \\delta^l = \\boldsymbol \\delta^{l+1} \\boldsymbol W^{l+1} \\Sigma'(\\boldsymbol z^l)\n",
    "\\end{equation}"
   ]
  },
  {
   "cell_type": "markdown",
   "id": "99b3f4d8",
   "metadata": {
    "slideshow": {
     "slide_type": "subslide"
    }
   },
   "source": [
    "> ***Question***\n",
    "> \n",
    "> - Suppose that there are $p$ neurons in layer $l$ and $q$ neurons in layer $l+1$. What is the dimension of all the terms in the equation above?\n",
    "> - Since $\\Sigma'$ is a diagonal matrix, how are you going to compute the product of these 3 elements in a computer program?"
   ]
  },
  {
   "cell_type": "markdown",
   "id": "d243336d",
   "metadata": {
    "slideshow": {
     "slide_type": "subslide"
    }
   },
   "source": [
    "<div class=\"alert alert-block alert-info\">\n",
    "    <b>Main equations</b>\n",
    "\n",
    "- \\begin{equation}\n",
    "\\frac{\\partial C}{\\partial \\boldsymbol W^l} = \\boldsymbol a^{l-1} \\delta^l\n",
    "\\end{equation}\n",
    "    \n",
    "- \\begin{equation}\n",
    "\\boldsymbol \\delta^l = \\boldsymbol \\delta^{l+1} \\boldsymbol W^{l+1} \\Sigma'(\\boldsymbol z^l)\n",
    "\\end{equation}\n",
    "    \n",
    "    \n",
    "- \\begin{equation}\n",
    "\\boldsymbol \\delta^L = -2( \\boldsymbol y - \\sigma(\\boldsymbol z^L))^\\top \\Sigma' (\\boldsymbol z^L))\\, ,\n",
    "\\end{equation}\n",
    "</div>"
   ]
  },
  {
   "cell_type": "markdown",
   "id": "45f3da11",
   "metadata": {
    "slideshow": {
     "slide_type": "subslide"
    }
   },
   "source": [
    "Let us implement these formula in the [Tutorial: Universal approximation theorem](10_tutorial_neural_networks.ipynb) and see if we can make sense of it."
   ]
  },
  {
   "cell_type": "markdown",
   "id": "631f9b78",
   "metadata": {
    "slideshow": {
     "slide_type": "subslide"
    }
   },
   "source": [
    "## References\n",
    "\n",
    "- [Chap. 6 in Goodfellow, I., Bengio, Y., Courville, A., 2016. *Deep Learning*. MIT Press, Cambridge](https://www.deeplearningbook.org/contents/mlp.html).\n"
   ]
  },
  {
   "cell_type": "markdown",
   "id": "5e186998",
   "metadata": {
    "slideshow": {
     "slide_type": "slide"
    }
   },
   "source": [
    "***\n",
    "## Credit\n",
    "\n",
    "[//]: # \"This notebook is part of [E4C Interdisciplinary Center - Education](https://gitlab.in2p3.fr/energy4climate/public/education).\"\n",
    "Contributors include Bruno Deremble and Alexis Tantet.\n",
    "\n",
    "<br>\n",
    "\n",
    "<div style=\"display: flex; height: 70px\">\n",
    "    \n",
    "<img alt=\"Logo LMD\" src=\"images/logos/logo_lmd.jpg\" style=\"display: inline-block\"/>\n",
    "\n",
    "<img alt=\"Logo IPSL\" src=\"images/logos/logo_ipsl.png\" style=\"display: inline-block\"/>\n",
    "\n",
    "<img alt=\"Logo E4C\" src=\"images/logos/logo_e4c_final.png\" style=\"display: inline-block\"/>\n",
    "\n",
    "<img alt=\"Logo EP\" src=\"images/logos/logo_ep.png\" style=\"display: inline-block\"/>\n",
    "\n",
    "<img alt=\"Logo SU\" src=\"images/logos/logo_su.png\" style=\"display: inline-block\"/>\n",
    "\n",
    "<img alt=\"Logo ENS\" src=\"images/logos/logo_ens.jpg\" style=\"display: inline-block\"/>\n",
    "\n",
    "<img alt=\"Logo CNRS\" src=\"images/logos/logo_cnrs.png\" style=\"display: inline-block\"/>\n",
    "    \n",
    "</div>\n",
    "\n",
    "<hr>\n",
    "\n",
    "<div style=\"display: flex\">\n",
    "    <a rel=\"license\" href=\"http://creativecommons.org/licenses/by-sa/4.0/\"><img alt=\"Creative Commons License\" style=\"border-width:0; margin-right: 10px\" src=\"https://i.creativecommons.org/l/by-sa/4.0/88x31.png\" /></a>\n",
    "    <br>This work is licensed under a &nbsp; <a rel=\"license\" href=\"http://creativecommons.org/licenses/by-sa/4.0/\">Creative Commons Attribution-ShareAlike 4.0 International License</a>.\n",
    "</div>"
   ]
  },
  {
   "cell_type": "markdown",
   "id": "2aa72f62",
   "metadata": {},
   "source": [
    "#  "
   ]
  }
 ],
 "metadata": {
  "celltoolbar": "Slideshow",
  "kernelspec": {
   "display_name": "Python 3 (ipykernel)",
   "language": "python",
   "name": "python3"
  },
  "language_info": {
   "codemirror_mode": {
    "name": "ipython",
    "version": 3
   },
   "file_extension": ".py",
   "mimetype": "text/x-python",
   "name": "python",
   "nbconvert_exporter": "python",
   "pygments_lexer": "ipython3",
   "version": "3.9.16"
  },
  "latex_envs": {
   "LaTeX_envs_menu_present": true,
   "autoclose": true,
   "autocomplete": false,
   "bibliofile": "biblio.bib",
   "cite_by": "apalike",
   "current_citInitial": 1,
   "eqLabelWithNumbers": true,
   "eqNumInitial": 1,
   "hotkeys": {
    "equation": "Ctrl-E",
    "itemize": "Ctrl-I"
   },
   "labels_anchors": false,
   "latex_user_defs": false,
   "report_style_numbering": false,
   "user_envs_cfg": false
  },
  "toc": {
   "base_numbering": 1,
   "nav_menu": {},
   "number_sections": true,
   "sideBar": true,
   "skip_h1_title": false,
   "title_cell": "Table of Contents",
   "title_sidebar": "Contents",
   "toc_cell": false,
   "toc_position": {},
   "toc_section_display": true,
   "toc_window_display": false
  },
  "varInspector": {
   "cols": {
    "lenName": 16,
    "lenType": 16,
    "lenVar": 40
   },
   "kernels_config": {
    "python": {
     "delete_cmd_postfix": "",
     "delete_cmd_prefix": "del ",
     "library": "var_list.py",
     "varRefreshCmd": "print(var_dic_list())"
    },
    "r": {
     "delete_cmd_postfix": ") ",
     "delete_cmd_prefix": "rm(",
     "library": "var_list.r",
     "varRefreshCmd": "cat(var_dic_list()) "
    }
   },
   "types_to_exclude": [
    "module",
    "function",
    "builtin_function_or_method",
    "instance",
    "_Feature"
   ],
   "window_display": false
  }
 },
 "nbformat": 4,
 "nbformat_minor": 5
}
