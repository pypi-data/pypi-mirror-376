{
 "cells": [
  {
   "cell_type": "markdown",
   "id": "12186250-3434-4bc5-8938-41cdc5be82f6",
   "metadata": {
    "tags": []
   },
   "source": [
    "# Machine Learning for Climate and Energy\n",
    "\n",
    "## Table of contents\n",
    "\n",
    "#### [Introduction](01_introduction.ipynb)\n",
    "#### [Tutorial: Python basics](01_tutorial_introduction.ipynb)\n",
    "---\n",
    "#### [Supervised Learning Problem](02_supervised_learning_problem.ipynb)\n",
    "#### [Tutorial: Supervised Learning Problem and Least Squares](02_tutorial_supervised_learning_problem_ols.ipynb)\n",
    "---\n",
    "#### [Ordinary Least Squares](03_ordinary_least_squares.ipynb)\n",
    "#### [Tutorial: Supervised Learning Problem and Least Squares](02_tutorial_supervised_learning_problem_ols.ipynb)\n",
    "---\n",
    "#### [Overfitting/Underfitting and Bias/Variance](04_overfitting_underfitting_bias_variance.ipynb) \n",
    "#### [Tutorial: Overfitting/Underfitting and Bias/Variance](04_tutorial_overfitting_underfitting_bias_variance.ipynb)\n",
    "---\n",
    "#### [Regularization, Model Selection and Evaluation](05_regularization_selection_evaluation.ipynb)\n",
    "#### [Tutorial: Regularization, Model Selection and Evaluation](05_tutorial_regularization_selection_evaluation.ipynb)\n",
    "---\n",
    "#### [Classification I: Generative models](06_classification_generative.ipynb)\n",
    "#### [Tutorial on Classification I: Generative models](06_tutorial_classification_generative.ipynb)\n",
    "---\n",
    "#### [Classification II: Discriminative models](07_classification_discriminative.ipynb)\n",
    "#### [Tutorial on Classification II: Dimension reduction](07_tutorial_classification_discriminative.ipynb)\n",
    "---\n",
    "#### [Introduction to Unsupervised Learning with a Focus on PCA](08_unsupervised_learning_pca.ipynb)\n",
    "#### [Tutorial: Introduction to Unsupervised Learning with a Focus on PCA](08_tutorial_unsupervised_learning_pca.ipynb)\n",
    "---\n",
    "#### [Ensemble Methods for Regression](09_ensemble_methods.ipynb)\n",
    "#### [Tutorial: Ensemble Methods for Wind Capacity Factor Prediction](09_tutorial_ensemble_methods_windcf_prediction.ipynb)\n",
    "#### [Tutorial: Ensemble Methods for Electricity Demand Prediction](09_tutorial_ensemble_methods_demand_prediction.ipynb)\n",
    "---\n",
    "#### [Neural Networks](10_neural_networks.ipynb)\n",
    "#### [Tutorial: Universal approximation theorem](10_tutorial_neural_networks.ipynb)\n",
    "---\n",
    "#### [Neural network regularization and deep learning](11_intro_deep_learning.ipynb)\n",
    "---\n",
    "#### [Projects](projects.ipynb)\n",
    "---\n",
    "#### [Appendix: Matrix calculus](appendix_matrix_calculus.ipynb)\n",
    "#### [Appendix: A primer on random variables and probabilities](appendix_random_variables.ipynb)\n",
    "#### [Appendix: Elements of Probability Theory](appendix_elements_of_probability_theory.ipynb)\n",
    "#### [Appendix: Supplementary Material](appendix_supplementary_matrial.ipynb)"
   ]
  },
  {
   "cell_type": "markdown",
   "id": "0f3d109c-394c-418c-951b-2480416e2a38",
   "metadata": {},
   "source": [
    "***\n",
    "## Credit\n",
    "\n",
    "[//]: # \"This notebook is part of [E4C Interdisciplinary Center - Education](https://gitlab.in2p3.fr/energy4climate/public/education).\"\n",
    "Contributors include Bruno Deremble and Alexis Tantet.\n",
    "Several slides and images are taken from the very good [Scikit-learn course](https://inria.github.io/scikit-learn-mooc/).\n",
    "\n",
    "<br>\n",
    "\n",
    "<div style=\"display: flex; height: 70px\">\n",
    "    \n",
    "<img alt=\"Logo LMD\" src=\"images/logos/logo_lmd.jpg\" style=\"display: inline-block\"/>\n",
    "\n",
    "<img alt=\"Logo IPSL\" src=\"images/logos/logo_ipsl.png\" style=\"display: inline-block\"/>\n",
    "\n",
    "<img alt=\"Logo E4C\" src=\"images/logos/logo_e4c_final.png\" style=\"display: inline-block\"/>\n",
    "\n",
    "<img alt=\"Logo EP\" src=\"images/logos/logo_ep.png\" style=\"display: inline-block\"/>\n",
    "\n",
    "<img alt=\"Logo SU\" src=\"images/logos/logo_su.png\" style=\"display: inline-block\"/>\n",
    "\n",
    "<img alt=\"Logo ENS\" src=\"images/logos/logo_ens.jpg\" style=\"display: inline-block\"/>\n",
    "\n",
    "<img alt=\"Logo CNRS\" src=\"images/logos/logo_cnrs.png\" style=\"display: inline-block\"/>\n",
    "    \n",
    "</div>\n",
    "\n",
    "<hr>\n",
    "\n",
    "<div style=\"display: flex\">\n",
    "    <a rel=\"license\" href=\"http://creativecommons.org/licenses/by-sa/4.0/\"><img alt=\"Creative Commons License\" style=\"border-width:0; margin-right: 10px\" src=\"https://i.creativecommons.org/l/by-sa/4.0/88x31.png\" /></a>\n",
    "    <br>This work is licensed under a &nbsp; <a rel=\"license\" href=\"http://creativecommons.org/licenses/by-sa/4.0/\">Creative Commons Attribution-ShareAlike 4.0 International License</a>.\n",
    "</div>"
   ]
  }
 ],
 "metadata": {
  "kernelspec": {
   "display_name": "Python 3",
   "language": "python",
   "name": "python3"
  },
  "language_info": {
   "codemirror_mode": {
    "name": "ipython",
    "version": 3
   },
   "file_extension": ".py",
   "mimetype": "text/x-python",
   "name": "python",
   "nbconvert_exporter": "python",
   "pygments_lexer": "ipython3",
   "version": "3.9.12"
  }
 },
 "nbformat": 4,
 "nbformat_minor": 5
}
