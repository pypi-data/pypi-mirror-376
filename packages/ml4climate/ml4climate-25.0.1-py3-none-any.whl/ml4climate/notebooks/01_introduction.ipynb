{
 "cells": [
  {
   "cell_type": "markdown",
   "id": "5eb8c31b",
   "metadata": {
    "slideshow": {
     "slide_type": "slide"
    }
   },
   "source": [
    "# Introduction\n",
    "\n",
    "[![Binder](https://mybinder.org/badge_logo.svg)](https://mybinder.org/v2/git/https%3A%2F%2Fgitlab.in2p3.fr%2Fenergy4climate%2Fpublic%2Feducation%2Fmachine_learning_for_climate_and_energy/master?filepath=book%2Fnotebooks%2F01_introduction.ipynb)"
   ]
  },
  {
   "cell_type": "markdown",
   "id": "3a485dc1",
   "metadata": {
    "slideshow": {
     "slide_type": "subslide"
    }
   },
   "source": [
    "<div class=\"alert alert-block alert-warning\">\n",
    "    <b>Prerequisites</b>\n",
    "    \n",
    "- Basics in linear algebra and calculus\n",
    "- Basics in python\n",
    "\n",
    "</div>"
   ]
  },
  {
   "cell_type": "markdown",
   "id": "8790b2ae",
   "metadata": {
    "slideshow": {
     "slide_type": "subslide"
    }
   },
   "source": [
    "<div class=\"alert alert-block alert-info\">\n",
    "    <b>Learning Outcomes</b>\n",
    "    \n",
    "- Definitions: bias, variance, irreducible error, underfitting, overfitting\n",
    "- Introduction to probabilistic machine learning\n",
    "\n",
    "</div>"
   ]
  },
  {
   "cell_type": "markdown",
   "id": "4593b779",
   "metadata": {
    "slideshow": {
     "slide_type": "slide"
    }
   },
   "source": [
    "## The IPCC report\n",
    "\n",
    "<img alt=\"AR6\" src=\"images/ar6_cover.jpeg\" width=200 style=\"float:center\">\n",
    "\n",
    "\n",
    "The working group 1 (WG1) of the Intergovernmental Panel on Climate Change (IPCC) is a group of scientists who assess and quantify climate change. In order to provide an accurate description of the future climate, they use numerical models also known as Climate Model Intercomparison Project (CMIP)."
   ]
  },
  {
   "cell_type": "markdown",
   "id": "542bb6fb",
   "metadata": {
    "slideshow": {
     "slide_type": "subslide"
    }
   },
   "source": [
    "- There are many components in a climate model: the main two parts are the oceanic model and the atmospheric model. Both models predict the evolution of state variable (temperature, velocity, CO2, etc.) on predefined grid points. In order to get an accurate prediction of the CO2 concentration, we also need to have a specific model to capture the dynamics of living ecosystems and biogeochemical cycles. In polar regions there are specific models for ice sheets and sea ice.\n",
    "\n",
    "- There are several scenarios (Shared Socioeconomic Pathways) ranging from very optimistic (SS1: sustainability) to (very) pessimistic (SS5: Fossil fuel development)\n",
    "\n",
    "- In CMIP6, there are over 100 full blown models that attempt to propose the most reliable forecast for each of these scenarios [Balaji et. al (2018)](https://gmd.copernicus.org/articles/11/3659/2018/gmd-11-3659-2018.pdf)"
   ]
  },
  {
   "cell_type": "markdown",
   "id": "b07ee337",
   "metadata": {
    "slideshow": {
     "slide_type": "subslide"
    }
   },
   "source": [
    "Dealing with all model outputs is not a sinecure. To write the IPCC report , thousands of scientists collaborated to share their data, produce consistent diagnostics and plot an overview of what all these models are telling us. The main point of this model intercomparison is to **reduce the uncertainty** of the prediction of the future climate. It is indeed very important to know:\n",
    "- how much of global warming has human origins (understand the climate system)\n",
    "- if tipping points will be crossed in 2030 or 2050 in order to best anticipate the changes (do predictions)."
   ]
  },
  {
   "cell_type": "markdown",
   "id": "771b2078",
   "metadata": {
    "slideshow": {
     "slide_type": "subslide"
    }
   },
   "source": [
    "\n",
    "<img alt=\"warming\" src=\"images/warming_origin.png\" width=800 style=\"float:center\">\n",
    "\n",
    "Figure SPM2 ([IPCC repport](https://www.ipcc.ch/report/ar6/wg1/downloads/report/IPCC_AR6_WGI_SPM.pdf))"
   ]
  },
  {
   "cell_type": "markdown",
   "id": "295f3d5f",
   "metadata": {
    "slideshow": {
     "slide_type": "subslide"
    }
   },
   "source": [
    "The figure above is a summary of the causes of the 1 degree temperature change since the industrial revolution. In this problem, there is one **output variable** (global temperature) and many **input variables** (CO2, methane, etc...). We sometimes call the input variable the independent variables and the output variable the dependent variable as the latter is function of the input variables.\n",
    "\n",
    "The problem highlighted in the figure corresponds to a typical machine learning problem where we want to find a function that maps the input variables onto the output variables."
   ]
  },
  {
   "cell_type": "markdown",
   "id": "5e8dbe7a",
   "metadata": {
    "slideshow": {
     "slide_type": "subslide"
    }
   },
   "source": [
    "## First problem: variation of temperature with altitude\n",
    "\n",
    "Before we solve the climate problem, let us start with a simpler question. You may have noticed that as you climb a mountain temperature gets cooler: you may even reach heights where there is permanent snow and ice. In order to get more insight on the vertical temperature profile in the atmosphere, meteorologist have used radio sounding. A adio sounding consists in launching a [buoyant balloon](https://en.wikipedia.org/wiki/Weather_balloon) filled with hydrogen or helium to which we attach a weather station. The buoyancy force drives the balloon upward and the instruments attached at the base of the balloon record variables of interest such as pressure, temperature, humidity, altitude, etc.  Below is a short clip of the launch of a sounding at the [strateole](https://strateole2.aeris-data.fr/) campaign at the *Laboratoire de Meteorologie Dynamique*. Let's use the [data](https://donneespubliques.meteofrance.fr/?fond=produit&id_produit=97&id_rubrique=33) of these soundings to see if we can extract a general law for the variation of temperature with height.\n",
    "\n",
    "\n",
    "<img alt=\"warming\" src=\"images/Premier-radiosondage_reference.gif\" width=200 style=\"float:center\">"
   ]
  },
  {
   "cell_type": "code",
   "execution_count": 1,
   "id": "a500edd8",
   "metadata": {
    "slideshow": {
     "slide_type": "subslide"
    }
   },
   "outputs": [],
   "source": [
    "import numpy as np\n",
    "import matplotlib.pyplot as plt\n",
    "import pandas as pd"
   ]
  },
  {
   "cell_type": "code",
   "execution_count": 2,
   "id": "687da52c",
   "metadata": {
    "scrolled": true,
    "slideshow": {
     "slide_type": "subslide"
    }
   },
   "outputs": [
    {
     "data": {
      "text/plain": [
       "Text(0, 0.5, 'Temperature (K)')"
      ]
     },
     "execution_count": 2,
     "metadata": {},
     "output_type": "execute_result"
    },
    {
     "data": {
      "image/png": "[encoded data removed]",
      "text/plain": [
       "<Figure size 640x480 with 1 Axes>"
      ]
     },
     "metadata": {},
     "output_type": "display_data"
    }
   ],
   "source": [
    "df_960901 = pd.read_csv('data/soundings/07145.19960901000000.csv', na_values='mq',skiprows=2)\n",
    "ax = df_960901.plot('geop','t',style='+',label=\"T (1996/09/01)\")\n",
    "ax.set_xlabel('Height (m)')\n",
    "ax.set_ylabel('Temperature (K)')"
   ]
  },
  {
   "cell_type": "markdown",
   "id": "324bd796",
   "metadata": {
    "slideshow": {
     "slide_type": "subslide"
    }
   },
   "source": [
    "The temperature decreases from the surface to roughly 10 km. Above that altitude, the temperature increases slightly. The atmospheric layer from the ground to 10 km corresponds to the [troposphere](https://en.wikipedia.org/wiki/Troposphere). In this layer, we would like to propose a physical law for the variation of temperature with altitude. As a first guess, we suppose that there exist a linear relationship between the temperature and the altitude\n",
    "\n",
    "\\begin{equation}\n",
    "y = \\alpha x + \\beta\\, ,\n",
    "\\end{equation}\n",
    "with $y$ the temperature and $x$ the altitude. $\\alpha$ is called the **regression coefficient** and $\\beta$ is called the **intercept**. In the next chapter, we are going to study linear regression and see how we can find $\\alpha$ and $\\beta$."
   ]
  },
  {
   "cell_type": "markdown",
   "id": "1414500e",
   "metadata": {
    "slideshow": {
     "slide_type": "subslide"
    }
   },
   "source": [
    "Although linear regression seems extremely simple, it is still regarded as the model of **maximum interpretability**. In fact, the sign and the magnitude of $\\alpha$ tell you how $y$ varies with $x$ in an unambiguous way and you can easily confront this result to your physical intuition. In our case, $\\alpha$ will tell us how many degrees we loose per meter traveled upward.\n",
    "\n",
    "Later on, we will study neural networks with millions of parameters which may give a better prediction for $y$ than the linear regression. However, if neural networks give better predictions, their prediction is sometimes hard to interpret. Needless to say that it is important to try **simple methods first** before going to more complicated algorithms... Even if simple models are sometimes [too simple](https://en.wikipedia.org/wiki/Anscombe%27s_quartet)."
   ]
  },
  {
   "cell_type": "code",
   "execution_count": 3,
   "id": "3d445d2f",
   "metadata": {
    "slideshow": {
     "slide_type": "subslide"
    }
   },
   "outputs": [
    {
     "name": "stdout",
     "output_type": "stream",
     "text": [
      "According to the linear fit, the temperature gradient is -6.259e-03 degree/m\n"
     ]
    },
    {
     "data": {
      "image/png": "[encoded data removed]",
      "text/plain": [
       "<Figure size 640x480 with 1 Axes>"
      ]
     },
     "metadata": {},
     "output_type": "display_data"
    }
   ],
   "source": [
    "# prepare dataset: limit height to h_max and drop missing values\n",
    "h_max = 13000\n",
    "X = df_960901['geop'][df_960901['geop'] < h_max].dropna().values\n",
    "y = df_960901['t'][df_960901['geop'] < h_max].dropna().values\n",
    "\n",
    "# create feature matrix\n",
    "A = np.vstack([X, np.ones(len(X))]).T\n",
    "#linear regression with numpy\n",
    "m, c = np.linalg.lstsq(A, y, rcond=None)[0]\n",
    "\n",
    "# plot original dataset and linear fit\n",
    "ax = df_960901.plot('geop','t',style='+',label=\"T (1996/09/01)\")\n",
    "ax.set_xlabel('Height (m)')\n",
    "ax.set_ylabel('Temperature (K)')\n",
    "\n",
    "ax.plot(X, m*X + c, 'r', label='Linear fit')\n",
    "plt.legend()\n",
    "print(f\"According to the linear fit, the temperature gradient is {m:.3e} degree/m\")"
   ]
  },
  {
   "cell_type": "markdown",
   "id": "9f1e3065",
   "metadata": {
    "slideshow": {
     "slide_type": "subslide"
    }
   },
   "source": [
    "\n",
    "According to the linear fit, the temperature gradient is -6 degree/km. There is actually a physical justification to explain the variations of temperature with height. With thermodynamical arguments, we can show that the variation should be on the order of 5 degree/km. It is called the (moist) [adiabatic lapse rate](https://en.wikipedia.org/wiki/Lapse_rate).\n",
    "\n",
    "\n",
    "> ***Questions***\n",
    "> - How robust is this fit?\n",
    "> - Would we get the same fit if we were to launch another balloon right after this one? 3 hours later? 3 days later? one year later? \n",
    "\n",
    "In the folder `data/soundings` we provide 2 more soundings for the dates 1996/09/03 and 1997/09/01. Don't hesitate to try to plot it to visualize the amplitude of the variability."
   ]
  },
  {
   "cell_type": "markdown",
   "id": "3514238a",
   "metadata": {
    "slideshow": {
     "slide_type": "subslide"
    }
   },
   "source": [
    "In machine learning problems, the task is to propose an estimate of the function that predicts the output variable based on the known input variables. This is based on our intuition that there *is* a relationship between the input and output variables in the form of\n",
    "\n",
    "\\begin{equation}\n",
    "y = f (x) + \\epsilon\\, ,\n",
    "\\end{equation}\n",
    "with $f$ the function that we will try to guess and $\\epsilon$ is an **Irreducible error** that can have multiple origins.\n",
    "\n",
    "> ***Questions***\n",
    "> - Give several sources of errors for the problem we are considering\n",
    "> - In this framework, $\\epsilon$ is really an irreducible error. However, if you add more input variables, can you reduce the amplitude the irreducible error?"
   ]
  },
  {
   "cell_type": "markdown",
   "id": "5db3c34a",
   "metadata": {
    "slideshow": {
     "slide_type": "subslide"
    }
   },
   "source": [
    "The above equation is the *ground truth*, however we usually don't know $f$. Our task is to propose an estimate of $f$ based on the sample observation that we have.  Because our observations are limited, we can only approximate $f$: we will denote this approximate function with a *hat* and write our prediction as\n",
    "\n",
    "\\begin{equation}\n",
    "\\hat y = \\hat f(x)\n",
    "\\end{equation}\n",
    "\n",
    "Note that this equation is **deterministic**: there is no random noise in the right hand side. In fact, because we want to provide the best estimate, there is no need to add noise in the prediction: that would necessarily give a worse prediction for $y$ (cf. next chapter)"
   ]
  },
  {
   "cell_type": "markdown",
   "id": "01ae7f39",
   "metadata": {
    "slideshow": {
     "slide_type": "subslide"
    }
   },
   "source": [
    "We can then use $\\hat f$ to\n",
    "- make predictions\n",
    "- understand the relationship between input and output variables\n",
    "\n",
    "These two objectives are at the heart of machine learning techniques."
   ]
  },
  {
   "cell_type": "markdown",
   "id": "8baf3ab9",
   "metadata": {
    "slideshow": {
     "slide_type": "subslide"
    }
   },
   "source": [
    "In the case of the linear regression, the function $f$ has two unknown parameters $\\alpha$ and $\\beta$. We call these functions **parametric functions** and the machine learning exercise consists in finding the best values for these parameters. There exists also functions $f$ that do not depend on any parameter (such as the spline fit). These functions are called **non-parametric** functions. "
   ]
  },
  {
   "cell_type": "markdown",
   "id": "0d2eb392",
   "metadata": {
    "slideshow": {
     "slide_type": "slide"
    }
   },
   "source": [
    "### Probabilistic perspective"
   ]
  },
  {
   "cell_type": "markdown",
   "id": "3932741b",
   "metadata": {
    "slideshow": {
     "slide_type": "subslide"
    }
   },
   "source": [
    "In the formalism that we have just discussed\n",
    "\n",
    "\\begin{equation}\n",
    "y = f (x) + \\epsilon\\, ,\n",
    "\\end{equation}\n",
    "the output variable $y$ is a **random variable**, and the input variable $x$ is an **observation** that is given without uncertainty. We can adopt a probabilistic approach to describe what the $f$ function could be. Suppose that $f$ is a parametric function with parameters $\\alpha$ and $\\beta$ (for the case of the linear regression). In order to use compact notation, let us gather all parameters in a vector $\\mathbf{\\theta}=(\\alpha, \\beta)$\n",
    "Then a machine learning problem consist in finding the parameters $\\mathbf{\\theta}$ such that the probability\n",
    "\n",
    "\\begin{equation}\n",
    "p(y|x, \\mathbf{\\theta})\n",
    "\\end{equation}\n",
    "is maximum. Because we know $y$ and we vary $\\mathbf{\\theta}$, we call this quantity the likelihood of $\\mathbf{\\theta}$ given $y$, and our goal is to find the values of the parameters that maximize this likelihood."
   ]
  },
  {
   "cell_type": "markdown",
   "id": "8b15d544",
   "metadata": {
    "slideshow": {
     "slide_type": "subslide"
    }
   },
   "source": [
    "In order to derive an analytical solution to this problem, we have to make assumptions about the noise $\\epsilon$. In the most simplest case, we assume that $\\epsilon$ is a Gaussian noise with zero mean and variance $\\sigma^2$:\n",
    "\n",
    "\\begin{equation}\n",
    "\\epsilon \\sim \\mathcal N(0,\\sigma^2)\n",
    "\\end{equation}\n",
    "Hence\n",
    "\\begin{equation}\n",
    "p(y|x,\\mathbf{\\theta})= \\mathcal N(f(x),\\sigma^2)\n",
    "\\end{equation}"
   ]
  },
  {
   "cell_type": "markdown",
   "id": "d4a193a6",
   "metadata": {
    "slideshow": {
     "slide_type": "subslide"
    }
   },
   "source": [
    "In fact, we have $N$ observations $\\mathcal D = \\{(x_1,y_1), ... (x_N,y_N)\\}$. Met us call $\\mathcal X = \\{ x_1, ... x_N\\}$ the set of input variable and $\\mathcal Y = \\{ y_1, ... y_N\\}$ the corresponding set of output variable.  Then, we want to maximize the likelihood\n",
    "\n",
    "\\begin{equation}\n",
    "p(\\mathcal Y|\\mathcal X,\\mathbf{\\theta})\n",
    "\\end{equation}\n",
    "\n",
    "We further assume that all observations are independent and identically distributed such that\n",
    "\\begin{equation}\n",
    "p(\\mathcal Y|\\mathcal X,\\mathbf{\\theta}) = \\prod_{n=1}^N p(y_i|x_i,\\mathbf{\\theta})\n",
    "\\end{equation}\n"
   ]
  },
  {
   "cell_type": "markdown",
   "id": "2fa04cb4",
   "metadata": {
    "slideshow": {
     "slide_type": "subslide"
    }
   },
   "source": [
    "Remember that we want to find the values of $\\mathbf{\\theta}$ that maximizes this likelihood. Because we have assumed Gaussian noise, it make sense to find the maximum of the logarithm of $p(\\mathcal Y|\\mathcal X,\\mathbf{\\theta})$ (because the probability is a Gaussian distribution). Taking the log also transforms the product of all probabilities to a sum with is easier to handle for the minimization procedure.\n",
    "\n",
    "With all these assumptions, we get a closed form solution for the values of parameters (see [Chap. 9.2 in Mathematics for Machine learning](https://mml-book.github.io/) for a detailed derivation). The value of $\\mathbf{\\theta}$ obtained with this method is called the **Maximum likelihood estimate (MLE)**. In the next chapter, We will find the solution for $\\mathbf{\\theta}$ with a non-probabilistic method."
   ]
  },
  {
   "cell_type": "markdown",
   "id": "1bbaa171",
   "metadata": {
    "slideshow": {
     "slide_type": "slide"
    }
   },
   "source": [
    "### Types of errors"
   ]
  },
  {
   "cell_type": "markdown",
   "id": "ee025b26",
   "metadata": {
    "slideshow": {
     "slide_type": "subslide"
    }
   },
   "source": [
    "<div class=\"alert alert-block alert-info\">\n",
    "    \n",
    "There are 3 types of errors: \n",
    "- Bias error\n",
    "- Variance error\n",
    "- Irreducible errors. \n",
    "    \n",
    "We want to find model that have both the lowest bias and lowest variance. The irreducible error is intrinsic the dataset.\n",
    "</div>"
   ]
  },
  {
   "cell_type": "markdown",
   "id": "b045f7e7",
   "metadata": {
    "slideshow": {
     "slide_type": "subslide"
    }
   },
   "source": [
    "> ***Questions***\n",
    "> \n",
    "> - How do we know that $\\hat f$ is the correct fit? \n",
    "> - If we do a second field campain and take more measurements, will we get a new estimate for $\\hat f$?\n",
    "> - What if we use more precise instruments to do the measurements?\n"
   ]
  },
  {
   "cell_type": "markdown",
   "id": "19d283c3",
   "metadata": {
    "slideshow": {
     "slide_type": "subslide"
    }
   },
   "source": [
    "Suppose we now want a general law for the variation of temperature over the whole atmosphere - and not only the troposphere. Clearly, a linear fit will be a poor estimate.\n",
    "\n",
    "> ***Question***\n",
    "> \n",
    "> - Try to adjust `h_max` in the linear fit above to perform the linear regression over the whole atmosphere"
   ]
  },
  {
   "cell_type": "markdown",
   "id": "4b100936",
   "metadata": {
    "slideshow": {
     "slide_type": "subslide"
    }
   },
   "source": [
    "In this case, the function $\\hat f$ is not so good. In order to quantify how good, or how bad the model is, we need to introduce a metric. Example of such metric is the mean squared error\n",
    "\n",
    "\\begin{equation}\n",
    "L = \\mathbb{E}(y-\\hat y)^2\n",
    "\\end{equation}\n",
    "\n",
    "Hence, $\\sqrt{L}$ is the typical error you do when you use the model $\\hat f$ to make a prediction for $y$. Of course, we wish to have $L$ as small as possible. This type of metric is also called a **Loss function** or a **cost function** and a typical machine learning task is to minimize the loss function. It is sometimes possible to do it analytically for simple problems but most of the time we use numerical algorithms to find that minimum.\n"
   ]
  },
  {
   "cell_type": "markdown",
   "id": "22ed69e6",
   "metadata": {
    "slideshow": {
     "slide_type": "subslide"
    }
   },
   "source": [
    "#### Bias error\n",
    "\n",
    "If the model we are trying to fit does not have enough degrees of freedom, there is a risk that we are ***underfitting*** the data, which is characterized by the ***Bias error***. We say a model is biased when it is not able to capture the correct relationship between features and target output. In the example above, we were trying to fit a linear relationship for the temperature over the whole atmosphere, but the relationship between the input and output variables was clearly not linear. The model is biased because there will always be an offset in the prediction of the output variable.\n",
    "\n",
    "\n",
    "Formally, the bias error is defined as\n",
    "\n",
    "\\begin{equation}\n",
    "Bias[\\hat f(x)]=\\mathbb E[\\hat f(x)]−f(x)\n",
    "\\end{equation}\n",
    "\n",
    "which corresponds to the systematic misfit between our prediction and the data."
   ]
  },
  {
   "cell_type": "markdown",
   "id": "e6a2f7dc",
   "metadata": {
    "slideshow": {
     "slide_type": "subslide"
    }
   },
   "source": [
    "#### Variance error\n",
    "\n",
    "An easy fix is to choose a different function $f$ and make it as complicated as we want so that this function goes through all our sample points. For our temperature profile, we have 15 points such that a polynomial of order 15 could work:\n",
    "\n",
    "\\begin{equation}\n",
    "y = \\alpha_1 x + \\alpha_2 x^2 + ... + \\alpha_{15} x^{15} + \\beta\\, .\n",
    "\\end{equation}\n",
    "\n",
    "Remark: this type of function still falls in the linear regression category because it is *linear for the parameters* $\\mathbf{\\theta} = (\\alpha_1, ... \\alpha_{15}, \\beta)$. The input features are now powers of $x$: $(x, x^2, ...,x^{15} )$, but all the formalism developed for 1D models can actually be written in vector form to handle the situation where the input variables are multivariate."
   ]
  },
  {
   "cell_type": "code",
   "execution_count": 4,
   "id": "4773c3c6",
   "metadata": {
    "slideshow": {
     "slide_type": "subslide"
    }
   },
   "outputs": [
    {
     "name": "stderr",
     "output_type": "stream",
     "text": [
      "/usr/lib/python3.10/site-packages/IPython/core/interactiveshell.py:3398: RankWarning: Polyfit may be poorly conditioned\n",
      "  exec(code_obj, self.user_global_ns, self.user_ns)\n"
     ]
    },
    {
     "data": {
      "text/plain": [
       "<matplotlib.legend.Legend at 0x7fd4432c7d00>"
      ]
     },
     "execution_count": 4,
     "metadata": {},
     "output_type": "execute_result"
    },
    {
     "data": {
      "image/png": "[encoded data removed]",
      "text/plain": [
       "<Figure size 640x480 with 1 Axes>"
      ]
     },
     "metadata": {},
     "output_type": "display_data"
    }
   ],
   "source": [
    "h_max = 30000\n",
    "X = df_960901['geop'][df_960901['geop'] < h_max].dropna().values\n",
    "y = df_960901['t'][df_960901['geop'] < h_max].dropna().values\n",
    "\n",
    "# polynomial order\n",
    "p_order = 15\n",
    "p_coefs = np.polyfit(X, y, p_order)\n",
    "p = np.poly1d(p_coefs)\n",
    "xp = np.linspace(X.min(),X.max(),500)\n",
    "plt.plot(X,y,'+', label='Sample data')\n",
    "plt.plot(xp,p(xp),'-', label='Polynomial fit')\n",
    "plt.ylim([200,300])\n",
    "\n",
    "plt.legend()\n",
    "plt.xlabel('Height (m)')\n",
    "plt.ylabel('Temperature (K)')\n",
    "plt.legend()"
   ]
  },
  {
   "cell_type": "markdown",
   "id": "e9bb7d53",
   "metadata": {
    "slideshow": {
     "slide_type": "subslide"
    }
   },
   "source": [
    "Indeed, this model has the lowest possible loss function $L=0$. However, we identify at least three drawbacks:\n",
    "\n",
    "- this function has poor predicting skills away from the sample points.\n",
    "- any modification of the dataset might cause big modifications in $\\hat f$.\n",
    "- the physical interpretation is limited\n",
    "\n",
    "One way to quantify the uncertainty on $\\hat f$ is to divide the data set in a ***training data set*** and a ***testing data set***. We use the training data set to compute $\\hat f$ and with the help of a metric, we can give a score to that $\\hat f$ to compute how well it performs to reproduce the output variable. \n",
    "\n",
    "Then to validate the model, we compute the same score on the testing data set. If the score is the same than for the training data set, then the model is not specific to the training data set and can be generalized to more data. If the score is (significantly) higher, then that means the model is ***overfitting*** the data."
   ]
  },
  {
   "cell_type": "markdown",
   "id": "cb80a875",
   "metadata": {
    "slideshow": {
     "slide_type": "subslide"
    }
   },
   "source": [
    "To measure how much the model is overfitting the data we introduce the ***Variance error*** which is a measure of the spread of all possible $\\hat f$ function that one could get with all possible samples that are available. A model with high variance will change a lot from one dataset to another. Such model is overfitting the data.\n",
    "\n",
    " A *very* rough estimate of the variance error is thus given by\n",
    "\n",
    "\\begin{equation}\n",
    "L_{test} - L_{train}\n",
    "\\end{equation}\n",
    "\n",
    "with $L_{test}$ and $L_{train}$ are the Loss function computed on the testing and training dataset respectively. "
   ]
  },
  {
   "cell_type": "markdown",
   "id": "965ce740",
   "metadata": {
    "slideshow": {
     "slide_type": "subslide"
    }
   },
   "source": [
    "#### Irreducible error\n",
    "\n",
    "The last type of error we are going to deal with is the ***Irreducible error***. This error corresponds to the $\\epsilon$ term in our model. You may see this error as the precision of your instrument or as missing physics in your model. This can be due to chaotic perturbation of your system. This type of error is not predictable."
   ]
  },
  {
   "cell_type": "markdown",
   "id": "48e3a12a",
   "metadata": {
    "slideshow": {
     "slide_type": "slide"
    }
   },
   "source": [
    "### Regularization (probabilistic approach)"
   ]
  },
  {
   "cell_type": "markdown",
   "id": "5f79e0a7",
   "metadata": {
    "slideshow": {
     "slide_type": "subslide"
    }
   },
   "source": [
    "Of course, to reduce the variance error, it would have been a good idea to try a polynomial fit with lower order input features.\n",
    "\n",
    "> ***Question***\n",
    "> \n",
    "> - Try to adjust `p_order` in the polynomial (linear) regression above.\n",
    "> - What would be your best choice for `p_order`? why?"
   ]
  },
  {
   "cell_type": "markdown",
   "id": "32c009c4",
   "metadata": {
    "slideshow": {
     "slide_type": "subslide"
    }
   },
   "source": [
    "While it is is often a good idea to select the lowest possible order, there are some arbitrary decisions to guess what that order should be. Instead of choosing the order, we can add some constraints on the coefficients $\\mathbf{\\theta}$ such that they remain within an acceptable range. For instance, one can choose the probability distribution of all $\\alpha_i$ to be\n",
    "\n",
    "\\begin{equation}\n",
    "p(\\alpha_i) = \\mathcal N (0,\\sigma^2)\n",
    "\\end{equation}\n",
    "such that each coefficient $\\alpha_i$ will probably remain in the range $[-2\\sigma,2\\sigma]$. This procedure will limit the influence of the terms with high exponents because these terms have a tendency to have big coefficients. We say we put a ***prior*** on the coefficients. This means that before (prior) having seen any data, we impose a probability distribution on the coefficients. When adding a constraint on the parameters we say we ***regularize*** the problem."
   ]
  },
  {
   "cell_type": "markdown",
   "id": "760efeb8",
   "metadata": {
    "slideshow": {
     "slide_type": "subslide"
    }
   },
   "source": [
    "By doing so, we actually turn the parameters $\\mathbf \\theta$ into a random variable and we can use Bayes' theorem to get the probability distribution on $\\theta$:\n",
    "\n",
    "\n",
    "\\begin{equation}\n",
    "p(\\mathbf{\\theta}|\\mathcal Y,\\mathcal X) = \\frac{p(\\mathcal Y|\\mathcal X,\\mathbf{\\theta})p(\\mathbf{\\theta})}{p(\\mathcal Y|\\mathcal X)}\\, ,\n",
    "\\end{equation}\n",
    "where we recognize the *likelihood* that we have been discussing earlier and the *prior* that we have just introduce. The denominator $p(\\mathcal Y|\\mathcal X)$ is a normalization constant independent of $\\mathbf \\theta$. The left hand side is called the posterior and is the quantity of interest here. We want to find the most probable values for the parameters $\\mathbf \\theta$. The values of $\\mathbf \\theta$ that maximize this probability are called the ***Maximum A Posteriori (MAP)***. If the likelihood and the prior are Gaussian, we can find the analytical MAP but the derivation is beyond the scope of this introduction. At this point, you should remember that regularization consist in adding constraint on the parameters in order to get a smoother function $\\hat f$."
   ]
  },
  {
   "cell_type": "markdown",
   "id": "25056c24",
   "metadata": {
    "slideshow": {
     "slide_type": "subslide"
    }
   },
   "source": [
    "<div class=\"alert alert-block alert-info\">\n",
    "    <b>Definitions</b>\n",
    "    \n",
    "- [**Supervised learning**](https://en.wikipedia.org/wiki/Supervised_learning) is the machine learning task of learning a function that maps an input to an output based on example input-output pairs (labelled data set). The key aspect of supervised learning is that there exists a training data set with labelled data.\n",
    "- on the other hand, [**Unsupervised learning**](https://en.wikipedia.org/wiki/Unsupervised_learning) corresponds to the problem of guessing patterns in an unlabelled data set\n",
    "\n",
    "</div>"
   ]
  },
  {
   "cell_type": "markdown",
   "id": "4b2a2bf6",
   "metadata": {},
   "source": [
    "## References\n",
    "\n",
    "- Chap. 9 in [Deisenroth, M.P., Faisal, A.A. and Ong, C.S., 2020. *Mathematics For Machine Learning*, Cambridge University Press.](https://mml-book.github.io/)\n",
    "- [James, G., Witten, D., Hastie, T., & Tibshirani, R. (2013). *An introduction to statistical learning* (Vol. 112, p. 18). New York: springer.](https://www.statlearning.com/)\n",
    "- Chap 11 in [Murphy, K.P., (2022) *Probabilistic Machine Learning: An introduction*. MIT Press](https://probml.github.io/pml-book/book1.html)\n"
   ]
  },
  {
   "cell_type": "markdown",
   "id": "5e186998",
   "metadata": {
    "slideshow": {
     "slide_type": "slide"
    }
   },
   "source": [
    "***\n",
    "## Credit\n",
    "\n",
    "[//]: # \"This notebook is part of [E4C Interdisciplinary Center - Education](https://gitlab.in2p3.fr/energy4climate/public/education).\"\n",
    "Contributors include Bruno Deremble and Alexis Tantet.\n",
    "\n",
    "<br>\n",
    "\n",
    "<div style=\"display: flex; height: 70px\">\n",
    "    \n",
    "<img alt=\"Logo LMD\" src=\"images/logos/logo_lmd.jpg\" style=\"display: inline-block\"/>\n",
    "\n",
    "<img alt=\"Logo IPSL\" src=\"images/logos/logo_ipsl.png\" style=\"display: inline-block\"/>\n",
    "\n",
    "<img alt=\"Logo E4C\" src=\"images/logos/logo_e4c_final.png\" style=\"display: inline-block\"/>\n",
    "\n",
    "<img alt=\"Logo EP\" src=\"images/logos/logo_ep.png\" style=\"display: inline-block\"/>\n",
    "\n",
    "<img alt=\"Logo SU\" src=\"images/logos/logo_su.png\" style=\"display: inline-block\"/>\n",
    "\n",
    "<img alt=\"Logo ENS\" src=\"images/logos/logo_ens.jpg\" style=\"display: inline-block\"/>\n",
    "\n",
    "<img alt=\"Logo CNRS\" src=\"images/logos/logo_cnrs.png\" style=\"display: inline-block\"/>\n",
    "    \n",
    "</div>\n",
    "\n",
    "<hr>\n",
    "\n",
    "<div style=\"display: flex\">\n",
    "    <a rel=\"license\" href=\"http://creativecommons.org/licenses/by-sa/4.0/\"><img alt=\"Creative Commons License\" style=\"border-width:0; margin-right: 10px\" src=\"https://i.creativecommons.org/l/by-sa/4.0/88x31.png\" /></a>\n",
    "    <br>This work is licensed under a &nbsp; <a rel=\"license\" href=\"http://creativecommons.org/licenses/by-sa/4.0/\">Creative Commons Attribution-ShareAlike 4.0 International License</a>.\n",
    "</div>"
   ]
  }
 ],
 "metadata": {
  "celltoolbar": "Slideshow",
  "kernelspec": {
   "display_name": "Python 3 (ipykernel)",
   "language": "python",
   "name": "python3"
  },
  "language_info": {
   "codemirror_mode": {
    "name": "ipython",
    "version": 3
   },
   "file_extension": ".py",
   "mimetype": "text/x-python",
   "name": "python",
   "nbconvert_exporter": "python",
   "pygments_lexer": "ipython3",
   "version": "3.10.6"
  },
  "latex_envs": {
   "LaTeX_envs_menu_present": true,
   "autoclose": true,
   "autocomplete": false,
   "bibliofile": "biblio.bib",
   "cite_by": "apalike",
   "current_citInitial": 1,
   "eqLabelWithNumbers": true,
   "eqNumInitial": 1,
   "hotkeys": {
    "equation": "Ctrl-E",
    "itemize": "Ctrl-I"
   },
   "labels_anchors": false,
   "latex_user_defs": false,
   "report_style_numbering": false,
   "user_envs_cfg": false
  },
  "toc": {
   "base_numbering": 1,
   "nav_menu": {},
   "number_sections": true,
   "sideBar": true,
   "skip_h1_title": false,
   "title_cell": "Table of Contents",
   "title_sidebar": "Contents",
   "toc_cell": false,
   "toc_position": {},
   "toc_section_display": true,
   "toc_window_display": false
  },
  "varInspector": {
   "cols": {
    "lenName": 16,
    "lenType": 16,
    "lenVar": 40
   },
   "kernels_config": {
    "python": {
     "delete_cmd_postfix": "",
     "delete_cmd_prefix": "del ",
     "library": "var_list.py",
     "varRefreshCmd": "print(var_dic_list())"
    },
    "r": {
     "delete_cmd_postfix": ") ",
     "delete_cmd_prefix": "rm(",
     "library": "var_list.r",
     "varRefreshCmd": "cat(var_dic_list()) "
    }
   },
   "types_to_exclude": [
    "module",
    "function",
    "builtin_function_or_method",
    "instance",
    "_Feature"
   ],
   "window_display": false
  }
 },
 "nbformat": 4,
 "nbformat_minor": 5
}
