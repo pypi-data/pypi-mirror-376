{
 "cells": [
  {
   "cell_type": "markdown",
   "id": "b4f7548b",
   "metadata": {},
   "source": [
    "# Tutorial: Regularization, Model Selection and Evaluation\n",
    "\n",
    "[![Binder](https://mybinder.org/badge_logo.svg)](https://mybinder.org/v2/git/https%3A%2F%2Fgitlab.in2p3.fr%2Fenergy4climate%2Fpublic%2Feducation%2Fmachine_learning_for_climate_and_energy/master?filepath=book%2Fnotebooks%2F04_tutorial_regularization_selection_evaluation.ipynb)\n",
    "\n",
    "Tutorial to the class [Regularization, Model Selection and Evaluation](05_regularization_selection_evaluation.ipynb)."
   ]
  },
  {
   "cell_type": "markdown",
   "id": "764cb270",
   "metadata": {},
   "source": [
    "<div class=\"alert alert-block alert-info\">\n",
    "    <b>Tutorial Objectives</b>\n",
    "    \n",
    "- Apply regularization methods: Ridge and Lasso\n",
    "- Compute and plot validation curves\n",
    "- Compare $k$-nearest neighbors to Ridge/Lasso\n",
    "</div>"
   ]
  },
  {
   "cell_type": "markdown",
   "id": "fd9327f2-57c4-4981-9262-37c5c589d5bd",
   "metadata": {},
   "source": [
    "## Scientific objective\n",
    "\n",
    "To predict the France average wind capacity factor from the geopotential height at 500hPa over the Euro-Atlantic sector.\n",
    "\n",
    "## Dataset presentation\n",
    "\n",
    "- Input:\n",
    "  - [Geopotential height](https://en.wikipedia.org/wiki/Geopotential_height) at 500hPa\n",
    "    - Domain: North Atlantic\n",
    "    - Spatial resolution: $0.5° \\times 0.625°$\n",
    "    - Time resolution: monthly\n",
    "    - Period: 1980-2021\n",
    "    - Units: m\n",
    "    - Source: [MERRA-2 reanalysis](https://gmao.gsfc.nasa.gov/reanalysis/MERRA-2/)\n",
    "- Target:\n",
    "  - Onshore wind capacity factors\n",
    "    - Domain: Metropolitan France\n",
    "    - Spatial resolution: regional mean\n",
    "    - Time resolution: daily\n",
    "    - Period: 2014-2021\n",
    "    - Units:\n",
    "    - Source: [RTE](https://opendata.reseaux-energies.fr/)"
   ]
  },
  {
   "cell_type": "markdown",
   "id": "29dd97f9",
   "metadata": {},
   "source": [
    "## Getting ready\n",
    "\n",
    "### Reading the wind capacity factor data\n",
    "\n",
    "- Let us follow the same procedure as in [Tutorial: Supervised Learning Problem and Least Squares](02_tutorial_supervised_learning_problem_ols.ipynb) to import the required modules, read the data and select the domain but for the onshore wind capacity factors instead of the electricity demand.\n",
    "- We also compute monthly averages from the daily data since the we are only interested in predicting the monthly wind capacity factors."
   ]
  },
  {
   "cell_type": "code",
   "execution_count": null,
   "id": "f4d5fc98",
   "metadata": {},
   "outputs": [],
   "source": [
    "# Path manipulation module\n",
    "from pathlib import Path\n",
    "# Numerical analysis module\n",
    "import numpy as np\n",
    "# Formatted numerical analysis module\n",
    "import pandas as pd\n",
    "# Structured dataset analysis module\n",
    "import xarray as xr\n",
    "# Plot module\n",
    "import matplotlib.pyplot as plt\n",
    "# Default colors\n",
    "RC_COLORS = plt.rcParams['axes.prop_cycle'].by_key()['color']\n",
    "# Matplotlib configuration\n",
    "plt.rc('font', size=14)\n",
    "\n",
    "# Set data directory\n",
    "data_dir = Path('data')\n",
    "\n",
    "# Set keyword arguments for pd.read_csv\n",
    "kwargs_read_csv = dict(index_col=0, parse_dates=True) \n",
    "\n",
    "# Define electricity demand filepath and label\n",
    "windcf_filename = 'reseaux_energies_capacityfactor_wind-onshore.csv'\n",
    "windcf_filepath = Path(data_dir, windcf_filename)\n",
    "windcf_label = 'Wind capacity factor'\n",
    "\n",
    "# Read windcf data with pandas                                                                                                                                                \n",
    "df_windcf_daily = pd.read_csv(windcf_filepath, **kwargs_read_csv)\n",
    "\n",
    "# Select domain\n",
    "# REGION_NAME = 'Bretagne'\n",
    "REGION_NAME = 'National'\n",
    "if REGION_NAME == 'National':\n",
    "    df_windcf_daily_reg = df_windcf_daily.mean('columns')\n",
    "    df_windcf_daily_reg.name = REGION_NAME\n",
    "else:\n",
    "    df_windcf_daily_reg = df_windcf_daily[REGION_NAME]\n",
    "\n",
    "# Resample wind capacity factor from daily to monthly means\n",
    "df_windcf_reg = df_windcf_daily_reg.resample('MS').mean()"
   ]
  },
  {
   "cell_type": "markdown",
   "id": "484ef4ef-8267-4404-9977-ffb03e2cead3",
   "metadata": {},
   "source": [
    "### Reading the geopotential height data\n",
    "\n",
    "- The geopotential height data is in the NetCDF format (structured binary data) and cannot be read as text.\n",
    "We use the `xarray` module instead to read it.\n",
    "- We also divide the resolution of the gridded data by a factor 4 in both horizontal dimensions."
   ]
  },
  {
   "cell_type": "code",
   "execution_count": null,
   "id": "473a3c61-2bf2-41fa-a486-f23254678e1c",
   "metadata": {},
   "outputs": [],
   "source": [
    "# Define temperature filepath and label\n",
    "START_DATE = '19800101'\n",
    "END_DATE = '20220101'\n",
    "z500_filename = 'merra2_analyze_height_500_month_{}-{}.nc'.format(START_DATE, END_DATE)\n",
    "z500_filepath = Path(data_dir, z500_filename)\n",
    "z500_label = 'Geopotential height (m)'\n",
    "\n",
    "# Read geopotential height dataset with xarray                                                                                                                                \n",
    "ds = xr.load_dataset(z500_filepath)\n",
    "\n",
    "# Select geopotential height variable                                                                                                                                         \n",
    "z500_name = 'height_500'                                                                                                                                                     \n",
    "da_z500_hr = ds[z500_name]\n",
    "\n",
    "# Downsample geopotential height\n",
    "N_GRID_AVG = 8\n",
    "da_z500 = da_z500_hr.coarsen(lat=N_GRID_AVG, boundary='trim').mean().coarsen(                                                                                                 \n",
    "    lon=N_GRID_AVG, boundary='trim').mean()"
   ]
  },
  {
   "cell_type": "markdown",
   "id": "4e02288a-7de8-45ac-b94d-e546ff077c9f",
   "metadata": {},
   "source": [
    "> ***Question***\n",
    "> - Print the geopotential height `DataArray` and make sense of what you read.\n",
    "> - How many variables constitute the geopotential height field?"
   ]
  },
  {
   "cell_type": "code",
   "execution_count": null,
   "id": "4ad6a8e8-cc8d-45bc-bdee-c91057dd781d",
   "metadata": {},
   "outputs": [],
   "source": [
    "# answer cell\n"
   ]
  },
  {
   "cell_type": "markdown",
   "id": "031169c9-ccf5-4468-8ca2-a4d42a9f1159",
   "metadata": {},
   "source": [
    "### Representing the first moments of the geopotential height field\n",
    "\n",
    "> ***Question***\n",
    "> - Compute the mean and the variance of the geopotential height with the `mean` and `var` methods.\n",
    "> - Plot the mean with the `plot` method.\n",
    "> - Do a filled-contour plot of the variance with the `plot.contourf` method."
   ]
  },
  {
   "cell_type": "code",
   "execution_count": null,
   "id": "34d15ea0-16ed-4866-9ce1-a6756bcd3845",
   "metadata": {},
   "outputs": [],
   "source": [
    "# answer cell\n"
   ]
  },
  {
   "cell_type": "markdown",
   "id": "afdf5e41-22c7-4db7-be7b-1c0f1c757435",
   "metadata": {},
   "source": [
    "- A strong part of the wind capacity factor signals is the seasonal cycle.\n",
    "The latter can be estimated from historical data and does not need to be predicted from the geopotential height.\n",
    "We thus remove it from both the geopotential height and the wind capacity factor.\n",
    "- We also keep only the dates that are common to both datasets so as to have pairs of feature and target data points used to solve the supervised learning problem.\n",
    "- Finally, we save the time index and the number of complete years in the dataset for later."
   ]
  },
  {
   "cell_type": "code",
   "execution_count": null,
   "id": "a062e8e6-551a-4bc4-8dba-9c000e3ac4ea",
   "metadata": {},
   "outputs": [],
   "source": [
    "# Remove seasonal cycle from wind capacity factor\n",
    "da_windcf_reg = df_windcf_reg.to_xarray()                                                                                                                                 \n",
    "gp_windcf_cycle = da_windcf_reg.groupby('time.month')                                                                                                                     \n",
    "da_windcf_anom = gp_windcf_cycle - gp_windcf_cycle.mean('time')                                                                                                           \n",
    "df_windcf_anom = da_windcf_anom.drop('month').to_dataframe()[REGION_NAME]\n",
    "\n",
    "# Remove seasonal cycle from geopotential height or not\n",
    "gp_z500_cycle = da_z500.groupby('time.month')                                                                                                                             \n",
    "da_z500_anom = gp_z500_cycle - gp_z500_cycle.mean('time')\n",
    "\n",
    "# Convert to bandas with grid points as columns                                                                                                                               \n",
    "df_z500_anom = da_z500_anom.stack(latlon=('lat', 'lon')).to_dataframe()[\n",
    "    z500_name].unstack(0).transpose()\n",
    "    \n",
    "# Select common index                                                                                                                                                         \n",
    "idx = df_z500_anom.index.intersection(df_windcf_anom.index)                                                                                                                   \n",
    "df_z500_anom = df_z500_anom.loc[idx]                                                                                                                                          \n",
    "df_windcf_anom = df_windcf_anom.loc[idx]                                                                                                                                      \n",
    "                                                                                                                                                                              \n",
    "# Number of years in dataset                                                                                                                                                  \n",
    "time = df_windcf_anom.index                                                                                                                                                   \n",
    "n_years = time.year.max() - time.year.min() + 1"
   ]
  },
  {
   "cell_type": "markdown",
   "id": "141faaad-71db-480d-af5f-3ce3fc72e505",
   "metadata": {},
   "source": [
    "> ***Question***\n",
    "> - How many years of common data is there?\n",
    "> - Plot the time series of the spatially averaged geopotential height and of the national wind capacity factor.\n",
    "> - Compute the correlation between the spatial average of the geopotential height and the wind capacity factor."
   ]
  },
  {
   "cell_type": "code",
   "execution_count": null,
   "id": "194132f9-47cb-4c68-b047-8607a2b918f7",
   "metadata": {},
   "outputs": [],
   "source": [
    "# answer cell\n"
   ]
  },
  {
   "cell_type": "markdown",
   "id": "e3a2060b",
   "metadata": {},
   "source": [
    "## Regularization\n",
    "\n",
    "We want to learn to predict the national wind capacity factor from the geopotential height at different grid points using a linear model.\n",
    "\n",
    "Since the number of input variables, we need to take care of avoiding overfitting.\n",
    "\n",
    "To do so, we apply different regularization techniques.\n",
    "\n",
    "### Ridge regression"
   ]
  },
  {
   "cell_type": "markdown",
   "id": "368696ba",
   "metadata": {},
   "source": [
    "> ***Question***\n",
    "> - Apply the ridge regression using `Ridge` from `sklearn.linear_model` to predict the national wind capacity factor from the geopotential height field for an arbitrary regularization parameter value of `10**5`.\n",
    "> - Plot the histogram estimate of the probability density function of the model coefficients and print the intercept.\n",
    "> - How does the distribution of the coefficients change when you increase or decrease the regularization coefficient?\n",
    "> - Explain this behavior based on what you have learned in class."
   ]
  },
  {
   "cell_type": "code",
   "execution_count": null,
   "id": "8eb7928b",
   "metadata": {},
   "outputs": [],
   "source": [
    "# answer cell\n"
   ]
  },
  {
   "cell_type": "markdown",
   "id": "b5eadf0c",
   "metadata": {},
   "source": [
    "Answer:"
   ]
  },
  {
   "cell_type": "markdown",
   "id": "ab75ecbf",
   "metadata": {},
   "source": [
    "> ***Question***\n",
    "> - Compute the corresponding validation curves. To do so:\n",
    ">   - Leave aside a year or more of test data (it will be used later to test the model with regularization).\n",
    ">   - Compute and plot the train and validation error (using cross-validation) for varying values of the regularization parameter.\n",
    "> - What is the best value of the regularization parameter according to your estimations?\n",
    "> - Is there any overfitting and/or underfitting occurring here?"
   ]
  },
  {
   "cell_type": "code",
   "execution_count": null,
   "id": "e6726899",
   "metadata": {},
   "outputs": [],
   "source": [
    "# answer cell\n"
   ]
  },
  {
   "cell_type": "markdown",
   "id": "1f1ee1b8",
   "metadata": {},
   "source": [
    "Answer:"
   ]
  },
  {
   "cell_type": "markdown",
   "id": "3c33cbd9",
   "metadata": {},
   "source": [
    "> ***Question***\n",
    "> - Compare the distribution of the model coefficients for the best value of the regularization parameter to that of the ordinary least squares coefficients."
   ]
  },
  {
   "cell_type": "code",
   "execution_count": null,
   "id": "329001f3",
   "metadata": {},
   "outputs": [],
   "source": [
    "# answer cell\n"
   ]
  },
  {
   "cell_type": "markdown",
   "id": "0bd7908b-4256-4212-b3e6-788ecfa78e9e",
   "metadata": {},
   "source": [
    "Answer: "
   ]
  },
  {
   "cell_type": "markdown",
   "id": "0db84b0c",
   "metadata": {},
   "source": [
    "> ***Question***\n",
    "> - Give an estimate the prediction error conditioned on some train dataset for the best choice or regularization parameter value.\n",
    "> - Compare the test value of the score to its validation value.\n",
    "> - Evaluate and discuss the sensitivity of the test score to the number of test years retained."
   ]
  },
  {
   "cell_type": "code",
   "execution_count": null,
   "id": "4625c18a",
   "metadata": {},
   "outputs": [],
   "source": [
    "# answer cell\n"
   ]
  },
  {
   "cell_type": "markdown",
   "id": "b8d90a66",
   "metadata": {},
   "source": [
    "Answer:"
   ]
  },
  {
   "cell_type": "markdown",
   "id": "1bc872a0-3efa-4afc-acf0-1738bbf8b87d",
   "metadata": {},
   "source": [
    "> ***Question (optional)***\n",
    "> - Use nested cross-validation to estimated the expected prediction error for the best choice of regularization parameter value.\n",
    "> - How does the this value of the test score compare with the one conditionned on a few years of data computed in the previous section? Discuss this result."
   ]
  },
  {
   "cell_type": "code",
   "execution_count": null,
   "id": "b4602c59-1f6d-45dc-a33f-e604b82c7782",
   "metadata": {},
   "outputs": [],
   "source": [
    "# answer cell\n"
   ]
  },
  {
   "cell_type": "markdown",
   "id": "9b2eab01-6de7-4be1-bcaf-213af826befc",
   "metadata": {},
   "source": [
    "Answer:"
   ]
  },
  {
   "cell_type": "markdown",
   "id": "159549b6",
   "metadata": {},
   "source": [
    "### Lasso regression"
   ]
  },
  {
   "cell_type": "markdown",
   "id": "f58adf42",
   "metadata": {},
   "source": [
    "> ***Question***\n",
    "> - Same questions as for the ridge but for the Lasso (using `Lasso` from `sklearn.linear_model`).\n",
    "> - How do the coefficients evolve compared to the Ridge?"
   ]
  },
  {
   "cell_type": "code",
   "execution_count": null,
   "id": "0cb71152",
   "metadata": {},
   "outputs": [],
   "source": [
    "# answer cell\n"
   ]
  },
  {
   "cell_type": "markdown",
   "id": "77d5da37",
   "metadata": {},
   "source": [
    "Answer:"
   ]
  },
  {
   "cell_type": "markdown",
   "id": "cc7cf895",
   "metadata": {},
   "source": [
    "## $K$-nearest neighbor model\n",
    "\n",
    "> ***Question (optional)***\n",
    "> - Compute and plot the validation curve for the $k$-nearest neighbor model using `KNeighborsRegressor` from `sklearn.neighbors` for varying number of neighbors.\n",
    "> - For which value of $k$ is the score best? Represent the best prediction above the scatter plot of the train data.\n",
    "> - Is there any overfitting occurring?\n",
    "> - How does the best $k$-nearest neighbor model performs compared to the linear models analyzed so far?"
   ]
  },
  {
   "cell_type": "code",
   "execution_count": null,
   "id": "28f7c10a",
   "metadata": {
    "code_folding": []
   },
   "outputs": [],
   "source": [
    "# answer cell\n"
   ]
  },
  {
   "cell_type": "markdown",
   "id": "6b1158e7",
   "metadata": {},
   "source": [
    "Answer:"
   ]
  },
  {
   "cell_type": "markdown",
   "id": "cf5e9e04",
   "metadata": {},
   "source": [
    "***\n",
    "## Credit\n",
    "\n",
    "[//]: # \"This notebook is part of [E4C Interdisciplinary Center - Education](https://gitlab.in2p3.fr/energy4climate/public/education).\"\n",
    "Contributors include Bruno Deremble and Alexis Tantet.\n",
    "Several slides and images are taken from the very good [Scikit-learn course](https://inria.github.io/scikit-learn-mooc/).\n",
    "\n",
    "<br>\n",
    "\n",
    "<div style=\"display: flex; height: 70px\">\n",
    "    \n",
    "<img alt=\"Logo LMD\" src=\"images/logos/logo_lmd.jpg\" style=\"display: inline-block\"/>\n",
    "\n",
    "<img alt=\"Logo IPSL\" src=\"images/logos/logo_ipsl.png\" style=\"display: inline-block\"/>\n",
    "\n",
    "<img alt=\"Logo E4C\" src=\"images/logos/logo_e4c_final.png\" style=\"display: inline-block\"/>\n",
    "\n",
    "<img alt=\"Logo EP\" src=\"images/logos/logo_ep.png\" style=\"display: inline-block\"/>\n",
    "\n",
    "<img alt=\"Logo SU\" src=\"images/logos/logo_su.png\" style=\"display: inline-block\"/>\n",
    "\n",
    "<img alt=\"Logo ENS\" src=\"images/logos/logo_ens.jpg\" style=\"display: inline-block\"/>\n",
    "\n",
    "<img alt=\"Logo CNRS\" src=\"images/logos/logo_cnrs.png\" style=\"display: inline-block\"/>\n",
    "    \n",
    "</div>\n",
    "\n",
    "<hr>\n",
    "\n",
    "<div style=\"display: flex\">\n",
    "    <a rel=\"license\" href=\"http://creativecommons.org/licenses/by-sa/4.0/\"><img alt=\"Creative Commons License\" style=\"border-width:0; margin-right: 10px\" src=\"https://i.creativecommons.org/l/by-sa/4.0/88x31.png\" /></a>\n",
    "    <br>This work is licensed under a &nbsp; <a rel=\"license\" href=\"http://creativecommons.org/licenses/by-sa/4.0/\">Creative Commons Attribution-ShareAlike 4.0 International License</a>.\n",
    "</div>"
   ]
  }
 ],
 "metadata": {
  "kernelspec": {
   "display_name": "Python 3 (ipykernel)",
   "language": "python",
   "name": "python3"
  },
  "language_info": {
   "codemirror_mode": {
    "name": "ipython",
    "version": 3
   },
   "file_extension": ".py",
   "mimetype": "text/x-python",
   "name": "python",
   "nbconvert_exporter": "python",
   "pygments_lexer": "ipython3",
   "version": "3.9.12"
  },
  "latex_envs": {
   "LaTeX_envs_menu_present": true,
   "autoclose": true,
   "autocomplete": false,
   "bibliofile": "biblio.bib",
   "cite_by": "apalike",
   "current_citInitial": 1,
   "eqLabelWithNumbers": true,
   "eqNumInitial": 1,
   "hotkeys": {
    "equation": "Ctrl-E",
    "itemize": "Ctrl-I"
   },
   "labels_anchors": false,
   "latex_user_defs": false,
   "report_style_numbering": false,
   "user_envs_cfg": false
  },
  "toc": {
   "base_numbering": 1,
   "nav_menu": {},
   "number_sections": true,
   "sideBar": true,
   "skip_h1_title": false,
   "title_cell": "Table of Contents",
   "title_sidebar": "Contents",
   "toc_cell": false,
   "toc_position": {},
   "toc_section_display": true,
   "toc_window_display": false
  },
  "varInspector": {
   "cols": {
    "lenName": 16,
    "lenType": 16,
    "lenVar": 40
   },
   "kernels_config": {
    "python": {
     "delete_cmd_postfix": "",
     "delete_cmd_prefix": "del ",
     "library": "var_list.py",
     "varRefreshCmd": "print(var_dic_list())"
    },
    "r": {
     "delete_cmd_postfix": ") ",
     "delete_cmd_prefix": "rm(",
     "library": "var_list.r",
     "varRefreshCmd": "cat(var_dic_list()) "
    }
   },
   "types_to_exclude": [
    "module",
    "function",
    "builtin_function_or_method",
    "instance",
    "_Feature"
   ],
   "window_display": false
  }
 },
 "nbformat": 4,
 "nbformat_minor": 5
}
