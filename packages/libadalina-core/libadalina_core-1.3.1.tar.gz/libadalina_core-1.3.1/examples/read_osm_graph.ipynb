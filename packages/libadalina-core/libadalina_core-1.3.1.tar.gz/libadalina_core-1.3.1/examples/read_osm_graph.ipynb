{
 "cells": [
  {
   "metadata": {},
   "cell_type": "markdown",
   "source": "# Graph building and enrichment tools",
   "id": "c720e01bd0c567a0"
  },
  {
   "metadata": {},
   "cell_type": "markdown",
   "source": "Set the base path where the samples dataset are",
   "id": "260da809cd5cb53b"
  },
  {
   "metadata": {
    "ExecuteTime": {
     "end_time": "2025-09-10T15:00:45.355974Z",
     "start_time": "2025-09-10T15:00:45.352203Z"
    }
   },
   "cell_type": "code",
   "source": [
    "import pathlib\n",
    "import os\n",
    "\n",
    "base_path = pathlib.Path(os.environ.get(\"SAMPLES_DIR\", \"\"))"
   ],
   "id": "8e012d74b645a1f7",
   "outputs": [],
   "execution_count": 1
  },
  {
   "metadata": {},
   "cell_type": "markdown",
   "source": [
    "Read and parse OpenStreetMap dataset with roads of Milano.\n",
    "Road dataset is filtered, removing minor and pedestrian only roads."
   ],
   "id": "5d44652697aa0282"
  },
  {
   "metadata": {
    "ExecuteTime": {
     "end_time": "2025-09-10T15:00:46.819690Z",
     "start_time": "2025-09-10T15:00:45.451430Z"
    }
   },
   "cell_type": "code",
   "source": [
    "from libadalina_core.graph_extraction.readers import OpenStreetMapReader, RoadTypes\n",
    "\n",
    "osm_df = OpenStreetMapReader(RoadTypes.CAR_ONLY).read(str(base_path / 'road_maps' / 'Milano.gpkg'))\n",
    "osm_df.head()"
   ],
   "id": "f9ca81ea9d37ae6c",
   "outputs": [
    {
     "name": "stderr",
     "output_type": "stream",
     "text": [
      "ERROR 1: PROJ: proj_create_from_database: Open of /home/marco/Workspace/miniconda/v3/envs/libadalina/share/proj failed\n",
      "/home/marco/Workspace/miniconda/v3/envs/libadalina/lib/python3.10/site-packages/geopandas/geodataframe.py:1819: SettingWithCopyWarning: \n",
      "A value is trying to be set on a copy of a slice from a DataFrame.\n",
      "Try using .loc[row_indexer,col_indexer] = value instead\n",
      "\n",
      "See the caveats in the documentation: https://pandas.pydata.org/pandas-docs/stable/user_guide/indexing.html#returning-a-view-versus-a-copy\n",
      "  super().__setitem__(key, value)\n"
     ]
    },
    {
     "data": {
      "text/plain": [
       "                                            geometry       id  \\\n",
       "0  LINESTRING (9.16836 45.47604, 9.16827 45.47595...  4011790   \n",
       "1  LINESTRING (9.15073 45.45995, 9.15066 45.45993...  4011792   \n",
       "2  LINESTRING (9.1711 45.47085, 9.17106 45.47089,...  4011793   \n",
       "3  LINESTRING (9.15084 45.46181, 9.15076 45.46187...  4011799   \n",
       "4  LINESTRING (9.14642 45.47797, 9.14631 45.47805...  4011800   \n",
       "\n",
       "                         name   oneway  \n",
       "0          Via Antonio Canova  forward  \n",
       "1                Via Costanza  forward  \n",
       "2  Viale Pietro e Maria Curie  forward  \n",
       "3     Via Marchesi de' Taddei  forward  \n",
       "4            Via Monte Bianco  forward  "
      ],
      "text/html": [
       "<div>\n",
       "<style scoped>\n",
       "    .dataframe tbody tr th:only-of-type {\n",
       "        vertical-align: middle;\n",
       "    }\n",
       "\n",
       "    .dataframe tbody tr th {\n",
       "        vertical-align: top;\n",
       "    }\n",
       "\n",
       "    .dataframe thead th {\n",
       "        text-align: right;\n",
       "    }\n",
       "</style>\n",
       "<table border=\"1\" class=\"dataframe\">\n",
       "  <thead>\n",
       "    <tr style=\"text-align: right;\">\n",
       "      <th></th>\n",
       "      <th>geometry</th>\n",
       "      <th>id</th>\n",
       "      <th>name</th>\n",
       "      <th>oneway</th>\n",
       "    </tr>\n",
       "  </thead>\n",
       "  <tbody>\n",
       "    <tr>\n",
       "      <th>0</th>\n",
       "      <td>LINESTRING (9.16836 45.47604, 9.16827 45.47595...</td>\n",
       "      <td>4011790</td>\n",
       "      <td>Via Antonio Canova</td>\n",
       "      <td>forward</td>\n",
       "    </tr>\n",
       "    <tr>\n",
       "      <th>1</th>\n",
       "      <td>LINESTRING (9.15073 45.45995, 9.15066 45.45993...</td>\n",
       "      <td>4011792</td>\n",
       "      <td>Via Costanza</td>\n",
       "      <td>forward</td>\n",
       "    </tr>\n",
       "    <tr>\n",
       "      <th>2</th>\n",
       "      <td>LINESTRING (9.1711 45.47085, 9.17106 45.47089,...</td>\n",
       "      <td>4011793</td>\n",
       "      <td>Viale Pietro e Maria Curie</td>\n",
       "      <td>forward</td>\n",
       "    </tr>\n",
       "    <tr>\n",
       "      <th>3</th>\n",
       "      <td>LINESTRING (9.15084 45.46181, 9.15076 45.46187...</td>\n",
       "      <td>4011799</td>\n",
       "      <td>Via Marchesi de' Taddei</td>\n",
       "      <td>forward</td>\n",
       "    </tr>\n",
       "    <tr>\n",
       "      <th>4</th>\n",
       "      <td>LINESTRING (9.14642 45.47797, 9.14631 45.47805...</td>\n",
       "      <td>4011800</td>\n",
       "      <td>Via Monte Bianco</td>\n",
       "      <td>forward</td>\n",
       "    </tr>\n",
       "  </tbody>\n",
       "</table>\n",
       "</div>"
      ]
     },
     "execution_count": 2,
     "metadata": {},
     "output_type": "execute_result"
    }
   ],
   "execution_count": 2
  },
  {
   "metadata": {},
   "cell_type": "markdown",
   "source": "A `networkx` `DiGraph` is built from the geometries in the OpenStreetMap dataset.",
   "id": "6930e9924d8a53de"
  },
  {
   "metadata": {
    "ExecuteTime": {
     "end_time": "2025-09-10T15:01:25.261865Z",
     "start_time": "2025-09-10T15:00:46.867004Z"
    }
   },
   "cell_type": "code",
   "source": [
    "from libadalina_core.graph_extraction.builders import build_graph\n",
    "\n",
    "graph = build_graph(osm_df, name='milan_road')\n",
    "graph.number_of_nodes(), graph.number_of_edges() # number of nodes and edges"
   ],
   "id": "a3febffa73c89bd4",
   "outputs": [
    {
     "name": "stderr",
     "output_type": "stream",
     "text": [
      "https://artifacts.unidata.ucar.edu/repository/unidata-all added as a remote repository with the name: repo-1\n",
      "Ivy Default Cache set to: /home/marco/.ivy2/cache\n",
      "The jars for the packages stored in: /home/marco/.ivy2/jars\n",
      "org.apache.sedona#sedona-spark-3.3_2.12 added as a dependency\n",
      "org.datasyslab#geotools-wrapper added as a dependency\n",
      ":: resolving dependencies :: org.apache.spark#spark-submit-parent-cea70723-970a-414c-b55a-02f29614d320;1.0\n",
      "\tconfs: [default]\n"
     ]
    },
    {
     "name": "stdout",
     "output_type": "stream",
     "text": [
      ":: loading settings :: url = jar:file:/home/marco/Workspace/miniconda/v3/envs/libadalina/lib/python3.10/site-packages/pyspark/jars/ivy-2.5.1.jar!/org/apache/ivy/core/settings/ivysettings.xml\n"
     ]
    },
    {
     "name": "stderr",
     "output_type": "stream",
     "text": [
      "\tfound org.apache.sedona#sedona-spark-3.3_2.12;1.7.1 in central\n",
      "\tfound org.apache.sedona#sedona-common;1.7.1 in central\n",
      "\tfound org.apache.commons#commons-math3;3.6.1 in central\n",
      "\tfound org.locationtech.jts#jts-core;1.20.0 in central\n",
      "\tfound org.wololo#jts2geojson;0.16.1 in central\n",
      "\tfound org.locationtech.spatial4j#spatial4j;0.8 in central\n",
      "\tfound com.google.geometry#s2-geometry;2.0.0 in central\n",
      "\tfound com.google.guava#guava;25.1-jre in central\n",
      "\tfound com.google.code.findbugs#jsr305;3.0.2 in central\n",
      "\tfound org.checkerframework#checker-qual;2.0.0 in central\n",
      "\tfound com.google.errorprone#error_prone_annotations;2.1.3 in central\n",
      "\tfound com.google.j2objc#j2objc-annotations;1.1 in central\n",
      "\tfound org.codehaus.mojo#animal-sniffer-annotations;1.14 in central\n",
      "\tfound com.uber#h3;4.1.1 in central\n",
      "\tfound net.sf.geographiclib#GeographicLib-Java;1.52 in central\n",
      "\tfound com.github.ben-manes.caffeine#caffeine;2.9.2 in central\n",
      "\tfound org.checkerframework#checker-qual;3.10.0 in central\n",
      "\tfound com.google.errorprone#error_prone_annotations;2.5.1 in central\n",
      "\tfound org.apache.sedona#sedona-spark-common-3.3_2.12;1.7.1 in central\n",
      "\tfound org.apache.sedona#shade-proto;1.7.1 in central\n",
      "\tfound org.xerial#sqlite-jdbc;3.41.2.2 in central\n",
      "\tfound commons-lang#commons-lang;2.6 in central\n",
      "\tfound graphframes#graphframes;0.8.3-spark3.4-s_2.12 in spark-packages\n",
      "\tfound org.slf4j#slf4j-api;1.7.36 in central\n",
      "\tfound org.scala-lang.modules#scala-collection-compat_2.12;2.5.0 in central\n",
      "\tfound org.beryx#awt-color-factory;1.0.0 in central\n",
      "\tfound org.datasyslab#geotools-wrapper;1.7.1-28.5 in central\n",
      ":: resolution report :: resolve 906ms :: artifacts dl 18ms\n",
      "\t:: modules in use:\n",
      "\tcom.github.ben-manes.caffeine#caffeine;2.9.2 from central in [default]\n",
      "\tcom.google.code.findbugs#jsr305;3.0.2 from central in [default]\n",
      "\tcom.google.errorprone#error_prone_annotations;2.5.1 from central in [default]\n",
      "\tcom.google.geometry#s2-geometry;2.0.0 from central in [default]\n",
      "\tcom.google.guava#guava;25.1-jre from central in [default]\n",
      "\tcom.google.j2objc#j2objc-annotations;1.1 from central in [default]\n",
      "\tcom.uber#h3;4.1.1 from central in [default]\n",
      "\tcommons-lang#commons-lang;2.6 from central in [default]\n",
      "\tgraphframes#graphframes;0.8.3-spark3.4-s_2.12 from spark-packages in [default]\n",
      "\tnet.sf.geographiclib#GeographicLib-Java;1.52 from central in [default]\n",
      "\torg.apache.commons#commons-math3;3.6.1 from central in [default]\n",
      "\torg.apache.sedona#sedona-common;1.7.1 from central in [default]\n",
      "\torg.apache.sedona#sedona-spark-3.3_2.12;1.7.1 from central in [default]\n",
      "\torg.apache.sedona#sedona-spark-common-3.3_2.12;1.7.1 from central in [default]\n",
      "\torg.apache.sedona#shade-proto;1.7.1 from central in [default]\n",
      "\torg.beryx#awt-color-factory;1.0.0 from central in [default]\n",
      "\torg.checkerframework#checker-qual;3.10.0 from central in [default]\n",
      "\torg.codehaus.mojo#animal-sniffer-annotations;1.14 from central in [default]\n",
      "\torg.datasyslab#geotools-wrapper;1.7.1-28.5 from central in [default]\n",
      "\torg.locationtech.jts#jts-core;1.20.0 from central in [default]\n",
      "\torg.locationtech.spatial4j#spatial4j;0.8 from central in [default]\n",
      "\torg.scala-lang.modules#scala-collection-compat_2.12;2.5.0 from central in [default]\n",
      "\torg.slf4j#slf4j-api;1.7.36 from central in [default]\n",
      "\torg.wololo#jts2geojson;0.16.1 from central in [default]\n",
      "\torg.xerial#sqlite-jdbc;3.41.2.2 from central in [default]\n",
      "\t:: evicted modules:\n",
      "\torg.checkerframework#checker-qual;2.0.0 by [org.checkerframework#checker-qual;3.10.0] in [default]\n",
      "\tcom.google.errorprone#error_prone_annotations;2.1.3 by [com.google.errorprone#error_prone_annotations;2.5.1] in [default]\n",
      "\t---------------------------------------------------------------------\n",
      "\t|                  |            modules            ||   artifacts   |\n",
      "\t|       conf       | number| search|dwnlded|evicted|| number|dwnlded|\n",
      "\t---------------------------------------------------------------------\n",
      "\t|      default     |   27  |   0   |   0   |   2   ||   25  |   0   |\n",
      "\t---------------------------------------------------------------------\n",
      ":: retrieving :: org.apache.spark#spark-submit-parent-cea70723-970a-414c-b55a-02f29614d320\n",
      "\tconfs: [default]\n",
      "\t0 artifacts copied, 25 already retrieved (0kB/28ms)\n"
     ]
    },
    {
     "name": "stdout",
     "output_type": "stream",
     "text": [
      "25/09/10 17:00:50 WARN NativeCodeLoader: Unable to load native-hadoop library for your platform... using builtin-java classes where applicable\n"
     ]
    },
    {
     "name": "stderr",
     "output_type": "stream",
     "text": [
      "Setting default log level to \"WARN\".\n",
      "To adjust logging level use sc.setLogLevel(newLevel). For SparkR, use setLogLevel(newLevel).\n"
     ]
    },
    {
     "name": "stdout",
     "output_type": "stream",
     "text": [
      "25/09/10 17:00:52 WARN Utils: Service 'SparkUI' could not bind on port 4040. Attempting port 4041.\n"
     ]
    },
    {
     "name": "stderr",
     "output_type": "stream",
     "text": [
      "                                                                                \r"
     ]
    },
    {
     "data": {
      "text/plain": [
       "(146883, 220423)"
      ]
     },
     "execution_count": 3,
     "metadata": {},
     "output_type": "execute_result"
    }
   ],
   "execution_count": 3
  },
  {
   "metadata": {},
   "cell_type": "markdown",
   "source": [
    "Edge data includes information from to OpenStreetMap dataset, including the id of the geometry, and the name of the road.\n",
    "Also, graph edges are enriched with the geometry of the corresponding line on the map and its distance in meters."
   ],
   "id": "2ec0bc0dffbc9ff1"
  },
  {
   "metadata": {
    "ExecuteTime": {
     "end_time": "2025-09-10T15:01:25.399600Z",
     "start_time": "2025-09-10T15:01:25.396240Z"
    }
   },
   "cell_type": "code",
   "source": "graph.edges(0, data=True) # show data of the first edge",
   "id": "a40e0fc9c8c4b47d",
   "outputs": [
    {
     "data": {
      "text/plain": [
       "OutEdgeDataView([(0, 223338299393, {'geometry': <LINESTRING (9.151 45.462, 9.151 45.462)>, 'id': '4011799', 'name': \"Via Marchesi de' Taddei\", 'distance': 13.853932347639198})])"
      ]
     },
     "execution_count": 4,
     "metadata": {},
     "output_type": "execute_result"
    }
   ],
   "execution_count": 4
  },
  {
   "metadata": {},
   "cell_type": "markdown",
   "source": "Graphs can be further enriched with external datasets to enhance their attributes. This example demonstrates how to incorporate population data from a grid dataset, where each cell contains information about the number of residents.\n",
   "id": "3635e5d6bc9d6330"
  },
  {
   "metadata": {
    "ExecuteTime": {
     "end_time": "2025-09-10T15:01:25.600885Z",
     "start_time": "2025-09-10T15:01:25.564028Z"
    }
   },
   "cell_type": "code",
   "source": [
    "from libadalina_core.readers import geopackage_to_dataframe\n",
    "population = geopackage_to_dataframe(\n",
    "    str(base_path / \"population-north-italy\" / \"Milano.gpkg\"),\n",
    "    \"dataframe\"\n",
    ")[['T', 'geometry']]\n",
    "population.head()"
   ],
   "id": "870db2cc463fb93",
   "outputs": [
    {
     "data": {
      "text/plain": [
       "    T                                           geometry\n",
       "0  85  POLYGON ((9.03109 45.3828, 9.04383 45.38292, 9...\n",
       "1  10  POLYGON ((9.04383 45.38292, 9.05658 45.38303, ...\n",
       "2   0  POLYGON ((9.05658 45.38303, 9.06933 45.38315, ...\n",
       "3   4  POLYGON ((9.06933 45.38315, 9.08208 45.38326, ...\n",
       "4  46  POLYGON ((9.08208 45.38326, 9.09483 45.38337, ..."
      ],
      "text/html": [
       "<div>\n",
       "<style scoped>\n",
       "    .dataframe tbody tr th:only-of-type {\n",
       "        vertical-align: middle;\n",
       "    }\n",
       "\n",
       "    .dataframe tbody tr th {\n",
       "        vertical-align: top;\n",
       "    }\n",
       "\n",
       "    .dataframe thead th {\n",
       "        text-align: right;\n",
       "    }\n",
       "</style>\n",
       "<table border=\"1\" class=\"dataframe\">\n",
       "  <thead>\n",
       "    <tr style=\"text-align: right;\">\n",
       "      <th></th>\n",
       "      <th>T</th>\n",
       "      <th>geometry</th>\n",
       "    </tr>\n",
       "  </thead>\n",
       "  <tbody>\n",
       "    <tr>\n",
       "      <th>0</th>\n",
       "      <td>85</td>\n",
       "      <td>POLYGON ((9.03109 45.3828, 9.04383 45.38292, 9...</td>\n",
       "    </tr>\n",
       "    <tr>\n",
       "      <th>1</th>\n",
       "      <td>10</td>\n",
       "      <td>POLYGON ((9.04383 45.38292, 9.05658 45.38303, ...</td>\n",
       "    </tr>\n",
       "    <tr>\n",
       "      <th>2</th>\n",
       "      <td>0</td>\n",
       "      <td>POLYGON ((9.05658 45.38303, 9.06933 45.38315, ...</td>\n",
       "    </tr>\n",
       "    <tr>\n",
       "      <th>3</th>\n",
       "      <td>4</td>\n",
       "      <td>POLYGON ((9.06933 45.38315, 9.08208 45.38326, ...</td>\n",
       "    </tr>\n",
       "    <tr>\n",
       "      <th>4</th>\n",
       "      <td>46</td>\n",
       "      <td>POLYGON ((9.08208 45.38326, 9.09483 45.38337, ...</td>\n",
       "    </tr>\n",
       "  </tbody>\n",
       "</table>\n",
       "</div>"
      ]
     },
     "execution_count": 5,
     "metadata": {},
     "output_type": "execute_result"
    }
   ],
   "execution_count": 5
  },
  {
   "metadata": {},
   "cell_type": "markdown",
   "source": "The population data will be joined with the road network graph during the building phase to enrich each edge with population data. Specifically, it calculates the estimated population living within a 1km radius of each road segment\n",
   "id": "f531199f00c5c40"
  },
  {
   "metadata": {
    "ExecuteTime": {
     "end_time": "2025-09-10T15:02:09.907639Z",
     "start_time": "2025-09-10T15:01:25.742443Z"
    }
   },
   "cell_type": "code",
   "source": [
    "from libadalina_core.spatial_operators import AggregationFunction, AggregationType\n",
    "\n",
    "graph = build_graph(osm_df,\n",
    "                        name='milan_road_with_population',\n",
    "                        joined_df=population,\n",
    "                        buffer_radius_meters=1000, # 1km\n",
    "                        aggregate_functions=[\n",
    "                            AggregationFunction(\"T\", AggregationType.SUM, 'population', proportional='geometry_right')\n",
    "                        ]\n",
    "                        )"
   ],
   "id": "95886d68f9603136",
   "outputs": [
    {
     "name": "stderr",
     "output_type": "stream",
     "text": [
      "                                                                                \r"
     ]
    },
    {
     "name": "stdout",
     "output_type": "stream",
     "text": [
      "25/09/10 17:01:36 WARN JoinQuery: UseIndex is true, but no index exists. Will build index on the fly.\n"
     ]
    },
    {
     "name": "stderr",
     "output_type": "stream",
     "text": [
      "                                                                                \r"
     ]
    },
    {
     "ename": "KeyboardInterrupt",
     "evalue": "",
     "output_type": "error",
     "traceback": [
      "\u001B[0;31m---------------------------------------------------------------------------\u001B[0m",
      "\u001B[0;31mKeyboardInterrupt\u001B[0m                         Traceback (most recent call last)",
      "Cell \u001B[0;32mIn[6], line 3\u001B[0m\n\u001B[1;32m      1\u001B[0m \u001B[38;5;28;01mfrom\u001B[39;00m\u001B[38;5;250m \u001B[39m\u001B[38;5;21;01mlibadalina_core\u001B[39;00m\u001B[38;5;21;01m.\u001B[39;00m\u001B[38;5;21;01mspatial_operators\u001B[39;00m\u001B[38;5;250m \u001B[39m\u001B[38;5;28;01mimport\u001B[39;00m AggregationFunction, AggregationType\n\u001B[0;32m----> 3\u001B[0m graph \u001B[38;5;241m=\u001B[39m \u001B[43mbuild_graph\u001B[49m\u001B[43m(\u001B[49m\u001B[43mosm_df\u001B[49m\u001B[43m,\u001B[49m\n\u001B[1;32m      4\u001B[0m \u001B[43m                        \u001B[49m\u001B[43mname\u001B[49m\u001B[38;5;241;43m=\u001B[39;49m\u001B[38;5;124;43m'\u001B[39;49m\u001B[38;5;124;43mmilan_road_with_population\u001B[39;49m\u001B[38;5;124;43m'\u001B[39;49m\u001B[43m,\u001B[49m\n\u001B[1;32m      5\u001B[0m \u001B[43m                        \u001B[49m\u001B[43mjoined_df\u001B[49m\u001B[38;5;241;43m=\u001B[39;49m\u001B[43mpopulation\u001B[49m\u001B[43m,\u001B[49m\n\u001B[1;32m      6\u001B[0m \u001B[43m                        \u001B[49m\u001B[43mbuffer_radius_meters\u001B[49m\u001B[38;5;241;43m=\u001B[39;49m\u001B[38;5;241;43m1000\u001B[39;49m\u001B[43m,\u001B[49m\u001B[43m \u001B[49m\u001B[38;5;66;43;03m# 1km\u001B[39;49;00m\n\u001B[1;32m      7\u001B[0m \u001B[43m                        \u001B[49m\u001B[43maggregate_functions\u001B[49m\u001B[38;5;241;43m=\u001B[39;49m\u001B[43m[\u001B[49m\n\u001B[1;32m      8\u001B[0m \u001B[43m                            \u001B[49m\u001B[43mAggregationFunction\u001B[49m\u001B[43m(\u001B[49m\u001B[38;5;124;43m\"\u001B[39;49m\u001B[38;5;124;43mT\u001B[39;49m\u001B[38;5;124;43m\"\u001B[39;49m\u001B[43m,\u001B[49m\u001B[43m \u001B[49m\u001B[43mAggregationType\u001B[49m\u001B[38;5;241;43m.\u001B[39;49m\u001B[43mSUM\u001B[49m\u001B[43m,\u001B[49m\u001B[43m \u001B[49m\u001B[38;5;124;43m'\u001B[39;49m\u001B[38;5;124;43mpopulation\u001B[39;49m\u001B[38;5;124;43m'\u001B[39;49m\u001B[43m,\u001B[49m\u001B[43m \u001B[49m\u001B[43mproportional\u001B[49m\u001B[38;5;241;43m=\u001B[39;49m\u001B[38;5;124;43m'\u001B[39;49m\u001B[38;5;124;43mgeometry_right\u001B[39;49m\u001B[38;5;124;43m'\u001B[39;49m\u001B[43m)\u001B[49m\n\u001B[1;32m      9\u001B[0m \u001B[43m                        \u001B[49m\u001B[43m]\u001B[49m\n\u001B[1;32m     10\u001B[0m \u001B[43m                        \u001B[49m\u001B[43m)\u001B[49m\n",
      "File \u001B[0;32m~/Workspace/applicazioni/Unimi/Amelia/code/libadalina-core/libadalina_core/graph_extraction/builders/graph_builder.py:148\u001B[0m, in \u001B[0;36mbuild_graph\u001B[0;34m(***failed resolving arguments***)\u001B[0m\n\u001B[1;32m    145\u001B[0m \u001B[38;5;28;01mif\u001B[39;00m dataframe_only:\n\u001B[1;32m    146\u001B[0m     \u001B[38;5;28;01mreturn\u001B[39;00m lines_df\n\u001B[0;32m--> 148\u001B[0m graph \u001B[38;5;241m=\u001B[39m \u001B[43m_add_arcs\u001B[49m\u001B[43m(\u001B[49m\u001B[43mnx\u001B[49m\u001B[38;5;241;43m.\u001B[39;49m\u001B[43mDiGraph\u001B[49m\u001B[43m(\u001B[49m\u001B[43m)\u001B[49m\u001B[43m,\u001B[49m\u001B[43m \u001B[49m\u001B[43mlines_df\u001B[49m\u001B[43m)\u001B[49m\n\u001B[1;32m    149\u001B[0m \u001B[38;5;28;01mdel\u001B[39;00m lines_df\n\u001B[1;32m    151\u001B[0m graph \u001B[38;5;241m=\u001B[39m remove_nodes_without_edges(graph)\n",
      "File \u001B[0;32m~/Workspace/applicazioni/Unimi/Amelia/code/libadalina-core/libadalina_core/graph_extraction/builders/graph_builder.py:67\u001B[0m, in \u001B[0;36m_add_arcs\u001B[0;34m(graph, df)\u001B[0m\n\u001B[1;32m     64\u001B[0m     \u001B[38;5;28;01mif\u001B[39;00m \u001B[38;5;28mlen\u001B[39m(points) \u001B[38;5;241m!=\u001B[39m \u001B[38;5;241m2\u001B[39m:\n\u001B[1;32m     65\u001B[0m         \u001B[38;5;28;01mraise\u001B[39;00m \u001B[38;5;167;01mException\u001B[39;00m(\u001B[38;5;124mf\u001B[39m\u001B[38;5;124m\"\u001B[39m\u001B[38;5;124minvalid number of points in line: \u001B[39m\u001B[38;5;132;01m{\u001B[39;00mpoints\u001B[38;5;132;01m}\u001B[39;00m\u001B[38;5;124m\"\u001B[39m)\n\u001B[0;32m---> 67\u001B[0m     point1, point2 \u001B[38;5;241m=\u001B[39m points \u001B[38;5;28;01mif\u001B[39;00m point_geometry[\u001B[38;5;241m0\u001B[39m]\u001B[38;5;241m.\u001B[39mcoords[\u001B[38;5;241m0\u001B[39m] \u001B[38;5;241m==\u001B[39m \u001B[43mrow\u001B[49m\u001B[43m[\u001B[49m\u001B[38;5;124;43m'\u001B[39;49m\u001B[38;5;124;43mgeometry\u001B[39;49m\u001B[38;5;124;43m'\u001B[39;49m\u001B[43m]\u001B[49m\u001B[38;5;241;43m.\u001B[39;49m\u001B[43mcoords\u001B[49m[\u001B[38;5;241m0\u001B[39m] \u001B[38;5;28;01melse\u001B[39;00m points[::\u001B[38;5;241m-\u001B[39m\u001B[38;5;241m1\u001B[39m]\n\u001B[1;32m     68\u001B[0m     _add_arc(graph, point1, point2, direction, {\n\u001B[1;32m     69\u001B[0m         k: v \u001B[38;5;28;01mfor\u001B[39;00m k, v \u001B[38;5;129;01min\u001B[39;00m row\u001B[38;5;241m.\u001B[39masDict()\u001B[38;5;241m.\u001B[39mitems() \u001B[38;5;28;01mif\u001B[39;00m k \u001B[38;5;129;01mnot\u001B[39;00m \u001B[38;5;129;01min\u001B[39;00m [\u001B[38;5;124m'\u001B[39m\u001B[38;5;124mpoints_uuid\u001B[39m\u001B[38;5;124m'\u001B[39m, \u001B[38;5;124m'\u001B[39m\u001B[38;5;124mpoints_geometry\u001B[39m\u001B[38;5;124m'\u001B[39m, MandatoryColumns\u001B[38;5;241m.\u001B[39moneway\u001B[38;5;241m.\u001B[39mvalue]\n\u001B[1;32m     70\u001B[0m     })\n\u001B[1;32m     72\u001B[0m \u001B[38;5;28;01mreturn\u001B[39;00m graph\n",
      "File \u001B[0;32m~/Workspace/miniconda/v3/envs/libadalina/lib/python3.10/site-packages/shapely/geometry/base.py:222\u001B[0m, in \u001B[0;36mBaseGeometry.coords\u001B[0;34m(self)\u001B[0m\n\u001B[1;32m    219\u001B[0m \u001B[38;5;129m@property\u001B[39m\n\u001B[1;32m    220\u001B[0m \u001B[38;5;28;01mdef\u001B[39;00m\u001B[38;5;250m \u001B[39m\u001B[38;5;21mcoords\u001B[39m(\u001B[38;5;28mself\u001B[39m):\n\u001B[1;32m    221\u001B[0m \u001B[38;5;250m    \u001B[39m\u001B[38;5;124;03m\"\"\"Access to geometry's coordinates (CoordinateSequence).\"\"\"\u001B[39;00m\n\u001B[0;32m--> 222\u001B[0m     has_z \u001B[38;5;241m=\u001B[39m \u001B[38;5;28;43mself\u001B[39;49m\u001B[38;5;241;43m.\u001B[39;49m\u001B[43mhas_z\u001B[49m\n\u001B[1;32m    223\u001B[0m     has_m \u001B[38;5;241m=\u001B[39m \u001B[38;5;28mself\u001B[39m\u001B[38;5;241m.\u001B[39mhas_m \u001B[38;5;28;01mif\u001B[39;00m _geos_ge_312 \u001B[38;5;28;01melse\u001B[39;00m \u001B[38;5;28;01mFalse\u001B[39;00m\n\u001B[1;32m    224\u001B[0m     coords_array \u001B[38;5;241m=\u001B[39m shapely\u001B[38;5;241m.\u001B[39mget_coordinates(\u001B[38;5;28mself\u001B[39m, include_z\u001B[38;5;241m=\u001B[39mhas_z, include_m\u001B[38;5;241m=\u001B[39mhas_m)\n",
      "File \u001B[0;32m~/Workspace/miniconda/v3/envs/libadalina/lib/python3.10/site-packages/shapely/geometry/base.py:714\u001B[0m, in \u001B[0;36mBaseGeometry.has_z\u001B[0;34m(self)\u001B[0m\n\u001B[1;32m    711\u001B[0m \u001B[38;5;129m@property\u001B[39m\n\u001B[1;32m    712\u001B[0m \u001B[38;5;28;01mdef\u001B[39;00m\u001B[38;5;250m \u001B[39m\u001B[38;5;21mhas_z\u001B[39m(\u001B[38;5;28mself\u001B[39m):\n\u001B[1;32m    713\u001B[0m \u001B[38;5;250m    \u001B[39m\u001B[38;5;124;03m\"\"\"True if the geometry's coordinate sequence(s) have z values.\"\"\"\u001B[39;00m\n\u001B[0;32m--> 714\u001B[0m     \u001B[38;5;28;01mreturn\u001B[39;00m \u001B[38;5;28mbool\u001B[39m(\u001B[43mshapely\u001B[49m\u001B[38;5;241;43m.\u001B[39;49m\u001B[43mhas_z\u001B[49m\u001B[43m(\u001B[49m\u001B[38;5;28;43mself\u001B[39;49m\u001B[43m)\u001B[49m)\n",
      "File \u001B[0;32m~/Workspace/miniconda/v3/envs/libadalina/lib/python3.10/site-packages/shapely/decorators.py:88\u001B[0m, in \u001B[0;36mmultithreading_enabled.<locals>.wrapped\u001B[0;34m(*args, **kwargs)\u001B[0m\n\u001B[1;32m     86\u001B[0m     \u001B[38;5;28;01mfor\u001B[39;00m arr \u001B[38;5;129;01min\u001B[39;00m array_args:\n\u001B[1;32m     87\u001B[0m         arr\u001B[38;5;241m.\u001B[39mflags\u001B[38;5;241m.\u001B[39mwriteable \u001B[38;5;241m=\u001B[39m \u001B[38;5;28;01mFalse\u001B[39;00m\n\u001B[0;32m---> 88\u001B[0m     \u001B[38;5;28;01mreturn\u001B[39;00m \u001B[43mfunc\u001B[49m\u001B[43m(\u001B[49m\u001B[38;5;241;43m*\u001B[39;49m\u001B[43margs\u001B[49m\u001B[43m,\u001B[49m\u001B[43m \u001B[49m\u001B[38;5;241;43m*\u001B[39;49m\u001B[38;5;241;43m*\u001B[39;49m\u001B[43mkwargs\u001B[49m\u001B[43m)\u001B[49m\n\u001B[1;32m     89\u001B[0m \u001B[38;5;28;01mfinally\u001B[39;00m:\n\u001B[1;32m     90\u001B[0m     \u001B[38;5;28;01mfor\u001B[39;00m arr, old_flag \u001B[38;5;129;01min\u001B[39;00m \u001B[38;5;28mzip\u001B[39m(array_args, old_flags):\n",
      "File \u001B[0;32m~/Workspace/miniconda/v3/envs/libadalina/lib/python3.10/site-packages/shapely/predicates.py:75\u001B[0m, in \u001B[0;36mhas_z\u001B[0;34m(geometry, **kwargs)\u001B[0m\n\u001B[1;32m     45\u001B[0m \u001B[38;5;129m@multithreading_enabled\u001B[39m\n\u001B[1;32m     46\u001B[0m \u001B[38;5;28;01mdef\u001B[39;00m\u001B[38;5;250m \u001B[39m\u001B[38;5;21mhas_z\u001B[39m(geometry, \u001B[38;5;241m*\u001B[39m\u001B[38;5;241m*\u001B[39mkwargs):\n\u001B[1;32m     47\u001B[0m \u001B[38;5;250m    \u001B[39m\u001B[38;5;124;03m\"\"\"Return True if a geometry has Z coordinates.\u001B[39;00m\n\u001B[1;32m     48\u001B[0m \n\u001B[1;32m     49\u001B[0m \u001B[38;5;124;03m    Note that for GEOS < 3.12 this function returns False if the (first) Z coordinate\u001B[39;00m\n\u001B[0;32m   (...)\u001B[0m\n\u001B[1;32m     73\u001B[0m \n\u001B[1;32m     74\u001B[0m \u001B[38;5;124;03m    \"\"\"\u001B[39;00m\n\u001B[0;32m---> 75\u001B[0m     \u001B[38;5;28;01mreturn\u001B[39;00m \u001B[43mlib\u001B[49m\u001B[38;5;241;43m.\u001B[39;49m\u001B[43mhas_z\u001B[49m\u001B[43m(\u001B[49m\u001B[43mgeometry\u001B[49m\u001B[43m,\u001B[49m\u001B[43m \u001B[49m\u001B[38;5;241;43m*\u001B[39;49m\u001B[38;5;241;43m*\u001B[39;49m\u001B[43mkwargs\u001B[49m\u001B[43m)\u001B[49m\n",
      "\u001B[0;31mKeyboardInterrupt\u001B[0m: "
     ]
    }
   ],
   "execution_count": 6
  },
  {
   "metadata": {},
   "cell_type": "markdown",
   "source": "Edges data now include the amount of population nearby.",
   "id": "6e08497027507173"
  },
  {
   "metadata": {
    "ExecuteTime": {
     "end_time": "2025-09-10T15:02:09.930218642Z",
     "start_time": "2025-08-31T14:15:41.992431Z"
    }
   },
   "cell_type": "code",
   "source": "graph.edges(0, data=True) # show data of the first edge",
   "id": "34d316375cf6f63a",
   "outputs": [
    {
     "data": {
      "text/plain": [
       "OutEdgeDataView([(0, 17179869283, {'geometry': <LINESTRING (9.151 45.462, 9.151 45.462)>, 'id': '4011799', 'name': \"Via Marchesi de' Taddei\", 'distance': 13.853932347639198, 'population': 447.0405512516792})])"
      ]
     },
     "execution_count": 14,
     "metadata": {},
     "output_type": "execute_result"
    }
   ],
   "execution_count": 14
  }
 ],
 "metadata": {
  "kernelspec": {
   "display_name": "Python 3",
   "language": "python",
   "name": "python3"
  },
  "language_info": {
   "codemirror_mode": {
    "name": "ipython",
    "version": 2
   },
   "file_extension": ".py",
   "mimetype": "text/x-python",
   "name": "python",
   "nbconvert_exporter": "python",
   "pygments_lexer": "ipython2",
   "version": "2.7.6"
  }
 },
 "nbformat": 4,
 "nbformat_minor": 5
}
