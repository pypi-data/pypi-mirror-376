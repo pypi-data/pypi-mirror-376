{
 "cells": [
  {
   "metadata": {},
   "cell_type": "markdown",
   "source": "# Example of integration with Pandas DataFrame",
   "id": "4a4904c4d50ffe1f"
  },
  {
   "metadata": {},
   "cell_type": "markdown",
   "source": "Import the packages needed to read the CSV into a Pandas DataFrame",
   "id": "649305881cc68d39"
  },
  {
   "metadata": {},
   "cell_type": "code",
   "source": [
    "import pandas as pd\n",
    "import pathlib\n",
    "import os"
   ],
   "id": "22795bdbd04311fe",
   "outputs": [],
   "execution_count": null
  },
  {
   "metadata": {},
   "cell_type": "markdown",
   "source": "Import libadalina-core operators",
   "id": "1ca5c17fbf586a90"
  },
  {
   "metadata": {},
   "cell_type": "code",
   "source": [
    "from libadalina_core.sedona_utils import to_spark_dataframe, EPSGFormats\n",
    "from libadalina_core.spatial_operators import polygonize"
   ],
   "id": "9ec526367c18ef10",
   "outputs": [],
   "execution_count": null
  },
  {
   "metadata": {},
   "cell_type": "markdown",
   "source": "Read the CSV containing the OpenStreetMap geometries from a local directory.",
   "id": "634bb70bbda7b842"
  },
  {
   "metadata": {},
   "cell_type": "code",
   "source": [
    "base_path = pathlib.Path(os.environ.get(\"SAMPLES_DIR\", \"\"))\n",
    "\n",
    "df = pd.read_csv(\n",
    "    base_path / \"milano\" / \"gis_osm_roads_free_1.csv\",\n",
    "    sep=',', quotechar='\"', dtype={'name': 'string', 'ref': 'string'},\n",
    ")\n",
    "df.loc[:, 'name'] = df['name'].fillna('')\n",
    "df.loc[:, 'ref'] = df['ref'].fillna('')"
   ],
   "id": "776f9f0dd14f56d0",
   "outputs": [],
   "execution_count": null
  },
  {
   "metadata": {},
   "cell_type": "markdown",
   "source": "Load the DataFrame into Sedona and obtain a new dataframe where each line of the OpenStreetMap has been trasformed into a polygon by creating a buffer with a radius of 100 meters around.",
   "id": "c5d53b186a79d356"
  },
  {
   "metadata": {},
   "cell_type": "code",
   "source": [
    "df = to_spark_dataframe(df, EPSGFormats.EPSG4326)\n",
    "df = polygonize(df, 100)\n",
    "\n",
    "df.show()"
   ],
   "id": "ca3e66ebbf2f88a",
   "outputs": [],
   "execution_count": null
  }
 ],
 "metadata": {
  "kernelspec": {
   "display_name": "Python 3 (ipykernel)",
   "language": "python",
   "name": "python3"
  },
  "language_info": {
   "codemirror_mode": {
    "name": "ipython",
    "version": 3
   },
   "file_extension": ".py",
   "mimetype": "text/x-python",
   "name": "python",
   "nbconvert_exporter": "python",
   "pygments_lexer": "ipython3",
   "version": "3.10.10"
  }
 },
 "nbformat": 4,
 "nbformat_minor": 5
}
