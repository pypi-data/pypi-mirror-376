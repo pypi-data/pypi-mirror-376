{
 "cells": [
  {
   "metadata": {},
   "cell_type": "markdown",
   "source": "# Example of using Amelia datasets with libadalina-core",
   "id": "3f4e1c4d9c348f2e"
  },
  {
   "metadata": {},
   "cell_type": "markdown",
   "source": "Install the latest version of libadalina-core using pip",
   "id": "8378342c3a21eb90"
  },
  {
   "metadata": {},
   "cell_type": "code",
   "source": "pip install -U libadalina-core",
   "id": "4e3cd59ce8ef1108",
   "outputs": [],
   "execution_count": null
  },
  {
   "metadata": {},
   "cell_type": "markdown",
   "source": "Import the Amelia toolkit to read the datasets and libadalina-core geospatial operators",
   "id": "833ebd107cd0a8ec"
  },
  {
   "cell_type": "code",
   "id": "843530dd-002f-4489-9dcc-1b9f7b666331",
   "metadata": {
    "editable": true,
    "slideshow": {
     "slide_type": ""
    },
    "tags": []
   },
   "source": [
    "from ameliadp_sql_toolkit import GrinsAmeliaSQLToolkit\n",
    "\n",
    "from libadalina_core.sedona_utils import to_spark_dataframe, EPSGFormats\n",
    "from libadalina_core.spatial_operators import polygonize"
   ],
   "outputs": [],
   "execution_count": null
  },
  {
   "metadata": {},
   "cell_type": "markdown",
   "source": "Read a dataset from Ameli representing the street map of Milan",
   "id": "593404dc08f1c2e4"
  },
  {
   "cell_type": "code",
   "id": "91d01dcb2915d1d2",
   "metadata": {},
   "source": [
    "amelia_sql_toolkit = GrinsAmeliaSQLToolkit()\n",
    "milan_osm = amelia_sql_toolkit.read_data(table_name='gis_osm_roads_free_1') # read a dataset"
   ],
   "outputs": [],
   "execution_count": null
  },
  {
   "metadata": {},
   "cell_type": "markdown",
   "source": "Clean the dataset and select the columns needed",
   "id": "f8afa973ba9ae2b9"
  },
  {
   "metadata": {},
   "cell_type": "code",
   "source": [
    "milan_osm = milan_osm[['geometry', 'name']]\n",
    "milan_osm.loc[:, 'name'] = milan_osm['name'].fillna('')"
   ],
   "id": "c557de9607e2f245",
   "outputs": [],
   "execution_count": null
  },
  {
   "metadata": {},
   "cell_type": "markdown",
   "source": "Load the dataframe into Sedona and create a buffer with a radius of 100 meters around the streets to create polygons from lines.",
   "id": "cdd4fc587272710d"
  },
  {
   "metadata": {},
   "cell_type": "code",
   "source": [
    "df = to_spark_dataframe(milan_osm, EPSGFormats.EPSG4326)\n",
    "df = polygonize(df, 100)\n",
    "\n",
    "df.show()"
   ],
   "id": "8ddec92b-f1e3-4df3-ada7-5fb69544af2e",
   "outputs": [],
   "execution_count": null
  }
 ],
 "metadata": {
  "kernelspec": {
   "display_name": "Python 3 (ipykernel)",
   "language": "python",
   "name": "python3"
  },
  "language_info": {
   "codemirror_mode": {
    "name": "ipython",
    "version": 3
   },
   "file_extension": ".py",
   "mimetype": "text/x-python",
   "name": "python",
   "nbconvert_exporter": "python",
   "pygments_lexer": "ipython3",
   "version": "3.10.10"
  }
 },
 "nbformat": 4,
 "nbformat_minor": 5
}
