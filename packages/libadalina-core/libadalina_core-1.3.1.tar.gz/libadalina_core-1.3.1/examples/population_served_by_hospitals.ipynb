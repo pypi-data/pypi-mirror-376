{
 "cells": [
  {
   "metadata": {},
   "cell_type": "markdown",
   "source": "# Spatial join between hospitals of regions and population grid",
   "id": "7673495e2488aacf"
  },
  {
   "metadata": {},
   "cell_type": "markdown",
   "source": "Import necessary libraries and modules",
   "id": "cda58b0a636f3869"
  },
  {
   "metadata": {},
   "cell_type": "code",
   "source": [
    "from libadalina_core.readers import geopackage_to_dataframe\n",
    "import pathlib\n",
    "import os"
   ],
   "id": "64fee5ae1e0de1e",
   "outputs": [],
   "execution_count": null
  },
  {
   "metadata": {},
   "cell_type": "markdown",
   "source": "Read the geopackages containing the regions, hospitals and population grid data from a local directory.",
   "id": "7327ea1787f42e2a"
  },
  {
   "metadata": {},
   "cell_type": "code",
   "source": [
    "base_path = pathlib.Path(os.environ.get(\"SAMPLES_DIR\", \"\"))\n",
    "\n",
    "population = geopackage_to_dataframe(\n",
    "    str(base_path / \"population-north-italy\" / \"nord-italia.gpkg\"),\n",
    "    \"census2021\"\n",
    ")[['T', 'geometry']]\n",
    "\n",
    "hospitals = geopackage_to_dataframe(\n",
    "    str(base_path / \"healthcare\" / \"EU_healthcare.gpkg\"),\n",
    "    \"EU\"\n",
    ")[[\"hospital_name\", \"geometry\", \"city\", \"cap_beds\"]]\n",
    "\n",
    "regions = geopackage_to_dataframe(\n",
    "    str(base_path / \"regions\" / \"NUTS_RG_20M_2024_4326.gpkg\"),\n",
    "    \"NUTS_RG_20M_2024_4326.gpkg\"\n",
    ")[[\"LEVL_CODE\", \"NUTS_NAME\", \"CNTR_CODE\", \"geometry\"]]"
   ],
   "id": "805eb4c51ebcd0a5",
   "outputs": [],
   "execution_count": null
  },
  {
   "metadata": {},
   "cell_type": "markdown",
   "source": "Import libadalina-core spatial operators for performing spatial joins and aggregations.",
   "id": "6b998eb1ab52a0ee"
  },
  {
   "metadata": {},
   "cell_type": "code",
   "source": [
    "from libadalina_core.spatial_operators import spatial_join, JoinType, spatial_aggregation, AggregationType, \\\n",
    "    AggregationFunction, polygonize"
   ],
   "id": "1ac6ea1e54cdda34",
   "outputs": [],
   "execution_count": null
  },
  {
   "metadata": {},
   "cell_type": "markdown",
   "source": "Select the Italian province of Cremona to obtain the hospitals that are located in this province.",
   "id": "2f8eb479e6220709"
  },
  {
   "metadata": {},
   "cell_type": "code",
   "source": [
    "# select province of Cremona\n",
    "filtered_regions = regions[\n",
    "    (regions['LEVL_CODE'] == 3) &\n",
    "    (regions['CNTR_CODE'] == \"IT\") &\n",
    "    (regions['NUTS_NAME'].str.contains('Cremona', case=False))\n",
    "]"
   ],
   "id": "bc1769126f8bd1f0",
   "outputs": [],
   "execution_count": null
  },
  {
   "metadata": {},
   "cell_type": "markdown",
   "source": "Join the province dataframe with the hospitals one to get all the hospitals in Cremona",
   "id": "477b0c1add05821d"
  },
  {
   "metadata": {},
   "cell_type": "code",
   "source": [
    "result = (spatial_join(filtered_regions, hospitals, join_type=JoinType.LEFT)\n",
    "          # join operator renames the geometries adding suffixes _left and _right to avoid conflicts\n",
    "          .withColumnRenamed('geometry_left', 'geometry_provinces')\n",
    "          .withColumnRenamed('geometry_right', 'geometry'))\n",
    "result.show(truncate=False)"
   ],
   "id": "3c7ebc4abf432177",
   "outputs": [],
   "execution_count": null
  },
  {
   "metadata": {},
   "cell_type": "markdown",
   "source": "Transform the points representing the hospitals on the map to circle-like shaped polygons with a radius of 1000 meters.",
   "id": "7689d7d7553e3d6e"
  },
  {
   "metadata": {},
   "cell_type": "code",
   "source": [
    "result = (polygonize(result, 1000)\n",
    "          .withColumnRenamed('geometry', 'original_geometry')\n",
    "          .withColumnRenamed('polygonized_geometry', 'geometry'))\n"
   ],
   "id": "91745f68bfe131a5",
   "outputs": [],
   "execution_count": null
  },
  {
   "metadata": {},
   "cell_type": "markdown",
   "source": "Join the polygonized hospitals with the population grid to obtain the amount of population within 1000 meters from each hospital.",
   "id": "4b9e2f06a0a4182e"
  },
  {
   "metadata": {},
   "cell_type": "code",
   "source": [
    "result = spatial_aggregation(spatial_join(result, population, join_type=JoinType.INNER)\n",
    "          # join operator renames the geometries adding suffixes _left and _right to avoid conflicts\n",
    "          .withColumnRenamed('geometry_left', 'geometry'),\n",
    "                             aggregate_functions=[\n",
    "                                 AggregationFunction(\"T\", AggregationType.SUM, 'population',\n",
    "                                                     proportional='geometry_right'),\n",
    "                             ])\n",
    "result.show(truncate=False)"
   ],
   "id": "f095829b4f492bcb",
   "outputs": [],
   "execution_count": null
  }
 ],
 "metadata": {
  "kernelspec": {
   "display_name": "Python 3 (ipykernel)",
   "language": "python",
   "name": "python3"
  },
  "language_info": {
   "codemirror_mode": {
    "name": "ipython",
    "version": 3
   },
   "file_extension": ".py",
   "mimetype": "text/x-python",
   "name": "python",
   "nbconvert_exporter": "python",
   "pygments_lexer": "ipython3",
   "version": "3.10.10"
  }
 },
 "nbformat": 4,
 "nbformat_minor": 5
}
