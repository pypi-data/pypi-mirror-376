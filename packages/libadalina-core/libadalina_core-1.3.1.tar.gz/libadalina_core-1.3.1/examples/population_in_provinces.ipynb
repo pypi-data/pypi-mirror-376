{
 "cells": [
  {
   "metadata": {},
   "cell_type": "markdown",
   "source": "# Spatial join between regions and population grid",
   "id": "8eb8c025bcddfb49"
  },
  {
   "metadata": {},
   "cell_type": "markdown",
   "source": "Import necessary libraries and modules",
   "id": "efe9aa4f1efd2e85"
  },
  {
   "metadata": {},
   "cell_type": "code",
   "source": [
    "from libadalina_core.readers import geopackage_to_dataframe\n",
    "import pathlib\n",
    "import os"
   ],
   "id": "68f3e5c03da4ede5",
   "outputs": [],
   "execution_count": null
  },
  {
   "metadata": {},
   "cell_type": "markdown",
   "source": "Read the geopackages containing the regions and the grid of the population",
   "id": "55eeb004d84f5ea6"
  },
  {
   "metadata": {},
   "cell_type": "code",
   "source": [
    "base_path = pathlib.Path(os.environ.get(\"SAMPLES_DIR\", \"\")) # local directory where the sample data is stored\n",
    "\n",
    "population = geopackage_to_dataframe(\n",
    "        str(base_path / \"population-north-italy\" / \"nord-italia.gpkg\"),\n",
    "        \"census2021\"\n",
    ")[['T', 'geometry']]\n",
    "\n",
    "regions = geopackage_to_dataframe(\n",
    "        str(base_path / \"regions\" / \"NUTS_RG_20M_2024_4326.gpkg\"),\n",
    "        \"NUTS_RG_20M_2024_4326.gpkg\"\n",
    ")[[\"LEVL_CODE\", \"NUTS_NAME\", \"CNTR_CODE\", \"geometry\"]]"
   ],
   "id": "22b7ae50388548a1",
   "outputs": [],
   "execution_count": null
  },
  {
   "metadata": {},
   "cell_type": "markdown",
   "source": "Import libadalina-core spatial operators for performing spatial joins and aggregations.",
   "id": "5652b6eeceb83c1a"
  },
  {
   "metadata": {},
   "cell_type": "code",
   "source": [
    "from libadalina_core.spatial_operators import spatial_join, JoinType, spatial_aggregation, AggregationType, \\\n",
    "    AggregationFunction"
   ],
   "id": "81ef4dbe25219021",
   "outputs": [],
   "execution_count": null
  },
  {
   "metadata": {},
   "cell_type": "markdown",
   "source": [
    "For the sake of this example, filter the regions to select only those that correspond to the provinces of Milan and Cremona.\n",
    "`regions` and `filtered_regions` are geopandas DataFrame at this step"
   ],
   "id": "e871c032a5f7258f"
  },
  {
   "metadata": {},
   "cell_type": "code",
   "source": [
    "filtered_regions = regions[\n",
    "    (regions['LEVL_CODE'] == 3) &\n",
    "    (regions['CNTR_CODE'] == \"IT\") &\n",
    "    (regions['NUTS_NAME'].str.contains('Milano|Cremona', case=False))\n",
    "]"
   ],
   "id": "4348bca8384f3599",
   "outputs": [],
   "execution_count": null
  },
  {
   "metadata": {},
   "cell_type": "markdown",
   "source": "Join the dataframes so that the geometries intersect, and aggregate the amount of population from the grid dataset that is contained into a region.",
   "id": "31ee3c43df1a55de"
  },
  {
   "metadata": {},
   "cell_type": "code",
   "source": [
    "\n",
    "result = spatial_aggregation(\n",
    "    spatial_join(filtered_regions, population, join_type=JoinType.LEFT)\n",
    "          # join operator renames the geometries adding suffixes _left and _right to avoid conflicts\n",
    "          .withColumnRenamed('geometry_left', 'geometry'),\n",
    "    aggregate_functions=[\n",
    "        AggregationFunction(\"T\", AggregationType.SUM, 'population', proportional='geometry_right'),\n",
    "])\n",
    "result.show(truncate=False)\n",
    "\n"
   ],
   "id": "a6019694ba6704e0",
   "outputs": [],
   "execution_count": null
  }
 ],
 "metadata": {
  "kernelspec": {
   "display_name": "Python 3 (ipykernel)",
   "language": "python",
   "name": "python3"
  },
  "language_info": {
   "codemirror_mode": {
    "name": "ipython",
    "version": 3
   },
   "file_extension": ".py",
   "mimetype": "text/x-python",
   "name": "python",
   "nbconvert_exporter": "python",
   "pygments_lexer": "ipython3",
   "version": "3.10.10"
  }
 },
 "nbformat": 4,
 "nbformat_minor": 5
}
