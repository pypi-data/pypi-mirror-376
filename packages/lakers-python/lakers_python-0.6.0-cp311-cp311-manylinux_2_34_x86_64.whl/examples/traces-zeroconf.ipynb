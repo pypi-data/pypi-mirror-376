{
 "cells": [
  {
   "cell_type": "markdown",
   "metadata": {},
   "source": [
    "# Traces for draft-lake-authz\n",
    "\n",
    "Requirements:\n",
    "\n",
    "```python\n",
    "pip install cryptography==3.4.7 cbor2==5.3.0 rich==10.6.0 hkdf==0.0.3\n",
    "```"
   ]
  },
  {
   "cell_type": "code",
   "execution_count": 17,
   "metadata": {},
   "outputs": [],
   "source": [
    "import rich, cbor2, hkdf, hashlib\n",
    "from cryptography.hazmat.primitives import asymmetric, serialization\n",
    "from cryptography.hazmat.primitives.ciphers import aead\n",
    "from cryptography.hazmat.primitives.asymmetric import ec\n",
    "from cryptography.hazmat.primitives import hashes\n",
    "from cryptography.hazmat.primitives.kdf.hkdf import HKDF\n",
    "from cryptography.hazmat.backends import default_backend\n",
    "from binascii import hexlify, unhexlify"
   ]
  },
  {
   "cell_type": "markdown",
   "metadata": {},
   "source": [
    "### Common functions, keys, and creds"
   ]
  },
  {
   "cell_type": "code",
   "execution_count": 23,
   "metadata": {},
   "outputs": [
    {
     "name": "stdout",
     "output_type": "stream",
     "text": [
      "\n",
      "# static_keys\n",
      "const U_TV: &[u8] = &hex!(\"fb13adeb6518cee5f88417660841142e830a81fe334380a953406a1305e8706b\");\n",
      "const G_U_TV: &[u8] = &hex!(\"ac75e9ece3e50bfc8ed60399889522405c47bf16df96660a41298cb4307f7eb6\");\n",
      "const G_U_Y_TV: &[u8] = &hex!(\"6e5de611388a4b8a8211334ac7d37ecb52a387d257e6db3c2a93df21ff3affc8\");\n",
      "const V_TV: &[u8] = &hex!(\"72cc4761dbd4c78f758931aa589d348d1ef874a7e303ede2f140dcf3e6aa4aac\");\n",
      "const G_V_TV: &[u8] = &hex!(\"bbc34960526ea4d32e940cad2a234148ddc21791a12afbcbac93622046dd44f0\");\n",
      "const G_V_Y_TV: &[u8] = &hex!(\"4519e257236b2a0ce2023f0931f1f386ca7afda64fcde0108c224c51eabf6072\");\n",
      "const W_TV: &[u8] = &hex!(\"4E5E15AB35008C15B89E91F9F329164D4AACD53D9923672CE0019F9ACD98573F\");\n",
      "const G_W_TV: &[u8] = &hex!(\"FFA4F102134029B3B156890B88C9D9619501196574174DCB68A07DB0588E4D41\");\n",
      "const G_W_Y_TV: &[u8] = &hex!(\"BD08125C1A5E9C4F4AA60198A9F897EB656784DE50C0FE840FE3683FC20C295C\");\n",
      "\n",
      "# ephemeral_keys\n",
      "const X_TV: &[u8] = &hex!(\"368ec1f69aeb659ba37d5a8d45b21bdc0299dceaa8ef235f3ca42ce3530f9525\");\n",
      "const G_X_TV: &[u8] = &hex!(\"8af6f430ebe18d34184017a9a11bf511c8dff8f834730b96c1b7c8dbca2fc3b6\");\n",
      "const G_X_Y_TV: &[u8] = &hex!(\"51e8af6c6edb781601ad1d9c5fa8bf7aa15716c7c06a5d038503c614ff80c9b3\");\n",
      "const Y_TV: &[u8] = &hex!(\"e2f4126777205e853b437d6eaca1e1f753cdcc3e2c69fa884b0a1a640977e418\");\n",
      "const G_Y_TV: &[u8] = &hex!(\"419701d7f00a26c2dc587a36dd752549f33763c893422c8ea0f955a13a4ff5d5\");\n",
      "const G_Y_Y_TV: &[u8] = &hex!(\"5e4f0dd8a3da0baa16b9d3ad56a0c1860a940af85914915e25019b402417e99d\");\n",
      "const Z_TV: &[u8] = &hex!(\"644658D815CBCA8EA863090A2D498990B5C75357A729231EC3DE7DF5A7AFE49E\");\n",
      "const G_Z_TV: &[u8] = &hex!(\"6B67C90638924C4AE8472CA6FB9A90BE5F43132753346379C672972D323F7A41\");\n",
      "const G_Z_Y_TV: &[u8] = &hex!(\"FA1EFAD24A287B1FEF04683B5B24963A107067541B2E4766088552EE11337D87\");\n",
      "\n",
      "# creds\n",
      "const CRED_V_TV: &[u8] = &hex!(\"a2026b6578616d706c652e65647508a101a501020241322001215820bbc34960526ea4d32e940cad2a234148ddc21791a12afbcbac93622046dd44f02258204519e257236b2a0ce2023f0931f1f386ca7afda64fcde0108c224c51eabf6072\");\n"
     ]
    }
   ],
   "source": [
    "def format_tv(tv, fmt, nokeys=False, prefix=\"\"):\n",
    "    for k, v in tv.items():\n",
    "        if k[0] == \"_\" or (nokeys and k in [\"static_keys\", \"ephemeral_keys\"]):\n",
    "            continue\n",
    "        elif type(v) == dict:\n",
    "            print(f\"\\n# {k}\")\n",
    "            format_tv(v, fmt, nokeys, prefix)\n",
    "        elif type(v) == int:\n",
    "            if fmt == \"rust\":\n",
    "                print(f'const {prefix}{k.upper()}_TV: u8 = {v};')\n",
    "            elif fmt == \"rust\":\n",
    "                print(f'static const uint8_t {prefix}{k.upper()} = {v};')\n",
    "            elif fmt == \"python\":\n",
    "                print(f'{prefix}{k:<8} = {v}')\n",
    "        else:\n",
    "            if fmt == \"rust\":\n",
    "                print(f'const {prefix}{k.upper()}_TV: &[u8] = &hex!(\"{v}\");')\n",
    "            elif fmt == \"c\":\n",
    "                pairs = [\"0x\"+\"\".join(v[e:e+2])+\", \" for e in range(0, len(v), 2)]\n",
    "                c_values = \"\".join(pairs)[:-2]\n",
    "                print(f'static const uint8_t {prefix}{k.upper()}[] = {{{c_values}}};')\n",
    "                print(f'static const size_t {prefix}{k.upper()}_LEN = {len(pairs)};')\n",
    "            elif fmt == \"python\":\n",
    "                print(f'{prefix}{k:<8} = \"{v}\"')\n",
    "\n",
    "def add_new_keys(tv):\n",
    "    def as_hex(k):\n",
    "        return hex(k)[2:]\n",
    "    def new_keypair_dx_testvector(entity_name):\n",
    "        private_key = ec.generate_private_key(ec.SECP256R1(), backend=default_backend())\n",
    "        x = private_key.public_key().public_numbers().x\n",
    "        y = private_key.public_key().public_numbers().y\n",
    "        d = private_key.private_numbers().private_value\n",
    "        return {f\"{entity_name}\": as_hex(d), f\"G_{entity_name}\": as_hex(x), f\"G_{entity_name}_y\": as_hex(y)}\n",
    "\n",
    "    tv[\"static_keys\"] = {}\n",
    "    tv[\"ephemeral_keys\"] = {}\n",
    "    for a in [\"U\", \"V\", \"W\"]:\n",
    "        tv[\"static_keys\"].update(new_keypair_dx_testvector(a))\n",
    "    for a in [\"X\", \"Y\", \"Z\"]:\n",
    "        tv[\"ephemeral_keys\"].update(new_keypair_dx_testvector(a))\n",
    "\n",
    "    return tv\n",
    "\n",
    "def add_creds(tv):\n",
    "    cred_v = cbor2.dumps({\n",
    "        2: \"example.edu\",\n",
    "        8: {\n",
    "            1: {\n",
    "                1: 2,\n",
    "                2: b'\\x32',\n",
    "                -1: 1,\n",
    "                -2: unhexlify(tv[\"static_keys\"][\"G_V\"]),\n",
    "                -3: unhexlify(tv[\"static_keys\"][\"G_V_y\"]),\n",
    "            }\n",
    "        }\n",
    "    }).hex() # lake-traces-07\n",
    "    tv.update({\n",
    "        \"creds\": {\n",
    "            \"CRED_V\": cred_v,\n",
    "        }\n",
    "    })\n",
    "    return tv\n",
    "\n",
    "keys_tv = {\n",
    "    'static_keys': {\n",
    "        'U': 'fb13adeb6518cee5f88417660841142e830a81fe334380a953406a1305e8706b', # lake-traces-07\n",
    "        'G_U': 'ac75e9ece3e50bfc8ed60399889522405c47bf16df96660a41298cb4307f7eb6',\n",
    "        'G_U_y': '6e5de611388a4b8a8211334ac7d37ecb52a387d257e6db3c2a93df21ff3affc8',\n",
    "        'V': '72cc4761dbd4c78f758931aa589d348d1ef874a7e303ede2f140dcf3e6aa4aac', # lake-traces-07\n",
    "        'G_V': 'bbc34960526ea4d32e940cad2a234148ddc21791a12afbcbac93622046dd44f0',\n",
    "        'G_V_y': '4519e257236b2a0ce2023f0931f1f386ca7afda64fcde0108c224c51eabf6072',\n",
    "        'W': '4E5E15AB35008C15B89E91F9F329164D4AACD53D9923672CE0019F9ACD98573F',\n",
    "        'G_W': 'FFA4F102134029B3B156890B88C9D9619501196574174DCB68A07DB0588E4D41',\n",
    "        'G_W_y': 'BD08125C1A5E9C4F4AA60198A9F897EB656784DE50C0FE840FE3683FC20C295C'\n",
    "    },\n",
    "    'ephemeral_keys': {\n",
    "        'X': '368ec1f69aeb659ba37d5a8d45b21bdc0299dceaa8ef235f3ca42ce3530f9525', # lake-traces-07\n",
    "        'G_X': '8af6f430ebe18d34184017a9a11bf511c8dff8f834730b96c1b7c8dbca2fc3b6',\n",
    "        'G_X_y': '51e8af6c6edb781601ad1d9c5fa8bf7aa15716c7c06a5d038503c614ff80c9b3',\n",
    "        'Y': 'e2f4126777205e853b437d6eaca1e1f753cdcc3e2c69fa884b0a1a640977e418', # lake-traces-07\n",
    "        'G_Y': '419701d7f00a26c2dc587a36dd752549f33763c893422c8ea0f955a13a4ff5d5',\n",
    "        'G_Y_y': '5e4f0dd8a3da0baa16b9d3ad56a0c1860a940af85914915e25019b402417e99d',\n",
    "        'Z': '644658D815CBCA8EA863090A2D498990B5C75357A729231EC3DE7DF5A7AFE49E',\n",
    "        'G_Z': '6B67C90638924C4AE8472CA6FB9A90BE5F43132753346379C672972D323F7A41',\n",
    "        'G_Z_y': 'FA1EFAD24A287B1FEF04683B5B24963A107067541B2E4766088552EE11337D87'\n",
    "    },\n",
    "}\n",
    "# keys_tv = add_new_keys(keys_tv) # uncomment to generate a new set of keys\n",
    "\n",
    "keys_tv = add_creds(keys_tv)\n",
    "\n",
    "format_tv(keys_tv, \"rust\")"
   ]
  },
  {
   "cell_type": "markdown",
   "metadata": {},
   "source": [
    "### Crypto functions"
   ]
  },
  {
   "cell_type": "code",
   "execution_count": 6,
   "metadata": {},
   "outputs": [
    {
     "name": "stderr",
     "output_type": "stream",
     "text": [
      ".\n",
      "----------------------------------------------------------------------\n",
      "Ran 1 test in 0.001s\n",
      "\n",
      "OK\n"
     ]
    },
    {
     "data": {
      "text/plain": [
       "<unittest.main.TestProgram at 0x7fa2ebfee860>"
      ]
     },
     "execution_count": 6,
     "metadata": {},
     "output_type": "execute_result"
    }
   ],
   "source": [
    "def p256_ecdh(d_hex, x_hex, y_hex):\n",
    "    private_key = ec.derive_private_key(int(d_hex, 16), ec.SECP256R1(), default_backend())\n",
    "    # NOTE: rust uses the compressed form of the public key (without the y coordinate), but the result should be the same\n",
    "    public_key = ec.EllipticCurvePublicNumbers(\n",
    "        int(x_hex, 16),\n",
    "        int(y_hex, 16),\n",
    "        ec.SECP256R1()\n",
    "    ).public_key(default_backend())\n",
    "    return private_key.exchange(ec.ECDH(), public_key).hex()\n",
    "\n",
    "def hkdf_extract(salt, ikm):\n",
    "    return hkdf.hkdf_extract(unhexlify(salt), unhexlify(ikm), hash=hashlib.sha256).hex()\n",
    "\n",
    "def hkdf_expand(prk, info, length):\n",
    "    return hkdf.hkdf_expand(unhexlify(prk), unhexlify(info), length, hash=hashlib.sha256).hex()\n",
    "\n",
    "def aes_ccm_encrypt_tag_8(key, iv, enc_structure, plaintext):\n",
    "    return aead.AESCCM(unhexlify(key), tag_length=8).encrypt(unhexlify(iv), unhexlify(plaintext), unhexlify(enc_structure)).hex()\n",
    "\n",
    "def sha256_digest(message):\n",
    "    return hashlib.sha256(unhexlify(message)).hexdigest()\n",
    "\n",
    "import unittest\n",
    "class Test(unittest.TestCase):\n",
    "    def test_ecdh(self):\n",
    "        self.assertEqual(\n",
    "            p256_ecdh(keys_tv[\"ephemeral_keys\"][\"X\"], keys_tv[\"static_keys\"][\"G_W\"], keys_tv[\"static_keys\"][\"G_W_y\"]), \n",
    "            p256_ecdh(keys_tv[\"static_keys\"][\"W\"], keys_tv[\"ephemeral_keys\"][\"G_X\"], keys_tv[\"ephemeral_keys\"][\"G_X_y\"]), \n",
    "        )\n",
    "unittest.main(argv=[''], exit=False)"
   ]
  },
  {
   "cell_type": "markdown",
   "metadata": {},
   "source": [
    "### EAD_1 traces\n",
    "\n",
    "See https://www.ietf.org/archive/id/draft-selander-lake-authz-03.html#name-device-enrollment-server-u-"
   ]
  },
  {
   "cell_type": "code",
   "execution_count": 15,
   "metadata": {},
   "outputs": [
    {
     "name": "stdout",
     "output_type": "stream",
     "text": [
      "\n",
      "# input\n",
      "const LOC_W_TV: &[u8] = &hex!(\"636f61703a2f2f656e726f6c6c6d656e742e736572766572\");\n",
      "const ID_U_TV: &[u8] = &hex!(\"a104412b\");\n",
      "const SS_TV: u8 = 2;\n",
      "\n",
      "# creds\n",
      "const CRED_V_TV: &[u8] = &hex!(\"a2026b6578616d706c652e65647508a101a501020241322001215820bbc34960526ea4d32e940cad2a234148ddc21791a12afbcbac93622046dd44f02258204519e257236b2a0ce2023f0931f1f386ca7afda64fcde0108c224c51eabf6072\");\n",
      "\n",
      "# enc_id\n",
      "const ENC_ID_TV: &[u8] = &hex!(\"da9784962883c96ed01ff122c3\");\n",
      "const SALT_TV: &[u8] = &hex!(\"\");\n",
      "const G_XW_TV: &[u8] = &hex!(\"03a658e9628c79c3f1e59239ca5e604953d11e01c2a442823c944da6682d0b6c\");\n",
      "const PRK_TV: &[u8] = &hex!(\"d40f1601b577dbe7827bb3a20e0d16f7231c3a25225c1ed733f9094050d59666\");\n",
      "const K_1_INFO_TV: &[u8] = &hex!(\"004010\");\n",
      "const IV_1_INFO_TV: &[u8] = &hex!(\"01400d\");\n",
      "const K_1_TV: &[u8] = &hex!(\"6f2a9112801a5011aa33576b5c7862ad\");\n",
      "const IV_1_TV: &[u8] = &hex!(\"d31bc0d128349f290e79f0bde3\");\n",
      "const PLAINTEXT_TV: &[u8] = &hex!(\"44a104412b\");\n",
      "const ENC_STRUCTURE_TV: &[u8] = &hex!(\"8368456e637279707430404102\");\n",
      "\n",
      "# voucher_info\n",
      "const VOUCHER_INFO_TV: &[u8] = &hex!(\"58287818636f61703a2f2f656e726f6c6c6d656e742e7365727665724dda9784962883c96ed01ff122c3\");\n",
      "const VOUCHER_INFO_SEQ_TV: &[u8] = &hex!(\"7818636f61703a2f2f656e726f6c6c6d656e742e7365727665724dda9784962883c96ed01ff122c3\");\n",
      "\n",
      "# ead1\n",
      "const EAD1_TV: &[u8] = &hex!(\"0158287818636f61703a2f2f656e726f6c6c6d656e742e7365727665724dda9784962883c96ed01ff122c3\");\n",
      "const EAD1_LABEL_TV: &[u8] = &hex!(\"01\");\n",
      "const EAD1_VALUE_TV: &[u8] = &hex!(\"58287818636f61703a2f2f656e726f6c6c6d656e742e7365727665724dda9784962883c96ed01ff122c3\");\n"
     ]
    }
   ],
   "source": [
    "\n",
    "def add_enc_id(tv):\n",
    "    salt = \"\"\n",
    "    g_xw = p256_ecdh(tv[\"ephemeral_keys\"][\"X\"], tv[\"static_keys\"][\"G_W\"], tv[\"static_keys\"][\"G_W_y\"])\n",
    "    prk = hkdf_extract(salt, g_xw)\n",
    "    k_1_info = (cbor2.dumps(0)+cbor2.dumps(b'')+cbor2.dumps(16)).hex() # info is (0, b'', 16) # FIXME[draft] make 'length' explicit\n",
    "    iv_1_info = (cbor2.dumps(1)+cbor2.dumps(b'')+cbor2.dumps(13)).hex() # info is (1, b'', 13) # FIXME[draft] make 'length' explicit\n",
    "    k_1 = hkdf_expand(prk, k_1_info, 16)\n",
    "    iv_1 = hkdf_expand(prk, iv_1_info, 13)\n",
    "    plaintext = cbor2.dumps(unhexlify(tv[\"input\"][\"ID_U\"])).hex() # (ID_U: bstr)\n",
    "    _ss = tv[\"input\"][\"SS\"].to_bytes(1, byteorder='big')\n",
    "    enc_structure = cbor2.dumps([\"Encrypt0\", b'', _ss]).hex()\n",
    "    enc_id = aes_ccm_encrypt_tag_8(k_1, iv_1, enc_structure, plaintext)\n",
    "    tv.update({\n",
    "        \"enc_id\": {\n",
    "            \"enc_id\": enc_id,\n",
    "            \"salt\": salt,\n",
    "            \"g_xw\": g_xw,\n",
    "            \"prk\": prk,\n",
    "            \"k_1_info\": k_1_info,\n",
    "            \"iv_1_info\": iv_1_info,\n",
    "            \"k_1\": k_1,\n",
    "            \"iv_1\": iv_1,\n",
    "            \"plaintext\": plaintext,\n",
    "            \"enc_structure\": enc_structure,\n",
    "        }\n",
    "    })\n",
    "\n",
    "    return tv\n",
    "\n",
    "def add_voucher_info(tv):\n",
    "    # (LOC_W: tstr, ENC_ID: bstr)\n",
    "    voucher_info_seq = (cbor2.dumps(unhexlify(tv[\"input\"][\"LOC_W\"]).decode()) + cbor2.dumps(unhexlify(tv[\"enc_id\"][\"enc_id\"]))).hex()\n",
    "    voucher_info = cbor2.dumps(unhexlify(voucher_info_seq)).hex()\n",
    "    tv.update({\n",
    "        \"voucher_info\": {\n",
    "            \"voucher_info\": voucher_info,\n",
    "            \"voucher_info_seq\": voucher_info_seq,\n",
    "        }\n",
    "    })\n",
    "    return tv\n",
    "\n",
    "def add_ead1(tv):\n",
    "    label = \"01\"\n",
    "    value = tv[\"voucher_info\"][\"voucher_info\"]\n",
    "    ead1 = label + value\n",
    "    tv.update({\n",
    "        \"ead1\": {\n",
    "            \"ead1\": ead1,\n",
    "            \"ead1_label\": label,\n",
    "            \"ead1_value\": value,\n",
    "        }\n",
    "    })\n",
    "    return tv\n",
    "\n",
    "ead1_tv = {\n",
    "    \"input\": {\n",
    "        \"LOC_W\": \"coap://enrollment.server\".encode().hex(),\n",
    "        \"ID_U\": cbor2.dumps({4: b'\\x2B'}).hex(),\n",
    "        \"SS\": 2,\n",
    "    }\n",
    "}\n",
    "ead1_tv.update(keys_tv) # using existing keys\n",
    "# ead1_tv = add_new_keys(ead1_tv) # uncomment to generate a new set of keys\n",
    "\n",
    "ead1_tv = add_enc_id(ead1_tv)\n",
    "ead1_tv = add_voucher_info(ead1_tv)\n",
    "ead1_tv = add_ead1(ead1_tv)\n",
    "\n",
    "format_tv(ead1_tv, \"rust\", nokeys=True)"
   ]
  },
  {
   "cell_type": "markdown",
   "metadata": {},
   "source": [
    "### Voucher_Request (VREQ) traces\n",
    "\n",
    "See https://www.ietf.org/archive/id/draft-selander-lake-authz-03.html#name-authenticator-enrollment-se"
   ]
  },
  {
   "cell_type": "code",
   "execution_count": 16,
   "metadata": {},
   "outputs": [
    {
     "name": "stdout",
     "output_type": "stream",
     "text": [
      "\n",
      "# input\n",
      "const EAD_1_VALUE_TV: &[u8] = &hex!(\"58287818636f61703a2f2f656e726f6c6c6d656e742e7365727665724dda9784962883c96ed01ff122c3\");\n",
      "const MESSAGE_1_WITH_EAD_TV: &[u8] = &hex!(\"0382060258208af6f430ebe18d34184017a9a11bf511c8dff8f834730b96c1b7c8dbca2fc3b6370158287818636f61703a2f2f656e726f6c6c6d656e742e7365727665724dda9784962883c96ed01ff122c3\");\n",
      "\n",
      "# voucher_request\n",
      "const VOUCHER_REQUEST_TV: &[u8] = &hex!(\"8158520382060258208af6f430ebe18d34184017a9a11bf511c8dff8f834730b96c1b7c8dbca2fc3b6370158287818636f61703a2f2f656e726f6c6c6d656e742e7365727665724dda9784962883c96ed01ff122c3\");\n"
     ]
    }
   ],
   "source": [
    "def add_voucher_request(tv):\n",
    "    voucher_request = cbor2.dumps([\n",
    "            unhexlify(tv[\"input\"][\"MESSAGE_1_WITH_EAD\"])\n",
    "        ]).hex()\n",
    "    tv.update({\n",
    "        \"voucher_request\": {\n",
    "            \"voucher_request\": voucher_request,\n",
    "        }\n",
    "    })\n",
    "    return tv\n",
    "\n",
    "voucher_request_tv = {\n",
    "    \"input\": {\n",
    "        \"EAD_1_VALUE\": ead1_tv[\"ead1\"][\"ead1_value\"],\n",
    "        \"MESSAGE_1_WITH_EAD\": \"0382060258208af6f430ebe18d34184017a9a11bf511c8dff8f834730b96c1b7c8dbca2fc3b637\" + ead1_tv[\"ead1\"][\"ead1\"],\n",
    "    }\n",
    "}\n",
    "\n",
    "voucher_request_tv = add_voucher_request(voucher_request_tv)\n",
    "\n",
    "format_tv(voucher_request_tv, \"rust\")"
   ]
  },
  {
   "cell_type": "markdown",
   "metadata": {},
   "source": [
    "### Voucher_Response (VRES) traces\n",
    "\n",
    "See https://www.ietf.org/archive/id/draft-selander-lake-authz-03.html#name-voucher"
   ]
  },
  {
   "cell_type": "code",
   "execution_count": 17,
   "metadata": {},
   "outputs": [
    {
     "name": "stdout",
     "output_type": "stream",
     "text": [
      "\n",
      "# input\n",
      "const VOUCHER_REQUEST_TV: &[u8] = &hex!(\"8158520382060258208af6f430ebe18d34184017a9a11bf511c8dff8f834730b96c1b7c8dbca2fc3b6370158287818636f61703a2f2f656e726f6c6c6d656e742e7365727665724dda9784962883c96ed01ff122c3\");\n",
      "const MESSAGE_1_WITH_EAD_TV: &[u8] = &hex!(\"0382060258208af6f430ebe18d34184017a9a11bf511c8dff8f834730b96c1b7c8dbca2fc3b6370158287818636f61703a2f2f656e726f6c6c6d656e742e7365727665724dda9784962883c96ed01ff122c3\");\n",
      "const CRED_V_TV: &[u8] = &hex!(\"a2026b6578616d706c652e65647508a101a501020241322001215820bbc34960526ea4d32e940cad2a234148ddc21791a12afbcbac93622046dd44f02258204519e257236b2a0ce2023f0931f1f386ca7afda64fcde0108c224c51eabf6072\");\n",
      "const PRK_TV: &[u8] = &hex!(\"d40f1601b577dbe7827bb3a20e0d16f7231c3a25225c1ed733f9094050d59666\");\n",
      "\n",
      "# voucher_response\n",
      "const VOUCHER_RESPONSE_TV: &[u8] = &hex!(\"8258520382060258208af6f430ebe18d34184017a9a11bf511c8dff8f834730b96c1b7c8dbca2fc3b6370158287818636f61703a2f2f656e726f6c6c6d656e742e7365727665724dda9784962883c96ed01ff122c34948c783671337f75bd5\");\n",
      "const H_MESSAGE_1_TV: &[u8] = &hex!(\"a1004dfd2c64777980d9c84f100f93a9cac511ae38f56b2210530c945d186c24\");\n",
      "const VOUCHER_INPUT_TV: &[u8] = &hex!(\"5820a1004dfd2c64777980d9c84f100f93a9cac511ae38f56b2210530c945d186c24585fa2026b6578616d706c652e65647508a101a501020241322001215820bbc34960526ea4d32e940cad2a234148ddc21791a12afbcbac93622046dd44f02258204519e257236b2a0ce2023f0931f1f386ca7afda64fcde0108c224c51eabf6072\");\n",
      "const LABEL_TV: u8 = 2;\n",
      "const CONTEXT_TV: &[u8] = &hex!(\"58835820a1004dfd2c64777980d9c84f100f93a9cac511ae38f56b2210530c945d186c24585fa2026b6578616d706c652e65647508a101a501020241322001215820bbc34960526ea4d32e940cad2a234148ddc21791a12afbcbac93622046dd44f02258204519e257236b2a0ce2023f0931f1f386ca7afda64fcde0108c224c51eabf6072\");\n",
      "const MAC_LENGTH_TV: u8 = 8;\n",
      "const INFO_TV: &[u8] = &hex!(\"0258835820a1004dfd2c64777980d9c84f100f93a9cac511ae38f56b2210530c945d186c24585fa2026b6578616d706c652e65647508a101a501020241322001215820bbc34960526ea4d32e940cad2a234148ddc21791a12afbcbac93622046dd44f02258204519e257236b2a0ce2023f0931f1f386ca7afda64fcde0108c224c51eabf607208\");\n",
      "const VOUCHER_MAC_TV: &[u8] = &hex!(\"c783671337f75bd5\");\n",
      "const VOUCHER_TV: &[u8] = &hex!(\"48c783671337f75bd5\");\n"
     ]
    }
   ],
   "source": [
    "def add_voucher_response(tv):\n",
    "    h_message_1 = sha256_digest(tv[\"input\"][\"MESSAGE_1_WITH_EAD\"])\n",
    "    voucher_input = (cbor2.dumps(unhexlify(h_message_1)) + cbor2.dumps(unhexlify(tv[\"input\"][\"CRED_V\"]))).hex()\n",
    "    label = 2\n",
    "    context = cbor2.dumps(unhexlify(voucher_input)).hex()\n",
    "    mac_length = 8\n",
    "    info = (cbor2.dumps(label) + unhexlify(context) + cbor2.dumps(mac_length)).hex()\n",
    "    voucher_mac = hkdf_expand(tv[\"input\"][\"PRK\"], info, mac_length)\n",
    "    voucher = cbor2.dumps(unhexlify(voucher_mac)).hex()\n",
    "    voucher_response = cbor2.dumps([\n",
    "        unhexlify(tv[\"input\"][\"MESSAGE_1_WITH_EAD\"]),\n",
    "        unhexlify(voucher),\n",
    "    ]).hex()\n",
    "    tv.update({\n",
    "        \"voucher_response\": {\n",
    "            \"voucher_response\": voucher_response,\n",
    "            \"h_message_1\": h_message_1,\n",
    "            \"voucher_input\": voucher_input,\n",
    "            \"label\": label,\n",
    "            \"context\": context,\n",
    "            \"mac_length\": mac_length,\n",
    "            \"info\": info,\n",
    "            \"voucher_mac\": voucher_mac,\n",
    "            \"voucher\": voucher,\n",
    "        }\n",
    "    })\n",
    "    return tv\n",
    "\n",
    "voucher_tv = {\n",
    "    \"input\": {\n",
    "        \"VOUCHER_REQUEST\": voucher_request_tv[\"voucher_request\"][\"voucher_request\"],\n",
    "        \"MESSAGE_1_WITH_EAD\": voucher_request_tv[\"input\"][\"MESSAGE_1_WITH_EAD\"],\n",
    "        \"CRED_V\": keys_tv[\"creds\"][\"CRED_V\"],\n",
    "        \"PRK\": ead1_tv[\"enc_id\"][\"prk\"],\n",
    "    }\n",
    "}\n",
    "voucher_tv = add_voucher_response(voucher_tv)\n",
    "\n",
    "format_tv(voucher_tv, \"rust\")"
   ]
  },
  {
   "cell_type": "markdown",
   "metadata": {},
   "source": [
    "### EAD_2 traces\n",
    "\n",
    "This one is rather unecessary, sinde EAD_2 = Voucher.\n",
    "\n",
    "See https://www.ietf.org/archive/id/draft-selander-lake-authz-03.html#name-voucher"
   ]
  },
  {
   "cell_type": "code",
   "execution_count": 18,
   "metadata": {},
   "outputs": [
    {
     "name": "stdout",
     "output_type": "stream",
     "text": [
      "\n",
      "# input\n",
      "const VOUCHER_TV: &[u8] = &hex!(\"48c783671337f75bd5\");\n",
      "\n",
      "# ead2\n",
      "const EAD2_VALUE_TV: &[u8] = &hex!(\"48c783671337f75bd5\");\n"
     ]
    }
   ],
   "source": [
    "def add_ead2(tv):\n",
    "    tv.update({\n",
    "        \"ead2\": {\n",
    "            \"ead2_value\": tv[\"input\"][\"VOUCHER\"],\n",
    "        }\n",
    "    })\n",
    "    return tv\n",
    "\n",
    "ead2_tv = {\n",
    "    \"input\": {\n",
    "        \"VOUCHER\": voucher_tv[\"voucher_response\"][\"voucher\"],\n",
    "    }\n",
    "}\n",
    "ead2_tv = add_ead2(ead2_tv)\n",
    "\n",
    "format_tv(ead2_tv, \"rust\")"
   ]
  },
  {
   "cell_type": "markdown",
   "metadata": {},
   "source": [
    "## Traces for stateless operation\n",
    "\n",
    "See https://www.ietf.org/archive/id/draft-selander-lake-authz-03.html#name-stateless-operation-of-v\n",
    "\n",
    "The variables are identified with a **SLO_** (stateless operation) prefix."
   ]
  },
  {
   "cell_type": "markdown",
   "metadata": {},
   "source": [
    "### SLO: Voucher_Request (VREQ) traces\n",
    "\n",
    "See https://www.ietf.org/archive/id/draft-selander-lake-authz-03.html#name-authenticator-enrollment-se"
   ]
  },
  {
   "cell_type": "code",
   "execution_count": 19,
   "metadata": {},
   "outputs": [
    {
     "name": "stdout",
     "output_type": "stream",
     "text": [
      "\n",
      "# input\n",
      "const SLO_OPAQUE_STATE_TV: &[u8] = &hex!(\"827819666538303a3a623833343a643630623a373936663a38646530198bed\");\n",
      "const SLO_EAD_1_VALUE_TV: &[u8] = &hex!(\"58287818636f61703a2f2f656e726f6c6c6d656e742e7365727665724dda9784962883c96ed01ff122c3\");\n",
      "const SLO_MESSAGE_1_WITH_EAD_TV: &[u8] = &hex!(\"0382060258208af6f430ebe18d34184017a9a11bf511c8dff8f834730b96c1b7c8dbca2fc3b6370158287818636f61703a2f2f656e726f6c6c6d656e742e7365727665724dda9784962883c96ed01ff122c3\");\n",
      "\n",
      "# voucher_request\n",
      "const SLO_VOUCHER_REQUEST_TV: &[u8] = &hex!(\"8258520382060258208af6f430ebe18d34184017a9a11bf511c8dff8f834730b96c1b7c8dbca2fc3b6370158287818636f61703a2f2f656e726f6c6c6d656e742e7365727665724dda9784962883c96ed01ff122c3581f827819666538303a3a623833343a643630623a373936663a38646530198bed\");\n"
     ]
    }
   ],
   "source": [
    "def add_slo_voucher_request(tv):\n",
    "    voucher_request = cbor2.dumps([\n",
    "            unhexlify(tv[\"input\"][\"MESSAGE_1_WITH_EAD\"]),\n",
    "            unhexlify(tv[\"input\"][\"OPAQUE_STATE\"]),\n",
    "        ]).hex()\n",
    "    tv.update({\n",
    "        \"voucher_request\": {\n",
    "            \"voucher_request\": voucher_request,\n",
    "        }\n",
    "    })\n",
    "    return tv\n",
    "\n",
    "slo_voucher_request_tv = {\n",
    "    \"input\": {\n",
    "        \"OPAQUE_STATE\": cbor2.dumps([\"fe80::b834:d60b:796f:8de0\", 35821]).hex(), # [ORIGIN_IPADDR, PORT]\n",
    "    }\n",
    "}\n",
    "slo_voucher_request_tv[\"input\"].update(voucher_request_tv[\"input\"])\n",
    "\n",
    "slo_voucher_request_tv = add_slo_voucher_request(slo_voucher_request_tv)\n",
    "\n",
    "format_tv(slo_voucher_request_tv, \"rust\", prefix=\"SLO_\")"
   ]
  },
  {
   "cell_type": "markdown",
   "metadata": {},
   "source": [
    "### SLO: Voucher_Response (VRES) traces\n",
    "\n",
    "See https://www.ietf.org/archive/id/draft-selander-lake-authz-03.html#name-voucher"
   ]
  },
  {
   "cell_type": "code",
   "execution_count": 20,
   "metadata": {},
   "outputs": [
    {
     "name": "stdout",
     "output_type": "stream",
     "text": [
      "\n",
      "# input\n",
      "const SLO_OPAQUE_STATE_TV: &[u8] = &hex!(\"827819666538303a3a623833343a643630623a373936663a38646530198bed\");\n",
      "const SLO_VOUCHER_REQUEST_TV: &[u8] = &hex!(\"8158520382060258208af6f430ebe18d34184017a9a11bf511c8dff8f834730b96c1b7c8dbca2fc3b6370158287818636f61703a2f2f656e726f6c6c6d656e742e7365727665724dda9784962883c96ed01ff122c3\");\n",
      "const SLO_MESSAGE_1_WITH_EAD_TV: &[u8] = &hex!(\"0382060258208af6f430ebe18d34184017a9a11bf511c8dff8f834730b96c1b7c8dbca2fc3b6370158287818636f61703a2f2f656e726f6c6c6d656e742e7365727665724dda9784962883c96ed01ff122c3\");\n",
      "const SLO_CRED_V_TV: &[u8] = &hex!(\"a2026b6578616d706c652e65647508a101a501020241322001215820bbc34960526ea4d32e940cad2a234148ddc21791a12afbcbac93622046dd44f02258204519e257236b2a0ce2023f0931f1f386ca7afda64fcde0108c224c51eabf6072\");\n",
      "const SLO_PRK_TV: &[u8] = &hex!(\"d40f1601b577dbe7827bb3a20e0d16f7231c3a25225c1ed733f9094050d59666\");\n",
      "const SLO_VOUCHER_TV: &[u8] = &hex!(\"48c783671337f75bd5\");\n",
      "\n",
      "# voucher_response\n",
      "const SLO_VOUCHER_RESPONSE_TV: &[u8] = &hex!(\"8358520382060258208af6f430ebe18d34184017a9a11bf511c8dff8f834730b96c1b7c8dbca2fc3b6370158287818636f61703a2f2f656e726f6c6c6d656e742e7365727665724dda9784962883c96ed01ff122c34948c783671337f75bd5581f827819666538303a3a623833343a643630623a373936663a38646530198bed\");\n"
     ]
    }
   ],
   "source": [
    "def add_slo_voucher_response(tv):\n",
    "    voucher_response = cbor2.dumps([\n",
    "        unhexlify(tv[\"input\"][\"MESSAGE_1_WITH_EAD\"]),\n",
    "        unhexlify(tv[\"input\"][\"VOUCHER\"]),\n",
    "        unhexlify(tv[\"input\"][\"OPAQUE_STATE\"]),\n",
    "    ]).hex()\n",
    "    tv.update({\n",
    "        \"voucher_response\": {\n",
    "            \"voucher_response\": voucher_response,\n",
    "        }\n",
    "    })\n",
    "    return tv\n",
    "\n",
    "slo_voucher_tv = {\n",
    "    \"input\": {\n",
    "        \"OPAQUE_STATE\": slo_voucher_request_tv[\"input\"][\"OPAQUE_STATE\"],\n",
    "    }\n",
    "}\n",
    "\n",
    "# copy fields over from voucher_tv (non-slo)\n",
    "slo_voucher_tv[\"input\"].update(voucher_tv[\"input\"])\n",
    "slo_voucher_tv[\"input\"][\"VOUCHER\"] = voucher_tv[\"voucher_response\"][\"voucher\"]\n",
    "\n",
    "slo_voucher_tv = add_slo_voucher_response(slo_voucher_tv)\n",
    "\n",
    "format_tv(slo_voucher_tv, \"rust\", prefix=\"SLO_\")"
   ]
  }
 ],
 "metadata": {
  "kernelspec": {
   "display_name": "Python 3",
   "language": "python",
   "name": "python3"
  },
  "language_info": {
   "codemirror_mode": {
    "name": "ipython",
    "version": 3
   },
   "file_extension": ".py",
   "mimetype": "text/x-python",
   "name": "python",
   "nbconvert_exporter": "python",
   "pygments_lexer": "ipython3",
   "version": "3.10.12"
  },
  "orig_nbformat": 4
 },
 "nbformat": 4,
 "nbformat_minor": 2
}
