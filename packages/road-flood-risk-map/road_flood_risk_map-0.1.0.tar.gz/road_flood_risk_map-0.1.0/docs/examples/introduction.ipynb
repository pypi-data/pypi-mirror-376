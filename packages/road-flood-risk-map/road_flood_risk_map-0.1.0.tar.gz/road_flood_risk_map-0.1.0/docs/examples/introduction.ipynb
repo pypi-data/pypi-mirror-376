{
 "cells": [
  {
   "cell_type": "markdown",
   "id": "b0b67678",
   "metadata": {},
   "source": [
    "# Getting Started\n",
    "This notebook will show you how to get started using this module."
   ]
  },
  {
   "cell_type": "markdown",
   "id": "753f04ba",
   "metadata": {},
   "source": [
    "[![Open In Colab](https://colab.research.google.com/assets/colab-badge.svg)](https://colab.research.google.com/github/marts-dev/road-flood-risk-map/blob/main/docs/examples/intro.ipynb)"
   ]
  },
  {
   "cell_type": "markdown",
   "id": "dbb9d826",
   "metadata": {},
   "source": [
    "## Using the `RoadFloodRiskMap` module"
   ]
  },
  {
   "cell_type": "code",
   "execution_count": 1,
   "id": "19a26b97",
   "metadata": {},
   "outputs": [],
   "source": [
    "from road_flood_risk_map import RoadFloodRiskMap"
   ]
  },
  {
   "cell_type": "markdown",
   "id": "5b221be0",
   "metadata": {},
   "source": [
    "Upon creating an instance of `RoadFloodRiskMap`, you will be prompted to provide your Google Earth Engine token."
   ]
  },
  {
   "cell_type": "code",
   "execution_count": 5,
   "id": "ef4397af",
   "metadata": {},
   "outputs": [
    {
     "data": {
      "text/html": [
       "\n",
       "            <style>\n",
       "                .geemap-dark {\n",
       "                    --jp-widgets-color: white;\n",
       "                    --jp-widgets-label-color: white;\n",
       "                    --jp-ui-font-color1: white;\n",
       "                    --jp-layout-color2: #454545;\n",
       "                    background-color: #383838;\n",
       "                }\n",
       "\n",
       "                .geemap-dark .jupyter-button {\n",
       "                    --jp-layout-color3: #383838;\n",
       "                }\n",
       "\n",
       "                .geemap-colab {\n",
       "                    background-color: var(--colab-primary-surface-color, white);\n",
       "                }\n",
       "\n",
       "                .geemap-colab .jupyter-button {\n",
       "                    --jp-layout-color3: var(--colab-primary-surface-color, white);\n",
       "                }\n",
       "            </style>\n",
       "            "
      ],
      "text/plain": [
       "<IPython.core.display.HTML object>"
      ]
     },
     "metadata": {},
     "output_type": "display_data"
    }
   ],
   "source": [
    "rfm = RoadFloodRiskMap(basemap=\"ROADMAP\")"
   ]
  },
  {
   "cell_type": "markdown",
   "id": "6356372c",
   "metadata": {},
   "source": [
    "To display the map, simply call the instance of `RoadFloodRiskMap`."
   ]
  },
  {
   "cell_type": "code",
   "execution_count": 6,
   "id": "2cd16eba",
   "metadata": {},
   "outputs": [
    {
     "data": {
      "text/html": [
       "\n",
       "            <style>\n",
       "                .geemap-dark {\n",
       "                    --jp-widgets-color: white;\n",
       "                    --jp-widgets-label-color: white;\n",
       "                    --jp-ui-font-color1: white;\n",
       "                    --jp-layout-color2: #454545;\n",
       "                    background-color: #383838;\n",
       "                }\n",
       "\n",
       "                .geemap-dark .jupyter-button {\n",
       "                    --jp-layout-color3: #383838;\n",
       "                }\n",
       "\n",
       "                .geemap-colab {\n",
       "                    background-color: var(--colab-primary-surface-color, white);\n",
       "                }\n",
       "\n",
       "                .geemap-colab .jupyter-button {\n",
       "                    --jp-layout-color3: var(--colab-primary-surface-color, white);\n",
       "                }\n",
       "            </style>\n",
       "            "
      ],
      "text/plain": [
       "<IPython.core.display.HTML object>"
      ]
     },
     "metadata": {},
     "output_type": "display_data"
    },
    {
     "data": {
      "application/vnd.jupyter.widget-view+json": {
       "model_id": "aace6a4823484ab39aae95cfdd165ccb",
       "version_major": 2,
       "version_minor": 0
      },
      "text/plain": [
       "RoadFloodRiskMap(center=[40, -100], controls=(WidgetControl(options=['position', 'transparent_bg'], position='…"
      ]
     },
     "execution_count": 6,
     "metadata": {},
     "output_type": "execute_result"
    }
   ],
   "source": [
    "rfm\n",
    "# or\n",
    "#display(rfm)"
   ]
  },
  {
   "cell_type": "markdown",
   "id": "e58d3ee2",
   "metadata": {},
   "source": [
    "## Adding the Analysis Tool"
   ]
  },
  {
   "cell_type": "code",
   "execution_count": 4,
   "id": "f9f68b13",
   "metadata": {},
   "outputs": [
    {
     "data": {
      "text/html": [
       "\n",
       "            <style>\n",
       "                .geemap-dark {\n",
       "                    --jp-widgets-color: white;\n",
       "                    --jp-widgets-label-color: white;\n",
       "                    --jp-ui-font-color1: white;\n",
       "                    --jp-layout-color2: #454545;\n",
       "                    background-color: #383838;\n",
       "                }\n",
       "\n",
       "                .geemap-dark .jupyter-button {\n",
       "                    --jp-layout-color3: #383838;\n",
       "                }\n",
       "\n",
       "                .geemap-colab {\n",
       "                    background-color: var(--colab-primary-surface-color, white);\n",
       "                }\n",
       "\n",
       "                .geemap-colab .jupyter-button {\n",
       "                    --jp-layout-color3: var(--colab-primary-surface-color, white);\n",
       "                }\n",
       "            </style>\n",
       "            "
      ],
      "text/plain": [
       "<IPython.core.display.HTML object>"
      ]
     },
     "metadata": {},
     "output_type": "display_data"
    },
    {
     "data": {
      "text/html": [
       "\n",
       "        <style>\n",
       "        .wrap-output {\n",
       "            width: 300px; \n",
       "            height: 150px; \n",
       "            overflow-x: hidden;   /* disable horizontal scroll */\n",
       "            overflow-y: auto;     /* enable vertical scroll */\n",
       "        }\n",
       "        .wrap-output pre {\n",
       "            white-space: pre-wrap !important;\n",
       "            word-wrap: break-word !important;\n",
       "        }\n",
       "        </style>\n",
       "        "
      ],
      "text/plain": [
       "<IPython.core.display.HTML object>"
      ]
     },
     "metadata": {},
     "output_type": "display_data"
    }
   ],
   "source": [
    "# This will add the controls for the analysis tool to the map\n",
    "rfm.add_analyse_roi_widget()"
   ]
  },
  {
   "cell_type": "markdown",
   "id": "c4652e82",
   "metadata": {},
   "source": [
    "To use the tool, you first need to specify the region of interest by drawing a polygon or a rectangle on the map.\n",
    "\n",
    "You will then be prompted in the tool to enter a filename and specify the data source to use. When done, you will then be able to submit the request to fetch the data to be used for analysis.\n",
    "\n",
    "If the fetching process is successful, the fetched file will automatically be placed on the `DEM File` field and enable the `Analyze DEM` button.\n",
    "\n",
    "Click the `Analyze DEM` button to perform hydrological analysis to the ROI. When it is done, the analysis artifacts will automatically added as map layers."
   ]
  },
  {
   "cell_type": "markdown",
   "id": "eb05606a",
   "metadata": {},
   "source": []
  }
 ],
 "metadata": {
  "kernelspec": {
   "display_name": ".venv",
   "language": "python",
   "name": "python3"
  },
  "language_info": {
   "codemirror_mode": {
    "name": "ipython",
    "version": 3
   },
   "file_extension": ".py",
   "mimetype": "text/x-python",
   "name": "python",
   "nbconvert_exporter": "python",
   "pygments_lexer": "ipython3",
   "version": "3.12.8"
  }
 },
 "nbformat": 4,
 "nbformat_minor": 5
}
