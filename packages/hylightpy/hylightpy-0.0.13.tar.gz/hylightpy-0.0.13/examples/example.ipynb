{
 "cells": [
  {
   "cell_type": "markdown",
   "id": "dd5da9be-109b-416f-9cad-788b7e02d18e",
   "metadata": {},
   "source": [
    "# Hylight"
   ]
  },
  {
   "cell_type": "code",
   "execution_count": 1,
   "id": "b7c682f1-baf2-471f-8c05-5767cbefe3e2",
   "metadata": {},
   "outputs": [],
   "source": [
    "import hylightpy"
   ]
  },
  {
   "cell_type": "code",
   "execution_count": 2,
   "id": "b1610fd6-fdab-4b0b-93db-f722966760a9",
   "metadata": {},
   "outputs": [
    {
     "data": {
      "text/plain": [
       "'0.0.12'"
      ]
     },
     "execution_count": 2,
     "metadata": {},
     "output_type": "execute_result"
    }
   ],
   "source": [
    "hylightpy.__version__"
   ]
  },
  {
   "cell_type": "markdown",
   "id": "4e240b4a-bfdc-4187-83dd-0daa86919d11",
   "metadata": {},
   "source": [
    "First, we initialise the class with a 10-level atom in Case~B, enabling radiative recombination only (i.e. shutting down collisional excitation from the ground states). \n",
    "\n",
    "Here, we only use 10 levels for simplcity. The user should caution that 10 levels are sufficient to accurately predict H$\\alpha$ emissivity. \n",
    "\n",
    "**NOTE: Invoking a large numer of levels is a memory-intensive calculation. We caution the user of the memory usage.**\n",
    "\n",
    "The following line will create a cache directory in your working directory. There is the optional to point to a user-defined path. \n",
    "\n",
    "We use a cache folder to store the cascade matrix elements so that we don't need to compute them everytime. "
   ]
  },
  {
   "cell_type": "code",
   "execution_count": 3,
   "id": "2cc62ef3-326e-48df-83d8-f249765ffaf6",
   "metadata": {},
   "outputs": [
    {
     "name": "stdout",
     "output_type": "stream",
     "text": [
      " ░▒▓█▓▒░░▒▓█▓▒░▒▓█▓▒░░▒▓█▓▒░▒▓█▓▒░      ░▒▓█▓▒░░▒▓██████▓▒░░▒▓█▓▒░░▒▓█▓▒░▒▓████████▓▒░ \n",
      " ░▒▓█▓▒░░▒▓█▓▒░▒▓█▓▒░░▒▓█▓▒░▒▓█▓▒░      ░▒▓█▓▒░▒▓█▓▒░░▒▓█▓▒░▒▓█▓▒░░▒▓█▓▒░  ░▒▓█▓▒░     \n",
      " ░▒▓█▓▒░░▒▓█▓▒░▒▓█▓▒░░▒▓█▓▒░▒▓█▓▒░      ░▒▓█▓▒░▒▓█▓▒░      ░▒▓█▓▒░░▒▓█▓▒░  ░▒▓█▓▒░     \n",
      " ░▒▓████████▓▒░░▒▓██████▓▒░░▒▓█▓▒░      ░▒▓█▓▒░▒▓█▓▒▒▓███▓▒░▒▓████████▓▒░  ░▒▓█▓▒░     \n",
      " ░▒▓█▓▒░░▒▓█▓▒░  ░▒▓█▓▒░   ░▒▓█▓▒░      ░▒▓█▓▒░▒▓█▓▒░░▒▓█▓▒░▒▓█▓▒░░▒▓█▓▒░  ░▒▓█▓▒░     \n",
      " ░▒▓█▓▒░░▒▓█▓▒░  ░▒▓█▓▒░   ░▒▓█▓▒░      ░▒▓█▓▒░▒▓█▓▒░░▒▓█▓▒░▒▓█▓▒░░▒▓█▓▒░  ░▒▓█▓▒░     \n",
      " ░▒▓█▓▒░░▒▓█▓▒░  ░▒▓█▓▒░   ░▒▓████████▓▒░▒▓█▓▒░░▒▓██████▓▒░░▒▓█▓▒░░▒▓█▓▒░  ░▒▓█▓▒░     \n",
      "Folder './cache/' created.\n",
      " ... Read numerical data in time 0.37\n",
      " ... Einstein dictionary pickled to file Einstein_As.pickle\n",
      " ... Imposing caseB (no Lyman-transitions) \n",
      "Recombination rates read and fitted\n",
      "Collsional Excitaion Rates read and fitted\n",
      " ... Cascade matrix: P copied in time 0.01 s\n",
      " ... Cascade matrix: probability matrix computed (eq. 4.8) in time 0.00\n",
      " ... Cascade matrix: transpose of probability matrix computed in time 0.00\n",
      " ... Cascade matrix: matrix initialized (eq. 4.10) in time 0.00\n",
      " ...    Computed level = 10 in time 0.01, len = 9\n",
      " ...    Computed level = 9 in time 0.01, len = 8\n",
      " ...    Computed level = 8 in time 0.00, len = 7\n",
      " ...    Computed level = 7 in time 0.00, len = 6\n",
      " ...    Computed level = 6 in time 0.00, len = 5\n",
      " ...    Computed level = 5 in time 0.00, len = 4\n",
      " ...    Computed level = 4 in time 0.00, len = 3\n",
      " ...    Computed level = 3 in time 0.00, len = 2\n",
      " ...    Computed level = 2 in time 0.00, len = 1\n",
      " ...    Computed level = 1 in time 0.00, len = 0\n",
      " ... Cascade matrix: calculation finished in time 0.03s\n",
      "Cascade matric elements pickled to file  CascadeC_10_B.pickle\n",
      "Cascade matrix class initialized \n",
      "Class initialized\n"
     ]
    }
   ],
   "source": [
    "HI = hylightpy.HIAtom(nmax = 10, verbose=True, caseB=True,\n",
    "                        recom=True, coll=False, cache_path='./cache/')\n",
    "\n",
    "print(\"Class initialized\")"
   ]
  },
  {
   "cell_type": "markdown",
   "id": "0238fc49-3927-4d1e-abfa-8f3b34dd935a",
   "metadata": {},
   "source": [
    "We storeed the Einstein $A$ coefficients in the class. They can be viewed using the following line, where we use the ($n$,$l$) to denote the atomic states. "
   ]
  },
  {
   "cell_type": "code",
   "execution_count": 4,
   "id": "67dd3e48-b969-4d32-b7fa-13c55226d964",
   "metadata": {},
   "outputs": [
    {
     "data": {
      "text/plain": [
       "np.float64(22436400.0)"
      ]
     },
     "execution_count": 4,
     "metadata": {},
     "output_type": "execute_result"
    }
   ],
   "source": [
    "# Einstein coefficients correponding to 3p -> 2s transition\n",
    "HI.A[(3,1)][(2,0)]"
   ]
  },
  {
   "cell_type": "markdown",
   "id": "261a3021-cb6a-4525-891f-fe1ef116a856",
   "metadata": {},
   "source": [
    "Note that in Case~B, the Lyman transitions are optically thick, hence we force the Einstein $A$ values of the Lyman transitions to be zero. "
   ]
  },
  {
   "cell_type": "code",
   "execution_count": 5,
   "id": "e8dfed7d-0932-432c-865b-f2d182f36571",
   "metadata": {},
   "outputs": [
    {
     "data": {
      "text/plain": [
       "0.0"
      ]
     },
     "execution_count": 5,
     "metadata": {},
     "output_type": "execute_result"
    }
   ],
   "source": [
    "# Einstein coefficients correponding to 2p -> 1s transition, 0 in Case B\n",
    "HI.A[(2,1)][(1,0)]"
   ]
  },
  {
   "cell_type": "markdown",
   "id": "dfa3f457-a1ea-4b78-b798-8bb2ee47e9b0",
   "metadata": {},
   "source": [
    "## Line emissivity"
   ]
  },
  {
   "cell_type": "markdown",
   "id": "378fb8a9-38bc-4038-bf59-7ac0e04d3ec9",
   "metadata": {},
   "source": [
    "The user specifies the electron density, HI and HII density as well as the temperature and the transition they are intersted in. \n",
    "In the following example, we set the electron density and HII density to 100 cm$^{-3}$ and the HI density to 10$^{-5}$ cm$^{-3}$. As an example, we calculate the 3$\\to$ 2 transition (Balmer $\\alpha$) at 10$^4$ K. \n",
    "\n",
    "All units are in CGS, i.e. density in cm$^{-3}$. We utilise the unyt package to ensure the units are correct. "
   ]
  },
  {
   "cell_type": "code",
   "execution_count": 7,
   "id": "b5826d5e-65db-4aaa-81b3-2bd611f61b96",
   "metadata": {},
   "outputs": [],
   "source": [
    "import unyt"
   ]
  },
  {
   "cell_type": "code",
   "execution_count": 8,
   "id": "4cdaed55-edab-46e2-ae37-8c7d79c2a5e1",
   "metadata": {},
   "outputs": [
    {
     "data": {
      "text/plain": [
       "unyt_quantity(2.77324826e-21, 'erg/(cm**3*s)')"
      ]
     },
     "execution_count": 8,
     "metadata": {},
     "output_type": "execute_result"
    }
   ],
   "source": [
    "HI.get_emissivity(ne=100 * unyt.cm**(-3),\n",
    "                  nHII=100 * unyt.cm**(-3),\n",
    "                  nHI=1e-5 * unyt.cm**(-3),\n",
    "                  temp=1e4 * unyt.K,\n",
    "                  nupper=3, nlower=2)"
   ]
  },
  {
   "cell_type": "markdown",
   "id": "e8b044f5-8d98-4dfc-910e-4bb25558f7f8",
   "metadata": {},
   "source": [
    "## Level population for a specific state"
   ]
  },
  {
   "cell_type": "markdown",
   "id": "b1ce1755-4952-4763-8fa9-b02d287cf519",
   "metadata": {},
   "source": [
    "The user specifies the electron density, HI and HII density as well as the temperature and the specific state they are intersted in. \n",
    "In the following example, we set the electron density and HII density to 100 cm$^{-3}$ and the HI density to 10$^{-5}$ cm$^{-3}$. As an example, we calculate the 3$s$ level population density at 10$^4$ K. \n",
    "\n",
    "All units are in CGS, i.e. density in cm$^{-3}$. "
   ]
  },
  {
   "cell_type": "code",
   "execution_count": 10,
   "id": "439affe0-76cd-4757-9d95-c96ad9b01a86",
   "metadata": {},
   "outputs": [
    {
     "name": "stdout",
     "output_type": "stream",
     "text": [
      "The 3s level population density 2.22e-17 cm^(-3)\n"
     ]
    }
   ],
   "source": [
    "levelpop_3s = HI.compute_level_pop(ne=1e2 * unyt.cm**(-3), \n",
    "                                   nHI=1e-5 * unyt.cm**(-3),\n",
    "                                   nHII=1e2 * unyt.cm**(-3), \n",
    "                                   temp=1e4 * unyt.K, \n",
    "                                   n=3, l=0)\n",
    "print('The 3s level population density {:.2e} cm^(-3)'.format(levelpop_3s))"
   ]
  },
  {
   "cell_type": "markdown",
   "id": "a30969c8-b1d2-4425-83e1-527ba8140172",
   "metadata": {},
   "source": [
    "### Temperature dependence of the level population"
   ]
  },
  {
   "cell_type": "markdown",
   "id": "08f243d6-2326-4737-8d9a-a52170f62291",
   "metadata": {},
   "source": [
    "We demonstrate the temperature dependence of level popualtion 3$s$ in the following example. "
   ]
  },
  {
   "cell_type": "code",
   "execution_count": 11,
   "id": "05dc2829-21ad-4b0b-b861-71639cec41b2",
   "metadata": {},
   "outputs": [],
   "source": [
    "from matplotlib import pyplot as plt\n",
    "import numpy as np"
   ]
  },
  {
   "cell_type": "code",
   "execution_count": 15,
   "id": "af656c70-933d-44dc-9b76-8e325ac501d4",
   "metadata": {},
   "outputs": [],
   "source": [
    "n = 3\n",
    "l = 0\n",
    "logT_list = [1, 1.5, 2, 2.5, 3, 3.5, 4, 4.5, 5]\n",
    "levelpop = np.zeros_like(logT_list, dtype=float)\n",
    "for i, logT in enumerate(logT_list):\n",
    "    levelpop[i] = HI.compute_level_pop(ne=1e2 * unyt.cm**(-3), \n",
    "                                       nHI=1e-5 * unyt.cm**(-3),\n",
    "                                       nHII=1e2 * unyt.cm**(-3), \n",
    "                                       temp=10**logT * unyt.K, \n",
    "                                       n=3, l=0)"
   ]
  },
  {
   "cell_type": "code",
   "execution_count": 16,
   "id": "f7c93e77-3789-4aef-b8f9-e102d49aebdb",
   "metadata": {},
   "outputs": [
    {
     "data": {
      "image/png": "[encoded data removed]",
      "text/plain": [
       "<Figure size 400x400 with 1 Axes>"
      ]
     },
     "metadata": {},
     "output_type": "display_data"
    }
   ],
   "source": [
    "fig, ax = plt.subplots(1, 1, figsize=(4, 4))\n",
    "\n",
    "ax.plot(logT_list, np.log10(levelpop), color='#FF1F5B', marker='o', linestyle='-', markersize=2)\n",
    "\n",
    "ax.set_yscale('linear')\n",
    "ax.set_xscale('linear')\n",
    "ax.set_xlabel(r'log $T$ [K]')\n",
    "ax.set_ylabel(r'log $n_{3s}$ [cm$^{-3}$]')\n",
    "ax.set_xlim(1, 5)\n",
    "ax.tick_params(axis=\"y\",direction=\"in\")\n",
    "ax.tick_params(axis=\"x\",direction=\"in\")"
   ]
  },
  {
   "cell_type": "markdown",
   "id": "d5687179-8a57-4883-8361-f06110bb5e89",
   "metadata": {},
   "source": [
    "## Recombination rate coefficients"
   ]
  },
  {
   "cell_type": "code",
   "execution_count": 17,
   "id": "43e9895b-d3a9-4fee-af6c-375e84b97d76",
   "metadata": {},
   "outputs": [],
   "source": [
    "import importlib"
   ]
  },
  {
   "cell_type": "code",
   "execution_count": 19,
   "id": "08089c93-a108-4fad-90b7-27912b4129e0",
   "metadata": {},
   "outputs": [],
   "source": [
    "fpath = importlib.resources.files('hylightpy.data').joinpath('h_iso_recomb_HI_150.dat')\n",
    "recom_dict = HI.read_recombination_rates(fname=fpath)"
   ]
  },
  {
   "cell_type": "code",
   "execution_count": 20,
   "id": "bc76374c-fcb4-40e9-a049-40b7b6bcd49e",
   "metadata": {},
   "outputs": [],
   "source": [
    "logTs = recom_dict['LogTs']\n",
    "alpha_nl = recom_dict['recom_data']"
   ]
  },
  {
   "cell_type": "markdown",
   "id": "eb399d23-81ea-4ab0-a5ad-fa48195ce3a8",
   "metadata": {},
   "source": [
    "### Temperature-dependence of the total recombination rate coefficent"
   ]
  },
  {
   "cell_type": "code",
   "execution_count": 21,
   "id": "f59df942-54cf-41f2-bf02-bbf3afd4e446",
   "metadata": {},
   "outputs": [
    {
     "data": {
      "image/png": "[encoded data removed]",
      "text/plain": [
       "<Figure size 333.333x300 with 1 Axes>"
      ]
     },
     "metadata": {},
     "output_type": "display_data"
    }
   ],
   "source": [
    "fig, ax = plt.subplots(1, 1, figsize=(10/3, 3))\n",
    "\n",
    "# index 0 gives the total recombination rate\n",
    "ax.plot(logTs, alpha_nl.iloc[0, 2: 43], color='k', linestyle='-', marker='>')\n",
    "\n",
    "\n",
    "ax.set_yscale('linear')\n",
    "ax.set_xscale('linear')\n",
    "ax.set_xlabel(r'log $T$ [K]')\n",
    "ax.set_ylabel(r'log $\\alpha$ [cm$^{3} \\, s^{-1}$]')\n",
    "ax.set_xlim(1, 7)\n",
    "ax.set_ylim(-16, -10)\n",
    "ax.tick_params(axis=\"y\",direction=\"in\")\n",
    "ax.tick_params(axis=\"x\",direction=\"in\")"
   ]
  },
  {
   "cell_type": "markdown",
   "id": "dfd78732-e853-4071-8b83-cb341bc4e6c9",
   "metadata": {},
   "source": [
    "### Temperature-dependence of the recombination rate coefficent of a specific state"
   ]
  },
  {
   "cell_type": "markdown",
   "id": "ad4107a7-8e5d-446c-85e4-8298a18084d2",
   "metadata": {},
   "source": [
    "The followng function calculates the index of a specific level in the recombination table. "
   ]
  },
  {
   "cell_type": "code",
   "execution_count": 22,
   "id": "b518a411-8f15-4753-87be-3db5f59e66c2",
   "metadata": {},
   "outputs": [],
   "source": [
    "def get_l_level_index(n=1, l=0):\n",
    "    assert type(n) == int and type(l) == int, 'n and l must be intergers.'\n",
    "    assert n >= 1, 'Princuple quantum number can not be smaller than 1.'\n",
    "    assert l < n and l >= 0, 'Angular momentum must be positive and smalled than principle quantum number.'\n",
    "    \n",
    "    il = 0\n",
    "    for j in np.arange(1, n):\n",
    "        il = il + j \n",
    "    il = il + l + 1 # count the l level at current n level, l start from 0\n",
    "    \n",
    "    return il"
   ]
  },
  {
   "cell_type": "markdown",
   "id": "0da13f25-b5de-448b-a1e7-a2ae8d0e90c2",
   "metadata": {},
   "source": [
    "For example, for level 3$s$, the index is 4:"
   ]
  },
  {
   "cell_type": "code",
   "execution_count": 23,
   "id": "1fcf88e9-74d7-45d6-94a1-e04803f999c4",
   "metadata": {},
   "outputs": [
    {
     "data": {
      "text/plain": [
       "np.int64(4)"
      ]
     },
     "execution_count": 23,
     "metadata": {},
     "output_type": "execute_result"
    }
   ],
   "source": [
    "get_l_level_index(n=3, l=0)"
   ]
  },
  {
   "cell_type": "markdown",
   "id": "e615b9d2-dcf5-43c8-b05d-bb484a490f8a",
   "metadata": {},
   "source": [
    "Hence, the temperature-dependence of the recombination rate coefficient $\\alpha_{3,0}$ looks like:"
   ]
  },
  {
   "cell_type": "code",
   "execution_count": 24,
   "id": "02255e01-4673-457f-acc0-cf56e982d891",
   "metadata": {},
   "outputs": [
    {
     "data": {
      "image/png": "[encoded data removed]",
      "text/plain": [
       "<Figure size 333.333x300 with 1 Axes>"
      ]
     },
     "metadata": {},
     "output_type": "display_data"
    }
   ],
   "source": [
    "fig, ax = plt.subplots(1, 1, figsize=(10/3, 3))\n",
    "\n",
    "# index 4 gives alpha_{3s}\n",
    "ax.plot(logTs, alpha_nl.iloc[4, 2: 43], color='blue', linestyle='-', marker='>')\n",
    "\n",
    "\n",
    "ax.set_yscale('linear')\n",
    "ax.set_xscale('linear')\n",
    "ax.set_xlabel(r'log $T$ [K]')\n",
    "ax.set_ylabel(r'log $\\alpha_{3s}$ [cm$^{3} \\, s^{-1}$]')\n",
    "ax.set_xlim(1, 7)\n",
    "ax.set_ylim(-16, -10)\n",
    "ax.tick_params(axis=\"y\",direction=\"in\")\n",
    "ax.tick_params(axis=\"x\",direction=\"in\")"
   ]
  },
  {
   "cell_type": "code",
   "execution_count": null,
   "id": "b4ad865c-4681-41c2-9091-2f1a448923b2",
   "metadata": {},
   "outputs": [],
   "source": []
  }
 ],
 "metadata": {
  "kernelspec": {
   "display_name": "Python 3.12.4 virtual environment",
   "language": "python",
   "name": "python3.12.4-env"
  },
  "language_info": {
   "codemirror_mode": {
    "name": "ipython",
    "version": 3
   },
   "file_extension": ".py",
   "mimetype": "text/x-python",
   "name": "python",
   "nbconvert_exporter": "python",
   "pygments_lexer": "ipython3",
   "version": "3.12.4"
  }
 },
 "nbformat": 4,
 "nbformat_minor": 5
}
