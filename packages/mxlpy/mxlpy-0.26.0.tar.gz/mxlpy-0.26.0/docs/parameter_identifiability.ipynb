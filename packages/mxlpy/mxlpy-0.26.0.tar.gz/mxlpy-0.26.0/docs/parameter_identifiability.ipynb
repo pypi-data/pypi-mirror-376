{
 "cells": [
  {
   "cell_type": "markdown",
   "id": "a32fdbed",
   "metadata": {},
   "source": [
    "# Numerical parameter identifiability\n",
    "\n",
    "See the [course by Marisa Eisenberg](https://epimath.org/epid-814-materials/) for an excellent introduction into the topic\n",
    "\n",
    "\n",
    "<img src=\"assets/identifiability.png\" style=\"max-height: 300px;\">"
   ]
  },
  {
   "cell_type": "code",
   "execution_count": null,
   "id": "798556ee",
   "metadata": {},
   "outputs": [],
   "source": [
    "import numpy as np\n",
    "\n",
    "from mxlpy import Model, Simulator, fns, plot, unwrap\n",
    "from mxlpy.identify import profile_likelihood"
   ]
  },
  {
   "cell_type": "markdown",
   "id": "18f89568",
   "metadata": {},
   "source": [
    "We start with an SIR model, which we use to generate some data (this would usually be experimentally measured data)"
   ]
  },
  {
   "cell_type": "code",
   "execution_count": null,
   "id": "9c1d130c",
   "metadata": {},
   "outputs": [],
   "source": [
    "def sir() -> Model:\n",
    "    return (\n",
    "        Model()\n",
    "        .add_variables({\"s\": 0.9, \"i\": 0.1, \"r\": 0.0})\n",
    "        .add_parameters({\"beta\": 0.2, \"gamma\": 0.1})\n",
    "        .add_reaction(\n",
    "            \"infection\",\n",
    "            fns.mass_action_2s,\n",
    "            args=[\"s\", \"i\", \"beta\"],\n",
    "            stoichiometry={\"s\": -1, \"i\": 1},\n",
    "        )\n",
    "        .add_reaction(\n",
    "            \"recovery\",\n",
    "            fns.mass_action_1s,\n",
    "            args=[\"i\", \"gamma\"],\n",
    "            stoichiometry={\"i\": -1, \"r\": 1},\n",
    "        )\n",
    "    )\n",
    "\n",
    "\n",
    "data = unwrap(Simulator(sir()).simulate(100).get_result()).variables\n",
    "_ = plot.lines(data)"
   ]
  },
  {
   "cell_type": "markdown",
   "id": "d23feef3",
   "metadata": {},
   "source": [
    "We then, for `n` different values of each parameter we are interested in, we \n",
    "\n",
    "- draw random samples for the remaining model parameters \n",
    "- fit the model to the data (excluding the parameter we are interested in) and note the final error\n",
    "- visualise the error for each parameter value\n",
    "\n",
    "The error for a parameter should show a clear minimum around the different values used, otherwise it is not identifiable"
   ]
  },
  {
   "cell_type": "code",
   "execution_count": null,
   "id": "df9fd29e",
   "metadata": {},
   "outputs": [],
   "source": [
    "errors_beta = profile_likelihood(\n",
    "    sir(),\n",
    "    data=data,\n",
    "    parameter_name=\"beta\",\n",
    "    parameter_values=np.linspace(0.2 * 0.5, 0.2 * 1.5, 10),\n",
    "    n_random=10,\n",
    ")\n",
    "\n",
    "fig, ax = plot.lines(errors_beta, legend=False)\n",
    "ax.set(title=\"beta\", xlabel=\"parameter value\", ylabel=\"abs(error)\")\n",
    "plot.show()"
   ]
  }
 ],
 "metadata": {
  "kernelspec": {
   "display_name": "default",
   "language": "python",
   "name": "python3"
  },
  "language_info": {
   "codemirror_mode": {
    "name": "ipython",
    "version": 3
   },
   "file_extension": ".py",
   "mimetype": "text/x-python",
   "name": "python",
   "nbconvert_exporter": "python",
   "pygments_lexer": "ipython3",
   "version": "3.12.11"
  }
 },
 "nbformat": 4,
 "nbformat_minor": 5
}
