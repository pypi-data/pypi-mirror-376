{
 "cells": [
  {
   "cell_type": "code",
   "execution_count": null,
   "metadata": {},
   "outputs": [],
   "source": [
    "from __future__ import annotations\n",
    "\n",
    "from typing import Any\n",
    "\n",
    "import matplotlib.pyplot as plt\n",
    "\n",
    "from example_models import get_linear_chain_2v, get_tpi_ald_model\n",
    "from mxlpy import (\n",
    "    LabelMapper,\n",
    "    LinearLabelMapper,\n",
    "    Simulator,\n",
    "    plot,\n",
    "    unwrap,\n",
    ")\n",
    "\n",
    "\n",
    "def print_annotated(description: str, value: Any) -> None:\n",
    "    print(\n",
    "        description,\n",
    "        value,\n",
    "        sep=\"\\n\",\n",
    "        end=\"\\n\\n\",\n",
    "    )"
   ]
  },
  {
   "cell_type": "markdown",
   "metadata": {},
   "source": [
    "## Labeled models\n",
    "\n",
    "Labelled models allow explicitly mapping the transitions between isotopomers variables.  \n",
    "This, for example, allows building models of the Calvin-Benson-Bassham cycle, in which each carbon atom can be labelled individually:\n",
    "\n",
    "\n",
    "<img src=\"assets/cbb-labeled.png\" style=\"max-width: 30rem;\">\n",
    "\n",
    "\n",
    "*mxlpy* includes a `LabelMapper` that takes\n",
    "\n",
    "- a model\n",
    "- a dictionary mapping the variables to the amount of label positions they have\n",
    "- a transition map \n",
    "\n",
    "to auto-generate all possible `2^n` variants of the variables and reaction transitions between them.  \n",
    "\n",
    "As an example let's take triose phosphate isomerase, which catalyzes the interconversion of glyceraldehyde 3-phosphate (GAP) and dihydroxyacetone phosphate (DHAP).  \n",
    "As illustrated below, in the case of the forward reaction the first and last carbon atoms are swapped\n",
    "\n",
    "<img src=\"assets/carbon-maps.png\" style=\"max-width: 250px\">\n",
    "\n",
    "So DHAP(1) is build from GAP(3), DHAP(2) from GAP(2) and DHAP(3) from GAP(1).  \n",
    "We notate this using normal **0-based indexing** as follows\n",
    "\n",
    "```python\n",
    "label_maps = {\"TPIf\": [2, 1, 0]}\n",
    "```"
   ]
  },
  {
   "cell_type": "code",
   "execution_count": null,
   "metadata": {},
   "outputs": [],
   "source": [
    "mapper = LabelMapper(\n",
    "    get_tpi_ald_model(),\n",
    "    label_variables={\"GAP\": 3, \"DHAP\": 3, \"FBP\": 6},\n",
    "    label_maps={\n",
    "        \"TPIf\": [2, 1, 0],\n",
    "        \"TPIr\": [2, 1, 0],\n",
    "        \"ALDf\": [0, 1, 2, 3, 4, 5],\n",
    "        \"ALDr\": [0, 1, 2, 3, 4, 5],\n",
    "    },\n",
    ")\n",
    "\n",
    "\n",
    "labels = unwrap(\n",
    "    Simulator(mapper.build_model(initial_labels={\"GAP\": 0})).simulate(20).get_result()\n",
    ").variables\n",
    "\n",
    "fig, ax = plot.relative_label_distribution(mapper, labels, n_cols=3)\n",
    "plt.show()"
   ]
  },
  {
   "cell_type": "markdown",
   "metadata": {},
   "source": [
    "### Linear label mapper\n",
    "\n",
    "\n",
    "The `LabelMapper` makes no assumptions about the state of the model, which causes a lot of complexity.  \n",
    "In steady-state however, the space of possible solutions is reduced and the labelling dynamics can be represented by a set of linear differential equations.  \n",
    "See [Sokol and Portais 2015](https://doi.org/10.1371/journal.pone.0144652) for the theory of dynamic label propagation under the stationary assumption.\n"
   ]
  },
  {
   "cell_type": "code",
   "execution_count": null,
   "metadata": {},
   "outputs": [],
   "source": [
    "model_fn = get_tpi_ald_model()\n",
    "\n",
    "concs, fluxes = unwrap(Simulator(model_fn).simulate(20).get_result())\n",
    "\n",
    "\n",
    "mapper = LinearLabelMapper(\n",
    "    model=model_fn,\n",
    "    label_variables={\"GAP\": 3, \"DHAP\": 3, \"FBP\": 6},\n",
    "    label_maps={\n",
    "        \"TPIf\": [2, 1, 0],\n",
    "        \"TPIr\": [2, 1, 0],\n",
    "        \"ALDf\": [0, 1, 2, 3, 4, 5],\n",
    "        \"ALDr\": [0, 1, 2, 3, 4, 5],\n",
    "    },\n",
    ")\n",
    "\n",
    "\n",
    "labels = unwrap(\n",
    "    Simulator(\n",
    "        mapper.build_model(\n",
    "            concs=concs.iloc[-1],\n",
    "            fluxes=fluxes.iloc[-1],\n",
    "            initial_labels={\"GAP\": 0},\n",
    "        )\n",
    "    )\n",
    "    .simulate(20)\n",
    "    .get_result()\n",
    ").variables\n",
    "fig, ax = plot.relative_label_distribution(mapper, labels, n_cols=3)\n",
    "plt.show()"
   ]
  },
  {
   "cell_type": "markdown",
   "metadata": {},
   "source": [
    "<div style=\"color: #ffffff; background-color: #04AA6D; padding: 3rem 1rem 3rem 1rem; box-sizing: border-box\">\n",
    "    <h2>First finish line</h2>\n",
    "    With that you now know most of what you will need from a day-to-day basis about labelled models in mxlpy.\n",
    "    <br />\n",
    "    <br />\n",
    "    Congratulations!\n",
    "</div>"
   ]
  },
  {
   "cell_type": "markdown",
   "metadata": {},
   "source": [
    "## Advanced topics"
   ]
  },
  {
   "cell_type": "markdown",
   "metadata": {},
   "source": [
    "### External & initial labels \n",
    "\n",
    "In the case of open models, we make the assumption that there is a static pool of external labels.  \n",
    "For example, this could be the labelled portion of ambient carbon dioxide.  \n",
    "We denote that external label pool with `EXT` and by default set the value `1.0` to it, which means that it is fully labelled.  "
   ]
  },
  {
   "cell_type": "code",
   "execution_count": null,
   "metadata": {},
   "outputs": [],
   "source": [
    "model = get_linear_chain_2v()\n",
    "concs, fluxes = unwrap(Simulator(model).simulate(100).get_result())\n",
    "mapper = LinearLabelMapper(\n",
    "    model,\n",
    "    label_variables={\"x\": 2, \"y\": 2},\n",
    "    label_maps={\n",
    "        \"v1\": [0, 1],\n",
    "        \"v2\": [0, 1],\n",
    "        \"v3\": [0, 1],\n",
    "    },\n",
    ")\n",
    "\n",
    "label_model = mapper.build_model(\n",
    "    concs=concs.iloc[-1],\n",
    "    fluxes=fluxes.iloc[-1],\n",
    ")\n",
    "\n",
    "# Access the external label pool\n",
    "print(label_model.get_parameter_values()[\"EXT\"])\n",
    "\n",
    "# A reaction that consumes the external label pool\n",
    "print(label_model.get_raw_reactions()[\"v1__0\"].args)\n",
    "\n",
    "# A reaction that doesn't require the external label pool\n",
    "print(label_model.get_raw_reactions()[\"v2__0\"].args)"
   ]
  },
  {
   "cell_type": "markdown",
   "metadata": {},
   "source": [
    "You can modify the external concentration to your liking by simply updating the parameter value.  "
   ]
  },
  {
   "cell_type": "code",
   "execution_count": null,
   "metadata": {},
   "outputs": [],
   "source": [
    "fig, ax = plot.relative_label_distribution(\n",
    "    mapper,\n",
    "    unwrap(\n",
    "        Simulator(label_model)\n",
    "        .update_parameter(\"EXT\", 1.0)  # update exeternal label to fully labelled\n",
    "        .simulate(20)\n",
    "        .get_result()\n",
    "    ).variables,\n",
    "    n_cols=3,\n",
    ")\n",
    "fig.suptitle(\"Fully labelled external pool\")\n",
    "plt.show()"
   ]
  },
  {
   "cell_type": "code",
   "execution_count": null,
   "metadata": {},
   "outputs": [],
   "source": [
    "fig, axs = plot.relative_label_distribution(\n",
    "    mapper,\n",
    "    unwrap(\n",
    "        Simulator(label_model)\n",
    "        .update_parameter(\"EXT\", 0.5)  # update external label to half labelled\n",
    "        .simulate(20)\n",
    "        .get_result()\n",
    "    ).variables,\n",
    "    n_cols=3,\n",
    ")\n",
    "fig.suptitle(\"Half labelled external pool\")\n",
    "for ax in axs:\n",
    "    ax.set_ylim(0, 1)\n",
    "plt.show()"
   ]
  },
  {
   "cell_type": "markdown",
   "metadata": {},
   "source": [
    "Somewhat trivially, if you have no external label, there is no influx of labels"
   ]
  },
  {
   "cell_type": "code",
   "execution_count": null,
   "metadata": {},
   "outputs": [],
   "source": [
    "fig, axs = plot.relative_label_distribution(\n",
    "    mapper,\n",
    "    unwrap(\n",
    "        Simulator(label_model).update_parameter(\"EXT\", 0.0).simulate(20).get_result()\n",
    "    ).variables,\n",
    "    n_cols=3,\n",
    ")\n",
    "fig.suptitle(\"No labelled external pool\")\n",
    "for ax in axs:\n",
    "    ax.set_ylim(0, 1)\n",
    "plt.show()"
   ]
  },
  {
   "cell_type": "markdown",
   "metadata": {},
   "source": [
    "However, we can imagine a scenario where some initial labels are given, even though there is no external labeling.  \n",
    "You can achieve that by updating the initial conditions like so."
   ]
  },
  {
   "cell_type": "code",
   "execution_count": null,
   "metadata": {},
   "outputs": [],
   "source": [
    "fig, axs = plot.relative_label_distribution(\n",
    "    mapper,\n",
    "    unwrap(\n",
    "        Simulator(label_model, y0=label_model.get_initial_conditions() | {\"x__0\": 1.0})\n",
    "        .update_parameter(\"EXT\", 0.0)\n",
    "        .simulate(20)\n",
    "        .get_result()\n",
    "    ).variables,\n",
    "    n_cols=3,\n",
    ")\n",
    "fig.suptitle(\"No labelled external pool\")\n",
    "for ax in axs:\n",
    "    ax.set_ylim(0, 1)\n",
    "plt.show()"
   ]
  },
  {
   "cell_type": "markdown",
   "metadata": {},
   "source": [
    "For convenience, the `build_model` function also allows you to set the external labels and the initial labels.  \n",
    "Here, `initial_labels` specifies the position at which the initial label is given.   "
   ]
  },
  {
   "cell_type": "code",
   "execution_count": null,
   "metadata": {},
   "outputs": [],
   "source": [
    "label_model = mapper.build_model(\n",
    "    concs=concs.iloc[-1],\n",
    "    fluxes=fluxes.iloc[-1],\n",
    "    external_label=0.0,\n",
    "    initial_labels={\"x\": 0},\n",
    ")\n",
    "\n",
    "fig, axs = plot.relative_label_distribution(\n",
    "    mapper,\n",
    "    unwrap(Simulator(label_model).simulate(20).get_result()).variables,\n",
    "    n_cols=3,\n",
    ")\n",
    "fig.suptitle(\"No external label, but initial label in C1 of x\")\n",
    "plt.show()"
   ]
  },
  {
   "cell_type": "markdown",
   "metadata": {},
   "source": [
    "You can also distribute that initial label across multiple label positions of the variable.  "
   ]
  },
  {
   "cell_type": "code",
   "execution_count": null,
   "metadata": {},
   "outputs": [],
   "source": [
    "label_model = mapper.build_model(\n",
    "    concs=concs.iloc[-1],\n",
    "    fluxes=fluxes.iloc[-1],\n",
    "    external_label=0.0,\n",
    "    initial_labels={\"x\": [0, 1]},\n",
    ")\n",
    "\n",
    "fig, axs = plot.relative_label_distribution(\n",
    "    mapper,\n",
    "    unwrap(Simulator(label_model).simulate(20).get_result()).variables,\n",
    "    n_cols=3,\n",
    ")\n",
    "fig.suptitle(\"No external label, but initial label in C1 & C2 of x\")\n",
    "plt.show()"
   ]
  },
  {
   "cell_type": "code",
   "execution_count": null,
   "metadata": {},
   "outputs": [],
   "source": []
  }
 ],
 "metadata": {
  "kernelspec": {
   "display_name": "default",
   "language": "python",
   "name": "python3"
  },
  "language_info": {
   "codemirror_mode": {
    "name": "ipython",
    "version": 3
   },
   "file_extension": ".py",
   "mimetype": "text/x-python",
   "name": "python",
   "nbconvert_exporter": "python",
   "pygments_lexer": "ipython3",
   "version": "3.12.11"
  }
 },
 "nbformat": 4,
 "nbformat_minor": 2
}
