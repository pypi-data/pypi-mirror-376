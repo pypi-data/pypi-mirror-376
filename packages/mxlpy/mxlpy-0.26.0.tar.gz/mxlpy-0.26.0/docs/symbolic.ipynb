{
 "cells": [
  {
   "cell_type": "code",
   "execution_count": null,
   "id": "91ed7af1",
   "metadata": {},
   "outputs": [],
   "source": [
    "import sympy\n",
    "\n",
    "from mxlpy import Model, fns, symbolic, to_symbolic_model\n",
    "\n",
    "\n",
    "def sir() -> Model:\n",
    "    return (\n",
    "        Model()\n",
    "        .add_variables({\"s\": 0.9, \"i\": 0.1, \"r\": 0.0})\n",
    "        .add_parameters({\"beta\": 0.2, \"gamma\": 0.1})\n",
    "        .add_reaction(\n",
    "            \"infection\",\n",
    "            fns.mass_action_2s,\n",
    "            args=[\"s\", \"i\", \"beta\"],\n",
    "            stoichiometry={\"s\": -1, \"i\": 1},\n",
    "        )\n",
    "        .add_reaction(\n",
    "            \"recovery\",\n",
    "            fns.mass_action_1s,\n",
    "            args=[\"i\", \"gamma\"],\n",
    "            stoichiometry={\"i\": -1, \"r\": 1},\n",
    "        )\n",
    "    )\n",
    "\n",
    "\n",
    "symbolic_model = to_symbolic_model(sir())\n",
    "symbolic_model.jacobian()"
   ]
  },
  {
   "cell_type": "markdown",
   "id": "1f9f2e38",
   "metadata": {},
   "source": [
    "## Identifiability"
   ]
  },
  {
   "cell_type": "code",
   "execution_count": null,
   "id": "8e8ef8fb",
   "metadata": {},
   "outputs": [],
   "source": [
    "res = symbolic.check_identifiability(\n",
    "    symbolic_model,\n",
    "    outputs=[sympy.Symbol(\"i\"), sympy.Symbol(\"r\")],\n",
    ")\n",
    "print(res.summary())"
   ]
  }
 ],
 "metadata": {
  "kernelspec": {
   "display_name": "default",
   "language": "python",
   "name": "python3"
  },
  "language_info": {
   "codemirror_mode": {
    "name": "ipython",
    "version": 3
   },
   "file_extension": ".py",
   "mimetype": "text/x-python",
   "name": "python",
   "nbconvert_exporter": "python",
   "pygments_lexer": "ipython3",
   "version": "3.12.11"
  }
 },
 "nbformat": 4,
 "nbformat_minor": 5
}
