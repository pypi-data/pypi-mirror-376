{
 "cells": [
  {
   "cell_type": "markdown",
   "id": "781154dc",
   "metadata": {},
   "source": [
    "# Tips and tricks"
   ]
  },
  {
   "cell_type": "code",
   "execution_count": null,
   "id": "0b4f4a61",
   "metadata": {},
   "outputs": [],
   "source": [
    "import matplotlib.pyplot as plt\n",
    "import numpy as np\n",
    "import pandas as pd\n",
    "from cycler import cycler\n",
    "\n",
    "from mxlpy import plot"
   ]
  },
  {
   "cell_type": "markdown",
   "id": "bbc332a4",
   "metadata": {},
   "source": [
    "## Renaming plots arguments\n",
    "\n",
    "The easiest way to rename plot arguments, e.g. for `LaTeX` display, is to work on the `pandas.DataFrame` directly.  \n",
    "This conveniently offers a `rename` method, to which you can supply a dictionary of desired names. "
   ]
  },
  {
   "cell_type": "code",
   "execution_count": null,
   "id": "0b8699e6",
   "metadata": {},
   "outputs": [],
   "source": [
    "x = np.linspace(0, np.pi, 100)\n",
    "data = pd.DataFrame(\n",
    "    {\n",
    "        \"x1\": np.sin(x),\n",
    "        \"x2\": np.sin(x * 2),\n",
    "        \"x3\": np.sin(x * 4),\n",
    "    }\n",
    ")\n",
    "\n",
    "fig, ax = plot.lines(\n",
    "    data.rename(\n",
    "        columns={\n",
    "            \"x1\": r\"$x_{1}$\",\n",
    "            \"x2\": r\"$x_{2}$\",\n",
    "            \"x3\": r\"$x_{3}$\",\n",
    "        }\n",
    "    )\n",
    ")\n",
    "ax.set(xlabel=\"time / a.u.\", ylabel=\"concentration / a.u.\")\n",
    "plt.show()"
   ]
  },
  {
   "cell_type": "markdown",
   "id": "40c73dc8",
   "metadata": {},
   "source": [
    "## Custom plot styling\n",
    "\n",
    "To change the style of plot elements, we recommend using `plot.context`, which is a convenience wrapper around `plt.rc_context`, see [the matplotlib documentation](https://matplotlib.org/stable/users/explain/customizing.html).  \n",
    "\n",
    "That way, our plotting routines can easily be re-used with completely different styling options.  \n",
    "\n",
    "We opted for this way of styling plots so that you can use new features introduced by `matplotlib` immediately and don't have to wait for us to support every single update an every single plotting function.  "
   ]
  },
  {
   "cell_type": "code",
   "execution_count": null,
   "id": "e4d68d5e",
   "metadata": {},
   "outputs": [],
   "source": [
    "x = np.linspace(0, np.pi, 100)\n",
    "data = pd.DataFrame(\n",
    "    {\n",
    "        \"x1\": np.sin(x),\n",
    "        \"x2\": np.sin(x * 2),\n",
    "        \"x3\": np.sin(x * 4),\n",
    "    }\n",
    ")\n",
    "\n",
    "with plot.context(\n",
    "    colors=[\"r\", \"g\", \"b\"],\n",
    "    linewidth=2,\n",
    "):\n",
    "    fig, ax = plot.lines(data)\n",
    "    ax.set(xlabel=\"time\", ylabel=\"amplitude\")\n",
    "\n",
    "ax.legend()\n",
    "plot.show()"
   ]
  },
  {
   "cell_type": "markdown",
   "id": "23861fbe",
   "metadata": {},
   "source": [
    "## Advanced plot styling\n",
    "\n",
    "In case the our convenience arguments are not enough, you can use the entirety of the [the matplotlib rc customizing arguments](https://matplotlib.org/stable/users/explain/customizing.html) using the `rc` keyword argument of `plot.context`.  \n",
    "\n",
    "Here, you have to spell out the exact name that `matplotlib` expects, e.g. `axes.prop_cycle` instead of just `colors` in case that was everything you wanted to change.  \n",
    "\n",
    "> Hint: watch out for the difference between `cycler + cycler` and `cycler * cycler`."
   ]
  },
  {
   "cell_type": "code",
   "execution_count": null,
   "id": "0a01b425",
   "metadata": {},
   "outputs": [],
   "source": [
    "x = np.linspace(0, np.pi, 100)\n",
    "data = pd.DataFrame(\n",
    "    {\n",
    "        \"x1\": np.sin(x),\n",
    "        \"x2\": np.sin(x * 2),\n",
    "        \"x3\": np.sin(x * 4),\n",
    "    }\n",
    ")\n",
    "\n",
    "with plot.context(\n",
    "    rc={\"axes.prop_cycle\": cycler(color=[\"r\", \"b\"]) + cycler(linestyle=[\"-\", \"--\"])},\n",
    "):\n",
    "    plot.lines(data, ax=plot.one_axes(figsize=(3, 3))[1])\n",
    "    plot.show()\n",
    "\n",
    "with plot.context(\n",
    "    rc={\"axes.prop_cycle\": cycler(color=[\"r\", \"b\"]) * cycler(linestyle=[\"-\", \"--\"])},\n",
    "):\n",
    "    plot.lines(data, ax=plot.one_axes(figsize=(3, 3))[1])\n",
    "    plot.show()"
   ]
  }
 ],
 "metadata": {
  "kernelspec": {
   "display_name": "default",
   "language": "python",
   "name": "python3"
  },
  "language_info": {
   "codemirror_mode": {
    "name": "ipython",
    "version": 3
   },
   "file_extension": ".py",
   "mimetype": "text/x-python",
   "name": "python",
   "nbconvert_exporter": "python",
   "pygments_lexer": "ipython3",
   "version": "3.12.11"
  }
 },
 "nbformat": 4,
 "nbformat_minor": 5
}
