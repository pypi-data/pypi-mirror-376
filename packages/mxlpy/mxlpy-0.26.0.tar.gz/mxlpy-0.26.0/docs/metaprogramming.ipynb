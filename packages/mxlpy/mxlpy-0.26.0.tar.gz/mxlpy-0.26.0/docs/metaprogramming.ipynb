{
 "cells": [
  {
   "cell_type": "code",
   "execution_count": null,
   "metadata": {},
   "outputs": [],
   "source": [
    "from example_models import get_linear_chain_1v, get_linear_chain_2v\n",
    "from mxlpy.meta import (\n",
    "    generate_latex_code,\n",
    "    generate_model_code_py,\n",
    "    generate_model_code_rs,\n",
    "    generate_mxlpy_code,\n",
    "    to_tex_export,\n",
    ")"
   ]
  },
  {
   "cell_type": "markdown",
   "metadata": {},
   "source": [
    "# Metaprogramming\n",
    "\n",
    "For models only containing pure Python functions, `mxlpy` contains advanced meta-programming features, such as code generation of `LaTeX`, `Python` and `rust` code."
   ]
  },
  {
   "cell_type": "markdown",
   "metadata": {},
   "source": [
    "## code generation\n",
    "\n",
    "\n",
    "`mxlpy` can generate own source code from a model.  "
   ]
  },
  {
   "cell_type": "code",
   "execution_count": null,
   "metadata": {},
   "outputs": [],
   "source": [
    "print(generate_mxlpy_code(get_linear_chain_1v()))"
   ]
  },
  {
   "cell_type": "markdown",
   "metadata": {},
   "source": [
    "`mxlpy` can also generate a generic python function from the source code.  \n",
    "The plan here is to generalise this to be able to export models into other programming languages as well.  "
   ]
  },
  {
   "cell_type": "code",
   "execution_count": null,
   "metadata": {},
   "outputs": [],
   "source": [
    "print(generate_model_code_py(get_linear_chain_2v()))"
   ]
  },
  {
   "cell_type": "code",
   "execution_count": null,
   "metadata": {},
   "outputs": [],
   "source": [
    "print(generate_model_code_rs(get_linear_chain_2v()))"
   ]
  },
  {
   "cell_type": "markdown",
   "metadata": {},
   "source": [
    "### Free parameters\n",
    "\n",
    "In case you want to perform further analyses like parameter scans, you can also define free parameters which then will be additional model inputs"
   ]
  },
  {
   "cell_type": "code",
   "execution_count": null,
   "metadata": {},
   "outputs": [],
   "source": [
    "print(generate_model_code_py(get_linear_chain_2v(), free_parameters=[\"k1\"]))"
   ]
  },
  {
   "cell_type": "code",
   "execution_count": null,
   "metadata": {},
   "outputs": [],
   "source": [
    "print(generate_model_code_rs(get_linear_chain_2v(), free_parameters=[\"k1\"]))"
   ]
  },
  {
   "cell_type": "markdown",
   "metadata": {},
   "source": [
    "## LaTeX export\n",
    "\n",
    "`mxlpy` supports writing out your model as `LaTeX`.  \n",
    "\n",
    "You can provide a mapping of model names to latex names using the `gls` argument.\n",
    "\n",
    "This export will automatically shorten long names exceeding the `long_name_cutoff` parameter.   "
   ]
  },
  {
   "cell_type": "code",
   "execution_count": null,
   "metadata": {},
   "outputs": [],
   "source": [
    "print(generate_latex_code(get_linear_chain_1v()))"
   ]
  },
  {
   "cell_type": "markdown",
   "metadata": {},
   "source": [
    "### Exporting only parts\n",
    "\n",
    "In case you only need parts of the `LaTeX` export, you can also directly create it"
   ]
  },
  {
   "cell_type": "code",
   "execution_count": null,
   "metadata": {},
   "outputs": [],
   "source": [
    "tex = to_tex_export(get_linear_chain_1v())\n",
    "\n",
    "# Optionally add glossary here\n",
    "tex = tex.rename_with_glossary({\"x\": r\"\\mu\"})"
   ]
  },
  {
   "cell_type": "code",
   "execution_count": null,
   "metadata": {},
   "outputs": [],
   "source": [
    "print(tex.export_variables())"
   ]
  },
  {
   "cell_type": "code",
   "execution_count": null,
   "metadata": {},
   "outputs": [],
   "source": [
    "print(tex.export_parameters())"
   ]
  },
  {
   "cell_type": "code",
   "execution_count": null,
   "metadata": {},
   "outputs": [],
   "source": [
    "print(tex.export_derived(long_name_cutoff=10))"
   ]
  },
  {
   "cell_type": "code",
   "execution_count": null,
   "metadata": {},
   "outputs": [],
   "source": [
    "print(tex.export_reactions(long_name_cutoff=10))"
   ]
  },
  {
   "cell_type": "code",
   "execution_count": null,
   "metadata": {},
   "outputs": [],
   "source": [
    "print(tex.export_diff_eqs(long_name_cutoff=10))"
   ]
  },
  {
   "cell_type": "markdown",
   "metadata": {},
   "source": [
    "<div style=\"color: #ffffff; background-color: #04AA6D; padding: 3rem 1rem 3rem 1rem; box-sizing: border-box\">\n",
    "    <h2>First finish line</h2>\n",
    "    With that you now know most of what you will need from a day-to-day basis about meta programming in mxlpy.\n",
    "    <br />\n",
    "    <br />\n",
    "    Congratulations!\n",
    "</div>"
   ]
  },
  {
   "cell_type": "markdown",
   "metadata": {},
   "source": [
    "## Placeholders / error handling\n",
    "\n",
    "In case one of your model functions cannot be parsed by, `MxlPy` will insert a red warning instead into the `LaTeX` export.  \n",
    "That way, you can still re-use the remainder of the it.  "
   ]
  },
  {
   "cell_type": "code",
   "execution_count": null,
   "metadata": {},
   "outputs": [],
   "source": [
    "import numpy as np\n",
    "\n",
    "from mxlpy import Model\n",
    "\n",
    "\n",
    "def broken_fn() -> float:\n",
    "    return np.sum(np.linalg.inv(np.array([[1.0, 2.0], [3.0, 4.0]])))  # type: ignore\n",
    "\n",
    "\n",
    "tex = to_tex_export(Model().add_derived(\"d1\", broken_fn, args=[]))\n",
    "print(tex.export_derived(long_name_cutoff=10))"
   ]
  },
  {
   "cell_type": "markdown",
   "metadata": {},
   "source": [
    "This is not the case for automatic code generation, where we will throw errors instead.  \n",
    "\n",
    "As these generated models might be part of bigger pipelines, it is important for them not to produce wrong output silently."
   ]
  },
  {
   "cell_type": "code",
   "execution_count": null,
   "metadata": {},
   "outputs": [],
   "source": [
    "try:\n",
    "    generate_model_code_py(Model().add_derived(\"d1\", broken_fn, args=[]))\n",
    "except ValueError as e:\n",
    "    print(\"Errored:\", e)"
   ]
  },
  {
   "cell_type": "code",
   "execution_count": null,
   "metadata": {},
   "outputs": [],
   "source": [
    "try:\n",
    "    generate_model_code_rs(Model().add_derived(\"d1\", broken_fn, args=[]))\n",
    "except ValueError as e:\n",
    "    print(\"Errored:\", e)"
   ]
  },
  {
   "cell_type": "code",
   "execution_count": null,
   "metadata": {},
   "outputs": [],
   "source": []
  }
 ],
 "metadata": {
  "kernelspec": {
   "display_name": "mxlpy",
   "language": "python",
   "name": "python3"
  },
  "language_info": {
   "codemirror_mode": {
    "name": "ipython",
    "version": 3
   },
   "file_extension": ".py",
   "mimetype": "text/x-python",
   "name": "python",
   "nbconvert_exporter": "python",
   "pygments_lexer": "ipython3",
   "version": "3.12.8"
  }
 },
 "nbformat": 4,
 "nbformat_minor": 2
}
