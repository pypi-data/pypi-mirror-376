{
 "cells": [
  {
   "cell_type": "code",
   "execution_count": null,
   "id": "94e07f72",
   "metadata": {},
   "outputs": [],
   "source": [
    "import numpy as np\n",
    "\n",
    "from example_models import get_phase_plane\n",
    "from mxlpy import Simulator, plot, unwrap"
   ]
  },
  {
   "cell_type": "markdown",
   "id": "cee046d4",
   "metadata": {},
   "source": [
    "# Stability analysis\n",
    "\n",
    "*mxlpy* offers routines to easily visualise the stability of the model over a wide range of parameters.  \n",
    "\n",
    "`plot.trajectories2d`  shows the vector field depending on the values of two `variables` as a quiver plot.  "
   ]
  },
  {
   "cell_type": "code",
   "execution_count": null,
   "id": "0c9f153f",
   "metadata": {},
   "outputs": [],
   "source": [
    "_ = plot.trajectories_2d(\n",
    "    get_phase_plane(),\n",
    "    x1=(\"s1\", np.linspace(0, 2, 20)),\n",
    "    x2=(\"s2\", np.linspace(0, 2, 20)),\n",
    ")"
   ]
  },
  {
   "cell_type": "markdown",
   "id": "5b1dc14d",
   "metadata": {},
   "source": [
    "As always, `plot.trajectories_2d` returns matplotlib `Figure` and `Axes` objects, so you can further customise the plot.  \n",
    "Below we visualise example trajectories for different initial conditions of the model.  "
   ]
  },
  {
   "cell_type": "code",
   "execution_count": null,
   "id": "7950736d",
   "metadata": {},
   "outputs": [],
   "source": [
    "fig, ax = plot.trajectories_2d(\n",
    "    get_phase_plane(),\n",
    "    x1=(\"s1\", np.linspace(0, 2, 20)),\n",
    "    x2=(\"s2\", np.linspace(0, 2, 20)),\n",
    ")\n",
    "\n",
    "for s1 in np.linspace(0, 1, 4):\n",
    "    for s2 in np.linspace(0, 2, 4):\n",
    "        c = unwrap(\n",
    "            Simulator(get_phase_plane(), y0={\"s1\": s1, \"s2\": s2})\n",
    "            .simulate(1.5)\n",
    "            .get_result()\n",
    "        ).variables\n",
    "        ax.plot(c[\"s1\"], c[\"s2\"])"
   ]
  }
 ],
 "metadata": {
  "kernelspec": {
   "display_name": "default",
   "language": "python",
   "name": "python3"
  },
  "language_info": {
   "codemirror_mode": {
    "name": "ipython",
    "version": 3
   },
   "file_extension": ".py",
   "mimetype": "text/x-python",
   "name": "python",
   "nbconvert_exporter": "python",
   "pygments_lexer": "ipython3",
   "version": "3.12.11"
  }
 },
 "nbformat": 4,
 "nbformat_minor": 5
}
