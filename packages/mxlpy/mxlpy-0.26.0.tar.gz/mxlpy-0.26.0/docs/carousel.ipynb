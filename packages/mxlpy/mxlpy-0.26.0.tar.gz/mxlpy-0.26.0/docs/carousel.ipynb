{
 "cells": [
  {
   "cell_type": "code",
   "execution_count": null,
   "id": "b1e88326",
   "metadata": {},
   "outputs": [],
   "source": [
    "import numpy as np\n",
    "\n",
    "from mxlpy import Model, Simulator, fit, fns, plot, unwrap\n",
    "from mxlpy.carousel import Carousel, ReactionTemplate\n",
    "\n",
    "\n",
    "def get_sir() -> Model:\n",
    "    \"\"\"Create a simple SIR model.\"\"\"\n",
    "    return (\n",
    "        Model()\n",
    "        .add_variables({\"s\": 0.9, \"i\": 0.1, \"r\": 0.0})\n",
    "        .add_parameters({\"beta\": 0.2, \"gamma\": 0.1})\n",
    "        .add_reaction(\n",
    "            \"infection\",\n",
    "            fns.mass_action_2s,\n",
    "            args=[\"s\", \"i\", \"beta\"],\n",
    "            stoichiometry={\"s\": -1, \"i\": 1},\n",
    "        )\n",
    "        .add_reaction(\n",
    "            \"recovery\",\n",
    "            fns.mass_action_1s,\n",
    "            args=[\"i\", \"gamma\"],\n",
    "            stoichiometry={\"i\": -1, \"r\": 1},\n",
    "        )\n",
    "    )\n",
    "\n",
    "\n",
    "carousel = Carousel(\n",
    "    get_sir(),\n",
    "    {\n",
    "        \"infection\": [\n",
    "            ReactionTemplate(fn=fns.mass_action_2s, args=[\"s\", \"i\", \"beta\"]),\n",
    "            ReactionTemplate(\n",
    "                fn=fns.michaelis_menten_2s,\n",
    "                args=[\"s\", \"i\", \"beta\", \"km_bs\", \"km_bi\"],\n",
    "                additional_parameters={\"km_bs\": 0.1, \"km_bi\": 1.0},\n",
    "            ),\n",
    "        ],\n",
    "        \"recovery\": [\n",
    "            ReactionTemplate(fn=fns.mass_action_1s, args=[\"i\", \"gamma\"]),\n",
    "            ReactionTemplate(\n",
    "                fn=fns.michaelis_menten_1s,\n",
    "                args=[\"i\", \"gamma\", \"km_gi\"],\n",
    "                additional_parameters={\"km_gi\": 0.1},\n",
    "            ),\n",
    "        ],\n",
    "    },\n",
    ")"
   ]
  },
  {
   "cell_type": "markdown",
   "id": "cce98247",
   "metadata": {},
   "source": [
    "## Simulate carousel ensemble"
   ]
  },
  {
   "cell_type": "code",
   "execution_count": null,
   "id": "1f8ee75b",
   "metadata": {},
   "outputs": [],
   "source": [
    "carousel_time_course = carousel.time_course(np.linspace(0, 100, 101))\n",
    "variables_by_model = carousel_time_course.get_variables_by_model()\n",
    "\n",
    "fig, ax = plot.one_axes()\n",
    "plot.line_mean_std(variables_by_model[\"s\"].unstack().T, label=\"s\", ax=ax)\n",
    "plot.line_mean_std(variables_by_model[\"i\"].unstack().T, label=\"i\", ax=ax)\n",
    "plot.line_mean_std(variables_by_model[\"r\"].unstack().T, label=\"r\", ax=ax)\n",
    "ax.legend()\n",
    "plot.show()"
   ]
  },
  {
   "cell_type": "markdown",
   "id": "c4f2ba13",
   "metadata": {},
   "source": [
    "## Fitting"
   ]
  },
  {
   "cell_type": "code",
   "execution_count": null,
   "id": "8f5a1ffe",
   "metadata": {},
   "outputs": [],
   "source": [
    "data = unwrap(\n",
    "    Simulator(get_sir().update_parameters({\"beta\": 0.3, \"gamma\": 0.15}))\n",
    "    .simulate(100, steps=11)\n",
    "    .get_result()\n",
    ").variables\n",
    "\n",
    "data.head()"
   ]
  },
  {
   "cell_type": "code",
   "execution_count": null,
   "id": "004b6365",
   "metadata": {},
   "outputs": [],
   "source": [
    "res = fit.carousel_time_course(\n",
    "    carousel,\n",
    "    p0={\n",
    "        \"beta\": 0.1,\n",
    "        \"gamma\": 0.1,\n",
    "        # specific to reaction templates\n",
    "        # \"km_bi\": 1.0,\n",
    "    },\n",
    "    data=data,\n",
    "    minimizer=fit.LocalScipyMinimizer(),\n",
    ")\n",
    "\n",
    "best = res.get_best_fit().model\n",
    "\n",
    "fig, ax = plot.one_axes()\n",
    "plot.lines(\n",
    "    unwrap(Simulator(best).simulate(100).get_result()).variables,\n",
    "    ax=ax,\n",
    ")\n",
    "plot.reset_prop_cycle(ax=ax)\n",
    "plot.lines(data, linestyle=\"dashed\", ax=ax, legend=False)\n",
    "plot.show()"
   ]
  },
  {
   "cell_type": "code",
   "execution_count": null,
   "id": "0f62e979",
   "metadata": {},
   "outputs": [],
   "source": [
    "best_fit = res.get_best_fit()\n",
    "\n",
    "print(best_fit.best_pars)\n",
    "print([rxn.fn.__name__ for rxn in best_fit.model.get_raw_reactions().values()])"
   ]
  },
  {
   "cell_type": "code",
   "execution_count": null,
   "id": "d7b86735",
   "metadata": {},
   "outputs": [],
   "source": []
  }
 ],
 "metadata": {
  "kernelspec": {
   "display_name": "mxlpy",
   "language": "python",
   "name": "python3"
  },
  "language_info": {
   "codemirror_mode": {
    "name": "ipython",
    "version": 3
   },
   "file_extension": ".py",
   "mimetype": "text/x-python",
   "name": "python",
   "nbconvert_exporter": "python",
   "pygments_lexer": "ipython3",
   "version": "3.12.8"
  }
 },
 "nbformat": 4,
 "nbformat_minor": 5
}
