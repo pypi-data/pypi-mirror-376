{
 "cells": [
  {
   "cell_type": "code",
   "execution_count": null,
   "id": "8c92b09f",
   "metadata": {},
   "outputs": [],
   "source": [
    "import numpy as np\n",
    "\n",
    "from example_models import get_upper_glycolysis\n",
    "from mxlpy import Simulator, plot\n",
    "from mxlpy.fuzzy import ThompsonState, thompson_sampling\n",
    "from mxlpy.types import unwrap\n",
    "\n",
    "# Create artificial data\n",
    "p_orig = {\n",
    "    \"k1\": 0.25,\n",
    "    \"k2\": 1.2,\n",
    "    \"k3\": 1.6,\n",
    "    \"k3m\": 0.5,\n",
    "    \"k4\": 100,\n",
    "    \"k5\": 1.3,\n",
    "    \"k6\": 1.5,\n",
    "    \"k7\": 2.5,\n",
    "}\n",
    "m = get_upper_glycolysis().update_parameters(p_orig)\n",
    "data, _ = unwrap(\n",
    "    Simulator(m).simulate_time_course(np.linspace(0, 10, 11, dtype=float)).get_result()\n",
    ")\n",
    "\n",
    "# Perform sampling\n",
    "state = thompson_sampling(\n",
    "    m,\n",
    "    data=data,\n",
    "    state=ThompsonState.from_parameter_values(\n",
    "        {\n",
    "            \"k1\": np.geomspace(1e-1, 1e2, 21),\n",
    "            \"k2\": np.geomspace(1e-1, 1e2, 21),\n",
    "            \"k3\": np.geomspace(1e-1, 1e2, 21),\n",
    "            \"k3m\": np.geomspace(1e-1, 1e2, 21),\n",
    "            \"k4\": np.geomspace(1e-1, 1e2, 21),\n",
    "            \"k5\": np.geomspace(1e-1, 1e2, 21),\n",
    "            \"k6\": np.geomspace(1e-1, 1e2, 21),\n",
    "            \"k7\": np.geomspace(1e-1, 1e2, 21),\n",
    "        }\n",
    "    ),\n",
    "    rtol=0.11,\n",
    "    n=1000,\n",
    "    parallel=True,\n",
    ")"
   ]
  },
  {
   "cell_type": "code",
   "execution_count": null,
   "id": "ed916e3b",
   "metadata": {},
   "outputs": [],
   "source": [
    "from scipy.interpolate import CubicSpline\n",
    "\n",
    "# Visualize results\n",
    "fig, axs = plot.grid_layout(len(state.state), n_cols=4)\n",
    "ai = iter(axs)\n",
    "\n",
    "for ax, (name, var) in zip(axs, state.state.items(), strict=False):\n",
    "    ax.set(title=f\"{name}\")\n",
    "    xticks = np.arange(len(var[\"x\"]))\n",
    "\n",
    "    ax.bar(xticks, var[\"success\"] / var[\"fail\"])\n",
    "    ax.set_xticks(xticks)\n",
    "    ax.set_xticklabels((f\"{i:.0e}\" for i in var[\"x\"]), rotation=90)\n",
    "\n",
    "    x_trans = CubicSpline(var[\"x\"], xticks)\n",
    "    x_data = x_trans(p_orig[name])\n",
    "    y_data = ax.transData.inverted().transform(ax.transAxes.transform([0, 0.5]))[1]\n",
    "    ax.annotate(\n",
    "        p_orig[name],\n",
    "        xy=(x_data, 0),\n",
    "        xytext=(x_data, y_data),\n",
    "        ha=\"center\",\n",
    "        arrowprops={\"arrowstyle\": \"->\"},\n",
    "    )"
   ]
  },
  {
   "cell_type": "code",
   "execution_count": null,
   "id": "48397663",
   "metadata": {},
   "outputs": [],
   "source": []
  },
  {
   "cell_type": "code",
   "execution_count": null,
   "id": "a4c5be53",
   "metadata": {},
   "outputs": [],
   "source": []
  }
 ],
 "metadata": {
  "kernelspec": {
   "display_name": "mxlpy",
   "language": "python",
   "name": "python3"
  },
  "language_info": {
   "codemirror_mode": {
    "name": "ipython",
    "version": 3
   },
   "file_extension": ".py",
   "mimetype": "text/x-python",
   "name": "python",
   "nbconvert_exporter": "python",
   "pygments_lexer": "ipython3",
   "version": "3.12.8"
  }
 },
 "nbformat": 4,
 "nbformat_minor": 5
}
