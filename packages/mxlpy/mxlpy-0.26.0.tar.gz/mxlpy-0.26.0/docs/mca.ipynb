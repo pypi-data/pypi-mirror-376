{
 "cells": [
  {
   "cell_type": "code",
   "execution_count": null,
   "metadata": {},
   "outputs": [],
   "source": [
    "from __future__ import annotations\n",
    "\n",
    "import matplotlib.pyplot as plt\n",
    "\n",
    "from example_models import get_upper_glycolysis\n",
    "from mxlpy import plot"
   ]
  },
  {
   "cell_type": "markdown",
   "metadata": {},
   "source": [
    "# Metabolic control analysis\n",
    "\n",
    "Metabolic control analysis answers the question: **what happens to the concentrations and fluxes if I slightly perturb the system?**  \n",
    "It is thus a *local* measurement about which reactions hold the most control.  \n",
    "\n",
    "The most common measurements are **elasticities** and **response coefficients**.  \n",
    "The main difference between them is that *response coefficients* are calculated at **steady-state**, while *elasticities* can be calculated at every arbitrary state.\n",
    "\n",
    "\n",
    "<div>\n",
    "    <img src=\"assets/parameter-elasticity.png\" \n",
    "         style=\"vertical-align:middle; max-height: 175px;\" />\n",
    "    <img src=\"assets/response-coefficient.png\" \n",
    "         style=\"vertical-align:middle; max-height: 175px;\" />\n",
    "</div>\n",
    "\n",
    "All the required functionality can be found in the `mxlpy.mca` module.\n",
    "\n",
    "As an example, we will use the upper glycolysis model from the [Systems Biology textbook by Klipp et al. (2005)](https://www.wiley-vch.de/de/fachgebiete/naturwissenschaften/systems-biology-978-3-527-33636-4)."
   ]
  },
  {
   "cell_type": "code",
   "execution_count": null,
   "metadata": {},
   "outputs": [],
   "source": [
    "from mxlpy import mca"
   ]
  },
  {
   "cell_type": "markdown",
   "metadata": {},
   "source": [
    "### Variable elasticities\n",
    "\n",
    "Variable elasticities are the sensitivity of reactions to a small change in the concentration of a variable.  \n",
    "They are **not** a steady-state measurement and can be calculated for any arbitrary state.  \n",
    "\n",
    "<img src=\"assets/variable-elasticity.png\" style=\"max-width: 500px\" />\n",
    "\n",
    "Both the `concs` and `variables` arguments are optional.  \n",
    "If `concs` is not supplied, the routine will use the initial conditions from the model.  \n",
    "If `variables` is not supplied, the elasticities will be calculated for all variables.  "
   ]
  },
  {
   "cell_type": "code",
   "execution_count": null,
   "metadata": {},
   "outputs": [],
   "source": [
    "elas = mca.variable_elasticities(\n",
    "    get_upper_glycolysis(),\n",
    "    to_scan=[\"GLC\", \"F6P\"],\n",
    "    variables={\n",
    "        \"GLC\": 0.3,\n",
    "        \"G6P\": 0.4,\n",
    "        \"F6P\": 0.5,\n",
    "        \"FBP\": 0.6,\n",
    "        \"ATP\": 0.4,\n",
    "        \"ADP\": 0.6,\n",
    "    },\n",
    ")\n",
    "\n",
    "_ = plot.heatmap(elas)\n",
    "plt.show()"
   ]
  },
  {
   "cell_type": "markdown",
   "metadata": {},
   "source": [
    "### Parameter elasticities\n",
    "\n",
    "Similarly, parameter elasticities are the sensitivity of reactions to a small change in the concentration of a variable.  \n",
    "They are **not** a steady-state measurement and can be calculated for any arbitrary state.  \n",
    "\n",
    "<img src=\"assets/parameter-elasticity.png\" style=\"max-width: 500px\" />\n",
    "\n",
    "Both the `concs` and `parameters` arguments are optional.  \n",
    "If `concs` is not supplied, the routine will use the initial conditions from the model.  \n",
    "If `parameters` is not supplied, the elasticities will be calculated for all parameters.  "
   ]
  },
  {
   "cell_type": "code",
   "execution_count": null,
   "metadata": {},
   "outputs": [],
   "source": [
    "elas = mca.parameter_elasticities(\n",
    "    get_upper_glycolysis(),\n",
    "    variables={\n",
    "        \"GLC\": 0.3,\n",
    "        \"G6P\": 0.4,\n",
    "        \"F6P\": 0.5,\n",
    "        \"FBP\": 0.6,\n",
    "        \"ATP\": 0.4,\n",
    "        \"ADP\": 0.6,\n",
    "    },\n",
    "    to_scan=[\"k1\", \"k2\"],\n",
    ")\n",
    "\n",
    "_ = plot.heatmap(elas)\n",
    "plt.show()"
   ]
  },
  {
   "cell_type": "markdown",
   "metadata": {},
   "source": [
    "### Response coefficients\n",
    "\n",
    "Response coefficients show the sensitivity of variables and reactions **at steady-state** to a small change in a parameter.  \n",
    "\n",
    "\n",
    "<img src=\"assets/response-coefficient.png\" style=\"max-width: 500px\" />\n",
    "\n",
    "If the parameter is proportional to the rate, they are also called **control coefficients**.\n",
    "\n",
    "Calculation of these is run in parallel by default.  "
   ]
  },
  {
   "cell_type": "code",
   "execution_count": null,
   "metadata": {},
   "outputs": [],
   "source": [
    "crcs, frcs = mca.response_coefficients(\n",
    "    get_upper_glycolysis(),\n",
    "    to_scan=[\"k1\", \"k2\", \"k3\", \"k4\", \"k5\", \"k6\", \"k7\"],\n",
    ")\n",
    "\n",
    "fig, (ax1, ax2) = plt.subplots(1, 2, figsize=(12, 4))\n",
    "_ = plot.heatmap(crcs, ax=ax1)\n",
    "_ = plot.heatmap(frcs, ax=ax2)\n",
    "plt.show()"
   ]
  },
  {
   "cell_type": "markdown",
   "metadata": {},
   "source": [
    "<div style=\"color: #ffffff; background-color: #04AA6D; padding: 3rem 1rem 3rem 1rem; box-sizing: border-box\">\n",
    "    <h2>First finish line</h2>\n",
    "    With that you now know most of what you will need from a day-to-day basis about metabolic control analysis in mxlpy.\n",
    "    <br />\n",
    "    <br />\n",
    "    Congratulations!\n",
    "</div>"
   ]
  },
  {
   "cell_type": "markdown",
   "metadata": {},
   "source": [
    "## Advanced concepts / customisation"
   ]
  },
  {
   "cell_type": "markdown",
   "metadata": {},
   "source": [
    "### Normalisation\n",
    "\n",
    "By default the elasticities and response coefficients are **normalised**, so e.g. for the response coefficients the following is calculated:\n",
    "\n",
    "$$C^J_{v_i} = \\left( \\frac{dJ}{dp} \\frac{p}{J} \\right) \\bigg/ \\left( \\frac{\\partial v_i}{\\partial  p}\\frac{p}{v_i} \\right)$$\n",
    "\n",
    "You can also obtain the **non-normalised** coefficients, by setting `normalized=False`, which amounts to the following calculation:\n",
    "\n",
    "$$C^J_{v_i} = \\left( \\frac{dJ}{dp} \\frac{p}{J} \\right)$$"
   ]
  },
  {
   "cell_type": "code",
   "execution_count": null,
   "metadata": {},
   "outputs": [],
   "source": [
    "_ = mca.response_coefficients(\n",
    "    get_upper_glycolysis(),\n",
    "    to_scan=[\"k1\", \"k2\", \"k3\", \"k4\", \"k5\", \"k6\", \"k7\"],\n",
    "    normalized=False,\n",
    ")"
   ]
  },
  {
   "cell_type": "markdown",
   "metadata": {},
   "source": [
    "### Displacement\n",
    "\n",
    "We wrote above that we *slightly* change the value, but by how much exactly?  \n",
    "By default the relative change is set to `1e-4`.  \n",
    "`mxlpy` uses a **central finite difference** approximation, which means that in this case change the value to \n",
    "$$\\textrm{value} \\cdot \\left(1 \\pm 10^{-4} \\right)$$\n",
    "\n",
    "which amounts to a change of `0.01 %`. \n",
    "\n",
    "You can set that using the `displacement` argument.  "
   ]
  },
  {
   "cell_type": "code",
   "execution_count": null,
   "metadata": {},
   "outputs": [],
   "source": [
    "_ = mca.response_coefficients(\n",
    "    get_upper_glycolysis(),\n",
    "    to_scan=[\"k1\", \"k2\", \"k3\", \"k4\", \"k5\", \"k6\", \"k7\"],\n",
    "    displacement=1e-2,\n",
    ")"
   ]
  }
 ],
 "metadata": {
  "kernelspec": {
   "display_name": "mxlpy",
   "language": "python",
   "name": "python3"
  },
  "language_info": {
   "codemirror_mode": {
    "name": "ipython",
    "version": 3
   },
   "file_extension": ".py",
   "mimetype": "text/x-python",
   "name": "python",
   "nbconvert_exporter": "python",
   "pygments_lexer": "ipython3",
   "version": "3.12.8"
  }
 },
 "nbformat": 4,
 "nbformat_minor": 4
}
