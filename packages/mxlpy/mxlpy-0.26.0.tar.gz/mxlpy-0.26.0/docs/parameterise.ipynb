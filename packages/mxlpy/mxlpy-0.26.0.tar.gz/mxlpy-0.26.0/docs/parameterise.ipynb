{
 "cells": [
  {
   "cell_type": "code",
   "execution_count": null,
   "metadata": {},
   "outputs": [],
   "source": [
    "from pathlib import Path\n",
    "\n",
    "import matplotlib.pyplot as plt\n",
    "\n",
    "from mxlpy import Model, fns, mc, plot\n",
    "from mxlpy.distributions import GaussianKde, sample\n",
    "from mxlpy.parameterise import get_km_and_kcat_from_brenda"
   ]
  },
  {
   "cell_type": "markdown",
   "metadata": {},
   "source": [
    "# Model parameterisation\n",
    "\n",
    "Obtaining experimentally measured parameters can be challenging.  \n",
    "\n",
    "Using the [Brenda enzymes database](https://www.brenda-enzymes.org/) we can obtain  distributions of enzymatic parameters for a wide range of organisms.\n",
    "\n",
    "We can do that with the `mxlpy.parameterise` module.  \n",
    "\n",
    "These distributions can then in turn be used with our [Monte-Carlo methods](monte-carlo.ipynb) to capture the **range of possible behaviour** your model can exhibit.\n",
    "\n",
    "<div>\n",
    "    <img src=\"assets/time-course.png\"\n",
    "         style='vertical-align:middle; max-height: 175px; max-width: 20%;'/>\n",
    "    <span style='padding: 0 1rem; font-size: 2rem'>+</span>\n",
    "    <img src=\"assets/parameter-distribution.png\"\n",
    "         style='vertical-align:middle; max-height: 175px; max-width: 20%'/>\n",
    "    <span style='padding: 0 1rem; font-size: 2rem'>=</span>\n",
    "    <img src=\"assets/mc-time-course.png\"\n",
    "         style='vertical-align:middle; max-height: 175px; max-width: 20%'/>\n",
    "</div>\n",
    "\n",
    "\n",
    "In order to obtain the parameters for a given [Enzyme commision number](https://en.wikipedia.org/wiki/Enzyme_Commission_number) (ec) we will [manually download the database](https://www.brenda-enzymes.org/download.php).  \n",
    "You have to do this manually due to the brenda licensing terms.\n",
    "\n",
    "> Note: we have created a small copy of just the rubisco data here to keep the documentation running.  \n",
    "> Adjust your `brenda_path` accordingly"
   ]
  },
  {
   "cell_type": "code",
   "execution_count": null,
   "metadata": {},
   "outputs": [],
   "source": [
    "kms, kcats = get_km_and_kcat_from_brenda(\n",
    "    ec=\"4.1.1.39\",\n",
    "    brenda_path=Path(\"assets\") / \"brenda_rubisco_only.json\",\n",
    ")\n",
    "\n",
    "print(f\"Found: {len(kms)} michaelis constants\")\n",
    "kms.head()"
   ]
  },
  {
   "cell_type": "markdown",
   "metadata": {},
   "source": [
    "As you can see above, this provides you with parameter values for different organisms and substrates.  \n",
    "Thus, we first filter by the specific substrate we are interested in.  "
   ]
  },
  {
   "cell_type": "code",
   "execution_count": null,
   "metadata": {},
   "outputs": [],
   "source": [
    "# Filter out a specific substrate\n",
    "kms = kms[kms[\"substrate\"] == \"CO2\"]\n",
    "kcats = kcats[kcats[\"substrate\"] == \"CO2\"]\n",
    "\n",
    "print(f\"Filtered to {len(kms)} michaelis constants\")\n",
    "kms.head()"
   ]
  },
  {
   "cell_type": "markdown",
   "metadata": {},
   "source": [
    "Since these are sufficiently many values, we can create a Gaussian Kernel Density estimate of them."
   ]
  },
  {
   "cell_type": "code",
   "execution_count": null,
   "metadata": {},
   "outputs": [],
   "source": [
    "km_dist = GaussianKde.from_data(kms[\"value\"])\n",
    "fig, ax = km_dist.plot(\n",
    "    xmin=kms[\"value\"].min() * 0.8,\n",
    "    xmax=kms[\"value\"].max() * 1.2,\n",
    ")\n",
    "ax.set(title=f\"rubisco km for CO2, n={len(kms)}\")\n",
    "plt.show()"
   ]
  },
  {
   "cell_type": "markdown",
   "metadata": {},
   "source": [
    "This kernel density estimate we can now use exactly like other distribution in our `Monte-Carlo` routines (see the Monte Carlo notebook for more information).  \n",
    "\n",
    "Here, we create a small toy model and then use the distribution obtained from the experimental data to calculate the steady-state distribution of the model concentration.  "
   ]
  },
  {
   "cell_type": "code",
   "execution_count": null,
   "metadata": {},
   "outputs": [],
   "source": [
    "model = (\n",
    "    Model()\n",
    "    .add_parameters({\"k_out\": 1.0, \"km\": 1.0})\n",
    "    .add_variable(\"PGA\", 0)\n",
    "    .add_reaction(\n",
    "        \"rubisco\",\n",
    "        fns.constant,\n",
    "        args=[\"km\"],\n",
    "        stoichiometry={\"PGA\": 2},\n",
    "    )\n",
    "    .add_reaction(\n",
    "        \"outflux\",\n",
    "        fns.mass_action_1s,\n",
    "        args=[\"PGA\", \"k_out\"],\n",
    "        stoichiometry={\"PGA\": -1},\n",
    "    )\n",
    ")\n",
    "\n",
    "ss = mc.steady_state(model, mc_to_scan=sample({\"km\": km_dist}, n=10))\n",
    "\n",
    "fig, ax = plt.subplots(figsize=(4, 3))\n",
    "ax.set(ylabel=\"Steady-state concentration\")\n",
    "plot.violins(ss.variables, ax=ax)\n",
    "plt.show()"
   ]
  },
  {
   "cell_type": "markdown",
   "metadata": {},
   "source": [
    "<div style=\"color: #ffffff; background-color: #04AA6D; padding: 3rem 1rem 3rem 1rem; box-sizing: border-box\">\n",
    "    <h2>First finish line</h2>\n",
    "    With that you now know most of what you will need from a day-to-day basis about parameter scans in mxlpy.\n",
    "    <br />\n",
    "    <br />\n",
    "    Congratulations!\n",
    "</div>"
   ]
  },
  {
   "cell_type": "markdown",
   "metadata": {},
   "source": []
  }
 ],
 "metadata": {
  "kernelspec": {
   "display_name": "default",
   "language": "python",
   "name": "python3"
  },
  "language_info": {
   "codemirror_mode": {
    "name": "ipython",
    "version": 3
   },
   "file_extension": ".py",
   "mimetype": "text/x-python",
   "name": "python",
   "nbconvert_exporter": "python",
   "pygments_lexer": "ipython3",
   "version": "3.12.11"
  }
 },
 "nbformat": 4,
 "nbformat_minor": 2
}
