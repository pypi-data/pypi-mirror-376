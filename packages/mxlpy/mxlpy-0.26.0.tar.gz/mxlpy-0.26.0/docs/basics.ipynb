{
 "cells": [
  {
   "cell_type": "code",
   "execution_count": null,
   "metadata": {},
   "outputs": [],
   "source": [
    "from __future__ import annotations\n",
    "\n",
    "from pathlib import Path\n",
    "from typing import Any\n",
    "\n",
    "import matplotlib.pyplot as plt\n",
    "\n",
    "from example_models import get_linear_chain_2v\n",
    "from mxlpy import unwrap\n",
    "\n",
    "\n",
    "def print_annotated(description: str, value: Any) -> None:\n",
    "    print(\n",
    "        description,\n",
    "        value,\n",
    "        sep=\"\\n\",\n",
    "        end=\"\\n\\n\",\n",
    "    )"
   ]
  },
  {
   "cell_type": "markdown",
   "metadata": {},
   "source": [
    "# Model building basics\n",
    "\n",
    "In the following you will learn how to build and simulate your first model using `mxlpy`.  \n",
    "\n",
    "This will allow you to create time courses and do steady-state analysis as shown below.\n",
    "\n",
    "<div>\n",
    "    <img src=\"assets/time-course.png\" \n",
    "         style=\"vertical-align:middle; max-height: 175px; max-width: 20%;\" />\n",
    "    <img src=\"assets/protocol-time-course.png\" \n",
    "         style=\"vertical-align:middle; max-height: 175px; max-width: 20%;\" />\n",
    "    <img src=\"assets/steady-state.png\" \n",
    "         style=\"vertical-align:middle; max-height: 175px; max-width: 20%;\" />\n",
    "</div>\n"
   ]
  },
  {
   "cell_type": "markdown",
   "metadata": {},
   "source": [
    "## Defining your first model\n",
    "\n",
    "Let's say you want to model the following chemical network of a linear chain of reactions\n",
    "\n",
    "$$ \\Large \\varnothing \\xrightarrow{v_0} S \\xrightarrow{v_1} P \\xrightarrow{v_2} \\varnothing $$\n",
    "\n",
    "We can translate this into a system of ordinary differential equations (ODEs)\n",
    "\n",
    "$$\\begin{align*}\n",
    "\\frac{dS}{dt} &= v_0 - v_1     \\\\\n",
    "\\frac{dP}{dt} &= v_1 - v_2 \\\\\n",
    "\\end{align*}\n",
    "$$\n",
    "\n",
    "Note that the rates $v$ effect the variables by certain factors, known as **stoichiometries**.  \n",
    "We can explicity write out these factors like this:\n",
    "\n",
    "$$\\begin{align*}\n",
    "\\frac{dS}{dt} &= 1 \\cdot v_0 -1 \\cdot v_1     \\\\\n",
    "\\frac{dP}{dt} &= 1\\cdot v_1 -1 \\cdot v_2 \\\\\n",
    "\\end{align*}\n",
    "$$\n",
    "\n",
    "In the example the stoichiometries are all $1$ or $-1$, however, they can have any real value.  \n",
    "We can write out the stoichiometries using a **stoichiometric matrix**:\n",
    "\n",
    "| Variable | $v_0$ | $v_1$ | $v_2$ |\n",
    "| -------- | ----- | ----- | ----- |\n",
    "| S        | 1     | -1    | 0     |\n",
    "| P        | 0     |     1 | -1    |\n",
    "\n",
    "Which we can read as (ignoring the 0 entries):\n",
    "\n",
    "- `S` is produced by $v_0$ and consumed by $v_1$\n",
    "- `P` is produced by $v_1$ and consumed by $v_2$ \n",
    "\n",
    "Lastly we choose rate equations for each rate to get the flux vector $v$\n",
    "\n",
    "$$\\begin{align*}\n",
    "    v_0 &= k_{in} \\\\\n",
    "    v_1 &= k_1 * S \\\\\n",
    "    v_2 &= k_{out} * P \\\\\n",
    "\\end{align*}$$\n",
    "\n"
   ]
  },
  {
   "cell_type": "markdown",
   "metadata": {},
   "source": [
    "## Implementing your first model\n",
    "\n",
    "Now let's implement this first model in *mxlpy*.  \n",
    "We start by creating the rate functions $\\textbf{v}$.  \n",
    "Note that these should be **general** and **re-usable** whenever possible, to make your model clear to people reading it.  \n",
    "Try to give these functions names that are meaningful to your audience, e.g. a rate function `k * s` could be named **proportional** or **mass-action**."
   ]
  },
  {
   "cell_type": "code",
   "execution_count": null,
   "metadata": {},
   "outputs": [],
   "source": [
    "def constant(k: float) -> float:\n",
    "    return k\n",
    "\n",
    "\n",
    "def proportional(k: float, s: float) -> float:\n",
    "    return k * s"
   ]
  },
  {
   "cell_type": "markdown",
   "metadata": {},
   "source": [
    "Next, we create our model.  \n",
    "\n",
    "For this, we first import the `Model` class from the `mxlpy` package.\n"
   ]
  },
  {
   "cell_type": "code",
   "execution_count": null,
   "metadata": {},
   "outputs": [],
   "source": [
    "from mxlpy import Model\n",
    "\n",
    "model = Model()"
   ]
  },
  {
   "cell_type": "markdown",
   "metadata": {},
   "source": [
    "We first add parameters to the model using `.add_parameters({name: value})`.  \n",
    "\n",
    "> Note that the function returns our `Model` object again.  \n",
    "> This will be useful later, as we can *chain* multiple calls together.  "
   ]
  },
  {
   "cell_type": "code",
   "execution_count": null,
   "metadata": {},
   "outputs": [],
   "source": [
    "from mxlpy import Parameter, units\n",
    "\n",
    "model = model.add_parameters(\n",
    "    {\n",
    "        \"k_in\": 1,\n",
    "        \"k_1\": Parameter(1, unit=units.mmol_s),\n",
    "        \"k_out\": 1,\n",
    "    }\n",
    ")"
   ]
  },
  {
   "cell_type": "markdown",
   "metadata": {},
   "source": [
    "Next we add the dynamic variables `S` and `P` with their respective initial condition."
   ]
  },
  {
   "cell_type": "code",
   "execution_count": null,
   "metadata": {},
   "outputs": [],
   "source": [
    "model = model.add_variables({\"S\": 0, \"P\": 0})"
   ]
  },
  {
   "cell_type": "markdown",
   "metadata": {},
   "source": [
    "Finally, we add the three reactions by using \n",
    "\n",
    "```python\n",
    ".add_reaction(\n",
    "    name,              # the internal name for the reaction\n",
    "    fn=...,            # a python function to be evaluated\n",
    "    args=[name, ...]   # the arguments passed to the python function\n",
    "    stoichiometry={    # a mapping encoding how much the variable `name`\n",
    "        name: value    # is changed by the reaction\n",
    "    },\n",
    ")\n",
    "```\n",
    "\n",
    "> **Attention**  \n",
    "> There are a couple of points to note here.  \n",
    "> First, the function passed to `fn` here (and elsewhere) needs to be pickle-able  \n",
    "> Thus, **lambda** functions are not supported!  \n",
    "> \n",
    "> Second, the arguments defined with `args` are passed to `fn` **by position**, not by name.  \n",
    "> Thus, the *order* of arguments in `args` needs to match the order of arguments in `fn`  "
   ]
  },
  {
   "cell_type": "code",
   "execution_count": null,
   "metadata": {},
   "outputs": [],
   "source": [
    "model.add_reaction(\n",
    "    \"v0\",\n",
    "    fn=constant,\n",
    "    args=[\"k_in\"],\n",
    "    stoichiometry={\"S\": 1},  # produces one S\n",
    ")\n",
    "model.add_reaction(\n",
    "    \"v1\",\n",
    "    fn=proportional,\n",
    "    args=[\"k_1\", \"S\"],  # note that the order needs to match `proportional`\n",
    "    stoichiometry={\"S\": -1, \"P\": 1},  # consumes one S and produces one P\n",
    ")\n",
    "model.add_reaction(\n",
    "    \"v2\",\n",
    "    fn=proportional,\n",
    "    args=[\"k_out\", \"P\"],  # note that the order needs to match `proportional`\n",
    "    stoichiometry={\"P\": -1},  # exports one P\n",
    ")\n",
    "\n",
    "print(model.get_reaction_names())"
   ]
  },
  {
   "cell_type": "markdown",
   "metadata": {},
   "source": [
    "Note, that we in general recommend to use a single function that returns the model instead of defining it globally.  \n",
    "This allows us to quickly re-create the model whenever we need a fresh version of it.  \n",
    "Below, we define the same model again, but inside a single function.  \n",
    "\n",
    "\n",
    "> Note that we made use of **operator chaining** to avoid having to write `model` for every call.  \n",
    "\n",
    "So we can write `Model.method1().method2()...`  instead of having to write\n",
    "\n",
    "```python\n",
    "model.method1()\n",
    "model.method2()\n",
    "```\n",
    "\n",
    "etc"
   ]
  },
  {
   "cell_type": "code",
   "execution_count": null,
   "metadata": {},
   "outputs": [],
   "source": [
    "from mxlpy import Variable\n",
    "\n",
    "\n",
    "def create_linear_chain_model() -> Model:\n",
    "    return (\n",
    "        Model()\n",
    "        .add_parameters(\n",
    "            {\n",
    "                \"k_in\": Parameter(1, unit=units.mmol_s),\n",
    "                \"k_1\": Parameter(1, unit=units.per_second),\n",
    "                \"k_out\": Parameter(1, unit=units.per_second),\n",
    "            }\n",
    "        )\n",
    "        .add_variables(\n",
    "            {\n",
    "                \"S\": Variable(0, unit=units.mmol),\n",
    "                \"P\": Variable(0, unit=units.mmol),\n",
    "            }\n",
    "        )\n",
    "        .add_reaction(\n",
    "            \"v0\",\n",
    "            fn=constant,\n",
    "            args=[\"k_in\"],\n",
    "            stoichiometry={\"S\": 1},  # produces one S\n",
    "            unit=units.mmol_s,\n",
    "        )\n",
    "        .add_reaction(\n",
    "            \"v1\",\n",
    "            fn=proportional,\n",
    "            args=[\"k_1\", \"S\"],  # note that the order needs to match `proportional`\n",
    "            stoichiometry={\"S\": -1, \"P\": 1},  # consumes one S and produces one P\n",
    "            unit=units.mmol_s,\n",
    "        )\n",
    "        .add_reaction(\n",
    "            \"v2\",\n",
    "            fn=proportional,\n",
    "            args=[\"k_out\", \"P\"],  # note that the order needs to match `proportional`\n",
    "            stoichiometry={\"P\": -1},  # exports one P\n",
    "            unit=units.mmol_s,\n",
    "        )\n",
    "    )"
   ]
  },
  {
   "cell_type": "markdown",
   "metadata": {},
   "source": [
    "We can then simulate the model by passing it to a `Simulator` and simulate a time series using `.simulate(t_end)`.  \n",
    "Finally, we can obtain the concentrations and fluxes using `get_result`.  \n",
    "\n",
    "While you can directly plot the `pd.DataFrame`s, mxlpy supplies a variety of plots in the `plot` namespace that are worth checking out.  "
   ]
  },
  {
   "cell_type": "code",
   "execution_count": null,
   "metadata": {},
   "outputs": [],
   "source": [
    "from mxlpy import Simulator, plot\n",
    "\n",
    "res = (\n",
    "    Simulator(create_linear_chain_model())  # initialise the simulator\n",
    "    .simulate(5)  # simulate until t_end = 5 a.u.\n",
    "    .get_result()  # return pd.DataFrames for concentrations and fluxes\n",
    ")\n",
    "\n",
    "if res is not None:\n",
    "    variables, fluxes = res\n",
    "\n",
    "    fig, (ax1, ax2) = plot.two_axes(figsize=(6, 2.5))\n",
    "    _ = plot.lines(variables, ax=ax1)\n",
    "    _ = plot.lines(fluxes, ax=ax2)\n",
    "\n",
    "    # Never forget to labelr you axes :)\n",
    "    ax1.set(xlabel=\"time / a.u.\", ylabel=\"concentration / a.u.\")\n",
    "    ax2.set(xlabel=\"time / a.u.\", ylabel=\"flux / a.u.\")\n",
    "    plt.show()"
   ]
  },
  {
   "cell_type": "markdown",
   "metadata": {},
   "source": [
    "Note, that we checked whether the results were `None` in case the simulation failed.  \n",
    "Explicitly checking using an `if` clause is the prefered error handling mechanism.  \n",
    "\n",
    "If you are **sure** the simulation won't fail, and still want your code to be type-safe, you can use `unwrap`.\n",
    "\n",
    "```python\n",
    "result = unwrap(Simulator(model).simulate(10).get_result())\n",
    "```\n",
    "\n",
    "Note that these functions will throw an error if the values are `None`, which potentially might crash your programs."
   ]
  },
  {
   "cell_type": "markdown",
   "metadata": {},
   "source": [
    "## Derived quantities\n",
    "\n",
    "Frequently it makes sense to derive one quantity in a model from other quantities.  \n",
    "This can be done for\n",
    "\n",
    "- parameters derived from other parameters\n",
    "- variables derived from parameters or other variables\n",
    "- stoichiometries derived from parameters or variables (more on this later)\n",
    "\n",
    "*mxlpy* offers a unified interface for derived parameters and variables usign `Model.add_derived()`.  "
   ]
  },
  {
   "cell_type": "code",
   "execution_count": null,
   "metadata": {},
   "outputs": [],
   "source": [
    "def moiety_1(x1: float, total: float) -> float:\n",
    "    return total - x1\n",
    "\n",
    "\n",
    "def model_derived() -> Model:\n",
    "    return (\n",
    "        Model()\n",
    "        .add_variables({\"ATP\": 1.0})\n",
    "        .add_parameters({\"ATP_total\": 1.0, \"k_base\": 1.0, \"e0_atpase\": 1.0})\n",
    "        .add_derived(\"k_atp\", proportional, args=[\"k_base\", \"e0_atpase\"])\n",
    "        .add_derived(\"ADP\", moiety_1, args=[\"ATP\", \"ATP_total\"])\n",
    "        .add_reaction(\n",
    "            \"ATPase\", proportional, args=[\"k_atp\", \"ATP\"], stoichiometry={\"ATP\": -1}\n",
    "        )\n",
    "    )\n",
    "\n",
    "\n",
    "variables, fluxes = unwrap(Simulator(model_derived()).simulate(10).get_result())\n",
    "fig, ax = plot.lines(variables)\n",
    "ax.set(xlabel=\"time / a.u.\", ylabel=\"concentration / a.u.\")\n",
    "plt.show()"
   ]
  },
  {
   "cell_type": "markdown",
   "metadata": {},
   "source": [
    "## Introspection\n",
    "\n",
    "If the simulation didn't show the expected results, it is usually a good idea to try to pinpoint the error.  \n",
    "`mxlpy` offers a variety of methods to access intermediate results.  \n",
    "\n",
    "The first is to check whether all **derived quantities** were calculate correctly.  \n",
    "For this, you can use the `get_args` method, which is named consistently with the `args` argument in all methods like `add_reaction`."
   ]
  },
  {
   "cell_type": "code",
   "execution_count": null,
   "metadata": {},
   "outputs": [],
   "source": [
    "m = create_linear_chain_model()\n",
    "\n",
    "print_annotated(\n",
    "    \"Using initial conditions as default:\",\n",
    "    m.get_args(),\n",
    ")\n",
    "\n",
    "print_annotated(\n",
    "    \"Using custom concentrations:\",\n",
    "    m.get_args({\"S\": 1.0, \"P\": 0.5}),\n",
    ")"
   ]
  },
  {
   "cell_type": "markdown",
   "metadata": {},
   "source": [
    "If the `args` look fine, the next step is usually to check whether the rate equations are looking as expected"
   ]
  },
  {
   "cell_type": "code",
   "execution_count": null,
   "metadata": {},
   "outputs": [],
   "source": [
    "m = create_linear_chain_model()\n",
    "print_annotated(\n",
    "    \"Using initial conditions as default:\",\n",
    "    m.get_fluxes(),\n",
    ")\n",
    "print_annotated(\n",
    "    \"Using custom concentrations:\",\n",
    "    m.get_fluxes({\"S\": 1.0, \"P\": 0.5}),\n",
    ")"
   ]
  },
  {
   "cell_type": "markdown",
   "metadata": {},
   "source": [
    "and whether the stoichiometries are assigned correctly"
   ]
  },
  {
   "cell_type": "code",
   "execution_count": null,
   "metadata": {},
   "outputs": [],
   "source": [
    "m = create_linear_chain_model()\n",
    "m.get_stoichiometries()"
   ]
  },
  {
   "cell_type": "markdown",
   "metadata": {},
   "source": [
    "Lastly, you can check the generated right hand side"
   ]
  },
  {
   "cell_type": "code",
   "execution_count": null,
   "metadata": {},
   "outputs": [],
   "source": [
    "m = create_linear_chain_model()\n",
    "\n",
    "print_annotated(\n",
    "    \"Using initial conditions as default:\",\n",
    "    m.get_right_hand_side(),\n",
    ")\n",
    "\n",
    "print_annotated(\n",
    "    \"Using custom concentrations:\",\n",
    "    m.get_right_hand_side({\"S\": 1.0, \"P\": 0.5}),\n",
    ")"
   ]
  },
  {
   "cell_type": "markdown",
   "metadata": {},
   "source": [
    "If any of the quantities above were unexpected, you can check the model interactively by accessing the various collections.  \n",
    "\n",
    "> Note: the returned quantities are **copies** of the internal data, modifying these won't have any effect on the model"
   ]
  },
  {
   "cell_type": "code",
   "execution_count": null,
   "metadata": {},
   "outputs": [],
   "source": [
    "m.parameters"
   ]
  },
  {
   "cell_type": "code",
   "execution_count": null,
   "metadata": {},
   "outputs": [],
   "source": [
    "m.variables"
   ]
  },
  {
   "cell_type": "code",
   "execution_count": null,
   "metadata": {},
   "outputs": [],
   "source": [
    "m.reactions"
   ]
  },
  {
   "cell_type": "markdown",
   "metadata": {},
   "source": [
    "In case you model contains derived quantitites you can access the derived quantities using `.derived`.  \n",
    "Note that this returns a **copy** of the derived quantities, so editing it won't have any effect on the model.  "
   ]
  },
  {
   "cell_type": "code",
   "execution_count": null,
   "metadata": {},
   "outputs": [],
   "source": [
    "model_derived().derived"
   ]
  },
  {
   "cell_type": "markdown",
   "metadata": {},
   "source": [
    "## CRUD\n",
    "\n",
    "The model has a complete **c**reate, **r**ead, **u**pdate, **d**elete API for all it's elements.  \n",
    "The methods and attributes are named consistenly, with `add` instead of `create` and `get` instead of `read`.  \n",
    "Note that the elements itself are accessible as `properties`, e.g. `.parameters` which will return **copies** of the data.  \n",
    "Only use the supplied methods to change the internal state of the model.\n",
    "\n",
    "Here are some example methods and attributes for parameters\n",
    "\n",
    "| Functionality | Parameters                                                                              |\n",
    "| ------------- | --------------------------------------------------------------------------------------- |\n",
    "| Create        | `.add_parameter()`, `.add_parameters()`                                                 |\n",
    "| Read          | `.parameters`, `.get_parameter_names()`                                                 |\n",
    "| Update        | `.update_parameter()`, `.update_parameters()`, `.scale_parameter()`, `scale.parameters()` |\n",
    "| Delete        | `.remove_parameter()`, `.remove_parameters()`                                           |\n",
    "\n",
    "and variables\n",
    "\n",
    "| Functionality | Variables                                                         |\n",
    "| ------------- | ----------------------------------------------------------------- |\n",
    "| Create        | `.add_variable()`, `.add_variables()`                             |\n",
    "| Read          | `.variables`, `.get_variable_names()`, `get_initial_conditions()` |\n",
    "| Update        | `.update_variable()`, `.update_variables()`                         |\n",
    "| Delete        | `.remove_parameter()`, `.remove_parameters()`                     |\n"
   ]
  },
  {
   "cell_type": "code",
   "execution_count": null,
   "metadata": {},
   "outputs": [],
   "source": [
    "m = create_linear_chain_model()\n",
    "\n",
    "# Calculate fluxes\n",
    "print_annotated(\n",
    "    \"Before update\",\n",
    "    m.get_fluxes({\"S\": 1.0, \"P\": 0.5}),\n",
    ")\n",
    "\n",
    "# Update parameters\n",
    "m.update_parameters({\"k_in\": 2.0})\n",
    "\n",
    "# Calculate fluxes again\n",
    "print_annotated(\n",
    "    \"After update\",\n",
    "    m.get_fluxes({\"S\": 1.0, \"P\": 0.5}),\n",
    ")"
   ]
  },
  {
   "cell_type": "markdown",
   "metadata": {},
   "source": [
    "## Derived stoichiometries\n",
    "\n",
    "To define derived stoichiometries can make them dependent on parameters in the model or use the `Derived` class as a value in the stoichiometries.  \n",
    "\n",
    "So instead of defining them like this\n",
    "\n",
    "`stoichiometry={\"x\": 1.0}`\n",
    "\n",
    "you can use\n",
    "\n",
    "`stoichiometry={\"x\": \"stoich\"}`\n",
    "\n",
    "or for more advanced uses you use the `Derived` class as the value\n",
    "\n",
    "`stoichiometry={\"x\": Derived(fn=constant, args=[\"stoich\"])}`"
   ]
  },
  {
   "cell_type": "code",
   "execution_count": null,
   "metadata": {},
   "outputs": [],
   "source": [
    "variables, fluxes = unwrap(\n",
    "    Simulator(\n",
    "        Model()\n",
    "        .add_parameters({\"stoich\": -1.0, \"k\": 1.0})\n",
    "        .add_variables({\"x\": 1.0})\n",
    "        .add_reaction(\n",
    "            \"name\",\n",
    "            proportional,\n",
    "            args=[\"x\", \"k\"],\n",
    "            # Define derived stoichiometry here\n",
    "            stoichiometry={\"x\": \"stoich\"},\n",
    "        )\n",
    "    )\n",
    "    .simulate(1)\n",
    "    # Update parameter the derived stoichiometry depends on\n",
    "    .update_parameter(\"stoich\", -4.0)\n",
    "    # Continue simulation\n",
    "    .simulate(5)\n",
    "    .get_result()\n",
    ")\n",
    "\n",
    "_, ax = plot.lines(variables)\n",
    "ax.set(xlabel=\"time / a.u.\", ylabel=\"concentration / a.u.\")\n",
    "plt.show()"
   ]
  },
  {
   "cell_type": "markdown",
   "metadata": {},
   "source": [
    "## Simulations: time courses\n",
    "\n",
    "Time courses are simulations over time\n",
    "\n",
    "<img src=\"assets/time-course.png\" style=\"max-width: 500px\" />\n",
    "\n",
    "You can obtain the time course of integration using the `simulate` method.  \n",
    "There are two ways how you can define the time points this function returns.  \n",
    "\n",
    "1. supply the end time `t_end`\n",
    "2. supply both end time and number of steps with `t_end` and `steps`\n",
    "\n",
    "If you want to set the exact time points to be returned use `simulate_time_course`\n",
    "\n",
    "```python\n",
    "simulate(t_end=10)\n",
    "simulate(t_end=10, steps=10)\n",
    "simulate_time_course(np.linspace(0, 10, 11))\n",
    "```"
   ]
  },
  {
   "cell_type": "code",
   "execution_count": null,
   "metadata": {},
   "outputs": [],
   "source": [
    "variables, fluxes = unwrap(\n",
    "    Simulator(get_linear_chain_2v())\n",
    "    .simulate(t_end=10)  # simulate until t_end = 10 a.u.\n",
    "    .get_result()\n",
    ")\n",
    "\n",
    "fig, ax = plot.lines(variables)\n",
    "ax.set(xlabel=\"time / a.u.\", ylabel=\"concentration / a.u.\")\n",
    "plt.show()"
   ]
  },
  {
   "cell_type": "markdown",
   "metadata": {},
   "source": [
    "\n",
    "By default, the `Simulator` is initialised with the initial concentrations set in the `Model`.  \n",
    "Optionally, you can overwrite the initial conditions using the `y0` argument.  \n",
    "\n",
    "```python\n",
    "Simulator(model, y0={name: value, ...})\n",
    "```"
   ]
  },
  {
   "cell_type": "code",
   "execution_count": null,
   "metadata": {},
   "outputs": [],
   "source": [
    "variables, fluxes = unwrap(\n",
    "    Simulator(create_linear_chain_model(), y0={\"S\": 2.0, \"P\": 0.0})\n",
    "    .simulate(10)\n",
    "    .get_result()\n",
    ")\n",
    "\n",
    "fig, (ax1, ax2) = plot.two_axes(figsize=(6, 3))\n",
    "_ = plot.lines(variables, ax=ax1)\n",
    "_ = plot.lines(fluxes, ax=ax2)\n",
    "\n",
    "ax1.set(xlabel=\"time / a.u.\", ylabel=\"concentration / a.u.\")\n",
    "ax2.set(xlabel=\"time / a.u.\", ylabel=\"flux / a.u.\")\n",
    "plt.show()"
   ]
  },
  {
   "cell_type": "markdown",
   "metadata": {},
   "source": [
    "### Inspecting the result object\n",
    "\n",
    "The object returned by the simulator has a couple of neat features"
   ]
  },
  {
   "cell_type": "code",
   "execution_count": null,
   "metadata": {},
   "outputs": [],
   "source": [
    "res = unwrap(\n",
    "    Simulator(create_linear_chain_model(), y0={\"S\": 2.0, \"P\": 0.0})\n",
    "    .simulate(10)\n",
    "    .get_result()\n",
    ")"
   ]
  },
  {
   "cell_type": "markdown",
   "metadata": {},
   "source": [
    "You can unpack the results object into variables and fluxes"
   ]
  },
  {
   "cell_type": "code",
   "execution_count": null,
   "metadata": {},
   "outputs": [],
   "source": [
    "concs, fluxes = res"
   ]
  },
  {
   "cell_type": "markdown",
   "metadata": {},
   "source": [
    "And you can get reactions that either produce or consume a certain variable (that is, their stoichiometries are positive or negative).\n",
    "\n",
    "You can **scale** these fluxes by their respective stoichiometry using `scaled=True` as well.\n"
   ]
  },
  {
   "cell_type": "code",
   "execution_count": null,
   "metadata": {},
   "outputs": [],
   "source": [
    "res.get_producers(\"S\").head()"
   ]
  },
  {
   "cell_type": "code",
   "execution_count": null,
   "metadata": {},
   "outputs": [],
   "source": [
    "res.get_consumers(\"S\").head()"
   ]
  },
  {
   "cell_type": "markdown",
   "metadata": {},
   "source": [
    "You can get the right hand side of the simulation for every time step"
   ]
  },
  {
   "cell_type": "code",
   "execution_count": null,
   "metadata": {},
   "outputs": [],
   "source": [
    "res.get_right_hand_side().head()"
   ]
  },
  {
   "cell_type": "markdown",
   "metadata": {},
   "source": [
    "## Simulations: protocol time course\n",
    "\n",
    "Protocols are used to make parameter changes discrete in time, such as turning a light on and off.  \n",
    "This is useful reproducing experimental time courses where a parameter was changed at fixed time points.  \n",
    "\n",
    "\n",
    "<img src=\"assets/protocol-time-course.png\" style=\"max-width: 500px\" />\n",
    "\n",
    "The protocol is defined as a `pandas.DataFrame` using `pd.Timedelta` values as in index, and the parameter values at the respective time interval as values.  \n",
    "\n",
    "|    pd.Timedelta  | p1 | p2 |\n",
    "| ---------------- | -- | -- |\n",
    "| 0 days 00:00:01  |  1 |  0 |\n",
    "| 0 days 00:00:03  |  2 |  1 |\n",
    "| 0 days 00:00:06  |  1 |  2 |\n",
    "\n",
    "You can use as many parameters as you want.  \n",
    "\n",
    "> **Note**  \n",
    "> *mxlpy* assigns one second of the `Timedelta` to one **time unit** of the integration.  \n",
    "> mxlpy does **not** take into account whether your integration might use a different time unit.  \n",
    "\n",
    "For convenience, we supply the `make_protocol` function, which takes in a pair of the **duration** of the time-step on the respective **parameter values**.  "
   ]
  },
  {
   "cell_type": "code",
   "execution_count": null,
   "metadata": {},
   "outputs": [],
   "source": [
    "from mxlpy import make_protocol\n",
    "\n",
    "protocol = make_protocol(\n",
    "    [\n",
    "        (1, {\"k1\": 1}),  # for one second value of 1\n",
    "        (2, {\"k1\": 2}),  # for two seconds value of 2\n",
    "        (3, {\"k1\": 1}),  # for three seconds value of 1\n",
    "    ]\n",
    ")\n",
    "protocol"
   ]
  },
  {
   "cell_type": "markdown",
   "metadata": {},
   "source": [
    "Now instead of running `simulate` or `simulate_time_course` we use `simulate_protocol` or `simulate_protocol_time_course`"
   ]
  },
  {
   "cell_type": "code",
   "execution_count": null,
   "metadata": {},
   "outputs": [],
   "source": [
    "variables, fluxes = unwrap(\n",
    "    Simulator(get_linear_chain_2v()).simulate_protocol(protocol).get_result()\n",
    ")\n",
    "\n",
    "fig, ax = plot.one_axes()\n",
    "plot.lines(variables, ax=ax)\n",
    "plot.shade_protocol(protocol[\"k1\"], ax=ax, alpha=0.1)\n",
    "ax.set(xlabel=\"time / a.u.\", ylabel=\"concentration / a.u.\")\n",
    "plt.show()"
   ]
  },
  {
   "cell_type": "code",
   "execution_count": null,
   "metadata": {},
   "outputs": [],
   "source": [
    "import numpy as np\n",
    "\n",
    "variables, fluxes = unwrap(\n",
    "    Simulator(get_linear_chain_2v())\n",
    "    .simulate_protocol_time_course(\n",
    "        protocol,\n",
    "        time_points=np.linspace(0, 6, 101, dtype=float),\n",
    "    )\n",
    "    .get_result()\n",
    ")\n",
    "\n",
    "fig, ax = plt.subplots()\n",
    "plot.lines(variables, ax=ax)\n",
    "plot.shade_protocol(protocol[\"k1\"], ax=ax, alpha=0.1)\n",
    "ax.set(xlabel=\"time / a.u.\", ylabel=\"concentration / a.u.\")\n",
    "plt.show()"
   ]
  },
  {
   "cell_type": "markdown",
   "metadata": {},
   "source": [
    "## Simulations: steady-state\n",
    "\n",
    "A steady-state describes a state at which the concentrations of the system don't change anymore (also called fixed points).\n",
    "\n",
    "<img src=\"assets/steady-state.png\" style=\"max-width: 500px\" />\n",
    "\n",
    "You can simulate until the model reaches a steady-state using the `simulate_to_steady_state` method.  \n"
   ]
  },
  {
   "cell_type": "code",
   "execution_count": null,
   "metadata": {},
   "outputs": [],
   "source": [
    "variables, fluxes = unwrap(\n",
    "    Simulator(get_linear_chain_2v())  # optionally supply initial conditions\n",
    "    .simulate_to_steady_state()\n",
    "    .get_result()\n",
    ")\n",
    "\n",
    "fig, ax = plot.bars(variables)\n",
    "ax.set(xlabel=\"Variable / a.u.\", ylabel=\"Concentration / a.u.\")\n",
    "plt.show()"
   ]
  },
  {
   "cell_type": "markdown",
   "metadata": {},
   "source": [
    "## SBML\n",
    "\n",
    "The systems biology markup language (SBML) is a widely used file format for sharing models between different software packages and programming languages.  \n",
    "\n",
    "`mxlpy` supports reading and writing **sbml** models using the `sbml.read` and `sbml.write` functions."
   ]
  },
  {
   "cell_type": "code",
   "execution_count": null,
   "metadata": {},
   "outputs": [],
   "source": [
    "from mxlpy import sbml\n",
    "\n",
    "model = sbml.read(Path(\"assets\") / \"00001-sbml-l3v2.xml\")\n",
    "variables, fluxes = unwrap(Simulator(model).simulate(10).get_result())\n",
    "_ = plot.lines(variables)"
   ]
  },
  {
   "cell_type": "markdown",
   "metadata": {},
   "source": [
    "When exporting a model, you can supply additional meta-information like units and compartmentalisation.  \n",
    "See the [official sbml documentation](https://sbml.org/documents/) for more information of legal values."
   ]
  },
  {
   "cell_type": "code",
   "execution_count": null,
   "metadata": {},
   "outputs": [],
   "source": [
    "sbml.write(\n",
    "    model,\n",
    "    file=Path(\".cache\") / \"model.xml\",\n",
    "    extent_units=\"mole\",\n",
    "    substance_units=\"mole\",\n",
    "    time_units=\"second\",\n",
    ")"
   ]
  },
  {
   "cell_type": "markdown",
   "metadata": {},
   "source": [
    "<div style=\"color: #ffffff; background-color: #04AA6D; padding: 3rem 1rem 3rem 1rem; box-sizing: border-box\">\n",
    "    <h2>First finish line</h2>\n",
    "    With that you now know most of what you will need from a day-to-day basis about model building and simulation in mxlpy.\n",
    "    <br />\n",
    "    <br />\n",
    "    Congratulations!\n",
    "</div>"
   ]
  },
  {
   "cell_type": "markdown",
   "metadata": {},
   "source": [
    "## Advanced topics"
   ]
  },
  {
   "cell_type": "markdown",
   "metadata": {},
   "source": [
    "### Time-dependent reactions\n",
    "\n",
    "You can use the special name `time` to refer to the actual integration time in the rare case a reaction or module depends on it explicitly.  \n",
    "This is why the methods `get_args`, `get_fluxes` etc. also take an additional `time` argument.  "
   ]
  },
  {
   "cell_type": "code",
   "execution_count": null,
   "metadata": {},
   "outputs": [],
   "source": [
    "def time_dependency() -> Model:\n",
    "    return (\n",
    "        Model()\n",
    "        .add_variable(\"x\", 1.0)\n",
    "        .add_reaction(\n",
    "            \"v1\",\n",
    "            proportional,\n",
    "            args=[\"time\", \"x\"],\n",
    "            stoichiometry={\"x\": -1},\n",
    "        )\n",
    "    )\n",
    "\n",
    "\n",
    "model = time_dependency()\n",
    "\n",
    "# Watch our for explicit time dependency here!\n",
    "print_annotated(\n",
    "    \"Fluxes at time = 1.0\",\n",
    "    model.get_fluxes(time=1.0),\n",
    ")\n",
    "print_annotated(\n",
    "    \"Fluxes at time = 2.0\",\n",
    "    model.get_fluxes(time=2.0),\n",
    ")\n",
    "\n",
    "# During simulations the time is automatically taken care of\n",
    "_ = unwrap(Simulator(model).simulate(t_end=10).get_result()).variables.plot(\n",
    "    xlabel=\"time / a.u.\",\n",
    "    ylabel=\"amount / a.u.\",\n",
    "    title=\"Time-dependent reaction\",\n",
    ")"
   ]
  },
  {
   "cell_type": "markdown",
   "metadata": {},
   "source": [
    "### Derived parameters and variables\n",
    "\n",
    "Internally mxlpy differentiates between derived *parameters* and derived *variables*.  \n",
    "This differentiation is just-in-time before any calculation and thus might change if you change the nature of a parameter / variable.  \n",
    "\n",
    "If you are interested in which category mxlpy has placed the derived quantities, you can access `.derived_parameters` and `.derived_variables` as well. "
   ]
  },
  {
   "cell_type": "code",
   "execution_count": null,
   "metadata": {},
   "outputs": [],
   "source": [
    "def model_derived() -> Model:\n",
    "    return (\n",
    "        Model()\n",
    "        .add_variables({\"ATP\": 1.0})\n",
    "        .add_parameters({\"ATP_total\": 1.0, \"k_base\": 1.0, \"e0_atpase\": 1.0})\n",
    "        .add_derived(\"k_atp\", proportional, args=[\"k_base\", \"e0_atpase\"])\n",
    "        .add_derived(\"ADP\", moiety_1, args=[\"ATP\", \"ATP_total\"])\n",
    "        .add_reaction(\n",
    "            \"ATPase\", proportional, args=[\"k_atp\", \"ATP\"], stoichiometry={\"ATP\": -1}\n",
    "        )\n",
    "    )\n",
    "\n",
    "\n",
    "m = Model().add_parameters({\"x1\": 1.0}).add_derived(\"x1d\", constant, args=[\"x1\"])\n",
    "print(\"Derived Parameters:\", m.get_derived_parameters())\n",
    "print(\"Derived Variables:\", m.get_derived_variables())\n",
    "\n",
    "print(\"\\nMaking x1 dynamic\")\n",
    "m.make_parameter_dynamic(\"x1\")\n",
    "print(\"Derived Parameters:\", m.get_derived_parameters())\n",
    "print(\"Derived Variables:\", m.get_derived_variables())"
   ]
  },
  {
   "cell_type": "markdown",
   "metadata": {},
   "source": [
    "## Derived initial conditions\n",
    "\n",
    "MxlPy supports initial assignments. These are essentially derived values which are just calculated **once**.  "
   ]
  },
  {
   "cell_type": "code",
   "execution_count": null,
   "metadata": {},
   "outputs": [],
   "source": [
    "from mxlpy import fns\n",
    "from mxlpy.types import InitialAssignment\n",
    "\n",
    "(\n",
    "    Model()\n",
    "    .add_parameters(\n",
    "        {\n",
    "            \"k1\": 0.1,\n",
    "            \"k2\": InitialAssignment(fn=fns.twice, args=[\"k1\"]),\n",
    "        }\n",
    "    )\n",
    "    .add_variables(\n",
    "        {\n",
    "            \"v1\": 0.1,\n",
    "            \"v2\": InitialAssignment(fn=fns.proportional, args=[\"k2\", \"v1\"]),\n",
    "        }\n",
    "    )\n",
    ").get_args()"
   ]
  },
  {
   "cell_type": "markdown",
   "metadata": {},
   "source": [
    "## Data\n",
    "\n",
    "You can add references to data using `add_data`.  \n",
    "That way, you can, for example, dynamically derive aggregates over them. "
   ]
  },
  {
   "cell_type": "code",
   "execution_count": null,
   "metadata": {},
   "outputs": [],
   "source": [
    "import pandas as pd\n",
    "\n",
    "\n",
    "def average(light: pd.Series) -> float:\n",
    "    return light.mean()\n",
    "\n",
    "\n",
    "def model_data(light: pd.Series) -> Model:\n",
    "    return (\n",
    "        Model()\n",
    "        .add_data(\"light\", light)\n",
    "        .add_derived(\"averge_light\", average, args=[\"light\"])\n",
    "    )\n",
    "\n",
    "\n",
    "lights = pd.Series(\n",
    "    data={\"400nm\": 200, \"500nm\": 300, \"600nm\": 400},\n",
    "    dtype=float,\n",
    ")\n",
    "\n",
    "model_data(lights).get_args()"
   ]
  },
  {
   "cell_type": "code",
   "execution_count": null,
   "metadata": {},
   "outputs": [],
   "source": []
  }
 ],
 "metadata": {
  "kernelspec": {
   "display_name": "mxlpy",
   "language": "python",
   "name": "python3"
  },
  "language_info": {
   "codemirror_mode": {
    "name": "ipython",
    "version": 3
   },
   "file_extension": ".py",
   "mimetype": "text/x-python",
   "name": "python",
   "nbconvert_exporter": "python",
   "pygments_lexer": "ipython3",
   "version": "3.12.8"
  }
 },
 "nbformat": 4,
 "nbformat_minor": 4
}
