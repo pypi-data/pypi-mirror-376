{
 "cells": [
  {
   "cell_type": "markdown",
   "id": "f8661ee3",
   "metadata": {},
   "source": [
    "# Comparisons\n",
    "\n",
    "`mxlpy` provides simple routines to numerically compare two models.  \n",
    "For this, we use the `compare` module.   "
   ]
  },
  {
   "cell_type": "code",
   "execution_count": null,
   "id": "424f46c0",
   "metadata": {},
   "outputs": [],
   "source": [
    "import numpy as np\n",
    "\n",
    "from example_models import get_sir, get_sird\n",
    "from mxlpy import compare, make_protocol"
   ]
  },
  {
   "cell_type": "markdown",
   "id": "6808b483",
   "metadata": {},
   "source": [
    "## Steady-states\n",
    "\n",
    "You can compare the steady-states of two models using the `compare_steady_states` function."
   ]
  },
  {
   "cell_type": "code",
   "execution_count": null,
   "id": "9f40b799",
   "metadata": {},
   "outputs": [],
   "source": [
    "ssc = compare.steady_states(get_sir(), get_sird())"
   ]
  },
  {
   "cell_type": "markdown",
   "id": "eaa8273e",
   "metadata": {},
   "source": [
    "This returns a `SteadyStateComparison` object, for which you can either access the direct comparisons"
   ]
  },
  {
   "cell_type": "code",
   "execution_count": null,
   "id": "d0002337",
   "metadata": {},
   "outputs": [],
   "source": [
    "ssc.variables"
   ]
  },
  {
   "cell_type": "code",
   "execution_count": null,
   "id": "56d130d1",
   "metadata": {},
   "outputs": [],
   "source": [
    "ssc.fluxes"
   ]
  },
  {
   "cell_type": "markdown",
   "id": "951e4696",
   "metadata": {},
   "source": [
    "or plot the results\n"
   ]
  },
  {
   "cell_type": "code",
   "execution_count": null,
   "id": "6c1af979",
   "metadata": {},
   "outputs": [],
   "source": [
    "_ = ssc.plot_variables()\n",
    "_ = ssc.plot_fluxes()\n",
    "_ = ssc.plot_all()"
   ]
  },
  {
   "cell_type": "markdown",
   "id": "46e57875",
   "metadata": {},
   "source": [
    "## Time courses\n",
    "\n",
    "For comparing time courses, you can use the `compare_time_courses` function.  \n",
    "This returns a `TimeCourseComparison` object, which you can directly use to plot for example the relative differences of variables or fluxes.  "
   ]
  },
  {
   "cell_type": "code",
   "execution_count": null,
   "id": "eff8ca8a",
   "metadata": {},
   "outputs": [],
   "source": [
    "pc = compare.time_courses(\n",
    "    get_sir(),\n",
    "    get_sird(),\n",
    "    time_points=np.linspace(0, 100, 101),\n",
    ")\n",
    "\n",
    "_ = pc.plot_variables_relative_difference()\n",
    "_ = pc.plot_fluxes_relative_difference()"
   ]
  },
  {
   "cell_type": "markdown",
   "id": "e9e4bdb7",
   "metadata": {},
   "source": [
    "## Protocol time courses\n",
    "\n",
    "For comparing protocol time courses, you can use the `protocol_time_courses` function.  \n",
    "This returns a `ProtocolComparison` object, which you can directly use to plot for example the relative differences of variables or fluxes.  \n"
   ]
  },
  {
   "cell_type": "code",
   "execution_count": null,
   "id": "510c0d9c",
   "metadata": {},
   "outputs": [],
   "source": [
    "pc = compare.protocol_time_courses(\n",
    "    get_sir(),\n",
    "    get_sird(),\n",
    "    protocol=make_protocol(\n",
    "        [\n",
    "            (10, {\"beta\": 0.2}),\n",
    "            (10, {\"beta\": 1.0}),\n",
    "            (80, {\"beta\": 0.2}),\n",
    "        ]\n",
    "    ),\n",
    ")\n",
    "\n",
    "_ = pc.plot_variables_relative_difference()"
   ]
  },
  {
   "cell_type": "markdown",
   "id": "a1ea92a9",
   "metadata": {},
   "source": [
    "Optionally, if you want to indicate one of the protocol parameters on the plots, you can use the `shade_protocol_variable` argument"
   ]
  },
  {
   "cell_type": "code",
   "execution_count": null,
   "id": "fa27604e",
   "metadata": {},
   "outputs": [],
   "source": [
    "_ = pc.plot_variables_relative_difference(shade_protocol_variable=\"beta\")\n",
    "_ = pc.plot_fluxes_relative_difference(shade_protocol_variable=\"beta\")"
   ]
  },
  {
   "cell_type": "code",
   "execution_count": null,
   "id": "32bc9afd",
   "metadata": {},
   "outputs": [],
   "source": []
  }
 ],
 "metadata": {
  "kernelspec": {
   "display_name": "default",
   "language": "python",
   "name": "python3"
  },
  "language_info": {
   "codemirror_mode": {
    "name": "ipython",
    "version": 3
   },
   "file_extension": ".py",
   "mimetype": "text/x-python",
   "name": "python",
   "nbconvert_exporter": "python",
   "pygments_lexer": "ipython3",
   "version": "3.12.11"
  }
 },
 "nbformat": 4,
 "nbformat_minor": 5
}
