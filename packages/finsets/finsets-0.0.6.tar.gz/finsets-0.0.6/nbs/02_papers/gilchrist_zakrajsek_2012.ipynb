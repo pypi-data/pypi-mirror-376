{
 "cells": [
  {
   "cell_type": "markdown",
   "metadata": {},
   "source": [
    "# Gilchrist and Zakrajsek (2012)\n",
    "\n",
    "> Macro credit spread and excess bond premium"
   ]
  },
  {
   "cell_type": "markdown",
   "metadata": {},
   "source": [
    "This module downloads and processes data developed by:\n",
    "\n",
    "- Gilchrist, Simon, and Egon Zakrajšek. 2012. \"Credit Spreads and Business Cycle Fluctuations.\" American Economic Review 102 (4): 1692-1720. <https://doi.org/10.1257/aer.102.4.1692>"
   ]
  },
  {
   "cell_type": "code",
   "execution_count": null,
   "metadata": {},
   "outputs": [],
   "source": [
    "#| default_exp papers.gilchrist_zakrajsek_2012"
   ]
  },
  {
   "cell_type": "code",
   "execution_count": null,
   "metadata": {},
   "outputs": [],
   "source": [
    "#| export\n",
    "from __future__ import annotations\n",
    "import os\n",
    "\n",
    "import pandas as pd\n",
    "\n",
    "import pandasmore as pdm\n",
    "from finsets.fetch_tools import get_text_file_from_url"
   ]
  },
  {
   "cell_type": "code",
   "execution_count": null,
   "metadata": {},
   "outputs": [],
   "source": [
    "#| exports\n",
    "PROVIDER = 'Gilchrist, Simon, and Egon Zakrajšek, 2012'\n",
    "URL = 'https://www.federalreserve.gov/econres/notes/feds-notes/ebp_csv.csv'\n",
    "HOST_WEBSITE = 'https://www.federalreserve.gov/econres/notes/feds-notes/updating-the-recession-risk-and-the-excess-bond-premium-20161006.html'\n",
    "FREQ = 'M'\n",
    "MIN_YEAR = 1973\n",
    "MAX_YEAR = None\n",
    "TIME_VAR_IN_RAW_DSET = 'date'\n",
    "TIME_VAR_IN_CLEAN_DSET = f'{FREQ}date'"
   ]
  },
  {
   "cell_type": "code",
   "execution_count": null,
   "metadata": {},
   "outputs": [],
   "source": [
    "#| export\n",
    "def get_raw_data(url: str=URL, \n",
    "            nrows: int=None, # How many rows to download. If None, all rows are downloaded\n",
    "            delimiter: str=',',\n",
    "            headers: dict=None,\n",
    "            ) -> pd.DataFrame:\n",
    "    \"\"\"Download raw data from `url`\"\"\"\n",
    "    if headers is None: headers = {'User-Agent': os.getenv('USER_AGENT', None)}\n",
    "    if headers is None: print('No headers are provided. This may cause problems.')\n",
    "\n",
    "    return get_text_file_from_url(url, nrows=nrows, delimiter=delimiter, headers=headers)"
   ]
  },
  {
   "cell_type": "code",
   "execution_count": null,
   "metadata": {},
   "outputs": [],
   "source": [
    "#| eval: false\n",
    "raw = get_raw_data(nrows=3)"
   ]
  },
  {
   "cell_type": "code",
   "execution_count": null,
   "metadata": {},
   "outputs": [
    {
     "data": {
      "text/html": [
       "<div>\n",
       "<style scoped>\n",
       "    .dataframe tbody tr th:only-of-type {\n",
       "        vertical-align: middle;\n",
       "    }\n",
       "\n",
       "    .dataframe tbody tr th {\n",
       "        vertical-align: top;\n",
       "    }\n",
       "\n",
       "    .dataframe thead th {\n",
       "        text-align: right;\n",
       "    }\n",
       "</style>\n",
       "<table border=\"1\" class=\"dataframe\">\n",
       "  <thead>\n",
       "    <tr style=\"text-align: right;\">\n",
       "      <th></th>\n",
       "      <th>date</th>\n",
       "      <th>gz_spread</th>\n",
       "      <th>ebp</th>\n",
       "      <th>est_prob</th>\n",
       "    </tr>\n",
       "  </thead>\n",
       "  <tbody>\n",
       "    <tr>\n",
       "      <th>0</th>\n",
       "      <td>1973-01-01</td>\n",
       "      <td>1.101827</td>\n",
       "      <td>0.015875</td>\n",
       "      <td>0.229627</td>\n",
       "    </tr>\n",
       "    <tr>\n",
       "      <th>1</th>\n",
       "      <td>1973-02-01</td>\n",
       "      <td>1.045423</td>\n",
       "      <td>-0.001218</td>\n",
       "      <td>0.223800</td>\n",
       "    </tr>\n",
       "  </tbody>\n",
       "</table>\n",
       "</div>"
      ],
      "text/plain": [
       "         date  gz_spread       ebp  est_prob\n",
       "0  1973-01-01   1.101827  0.015875  0.229627\n",
       "1  1973-02-01   1.045423 -0.001218  0.223800"
      ]
     },
     "execution_count": null,
     "metadata": {},
     "output_type": "execute_result"
    }
   ],
   "source": [
    "#| eval: false\n",
    "raw"
   ]
  },
  {
   "cell_type": "code",
   "execution_count": null,
   "metadata": {},
   "outputs": [],
   "source": [
    "#| export\n",
    "def list_all_vars():\n",
    "    return pd.DataFrame(list(get_raw_data(nrows=1).columns), columns=['name'])"
   ]
  },
  {
   "cell_type": "code",
   "execution_count": null,
   "metadata": {},
   "outputs": [
    {
     "data": {
      "text/html": [
       "<div>\n",
       "<style scoped>\n",
       "    .dataframe tbody tr th:only-of-type {\n",
       "        vertical-align: middle;\n",
       "    }\n",
       "\n",
       "    .dataframe tbody tr th {\n",
       "        vertical-align: top;\n",
       "    }\n",
       "\n",
       "    .dataframe thead th {\n",
       "        text-align: right;\n",
       "    }\n",
       "</style>\n",
       "<table border=\"1\" class=\"dataframe\">\n",
       "  <thead>\n",
       "    <tr style=\"text-align: right;\">\n",
       "      <th></th>\n",
       "      <th>name</th>\n",
       "    </tr>\n",
       "  </thead>\n",
       "  <tbody>\n",
       "    <tr>\n",
       "      <th>0</th>\n",
       "      <td>date</td>\n",
       "    </tr>\n",
       "    <tr>\n",
       "      <th>1</th>\n",
       "      <td>gz_spread</td>\n",
       "    </tr>\n",
       "    <tr>\n",
       "      <th>2</th>\n",
       "      <td>ebp</td>\n",
       "    </tr>\n",
       "    <tr>\n",
       "      <th>3</th>\n",
       "      <td>est_prob</td>\n",
       "    </tr>\n",
       "  </tbody>\n",
       "</table>\n",
       "</div>"
      ],
      "text/plain": [
       "        name\n",
       "0       date\n",
       "1  gz_spread\n",
       "2        ebp\n",
       "3   est_prob"
      ]
     },
     "execution_count": null,
     "metadata": {},
     "output_type": "execute_result"
    }
   ],
   "source": [
    "#| eval: false\n",
    "list_all_vars()"
   ]
  },
  {
   "cell_type": "code",
   "execution_count": null,
   "metadata": {},
   "outputs": [],
   "source": [
    "#| export\n",
    "def process_raw_data(df: pd.DataFrame=None\n",
    "                     ) -> pd.DataFrame:\n",
    "    \n",
    "    return pdm.setup_tseries(df, time_var=TIME_VAR_IN_RAW_DSET, freq=FREQ)"
   ]
  },
  {
   "cell_type": "code",
   "execution_count": null,
   "metadata": {},
   "outputs": [
    {
     "data": {
      "text/html": [
       "<div>\n",
       "<style scoped>\n",
       "    .dataframe tbody tr th:only-of-type {\n",
       "        vertical-align: middle;\n",
       "    }\n",
       "\n",
       "    .dataframe tbody tr th {\n",
       "        vertical-align: top;\n",
       "    }\n",
       "\n",
       "    .dataframe thead th {\n",
       "        text-align: right;\n",
       "    }\n",
       "</style>\n",
       "<table border=\"1\" class=\"dataframe\">\n",
       "  <thead>\n",
       "    <tr style=\"text-align: right;\">\n",
       "      <th></th>\n",
       "      <th>date</th>\n",
       "      <th>dtdate</th>\n",
       "      <th>gz_spread</th>\n",
       "      <th>ebp</th>\n",
       "      <th>est_prob</th>\n",
       "    </tr>\n",
       "    <tr>\n",
       "      <th>Mdate</th>\n",
       "      <th></th>\n",
       "      <th></th>\n",
       "      <th></th>\n",
       "      <th></th>\n",
       "      <th></th>\n",
       "    </tr>\n",
       "  </thead>\n",
       "  <tbody>\n",
       "    <tr>\n",
       "      <th>1973-01</th>\n",
       "      <td>1973-01-01</td>\n",
       "      <td>1973-01-01</td>\n",
       "      <td>1.101827</td>\n",
       "      <td>0.015875</td>\n",
       "      <td>0.229627</td>\n",
       "    </tr>\n",
       "    <tr>\n",
       "      <th>1973-02</th>\n",
       "      <td>1973-02-01</td>\n",
       "      <td>1973-02-01</td>\n",
       "      <td>1.045423</td>\n",
       "      <td>-0.001218</td>\n",
       "      <td>0.223800</td>\n",
       "    </tr>\n",
       "  </tbody>\n",
       "</table>\n",
       "</div>"
      ],
      "text/plain": [
       "               date     dtdate  gz_spread       ebp  est_prob\n",
       "Mdate                                                        \n",
       "1973-01  1973-01-01 1973-01-01   1.101827  0.015875  0.229627\n",
       "1973-02  1973-02-01 1973-02-01   1.045423 -0.001218  0.223800"
      ]
     },
     "execution_count": null,
     "metadata": {},
     "output_type": "execute_result"
    }
   ],
   "source": [
    "#| eval: false\n",
    "clean = process_raw_data(raw)\n",
    "clean"
   ]
  },
  {
   "cell_type": "code",
   "execution_count": null,
   "metadata": {},
   "outputs": [],
   "source": [
    "#| hide\n",
    "import nbdev; nbdev.nbdev_export()"
   ]
  }
 ],
 "metadata": {
  "kernelspec": {
   "display_name": "python3",
   "language": "python",
   "name": "python3"
  }
 },
 "nbformat": 4,
 "nbformat_minor": 2
}
