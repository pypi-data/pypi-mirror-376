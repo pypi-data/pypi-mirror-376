{
 "cells": [
  {
   "cell_type": "markdown",
   "metadata": {},
   "source": [
    "# Dickerson, et al. (2023)\n",
    "\n",
    "> Bond returns and characteristics (TRACE only) from <https://openbondassetpricing.com/>"
   ]
  },
  {
   "cell_type": "markdown",
   "metadata": {},
   "source": [
    "This module downloads and processes data developed by:\n",
    "\n",
    "- Alexander Dickerson, Philippe Mueller, Cesare Robotti, 2023, “Priced risk in corporate bonds”  Journal of Financial Economics, 150 (2), pp.2135-2202. <https://doi.org/10.1016/j.jfineco.2023.103707>."
   ]
  },
  {
   "cell_type": "markdown",
   "metadata": {},
   "source": [
    "See the authors' dedicated website for more information on this dataset: <https://openbondassetpricing.com/>"
   ]
  },
  {
   "cell_type": "code",
   "execution_count": null,
   "metadata": {},
   "outputs": [],
   "source": [
    "#| default_exp papers.dickerson_etal_2023"
   ]
  },
  {
   "cell_type": "code",
   "execution_count": null,
   "metadata": {},
   "outputs": [],
   "source": [
    "#| export\n",
    "from __future__ import annotations\n",
    "\n",
    "import requests\n",
    "import gzip\n",
    "import zipfile\n",
    "import io\n",
    "import pandas as pd\n",
    "\n",
    "from finsets import wrds"
   ]
  },
  {
   "cell_type": "code",
   "execution_count": null,
   "metadata": {},
   "outputs": [],
   "source": [
    "#| exports\n",
    "PROVIDER = 'Alexander Dickerson, Philippe Mueller, Cesare Robotti, 2023'\n",
    "URL = 'https://openbondassetpricing.com/wp-content/uploads/2023/10/WRDS_MMN_Corrected_Data.csv.zip' #contains a gzip file inside a zip file\n",
    "GZ_FILE = 'WRDS_MMN_Corrected_Data.csv.gzip'\n",
    "HOST_WEBSITE = 'https://openbondassetpricing.com/'\n",
    "FREQ = 'M'\n",
    "MIN_YEAR = 2002\n",
    "MAX_YEAR = None\n",
    "ENTITY_ID_IN_RAW_DSET = 'cusip' # 9 digit cusip\n",
    "ENTITY_ID_IN_CLEAN_DSET = 'cusip'\n",
    "TIME_VAR_IN_RAW_DSET = 'date'\n",
    "TIME_VAR_IN_CLEAN_DSET = f'{FREQ}date'"
   ]
  },
  {
   "cell_type": "code",
   "execution_count": null,
   "metadata": {},
   "outputs": [],
   "source": [
    "#| export\n",
    "def get_raw_data(url: str=URL,\n",
    "                 gz_file: str=GZ_FILE, # Name of the gzip file inside the zip file found at `url` \n",
    "            ) -> pd.DataFrame:\n",
    "    \"\"\"Download raw data from `url`\"\"\"\n",
    "\n",
    "    response = requests.get(url)\n",
    "    if response.status_code == 200:\n",
    "        # Decompress the file first with zip and then with gzip\n",
    "        with io.BytesIO(response.content) as compressed_file:\n",
    "            with zipfile.ZipFile(compressed_file, 'r') as zip_ref:\n",
    "                with zip_ref.open(gz_file) as gzipped_file:\n",
    "                    with gzip.open(gzipped_file, 'rb') as final_gzip_file:\n",
    "                        df = pd.read_csv(io.BytesIO(final_gzip_file.read()), header=0, index_col=0)\n",
    "    else:\n",
    "        print(\"Failed to download the file. Status code:\", response.status_code)\n",
    "\n",
    "    return df"
   ]
  },
  {
   "cell_type": "code",
   "execution_count": null,
   "metadata": {},
   "outputs": [],
   "source": [
    "#| eval: false\n",
    "raw = get_raw_data()"
   ]
  },
  {
   "cell_type": "code",
   "execution_count": null,
   "metadata": {},
   "outputs": [
    {
     "data": {
      "text/html": [
       "<div>\n",
       "<style scoped>\n",
       "    .dataframe tbody tr th:only-of-type {\n",
       "        vertical-align: middle;\n",
       "    }\n",
       "\n",
       "    .dataframe tbody tr th {\n",
       "        vertical-align: top;\n",
       "    }\n",
       "\n",
       "    .dataframe thead th {\n",
       "        text-align: right;\n",
       "    }\n",
       "</style>\n",
       "<table border=\"1\" class=\"dataframe\">\n",
       "  <thead>\n",
       "    <tr style=\"text-align: right;\">\n",
       "      <th></th>\n",
       "      <th>date</th>\n",
       "      <th>cusip</th>\n",
       "      <th>exretn_t+1</th>\n",
       "      <th>exretnc_dur_t+1</th>\n",
       "      <th>bond_ret_t+1</th>\n",
       "      <th>bond_ret</th>\n",
       "      <th>exretn</th>\n",
       "      <th>exretnc_dur</th>\n",
       "      <th>rating</th>\n",
       "      <th>cs</th>\n",
       "      <th>...</th>\n",
       "      <th>BOND_YIELD</th>\n",
       "      <th>CS</th>\n",
       "      <th>BONDPRC</th>\n",
       "      <th>PRFULL</th>\n",
       "      <th>DURATION</th>\n",
       "      <th>CONVEXITY</th>\n",
       "      <th>bond_value</th>\n",
       "      <th>BOND_VALUE</th>\n",
       "      <th>dtdate</th>\n",
       "      <th>Mdate</th>\n",
       "    </tr>\n",
       "  </thead>\n",
       "  <tbody>\n",
       "  </tbody>\n",
       "</table>\n",
       "<p>0 rows × 35 columns</p>\n",
       "</div>"
      ],
      "text/plain": [
       "Empty DataFrame\n",
       "Columns: [date, cusip, exretn_t+1, exretnc_dur_t+1, bond_ret_t+1, bond_ret, exretn, exretnc_dur, rating, cs, bond_yield, bond_amount_out, offering_amt, bondprc, perc_par, tmt, duration, ind_num_17, sic_code, mom6_1, ltrev48_12, BOND_RET, ILLIQ, var95, n_trades_month, BOND_YIELD, CS, BONDPRC, PRFULL, DURATION, CONVEXITY, bond_value, BOND_VALUE, dtdate, Mdate]\n",
       "Index: []\n",
       "\n",
       "[0 rows x 35 columns]"
      ]
     },
     "execution_count": null,
     "metadata": {},
     "output_type": "execute_result"
    }
   ],
   "source": [
    "#| eval: false\n",
    "raw.head(0)"
   ]
  },
  {
   "cell_type": "code",
   "execution_count": null,
   "metadata": {},
   "outputs": [],
   "source": [
    "#| export\n",
    "def process_raw_data(df: pd.DataFrame=None,\n",
    "                     permno_to_bond_cusip: bool|pd.DataFrame=True, # Whether to download permno-cusip link. If DataFrame, must contain 'cusip'\n",
    "                     ) -> pd.DataFrame:\n",
    "    \"\"\"Cleans up dates and optionally adds CRSP permnos\"\"\"\n",
    "\n",
    "    df['dtdate'] = pd.to_datetime(df['date'])\n",
    "    df['Mdate'] = df['dtdate'].dt.to_period('M')    \n",
    "\n",
    "    if not permno_to_bond_cusip: return df\n",
    "    if permno_to_bond_cusip is True: permno_to_bond_cusip = wrds.linking.bond_cusip_permno()\n",
    "\n",
    "    df = df.merge(permno_to_bond_cusip, on=['cusip'], how='left')\n",
    "\n",
    "    for col in ['permno','permco']:\n",
    "        if col in df.columns: df[col] = df[col].astype('Int64').astype('category')\n",
    "\n",
    "    return df "
   ]
  },
  {
   "cell_type": "code",
   "execution_count": null,
   "metadata": {},
   "outputs": [],
   "source": [
    "#| eval: false\n",
    "clean = process_raw_data(raw)"
   ]
  },
  {
   "cell_type": "code",
   "execution_count": null,
   "metadata": {},
   "outputs": [
    {
     "data": {
      "text/html": [
       "<div>\n",
       "<style scoped>\n",
       "    .dataframe tbody tr th:only-of-type {\n",
       "        vertical-align: middle;\n",
       "    }\n",
       "\n",
       "    .dataframe tbody tr th {\n",
       "        vertical-align: top;\n",
       "    }\n",
       "\n",
       "    .dataframe thead th {\n",
       "        text-align: right;\n",
       "    }\n",
       "</style>\n",
       "<table border=\"1\" class=\"dataframe\">\n",
       "  <thead>\n",
       "    <tr style=\"text-align: right;\">\n",
       "      <th></th>\n",
       "      <th>date</th>\n",
       "      <th>cusip</th>\n",
       "      <th>exretn_t+1</th>\n",
       "      <th>exretnc_dur_t+1</th>\n",
       "      <th>bond_ret_t+1</th>\n",
       "      <th>bond_ret</th>\n",
       "      <th>exretn</th>\n",
       "      <th>exretnc_dur</th>\n",
       "      <th>rating</th>\n",
       "      <th>cs</th>\n",
       "      <th>...</th>\n",
       "      <th>dtdate</th>\n",
       "      <th>Mdate</th>\n",
       "      <th>permno</th>\n",
       "      <th>permco</th>\n",
       "      <th>trace_startdt</th>\n",
       "      <th>trace_enddt</th>\n",
       "      <th>crsp_startdt</th>\n",
       "      <th>crsp_enddt</th>\n",
       "      <th>link_startdt</th>\n",
       "      <th>link_enddt</th>\n",
       "    </tr>\n",
       "  </thead>\n",
       "  <tbody>\n",
       "  </tbody>\n",
       "</table>\n",
       "<p>0 rows × 43 columns</p>\n",
       "</div>"
      ],
      "text/plain": [
       "Empty DataFrame\n",
       "Columns: [date, cusip, exretn_t+1, exretnc_dur_t+1, bond_ret_t+1, bond_ret, exretn, exretnc_dur, rating, cs, bond_yield, bond_amount_out, offering_amt, bondprc, perc_par, tmt, duration, ind_num_17, sic_code, mom6_1, ltrev48_12, BOND_RET, ILLIQ, var95, n_trades_month, BOND_YIELD, CS, BONDPRC, PRFULL, DURATION, CONVEXITY, bond_value, BOND_VALUE, dtdate, Mdate, permno, permco, trace_startdt, trace_enddt, crsp_startdt, crsp_enddt, link_startdt, link_enddt]\n",
       "Index: []\n",
       "\n",
       "[0 rows x 43 columns]"
      ]
     },
     "execution_count": null,
     "metadata": {},
     "output_type": "execute_result"
    }
   ],
   "source": [
    "#| eval: false\n",
    "clean.head(0)"
   ]
  },
  {
   "cell_type": "code",
   "execution_count": null,
   "metadata": {},
   "outputs": [],
   "source": [
    "#| hide\n",
    "import nbdev; nbdev.nbdev_export()"
   ]
  }
 ],
 "metadata": {
  "kernelspec": {
   "display_name": "python3",
   "language": "python",
   "name": "python3"
  }
 },
 "nbformat": 4,
 "nbformat_minor": 2
}
