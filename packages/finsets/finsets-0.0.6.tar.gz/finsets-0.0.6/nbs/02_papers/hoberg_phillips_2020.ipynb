{
 "cells": [
  {
   "cell_type": "markdown",
   "metadata": {},
   "source": [
    "# Hoberg, Phillips (2010, 2016)\n",
    "\n",
    "> 10-K Text-based Network Industry Classifications (TNIC) data"
   ]
  },
  {
   "cell_type": "markdown",
   "metadata": {},
   "source": [
    "This module downloads and processes data developed by:\n",
    "\n",
    "- Text-Based Network Industries and Endogenous Product Differentiation. Gerard Hoberg and Gordon Phillips, 2016, Journal of Political Economy 124 (5), 1423-1465.\n",
    "- Product Market Synergies and Competition in Mergers and Acquisitions: A Text-Based Analysis.Gerard Hoberg and Gordon Phillips, 2010, Review of Financial Studies 23 (10), 3773-3811."
   ]
  },
  {
   "cell_type": "markdown",
   "metadata": {},
   "source": [
    "See the authors' dedicated website for more information on this dataset: <https://hobergphillips.tuck.dartmouth.edu/industryclass.htm>"
   ]
  },
  {
   "cell_type": "code",
   "execution_count": null,
   "metadata": {},
   "outputs": [],
   "source": [
    "#| default_exp papers.hoberg_phillips_2010"
   ]
  },
  {
   "cell_type": "code",
   "execution_count": null,
   "metadata": {},
   "outputs": [],
   "source": [
    "#| export\n",
    "from __future__ import annotations\n",
    "from pathlib import Path \n",
    "import os\n",
    "\n",
    "import requests\n",
    "import zipfile\n",
    "import io\n",
    "import pandas as pd\n",
    "\n",
    "from finsets import wrds"
   ]
  },
  {
   "cell_type": "code",
   "execution_count": null,
   "metadata": {},
   "outputs": [],
   "source": [
    "#| exports\n",
    "PROVIDER = 'Gerard Hoberg and Gordon Phillips, 2010, 2016'\n",
    "URL = 'https://hobergphillips.tuck.dartmouth.edu/idata/tnic3_data.zip' \n",
    "TXT_FILE = 'tnic3_data.txt'\n",
    "HOST_WEBSITE = 'https://hobergphillips.tuck.dartmouth.edu/industryclass.htm'\n",
    "FREQ = 'A'\n",
    "MIN_YEAR = 1989\n",
    "MAX_YEAR = 2021\n",
    "ENTITY_ID_IN_RAW_DSET = 'gvkey' \n",
    "ENTITY_ID_IN_CLEAN_DSET = 'gvkey' \n",
    "TIME_VAR_IN_RAW_DSET = 'date'\n",
    "TIME_VAR_IN_CLEAN_DSET = f'{FREQ}date'"
   ]
  },
  {
   "cell_type": "code",
   "execution_count": null,
   "metadata": {},
   "outputs": [],
   "source": [
    "#| eval: false\n",
    "#| hide\n",
    "DATA_REPO = Path(os.getenv('DATA_REPO')) #path to folder with all needed datasets (the four below)\n",
    "\n",
    "SAVE_PATH_RAW = DATA_REPO/'finsets/papers/hoberg_phillips_2010/raw.parquet'\n",
    "SAVE_PATH_PROCESSED = DATA_REPO/'finsets/papers/hoberg_phillips_2010/processed.pkl.zip'"
   ]
  },
  {
   "cell_type": "code",
   "execution_count": null,
   "metadata": {},
   "outputs": [],
   "source": [
    "#| export\n",
    "def get_raw_data(url: str=URL,\n",
    "                 txt_file: str=TXT_FILE, # Name of the data txt file inside the zip file found at `url` \n",
    "            ) -> pd.DataFrame:\n",
    "    \"\"\"Download raw data from `url`\"\"\"\n",
    "\n",
    "    response = requests.get(url)\n",
    "    if response.status_code == 200:\n",
    "        # Decompress the file first with zip\n",
    "        with io.BytesIO(response.content) as compressed_file:\n",
    "            with zipfile.ZipFile(compressed_file, 'r') as zip_ref:\n",
    "                with zip_ref.open(txt_file) as data_file:\n",
    "                    df = pd.read_csv(io.BytesIO(data_file.read()),delimiter='\\t' ,header=0)\n",
    "    else:\n",
    "        print(\"Failed to download the file. Status code:\", response.status_code)\n",
    "    \n",
    "    return df"
   ]
  },
  {
   "cell_type": "code",
   "execution_count": null,
   "metadata": {},
   "outputs": [],
   "source": [
    "#| eval: false\n",
    "raw = get_raw_data()"
   ]
  },
  {
   "cell_type": "code",
   "execution_count": null,
   "metadata": {},
   "outputs": [],
   "source": [
    "#| eval: false\n",
    "#| hide\n",
    "if SAVE_PATH_RAW:\n",
    "    os.makedirs(SAVE_PATH_RAW.parent, exist_ok=True)\n",
    "    raw.to_parquet(SAVE_PATH_RAW)"
   ]
  },
  {
   "cell_type": "code",
   "execution_count": null,
   "metadata": {},
   "outputs": [],
   "source": [
    "#| export\n",
    "def process_raw_data(df: pd.DataFrame=None,\n",
    "                     gvkey_to_permno: bool|pd.DataFrame=True, # Whether to download permno-gvkey link. If DataFrame, must contain 'gvkey'\n",
    "                     ) -> pd.DataFrame:\n",
    "    \"\"\"Cleans up dates and optionally adds CRSP permnos\"\"\"\n",
    "\n",
    "    df['Adate'] = pd.to_datetime(df.year.astype('string'), format=\"%Y\").dt.to_period('A')\n",
    "    df = df.drop('year',axis=1).dropna().copy()\n",
    "\n",
    "    if not gvkey_to_permno: return df\n",
    "    if gvkey_to_permno is True: permnos = wrds.linking.gvkey_permno_a()\n",
    "    permnos['gvkey'] = permnos.gvkey.astype('int64')\n",
    "\n",
    "    df = (df.merge(permnos.rename(columns={'permno':'permno1', 'gvkey':'gvkey1'}), how='left', on=['Adate','gvkey1'])\n",
    "            .merge(permnos.rename(columns={'permno':'permno2', 'gvkey':'gvkey2'}), how='left', on=['Adate','gvkey2']))\n",
    "    return df "
   ]
  },
  {
   "cell_type": "code",
   "execution_count": null,
   "metadata": {},
   "outputs": [],
   "source": [
    "#| eval: false\n",
    "clean = process_raw_data(raw)"
   ]
  },
  {
   "cell_type": "code",
   "execution_count": null,
   "metadata": {},
   "outputs": [
    {
     "data": {
      "text/html": [
       "<div>\n",
       "<style scoped>\n",
       "    .dataframe tbody tr th:only-of-type {\n",
       "        vertical-align: middle;\n",
       "    }\n",
       "\n",
       "    .dataframe tbody tr th {\n",
       "        vertical-align: top;\n",
       "    }\n",
       "\n",
       "    .dataframe thead th {\n",
       "        text-align: right;\n",
       "    }\n",
       "</style>\n",
       "<table border=\"1\" class=\"dataframe\">\n",
       "  <thead>\n",
       "    <tr style=\"text-align: right;\">\n",
       "      <th></th>\n",
       "      <th>gvkey1</th>\n",
       "      <th>gvkey2</th>\n",
       "      <th>score</th>\n",
       "      <th>Adate</th>\n",
       "      <th>permno1</th>\n",
       "      <th>permno2</th>\n",
       "    </tr>\n",
       "  </thead>\n",
       "  <tbody>\n",
       "    <tr>\n",
       "      <th>0</th>\n",
       "      <td>1011</td>\n",
       "      <td>3226</td>\n",
       "      <td>0.1508</td>\n",
       "      <td>1988</td>\n",
       "      <td>10082</td>\n",
       "      <td>25022</td>\n",
       "    </tr>\n",
       "    <tr>\n",
       "      <th>1</th>\n",
       "      <td>1011</td>\n",
       "      <td>6282</td>\n",
       "      <td>0.0851</td>\n",
       "      <td>1988</td>\n",
       "      <td>10082</td>\n",
       "      <td>46747</td>\n",
       "    </tr>\n",
       "    <tr>\n",
       "      <th>2</th>\n",
       "      <td>1011</td>\n",
       "      <td>6734</td>\n",
       "      <td>0.0258</td>\n",
       "      <td>1988</td>\n",
       "      <td>10082</td>\n",
       "      <td>49606</td>\n",
       "    </tr>\n",
       "    <tr>\n",
       "      <th>3</th>\n",
       "      <td>1011</td>\n",
       "      <td>7609</td>\n",
       "      <td>0.0097</td>\n",
       "      <td>1988</td>\n",
       "      <td>10082</td>\n",
       "      <td>12058</td>\n",
       "    </tr>\n",
       "    <tr>\n",
       "      <th>4</th>\n",
       "      <td>1011</td>\n",
       "      <td>9526</td>\n",
       "      <td>0.0369</td>\n",
       "      <td>1988</td>\n",
       "      <td>10082</td>\n",
       "      <td>69519</td>\n",
       "    </tr>\n",
       "    <tr>\n",
       "      <th>...</th>\n",
       "      <td>...</td>\n",
       "      <td>...</td>\n",
       "      <td>...</td>\n",
       "      <td>...</td>\n",
       "      <td>...</td>\n",
       "      <td>...</td>\n",
       "    </tr>\n",
       "    <tr>\n",
       "      <th>25479601</th>\n",
       "      <td>349972</td>\n",
       "      <td>322154</td>\n",
       "      <td>0.0444</td>\n",
       "      <td>2021</td>\n",
       "      <td>15642</td>\n",
       "      <td>22523</td>\n",
       "    </tr>\n",
       "    <tr>\n",
       "      <th>25479602</th>\n",
       "      <td>349972</td>\n",
       "      <td>331856</td>\n",
       "      <td>0.0169</td>\n",
       "      <td>2021</td>\n",
       "      <td>15642</td>\n",
       "      <td>14615</td>\n",
       "    </tr>\n",
       "    <tr>\n",
       "      <th>25479603</th>\n",
       "      <td>349972</td>\n",
       "      <td>332115</td>\n",
       "      <td>0.0214</td>\n",
       "      <td>2021</td>\n",
       "      <td>15642</td>\n",
       "      <td>80577</td>\n",
       "    </tr>\n",
       "    <tr>\n",
       "      <th>25479604</th>\n",
       "      <td>349972</td>\n",
       "      <td>345556</td>\n",
       "      <td>0.0781</td>\n",
       "      <td>2021</td>\n",
       "      <td>15642</td>\n",
       "      <td>16069</td>\n",
       "    </tr>\n",
       "    <tr>\n",
       "      <th>25479605</th>\n",
       "      <td>349972</td>\n",
       "      <td>347007</td>\n",
       "      <td>0.0711</td>\n",
       "      <td>2021</td>\n",
       "      <td>15642</td>\n",
       "      <td>15533</td>\n",
       "    </tr>\n",
       "  </tbody>\n",
       "</table>\n",
       "<p>25479606 rows × 6 columns</p>\n",
       "</div>"
      ],
      "text/plain": [
       "          gvkey1  gvkey2   score Adate  permno1  permno2\n",
       "0           1011    3226  0.1508  1988    10082    25022\n",
       "1           1011    6282  0.0851  1988    10082    46747\n",
       "2           1011    6734  0.0258  1988    10082    49606\n",
       "3           1011    7609  0.0097  1988    10082    12058\n",
       "4           1011    9526  0.0369  1988    10082    69519\n",
       "...          ...     ...     ...   ...      ...      ...\n",
       "25479601  349972  322154  0.0444  2021    15642    22523\n",
       "25479602  349972  331856  0.0169  2021    15642    14615\n",
       "25479603  349972  332115  0.0214  2021    15642    80577\n",
       "25479604  349972  345556  0.0781  2021    15642    16069\n",
       "25479605  349972  347007  0.0711  2021    15642    15533\n",
       "\n",
       "[25479606 rows x 6 columns]"
      ]
     },
     "execution_count": null,
     "metadata": {},
     "output_type": "execute_result"
    }
   ],
   "source": [
    "#| eval: false\n",
    "clean"
   ]
  },
  {
   "cell_type": "code",
   "execution_count": null,
   "metadata": {},
   "outputs": [],
   "source": [
    "#| eval: false\n",
    "#| hide\n",
    "if SAVE_PATH_PROCESSED:\n",
    "    os.makedirs(SAVE_PATH_PROCESSED.parent, exist_ok=True)\n",
    "    clean.to_pickle(SAVE_PATH_PROCESSED)"
   ]
  },
  {
   "cell_type": "code",
   "execution_count": null,
   "metadata": {},
   "outputs": [],
   "source": [
    "#| hide\n",
    "import nbdev; nbdev.nbdev_export()"
   ]
  }
 ],
 "metadata": {
  "kernelspec": {
   "display_name": "python3",
   "language": "python",
   "name": "python3"
  }
 },
 "nbformat": 4,
 "nbformat_minor": 2
}
