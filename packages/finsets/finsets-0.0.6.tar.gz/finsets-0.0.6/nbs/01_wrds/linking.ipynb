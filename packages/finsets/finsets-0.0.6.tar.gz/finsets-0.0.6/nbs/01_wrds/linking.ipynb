{
 "cells": [
  {
   "attachments": {},
   "cell_type": "markdown",
   "metadata": {},
   "source": [
    "# linking\n",
    "\n",
    "> WRDS Concordances"
   ]
  },
  {
   "attachments": {},
   "cell_type": "markdown",
   "metadata": {},
   "source": [
    "Since WRDS is a subscription service, in the documentation below, I can not show any of the data that is being retrieved/generated (will show only column names)."
   ]
  },
  {
   "cell_type": "code",
   "execution_count": null,
   "metadata": {},
   "outputs": [],
   "source": [
    "#| default_exp wrds.linking"
   ]
  },
  {
   "cell_type": "code",
   "execution_count": null,
   "metadata": {},
   "outputs": [],
   "source": [
    "#| exports\n",
    "import pandas as pd\n",
    "\n",
    "import pandasmore as pdm\n",
    "from finsets.wrds import wrds_api"
   ]
  },
  {
   "attachments": {},
   "cell_type": "markdown",
   "metadata": {},
   "source": [
    "## Merging CRSP and COMPUSTAT"
   ]
  },
  {
   "attachments": {},
   "cell_type": "markdown",
   "metadata": {},
   "source": [
    "Official documentation for this merge is [here](https://wrds-www.wharton.upenn.edu/pages/wrds-research/applications/linking-databases/linking-crsp-and-compustat/)\n",
    "\n",
    "Relevant information from that site:\n",
    "\n",
    "- Because TICKERs and CUSIPs change over time, most datasets use permanent identifiers to indicate the same securities and companies. For example, CRSP employs PERMNO to track stocks, Compustat uses GVKEY to follow companies, and a combination of GVKEY and IID is used to track securities. As indicated in the preceding table, both PERMNO and GVKEY (+IID) remain the same, regardless of changes in TICKER, CUSIP, and company names.\n",
    "\n",
    "- The CRSP/Compustat Merged Database (CCM) is comprised of CRSP and Compustat data, together with the link and link-history references between these two databases. The key product of CCM is a permanent identifier linking table (PERMNO to GVKEY+IID), though CCM is often wrongly mistaken as the merged product of CRSP stock market data with Compustat accounting data. From an end user’s perspective, CCM only adds a link of PERMNO and PERMCO to the Compustat database, so that Compustat items can be searched by CRSP identifiers.\n",
    "\n",
    "\n",
    "LinkType: A code describing the connection between the CRSP and Compustat data.\n",
    "\n",
    "- LU: Link research complete. Standard connection between databases.\n",
    "- LC: Non-researched link to issue by CUSIP.\n",
    "- LD: Duplicate link to a security. Another GVKEY/IID is a better link to that CRSP record.\n",
    "\n",
    "LinkPrim: Primary issue indicator for the link.\n",
    "\n",
    "- P: Primary, identified by Compustat in monthly security data.\n",
    "- C: Primary, assigned by CRSP to resolve ranges of overlapping or missing primary markers from Compustat in order to produce one primary security throughout the company history.\n",
    "\n",
    "LINKDT: The first effective date of the link.\n",
    "\n",
    "LINKENDDT: The last date when the link is valid. For a currently valid link, LINKENDDT is set to a NULL value (.E in SAS format)."
   ]
  },
  {
   "cell_type": "code",
   "execution_count": null,
   "metadata": {},
   "outputs": [],
   "source": [
    "#| export\n",
    "def gvkey_permno_m(nrows: int=None, #Number of rows to download. If None, full dataset will be downloaded\n",
    "                   ) -> pd.DataFrame:\n",
    "    \"\"\"CRSP Monthly ids, with gvkeys\"\"\"\n",
    "\n",
    "    limit_clause = f\"LIMIT {nrows}\" if nrows is not None else \"\"\n",
    "    sql_string=f\"\"\"SELECT a.date, a.permno, c.gvkey\n",
    "                  FROM crsp.msf a\n",
    "                  INNER JOIN crsp.msenames b ON a.permno = b.permno\n",
    "                                             AND a.date BETWEEN b.namedt AND b.nameendt \n",
    "                  INNER JOIN crsp.ccmxpf_lnkhist c ON a.permno = c.lpermno \n",
    "                                                   AND c.linktype IN ('LU','LC') AND c.linkprim IN ('P','C')\n",
    "                                                   AND a.date BETWEEN c.linkdt AND COALESCE(c.linkenddt, CURRENT_DATE)\n",
    "                    {limit_clause}                                   \n",
    "                \"\"\"\n",
    "    \n",
    "    df = wrds_api.download(sql_string)\n",
    "    df = pdm.setup_panel(df, panel_ids='permno', time_var='date', freq='M',\n",
    "                         drop_index_duplicates=True, duplicates_which_keep='last')\n",
    "    df['gvkey'] = df['gvkey'].astype('string')\n",
    "    return df.reset_index()[['permno','Mdate','gvkey']].copy()  "
   ]
  },
  {
   "cell_type": "code",
   "execution_count": null,
   "metadata": {},
   "outputs": [
    {
     "name": "stdout",
     "output_type": "stream",
     "text": [
      "Loading library list...\n",
      "Done\n"
     ]
    }
   ],
   "source": [
    "#| eval: false\n",
    "df = gvkey_permno_m(nrows=1)"
   ]
  },
  {
   "cell_type": "code",
   "execution_count": null,
   "metadata": {},
   "outputs": [
    {
     "data": {
      "text/html": [
       "<div>\n",
       "<style scoped>\n",
       "    .dataframe tbody tr th:only-of-type {\n",
       "        vertical-align: middle;\n",
       "    }\n",
       "\n",
       "    .dataframe tbody tr th {\n",
       "        vertical-align: top;\n",
       "    }\n",
       "\n",
       "    .dataframe thead th {\n",
       "        text-align: right;\n",
       "    }\n",
       "</style>\n",
       "<table border=\"1\" class=\"dataframe\">\n",
       "  <thead>\n",
       "    <tr style=\"text-align: right;\">\n",
       "      <th></th>\n",
       "      <th>permno</th>\n",
       "      <th>Mdate</th>\n",
       "      <th>gvkey</th>\n",
       "    </tr>\n",
       "  </thead>\n",
       "  <tbody>\n",
       "    <tr>\n",
       "      <th>0</th>\n",
       "      <td>10000</td>\n",
       "      <td>1986-01</td>\n",
       "      <td>013007</td>\n",
       "    </tr>\n",
       "  </tbody>\n",
       "</table>\n",
       "</div>"
      ],
      "text/plain": [
       "   permno    Mdate   gvkey\n",
       "0   10000  1986-01  013007"
      ]
     },
     "execution_count": null,
     "metadata": {},
     "output_type": "execute_result"
    }
   ],
   "source": [
    "#| eval: false\n",
    "df"
   ]
  },
  {
   "cell_type": "code",
   "execution_count": null,
   "metadata": {},
   "outputs": [],
   "source": [
    "#| export\n",
    "def gvkey_permno_a(nrows: int=None, #Number of rows to download. If None, full dataset will be downloaded\n",
    "                   ) -> pd.DataFrame:\n",
    "    \"\"\"qvkey to permno correspondence at the annual frequency. As done by CCM.\"\"\"\n",
    "\n",
    "    limit_clause = f\"LIMIT {nrows}\" if nrows is not None else \"\"\n",
    "    sql_string=f\"\"\"SELECT a.datadate, a.gvkey , b.lpermno as permno\n",
    "                    FROM comp.funda a\n",
    "                    INNER JOIN crsp.ccmxpf_lnkhist  b ON a.gvkey = b.gvkey\n",
    "                    WHERE datadate BETWEEN b.linkdt AND COALESCE(b.linkenddt, CURRENT_DATE)\n",
    "                            AND b.linktype IN ('LU','LC') AND b.linkprim IN ('P','C')\n",
    "                            AND indfmt='INDL' AND datafmt='STD' AND popsrc='D' AND consol='C'\n",
    "                    {limit_clause}            \n",
    "                \"\"\"\n",
    "    \n",
    "    df = wrds_api.download(sql_string)\n",
    "    df = pdm.setup_panel(df, panel_ids='permno', time_var='datadate', freq='Y',\n",
    "                         drop_index_duplicates=True, duplicates_which_keep='last')\n",
    "    df['gvkey'] = df['gvkey'].astype('string')\n",
    "    return df.reset_index()[['permno','Ydate','gvkey']].copy()  "
   ]
  },
  {
   "cell_type": "code",
   "execution_count": null,
   "metadata": {},
   "outputs": [
    {
     "name": "stdout",
     "output_type": "stream",
     "text": [
      "Loading library list...\n",
      "Done\n"
     ]
    }
   ],
   "source": [
    "#| eval: false\n",
    "df = gvkey_permno_a(nrows=1)"
   ]
  },
  {
   "cell_type": "code",
   "execution_count": null,
   "metadata": {},
   "outputs": [
    {
     "data": {
      "text/html": [
       "<div>\n",
       "<style scoped>\n",
       "    .dataframe tbody tr th:only-of-type {\n",
       "        vertical-align: middle;\n",
       "    }\n",
       "\n",
       "    .dataframe tbody tr th {\n",
       "        vertical-align: top;\n",
       "    }\n",
       "\n",
       "    .dataframe thead th {\n",
       "        text-align: right;\n",
       "    }\n",
       "</style>\n",
       "<table border=\"1\" class=\"dataframe\">\n",
       "  <thead>\n",
       "    <tr style=\"text-align: right;\">\n",
       "      <th></th>\n",
       "      <th>permno</th>\n",
       "      <th>Ydate</th>\n",
       "      <th>gvkey</th>\n",
       "    </tr>\n",
       "  </thead>\n",
       "  <tbody>\n",
       "    <tr>\n",
       "      <th>0</th>\n",
       "      <td>25881</td>\n",
       "      <td>1970</td>\n",
       "      <td>001000</td>\n",
       "    </tr>\n",
       "  </tbody>\n",
       "</table>\n",
       "</div>"
      ],
      "text/plain": [
       "   permno Ydate   gvkey\n",
       "0   25881  1970  001000"
      ]
     },
     "execution_count": null,
     "metadata": {},
     "output_type": "execute_result"
    }
   ],
   "source": [
    "#| eval: false\n",
    "df"
   ]
  },
  {
   "cell_type": "code",
   "execution_count": null,
   "metadata": {},
   "outputs": [],
   "source": [
    "#| export\n",
    "def gvkey_permno_q(nrows : int=None, #Number of rows to download. If None, full dataset will be downloaded\n",
    "                   ) -> pd.DataFrame:\n",
    "    \"\"\"qvkey to permno correspondence at the quarterly frequency. As done by CCM.\"\"\"\n",
    "    \n",
    "    limit_clause = f\"LIMIT {nrows}\" if nrows is not None else \"\"\n",
    "    sql_string=f\"\"\"SELECT a.datadate, a.gvkey , b.lpermno as permno\n",
    "                    FROM comp.fundq a\n",
    "                    INNER JOIN crsp.ccmxpf_lnkhist  b ON a.gvkey = b.gvkey\n",
    "                    WHERE datadate BETWEEN b.linkdt AND COALESCE(b.linkenddt, CURRENT_DATE)\n",
    "                            AND b.linktype IN ('LU','LC') AND b.linkprim IN ('P','C')\n",
    "                            AND indfmt='INDL' AND datafmt='STD' AND popsrc='D' AND consol='C'            \n",
    "                    {limit_clause}\n",
    "                \"\"\"\n",
    "    \n",
    "    df = wrds_api.download(sql_string)\n",
    "    df = pdm.setup_panel(df, panel_ids='permno', time_var='datadate', freq='Q',\n",
    "                         drop_index_duplicates=True, duplicates_which_keep='last')\n",
    "    df['gvkey'] = df['gvkey'].astype('string')\n",
    "    return df.reset_index()[['permno','Qdate','gvkey']].copy()    "
   ]
  },
  {
   "cell_type": "code",
   "execution_count": null,
   "metadata": {},
   "outputs": [
    {
     "name": "stdout",
     "output_type": "stream",
     "text": [
      "Loading library list...\n",
      "Done\n"
     ]
    }
   ],
   "source": [
    "#| eval: false\n",
    "df = gvkey_permno_q(nrows=1)"
   ]
  },
  {
   "cell_type": "code",
   "execution_count": null,
   "metadata": {},
   "outputs": [
    {
     "data": {
      "text/html": [
       "<div>\n",
       "<style scoped>\n",
       "    .dataframe tbody tr th:only-of-type {\n",
       "        vertical-align: middle;\n",
       "    }\n",
       "\n",
       "    .dataframe tbody tr th {\n",
       "        vertical-align: top;\n",
       "    }\n",
       "\n",
       "    .dataframe thead th {\n",
       "        text-align: right;\n",
       "    }\n",
       "</style>\n",
       "<table border=\"1\" class=\"dataframe\">\n",
       "  <thead>\n",
       "    <tr style=\"text-align: right;\">\n",
       "      <th></th>\n",
       "      <th>permno</th>\n",
       "      <th>Qdate</th>\n",
       "      <th>gvkey</th>\n",
       "    </tr>\n",
       "  </thead>\n",
       "  <tbody>\n",
       "    <tr>\n",
       "      <th>0</th>\n",
       "      <td>25881</td>\n",
       "      <td>1970Q4</td>\n",
       "      <td>001000</td>\n",
       "    </tr>\n",
       "  </tbody>\n",
       "</table>\n",
       "</div>"
      ],
      "text/plain": [
       "   permno   Qdate   gvkey\n",
       "0   25881  1970Q4  001000"
      ]
     },
     "execution_count": null,
     "metadata": {},
     "output_type": "execute_result"
    }
   ],
   "source": [
    "#| eval: false\n",
    "df"
   ]
  },
  {
   "cell_type": "markdown",
   "metadata": {},
   "source": [
    "## Merging IBES and CRSP"
   ]
  },
  {
   "cell_type": "code",
   "execution_count": null,
   "metadata": {},
   "outputs": [],
   "source": [
    "#| export\n",
    "def ibes_ticker_permno(nrows: int=None):\n",
    "    limit_clause = ''\n",
    "    if nrows is not None: limit_clause = f' LIMIT {nrows}'\n",
    "    return wrds_api.download('SELECT * FROM wrdsapps_link_crsp_ibes.ibcrsphist' + limit_clause)"
   ]
  },
  {
   "cell_type": "code",
   "execution_count": null,
   "metadata": {},
   "outputs": [
    {
     "name": "stdout",
     "output_type": "stream",
     "text": [
      "Loading library list...\n",
      "Done\n"
     ]
    }
   ],
   "source": [
    "#| eval: false\n",
    "ibes_permnos = ibes_ticker_permno(nrows=1)"
   ]
  },
  {
   "cell_type": "code",
   "execution_count": null,
   "metadata": {},
   "outputs": [
    {
     "data": {
      "text/html": [
       "<div>\n",
       "<style scoped>\n",
       "    .dataframe tbody tr th:only-of-type {\n",
       "        vertical-align: middle;\n",
       "    }\n",
       "\n",
       "    .dataframe tbody tr th {\n",
       "        vertical-align: top;\n",
       "    }\n",
       "\n",
       "    .dataframe thead th {\n",
       "        text-align: right;\n",
       "    }\n",
       "</style>\n",
       "<table border=\"1\" class=\"dataframe\">\n",
       "  <thead>\n",
       "    <tr style=\"text-align: right;\">\n",
       "      <th></th>\n",
       "      <th>ticker</th>\n",
       "      <th>permno</th>\n",
       "      <th>ncusip</th>\n",
       "      <th>sdate</th>\n",
       "      <th>edate</th>\n",
       "      <th>score</th>\n",
       "    </tr>\n",
       "  </thead>\n",
       "  <tbody>\n",
       "    <tr>\n",
       "      <th>0</th>\n",
       "      <td>0000</td>\n",
       "      <td>14471</td>\n",
       "      <td>87482X10</td>\n",
       "      <td>2014-02-20</td>\n",
       "      <td>2016-08-31</td>\n",
       "      <td>1.0</td>\n",
       "    </tr>\n",
       "  </tbody>\n",
       "</table>\n",
       "</div>"
      ],
      "text/plain": [
       "  ticker  permno    ncusip       sdate       edate  score\n",
       "0   0000   14471  87482X10  2014-02-20  2016-08-31    1.0"
      ]
     },
     "execution_count": null,
     "metadata": {},
     "output_type": "execute_result"
    }
   ],
   "source": [
    "#| eval: false\n",
    "ibes_permnos"
   ]
  },
  {
   "cell_type": "markdown",
   "metadata": {},
   "source": [
    "## Merging TRACE Bond Data with CRSP"
   ]
  },
  {
   "cell_type": "code",
   "execution_count": null,
   "metadata": {},
   "outputs": [],
   "source": [
    "#| export \n",
    "def bond_cusip_permno(nrows: int=None):\n",
    "    limit_clause = ''\n",
    "    if nrows is not None: limit_clause = f' LIMIT {nrows}'\n",
    "    return wrds_api.download('SELECT * FROM wrdsapps.bondcrsp_link' + limit_clause)"
   ]
  },
  {
   "cell_type": "code",
   "execution_count": null,
   "metadata": {},
   "outputs": [
    {
     "name": "stdout",
     "output_type": "stream",
     "text": [
      "Loading library list...\n",
      "Done\n"
     ]
    }
   ],
   "source": [
    "#| eval: false\n",
    "cusip_permnos = bond_cusip_permno(nrows=1)"
   ]
  },
  {
   "cell_type": "code",
   "execution_count": null,
   "metadata": {},
   "outputs": [
    {
     "data": {
      "text/html": [
       "<div>\n",
       "<style scoped>\n",
       "    .dataframe tbody tr th:only-of-type {\n",
       "        vertical-align: middle;\n",
       "    }\n",
       "\n",
       "    .dataframe tbody tr th {\n",
       "        vertical-align: top;\n",
       "    }\n",
       "\n",
       "    .dataframe thead th {\n",
       "        text-align: right;\n",
       "    }\n",
       "</style>\n",
       "<table border=\"1\" class=\"dataframe\">\n",
       "  <thead>\n",
       "    <tr style=\"text-align: right;\">\n",
       "      <th></th>\n",
       "      <th>cusip</th>\n",
       "      <th>permno</th>\n",
       "      <th>permco</th>\n",
       "      <th>trace_startdt</th>\n",
       "      <th>trace_enddt</th>\n",
       "      <th>crsp_startdt</th>\n",
       "      <th>crsp_enddt</th>\n",
       "      <th>link_startdt</th>\n",
       "      <th>link_enddt</th>\n",
       "    </tr>\n",
       "  </thead>\n",
       "  <tbody>\n",
       "    <tr>\n",
       "      <th>0</th>\n",
       "      <td>000336AC1</td>\n",
       "      <td>60687</td>\n",
       "      <td>21372</td>\n",
       "      <td>2014-08-22</td>\n",
       "      <td>2014-08-22</td>\n",
       "      <td>2002-01-02</td>\n",
       "      <td>2024-12-31</td>\n",
       "      <td>2014-08-22</td>\n",
       "      <td>2014-08-22</td>\n",
       "    </tr>\n",
       "  </tbody>\n",
       "</table>\n",
       "</div>"
      ],
      "text/plain": [
       "       cusip  permno  permco trace_startdt trace_enddt crsp_startdt  \\\n",
       "0  000336AC1   60687   21372    2014-08-22  2014-08-22   2002-01-02   \n",
       "\n",
       "   crsp_enddt link_startdt  link_enddt  \n",
       "0  2024-12-31   2014-08-22  2014-08-22  "
      ]
     },
     "execution_count": null,
     "metadata": {},
     "output_type": "execute_result"
    }
   ],
   "source": [
    "#| eval: false\n",
    "cusip_permnos"
   ]
  },
  {
   "cell_type": "code",
   "execution_count": null,
   "metadata": {},
   "outputs": [],
   "source": [
    "#| hide\n",
    "import nbdev; nbdev.nbdev_export()"
   ]
  }
 ],
 "metadata": {
  "kernelspec": {
   "display_name": "python3",
   "language": "python",
   "name": "python3"
  }
 },
 "nbformat": 4,
 "nbformat_minor": 2
}
