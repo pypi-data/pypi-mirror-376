{
 "cells": [
  {
   "attachments": {},
   "cell_type": "markdown",
   "metadata": {},
   "source": [
    "# wrds_api\n",
    "\n",
    "> `wrds` package <https://github.com/wharton/wrds> plus a couple of utilities"
   ]
  },
  {
   "cell_type": "code",
   "execution_count": null,
   "metadata": {},
   "outputs": [],
   "source": [
    "#| default_exp wrds.wrds_api"
   ]
  },
  {
   "cell_type": "code",
   "execution_count": null,
   "metadata": {},
   "outputs": [],
   "source": [
    "#| hide\n",
    "#| export \n",
    "from typing import Sequence, List\n",
    "import os \n",
    "import pandas as pd \n",
    "import wrds \n",
    "from datetime import datetime"
   ]
  },
  {
   "cell_type": "code",
   "execution_count": null,
   "metadata": {},
   "outputs": [],
   "source": [
    "#|export\n",
    "def Connection(): \n",
    "    return wrds.Connection(\n",
    "        wrds_username=os.getenv(\"WRDS_USERNAME\"), \n",
    "        wrds_password=os.getenv(\"WRDS_PASSWORD\"),\n",
    "        dtype_backend = \"pyarrow\",\n",
    "        )"
   ]
  },
  {
   "cell_type": "code",
   "execution_count": null,
   "metadata": {},
   "outputs": [],
   "source": [
    "#|exports\n",
    "def download(sql_string: str=None,\n",
    "             params: Sequence=None # Params cited in the `sql_string`\n",
    "             ) -> pd.DataFrame:\n",
    "    \"\"\"Downloads data from WRDS using the given PostgreSQL `sql_string`\"\"\"\n",
    "\n",
    "    try:\n",
    "        db = Connection()\n",
    "        df = db.raw_sql(sql=sql_string, params=params)\n",
    "    except Exception as err:\n",
    "        raise err \n",
    "    finally:\n",
    "        db.close()\n",
    "\n",
    "    return df"
   ]
  },
  {
   "cell_type": "code",
   "execution_count": null,
   "metadata": {},
   "outputs": [
    {
     "name": "stdout",
     "output_type": "stream",
     "text": [
      "Loading library list...\n",
      "Done\n"
     ]
    },
    {
     "data": {
      "text/html": [
       "<div>\n",
       "<style scoped>\n",
       "    .dataframe tbody tr th:only-of-type {\n",
       "        vertical-align: middle;\n",
       "    }\n",
       "\n",
       "    .dataframe tbody tr th {\n",
       "        vertical-align: top;\n",
       "    }\n",
       "\n",
       "    .dataframe thead th {\n",
       "        text-align: right;\n",
       "    }\n",
       "</style>\n",
       "<table border=\"1\" class=\"dataframe\">\n",
       "  <thead>\n",
       "    <tr style=\"text-align: right;\">\n",
       "      <th></th>\n",
       "      <th>date</th>\n",
       "      <th>mktrf</th>\n",
       "      <th>smb</th>\n",
       "      <th>hml</th>\n",
       "      <th>rf</th>\n",
       "      <th>year</th>\n",
       "      <th>month</th>\n",
       "      <th>umd</th>\n",
       "      <th>dateff</th>\n",
       "    </tr>\n",
       "  </thead>\n",
       "  <tbody>\n",
       "    <tr>\n",
       "      <th>0</th>\n",
       "      <td>1926-07-01</td>\n",
       "      <td>0.0289</td>\n",
       "      <td>-0.0255</td>\n",
       "      <td>-0.0239</td>\n",
       "      <td>0.0022</td>\n",
       "      <td>1926.0</td>\n",
       "      <td>7.0</td>\n",
       "      <td>&lt;NA&gt;</td>\n",
       "      <td>1926-07-31</td>\n",
       "    </tr>\n",
       "    <tr>\n",
       "      <th>1</th>\n",
       "      <td>1926-08-01</td>\n",
       "      <td>0.0264</td>\n",
       "      <td>-0.0114</td>\n",
       "      <td>0.0381</td>\n",
       "      <td>0.0025</td>\n",
       "      <td>1926.0</td>\n",
       "      <td>8.0</td>\n",
       "      <td>&lt;NA&gt;</td>\n",
       "      <td>1926-08-31</td>\n",
       "    </tr>\n",
       "    <tr>\n",
       "      <th>2</th>\n",
       "      <td>1926-09-01</td>\n",
       "      <td>0.0038</td>\n",
       "      <td>-0.0136</td>\n",
       "      <td>0.0005</td>\n",
       "      <td>0.0023</td>\n",
       "      <td>1926.0</td>\n",
       "      <td>9.0</td>\n",
       "      <td>&lt;NA&gt;</td>\n",
       "      <td>1926-09-30</td>\n",
       "    </tr>\n",
       "    <tr>\n",
       "      <th>3</th>\n",
       "      <td>1926-10-01</td>\n",
       "      <td>-0.0327</td>\n",
       "      <td>-0.0014</td>\n",
       "      <td>0.0082</td>\n",
       "      <td>0.0032</td>\n",
       "      <td>1926.0</td>\n",
       "      <td>10.0</td>\n",
       "      <td>&lt;NA&gt;</td>\n",
       "      <td>1926-10-30</td>\n",
       "    </tr>\n",
       "    <tr>\n",
       "      <th>4</th>\n",
       "      <td>1926-11-01</td>\n",
       "      <td>0.0254</td>\n",
       "      <td>-0.0011</td>\n",
       "      <td>-0.0061</td>\n",
       "      <td>0.0031</td>\n",
       "      <td>1926.0</td>\n",
       "      <td>11.0</td>\n",
       "      <td>&lt;NA&gt;</td>\n",
       "      <td>1926-11-30</td>\n",
       "    </tr>\n",
       "    <tr>\n",
       "      <th>...</th>\n",
       "      <td>...</td>\n",
       "      <td>...</td>\n",
       "      <td>...</td>\n",
       "      <td>...</td>\n",
       "      <td>...</td>\n",
       "      <td>...</td>\n",
       "      <td>...</td>\n",
       "      <td>...</td>\n",
       "      <td>...</td>\n",
       "    </tr>\n",
       "    <tr>\n",
       "      <th>1183</th>\n",
       "      <td>2025-02-01</td>\n",
       "      <td>-0.0244</td>\n",
       "      <td>-0.0579</td>\n",
       "      <td>0.0491</td>\n",
       "      <td>0.0033</td>\n",
       "      <td>2025.0</td>\n",
       "      <td>2.0</td>\n",
       "      <td>-0.0081</td>\n",
       "      <td>&lt;NA&gt;</td>\n",
       "    </tr>\n",
       "    <tr>\n",
       "      <th>1184</th>\n",
       "      <td>2025-03-01</td>\n",
       "      <td>-0.0639</td>\n",
       "      <td>-0.0276</td>\n",
       "      <td>0.029</td>\n",
       "      <td>0.0034</td>\n",
       "      <td>2025.0</td>\n",
       "      <td>3.0</td>\n",
       "      <td>-0.0284</td>\n",
       "      <td>&lt;NA&gt;</td>\n",
       "    </tr>\n",
       "    <tr>\n",
       "      <th>1185</th>\n",
       "      <td>2025-04-01</td>\n",
       "      <td>-0.0084</td>\n",
       "      <td>-0.0059</td>\n",
       "      <td>-0.034</td>\n",
       "      <td>0.0035</td>\n",
       "      <td>2025.0</td>\n",
       "      <td>4.0</td>\n",
       "      <td>0.0497</td>\n",
       "      <td>&lt;NA&gt;</td>\n",
       "    </tr>\n",
       "    <tr>\n",
       "      <th>1186</th>\n",
       "      <td>2025-05-01</td>\n",
       "      <td>0.0606</td>\n",
       "      <td>0.007</td>\n",
       "      <td>-0.0288</td>\n",
       "      <td>0.0038</td>\n",
       "      <td>2025.0</td>\n",
       "      <td>5.0</td>\n",
       "      <td>0.0221</td>\n",
       "      <td>&lt;NA&gt;</td>\n",
       "    </tr>\n",
       "    <tr>\n",
       "      <th>1187</th>\n",
       "      <td>2025-06-01</td>\n",
       "      <td>0.0486</td>\n",
       "      <td>0.0083</td>\n",
       "      <td>-0.016</td>\n",
       "      <td>0.0034</td>\n",
       "      <td>2025.0</td>\n",
       "      <td>6.0</td>\n",
       "      <td>-0.0265</td>\n",
       "      <td>&lt;NA&gt;</td>\n",
       "    </tr>\n",
       "  </tbody>\n",
       "</table>\n",
       "<p>1188 rows × 9 columns</p>\n",
       "</div>"
      ],
      "text/plain": [
       "            date   mktrf     smb     hml      rf    year  month     umd  \\\n",
       "0     1926-07-01  0.0289 -0.0255 -0.0239  0.0022  1926.0    7.0    <NA>   \n",
       "1     1926-08-01  0.0264 -0.0114  0.0381  0.0025  1926.0    8.0    <NA>   \n",
       "2     1926-09-01  0.0038 -0.0136  0.0005  0.0023  1926.0    9.0    <NA>   \n",
       "3     1926-10-01 -0.0327 -0.0014  0.0082  0.0032  1926.0   10.0    <NA>   \n",
       "4     1926-11-01  0.0254 -0.0011 -0.0061  0.0031  1926.0   11.0    <NA>   \n",
       "...          ...     ...     ...     ...     ...     ...    ...     ...   \n",
       "1183  2025-02-01 -0.0244 -0.0579  0.0491  0.0033  2025.0    2.0 -0.0081   \n",
       "1184  2025-03-01 -0.0639 -0.0276   0.029  0.0034  2025.0    3.0 -0.0284   \n",
       "1185  2025-04-01 -0.0084 -0.0059  -0.034  0.0035  2025.0    4.0  0.0497   \n",
       "1186  2025-05-01  0.0606   0.007 -0.0288  0.0038  2025.0    5.0  0.0221   \n",
       "1187  2025-06-01  0.0486  0.0083  -0.016  0.0034  2025.0    6.0 -0.0265   \n",
       "\n",
       "          dateff  \n",
       "0     1926-07-31  \n",
       "1     1926-08-31  \n",
       "2     1926-09-30  \n",
       "3     1926-10-30  \n",
       "4     1926-11-30  \n",
       "...          ...  \n",
       "1183        <NA>  \n",
       "1184        <NA>  \n",
       "1185        <NA>  \n",
       "1186        <NA>  \n",
       "1187        <NA>  \n",
       "\n",
       "[1188 rows x 9 columns]"
      ]
     },
     "execution_count": null,
     "metadata": {},
     "output_type": "execute_result"
    }
   ],
   "source": [
    "#| eval: false\n",
    "download(\"SELECT * from ff.factors_monthly\")"
   ]
  },
  {
   "attachments": {},
   "cell_type": "markdown",
   "metadata": {},
   "source": [
    "## Examples of useful features of the `Connection` class"
   ]
  },
  {
   "cell_type": "code",
   "execution_count": null,
   "metadata": {},
   "outputs": [
    {
     "name": "stdout",
     "output_type": "stream",
     "text": [
      "Loading library list...\n",
      "Done\n"
     ]
    }
   ],
   "source": [
    "#| eval: false\n",
    "db = Connection()"
   ]
  },
  {
   "cell_type": "code",
   "execution_count": null,
   "metadata": {},
   "outputs": [
    {
     "data": {
      "text/plain": [
       "['aha', 'aha_common', 'aha_hcris_3years', 'aha_it_survey_3years', 'aha_sample']"
      ]
     },
     "execution_count": null,
     "metadata": {},
     "output_type": "execute_result"
    }
   ],
   "source": [
    "#| eval: false\n",
    "db.list_libraries()[:5]"
   ]
  },
  {
   "cell_type": "code",
   "execution_count": null,
   "metadata": {},
   "outputs": [
    {
     "data": {
      "text/plain": [
       "['acti', 'asia', 'asib', 'asic', 'asio']"
      ]
     },
     "execution_count": null,
     "metadata": {},
     "output_type": "execute_result"
    }
   ],
   "source": [
    "#| eval: false\n",
    "db.list_tables(library='crsp')[:5]"
   ]
  },
  {
   "cell_type": "code",
   "execution_count": null,
   "metadata": {},
   "outputs": [
    {
     "name": "stdout",
     "output_type": "stream",
     "text": [
      "Approximately 921202 rows in comp.funda.\n"
     ]
    },
    {
     "data": {
      "text/html": [
       "<div>\n",
       "<style scoped>\n",
       "    .dataframe tbody tr th:only-of-type {\n",
       "        vertical-align: middle;\n",
       "    }\n",
       "\n",
       "    .dataframe tbody tr th {\n",
       "        vertical-align: top;\n",
       "    }\n",
       "\n",
       "    .dataframe thead th {\n",
       "        text-align: right;\n",
       "    }\n",
       "</style>\n",
       "<table border=\"1\" class=\"dataframe\">\n",
       "  <thead>\n",
       "    <tr style=\"text-align: right;\">\n",
       "      <th></th>\n",
       "      <th>name</th>\n",
       "      <th>nullable</th>\n",
       "      <th>type</th>\n",
       "      <th>comment</th>\n",
       "    </tr>\n",
       "  </thead>\n",
       "  <tbody>\n",
       "    <tr>\n",
       "      <th>0</th>\n",
       "      <td>gvkey</td>\n",
       "      <td>True</td>\n",
       "      <td>VARCHAR(6)</td>\n",
       "      <td>Global Company Key</td>\n",
       "    </tr>\n",
       "    <tr>\n",
       "      <th>1</th>\n",
       "      <td>datadate</td>\n",
       "      <td>True</td>\n",
       "      <td>DATE</td>\n",
       "      <td>Data Date</td>\n",
       "    </tr>\n",
       "    <tr>\n",
       "      <th>2</th>\n",
       "      <td>fyear</td>\n",
       "      <td>True</td>\n",
       "      <td>INTEGER</td>\n",
       "      <td>Data Year - Fiscal</td>\n",
       "    </tr>\n",
       "    <tr>\n",
       "      <th>3</th>\n",
       "      <td>indfmt</td>\n",
       "      <td>True</td>\n",
       "      <td>VARCHAR(12)</td>\n",
       "      <td>Industry Format</td>\n",
       "    </tr>\n",
       "    <tr>\n",
       "      <th>4</th>\n",
       "      <td>consol</td>\n",
       "      <td>True</td>\n",
       "      <td>VARCHAR(2)</td>\n",
       "      <td>Level of Consolidation - Company Annual Descri...</td>\n",
       "    </tr>\n",
       "  </tbody>\n",
       "</table>\n",
       "</div>"
      ],
      "text/plain": [
       "       name  nullable         type  \\\n",
       "0     gvkey      True   VARCHAR(6)   \n",
       "1  datadate      True         DATE   \n",
       "2     fyear      True      INTEGER   \n",
       "3    indfmt      True  VARCHAR(12)   \n",
       "4    consol      True   VARCHAR(2)   \n",
       "\n",
       "                                             comment  \n",
       "0                                 Global Company Key  \n",
       "1                                          Data Date  \n",
       "2                                 Data Year - Fiscal  \n",
       "3                                    Industry Format  \n",
       "4  Level of Consolidation - Company Annual Descri...  "
      ]
     },
     "execution_count": null,
     "metadata": {},
     "output_type": "execute_result"
    }
   ],
   "source": [
    "#| eval: false\n",
    "db.describe_table(library='comp',table='funda').iloc[:5]"
   ]
  },
  {
   "cell_type": "code",
   "execution_count": null,
   "metadata": {},
   "outputs": [
    {
     "data": {
      "text/html": [
       "<div>\n",
       "<style scoped>\n",
       "    .dataframe tbody tr th:only-of-type {\n",
       "        vertical-align: middle;\n",
       "    }\n",
       "\n",
       "    .dataframe tbody tr th {\n",
       "        vertical-align: top;\n",
       "    }\n",
       "\n",
       "    .dataframe thead th {\n",
       "        text-align: right;\n",
       "    }\n",
       "</style>\n",
       "<table border=\"1\" class=\"dataframe\">\n",
       "  <thead>\n",
       "    <tr style=\"text-align: right;\">\n",
       "      <th></th>\n",
       "      <th>date</th>\n",
       "      <th>mktrf</th>\n",
       "      <th>smb</th>\n",
       "      <th>hml</th>\n",
       "      <th>rf</th>\n",
       "    </tr>\n",
       "  </thead>\n",
       "  <tbody>\n",
       "    <tr>\n",
       "      <th>0</th>\n",
       "      <td>1926-07-01</td>\n",
       "      <td>0.0289</td>\n",
       "      <td>-0.0255</td>\n",
       "      <td>-0.0239</td>\n",
       "      <td>0.0022</td>\n",
       "    </tr>\n",
       "    <tr>\n",
       "      <th>1</th>\n",
       "      <td>1926-08-01</td>\n",
       "      <td>0.0264</td>\n",
       "      <td>-0.0114</td>\n",
       "      <td>0.0381</td>\n",
       "      <td>0.0025</td>\n",
       "    </tr>\n",
       "    <tr>\n",
       "      <th>2</th>\n",
       "      <td>1926-09-01</td>\n",
       "      <td>0.0038</td>\n",
       "      <td>-0.0136</td>\n",
       "      <td>0.0005</td>\n",
       "      <td>0.0023</td>\n",
       "    </tr>\n",
       "    <tr>\n",
       "      <th>3</th>\n",
       "      <td>1926-10-01</td>\n",
       "      <td>-0.0327</td>\n",
       "      <td>-0.0014</td>\n",
       "      <td>0.0082</td>\n",
       "      <td>0.0032</td>\n",
       "    </tr>\n",
       "    <tr>\n",
       "      <th>4</th>\n",
       "      <td>1926-11-01</td>\n",
       "      <td>0.0254</td>\n",
       "      <td>-0.0011</td>\n",
       "      <td>-0.0061</td>\n",
       "      <td>0.0031</td>\n",
       "    </tr>\n",
       "  </tbody>\n",
       "</table>\n",
       "</div>"
      ],
      "text/plain": [
       "         date   mktrf     smb     hml      rf\n",
       "0  1926-07-01  0.0289 -0.0255 -0.0239  0.0022\n",
       "1  1926-08-01  0.0264 -0.0114  0.0381  0.0025\n",
       "2  1926-09-01  0.0038 -0.0136  0.0005  0.0023\n",
       "3  1926-10-01 -0.0327 -0.0014  0.0082  0.0032\n",
       "4  1926-11-01  0.0254 -0.0011 -0.0061  0.0031"
      ]
     },
     "execution_count": null,
     "metadata": {},
     "output_type": "execute_result"
    }
   ],
   "source": [
    "#| eval: false\n",
    "db.get_table(library='ff', \n",
    "             table='factors_monthly',\n",
    "             columns=['date','mktrf','smb','hml','rf'],\n",
    "             obs=5)"
   ]
  },
  {
   "cell_type": "code",
   "execution_count": null,
   "metadata": {},
   "outputs": [],
   "source": [
    "#| eval: false\n",
    "db.close()"
   ]
  },
  {
   "cell_type": "code",
   "execution_count": null,
   "metadata": {},
   "outputs": [],
   "source": [
    "#| export\n",
    "def validate_dates(date_strings: List[str]) -> bool:\n",
    "    for date in date_strings:\n",
    "        if date is not None:\n",
    "            try:\n",
    "                datetime.strptime(date, '%m/%d/%Y')\n",
    "            except ValueError:\n",
    "                raise ValueError(f\"Date '{date}' is not in the correct format. Should be 'mm/dd/yyyy'\")"
   ]
  },
  {
   "cell_type": "code",
   "execution_count": null,
   "metadata": {},
   "outputs": [],
   "source": [
    "#| hide\n",
    "import nbdev; nbdev.nbdev_export()"
   ]
  }
 ],
 "metadata": {
  "kernelspec": {
   "display_name": "python3",
   "language": "python",
   "name": "python3"
  }
 },
 "nbformat": 4,
 "nbformat_minor": 2
}
