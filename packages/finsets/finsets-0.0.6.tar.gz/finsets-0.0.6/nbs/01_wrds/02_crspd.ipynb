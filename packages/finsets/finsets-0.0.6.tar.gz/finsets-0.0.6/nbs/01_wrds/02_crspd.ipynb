{
 "cells": [
  {
   "cell_type": "markdown",
   "metadata": {},
   "source": [
    "# crspd\n",
    "\n",
    "> Retrieve and process data from WRDS CRSP Daily Stock File "
   ]
  },
  {
   "cell_type": "markdown",
   "metadata": {},
   "source": [
    "Since this is a proprietary dataset, in the documentation below, I can not show any of the data that is being retrieved/generated (will show only column names)."
   ]
  },
  {
   "cell_type": "code",
   "execution_count": null,
   "metadata": {},
   "outputs": [],
   "source": [
    "#| default_exp wrds.crspd"
   ]
  },
  {
   "cell_type": "code",
   "execution_count": null,
   "metadata": {},
   "outputs": [],
   "source": [
    "#|exports\n",
    "from __future__ import annotations\n",
    "from typing import List\n",
    "\n",
    "import pandas as pd\n",
    "import numpy as np\n",
    "\n",
    "import pandasmore as pdm\n",
    "from finsets.wrds import wrds_api"
   ]
  },
  {
   "cell_type": "code",
   "execution_count": null,
   "metadata": {},
   "outputs": [],
   "source": [
    "#| exports\n",
    "PROVIDER = 'Wharton Research Data Services (WRDS)'\n",
    "URL = 'https://wrds-www.wharton.upenn.edu/pages/get-data/center-research-security-prices-crsp/annual-update/stock-security-files/daily-stock-file/'\n",
    "LIBRARY = 'crsp'\n",
    "TABLE = 'dsf'\n",
    "NAMES_TABLE = 'dsenames'\n",
    "DELIST_TABLE = 'dsedelist'\n",
    "FREQ = 'D'\n",
    "MIN_YEAR = 1925\n",
    "MAX_YEAR = None\n",
    "ENTITY_ID_IN_RAW_DSET = 'permno'\n",
    "ENTITY_ID_IN_CLEAN_DSET = 'permno'\n",
    "TIME_VAR_IN_RAW_DSET = 'date'\n",
    "TIME_VAR_IN_CLEAN_DSET = f'{FREQ}date'"
   ]
  },
  {
   "cell_type": "code",
   "execution_count": null,
   "metadata": {},
   "outputs": [],
   "source": [
    "#| export\n",
    "def list_all_vars() -> pd.DataFrame:\n",
    "    \"Collects names of all available variables from WRDS `{LIBRARY}.{TABLE}` and `{LIBRARY}.{NAMES_TABLE}`\"\n",
    "\n",
    "    try:\n",
    "        db = wrds_api.Connection()\n",
    "        msf = db.describe_table(LIBRARY,TABLE).assign(wrds_library=LIBRARY, wrds_table=TABLE)\n",
    "        mse = db.describe_table(LIBRARY,NAMES_TABLE).assign(wrds_library=LIBRARY, wrds_table=NAMES_TABLE)\n",
    "        dlst = db.describe_table(LIBRARY,DELIST_TABLE).assign(wrds_library=LIBRARY, wrds_table=DELIST_TABLE)\n",
    "    finally:\n",
    "        db.close()\n",
    "\n",
    "    return pd.concat([msf, mse, dlst])[['name','type','wrds_library','wrds_table']].copy()"
   ]
  },
  {
   "cell_type": "code",
   "execution_count": null,
   "metadata": {},
   "outputs": [
    {
     "name": "stdout",
     "output_type": "stream",
     "text": [
      "Loading library list...\n",
      "Done\n",
      "Approximately 107663472 rows in crsp.dsf.\n",
      "Approximately 115451 rows in crsp.dsenames.\n",
      "Approximately 38872 rows in crsp.dsedelist.\n"
     ]
    }
   ],
   "source": [
    "#| eval: false\n",
    "all_vars = list_all_vars()"
   ]
  },
  {
   "cell_type": "code",
   "execution_count": null,
   "metadata": {},
   "outputs": [
    {
     "data": {
      "text/plain": [
       "np.int64(60)"
      ]
     },
     "execution_count": null,
     "metadata": {},
     "output_type": "execute_result"
    }
   ],
   "source": [
    "#| eval: false\n",
    "all_vars.name.count()"
   ]
  },
  {
   "cell_type": "code",
   "execution_count": null,
   "metadata": {},
   "outputs": [
    {
     "data": {
      "text/html": [
       "<div>\n",
       "<style scoped>\n",
       "    .dataframe tbody tr th:only-of-type {\n",
       "        vertical-align: middle;\n",
       "    }\n",
       "\n",
       "    .dataframe tbody tr th {\n",
       "        vertical-align: top;\n",
       "    }\n",
       "\n",
       "    .dataframe thead th {\n",
       "        text-align: right;\n",
       "    }\n",
       "</style>\n",
       "<table border=\"1\" class=\"dataframe\">\n",
       "  <thead>\n",
       "    <tr style=\"text-align: right;\">\n",
       "      <th></th>\n",
       "      <th>name</th>\n",
       "      <th>type</th>\n",
       "      <th>wrds_library</th>\n",
       "      <th>wrds_table</th>\n",
       "    </tr>\n",
       "  </thead>\n",
       "  <tbody>\n",
       "    <tr>\n",
       "      <th>0</th>\n",
       "      <td>cusip</td>\n",
       "      <td>VARCHAR(8)</td>\n",
       "      <td>crsp</td>\n",
       "      <td>dsf</td>\n",
       "    </tr>\n",
       "    <tr>\n",
       "      <th>1</th>\n",
       "      <td>permno</td>\n",
       "      <td>INTEGER</td>\n",
       "      <td>crsp</td>\n",
       "      <td>dsf</td>\n",
       "    </tr>\n",
       "    <tr>\n",
       "      <th>2</th>\n",
       "      <td>permco</td>\n",
       "      <td>INTEGER</td>\n",
       "      <td>crsp</td>\n",
       "      <td>dsf</td>\n",
       "    </tr>\n",
       "    <tr>\n",
       "      <th>3</th>\n",
       "      <td>issuno</td>\n",
       "      <td>INTEGER</td>\n",
       "      <td>crsp</td>\n",
       "      <td>dsf</td>\n",
       "    </tr>\n",
       "    <tr>\n",
       "      <th>4</th>\n",
       "      <td>hexcd</td>\n",
       "      <td>SMALLINT</td>\n",
       "      <td>crsp</td>\n",
       "      <td>dsf</td>\n",
       "    </tr>\n",
       "  </tbody>\n",
       "</table>\n",
       "</div>"
      ],
      "text/plain": [
       "     name        type wrds_library wrds_table\n",
       "0   cusip  VARCHAR(8)         crsp        dsf\n",
       "1  permno     INTEGER         crsp        dsf\n",
       "2  permco     INTEGER         crsp        dsf\n",
       "3  issuno     INTEGER         crsp        dsf\n",
       "4   hexcd    SMALLINT         crsp        dsf"
      ]
     },
     "execution_count": null,
     "metadata": {},
     "output_type": "execute_result"
    }
   ],
   "source": [
    "#| eval: false\n",
    "all_vars.head()"
   ]
  },
  {
   "cell_type": "code",
   "execution_count": null,
   "metadata": {},
   "outputs": [],
   "source": [
    "#| export\n",
    "def default_raw_vars():\n",
    "    \"\"\"Defines default variables used in `get_raw_data` if none are specified.\"\"\"\n",
    "    \n",
    "    return ['permno','permco','date',\n",
    "            'ret', 'retx', 'shrout', 'prc', \n",
    "            'shrcd', 'exchcd',\n",
    "            'cfacpr', 'cfacshr',\n",
    "            'dlret','dlstcd','dlstdt']  #'siccd','naics','cusip','ncusip'          "
   ]
  },
  {
   "cell_type": "code",
   "execution_count": null,
   "metadata": {},
   "outputs": [
    {
     "name": "stdout",
     "output_type": "stream",
     "text": [
      "['permno', 'permco', 'date', 'ret', 'retx', 'shrout', 'prc', 'shrcd', 'exchcd', 'cfacpr', 'cfacshr', 'dlret', 'dlstcd', 'dlstdt']\n"
     ]
    }
   ],
   "source": [
    "print(default_raw_vars())"
   ]
  },
  {
   "cell_type": "code",
   "execution_count": null,
   "metadata": {},
   "outputs": [],
   "source": [
    "#| export\n",
    "def parse_varlist(vars: List[str]=None,\n",
    "                  required_vars = [],\n",
    "                  ) -> str:\n",
    "    \"\"\"Figures out which `vars` come from the `{LIBRARY}.{TABLE}` table and which come from the `{LIBRARY}.{NAMES_TABLE}` table and adds a. and b. prefixes to variable names to feed into an SQL query\"\"\"\n",
    "\n",
    "    # Get all available variables and add suffixes needed for the SQL query\n",
    "    suffix_mapping = {TABLE: 'a.', NAMES_TABLE: 'b.', DELIST_TABLE: 'c.'}\n",
    "    all_avail_vars = list_all_vars().drop_duplicates(subset='name',keep='first').copy()\n",
    "    all_avail_vars['w_prefix'] = all_avail_vars.apply(lambda row: suffix_mapping[row['wrds_table']] + row['name'] , axis=1)\n",
    "\n",
    "    if vars == '*': return ','.join(list(all_avail_vars['w_prefix']))\n",
    "    \n",
    "    # Add required vars to requested vars\n",
    "    if vars is None: vars = default_raw_vars()\n",
    "    vars_to_get =  required_vars + [x for x in list(set(vars)) if x not in required_vars]\n",
    "\n",
    "    # Validate variables to be downloaded (make sure that they are in the target database)\n",
    "    invalid_vars = [v for v in vars_to_get if v not in list(all_avail_vars.name)]\n",
    "    if invalid_vars: raise ValueError(f\"These vars are not in the database: {invalid_vars}\") \n",
    "\n",
    "    # Extract information on which variable comes from which wrds table, so we know what prefix to use\n",
    "    vars_to_get = pd.DataFrame(vars_to_get, columns=['name'])\n",
    "    get_these = vars_to_get.merge(all_avail_vars, how = 'left', on = 'name')\n",
    "        \n",
    "    return ','.join(list(get_these['w_prefix']))"
   ]
  },
  {
   "cell_type": "code",
   "execution_count": null,
   "metadata": {},
   "outputs": [
    {
     "name": "stdout",
     "output_type": "stream",
     "text": [
      "Loading library list...\n",
      "Done\n",
      "Approximately 107663472 rows in crsp.dsf.\n",
      "Approximately 115451 rows in crsp.dsenames.\n",
      "Approximately 38872 rows in crsp.dsedelist.\n"
     ]
    },
    {
     "data": {
      "text/plain": [
       "'c.dlret,a.ret,b.siccd'"
      ]
     },
     "execution_count": null,
     "metadata": {},
     "output_type": "execute_result"
    }
   ],
   "source": [
    "#| eval: false\n",
    "parse_varlist(['ret', 'siccd', 'dlret'])"
   ]
  },
  {
   "cell_type": "code",
   "execution_count": null,
   "metadata": {},
   "outputs": [
    {
     "name": "stdout",
     "output_type": "stream",
     "text": [
      "Loading library list...\n",
      "Done\n",
      "Approximately 107663472 rows in crsp.dsf.\n",
      "Approximately 115451 rows in crsp.dsenames.\n",
      "Approximately 38872 rows in crsp.dsedelist.\n"
     ]
    },
    {
     "data": {
      "text/plain": [
       "'a.cusip,a.permno,a.permco,a.issuno,a.hexcd,a.hsiccd,a.date,a.bidlo,a.askhi,a.prc,a.vol,a.ret,a.bid,a.ask,a.shrout,a.cfacpr,a.cfacshr,a.openprc,a.numtrd,a.retx,b.namedt,b.nameendt,b.shrcd,b.exchcd,b.siccd,b.ncusip,b.ticker,b.comnam,b.shrcls,b.tsymbol,b.naics,b.primexch,b.trdstat,b.secstat,b.compno,c.dlstdt,c.dlstcd,c.nwperm,c.nwcomp,c.nextdt,c.dlamt,c.dlretx,c.dlprc,c.dlpdt,c.dlret,c.acperm,c.accomp'"
      ]
     },
     "execution_count": null,
     "metadata": {},
     "output_type": "execute_result"
    }
   ],
   "source": [
    "#| eval: false\n",
    "parse_varlist('*')"
   ]
  },
  {
   "cell_type": "code",
   "execution_count": null,
   "metadata": {},
   "outputs": [],
   "source": [
    "#| export\n",
    "def get_raw_data(\n",
    "        vars: List[str]=None, # If None, downloads `default_raw_vars`; use '*' to get all available variables\n",
    "        required_vars = ['permno','date'], # Variables that are always downloaded, regardless `vars` argument\n",
    "        nrows: int=None,  #Number of rows to download. If None, full dataset will be downloaded             \n",
    "        start_date: str=\"01/01/1950\",  # Start date in MM/DD/YYYY format\n",
    "        end_date: str=None,            # End date in MM/DD/YYYY format  \n",
    "        shrcd_exchcd_filters: bool=True, # If true, keep only observations with shrcd in [10,11] and exchcd in [1,2,3]\n",
    ") -> pd.DataFrame:\n",
    "    \"Downloads `vars` from `start_date` to `end_date` from WRDS {LIBRARY}.{TABLE}, {LIBRARY}.{NAMES_TABLE} and {LIBRARY}.{DELIST_TABLE}.\" \n",
    "\n",
    "    wrds_api.validate_dates([start_date, end_date])\n",
    "    varlist_string = parse_varlist(vars, required_vars=required_vars)\n",
    "    sql_string = f\"\"\"SELECT {varlist_string}\n",
    "                        FROM {LIBRARY}.{TABLE} AS a \n",
    "                        LEFT JOIN {LIBRARY}.{NAMES_TABLE} AS b\n",
    "                            ON a.permno=b.permno AND b.namedt<=a.date AND a.date<=b.nameendt \n",
    "                        LEFT JOIN {LIBRARY}.{DELIST_TABLE} as c\n",
    "                            ON a.permno=c.permno AND date_trunc('month', a.date) = date_trunc('month', c.dlstdt)\n",
    "                            \"\"\"\n",
    "    sql_string += \"WHERE 1=1 \"\n",
    "    if shrcd_exchcd_filters: sql_string += \"AND shrcd IN (10,11) AND exchcd IN (1,2,3) \"\n",
    "    if start_date is not None: sql_string += r\"AND date >= %(start_date)s \"\n",
    "    if end_date is not None: sql_string += r\"AND date <= %(end_date)s \"\n",
    "    if nrows is not None: sql_string += r\" LIMIT %(nrows)s\"\n",
    "\n",
    "    df = wrds_api.download(sql_string,\n",
    "                             params={'start_date':start_date, 'end_date':end_date, 'nrows':nrows})\n",
    "    \n",
    "    return df "
   ]
  },
  {
   "cell_type": "code",
   "execution_count": null,
   "metadata": {},
   "outputs": [
    {
     "name": "stdout",
     "output_type": "stream",
     "text": [
      "Loading library list...\n",
      "Done\n",
      "Approximately 107663472 rows in crsp.dsf.\n",
      "Approximately 115451 rows in crsp.dsenames.\n",
      "Approximately 38872 rows in crsp.dsedelist.\n",
      "Loading library list...\n",
      "Done\n"
     ]
    },
    {
     "data": {
      "text/html": [
       "<div>\n",
       "<style scoped>\n",
       "    .dataframe tbody tr th:only-of-type {\n",
       "        vertical-align: middle;\n",
       "    }\n",
       "\n",
       "    .dataframe tbody tr th {\n",
       "        vertical-align: top;\n",
       "    }\n",
       "\n",
       "    .dataframe thead th {\n",
       "        text-align: right;\n",
       "    }\n",
       "</style>\n",
       "<table border=\"1\" class=\"dataframe\">\n",
       "  <thead>\n",
       "    <tr style=\"text-align: right;\">\n",
       "      <th></th>\n",
       "      <th>cusip</th>\n",
       "      <th>permno</th>\n",
       "      <th>permco</th>\n",
       "      <th>issuno</th>\n",
       "      <th>hexcd</th>\n",
       "      <th>hsiccd</th>\n",
       "      <th>date</th>\n",
       "      <th>bidlo</th>\n",
       "      <th>askhi</th>\n",
       "      <th>prc</th>\n",
       "      <th>...</th>\n",
       "      <th>nwperm</th>\n",
       "      <th>nwcomp</th>\n",
       "      <th>nextdt</th>\n",
       "      <th>dlamt</th>\n",
       "      <th>dlretx</th>\n",
       "      <th>dlprc</th>\n",
       "      <th>dlpdt</th>\n",
       "      <th>dlret</th>\n",
       "      <th>acperm</th>\n",
       "      <th>accomp</th>\n",
       "    </tr>\n",
       "  </thead>\n",
       "  <tbody>\n",
       "    <tr>\n",
       "      <th>0</th>\n",
       "      <td>68391610</td>\n",
       "      <td>10000</td>\n",
       "      <td>7952</td>\n",
       "      <td>10396</td>\n",
       "      <td>3</td>\n",
       "      <td>3990</td>\n",
       "      <td>1986-01-07</td>\n",
       "      <td>2.375</td>\n",
       "      <td>2.75</td>\n",
       "      <td>-2.5625</td>\n",
       "      <td>...</td>\n",
       "      <td>&lt;NA&gt;</td>\n",
       "      <td>&lt;NA&gt;</td>\n",
       "      <td>&lt;NA&gt;</td>\n",
       "      <td>&lt;NA&gt;</td>\n",
       "      <td>&lt;NA&gt;</td>\n",
       "      <td>&lt;NA&gt;</td>\n",
       "      <td>&lt;NA&gt;</td>\n",
       "      <td>&lt;NA&gt;</td>\n",
       "      <td>&lt;NA&gt;</td>\n",
       "      <td>&lt;NA&gt;</td>\n",
       "    </tr>\n",
       "  </tbody>\n",
       "</table>\n",
       "<p>1 rows × 47 columns</p>\n",
       "</div>"
      ],
      "text/plain": [
       "      cusip  permno  permco  issuno  hexcd  hsiccd        date  bidlo  askhi  \\\n",
       "0  68391610   10000    7952   10396      3    3990  1986-01-07  2.375   2.75   \n",
       "\n",
       "      prc  ...  nwperm  nwcomp  nextdt  dlamt  dlretx  dlprc  dlpdt dlret  \\\n",
       "0 -2.5625  ...    <NA>    <NA>    <NA>   <NA>    <NA>   <NA>   <NA>  <NA>   \n",
       "\n",
       "   acperm  accomp  \n",
       "0    <NA>    <NA>  \n",
       "\n",
       "[1 rows x 47 columns]"
      ]
     },
     "execution_count": null,
     "metadata": {},
     "output_type": "execute_result"
    }
   ],
   "source": [
    "#| eval: false\n",
    "r = get_raw_data(vars = '*', nrows=1000)\n",
    "r.head(1)"
   ]
  },
  {
   "cell_type": "code",
   "execution_count": null,
   "metadata": {},
   "outputs": [],
   "source": [
    "#| export\n",
    "def process_raw_data(\n",
    "        df: pd.DataFrame=None,  # Must contain `permno` and `date` columns         \n",
    "        clean_kwargs: dict={},  # Params to pass to `pdm.setup_panel` other than `panel_ids`, `time_var`, and `freq`\n",
    ") -> pd.DataFrame:\n",
    "    \"\"\"Applies `pandasmore.setup_panel` to `df`\"\"\"\n",
    "\n",
    "    # Change some variables to categorical\n",
    "    for col in ['shrcd','exchcd']:\n",
    "        if col in df.columns:\n",
    "            df[col] = df[col].astype('Int64').astype('category')\n",
    "\n",
    "    for col in ['naics','cusip','ncusip']:\n",
    "        if col in df.columns:\n",
    "            df[col] = df[col].astype('string').astype('category')\n",
    "\n",
    "    if 'siccd' in df.columns:\n",
    "        df['siccd'] = df['siccd'].astype('Int64').astype('string').str.zfill(4).astype('category')\n",
    "\n",
    "    # Set up panel structure\n",
    "    df = pdm.setup_panel(df, panel_ids=ENTITY_ID_IN_RAW_DSET, time_var=TIME_VAR_IN_RAW_DSET, freq=FREQ, panel_ids_toint=False, **clean_kwargs)\n",
    "    return df "
   ]
  },
  {
   "cell_type": "code",
   "execution_count": null,
   "metadata": {},
   "outputs": [],
   "source": [
    "#| eval: false\n",
    "df = process_raw_data(r)"
   ]
  },
  {
   "cell_type": "code",
   "execution_count": null,
   "metadata": {},
   "outputs": [
    {
     "data": {
      "text/html": [
       "<div>\n",
       "<style scoped>\n",
       "    .dataframe tbody tr th:only-of-type {\n",
       "        vertical-align: middle;\n",
       "    }\n",
       "\n",
       "    .dataframe tbody tr th {\n",
       "        vertical-align: top;\n",
       "    }\n",
       "\n",
       "    .dataframe thead th {\n",
       "        text-align: right;\n",
       "    }\n",
       "</style>\n",
       "<table border=\"1\" class=\"dataframe\">\n",
       "  <thead>\n",
       "    <tr style=\"text-align: right;\">\n",
       "      <th></th>\n",
       "      <th></th>\n",
       "      <th>date</th>\n",
       "      <th>dtdate</th>\n",
       "      <th>cusip</th>\n",
       "      <th>permco</th>\n",
       "      <th>issuno</th>\n",
       "      <th>hexcd</th>\n",
       "      <th>hsiccd</th>\n",
       "      <th>bidlo</th>\n",
       "      <th>askhi</th>\n",
       "      <th>prc</th>\n",
       "      <th>...</th>\n",
       "      <th>nwperm</th>\n",
       "      <th>nwcomp</th>\n",
       "      <th>nextdt</th>\n",
       "      <th>dlamt</th>\n",
       "      <th>dlretx</th>\n",
       "      <th>dlprc</th>\n",
       "      <th>dlpdt</th>\n",
       "      <th>dlret</th>\n",
       "      <th>acperm</th>\n",
       "      <th>accomp</th>\n",
       "    </tr>\n",
       "    <tr>\n",
       "      <th>permno</th>\n",
       "      <th>Ddate</th>\n",
       "      <th></th>\n",
       "      <th></th>\n",
       "      <th></th>\n",
       "      <th></th>\n",
       "      <th></th>\n",
       "      <th></th>\n",
       "      <th></th>\n",
       "      <th></th>\n",
       "      <th></th>\n",
       "      <th></th>\n",
       "      <th></th>\n",
       "      <th></th>\n",
       "      <th></th>\n",
       "      <th></th>\n",
       "      <th></th>\n",
       "      <th></th>\n",
       "      <th></th>\n",
       "      <th></th>\n",
       "      <th></th>\n",
       "      <th></th>\n",
       "      <th></th>\n",
       "    </tr>\n",
       "  </thead>\n",
       "  <tbody>\n",
       "  </tbody>\n",
       "</table>\n",
       "<p>0 rows × 47 columns</p>\n",
       "</div>"
      ],
      "text/plain": [
       "Empty DataFrame\n",
       "Columns: [date, dtdate, cusip, permco, issuno, hexcd, hsiccd, bidlo, askhi, prc, vol, ret, bid, ask, shrout, cfacpr, cfacshr, openprc, numtrd, retx, namedt, nameendt, shrcd, exchcd, siccd, ncusip, ticker, comnam, shrcls, tsymbol, naics, primexch, trdstat, secstat, compno, dlstdt, dlstcd, nwperm, nwcomp, nextdt, dlamt, dlretx, dlprc, dlpdt, dlret, acperm, accomp]\n",
       "Index: []\n",
       "\n",
       "[0 rows x 47 columns]"
      ]
     },
     "execution_count": null,
     "metadata": {},
     "output_type": "execute_result"
    }
   ],
   "source": [
    "#| eval: false\n",
    "df.head(0)"
   ]
  },
  {
   "cell_type": "code",
   "execution_count": null,
   "metadata": {},
   "outputs": [],
   "source": [
    "#| export\n",
    "def delist_adj_ret(\n",
    "        df: pd.DataFrame, # Requires `ret`,`exchcd`,`dlret`,`dlstcd`, and `dlstdt` variables\n",
    "        adj_ret_var: str='ret_adj' # Name of the adjusted return variable created by this function\n",
    ") -> pd.DataFrame:\n",
    "    \"\"\"Adjusts for returns for delisting using Shumway and Warther (1999) and Johnson and Zhao (2007)\"\"\"\n",
    "\n",
    "    df['npdelist'] = (df['dlstcd']==500) | df['dlstcd'].between(520,584)\n",
    "    df['dlret'] = np.where(df['dlret'].isna() & df['npdelist'] & df['exchcd'].isin([1,2]), -0.35, df['dlret'])\n",
    "    df['dlret'] = np.where(df['dlret'].isna() & df['npdelist'] & df['exchcd'].isin([3]), -0.55, df['dlret'])\n",
    "    df['dlret'] = np.where(df['dlret'].notna() & df['dlret'] < -1, -1, df['dlret'])\n",
    "    df['dlret'] = df['dlret'].fillna(0)\n",
    "\n",
    "    df[adj_ret_var] = (1 + df.ret) * (1 + df['dlret']) - 1\n",
    "    df[adj_ret_var] = np.where(df[adj_ret_var].isna() & (df['dlret']!=0), df['dlret'], df[adj_ret_var])\n",
    "    df = df.drop('npdelist', axis=1) \n",
    "    return df"
   ]
  },
  {
   "cell_type": "code",
   "execution_count": null,
   "metadata": {},
   "outputs": [
    {
     "name": "stdout",
     "output_type": "stream",
     "text": [
      "Loading library list...\n",
      "Done\n",
      "Approximately 107663472 rows in crsp.dsf.\n",
      "Approximately 115451 rows in crsp.dsenames.\n",
      "Approximately 38872 rows in crsp.dsedelist.\n",
      "Loading library list...\n",
      "Done\n"
     ]
    },
    {
     "ename": "TypeError",
     "evalue": "boolean value of NA is ambiguous",
     "output_type": "error",
     "traceback": [
      "\u001b[31m---------------------------------------------------------------------------\u001b[39m",
      "\u001b[31mTypeError\u001b[39m                                 Traceback (most recent call last)",
      "\u001b[36mCell\u001b[39m\u001b[36m \u001b[39m\u001b[32mIn[20]\u001b[39m\u001b[32m, line 2\u001b[39m\n\u001b[32m      1\u001b[39m \u001b[38;5;66;03m#| eval: false\u001b[39;00m\n\u001b[32m----> \u001b[39m\u001b[32m2\u001b[39m dl = \u001b[43mdelist_adj_ret\u001b[49m\u001b[43m(\u001b[49m\u001b[43mprocess_raw_data\u001b[49m\u001b[43m(\u001b[49m\u001b[43mget_raw_data\u001b[49m\u001b[43m(\u001b[49m\u001b[43m[\u001b[49m\u001b[33;43m'\u001b[39;49m\u001b[33;43mdlret\u001b[39;49m\u001b[33;43m'\u001b[39;49m\u001b[43m,\u001b[49m\u001b[33;43m'\u001b[39;49m\u001b[33;43mdlstcd\u001b[39;49m\u001b[33;43m'\u001b[39;49m\u001b[43m,\u001b[49m\u001b[33;43m'\u001b[39;49m\u001b[33;43mdlstdt\u001b[39;49m\u001b[33;43m'\u001b[39;49m\u001b[43m,\u001b[49m\u001b[33;43m'\u001b[39;49m\u001b[33;43mexchcd\u001b[39;49m\u001b[33;43m'\u001b[39;49m\u001b[43m,\u001b[49m\u001b[33;43m'\u001b[39;49m\u001b[33;43mret\u001b[39;49m\u001b[33;43m'\u001b[39;49m\u001b[43m,\u001b[49m\u001b[33;43m'\u001b[39;49m\u001b[33;43mnaics\u001b[39;49m\u001b[33;43m'\u001b[39;49m\u001b[43m,\u001b[49m\u001b[33;43m'\u001b[39;49m\u001b[33;43msiccd\u001b[39;49m\u001b[33;43m'\u001b[39;49m\u001b[43m]\u001b[49m\u001b[43m,\u001b[49m\u001b[43m \u001b[49m\u001b[43mnrows\u001b[49m\u001b[43m=\u001b[49m\u001b[32;43m1000\u001b[39;49m\u001b[43m)\u001b[49m\u001b[43m)\u001b[49m\u001b[43m)\u001b[49m   \n\u001b[32m      3\u001b[39m dl.head(\u001b[32m0\u001b[39m)\n",
      "\u001b[36mCell\u001b[39m\u001b[36m \u001b[39m\u001b[32mIn[19]\u001b[39m\u001b[32m, line 10\u001b[39m, in \u001b[36mdelist_adj_ret\u001b[39m\u001b[34m(df, adj_ret_var)\u001b[39m\n\u001b[32m      8\u001b[39m df[\u001b[33m'\u001b[39m\u001b[33mnpdelist\u001b[39m\u001b[33m'\u001b[39m] = (df[\u001b[33m'\u001b[39m\u001b[33mdlstcd\u001b[39m\u001b[33m'\u001b[39m]==\u001b[32m500\u001b[39m) | df[\u001b[33m'\u001b[39m\u001b[33mdlstcd\u001b[39m\u001b[33m'\u001b[39m].between(\u001b[32m520\u001b[39m,\u001b[32m584\u001b[39m)\n\u001b[32m      9\u001b[39m df[\u001b[33m'\u001b[39m\u001b[33mdlret\u001b[39m\u001b[33m'\u001b[39m] = np.where(df[\u001b[33m'\u001b[39m\u001b[33mdlret\u001b[39m\u001b[33m'\u001b[39m].isna() & df[\u001b[33m'\u001b[39m\u001b[33mnpdelist\u001b[39m\u001b[33m'\u001b[39m] & df[\u001b[33m'\u001b[39m\u001b[33mexchcd\u001b[39m\u001b[33m'\u001b[39m].isin([\u001b[32m1\u001b[39m,\u001b[32m2\u001b[39m]), -\u001b[32m0.35\u001b[39m, df[\u001b[33m'\u001b[39m\u001b[33mdlret\u001b[39m\u001b[33m'\u001b[39m])\n\u001b[32m---> \u001b[39m\u001b[32m10\u001b[39m df[\u001b[33m'\u001b[39m\u001b[33mdlret\u001b[39m\u001b[33m'\u001b[39m] = \u001b[43mnp\u001b[49m\u001b[43m.\u001b[49m\u001b[43mwhere\u001b[49m\u001b[43m(\u001b[49m\u001b[43mdf\u001b[49m\u001b[43m[\u001b[49m\u001b[33;43m'\u001b[39;49m\u001b[33;43mdlret\u001b[39;49m\u001b[33;43m'\u001b[39;49m\u001b[43m]\u001b[49m\u001b[43m.\u001b[49m\u001b[43misna\u001b[49m\u001b[43m(\u001b[49m\u001b[43m)\u001b[49m\u001b[43m \u001b[49m\u001b[43m&\u001b[49m\u001b[43m \u001b[49m\u001b[43mdf\u001b[49m\u001b[43m[\u001b[49m\u001b[33;43m'\u001b[39;49m\u001b[33;43mnpdelist\u001b[39;49m\u001b[33;43m'\u001b[39;49m\u001b[43m]\u001b[49m\u001b[43m \u001b[49m\u001b[43m&\u001b[49m\u001b[43m \u001b[49m\u001b[43mdf\u001b[49m\u001b[43m[\u001b[49m\u001b[33;43m'\u001b[39;49m\u001b[33;43mexchcd\u001b[39;49m\u001b[33;43m'\u001b[39;49m\u001b[43m]\u001b[49m\u001b[43m.\u001b[49m\u001b[43misin\u001b[49m\u001b[43m(\u001b[49m\u001b[43m[\u001b[49m\u001b[32;43m3\u001b[39;49m\u001b[43m]\u001b[49m\u001b[43m)\u001b[49m\u001b[43m,\u001b[49m\u001b[43m \u001b[49m\u001b[43m-\u001b[49m\u001b[32;43m0.55\u001b[39;49m\u001b[43m,\u001b[49m\u001b[43m \u001b[49m\u001b[43mdf\u001b[49m\u001b[43m[\u001b[49m\u001b[33;43m'\u001b[39;49m\u001b[33;43mdlret\u001b[39;49m\u001b[33;43m'\u001b[39;49m\u001b[43m]\u001b[49m\u001b[43m)\u001b[49m\n\u001b[32m     11\u001b[39m df[\u001b[33m'\u001b[39m\u001b[33mdlret\u001b[39m\u001b[33m'\u001b[39m] = np.where(df[\u001b[33m'\u001b[39m\u001b[33mdlret\u001b[39m\u001b[33m'\u001b[39m].notna() & df[\u001b[33m'\u001b[39m\u001b[33mdlret\u001b[39m\u001b[33m'\u001b[39m] < -\u001b[32m1\u001b[39m, -\u001b[32m1\u001b[39m, df[\u001b[33m'\u001b[39m\u001b[33mdlret\u001b[39m\u001b[33m'\u001b[39m])\n\u001b[32m     12\u001b[39m df[\u001b[33m'\u001b[39m\u001b[33mdlret\u001b[39m\u001b[33m'\u001b[39m] = df[\u001b[33m'\u001b[39m\u001b[33mdlret\u001b[39m\u001b[33m'\u001b[39m].fillna(\u001b[32m0\u001b[39m)\n",
      "\u001b[36mFile \u001b[39m\u001b[32mmissing.pyx:392\u001b[39m, in \u001b[36mpandas._libs.missing.NAType.__bool__\u001b[39m\u001b[34m()\u001b[39m\n",
      "\u001b[31mTypeError\u001b[39m: boolean value of NA is ambiguous"
     ]
    }
   ],
   "source": [
    "#| eval: false\n",
    "dl = delist_adj_ret(process_raw_data(get_raw_data(['dlret','dlstcd','dlstdt','exchcd','ret','naics','siccd'], nrows=1000)))   \n",
    "dl.head(0)"
   ]
  },
  {
   "cell_type": "code",
   "execution_count": null,
   "metadata": {},
   "outputs": [],
   "source": [
    "#| export\n",
    "def features(\n",
    "        df: pd.DataFrame,\n",
    ") -> pd.DataFrame:\n",
    "    \n",
    "    out = pd.DataFrame(index=df.index)\n",
    "\n",
    "    out['ret_adj'] = delist_adj_ret(df, adj_ret_var='ret_adj')[['ret_adj']].copy()\n",
    "    \n",
    "    # Note that we are not using trading days below, but calendar days\n",
    "    #the rrolling method below is not feasible since it creates 30 lags all at once so it blows up the dataset\n",
    "    #out['lbhret12'] = pdm.rrolling(1+df['ret'], window=30, func='prod', skipna=True) - 1\n",
    "    #out['retvol12'] = pdm.rrolling(df['ret'], window=30, func='std', skipna=True) \n",
    "\n",
    "    return out "
   ]
  },
  {
   "cell_type": "code",
   "execution_count": null,
   "metadata": {},
   "outputs": [],
   "source": [
    "#| eval: false\n",
    "ftr = features(df)"
   ]
  },
  {
   "cell_type": "code",
   "execution_count": null,
   "metadata": {},
   "outputs": [
    {
     "data": {
      "text/html": [
       "<div>\n",
       "<style scoped>\n",
       "    .dataframe tbody tr th:only-of-type {\n",
       "        vertical-align: middle;\n",
       "    }\n",
       "\n",
       "    .dataframe tbody tr th {\n",
       "        vertical-align: top;\n",
       "    }\n",
       "\n",
       "    .dataframe thead th {\n",
       "        text-align: right;\n",
       "    }\n",
       "</style>\n",
       "<table border=\"1\" class=\"dataframe\">\n",
       "  <thead>\n",
       "    <tr style=\"text-align: right;\">\n",
       "      <th></th>\n",
       "      <th></th>\n",
       "      <th>ret_adj</th>\n",
       "      <th>lbhret12</th>\n",
       "      <th>retvol12</th>\n",
       "    </tr>\n",
       "    <tr>\n",
       "      <th>permno</th>\n",
       "      <th>Ddate</th>\n",
       "      <th></th>\n",
       "      <th></th>\n",
       "      <th></th>\n",
       "    </tr>\n",
       "  </thead>\n",
       "  <tbody>\n",
       "  </tbody>\n",
       "</table>\n",
       "</div>"
      ],
      "text/plain": [
       "Empty DataFrame\n",
       "Columns: [ret_adj, lbhret12, retvol12]\n",
       "Index: []"
      ]
     },
     "execution_count": null,
     "metadata": {},
     "output_type": "execute_result"
    }
   ],
   "source": [
    "#| eval: false\n",
    "ftr.head(0)"
   ]
  },
  {
   "cell_type": "code",
   "execution_count": null,
   "metadata": {},
   "outputs": [],
   "source": [
    "#| hide\n",
    "import nbdev; nbdev.nbdev_export()"
   ]
  }
 ],
 "metadata": {
  "kernelspec": {
   "display_name": "python3",
   "language": "python",
   "name": "python3"
  }
 },
 "nbformat": 4,
 "nbformat_minor": 2
}
