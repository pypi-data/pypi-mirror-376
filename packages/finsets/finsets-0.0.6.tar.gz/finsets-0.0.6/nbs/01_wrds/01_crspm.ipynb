{
 "cells": [
  {
   "attachments": {},
   "cell_type": "markdown",
   "metadata": {},
   "source": [
    "# crspm\n",
    "\n",
    "> Retrieve and process data from WRDS CRSP Monthly Stock File"
   ]
  },
  {
   "attachments": {},
   "cell_type": "markdown",
   "metadata": {},
   "source": [
    "Since this is a proprietary dataset, in the documentation below, I can not show any of the data that is being retrieved/generated (will show only column names)."
   ]
  },
  {
   "cell_type": "code",
   "execution_count": null,
   "metadata": {},
   "outputs": [],
   "source": [
    "#| default_exp wrds.crspm"
   ]
  },
  {
   "cell_type": "code",
   "execution_count": null,
   "metadata": {},
   "outputs": [],
   "source": [
    "#|exports\n",
    "from __future__ import annotations\n",
    "from typing import List\n",
    "\n",
    "import pandas as pd\n",
    "import numpy as np\n",
    "\n",
    "import pandasmore as pdm\n",
    "from finsets.wrds import wrds_api"
   ]
  },
  {
   "cell_type": "code",
   "execution_count": null,
   "metadata": {},
   "outputs": [],
   "source": [
    "#| exports\n",
    "PROVIDER = 'Wharton Research Data Services (WRDS)'\n",
    "URL = 'https://wrds-www.wharton.upenn.edu/pages/get-data/center-research-security-prices-crsp/annual-update/stock-security-files/monthly-stock-file/'\n",
    "LIBRARY = 'crsp'\n",
    "TABLE = 'msf'\n",
    "NAMES_TABLE = 'msenames'\n",
    "DELIST_TABLE = 'msedelist'\n",
    "FREQ = 'M'\n",
    "MIN_YEAR = 1925\n",
    "MAX_YEAR = None\n",
    "ENTITY_ID_IN_RAW_DSET = 'permno'\n",
    "ENTITY_ID_IN_CLEAN_DSET = 'permno'\n",
    "TIME_VAR_IN_RAW_DSET = 'date'\n",
    "TIME_VAR_IN_CLEAN_DSET = f'{FREQ}date'"
   ]
  },
  {
   "cell_type": "code",
   "execution_count": null,
   "metadata": {},
   "outputs": [],
   "source": [
    "#| export\n",
    "def list_all_vars() -> pd.DataFrame:\n",
    "    \"Collects names of all available variables from WRDS `{LIBRARY}.{TABLE}` and `{LIBRARY}.{NAMES_TABLE}`\"\n",
    "\n",
    "    try:\n",
    "        db = wrds_api.Connection()\n",
    "        msf = db.describe_table(LIBRARY,TABLE).assign(wrds_library=LIBRARY, wrds_table=TABLE)\n",
    "        mse = db.describe_table(LIBRARY,NAMES_TABLE).assign(wrds_library=LIBRARY, wrds_table=NAMES_TABLE)\n",
    "        dlst = db.describe_table(LIBRARY,DELIST_TABLE).assign(wrds_library=LIBRARY, wrds_table=DELIST_TABLE)\n",
    "    finally:\n",
    "        db.close()\n",
    "\n",
    "    return pd.concat([msf, mse, dlst])[['name','type','wrds_library','wrds_table']].copy()"
   ]
  },
  {
   "cell_type": "code",
   "execution_count": null,
   "metadata": {},
   "outputs": [
    {
     "name": "stdout",
     "output_type": "stream",
     "text": [
      "Loading library list...\n",
      "Done\n",
      "Approximately 5153763 rows in crsp.msf.\n",
      "Approximately 115366 rows in crsp.msenames.\n",
      "Approximately 36809 rows in crsp.msedelist.\n"
     ]
    }
   ],
   "source": [
    "#| eval: false\n",
    "all_vars = list_all_vars()"
   ]
  },
  {
   "cell_type": "code",
   "execution_count": null,
   "metadata": {},
   "outputs": [
    {
     "data": {
      "text/plain": [
       "np.int64(61)"
      ]
     },
     "execution_count": null,
     "metadata": {},
     "output_type": "execute_result"
    }
   ],
   "source": [
    "#| eval: false\n",
    "all_vars.name.count()"
   ]
  },
  {
   "cell_type": "code",
   "execution_count": null,
   "metadata": {},
   "outputs": [
    {
     "data": {
      "text/html": [
       "<div>\n",
       "<style scoped>\n",
       "    .dataframe tbody tr th:only-of-type {\n",
       "        vertical-align: middle;\n",
       "    }\n",
       "\n",
       "    .dataframe tbody tr th {\n",
       "        vertical-align: top;\n",
       "    }\n",
       "\n",
       "    .dataframe thead th {\n",
       "        text-align: right;\n",
       "    }\n",
       "</style>\n",
       "<table border=\"1\" class=\"dataframe\">\n",
       "  <thead>\n",
       "    <tr style=\"text-align: right;\">\n",
       "      <th></th>\n",
       "      <th>name</th>\n",
       "      <th>type</th>\n",
       "      <th>wrds_library</th>\n",
       "      <th>wrds_table</th>\n",
       "    </tr>\n",
       "  </thead>\n",
       "  <tbody>\n",
       "    <tr>\n",
       "      <th>0</th>\n",
       "      <td>cusip</td>\n",
       "      <td>VARCHAR(8)</td>\n",
       "      <td>crsp</td>\n",
       "      <td>msf</td>\n",
       "    </tr>\n",
       "    <tr>\n",
       "      <th>1</th>\n",
       "      <td>permno</td>\n",
       "      <td>INTEGER</td>\n",
       "      <td>crsp</td>\n",
       "      <td>msf</td>\n",
       "    </tr>\n",
       "    <tr>\n",
       "      <th>2</th>\n",
       "      <td>permco</td>\n",
       "      <td>INTEGER</td>\n",
       "      <td>crsp</td>\n",
       "      <td>msf</td>\n",
       "    </tr>\n",
       "    <tr>\n",
       "      <th>3</th>\n",
       "      <td>issuno</td>\n",
       "      <td>INTEGER</td>\n",
       "      <td>crsp</td>\n",
       "      <td>msf</td>\n",
       "    </tr>\n",
       "    <tr>\n",
       "      <th>4</th>\n",
       "      <td>hexcd</td>\n",
       "      <td>SMALLINT</td>\n",
       "      <td>crsp</td>\n",
       "      <td>msf</td>\n",
       "    </tr>\n",
       "  </tbody>\n",
       "</table>\n",
       "</div>"
      ],
      "text/plain": [
       "     name        type wrds_library wrds_table\n",
       "0   cusip  VARCHAR(8)         crsp        msf\n",
       "1  permno     INTEGER         crsp        msf\n",
       "2  permco     INTEGER         crsp        msf\n",
       "3  issuno     INTEGER         crsp        msf\n",
       "4   hexcd    SMALLINT         crsp        msf"
      ]
     },
     "execution_count": null,
     "metadata": {},
     "output_type": "execute_result"
    }
   ],
   "source": [
    "#| eval: false\n",
    "all_vars.head()"
   ]
  },
  {
   "cell_type": "code",
   "execution_count": null,
   "metadata": {},
   "outputs": [],
   "source": [
    "#| export\n",
    "def default_raw_vars():\n",
    "    \"\"\"Defines default variables used in `get_raw_data` if none are specified.\"\"\"\n",
    "    \n",
    "    return ['permno','permco','date',\n",
    "            'ret', 'retx', 'shrout', 'prc', \n",
    "            'shrcd', 'exchcd','siccd','naics', 'ticker','cusip','ncusip',\n",
    "            'dlret','dlstcd','dlstdt']            "
   ]
  },
  {
   "cell_type": "code",
   "execution_count": null,
   "metadata": {},
   "outputs": [
    {
     "name": "stdout",
     "output_type": "stream",
     "text": [
      "['permno', 'permco', 'date', 'ret', 'retx', 'shrout', 'prc', 'shrcd', 'exchcd', 'siccd', 'naics', 'ticker', 'cusip', 'ncusip', 'dlret', 'dlstcd', 'dlstdt']\n"
     ]
    }
   ],
   "source": [
    "print(default_raw_vars())"
   ]
  },
  {
   "cell_type": "code",
   "execution_count": null,
   "metadata": {},
   "outputs": [],
   "source": [
    "#| export\n",
    "def parse_varlist(vars: List[str]=None,\n",
    "                  required_vars = [],\n",
    "                  ) -> str:\n",
    "    \"\"\"Figures out which `vars` come from the `{LIBRARY}.{TABLE}` table and which come from the `{LIBRARY}.{NAMES_TABLE}` table and adds a. and b. prefixes to variable names to feed into an SQL query\"\"\"\n",
    "\n",
    "    # Get all available variables and add suffixes needed for the SQL query\n",
    "    suffix_mapping = {TABLE: 'a.', NAMES_TABLE: 'b.', DELIST_TABLE: 'c.'}\n",
    "    all_avail_vars = list_all_vars().drop_duplicates(subset='name',keep='first').copy()\n",
    "    all_avail_vars['w_prefix'] = all_avail_vars.apply(lambda row: suffix_mapping[row['wrds_table']] + row['name'] , axis=1)\n",
    "\n",
    "    if vars == '*': return ','.join(list(all_avail_vars['w_prefix']))\n",
    "    \n",
    "    # Add required vars to requested vars\n",
    "    if vars is None: vars = default_raw_vars()\n",
    "    vars_to_get =  required_vars + [x for x in list(set(vars)) if x not in required_vars]\n",
    "\n",
    "    # Validate variables to be downloaded (make sure that they are in the target database)\n",
    "    invalid_vars = [v for v in vars_to_get if v not in list(all_avail_vars.name)]\n",
    "    if invalid_vars: raise ValueError(f\"These vars are not in the database: {invalid_vars}\") \n",
    "\n",
    "    # Extract information on which variable comes from which wrds table, so we know what prefix to use\n",
    "    vars_to_get = pd.DataFrame(vars_to_get, columns=['name'])\n",
    "    get_these = vars_to_get.merge(all_avail_vars, how = 'left', on = 'name')\n",
    "        \n",
    "    return ','.join(list(get_these['w_prefix']))"
   ]
  },
  {
   "cell_type": "code",
   "execution_count": null,
   "metadata": {},
   "outputs": [
    {
     "name": "stdout",
     "output_type": "stream",
     "text": [
      "Loading library list...\n",
      "Done\n",
      "Approximately 5153763 rows in crsp.msf.\n",
      "Approximately 115366 rows in crsp.msenames.\n",
      "Approximately 36809 rows in crsp.msedelist.\n"
     ]
    },
    {
     "data": {
      "text/plain": [
       "'b.naics,a.ret,c.dlret,b.siccd'"
      ]
     },
     "execution_count": null,
     "metadata": {},
     "output_type": "execute_result"
    }
   ],
   "source": [
    "#| eval: false\n",
    "parse_varlist(['ret', 'siccd', 'naics', 'dlret'])"
   ]
  },
  {
   "cell_type": "code",
   "execution_count": null,
   "metadata": {},
   "outputs": [
    {
     "name": "stdout",
     "output_type": "stream",
     "text": [
      "Loading library list...\n",
      "Done\n",
      "Approximately 5153763 rows in crsp.msf.\n",
      "Approximately 115366 rows in crsp.msenames.\n",
      "Approximately 36809 rows in crsp.msedelist.\n"
     ]
    },
    {
     "data": {
      "text/plain": [
       "'a.cusip,a.permno,a.permco,a.issuno,a.hexcd,a.hsiccd,a.date,a.bidlo,a.askhi,a.prc,a.vol,a.ret,a.bid,a.ask,a.shrout,a.cfacpr,a.cfacshr,a.altprc,a.spread,a.altprcdt,a.retx,b.namedt,b.nameendt,b.shrcd,b.exchcd,b.siccd,b.ncusip,b.ticker,b.comnam,b.shrcls,b.tsymbol,b.naics,b.primexch,b.trdstat,b.secstat,b.compno,c.dlstdt,c.dlstcd,c.nwperm,c.nwcomp,c.nextdt,c.dlamt,c.dlretx,c.dlprc,c.dlpdt,c.dlret,c.acperm,c.accomp'"
      ]
     },
     "execution_count": null,
     "metadata": {},
     "output_type": "execute_result"
    }
   ],
   "source": [
    "#| eval: false\n",
    "parse_varlist('*')"
   ]
  },
  {
   "cell_type": "code",
   "execution_count": null,
   "metadata": {},
   "outputs": [],
   "source": [
    "#| export\n",
    "def get_raw_data(\n",
    "        vars: List[str]=None, # If None, downloads `default_raw_vars`; use '*' to get all available variables\n",
    "        required_vars = ['permno','date'], # Variables that are always downloaded, regardless `vars` argument\n",
    "        nrows: int=None,  #Number of rows to download. If None, full dataset will be downloaded             \n",
    "        start_date: str=None,          # Start date in MM/DD/YYYY format\n",
    "        end_date: str=None,            # End date in MM/DD/YYYY format  \n",
    ") -> pd.DataFrame:\n",
    "    \"Downloads `vars` from `start_date` to `end_date` from WRDS {LIBRARY}.{TABLE}, {LIBRARY}.{NAMES_TABLE} and {LIBRARY}.{DELIST_TABLE}.\" \n",
    "\n",
    "    wrds_api.validate_dates([start_date, end_date])\n",
    "    varlist_string = parse_varlist(vars, required_vars=required_vars)\n",
    "    sql_string = f\"\"\"SELECT {varlist_string}\n",
    "                        FROM {LIBRARY}.{TABLE} AS a \n",
    "                        LEFT JOIN {LIBRARY}.{NAMES_TABLE} AS b\n",
    "                            ON a.permno=b.permno AND b.namedt<=a.date AND a.date<=b.nameendt \n",
    "                        LEFT JOIN {LIBRARY}.{DELIST_TABLE} as c\n",
    "                            ON a.permno=c.permno AND date_trunc('month', a.date) = date_trunc('month', c.dlstdt)\n",
    "                            \"\"\"\n",
    "    sql_string += \"WHERE 1=1 \"\n",
    "    if start_date is not None: sql_string += r\" AND date >= %(start_date)s\"\n",
    "    if end_date is not None: sql_string += r\" AND date <= %(end_date)s\"\n",
    "    if nrows is not None: sql_string += r\" LIMIT %(nrows)s\"\n",
    "\n",
    "    df = wrds_api.download(sql_string,\n",
    "                             params={'start_date':start_date, 'end_date':end_date, 'nrows':nrows})\n",
    "    \n",
    "    return df "
   ]
  },
  {
   "cell_type": "code",
   "execution_count": null,
   "metadata": {},
   "outputs": [
    {
     "name": "stdout",
     "output_type": "stream",
     "text": [
      "Loading library list...\n",
      "Done\n",
      "Approximately 5153763 rows in crsp.msf.\n",
      "Approximately 115366 rows in crsp.msenames.\n",
      "Approximately 36809 rows in crsp.msedelist.\n",
      "Loading library list...\n",
      "Done\n"
     ]
    },
    {
     "data": {
      "text/html": [
       "<div>\n",
       "<style scoped>\n",
       "    .dataframe tbody tr th:only-of-type {\n",
       "        vertical-align: middle;\n",
       "    }\n",
       "\n",
       "    .dataframe tbody tr th {\n",
       "        vertical-align: top;\n",
       "    }\n",
       "\n",
       "    .dataframe thead th {\n",
       "        text-align: right;\n",
       "    }\n",
       "</style>\n",
       "<table border=\"1\" class=\"dataframe\">\n",
       "  <thead>\n",
       "    <tr style=\"text-align: right;\">\n",
       "      <th></th>\n",
       "      <th>cusip</th>\n",
       "      <th>permno</th>\n",
       "      <th>permco</th>\n",
       "      <th>issuno</th>\n",
       "      <th>hexcd</th>\n",
       "      <th>hsiccd</th>\n",
       "      <th>date</th>\n",
       "      <th>bidlo</th>\n",
       "      <th>askhi</th>\n",
       "      <th>prc</th>\n",
       "      <th>...</th>\n",
       "      <th>nwperm</th>\n",
       "      <th>nwcomp</th>\n",
       "      <th>nextdt</th>\n",
       "      <th>dlamt</th>\n",
       "      <th>dlretx</th>\n",
       "      <th>dlprc</th>\n",
       "      <th>dlpdt</th>\n",
       "      <th>dlret</th>\n",
       "      <th>acperm</th>\n",
       "      <th>accomp</th>\n",
       "    </tr>\n",
       "  </thead>\n",
       "  <tbody>\n",
       "    <tr>\n",
       "      <th>0</th>\n",
       "      <td>68391610</td>\n",
       "      <td>10000</td>\n",
       "      <td>7952</td>\n",
       "      <td>10396</td>\n",
       "      <td>3</td>\n",
       "      <td>3990</td>\n",
       "      <td>1985-12-31</td>\n",
       "      <td>&lt;NA&gt;</td>\n",
       "      <td>&lt;NA&gt;</td>\n",
       "      <td>&lt;NA&gt;</td>\n",
       "      <td>...</td>\n",
       "      <td>&lt;NA&gt;</td>\n",
       "      <td>&lt;NA&gt;</td>\n",
       "      <td>&lt;NA&gt;</td>\n",
       "      <td>&lt;NA&gt;</td>\n",
       "      <td>&lt;NA&gt;</td>\n",
       "      <td>&lt;NA&gt;</td>\n",
       "      <td>&lt;NA&gt;</td>\n",
       "      <td>&lt;NA&gt;</td>\n",
       "      <td>&lt;NA&gt;</td>\n",
       "      <td>&lt;NA&gt;</td>\n",
       "    </tr>\n",
       "  </tbody>\n",
       "</table>\n",
       "<p>1 rows × 48 columns</p>\n",
       "</div>"
      ],
      "text/plain": [
       "      cusip  permno  permco  issuno  hexcd  hsiccd        date  bidlo  askhi  \\\n",
       "0  68391610   10000    7952   10396      3    3990  1985-12-31   <NA>   <NA>   \n",
       "\n",
       "    prc  ...  nwperm  nwcomp  nextdt  dlamt  dlretx  dlprc  dlpdt  dlret  \\\n",
       "0  <NA>  ...    <NA>    <NA>    <NA>   <NA>    <NA>   <NA>   <NA>   <NA>   \n",
       "\n",
       "   acperm accomp  \n",
       "0    <NA>   <NA>  \n",
       "\n",
       "[1 rows x 48 columns]"
      ]
     },
     "execution_count": null,
     "metadata": {},
     "output_type": "execute_result"
    }
   ],
   "source": [
    "#| eval: false\n",
    "r = get_raw_data(vars = '*', nrows=100)\n",
    "r.head(1)"
   ]
  },
  {
   "cell_type": "code",
   "execution_count": null,
   "metadata": {},
   "outputs": [],
   "source": [
    "#| export\n",
    "def process_raw_data(\n",
    "        df: pd.DataFrame=None,  # Must contain `permno` and `date` columns         \n",
    "        clean_kwargs: dict={},  # Params to pass to `pdm.setup_panel` other than `panel_ids`, `time_var`, and `freq`\n",
    ") -> pd.DataFrame:\n",
    "    \"\"\"Applies `pandasmore.setup_panel` to `df`\"\"\"\n",
    "\n",
    "    # Change some variables to categorical\n",
    "    for col in ['shrcd','exchcd']:\n",
    "        if col in df.columns:\n",
    "            df[col] = df[col].astype('Int64').astype('category')\n",
    "\n",
    "    for col in ['naics','cusip','ncusip']:\n",
    "        if col in df.columns:\n",
    "            df[col] = df[col].astype('string').astype('category')\n",
    "\n",
    "    if 'siccd' in df.columns:\n",
    "        df['siccd'] = df['siccd'].astype('Int64').astype('string').str.zfill(4).astype('category')\n",
    "\n",
    "    df = pdm.setup_panel(df, panel_ids=ENTITY_ID_IN_RAW_DSET, time_var=TIME_VAR_IN_RAW_DSET, freq=FREQ, \n",
    "                        panel_ids_toint=False, **clean_kwargs)\n",
    "    return df "
   ]
  },
  {
   "cell_type": "code",
   "execution_count": null,
   "metadata": {},
   "outputs": [],
   "source": [
    "#| eval: false\n",
    "df = process_raw_data(r)"
   ]
  },
  {
   "cell_type": "code",
   "execution_count": null,
   "metadata": {},
   "outputs": [
    {
     "data": {
      "text/html": [
       "<div>\n",
       "<style scoped>\n",
       "    .dataframe tbody tr th:only-of-type {\n",
       "        vertical-align: middle;\n",
       "    }\n",
       "\n",
       "    .dataframe tbody tr th {\n",
       "        vertical-align: top;\n",
       "    }\n",
       "\n",
       "    .dataframe thead th {\n",
       "        text-align: right;\n",
       "    }\n",
       "</style>\n",
       "<table border=\"1\" class=\"dataframe\">\n",
       "  <thead>\n",
       "    <tr style=\"text-align: right;\">\n",
       "      <th></th>\n",
       "      <th></th>\n",
       "      <th>date</th>\n",
       "      <th>dtdate</th>\n",
       "      <th>cusip</th>\n",
       "      <th>permco</th>\n",
       "      <th>issuno</th>\n",
       "      <th>hexcd</th>\n",
       "      <th>hsiccd</th>\n",
       "      <th>bidlo</th>\n",
       "      <th>askhi</th>\n",
       "      <th>prc</th>\n",
       "      <th>...</th>\n",
       "      <th>nwperm</th>\n",
       "      <th>nwcomp</th>\n",
       "      <th>nextdt</th>\n",
       "      <th>dlamt</th>\n",
       "      <th>dlretx</th>\n",
       "      <th>dlprc</th>\n",
       "      <th>dlpdt</th>\n",
       "      <th>dlret</th>\n",
       "      <th>acperm</th>\n",
       "      <th>accomp</th>\n",
       "    </tr>\n",
       "    <tr>\n",
       "      <th>permno</th>\n",
       "      <th>Mdate</th>\n",
       "      <th></th>\n",
       "      <th></th>\n",
       "      <th></th>\n",
       "      <th></th>\n",
       "      <th></th>\n",
       "      <th></th>\n",
       "      <th></th>\n",
       "      <th></th>\n",
       "      <th></th>\n",
       "      <th></th>\n",
       "      <th></th>\n",
       "      <th></th>\n",
       "      <th></th>\n",
       "      <th></th>\n",
       "      <th></th>\n",
       "      <th></th>\n",
       "      <th></th>\n",
       "      <th></th>\n",
       "      <th></th>\n",
       "      <th></th>\n",
       "      <th></th>\n",
       "    </tr>\n",
       "  </thead>\n",
       "  <tbody>\n",
       "  </tbody>\n",
       "</table>\n",
       "<p>0 rows × 48 columns</p>\n",
       "</div>"
      ],
      "text/plain": [
       "Empty DataFrame\n",
       "Columns: [date, dtdate, cusip, permco, issuno, hexcd, hsiccd, bidlo, askhi, prc, vol, ret, bid, ask, shrout, cfacpr, cfacshr, altprc, spread, altprcdt, retx, namedt, nameendt, shrcd, exchcd, siccd, ncusip, ticker, comnam, shrcls, tsymbol, naics, primexch, trdstat, secstat, compno, dlstdt, dlstcd, nwperm, nwcomp, nextdt, dlamt, dlretx, dlprc, dlpdt, dlret, acperm, accomp]\n",
       "Index: []\n",
       "\n",
       "[0 rows x 48 columns]"
      ]
     },
     "execution_count": null,
     "metadata": {},
     "output_type": "execute_result"
    }
   ],
   "source": [
    "#| eval: false\n",
    "df.head(0)"
   ]
  },
  {
   "cell_type": "code",
   "execution_count": null,
   "metadata": {},
   "outputs": [],
   "source": [
    "#| export\n",
    "def delist_adj_ret(\n",
    "        df: pd.DataFrame, # Requires `ret`,`exchcd`,`dlret`,`dlstcd`, and `dlstdt` variables\n",
    "        adj_ret_var: str='ret_adj' # Name of the adjusted return variable created by this function\n",
    ") -> pd.DataFrame:\n",
    "    \"\"\"Adjusts for returns for delisting using Shumway and Warther (1999) and Johnson and Zhao (2007)\"\"\"\n",
    "\n",
    "    df['npdelist'] = (df['dlstcd']==500) | df['dlstcd'].between(520,584)\n",
    "    \n",
    "    cond12 = df['dlret'].isna() & df['npdelist'].fillna(False) & df['exchcd'].isin([1, 2])\n",
    "    df.loc[cond12, 'dlret'] = -0.35\n",
    "    \n",
    "    cond3 = df['dlret'].isna() & df['npdelist'].fillna(False) & df['exchcd'].isin([3])\n",
    "    df.loc[cond3, 'dlret'] = -0.55\n",
    "    \n",
    "    df.loc[df['dlret'].notna() & (df['dlret'] < -1), 'dlret'] = -1\n",
    "    \n",
    "    df['dlret'] = df['dlret'].fillna(0)\n",
    "\n",
    "    df[adj_ret_var] = (1 + df.ret) * (1 + df['dlret']) - 1\n",
    "    df[adj_ret_var] = np.where(df[adj_ret_var].isna() & (df['dlret']!=0), df['dlret'], df[adj_ret_var])\n",
    "    df = df.drop('npdelist', axis=1) \n",
    "    return df"
   ]
  },
  {
   "cell_type": "code",
   "execution_count": null,
   "metadata": {},
   "outputs": [
    {
     "name": "stdout",
     "output_type": "stream",
     "text": [
      "Loading library list...\n",
      "Done\n",
      "Approximately 5153763 rows in crsp.msf.\n",
      "Approximately 115366 rows in crsp.msenames.\n",
      "Approximately 36809 rows in crsp.msedelist.\n",
      "Loading library list...\n",
      "Done\n"
     ]
    },
    {
     "data": {
      "text/html": [
       "<div>\n",
       "<style scoped>\n",
       "    .dataframe tbody tr th:only-of-type {\n",
       "        vertical-align: middle;\n",
       "    }\n",
       "\n",
       "    .dataframe tbody tr th {\n",
       "        vertical-align: top;\n",
       "    }\n",
       "\n",
       "    .dataframe thead th {\n",
       "        text-align: right;\n",
       "    }\n",
       "</style>\n",
       "<table border=\"1\" class=\"dataframe\">\n",
       "  <thead>\n",
       "    <tr style=\"text-align: right;\">\n",
       "      <th></th>\n",
       "      <th></th>\n",
       "      <th>date</th>\n",
       "      <th>dtdate</th>\n",
       "      <th>dlstcd</th>\n",
       "      <th>exchcd</th>\n",
       "      <th>dlstdt</th>\n",
       "      <th>ret</th>\n",
       "      <th>naics</th>\n",
       "      <th>dlret</th>\n",
       "      <th>siccd</th>\n",
       "      <th>ret_adj</th>\n",
       "    </tr>\n",
       "    <tr>\n",
       "      <th>permno</th>\n",
       "      <th>Mdate</th>\n",
       "      <th></th>\n",
       "      <th></th>\n",
       "      <th></th>\n",
       "      <th></th>\n",
       "      <th></th>\n",
       "      <th></th>\n",
       "      <th></th>\n",
       "      <th></th>\n",
       "      <th></th>\n",
       "      <th></th>\n",
       "    </tr>\n",
       "  </thead>\n",
       "  <tbody>\n",
       "  </tbody>\n",
       "</table>\n",
       "</div>"
      ],
      "text/plain": [
       "Empty DataFrame\n",
       "Columns: [date, dtdate, dlstcd, exchcd, dlstdt, ret, naics, dlret, siccd, ret_adj]\n",
       "Index: []"
      ]
     },
     "execution_count": null,
     "metadata": {},
     "output_type": "execute_result"
    }
   ],
   "source": [
    "#| eval: false\n",
    "dl = delist_adj_ret(process_raw_data(get_raw_data(['dlret','dlstcd','dlstdt','exchcd','ret','siccd','naics'], nrows=1000)))   \n",
    "dl.head(0)"
   ]
  },
  {
   "cell_type": "code",
   "execution_count": null,
   "metadata": {},
   "outputs": [],
   "source": [
    "#| export\n",
    "def features(\n",
    "        df: pd.DataFrame,\n",
    ") -> pd.DataFrame:\n",
    "    \n",
    "    out = pd.DataFrame(index=df.index)\n",
    "    \n",
    "    out['ret_adj'] = delist_adj_ret(df, adj_ret_var='ret_adj')[['ret_adj']].copy()\n",
    "\n",
    "    out['lbhret12'] = pdm.rrolling(1+df['ret'], window=12, func='prod') - 1\n",
    "    out['retvol12'] = pdm.rrolling(df['ret'], window=12, func='std') \n",
    "\n",
    "    return out "
   ]
  },
  {
   "cell_type": "code",
   "execution_count": null,
   "metadata": {},
   "outputs": [],
   "source": [
    "#| eval: false\n",
    "ftr = features(df)"
   ]
  },
  {
   "cell_type": "code",
   "execution_count": null,
   "metadata": {},
   "outputs": [
    {
     "data": {
      "text/html": [
       "<div>\n",
       "<style scoped>\n",
       "    .dataframe tbody tr th:only-of-type {\n",
       "        vertical-align: middle;\n",
       "    }\n",
       "\n",
       "    .dataframe tbody tr th {\n",
       "        vertical-align: top;\n",
       "    }\n",
       "\n",
       "    .dataframe thead th {\n",
       "        text-align: right;\n",
       "    }\n",
       "</style>\n",
       "<table border=\"1\" class=\"dataframe\">\n",
       "  <thead>\n",
       "    <tr style=\"text-align: right;\">\n",
       "      <th></th>\n",
       "      <th></th>\n",
       "      <th>ret_adj</th>\n",
       "      <th>lbhret12</th>\n",
       "      <th>retvol12</th>\n",
       "    </tr>\n",
       "    <tr>\n",
       "      <th>permno</th>\n",
       "      <th>Mdate</th>\n",
       "      <th></th>\n",
       "      <th></th>\n",
       "      <th></th>\n",
       "    </tr>\n",
       "  </thead>\n",
       "  <tbody>\n",
       "    <tr>\n",
       "      <th>10000</th>\n",
       "      <th>1985-12</th>\n",
       "      <td>NaN</td>\n",
       "      <td>&lt;NA&gt;</td>\n",
       "      <td>&lt;NA&gt;</td>\n",
       "    </tr>\n",
       "  </tbody>\n",
       "</table>\n",
       "</div>"
      ],
      "text/plain": [
       "                ret_adj  lbhret12  retvol12\n",
       "permno Mdate                               \n",
       "10000  1985-12      NaN      <NA>      <NA>"
      ]
     },
     "execution_count": null,
     "metadata": {},
     "output_type": "execute_result"
    }
   ],
   "source": [
    "#| eval: false\n",
    "ftr.head(1)"
   ]
  },
  {
   "cell_type": "code",
   "execution_count": null,
   "metadata": {},
   "outputs": [],
   "source": [
    "#| hide\n",
    "import nbdev; nbdev.nbdev_export()"
   ]
  }
 ],
 "metadata": {
  "kernelspec": {
   "display_name": "python3",
   "language": "python",
   "name": "python3"
  }
 },
 "nbformat": 4,
 "nbformat_minor": 2
}
