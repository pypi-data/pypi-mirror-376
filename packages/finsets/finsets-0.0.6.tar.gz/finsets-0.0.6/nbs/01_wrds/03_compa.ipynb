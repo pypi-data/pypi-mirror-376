{
 "cells": [
  {
   "cell_type": "markdown",
   "metadata": {},
   "source": [
    "# compa\n",
    "\n",
    "> Retrieve and process data from WRDS Compustat Annual"
   ]
  },
  {
   "cell_type": "code",
   "execution_count": null,
   "metadata": {},
   "outputs": [],
   "source": [
    "#| default_exp wrds.compa"
   ]
  },
  {
   "cell_type": "code",
   "execution_count": null,
   "metadata": {},
   "outputs": [],
   "source": [
    "#|exports\n",
    "from __future__ import annotations\n",
    "from typing import List\n",
    "\n",
    "import pandas as pd\n",
    "import numpy as np\n",
    "\n",
    "import pandasmore as pdm\n",
    "from finsets.wrds import wrds_api"
   ]
  },
  {
   "cell_type": "code",
   "execution_count": null,
   "metadata": {},
   "outputs": [],
   "source": [
    "#| exports\n",
    "PROVIDER = 'Wharton Research Data Services (WRDS)'\n",
    "URL = 'https://wrds-www.wharton.upenn.edu/pages/get-data/compustat-capital-iq-standard-poors/compustat/north-america-daily/fundamentals-annual/'\n",
    "LIBRARY = 'comp'\n",
    "TABLE = 'funda'\n",
    "COMPANY_TABLE = 'company' #contains some header information that is missing from comp.funda (e.g. sic and naics) \n",
    "FREQ = 'Y'\n",
    "MIN_YEAR = 1950\n",
    "MAX_YEAR = None\n",
    "ENTITY_ID_IN_RAW_DSET = 'gvkey'\n",
    "ENTITY_ID_IN_CLEAN_DSET = 'gvkey'\n",
    "TIME_VAR_IN_RAW_DSET = 'datadate'\n",
    "TIME_VAR_IN_CLEAN_DSET = f'{FREQ}date'"
   ]
  },
  {
   "cell_type": "code",
   "execution_count": null,
   "metadata": {},
   "outputs": [],
   "source": [
    "#| export\n",
    "def list_all_vars() -> pd.DataFrame:\n",
    "    \"Collects names of all available variables from WRDS f`{LIBRARY}.{TABLE}` and `{LIBRARY}.{COMPANY_TABLE}`.\"\n",
    "\n",
    "    try:\n",
    "        db = wrds_api.Connection()\n",
    "        funda = db.describe_table(LIBRARY,TABLE).assign(wrds_library=LIBRARY, wrds_table=TABLE)\n",
    "        fundn = db.describe_table(LIBRARY,COMPANY_TABLE).assign(wrds_library=LIBRARY, wrds_table=COMPANY_TABLE)\n",
    "    finally:\n",
    "        db.close()\n",
    "\n",
    "    return pd.concat([funda,fundn])[['name','type','wrds_library','wrds_table']].copy()"
   ]
  },
  {
   "cell_type": "code",
   "execution_count": null,
   "metadata": {},
   "outputs": [
    {
     "name": "stdout",
     "output_type": "stream",
     "text": [
      "Loading library list...\n",
      "Done\n",
      "Approximately 921202 rows in comp.funda.\n",
      "Approximately 55294 rows in comp.company.\n"
     ]
    }
   ],
   "source": [
    "#| eval: false\n",
    "all_vars = list_all_vars()"
   ]
  },
  {
   "cell_type": "code",
   "execution_count": null,
   "metadata": {},
   "outputs": [
    {
     "data": {
      "text/html": [
       "<div>\n",
       "<style scoped>\n",
       "    .dataframe tbody tr th:only-of-type {\n",
       "        vertical-align: middle;\n",
       "    }\n",
       "\n",
       "    .dataframe tbody tr th {\n",
       "        vertical-align: top;\n",
       "    }\n",
       "\n",
       "    .dataframe thead th {\n",
       "        text-align: right;\n",
       "    }\n",
       "</style>\n",
       "<table border=\"1\" class=\"dataframe\">\n",
       "  <thead>\n",
       "    <tr style=\"text-align: right;\">\n",
       "      <th></th>\n",
       "      <th>name</th>\n",
       "      <th>type</th>\n",
       "      <th>wrds_library</th>\n",
       "      <th>wrds_table</th>\n",
       "    </tr>\n",
       "  </thead>\n",
       "  <tbody>\n",
       "    <tr>\n",
       "      <th>9</th>\n",
       "      <td>conm</td>\n",
       "      <td>VARCHAR(70)</td>\n",
       "      <td>comp</td>\n",
       "      <td>funda</td>\n",
       "    </tr>\n",
       "    <tr>\n",
       "      <th>0</th>\n",
       "      <td>conm</td>\n",
       "      <td>VARCHAR(70)</td>\n",
       "      <td>comp</td>\n",
       "      <td>company</td>\n",
       "    </tr>\n",
       "    <tr>\n",
       "      <th>10</th>\n",
       "      <td>conml</td>\n",
       "      <td>VARCHAR(100)</td>\n",
       "      <td>comp</td>\n",
       "      <td>company</td>\n",
       "    </tr>\n",
       "  </tbody>\n",
       "</table>\n",
       "</div>"
      ],
      "text/plain": [
       "     name          type wrds_library wrds_table\n",
       "9    conm   VARCHAR(70)         comp      funda\n",
       "0    conm   VARCHAR(70)         comp    company\n",
       "10  conml  VARCHAR(100)         comp    company"
      ]
     },
     "execution_count": null,
     "metadata": {},
     "output_type": "execute_result"
    }
   ],
   "source": [
    "#| eval: false\n",
    "all_vars.loc[all_vars.name.str.contains('conm'),:]"
   ]
  },
  {
   "cell_type": "code",
   "execution_count": null,
   "metadata": {},
   "outputs": [],
   "source": [
    "#| export\n",
    "def default_raw_vars():\n",
    "    \"\"\"Defines default variables used in `get_raw_data` if none are specified.\"\"\"\n",
    "\n",
    "    return ['datadate', 'gvkey', 'cusip' ,'cik' ,'tic' ,'fyear' ,'fyr' , 'fic',\n",
    "            'naicsh', 'sich' , 'sic', 'naics', 'exchg',  \n",
    "            'lt' ,'at' ,'txditc' ,'pstkl' ,'pstkrv' ,'pstk' ,'csho' ,'ajex' , 'rdip',\n",
    "            'act' ,'dvc' ,'xad','seq' ,'che' ,'lct' ,'dlc' ,'ib' ,'dvp' ,'txdi' ,'dp' ,\n",
    "            'txp' ,'oancf' ,'ivncf' ,'fincf' ,'dltt' ,'mib','ceq' ,'invt' ,'cogs' , 'revt',\n",
    "            'sale' ,'capx' ,'xrd' ,'txdb' ,'prcc_f' ,'sstk' ,'prstkc' ,'dltis' ,'dltr' ,'emp' ,\n",
    "            'dd1' ,'ppegt' ,'ppent' ,'xint' ,'txt' ,'sppe' ,'gdwl' ,'xrent' ,'re' ,'dvpsx_f' ,\n",
    "            'tstk' ,'wcap' ,'rect' ,'xsga' ,'aqc' ,'oibdp' ,'dpact','ni' ,'ivao' ,'ivst' ,\n",
    "            'dv' , 'intan' ,'pi' ,'txfo' ,'pifo' ,'xpp' ,'drc' ,'drlt' ,'ap' ,'xacc' ,'itcb']             "
   ]
  },
  {
   "cell_type": "code",
   "execution_count": null,
   "metadata": {},
   "outputs": [
    {
     "name": "stdout",
     "output_type": "stream",
     "text": [
      "['datadate', 'gvkey', 'cusip', 'cik', 'tic', 'fyear', 'fyr', 'fic', 'naicsh', 'sich', 'sic', 'naics', 'exchg', 'lt', 'at', 'txditc', 'pstkl', 'pstkrv', 'pstk', 'csho', 'ajex', 'rdip', 'act', 'dvc', 'xad', 'seq', 'che', 'lct', 'dlc', 'ib', 'dvp', 'txdi', 'dp', 'txp', 'oancf', 'ivncf', 'fincf', 'dltt', 'mib', 'ceq', 'invt', 'cogs', 'revt', 'sale', 'capx', 'xrd', 'txdb', 'prcc_f', 'sstk', 'prstkc', 'dltis', 'dltr', 'emp', 'dd1', 'ppegt', 'ppent', 'xint', 'txt', 'sppe', 'gdwl', 'xrent', 're', 'dvpsx_f', 'tstk', 'wcap', 'rect', 'xsga', 'aqc', 'oibdp', 'dpact', 'ni', 'ivao', 'ivst', 'dv', 'intan', 'pi', 'txfo', 'pifo', 'xpp', 'drc', 'drlt', 'ap', 'xacc', 'itcb']\n"
     ]
    }
   ],
   "source": [
    "print(default_raw_vars())"
   ]
  },
  {
   "cell_type": "code",
   "execution_count": null,
   "metadata": {},
   "outputs": [],
   "source": [
    "#| export\n",
    "def parse_varlist(vars: List[str]=None,\n",
    "                  required_vars = [],\n",
    "                  ) -> str:\n",
    "    \"\"\"Figures out which `vars` come from the `{LIBRARY}.{TABLE}` table and which come from the `{LIBRARY}.{COMPANY_TABLE}` table and adds a. and b. prefixes to variable names to feed into an SQL query\"\"\"\n",
    "\n",
    "    # Get all available variables and add suffixes needed for the SQL query\n",
    "    suffix_mapping = {TABLE: 'a.', COMPANY_TABLE: 'b.'}\n",
    "    all_avail_vars = list_all_vars().drop_duplicates(subset='name',keep='first').copy()\n",
    "    all_avail_vars['w_prefix'] = all_avail_vars.apply(lambda row: suffix_mapping[row['wrds_table']] + row['name'] , axis=1)\n",
    "\n",
    "    if vars == '*': return ','.join(list(all_avail_vars['w_prefix']))\n",
    "    \n",
    "    # Add required vars to requested vars\n",
    "    if vars is None: vars = default_raw_vars()\n",
    "    vars_to_get =  required_vars + [x for x in list(set(vars)) if x not in required_vars]\n",
    "\n",
    "    # Validate variables to be downloaded (make sure that they are in the target database)\n",
    "    invalid_vars = [v for v in vars_to_get if v not in list(all_avail_vars.name)]\n",
    "    if invalid_vars: raise ValueError(f\"These vars are not in the database: {invalid_vars}\") \n",
    "\n",
    "    # Extract information on which variable comes from which wrds table, so we know what prefix to use\n",
    "    vars_to_get = pd.DataFrame(vars_to_get, columns=['name'])\n",
    "    get_these = vars_to_get.merge(all_avail_vars, how = 'left', on = 'name')\n",
    "        \n",
    "    return ','.join(list(get_these['w_prefix']))"
   ]
  },
  {
   "cell_type": "code",
   "execution_count": null,
   "metadata": {},
   "outputs": [
    {
     "name": "stdout",
     "output_type": "stream",
     "text": [
      "Loading library list...\n",
      "Done\n",
      "Approximately 921202 rows in comp.funda.\n",
      "Approximately 55294 rows in comp.company.\n"
     ]
    },
    {
     "data": {
      "text/plain": [
       "'a.lt,b.sic,a.at'"
      ]
     },
     "execution_count": null,
     "metadata": {},
     "output_type": "execute_result"
    }
   ],
   "source": [
    "#| eval: false\n",
    "parse_varlist(['at','lt','sic'])"
   ]
  },
  {
   "cell_type": "code",
   "execution_count": null,
   "metadata": {},
   "outputs": [],
   "source": [
    "#| export\n",
    "def get_raw_data(\n",
    "        vars: List[str]=None, # If None, downloads `default_raw_vars`; use '*' to get all available variables\n",
    "        required_vars: List[str]=['gvkey','datadate'], #list of variables that will get downloaded, even if not in `vars`\n",
    "        nrows: int=None, #Number of rows to download. If None, full dataset will be downloaded\n",
    "        start_date: str=None, # Start date in MM/DD/YYYY format\n",
    "        end_date: str=None #End date in MM/DD/YYYY format\n",
    ") -> pd.DataFrame:\n",
    "    \"\"\"Downloads `vars` from `start_date` to `end_date` from WRDS `{LIBRARY}.{TABLE}` library \"\"\"\n",
    " \n",
    "    wrds_api.validate_dates([start_date, end_date])\n",
    "    vars = parse_varlist(vars, required_vars=required_vars)\n",
    "\n",
    "    sql_string=f\"\"\"SELECT  {vars}  \n",
    "                    FROM {LIBRARY}.{TABLE} as a \n",
    "                    LEFT JOIN {LIBRARY}.{COMPANY_TABLE} as b ON a.gvkey = b.gvkey\n",
    "                    WHERE  indfmt='INDL' AND datafmt='STD' AND popsrc='D' AND consol='C'\n",
    "                \"\"\"\n",
    "    if start_date is not None: sql_string += r\" AND datadate >= %(start_date)s\"\n",
    "    if end_date is not None: sql_string += r\" AND datadate <= %(end_date)s\"\n",
    "    if nrows is not None: sql_string += r\" LIMIT %(nrows)s\"\n",
    "    \n",
    "    return wrds_api.download(sql_string,\n",
    "                             params={'start_date':start_date, 'end_date':end_date, 'nrows':nrows})"
   ]
  },
  {
   "cell_type": "markdown",
   "metadata": {},
   "source": [
    "The `get_raw_data` function will produce unique `gvkey-datadate` records, which is not the case for the data we would get from the WRDS [website](https://wrds-www.wharton.upenn.edu/pages/get-data/compustat-capital-iq-standard-poors/compustat/north-america-daily/fundamentals-annual/), because they use `indfmt IN ('INDL','FS')` (while we use `indfmt='INDL'`)."
   ]
  },
  {
   "cell_type": "code",
   "execution_count": null,
   "metadata": {},
   "outputs": [
    {
     "name": "stdout",
     "output_type": "stream",
     "text": [
      "Loading library list...\n",
      "Done\n",
      "Approximately 921202 rows in comp.funda.\n",
      "Approximately 55294 rows in comp.company.\n",
      "Loading library list...\n",
      "Done\n"
     ]
    },
    {
     "data": {
      "text/html": [
       "<div>\n",
       "<style scoped>\n",
       "    .dataframe tbody tr th:only-of-type {\n",
       "        vertical-align: middle;\n",
       "    }\n",
       "\n",
       "    .dataframe tbody tr th {\n",
       "        vertical-align: top;\n",
       "    }\n",
       "\n",
       "    .dataframe thead th {\n",
       "        text-align: right;\n",
       "    }\n",
       "</style>\n",
       "<table border=\"1\" class=\"dataframe\">\n",
       "  <thead>\n",
       "    <tr style=\"text-align: right;\">\n",
       "      <th></th>\n",
       "      <th>gvkey</th>\n",
       "      <th>datadate</th>\n",
       "      <th>indfmt</th>\n",
       "      <th>sich</th>\n",
       "      <th>sic</th>\n",
       "      <th>at</th>\n",
       "    </tr>\n",
       "  </thead>\n",
       "  <tbody>\n",
       "    <tr>\n",
       "      <th>0</th>\n",
       "      <td>001000</td>\n",
       "      <td>1961-12-31</td>\n",
       "      <td>INDL</td>\n",
       "      <td>&lt;NA&gt;</td>\n",
       "      <td>3089</td>\n",
       "      <td>&lt;NA&gt;</td>\n",
       "    </tr>\n",
       "  </tbody>\n",
       "</table>\n",
       "</div>"
      ],
      "text/plain": [
       "    gvkey    datadate indfmt  sich   sic    at\n",
       "0  001000  1961-12-31   INDL  <NA>  3089  <NA>"
      ]
     },
     "execution_count": null,
     "metadata": {},
     "output_type": "execute_result"
    }
   ],
   "source": [
    "#| eval: false\n",
    "m = get_raw_data(['at','indfmt','sich','sic'],nrows=1)\n",
    "m"
   ]
  },
  {
   "cell_type": "code",
   "execution_count": null,
   "metadata": {},
   "outputs": [
    {
     "name": "stdout",
     "output_type": "stream",
     "text": [
      "Loading library list...\n",
      "Done\n",
      "Approximately 921202 rows in comp.funda.\n",
      "Approximately 55294 rows in comp.company.\n",
      "Loading library list...\n",
      "Done\n"
     ]
    },
    {
     "data": {
      "text/html": [
       "<div>\n",
       "<style scoped>\n",
       "    .dataframe tbody tr th:only-of-type {\n",
       "        vertical-align: middle;\n",
       "    }\n",
       "\n",
       "    .dataframe tbody tr th {\n",
       "        vertical-align: top;\n",
       "    }\n",
       "\n",
       "    .dataframe thead th {\n",
       "        text-align: right;\n",
       "    }\n",
       "</style>\n",
       "<table border=\"1\" class=\"dataframe\">\n",
       "  <thead>\n",
       "    <tr style=\"text-align: right;\">\n",
       "      <th></th>\n",
       "      <th>gvkey</th>\n",
       "      <th>datadate</th>\n",
       "      <th>fyear</th>\n",
       "      <th>indfmt</th>\n",
       "      <th>consol</th>\n",
       "      <th>popsrc</th>\n",
       "      <th>datafmt</th>\n",
       "      <th>tic</th>\n",
       "      <th>cusip</th>\n",
       "      <th>conm</th>\n",
       "      <th>...</th>\n",
       "      <th>sic</th>\n",
       "      <th>spcindcd</th>\n",
       "      <th>spcseccd</th>\n",
       "      <th>spcsrc</th>\n",
       "      <th>state</th>\n",
       "      <th>stko</th>\n",
       "      <th>weburl</th>\n",
       "      <th>dldte</th>\n",
       "      <th>ipodate</th>\n",
       "      <th>curr_sp500_flag</th>\n",
       "    </tr>\n",
       "  </thead>\n",
       "  <tbody>\n",
       "    <tr>\n",
       "      <th>0</th>\n",
       "      <td>001000</td>\n",
       "      <td>1961-12-31</td>\n",
       "      <td>1961</td>\n",
       "      <td>INDL</td>\n",
       "      <td>C</td>\n",
       "      <td>D</td>\n",
       "      <td>STD</td>\n",
       "      <td>AE.2</td>\n",
       "      <td>000032102</td>\n",
       "      <td>A &amp; E PLASTIK PAK INC</td>\n",
       "      <td>...</td>\n",
       "      <td>3089</td>\n",
       "      <td>325</td>\n",
       "      <td>978</td>\n",
       "      <td>&lt;NA&gt;</td>\n",
       "      <td>&lt;NA&gt;</td>\n",
       "      <td>0</td>\n",
       "      <td>&lt;NA&gt;</td>\n",
       "      <td>1978-06-30</td>\n",
       "      <td>&lt;NA&gt;</td>\n",
       "      <td>0.0</td>\n",
       "    </tr>\n",
       "  </tbody>\n",
       "</table>\n",
       "<p>1 rows × 983 columns</p>\n",
       "</div>"
      ],
      "text/plain": [
       "    gvkey    datadate  fyear indfmt consol popsrc datafmt   tic      cusip  \\\n",
       "0  001000  1961-12-31   1961   INDL      C      D     STD  AE.2  000032102   \n",
       "\n",
       "                    conm  ...   sic spcindcd spcseccd spcsrc  state  stko  \\\n",
       "0  A & E PLASTIK PAK INC  ...  3089      325      978   <NA>   <NA>     0   \n",
       "\n",
       "  weburl       dldte ipodate curr_sp500_flag  \n",
       "0   <NA>  1978-06-30    <NA>             0.0  \n",
       "\n",
       "[1 rows x 983 columns]"
      ]
     },
     "execution_count": null,
     "metadata": {},
     "output_type": "execute_result"
    }
   ],
   "source": [
    "#| eval: false\n",
    "r = get_raw_data(vars='*', nrows=1)\n",
    "r"
   ]
  },
  {
   "cell_type": "code",
   "execution_count": null,
   "metadata": {},
   "outputs": [
    {
     "name": "stdout",
     "output_type": "stream",
     "text": [
      "Loading library list...\n",
      "Done\n",
      "Approximately 921202 rows in comp.funda.\n",
      "Approximately 55294 rows in comp.company.\n",
      "Loading library list...\n",
      "Done\n"
     ]
    }
   ],
   "source": [
    "#| eval: false\n",
    "raw = get_raw_data(vars = ['at', 'lt'], start_date='01/01/2021', end_date='01/01/2022', nrows=1)"
   ]
  },
  {
   "cell_type": "code",
   "execution_count": null,
   "metadata": {},
   "outputs": [
    {
     "data": {
      "text/html": [
       "<div>\n",
       "<style scoped>\n",
       "    .dataframe tbody tr th:only-of-type {\n",
       "        vertical-align: middle;\n",
       "    }\n",
       "\n",
       "    .dataframe tbody tr th {\n",
       "        vertical-align: top;\n",
       "    }\n",
       "\n",
       "    .dataframe thead th {\n",
       "        text-align: right;\n",
       "    }\n",
       "</style>\n",
       "<table border=\"1\" class=\"dataframe\">\n",
       "  <thead>\n",
       "    <tr style=\"text-align: right;\">\n",
       "      <th></th>\n",
       "      <th>gvkey</th>\n",
       "      <th>datadate</th>\n",
       "      <th>lt</th>\n",
       "      <th>at</th>\n",
       "    </tr>\n",
       "  </thead>\n",
       "  <tbody>\n",
       "  </tbody>\n",
       "</table>\n",
       "</div>"
      ],
      "text/plain": [
       "Empty DataFrame\n",
       "Columns: [gvkey, datadate, lt, at]\n",
       "Index: []"
      ]
     },
     "execution_count": null,
     "metadata": {},
     "output_type": "execute_result"
    }
   ],
   "source": [
    "#| eval: false\n",
    "raw.head(0)"
   ]
  },
  {
   "cell_type": "code",
   "execution_count": null,
   "metadata": {},
   "outputs": [
    {
     "name": "stdout",
     "output_type": "stream",
     "text": [
      "Loading library list...\n",
      "Done\n",
      "Approximately 921202 rows in comp.funda.\n",
      "Approximately 55294 rows in comp.company.\n",
      "Loading library list...\n",
      "Done\n"
     ]
    }
   ],
   "source": [
    "#| eval: false\n",
    "raw = get_raw_data(start_date='01/01/2021', end_date='01/01/2023')"
   ]
  },
  {
   "cell_type": "code",
   "execution_count": null,
   "metadata": {},
   "outputs": [
    {
     "data": {
      "text/html": [
       "<div>\n",
       "<style scoped>\n",
       "    .dataframe tbody tr th:only-of-type {\n",
       "        vertical-align: middle;\n",
       "    }\n",
       "\n",
       "    .dataframe tbody tr th {\n",
       "        vertical-align: top;\n",
       "    }\n",
       "\n",
       "    .dataframe thead th {\n",
       "        text-align: right;\n",
       "    }\n",
       "</style>\n",
       "<table border=\"1\" class=\"dataframe\">\n",
       "  <thead>\n",
       "    <tr style=\"text-align: right;\">\n",
       "      <th></th>\n",
       "      <th>gvkey</th>\n",
       "      <th>datadate</th>\n",
       "      <th>dd1</th>\n",
       "      <th>naicsh</th>\n",
       "      <th>sstk</th>\n",
       "      <th>sic</th>\n",
       "      <th>txp</th>\n",
       "      <th>xsga</th>\n",
       "      <th>ivst</th>\n",
       "      <th>exchg</th>\n",
       "      <th>...</th>\n",
       "      <th>ib</th>\n",
       "      <th>xrd</th>\n",
       "      <th>dltis</th>\n",
       "      <th>drc</th>\n",
       "      <th>cik</th>\n",
       "      <th>ivncf</th>\n",
       "      <th>capx</th>\n",
       "      <th>txdb</th>\n",
       "      <th>pstk</th>\n",
       "      <th>ceq</th>\n",
       "    </tr>\n",
       "  </thead>\n",
       "  <tbody>\n",
       "  </tbody>\n",
       "</table>\n",
       "<p>0 rows × 84 columns</p>\n",
       "</div>"
      ],
      "text/plain": [
       "Empty DataFrame\n",
       "Columns: [gvkey, datadate, dd1, naicsh, sstk, sic, txp, xsga, ivst, exchg, invt, seq, lt, dpact, drlt, rdip, aqc, fyr, txditc, txfo, tstk, csho, dv, dltt, lct, dp, ajex, dltr, re, ppegt, act, sppe, emp, pi, itcb, txt, prstkc, fyear, xint, fincf, sale, xad, ap, at, ivao, dlc, xrent, prcc_f, mib, oibdp, xpp, pstkl, sich, fic, che, ni, cogs, cusip, intan, xacc, naics, ppent, wcap, pifo, pstkrv, gdwl, oancf, revt, dvp, txdi, dvpsx_f, rect, tic, dvc, ib, xrd, dltis, drc, cik, ivncf, capx, txdb, pstk, ceq]\n",
       "Index: []\n",
       "\n",
       "[0 rows x 84 columns]"
      ]
     },
     "execution_count": null,
     "metadata": {},
     "output_type": "execute_result"
    }
   ],
   "source": [
    "#| eval: false\n",
    "raw.head(0)"
   ]
  },
  {
   "cell_type": "code",
   "execution_count": null,
   "metadata": {},
   "outputs": [],
   "source": [
    "#| export\n",
    "def process_raw_data(\n",
    "        df: pd.DataFrame=None,  # Must contain `permno` and `datadate` columns   \n",
    "        clean_kwargs: dict={},  # Params to pass to `pdm.setup_panel` other than `panel_ids`, `time_var`, and `freq`\n",
    ") -> pd.DataFrame:\n",
    "    \"\"\"Applies `pandasmore.setup_panel` to `df`\"\"\"\n",
    "\n",
    "    # Change some variables to categorical\n",
    "    for col in ['gvkey','naics','sic','fic','cik','tic','cusip']:\n",
    "        if col in df.columns:\n",
    "            df[col] = df[col].astype('string').astype('category')\n",
    "\n",
    "    if 'sich' in df.columns:\n",
    "        df['sich'] = df['sich'].astype('Int64').astype('string').str.zfill(4).astype('category')\n",
    "\n",
    "    if 'naicsh' in df.columns:\n",
    "        df['naicsh'] = df['naicsh'].astype('Int64').astype('string').astype('category')\n",
    "\n",
    "    # Set up panel structure\n",
    "    df = pdm.setup_panel(df, panel_ids=ENTITY_ID_IN_RAW_DSET, time_var=TIME_VAR_IN_RAW_DSET, freq=FREQ, \n",
    "                         panel_ids_toint=False,\n",
    "                         **clean_kwargs)\n",
    "    return df "
   ]
  },
  {
   "cell_type": "code",
   "execution_count": null,
   "metadata": {},
   "outputs": [],
   "source": [
    "#| eval: false\n",
    "df_clean = process_raw_data(raw)"
   ]
  },
  {
   "cell_type": "code",
   "execution_count": null,
   "metadata": {},
   "outputs": [
    {
     "data": {
      "text/html": [
       "<div>\n",
       "<style scoped>\n",
       "    .dataframe tbody tr th:only-of-type {\n",
       "        vertical-align: middle;\n",
       "    }\n",
       "\n",
       "    .dataframe tbody tr th {\n",
       "        vertical-align: top;\n",
       "    }\n",
       "\n",
       "    .dataframe thead th {\n",
       "        text-align: right;\n",
       "    }\n",
       "</style>\n",
       "<table border=\"1\" class=\"dataframe\">\n",
       "  <thead>\n",
       "    <tr style=\"text-align: right;\">\n",
       "      <th></th>\n",
       "      <th></th>\n",
       "      <th>datadate</th>\n",
       "      <th>dtdate</th>\n",
       "      <th>dd1</th>\n",
       "      <th>naicsh</th>\n",
       "      <th>sstk</th>\n",
       "      <th>sic</th>\n",
       "      <th>txp</th>\n",
       "      <th>xsga</th>\n",
       "      <th>ivst</th>\n",
       "      <th>exchg</th>\n",
       "      <th>...</th>\n",
       "      <th>ib</th>\n",
       "      <th>xrd</th>\n",
       "      <th>dltis</th>\n",
       "      <th>drc</th>\n",
       "      <th>cik</th>\n",
       "      <th>ivncf</th>\n",
       "      <th>capx</th>\n",
       "      <th>txdb</th>\n",
       "      <th>pstk</th>\n",
       "      <th>ceq</th>\n",
       "    </tr>\n",
       "    <tr>\n",
       "      <th>gvkey</th>\n",
       "      <th>Ydate</th>\n",
       "      <th></th>\n",
       "      <th></th>\n",
       "      <th></th>\n",
       "      <th></th>\n",
       "      <th></th>\n",
       "      <th></th>\n",
       "      <th></th>\n",
       "      <th></th>\n",
       "      <th></th>\n",
       "      <th></th>\n",
       "      <th></th>\n",
       "      <th></th>\n",
       "      <th></th>\n",
       "      <th></th>\n",
       "      <th></th>\n",
       "      <th></th>\n",
       "      <th></th>\n",
       "      <th></th>\n",
       "      <th></th>\n",
       "      <th></th>\n",
       "      <th></th>\n",
       "    </tr>\n",
       "  </thead>\n",
       "  <tbody>\n",
       "  </tbody>\n",
       "</table>\n",
       "<p>0 rows × 84 columns</p>\n",
       "</div>"
      ],
      "text/plain": [
       "Empty DataFrame\n",
       "Columns: [datadate, dtdate, dd1, naicsh, sstk, sic, txp, xsga, ivst, exchg, invt, seq, lt, dpact, drlt, rdip, aqc, fyr, txditc, txfo, tstk, csho, dv, dltt, lct, dp, ajex, dltr, re, ppegt, act, sppe, emp, pi, itcb, txt, prstkc, fyear, xint, fincf, sale, xad, ap, at, ivao, dlc, xrent, prcc_f, mib, oibdp, xpp, pstkl, sich, fic, che, ni, cogs, cusip, intan, xacc, naics, ppent, wcap, pifo, pstkrv, gdwl, oancf, revt, dvp, txdi, dvpsx_f, rect, tic, dvc, ib, xrd, dltis, drc, cik, ivncf, capx, txdb, pstk, ceq]\n",
       "Index: []\n",
       "\n",
       "[0 rows x 84 columns]"
      ]
     },
     "execution_count": null,
     "metadata": {},
     "output_type": "execute_result"
    }
   ],
   "source": [
    "#| eval: false\n",
    "df_clean.head(0)"
   ]
  },
  {
   "cell_type": "code",
   "execution_count": null,
   "metadata": {},
   "outputs": [],
   "source": [
    "#| export\n",
    "def features(df: pd.DataFrame=None\n",
    "             ) -> pd.DataFrame:\n",
    "\n",
    "    out = pd.DataFrame(index=df.index)\n",
    "\n",
    "    # industry \n",
    "    out['sic_full'] = df['sich'].astype('object').fillna(df['sic'].astype('object')).astype('category')\n",
    "    out['naics_full'] = df['naicsh'].astype('object').fillna(df['naics'].astype('object')).astype('category')\n",
    "\n",
    "    # size \n",
    "    out['stock_price'] = np.abs(df['prcc_f'])\n",
    "    out['lag_at'] = pdm.lag(df[['at']])\n",
    "    out['mktcap'] = out['stock_price'] * df['csho']\n",
    "\n",
    "    # book equity vars\n",
    "    out['pstk0'] = df['pstk'].fillna(0)\n",
    "    out['pref_stock'] = np.where(df['pstkrv'].isnull(), df['pstkl'], df['pstkrv'])\n",
    "    out['pref_stock'] = np.where(out['pref_stock'].isnull(),out['pstk0'], out['pref_stock'])\n",
    "    out['shreq'] = np.where(df['seq'].isnull(), df['ceq'] + out['pstk0'], df['seq'])\n",
    "    out['shreq'] = np.where(out['shreq'].isnull(), df['at'] - df['lt'] - df['mib'].fillna(0), out['shreq'])\n",
    "    out['bookeq'] = out['shreq'] + df['txditc'].fillna(0) + df['itcb'].fillna(0) - out['pref_stock']\n",
    "    #out['bookeq_w_itcb'] = out['bookeq'] + df['itcb'].fillna(0)\n",
    "\n",
    "    out['tobinq'] = (df['at'] - out['bookeq'] + out['stock_price'] * df['csho']) / df['at']\n",
    "\n",
    "    # issuance vars\n",
    "    out['equityiss_tot'] = (pdm.rdiff(out['bookeq']) - pdm.rdiff(df['re'])) \n",
    "    out['equityiss_cfs'] = (df['sstk'].fillna(0) - df['prstkc'].fillna(0))\n",
    "    out['debtiss_tot'] = (pdm.rdiff(df['at']) - pdm.rdiff(out['bookeq'])) \n",
    "    out['debtiss_cfs'] = (df['dltis'].fillna(0) - df['dltr'].fillna(0)) \n",
    "    out['debtiss_bs'] = (pdm.rdiff(df['dltt']) + pdm.rdiff(df['dlc'].fillna(0))) \n",
    "    for v in ['equityiss_tot','equityiss_cfs','debtiss_tot','debtiss_cfs','debtiss_bs']:\n",
    "        out[f'{v}_2la'] = out[v] / out['lag_at']\n",
    "\n",
    "    # investment vars\n",
    "    out['ppent_pch'] = pdm.rpct_change(df['ppent'])\n",
    "    out['capx_2la'] = df['capx'] / out['lag_at']\n",
    "\n",
    "    # profitability vars\n",
    "    out['roa'] = df['ib'] / df['at']\n",
    "\n",
    "    # cash flow vars\n",
    "    out['cflow_is'] = df['ib']+df['dp']\n",
    "    out['cflow_cfs'] = df['oancf'] \n",
    "    out['cflow_full'] = np.where(df.dtdate.dt.year<=1987, out['cflow_is'], out['cflow_cfs'])\n",
    "    for v in ['cflow_is','cflow_cfs','cflow_full']:\n",
    "        out[f'{v}_2la'] = out[v] / out['lag_at']\n",
    "\n",
    "    # liquidity vars\n",
    "    out['cash_2a'] = df['che'] / df['at']\n",
    "\n",
    "    # leverage vars\n",
    "    out['booklev'] = (df['dltt'] + df['dlc']) / df['at']\n",
    "    out.loc[out.booklev<0, 'booklev'] = 0\n",
    "    out.loc[out.booklev>1, 'booklev'] = 1\n",
    "\n",
    "    # payout vars\n",
    "    out['dividends_2la'] = (df['dvc'].fillna(0) + df['dvp'].fillna(0)) / out['lag_at']\n",
    "    out['repurchases_2la'] = (df['prstkc'].fillna(0) - pdm.rdiff(df['pstkrv']).fillna(0)) / out['lag_at']\n",
    "\n",
    "    out = out.replace([np.inf, -np.inf], np.nan)\n",
    "    return out \n"
   ]
  },
  {
   "cell_type": "code",
   "execution_count": null,
   "metadata": {},
   "outputs": [],
   "source": [
    "#| eval: false\n",
    "ftrs = features(df_clean)"
   ]
  },
  {
   "cell_type": "code",
   "execution_count": null,
   "metadata": {},
   "outputs": [
    {
     "data": {
      "text/html": [
       "<div>\n",
       "<style scoped>\n",
       "    .dataframe tbody tr th:only-of-type {\n",
       "        vertical-align: middle;\n",
       "    }\n",
       "\n",
       "    .dataframe tbody tr th {\n",
       "        vertical-align: top;\n",
       "    }\n",
       "\n",
       "    .dataframe thead th {\n",
       "        text-align: right;\n",
       "    }\n",
       "</style>\n",
       "<table border=\"1\" class=\"dataframe\">\n",
       "  <thead>\n",
       "    <tr style=\"text-align: right;\">\n",
       "      <th></th>\n",
       "      <th></th>\n",
       "      <th>sic_full</th>\n",
       "      <th>naics_full</th>\n",
       "      <th>stock_price</th>\n",
       "      <th>lag_at</th>\n",
       "      <th>mktcap</th>\n",
       "      <th>pstk0</th>\n",
       "      <th>pref_stock</th>\n",
       "      <th>shreq</th>\n",
       "      <th>bookeq</th>\n",
       "      <th>tobinq</th>\n",
       "      <th>...</th>\n",
       "      <th>cflow_is</th>\n",
       "      <th>cflow_cfs</th>\n",
       "      <th>cflow_full</th>\n",
       "      <th>cflow_is_2la</th>\n",
       "      <th>cflow_cfs_2la</th>\n",
       "      <th>cflow_full_2la</th>\n",
       "      <th>cash_2a</th>\n",
       "      <th>booklev</th>\n",
       "      <th>dividends_2la</th>\n",
       "      <th>repurchases_2la</th>\n",
       "    </tr>\n",
       "    <tr>\n",
       "      <th>gvkey</th>\n",
       "      <th>Ydate</th>\n",
       "      <th></th>\n",
       "      <th></th>\n",
       "      <th></th>\n",
       "      <th></th>\n",
       "      <th></th>\n",
       "      <th></th>\n",
       "      <th></th>\n",
       "      <th></th>\n",
       "      <th></th>\n",
       "      <th></th>\n",
       "      <th></th>\n",
       "      <th></th>\n",
       "      <th></th>\n",
       "      <th></th>\n",
       "      <th></th>\n",
       "      <th></th>\n",
       "      <th></th>\n",
       "      <th></th>\n",
       "      <th></th>\n",
       "      <th></th>\n",
       "      <th></th>\n",
       "    </tr>\n",
       "  </thead>\n",
       "  <tbody>\n",
       "  </tbody>\n",
       "</table>\n",
       "<p>0 rows × 33 columns</p>\n",
       "</div>"
      ],
      "text/plain": [
       "Empty DataFrame\n",
       "Columns: [sic_full, naics_full, stock_price, lag_at, mktcap, pstk0, pref_stock, shreq, bookeq, tobinq, equityiss_tot, equityiss_cfs, debtiss_tot, debtiss_cfs, debtiss_bs, equityiss_tot_2la, equityiss_cfs_2la, debtiss_tot_2la, debtiss_cfs_2la, debtiss_bs_2la, ppent_pch, capx_2la, roa, cflow_is, cflow_cfs, cflow_full, cflow_is_2la, cflow_cfs_2la, cflow_full_2la, cash_2a, booklev, dividends_2la, repurchases_2la]\n",
       "Index: []\n",
       "\n",
       "[0 rows x 33 columns]"
      ]
     },
     "execution_count": null,
     "metadata": {},
     "output_type": "execute_result"
    }
   ],
   "source": [
    "#| eval: false\n",
    "ftrs.head(0)"
   ]
  },
  {
   "cell_type": "code",
   "execution_count": null,
   "metadata": {},
   "outputs": [],
   "source": [
    "#| hide\n",
    "import nbdev; nbdev.nbdev_export()"
   ]
  },
  {
   "cell_type": "code",
   "execution_count": null,
   "metadata": {},
   "outputs": [],
   "source": []
  },
  {
   "cell_type": "code",
   "execution_count": null,
   "metadata": {},
   "outputs": [],
   "source": []
  }
 ],
 "metadata": {
  "kernelspec": {
   "display_name": "python3",
   "language": "python",
   "name": "python3"
  }
 },
 "nbformat": 4,
 "nbformat_minor": 2
}
