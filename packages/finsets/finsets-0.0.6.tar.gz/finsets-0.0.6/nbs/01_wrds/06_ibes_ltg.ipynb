{
 "cells": [
  {
   "cell_type": "markdown",
   "metadata": {},
   "source": [
    "# ibes_ltg\n",
    "\n",
    "> Retrieve and process data on EPS Long-Term Growth (LTG) forecasts from WRDS IBES database."
   ]
  },
  {
   "cell_type": "markdown",
   "metadata": {},
   "source": [
    "***\n",
    "\n",
    "The Forecast Period End Date (`fpedats`) is the ending month and year of the fiscal period to which the estimate applies (unless you're asking for a long-term-growth estimate, in which case the horizon is 3-5 years, so no explicity fiscal period is applicable). \n",
    "\n",
    "The Activation Date (`actdats`) is the date that the forecast/actual was recorded by Thomson Reuters. \n",
    "\n",
    "The Announce Date (`anndats`) is the date that the forecast/actual was reported. \n",
    "\n",
    "The Review Date (`revdats`) is most recent date that an estimate was confirmed as accurate. \n",
    "\n",
    "The Forecast Period Indicator (`fpi`) contains information about the horizon (how far into the future we are estimating). Key values: '0' for LTG, '1'-'5' for 1 to 5 years in the future, '6'-'9' for 1 to 4 quarters in the future. Farther horizons are available but they are extremely poorly populated.\n",
    "\n",
    "Note that for Long Term Growth (LTG) estimates (`fpi='0'`), you must NOT select \"Forecast Period End Date\" as the Date Variable or the query will not return any estimates.\n",
    "\n",
    "`TICKER` is the IBES ticker, which is not necessarily the same as the offical ticker of the firm.\n",
    "\n",
    "***\n",
    "It is possible for a contributing broker to provide multiple revisions to an estimate on the same day. In\n",
    "this scenario, all estimates are available in the Detail history files and only the most current estimate is\n",
    "included in the mean.\n",
    "\n",
    "The Brokers (`estimator`) and Analysts (`analys`) are provided under numeric codes. \n",
    "\n",
    "***\n",
    "**Estimate Revisions**\n",
    "\n",
    "There are estimates which are dated “after” the announcement date. We\n",
    "have no explanation other than the entry is in error.\n",
    "\n",
    "Announcement of earnings will increment the FPI variable by 1 in all IBES\n",
    "records for which review date (REVDATS)> report date (ANNDATS_ACT)\n",
    "\n",
    "If at the time of the next review date the analyst at the same brokerage changes\n",
    "her forecast for the same (TICKER, ANNDATS, FPEDATS, FPI, MEASURE,\n",
    "USFIRM) combination, IBES will add a new observation. If the forecast\n",
    "remains unchanged, IBES will not add new observations, but will adjust the\n",
    "review date accordingly (REVDATS)\n",
    "\n",
    "***"
   ]
  },
  {
   "cell_type": "code",
   "execution_count": null,
   "metadata": {},
   "outputs": [],
   "source": [
    "#| default_exp wrds.ibes_ltg"
   ]
  },
  {
   "cell_type": "code",
   "execution_count": null,
   "metadata": {},
   "outputs": [],
   "source": [
    "#|exports\n",
    "from __future__ import annotations\n",
    "from typing import List\n",
    "\n",
    "import pandas as pd\n",
    "\n",
    "import pandasmore as pdm\n",
    "from finsets.wrds import wrds_api"
   ]
  },
  {
   "cell_type": "code",
   "execution_count": null,
   "metadata": {},
   "outputs": [],
   "source": [
    "#| exports\n",
    "PROVIDER = 'Refinitiv via WRDS'\n",
    "URL = 'https://wrds-www.wharton.upenn.edu/pages/get-data/ibes-thomson-reuters/ibes-academic/unadjusted-detail/history/'\n",
    "LIBRARY = 'ibes'\n",
    "TABLE = 'detu_epsus'\n",
    "LINK_LIBRARY = 'wrdsapps_link_crsp_ibes'\n",
    "LINK_TABLE = 'ibcrsphist'\n",
    "FREQ = 'M'\n",
    "MIN_YEAR = 1925\n",
    "MAX_YEAR = None\n",
    "ENTITY_ID_IN_RAW_DSET = 'permno'\n",
    "ENTITY_ID_IN_CLEAN_DSET = 'permno'\n",
    "TIME_VAR_IN_RAW_DSET = 'date'\n",
    "TIME_VAR_IN_CLEAN_DSET = f'{FREQ}date'"
   ]
  },
  {
   "cell_type": "code",
   "execution_count": null,
   "metadata": {},
   "outputs": [],
   "source": [
    "#| export\n",
    "def list_all_vars() -> pd.DataFrame:\n",
    "    \"Collects names of all available variables from WRDS f`{LIBRARY}.{TABLE}`\"\n",
    "\n",
    "    try:\n",
    "        db = wrds_api.Connection()\n",
    "        funda = db.describe_table(LIBRARY,TABLE).assign(wrds_library=LIBRARY, wrds_table=TABLE)\n",
    "    finally:\n",
    "        db.close()\n",
    "\n",
    "    return funda[['name','type','wrds_library','wrds_table']]"
   ]
  },
  {
   "cell_type": "code",
   "execution_count": null,
   "metadata": {},
   "outputs": [
    {
     "name": "stdout",
     "output_type": "stream",
     "text": [
      "Loading library list...\n",
      "Done\n",
      "Approximately 34393864 rows in ibes.detu_epsus.\n"
     ]
    }
   ],
   "source": [
    "#| eval: false\n",
    "all_vars = list_all_vars()"
   ]
  },
  {
   "cell_type": "code",
   "execution_count": null,
   "metadata": {},
   "outputs": [
    {
     "data": {
      "text/plain": [
       "np.int64(21)"
      ]
     },
     "execution_count": null,
     "metadata": {},
     "output_type": "execute_result"
    }
   ],
   "source": [
    "#| eval: false\n",
    "all_vars.name.count()"
   ]
  },
  {
   "cell_type": "code",
   "execution_count": null,
   "metadata": {},
   "outputs": [],
   "source": [
    "#| export \n",
    "def default_raw_vars():\n",
    "    return ['ticker', 'value', 'fpi', 'anndats', 'fpedats', 'revdats', 'actdats', 'estimator', 'analys', 'pdf']"
   ]
  },
  {
   "cell_type": "code",
   "execution_count": null,
   "metadata": {},
   "outputs": [],
   "source": [
    "#| export\n",
    "def parse_varlist(vars: List[str]|str=None, #list of variables requested by user\n",
    "                  required_vars: List[str] = [], #list of variables that will get downloaded, even if not in `vars`\n",
    "                  prefix: str='a.', #string to add in front of each variable name when we build the SQL string of variable names\n",
    "                  ) -> str:\n",
    "    \"\"\"Adds required variables to requested variables, validates them, and builds the SQL string with their names\"\"\"\n",
    "\n",
    "    if vars=='*': return f'{prefix}*' \n",
    "\n",
    "    # Build full list of variables that will be downloaded\n",
    "    if vars is None: vars = default_raw_vars()\n",
    "    if required_vars is None: req_vars = []\n",
    "    vars =  required_vars + [x for x in vars if x not in required_vars] #in case `vars` already contains some of the required variables\n",
    "\n",
    "    # Validate variables to be downloaded (make sure that they are in the target database)\n",
    "    valid_vars = list(list_all_vars().name)\n",
    "    invalid_vars = [v for v in vars if v not in valid_vars]\n",
    "    if invalid_vars: raise ValueError(f\"These vars are not in the database: {invalid_vars}\") \n",
    "\n",
    "    return ','.join([f'{prefix}{var_name}' for var_name in vars])"
   ]
  },
  {
   "cell_type": "code",
   "execution_count": null,
   "metadata": {},
   "outputs": [
    {
     "name": "stdout",
     "output_type": "stream",
     "text": [
      "Loading library list...\n",
      "Done\n",
      "Approximately 34393864 rows in ibes.detu_epsus.\n"
     ]
    },
    {
     "data": {
      "text/plain": [
       "'a.value,a.fpi'"
      ]
     },
     "execution_count": null,
     "metadata": {},
     "output_type": "execute_result"
    }
   ],
   "source": [
    "#| eval: false\n",
    "parse_varlist(['value','fpi'])"
   ]
  },
  {
   "cell_type": "code",
   "execution_count": null,
   "metadata": {},
   "outputs": [],
   "source": [
    "#| export\n",
    "def get_raw_data(vars: List[str]=None, # If None, downloads `default_raw_vars`; `permno`, `ticker`, and `anndats` added by default\n",
    "            required_vars: List[str] = ['ticker', 'anndats'], #list of variables that will get downloaded, even if not in `vars`\n",
    "             nrows: int=None, #Number of rows to download. If None, full dataset will be downloaded\n",
    "             start_date: str=None, # Start date in MM/DD/YYYY format\n",
    "             end_date: str=None, #End date in MM/DD/YYYY format; if None, defaults to current date\n",
    "             permno_match_score: tuple=(1,), #accuracy of permno-ibes link. 1-6. 1 is best. use >1 with caution.\n",
    "             ) -> pd.DataFrame:\n",
    "    \"\"\"Downloads `vars` from `start_date` to `end_date` from WRDS `ibes.detu_epsus` library and adds PERMNO from CRSP\"\"\"\n",
    "\n",
    "    wrds_api.validate_dates([start_date, end_date])\n",
    "    vars = parse_varlist(vars, prefix='a.', required_vars=required_vars)\n",
    "\n",
    "    sql_string=f\"\"\"SELECT {vars}, b.permno\n",
    "                        FROM {LIBRARY}.{TABLE} AS a\n",
    "                        LEFT JOIN {LINK_LIBRARY}.{LINK_TABLE} AS b\n",
    "                        ON a.ticker = b.ticker\n",
    "                        WHERE a.anndats BETWEEN b.sdate AND b.edate\n",
    "                                AND fpi='0'\n",
    "                \"\"\"\n",
    "    if permno_match_score is not None: sql_string += r\" AND score IN %(permno_match_score)s\"\n",
    "    if start_date is not None: sql_string += r\" AND anndats >= %(start_date)s\"\n",
    "    if end_date is not None: sql_string += r\" AND anndats <= %(end_date)s\"\n",
    "    if nrows is not None: sql_string += r\" LIMIT %(nrows)s\"\n",
    "\n",
    "    return wrds_api.download(sql_string,\n",
    "                             params={'permno_match_score': permno_match_score,\n",
    "                                 'start_date':start_date, 'end_date':end_date, 'nrows':nrows})"
   ]
  },
  {
   "cell_type": "code",
   "execution_count": null,
   "metadata": {},
   "outputs": [
    {
     "name": "stdout",
     "output_type": "stream",
     "text": [
      "Loading library list...\n",
      "Done\n",
      "Approximately 34393864 rows in ibes.detu_epsus.\n",
      "Loading library list...\n",
      "Done\n"
     ]
    },
    {
     "data": {
      "text/html": [
       "<div>\n",
       "<style scoped>\n",
       "    .dataframe tbody tr th:only-of-type {\n",
       "        vertical-align: middle;\n",
       "    }\n",
       "\n",
       "    .dataframe tbody tr th {\n",
       "        vertical-align: top;\n",
       "    }\n",
       "\n",
       "    .dataframe thead th {\n",
       "        text-align: right;\n",
       "    }\n",
       "</style>\n",
       "<table border=\"1\" class=\"dataframe\">\n",
       "  <thead>\n",
       "    <tr style=\"text-align: right;\">\n",
       "      <th></th>\n",
       "      <th>ticker</th>\n",
       "      <th>anndats</th>\n",
       "      <th>value</th>\n",
       "      <th>fpi</th>\n",
       "      <th>fpedats</th>\n",
       "      <th>revdats</th>\n",
       "      <th>actdats</th>\n",
       "      <th>estimator</th>\n",
       "      <th>analys</th>\n",
       "      <th>pdf</th>\n",
       "      <th>permno</th>\n",
       "    </tr>\n",
       "  </thead>\n",
       "  <tbody>\n",
       "    <tr>\n",
       "      <th>0</th>\n",
       "      <td>0001</td>\n",
       "      <td>2019-01-04</td>\n",
       "      <td>-174.4</td>\n",
       "      <td>0</td>\n",
       "      <td>&lt;NA&gt;</td>\n",
       "      <td>2019-01-04</td>\n",
       "      <td>2019-01-04</td>\n",
       "      <td>183.0</td>\n",
       "      <td>48368.0</td>\n",
       "      <td>D</td>\n",
       "      <td>14392</td>\n",
       "    </tr>\n",
       "  </tbody>\n",
       "</table>\n",
       "</div>"
      ],
      "text/plain": [
       "  ticker     anndats  value fpi fpedats     revdats     actdats  estimator  \\\n",
       "0   0001  2019-01-04 -174.4   0    <NA>  2019-01-04  2019-01-04      183.0   \n",
       "\n",
       "    analys pdf  permno  \n",
       "0  48368.0   D   14392  "
      ]
     },
     "execution_count": null,
     "metadata": {},
     "output_type": "execute_result"
    }
   ],
   "source": [
    "#| eval: false\n",
    "ltg = get_raw_data(start_date='01/01/2019', end_date='01/01/2022', nrows=1)\n",
    "ltg.head()"
   ]
  },
  {
   "cell_type": "code",
   "execution_count": null,
   "metadata": {},
   "outputs": [],
   "source": [
    "#| hide\n",
    "import nbdev; nbdev.nbdev_export()"
   ]
  }
 ],
 "metadata": {
  "kernelspec": {
   "display_name": "python3",
   "language": "python",
   "name": "python3"
  }
 },
 "nbformat": 4,
 "nbformat_minor": 2
}
