{
 "cells": [
  {
   "cell_type": "markdown",
   "id": "e5275772",
   "metadata": {},
   "source": [
    "# DEMO: Jupyter Notebook Oriented Programing Environment for Arduiono-like Devices (*NOPEAD*) "
   ]
  },
  {
   "cell_type": "markdown",
   "id": "249e8e96",
   "metadata": {},
   "source": [
    "## Preparation"
   ]
  },
  {
   "cell_type": "markdown",
   "id": "ff5b341c",
   "metadata": {},
   "source": [
    "### Packages"
   ]
  },
  {
   "cell_type": "code",
   "execution_count": null,
   "id": "6a1df9b5",
   "metadata": {},
   "outputs": [],
   "source": [
    "# This will install the Arduino kernel for Jupyter Notebook - run this cell only if you haven't done it before\n",
    "!pip install arduino_colab_kernel"
   ]
  },
  {
   "cell_type": "code",
   "execution_count": 1,
   "id": "f91dc7ae",
   "metadata": {},
   "outputs": [],
   "source": [
    "# Load magics for Arduino kernel\n",
    "# This files contains the magic commands for the Arduino kernel in Jupyter.\n",
    "%load_ext arduino_colab_kernel.magic_project\n",
    "%load_ext arduino_colab_kernel.magic_board\n",
    "%load_ext arduino_colab_kernel.magic_code\n",
    "%load_ext arduino_colab_kernel.magic_serial"
   ]
  },
  {
   "cell_type": "markdown",
   "id": "df8757fd",
   "metadata": {},
   "source": [
    "### Project ⭐"
   ]
  },
  {
   "cell_type": "code",
   "execution_count": 2,
   "id": "4fa9be19",
   "metadata": {},
   "outputs": [
    {
     "data": {
      "text/markdown": [
       "\n",
       "### 📘 Available `%project` commands\n",
       "\n",
       "| Command                        | Parameters                        | Description                                                           |\n",
       "|-------------------------------|-----------------------------------|-----------------------------------------------------------------------|\n",
       "| **`%project init`**           | `[name] [--mode local/remote]`     | Creates a new project with the given name and mode.                   |\n",
       "| **`%project load`**           | `[name] [--mode local/remote] [--remote_url <URL>] [--token <API_TOKEN>]`     | Loads an existing project by name and mode. For mode `remote` please provide token using `--token <YOUR_API_TOKEN_HERE>`. You can also provide remote server url address using `--remote_url <YOUR_REMOTE_SERVER_ADDRESS_HERE>` (*Optional*)|\n",
       "| **`%project clear`**          | `[section] [cell]`*(optional)*    | Clears the content of the selected section or a specific cell.        |\n",
       "| **`%project status`**            | *(no parameters)*                 | Gets information about the current project.                           |\n",
       "| **`%project delete`**         | *(no parameters)*                 | Deletes the entire current project.                                   |\n",
       "| **`%project show`**           | *(no parameters)*                 | Displays a project overview (sections, cells, code).                  |\n",
       "| **`%project export`**         | *(no parameters)*                 | Exports the project to a file and saves it.                           |\n",
       "| **`%project help`** / **`?`** | *(no parameters)*                 | Shows this help.                                                      |\n",
       "    "
      ],
      "text/plain": [
       "<IPython.core.display.Markdown object>"
      ]
     },
     "metadata": {},
     "output_type": "display_data"
    }
   ],
   "source": [
    "# Show project helps \n",
    "%project help"
   ]
  },
  {
   "cell_type": "markdown",
   "id": "7275fbac",
   "metadata": {},
   "source": [
    "##### Quick start 🚀"
   ]
  },
  {
   "cell_type": "code",
   "execution_count": 3,
   "id": "58456d7f",
   "metadata": {},
   "outputs": [
    {
     "data": {
      "text/markdown": [
       "**A project named `sketch` already exists. Choose another name or use `%project load sketch` to load the existing project.**"
      ],
      "text/plain": [
       "<IPython.core.display.Markdown object>"
      ]
     },
     "metadata": {},
     "output_type": "display_data"
    }
   ],
   "source": [
    "# Init project \n",
    "%project init"
   ]
  },
  {
   "cell_type": "code",
   "execution_count": 4,
   "id": "58feadc7",
   "metadata": {},
   "outputs": [
    {
     "data": {
      "text/markdown": [
       "`Project *sketch* loaded in mode: local.`"
      ],
      "text/plain": [
       "<IPython.core.display.Markdown object>"
      ]
     },
     "metadata": {},
     "output_type": "display_data"
    }
   ],
   "source": [
    "%project load"
   ]
  },
  {
   "cell_type": "code",
   "execution_count": 5,
   "id": "dd8ce7fa",
   "metadata": {},
   "outputs": [
    {
     "data": {
      "text/markdown": [
       "Project: **sketch**\n",
       " ```\n",
       "#include <Arduino.h>\n",
       "\n",
       "//**Global variables**\n",
       "\n",
       "int t = 0; // Timer counter\n",
       "\n",
       "\n",
       "//**Functions**\n",
       "\n",
       "// No functions defined\n",
       "\n",
       "\n",
       "//**Setup**\n",
       "\n",
       "void setup() {\n",
       "\tSerial.begin(115200);\n",
       "}\n",
       "\n",
       "\n",
       "//**Loop**\n",
       "\n",
       "void loop() {\n",
       "\tt++; // Increment timer counter\n",
       "Serial.println(t); // Print timer counter to serial monitor\n",
       "}\n",
       "\n",
       "\n",
       "```"
      ],
      "text/plain": [
       "<IPython.core.display.Markdown object>"
      ]
     },
     "metadata": {},
     "output_type": "display_data"
    }
   ],
   "source": [
    "# Show project status\n",
    "%project show"
   ]
  },
  {
   "cell_type": "markdown",
   "id": "a58a031e",
   "metadata": {},
   "source": [
    "### Board 🍫"
   ]
  },
  {
   "cell_type": "code",
   "execution_count": 6,
   "id": "23a265e4",
   "metadata": {},
   "outputs": [
    {
     "data": {
      "text/markdown": [
       "\n",
       "### 🔧 Available `%board` commands\n",
       "\n",
       "| Command                          | Parameters                                                     | Description                                                           |\n",
       "|-----------------------------------|---------------------------------------------------------------|-----------------------------------------------------------------------|\n",
       "| **`%board select`**               | `[uno\\|nano]`                                                 | Selects a supported board (if port is not set, tries autodetection).  |\n",
       "| **`%board status`**               | *(no parameters)*                                             | Shows current settings (board, FQBN, serial port).                    |\n",
       "| **`%board serial`**               | `[--port COMx] [--baud 115200] [--timeout 0.1] [--encoding utf-8] [--strip true\\|false]` | Sets serial port and its parameters.                                  |\n",
       "| **`%board compile`**              | `[sketch_dir_or_ino] [--log-file path]`*(optional)*           | Compiles sketch for the currently selected board.                     |\n",
       "| **`%board upload`**               | `[sketch_dir_or_ino] [--log-file path]`*(optional)*           | Uploads sketch to the currently selected board.                       |\n",
       "| **`%board list`**                 | *(no parameters)*                                             | Lists available supported boards.                                     |\n",
       "| **`%board ports`**                | *(no parameters)*                                             | Lists available serial ports.                                         |\n",
       "| **`%board help`** / **`?`**       | *(no parameters)*                                             | Shows this help.                                                      |\n",
       "    "
      ],
      "text/plain": [
       "<IPython.core.display.Markdown object>"
      ]
     },
     "metadata": {},
     "output_type": "display_data"
    }
   ],
   "source": [
    "# Show boards options\n",
    "%board help"
   ]
  },
  {
   "cell_type": "markdown",
   "id": "c9b06547",
   "metadata": {},
   "source": [
    "##### What board do you have? 🖲️"
   ]
  },
  {
   "cell_type": "code",
   "execution_count": 7,
   "id": "8803e739",
   "metadata": {},
   "outputs": [
    {
     "data": {
      "text/markdown": [
       "**Available boards:**  \n",
       "- `uno` (FQBN: `arduino:avr:uno`)\n",
       "- `nano` (FQBN: `arduino:avr:nano`)"
      ],
      "text/plain": [
       "<IPython.core.display.Markdown object>"
      ]
     },
     "metadata": {},
     "output_type": "display_data"
    }
   ],
   "source": [
    "%board list"
   ]
  },
  {
   "cell_type": "code",
   "execution_count": 9,
   "id": "4c439a26",
   "metadata": {},
   "outputs": [
    {
     "data": {
      "text/markdown": [
       "**Available serial ports:**  \n",
       "- `COM3`"
      ],
      "text/plain": [
       "<IPython.core.display.Markdown object>"
      ]
     },
     "metadata": {},
     "output_type": "display_data"
    }
   ],
   "source": [
    "%board ports"
   ]
  },
  {
   "cell_type": "markdown",
   "id": "c45e6780",
   "metadata": {},
   "source": [
    "##### For Arduino Uno"
   ]
  },
  {
   "cell_type": "code",
   "execution_count": null,
   "id": "f381d153",
   "metadata": {},
   "outputs": [
    {
     "data": {
      "text/markdown": [
       "✅ Board **uno** set (FQBN `arduino:avr:uno`) &nbsp;|&nbsp; Auto port: `COM3`"
      ],
      "text/plain": [
       "<IPython.core.display.Markdown object>"
      ]
     },
     "metadata": {},
     "output_type": "display_data"
    }
   ],
   "source": [
    "# Let the kernel select port automatically\n",
    "%board select uno"
   ]
  },
  {
   "cell_type": "code",
   "execution_count": 12,
   "id": "f4ba1b54",
   "metadata": {},
   "outputs": [
    {
     "data": {
      "text/markdown": [
       "✅ Board **uno** set (FQBN `arduino:avr:uno`) &nbsp;|&nbsp; Port: `COM3` (explicit)"
      ],
      "text/plain": [
       "<IPython.core.display.Markdown object>"
      ]
     },
     "metadata": {},
     "output_type": "display_data"
    }
   ],
   "source": [
    "# Or select port manually\n",
    "%board select uno --port COM3"
   ]
  },
  {
   "cell_type": "code",
   "execution_count": null,
   "id": "7c3d2271",
   "metadata": {},
   "outputs": [
    {
     "data": {
      "text/markdown": [
       "**Board status**\n",
       "\n",
       "- Board: `uno`\n",
       "- FQBN: `arduino:avr:uno`\n",
       "- Port: `COM3`\n",
       "- Baud: `115200`\n",
       "- Timeout: `0.1`\n",
       "- Encoding: `utf-8`\n",
       "- Auto strip: `True`\n"
      ],
      "text/plain": [
       "<IPython.core.display.Markdown object>"
      ]
     },
     "metadata": {},
     "output_type": "display_data"
    }
   ],
   "source": [
    "# Check your board status - make sure it's connected\n",
    "# You can change all the parameters as needed by adding them to the command like --port COM3 --baud 115200 etc.\n",
    "%board status"
   ]
  },
  {
   "cell_type": "markdown",
   "id": "4cb8ae21",
   "metadata": {},
   "source": [
    "## Code 👨‍💻👩‍💻\n",
    "\n",
    "Lets code here!"
   ]
  },
  {
   "cell_type": "code",
   "execution_count": 14,
   "id": "df77a543",
   "metadata": {},
   "outputs": [
    {
     "data": {
      "text/markdown": [
       "`Code memory cleared.`"
      ],
      "text/plain": [
       "<IPython.core.display.Markdown object>"
      ]
     },
     "metadata": {},
     "output_type": "display_data"
    }
   ],
   "source": [
    "# Clear old code if exists\n",
    "%project clear"
   ]
  },
  {
   "cell_type": "markdown",
   "id": "4b509996",
   "metadata": {},
   "source": [
    "##### How to programming? Its simple!\n",
    "\n",
    "Arduino kernel uses code sections:\n",
    "- globals: for codes that you want use across project\n",
    "- functions: for your functions\n",
    "- setup: for setup of HW, serial link etc.\n",
    "- loop: for loop code"
   ]
  },
  {
   "cell_type": "code",
   "execution_count": 15,
   "id": "747cafd6",
   "metadata": {},
   "outputs": [
    {
     "data": {
      "text/markdown": [
       "`Code updated` &nbsp;|&nbsp; section: `globals`, cell: `0`."
      ],
      "text/plain": [
       "<IPython.core.display.Markdown object>"
      ]
     },
     "metadata": {},
     "output_type": "display_data"
    }
   ],
   "source": [
    "%%code globals\n",
    "int led = 13; // Pin for the LED\n",
    "int timer = 1000; // Delay time in milliseconds"
   ]
  },
  {
   "cell_type": "code",
   "execution_count": 17,
   "id": "19b9bcfe",
   "metadata": {},
   "outputs": [
    {
     "data": {
      "text/markdown": [
       "`Code updated` &nbsp;|&nbsp; section: `setup`, cell: `0`."
      ],
      "text/plain": [
       "<IPython.core.display.Markdown object>"
      ]
     },
     "metadata": {},
     "output_type": "display_data"
    }
   ],
   "source": [
    "%%code setup\n",
    "pinMode(led, OUTPUT); // Set the LED pin as output "
   ]
  },
  {
   "cell_type": "code",
   "execution_count": 18,
   "id": "c464b007",
   "metadata": {},
   "outputs": [
    {
     "data": {
      "text/markdown": [
       "`Code updated` &nbsp;|&nbsp; section: `loop`, cell: `0`."
      ],
      "text/plain": [
       "<IPython.core.display.Markdown object>"
      ]
     },
     "metadata": {},
     "output_type": "display_data"
    }
   ],
   "source": [
    "%%code loop\n",
    "digitalWrite(led, HIGH); delay(timer);\n",
    "digitalWrite(led, LOW);  delay(timer);"
   ]
  },
  {
   "cell_type": "markdown",
   "id": "507716cf",
   "metadata": {},
   "source": [
    "##### Now you can check if something change:"
   ]
  },
  {
   "cell_type": "code",
   "execution_count": 19,
   "id": "7a4b48fc",
   "metadata": {},
   "outputs": [
    {
     "data": {
      "text/markdown": [
       "Project: **sketch**\n",
       " ```\n",
       "#include <Arduino.h>\n",
       "\n",
       "//**Global variables**\n",
       "\n",
       "int led = 13; // Pin for the LED\n",
       "int timer = 1000; // Delay time in milliseconds\n",
       "\n",
       "\n",
       "//**Functions**\n",
       "\n",
       "// No functions defined\n",
       "\n",
       "\n",
       "//**Setup**\n",
       "\n",
       "void setup() {\n",
       "\tpinMode(led, OUTPUT); // Set the LED pin as output\n",
       "}\n",
       "\n",
       "\n",
       "//**Loop**\n",
       "\n",
       "void loop() {\n",
       "\tdigitalWrite(led, HIGH); delay(timer);\n",
       "digitalWrite(led, LOW);  delay(timer);\n",
       "}\n",
       "\n",
       "\n",
       "```"
      ],
      "text/plain": [
       "<IPython.core.display.Markdown object>"
      ]
     },
     "metadata": {},
     "output_type": "display_data"
    }
   ],
   "source": [
    "%project show"
   ]
  },
  {
   "cell_type": "markdown",
   "id": "e6b50399",
   "metadata": {},
   "source": [
    "##### Time for first upload! 👉"
   ]
  },
  {
   "cell_type": "code",
   "execution_count": 20,
   "id": "977c3d6a",
   "metadata": {},
   "outputs": [
    {
     "name": "stdout",
     "output_type": "stream",
     "text": [
      "📡 **Uploading to uno on port COM3...**\n",
      "⏳ This may take a while, please wait...\n",
      "💻 **Compiling for uno on port COM3...**\n",
      "⏳ This may take a while, please wait...\n",
      "Sketch uses 946 bytes (2%) of program storage space. Maximum is 32256 bytes.\n",
      "Global variables use 9 bytes (0%) of dynamic memory, leaving 2039 bytes for local variables. Maximum is 2048 bytes.\n",
      "\n",
      "✅ **Compile complete.**\n",
      "New upload port: COM3 (serial)\n",
      "\n",
      "✅ **Upload complete.**\n"
     ]
    },
    {
     "data": {
      "text/markdown": [
       "🚀 **Upload complete.** Log: `h:\\Můj disk\\Projekty\\ArduinoProject\\ArduinoColab\\colab\\arduino_colab_kernel\\demos\\projects\\sketch\\logs\\upload.log`"
      ],
      "text/plain": [
       "<IPython.core.display.Markdown object>"
      ]
     },
     "metadata": {},
     "output_type": "display_data"
    }
   ],
   "source": [
    "%board upload"
   ]
  },
  {
   "cell_type": "markdown",
   "id": "857a8853",
   "metadata": {},
   "source": [
    "##### You can change any previous code in any cell:"
   ]
  },
  {
   "cell_type": "code",
   "execution_count": 21,
   "id": "edf39d88",
   "metadata": {},
   "outputs": [
    {
     "data": {
      "text/markdown": [
       "`Code updated` &nbsp;|&nbsp; section: `globals`, cell: `0`."
      ],
      "text/plain": [
       "<IPython.core.display.Markdown object>"
      ]
     },
     "metadata": {},
     "output_type": "display_data"
    }
   ],
   "source": [
    "%%code globals\n",
    "int led = 13; // Pin for the LED\n",
    "int timer = 250; // Delay time in milliseconds"
   ]
  },
  {
   "cell_type": "code",
   "execution_count": 22,
   "id": "7f2ccb08",
   "metadata": {},
   "outputs": [
    {
     "data": {
      "text/markdown": [
       "Project: **sketch**\n",
       " ```\n",
       "#include <Arduino.h>\n",
       "\n",
       "//**Global variables**\n",
       "\n",
       "int led = 13; // Pin for the LED\n",
       "int timer = 250; // Delay time in milliseconds\n",
       "\n",
       "\n",
       "//**Functions**\n",
       "\n",
       "// No functions defined\n",
       "\n",
       "\n",
       "//**Setup**\n",
       "\n",
       "void setup() {\n",
       "\tpinMode(led, OUTPUT); // Set the LED pin as output\n",
       "}\n",
       "\n",
       "\n",
       "//**Loop**\n",
       "\n",
       "void loop() {\n",
       "\tdigitalWrite(led, HIGH); delay(timer);\n",
       "digitalWrite(led, LOW);  delay(timer);\n",
       "}\n",
       "\n",
       "\n",
       "```"
      ],
      "text/plain": [
       "<IPython.core.display.Markdown object>"
      ]
     },
     "metadata": {},
     "output_type": "display_data"
    }
   ],
   "source": [
    "%project show"
   ]
  },
  {
   "cell_type": "code",
   "execution_count": 23,
   "id": "234e0333",
   "metadata": {},
   "outputs": [
    {
     "name": "stdout",
     "output_type": "stream",
     "text": [
      "📡 **Uploading to uno on port COM3...**\n",
      "⏳ This may take a while, please wait...\n",
      "💻 **Compiling for uno on port COM3...**\n",
      "⏳ This may take a while, please wait...\n",
      "Sketch uses 946 bytes (2%) of program storage space. Maximum is 32256 bytes.\n",
      "Global variables use 9 bytes (0%) of dynamic memory, leaving 2039 bytes for local variables. Maximum is 2048 bytes.\n",
      "\n",
      "✅ **Compile complete.**\n",
      "New upload port: COM3 (serial)\n",
      "\n",
      "✅ **Upload complete.**\n"
     ]
    },
    {
     "data": {
      "text/markdown": [
       "🚀 **Upload complete.** Log: `h:\\Můj disk\\Projekty\\ArduinoProject\\ArduinoColab\\colab\\arduino_colab_kernel\\demos\\projects\\sketch\\logs\\upload.log`"
      ],
      "text/plain": [
       "<IPython.core.display.Markdown object>"
      ]
     },
     "metadata": {},
     "output_type": "display_data"
    }
   ],
   "source": [
    "%board upload"
   ]
  },
  {
   "cell_type": "markdown",
   "id": "ed5cff94",
   "metadata": {},
   "source": [
    "#### Using cell ID - protect your lines\n",
    "\n",
    "If you want protect your lines from changes, then use cell ID - add number of ID after section name. Remember, global section have always ID 0. "
   ]
  },
  {
   "cell_type": "code",
   "execution_count": 47,
   "id": "c21f7c5e",
   "metadata": {},
   "outputs": [
    {
     "data": {
      "text/markdown": [
       "`Code updated` &nbsp;|&nbsp; section: `globals`, cell: `1`."
      ],
      "text/plain": [
       "<IPython.core.display.Markdown object>"
      ]
     },
     "metadata": {},
     "output_type": "display_data"
    }
   ],
   "source": [
    "%%code globals 1\n",
    "int t = 0; // Timer counter"
   ]
  },
  {
   "cell_type": "code",
   "execution_count": 46,
   "id": "0479d3fd",
   "metadata": {},
   "outputs": [
    {
     "data": {
      "text/markdown": [
       "`Code updated` &nbsp;|&nbsp; section: `setup`, cell: `1`."
      ],
      "text/plain": [
       "<IPython.core.display.Markdown object>"
      ]
     },
     "metadata": {},
     "output_type": "display_data"
    }
   ],
   "source": [
    "%%code setup 1\n",
    "Serial.begin(115200);"
   ]
  },
  {
   "cell_type": "code",
   "execution_count": 45,
   "id": "8c072cfd",
   "metadata": {},
   "outputs": [
    {
     "data": {
      "text/markdown": [
       "`Code updated` &nbsp;|&nbsp; section: `loop`, cell: `1`."
      ],
      "text/plain": [
       "<IPython.core.display.Markdown object>"
      ]
     },
     "metadata": {},
     "output_type": "display_data"
    }
   ],
   "source": [
    "%%code loop 1\n",
    "t++; // Increment timer counter\n",
    "Serial.println(t); // Print timer counter to serial monitor"
   ]
  },
  {
   "cell_type": "code",
   "execution_count": 34,
   "id": "f2b4b56f",
   "metadata": {},
   "outputs": [
    {
     "data": {
      "text/markdown": [
       "Project: **sketch**\n",
       " ```\n",
       "#include <Arduino.h>\n",
       "\n",
       "//**Global variables**\n",
       "\n",
       "int led = 13; // Pin for the LED\n",
       "int timer = 250; // Delay time in milliseconds\n",
       "int t = 0; // Timer counter\n",
       "\n",
       "\n",
       "//**Functions**\n",
       "\n",
       "// No functions defined\n",
       "\n",
       "\n",
       "//**Setup**\n",
       "\n",
       "void setup() {\n",
       "\tpinMode(led, OUTPUT); // Set the LED pin as output\n",
       "\tSerial.begin(115200);\n",
       "}\n",
       "\n",
       "\n",
       "//**Loop**\n",
       "\n",
       "void loop() {\n",
       "\tdigitalWrite(led, HIGH); delay(timer);\n",
       "digitalWrite(led, LOW);  delay(timer);\n",
       "\tt++; // Increment timer counter\n",
       "Serial.println(t); // Print timer counter to serial monitor\n",
       "}\n",
       "\n",
       "\n",
       "```"
      ],
      "text/plain": [
       "<IPython.core.display.Markdown object>"
      ]
     },
     "metadata": {},
     "output_type": "display_data"
    }
   ],
   "source": [
    "%project show"
   ]
  },
  {
   "cell_type": "code",
   "execution_count": 31,
   "id": "bee2295f",
   "metadata": {},
   "outputs": [
    {
     "name": "stdout",
     "output_type": "stream",
     "text": [
      "📡 **Uploading to uno on port COM3...**\n",
      "⏳ This may take a while, please wait...\n",
      "💻 **Compiling for uno on port COM3...**\n",
      "⏳ This may take a while, please wait...\n",
      "Sketch uses 2234 bytes (6%) of program storage space. Maximum is 32256 bytes.\n",
      "Global variables use 190 bytes (9%) of dynamic memory, leaving 1858 bytes for local variables. Maximum is 2048 bytes.\n",
      "\n",
      "✅ **Compile complete.**\n",
      "New upload port: COM3 (serial)\n",
      "\n",
      "✅ **Upload complete.**\n"
     ]
    },
    {
     "data": {
      "text/markdown": [
       "🚀 **Upload complete.** Log: `h:\\Můj disk\\Projekty\\ArduinoProject\\ArduinoColab\\colab\\arduino_colab_kernel\\demos\\projects\\sketch\\logs\\upload.log`"
      ],
      "text/plain": [
       "<IPython.core.display.Markdown object>"
      ]
     },
     "metadata": {},
     "output_type": "display_data"
    }
   ],
   "source": [
    "%board upload"
   ]
  },
  {
   "cell_type": "markdown",
   "id": "57e7a71c",
   "metadata": {},
   "source": [
    "#### Where is my code?"
   ]
  },
  {
   "cell_type": "code",
   "execution_count": 48,
   "id": "cf8c6217",
   "metadata": {},
   "outputs": [
    {
     "data": {
      "text/markdown": [
       "Project: `sketch` | Mode: `local` [SERVER:] | Location: `h:\\Můj disk\\Projekty\\ArduinoProject\\ArduinoColab\\colab\\arduino_colab_kernel\\demos\\projects\\sketch`"
      ],
      "text/plain": [
       "<IPython.core.display.Markdown object>"
      ]
     },
     "metadata": {},
     "output_type": "display_data"
    }
   ],
   "source": [
    "%project status"
   ]
  },
  {
   "cell_type": "markdown",
   "id": "e2a261b2",
   "metadata": {},
   "source": [
    "#### What if I wanna clear the code from section?"
   ]
  },
  {
   "cell_type": "code",
   "execution_count": 6,
   "id": "c612949b",
   "metadata": {},
   "outputs": [
    {
     "data": {
      "text/markdown": [
       "`Code memory cleared.`"
      ],
      "text/plain": [
       "<IPython.core.display.Markdown object>"
      ]
     },
     "metadata": {},
     "output_type": "display_data"
    }
   ],
   "source": [
    "%project clear loop"
   ]
  },
  {
   "cell_type": "code",
   "execution_count": 7,
   "id": "a07d7455",
   "metadata": {},
   "outputs": [
    {
     "data": {
      "text/markdown": [
       "Project: **sketch**\n",
       " ```\n",
       "#include <Arduino.h>\n",
       "\n",
       "//**Global variables**\n",
       "\n",
       "int t = 0; // Timer counter\n",
       "\n",
       "\n",
       "//**Functions**\n",
       "\n",
       "// No functions defined\n",
       "\n",
       "\n",
       "//**Setup**\n",
       "\n",
       "void setup() {\n",
       "\tSerial.begin(115200);\n",
       "}\n",
       "\n",
       "\n",
       "//**Loop**\n",
       "\n",
       "void loop() {\n",
       "\t//Loop code goes here\n",
       "}\n",
       "\n",
       "\n",
       "```"
      ],
      "text/plain": [
       "<IPython.core.display.Markdown object>"
      ]
     },
     "metadata": {},
     "output_type": "display_data"
    }
   ],
   "source": [
    "%project show"
   ]
  },
  {
   "cell_type": "markdown",
   "id": "a50517cb",
   "metadata": {},
   "source": [
    "## Upload 🚀"
   ]
  },
  {
   "cell_type": "code",
   "execution_count": 27,
   "id": "f3fa093f",
   "metadata": {},
   "outputs": [
    {
     "name": "stdout",
     "output_type": "stream",
     "text": [
      "Kompiluji: g:\\můj disk\\projekty\\arduinocolab\\arduino_colab_kernel\\tools\\arduino-cli.exe compile g:\\Můj disk\\Projekty\\ArduinoColab\\arduino_colab_kernel\\demos\\projects\\demo -p COM5 -b arduino:avr:uno\n",
      "Sketch uses 1964 bytes (6%) of program storage space. Maximum is 32256 bytes.\n",
      "Global variables use 192 bytes (9%) of dynamic memory, leaving 1856 bytes for local variables. Maximum is 2048 bytes.\n",
      "\n",
      "Nahrávám: g:\\můj disk\\projekty\\arduinocolab\\arduino_colab_kernel\\tools\\arduino-cli.exe upload g:\\Můj disk\\Projekty\\ArduinoColab\\arduino_colab_kernel\\demos\\projects\\demo -p COM5 -b arduino:avr:uno\n",
      "New upload port: COM5 (serial)\n",
      "\n"
     ]
    },
    {
     "data": {
      "text/markdown": [
       "🚀 **Nahrávání dokončeno.** Log: `g:\\Můj disk\\Projekty\\ArduinoColab\\arduino_colab_kernel\\demos\\projects\\demo\\logs\\upload.log`"
      ],
      "text/plain": [
       "<IPython.core.display.Markdown object>"
      ]
     },
     "metadata": {},
     "output_type": "display_data"
    }
   ],
   "source": [
    "%board upload"
   ]
  },
  {
   "cell_type": "markdown",
   "id": "c147461b",
   "metadata": {},
   "source": [
    "### Serial port 📡"
   ]
  },
  {
   "cell_type": "code",
   "execution_count": 36,
   "id": "e01c7589",
   "metadata": {},
   "outputs": [
    {
     "data": {
      "text/markdown": [
       "**Usage:** `%%serial [listen|read|write|help] [options]`\n",
       "\n",
       "**Commands:**\n",
       "- `listen` – reads serial output continuously for `--duration` or until interrupted (Ctrl+C)\n",
       "- `read` – reads the specified number of lines (`--lines`)\n",
       "- `write` – writes data to the serial port (`--data` or cell content)\n",
       "- `help` – shows this help\n",
       "\n",
       "**Common requirements:**\n",
       "- Board must be set (`%board set`) and serial port (`%board serial` or autodetect)\n",
       "\n",
       "**Options for `listen`:**\n",
       "- `--duration <seconds>` – listening duration; if not set, runs until Ctrl+C\n",
       "- `--prefix <text>` – filters lines starting with the given prefix\n",
       "\n",
       "**Options for `read`:**\n",
       "- `--lines <count>` – number of lines to read (default 1)\n",
       "\n",
       "**Options for `write`:**\n",
       "- `--data <text>` – text to send; if not set, uses cell content\n",
       "- `--no-nl` – do not send newline (`\\n`) at the end of the message\n"
      ],
      "text/plain": [
       "<IPython.core.display.Markdown object>"
      ]
     },
     "metadata": {},
     "output_type": "display_data"
    }
   ],
   "source": [
    "%serial help"
   ]
  },
  {
   "cell_type": "code",
   "execution_count": 37,
   "id": "d7901522",
   "metadata": {},
   "outputs": [
    {
     "data": {
      "text/markdown": [
       "📡 **Listening**, duration: unlimited"
      ],
      "text/plain": [
       "<IPython.core.display.Markdown object>"
      ]
     },
     "metadata": {},
     "output_type": "display_data"
    },
    {
     "name": "stdout",
     "output_type": "stream",
     "text": [
      "1\n",
      "2\n",
      "3\n",
      "4\n",
      "5\n",
      "6\n",
      "7\n",
      "8\n",
      "9\n"
     ]
    },
    {
     "data": {
      "text/markdown": [
       "✅ **Listening ended.**"
      ],
      "text/plain": [
       "<IPython.core.display.Markdown object>"
      ]
     },
     "metadata": {},
     "output_type": "display_data"
    }
   ],
   "source": [
    "%serial listen"
   ]
  },
  {
   "cell_type": "code",
   "execution_count": 39,
   "id": "b5556df5",
   "metadata": {},
   "outputs": [
    {
     "data": {
      "text/markdown": [
       "✉️ **Sent:** `Hello from Arduino Colab Kernel!`"
      ],
      "text/plain": [
       "<IPython.core.display.Markdown object>"
      ]
     },
     "metadata": {},
     "output_type": "display_data"
    }
   ],
   "source": [
    "%serial write --data \"Hello from Arduino Colab Kernel!\""
   ]
  },
  {
   "cell_type": "code",
   "execution_count": 38,
   "id": "4193cdfc",
   "metadata": {},
   "outputs": [
    {
     "name": "stdout",
     "output_type": "stream",
     "text": [
      "1\n"
     ]
    }
   ],
   "source": [
    "%serial read --lines 1"
   ]
  }
 ],
 "metadata": {
  "kernelspec": {
   "display_name": ".venv",
   "language": "python",
   "name": "python3"
  },
  "language_info": {
   "codemirror_mode": {
    "name": "ipython",
    "version": 3
   },
   "file_extension": ".py",
   "mimetype": "text/x-python",
   "name": "python",
   "nbconvert_exporter": "python",
   "pygments_lexer": "ipython3",
   "version": "3.11.0"
  }
 },
 "nbformat": 4,
 "nbformat_minor": 5
}
