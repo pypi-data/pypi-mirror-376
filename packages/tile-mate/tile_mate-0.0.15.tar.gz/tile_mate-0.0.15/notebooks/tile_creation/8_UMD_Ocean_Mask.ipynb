{
 "cells": [
  {
   "cell_type": "code",
   "execution_count": 1,
   "id": "2948602a-2dec-44cc-93a2-9d0f2031dd1d",
   "metadata": {},
   "outputs": [],
   "source": [
    "import geopandas as gpd\n",
    "import pandas as pd\n",
    "import rasterio\n",
    "from rasterio.env import Env\n",
    "from rasterio.crs import CRS\n",
    "from shapely.geometry import Polygon\n",
    "from shapely.geometry import box\n",
    "from tile_mate.stitcher import DATA_DIR\n",
    "from dem_stitcher.geojson_io import to_geojson_gzip\n"
   ]
  },
  {
   "cell_type": "code",
   "execution_count": 2,
   "id": "03d5e8f6-1f15-446f-8bb0-2bdc16feaa70",
   "metadata": {},
   "outputs": [],
   "source": [
    "with open('umd_ocean_mask_tiles.txt') as f:\n",
    "    tiles = f.readlines()"
   ]
  },
  {
   "cell_type": "code",
   "execution_count": 3,
   "id": "6b04b25f-a0f3-4d1e-90b3-8e2416ce49fd",
   "metadata": {},
   "outputs": [
    {
     "data": {
      "text/plain": [
       "['00N_000E', '00N_010E', '00N_010W']"
      ]
     },
     "execution_count": 3,
     "metadata": {},
     "output_type": "execute_result"
    }
   ],
   "source": [
    "tiles = list(map(lambda x: x.strip(), tiles))\n",
    "tile_ids = list(map(lambda x: x.split('/')[-1].replace('.tif', ''), tiles))\n",
    "fns = list(map(lambda x: x.split('/')[-1], tiles))\n",
    "tile_ids[:3]"
   ]
  },
  {
   "cell_type": "code",
   "execution_count": 4,
   "id": "45aa87b6-17d6-49b0-a2b4-588056a34bb4",
   "metadata": {},
   "outputs": [
    {
     "data": {
      "text/plain": [
       "['https://storage.googleapis.com/earthenginepartners-hansen/OceanMask/00N_000E.tif',\n",
       " 'https://storage.googleapis.com/earthenginepartners-hansen/OceanMask/00N_010E.tif',\n",
       " 'https://storage.googleapis.com/earthenginepartners-hansen/OceanMask/00N_010W.tif']"
      ]
     },
     "execution_count": 4,
     "metadata": {},
     "output_type": "execute_result"
    }
   ],
   "source": [
    "base_url = 'https://storage.googleapis.com/earthenginepartners-hansen/OceanMask'\n",
    "tile_urls = [f'{base_url}/{fn}' for fn in fns]\n",
    "tile_urls[:3]"
   ]
  },
  {
   "cell_type": "code",
   "execution_count": 5,
   "id": "004b6cb2-4eec-46e0-b11f-09fa111d2b9e",
   "metadata": {},
   "outputs": [
    {
     "name": "stdout",
     "output_type": "stream",
     "text": [
      "{'driver': 'GTiff', 'dtype': 'uint8', 'nodata': None, 'width': 40000, 'height': 40000, 'count': 1, 'crs': CRS.from_wkt('GEOGCS[\"WGS 84\",DATUM[\"WGS_1984\",SPHEROID[\"WGS 84\",6378137,298.257223563,AUTHORITY[\"EPSG\",\"7030\"]],AUTHORITY[\"EPSG\",\"6326\"]],PRIMEM[\"Greenwich\",0,AUTHORITY[\"EPSG\",\"8901\"]],UNIT[\"degree\",0.0174532925199433,AUTHORITY[\"EPSG\",\"9122\"]],AXIS[\"Latitude\",NORTH],AXIS[\"Longitude\",EAST],AUTHORITY[\"EPSG\",\"4326\"]]'), 'transform': Affine(0.00025, 0.0, 0.0,\n",
      "       0.0, -0.00025, 0.0), 'blockxsize': 40000, 'blockysize': 1, 'tiled': False, 'compress': 'lzw', 'interleave': 'band'} gs://earthenginepartners-hansen/OceanMask/00N_000E.tif\n"
     ]
    }
   ],
   "source": [
    "t = tiles[0]\n",
    "\n",
    "with Env(GS_NO_SIGN_REQUEST='YES'):\n",
    "    with rasterio.open(t) as ds:\n",
    "        p = ds.profile\n",
    "print(p, t)"
   ]
  },
  {
   "cell_type": "code",
   "execution_count": 6,
   "id": "ece35b89-f9a7-4684-8ba5-47f65dbaf5bc",
   "metadata": {},
   "outputs": [],
   "source": [
    "def get_bounds_from_tile_id(tile_id: str) -> tuple[float]:\n",
    "    lat_str = tile_id[:3]\n",
    "    lon_str = tile_id[4:]\n",
    "    lat = float(tile_id[:2])\n",
    "    lon = float(tile_id[4:7])\n",
    "    if 'S' in lat_str:\n",
    "        lat = -lat\n",
    "    if 'W' in lon_str:\n",
    "        lon = -lon\n",
    "    return lon, lat - 10, lon + 10, lat\n",
    "\n",
    "def get_geometry(tile_id: str) -> Polygon:\n",
    "    bounds = get_bounds_from_tile_id(tile_id)        \n",
    "    return box(*bounds)"
   ]
  },
  {
   "cell_type": "code",
   "execution_count": 7,
   "id": "1d403fa9-1134-4f14-9731-dc7e82745a52",
   "metadata": {},
   "outputs": [
    {
     "data": {
      "text/plain": [
       "'00N'"
      ]
     },
     "execution_count": 7,
     "metadata": {},
     "output_type": "execute_result"
    }
   ],
   "source": [
    "tile_ids[0][:3]"
   ]
  },
  {
   "cell_type": "code",
   "execution_count": 8,
   "id": "59d58830-6038-422a-afa7-7c2fdc2b39bc",
   "metadata": {},
   "outputs": [
    {
     "data": {
      "text/plain": [
       "[<POLYGON ((10 -10, 10 0, 0 0, 0 -10, 10 -10))>,\n",
       " <POLYGON ((20 -10, 20 0, 10 0, 10 -10, 20 -10))>,\n",
       " <POLYGON ((0 -10, 0 0, -10 0, -10 -10, 0 -10))>]"
      ]
     },
     "execution_count": 8,
     "metadata": {},
     "output_type": "execute_result"
    }
   ],
   "source": [
    "geometry_l = [get_geometry(t) for t in tile_ids]\n",
    "geometry_l[:3]"
   ]
  },
  {
   "cell_type": "code",
   "execution_count": 9,
   "id": "3b464e3b-7b1d-4218-8491-f9de2060a528",
   "metadata": {},
   "outputs": [],
   "source": [
    "df = gpd.GeoDataFrame({'tile_id': tile_ids, 'url': tile_urls}, geometry=geometry_l, crs=CRS.from_epsg(4326))"
   ]
  },
  {
   "cell_type": "code",
   "execution_count": 10,
   "id": "110d3641-67ef-4e43-bd00-c987540456b3",
   "metadata": {},
   "outputs": [
    {
     "data": {
      "text/plain": [
       "<Axes: >"
      ]
     },
     "execution_count": 10,
     "metadata": {},
     "output_type": "execute_result"
    },
    {
     "data": {
      "image/png": "[encoded data removed]",
      "text/plain": [
       "<Figure size 640x480 with 1 Axes>"
      ]
     },
     "metadata": {},
     "output_type": "display_data"
    }
   ],
   "source": [
    "df.boundary.plot()"
   ]
  },
  {
   "cell_type": "code",
   "execution_count": 11,
   "id": "379f59f6-a554-499c-8fb8-6dfe803f07e0",
   "metadata": {},
   "outputs": [
    {
     "data": {
      "text/plain": [
       "'/Users/cmarshak/bekaert-team/tile-mate/src/tile_mate/data/umd_ocean_mask.geojson.zip'"
      ]
     },
     "execution_count": 11,
     "metadata": {},
     "output_type": "execute_result"
    }
   ],
   "source": [
    "to_geojson_gzip(df, str(DATA_DIR / 'umd_ocean_mask.geojson.zip'))"
   ]
  }
 ],
 "metadata": {
  "kernelspec": {
   "display_name": "tile-mate",
   "language": "python",
   "name": "tile-mate"
  },
  "language_info": {
   "codemirror_mode": {
    "name": "ipython",
    "version": 3
   },
   "file_extension": ".py",
   "mimetype": "text/x-python",
   "name": "python",
   "nbconvert_exporter": "python",
   "pygments_lexer": "ipython3",
   "version": "3.13.3"
  }
 },
 "nbformat": 4,
 "nbformat_minor": 5
}
