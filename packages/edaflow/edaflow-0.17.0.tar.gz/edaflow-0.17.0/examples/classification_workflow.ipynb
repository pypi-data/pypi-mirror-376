{
 "cells": [
  {
   "cell_type": "markdown",
   "id": "36caaf0b",
   "metadata": {},
   "source": [
    "# Classification Workflow with edaflow\n",
    "This notebook demonstrates a typical classification workflow using edaflow."
   ]
  },
  {
   "cell_type": "code",
   "execution_count": null,
   "id": "135a03c5",
   "metadata": {},
   "outputs": [],
   "source": [
    "# Import required libraries\n",
    "import pandas as pd\n",
    "import edaflow as eda\n",
    "from sklearn.model_selection import train_test_split\n",
    "from sklearn.ensemble import RandomForestClassifier"
   ]
  },
  {
   "cell_type": "markdown",
   "id": "9ec70c2b",
   "metadata": {},
   "source": [
    "## 1. Load Sample Data\n",
    "Synthetic classification dataset."
   ]
  },
  {
   "cell_type": "code",
   "execution_count": null,
   "id": "02e34776",
   "metadata": {},
   "outputs": [],
   "source": [
    "df = pd.DataFrame({\n",
    "    'feature1': [2, 3, 1, 5, 4, 2, 3, 4, 5, 1],\n",
    "    'feature2': [7, 8, 6, 5, 7, 8, 6, 5, 7, 8],\n",
    "    'target': [0, 1, 0, 1, 1, 0, 1, 0, 1, 0]\n",
    "})\n",
    "df.head()"
   ]
  },
  {
   "cell_type": "markdown",
   "id": "bb961c66",
   "metadata": {},
   "source": [
    "## 2. Preprocess Data\n",
    "Split into train and test sets."
   ]
  },
  {
   "cell_type": "code",
   "execution_count": null,
   "id": "728e7ebe",
   "metadata": {},
   "outputs": [],
   "source": [
    "X = df[['feature1', 'feature2']]\n",
    "y = df['target']\n",
    "X_train, X_test, y_train, y_test = train_test_split(X, y, test_size=0.3, random_state=42)"
   ]
  },
  {
   "cell_type": "markdown",
   "id": "0171e975",
   "metadata": {},
   "source": [
    "## 3. Train Classifier\n",
    "Fit a RandomForestClassifier."
   ]
  },
  {
   "cell_type": "code",
   "execution_count": null,
   "id": "f45a4263",
   "metadata": {},
   "outputs": [],
   "source": [
    "clf = RandomForestClassifier()\n",
    "clf.fit(X_train, y_train)"
   ]
  },
  {
   "cell_type": "markdown",
   "id": "7f113d54",
   "metadata": {},
   "source": [
    "## 4. Evaluate Metrics\n",
    "Use edaflow to visualize and evaluate classification metrics."
   ]
  },
  {
   "cell_type": "code",
   "execution_count": null,
   "id": "9092130a",
   "metadata": {},
   "outputs": [],
   "source": [
    "y_pred = clf.predict(X_test)\n",
    "eda.ml.plot_confusion_matrix(y_test, y_pred)"
   ]
  },
  {
   "cell_type": "markdown",
   "id": "2ebce0c3",
   "metadata": {},
   "source": [
    "## 5. Visualize Results\n",
    "Show feature importance."
   ]
  },
  {
   "cell_type": "code",
   "execution_count": null,
   "id": "0b6964c9",
   "metadata": {},
   "outputs": [],
   "source": [
    "eda.ml.plot_feature_importance(clf, X.columns)"
   ]
  }
 ],
 "metadata": {
  "language_info": {
   "name": "python"
  }
 },
 "nbformat": 4,
 "nbformat_minor": 5
}
