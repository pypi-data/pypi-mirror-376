{
 "cells": [
  {
   "cell_type": "markdown",
   "id": "1abc1f49",
   "metadata": {},
   "source": [
    "# Model Ranking Workflow with edaflow\n",
    "This notebook demonstrates how to compare and rank multiple models using edaflow."
   ]
  },
  {
   "cell_type": "code",
   "execution_count": null,
   "id": "78393f66",
   "metadata": {},
   "outputs": [],
   "source": [
    "# Import required libraries\n",
    "import pandas as pd\n",
    "import edaflow as eda\n",
    "from sklearn.model_selection import train_test_split\n",
    "from sklearn.linear_model import LogisticRegression\n",
    "from sklearn.ensemble import RandomForestClassifier\n",
    "from sklearn.svm import SVC"
   ]
  },
  {
   "cell_type": "markdown",
   "id": "f54d3d26",
   "metadata": {},
   "source": [
    "## 1. Load Sample Data\n",
    "Synthetic classification dataset."
   ]
  },
  {
   "cell_type": "code",
   "execution_count": null,
   "id": "538f379b",
   "metadata": {},
   "outputs": [],
   "source": [
    "df = pd.DataFrame({\n",
    "    'feature1': [2, 3, 1, 5, 4, 2, 3, 4, 5, 1],\n",
    "    'feature2': [7, 8, 6, 5, 7, 8, 6, 5, 7, 8],\n",
    "    'target': [0, 1, 0, 1, 1, 0, 1, 0, 1, 0]\n",
    "})\n",
    "X = df[['feature1', 'feature2']]\n",
    "y = df['target']\n",
    "X_train, X_test, y_train, y_test = train_test_split(X, y, test_size=0.3, random_state=42)"
   ]
  },
  {
   "cell_type": "markdown",
   "id": "00253434",
   "metadata": {},
   "source": [
    "## 2. Train Multiple Models\n",
    "Fit Logistic Regression, Random Forest, and SVM."
   ]
  },
  {
   "cell_type": "code",
   "execution_count": null,
   "id": "abe36d5f",
   "metadata": {},
   "outputs": [],
   "source": [
    "models = {\n",
    "    'LogisticRegression': LogisticRegression(),\n",
    "    'RandomForest': RandomForestClassifier(),\n",
    "    'SVM': SVC()\n",
    "}\n",
    "results = {}\n",
    "for name, model in models.items():\n",
    "    model.fit(X_train, y_train)\n",
    "    y_pred = model.predict(X_test)\n",
    "    results[name] = {\n",
    "        'y_pred': y_pred,\n",
    "        'model': model\n",
    "    }"
   ]
  },
  {
   "cell_type": "markdown",
   "id": "847a5048",
   "metadata": {},
   "source": [
    "## 3. Compare Model Performance\n",
    "Use edaflow to rank models by accuracy."
   ]
  },
  {
   "cell_type": "code",
   "execution_count": null,
   "id": "075791e5",
   "metadata": {},
   "outputs": [],
   "source": [
    "model_scores = {}\n",
    "for name, res in results.items():\n",
    "    score = eda.ml.classification_score(y_test, res['y_pred'], metric='accuracy')\n",
    "    model_scores[name] = score\n",
    "eda.ml.display_model_score(name, score)"
   ]
  },
  {
   "cell_type": "markdown",
   "id": "b4172a2e",
   "metadata": {},
   "source": [
    "## 4. Visualize Model Ranking\n",
    "Show a bar plot of model accuracies."
   ]
  },
  {
   "cell_type": "code",
   "execution_count": null,
   "id": "6619cfca",
   "metadata": {},
   "outputs": [],
   "source": [
    "eda.ml.plot_model_ranking(model_scores)"
   ]
  }
 ],
 "metadata": {
  "language_info": {
   "name": "python"
  }
 },
 "nbformat": 4,
 "nbformat_minor": 5
}
