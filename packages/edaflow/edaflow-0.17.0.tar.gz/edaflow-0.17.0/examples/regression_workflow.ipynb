{
 "cells": [
  {
   "cell_type": "markdown",
   "id": "d99160ab",
   "metadata": {},
   "source": [
    "# Regression Workflow with edaflow\n",
    "This notebook demonstrates a typical regression workflow using edaflow."
   ]
  },
  {
   "cell_type": "code",
   "execution_count": null,
   "id": "0b4383b7",
   "metadata": {},
   "outputs": [],
   "source": [
    "# Import required libraries\n",
    "import pandas as pd\n",
    "import edaflow as eda\n",
    "from sklearn.model_selection import train_test_split\n",
    "from sklearn.linear_model import LinearRegression"
   ]
  },
  {
   "cell_type": "markdown",
   "id": "fb163a2a",
   "metadata": {},
   "source": [
    "## 1. Load Sample Data\n",
    "Synthetic regression dataset."
   ]
  },
  {
   "cell_type": "code",
   "execution_count": null,
   "id": "5eab2e9a",
   "metadata": {},
   "outputs": [],
   "source": [
    "df = pd.DataFrame({\n",
    "    'feature1': [2, 3, 1, 5, 4, 2, 3, 4, 5, 1],\n",
    "    'feature2': [7, 8, 6, 5, 7, 8, 6, 5, 7, 8],\n",
    "    'target': [10.2, 12.5, 8.7, 15.1, 13.3, 9.8, 11.7, 14.2, 16.0, 7.9]\n",
    "})\n",
    "df.head()"
   ]
  },
  {
   "cell_type": "markdown",
   "id": "d43abaad",
   "metadata": {},
   "source": [
    "## 2. Preprocess Data\n",
    "Split into train and test sets."
   ]
  },
  {
   "cell_type": "code",
   "execution_count": null,
   "id": "e8674522",
   "metadata": {},
   "outputs": [],
   "source": [
    "X = df[['feature1', 'feature2']]\n",
    "y = df['target']\n",
    "X_train, X_test, y_train, y_test = train_test_split(X, y, test_size=0.3, random_state=42)"
   ]
  },
  {
   "cell_type": "markdown",
   "id": "a081895d",
   "metadata": {},
   "source": [
    "## 3. Train Regressor\n",
    "Fit a LinearRegression model."
   ]
  },
  {
   "cell_type": "code",
   "execution_count": null,
   "id": "a9dbecf4",
   "metadata": {},
   "outputs": [],
   "source": [
    "reg = LinearRegression()\n",
    "reg.fit(X_train, y_train)"
   ]
  },
  {
   "cell_type": "markdown",
   "id": "498bdcf6",
   "metadata": {},
   "source": [
    "## 4. Evaluate Metrics\n",
    "Use edaflow to visualize and evaluate regression metrics."
   ]
  },
  {
   "cell_type": "code",
   "execution_count": null,
   "id": "eae0cfb0",
   "metadata": {},
   "outputs": [],
   "source": [
    "y_pred = reg.predict(X_test)\n",
    "eda.ml.plot_regression_metrics(y_test, y_pred)"
   ]
  },
  {
   "cell_type": "markdown",
   "id": "55cc21fa",
   "metadata": {},
   "source": [
    "## 5. Visualize Results\n",
    "Show feature importance (coefficients)."
   ]
  },
  {
   "cell_type": "code",
   "execution_count": null,
   "id": "7caf138b",
   "metadata": {},
   "outputs": [],
   "source": [
    "eda.ml.plot_feature_importance(reg, X.columns)"
   ]
  }
 ],
 "metadata": {
  "language_info": {
   "name": "python"
  }
 },
 "nbformat": 4,
 "nbformat_minor": 5
}
