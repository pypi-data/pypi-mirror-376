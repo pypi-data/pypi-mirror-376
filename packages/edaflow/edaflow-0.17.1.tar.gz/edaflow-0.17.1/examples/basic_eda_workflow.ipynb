{
 "cells": [
  {
   "cell_type": "markdown",
   "id": "a7dcc487",
   "metadata": {},
   "source": [
    "# Basic EDA Workflow with edaflow\n",
    "This notebook demonstrates a typical exploratory data analysis workflow using edaflow."
   ]
  },
  {
   "cell_type": "code",
   "execution_count": null,
   "id": "b1e01f5f",
   "metadata": {},
   "outputs": [],
   "source": [
    "# Import required libraries\n",
    "import pandas as pd\n",
    "import edaflow as eda"
   ]
  },
  {
   "cell_type": "markdown",
   "id": "e1af1fde",
   "metadata": {},
   "source": [
    "## 1. Load Sample Data\n",
    "We'll use a synthetic dataset for demonstration."
   ]
  },
  {
   "cell_type": "code",
   "execution_count": null,
   "id": "cdc8f7da",
   "metadata": {},
   "outputs": [],
   "source": [
    "df = pd.DataFrame({\n",
    "    'age': [25, 30, 22, 40, 35, None, 28, 32, None, 27],\n",
    "    'income': [50000, 60000, 52000, 80000, 75000, 62000, None, 70000, 68000, 59000],\n",
    "    'gender': ['M', 'F', 'F', 'M', 'F', 'M', 'F', 'M', 'F', 'M']\n",
    "})\n",
    "df.head()"
   ]
  },
  {
   "cell_type": "markdown",
   "id": "052ade4c",
   "metadata": {},
   "source": [
    "## 2. Visualize Distributions\n",
    "Let's visualize the distribution of age and income."
   ]
  },
  {
   "cell_type": "code",
   "execution_count": null,
   "id": "8f178a3b",
   "metadata": {},
   "outputs": [],
   "source": [
    "eda.visualize_histograms(df, columns=['age', 'income'])"
   ]
  },
  {
   "cell_type": "markdown",
   "id": "0490032b",
   "metadata": {},
   "source": [
    "## 3. Handle Missing Values\n",
    "Impute missing values using edaflow utilities."
   ]
  },
  {
   "cell_type": "code",
   "execution_count": null,
   "id": "3688666c",
   "metadata": {},
   "outputs": [],
   "source": [
    "df_imputed = eda.impute_numerical_median(df, columns=['age', 'income'])\n",
    "df_imputed.head()"
   ]
  },
  {
   "cell_type": "markdown",
   "id": "9bbed6a7",
   "metadata": {},
   "source": [
    "## 4. Summarize Insights\n",
    "Get a summary of EDA insights."
   ]
  },
  {
   "cell_type": "code",
   "execution_count": null,
   "id": "e6c3493e",
   "metadata": {},
   "outputs": [],
   "source": [
    "eda.summarize_eda_insights(df_imputed)"
   ]
  }
 ],
 "metadata": {
  "language_info": {
   "name": "python"
  }
 },
 "nbformat": 4,
 "nbformat_minor": 5
}
