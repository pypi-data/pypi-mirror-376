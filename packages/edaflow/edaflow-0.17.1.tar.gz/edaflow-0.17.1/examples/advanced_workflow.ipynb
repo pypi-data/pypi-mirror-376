{
 "cells": [
  {
   "cell_type": "markdown",
   "id": "e68c2c1c",
   "metadata": {},
   "source": [
    "# Advanced EDA & ML Workflow with edaflow\n",
    "This notebook demonstrates a comprehensive workflow including advanced EDA, feature engineering, model training, and evaluation using edaflow."
   ]
  },
  {
   "cell_type": "code",
   "execution_count": null,
   "id": "e58c5e8d",
   "metadata": {},
   "outputs": [],
   "source": [
    "# Import required libraries\n",
    "import pandas as pd\n",
    "import numpy as np\n",
    "import edaflow as eda\n",
    "from sklearn.model_selection import train_test_split\n",
    "from sklearn.ensemble import GradientBoostingClassifier"
   ]
  },
  {
   "cell_type": "markdown",
   "id": "4e2f5e8c",
   "metadata": {},
   "source": [
    "## 1. Load and Explore Data\n",
    "Synthetic dataset with missing values, outliers, and categorical features."
   ]
  },
  {
   "cell_type": "code",
   "execution_count": null,
   "id": "4f300cdb",
   "metadata": {},
   "outputs": [],
   "source": [
    "df = pd.DataFrame({\n",
    "    'feature1': [2, np.nan, 1, 5, 100, 2, 3, 4, np.nan, 1],\n",
    "    'feature2': [7, 8, np.nan, 5, 7, 8, 6, 5, 7, 8],\n",
    "    'category': ['A', 'B', 'A', 'C', 'A', 'B', 'C', 'A', 'B', 'C'],\n",
    "    'target': [0, 1, 0, 1, 1, 0, 1, 0, 1, 0]\n",
    "})\n",
    "df.head()"
   ]
  },
  {
   "cell_type": "markdown",
   "id": "11ec7ba8",
   "metadata": {},
   "source": [
    "## 2. Visualize Data\n",
    "Use edaflow to display facet grid and highlight anomalies."
   ]
  },
  {
   "cell_type": "code",
   "execution_count": null,
   "id": "78a1957a",
   "metadata": {},
   "outputs": [],
   "source": [
    "eda.display_facet_grid(df, features=['feature1', 'feature2'], target='target')\n",
    "eda.highlight_anomalies(df)"
   ]
  },
  {
   "cell_type": "markdown",
   "id": "b26779f0",
   "metadata": {},
   "source": [
    "## 3. Feature Engineering\n",
    "Create lag features and scale features."
   ]
  },
  {
   "cell_type": "code",
   "execution_count": null,
   "id": "3c25ea59",
   "metadata": {},
   "outputs": [],
   "source": [
    "df = eda.create_lag_features(df, columns=['feature1', 'feature2'], lags=1)\n",
    "df_scaled = eda.scale_features(df, columns=['feature1', 'feature2'])"
   ]
  },
  {
   "cell_type": "markdown",
   "id": "98b617e1",
   "metadata": {},
   "source": [
    "## 4. Data Cleaning\n",
    "Impute missing values and group rare categories."
   ]
  },
  {
   "cell_type": "code",
   "execution_count": null,
   "id": "7c52d0e9",
   "metadata": {},
   "outputs": [],
   "source": [
    "df_scaled['feature1'] = df_scaled['feature1'].fillna(df_scaled['feature1'].mean())\n",
    "df_scaled['feature2'] = df_scaled['feature2'].fillna(df_scaled['feature2'].mean())\n",
    "df_scaled['category'] = eda.group_rare_categories(df_scaled['category'], threshold=0.2)"
   ]
  },
  {
   "cell_type": "markdown",
   "id": "fcd5cf6a",
   "metadata": {},
   "source": [
    "## 5. Train-Test Split\n",
    "Split the cleaned and engineered data."
   ]
  },
  {
   "cell_type": "code",
   "execution_count": null,
   "id": "f8ec039c",
   "metadata": {},
   "outputs": [],
   "source": [
    "X = df_scaled.drop('target', axis=1)\n",
    "y = df_scaled['target']\n",
    "X_train, X_test, y_train, y_test = train_test_split(X, y, test_size=0.3, random_state=42)"
   ]
  },
  {
   "cell_type": "markdown",
   "id": "4c8b1c9b",
   "metadata": {},
   "source": [
    "## 6. Train Advanced Model\n",
    "Fit a GradientBoostingClassifier."
   ]
  },
  {
   "cell_type": "code",
   "execution_count": null,
   "id": "a40655ab",
   "metadata": {},
   "outputs": [],
   "source": [
    "clf = GradientBoostingClassifier()\n",
    "clf.fit(X_train, y_train)"
   ]
  },
  {
   "cell_type": "markdown",
   "id": "8a241adc",
   "metadata": {},
   "source": [
    "## 7. Evaluate and Visualize\n",
    "Show confusion matrix and feature importance."
   ]
  },
  {
   "cell_type": "code",
   "execution_count": null,
   "id": "77c86f50",
   "metadata": {},
   "outputs": [],
   "source": [
    "y_pred = clf.predict(X_test)\n",
    "eda.ml.plot_confusion_matrix(clf, X_test, y_test)\n",
    "eda.ml.plot_feature_importance(clf, X.columns)"
   ]
  },
  {
   "cell_type": "markdown",
   "id": "08bf3e72",
   "metadata": {},
   "source": [
    "## 8. Export Results\n",
    "Export final figure using edaflow."
   ]
  },
  {
   "cell_type": "code",
   "execution_count": null,
   "id": "310dd19f",
   "metadata": {},
   "outputs": [],
   "source": [
    "eda.export_figure('final_results.png')"
   ]
  }
 ],
 "metadata": {
  "language_info": {
   "name": "python"
  }
 },
 "nbformat": 4,
 "nbformat_minor": 5
}
