{
 "cells": [
  {
   "cell_type": "markdown",
   "id": "7f1ec2f7",
   "metadata": {},
   "source": [
    "# Data Cleaning Workflow with edaflow\n",
    "This notebook demonstrates common data cleaning steps using edaflow utilities."
   ]
  },
  {
   "cell_type": "code",
   "execution_count": null,
   "id": "c401bab5",
   "metadata": {},
   "outputs": [],
   "source": [
    "# Import required libraries\n",
    "import pandas as pd\n",
    "import numpy as np\n",
    "import edaflow as eda"
   ]
  },
  {
   "cell_type": "markdown",
   "id": "35636d01",
   "metadata": {},
   "source": [
    "## 1. Load Sample Data\n",
    "Synthetic dataset with missing values and outliers."
   ]
  },
  {
   "cell_type": "code",
   "execution_count": null,
   "id": "965f2ac7",
   "metadata": {},
   "outputs": [],
   "source": [
    "df = pd.DataFrame({\n",
    "    'feature1': [2, np.nan, 1, 5, 100, 2, 3, 4, np.nan, 1],\n",
    "    'feature2': [7, 8, np.nan, 5, 7, 8, 6, 5, 7, 8],\n",
    "    'category': ['A', 'B', 'A', 'C', 'A', 'B', 'C', 'A', 'B', 'C']\n",
    "})\n",
    "df.head()"
   ]
  },
  {
   "cell_type": "markdown",
   "id": "474d38bd",
   "metadata": {},
   "source": [
    "## 2. Visualize Missing Values\n",
    "Use edaflow to highlight missing data."
   ]
  },
  {
   "cell_type": "code",
   "execution_count": null,
   "id": "881d53c2",
   "metadata": {},
   "outputs": [],
   "source": [
    "eda.highlight_anomalies(df)"
   ]
  },
  {
   "cell_type": "markdown",
   "id": "00b63aa8",
   "metadata": {},
   "source": [
    "## 3. Impute Missing Values\n",
    "Fill missing values with mean for numeric columns."
   ]
  },
  {
   "cell_type": "code",
   "execution_count": null,
   "id": "eb9bf040",
   "metadata": {},
   "outputs": [],
   "source": [
    "df['feature1'] = df['feature1'].fillna(df['feature1'].mean())\n",
    "df['feature2'] = df['feature2'].fillna(df['feature2'].mean())"
   ]
  },
  {
   "cell_type": "markdown",
   "id": "7f1bd539",
   "metadata": {},
   "source": [
    "## 4. Detect and Handle Outliers\n",
    "Use edaflow to visualize and optionally cap outliers."
   ]
  },
  {
   "cell_type": "code",
   "execution_count": null,
   "id": "f6434b49",
   "metadata": {},
   "outputs": [],
   "source": [
    "eda.highlight_anomalies(df, method='outlier')\n",
    "df['feature1'] = np.where(df['feature1'] > 50, 50, df['feature1'])"
   ]
  },
  {
   "cell_type": "markdown",
   "id": "e8dbf70e",
   "metadata": {},
   "source": [
    "## 5. Group Rare Categories\n",
    "Group rare categories in categorical columns."
   ]
  },
  {
   "cell_type": "code",
   "execution_count": null,
   "id": "079d8a66",
   "metadata": {},
   "outputs": [],
   "source": [
    "df['category'] = eda.group_rare_categories(df['category'], threshold=0.2)"
   ]
  },
  {
   "cell_type": "markdown",
   "id": "b7b22a76",
   "metadata": {},
   "source": [
    "## 6. Final Cleaned Data\n",
    "Display the cleaned DataFrame."
   ]
  },
  {
   "cell_type": "code",
   "execution_count": null,
   "id": "dbf5ce33",
   "metadata": {},
   "outputs": [],
   "source": [
    "df.head()"
   ]
  }
 ],
 "metadata": {
  "language_info": {
   "name": "python"
  }
 },
 "nbformat": 4,
 "nbformat_minor": 5
}
