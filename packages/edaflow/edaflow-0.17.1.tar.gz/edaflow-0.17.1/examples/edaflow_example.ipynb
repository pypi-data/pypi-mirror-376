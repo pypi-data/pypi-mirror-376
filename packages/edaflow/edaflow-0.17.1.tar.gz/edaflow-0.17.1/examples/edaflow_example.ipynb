{
 "cells": [
  {
   "cell_type": "markdown",
   "id": "740f3eb7",
   "metadata": {},
   "source": [
    "# edaflow Interactive Example\n",
    "This notebook demonstrates key edaflow features with step-by-step analysis, best practices, and troubleshooting tips."
   ]
  },
  {
   "cell_type": "code",
   "execution_count": null,
   "id": "05a42eee",
   "metadata": {},
   "outputs": [],
   "source": [
    "# Import libraries\n",
    "import pandas as pd\n",
    "import edaflow as eda"
   ]
  },
  {
   "cell_type": "markdown",
   "id": "0b752cae",
   "metadata": {},
   "source": [
    "## 1. Load Sample Data\n",
    "We'll use a simple synthetic dataset for demonstration."
   ]
  },
  {
   "cell_type": "code",
   "execution_count": null,
   "id": "e82cbcfc",
   "metadata": {},
   "outputs": [],
   "source": [
    "# Create sample data\n",
    "df = pd.DataFrame({\n",
    "    'date': pd.date_range('2023-01-01', periods=10),\n",
    "    'sales': [100, 120, 130, 90, 300, 110, 115, 95, 105, 102],\n",
    "    'region': ['North', 'South', 'East', 'West', 'North', 'South', 'East', 'West', 'North', 'South'],\n",
    "    'category': ['A', 'A', 'B', 'B', 'C', 'C', 'A', 'B', 'C', 'A']\n",
    "})\n",
    "df.head()"
   ]
  },
  {
   "cell_type": "markdown",
   "id": "f90d0b04",
   "metadata": {},
   "source": [
    "## 2. Highlight Anomalies in Timeseries\n",
    "Use `highlight_anomalies` to detect outliers in sales."
   ]
  },
  {
   "cell_type": "code",
   "execution_count": null,
   "id": "c5198dde",
   "metadata": {},
   "outputs": [],
   "source": [
    "eda.display_timeseries(df, x='date', y='sales', highlight_anomalies=True)"
   ]
  },
  {
   "cell_type": "markdown",
   "id": "840320c1",
   "metadata": {},
   "source": [
    "## 3. Create Lag Features\n",
    "Generate lagged sales values for time series analysis."
   ]
  },
  {
   "cell_type": "code",
   "execution_count": null,
   "id": "52e0e3d5",
   "metadata": {},
   "outputs": [],
   "source": [
    "df_lagged = eda.create_lag_features(df, column='sales', lags=[1,2])\n",
    "df_lagged[['date', 'sales', 'sales_lag_1', 'sales_lag_2']].head()"
   ]
  },
  {
   "cell_type": "markdown",
   "id": "ed7ab766",
   "metadata": {},
   "source": [
    "## 4. Faceted Visualization\n",
    "Visualize sales by region and category using `display_facet_grid`."
   ]
  },
  {
   "cell_type": "code",
   "execution_count": null,
   "id": "2ef5082b",
   "metadata": {},
   "outputs": [],
   "source": [
    "eda.display_facet_grid(df, row='region', col='category', plot_type='boxplot', column='sales')"
   ]
  },
  {
   "cell_type": "markdown",
   "id": "ce574e10",
   "metadata": {},
   "source": [
    "## 5. Scale Features\n",
    "Standardize sales values for ML workflows."
   ]
  },
  {
   "cell_type": "code",
   "execution_count": null,
   "id": "7ec47353",
   "metadata": {},
   "outputs": [],
   "source": [
    "df_scaled = eda.scale_features(df, columns=['sales'], method='standard')\n",
    "df_scaled[['sales']].head()"
   ]
  },
  {
   "cell_type": "markdown",
   "id": "eb7e2833",
   "metadata": {},
   "source": [
    "## 6. Group Rare Categories\n",
    "Simplify categorical variables for modeling."
   ]
  },
  {
   "cell_type": "code",
   "execution_count": null,
   "id": "0fbb9e1a",
   "metadata": {},
   "outputs": [],
   "source": [
    "df_grouped = eda.group_rare_categories(df, column='category', threshold=0.2, new_value='Other')\n",
    "df_grouped['category'].value_counts()"
   ]
  },
  {
   "cell_type": "markdown",
   "id": "fca4220b",
   "metadata": {},
   "source": [
    "## 7. Export Figure\n",
    "Save a visualization for reporting."
   ]
  },
  {
   "cell_type": "code",
   "execution_count": null,
   "id": "477d8817",
   "metadata": {},
   "outputs": [],
   "source": [
    "fig = eda.display_timeseries(df, x='date', y='sales')\n",
    "eda.export_figure(fig, filename='sales_timeseries.png', format='png', dpi=150)"
   ]
  },
  {
   "cell_type": "markdown",
   "id": "266c5062",
   "metadata": {},
   "source": [
    "## Best Practices & Troubleshooting\n",
    "- Ensure required libraries are installed: matplotlib, seaborn, scikit-learn, statsmodels, pandas\n",
    "- For headless environments, use `export_figure` with supported formats\n",
    "- Check documentation for parameter details and troubleshooting tips\n",
    "- Use copy-paste-ready examples from the `examples` directory"
   ]
  }
 ],
 "metadata": {
  "language_info": {
   "name": "python"
  }
 },
 "nbformat": 4,
 "nbformat_minor": 5
}
