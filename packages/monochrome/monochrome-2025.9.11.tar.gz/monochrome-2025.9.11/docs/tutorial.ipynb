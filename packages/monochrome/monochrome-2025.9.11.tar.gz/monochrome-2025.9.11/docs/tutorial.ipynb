{
 "cells": [
  {
   "cell_type": "markdown",
   "metadata": {},
   "source": [
    "# Python Tutorial\n",
    "\n",
    "\n",
    "```{note}\n",
    "This tutorial is currently in preparation. Please check back later.\n",
    "```\n",
    "\n",
    "This tutorial demonstrates how to use the `monochrome` Python library to visualize videos and other data in the Monochrome viewer.\n",
    "\n",
    "## Basic Usage\n",
    "\n",
    "First, import the necessary libraries:"
   ]
  },
  {
   "cell_type": "code",
   "execution_count": null,
   "metadata": {},
   "outputs": [],
   "source": [
    "import numpy as np\n",
    "import monochrome as mc\n",
    "import optimap as om"
   ]
  },
  {
   "cell_type": "markdown",
   "metadata": {},
   "source": [
    "Here we use [optimap](https://github.com/cardiacvision/optimap) to download a sample video as a numpy array."
   ]
  },
  {
   "cell_type": "code",
   "execution_count": null,
   "metadata": {},
   "outputs": [],
   "source": [
    "filename = om.download_example_data(\"VF_Rabbit_1.npy\")\n",
    "video = om.load_video(filename)"
   ]
  },
  {
   "cell_type": "markdown",
   "metadata": {},
   "source": [
    "Display the video in Monochrome using {func}`mc.show`:"
   ]
  },
  {
   "cell_type": "code",
   "execution_count": null,
   "metadata": {},
   "outputs": [],
   "source": [
    "mc.show(video, name=\"Example Recording\")"
   ]
  },
  {
   "cell_type": "markdown",
   "metadata": {},
   "source": [
    "You can display multiple videos simultaneously. They will play in sync if they have the same length:"
   ]
  },
  {
   "cell_type": "code",
   "execution_count": null,
   "metadata": {},
   "outputs": [],
   "source": [
    "# Converting video to np.float32 with values between 0 and 1\n",
    "video2 = om.video.normalize(video)\n",
    "print(f\"Video shape: {video2.shape}, dtype: {video2.dtype}\")\n",
    "\n",
    "# vmin and vmax are optional and used to set the minimum and maximum values of the colormap\n",
    "mc.show(video2, name=\"Another Recording\", cmap=\"viridis\", vmin=0.1, vmax=0.9)\n",
    "mc.show(video2[0], name=\"First Frame\", cmap=\"gray\", vmin=0.1, vmax=0.9)"
   ]
  },
  {
   "cell_type": "markdown",
   "metadata": {},
   "source": [
    "You can load videos directly from a file path using {func}`mc.show` or {func}`mc.show_file`:"
   ]
  },
  {
   "cell_type": "code",
   "execution_count": null,
   "metadata": {},
   "outputs": [],
   "source": [
    "mc.show(filename)  # Equivalent to mc.show_file(filename)"
   ]
  },
  {
   "cell_type": "markdown",
   "metadata": {},
   "source": [
    "## Advanced Usage\n",
    "\n",
    "### Overlays\n",
    "\n",
    "You can add a video as an overlay to another video using {func}`mc.show_layer`. This is useful for comparing different videos or visualizing different aspects of the same video. The overlay will be blended with the parent video using the specified opacity function."
   ]
  },
  {
   "cell_type": "code",
   "execution_count": null,
   "metadata": {},
   "outputs": [],
   "source": [
    "# Create a synthetic overlay\n",
    "overlay = video.copy()\n",
    "overlay[:, 32:96, 32:96] = np.nan  # Create a transparent region\n",
    "\n",
    "# Display the overlay\n",
    "mc.show_layer(overlay, parent=\"Example Recording\", name=\"Overlay\", cmap=\"hsv\", opacity=0.5)"
   ]
  },
  {
   "cell_type": "markdown",
   "metadata": {},
   "source": [
    "### Optical Flow\n",
    "\n",
    "You can visualize optical flow using {func}`mc.show_flow`. This function takes a 4D numpy array of shape `(T, H, W, 2)` where `T` is the number of frames, `H` and `W` are the height and width of the video, and the last dimension represents the x and y components of the flow vectors.\n",
    "\n",
    "First, let's create some synthetic optical flow data:"
   ]
  },
  {
   "cell_type": "markdown",
   "metadata": {},
   "source": []
  }
 ],
 "metadata": {
  "kernelspec": {
   "display_name": "monochrome",
   "language": "python",
   "name": "python3"
  },
  "language_info": {
   "codemirror_mode": {
    "name": "ipython",
    "version": 3
   },
   "file_extension": ".py",
   "mimetype": "text/x-python",
   "name": "python",
   "nbconvert_exporter": "python",
   "pygments_lexer": "ipython3",
   "version": "3.12.2"
  }
 },
 "nbformat": 4,
 "nbformat_minor": 2
}
