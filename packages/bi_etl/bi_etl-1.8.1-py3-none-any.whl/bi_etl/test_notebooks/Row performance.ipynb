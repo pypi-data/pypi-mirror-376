{
 "cells": [
  {
   "cell_type": "code",
   "execution_count": 2,
   "metadata": {
    "pycharm": {
     "name": "#%%\n"
    }
   },
   "outputs": [],
   "source": [
    "import sys\n",
    "for x in ['../../']:\n",
    "    if x in sys.path:\n",
    "        sys.path.remove(x)\n",
    "try:\n",
    "    import bi_etl\n",
    "except ImportError:\n",
    "    sys.path.append('../../')    \n",
    "    import bi_etl"
   ]
  },
  {
   "cell_type": "code",
   "execution_count": 25,
   "metadata": {
    "pycharm": {
     "name": "#%%\n"
    }
   },
   "outputs": [
    {
     "data": {
      "text/plain": [
       "'Value 19 for column_t'"
      ]
     },
     "execution_count": 25,
     "metadata": {},
     "output_type": "execute_result"
    }
   ],
   "source": [
    "from datetime import datetime\n",
    "from bi_etl.components.row.row import Row\n",
    "from bi_etl.components.row.row_iteration_header import RowIterationHeader\n",
    "\n",
    "columns = [f'column_{chr(n)}' for n in range(ord('a'), ord('z') + 1)]\n",
    "iteration_header = RowIterationHeader(logical_name='Test', columns_in_order=columns)\n",
    "data_1 = dict()\n",
    "for col_num, col in enumerate(columns):\n",
    "    if col_num % 3 == 0:\n",
    "        data_1[col] = col_num\n",
    "    elif col_num % 3 == 1:\n",
    "        data_1[col] = f'Value {col_num} for {col}'\n",
    "    elif col_num == 20:\n",
    "        pass\n",
    "    else:\n",
    "        data_1[col] = datetime.now()\n",
    "data_1_list = list(data_1.values())"
   ]
  },
  {
   "cell_type": "code",
   "execution_count": 36,
   "metadata": {
    "pycharm": {
     "name": "#%%\n"
    }
   },
   "outputs": [
    {
     "name": "stdout",
     "output_type": "stream",
     "text": [
      "45.1 µs ± 8.81 µs per loop (mean ± std. dev. of 7 runs, 10000 loops each)\n"
     ]
    }
   ],
   "source": [
    "%%timeit\n",
    "r1 = Row(iteration_header, data=data_1)\n",
    "r1"
   ]
  },
  {
   "cell_type": "code",
   "execution_count": 75,
   "metadata": {
    "pycharm": {
     "name": "#%%\n"
    }
   },
   "outputs": [
    {
     "name": "stdout",
     "output_type": "stream",
     "text": [
      "11.5 µs ± 1.59 µs per loop (mean ± std. dev. of 7 runs, 100000 loops each)\n"
     ]
    }
   ],
   "source": [
    "%%timeit\n",
    "ranges = [(0,10),(11,12),(13,19),(1,-1), (20,24)]\n",
    "new_list = list()\n",
    "for r_low, r_high in ranges:\n",
    "    if r_high == -1:\n",
    "        new_list.extend([None]*r_low)\n",
    "    else:\n",
    "        new_list.extend(data_1_list[r_low:r_high + 1])\n",
    "r2 = Row(iteration_header, data=new_list)\n",
    "r2"
   ]
  },
  {
   "cell_type": "code",
   "execution_count": 74,
   "metadata": {
    "pycharm": {
     "name": "#%%\n"
    }
   },
   "outputs": [
    {
     "name": "stdout",
     "output_type": "stream",
     "text": [
      "11 µs ± 934 ns per loop (mean ± std. dev. of 7 runs, 100000 loops each)\n"
     ]
    }
   ],
   "source": [
    "%%timeit\n",
    "new_list = [\n",
    "    data_1_list[0],\n",
    "    data_1_list[1],\n",
    "    data_1_list[2],\n",
    "    data_1_list[3],\n",
    "    data_1_list[4],\n",
    "    data_1_list[5],\n",
    "    data_1_list[6],\n",
    "    data_1_list[7],\n",
    "    data_1_list[8],\n",
    "    data_1_list[9],\n",
    "    data_1_list[10],\n",
    "    data_1_list[11],\n",
    "    data_1_list[12],\n",
    "    data_1_list[13],\n",
    "    data_1_list[14],\n",
    "    data_1_list[15],\n",
    "    data_1_list[16],\n",
    "    data_1_list[17],\n",
    "    data_1_list[18],\n",
    "    data_1_list[19],\n",
    "    None,\n",
    "    data_1_list[20],\n",
    "    data_1_list[21],\n",
    "    data_1_list[22],\n",
    "    data_1_list[23],    \n",
    "    data_1_list[24],    \n",
    "]\n",
    "\n",
    "r2 = Row(iteration_header, data=new_list)\n",
    "r2"
   ]
  },
  {
   "cell_type": "code",
   "execution_count": 85,
   "metadata": {
    "pycharm": {
     "name": "#%%\n"
    }
   },
   "outputs": [
    {
     "name": "stdout",
     "output_type": "stream",
     "text": [
      "The slowest run took 4.14 times longer than the fastest. This could mean that an intermediate result is being cached.\n",
      "11.6 µs ± 7.74 µs per loop (mean ± std. dev. of 7 runs, 100000 loops each)\n"
     ]
    }
   ],
   "source": [
    "%%timeit\n",
    "new_list = [\n",
    "    data_1_list[0],\n",
    "    data_1_list[1],\n",
    "    data_1_list[2],\n",
    "    data_1_list[3],\n",
    "    data_1_list[4],\n",
    "    data_1_list[5],\n",
    "    data_1_list[6],\n",
    "    data_1_list[7],\n",
    "    data_1_list[8],\n",
    "    data_1_list[9],\n",
    "    data_1_list[10],\n",
    "    data_1_list[11],\n",
    "    data_1_list[12],\n",
    "    data_1_list[13],\n",
    "    data_1_list[14],\n",
    "    data_1_list[15],\n",
    "    data_1_list[16],\n",
    "    data_1_list[17],\n",
    "    data_1_list[18],\n",
    "    data_1_list[19],\n",
    "    None,\n",
    "    data_1_list[20],\n",
    "    data_1_list[21],\n",
    "    data_1_list[22],\n",
    "    data_1_list[23],    \n",
    "    data_1_list[24],   \n",
    "]\n",
    "\n",
    "r3 = Row(iteration_header)\n",
    "r3.update_from_values(new_list)\n",
    "r3"
   ]
  },
  {
   "cell_type": "code",
   "execution_count": 78,
   "metadata": {
    "pycharm": {
     "name": "#%%\n"
    }
   },
   "outputs": [],
   "source": [
    "from copy import copy"
   ]
  },
  {
   "cell_type": "code",
   "execution_count": 1,
   "metadata": {
    "pycharm": {
     "name": "#%%\n"
    }
   },
   "outputs": [],
   "source": [
    "l = ['implementation_year', 'record_type_code', 'mechanism_id', 'planning_cycle', 'appropriation_year', 'initiative', 'budget_id_type', 'budget_amount', 'budget_id']"
   ]
  },
  {
   "cell_type": "code",
   "execution_count": 3,
   "metadata": {
    "pycharm": {
     "name": "#%%\n"
    }
   },
   "outputs": [
    {
     "name": "stdout",
     "output_type": "stream",
     "text": [
      "131 ns ± 5.72 ns per loop (mean ± std. dev. of 7 runs, 10000000 loops each)\n"
     ]
    }
   ],
   "source": [
    "%%timeit\n",
    "l.copy()"
   ]
  },
  {
   "cell_type": "code",
   "execution_count": 4,
   "metadata": {
    "pycharm": {
     "name": "#%%\n"
    }
   },
   "outputs": [
    {
     "name": "stdout",
     "output_type": "stream",
     "text": [
      "188 ns ± 5.71 ns per loop (mean ± std. dev. of 7 runs, 10000000 loops each)\n"
     ]
    }
   ],
   "source": [
    "%%timeit\n",
    "list(l)"
   ]
  },
  {
   "cell_type": "code",
   "execution_count": null,
   "metadata": {
    "pycharm": {
     "name": "#%%\n"
    }
   },
   "outputs": [],
   "source": []
  },
  {
   "cell_type": "code",
   "execution_count": 87,
   "metadata": {
    "pycharm": {
     "name": "#%%\n"
    }
   },
   "outputs": [
    {
     "name": "stdout",
     "output_type": "stream",
     "text": [
      "6.32 µs ± 313 ns per loop (mean ± std. dev. of 7 runs, 100000 loops each)\n"
     ]
    }
   ],
   "source": [
    "%%timeit\n",
    "r3 = Row(iteration_header)\n",
    "r3.update_from_values(data_1_list)\n",
    "r3"
   ]
  },
  {
   "cell_type": "code",
   "execution_count": 175,
   "metadata": {
    "pycharm": {
     "name": "#%%\n"
    }
   },
   "outputs": [
    {
     "data": {
      "text/plain": [
       "(-1540561680135634271, 0)"
      ]
     },
     "execution_count": 175,
     "metadata": {},
     "output_type": "execute_result"
    }
   ],
   "source": [
    "s = {'implementation_year', 'record_type_code', 'mechanism_id', 'planning_cycle', 'appropriation_year', 'initiative', 'budget_id_type', 'budget_amount', 'budget_id'}\n",
    "l = ['implementation_year', 'record_type_code', 'mechanism_id', 'planning_cycle', 'appropriation_year', 'initiative', 'budget_id_type', 'budget_amount', 'budget_id']\n",
    "t = tuple(l)\n",
    "ss = frozenset(s)\n",
    "n = None\n",
    "\n",
    "def hash_them_1(exclude, keep_only, rename_map = None):\n",
    "    if not isinstance(exclude, frozenset):\n",
    "        exclude = frozenset(exclude or [])\n",
    "    if not isinstance(keep_only, frozenset):\n",
    "        keep_only = frozenset(keep_only or [])\n",
    "   \n",
    "    action_4 = None\n",
    "    if rename_map is not None:\n",
    "        if isinstance(rename_map, typing.Mapping):\n",
    "            action_4 = tuple(rename_map.items())\n",
    "        else:\n",
    "            action_4 = tuple(rename_map)\n",
    "\n",
    "    action = ('s', exclude, keep_only, action_4)\n",
    "    \n",
    "    cnt = 0\n",
    "    if exclude is not None and keep_only is not None:\n",
    "        for s in exclude:\n",
    "            if s in keep_only:\n",
    "                cnt += 1     \n",
    "    return hash(action), cnt\n",
    "\n",
    "def hash_them_2(exclude, keep_only, rename_map = None):\n",
    "    if not isinstance(exclude, frozenset):\n",
    "        exclude = frozenset(exclude or [])\n",
    "    if not isinstance(keep_only, frozenset):\n",
    "        keep_only = frozenset(keep_only or [])\n",
    "        \n",
    "    action_4 = id(rename_map)\n",
    "    \n",
    "    action = ('s', exclude, keep_only, action_4)\n",
    "    \n",
    "    cnt = 0\n",
    "    if exclude is not None and keep_only is not None:\n",
    "        for s in exclude:\n",
    "            if s in keep_only:\n",
    "                cnt += 1     \n",
    "    return hash(action), cnt\n",
    "\n",
    "hash_them_1(l, l)\n",
    "hash_them_1(l, l, rename_map)\n",
    "hash_them_1(s, s)\n",
    "hash_them_1(s, s, rename_map)\n",
    "hash_them_1(ss, ss)\n",
    "hash_them_1(ss, ss, rename_map)\n",
    "hash_them_1(ss, n)\n",
    "hash_them_1(ss, n, rename_map)\n",
    "hash_them_1(s, n)\n",
    "hash_them_1(s, n, rename_map)\n",
    "hash_them_1(l, n)\n",
    "hash_them_1(l, n, rename_map)"
   ]
  },
  {
   "cell_type": "code",
   "execution_count": 176,
   "metadata": {
    "pycharm": {
     "name": "#%%\n"
    }
   },
   "outputs": [
    {
     "name": "stdout",
     "output_type": "stream",
     "text": [
      "6.81 µs ± 531 ns per loop (mean ± std. dev. of 7 runs, 100000 loops each)\n"
     ]
    }
   ],
   "source": [
    "%%timeit\n",
    "hash_them_1(ss, ss, rename_map)"
   ]
  },
  {
   "cell_type": "code",
   "execution_count": 177,
   "metadata": {
    "pycharm": {
     "name": "#%%\n"
    }
   },
   "outputs": [
    {
     "name": "stdout",
     "output_type": "stream",
     "text": [
      "1.99 µs ± 232 ns per loop (mean ± std. dev. of 7 runs, 100000 loops each)\n"
     ]
    }
   ],
   "source": [
    "%%timeit\n",
    "hash_them_2(ss, ss, rename_map)"
   ]
  },
  {
   "cell_type": "code",
   "execution_count": null,
   "metadata": {
    "pycharm": {
     "name": "#%%\n"
    }
   },
   "outputs": [],
   "source": []
  },
  {
   "cell_type": "code",
   "execution_count": 178,
   "metadata": {
    "pycharm": {
     "name": "#%%\n"
    }
   },
   "outputs": [
    {
     "name": "stdout",
     "output_type": "stream",
     "text": [
      "8.73 µs ± 840 ns per loop (mean ± std. dev. of 7 runs, 100000 loops each)\n"
     ]
    }
   ],
   "source": [
    "%%timeit\n",
    "hash_them_1(l, l, rename_map)"
   ]
  },
  {
   "cell_type": "code",
   "execution_count": 179,
   "metadata": {
    "pycharm": {
     "name": "#%%\n"
    }
   },
   "outputs": [
    {
     "name": "stdout",
     "output_type": "stream",
     "text": [
      "3.39 µs ± 567 ns per loop (mean ± std. dev. of 7 runs, 100000 loops each)\n"
     ]
    }
   ],
   "source": [
    "%%timeit\n",
    "hash_them_2(l, l, rename_map)"
   ]
  },
  {
   "cell_type": "code",
   "execution_count": null,
   "metadata": {
    "pycharm": {
     "name": "#%%\n"
    }
   },
   "outputs": [],
   "source": []
  },
  {
   "cell_type": "code",
   "execution_count": 180,
   "metadata": {
    "pycharm": {
     "name": "#%%\n"
    }
   },
   "outputs": [
    {
     "name": "stdout",
     "output_type": "stream",
     "text": [
      "10.9 µs ± 6 µs per loop (mean ± std. dev. of 7 runs, 100000 loops each)\n"
     ]
    }
   ],
   "source": [
    "%%timeit\n",
    "hash_them_1(s, s, rename_map)"
   ]
  },
  {
   "cell_type": "code",
   "execution_count": 181,
   "metadata": {
    "pycharm": {
     "name": "#%%\n"
    }
   },
   "outputs": [
    {
     "name": "stdout",
     "output_type": "stream",
     "text": [
      "3.26 µs ± 290 ns per loop (mean ± std. dev. of 7 runs, 100000 loops each)\n"
     ]
    }
   ],
   "source": [
    "%%timeit\n",
    "hash_them_2(s, s, rename_map)"
   ]
  },
  {
   "cell_type": "code",
   "execution_count": 208,
   "metadata": {
    "pycharm": {
     "name": "#%%\n"
    }
   },
   "outputs": [
    {
     "data": {
      "text/plain": [
       "[('initiative', 'initiative'),\n",
       " ('budget_id_type', 'budget_id_type'),\n",
       " ('budget_amount', 'budget_amount'),\n",
       " ('budget_id', 'budget_id'),\n",
       " ('budget_id_type', 'budget_id_type'),\n",
       " ('budget_amount', 'budget_amount'),\n",
       " ('budget_id', 'budget_id')]"
      ]
     },
     "execution_count": 208,
     "metadata": {},
     "output_type": "execute_result"
    }
   ],
   "source": [
    "l2 = l[5:]\n",
    "l2.extend([\n",
    "    l[6],\n",
    "    l[7],\n",
    "    l[8],\n",
    "])\n",
    "l2\n",
    "\n",
    "l3 = [\n",
    "    *l[5:],\n",
    "    l[6],\n",
    "    l[7],\n",
    "    l[8],\n",
    "]\n",
    "list(zip(l2, l3))"
   ]
  },
  {
   "cell_type": "code",
   "execution_count": 203,
   "metadata": {
    "pycharm": {
     "name": "#%%\n"
    }
   },
   "outputs": [
    {
     "name": "stdout",
     "output_type": "stream",
     "text": [
      "480 ns ± 9.54 ns per loop (mean ± std. dev. of 7 runs, 1000000 loops each)\n"
     ]
    }
   ],
   "source": [
    "%%timeit\n",
    "l2 = [\n",
    "    *l[5:],\n",
    "    l[6],\n",
    "    l[7],\n",
    "    l[8],\n",
    "]\n",
    "l2"
   ]
  },
  {
   "cell_type": "code",
   "execution_count": 202,
   "metadata": {
    "pycharm": {
     "name": "#%%\n"
    }
   },
   "outputs": [
    {
     "name": "stdout",
     "output_type": "stream",
     "text": [
      "500 ns ± 28.9 ns per loop (mean ± std. dev. of 7 runs, 1000000 loops each)\n"
     ]
    }
   ],
   "source": [
    "%%timeit\n",
    "l2 = l[5:]\n",
    "l2.extend([\n",
    "    l[6],\n",
    "    l[7],\n",
    "    l[8],\n",
    "])\n",
    "l2"
   ]
  },
  {
   "cell_type": "code",
   "execution_count": 109,
   "metadata": {
    "pycharm": {
     "name": "#%%\n"
    }
   },
   "outputs": [],
   "source": [
    "s1 = frozenset({'task_id', 'dt_created'})\n",
    "s2 = frozenset(['task_id', 'dt_created'])"
   ]
  },
  {
   "cell_type": "code",
   "execution_count": 110,
   "metadata": {
    "pycharm": {
     "name": "#%%\n"
    }
   },
   "outputs": [
    {
     "name": "stdout",
     "output_type": "stream",
     "text": [
      "288 ns ± 13.3 ns per loop (mean ± std. dev. of 7 runs, 1000000 loops each)\n"
     ]
    }
   ],
   "source": [
    "%%timeit\n",
    "hash(s1) == hash(s2)"
   ]
  },
  {
   "cell_type": "code",
   "execution_count": 113,
   "metadata": {
    "pycharm": {
     "name": "#%%\n"
    }
   },
   "outputs": [
    {
     "name": "stdout",
     "output_type": "stream",
     "text": [
      "401 ns ± 19.1 ns per loop (mean ± std. dev. of 7 runs, 1000000 loops each)\n"
     ]
    }
   ],
   "source": [
    "%%timeit\n",
    "frozenset(['task_id', 'dt_created'])"
   ]
  },
  {
   "cell_type": "code",
   "execution_count": 115,
   "metadata": {
    "pycharm": {
     "name": "#%%\n"
    }
   },
   "outputs": [
    {
     "name": "stdout",
     "output_type": "stream",
     "text": [
      "404 ns ± 17.5 ns per loop (mean ± std. dev. of 7 runs, 1000000 loops each)\n"
     ]
    }
   ],
   "source": [
    "%%timeit\n",
    "s1 = frozenset({'task_id', 'dt_created'})"
   ]
  }
 ],
 "metadata": {
  "kernelspec": {
   "display_name": "Python 3",
   "language": "python",
   "name": "python3"
  },
  "language_info": {
   "codemirror_mode": {
    "name": "ipython",
    "version": 3
   },
   "file_extension": ".py",
   "mimetype": "text/x-python",
   "name": "python",
   "nbconvert_exporter": "python",
   "pygments_lexer": "ipython3",
   "version": "3.8.3"
  }
 },
 "nbformat": 4,
 "nbformat_minor": 4
}