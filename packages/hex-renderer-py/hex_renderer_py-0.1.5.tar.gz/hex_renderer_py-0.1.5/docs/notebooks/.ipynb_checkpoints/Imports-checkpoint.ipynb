{
 "cells": [
  {
   "cell_type": "markdown",
   "id": "6a6d11a3-e6c6-4bde-a076-5780f3456ec2",
   "metadata": {},
   "source": [
    "# Imports\n",
    "This section is just to be used to import the parts needed for all the other examples."
   ]
  },
  {
   "cell_type": "markdown",
   "id": "5440ad32-03ce-4d8a-83fa-b18d549561cd",
   "metadata": {},
   "source": [
    "Below you have all the imports from hex_renderer_py that are used everywhere else"
   ]
  },
  {
   "cell_type": "code",
   "execution_count": 4,
   "id": "3b7469d8-5edf-4826-9792-9d6b949ed1b9",
   "metadata": {},
   "outputs": [],
   "source": [
    "from hex_renderer_py import GridOptions, GridPatternOptions, Point, Color, Lines, Intersections, Marker, AngleSig, PatternVariant, HexGrid, SquareGrid, Triangle, CollisionOption, EndPoint"
   ]
  },
  {
   "cell_type": "markdown",
   "id": "65fc254a-28e5-490b-8189-7d8a87f09c73",
   "metadata": {},
   "source": [
    "Here is just a couple of imports to render the images once they've been generated"
   ]
  },
  {
   "cell_type": "code",
   "execution_count": 2,
   "id": "4f3ed94f-4d04-4fcd-a4c1-a0544ac52e48",
   "metadata": {},
   "outputs": [],
   "source": [
    "from IPython.display import display, Image"
   ]
  },
  {
   "cell_type": "code",
   "execution_count": null,
   "id": "5b12f98d-2a52-43c9-9ced-fa7387bc45da",
   "metadata": {},
   "outputs": [],
   "source": []
  }
 ],
 "metadata": {
  "kernelspec": {
   "display_name": "Python 3 (ipykernel)",
   "language": "python",
   "name": "python3"
  },
  "language_info": {
   "codemirror_mode": {
    "name": "ipython",
    "version": 3
   },
   "file_extension": ".py",
   "mimetype": "text/x-python",
   "name": "python",
   "nbconvert_exporter": "python",
   "pygments_lexer": "ipython3",
   "version": "3.11.8"
  }
 },
 "nbformat": 4,
 "nbformat_minor": 5
}
