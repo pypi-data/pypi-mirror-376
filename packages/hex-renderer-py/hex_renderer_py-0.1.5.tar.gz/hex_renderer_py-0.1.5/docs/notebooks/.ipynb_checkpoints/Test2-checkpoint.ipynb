{
 "cells": [
  {
   "cell_type": "markdown",
   "id": "ec086bea-7190-4159-af0e-56db2d2ce26c",
   "metadata": {},
   "source": [
    "# Test2"
   ]
  },
  {
   "cell_type": "code",
   "execution_count": 6,
   "id": "989bed88-b500-4c14-ab06-f86c01bb0dec",
   "metadata": {},
   "outputs": [
    {
     "name": "stdout",
     "output_type": "stream",
     "text": [
      "hi there\n"
     ]
    },
    {
     "ename": "ModuleNotFoundError",
     "evalue": "No module named 'asdfjlkajsdfklj'",
     "output_type": "error",
     "traceback": [
      "\u001b[0;31m---------------------------------------------------------------------------\u001b[0m",
      "\u001b[0;31mModuleNotFoundError\u001b[0m                       Traceback (most recent call last)",
      "Cell \u001b[0;32mIn[6], line 73\u001b[0m\n\u001b[1;32m     45\u001b[0m patterns \u001b[38;5;241m=\u001b[39m [\n\u001b[1;32m     46\u001b[0m     PatternVariant(\u001b[38;5;124m\"\u001b[39m\u001b[38;5;124mWEST\u001b[39m\u001b[38;5;124m\"\u001b[39m, \u001b[38;5;124m\"\u001b[39m\u001b[38;5;124mqqq\u001b[39m\u001b[38;5;124m\"\u001b[39m),\n\u001b[1;32m     47\u001b[0m \n\u001b[0;32m   (...)\u001b[0m\n\u001b[1;32m     68\u001b[0m     PatternVariant(\u001b[38;5;124m\"\u001b[39m\u001b[38;5;124mNORTH_WEST\u001b[39m\u001b[38;5;124m\"\u001b[39m, \u001b[38;5;124m\"\u001b[39m\u001b[38;5;124mwawqwawwwewwwewwwawqwawwwewwwewdeaweewaqaweewaawwww\u001b[39m\u001b[38;5;124m\"\u001b[39m)\n\u001b[1;32m     69\u001b[0m ]\n\u001b[1;32m     71\u001b[0m \u001b[38;5;28mprint\u001b[39m(\u001b[38;5;124m\"\u001b[39m\u001b[38;5;124mhi there\u001b[39m\u001b[38;5;124m\"\u001b[39m)\n\u001b[0;32m---> 73\u001b[0m \u001b[38;5;28;01mimport\u001b[39;00m \u001b[38;5;21;01masdfjlkajsdfklj\u001b[39;00m\n",
      "\u001b[0;31mModuleNotFoundError\u001b[0m: No module named 'asdfjlkajsdfklj'"
     ]
    }
   ],
   "source": [
    "from hex_renderer_py import GridOptions, GridPatternOptions, Point, Color, Lines, Intersections, Marker, AngleSig, PatternVariant, HexGrid, SquareGrid, EndPoint\n",
    "from IPython.display import display, Image\n",
    "\n",
    "palettes = {\n",
    "  \"default\": [\n",
    "      Color(255, 107, 255, 255),\n",
    "      Color(168, 30, 227, 255),\n",
    "      Color(100, 144, 237, 255),\n",
    "      Color(177, 137, 199, 255),\n",
    "  ],\n",
    "  \"turbo\": [\n",
    "    Color(63, 61, 156, 255),\n",
    "    Color(64, 150, 254, 255),\n",
    "    Color(25, 227, 184, 255),\n",
    "    Color(132, 254, 80, 255),\n",
    "    Color(223, 222, 54, 255),\n",
    "    Color(253, 140, 39, 255),\n",
    "    Color(214, 52, 5, 255),\n",
    "    Color(122, 4, 2, 255),\n",
    "  ],\n",
    "  \"dark2\": [\n",
    "    Color(27, 158, 119, 255),\n",
    "    Color(217, 95, 2, 255),\n",
    "    Color(117, 112, 179, 255),\n",
    "    Color(231, 41, 138, 255),\n",
    "    Color(102, 166, 30, 255),\n",
    "    Color(230, 171, 2, 255),\n",
    "    Color(166, 118, 29, 255),\n",
    "    Color(102, 102, 102, 255),\n",
    "  ],\n",
    "  \"tab10\": [\n",
    "    Color(31, 119, 180, 255),\n",
    "    Color(255, 127, 14, 255),\n",
    "    Color(44, 160, 44, 255),\n",
    "    Color(214, 39, 40, 255),\n",
    "    Color(148, 103, 189, 255),\n",
    "    Color(140, 86, 75, 255),\n",
    "    Color(227, 119, 194, 255),\n",
    "    Color(127, 127, 127, 255),\n",
    "    Color(188, 189, 34, 255),\n",
    "    Color(23, 190, 207, 255),\n",
    "  ]\n",
    "}\n",
    "\n",
    "patterns = [\n",
    "    PatternVariant(\"WEST\", \"qqq\"),\n",
    "\n",
    "    PatternVariant(\"WEST\", \"qqq\"),\n",
    "\n",
    "    PatternVariant(\"NORTH_EAST\", \"qaq\"),\n",
    "    PatternVariant(\"EAST\", \"aa\"),\n",
    "    PatternVariant(\"NORTH_EAST\", \"qaq\"),\n",
    "    PatternVariant(\"EAST\", \"wa\"),\n",
    "    PatternVariant(\"EAST\", \"wqaawdd\"),\n",
    "    PatternVariant(\"NORTH_EAST\", \"qaq\"),\n",
    "    PatternVariant(\"EAST\", \"aa\"),\n",
    "    PatternVariant(\"NORTH_EAST\", \"qaq\"),\n",
    "    PatternVariant(\"EAST\", \"wa\"),\n",
    "    PatternVariant(\"EAST\", \"weddwaa\"),\n",
    "    PatternVariant(\"NORTH_EAST\", \"waaw\"),\n",
    "\n",
    "    PatternVariant(\"EAST\", \"eee\"),\n",
    "    PatternVariant(\"SOUTH_EAST\", \"deaqq\"),\n",
    "\n",
    "    PatternVariant(\"NORTH_EAST\", \"qqd\"),\n",
    "    PatternVariant(\"EAST\", \"eee\"),\n",
    "\n",
    "    PatternVariant(\"NORTH_WEST\", \"wawqwawwwewwwewwwawqwawwwewwwewdeaweewaqaweewaawwww\")\n",
    "]\n",
    "\n",
    "print(\"hi there\")\n",
    "\n",
    "import asdfjlkajsdfklj\n"
   ]
  },
  {
   "cell_type": "code",
   "execution_count": null,
   "id": "dbd62f83-cac8-483d-a937-7b8dfea15cf6",
   "metadata": {},
   "outputs": [],
   "source": []
  }
 ],
 "metadata": {
  "kernelspec": {
   "display_name": "Python 3 (ipykernel)",
   "language": "python",
   "name": "python3"
  },
  "language_info": {
   "codemirror_mode": {
    "name": "ipython",
    "version": 3
   },
   "file_extension": ".py",
   "mimetype": "text/x-python",
   "name": "python",
   "nbconvert_exporter": "python",
   "pygments_lexer": "ipython3",
   "version": "3.11.8"
  }
 },
 "nbformat": 4,
 "nbformat_minor": 5
}
