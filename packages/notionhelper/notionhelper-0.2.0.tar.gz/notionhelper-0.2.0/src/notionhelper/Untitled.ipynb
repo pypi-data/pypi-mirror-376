{
 "cells": [
  {
   "cell_type": "code",
   "execution_count": 17,
   "id": "fc150001-4ea2-4574-8155-fe3d7bf7656c",
   "metadata": {
    "execution": {
     "iopub.execute_input": "2025-09-14T00:19:31.013488Z",
     "iopub.status.busy": "2025-09-14T00:19:31.013206Z",
     "iopub.status.idle": "2025-09-14T00:19:31.016272Z",
     "shell.execute_reply": "2025-09-14T00:19:31.015677Z",
     "shell.execute_reply.started": "2025-09-14T00:19:31.013467Z"
    }
   },
   "outputs": [],
   "source": [
    "from helper import NotionHelper"
   ]
  },
  {
   "cell_type": "code",
   "execution_count": 18,
   "id": "59333644-01e7-4232-ad7c-1fbb5ff411e5",
   "metadata": {
    "execution": {
     "iopub.execute_input": "2025-09-14T00:19:31.649320Z",
     "iopub.status.busy": "2025-09-14T00:19:31.649043Z",
     "iopub.status.idle": "2025-09-14T00:19:31.652566Z",
     "shell.execute_reply": "2025-09-14T00:19:31.651901Z",
     "shell.execute_reply.started": "2025-09-14T00:19:31.649298Z"
    }
   },
   "outputs": [],
   "source": [
    "nh = NotionHelper('secret_AUqFdk1kzS6qe7iw0LVlPDQXJ1TrDxnM7n9ZIB5fOlB')"
   ]
  },
  {
   "cell_type": "code",
   "execution_count": 19,
   "id": "0427ce95-a70e-43fc-9e72-3f0fa4ebc675",
   "metadata": {
    "execution": {
     "iopub.execute_input": "2025-09-14T00:19:32.347264Z",
     "iopub.status.busy": "2025-09-14T00:19:32.347028Z",
     "iopub.status.idle": "2025-09-14T00:19:32.349845Z",
     "shell.execute_reply": "2025-09-14T00:19:32.348985Z",
     "shell.execute_reply.started": "2025-09-14T00:19:32.347249Z"
    }
   },
   "outputs": [],
   "source": [
    "PARENT_PAGE_ID = 'c18faada67074eb2b39f4cb41390b521'"
   ]
  },
  {
   "cell_type": "code",
   "execution_count": 26,
   "id": "26332caa-8611-475b-b444-53875d34f7b1",
   "metadata": {
    "execution": {
     "iopub.execute_input": "2025-09-14T00:32:46.993481Z",
     "iopub.status.busy": "2025-09-14T00:32:46.993246Z",
     "iopub.status.idle": "2025-09-14T00:32:46.996469Z",
     "shell.execute_reply": "2025-09-14T00:32:46.995895Z",
     "shell.execute_reply.started": "2025-09-14T00:32:46.993466Z"
    }
   },
   "outputs": [],
   "source": [
    "properties = {\n",
    "    \"Mandatory Title\": {\"title\": {}},\n",
    "    \"Description\": {\"rich_text\": {}}\n",
    "}"
   ]
  },
  {
   "cell_type": "code",
   "execution_count": null,
   "id": "fc8530bd-6e03-40c4-a8e8-e685406a4a9a",
   "metadata": {},
   "outputs": [],
   "source": []
  },
  {
   "cell_type": "code",
   "execution_count": 27,
   "id": "433dc4e8-8ab4-44b8-9f81-e1d9a90848fb",
   "metadata": {
    "execution": {
     "iopub.execute_input": "2025-09-14T00:32:47.972994Z",
     "iopub.status.busy": "2025-09-14T00:32:47.972688Z",
     "iopub.status.idle": "2025-09-14T00:32:49.097258Z",
     "shell.execute_reply": "2025-09-14T00:32:49.096464Z",
     "shell.execute_reply.started": "2025-09-14T00:32:47.972974Z"
    }
   },
   "outputs": [
    {
     "data": {
      "text/plain": [
       "{'object': 'database',\n",
       " 'id': '56fec40c-caaf-4d64-82c5-b25e1e6b5f2c',\n",
       " 'title': [{'type': 'text',\n",
       "   'text': {'content': 'My Database', 'link': None},\n",
       "   'annotations': {'bold': False,\n",
       "    'italic': False,\n",
       "    'strikethrough': False,\n",
       "    'underline': False,\n",
       "    'code': False,\n",
       "    'color': 'default'},\n",
       "   'plain_text': 'My Database',\n",
       "   'href': None}],\n",
       " 'description': [],\n",
       " 'parent': {'type': 'page_id',\n",
       "  'page_id': 'c18faada-6707-4eb2-b39f-4cb41390b521'},\n",
       " 'is_inline': False,\n",
       " 'in_trash': False,\n",
       " 'is_locked': False,\n",
       " 'created_time': '2025-09-14T00:32:48.340+00:00',\n",
       " 'last_edited_time': '2025-09-14T00:32:48.340+00:00',\n",
       " 'data_sources': [{'id': '259a7ab0-2c30-4828-9039-2403c6ece693',\n",
       "   'name': 'My Database'}],\n",
       " 'icon': None,\n",
       " 'cover': None,\n",
       " 'url': 'https://www.notion.so/56fec40ccaaf4d6482c5b25e1e6b5f2c',\n",
       " 'public_url': None,\n",
       " 'request_id': '012f313d-64c1-45de-b4b8-7e955126ba79'}"
      ]
     },
     "execution_count": 27,
     "metadata": {},
     "output_type": "execute_result"
    }
   ],
   "source": [
    "nh.create_database(PARENT_PAGE_ID, \"My Database\", initial_data_source_properties=properties, initial_data_source_title=\"Data Source Title\")"
   ]
  },
  {
   "cell_type": "code",
   "execution_count": 7,
   "id": "5581d4d1-25ac-42be-be1c-9c2caf823f99",
   "metadata": {
    "execution": {
     "iopub.execute_input": "2025-09-13T23:53:30.823479Z",
     "iopub.status.busy": "2025-09-13T23:53:30.823239Z",
     "iopub.status.idle": "2025-09-13T23:53:31.815138Z",
     "shell.execute_reply": "2025-09-13T23:53:31.814395Z",
     "shell.execute_reply.started": "2025-09-13T23:53:30.823462Z"
    }
   },
   "outputs": [
    {
     "data": {
      "text/html": [
       "<div>\n",
       "<style scoped>\n",
       "    .dataframe tbody tr th:only-of-type {\n",
       "        vertical-align: middle;\n",
       "    }\n",
       "\n",
       "    .dataframe tbody tr th {\n",
       "        vertical-align: top;\n",
       "    }\n",
       "\n",
       "    .dataframe thead th {\n",
       "        text-align: right;\n",
       "    }\n",
       "</style>\n",
       "<table border=\"1\" class=\"dataframe\">\n",
       "  <thead>\n",
       "    <tr style=\"text-align: right;\">\n",
       "      <th></th>\n",
       "      <th>Number</th>\n",
       "      <th>Name</th>\n",
       "      <th>notion_page_id</th>\n",
       "    </tr>\n",
       "  </thead>\n",
       "  <tbody>\n",
       "    <tr>\n",
       "      <th>0</th>\n",
       "      <td>15.000</td>\n",
       "      <td>Cherries</td>\n",
       "      <td>26dfdfd6-8a97-81e1-a56d-e59a693cd075</td>\n",
       "    </tr>\n",
       "    <tr>\n",
       "      <th>1</th>\n",
       "      <td>15.000</td>\n",
       "      <td>Cherries</td>\n",
       "      <td>26dfdfd6-8a97-810c-b21f-ecde000efc57</td>\n",
       "    </tr>\n",
       "    <tr>\n",
       "      <th>2</th>\n",
       "      <td>20.000</td>\n",
       "      <td>Apples</td>\n",
       "      <td>26dfdfd6-8a97-81d1-9770-c73a00156358</td>\n",
       "    </tr>\n",
       "    <tr>\n",
       "      <th>3</th>\n",
       "      <td>1.000</td>\n",
       "      <td>Pears</td>\n",
       "      <td>26dfdfd6-8a97-81ab-b131-e6155a30f2dc</td>\n",
       "    </tr>\n",
       "  </tbody>\n",
       "</table>\n",
       "</div>"
      ],
      "text/plain": [
       "   Number      Name                        notion_page_id\n",
       "0  15.000  Cherries  26dfdfd6-8a97-81e1-a56d-e59a693cd075\n",
       "1  15.000  Cherries  26dfdfd6-8a97-810c-b21f-ecde000efc57\n",
       "2  20.000    Apples  26dfdfd6-8a97-81d1-9770-c73a00156358\n",
       "3   1.000     Pears  26dfdfd6-8a97-81ab-b131-e6155a30f2dc"
      ]
     },
     "execution_count": 7,
     "metadata": {},
     "output_type": "execute_result"
    }
   ],
   "source": [
    "nh.get_data_source_pages_as_dataframe('26dfdfd6-8a97-8020-9e32-000bce9df6f0')"
   ]
  },
  {
   "cell_type": "code",
   "execution_count": 8,
   "id": "2cb7a0c3-e38b-4e57-b530-78b721253209",
   "metadata": {
    "execution": {
     "iopub.execute_input": "2025-09-13T23:58:45.985540Z",
     "iopub.status.busy": "2025-09-13T23:58:45.985299Z",
     "iopub.status.idle": "2025-09-13T23:58:46.238348Z",
     "shell.execute_reply": "2025-09-13T23:58:46.237729Z",
     "shell.execute_reply.started": "2025-09-13T23:58:45.985524Z"
    }
   },
   "outputs": [
    {
     "name": "stdout",
     "output_type": "stream",
     "text": [
      "{\"object\":\"error\",\"status\":401,\"code\":\"unauthorized\",\"message\":\"API token is invalid.\",\"request_id\":\"faa94693-4a7a-4a64-bee0-b20dcf58d19b\"}\n"
     ]
    }
   ],
   "source": [
    "data_source_id = 'ec672db3-ec5f-4443-9428-de0713cc0956'"
   ]
  },
  {
   "cell_type": "code",
   "execution_count": null,
   "id": "50294d3f-1b8c-403b-acf8-61c59f075f70",
   "metadata": {},
   "outputs": [],
   "source": []
  },
  {
   "cell_type": "code",
   "execution_count": null,
   "id": "b370b4a7-7d33-4f94-b95a-dd89fea75ab6",
   "metadata": {},
   "outputs": [],
   "source": []
  },
  {
   "cell_type": "code",
   "execution_count": null,
   "id": "1768445e-b83c-4052-ab14-4cf0399caf9b",
   "metadata": {},
   "outputs": [],
   "source": []
  }
 ],
 "metadata": {
  "kernelspec": {
   "display_name": "Python 3 (ipykernel)",
   "language": "python",
   "name": "python3"
  },
  "language_info": {
   "codemirror_mode": {
    "name": "ipython",
    "version": 3
   },
   "file_extension": ".py",
   "mimetype": "text/x-python",
   "name": "python",
   "nbconvert_exporter": "python",
   "pygments_lexer": "ipython3",
   "version": "3.12.9"
  }
 },
 "nbformat": 4,
 "nbformat_minor": 5
}
