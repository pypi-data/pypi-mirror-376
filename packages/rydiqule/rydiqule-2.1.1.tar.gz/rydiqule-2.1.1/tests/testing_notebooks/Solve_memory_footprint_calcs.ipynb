{
 "cells": [
  {
   "cell_type": "code",
   "execution_count": 1,
   "id": "45017620-6a20-464f-9de3-97269bfc6203",
   "metadata": {},
   "outputs": [],
   "source": [
    "%matplotlib inline"
   ]
  },
  {
   "cell_type": "code",
   "execution_count": 2,
   "id": "d35df86b-f317-4ed6-bdc5-a61e757fd2fd",
   "metadata": {},
   "outputs": [],
   "source": [
    "%load_ext autoreload\n",
    "%autoreload 2"
   ]
  },
  {
   "cell_type": "code",
   "execution_count": 3,
   "id": "02e3ccfe-f8bc-4529-9f38-096d881c2735",
   "metadata": {},
   "outputs": [],
   "source": [
    "%load_ext memory_profiler"
   ]
  },
  {
   "cell_type": "code",
   "execution_count": 4,
   "id": "6a0f3878-f544-4ff8-910e-15fdb9fe900d",
   "metadata": {},
   "outputs": [],
   "source": [
    "import matplotlib.pyplot as plt\n",
    "import numpy as np\n",
    "from arc import Rubidium85"
   ]
  },
  {
   "cell_type": "code",
   "execution_count": 5,
   "id": "b7a0f9f2-9c92-4038-827a-e0723f166720",
   "metadata": {},
   "outputs": [],
   "source": [
    "import rydiqule as rq"
   ]
  },
  {
   "cell_type": "markdown",
   "id": "960946dc-f899-41a9-9cf0-c9d965099f6e",
   "metadata": {},
   "source": [
    "### Run the memory line profiler to try to get accurate estimates of how much memory we actually require to solve a system."
   ]
  },
  {
   "cell_type": "code",
   "execution_count": 6,
   "id": "03372175-487d-47ca-92b2-7ab46c3d306b",
   "metadata": {},
   "outputs": [
    {
     "name": "stdout",
     "output_type": "stream",
     "text": [
      "Most probable speed 261.75 m/s\n"
     ]
    }
   ],
   "source": [
    "kb = 1.38e-23\n",
    "mass = 1.41e-25\n",
    "temp = 350\n",
    "vP = np.sqrt(2*kb*temp/mass) # most probable speed\n",
    "print(f'Most probable speed {vP:.2f} m/s')\n",
    "\n",
    "basis_size = 4\n",
    "gam = np.zeros((basis_size,basis_size),dtype=np.float64)\n",
    "gam[1,0] = 5.75\n",
    "gam[2,1] = 3.5\n",
    "gam[3,2] = 10e-3\n",
    "\n",
    "lambP = 794.979e-3\n",
    "lambD = 1323.876e-3\n",
    "lambC = 745.619e-3\n",
    "\n",
    "kp = 2*np.pi/lambP*np.array([1,0,0])\n",
    "kd = 2*np.pi/lambD*np.array([1,0,0])\n",
    "kc = 2*np.pi/lambC*np.array([-1,0,0])\n",
    "\n",
    "num_dets = 101\n",
    "det_width = 25\n",
    "\n",
    "detunings = np.linspace(-det_width,det_width,num_dets)\n",
    "\n",
    "probe = {'states':(0,1), 'kvec':vP*kp, 'detuning':2*np.pi*detunings, 'rabi_frequency':2*np.pi*10}\n",
    "dress = {'states':(1,2), 'kvec':vP*kd, 'detuning':0, 'rabi_frequency':2*np.pi*100}\n",
    "couple = {'states':(2,3), 'kvec':vP*kc, 'detuning':2*np.pi*detunings, 'rabi_frequency':2*np.pi*10}\n",
    "\n",
    "CL = rq.Sensor(basis_size)\n",
    "CL.add_couplings(probe,dress,couple)\n",
    "CL.set_gamma_matrix(2*np.pi*gam)"
   ]
  },
  {
   "cell_type": "code",
   "execution_count": 7,
   "id": "aeb8fed0-4625-4213-b8b3-822b1c761bcb",
   "metadata": {},
   "outputs": [
    {
     "name": "stdout",
     "output_type": "stream",
     "text": [
      "Total available memory: 236.33 GiB\n",
      "Min Req memory to solve: 0.60152 GiB\n",
      "Req memory per EOM: 0.59795 GiB\n",
      "Req memory for full solve: 6099.7 GiB\n",
      "\tMandatory memory use: 0.0035722 GiB\n",
      "\tMemory use for all EOMs: 6099.7 GiB\n",
      "\tFull output solution size: 0.0011401 GiB\n",
      "Available memory for sliced solves: 236.32 GiB\n",
      "Number of stack slices to be used: 26\n"
     ]
    },
    {
     "data": {
      "text/plain": [
       "(26, (101, 101, 15))"
      ]
     },
     "execution_count": 7,
     "metadata": {},
     "output_type": "execute_result"
    }
   ],
   "source": [
    "n =4\n",
    "stack = (101, 101)\n",
    "doppler_axis_shape = (561,561)\n",
    "rq.get_slice_num(n, stack, doppler_axis_shape, sum_doppler=True, weight_doppler=True, n_slices=1, debug=True)"
   ]
  },
  {
   "cell_type": "code",
   "execution_count": 8,
   "id": "13df2e7e-a831-4654-8929-61a75bd012e3",
   "metadata": {},
   "outputs": [
    {
     "name": "stdout",
     "output_type": "stream",
     "text": [
      "Total available memory: 236.33 GiB\n",
      "Min Req memory to solve: 9.4644 GiB\n",
      "Req memory per EOM: 9.4546 GiB\n",
      "Req memory for full solve: 96447 GiB\n",
      "\tMandatory memory use: 0.014517 GiB\n",
      "\tMemory use for all EOMs: 96447 GiB\n",
      "\tFull output solution size: 1507 GiB\n",
      "Available memory for sliced solves: 236.31 GiB\n"
     ]
    },
    {
     "ename": "MemoryError",
     "evalue": "Setting 'sum_doppler=False' if full equations of motion do not fit in memory is unsupported.",
     "output_type": "error",
     "traceback": [
      "\u001b[1;31m---------------------------------------------------------------------------\u001b[0m",
      "\u001b[1;31mMemoryError\u001b[0m                               Traceback (most recent call last)",
      "Input \u001b[1;32mIn [8]\u001b[0m, in \u001b[0;36m<cell line: 4>\u001b[1;34m()\u001b[0m\n\u001b[0;32m      2\u001b[0m stack \u001b[38;5;241m=\u001b[39m (\u001b[38;5;241m101\u001b[39m, \u001b[38;5;241m101\u001b[39m)\n\u001b[0;32m      3\u001b[0m doppler_axis_shape \u001b[38;5;241m=\u001b[39m (\u001b[38;5;241m561\u001b[39m,\u001b[38;5;241m561\u001b[39m)\n\u001b[1;32m----> 4\u001b[0m \u001b[43mrq\u001b[49m\u001b[38;5;241;43m.\u001b[39;49m\u001b[43mget_slice_num\u001b[49m\u001b[43m(\u001b[49m\u001b[43mn\u001b[49m\u001b[43m,\u001b[49m\u001b[43m \u001b[49m\u001b[43mstack\u001b[49m\u001b[43m,\u001b[49m\u001b[43m \u001b[49m\u001b[43mdoppler_axis_shape\u001b[49m\u001b[43m,\u001b[49m\u001b[43m \u001b[49m\u001b[43msum_doppler\u001b[49m\u001b[38;5;241;43m=\u001b[39;49m\u001b[38;5;28;43;01mFalse\u001b[39;49;00m\u001b[43m,\u001b[49m\u001b[43m \u001b[49m\u001b[43mweight_doppler\u001b[49m\u001b[38;5;241;43m=\u001b[39;49m\u001b[38;5;28;43;01mFalse\u001b[39;49;00m\u001b[43m,\u001b[49m\u001b[43m \u001b[49m\u001b[43mn_slices\u001b[49m\u001b[38;5;241;43m=\u001b[39;49m\u001b[38;5;241;43m1\u001b[39;49m\u001b[43m,\u001b[49m\u001b[43m \u001b[49m\u001b[43mdebug\u001b[49m\u001b[38;5;241;43m=\u001b[39;49m\u001b[38;5;28;43;01mTrue\u001b[39;49;00m\u001b[43m)\u001b[49m\n",
      "File \u001b[1;32m~\\src\\rydiqule\\src\\rydiqule\\sensor_utils.py:738\u001b[0m, in \u001b[0;36mget_slice_num\u001b[1;34m(n, stack_shape, doppler_shape, sum_doppler, weight_doppler, n_slices, debug)\u001b[0m\n\u001b[0;32m    735\u001b[0m     \u001b[38;5;28;01mif\u001b[39;00m \u001b[38;5;129;01mnot\u001b[39;00m sum_doppler \u001b[38;5;129;01mand\u001b[39;00m n_ham_slices \u001b[38;5;241m>\u001b[39m \u001b[38;5;241m1\u001b[39m:\n\u001b[0;32m    736\u001b[0m         msg \u001b[38;5;241m=\u001b[39m (\u001b[38;5;124m\"\u001b[39m\u001b[38;5;124mSetting \u001b[39m\u001b[38;5;124m'\u001b[39m\u001b[38;5;124msum_doppler=False\u001b[39m\u001b[38;5;124m'\u001b[39m\u001b[38;5;124m if full equations of motion\u001b[39m\u001b[38;5;124m\"\u001b[39m\n\u001b[0;32m    737\u001b[0m                \u001b[38;5;124m\"\u001b[39m\u001b[38;5;124m do not fit in memory is unsupported.\u001b[39m\u001b[38;5;124m\"\u001b[39m)\n\u001b[1;32m--> 738\u001b[0m         \u001b[38;5;28;01mraise\u001b[39;00m \u001b[38;5;167;01mMemoryError\u001b[39;00m(msg)\n\u001b[0;32m    740\u001b[0m \u001b[38;5;28;01mif\u001b[39;00m debug:\n\u001b[0;32m    741\u001b[0m     \u001b[38;5;28mprint\u001b[39m(\u001b[38;5;124mf\u001b[39m\u001b[38;5;124m'\u001b[39m\u001b[38;5;124mNumber of stack slices to be used: \u001b[39m\u001b[38;5;132;01m{\u001b[39;00mn_ham_slices\u001b[38;5;132;01m:\u001b[39;00m\u001b[38;5;124md\u001b[39m\u001b[38;5;132;01m}\u001b[39;00m\u001b[38;5;124m'\u001b[39m)\n",
      "\u001b[1;31mMemoryError\u001b[0m: Setting 'sum_doppler=False' if full equations of motion do not fit in memory is unsupported."
     ]
    }
   ],
   "source": [
    "n = 8\n",
    "stack = (101, 101)\n",
    "doppler_axis_shape = (561,561)\n",
    "rq.get_slice_num(n, stack, doppler_axis_shape, sum_doppler=False, weight_doppler=False, n_slices=1, debug=True)"
   ]
  },
  {
   "cell_type": "code",
   "execution_count": 9,
   "id": "9cc91479-06a9-46a7-9ba9-7e50032da17f",
   "metadata": {},
   "outputs": [
    {
     "name": "stdout",
     "output_type": "stream",
     "text": [
      "Total available memory: 236.31 GiB\n",
      "Min Req memory to solve: 335.45 GiB\n",
      "Req memory per EOM: 335.44 GiB\n",
      "Req memory for full solve: 3.4219e+06 GiB\n",
      "\tMandatory memory use: 0.0035722 GiB\n",
      "\tMemory use for all EOMs: 3.4219e+06 GiB\n",
      "\tFull output solution size: 0.0011401 GiB\n",
      "Available memory for sliced solves: 236.3 GiB\n"
     ]
    },
    {
     "ename": "MemoryError",
     "evalue": "System is too large to solve. Need at least 335.4466984719038 GiB",
     "output_type": "error",
     "traceback": [
      "\u001b[1;31m---------------------------------------------------------------------------\u001b[0m",
      "\u001b[1;31mMemoryError\u001b[0m                               Traceback (most recent call last)",
      "Input \u001b[1;32mIn [9]\u001b[0m, in \u001b[0;36m<cell line: 4>\u001b[1;34m()\u001b[0m\n\u001b[0;32m      2\u001b[0m stack \u001b[38;5;241m=\u001b[39m (\u001b[38;5;241m101\u001b[39m, \u001b[38;5;241m101\u001b[39m)\n\u001b[0;32m      3\u001b[0m doppler_axis_shape \u001b[38;5;241m=\u001b[39m (\u001b[38;5;241m561\u001b[39m, \u001b[38;5;241m561\u001b[39m, \u001b[38;5;241m561\u001b[39m)\n\u001b[1;32m----> 4\u001b[0m \u001b[43mrq\u001b[49m\u001b[38;5;241;43m.\u001b[39;49m\u001b[43mget_slice_num\u001b[49m\u001b[43m(\u001b[49m\u001b[43mn\u001b[49m\u001b[43m,\u001b[49m\u001b[43m \u001b[49m\u001b[43mstack\u001b[49m\u001b[43m,\u001b[49m\u001b[43m \u001b[49m\u001b[43mdoppler_axis_shape\u001b[49m\u001b[43m,\u001b[49m\u001b[43m \u001b[49m\u001b[43msum_doppler\u001b[49m\u001b[38;5;241;43m=\u001b[39;49m\u001b[38;5;28;43;01mTrue\u001b[39;49;00m\u001b[43m,\u001b[49m\u001b[43m \u001b[49m\u001b[43mweight_doppler\u001b[49m\u001b[38;5;241;43m=\u001b[39;49m\u001b[38;5;28;43;01mTrue\u001b[39;49;00m\u001b[43m,\u001b[49m\u001b[43m \u001b[49m\u001b[43mn_slices\u001b[49m\u001b[38;5;241;43m=\u001b[39;49m\u001b[38;5;241;43m1\u001b[39;49m\u001b[43m,\u001b[49m\u001b[43m \u001b[49m\u001b[43mdebug\u001b[49m\u001b[38;5;241;43m=\u001b[39;49m\u001b[38;5;28;43;01mTrue\u001b[39;49;00m\u001b[43m)\u001b[49m\n",
      "File \u001b[1;32m~\\src\\rydiqule\\src\\rydiqule\\sensor_utils.py:730\u001b[0m, in \u001b[0;36mget_slice_num\u001b[1;34m(n, stack_shape, doppler_shape, sum_doppler, weight_doppler, n_slices, debug)\u001b[0m\n\u001b[0;32m    727\u001b[0m     \u001b[38;5;28mprint\u001b[39m(\u001b[38;5;124mf\u001b[39m\u001b[38;5;124m'\u001b[39m\u001b[38;5;124mAvailable memory for sliced solves: \u001b[39m\u001b[38;5;132;01m{\u001b[39;00mavailable_mem\u001b[38;5;241m/\u001b[39m\u001b[38;5;241m1024\u001b[39m\u001b[38;5;241m*\u001b[39m\u001b[38;5;241m*\u001b[39m\u001b[38;5;241m3\u001b[39m\u001b[38;5;132;01m:\u001b[39;00m\u001b[38;5;124m.5g\u001b[39m\u001b[38;5;132;01m}\u001b[39;00m\u001b[38;5;124m GiB\u001b[39m\u001b[38;5;124m'\u001b[39m)\n\u001b[0;32m    729\u001b[0m \u001b[38;5;28;01mif\u001b[39;00m (total_mem \u001b[38;5;241m-\u001b[39m min_sol_mem) \u001b[38;5;241m<\u001b[39m\u001b[38;5;241m=\u001b[39m \u001b[38;5;241m0\u001b[39m:\n\u001b[1;32m--> 730\u001b[0m     \u001b[38;5;28;01mraise\u001b[39;00m \u001b[38;5;167;01mMemoryError\u001b[39;00m(\u001b[38;5;124mf\u001b[39m\u001b[38;5;124m'\u001b[39m\u001b[38;5;124mSystem is too large to solve. Need at least \u001b[39m\u001b[38;5;132;01m{\u001b[39;00mmin_sol_mem\u001b[38;5;241m/\u001b[39m\u001b[38;5;241m1024\u001b[39m\u001b[38;5;241m*\u001b[39m\u001b[38;5;241m*\u001b[39m\u001b[38;5;241m3\u001b[39m\u001b[38;5;132;01m}\u001b[39;00m\u001b[38;5;124m GiB\u001b[39m\u001b[38;5;124m'\u001b[39m)\n\u001b[0;32m    732\u001b[0m n_ham_slices \u001b[38;5;241m=\u001b[39m \u001b[38;5;28mint\u001b[39m(\u001b[38;5;28mmax\u001b[39m(np\u001b[38;5;241m.\u001b[39mceil(single_eom_mem\u001b[38;5;241m*\u001b[39mstack_factor \u001b[38;5;241m/\u001b[39m available_mem), n_slices))\n\u001b[0;32m    734\u001b[0m \u001b[38;5;28;01mif\u001b[39;00m doppler_shape:\n",
      "\u001b[1;31mMemoryError\u001b[0m: System is too large to solve. Need at least 335.4466984719038 GiB"
     ]
    }
   ],
   "source": [
    "n = 4\n",
    "stack = (101, 101)\n",
    "doppler_axis_shape = (561, 561, 561)\n",
    "rq.get_slice_num(n, stack, doppler_axis_shape, sum_doppler=True, weight_doppler=True, n_slices=1, debug=True)"
   ]
  },
  {
   "cell_type": "markdown",
   "id": "e556255e-f6a8-45fd-8015-d900f022a787",
   "metadata": {},
   "source": [
    "### Memory profiling of steady-state solve ###\n",
    "\n",
    "Note that the increment will not report correctly if a function on that line is being profiled separately.\n",
    "You can see the increment by looking at the change in total mem usage between lines in that case."
   ]
  },
  {
   "cell_type": "code",
   "execution_count": 11,
   "id": "ce32132c-a1e2-41a3-86a7-0d3e4f7e34eb",
   "metadata": {},
   "outputs": [],
   "source": [
    "from rydiqule.solvers import _solve_hamiltonian_stack"
   ]
  },
  {
   "cell_type": "code",
   "execution_count": 12,
   "id": "e15a40d6-fa72-4ce4-9295-f6e159cc0293",
   "metadata": {},
   "outputs": [
    {
     "name": "stdout",
     "output_type": "stream",
     "text": [
      "\n"
     ]
    },
    {
     "data": {
      "text/plain": [
       "Filename: C:\\Users\\naqsL\\src\\rydiqule\\src\\rydiqule\\solvers.py\n",
       "\n",
       "Line #    Mem usage    Increment  Occurences   Line Contents\n",
       "============================================================\n",
       "    15    209.9 MiB    209.9 MiB           1   def solve_steady_state(\n",
       "    16                                                 sensor: Sensor, doppler: bool = False, doppler_mesh_method: Optional[MeshMethod] = None,\n",
       "    17                                                 sum_doppler: bool = True, weight_doppler: bool = True,\n",
       "    18                                                 n_slices: int = 1, **kwargs,\n",
       "    19                                                 ) -> Solution:\n",
       "    20                                             \"\"\"\n",
       "    21                                             Finds the steady state solution for a system characterized by sensor. \n",
       "    22                                             \n",
       "    23                                             If insuffucent system\n",
       "    24                                             memory is available to solve the system all at once, system is broken into \"slices\" of manageable\n",
       "    25                                             memory footprint which are solved indivudually. This slicing behavior does not affect the result. \n",
       "    26                                             Can be performed with or without doppler averging.\n",
       "    27                                         \n",
       "    28                                             Args:\n",
       "    29                                                 sensor (:class:`~.Sensor`): The sensor for which the solution will be calculated\n",
       "    30                                                 doppler (bool, optional): Whether to calculate the solution for a doppler-broadened\n",
       "    31                                                     gas. Default is `False`.\n",
       "    32                                                 doppler_mesh_method (dict,optional): If not `None`, should be a dictionary of meshing\n",
       "    33                                                     parameters to be passed to :func:`~.doppler_classes`. Default is `None`.\n",
       "    34                                                 sum_doppler (bool): Whether to average over doppler classes after the solve\n",
       "    35                                                     is complete. Setting to false will not perform the sum, allowing viewing\n",
       "    36                                                     of the weighted results of the solve for each doppler class. Ignored\n",
       "    37                                                     if `doppler=False`. Default is `True`.\n",
       "    38                                                 weight_doppler (bool): Whether to apply weights to doppler solution to perform\n",
       "    39                                                     averaging. If `False`, will **not** apply weights or perform a doppler_average,\n",
       "    40                                                     regardless of the value of `sum_doppler`. Changing from default intended\n",
       "    41                                                     only for internal use. Ignored if `doppler=False`. Default is `True`.\n",
       "    42                                                 n_slices: (int, optional): How many sets of equations to break the full equations into.\n",
       "    43                                                     The actual number of slices will be the largest between this value and the minumum\n",
       "    44                                                     number of slices to solve the system without a memory error. Defaults to 1.\n",
       "    45                                                 **kwargs: Additional keyword arguments passed to generate_eom.\n",
       "    46                                                     See :func:`~.generate_eom` documention for details.\n",
       "    47                                         \n",
       "    48                                             Returns:\n",
       "    49                                                 :class:`~.Solution`: A bunch-type object contining information about the\n",
       "    50                                                 solution. Presently, only attribute \"rho\" is added to the solution, corresponding\n",
       "    51                                                 to the density matrix of the steady state solution.\n",
       "    52                                         \n",
       "    53                                             \"\"\"\n",
       "    54    210.0 MiB      0.0 MiB           1       solution = Solution()\n",
       "    55                                         \n",
       "    56                                             # relevant sensor-related quantities\n",
       "    57    210.0 MiB      0.0 MiB           1       stack_shape = sensor._stack_shape()\n",
       "    58    210.0 MiB      0.0 MiB           1       basis_size = sensor.basis_size\n",
       "    59    210.0 MiB      0.0 MiB           1       spatial_dim = sensor.spatial_dim()\n",
       "    60                                         \n",
       "    61                                             # initialize doppler-related quantities\n",
       "    62    210.0 MiB      0.0 MiB           1       doppler_axis_shape: Iterable[int] = ()\n",
       "    63    210.0 MiB      0.0 MiB           1       dop_classes = None\n",
       "    64    210.0 MiB      0.0 MiB           1       doppler_shifts = None\n",
       "    65    210.0 MiB      0.0 MiB           1       doppler_axes: Iterable[slice] = ()\n",
       "    66                                         \n",
       "    67                                             # update doppler-related values\n",
       "    68    210.0 MiB      0.0 MiB           1       if doppler:\n",
       "    69    210.0 MiB      0.0 MiB           1           dop_classes = doppler_classes(method=doppler_mesh_method)\n",
       "    70    210.0 MiB      0.0 MiB           1           doppler_shifts = sensor.get_doppler_shifts()\n",
       "    71    210.0 MiB      0.0 MiB           5           doppler_axis_shape = tuple(len(dop_classes) for _ in range(spatial_dim))\n",
       "    72                                         \n",
       "    73    210.0 MiB      0.0 MiB           1           if not sum_doppler:\n",
       "    74                                                     doppler_axes = (slice(None) for _ in range(spatial_dim))\n",
       "    75                                         \n",
       "    76    210.0 MiB      0.0 MiB           2       n_ham_slices, out_sol_shape = get_slice_num(basis_size, stack_shape, doppler_axis_shape,\n",
       "    77    210.0 MiB      0.0 MiB           1                                                   sum_doppler, weight_doppler, n_slices)\n",
       "    78                                         \n",
       "    79    210.0 MiB      0.0 MiB           1       if n_ham_slices > 1:\n",
       "    80                                                 print(f\"Equations do not fit in memory. Breaking into {n_ham_slices} sets of equations...\")\n",
       "    81                                         \n",
       "    82                                             # allocate arrays\n",
       "    83    213.2 MiB      3.1 MiB           1       hamiltonians = sensor.get_hamiltonian()\n",
       "    84    213.2 MiB      0.1 MiB           1       gamma = sensor.decoherence_matrix()\n",
       "    85    213.2 MiB      0.0 MiB           1       sols = np.zeros(out_sol_shape)\n",
       "    86                                         \n",
       "    87                                             # loop over individual slices of hamiltonian\n",
       "    88    216.7 MiB      0.0 MiB           2       for idx, H in ham_slice(hamiltonians, n_ham_slices):\n",
       "    89                                         \n",
       "    90    213.3 MiB      0.0 MiB           1           full_idx = (*doppler_axes, *idx)\n",
       "    91    216.7 MiB    216.7 MiB           4           sols[full_idx] = _solve_hamiltonian_stack(\n",
       "    92    213.3 MiB      0.0 MiB           2               H, gamma, doppler=doppler, dop_classes=dop_classes, sum_doppler=sum_doppler,\n",
       "    93    213.3 MiB      0.0 MiB           1               weight_doppler=weight_doppler, doppler_shifts=doppler_shifts,\n",
       "    94    213.3 MiB      0.0 MiB           2               spatial_dim=spatial_dim, **kwargs\n",
       "    95                                                     )\n",
       "    96                                         \n",
       "    97    216.7 MiB      0.0 MiB           1       solution.rho = sols\n",
       "    98                                         \n",
       "    99    216.7 MiB      0.0 MiB           1       return solution\n",
       "\n",
       "\n",
       "Filename: C:\\Users\\naqsL\\src\\rydiqule\\src\\rydiqule\\solvers.py\n",
       "\n",
       "Line #    Mem usage    Increment  Occurences   Line Contents\n",
       "============================================================\n",
       "   101    213.3 MiB    213.3 MiB           1   def _solve_hamiltonian_stack(\n",
       "   102                                                 hamiltonians: np.ndarray, gamma_matrix: np.ndarray,\n",
       "   103                                                 doppler: bool = False, dop_classes: Optional[np.ndarray] = None,\n",
       "   104                                                 sum_doppler: bool = True, weight_doppler: bool = True,\n",
       "   105                                                 doppler_shifts: Optional[np.ndarray] = None, spatial_dim: int = 0,\n",
       "   106                                                 **kwargs\n",
       "   107                                                 ) -> np.ndarray:\n",
       "   108                                             \"\"\"\n",
       "   109                                             Solves a the equations of motion corresponding to the given set of hamiltonians.\n",
       "   110                                             Typically used as an auxillary function for :meth:`~.solve_steady_state`\n",
       "   111                                             \"\"\"\n",
       "   112    233.3 MiB     20.0 MiB           1       eom, const = generate_eom(hamiltonians, gamma_matrix)\n",
       "   113                                         \n",
       "   114    233.3 MiB      0.0 MiB           1       if doppler:\n",
       "   115    233.3 MiB      0.0 MiB           1           assert dop_classes is not None and doppler_shifts is not None\n",
       "   116    233.3 MiB      0.0 MiB           1           dop_velocities, dop_volumes = doppler_mesh(dop_classes, spatial_dim)\n",
       "   117                                         \n",
       "   118  10040.2 MiB   9806.9 MiB           1           eom = get_doppler_equations(eom, doppler_shifts, dop_velocities)\n",
       "   119                                         \n",
       "   120                                                 # this is required for linalg.solve boadcasting to work\n",
       "   121  10040.2 MiB      0.0 MiB           1           const = np.expand_dims(const, tuple(np.arange(spatial_dim)))\n",
       "   122  10695.4 MiB    655.2 MiB           1           sols_full = steady_state_solve_stack(eom, const)\n",
       "   123                                         \n",
       "   124  10695.4 MiB      0.0 MiB           1           if weight_doppler:\n",
       "   125  11350.4 MiB    654.9 MiB           1               sols_weighted = apply_doppler_weights(sols_full, dop_velocities, dop_volumes)\n",
       "   126  11350.4 MiB      0.0 MiB           1               if sum_doppler:\n",
       "   127  11350.4 MiB      0.0 MiB           1                   sum_axes = tuple(np.arange(spatial_dim))\n",
       "   128  11351.5 MiB      1.2 MiB           1                   sols = np.sum(sols_weighted, axis=sum_axes)\n",
       "   129                                                     else:\n",
       "   130                                                         sols = sols_weighted\n",
       "   131                                                 else:\n",
       "   132                                                     sols = sols_full\n",
       "   133                                         \n",
       "   134                                             else:\n",
       "   135                                                 sols = steady_state_solve_stack(eom, const)\n",
       "   136                                         \n",
       "   137  11351.5 MiB      0.0 MiB           1       return sols"
      ]
     },
     "metadata": {},
     "output_type": "display_data"
    }
   ],
   "source": [
    "%mprun -c -f rq.solve_steady_state -f _solve_hamiltonian_stack rq.solve_steady_state(CL,doppler=True,sum_doppler=True,weight_doppler=True)"
   ]
  },
  {
   "cell_type": "code",
   "execution_count": 13,
   "id": "7105fda9-db92-478c-b0dd-625fcf7621d1",
   "metadata": {},
   "outputs": [],
   "source": [
    "from rydiqule.sensor_utils import make_real"
   ]
  },
  {
   "cell_type": "code",
   "execution_count": 14,
   "id": "cad5532d-5856-4911-a205-ad565518b96e",
   "metadata": {},
   "outputs": [
    {
     "name": "stdout",
     "output_type": "stream",
     "text": [
      "\n"
     ]
    },
    {
     "data": {
      "text/plain": [
       "Filename: C:\\Users\\naqsL\\src\\rydiqule\\src\\rydiqule\\sensor_utils.py\n",
       "\n",
       "Line #    Mem usage    Increment  Occurences   Line Contents\n",
       "============================================================\n",
       "    28    217.5 MiB    217.5 MiB           1   def generate_eom(hamiltonian: np.ndarray, gamma_matrix: np.ndarray,\n",
       "    29                                                          remove_ground_state: bool = True,\n",
       "    30                                                          real_eom: bool = True) -> Tuple[np.ndarray, np.ndarray]:\n",
       "    31                                             \"\"\"\n",
       "    32                                             Create the optical bloch equations for a hamiltonian and decoherence matrix\n",
       "    33                                             using the Lindblad master equation.\n",
       "    34                                         \n",
       "    35                                             Parameters\n",
       "    36                                             ----------\n",
       "    37                                             hamiltonian : numpy.ndarray\n",
       "    38                                                 Complex array representing the Hamiltonian matrix\n",
       "    39                                                 of the system, the matrix should be of shape `(*l, n, n)`, where n is\n",
       "    40                                                 the basis size and l is the shape of the stack of hamiltonians. For\n",
       "    41                                                 example, if the hamiltonian varies in 2 parameters l might be `(10, 10)`.\n",
       "    42                                             gamma_matrix : numpy.ndarray\n",
       "    43                                                 Complex array representing the decoherence matrix\n",
       "    44                                                 of the system, the matrix should be of size `(n, n)`, where n is the basis size.\n",
       "    45                                             remove_ground_state : bool, optional\n",
       "    46                                                 Remove the ground state from the equations\n",
       "    47                                                 of motion using population conservation. Setting to `False` is intended\n",
       "    48                                                 for internal use only and is not officially supported.\n",
       "    49                                                 See :func:`~.remove_ground` for details.\n",
       "    50                                             real_eom : bool, optional\n",
       "    51                                                 Transform the equations of motion from the complex basis\n",
       "    52                                                 to the real basis. Setting to `False` is intended for internal use only\n",
       "    53                                                 and is not officially supported\n",
       "    54                                                 Seee :func:`~.make_real` for details.\n",
       "    55                                         \n",
       "    56                                             Returns\n",
       "    57                                             -------\n",
       "    58                                             equations : numpy.ndarray\n",
       "    59                                                 The array representing the Optical\n",
       "    60                                                 Bloch Equations (OBEs) of the system. The shape will be `(*l, n^2-1, n^2-1)`\n",
       "    61                                                 if `remove_ground_state` is `True` and `(*l, n^2, n^2)` otherwise. The\n",
       "    62                                                 datatype will be `np.float64` if `real_eom` is `True` and `np.complex128`\n",
       "    63                                                 otherwise.\n",
       "    64                                             const : numpy.ndarray\n",
       "    65                                                 Array of which defines the constant\n",
       "    66                                                 term in the linear OBEs. The shape will be `(*l, n^2-1)` if\n",
       "    67                                                 `remove_ground_state` is `True` and `(*l, n^2)` otherwise. The\n",
       "    68                                                 datatype will be `np.float64` if `real_eom` is `True` and `np.complex128`\n",
       "    69                                                 otherwise.\n",
       "    70                                         \n",
       "    71                                             Raises\n",
       "    72                                             ------\n",
       "    73                                             ValueError: If the shapes of gamma_matrix and hamiltonian are not matching\n",
       "    74                                                 or not square in the last 2 dimensions\n",
       "    75                                         \n",
       "    76                                             Examples\n",
       "    77                                             --------\n",
       "    78                                             >>> ham = np.diag([1,-1])\n",
       "    79                                             >>> gamma = np.array([[.1, 0],[.1,0]])\n",
       "    80                                             >>> print(ham.shape)\n",
       "    81                                             >>> eom, const = rq.generate_eom(ham, gamma)\n",
       "    82                                             >>> print(eom)\n",
       "    83                                             >>> print(const.shape)\n",
       "    84                                             (2, 2)\n",
       "    85                                             [[-0.1  2.   0. ]\n",
       "    86                                                 [-2.  -0.1  0. ]\n",
       "    87                                                 [ 0.   0.  -0.1]]\n",
       "    88                                             (3,)\n",
       "    89                                         \n",
       "    90                                             This also works with a \"stack\" of multiple hamiltonians:\n",
       "    91                                         \n",
       "    92                                             >>> ham_base = np.diag([1,-1])\n",
       "    93                                             >>> ham_full = np.array([ham_base for _ in range(10)])\n",
       "    94                                             >>> gamma = np.array([[.1, 0],[.1,0]])\n",
       "    95                                             >>> print(ham_full.shape)\n",
       "    96                                             >>> eom, const = rq.generate_eom(ham_full, gamma)\n",
       "    97                                             >>> print(eom.shape)\n",
       "    98                                             >>> print(const.shape)\n",
       "    99                                             (10, 2, 2)\n",
       "   100                                             (10, 3, 3)\n",
       "   101                                             (10, 3)\n",
       "   102                                         \n",
       "   103                                             \"\"\"\n",
       "   104    217.5 MiB      0.0 MiB           1       if not hamiltonian.shape[-2:] == gamma_matrix.shape[-2:]:\n",
       "   105                                                 raise ValueError(\"hamiltonian and gamma matrix must have matching shape\")\n",
       "   106    217.5 MiB      0.0 MiB           1       if not hamiltonian.shape[-1] == hamiltonian.shape[-2]:\n",
       "   107                                                 raise ValueError(\"hamiltonian and gamma matrix must be square\")\n",
       "   108                                         \n",
       "   109    217.5 MiB      0.0 MiB           1       basis_size = hamiltonian.shape[-1]\n",
       "   110    217.5 MiB      0.0 MiB          31       basis = np.array([[[m,n] for m in range(basis_size)] for n in range(basis_size)])\n",
       "   111    217.5 MiB      0.0 MiB           1       basis = basis.reshape((basis_size)**2,2)\n",
       "   112                                         \n",
       "   113                                             # create optical bloch equations\n",
       "   114    257.4 MiB     39.9 MiB           1       obes = _hamiltonian_term(hamiltonian) + _decoherence_term(gamma_matrix)\n",
       "   115    257.4 MiB      0.0 MiB           1       stack_shape = obes.shape[:-2]\n",
       "   116    257.4 MiB      0.0 MiB           1       const_shape = (*tuple(np.ones_like(stack_shape)), basis_size**2)\n",
       "   117    257.4 MiB      0.0 MiB           1       const = np.zeros(const_shape)\n",
       "   118                                         \n",
       "   119    257.4 MiB      0.0 MiB           1       if remove_ground_state:\n",
       "   120    297.2 MiB     39.9 MiB           1           obes, const = remove_ground(obes)\n",
       "   121                                         \n",
       "   122                                             # transform to real basis\n",
       "   123    297.2 MiB      0.0 MiB           1       if real_eom:\n",
       "   124    236.2 MiB    236.2 MiB           1           obes, const = make_real(obes, const)\n",
       "   125                                         \n",
       "   126    236.2 MiB      0.0 MiB           1       return obes, const\n",
       "\n",
       "\n",
       "Filename: C:\\Users\\naqsL\\src\\rydiqule\\src\\rydiqule\\sensor_utils.py\n",
       "\n",
       "Line #    Mem usage    Increment  Occurences   Line Contents\n",
       "============================================================\n",
       "   222    297.2 MiB    297.2 MiB           1   def make_real(equations: np.ndarray, constant: np.ndarray,\n",
       "   223                                                       ground_removed: bool = True) -> Tuple[np.ndarray, np.ndarray]:\n",
       "   224                                             \"\"\"\n",
       "   225                                             Converts equations of motion from complex basis to real basis.\n",
       "   226                                         \n",
       "   227                                             Changes the density vector equation for p_ij into the Re[p_ij] equation\n",
       "   228                                             and changing the density vector equation for p_ji into the equation for Im[p_ij].\n",
       "   229                                         \n",
       "   230                                             Parameters\n",
       "   231                                             ----------\n",
       "   232                                             equations : numpy.ndarray\n",
       "   233                                                 Complex equations of motion.\n",
       "   234                                             constant : numpy.ndarray\n",
       "   235                                                 RHS of the equations of motion.\n",
       "   236                                             ground_removed : bool, optional\n",
       "   237                                                 Indicates if `equations` has had the ground state removed.\n",
       "   238                                                 Default is `True`.\n",
       "   239                                         \n",
       "   240                                             Returns\n",
       "   241                                             -------\n",
       "   242                                             real_eqns : numpy.ndarray\n",
       "   243                                                 EOMs in real basis.\n",
       "   244                                             real_const : numpy.ndarray\n",
       "   245                                                 RHS of EOMs in real basis.\n",
       "   246                                         \n",
       "   247                                             \"\"\"\n",
       "   248                                             # Define the basis for printout purposes for ground removed or not removed\n",
       "   249    297.2 MiB      0.0 MiB           1       if np.sqrt(equations.shape[-1]) % 1 == 0:  # ground is not removed\n",
       "   250                                         \n",
       "   251                                                 basis_size = int(np.sqrt(equations.shape[-1]))\n",
       "   252                                         \n",
       "   253    297.2 MiB      0.0 MiB           1       elif np.sqrt(equations.shape[-1]+1) % 1 == 0:  # ground is removed\n",
       "   254                                         \n",
       "   255    297.2 MiB      0.0 MiB           1           basis_size = int(np.sqrt(equations.shape[-1]+1))\n",
       "   256                                         \n",
       "   257                                             else:\n",
       "   258                                                 raise ValueError(\"unsupported equation shape\")\n",
       "   259                                         \n",
       "   260    297.2 MiB      0.0 MiB           1       u, u_inv = get_basis_transform(basis_size)  # unitary transformation matrix\n",
       "   261                                         \n",
       "   262    297.2 MiB      0.0 MiB           1       if ground_removed:\n",
       "   263    297.2 MiB      0.0 MiB           1           u = u[1:,1:]\n",
       "   264    297.2 MiB      0.0 MiB           1           u_inv = u_inv[1:,1:]\n",
       "   265                                         \n",
       "   266                                             # transform to the real basis\n",
       "   267    332.2 MiB     35.0 MiB           1       new_eqns = u@(equations@u_inv)\n",
       "   268    332.2 MiB      0.0 MiB           1       new_const = 0\n",
       "   269                                         \n",
       "   270    332.2 MiB      0.0 MiB           1       if ground_removed:\n",
       "   271    334.6 MiB      2.3 MiB           1           new_const = np.einsum('ij,...j', u, constant)\n",
       "   272                                         \n",
       "   273                                             # copies allow complex base arrays to be GC\n",
       "   274    353.2 MiB     18.7 MiB           1       return new_eqns.real.copy(), new_const.real.copy()"
      ]
     },
     "metadata": {},
     "output_type": "display_data"
    }
   ],
   "source": [
    "%mprun -f rq.generate_eom -f make_real eoms, const = rq.generate_eom(CL.get_hamiltonian(), CL.decoherence_matrix())"
   ]
  },
  {
   "cell_type": "code",
   "execution_count": 15,
   "id": "8738e58f-8075-49a8-bbe2-832b6cc07201",
   "metadata": {},
   "outputs": [],
   "source": [
    "dop_classes = rq.doppler_classes()"
   ]
  },
  {
   "cell_type": "code",
   "execution_count": 16,
   "id": "4122b528-fa5a-4614-b12f-bc159ac552c6",
   "metadata": {},
   "outputs": [
    {
     "name": "stdout",
     "output_type": "stream",
     "text": [
      "peak memory: 232.65 MiB, increment: 0.07 MiB\n"
     ]
    }
   ],
   "source": [
    "%memit vels, vols = rq.doppler_mesh(dop_classes, CL.spatial_dim())"
   ]
  },
  {
   "cell_type": "code",
   "execution_count": 17,
   "id": "1be731a3-d213-4c5a-a5e1-08c8e4239dc0",
   "metadata": {},
   "outputs": [
    {
     "name": "stdout",
     "output_type": "stream",
     "text": [
      "peak memory: 11371.10 MiB, increment: 11138.45 MiB\n"
     ]
    }
   ],
   "source": [
    "%memit rq.solve_steady_state(CL,doppler=True,sum_doppler=True)"
   ]
  },
  {
   "cell_type": "code",
   "execution_count": 18,
   "id": "c78598fd-8bef-41e3-bd52-b91fc5f2c9c3",
   "metadata": {
    "tags": []
   },
   "outputs": [
    {
     "name": "stdout",
     "output_type": "stream",
     "text": [
      "\n"
     ]
    },
    {
     "data": {
      "text/plain": [
       "Filename: C:\\Users\\naqsL\\src\\rydiqule\\src\\rydiqule\\doppler_utils.py\n",
       "\n",
       "Line #    Mem usage    Increment  Occurences   Line Contents\n",
       "============================================================\n",
       "    40    233.8 MiB    233.8 MiB           1   def get_doppler_equations(base_eoms: np.ndarray,\n",
       "    41                                                                   doppler_hamiltonians: np.ndarray, Vs: np.ndarray) -> np.ndarray:\n",
       "    42                                             \"\"\"\n",
       "    43                                             Returns the equations for each slice of the doppler profile.\n",
       "    44                                         \n",
       "    45                                             A new axes corresponding to these slices are appended to the beginning.\n",
       "    46                                             For example, if equations are of shape `(m,m)`\n",
       "    47                                             and there are `n_doppler` doppler values being sampled,\n",
       "    48                                             the return will be of shape `(n_doppler, m, m)`.\n",
       "    49                                         \n",
       "    50                                             Args:\n",
       "    51                                                 base_eoms (numpy.ndarray): Stacked square arrays representing the unshifted equations,\n",
       "    52                                                     i.e. the theoretical equations for an ensemble of atoms with zero momentum.\n",
       "    53                                                 doppler_hamiltonians (numpy.ndarray):\n",
       "    54                                                     Arrays of hamiltonians with only doppler shifts present.\n",
       "    55                                                     One for each spatial dimension needed.\n",
       "    56                                                     See :meth:`~.Sensor.get_doppler_shifts` for details.\n",
       "    57                                                 Vs (numpy.ndarray): Mesh of velocity classes to sample,\n",
       "    58                                                     with same spatial dimensions as `dop_ham`.\n",
       "    59                                                     See :func:`~.doppler_mesh` for details.\n",
       "    60                                         \n",
       "    61                                             Returns:\n",
       "    62                                                 numpy.ndarray: An array of shape `(*Vs.shape[1:], *base_eoms.shape)` which is a,\n",
       "    63                                                 potentially multi-dimensional, stack of individual equations of shape `(m, m)`.\n",
       "    64                                                 Each slice of this stack is an equation of shape `(m, m)`\n",
       "    65                                                 with the corresponding doppler shifts applied.\n",
       "    66                                         \n",
       "    67                                             Note:\n",
       "    68                                                 Each doppler shift is equal to `k_i*vP*det_i`, in units of Mrad/s,\n",
       "    69                                                 where `i` denotes the einstein summation along the spatial dimensions.\n",
       "    70                                                 `det` is the normalized velocity class, with `vP*det_i=v_i` giving the velocity.\n",
       "    71                                                 `vP` is the most probably speed from the Maxwell-Boltzmann distribution:\n",
       "    72                                                 sqrt(2*kB*T/m).\n",
       "    73                                                 `k_i` is the k-vector of the field along the same axis as `det_i`.\n",
       "    74                                                 `doppler_hamiltonians` provides `k_i*vP`, `Vs` provides `det_i`.\n",
       "    75                                         \n",
       "    76                                             \"\"\"\n",
       "    77    233.8 MiB      0.0 MiB           1       base_doppler_shift_eoms = generate_doppler_shift_eom(doppler_hamiltonians)\n",
       "    78                                             # take outer product of velocities and base kvec eoms to get detunings.\n",
       "    79                                             # Add shifts from each spatial dimension to each detuning\n",
       "    80    233.8 MiB      0.0 MiB           1       doppler_shift_eoms = np.tensordot(Vs, base_doppler_shift_eoms, ((0),(0)))\n",
       "    81                                             # broadcast up base_eom to add doppler shift dims\n",
       "    82                                             # broadcast up doppler_shift_eoms to add base_eom stack dimensions\n",
       "    83    233.8 MiB      0.0 MiB           1       n_stacks = len(base_eoms.shape[:-2])\n",
       "    84    233.8 MiB      0.0 MiB           1       spatial_dim = base_doppler_shift_eoms.shape[0]\n",
       "    85    233.8 MiB      0.0 MiB           1       exp_dims = tuple(range(spatial_dim, spatial_dim+n_stacks))\n",
       "    86  10057.6 MiB   9823.8 MiB           1       doppler_eqns = np.expand_dims(base_eoms, 0) + np.expand_dims(doppler_shift_eoms, exp_dims)\n",
       "    87                                         \n",
       "    88  10057.6 MiB      0.0 MiB           1       return doppler_eqns"
      ]
     },
     "metadata": {},
     "output_type": "display_data"
    }
   ],
   "source": [
    "%mprun -f rq.get_doppler_equations rq.get_doppler_equations(eoms, CL.get_doppler_shifts(), vels)"
   ]
  },
  {
   "cell_type": "code",
   "execution_count": null,
   "id": "367e6072-ae4b-4216-89de-34ca61a167ea",
   "metadata": {},
   "outputs": [],
   "source": []
  }
 ],
 "metadata": {
  "kernelspec": {
   "display_name": "ARC",
   "language": "python",
   "name": "arc"
  },
  "language_info": {
   "codemirror_mode": {
    "name": "ipython",
    "version": 3
   },
   "file_extension": ".py",
   "mimetype": "text/x-python",
   "name": "python",
   "nbconvert_exporter": "python",
   "pygments_lexer": "ipython3",
   "version": "3.9.12"
  }
 },
 "nbformat": 4,
 "nbformat_minor": 5
}
