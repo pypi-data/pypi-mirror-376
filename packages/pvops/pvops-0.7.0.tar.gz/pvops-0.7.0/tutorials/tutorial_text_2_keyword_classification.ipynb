{
 "cells": [
  {
   "attachments": {},
   "cell_type": "markdown",
   "metadata": {},
   "source": [
    "# Text Module Tutorial 2: Keyword Classification"
   ]
  },
  {
   "cell_type": "markdown",
   "metadata": {},
   "source": [
    "In this tutorial, we demonstrate how to perform a keyword-based classification of O&M records. This method is quick and straightforward, but has limited accuracy. To see a more involved machine learning approach, refer to text module tutorial 3."
   ]
  },
  {
   "cell_type": "code",
   "execution_count": 1,
   "metadata": {},
   "outputs": [
    {
     "name": "stdout",
     "output_type": "stream",
     "text": [
      "WARNING:tensorflow:From c:\\Users\\agmoore\\AppData\\Local\\anaconda3\\envs\\pvops\\Lib\\site-packages\\keras\\src\\backend\\common\\global_state.py:82: The name tf.reset_default_graph is deprecated. Please use tf.compat.v1.reset_default_graph instead.\n",
      "\n"
     ]
    }
   ],
   "source": [
    "import pandas as pd\n",
    "import matplotlib.pyplot as plt\n",
    "from sklearn.metrics import accuracy_score\n",
    "\n",
    "# pvops functionality\n",
    "from pvops.text import utils as text_utils\n",
    "from pvops.text import nlp_utils as text_nlp_utils\n",
    "from pvops.text import preprocess as text_preprocess\n",
    "from pvops.text import classify as text_classify\n",
    "from pvops.text import visualize as text_visualize"
   ]
  },
  {
   "cell_type": "markdown",
   "metadata": {},
   "source": [
    "### Preprocessing"
   ]
  },
  {
   "cell_type": "markdown",
   "metadata": {},
   "source": [
    "See text module tutorial 1 for more information on preprocessing steps. Here, we quickly run through them."
   ]
  },
  {
   "cell_type": "code",
   "execution_count": 2,
   "metadata": {},
   "outputs": [],
   "source": [
    "# read in dataset\n",
    "df = pd.read_csv('example_data/example_ML_ticket_data.csv')\n",
    "\n",
    "# perform asset label remapping\n",
    "remapping_df = pd.read_csv('example_data/remappings_asset.csv')\n",
    "remapping_df['out_'] = remapping_df['out_'].replace({'met station': 'met',\n",
    "                                                     'energy storage': 'battery',\n",
    "                                                     'energy meter': 'meter'})\n",
    "remapping_col_dict = dict(attribute_col='Asset', \n",
    "                          remapping_col_from='in',\n",
    "                          remapping_col_to='out_')\n",
    "df = text_utils.remap_attributes(df, remapping_df, remapping_col_dict, allow_missing_mappings=True)\n",
    "\n",
    "# let's only keep asset labels which have more than one instance in the dataset\n",
    "label_counts = df.value_counts('Asset')\n",
    "labels_with_multiple_occurrences = label_counts.loc[label_counts > 1].index\n",
    "df = df.loc[df['Asset'].isin(labels_with_multiple_occurrences)]\n",
    "\n",
    "# bulid a custom set of stopwords\n",
    "stopwords = text_nlp_utils.create_stopwords(lst_add_words=['dtype', 'say', 'length', 'object', 'u', 'ha', 'wa'])\n",
    "\n",
    "# run our preprocessing function to clean up the text data and prepare it for ML\n",
    "col_dict = dict(data='CompletionDesc',\n",
    "                eventstart='Date_EventStart',\n",
    "                save_data_column='CleanDesc',\n",
    "                save_date_column='ExtractedDates')\n",
    "df = text_preprocess.preprocessor(df, stopwords, col_dict)"
   ]
  },
  {
   "cell_type": "markdown",
   "metadata": {},
   "source": [
    "### Keyword-based classification"
   ]
  },
  {
   "cell_type": "markdown",
   "metadata": {},
   "source": [
    "Now, let's tokenize our dataset:"
   ]
  },
  {
   "cell_type": "code",
   "execution_count": 3,
   "metadata": {},
   "outputs": [
    {
     "data": {
      "text/html": [
       "<div>\n",
       "<style scoped>\n",
       "    .dataframe tbody tr th:only-of-type {\n",
       "        vertical-align: middle;\n",
       "    }\n",
       "\n",
       "    .dataframe tbody tr th {\n",
       "        vertical-align: top;\n",
       "    }\n",
       "\n",
       "    .dataframe thead th {\n",
       "        text-align: right;\n",
       "    }\n",
       "</style>\n",
       "<table border=\"1\" class=\"dataframe\">\n",
       "  <thead>\n",
       "    <tr style=\"text-align: right;\">\n",
       "      <th></th>\n",
       "      <th>Date_EventStart</th>\n",
       "      <th>Date_EventEnd</th>\n",
       "      <th>Asset</th>\n",
       "      <th>CompletionDesc</th>\n",
       "      <th>Cause</th>\n",
       "      <th>ImpactLevel</th>\n",
       "      <th>randid</th>\n",
       "      <th>ExtractedDates</th>\n",
       "      <th>CleanDesc</th>\n",
       "      <th>CleanDescTokenized</th>\n",
       "    </tr>\n",
       "  </thead>\n",
       "  <tbody>\n",
       "    <tr>\n",
       "      <th>0</th>\n",
       "      <td>8/16/2018 9:00</td>\n",
       "      <td>8/22/2018 17:00</td>\n",
       "      <td>combiner</td>\n",
       "      <td>cb 1.18 was found to have contactor issue woul...</td>\n",
       "      <td>0000 - Unknown.</td>\n",
       "      <td>Underperformance</td>\n",
       "      <td>38</td>\n",
       "      <td>[]</td>\n",
       "      <td>cb found contactor issue would close contactor...</td>\n",
       "      <td>[cb, found, contactor, issue, would, close, co...</td>\n",
       "    </tr>\n",
       "    <tr>\n",
       "      <th>1</th>\n",
       "      <td>9/17/2018 18:25</td>\n",
       "      <td>9/18/2018 9:50</td>\n",
       "      <td>transformer</td>\n",
       "      <td>self resolved. techdispatched: no</td>\n",
       "      <td>004 - Under voltage.</td>\n",
       "      <td>Underperformance</td>\n",
       "      <td>46</td>\n",
       "      <td>[]</td>\n",
       "      <td>self resolved techdispatched</td>\n",
       "      <td>[self, resolved, techdispatched]</td>\n",
       "    </tr>\n",
       "    <tr>\n",
       "      <th>2</th>\n",
       "      <td>8/26/2019 9:00</td>\n",
       "      <td>11/5/2019 17:00</td>\n",
       "      <td>facility</td>\n",
       "      <td>all module rows washed, waiting for final repo...</td>\n",
       "      <td>0000 - Unknown</td>\n",
       "      <td>Underperformance</td>\n",
       "      <td>62</td>\n",
       "      <td>[2019-09-01 09:00:00]</td>\n",
       "      <td>module rows washed waiting final report sun power</td>\n",
       "      <td>[module, rows, washed, waiting, final, report,...</td>\n",
       "    </tr>\n",
       "    <tr>\n",
       "      <th>3</th>\n",
       "      <td>11/14/2017 7:46</td>\n",
       "      <td>11/14/2017 8:35</td>\n",
       "      <td>inverter</td>\n",
       "      <td>14 nov: we were alerted that e-c3-1 had faulte...</td>\n",
       "      <td>019 - Unplanned outage/derate.</td>\n",
       "      <td>Underperformance</td>\n",
       "      <td>54</td>\n",
       "      <td>[2017-11-14 07:46:00, 2017-03-01 07:46:00]</td>\n",
       "      <td>nov alerted e c faulted upon investigation not...</td>\n",
       "      <td>[nov, alerted, e, c, faulted, upon, investigat...</td>\n",
       "    </tr>\n",
       "    <tr>\n",
       "      <th>4</th>\n",
       "      <td>4/27/2019 9:00</td>\n",
       "      <td>5/2/2019 17:00</td>\n",
       "      <td>facility</td>\n",
       "      <td>assessed condition filters all inverters. litt...</td>\n",
       "      <td>.</td>\n",
       "      <td>NaN</td>\n",
       "      <td>45</td>\n",
       "      <td>[]</td>\n",
       "      <td>assessed condition filters inverters little cl...</td>\n",
       "      <td>[assessed, condition, filters, inverters, litt...</td>\n",
       "    </tr>\n",
       "  </tbody>\n",
       "</table>\n",
       "</div>"
      ],
      "text/plain": [
       "   Date_EventStart    Date_EventEnd        Asset  \\\n",
       "0   8/16/2018 9:00  8/22/2018 17:00     combiner   \n",
       "1  9/17/2018 18:25   9/18/2018 9:50  transformer   \n",
       "2   8/26/2019 9:00  11/5/2019 17:00     facility   \n",
       "3  11/14/2017 7:46  11/14/2017 8:35     inverter   \n",
       "4   4/27/2019 9:00   5/2/2019 17:00     facility   \n",
       "\n",
       "                                      CompletionDesc  \\\n",
       "0  cb 1.18 was found to have contactor issue woul...   \n",
       "1                  self resolved. techdispatched: no   \n",
       "2  all module rows washed, waiting for final repo...   \n",
       "3  14 nov: we were alerted that e-c3-1 had faulte...   \n",
       "4  assessed condition filters all inverters. litt...   \n",
       "\n",
       "                             Cause       ImpactLevel  randid  \\\n",
       "0                 0000 - Unknown.   Underperformance      38   \n",
       "1            004 - Under voltage.   Underperformance      46   \n",
       "2                   0000 - Unknown  Underperformance      62   \n",
       "3  019 - Unplanned outage/derate.   Underperformance      54   \n",
       "4                               .                NaN      45   \n",
       "\n",
       "                               ExtractedDates  \\\n",
       "0                                          []   \n",
       "1                                          []   \n",
       "2                       [2019-09-01 09:00:00]   \n",
       "3  [2017-11-14 07:46:00, 2017-03-01 07:46:00]   \n",
       "4                                          []   \n",
       "\n",
       "                                           CleanDesc  \\\n",
       "0  cb found contactor issue would close contactor...   \n",
       "1                       self resolved techdispatched   \n",
       "2  module rows washed waiting final report sun power   \n",
       "3  nov alerted e c faulted upon investigation not...   \n",
       "4  assessed condition filters inverters little cl...   \n",
       "\n",
       "                                  CleanDescTokenized  \n",
       "0  [cb, found, contactor, issue, would, close, co...  \n",
       "1                   [self, resolved, techdispatched]  \n",
       "2  [module, rows, washed, waiting, final, report,...  \n",
       "3  [nov, alerted, e, c, faulted, upon, investigat...  \n",
       "4  [assessed, condition, filters, inverters, litt...  "
      ]
     },
     "execution_count": 3,
     "metadata": {},
     "output_type": "execute_result"
    }
   ],
   "source": [
    "df['CleanDescTokenized'] = df['CleanDesc'].apply(text_preprocess.regex_tokenize)\n",
    "df.head()"
   ]
  },
  {
   "cell_type": "markdown",
   "metadata": {},
   "source": [
    "We have two csv files that help us interpret PV-relevant terms and abbreviations:"
   ]
  },
  {
   "cell_type": "code",
   "execution_count": 4,
   "metadata": {},
   "outputs": [
    {
     "data": {
      "text/html": [
       "<div>\n",
       "<style scoped>\n",
       "    .dataframe tbody tr th:only-of-type {\n",
       "        vertical-align: middle;\n",
       "    }\n",
       "\n",
       "    .dataframe tbody tr th {\n",
       "        vertical-align: top;\n",
       "    }\n",
       "\n",
       "    .dataframe thead th {\n",
       "        text-align: right;\n",
       "    }\n",
       "</style>\n",
       "<table border=\"1\" class=\"dataframe\">\n",
       "  <thead>\n",
       "    <tr style=\"text-align: right;\">\n",
       "      <th></th>\n",
       "      <th>in</th>\n",
       "      <th>out_</th>\n",
       "    </tr>\n",
       "  </thead>\n",
       "  <tbody>\n",
       "    <tr>\n",
       "      <th>0</th>\n",
       "      <td>combiner</td>\n",
       "      <td>combiner</td>\n",
       "    </tr>\n",
       "    <tr>\n",
       "      <th>1</th>\n",
       "      <td>comb</td>\n",
       "      <td>combiner</td>\n",
       "    </tr>\n",
       "    <tr>\n",
       "      <th>2</th>\n",
       "      <td>cb</td>\n",
       "      <td>combiner</td>\n",
       "    </tr>\n",
       "    <tr>\n",
       "      <th>3</th>\n",
       "      <td>battery</td>\n",
       "      <td>battery</td>\n",
       "    </tr>\n",
       "    <tr>\n",
       "      <th>4</th>\n",
       "      <td>bess</td>\n",
       "      <td>battery</td>\n",
       "    </tr>\n",
       "  </tbody>\n",
       "</table>\n",
       "</div>"
      ],
      "text/plain": [
       "         in      out_\n",
       "0  combiner  combiner\n",
       "1      comb  combiner\n",
       "2        cb  combiner\n",
       "3   battery   battery\n",
       "4      bess   battery"
      ]
     },
     "execution_count": 4,
     "metadata": {},
     "output_type": "execute_result"
    }
   ],
   "source": [
    "# replace terms\n",
    "pv_reference_df = pd.concat([pd.read_csv('example_data/mappings_equipment.csv'),\n",
    "                             pd.read_csv('example_data/mappings_pv_terms.csv')])\n",
    "reference_col_dict = dict(reference_col_from='in', reference_col_to='out_')\n",
    "pv_reference_df.head()"
   ]
  },
  {
   "cell_type": "markdown",
   "metadata": {},
   "source": [
    "Here, we use the above dataframe to make a \"prediction\" of what the asset is. For instance, if \"combiner\", \"comb\", \"cb\", etc. appears as a token, we predict \"combiner\" as the asset. Note that sometimes multiple assets are mentioned in a single ticket. The resulting entries are printed out below when the function `get_attributes_from_keywords` is called, and the rows corresponding to such cases are duplicated, each with a different value for `'Keyword_Asset'`."
   ]
  },
  {
   "cell_type": "code",
   "execution_count": 5,
   "metadata": {},
   "outputs": [
    {
     "name": "stdout",
     "output_type": "stream",
     "text": [
      "25 entries had multiple keywords of interest. Reference: Index([ 7,  9, 11, 13, 16, 17, 28, 31, 32, 35, 36, 38, 42, 44, 48, 52, 54, 56,\n",
      "       57, 61, 73, 76, 78, 87, 96],\n",
      "      dtype='int64') in original dataframe.\n"
     ]
    },
    {
     "data": {
      "text/html": [
       "<div>\n",
       "<style scoped>\n",
       "    .dataframe tbody tr th:only-of-type {\n",
       "        vertical-align: middle;\n",
       "    }\n",
       "\n",
       "    .dataframe tbody tr th {\n",
       "        vertical-align: top;\n",
       "    }\n",
       "\n",
       "    .dataframe thead th {\n",
       "        text-align: right;\n",
       "    }\n",
       "</style>\n",
       "<table border=\"1\" class=\"dataframe\">\n",
       "  <thead>\n",
       "    <tr style=\"text-align: right;\">\n",
       "      <th></th>\n",
       "      <th>Date_EventStart</th>\n",
       "      <th>Date_EventEnd</th>\n",
       "      <th>Asset</th>\n",
       "      <th>CompletionDesc</th>\n",
       "      <th>Cause</th>\n",
       "      <th>ImpactLevel</th>\n",
       "      <th>randid</th>\n",
       "      <th>ExtractedDates</th>\n",
       "      <th>CleanDesc</th>\n",
       "      <th>CleanDescTokenized</th>\n",
       "      <th>Keyword_Asset</th>\n",
       "    </tr>\n",
       "  </thead>\n",
       "  <tbody>\n",
       "    <tr>\n",
       "      <th>0</th>\n",
       "      <td>8/16/2018 9:00</td>\n",
       "      <td>8/22/2018 17:00</td>\n",
       "      <td>combiner</td>\n",
       "      <td>cb 1.18 was found to have contactor issue woul...</td>\n",
       "      <td>0000 - Unknown.</td>\n",
       "      <td>Underperformance</td>\n",
       "      <td>38</td>\n",
       "      <td>[]</td>\n",
       "      <td>cb found contactor issue would close contactor...</td>\n",
       "      <td>[cb, found, contactor, issue, would, close, co...</td>\n",
       "      <td>combiner</td>\n",
       "    </tr>\n",
       "    <tr>\n",
       "      <th>1</th>\n",
       "      <td>9/17/2018 18:25</td>\n",
       "      <td>9/18/2018 9:50</td>\n",
       "      <td>transformer</td>\n",
       "      <td>self resolved. techdispatched: no</td>\n",
       "      <td>004 - Under voltage.</td>\n",
       "      <td>Underperformance</td>\n",
       "      <td>46</td>\n",
       "      <td>[]</td>\n",
       "      <td>self resolved techdispatched</td>\n",
       "      <td>[self, resolved, techdispatched]</td>\n",
       "      <td>NaN</td>\n",
       "    </tr>\n",
       "    <tr>\n",
       "      <th>2</th>\n",
       "      <td>8/26/2019 9:00</td>\n",
       "      <td>11/5/2019 17:00</td>\n",
       "      <td>facility</td>\n",
       "      <td>all module rows washed, waiting for final repo...</td>\n",
       "      <td>0000 - Unknown</td>\n",
       "      <td>Underperformance</td>\n",
       "      <td>62</td>\n",
       "      <td>[2019-09-01 09:00:00]</td>\n",
       "      <td>module rows washed waiting final report sun power</td>\n",
       "      <td>[module, rows, washed, waiting, final, report,...</td>\n",
       "      <td>module</td>\n",
       "    </tr>\n",
       "    <tr>\n",
       "      <th>3</th>\n",
       "      <td>11/14/2017 7:46</td>\n",
       "      <td>11/14/2017 8:35</td>\n",
       "      <td>inverter</td>\n",
       "      <td>14 nov: we were alerted that e-c3-1 had faulte...</td>\n",
       "      <td>019 - Unplanned outage/derate.</td>\n",
       "      <td>Underperformance</td>\n",
       "      <td>54</td>\n",
       "      <td>[2017-11-14 07:46:00, 2017-03-01 07:46:00]</td>\n",
       "      <td>nov alerted e c faulted upon investigation not...</td>\n",
       "      <td>[nov, alerted, e, c, faulted, upon, investigat...</td>\n",
       "      <td>inverter</td>\n",
       "    </tr>\n",
       "    <tr>\n",
       "      <th>4</th>\n",
       "      <td>4/27/2019 9:00</td>\n",
       "      <td>5/2/2019 17:00</td>\n",
       "      <td>facility</td>\n",
       "      <td>assessed condition filters all inverters. litt...</td>\n",
       "      <td>.</td>\n",
       "      <td>NaN</td>\n",
       "      <td>45</td>\n",
       "      <td>[]</td>\n",
       "      <td>assessed condition filters inverters little cl...</td>\n",
       "      <td>[assessed, condition, filters, inverters, litt...</td>\n",
       "      <td>system</td>\n",
       "    </tr>\n",
       "  </tbody>\n",
       "</table>\n",
       "</div>"
      ],
      "text/plain": [
       "   Date_EventStart    Date_EventEnd        Asset  \\\n",
       "0   8/16/2018 9:00  8/22/2018 17:00     combiner   \n",
       "1  9/17/2018 18:25   9/18/2018 9:50  transformer   \n",
       "2   8/26/2019 9:00  11/5/2019 17:00     facility   \n",
       "3  11/14/2017 7:46  11/14/2017 8:35     inverter   \n",
       "4   4/27/2019 9:00   5/2/2019 17:00     facility   \n",
       "\n",
       "                                      CompletionDesc  \\\n",
       "0  cb 1.18 was found to have contactor issue woul...   \n",
       "1                  self resolved. techdispatched: no   \n",
       "2  all module rows washed, waiting for final repo...   \n",
       "3  14 nov: we were alerted that e-c3-1 had faulte...   \n",
       "4  assessed condition filters all inverters. litt...   \n",
       "\n",
       "                             Cause       ImpactLevel  randid  \\\n",
       "0                 0000 - Unknown.   Underperformance      38   \n",
       "1            004 - Under voltage.   Underperformance      46   \n",
       "2                   0000 - Unknown  Underperformance      62   \n",
       "3  019 - Unplanned outage/derate.   Underperformance      54   \n",
       "4                               .                NaN      45   \n",
       "\n",
       "                               ExtractedDates  \\\n",
       "0                                          []   \n",
       "1                                          []   \n",
       "2                       [2019-09-01 09:00:00]   \n",
       "3  [2017-11-14 07:46:00, 2017-03-01 07:46:00]   \n",
       "4                                          []   \n",
       "\n",
       "                                           CleanDesc  \\\n",
       "0  cb found contactor issue would close contactor...   \n",
       "1                       self resolved techdispatched   \n",
       "2  module rows washed waiting final report sun power   \n",
       "3  nov alerted e c faulted upon investigation not...   \n",
       "4  assessed condition filters inverters little cl...   \n",
       "\n",
       "                                  CleanDescTokenized Keyword_Asset  \n",
       "0  [cb, found, contactor, issue, would, close, co...      combiner  \n",
       "1                   [self, resolved, techdispatched]           NaN  \n",
       "2  [module, rows, washed, waiting, final, report,...        module  \n",
       "3  [nov, alerted, e, c, faulted, upon, investigat...      inverter  \n",
       "4  [assessed, condition, filters, inverters, litt...        system  "
      ]
     },
     "execution_count": 5,
     "metadata": {},
     "output_type": "execute_result"
    }
   ],
   "source": [
    "# where to take tokenized data from, and where to write out \"prediction\"\n",
    "data_predicted_dict = dict(data='CleanDescTokenized', predicted_col='Keyword_Asset')\n",
    "\n",
    "df = text_classify.get_attributes_from_keywords(df, data_predicted_dict, pv_reference_df, reference_col_dict)\n",
    "df.head()"
   ]
  },
  {
   "cell_type": "markdown",
   "metadata": {},
   "source": [
    "Now, let's score our classification. We can consider those with no asset found as \"other\"."
   ]
  },
  {
   "cell_type": "code",
   "execution_count": 6,
   "metadata": {},
   "outputs": [
    {
     "name": "stdout",
     "output_type": "stream",
     "text": [
      "73.0% of entries had a keyword of interest. Keyword-based classification was 26.8% accurate.\n"
     ]
    }
   ],
   "source": [
    "fraction_with_labels = df['Keyword_Asset'].notnull().mean()\n",
    "\n",
    "# replace missing label with 'other'\n",
    "df_clean = df.copy()\n",
    "df_clean['Keyword_Asset'] = df_clean['Keyword_Asset'].fillna('other')\n",
    "\n",
    "# some index labels have multiple \"guesses\", so we need to group by the index first and compute the average accuracy for each index label\n",
    "score_by_label = df_clean.groupby(level=0).apply(lambda x: accuracy_score(y_true=x['Asset'], y_pred=x['Keyword_Asset']))\n",
    "\n",
    "# now, we can compute the overall accuracy\n",
    "score = score_by_label.mean()\n",
    "msg = f'{fraction_with_labels:.1%} of entries had a keyword of interest. Keyword-based classification was {score:.1%} accurate.'\n",
    "print(msg)"
   ]
  },
  {
   "cell_type": "markdown",
   "metadata": {},
   "source": [
    "We can see this method has limitations--it requires a known keyword to be present to make a prediction, and even when a label is able to be predicted, the accuracy is poor. We can understand this further by plotting a confusion matrix:"
   ]
  },
  {
   "cell_type": "code",
   "execution_count": 7,
   "metadata": {},
   "outputs": [
    {
     "name": "stdout",
     "output_type": "stream",
     "text": [
      "NOTE: Predicted values\n",
      "['system', 'outage', 'switchgear', 'communication', 'recloser', 'grid', 'wiring', 'meter', 'solar', 'preventative_maintence']\n",
      "had no actual values in the dataset.\n"
     ]
    },
    {
     "data": {
      "image/png": "[encoded data removed]",
      "text/plain": [
       "<Figure size 1200x600 with 2 Axes>"
      ]
     },
     "metadata": {},
     "output_type": "display_data"
    }
   ],
   "source": [
    "data_predicted_dict['attribute_col'] = 'Asset'\n",
    "_, ax = plt.subplots(figsize=(12,6))\n",
    "text_visualize.visualize_classification_confusion_matrix(df_clean, data_predicted_dict, ax=ax);"
   ]
  },
  {
   "cell_type": "markdown",
   "metadata": {},
   "source": [
    "The more accurate the model is, the more the values in the confusion matrix will be concentrated along the diagonal. We can see that the model correctly identifies all \"other\" labels and most of the \"combiner\" labels, but the accuracy on other labels is rather poor.\n",
    "\n",
    "In text module tutorial 3, we will improve on this accuracy by leveraging machine-learning based approaches."
   ]
  }
 ],
 "metadata": {
  "kernelspec": {
   "display_name": "pvops",
   "language": "python",
   "name": "python3"
  },
  "language_info": {
   "codemirror_mode": {
    "name": "ipython",
    "version": 3
   },
   "file_extension": ".py",
   "mimetype": "text/x-python",
   "name": "python",
   "nbconvert_exporter": "python",
   "pygments_lexer": "ipython3",
   "version": "3.12.9"
  },
  "orig_nbformat": 4
 },
 "nbformat": 4,
 "nbformat_minor": 2
}
