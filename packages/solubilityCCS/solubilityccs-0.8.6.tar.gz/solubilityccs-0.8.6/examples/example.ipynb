{
 "cells": [
  {
   "cell_type": "markdown",
   "metadata": {},
   "source": [
    "# SolubilityCCS Example - Acid Formation Analysis\n",
    "\n",
    "This notebook demonstrates how to use the SolubilityCCS package to analyze acid formation behavior in Carbon Capture and Storage (CCS) systems.\n",
    "\n",
    "**Requirements:**\n",
    "- Python 3.9+ \n",
    "- SolubilityCCS package with all dependencies\n",
    "\n",
    "**What this example covers:**\n",
    "- Setting up a fluid system with CO2, acid (H2SO4), and water\n",
    "- Calculating phase behavior and acid formation risk\n",
    "- Extracting CO2 thermodynamic properties"
   ]
  },
  {
   "cell_type": "code",
   "execution_count": null,
   "metadata": {},
   "outputs": [],
   "source": [
    "from solubilityccs import Fluid"
   ]
  },
  {
   "cell_type": "code",
   "execution_count": 13,
   "metadata": {},
   "outputs": [
    {
     "name": "stdout",
     "output_type": "stream",
     "text": [
      "Water in CO2 836.4133372179429\n"
     ]
    }
   ],
   "source": [
    "temperature = -33  # C\n",
    "pressure = 13  # bara\n",
    "# Mt/year - flow rate for calculating liquid acid formation\n",
    "flow_rate = 10\n",
    "H2O = 10000\n",
    "HNO3 = 0\n",
    "H2SO4 = 0\n",
    "CO2 = 1e6 - H2O - HNO3 - H2SO4  # mole\n",
    "\n",
    "fluid = Fluid()\n",
    "fluid.add_component(\"CO2\", CO2)  # mole\n",
    "fluid.add_component(\"H2O\", H2O)  # mole\n",
    "# fluid.add_component(\"HNO3\", HNO3)  # mole\n",
    "fluid.add_component(\"H2SO4\", H2SO4)  # mole\n",
    "fluid.set_temperature(temperature + 273.15)  # to Kelvin\n",
    "fluid.set_pressure(pressure)  # bara\n",
    "fluid.set_flow_rate(flow_rate * 1e6 * 1000 / (365 * 24), \"kg/hr\")\n",
    "fluid.calc_vapour_pressure()\n",
    "fluid.flash_activity()\n",
    "\n",
    "print(\"Water in CO2\", fluid.phases[0].get_component_fraction(\"H2O\") * 1e6)"
   ]
  },
  {
   "cell_type": "code",
   "execution_count": null,
   "metadata": {},
   "outputs": [
    {
     "name": "stdout",
     "output_type": "stream",
     "text": [
      "🔄 Testing updated formatting (all values with 2 decimal places):\n",
      "============================================================\n",
      "═════════════════════════════════════════════════════════════════\n",
      "                 SOLUBILITY CCS ANALYSIS RESULTS\n",
      "═════════════════════════════════════════════════════════════════\n",
      "\n",
      "📋 SYSTEM OVERVIEW\n",
      "───────────────────────────────────\n",
      "Temperature:          -30.00 °C\n",
      "Pressure:             70.00 bara\n",
      "\n",
      "⚗️  PHASE BEHAVIOR ASSESSMENT\n",
      "───────────────────────────────────\n",
      "✅ STATUS: Single gas phase - No acid formation risk\n",
      "🟢 RISK LEVEL: Safe operation\n",
      "\n",
      "LIQUID CO2 PHASE COMPOSITION\n",
      "───────────────────────────────────\n",
      "Water in CO₂:         10.00 ppm (mol)\n",
      "HNO3 in CO₂:        1.00 ppm (mol)\n",
      "\n",
      "PURE CO₂ PROPERTIES\n",
      "───────────────────────────────────\n",
      "Density:              1004.62 kg/m³\n",
      "Speed of Sound:       605.08 m/s\n",
      "Enthalpy:             -236.61 kJ/kg\n",
      "Entropy:              -64.41 J/K\n",
      "\n",
      "═════════════════════════════════════════════════════════════════\n",
      "              📊 Analysis Complete | SolubilityCCS\n",
      "═════════════════════════════════════════════════════════════════\n"
     ]
    }
   ],
   "source": [
    "# Test the updated formatting - all values should now show 2 decimal places\n",
    "print(\"🔄 Testing updated formatting (all values with 2 decimal places):\")\n",
    "print(\"=\" * 60)"
   ]
  },
  {
   "cell_type": "code",
   "execution_count": 2,
   "metadata": {},
   "outputs": [
    {
     "data": {
      "text/plain": [
       "np.float64(2.1546535219304794)"
      ]
     },
     "execution_count": 2,
     "metadata": {},
     "output_type": "execute_result"
    }
   ],
   "source": [
    "fluid = Fluid()\n",
    "fluid.set_temperature(298)\n",
    "fluid.set_pressure(100)\n",
    "fluid.get_acid_solubility(\"H2SO4\", 0.9)"
   ]
  },
  {
   "cell_type": "code",
   "execution_count": null,
   "metadata": {},
   "outputs": [],
   "source": [
    "temperature = 20  # C\n",
    "pressure = 100  # bara\n",
    "# Mt/year - flow rate for calculating liquid acid formation\n",
    "flow_rate = 10\n",
    "H2O = 20\n",
    "HNO3 = 10\n",
    "H2SO4 = 10\n",
    "CO2 = 1e6 - H2O - HNO3 - H2SO4  # mole\n",
    "\n",
    "fluid = Fluid()\n",
    "fluid.add_component(\"CO2\", CO2)  # mole\n",
    "fluid.add_component(\"H2O\", H2O)  # mole\n",
    "# fluid.add_component(\"HNO3\", HNO3)  # mole\n",
    "fluid.add_component(\"H2SO4\", H2SO4)  # mole\n",
    "fluid.set_temperature(temperature + 273.15)  # to Kelvin\n",
    "fluid.set_pressure(pressure)  # bara\n",
    "fluid.set_flow_rate(flow_rate * 1e6 * 1000 / (365 * 24), \"kg/hr\")\n",
    "fluid.calc_vapour_pressure()\n",
    "fluid.flash_activity()"
   ]
  },
  {
   "cell_type": "code",
   "execution_count": 2,
   "metadata": {},
   "outputs": [
    {
     "data": {
      "text/plain": [
       "np.float64(2.1546535219304794)"
      ]
     },
     "execution_count": 2,
     "metadata": {},
     "output_type": "execute_result"
    }
   ],
   "source": [
    "fluid = Fluid()\n",
    "fluid.set_temperature(298)\n",
    "fluid.set_pressure(100)\n",
    "fluid.get_acid_solubility(\"H2SO4\", 0.9)"
   ]
  },
  {
   "cell_type": "code",
   "execution_count": null,
   "metadata": {},
   "outputs": [
    {
     "name": "stdout",
     "output_type": "stream",
     "text": [
      "6.887271766906963\n"
     ]
    }
   ],
   "source": [
    "acid = \"H2SO4\"\n",
    "concentration = 0.9\n",
    "fluid = Fluid()\n",
    "fluid.set_temperature(273 + 50)\n",
    "fluid.set_pressure(170)\n",
    "fluid.add_component(\"CO2\", 1)\n",
    "fluid.add_component(\"H2O\", 1)\n",
    "fluid.add_component(\"H2SO4\", 1)\n",
    "\n",
    "components = [\"CO2\", \"H2O\", acid]\n",
    "yi = [1, 300 * 1e-6, 10 * 1e-6]\n",
    "xi = [0, 1 - concentration, concentration]\n",
    "fluid.components = components\n",
    "fluid.get_phase(0).set_phase(components, yi, 0.5, \"gas\")\n",
    "fluid.get_phase(1).set_phase(components, xi, 0.5, \"liquid\")\n",
    "fluid.calc_vapour_pressure()\n",
    "fluid.calc_fugacicy_coefficient_neqsim_CPA()\n",
    "fluid.init()\n",
    "solubility_ppm = (\n",
    "    1e6\n",
    "    * fluid.get_component_activity(acid)\n",
    "    / (fluid.fug_coeff[fluid.components.index(acid)] * fluid.pressure)\n",
    ")\n",
    "print(solubility_ppm)\n",
    "print(fluid)"
   ]
  }
 ],
 "metadata": {
  "kernelspec": {
   "display_name": "venv (3.9.2)",
   "language": "python",
   "name": "python3"
  },
  "language_info": {
   "codemirror_mode": {
    "name": "ipython",
    "version": 3
   },
   "file_extension": ".py",
   "mimetype": "text/x-python",
   "name": "python",
   "nbconvert_exporter": "python",
   "pygments_lexer": "ipython3",
   "version": "3.9.2"
  }
 },
 "nbformat": 4,
 "nbformat_minor": 2
}
