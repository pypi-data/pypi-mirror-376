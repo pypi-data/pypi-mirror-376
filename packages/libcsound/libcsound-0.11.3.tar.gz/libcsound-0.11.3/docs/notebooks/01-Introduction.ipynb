{
 "cells": [
  {
   "cell_type": "markdown",
   "metadata": {},
   "source": [
    "# First Steps"
   ]
  },
  {
   "cell_type": "markdown",
   "metadata": {},
   "source": [
    "The Csound API is a set of C functions and C++ classes that expose to hosts programs the functionalities of Csound.\n",
    "\n",
    "**libcsound** is a python module wrapping the access to the Csound API using two Python classes: *Csound* and *PerformanceThread*. **libcsound** uses **ctypes** to access C shared libraries. \n",
    "\n",
    "**NB**: csound itself needs to be installed in order to use **libcsound**"
   ]
  },
  {
   "cell_type": "code",
   "execution_count": 1,
   "metadata": {},
   "outputs": [
    {
     "name": "stdout",
     "output_type": "stream",
     "text": [
      "7000\n"
     ]
    }
   ],
   "source": [
    "import libcsound\n",
    "print(libcsound.VERSION)"
   ]
  },
  {
   "cell_type": "markdown",
   "metadata": {},
   "source": [
    "## Csound Instance\n",
    "\n",
    "Creating a `Csound` instance spawns a csound process."
   ]
  },
  {
   "cell_type": "code",
   "execution_count": 2,
   "metadata": {},
   "outputs": [],
   "source": [
    "cs = libcsound.Csound()"
   ]
  },
  {
   "cell_type": "markdown",
   "metadata": {},
   "source": [
    "This object can return useful information about the underlying process"
   ]
  },
  {
   "cell_type": "code",
   "execution_count": 3,
   "metadata": {},
   "outputs": [
    {
     "name": "stdout",
     "output_type": "stream",
     "text": [
      "Version id: 7000, version tuple: 7.0.0\n",
      "[OpcodeDef(name='ATSadd', outtypes='a', intypes='kkSiiopo', flags=0),\n",
      " OpcodeDef(name='ATSadd', outtypes='a', intypes='kkiiiopo', flags=0),\n",
      " OpcodeDef(name='ATSaddnz', outtypes='a', intypes='kSiop', flags=0),\n",
      " OpcodeDef(name='ATSaddnz', outtypes='a', intypes='kiiop', flags=0),\n",
      " OpcodeDef(name='ATSbufread', outtypes='', intypes='kkSiop', flags=0),\n",
      " OpcodeDef(name='ATSbufread', outtypes='', intypes='kkiiop', flags=0),\n",
      " OpcodeDef(name='ATScross', outtypes='a', intypes='kkSikkiopoo', flags=0),\n",
      " OpcodeDef(name='ATScross', outtypes='a', intypes='kkiikkiopoo', flags=0),\n",
      " OpcodeDef(name='ATSinfo', outtypes='i', intypes='Si', flags=0),\n",
      " OpcodeDef(name='ATSinfo', outtypes='i', intypes='ii', flags=0),\n",
      " OpcodeDef(name='ATSinterpread', outtypes='k', intypes='k', flags=0),\n",
      " OpcodeDef(name='ATSpartialtap', outtypes='kk', intypes='i', flags=0),\n",
      " OpcodeDef(name='ATSread', outtypes='kk', intypes='kSi', flags=0),\n",
      " OpcodeDef(name='ATSread', outtypes='kk', intypes='kii', flags=0),\n",
      " OpcodeDef(name='ATSreadnz', outtypes='k', intypes='kSi', flags=0),\n",
      " OpcodeDef(name='ATSreadnz', outtypes='k', intypes='kii', flags=0),\n",
      " OpcodeDef(name='ATSsinnoi', outtypes='a', intypes='kkkkSiop', flags=0),\n",
      " OpcodeDef(name='ATSsinnoi', outtypes='a', intypes='kkkkiiop', flags=0),\n",
      " OpcodeDef(name='K35_hpf', outtypes='a', intypes='axxOPo', flags=0),\n",
      " OpcodeDef(name='K35_lpf', outtypes='a', intypes='axxOPo', flags=0)]\n",
      "\n",
      "--- OSC opcodes ---\n",
      "\n",
      "{'OSCbundle',\n",
      " 'OSCcount',\n",
      " 'OSCinit',\n",
      " 'OSCinitM',\n",
      " 'OSClisten',\n",
      " 'OSCraw',\n",
      " 'OSCsend',\n",
      " 'OSCsend_lo'}\n"
     ]
    }
   ],
   "source": [
    "from pprint import pprint\n",
    "\n",
    "csoundversion = cs.version()\n",
    "majorver = csoundversion // 1000\n",
    "minorver = (csoundversion % 1000) // 100\n",
    "\n",
    "print(f\"Version id: {csoundversion}, version tuple: {majorver}.{minorver}.{csoundversion%10}\")\n",
    "\n",
    "# On csound 6 there is an api version, this does not exist in csound 7\n",
    "if csoundversion < 7000:\n",
    "    print(f\"API version: {cs.APIVersion()}\")\n",
    "\n",
    "# List of available opcodes, print only the beginning of the list\n",
    "pprint(cs.getOpcodes()[:20])\n",
    "\n",
    "# List OSC opcodes\n",
    "print(\"\\n--- OSC opcodes ---\\n\")\n",
    "pprint(set(opc.name for opc in cs.getOpcodes() if opc.name.startswith(\"OSC\")))"
   ]
  },
  {
   "cell_type": "code",
   "execution_count": 4,
   "metadata": {},
   "outputs": [
    {
     "name": "stderr",
     "output_type": "stream",
     "text": [
      "\t\t   overall amps:\u001b[m      0.0\n",
      "\t   overall samples out of range:\u001b[m        0\u001b[m\n",
      "0 errors in performance\n",
      "\u001b[mElapsed time at end of performance: real: 1.653s, CPU: 0.140s\n",
      "\u001b[m"
     ]
    }
   ],
   "source": [
    "del cs"
   ]
  },
  {
   "cell_type": "markdown",
   "metadata": {},
   "source": [
    "## Performing an orchestra\n",
    "\n",
    "csound code can be compiled in the form of an external .csd file, the text inside the .csd file or just csound orchestra. \n",
    "\n",
    "In this case we will be performing in real-time, so we need to set the output to `dac`. "
   ]
  },
  {
   "cell_type": "code",
   "execution_count": 2,
   "metadata": {},
   "outputs": [
    {
     "data": {
      "text/plain": [
       "0"
      ]
     },
     "execution_count": 2,
     "metadata": {},
     "output_type": "execute_result"
    }
   ],
   "source": [
    "cs = libcsound.Csound()\n",
    "cs.setOption('-odac')"
   ]
  },
  {
   "cell_type": "markdown",
   "metadata": {},
   "source": [
    "Now we need to compile some actual code. Notice that settings like `ksmps` (number of samples per computation cycle) and `0dbfs` (amplitude scaling) need to be set at the first compilation action. "
   ]
  },
  {
   "cell_type": "code",
   "execution_count": 3,
   "metadata": {},
   "outputs": [
    {
     "name": "stderr",
     "output_type": "stream",
     "text": [
      "PSET: isno=??, pmax=7\n"
     ]
    },
    {
     "data": {
      "text/plain": [
       "0"
      ]
     },
     "execution_count": 3,
     "metadata": {},
     "output_type": "execute_result"
    }
   ],
   "source": [
    "cs.compileOrc(r'''\n",
    "sr = 44100\n",
    "ksmps = 64\n",
    "0dbfs = 1\n",
    "\n",
    "instr 1\n",
    "  ; set default values\n",
    "  ;             p4   p5  p6    p7\n",
    "  pset 0, 0, 0, 0.1, 60, 0.01, 0.2\n",
    "  iamp = p4\n",
    "  ipitch = p5\n",
    "  iattack = p6\n",
    "  irelease = p7\n",
    "  a0 = vco2(iamp, mtof(ipitch)) * linsegr:a(0, iattack, 1, irelease, 0)\n",
    "  outch 1, a0\n",
    "endin\n",
    "''')"
   ]
  },
  {
   "cell_type": "markdown",
   "metadata": {},
   "source": [
    "Schedule some events"
   ]
  },
  {
   "cell_type": "code",
   "execution_count": 4,
   "metadata": {},
   "outputs": [],
   "source": [
    "score = [\n",
    "    (1, 0, 10, 0.1, 60),\n",
    "    (1, 0.5, 10, 0.05, 62)   \n",
    "]\n",
    "\n",
    "for event in score:\n",
    "    cs.scoreEvent('i', event)\n",
    "\n",
    "# Since we are in realtime mode, we need to set the end time of the performance\n",
    "# so that the perform loop ever returns\n",
    "cs.setEndMarker(11)"
   ]
  },
  {
   "cell_type": "markdown",
   "metadata": {},
   "source": [
    "To actually perform the score we need to call `.perform()`, which executes all the events scheduled until now"
   ]
  },
  {
   "cell_type": "code",
   "execution_count": 5,
   "metadata": {},
   "outputs": [
    {
     "name": "stderr",
     "output_type": "stream",
     "text": [
      "--Csound version 7.0 (double samples) Jan  3 2025\n",
      "[commit: 7e3505c5d43b0d433091bc5e9ca973162cc35ce4]\n",
      "\u001b[mlibsndfile-1.2.2\n",
      "\u001b[mgraphics suppressed, ascii substituted\n",
      "sr = 44100.0,\u001b[m kr = 689.062,\u001b[m ksmps = 64\n",
      "\u001b[m0dBFS level = 1.0,\u001b[m A4 tuning = 440.0\n",
      "\u001b[morch now loaded\n",
      "\u001b[maudio buffered in 256 sample-frame blocks\n",
      "\u001b[mALSA output: total buffer size: 1024, period size: 256\n",
      "writing 256 sample blks of 64-bit floats to dac\n",
      "SECTION 1:\n",
      "\u001b[mnew alloc for instr 1:\n",
      "\t   T  0.501 TT  0.501 M:  0.11661\n",
      "new alloc for instr 1:\n",
      "\t   T 11.000 TT 11.000 M:  0.17023\n",
      "End of Performance "
     ]
    },
    {
     "data": {
      "text/plain": [
       "1"
      ]
     },
     "execution_count": 5,
     "metadata": {},
     "output_type": "execute_result"
    }
   ],
   "source": [
    "cs.perform()"
   ]
  },
  {
   "cell_type": "markdown",
   "metadata": {},
   "source": [
    "## Scheduling events\n",
    "\n",
    "If some kind of interaction between the running csound process and python is needed, it is possible to use `.performKsmps()`, which processes one cycle of samples at a time (determined by `ksmps`) and yields control to the user.\n",
    "\n",
    "In the example below we use this to schedule events by calculating time from python. This is just to show that any kind of process from python can be used to interact with a running csound instance"
   ]
  },
  {
   "cell_type": "code",
   "execution_count": 50,
   "metadata": {},
   "outputs": [
    {
     "name": "stdout",
     "output_type": "stream",
     "text": [
      "\n",
      "Press I-I to interrupt\n",
      "\n"
     ]
    },
    {
     "name": "stderr",
     "output_type": "stream",
     "text": [
      "--Csound version 7.0 (double samples) Jan  3 2025\n",
      "[commit: 7e3505c5d43b0d433091bc5e9ca973162cc35ce4]\n",
      "\u001b[mlibsndfile-1.2.2\n",
      "\u001b[mgraphics suppressed, ascii substituted\n",
      "sr = 44100.0,\u001b[m kr = 689.062,\u001b[m ksmps = 64\n",
      "\u001b[m0dBFS level = 1.0,\u001b[m A4 tuning = 440.0\n",
      "\u001b[morch now loaded\n",
      "\u001b[maudio buffered in 256 sample-frame blocks\n",
      "\u001b[mALSA output: total buffer size: 1024, period size: 256\n",
      "writing 512 sample blks of 64-bit floats to dac\n",
      "SECTION 1:\n",
      "\u001b[m"
     ]
    },
    {
     "ename": "KeyboardInterrupt",
     "evalue": "",
     "output_type": "error",
     "traceback": [
      "\u001b[0;31m---------------------------------------------------------------------------\u001b[0m",
      "\u001b[0;31mKeyboardInterrupt\u001b[0m                         Traceback (most recent call last)",
      "Cell \u001b[0;32mIn[50], line 60\u001b[0m\n\u001b[1;32m     57\u001b[0m         rel \u001b[38;5;241m=\u001b[39m \u001b[38;5;241m0.3\u001b[39m\n\u001b[1;32m     58\u001b[0m     \u001b[38;5;28;01mreturn\u001b[39;00m dur, amp, att, rel\n\u001b[0;32m---> 60\u001b[0m \u001b[38;5;28;01mwhile\u001b[39;00m \u001b[43mcs\u001b[49m\u001b[38;5;241;43m.\u001b[39;49m\u001b[43mperformKsmps\u001b[49m\u001b[43m(\u001b[49m\u001b[43m)\u001b[49m \u001b[38;5;241m==\u001b[39m libcsound\u001b[38;5;241m.\u001b[39mCSOUND_SUCCESS:\n\u001b[1;32m     61\u001b[0m     t \u001b[38;5;241m=\u001b[39m time\u001b[38;5;241m.\u001b[39mtime()\n\u001b[1;32m     62\u001b[0m     \u001b[38;5;28;01mif\u001b[39;00m t \u001b[38;5;241m-\u001b[39m tchord \u001b[38;5;241m>\u001b[39m \u001b[38;5;241m8\u001b[39m:\n",
      "File \u001b[0;32m~/dev/python/libcsound/libcsound/api7.py:1082\u001b[0m, in \u001b[0;36mCsound.performKsmps\u001b[0;34m(self)\u001b[0m\n\u001b[1;32m   1080\u001b[0m \u001b[38;5;28;01mif\u001b[39;00m \u001b[38;5;129;01mnot\u001b[39;00m \u001b[38;5;28mself\u001b[39m\u001b[38;5;241m.\u001b[39m_started:\n\u001b[1;32m   1081\u001b[0m     \u001b[38;5;28mself\u001b[39m\u001b[38;5;241m.\u001b[39mstart()\n\u001b[0;32m-> 1082\u001b[0m \u001b[38;5;28;01mreturn\u001b[39;00m \u001b[38;5;28mbool\u001b[39m(\u001b[43mlibcsound\u001b[49m\u001b[38;5;241;43m.\u001b[39;49m\u001b[43mcsoundPerformKsmps\u001b[49m\u001b[43m(\u001b[49m\u001b[38;5;28;43mself\u001b[39;49m\u001b[38;5;241;43m.\u001b[39;49m\u001b[43mcs\u001b[49m\u001b[43m)\u001b[49m)\n",
      "\u001b[0;31mKeyboardInterrupt\u001b[0m: "
     ]
    }
   ],
   "source": [
    "import random\n",
    "import time\n",
    "\n",
    "# We need this in order to be able to use keyboard interrupt. Otherwise csound\n",
    "# itself sets a signal handler and python looses control \n",
    "libcsound.csoundInitialize(signalHandler=False, atExitHandler=False)\n",
    "\n",
    "cs = libcsound.Csound()\n",
    "\n",
    "# Realtime processing\n",
    "cs.setOption('-odac')\n",
    "\n",
    "# Disable printing whenever a new event is scheduled\n",
    "cs.setOption('-m128')\n",
    "\n",
    "# The orchestra\n",
    "cs.compileOrc(r'''\n",
    "sr = 44100\n",
    "nchnls = 2\n",
    "ksmps = 64\n",
    "0dbfs = 1\n",
    "\n",
    "instr 1\n",
    "  iamp = p4\n",
    "  ipitch = p5\n",
    "  iattack = p6 \n",
    "  irelease = p7 \n",
    "  a0 = oscili(iamp, mtof(ipitch)) + oscili(iamp, mtof(ipitch+0.12))\n",
    "  outall a0 * linsegr:a(0, iattack, 1, iattack*2, 0.2, irelease, 0)\n",
    "endin\n",
    "''')\n",
    "\n",
    "print(\"\\nPress I-I to interrupt\\n\")\n",
    "\n",
    "# Schedule a note every 1/8 of a second. The pitch is chosen at random\n",
    "# from a given scale, in this case a c-major scale\n",
    "# A set of pitch classes are selected at random from the given\n",
    "# scale and if the random pitch is part of that class certain\n",
    "# parameters are modified\n",
    "\n",
    "t0 = tchord = time.time()\n",
    "scale = [0, 2, 4, 5, 7, 9, 11]\n",
    "pitches = [60 + 12 * octave + step for octave in [0, 1, 2] for step in scale]\n",
    "chords = [(2, 4, 7), (4, 5), (2, 7, 11), (0, 5, 9), (9, 11), (0, 2), (0, 4, 7)]\n",
    "chord = random.choice(chords)\n",
    "\n",
    "def getparams(pitch, chord):\n",
    "    if pitch % 12 in chord:\n",
    "        dur = random.uniform(1.5, 2.5)\n",
    "        amp = random.uniform(0.04, 0.2)\n",
    "        att = random.uniform(0.01, 0.1)\n",
    "        rel = random.uniform(0.4, 0.8)\n",
    "    else:\n",
    "        dur = random.uniform(0.1, 0.2)\n",
    "        amp = random.uniform(0.04, 0.08)\n",
    "        att = 0.01\n",
    "        rel = 0.3\n",
    "    return dur, amp, att, rel\n",
    "        \n",
    "while cs.performKsmps() == libcsound.CSOUND_SUCCESS:\n",
    "    t = time.time()\n",
    "    if t - tchord > 8:\n",
    "        chord = random.choice(chords)\n",
    "        tchord = t\n",
    "    if t - t0 > 1/8.:\n",
    "        pitch = random.choice(pitches)\n",
    "        dur, amp, att, rel = getparams(pitch, chord)\n",
    "        cs.scoreEvent('i', (1, 0, dur, amp, random.choice(pitches), att, rel))\n",
    "        t0 = t\n"
   ]
  },
  {
   "cell_type": "markdown",
   "metadata": {},
   "source": [
    "The same can be achieved with csound counting time"
   ]
  },
  {
   "cell_type": "code",
   "execution_count": 52,
   "metadata": {},
   "outputs": [
    {
     "ename": "KeyboardInterrupt",
     "evalue": "",
     "output_type": "error",
     "traceback": [
      "\u001b[0;31m---------------------------------------------------------------------------\u001b[0m",
      "\u001b[0;31mKeyboardInterrupt\u001b[0m                         Traceback (most recent call last)",
      "Cell \u001b[0;32mIn[52], line 4\u001b[0m\n\u001b[1;32m      1\u001b[0m sr \u001b[38;5;241m=\u001b[39m cs\u001b[38;5;241m.\u001b[39msr()\n\u001b[1;32m      2\u001b[0m t0 \u001b[38;5;241m=\u001b[39m cs\u001b[38;5;241m.\u001b[39mcurrentTimeSamples() \u001b[38;5;241m/\u001b[39m sr\n\u001b[0;32m----> 4\u001b[0m \u001b[38;5;28;01mwhile\u001b[39;00m \u001b[43mcs\u001b[49m\u001b[38;5;241;43m.\u001b[39;49m\u001b[43mperformKsmps\u001b[49m\u001b[43m(\u001b[49m\u001b[43m)\u001b[49m \u001b[38;5;241m==\u001b[39m libcsound\u001b[38;5;241m.\u001b[39mCSOUND_SUCCESS:\n\u001b[1;32m      5\u001b[0m     t \u001b[38;5;241m=\u001b[39m cs\u001b[38;5;241m.\u001b[39mcurrentTimeSamples() \u001b[38;5;241m/\u001b[39m sr   \u001b[38;5;66;03m#  <------------------ use csound time, the result should be very similar\u001b[39;00m\n\u001b[1;32m      6\u001b[0m     \u001b[38;5;28;01mif\u001b[39;00m t \u001b[38;5;241m-\u001b[39m tchord \u001b[38;5;241m>\u001b[39m \u001b[38;5;241m16\u001b[39m:\n",
      "File \u001b[0;32m~/dev/python/libcsound/libcsound/api7.py:1082\u001b[0m, in \u001b[0;36mCsound.performKsmps\u001b[0;34m(self)\u001b[0m\n\u001b[1;32m   1080\u001b[0m \u001b[38;5;28;01mif\u001b[39;00m \u001b[38;5;129;01mnot\u001b[39;00m \u001b[38;5;28mself\u001b[39m\u001b[38;5;241m.\u001b[39m_started:\n\u001b[1;32m   1081\u001b[0m     \u001b[38;5;28mself\u001b[39m\u001b[38;5;241m.\u001b[39mstart()\n\u001b[0;32m-> 1082\u001b[0m \u001b[38;5;28;01mreturn\u001b[39;00m \u001b[38;5;28mbool\u001b[39m(\u001b[43mlibcsound\u001b[49m\u001b[38;5;241;43m.\u001b[39;49m\u001b[43mcsoundPerformKsmps\u001b[49m\u001b[43m(\u001b[49m\u001b[38;5;28;43mself\u001b[39;49m\u001b[38;5;241;43m.\u001b[39;49m\u001b[43mcs\u001b[49m\u001b[43m)\u001b[49m)\n",
      "\u001b[0;31mKeyboardInterrupt\u001b[0m: "
     ]
    }
   ],
   "source": [
    "sr = cs.sr()\n",
    "t0 = cs.currentTimeSamples() / sr\n",
    "\n",
    "while cs.performKsmps() == libcsound.CSOUND_SUCCESS:\n",
    "    t = cs.currentTimeSamples() / sr   #  <------------------ use csound time, the result should be very similar\n",
    "    if t - tchord > 8:\n",
    "        chord = random.choice(chords)\n",
    "        tchord = t\n",
    "    if t - t0 > 1/8.:\n",
    "        pitch = random.choice(pitches)\n",
    "        dur, amp, att, rel = getparams(pitch, chord)\n",
    "        cs.scoreEvent('i', (1, 0, dur, amp, random.choice(pitches), att, rel))\n",
    "        t0 = t\n"
   ]
  },
  {
   "cell_type": "code",
   "execution_count": null,
   "metadata": {},
   "outputs": [],
   "source": []
  }
 ],
 "metadata": {
  "kernelspec": {
   "display_name": "Python 3 (ipykernel)",
   "language": "python",
   "name": "python3"
  },
  "language_info": {
   "codemirror_mode": {
    "name": "ipython",
    "version": 3
   },
   "file_extension": ".py",
   "mimetype": "text/x-python",
   "name": "python",
   "nbconvert_exporter": "python",
   "pygments_lexer": "ipython3",
   "version": "3.12.3"
  }
 },
 "nbformat": 4,
 "nbformat_minor": 4
}
