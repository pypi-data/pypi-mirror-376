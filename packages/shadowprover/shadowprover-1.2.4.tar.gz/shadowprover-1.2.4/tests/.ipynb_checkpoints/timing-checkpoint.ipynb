{
 "cells": [
  {
   "cell_type": "code",
   "execution_count": 51,
   "id": "ba0c14d1",
   "metadata": {
    "ExecuteTime": {
     "end_time": "2023-07-10T02:48:44.210807Z",
     "start_time": "2023-07-10T02:48:44.207671Z"
    }
   },
   "outputs": [],
   "source": [
    "import pandas as pd\n",
    "import seaborn as sns"
   ]
  },
  {
   "cell_type": "code",
   "execution_count": 52,
   "id": "d60704f0",
   "metadata": {
    "ExecuteTime": {
     "end_time": "2023-07-10T02:48:44.396030Z",
     "start_time": "2023-07-10T02:48:44.379113Z"
    }
   },
   "outputs": [],
   "source": [
    "df1 = pd.read_csv(\"./timing_object_level_attention.csv\", header=None)\n",
    "df2 = pd.read_csv(\"./timing_naive_selection_smallest.csv\", header=None)"
   ]
  },
  {
   "cell_type": "code",
   "execution_count": 53,
   "id": "79e19154",
   "metadata": {
    "ExecuteTime": {
     "end_time": "2023-07-10T02:48:44.531125Z",
     "start_time": "2023-07-10T02:48:44.527659Z"
    }
   },
   "outputs": [],
   "source": [
    "df1.columns = [\"name\", \"time taken (ms)\"]\n",
    "df2.columns = [\"name\", \"time taken (ms)\"]"
   ]
  },
  {
   "cell_type": "code",
   "execution_count": 54,
   "id": "4bbee7ef",
   "metadata": {
    "ExecuteTime": {
     "end_time": "2023-07-10T02:48:45.100935Z",
     "start_time": "2023-07-10T02:48:45.087974Z"
    }
   },
   "outputs": [
    {
     "data": {
      "text/html": [
       "<div>\n",
       "<style scoped>\n",
       "    .dataframe tbody tr th:only-of-type {\n",
       "        vertical-align: middle;\n",
       "    }\n",
       "\n",
       "    .dataframe tbody tr th {\n",
       "        vertical-align: top;\n",
       "    }\n",
       "\n",
       "    .dataframe thead th {\n",
       "        text-align: right;\n",
       "    }\n",
       "</style>\n",
       "<table border=\"1\" class=\"dataframe\">\n",
       "  <thead>\n",
       "    <tr style=\"text-align: right;\">\n",
       "      <th></th>\n",
       "      <th>name</th>\n",
       "      <th>time</th>\n",
       "      <th>method</th>\n",
       "      <th>prob</th>\n",
       "    </tr>\n",
       "  </thead>\n",
       "  <tbody>\n",
       "    <tr>\n",
       "      <th>0</th>\n",
       "      <td>*cognitive-calculus-completeness-test-1*</td>\n",
       "      <td>0.046744</td>\n",
       "      <td>object_level_attention</td>\n",
       "      <td>1*</td>\n",
       "    </tr>\n",
       "    <tr>\n",
       "      <th>1</th>\n",
       "      <td>*cognitive-calculus-completeness-test-2*</td>\n",
       "      <td>0.046597</td>\n",
       "      <td>object_level_attention</td>\n",
       "      <td>2*</td>\n",
       "    </tr>\n",
       "    <tr>\n",
       "      <th>2</th>\n",
       "      <td>*cognitive-calculus-completeness-test-3*</td>\n",
       "      <td>0.085662</td>\n",
       "      <td>object_level_attention</td>\n",
       "      <td>3*</td>\n",
       "    </tr>\n",
       "    <tr>\n",
       "      <th>3</th>\n",
       "      <td>*cognitive-calculus-completeness-test-4*</td>\n",
       "      <td>0.374317</td>\n",
       "      <td>object_level_attention</td>\n",
       "      <td>4*</td>\n",
       "    </tr>\n",
       "    <tr>\n",
       "      <th>4</th>\n",
       "      <td>*cognitive-calculus-completeness-test-5*</td>\n",
       "      <td>0.243406</td>\n",
       "      <td>object_level_attention</td>\n",
       "      <td>5*</td>\n",
       "    </tr>\n",
       "    <tr>\n",
       "      <th>...</th>\n",
       "      <td>...</td>\n",
       "      <td>...</td>\n",
       "      <td>...</td>\n",
       "      <td>...</td>\n",
       "    </tr>\n",
       "    <tr>\n",
       "      <th>265</th>\n",
       "      <td>*cognitive-calculus-completeness-test-22*</td>\n",
       "      <td>0.007289</td>\n",
       "      <td>naive_selection_smallest</td>\n",
       "      <td>22*</td>\n",
       "    </tr>\n",
       "    <tr>\n",
       "      <th>266</th>\n",
       "      <td>*cognitive-calculus-completeness-test-23*</td>\n",
       "      <td>0.007339</td>\n",
       "      <td>naive_selection_smallest</td>\n",
       "      <td>23*</td>\n",
       "    </tr>\n",
       "    <tr>\n",
       "      <th>267</th>\n",
       "      <td>*cognitive-calculus-completeness-test-24*</td>\n",
       "      <td>0.018204</td>\n",
       "      <td>naive_selection_smallest</td>\n",
       "      <td>24*</td>\n",
       "    </tr>\n",
       "    <tr>\n",
       "      <th>268</th>\n",
       "      <td>*cognitive-calculus-completeness-test-25*</td>\n",
       "      <td>0.416748</td>\n",
       "      <td>naive_selection_smallest</td>\n",
       "      <td>25*</td>\n",
       "    </tr>\n",
       "    <tr>\n",
       "      <th>269</th>\n",
       "      <td>*cognitive-calculus-completeness-test-26*</td>\n",
       "      <td>0.016575</td>\n",
       "      <td>naive_selection_smallest</td>\n",
       "      <td>26*</td>\n",
       "    </tr>\n",
       "  </tbody>\n",
       "</table>\n",
       "<p>540 rows × 4 columns</p>\n",
       "</div>"
      ],
      "text/plain": [
       "                                          name      time  \\\n",
       "0     *cognitive-calculus-completeness-test-1*  0.046744   \n",
       "1     *cognitive-calculus-completeness-test-2*  0.046597   \n",
       "2     *cognitive-calculus-completeness-test-3*  0.085662   \n",
       "3     *cognitive-calculus-completeness-test-4*  0.374317   \n",
       "4     *cognitive-calculus-completeness-test-5*  0.243406   \n",
       "..                                         ...       ...   \n",
       "265  *cognitive-calculus-completeness-test-22*  0.007289   \n",
       "266  *cognitive-calculus-completeness-test-23*  0.007339   \n",
       "267  *cognitive-calculus-completeness-test-24*  0.018204   \n",
       "268  *cognitive-calculus-completeness-test-25*  0.416748   \n",
       "269  *cognitive-calculus-completeness-test-26*  0.016575   \n",
       "\n",
       "                       method prob  \n",
       "0      object_level_attention   1*  \n",
       "1      object_level_attention   2*  \n",
       "2      object_level_attention   3*  \n",
       "3      object_level_attention   4*  \n",
       "4      object_level_attention   5*  \n",
       "..                        ...  ...  \n",
       "265  naive_selection_smallest  22*  \n",
       "266  naive_selection_smallest  23*  \n",
       "267  naive_selection_smallest  24*  \n",
       "268  naive_selection_smallest  25*  \n",
       "269  naive_selection_smallest  26*  \n",
       "\n",
       "[540 rows x 4 columns]"
      ]
     },
     "execution_count": 54,
     "metadata": {},
     "output_type": "execute_result"
    }
   ],
   "source": [
    "df"
   ]
  },
  {
   "cell_type": "code",
   "execution_count": 60,
   "id": "2bd0ecdf",
   "metadata": {
    "ExecuteTime": {
     "end_time": "2023-07-10T02:49:32.522422Z",
     "start_time": "2023-07-10T02:49:32.516114Z"
    }
   },
   "outputs": [],
   "source": [
    "df1[\"method\"] = \"Object-level attention\"\n",
    "df2[\"method\"] = \"Heuristic\""
   ]
  },
  {
   "cell_type": "code",
   "execution_count": 61,
   "id": "ecb62d80",
   "metadata": {
    "ExecuteTime": {
     "end_time": "2023-07-10T02:49:32.954277Z",
     "start_time": "2023-07-10T02:49:32.950383Z"
    }
   },
   "outputs": [],
   "source": [
    "df = pd.concat([df1 ,df2])"
   ]
  },
  {
   "cell_type": "code",
   "execution_count": 62,
   "id": "c93cf934",
   "metadata": {
    "ExecuteTime": {
     "end_time": "2023-07-10T02:49:33.831775Z",
     "start_time": "2023-07-10T02:49:33.827042Z"
    }
   },
   "outputs": [],
   "source": [
    "df[\"prob\"] = df.name.apply(lambda x: x.split(\"-\")[-1])"
   ]
  },
  {
   "cell_type": "code",
   "execution_count": 63,
   "id": "4d4f76ea",
   "metadata": {
    "ExecuteTime": {
     "end_time": "2023-07-10T02:49:34.132450Z",
     "start_time": "2023-07-10T02:49:34.031192Z"
    }
   },
   "outputs": [
    {
     "ename": "ValueError",
     "evalue": "Could not interpret input 'time '",
     "output_type": "error",
     "traceback": [
      "\u001b[0;31m---------------------------------------------------------------------------\u001b[0m",
      "\u001b[0;31mValueError\u001b[0m                                Traceback (most recent call last)",
      "Input \u001b[0;32mIn [63]\u001b[0m, in \u001b[0;36m<cell line: 1>\u001b[0;34m()\u001b[0m\n\u001b[0;32m----> 1\u001b[0m \u001b[43msns\u001b[49m\u001b[38;5;241;43m.\u001b[39;49m\u001b[43mpointplot\u001b[49m\u001b[43m(\u001b[49m\u001b[43mdf\u001b[49m\u001b[43m,\u001b[49m\u001b[43m \u001b[49m\u001b[43mx\u001b[49m\u001b[38;5;241;43m=\u001b[39;49m\u001b[38;5;124;43m\"\u001b[39;49m\u001b[38;5;124;43mprob\u001b[39;49m\u001b[38;5;124;43m\"\u001b[39;49m\u001b[43m,\u001b[49m\u001b[43m \u001b[49m\u001b[43my\u001b[49m\u001b[38;5;241;43m=\u001b[39;49m\u001b[38;5;124;43m\"\u001b[39;49m\u001b[38;5;124;43mtime \u001b[39;49m\u001b[38;5;124;43m\"\u001b[39;49m\u001b[43m,\u001b[49m\u001b[43m \u001b[49m\u001b[43mhue\u001b[49m\u001b[38;5;241;43m=\u001b[39;49m\u001b[38;5;124;43m\"\u001b[39;49m\u001b[38;5;124;43mmethod\u001b[39;49m\u001b[38;5;124;43m\"\u001b[39;49m\u001b[43m)\u001b[49m\n",
      "File \u001b[0;32m~/anaconda3/envs/pyspectra/lib/python3.10/site-packages/seaborn/categorical.py:2839\u001b[0m, in \u001b[0;36mpointplot\u001b[0;34m(data, x, y, hue, order, hue_order, estimator, errorbar, n_boot, units, seed, markers, linestyles, dodge, join, scale, orient, color, palette, errwidth, ci, capsize, label, ax)\u001b[0m\n\u001b[1;32m   2829\u001b[0m \u001b[38;5;28;01mdef\u001b[39;00m \u001b[38;5;21mpointplot\u001b[39m(\n\u001b[1;32m   2830\u001b[0m     data\u001b[38;5;241m=\u001b[39m\u001b[38;5;28;01mNone\u001b[39;00m, \u001b[38;5;241m*\u001b[39m, x\u001b[38;5;241m=\u001b[39m\u001b[38;5;28;01mNone\u001b[39;00m, y\u001b[38;5;241m=\u001b[39m\u001b[38;5;28;01mNone\u001b[39;00m, hue\u001b[38;5;241m=\u001b[39m\u001b[38;5;28;01mNone\u001b[39;00m, order\u001b[38;5;241m=\u001b[39m\u001b[38;5;28;01mNone\u001b[39;00m, hue_order\u001b[38;5;241m=\u001b[39m\u001b[38;5;28;01mNone\u001b[39;00m,\n\u001b[1;32m   2831\u001b[0m     estimator\u001b[38;5;241m=\u001b[39m\u001b[38;5;124m\"\u001b[39m\u001b[38;5;124mmean\u001b[39m\u001b[38;5;124m\"\u001b[39m, errorbar\u001b[38;5;241m=\u001b[39m(\u001b[38;5;124m\"\u001b[39m\u001b[38;5;124mci\u001b[39m\u001b[38;5;124m\"\u001b[39m, \u001b[38;5;241m95\u001b[39m), n_boot\u001b[38;5;241m=\u001b[39m\u001b[38;5;241m1000\u001b[39m, units\u001b[38;5;241m=\u001b[39m\u001b[38;5;28;01mNone\u001b[39;00m, seed\u001b[38;5;241m=\u001b[39m\u001b[38;5;28;01mNone\u001b[39;00m,\n\u001b[0;32m   (...)\u001b[0m\n\u001b[1;32m   2834\u001b[0m     capsize\u001b[38;5;241m=\u001b[39m\u001b[38;5;28;01mNone\u001b[39;00m, label\u001b[38;5;241m=\u001b[39m\u001b[38;5;28;01mNone\u001b[39;00m, ax\u001b[38;5;241m=\u001b[39m\u001b[38;5;28;01mNone\u001b[39;00m,\n\u001b[1;32m   2835\u001b[0m ):\n\u001b[1;32m   2837\u001b[0m     errorbar \u001b[38;5;241m=\u001b[39m utils\u001b[38;5;241m.\u001b[39m_deprecate_ci(errorbar, ci)\n\u001b[0;32m-> 2839\u001b[0m     plotter \u001b[38;5;241m=\u001b[39m \u001b[43m_PointPlotter\u001b[49m\u001b[43m(\u001b[49m\u001b[43mx\u001b[49m\u001b[43m,\u001b[49m\u001b[43m \u001b[49m\u001b[43my\u001b[49m\u001b[43m,\u001b[49m\u001b[43m \u001b[49m\u001b[43mhue\u001b[49m\u001b[43m,\u001b[49m\u001b[43m \u001b[49m\u001b[43mdata\u001b[49m\u001b[43m,\u001b[49m\u001b[43m \u001b[49m\u001b[43morder\u001b[49m\u001b[43m,\u001b[49m\u001b[43m \u001b[49m\u001b[43mhue_order\u001b[49m\u001b[43m,\u001b[49m\n\u001b[1;32m   2840\u001b[0m \u001b[43m                            \u001b[49m\u001b[43mestimator\u001b[49m\u001b[43m,\u001b[49m\u001b[43m \u001b[49m\u001b[43merrorbar\u001b[49m\u001b[43m,\u001b[49m\u001b[43m \u001b[49m\u001b[43mn_boot\u001b[49m\u001b[43m,\u001b[49m\u001b[43m \u001b[49m\u001b[43munits\u001b[49m\u001b[43m,\u001b[49m\u001b[43m \u001b[49m\u001b[43mseed\u001b[49m\u001b[43m,\u001b[49m\n\u001b[1;32m   2841\u001b[0m \u001b[43m                            \u001b[49m\u001b[43mmarkers\u001b[49m\u001b[43m,\u001b[49m\u001b[43m \u001b[49m\u001b[43mlinestyles\u001b[49m\u001b[43m,\u001b[49m\u001b[43m \u001b[49m\u001b[43mdodge\u001b[49m\u001b[43m,\u001b[49m\u001b[43m \u001b[49m\u001b[43mjoin\u001b[49m\u001b[43m,\u001b[49m\u001b[43m \u001b[49m\u001b[43mscale\u001b[49m\u001b[43m,\u001b[49m\n\u001b[1;32m   2842\u001b[0m \u001b[43m                            \u001b[49m\u001b[43morient\u001b[49m\u001b[43m,\u001b[49m\u001b[43m \u001b[49m\u001b[43mcolor\u001b[49m\u001b[43m,\u001b[49m\u001b[43m \u001b[49m\u001b[43mpalette\u001b[49m\u001b[43m,\u001b[49m\u001b[43m \u001b[49m\u001b[43merrwidth\u001b[49m\u001b[43m,\u001b[49m\u001b[43m \u001b[49m\u001b[43mcapsize\u001b[49m\u001b[43m,\u001b[49m\u001b[43m \u001b[49m\u001b[43mlabel\u001b[49m\u001b[43m)\u001b[49m\n\u001b[1;32m   2844\u001b[0m     \u001b[38;5;28;01mif\u001b[39;00m ax \u001b[38;5;129;01mis\u001b[39;00m \u001b[38;5;28;01mNone\u001b[39;00m:\n\u001b[1;32m   2845\u001b[0m         ax \u001b[38;5;241m=\u001b[39m plt\u001b[38;5;241m.\u001b[39mgca()\n",
      "File \u001b[0;32m~/anaconda3/envs/pyspectra/lib/python3.10/site-packages/seaborn/categorical.py:1601\u001b[0m, in \u001b[0;36m_PointPlotter.__init__\u001b[0;34m(self, x, y, hue, data, order, hue_order, estimator, errorbar, n_boot, units, seed, markers, linestyles, dodge, join, scale, orient, color, palette, errwidth, capsize, label)\u001b[0m\n\u001b[1;32m   1596\u001b[0m \u001b[38;5;28;01mdef\u001b[39;00m \u001b[38;5;21m__init__\u001b[39m(\u001b[38;5;28mself\u001b[39m, x, y, hue, data, order, hue_order,\n\u001b[1;32m   1597\u001b[0m              estimator, errorbar, n_boot, units, seed,\n\u001b[1;32m   1598\u001b[0m              markers, linestyles, dodge, join, scale,\n\u001b[1;32m   1599\u001b[0m              orient, color, palette, errwidth, capsize, label):\n\u001b[1;32m   1600\u001b[0m     \u001b[38;5;124;03m\"\"\"Initialize the plotter.\"\"\"\u001b[39;00m\n\u001b[0;32m-> 1601\u001b[0m     \u001b[38;5;28;43mself\u001b[39;49m\u001b[38;5;241;43m.\u001b[39;49m\u001b[43mestablish_variables\u001b[49m\u001b[43m(\u001b[49m\u001b[43mx\u001b[49m\u001b[43m,\u001b[49m\u001b[43m \u001b[49m\u001b[43my\u001b[49m\u001b[43m,\u001b[49m\u001b[43m \u001b[49m\u001b[43mhue\u001b[49m\u001b[43m,\u001b[49m\u001b[43m \u001b[49m\u001b[43mdata\u001b[49m\u001b[43m,\u001b[49m\u001b[43m \u001b[49m\u001b[43morient\u001b[49m\u001b[43m,\u001b[49m\n\u001b[1;32m   1602\u001b[0m \u001b[43m                             \u001b[49m\u001b[43morder\u001b[49m\u001b[43m,\u001b[49m\u001b[43m \u001b[49m\u001b[43mhue_order\u001b[49m\u001b[43m,\u001b[49m\u001b[43m \u001b[49m\u001b[43munits\u001b[49m\u001b[43m)\u001b[49m\n\u001b[1;32m   1603\u001b[0m     \u001b[38;5;28mself\u001b[39m\u001b[38;5;241m.\u001b[39mestablish_colors(color, palette, \u001b[38;5;241m1\u001b[39m)\n\u001b[1;32m   1604\u001b[0m     \u001b[38;5;28mself\u001b[39m\u001b[38;5;241m.\u001b[39mestimate_statistic(estimator, errorbar, n_boot, seed)\n",
      "File \u001b[0;32m~/anaconda3/envs/pyspectra/lib/python3.10/site-packages/seaborn/categorical.py:541\u001b[0m, in \u001b[0;36m_CategoricalPlotter.establish_variables\u001b[0;34m(self, x, y, hue, data, orient, order, hue_order, units)\u001b[0m\n\u001b[1;32m    539\u001b[0m     \u001b[38;5;28;01mif\u001b[39;00m \u001b[38;5;28misinstance\u001b[39m(var, \u001b[38;5;28mstr\u001b[39m):\n\u001b[1;32m    540\u001b[0m         err \u001b[38;5;241m=\u001b[39m \u001b[38;5;124mf\u001b[39m\u001b[38;5;124m\"\u001b[39m\u001b[38;5;124mCould not interpret input \u001b[39m\u001b[38;5;124m'\u001b[39m\u001b[38;5;132;01m{\u001b[39;00mvar\u001b[38;5;132;01m}\u001b[39;00m\u001b[38;5;124m'\u001b[39m\u001b[38;5;124m\"\u001b[39m\n\u001b[0;32m--> 541\u001b[0m         \u001b[38;5;28;01mraise\u001b[39;00m \u001b[38;5;167;01mValueError\u001b[39;00m(err)\n\u001b[1;32m    543\u001b[0m \u001b[38;5;66;03m# Figure out the plotting orientation\u001b[39;00m\n\u001b[1;32m    544\u001b[0m orient \u001b[38;5;241m=\u001b[39m infer_orient(\n\u001b[1;32m    545\u001b[0m     x, y, orient, require_numeric\u001b[38;5;241m=\u001b[39m\u001b[38;5;28mself\u001b[39m\u001b[38;5;241m.\u001b[39mrequire_numeric\n\u001b[1;32m    546\u001b[0m )\n",
      "\u001b[0;31mValueError\u001b[0m: Could not interpret input 'time '"
     ]
    }
   ],
   "source": [
    "sns.pointplot(df, x=\"prob\", y=\"time \", hue=\"method\")"
   ]
  },
  {
   "cell_type": "code",
   "execution_count": 64,
   "id": "ba43364b",
   "metadata": {
    "ExecuteTime": {
     "end_time": "2023-07-10T02:49:35.206126Z",
     "start_time": "2023-07-10T02:49:34.653053Z"
    }
   },
   "outputs": [
    {
     "data": {
      "text/plain": [
       "<Axes: xlabel='method', ylabel='time taken (ms)'>"
      ]
     },
     "execution_count": 64,
     "metadata": {},
     "output_type": "execute_result"
    },
    {
     "data": {
      "image/png": "[encoded data removed]",
      "text/plain": [
       "<Figure size 640x480 with 1 Axes>"
      ]
     },
     "metadata": {},
     "output_type": "display_data"
    }
   ],
   "source": [
    "sns.set_theme(style=\"whitegrid\", palette=\"pastel\")\n",
    "\n",
    "\n",
    "sns.barplot(df, x=\"method\", y=\"time taken (ms)\", palette=[\"limegreen\", \"orangered\"], alpha=0.5)"
   ]
  },
  {
   "cell_type": "code",
   "execution_count": 65,
   "id": "f2b396bf",
   "metadata": {
    "ExecuteTime": {
     "end_time": "2023-07-10T03:52:03.080052Z",
     "start_time": "2023-07-10T03:52:02.988387Z"
    }
   },
   "outputs": [
    {
     "name": "stderr",
     "output_type": "stream",
     "text": [
      "/var/folders/2j/1sp4c5_s1kz3rhkc1bjhtd9r0000gn/T/ipykernel_14468/1110700363.py:1: FutureWarning: The default value of numeric_only in DataFrameGroupBy.mean is deprecated. In a future version, numeric_only will default to False. Either specify numeric_only or select only columns which should be valid for the function.\n",
      "  df.groupby(by=\"method\").mean()\n"
     ]
    },
    {
     "data": {
      "text/html": [
       "<div>\n",
       "<style scoped>\n",
       "    .dataframe tbody tr th:only-of-type {\n",
       "        vertical-align: middle;\n",
       "    }\n",
       "\n",
       "    .dataframe tbody tr th {\n",
       "        vertical-align: top;\n",
       "    }\n",
       "\n",
       "    .dataframe thead th {\n",
       "        text-align: right;\n",
       "    }\n",
       "</style>\n",
       "<table border=\"1\" class=\"dataframe\">\n",
       "  <thead>\n",
       "    <tr style=\"text-align: right;\">\n",
       "      <th></th>\n",
       "      <th>time taken (ms)</th>\n",
       "    </tr>\n",
       "    <tr>\n",
       "      <th>method</th>\n",
       "      <th></th>\n",
       "    </tr>\n",
       "  </thead>\n",
       "  <tbody>\n",
       "    <tr>\n",
       "      <th>Heuristic</th>\n",
       "      <td>2.457523</td>\n",
       "    </tr>\n",
       "    <tr>\n",
       "      <th>Object-level attention</th>\n",
       "      <td>0.242088</td>\n",
       "    </tr>\n",
       "  </tbody>\n",
       "</table>\n",
       "</div>"
      ],
      "text/plain": [
       "                        time taken (ms)\n",
       "method                                 \n",
       "Heuristic                      2.457523\n",
       "Object-level attention         0.242088"
      ]
     },
     "execution_count": 65,
     "metadata": {},
     "output_type": "execute_result"
    }
   ],
   "source": [
    "df.groupby(by=\"method\").mean()"
   ]
  },
  {
   "cell_type": "code",
   "execution_count": 66,
   "id": "33609064",
   "metadata": {
    "ExecuteTime": {
     "end_time": "2023-07-10T03:52:08.446034Z",
     "start_time": "2023-07-10T03:52:08.437945Z"
    }
   },
   "outputs": [
    {
     "data": {
      "text/plain": [
       "10.0"
      ]
     },
     "execution_count": 66,
     "metadata": {},
     "output_type": "execute_result"
    }
   ],
   "source": [
    "2.4/0.24"
   ]
  },
  {
   "cell_type": "code",
   "execution_count": null,
   "id": "6d83ebbc",
   "metadata": {},
   "outputs": [],
   "source": [
    "naive_heuristic -> Program(formuala) -> N\n",
    "attention -> Program(goal, formula) -> N\n",
    "\n"
   ]
  }
 ],
 "metadata": {
  "kernelspec": {
   "display_name": "Python 3 (ipykernel)",
   "language": "python",
   "name": "python3"
  },
  "language_info": {
   "codemirror_mode": {
    "name": "ipython",
    "version": 3
   },
   "file_extension": ".py",
   "mimetype": "text/x-python",
   "name": "python",
   "nbconvert_exporter": "python",
   "pygments_lexer": "ipython3",
   "version": "3.10.6"
  },
  "latex_envs": {
   "LaTeX_envs_menu_present": true,
   "autoclose": false,
   "autocomplete": true,
   "bibliofile": "biblio.bib",
   "cite_by": "apalike",
   "current_citInitial": 1,
   "eqLabelWithNumbers": true,
   "eqNumInitial": 1,
   "hotkeys": {
    "equation": "ctrl-l"
   },
   "labels_anchors": false,
   "latex_user_defs": false,
   "report_style_numbering": false,
   "user_envs_cfg": false
  }
 },
 "nbformat": 4,
 "nbformat_minor": 5
}
