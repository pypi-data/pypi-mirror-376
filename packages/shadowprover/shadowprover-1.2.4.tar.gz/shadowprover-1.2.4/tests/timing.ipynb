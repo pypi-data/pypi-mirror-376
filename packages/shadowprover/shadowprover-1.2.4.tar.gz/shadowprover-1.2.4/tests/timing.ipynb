{
 "cells": [
  {
   "cell_type": "code",
   "execution_count": 51,
   "id": "ba0c14d1",
   "metadata": {
    "ExecuteTime": {
     "end_time": "2023-07-10T02:48:44.210807Z",
     "start_time": "2023-07-10T02:48:44.207671Z"
    }
   },
   "outputs": [],
   "source": [
    "import pandas as pd\n",
    "import seaborn as sns"
   ]
  },
  {
   "cell_type": "code",
   "execution_count": 67,
   "id": "d60704f0",
   "metadata": {
    "ExecuteTime": {
     "end_time": "2023-07-11T02:49:31.128295Z",
     "start_time": "2023-07-11T02:49:31.019891Z"
    }
   },
   "outputs": [],
   "source": [
    "df1 = pd.read_csv(\"./timing_object_level_attention.csv\", header=None)\n",
    "df2 = pd.read_csv(\"./timing_naive_selection_smallest.csv\", header=None)\n",
    "df3 = pd.read_csv(\"./timing_meta_level_attention.csv\", header=None)\n",
    "\n"
   ]
  },
  {
   "cell_type": "code",
   "execution_count": 68,
   "id": "79e19154",
   "metadata": {
    "ExecuteTime": {
     "end_time": "2023-07-11T02:49:34.934644Z",
     "start_time": "2023-07-11T02:49:34.928903Z"
    }
   },
   "outputs": [],
   "source": [
    "df1.columns = [\"name\", \"time taken (ms)\"]\n",
    "df2.columns = [\"name\", \"time taken (ms)\"]\n",
    "df3.columns = [\"name\", \"time taken (ms)\"]"
   ]
  },
  {
   "cell_type": "code",
   "execution_count": 69,
   "id": "4bbee7ef",
   "metadata": {
    "ExecuteTime": {
     "end_time": "2023-07-11T02:49:35.222007Z",
     "start_time": "2023-07-11T02:49:35.167147Z"
    }
   },
   "outputs": [
    {
     "data": {
      "text/html": [
       "<div>\n",
       "<style scoped>\n",
       "    .dataframe tbody tr th:only-of-type {\n",
       "        vertical-align: middle;\n",
       "    }\n",
       "\n",
       "    .dataframe tbody tr th {\n",
       "        vertical-align: top;\n",
       "    }\n",
       "\n",
       "    .dataframe thead th {\n",
       "        text-align: right;\n",
       "    }\n",
       "</style>\n",
       "<table border=\"1\" class=\"dataframe\">\n",
       "  <thead>\n",
       "    <tr style=\"text-align: right;\">\n",
       "      <th></th>\n",
       "      <th>name</th>\n",
       "      <th>time taken (ms)</th>\n",
       "      <th>method</th>\n",
       "      <th>prob</th>\n",
       "    </tr>\n",
       "  </thead>\n",
       "  <tbody>\n",
       "    <tr>\n",
       "      <th>0</th>\n",
       "      <td>*cognitive-calculus-completeness-test-1*</td>\n",
       "      <td>0.046744</td>\n",
       "      <td>Object-level attention</td>\n",
       "      <td>1*</td>\n",
       "    </tr>\n",
       "    <tr>\n",
       "      <th>1</th>\n",
       "      <td>*cognitive-calculus-completeness-test-2*</td>\n",
       "      <td>0.046597</td>\n",
       "      <td>Object-level attention</td>\n",
       "      <td>2*</td>\n",
       "    </tr>\n",
       "    <tr>\n",
       "      <th>2</th>\n",
       "      <td>*cognitive-calculus-completeness-test-3*</td>\n",
       "      <td>0.085662</td>\n",
       "      <td>Object-level attention</td>\n",
       "      <td>3*</td>\n",
       "    </tr>\n",
       "    <tr>\n",
       "      <th>3</th>\n",
       "      <td>*cognitive-calculus-completeness-test-4*</td>\n",
       "      <td>0.374317</td>\n",
       "      <td>Object-level attention</td>\n",
       "      <td>4*</td>\n",
       "    </tr>\n",
       "    <tr>\n",
       "      <th>4</th>\n",
       "      <td>*cognitive-calculus-completeness-test-5*</td>\n",
       "      <td>0.243406</td>\n",
       "      <td>Object-level attention</td>\n",
       "      <td>5*</td>\n",
       "    </tr>\n",
       "    <tr>\n",
       "      <th>...</th>\n",
       "      <td>...</td>\n",
       "      <td>...</td>\n",
       "      <td>...</td>\n",
       "      <td>...</td>\n",
       "    </tr>\n",
       "    <tr>\n",
       "      <th>265</th>\n",
       "      <td>*cognitive-calculus-completeness-test-22*</td>\n",
       "      <td>0.007289</td>\n",
       "      <td>Heuristic</td>\n",
       "      <td>22*</td>\n",
       "    </tr>\n",
       "    <tr>\n",
       "      <th>266</th>\n",
       "      <td>*cognitive-calculus-completeness-test-23*</td>\n",
       "      <td>0.007339</td>\n",
       "      <td>Heuristic</td>\n",
       "      <td>23*</td>\n",
       "    </tr>\n",
       "    <tr>\n",
       "      <th>267</th>\n",
       "      <td>*cognitive-calculus-completeness-test-24*</td>\n",
       "      <td>0.018204</td>\n",
       "      <td>Heuristic</td>\n",
       "      <td>24*</td>\n",
       "    </tr>\n",
       "    <tr>\n",
       "      <th>268</th>\n",
       "      <td>*cognitive-calculus-completeness-test-25*</td>\n",
       "      <td>0.416748</td>\n",
       "      <td>Heuristic</td>\n",
       "      <td>25*</td>\n",
       "    </tr>\n",
       "    <tr>\n",
       "      <th>269</th>\n",
       "      <td>*cognitive-calculus-completeness-test-26*</td>\n",
       "      <td>0.016575</td>\n",
       "      <td>Heuristic</td>\n",
       "      <td>26*</td>\n",
       "    </tr>\n",
       "  </tbody>\n",
       "</table>\n",
       "<p>540 rows × 4 columns</p>\n",
       "</div>"
      ],
      "text/plain": [
       "                                          name  time taken (ms)  \\\n",
       "0     *cognitive-calculus-completeness-test-1*         0.046744   \n",
       "1     *cognitive-calculus-completeness-test-2*         0.046597   \n",
       "2     *cognitive-calculus-completeness-test-3*         0.085662   \n",
       "3     *cognitive-calculus-completeness-test-4*         0.374317   \n",
       "4     *cognitive-calculus-completeness-test-5*         0.243406   \n",
       "..                                         ...              ...   \n",
       "265  *cognitive-calculus-completeness-test-22*         0.007289   \n",
       "266  *cognitive-calculus-completeness-test-23*         0.007339   \n",
       "267  *cognitive-calculus-completeness-test-24*         0.018204   \n",
       "268  *cognitive-calculus-completeness-test-25*         0.416748   \n",
       "269  *cognitive-calculus-completeness-test-26*         0.016575   \n",
       "\n",
       "                     method prob  \n",
       "0    Object-level attention   1*  \n",
       "1    Object-level attention   2*  \n",
       "2    Object-level attention   3*  \n",
       "3    Object-level attention   4*  \n",
       "4    Object-level attention   5*  \n",
       "..                      ...  ...  \n",
       "265               Heuristic  22*  \n",
       "266               Heuristic  23*  \n",
       "267               Heuristic  24*  \n",
       "268               Heuristic  25*  \n",
       "269               Heuristic  26*  \n",
       "\n",
       "[540 rows x 4 columns]"
      ]
     },
     "execution_count": 69,
     "metadata": {},
     "output_type": "execute_result"
    }
   ],
   "source": [
    "df"
   ]
  },
  {
   "cell_type": "code",
   "execution_count": 71,
   "id": "2bd0ecdf",
   "metadata": {
    "ExecuteTime": {
     "end_time": "2023-07-11T02:49:45.112608Z",
     "start_time": "2023-07-11T02:49:45.104495Z"
    }
   },
   "outputs": [],
   "source": [
    "df1[\"method\"] = \"Object-level attention\"\n",
    "df2[\"method\"] = \"Heuristic\"\n",
    "df3[\"method\"] = \"Meta-level attention\"\n",
    "\n"
   ]
  },
  {
   "cell_type": "code",
   "execution_count": 79,
   "id": "ecb62d80",
   "metadata": {
    "ExecuteTime": {
     "end_time": "2023-07-11T02:50:06.977566Z",
     "start_time": "2023-07-11T02:50:06.972862Z"
    }
   },
   "outputs": [],
   "source": [
    "df = pd.concat([df1 , df3])"
   ]
  },
  {
   "cell_type": "code",
   "execution_count": 80,
   "id": "c93cf934",
   "metadata": {
    "ExecuteTime": {
     "end_time": "2023-07-11T02:50:07.175798Z",
     "start_time": "2023-07-11T02:50:07.164771Z"
    }
   },
   "outputs": [],
   "source": [
    "df[\"prob\"] = df.name.apply(lambda x: x.split(\"-\")[-1])"
   ]
  },
  {
   "cell_type": "code",
   "execution_count": 81,
   "id": "ba43364b",
   "metadata": {
    "ExecuteTime": {
     "end_time": "2023-07-11T02:50:07.971834Z",
     "start_time": "2023-07-11T02:50:07.686106Z"
    }
   },
   "outputs": [
    {
     "data": {
      "text/plain": [
       "<Axes: xlabel='method', ylabel='time taken (ms)'>"
      ]
     },
     "execution_count": 81,
     "metadata": {},
     "output_type": "execute_result"
    },
    {
     "data": {
      "image/png": "[encoded data removed]",
      "text/plain": [
       "<Figure size 640x480 with 1 Axes>"
      ]
     },
     "metadata": {},
     "output_type": "display_data"
    }
   ],
   "source": [
    "sns.set_theme(style=\"whitegrid\", palette=\"pastel\")\n",
    "\n",
    "\n",
    "sns.barplot(df, x=\"method\", y=\"time taken (ms)\", palette=[\"limegreen\", \"orangered\"], alpha=0.5)"
   ]
  },
  {
   "cell_type": "code",
   "execution_count": 65,
   "id": "f2b396bf",
   "metadata": {
    "ExecuteTime": {
     "end_time": "2023-07-10T03:52:03.080052Z",
     "start_time": "2023-07-10T03:52:02.988387Z"
    }
   },
   "outputs": [
    {
     "name": "stderr",
     "output_type": "stream",
     "text": [
      "/var/folders/2j/1sp4c5_s1kz3rhkc1bjhtd9r0000gn/T/ipykernel_14468/1110700363.py:1: FutureWarning: The default value of numeric_only in DataFrameGroupBy.mean is deprecated. In a future version, numeric_only will default to False. Either specify numeric_only or select only columns which should be valid for the function.\n",
      "  df.groupby(by=\"method\").mean()\n"
     ]
    },
    {
     "data": {
      "text/html": [
       "<div>\n",
       "<style scoped>\n",
       "    .dataframe tbody tr th:only-of-type {\n",
       "        vertical-align: middle;\n",
       "    }\n",
       "\n",
       "    .dataframe tbody tr th {\n",
       "        vertical-align: top;\n",
       "    }\n",
       "\n",
       "    .dataframe thead th {\n",
       "        text-align: right;\n",
       "    }\n",
       "</style>\n",
       "<table border=\"1\" class=\"dataframe\">\n",
       "  <thead>\n",
       "    <tr style=\"text-align: right;\">\n",
       "      <th></th>\n",
       "      <th>time taken (ms)</th>\n",
       "    </tr>\n",
       "    <tr>\n",
       "      <th>method</th>\n",
       "      <th></th>\n",
       "    </tr>\n",
       "  </thead>\n",
       "  <tbody>\n",
       "    <tr>\n",
       "      <th>Heuristic</th>\n",
       "      <td>2.457523</td>\n",
       "    </tr>\n",
       "    <tr>\n",
       "      <th>Object-level attention</th>\n",
       "      <td>0.242088</td>\n",
       "    </tr>\n",
       "  </tbody>\n",
       "</table>\n",
       "</div>"
      ],
      "text/plain": [
       "                        time taken (ms)\n",
       "method                                 \n",
       "Heuristic                      2.457523\n",
       "Object-level attention         0.242088"
      ]
     },
     "execution_count": 65,
     "metadata": {},
     "output_type": "execute_result"
    }
   ],
   "source": [
    "df.groupby(by=\"method\").mean()"
   ]
  },
  {
   "cell_type": "code",
   "execution_count": 66,
   "id": "33609064",
   "metadata": {
    "ExecuteTime": {
     "end_time": "2023-07-10T03:52:08.446034Z",
     "start_time": "2023-07-10T03:52:08.437945Z"
    }
   },
   "outputs": [
    {
     "data": {
      "text/plain": [
       "10.0"
      ]
     },
     "execution_count": 66,
     "metadata": {},
     "output_type": "execute_result"
    }
   ],
   "source": [
    "2.4/0.24"
   ]
  },
  {
   "cell_type": "code",
   "execution_count": null,
   "id": "6d83ebbc",
   "metadata": {},
   "outputs": [],
   "source": [
    "naive_heuristic -> Program(formuala) -> N\n",
    "attention -> Program(goal, formula) -> N\n",
    "\n"
   ]
  }
 ],
 "metadata": {
  "kernelspec": {
   "display_name": "Python 3 (ipykernel)",
   "language": "python",
   "name": "python3"
  },
  "language_info": {
   "codemirror_mode": {
    "name": "ipython",
    "version": 3
   },
   "file_extension": ".py",
   "mimetype": "text/x-python",
   "name": "python",
   "nbconvert_exporter": "python",
   "pygments_lexer": "ipython3",
   "version": "3.10.6"
  },
  "latex_envs": {
   "LaTeX_envs_menu_present": true,
   "autoclose": false,
   "autocomplete": true,
   "bibliofile": "biblio.bib",
   "cite_by": "apalike",
   "current_citInitial": 1,
   "eqLabelWithNumbers": true,
   "eqNumInitial": 1,
   "hotkeys": {
    "equation": "ctrl-l"
   },
   "labels_anchors": false,
   "latex_user_defs": false,
   "report_style_numbering": false,
   "user_envs_cfg": false
  }
 },
 "nbformat": 4,
 "nbformat_minor": 5
}
