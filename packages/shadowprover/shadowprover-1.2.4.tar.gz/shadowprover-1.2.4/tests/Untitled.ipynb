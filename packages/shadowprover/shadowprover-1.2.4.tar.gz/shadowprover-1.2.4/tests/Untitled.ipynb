{
 "cells": [
  {
   "cell_type": "code",
   "execution_count": 1,
   "id": "3d6f077b",
   "metadata": {
    "ExecuteTime": {
     "end_time": "2023-07-10T02:42:08.582142Z",
     "start_time": "2023-07-10T02:42:07.122950Z"
    }
   },
   "outputs": [],
   "source": [
    "import pandas as pd\n",
    "import seaborn as sns"
   ]
  },
  {
   "cell_type": "code",
   "execution_count": 2,
   "id": "edad0c93",
   "metadata": {
    "ExecuteTime": {
     "end_time": "2023-07-10T02:42:18.382599Z",
     "start_time": "2023-07-10T02:42:18.363874Z"
    }
   },
   "outputs": [],
   "source": [
    "df1 = pd.read_csv(\"./one_prob_meta_level_attention.csv\", header=None)\n",
    "df2 = pd.read_csv(\"./one_prob_object_level_attention.csv\", header=None)"
   ]
  },
  {
   "cell_type": "code",
   "execution_count": 4,
   "id": "843cb86f",
   "metadata": {
    "ExecuteTime": {
     "end_time": "2023-07-10T02:42:53.237823Z",
     "start_time": "2023-07-10T02:42:53.224234Z"
    }
   },
   "outputs": [],
   "source": [
    "df1[\"method\"] = \"meta-level attention\"\n",
    "df2[\"method\"] = \"object-level attention\""
   ]
  },
  {
   "cell_type": "code",
   "execution_count": null,
   "id": "83e903d6",
   "metadata": {},
   "outputs": [],
   "source": []
  },
  {
   "cell_type": "code",
   "execution_count": null,
   "id": "f4de327f",
   "metadata": {},
   "outputs": [],
   "source": []
  },
  {
   "cell_type": "code",
   "execution_count": 5,
   "id": "b1b10139",
   "metadata": {
    "ExecuteTime": {
     "end_time": "2023-07-10T02:43:02.823241Z",
     "start_time": "2023-07-10T02:43:02.814792Z"
    }
   },
   "outputs": [],
   "source": [
    "df = pd.concat([df1 ,df2])"
   ]
  },
  {
   "cell_type": "code",
   "execution_count": 15,
   "id": "8d9a402a",
   "metadata": {
    "ExecuteTime": {
     "end_time": "2023-07-10T02:44:13.322892Z",
     "start_time": "2023-07-10T02:44:13.318602Z"
    }
   },
   "outputs": [],
   "source": [
    "df.columns = [\"problemn\", \"time taken (ms)\", \"method\"]"
   ]
  },
  {
   "cell_type": "code",
   "execution_count": 17,
   "id": "5b8be691",
   "metadata": {
    "ExecuteTime": {
     "end_time": "2023-07-10T02:44:29.813946Z",
     "start_time": "2023-07-10T02:44:29.809525Z"
    }
   },
   "outputs": [],
   "source": [
    "sns.set_theme(style=\"whitegrid\", palette=\"pastel\")\n"
   ]
  },
  {
   "cell_type": "code",
   "execution_count": 23,
   "id": "2df73aec",
   "metadata": {
    "ExecuteTime": {
     "end_time": "2023-07-10T03:51:17.768511Z",
     "start_time": "2023-07-10T03:51:17.751570Z"
    }
   },
   "outputs": [
    {
     "name": "stderr",
     "output_type": "stream",
     "text": [
      "/var/folders/2j/1sp4c5_s1kz3rhkc1bjhtd9r0000gn/T/ipykernel_29430/1110700363.py:1: FutureWarning: The default value of numeric_only in DataFrameGroupBy.mean is deprecated. In a future version, numeric_only will default to False. Either specify numeric_only or select only columns which should be valid for the function.\n",
      "  df.groupby(by=\"method\").mean()\n"
     ]
    },
    {
     "data": {
      "text/html": [
       "<div>\n",
       "<style scoped>\n",
       "    .dataframe tbody tr th:only-of-type {\n",
       "        vertical-align: middle;\n",
       "    }\n",
       "\n",
       "    .dataframe tbody tr th {\n",
       "        vertical-align: top;\n",
       "    }\n",
       "\n",
       "    .dataframe thead th {\n",
       "        text-align: right;\n",
       "    }\n",
       "</style>\n",
       "<table border=\"1\" class=\"dataframe\">\n",
       "  <thead>\n",
       "    <tr style=\"text-align: right;\">\n",
       "      <th></th>\n",
       "      <th>time taken (ms)</th>\n",
       "    </tr>\n",
       "    <tr>\n",
       "      <th>method</th>\n",
       "      <th></th>\n",
       "    </tr>\n",
       "  </thead>\n",
       "  <tbody>\n",
       "    <tr>\n",
       "      <th>meta-level attention</th>\n",
       "      <td>0.356330</td>\n",
       "    </tr>\n",
       "    <tr>\n",
       "      <th>object-level attention</th>\n",
       "      <td>3.215519</td>\n",
       "    </tr>\n",
       "  </tbody>\n",
       "</table>\n",
       "</div>"
      ],
      "text/plain": [
       "                        time taken (ms)\n",
       "method                                 \n",
       "meta-level attention           0.356330\n",
       "object-level attention         3.215519"
      ]
     },
     "execution_count": 23,
     "metadata": {},
     "output_type": "execute_result"
    }
   ],
   "source": [
    "df.groupby(by=\"method\").mean()"
   ]
  },
  {
   "cell_type": "code",
   "execution_count": 24,
   "id": "4933d6f4",
   "metadata": {
    "ExecuteTime": {
     "end_time": "2023-07-10T03:51:22.931107Z",
     "start_time": "2023-07-10T03:51:22.926961Z"
    }
   },
   "outputs": [
    {
     "data": {
      "text/plain": [
       "9.142857142857144"
      ]
     },
     "execution_count": 24,
     "metadata": {},
     "output_type": "execute_result"
    }
   ],
   "source": [
    "3.2/0.35"
   ]
  },
  {
   "cell_type": "code",
   "execution_count": 21,
   "id": "c7e379e9",
   "metadata": {
    "ExecuteTime": {
     "end_time": "2023-07-10T02:47:31.706447Z",
     "start_time": "2023-07-10T02:47:31.369734Z"
    }
   },
   "outputs": [
    {
     "data": {
      "text/plain": [
       "<Axes: xlabel='method', ylabel='time taken (ms)'>"
      ]
     },
     "execution_count": 21,
     "metadata": {},
     "output_type": "execute_result"
    },
    {
     "data": {
      "image/png": "[encoded data removed]",
      "text/plain": [
       "<Figure size 640x480 with 1 Axes>"
      ]
     },
     "metadata": {},
     "output_type": "display_data"
    }
   ],
   "source": [
    "sns.barplot(df, x=\"method\", y=\"time taken (ms)\", hue=\"method\", palette=[\"limegreen\", \"orangered\"], alpha=0.5)"
   ]
  },
  {
   "cell_type": "code",
   "execution_count": null,
   "id": "a34d73bf",
   "metadata": {},
   "outputs": [],
   "source": []
  }
 ],
 "metadata": {
  "kernelspec": {
   "display_name": "Python 3 (ipykernel)",
   "language": "python",
   "name": "python3"
  },
  "language_info": {
   "codemirror_mode": {
    "name": "ipython",
    "version": 3
   },
   "file_extension": ".py",
   "mimetype": "text/x-python",
   "name": "python",
   "nbconvert_exporter": "python",
   "pygments_lexer": "ipython3",
   "version": "3.10.6"
  },
  "latex_envs": {
   "LaTeX_envs_menu_present": true,
   "autoclose": false,
   "autocomplete": true,
   "bibliofile": "biblio.bib",
   "cite_by": "apalike",
   "current_citInitial": 1,
   "eqLabelWithNumbers": true,
   "eqNumInitial": 1,
   "hotkeys": {
    "equation": "ctrl-l"
   },
   "labels_anchors": false,
   "latex_user_defs": false,
   "report_style_numbering": false,
   "user_envs_cfg": false
  }
 },
 "nbformat": 4,
 "nbformat_minor": 5
}
